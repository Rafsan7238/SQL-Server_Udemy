{
    "metadata": {
        "kernelspec": {
            "name": "SQL",
            "display_name": "SQL",
            "language": "sql"
        },
        "language_info": {
            "name": "sql",
            "version": ""
        }
    },
    "nbformat_minor": 2,
    "nbformat": 4,
    "cells": [
        {
            "cell_type": "markdown",
            "source": [
                "# UNIQUE Constraint Challenge"
            ],
            "metadata": {
                "azdata_cell_guid": "ba627008-bf73-49a2-818d-4b9e78a6df27"
            },
            "attachments": {}
        },
        {
            "cell_type": "markdown",
            "source": [
                "\\*\\*Use SAMPLEDB Database\\*\\*"
            ],
            "metadata": {
                "azdata_cell_guid": "266db1cf-69ff-43a6-a7bd-9d8f06b86616"
            },
            "attachments": {}
        },
        {
            "cell_type": "code",
            "source": [
                "USE SAMPLEDB\n",
                "GO"
            ],
            "metadata": {
                "azdata_cell_guid": "1bae9baf-fad8-4194-94f2-f3edcfe16931",
                "language": "sql"
            },
            "outputs": [
                {
                    "output_type": "display_data",
                    "data": {
                        "text/html": "Commands completed successfully."
                    },
                    "metadata": {}
                },
                {
                    "output_type": "display_data",
                    "data": {
                        "text/html": "Total execution time: 00:00:00.026"
                    },
                    "metadata": {}
                }
            ],
            "execution_count": 1
        },
        {
            "cell_type": "markdown",
            "source": [
                "### **Challenge**\n",
                "\n",
                "Use an ALTER TABLE statement to add a UNIQUE constraint to the department\\_name column in the hcm.departments table."
            ],
            "metadata": {
                "language": "sql",
                "azdata_cell_guid": "93205759-a110-494c-a162-83dc19042171"
            },
            "attachments": {}
        },
        {
            "cell_type": "code",
            "source": [
                "ALTER TABLE hcm.departments \n",
                "ADD CONSTRAINT uk_dept_department_name UNIQUE (department_name);"
            ],
            "metadata": {
                "language": "sql",
                "azdata_cell_guid": "efb432ac-af25-44b1-ac48-125af98c2d71"
            },
            "outputs": [
                {
                    "output_type": "display_data",
                    "data": {
                        "text/html": "Commands completed successfully."
                    },
                    "metadata": {}
                },
                {
                    "output_type": "display_data",
                    "data": {
                        "text/html": "Total execution time: 00:00:00.037"
                    },
                    "metadata": {}
                }
            ],
            "execution_count": 2
        }
    ]
}