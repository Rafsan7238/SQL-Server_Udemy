{
    "metadata": {
        "kernelspec": {
            "name": "SQL",
            "display_name": "SQL",
            "language": "sql"
        },
        "language_info": {
            "name": "sql",
            "version": ""
        }
    },
    "nbformat_minor": 2,
    "nbformat": 4,
    "cells": [
        {
            "cell_type": "markdown",
            "source": [
                "# GROUP BY Challenges"
            ],
            "metadata": {
                "azdata_cell_guid": "d26337b0-cd18-4844-88f3-eebde5dc4922"
            },
            "attachments": {}
        },
        {
            "cell_type": "markdown",
            "source": [
                "\\*\\*Use SAMPLEDB Database\\*\\*"
            ],
            "metadata": {
                "azdata_cell_guid": "f8860fff-89c8-46d0-86b3-955ee8dd679f"
            },
            "attachments": {}
        },
        {
            "cell_type": "code",
            "source": [
                "USE SAMPLEDB \n",
                "GO"
            ],
            "metadata": {
                "azdata_cell_guid": "824770ab-870f-4293-b697-c4ac63408fa1",
                "language": "sql"
            },
            "outputs": [
                {
                    "output_type": "display_data",
                    "data": {
                        "text/html": "Commands completed successfully."
                    },
                    "metadata": {}
                },
                {
                    "output_type": "display_data",
                    "data": {
                        "text/html": "Total execution time: 00:00:00.002"
                    },
                    "metadata": {}
                }
            ],
            "execution_count": 1
        },
        {
            "cell_type": "markdown",
            "source": [
                "### **First Challenge** \n",
                "\n",
                "Challenge: Write query to give the total number of employees in each department as given by the department\\_id column in the hcm.employees table."
            ],
            "metadata": {
                "language": "sql",
                "azdata_cell_guid": "9346b26e-aee1-4430-9430-8c278df051c9"
            },
            "attachments": {}
        },
        {
            "cell_type": "code",
            "source": [
                "SELECT department_id, COUNT(*) AS total_employees\n",
                "FROM hcm.employees \n",
                "GROUP BY department_id;"
            ],
            "metadata": {
                "language": "sql",
                "azdata_cell_guid": "95c7d1c6-6ae0-40d6-a8d8-26f3ac602d7a"
            },
            "outputs": [
                {
                    "output_type": "display_data",
                    "data": {
                        "text/html": "(7 rows affected)"
                    },
                    "metadata": {}
                },
                {
                    "output_type": "display_data",
                    "data": {
                        "text/html": "Total execution time: 00:00:00.037"
                    },
                    "metadata": {}
                },
                {
                    "output_type": "execute_result",
                    "metadata": {},
                    "execution_count": 2,
                    "data": {
                        "application/vnd.dataresource+json": {
                            "schema": {
                                "fields": [
                                    {
                                        "name": "department_id"
                                    },
                                    {
                                        "name": "total_employees"
                                    }
                                ]
                            },
                            "data": [
                                {
                                    "0": "NULL",
                                    "1": "29"
                                },
                                {
                                    "0": "30",
                                    "1": "6"
                                },
                                {
                                    "0": "50",
                                    "1": "25"
                                },
                                {
                                    "0": "60",
                                    "1": "5"
                                },
                                {
                                    "0": "80",
                                    "1": "33"
                                },
                                {
                                    "0": "90",
                                    "1": "3"
                                },
                                {
                                    "0": "100",
                                    "1": "6"
                                }
                            ]
                        },
                        "text/html": [
                            "<table>",
                            "<tr><th>department_id</th><th>total_employees</th></tr>",
                            "<tr><td>NULL</td><td>29</td></tr>",
                            "<tr><td>30</td><td>6</td></tr>",
                            "<tr><td>50</td><td>25</td></tr>",
                            "<tr><td>60</td><td>5</td></tr>",
                            "<tr><td>80</td><td>33</td></tr>",
                            "<tr><td>90</td><td>3</td></tr>",
                            "<tr><td>100</td><td>6</td></tr>",
                            "</table>"
                        ]
                    }
                }
            ],
            "execution_count": 2
        },
        {
            "cell_type": "markdown",
            "source": [
                "### **Second Challenge** \n",
                "\n",
                "Challenge: Write a query to give the average salary in each department as given by the department\\_id column in the hcm.employees table. Order the query result by average salary from highest to lowest."
            ],
            "metadata": {
                "language": "sql",
                "azdata_cell_guid": "75cba9bf-cc2a-4a99-a888-db7e6d64795d"
            },
            "attachments": {}
        },
        {
            "cell_type": "code",
            "source": [
                "SELECT department_id, AVG(salary) AS average_salary\n",
                "FROM hcm.employees \n",
                "GROUP BY department_id \n",
                "ORDER BY average_salary DESC;"
            ],
            "metadata": {
                "language": "sql",
                "azdata_cell_guid": "7c94bbce-b44b-4bcd-bcd1-1e250f11d406"
            },
            "outputs": [
                {
                    "output_type": "display_data",
                    "data": {
                        "text/html": "(7 rows affected)"
                    },
                    "metadata": {}
                },
                {
                    "output_type": "display_data",
                    "data": {
                        "text/html": "Total execution time: 00:00:00.009"
                    },
                    "metadata": {}
                },
                {
                    "output_type": "execute_result",
                    "metadata": {},
                    "execution_count": 5,
                    "data": {
                        "application/vnd.dataresource+json": {
                            "schema": {
                                "fields": [
                                    {
                                        "name": "department_id"
                                    },
                                    {
                                        "name": "average_salary"
                                    }
                                ]
                            },
                            "data": [
                                {
                                    "0": "90",
                                    "1": "464000.000000"
                                },
                                {
                                    "0": "80",
                                    "1": "217309.090909"
                                },
                                {
                                    "0": "100",
                                    "1": "206432.000000"
                                },
                                {
                                    "0": "60",
                                    "1": "138240.000000"
                                },
                                {
                                    "0": "NULL",
                                    "1": "113965.241379"
                                },
                                {
                                    "0": "30",
                                    "1": "99600.000000"
                                },
                                {
                                    "0": "50",
                                    "1": "88704.000000"
                                }
                            ]
                        },
                        "text/html": [
                            "<table>",
                            "<tr><th>department_id</th><th>average_salary</th></tr>",
                            "<tr><td>90</td><td>464000.000000</td></tr>",
                            "<tr><td>80</td><td>217309.090909</td></tr>",
                            "<tr><td>100</td><td>206432.000000</td></tr>",
                            "<tr><td>60</td><td>138240.000000</td></tr>",
                            "<tr><td>NULL</td><td>113965.241379</td></tr>",
                            "<tr><td>30</td><td>99600.000000</td></tr>",
                            "<tr><td>50</td><td>88704.000000</td></tr>",
                            "</table>"
                        ]
                    }
                }
            ],
            "execution_count": 5
        },
        {
            "cell_type": "markdown",
            "source": [
                "### **Third Challenge** \n",
                "\n",
                "Challenge: Write a query to give the total number of products on hand at each warehouse as given by the warehouse\\_id column in the oes.inventories table. Also, limit the result to only warehouses which have greater than 5,000 product items on hand."
            ],
            "metadata": {
                "language": "sql",
                "azdata_cell_guid": "6fa7c83b-3d16-411c-9a4c-85dcad617c2a"
            },
            "attachments": {}
        },
        {
            "cell_type": "code",
            "source": [
                "SELECT warehouse_id, SUM(quantity_on_hand) AS total_products\n",
                "FROM oes.inventories\n",
                "GROUP BY warehouse_id\n",
                "HAVING SUM(quantity_on_hand) > 5000;"
            ],
            "metadata": {
                "language": "sql",
                "azdata_cell_guid": "bb038e8b-1efa-4a3b-b736-e46652e0b15f"
            },
            "outputs": [
                {
                    "output_type": "display_data",
                    "data": {
                        "text/html": "(7 rows affected)"
                    },
                    "metadata": {}
                },
                {
                    "output_type": "display_data",
                    "data": {
                        "text/html": "Total execution time: 00:00:00.036"
                    },
                    "metadata": {}
                },
                {
                    "output_type": "execute_result",
                    "metadata": {},
                    "execution_count": 9,
                    "data": {
                        "application/vnd.dataresource+json": {
                            "schema": {
                                "fields": [
                                    {
                                        "name": "warehouse_id"
                                    },
                                    {
                                        "name": "total_products"
                                    }
                                ]
                            },
                            "data": [
                                {
                                    "0": "2",
                                    "1": "7618"
                                },
                                {
                                    "0": "4",
                                    "1": "7826"
                                },
                                {
                                    "0": "5",
                                    "1": "7839"
                                },
                                {
                                    "0": "6",
                                    "1": "8751"
                                },
                                {
                                    "0": "7",
                                    "1": "7628"
                                },
                                {
                                    "0": "8",
                                    "1": "9535"
                                },
                                {
                                    "0": "9",
                                    "1": "9064"
                                }
                            ]
                        },
                        "text/html": [
                            "<table>",
                            "<tr><th>warehouse_id</th><th>total_products</th></tr>",
                            "<tr><td>2</td><td>7618</td></tr>",
                            "<tr><td>4</td><td>7826</td></tr>",
                            "<tr><td>5</td><td>7839</td></tr>",
                            "<tr><td>6</td><td>8751</td></tr>",
                            "<tr><td>7</td><td>7628</td></tr>",
                            "<tr><td>8</td><td>9535</td></tr>",
                            "<tr><td>9</td><td>9064</td></tr>",
                            "</table>"
                        ]
                    }
                }
            ],
            "execution_count": 9
        },
        {
            "cell_type": "markdown",
            "source": [
                "### **Fourth Challenge** \n",
                "\n",
                "Challenge: What is the date of the most recent population count at each locality in the bird.antarctic\\_populations table?"
            ],
            "metadata": {
                "language": "sql",
                "azdata_cell_guid": "b2ecf888-758a-45d4-8935-a7f771cad5e2"
            },
            "attachments": {}
        },
        {
            "cell_type": "code",
            "source": [
                "SELECT locality, MAX(date_of_count) as recent_count_date \n",
                "FROM bird.antarctic_populations\n",
                "GROUP BY locality;"
            ],
            "metadata": {
                "language": "sql",
                "azdata_cell_guid": "f3d77d58-38a1-4139-801a-1fe03289be5e"
            },
            "outputs": [
                {
                    "output_type": "display_data",
                    "data": {
                        "text/html": "(4 rows affected)"
                    },
                    "metadata": {}
                },
                {
                    "output_type": "display_data",
                    "data": {
                        "text/html": "Total execution time: 00:00:00.010"
                    },
                    "metadata": {}
                },
                {
                    "output_type": "execute_result",
                    "metadata": {},
                    "execution_count": 12,
                    "data": {
                        "application/vnd.dataresource+json": {
                            "schema": {
                                "fields": [
                                    {
                                        "name": "locality"
                                    },
                                    {
                                        "name": "recent_count_date"
                                    }
                                ]
                            },
                            "data": [
                                {
                                    "0": "Anvers Island",
                                    "1": "2020-09-18"
                                },
                                {
                                    "0": "Elephant Island",
                                    "1": "2020-04-19"
                                },
                                {
                                    "0": "Falkland Islands",
                                    "1": "2020-11-07"
                                },
                                {
                                    "0": "South Georgia Island",
                                    "1": "2020-11-05"
                                }
                            ]
                        },
                        "text/html": [
                            "<table>",
                            "<tr><th>locality</th><th>recent_count_date</th></tr>",
                            "<tr><td>Anvers Island</td><td>2020-09-18</td></tr>",
                            "<tr><td>Elephant Island</td><td>2020-04-19</td></tr>",
                            "<tr><td>Falkland Islands</td><td>2020-11-07</td></tr>",
                            "<tr><td>South Georgia Island</td><td>2020-11-05</td></tr>",
                            "</table>"
                        ]
                    }
                }
            ],
            "execution_count": 12
        },
        {
            "cell_type": "markdown",
            "source": [
                "### **Fifth Challenge** \n",
                "\n",
                "Challenge: What is the date of the most recent population count for each species at each locality in the bird.antarctic\\_populations table?"
            ],
            "metadata": {
                "language": "sql",
                "azdata_cell_guid": "88edcc21-7c16-41e0-957c-1e39740ef42f"
            },
            "attachments": {}
        },
        {
            "cell_type": "code",
            "source": [
                "SELECT species_id, locality, MAX(date_of_count) as recent_count_date \n",
                "FROM bird.antarctic_populations\n",
                "GROUP BY species_id, locality;"
            ],
            "metadata": {
                "language": "sql",
                "azdata_cell_guid": "14bc5bb3-5350-431b-a076-5c37429625e9"
            },
            "outputs": [
                {
                    "output_type": "display_data",
                    "data": {
                        "text/html": "(6 rows affected)"
                    },
                    "metadata": {}
                },
                {
                    "output_type": "display_data",
                    "data": {
                        "text/html": "Total execution time: 00:00:00.011"
                    },
                    "metadata": {}
                },
                {
                    "output_type": "execute_result",
                    "metadata": {},
                    "execution_count": 14,
                    "data": {
                        "application/vnd.dataresource+json": {
                            "schema": {
                                "fields": [
                                    {
                                        "name": "species_id"
                                    },
                                    {
                                        "name": "locality"
                                    },
                                    {
                                        "name": "recent_count_date"
                                    }
                                ]
                            },
                            "data": [
                                {
                                    "0": "1",
                                    "1": "Anvers Island",
                                    "2": "2020-09-18"
                                },
                                {
                                    "0": "2",
                                    "1": "Falkland Islands",
                                    "2": "2020-11-07"
                                },
                                {
                                    "0": "2",
                                    "1": "South Georgia Island",
                                    "2": "2020-11-05"
                                },
                                {
                                    "0": "3",
                                    "1": "Elephant Island",
                                    "2": "2020-04-19"
                                },
                                {
                                    "0": "3",
                                    "1": "Falkland Islands",
                                    "2": "2020-09-20"
                                },
                                {
                                    "0": "4",
                                    "1": "South Georgia Island",
                                    "2": "2020-09-20"
                                }
                            ]
                        },
                        "text/html": [
                            "<table>",
                            "<tr><th>species_id</th><th>locality</th><th>recent_count_date</th></tr>",
                            "<tr><td>1</td><td>Anvers Island</td><td>2020-09-18</td></tr>",
                            "<tr><td>2</td><td>Falkland Islands</td><td>2020-11-07</td></tr>",
                            "<tr><td>2</td><td>South Georgia Island</td><td>2020-11-05</td></tr>",
                            "<tr><td>3</td><td>Elephant Island</td><td>2020-04-19</td></tr>",
                            "<tr><td>3</td><td>Falkland Islands</td><td>2020-09-20</td></tr>",
                            "<tr><td>4</td><td>South Georgia Island</td><td>2020-09-20</td></tr>",
                            "</table>"
                        ]
                    }
                }
            ],
            "execution_count": 14
        }
    ]
}