{
    "metadata": {
        "kernelspec": {
            "name": "SQL",
            "display_name": "SQL",
            "language": "sql"
        },
        "language_info": {
            "name": "sql",
            "version": ""
        }
    },
    "nbformat_minor": 2,
    "nbformat": 4,
    "cells": [
        {
            "cell_type": "markdown",
            "source": [
                "# CHECK Constraint Challenge"
            ],
            "metadata": {
                "azdata_cell_guid": "613f7aff-03cd-4f23-86f2-fd0d978d1931"
            },
            "attachments": {}
        },
        {
            "cell_type": "markdown",
            "source": [
                "\\*\\*Use SAMPLEDB Database\\*\\*"
            ],
            "metadata": {
                "azdata_cell_guid": "92105c0b-b2ff-4502-b8fb-e5093a685a5c"
            },
            "attachments": {}
        },
        {
            "cell_type": "code",
            "source": [
                "USE SAMPLEDB\n",
                "GO"
            ],
            "metadata": {
                "azdata_cell_guid": "3afd6a2d-911e-47cb-98f1-5bba98515496",
                "language": "sql"
            },
            "outputs": [
                {
                    "output_type": "display_data",
                    "data": {
                        "text/html": "Commands completed successfully."
                    },
                    "metadata": {}
                },
                {
                    "output_type": "display_data",
                    "data": {
                        "text/html": "Total execution time: 00:00:00.003"
                    },
                    "metadata": {}
                }
            ],
            "execution_count": 1
        },
        {
            "cell_type": "markdown",
            "source": [
                "### **Challenge**\n",
                "\n",
                "Use an ALTER TABLE statement to add a CHECK constraint on the salary column in the hcm.employees table to ensure that salary is greater than or equal to zero."
            ],
            "metadata": {
                "language": "sql",
                "azdata_cell_guid": "43ed66af-4287-45ee-b6a2-05f46ed59b11"
            },
            "attachments": {}
        },
        {
            "cell_type": "code",
            "source": [
                "ALTER TABLE hcm.employees \n",
                "ADD CONSTRAINT chk_employees_salary CHECK (salary >= 0);"
            ],
            "metadata": {
                "language": "sql",
                "azdata_cell_guid": "f7f465e4-d356-443c-840f-c75c8723b7dd"
            },
            "outputs": [
                {
                    "output_type": "display_data",
                    "data": {
                        "text/html": "Commands completed successfully."
                    },
                    "metadata": {}
                },
                {
                    "output_type": "display_data",
                    "data": {
                        "text/html": "Total execution time: 00:00:00.072"
                    },
                    "metadata": {}
                }
            ],
            "execution_count": 2
        }
    ]
}