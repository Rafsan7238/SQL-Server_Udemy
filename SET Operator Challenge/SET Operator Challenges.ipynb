{
    "metadata": {
        "kernelspec": {
            "name": "SQL",
            "display_name": "SQL",
            "language": "sql"
        },
        "language_info": {
            "name": "sql",
            "version": ""
        }
    },
    "nbformat_minor": 2,
    "nbformat": 4,
    "cells": [
        {
            "cell_type": "markdown",
            "source": [
                "# Set Operator Challenges"
            ],
            "metadata": {
                "azdata_cell_guid": "f60795cb-a9bb-4e36-822f-7ed292c44936"
            },
            "attachments": {}
        },
        {
            "cell_type": "markdown",
            "source": [
                "\\*\\*Use SAMPLEDB Database\\*\\*"
            ],
            "metadata": {
                "azdata_cell_guid": "51558bf5-f08b-44b3-9484-42e87ad26391",
                "language": ""
            },
            "attachments": {}
        },
        {
            "cell_type": "code",
            "source": [
                "USE SAMPLEDB \n",
                "GO"
            ],
            "metadata": {
                "azdata_cell_guid": "17c685af-e34f-478c-be5f-30330aee4d70",
                "language": "sql"
            },
            "outputs": [
                {
                    "output_type": "display_data",
                    "data": {
                        "text/html": "Commands completed successfully."
                    },
                    "metadata": {}
                },
                {
                    "output_type": "display_data",
                    "data": {
                        "text/html": "Total execution time: 00:00:00.031"
                    },
                    "metadata": {}
                }
            ],
            "execution_count": 1
        },
        {
            "cell_type": "markdown",
            "source": [
                "### **First Challenge** \n",
                "\n",
                "Challenge: Return all rows from both the bird.california\\_sightings table and the bird.arizona\\_sightings table. Use column names from the bird.california\\_sightings table."
            ],
            "metadata": {
                "language": "sql",
                "azdata_cell_guid": "f076fd09-dc40-45a8-8c42-3e8087dbb383"
            },
            "attachments": {}
        },
        {
            "cell_type": "code",
            "source": [
                "SELECT * FROM bird.california_sightings \n",
                "UNION ALL \n",
                "SELECT * FROM bird.arizona_sightings;"
            ],
            "metadata": {
                "language": "sql",
                "azdata_cell_guid": "7960ba97-c0f7-4dd8-803e-fd7454a7d0ff"
            },
            "outputs": [
                {
                    "output_type": "display_data",
                    "data": {
                        "text/html": "(10 rows affected)"
                    },
                    "metadata": {}
                },
                {
                    "output_type": "display_data",
                    "data": {
                        "text/html": "Total execution time: 00:00:00.156"
                    },
                    "metadata": {}
                },
                {
                    "output_type": "execute_result",
                    "metadata": {},
                    "execution_count": 2,
                    "data": {
                        "application/vnd.dataresource+json": {
                            "schema": {
                                "fields": [
                                    {
                                        "name": "sighting_id"
                                    },
                                    {
                                        "name": "common_name"
                                    },
                                    {
                                        "name": "scientific_name"
                                    },
                                    {
                                        "name": "location_of_sighting"
                                    },
                                    {
                                        "name": "sighting_date"
                                    }
                                ]
                            },
                            "data": [
                                {
                                    "0": "1",
                                    "1": "Gambel's quail",
                                    "2": "Callipepla gambelii",
                                    "3": "Anza-Borrego Desert State Park",
                                    "4": "2020-07-29"
                                },
                                {
                                    "0": "2",
                                    "1": "Snowy plover",
                                    "2": "Charadrius nivosus",
                                    "3": "Morro Bay State Park",
                                    "4": "2020-03-31"
                                },
                                {
                                    "0": "3",
                                    "1": "Short-eared Owl",
                                    "2": "Asio flammeus",
                                    "3": "Morro Bay State Park",
                                    "4": "2020-03-29"
                                },
                                {
                                    "0": "4",
                                    "1": "Horned Lark",
                                    "2": "Eremophila alpestris",
                                    "3": "Joshua Tree National Park",
                                    "4": "2020-05-29"
                                },
                                {
                                    "0": "5",
                                    "1": "American Cliff Swallow",
                                    "2": "Petrochelidon pyrrhonota",
                                    "3": "Joshua Tree National Park",
                                    "4": "2020-06-21"
                                },
                                {
                                    "0": "1",
                                    "1": "Elegant Trogon",
                                    "2": "Trogon elegans",
                                    "3": "Cave Creek Canyon",
                                    "4": "2020-08-15"
                                },
                                {
                                    "0": "2",
                                    "1": "Montezuma Quail",
                                    "2": "Cyrtonyx montezumae",
                                    "3": "Cave Creek Canyon",
                                    "4": "2020-08-15"
                                },
                                {
                                    "0": "3",
                                    "1": "Elegant Trogon",
                                    "2": "Trogon elegans",
                                    "3": "Cave Creek Canyon",
                                    "4": "2020-08-12"
                                },
                                {
                                    "0": "4",
                                    "1": "Yellow-headed Blackbird",
                                    "2": "Xanthocephalus xanthocephalus",
                                    "3": "Dead Horse Ranch State Park",
                                    "4": "2020-07-30"
                                },
                                {
                                    "0": "5",
                                    "1": "Gambel's quail",
                                    "2": "Callipepla gambelii",
                                    "3": "Kartchner Caverns State Park",
                                    "4": "2020-07-29"
                                }
                            ]
                        },
                        "text/html": [
                            "<table>",
                            "<tr><th>sighting_id</th><th>common_name</th><th>scientific_name</th><th>location_of_sighting</th><th>sighting_date</th></tr>",
                            "<tr><td>1</td><td>Gambel's quail</td><td>Callipepla gambelii</td><td>Anza-Borrego Desert State Park</td><td>2020-07-29</td></tr>",
                            "<tr><td>2</td><td>Snowy plover</td><td>Charadrius nivosus</td><td>Morro Bay State Park</td><td>2020-03-31</td></tr>",
                            "<tr><td>3</td><td>Short-eared Owl</td><td>Asio flammeus</td><td>Morro Bay State Park</td><td>2020-03-29</td></tr>",
                            "<tr><td>4</td><td>Horned Lark</td><td>Eremophila alpestris</td><td>Joshua Tree National Park</td><td>2020-05-29</td></tr>",
                            "<tr><td>5</td><td>American Cliff Swallow</td><td>Petrochelidon pyrrhonota</td><td>Joshua Tree National Park</td><td>2020-06-21</td></tr>",
                            "<tr><td>1</td><td>Elegant Trogon</td><td>Trogon elegans</td><td>Cave Creek Canyon</td><td>2020-08-15</td></tr>",
                            "<tr><td>2</td><td>Montezuma Quail</td><td>Cyrtonyx montezumae</td><td>Cave Creek Canyon</td><td>2020-08-15</td></tr>",
                            "<tr><td>3</td><td>Elegant Trogon</td><td>Trogon elegans</td><td>Cave Creek Canyon</td><td>2020-08-12</td></tr>",
                            "<tr><td>4</td><td>Yellow-headed Blackbird</td><td>Xanthocephalus xanthocephalus</td><td>Dead Horse Ranch State Park</td><td>2020-07-30</td></tr>",
                            "<tr><td>5</td><td>Gambel's quail</td><td>Callipepla gambelii</td><td>Kartchner Caverns State Park</td><td>2020-07-29</td></tr>",
                            "</table>"
                        ]
                    }
                }
            ],
            "execution_count": 2
        },
        {
            "cell_type": "markdown",
            "source": [
                "### **Second Challenge** \n",
                "\n",
                "Challenge: Return all unique species - as identified by the scientific\\_name column – for species which have been sighted in either California or Arizona. Use column names from the bird.california\\_sightings table."
            ],
            "metadata": {
                "language": "sql",
                "azdata_cell_guid": "77057151-f936-43f5-b521-19d7d28f4a00"
            },
            "attachments": {}
        },
        {
            "cell_type": "code",
            "source": [
                "SELECT scientific_name \n",
                "FROM bird.california_sightings\n",
                "UNION\n",
                "SELECT scientific_name\n",
                "FROM bird.arizona_sightings;"
            ],
            "metadata": {
                "language": "sql",
                "azdata_cell_guid": "212be881-8d4e-419a-ac44-551138194af0"
            },
            "outputs": [
                {
                    "output_type": "display_data",
                    "data": {
                        "text/html": "(8 rows affected)"
                    },
                    "metadata": {}
                },
                {
                    "output_type": "display_data",
                    "data": {
                        "text/html": "Total execution time: 00:00:00.065"
                    },
                    "metadata": {}
                },
                {
                    "output_type": "execute_result",
                    "metadata": {},
                    "execution_count": 3,
                    "data": {
                        "application/vnd.dataresource+json": {
                            "schema": {
                                "fields": [
                                    {
                                        "name": "scientific_name"
                                    }
                                ]
                            },
                            "data": [
                                {
                                    "0": "Asio flammeus"
                                },
                                {
                                    "0": "Callipepla gambelii"
                                },
                                {
                                    "0": "Charadrius nivosus"
                                },
                                {
                                    "0": "Cyrtonyx montezumae"
                                },
                                {
                                    "0": "Eremophila alpestris"
                                },
                                {
                                    "0": "Petrochelidon pyrrhonota"
                                },
                                {
                                    "0": "Trogon elegans"
                                },
                                {
                                    "0": "Xanthocephalus xanthocephalus"
                                }
                            ]
                        },
                        "text/html": [
                            "<table>",
                            "<tr><th>scientific_name</th></tr>",
                            "<tr><td>Asio flammeus</td></tr>",
                            "<tr><td>Callipepla gambelii</td></tr>",
                            "<tr><td>Charadrius nivosus</td></tr>",
                            "<tr><td>Cyrtonyx montezumae</td></tr>",
                            "<tr><td>Eremophila alpestris</td></tr>",
                            "<tr><td>Petrochelidon pyrrhonota</td></tr>",
                            "<tr><td>Trogon elegans</td></tr>",
                            "<tr><td>Xanthocephalus xanthocephalus</td></tr>",
                            "</table>"
                        ]
                    }
                }
            ],
            "execution_count": 3
        },
        {
            "cell_type": "markdown",
            "source": [
                "### **Third Challenge** \n",
                "\n",
                "Challenge: Return all unique combinations of species (scientific\\_name) and state name. The state\\_name will need to be added on as a new expression which gives the applicable state name. Use column names from the bird.california\\_sightings table. Order by state\\_name and then by scientific\\_name in ascending order."
            ],
            "metadata": {
                "language": "sql",
                "azdata_cell_guid": "2addb91d-527c-42c8-98de-34c94e2e8bbe"
            },
            "attachments": {}
        },
        {
            "cell_type": "code",
            "source": [
                "SELECT scientific_name, 'California' AS state_name\n",
                "FROM bird.california_sightings\n",
                "UNION \n",
                "SELECT scientific_name, 'Arizona' AS state_name\n",
                "FROM bird.arizona_sightings;"
            ],
            "metadata": {
                "language": "sql",
                "azdata_cell_guid": "75e2273b-b4fd-4059-ac27-23a95aeabf7e"
            },
            "outputs": [
                {
                    "output_type": "display_data",
                    "data": {
                        "text/html": "(9 rows affected)"
                    },
                    "metadata": {}
                },
                {
                    "output_type": "display_data",
                    "data": {
                        "text/html": "Total execution time: 00:00:00.023"
                    },
                    "metadata": {}
                },
                {
                    "output_type": "execute_result",
                    "metadata": {},
                    "execution_count": 4,
                    "data": {
                        "application/vnd.dataresource+json": {
                            "schema": {
                                "fields": [
                                    {
                                        "name": "scientific_name"
                                    },
                                    {
                                        "name": "state_name"
                                    }
                                ]
                            },
                            "data": [
                                {
                                    "0": "Asio flammeus",
                                    "1": "California"
                                },
                                {
                                    "0": "Callipepla gambelii",
                                    "1": "Arizona"
                                },
                                {
                                    "0": "Callipepla gambelii",
                                    "1": "California"
                                },
                                {
                                    "0": "Charadrius nivosus",
                                    "1": "California"
                                },
                                {
                                    "0": "Cyrtonyx montezumae",
                                    "1": "Arizona"
                                },
                                {
                                    "0": "Eremophila alpestris",
                                    "1": "California"
                                },
                                {
                                    "0": "Petrochelidon pyrrhonota",
                                    "1": "California"
                                },
                                {
                                    "0": "Trogon elegans",
                                    "1": "Arizona"
                                },
                                {
                                    "0": "Xanthocephalus xanthocephalus",
                                    "1": "Arizona"
                                }
                            ]
                        },
                        "text/html": [
                            "<table>",
                            "<tr><th>scientific_name</th><th>state_name</th></tr>",
                            "<tr><td>Asio flammeus</td><td>California</td></tr>",
                            "<tr><td>Callipepla gambelii</td><td>Arizona</td></tr>",
                            "<tr><td>Callipepla gambelii</td><td>California</td></tr>",
                            "<tr><td>Charadrius nivosus</td><td>California</td></tr>",
                            "<tr><td>Cyrtonyx montezumae</td><td>Arizona</td></tr>",
                            "<tr><td>Eremophila alpestris</td><td>California</td></tr>",
                            "<tr><td>Petrochelidon pyrrhonota</td><td>California</td></tr>",
                            "<tr><td>Trogon elegans</td><td>Arizona</td></tr>",
                            "<tr><td>Xanthocephalus xanthocephalus</td><td>Arizona</td></tr>",
                            "</table>"
                        ]
                    }
                }
            ],
            "execution_count": 4
        },
        {
            "cell_type": "markdown",
            "source": [
                "### **Fourth Challenge** \n",
                "\n",
                "Challenge: Return all rows from all the bird sightings tables i.e. Arizona, California and Florida. Use column names from the bird.california\\_sightings table."
            ],
            "metadata": {
                "language": "sql",
                "azdata_cell_guid": "0dc82934-3b3b-439e-ad5c-75091bd7e7c9"
            },
            "attachments": {}
        },
        {
            "cell_type": "code",
            "source": [
                "SELECT sighting_id, common_name, scientific_name, location_of_sighting, sighting_date, 'California' AS state_name\n",
                "FROM bird.california_sightings\n",
                "UNION ALL\n",
                "SELECT sighting_id, common_name, scientific_name, sighting_location, sighting_date, 'Arizona'\n",
                "FROM bird.arizona_sightings\n",
                "UNION ALL\n",
                "SELECT observation_id, NULL AS common_name, scientific_name, locality, sighting_datetime, 'Florida'\n",
                "FROM bird.florida_sightings;"
            ],
            "metadata": {
                "language": "sql",
                "azdata_cell_guid": "1765f044-9362-4b78-869e-f4760fdd14b1"
            },
            "outputs": [
                {
                    "output_type": "display_data",
                    "data": {
                        "text/html": "(17 rows affected)"
                    },
                    "metadata": {}
                },
                {
                    "output_type": "display_data",
                    "data": {
                        "text/html": "Total execution time: 00:00:00.031"
                    },
                    "metadata": {}
                },
                {
                    "output_type": "execute_result",
                    "metadata": {},
                    "execution_count": 6,
                    "data": {
                        "application/vnd.dataresource+json": {
                            "schema": {
                                "fields": [
                                    {
                                        "name": "sighting_id"
                                    },
                                    {
                                        "name": "common_name"
                                    },
                                    {
                                        "name": "scientific_name"
                                    },
                                    {
                                        "name": "location_of_sighting"
                                    },
                                    {
                                        "name": "sighting_date"
                                    },
                                    {
                                        "name": "state_name"
                                    }
                                ]
                            },
                            "data": [
                                {
                                    "0": "1",
                                    "1": "Gambel's quail",
                                    "2": "Callipepla gambelii",
                                    "3": "Anza-Borrego Desert State Park",
                                    "4": "2020-07-29 00:00:00.0000000",
                                    "5": "California"
                                },
                                {
                                    "0": "2",
                                    "1": "Snowy plover",
                                    "2": "Charadrius nivosus",
                                    "3": "Morro Bay State Park",
                                    "4": "2020-03-31 00:00:00.0000000",
                                    "5": "California"
                                },
                                {
                                    "0": "3",
                                    "1": "Short-eared Owl",
                                    "2": "Asio flammeus",
                                    "3": "Morro Bay State Park",
                                    "4": "2020-03-29 00:00:00.0000000",
                                    "5": "California"
                                },
                                {
                                    "0": "4",
                                    "1": "Horned Lark",
                                    "2": "Eremophila alpestris",
                                    "3": "Joshua Tree National Park",
                                    "4": "2020-05-29 00:00:00.0000000",
                                    "5": "California"
                                },
                                {
                                    "0": "5",
                                    "1": "American Cliff Swallow",
                                    "2": "Petrochelidon pyrrhonota",
                                    "3": "Joshua Tree National Park",
                                    "4": "2020-06-21 00:00:00.0000000",
                                    "5": "California"
                                },
                                {
                                    "0": "1",
                                    "1": "Elegant Trogon",
                                    "2": "Trogon elegans",
                                    "3": "Cave Creek Canyon",
                                    "4": "2020-08-15 00:00:00.0000000",
                                    "5": "Arizona"
                                },
                                {
                                    "0": "2",
                                    "1": "Montezuma Quail",
                                    "2": "Cyrtonyx montezumae",
                                    "3": "Cave Creek Canyon",
                                    "4": "2020-08-15 00:00:00.0000000",
                                    "5": "Arizona"
                                },
                                {
                                    "0": "3",
                                    "1": "Elegant Trogon",
                                    "2": "Trogon elegans",
                                    "3": "Cave Creek Canyon",
                                    "4": "2020-08-12 00:00:00.0000000",
                                    "5": "Arizona"
                                },
                                {
                                    "0": "4",
                                    "1": "Yellow-headed Blackbird",
                                    "2": "Xanthocephalus xanthocephalus",
                                    "3": "Dead Horse Ranch State Park",
                                    "4": "2020-07-30 00:00:00.0000000",
                                    "5": "Arizona"
                                },
                                {
                                    "0": "5",
                                    "1": "Gambel's quail",
                                    "2": "Callipepla gambelii",
                                    "3": "Kartchner Caverns State Park",
                                    "4": "2020-07-29 00:00:00.0000000",
                                    "5": "Arizona"
                                },
                                {
                                    "0": "1",
                                    "1": "NULL",
                                    "2": "Pandion haliaetus",
                                    "3": "Myakka River State Park",
                                    "4": "2020-08-15 17:00:00.0000000",
                                    "5": "Florida"
                                },
                                {
                                    "0": "2",
                                    "1": "NULL",
                                    "2": "Buteo lineatus",
                                    "3": "Blue Spring State Park",
                                    "4": "2020-08-20 11:15:00.0000000",
                                    "5": "Florida"
                                },
                                {
                                    "0": "3",
                                    "1": "NULL",
                                    "2": "Aphelocoma coerulescens",
                                    "3": "Blue Spring State Park",
                                    "4": "2020-08-21 11:30:00.0000000",
                                    "5": "Florida"
                                },
                                {
                                    "0": "4",
                                    "1": "NULL",
                                    "2": "Cathartes aura",
                                    "3": "Blue Spring State Park",
                                    "4": "2020-08-21 10:35:00.0000000",
                                    "5": "Florida"
                                },
                                {
                                    "0": "5",
                                    "1": "NULL",
                                    "2": "Mycteria americana",
                                    "3": "Blue Spring State Park",
                                    "4": "2020-08-22 14:40:00.0000000",
                                    "5": "Florida"
                                },
                                {
                                    "0": "6",
                                    "1": "NULL",
                                    "2": "Aramus guarauna",
                                    "3": "Colt Creek State Park",
                                    "4": "2020-08-25 15:00:00.0000000",
                                    "5": "Florida"
                                },
                                {
                                    "0": "7",
                                    "1": "NULL",
                                    "2": "Caracara cheriway",
                                    "3": "Colt Creek State Park",
                                    "4": "2020-08-30 15:15:00.0000000",
                                    "5": "Florida"
                                }
                            ]
                        },
                        "text/html": [
                            "<table>",
                            "<tr><th>sighting_id</th><th>common_name</th><th>scientific_name</th><th>location_of_sighting</th><th>sighting_date</th><th>state_name</th></tr>",
                            "<tr><td>1</td><td>Gambel's quail</td><td>Callipepla gambelii</td><td>Anza-Borrego Desert State Park</td><td>2020-07-29 00:00:00.0000000</td><td>California</td></tr>",
                            "<tr><td>2</td><td>Snowy plover</td><td>Charadrius nivosus</td><td>Morro Bay State Park</td><td>2020-03-31 00:00:00.0000000</td><td>California</td></tr>",
                            "<tr><td>3</td><td>Short-eared Owl</td><td>Asio flammeus</td><td>Morro Bay State Park</td><td>2020-03-29 00:00:00.0000000</td><td>California</td></tr>",
                            "<tr><td>4</td><td>Horned Lark</td><td>Eremophila alpestris</td><td>Joshua Tree National Park</td><td>2020-05-29 00:00:00.0000000</td><td>California</td></tr>",
                            "<tr><td>5</td><td>American Cliff Swallow</td><td>Petrochelidon pyrrhonota</td><td>Joshua Tree National Park</td><td>2020-06-21 00:00:00.0000000</td><td>California</td></tr>",
                            "<tr><td>1</td><td>Elegant Trogon</td><td>Trogon elegans</td><td>Cave Creek Canyon</td><td>2020-08-15 00:00:00.0000000</td><td>Arizona</td></tr>",
                            "<tr><td>2</td><td>Montezuma Quail</td><td>Cyrtonyx montezumae</td><td>Cave Creek Canyon</td><td>2020-08-15 00:00:00.0000000</td><td>Arizona</td></tr>",
                            "<tr><td>3</td><td>Elegant Trogon</td><td>Trogon elegans</td><td>Cave Creek Canyon</td><td>2020-08-12 00:00:00.0000000</td><td>Arizona</td></tr>",
                            "<tr><td>4</td><td>Yellow-headed Blackbird</td><td>Xanthocephalus xanthocephalus</td><td>Dead Horse Ranch State Park</td><td>2020-07-30 00:00:00.0000000</td><td>Arizona</td></tr>",
                            "<tr><td>5</td><td>Gambel's quail</td><td>Callipepla gambelii</td><td>Kartchner Caverns State Park</td><td>2020-07-29 00:00:00.0000000</td><td>Arizona</td></tr>",
                            "<tr><td>1</td><td>NULL</td><td>Pandion haliaetus</td><td>Myakka River State Park</td><td>2020-08-15 17:00:00.0000000</td><td>Florida</td></tr>",
                            "<tr><td>2</td><td>NULL</td><td>Buteo lineatus</td><td>Blue Spring State Park</td><td>2020-08-20 11:15:00.0000000</td><td>Florida</td></tr>",
                            "<tr><td>3</td><td>NULL</td><td>Aphelocoma coerulescens</td><td>Blue Spring State Park</td><td>2020-08-21 11:30:00.0000000</td><td>Florida</td></tr>",
                            "<tr><td>4</td><td>NULL</td><td>Cathartes aura</td><td>Blue Spring State Park</td><td>2020-08-21 10:35:00.0000000</td><td>Florida</td></tr>",
                            "<tr><td>5</td><td>NULL</td><td>Mycteria americana</td><td>Blue Spring State Park</td><td>2020-08-22 14:40:00.0000000</td><td>Florida</td></tr>",
                            "<tr><td>6</td><td>NULL</td><td>Aramus guarauna</td><td>Colt Creek State Park</td><td>2020-08-25 15:00:00.0000000</td><td>Florida</td></tr>",
                            "<tr><td>7</td><td>NULL</td><td>Caracara cheriway</td><td>Colt Creek State Park</td><td>2020-08-30 15:15:00.0000000</td><td>Florida</td></tr>",
                            "</table>"
                        ]
                    }
                }
            ],
            "execution_count": 6
        },
        {
            "cell_type": "markdown",
            "source": [
                "### **Fifth Challenge** \n",
                "\n",
                "Challenge: Return all unique customer ids for customers who have placed orders."
            ],
            "metadata": {
                "language": "sql",
                "azdata_cell_guid": "86e4b279-1ba6-4a4a-9537-cfe4547ae19d"
            },
            "attachments": {}
        },
        {
            "cell_type": "code",
            "source": [
                "SELECT customer_id \n",
                "FROM oes.orders\n",
                "INTERSECT\n",
                "SELECT customer_id \n",
                "FROM oes.customers;"
            ],
            "metadata": {
                "language": "sql",
                "azdata_cell_guid": "90cd875e-1df2-46bf-bbae-b2d97a5b3e6c"
            },
            "outputs": [
                {
                    "output_type": "display_data",
                    "data": {
                        "text/html": "(89 rows affected)"
                    },
                    "metadata": {}
                },
                {
                    "output_type": "display_data",
                    "data": {
                        "text/html": "Total execution time: 00:00:00.056"
                    },
                    "metadata": {}
                },
                {
                    "output_type": "execute_result",
                    "metadata": {},
                    "execution_count": 7,
                    "data": {
                        "application/vnd.dataresource+json": {
                            "schema": {
                                "fields": [
                                    {
                                        "name": "customer_id"
                                    }
                                ]
                            },
                            "data": [
                                {
                                    "0": "1"
                                },
                                {
                                    "0": "2"
                                },
                                {
                                    "0": "3"
                                },
                                {
                                    "0": "4"
                                },
                                {
                                    "0": "5"
                                },
                                {
                                    "0": "6"
                                },
                                {
                                    "0": "7"
                                },
                                {
                                    "0": "8"
                                },
                                {
                                    "0": "9"
                                },
                                {
                                    "0": "10"
                                },
                                {
                                    "0": "11"
                                },
                                {
                                    "0": "12"
                                },
                                {
                                    "0": "13"
                                },
                                {
                                    "0": "14"
                                },
                                {
                                    "0": "15"
                                },
                                {
                                    "0": "16"
                                },
                                {
                                    "0": "17"
                                },
                                {
                                    "0": "18"
                                },
                                {
                                    "0": "19"
                                },
                                {
                                    "0": "20"
                                },
                                {
                                    "0": "21"
                                },
                                {
                                    "0": "23"
                                },
                                {
                                    "0": "24"
                                },
                                {
                                    "0": "25"
                                },
                                {
                                    "0": "26"
                                },
                                {
                                    "0": "27"
                                },
                                {
                                    "0": "28"
                                },
                                {
                                    "0": "29"
                                },
                                {
                                    "0": "30"
                                },
                                {
                                    "0": "31"
                                },
                                {
                                    "0": "32"
                                },
                                {
                                    "0": "33"
                                },
                                {
                                    "0": "34"
                                },
                                {
                                    "0": "35"
                                },
                                {
                                    "0": "36"
                                },
                                {
                                    "0": "37"
                                },
                                {
                                    "0": "38"
                                },
                                {
                                    "0": "39"
                                },
                                {
                                    "0": "40"
                                },
                                {
                                    "0": "41"
                                },
                                {
                                    "0": "42"
                                },
                                {
                                    "0": "43"
                                },
                                {
                                    "0": "44"
                                },
                                {
                                    "0": "45"
                                },
                                {
                                    "0": "46"
                                },
                                {
                                    "0": "47"
                                },
                                {
                                    "0": "48"
                                },
                                {
                                    "0": "49"
                                },
                                {
                                    "0": "50"
                                },
                                {
                                    "0": "51"
                                },
                                {
                                    "0": "52"
                                },
                                {
                                    "0": "53"
                                },
                                {
                                    "0": "54"
                                },
                                {
                                    "0": "55"
                                },
                                {
                                    "0": "56"
                                },
                                {
                                    "0": "58"
                                },
                                {
                                    "0": "59"
                                },
                                {
                                    "0": "60"
                                },
                                {
                                    "0": "61"
                                },
                                {
                                    "0": "62"
                                },
                                {
                                    "0": "63"
                                },
                                {
                                    "0": "64"
                                },
                                {
                                    "0": "65"
                                },
                                {
                                    "0": "66"
                                },
                                {
                                    "0": "67"
                                },
                                {
                                    "0": "68"
                                },
                                {
                                    "0": "69"
                                },
                                {
                                    "0": "70"
                                },
                                {
                                    "0": "71"
                                },
                                {
                                    "0": "72"
                                },
                                {
                                    "0": "73"
                                },
                                {
                                    "0": "74"
                                },
                                {
                                    "0": "75"
                                },
                                {
                                    "0": "76"
                                },
                                {
                                    "0": "77"
                                },
                                {
                                    "0": "78"
                                },
                                {
                                    "0": "79"
                                },
                                {
                                    "0": "80"
                                },
                                {
                                    "0": "81"
                                },
                                {
                                    "0": "82"
                                },
                                {
                                    "0": "83"
                                },
                                {
                                    "0": "84"
                                },
                                {
                                    "0": "85"
                                },
                                {
                                    "0": "86"
                                },
                                {
                                    "0": "87"
                                },
                                {
                                    "0": "88"
                                },
                                {
                                    "0": "89"
                                },
                                {
                                    "0": "90"
                                },
                                {
                                    "0": "91"
                                }
                            ]
                        },
                        "text/html": [
                            "<table>",
                            "<tr><th>customer_id</th></tr>",
                            "<tr><td>1</td></tr>",
                            "<tr><td>2</td></tr>",
                            "<tr><td>3</td></tr>",
                            "<tr><td>4</td></tr>",
                            "<tr><td>5</td></tr>",
                            "<tr><td>6</td></tr>",
                            "<tr><td>7</td></tr>",
                            "<tr><td>8</td></tr>",
                            "<tr><td>9</td></tr>",
                            "<tr><td>10</td></tr>",
                            "<tr><td>11</td></tr>",
                            "<tr><td>12</td></tr>",
                            "<tr><td>13</td></tr>",
                            "<tr><td>14</td></tr>",
                            "<tr><td>15</td></tr>",
                            "<tr><td>16</td></tr>",
                            "<tr><td>17</td></tr>",
                            "<tr><td>18</td></tr>",
                            "<tr><td>19</td></tr>",
                            "<tr><td>20</td></tr>",
                            "<tr><td>21</td></tr>",
                            "<tr><td>23</td></tr>",
                            "<tr><td>24</td></tr>",
                            "<tr><td>25</td></tr>",
                            "<tr><td>26</td></tr>",
                            "<tr><td>27</td></tr>",
                            "<tr><td>28</td></tr>",
                            "<tr><td>29</td></tr>",
                            "<tr><td>30</td></tr>",
                            "<tr><td>31</td></tr>",
                            "<tr><td>32</td></tr>",
                            "<tr><td>33</td></tr>",
                            "<tr><td>34</td></tr>",
                            "<tr><td>35</td></tr>",
                            "<tr><td>36</td></tr>",
                            "<tr><td>37</td></tr>",
                            "<tr><td>38</td></tr>",
                            "<tr><td>39</td></tr>",
                            "<tr><td>40</td></tr>",
                            "<tr><td>41</td></tr>",
                            "<tr><td>42</td></tr>",
                            "<tr><td>43</td></tr>",
                            "<tr><td>44</td></tr>",
                            "<tr><td>45</td></tr>",
                            "<tr><td>46</td></tr>",
                            "<tr><td>47</td></tr>",
                            "<tr><td>48</td></tr>",
                            "<tr><td>49</td></tr>",
                            "<tr><td>50</td></tr>",
                            "<tr><td>51</td></tr>",
                            "<tr><td>52</td></tr>",
                            "<tr><td>53</td></tr>",
                            "<tr><td>54</td></tr>",
                            "<tr><td>55</td></tr>",
                            "<tr><td>56</td></tr>",
                            "<tr><td>58</td></tr>",
                            "<tr><td>59</td></tr>",
                            "<tr><td>60</td></tr>",
                            "<tr><td>61</td></tr>",
                            "<tr><td>62</td></tr>",
                            "<tr><td>63</td></tr>",
                            "<tr><td>64</td></tr>",
                            "<tr><td>65</td></tr>",
                            "<tr><td>66</td></tr>",
                            "<tr><td>67</td></tr>",
                            "<tr><td>68</td></tr>",
                            "<tr><td>69</td></tr>",
                            "<tr><td>70</td></tr>",
                            "<tr><td>71</td></tr>",
                            "<tr><td>72</td></tr>",
                            "<tr><td>73</td></tr>",
                            "<tr><td>74</td></tr>",
                            "<tr><td>75</td></tr>",
                            "<tr><td>76</td></tr>",
                            "<tr><td>77</td></tr>",
                            "<tr><td>78</td></tr>",
                            "<tr><td>79</td></tr>",
                            "<tr><td>80</td></tr>",
                            "<tr><td>81</td></tr>",
                            "<tr><td>82</td></tr>",
                            "<tr><td>83</td></tr>",
                            "<tr><td>84</td></tr>",
                            "<tr><td>85</td></tr>",
                            "<tr><td>86</td></tr>",
                            "<tr><td>87</td></tr>",
                            "<tr><td>88</td></tr>",
                            "<tr><td>89</td></tr>",
                            "<tr><td>90</td></tr>",
                            "<tr><td>91</td></tr>",
                            "</table>"
                        ]
                    }
                }
            ],
            "execution_count": 7
        },
        {
            "cell_type": "markdown",
            "source": [
                "### **Sixth Challenge** \n",
                "\n",
                "Challenge: Return all unique product ids for products that are currently not in stock."
            ],
            "metadata": {
                "language": "sql",
                "azdata_cell_guid": "5e9ae143-ad5a-49c8-9c36-8dbbcfd6af27"
            },
            "attachments": {}
        },
        {
            "cell_type": "code",
            "source": [
                "SELECT product_id \n",
                "FROM oes.products \n",
                "EXCEPT\n",
                "SELECT product_id \n",
                "FROM oes.inventories;"
            ],
            "metadata": {
                "language": "sql",
                "azdata_cell_guid": "2dcf96bc-eb7a-492d-9fe5-ef9a427d06af"
            },
            "outputs": [
                {
                    "output_type": "display_data",
                    "data": {
                        "text/html": "(2 rows affected)"
                    },
                    "metadata": {}
                },
                {
                    "output_type": "display_data",
                    "data": {
                        "text/html": "Total execution time: 00:00:00.022"
                    },
                    "metadata": {}
                },
                {
                    "output_type": "execute_result",
                    "metadata": {},
                    "execution_count": 8,
                    "data": {
                        "application/vnd.dataresource+json": {
                            "schema": {
                                "fields": [
                                    {
                                        "name": "product_id"
                                    }
                                ]
                            },
                            "data": [
                                {
                                    "0": "78"
                                },
                                {
                                    "0": "79"
                                }
                            ]
                        },
                        "text/html": [
                            "<table>",
                            "<tr><th>product_id</th></tr>",
                            "<tr><td>78</td></tr>",
                            "<tr><td>79</td></tr>",
                            "</table>"
                        ]
                    }
                }
            ],
            "execution_count": 8
        }
    ]
}