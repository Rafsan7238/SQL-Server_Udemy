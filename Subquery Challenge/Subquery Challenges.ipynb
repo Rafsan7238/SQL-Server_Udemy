{
    "metadata": {
        "kernelspec": {
            "name": "SQL",
            "display_name": "SQL",
            "language": "sql"
        },
        "language_info": {
            "name": "sql",
            "version": ""
        }
    },
    "nbformat_minor": 2,
    "nbformat": 4,
    "cells": [
        {
            "cell_type": "markdown",
            "source": [
                "# Subquery Challenges"
            ],
            "metadata": {
                "azdata_cell_guid": "1368d146-3faa-4ea6-b1c7-afc9396407c4"
            },
            "attachments": {}
        },
        {
            "cell_type": "markdown",
            "source": [
                "\\*\\*Use SAMPLEDB Database\\*\\*"
            ],
            "metadata": {
                "azdata_cell_guid": "da0c5e05-c48a-4d7f-9e78-d5d41367c6a5"
            },
            "attachments": {}
        },
        {
            "cell_type": "code",
            "source": [
                "USE SAMPLEDB \n",
                "GO"
            ],
            "metadata": {
                "azdata_cell_guid": "e988da2f-774d-4fb3-a275-86f7520562c2",
                "language": "sql"
            },
            "outputs": [
                {
                    "output_type": "display_data",
                    "data": {
                        "text/html": "Commands completed successfully."
                    },
                    "metadata": {}
                },
                {
                    "output_type": "display_data",
                    "data": {
                        "text/html": "Total execution time: 00:00:00.002"
                    },
                    "metadata": {}
                }
            ],
            "execution_count": 1
        },
        {
            "cell_type": "markdown",
            "source": [
                "### **First Challenge**\n",
                "\n",
                "Challenge: Return the following product details for the cheapest product(s) in the oes.products table: \n",
                "\n",
                "\\- product\\_id \n",
                "\n",
                "\\- product\\_name \n",
                "\n",
                "\\- list\\_price \n",
                "\n",
                "\\- category\\_id"
            ],
            "metadata": {
                "language": "sql",
                "azdata_cell_guid": "fc29e884-4bd9-48a5-ac70-9e882bc2a05f"
            },
            "attachments": {}
        },
        {
            "cell_type": "code",
            "source": [
                "SELECT product_id, product_name, list_price, category_id \n",
                "FROM oes.products \n",
                "WHERE list_price = (SELECT MIN(list_price) FROM oes.products);"
            ],
            "metadata": {
                "language": "sql",
                "azdata_cell_guid": "fa623ecd-a986-4d54-b1c1-9740657caa15"
            },
            "outputs": [
                {
                    "output_type": "display_data",
                    "data": {
                        "text/html": "(1 row affected)"
                    },
                    "metadata": {}
                },
                {
                    "output_type": "display_data",
                    "data": {
                        "text/html": "Total execution time: 00:00:00.040"
                    },
                    "metadata": {}
                },
                {
                    "output_type": "execute_result",
                    "execution_count": 2,
                    "data": {
                        "application/vnd.dataresource+json": {
                            "schema": {
                                "fields": [
                                    {
                                        "name": "product_id"
                                    },
                                    {
                                        "name": "product_name"
                                    },
                                    {
                                        "name": "list_price"
                                    },
                                    {
                                        "name": "category_id"
                                    }
                                ]
                            },
                            "data": [
                                {
                                    "0": "67",
                                    "1": "Spigen Galaxy Note 10 tough armor case",
                                    "2": "20.0000",
                                    "3": "1"
                                }
                            ]
                        },
                        "text/html": "<table><tr><th>product_id</th><th>product_name</th><th>list_price</th><th>category_id</th></tr><tr><td>67</td><td>Spigen Galaxy Note 10 tough armor case</td><td>20.0000</td><td>1</td></tr></table>"
                    },
                    "metadata": {}
                }
            ],
            "execution_count": 2
        },
        {
            "cell_type": "markdown",
            "source": [
                "### **Second Challenge**\n",
                "\n",
                "Challenge: Use a correlated subquery to return the following product details for the cheapest product(s) in each product category as given by the category\\_id column: \n",
                "\n",
                "\\- product\\_id \n",
                "\n",
                "\\- product\\_name \n",
                "\n",
                "\\- list\\_price \n",
                "\n",
                "\\- category\\_id"
            ],
            "metadata": {
                "language": "sql",
                "azdata_cell_guid": "e7cb5de6-ed4d-4d8f-9fe7-8fb8773df6ce"
            },
            "attachments": {}
        },
        {
            "cell_type": "code",
            "source": [
                "SELECT p.product_id, p.product_name, p.list_price, p.category_id \n",
                "FROM oes.products p \n",
                "WHERE p.list_price = \n",
                "(SELECT MIN(p2.list_price) \n",
                "FROM oes.products p2\n",
                "WHERE p.category_id = p2.category_id);"
            ],
            "metadata": {
                "language": "sql",
                "azdata_cell_guid": "53c0f9b2-de54-408a-8e1e-b3dbd8ece75d"
            },
            "outputs": [
                {
                    "output_type": "display_data",
                    "data": {
                        "text/html": "(9 rows affected)"
                    },
                    "metadata": {}
                },
                {
                    "output_type": "display_data",
                    "data": {
                        "text/html": "Total execution time: 00:00:00.027"
                    },
                    "metadata": {}
                },
                {
                    "output_type": "execute_result",
                    "execution_count": 4,
                    "data": {
                        "application/vnd.dataresource+json": {
                            "schema": {
                                "fields": [
                                    {
                                        "name": "product_id"
                                    },
                                    {
                                        "name": "product_name"
                                    },
                                    {
                                        "name": "list_price"
                                    },
                                    {
                                        "name": "category_id"
                                    }
                                ]
                            },
                            "data": [
                                {
                                    "0": "67",
                                    "1": "Spigen Galaxy Note 10 tough armor case",
                                    "2": "20.0000",
                                    "3": "1"
                                },
                                {
                                    "0": "66",
                                    "1": "Adesso iMouse E1",
                                    "2": "79.9500",
                                    "3": "2"
                                },
                                {
                                    "0": "79",
                                    "1": "PBX 21 inch Series 9 Monitor",
                                    "2": "79.9500",
                                    "3": "2"
                                },
                                {
                                    "0": "68",
                                    "1": "Andromeda Drone with Camera",
                                    "2": "49.9900",
                                    "3": "3"
                                },
                                {
                                    "0": "33",
                                    "1": "Edifier Multimedia 2.0 system PC Speaker",
                                    "2": "22.9400",
                                    "3": "4"
                                },
                                {
                                    "0": "23",
                                    "1": "PBX 32106 NUC Mini PC Desktop Kit",
                                    "2": "350.9500",
                                    "3": "5"
                                },
                                {
                                    "0": "53",
                                    "1": "AB Security cam",
                                    "2": "300.0000",
                                    "3": "6"
                                },
                                {
                                    "0": "14",
                                    "1": "HP LaserJet Pro M15W printer",
                                    "2": "23.2500",
                                    "3": "7"
                                },
                                {
                                    "0": "18",
                                    "1": "Ugreen CM129 Audio Sound Card Adapter",
                                    "2": "28.7500",
                                    "3": "8"
                                }
                            ]
                        },
                        "text/html": "<table><tr><th>product_id</th><th>product_name</th><th>list_price</th><th>category_id</th></tr><tr><td>67</td><td>Spigen Galaxy Note 10 tough armor case</td><td>20.0000</td><td>1</td></tr><tr><td>66</td><td>Adesso iMouse E1</td><td>79.9500</td><td>2</td></tr><tr><td>79</td><td>PBX 21 inch Series 9 Monitor</td><td>79.9500</td><td>2</td></tr><tr><td>68</td><td>Andromeda Drone with Camera</td><td>49.9900</td><td>3</td></tr><tr><td>33</td><td>Edifier Multimedia 2.0 system PC Speaker</td><td>22.9400</td><td>4</td></tr><tr><td>23</td><td>PBX 32106 NUC Mini PC Desktop Kit</td><td>350.9500</td><td>5</td></tr><tr><td>53</td><td>AB Security cam</td><td>300.0000</td><td>6</td></tr><tr><td>14</td><td>HP LaserJet Pro M15W printer</td><td>23.2500</td><td>7</td></tr><tr><td>18</td><td>Ugreen CM129 Audio Sound Card Adapter</td><td>28.7500</td><td>8</td></tr></table>"
                    },
                    "metadata": {}
                }
            ],
            "execution_count": 4
        },
        {
            "cell_type": "markdown",
            "source": [
                "### **Third Challenge** \n",
                "\n",
                "Challenge: Return the same result as challenge 2 i.e. the cheapest product(s) in each product category except this time by using an inner join to a derived table."
            ],
            "metadata": {
                "language": "sql",
                "azdata_cell_guid": "3248bf2d-4efe-446f-a59d-ef737cff8625"
            },
            "attachments": {}
        },
        {
            "cell_type": "code",
            "source": [
                "SELECT p.product_id, p.product_name, p.list_price, p.category_id \n",
                "FROM oes.products p \n",
                "INNER JOIN \n",
                "(SELECT category_id, MIN(list_price) as min_list_price\n",
                "FROM oes.products \n",
                "GROUP BY category_id) p2\n",
                "ON p.category_id = p2.category_id \n",
                "WHERE p.list_price = p2.min_list_price;"
            ],
            "metadata": {
                "language": "sql",
                "azdata_cell_guid": "cabc6430-07a0-47ad-96a7-14f243055629"
            },
            "outputs": [
                {
                    "output_type": "display_data",
                    "data": {
                        "text/html": "(9 rows affected)"
                    },
                    "metadata": {}
                },
                {
                    "output_type": "display_data",
                    "data": {
                        "text/html": "Total execution time: 00:00:00.018"
                    },
                    "metadata": {}
                },
                {
                    "output_type": "execute_result",
                    "execution_count": 6,
                    "data": {
                        "application/vnd.dataresource+json": {
                            "schema": {
                                "fields": [
                                    {
                                        "name": "product_id"
                                    },
                                    {
                                        "name": "product_name"
                                    },
                                    {
                                        "name": "list_price"
                                    },
                                    {
                                        "name": "category_id"
                                    }
                                ]
                            },
                            "data": [
                                {
                                    "0": "67",
                                    "1": "Spigen Galaxy Note 10 tough armor case",
                                    "2": "20.0000",
                                    "3": "1"
                                },
                                {
                                    "0": "66",
                                    "1": "Adesso iMouse E1",
                                    "2": "79.9500",
                                    "3": "2"
                                },
                                {
                                    "0": "79",
                                    "1": "PBX 21 inch Series 9 Monitor",
                                    "2": "79.9500",
                                    "3": "2"
                                },
                                {
                                    "0": "68",
                                    "1": "Andromeda Drone with Camera",
                                    "2": "49.9900",
                                    "3": "3"
                                },
                                {
                                    "0": "33",
                                    "1": "Edifier Multimedia 2.0 system PC Speaker",
                                    "2": "22.9400",
                                    "3": "4"
                                },
                                {
                                    "0": "23",
                                    "1": "PBX 32106 NUC Mini PC Desktop Kit",
                                    "2": "350.9500",
                                    "3": "5"
                                },
                                {
                                    "0": "53",
                                    "1": "AB Security cam",
                                    "2": "300.0000",
                                    "3": "6"
                                },
                                {
                                    "0": "14",
                                    "1": "HP LaserJet Pro M15W printer",
                                    "2": "23.2500",
                                    "3": "7"
                                },
                                {
                                    "0": "18",
                                    "1": "Ugreen CM129 Audio Sound Card Adapter",
                                    "2": "28.7500",
                                    "3": "8"
                                }
                            ]
                        },
                        "text/html": "<table><tr><th>product_id</th><th>product_name</th><th>list_price</th><th>category_id</th></tr><tr><td>67</td><td>Spigen Galaxy Note 10 tough armor case</td><td>20.0000</td><td>1</td></tr><tr><td>66</td><td>Adesso iMouse E1</td><td>79.9500</td><td>2</td></tr><tr><td>79</td><td>PBX 21 inch Series 9 Monitor</td><td>79.9500</td><td>2</td></tr><tr><td>68</td><td>Andromeda Drone with Camera</td><td>49.9900</td><td>3</td></tr><tr><td>33</td><td>Edifier Multimedia 2.0 system PC Speaker</td><td>22.9400</td><td>4</td></tr><tr><td>23</td><td>PBX 32106 NUC Mini PC Desktop Kit</td><td>350.9500</td><td>5</td></tr><tr><td>53</td><td>AB Security cam</td><td>300.0000</td><td>6</td></tr><tr><td>14</td><td>HP LaserJet Pro M15W printer</td><td>23.2500</td><td>7</td></tr><tr><td>18</td><td>Ugreen CM129 Audio Sound Card Adapter</td><td>28.7500</td><td>8</td></tr></table>"
                    },
                    "metadata": {}
                }
            ],
            "execution_count": 6
        },
        {
            "cell_type": "markdown",
            "source": [
                "### **Fourth Challenge** \n",
                "\n",
                "Challenge: Return the same result as challenge 2 and 3 i.e. the cheapest product(s) in each product category except this time by using a common table expression."
            ],
            "metadata": {
                "language": "sql",
                "azdata_cell_guid": "d2071f46-0811-45f1-b66b-bc0e81f596fe"
            },
            "attachments": {}
        },
        {
            "cell_type": "code",
            "source": [
                "WITH min_price_cat AS\n",
                "(SELECT category_id, MIN(list_price) as min_list_price\n",
                "FROM oes.products \n",
                "GROUP BY category_id)\n",
                "SELECT p.product_id, p.product_name, p.list_price, p.category_id \n",
                "FROM oes.products p, min_price_cat\n",
                "WHERE p.category_id = min_price_cat.category_id AND p.list_price = min_price_cat.min_list_price;"
            ],
            "metadata": {
                "language": "sql",
                "azdata_cell_guid": "e5909203-0d7a-492c-9f2a-f676db5623aa"
            },
            "outputs": [
                {
                    "output_type": "display_data",
                    "data": {
                        "text/html": "(9 rows affected)"
                    },
                    "metadata": {}
                },
                {
                    "output_type": "display_data",
                    "data": {
                        "text/html": "Total execution time: 00:00:00.019"
                    },
                    "metadata": {}
                },
                {
                    "output_type": "execute_result",
                    "execution_count": 9,
                    "data": {
                        "application/vnd.dataresource+json": {
                            "schema": {
                                "fields": [
                                    {
                                        "name": "product_id"
                                    },
                                    {
                                        "name": "product_name"
                                    },
                                    {
                                        "name": "list_price"
                                    },
                                    {
                                        "name": "category_id"
                                    }
                                ]
                            },
                            "data": [
                                {
                                    "0": "67",
                                    "1": "Spigen Galaxy Note 10 tough armor case",
                                    "2": "20.0000",
                                    "3": "1"
                                },
                                {
                                    "0": "66",
                                    "1": "Adesso iMouse E1",
                                    "2": "79.9500",
                                    "3": "2"
                                },
                                {
                                    "0": "79",
                                    "1": "PBX 21 inch Series 9 Monitor",
                                    "2": "79.9500",
                                    "3": "2"
                                },
                                {
                                    "0": "68",
                                    "1": "Andromeda Drone with Camera",
                                    "2": "49.9900",
                                    "3": "3"
                                },
                                {
                                    "0": "33",
                                    "1": "Edifier Multimedia 2.0 system PC Speaker",
                                    "2": "22.9400",
                                    "3": "4"
                                },
                                {
                                    "0": "23",
                                    "1": "PBX 32106 NUC Mini PC Desktop Kit",
                                    "2": "350.9500",
                                    "3": "5"
                                },
                                {
                                    "0": "53",
                                    "1": "AB Security cam",
                                    "2": "300.0000",
                                    "3": "6"
                                },
                                {
                                    "0": "14",
                                    "1": "HP LaserJet Pro M15W printer",
                                    "2": "23.2500",
                                    "3": "7"
                                },
                                {
                                    "0": "18",
                                    "1": "Ugreen CM129 Audio Sound Card Adapter",
                                    "2": "28.7500",
                                    "3": "8"
                                }
                            ]
                        },
                        "text/html": "<table><tr><th>product_id</th><th>product_name</th><th>list_price</th><th>category_id</th></tr><tr><td>67</td><td>Spigen Galaxy Note 10 tough armor case</td><td>20.0000</td><td>1</td></tr><tr><td>66</td><td>Adesso iMouse E1</td><td>79.9500</td><td>2</td></tr><tr><td>79</td><td>PBX 21 inch Series 9 Monitor</td><td>79.9500</td><td>2</td></tr><tr><td>68</td><td>Andromeda Drone with Camera</td><td>49.9900</td><td>3</td></tr><tr><td>33</td><td>Edifier Multimedia 2.0 system PC Speaker</td><td>22.9400</td><td>4</td></tr><tr><td>23</td><td>PBX 32106 NUC Mini PC Desktop Kit</td><td>350.9500</td><td>5</td></tr><tr><td>53</td><td>AB Security cam</td><td>300.0000</td><td>6</td></tr><tr><td>14</td><td>HP LaserJet Pro M15W printer</td><td>23.2500</td><td>7</td></tr><tr><td>18</td><td>Ugreen CM129 Audio Sound Card Adapter</td><td>28.7500</td><td>8</td></tr></table>"
                    },
                    "metadata": {}
                }
            ],
            "execution_count": 9
        },
        {
            "cell_type": "markdown",
            "source": [
                "### **Fifth Challenge** \n",
                "\n",
                "Challenge: Repeat challenge 4, except this time include the product category name as given in the oes.product\\_categories table."
            ],
            "metadata": {
                "language": "sql",
                "azdata_cell_guid": "98cce00a-262c-4f4c-a7f6-a78ac03e79cf"
            },
            "attachments": {}
        },
        {
            "cell_type": "code",
            "source": [
                "WITH min_price_cat AS\n",
                "(SELECT category_id, MIN(list_price) as min_list_price\n",
                "FROM oes.products \n",
                "GROUP BY category_id)\n",
                "SELECT p.product_id, p.product_name, p.list_price, p.category_id, pc.category_name \n",
                "FROM oes.products p, min_price_cat, oes.product_categories pc\n",
                "WHERE p.category_id = min_price_cat.category_id AND p.list_price = min_price_cat.min_list_price AND p.category_id = pc.category_id;"
            ],
            "metadata": {
                "language": "sql",
                "azdata_cell_guid": "edd23890-2b12-4234-aa4c-2b1e9d7994ac"
            },
            "outputs": [
                {
                    "output_type": "display_data",
                    "data": {
                        "text/html": "(9 rows affected)"
                    },
                    "metadata": {}
                },
                {
                    "output_type": "display_data",
                    "data": {
                        "text/html": "Total execution time: 00:00:00.027"
                    },
                    "metadata": {}
                },
                {
                    "output_type": "execute_result",
                    "execution_count": 10,
                    "data": {
                        "application/vnd.dataresource+json": {
                            "schema": {
                                "fields": [
                                    {
                                        "name": "product_id"
                                    },
                                    {
                                        "name": "product_name"
                                    },
                                    {
                                        "name": "list_price"
                                    },
                                    {
                                        "name": "category_id"
                                    },
                                    {
                                        "name": "category_name"
                                    }
                                ]
                            },
                            "data": [
                                {
                                    "0": "67",
                                    "1": "Spigen Galaxy Note 10 tough armor case",
                                    "2": "20.0000",
                                    "3": "1",
                                    "4": "Phones and Accessories"
                                },
                                {
                                    "0": "66",
                                    "1": "Adesso iMouse E1",
                                    "2": "79.9500",
                                    "3": "2",
                                    "4": "PC Peripherals"
                                },
                                {
                                    "0": "79",
                                    "1": "PBX 21 inch Series 9 Monitor",
                                    "2": "79.9500",
                                    "3": "2",
                                    "4": "PC Peripherals"
                                },
                                {
                                    "0": "68",
                                    "1": "Andromeda Drone with Camera",
                                    "2": "49.9900",
                                    "3": "3",
                                    "4": "Cameras and Drones"
                                },
                                {
                                    "0": "33",
                                    "1": "Edifier Multimedia 2.0 system PC Speaker",
                                    "2": "22.9400",
                                    "3": "4",
                                    "4": "TV and Audio"
                                },
                                {
                                    "0": "23",
                                    "1": "PBX 32106 NUC Mini PC Desktop Kit",
                                    "2": "350.9500",
                                    "3": "5",
                                    "4": "Computers"
                                },
                                {
                                    "0": "53",
                                    "1": "AB Security cam",
                                    "2": "300.0000",
                                    "3": "6",
                                    "4": "Home Security"
                                },
                                {
                                    "0": "14",
                                    "1": "HP LaserJet Pro M15W printer",
                                    "2": "23.2500",
                                    "3": "7",
                                    "4": "Printing and Office"
                                },
                                {
                                    "0": "18",
                                    "1": "Ugreen CM129 Audio Sound Card Adapter",
                                    "2": "28.7500",
                                    "3": "8",
                                    "4": "PC Parts"
                                }
                            ]
                        },
                        "text/html": "<table><tr><th>product_id</th><th>product_name</th><th>list_price</th><th>category_id</th><th>category_name</th></tr><tr><td>67</td><td>Spigen Galaxy Note 10 tough armor case</td><td>20.0000</td><td>1</td><td>Phones and Accessories</td></tr><tr><td>66</td><td>Adesso iMouse E1</td><td>79.9500</td><td>2</td><td>PC Peripherals</td></tr><tr><td>79</td><td>PBX 21 inch Series 9 Monitor</td><td>79.9500</td><td>2</td><td>PC Peripherals</td></tr><tr><td>68</td><td>Andromeda Drone with Camera</td><td>49.9900</td><td>3</td><td>Cameras and Drones</td></tr><tr><td>33</td><td>Edifier Multimedia 2.0 system PC Speaker</td><td>22.9400</td><td>4</td><td>TV and Audio</td></tr><tr><td>23</td><td>PBX 32106 NUC Mini PC Desktop Kit</td><td>350.9500</td><td>5</td><td>Computers</td></tr><tr><td>53</td><td>AB Security cam</td><td>300.0000</td><td>6</td><td>Home Security</td></tr><tr><td>14</td><td>HP LaserJet Pro M15W printer</td><td>23.2500</td><td>7</td><td>Printing and Office</td></tr><tr><td>18</td><td>Ugreen CM129 Audio Sound Card Adapter</td><td>28.7500</td><td>8</td><td>PC Parts</td></tr></table>"
                    },
                    "metadata": {}
                }
            ],
            "execution_count": 10
        },
        {
            "cell_type": "markdown",
            "source": [
                "### **Sixth Challenge** \n",
                "\n",
                "Background: The employee\\_id column in the oes.orders table gives the employee\\_id of the salesperson who made the sale. \n",
                "\n",
                "  \n",
                "\n",
                "Challenge: Use the NOT IN operator to return all employees who have never been the salesperson for any customer order. Include the following columns from hcm.employees: \n",
                "\n",
                "\\- employee\\_id \n",
                "\n",
                "\\- first\\_name \n",
                "\n",
                "\\- last\\_name"
            ],
            "metadata": {
                "language": "sql",
                "azdata_cell_guid": "a45af47d-67b9-4480-9061-ccd434a9680f"
            },
            "attachments": {}
        },
        {
            "cell_type": "code",
            "source": [
                "SELECT e.employee_id, e.first_name, e.last_name \n",
                "FROM hcm.employees e\n",
                "WHERE e.employee_id NOT IN \n",
                "(SELECT employee_id \n",
                "FROM oes.orders\n",
                "WHERE employee_id IS NOT NULL);"
            ],
            "metadata": {
                "language": "sql",
                "azdata_cell_guid": "ee9567bd-4c06-4e20-8826-0024ff1da9b2"
            },
            "outputs": [
                {
                    "output_type": "display_data",
                    "data": {
                        "text/html": "(74 rows affected)"
                    },
                    "metadata": {}
                },
                {
                    "output_type": "display_data",
                    "data": {
                        "text/html": "Total execution time: 00:00:00.018"
                    },
                    "metadata": {}
                },
                {
                    "output_type": "execute_result",
                    "execution_count": 12,
                    "data": {
                        "application/vnd.dataresource+json": {
                            "schema": {
                                "fields": [
                                    {
                                        "name": "employee_id"
                                    },
                                    {
                                        "name": "first_name"
                                    },
                                    {
                                        "name": "last_name"
                                    }
                                ]
                            },
                            "data": [
                                {
                                    "0": "100",
                                    "1": "Jack",
                                    "2": "Bernard"
                                },
                                {
                                    "0": "101",
                                    "1": "Don",
                                    "2": "Reilly"
                                },
                                {
                                    "0": "102",
                                    "1": "Judy",
                                    "2": "Lawson"
                                },
                                {
                                    "0": "103",
                                    "1": "Yani",
                                    "2": "Wenzlick"
                                },
                                {
                                    "0": "104",
                                    "1": "Rachel",
                                    "2": "Mortensen"
                                },
                                {
                                    "0": "105",
                                    "1": "Paul",
                                    "2": "Cameron"
                                },
                                {
                                    "0": "106",
                                    "1": "Russell",
                                    "2": "King"
                                },
                                {
                                    "0": "107",
                                    "1": "Maria",
                                    "2": "Cameron"
                                },
                                {
                                    "0": "108",
                                    "1": "Patricia",
                                    "2": "Doyle"
                                },
                                {
                                    "0": "109",
                                    "1": "Daniel",
                                    "2": "Hopkins"
                                },
                                {
                                    "0": "110",
                                    "1": "John",
                                    "2": "Chen"
                                },
                                {
                                    "0": "111",
                                    "1": "Llyod",
                                    "2": "Henderson"
                                },
                                {
                                    "0": "112",
                                    "1": "Lena",
                                    "2": "Chadwick"
                                },
                                {
                                    "0": "113",
                                    "1": "Richard",
                                    "2": "Stewart"
                                },
                                {
                                    "0": "114",
                                    "1": "Diana",
                                    "2": "Colman"
                                },
                                {
                                    "0": "115",
                                    "1": "Alexander",
                                    "2": "Khoo"
                                },
                                {
                                    "0": "116",
                                    "1": "Shelli",
                                    "2": "Baida"
                                },
                                {
                                    "0": "117",
                                    "1": "Peter",
                                    "2": "Owen"
                                },
                                {
                                    "0": "118",
                                    "1": "Peter",
                                    "2": "Owen"
                                },
                                {
                                    "0": "119",
                                    "1": "Karen",
                                    "2": "Colmenares"
                                },
                                {
                                    "0": "120",
                                    "1": "Matthew",
                                    "2": "Wilson"
                                },
                                {
                                    "0": "121",
                                    "1": "Jack",
                                    "2": "Hale"
                                },
                                {
                                    "0": "122",
                                    "1": "Priya",
                                    "2": "Singh"
                                },
                                {
                                    "0": "123",
                                    "1": "Shanta",
                                    "2": "Vollman"
                                },
                                {
                                    "0": "124",
                                    "1": "Kevin",
                                    "2": "Mourgos"
                                },
                                {
                                    "0": "125",
                                    "1": "Julia",
                                    "2": "Nayer"
                                },
                                {
                                    "0": "126",
                                    "1": "Irene",
                                    "2": "Mikkilineni"
                                },
                                {
                                    "0": "127",
                                    "1": "James",
                                    "2": "Landry"
                                },
                                {
                                    "0": "128",
                                    "1": "Steven",
                                    "2": "Markle"
                                },
                                {
                                    "0": "129",
                                    "1": "Laura",
                                    "2": "Bissot"
                                },
                                {
                                    "0": "130",
                                    "1": "Mark",
                                    "2": "Atkinson"
                                },
                                {
                                    "0": "131",
                                    "1": "James",
                                    "2": "Marlow"
                                },
                                {
                                    "0": "132",
                                    "1": "Gavin",
                                    "2": "Olson"
                                },
                                {
                                    "0": "133",
                                    "1": "Jason",
                                    "2": "Mallin"
                                },
                                {
                                    "0": "134",
                                    "1": "Michael",
                                    "2": "Rogers"
                                },
                                {
                                    "0": "135",
                                    "1": "Mitch",
                                    "2": "Holt"
                                },
                                {
                                    "0": "136",
                                    "1": "Hazel",
                                    "2": "Philtanker"
                                },
                                {
                                    "0": "137",
                                    "1": "Renske",
                                    "2": "Ladwig"
                                },
                                {
                                    "0": "138",
                                    "1": "Stephen",
                                    "2": "Stiles"
                                },
                                {
                                    "0": "139",
                                    "1": "Tony",
                                    "2": "Rogers"
                                },
                                {
                                    "0": "140",
                                    "1": "Mayank",
                                    "2": "Patel"
                                },
                                {
                                    "0": "141",
                                    "1": "Trenna",
                                    "2": "Rajs"
                                },
                                {
                                    "0": "142",
                                    "1": "Rick",
                                    "2": "Davies"
                                },
                                {
                                    "0": "143",
                                    "1": "Randall",
                                    "2": "Matos"
                                },
                                {
                                    "0": "144",
                                    "1": "Peter",
                                    "2": "Vargas"
                                },
                                {
                                    "0": "178",
                                    "1": "Olivia",
                                    "2": "Grant"
                                },
                                {
                                    "0": "179",
                                    "1": "Richie",
                                    "2": "Johnson"
                                },
                                {
                                    "0": "180",
                                    "1": "Horacio",
                                    "2": "Taylor"
                                },
                                {
                                    "0": "181",
                                    "1": "Laura",
                                    "2": "Hobbs"
                                },
                                {
                                    "0": "182",
                                    "1": "Martha",
                                    "2": "Sullivan"
                                },
                                {
                                    "0": "183",
                                    "1": "Girard",
                                    "2": "Geoni"
                                },
                                {
                                    "0": "184",
                                    "1": "Nandita",
                                    "2": "Sarchand"
                                },
                                {
                                    "0": "185",
                                    "1": "Alexis",
                                    "2": "Bull"
                                },
                                {
                                    "0": "186",
                                    "1": "Julia",
                                    "2": "Dellinger"
                                },
                                {
                                    "0": "187",
                                    "1": "Anthony",
                                    "2": "Cabrio"
                                },
                                {
                                    "0": "188",
                                    "1": "Kelly",
                                    "2": "Chung"
                                },
                                {
                                    "0": "189",
                                    "1": "Jennifer",
                                    "2": "Dilly"
                                },
                                {
                                    "0": "190",
                                    "1": "Timothy",
                                    "2": "Gates"
                                },
                                {
                                    "0": "191",
                                    "1": "Chuck",
                                    "2": "Perkins"
                                },
                                {
                                    "0": "192",
                                    "1": "Sarah",
                                    "2": "Bell"
                                },
                                {
                                    "0": "193",
                                    "1": "Britney",
                                    "2": "Everett"
                                },
                                {
                                    "0": "194",
                                    "1": "Samuel",
                                    "2": "McCain"
                                },
                                {
                                    "0": "195",
                                    "1": "Catrina",
                                    "2": "Jones"
                                },
                                {
                                    "0": "196",
                                    "1": "Tabitha",
                                    "2": "Walsh"
                                },
                                {
                                    "0": "197",
                                    "1": "Milford",
                                    "2": "Feeney"
                                },
                                {
                                    "0": "198",
                                    "1": "Alfred",
                                    "2": "Tate"
                                },
                                {
                                    "0": "199",
                                    "1": "Douglas",
                                    "2": "Grant"
                                },
                                {
                                    "0": "200",
                                    "1": "Jennifer",
                                    "2": "Whalen"
                                },
                                {
                                    "0": "201",
                                    "1": "Michael",
                                    "2": "Hartstein"
                                },
                                {
                                    "0": "202",
                                    "1": "Patrick",
                                    "2": "Bacon"
                                },
                                {
                                    "0": "203",
                                    "1": "Susan",
                                    "2": "Jacobs"
                                },
                                {
                                    "0": "204",
                                    "1": "Richard",
                                    "2": "Baer"
                                },
                                {
                                    "0": "205",
                                    "1": "Shelley",
                                    "2": "Higgins"
                                },
                                {
                                    "0": "206",
                                    "1": "William",
                                    "2": "Gietz"
                                }
                            ]
                        },
                        "text/html": "<table><tr><th>employee_id</th><th>first_name</th><th>last_name</th></tr><tr><td>100</td><td>Jack</td><td>Bernard</td></tr><tr><td>101</td><td>Don</td><td>Reilly</td></tr><tr><td>102</td><td>Judy</td><td>Lawson</td></tr><tr><td>103</td><td>Yani</td><td>Wenzlick</td></tr><tr><td>104</td><td>Rachel</td><td>Mortensen</td></tr><tr><td>105</td><td>Paul</td><td>Cameron</td></tr><tr><td>106</td><td>Russell</td><td>King</td></tr><tr><td>107</td><td>Maria</td><td>Cameron</td></tr><tr><td>108</td><td>Patricia</td><td>Doyle</td></tr><tr><td>109</td><td>Daniel</td><td>Hopkins</td></tr><tr><td>110</td><td>John</td><td>Chen</td></tr><tr><td>111</td><td>Llyod</td><td>Henderson</td></tr><tr><td>112</td><td>Lena</td><td>Chadwick</td></tr><tr><td>113</td><td>Richard</td><td>Stewart</td></tr><tr><td>114</td><td>Diana</td><td>Colman</td></tr><tr><td>115</td><td>Alexander</td><td>Khoo</td></tr><tr><td>116</td><td>Shelli</td><td>Baida</td></tr><tr><td>117</td><td>Peter</td><td>Owen</td></tr><tr><td>118</td><td>Peter</td><td>Owen</td></tr><tr><td>119</td><td>Karen</td><td>Colmenares</td></tr><tr><td>120</td><td>Matthew</td><td>Wilson</td></tr><tr><td>121</td><td>Jack</td><td>Hale</td></tr><tr><td>122</td><td>Priya</td><td>Singh</td></tr><tr><td>123</td><td>Shanta</td><td>Vollman</td></tr><tr><td>124</td><td>Kevin</td><td>Mourgos</td></tr><tr><td>125</td><td>Julia</td><td>Nayer</td></tr><tr><td>126</td><td>Irene</td><td>Mikkilineni</td></tr><tr><td>127</td><td>James</td><td>Landry</td></tr><tr><td>128</td><td>Steven</td><td>Markle</td></tr><tr><td>129</td><td>Laura</td><td>Bissot</td></tr><tr><td>130</td><td>Mark</td><td>Atkinson</td></tr><tr><td>131</td><td>James</td><td>Marlow</td></tr><tr><td>132</td><td>Gavin</td><td>Olson</td></tr><tr><td>133</td><td>Jason</td><td>Mallin</td></tr><tr><td>134</td><td>Michael</td><td>Rogers</td></tr><tr><td>135</td><td>Mitch</td><td>Holt</td></tr><tr><td>136</td><td>Hazel</td><td>Philtanker</td></tr><tr><td>137</td><td>Renske</td><td>Ladwig</td></tr><tr><td>138</td><td>Stephen</td><td>Stiles</td></tr><tr><td>139</td><td>Tony</td><td>Rogers</td></tr><tr><td>140</td><td>Mayank</td><td>Patel</td></tr><tr><td>141</td><td>Trenna</td><td>Rajs</td></tr><tr><td>142</td><td>Rick</td><td>Davies</td></tr><tr><td>143</td><td>Randall</td><td>Matos</td></tr><tr><td>144</td><td>Peter</td><td>Vargas</td></tr><tr><td>178</td><td>Olivia</td><td>Grant</td></tr><tr><td>179</td><td>Richie</td><td>Johnson</td></tr><tr><td>180</td><td>Horacio</td><td>Taylor</td></tr><tr><td>181</td><td>Laura</td><td>Hobbs</td></tr><tr><td>182</td><td>Martha</td><td>Sullivan</td></tr><tr><td>183</td><td>Girard</td><td>Geoni</td></tr><tr><td>184</td><td>Nandita</td><td>Sarchand</td></tr><tr><td>185</td><td>Alexis</td><td>Bull</td></tr><tr><td>186</td><td>Julia</td><td>Dellinger</td></tr><tr><td>187</td><td>Anthony</td><td>Cabrio</td></tr><tr><td>188</td><td>Kelly</td><td>Chung</td></tr><tr><td>189</td><td>Jennifer</td><td>Dilly</td></tr><tr><td>190</td><td>Timothy</td><td>Gates</td></tr><tr><td>191</td><td>Chuck</td><td>Perkins</td></tr><tr><td>192</td><td>Sarah</td><td>Bell</td></tr><tr><td>193</td><td>Britney</td><td>Everett</td></tr><tr><td>194</td><td>Samuel</td><td>McCain</td></tr><tr><td>195</td><td>Catrina</td><td>Jones</td></tr><tr><td>196</td><td>Tabitha</td><td>Walsh</td></tr><tr><td>197</td><td>Milford</td><td>Feeney</td></tr><tr><td>198</td><td>Alfred</td><td>Tate</td></tr><tr><td>199</td><td>Douglas</td><td>Grant</td></tr><tr><td>200</td><td>Jennifer</td><td>Whalen</td></tr><tr><td>201</td><td>Michael</td><td>Hartstein</td></tr><tr><td>202</td><td>Patrick</td><td>Bacon</td></tr><tr><td>203</td><td>Susan</td><td>Jacobs</td></tr><tr><td>204</td><td>Richard</td><td>Baer</td></tr><tr><td>205</td><td>Shelley</td><td>Higgins</td></tr><tr><td>206</td><td>William</td><td>Gietz</td></tr></table>"
                    },
                    "metadata": {}
                }
            ],
            "execution_count": 12
        },
        {
            "cell_type": "markdown",
            "source": [
                "### **Seventh Challenge** \n",
                "\n",
                "Challenge: Return the same result as challenge 6, except use WHERE NOT EXISTS"
            ],
            "metadata": {
                "language": "sql",
                "azdata_cell_guid": "b84e8f8f-c1e9-402d-93ca-3bc990cdb910"
            },
            "attachments": {}
        },
        {
            "cell_type": "code",
            "source": [
                "SELECT e.employee_id, e.first_name, e.last_name \n",
                "FROM hcm.employees e\n",
                "WHERE NOT EXISTS\n",
                "(SELECT employee_id \n",
                "FROM oes.orders o\n",
                "WHERE e.employee_id = o.employee_id);"
            ],
            "metadata": {
                "language": "sql",
                "azdata_cell_guid": "1070d413-490d-4db5-aa75-acf49056b9fe"
            },
            "outputs": [
                {
                    "output_type": "display_data",
                    "data": {
                        "text/html": "(74 rows affected)"
                    },
                    "metadata": {}
                },
                {
                    "output_type": "display_data",
                    "data": {
                        "text/html": "Total execution time: 00:00:00.019"
                    },
                    "metadata": {}
                },
                {
                    "output_type": "execute_result",
                    "execution_count": 16,
                    "data": {
                        "application/vnd.dataresource+json": {
                            "schema": {
                                "fields": [
                                    {
                                        "name": "employee_id"
                                    },
                                    {
                                        "name": "first_name"
                                    },
                                    {
                                        "name": "last_name"
                                    }
                                ]
                            },
                            "data": [
                                {
                                    "0": "100",
                                    "1": "Jack",
                                    "2": "Bernard"
                                },
                                {
                                    "0": "101",
                                    "1": "Don",
                                    "2": "Reilly"
                                },
                                {
                                    "0": "102",
                                    "1": "Judy",
                                    "2": "Lawson"
                                },
                                {
                                    "0": "103",
                                    "1": "Yani",
                                    "2": "Wenzlick"
                                },
                                {
                                    "0": "104",
                                    "1": "Rachel",
                                    "2": "Mortensen"
                                },
                                {
                                    "0": "105",
                                    "1": "Paul",
                                    "2": "Cameron"
                                },
                                {
                                    "0": "106",
                                    "1": "Russell",
                                    "2": "King"
                                },
                                {
                                    "0": "107",
                                    "1": "Maria",
                                    "2": "Cameron"
                                },
                                {
                                    "0": "108",
                                    "1": "Patricia",
                                    "2": "Doyle"
                                },
                                {
                                    "0": "109",
                                    "1": "Daniel",
                                    "2": "Hopkins"
                                },
                                {
                                    "0": "110",
                                    "1": "John",
                                    "2": "Chen"
                                },
                                {
                                    "0": "111",
                                    "1": "Llyod",
                                    "2": "Henderson"
                                },
                                {
                                    "0": "112",
                                    "1": "Lena",
                                    "2": "Chadwick"
                                },
                                {
                                    "0": "113",
                                    "1": "Richard",
                                    "2": "Stewart"
                                },
                                {
                                    "0": "114",
                                    "1": "Diana",
                                    "2": "Colman"
                                },
                                {
                                    "0": "115",
                                    "1": "Alexander",
                                    "2": "Khoo"
                                },
                                {
                                    "0": "116",
                                    "1": "Shelli",
                                    "2": "Baida"
                                },
                                {
                                    "0": "117",
                                    "1": "Peter",
                                    "2": "Owen"
                                },
                                {
                                    "0": "118",
                                    "1": "Peter",
                                    "2": "Owen"
                                },
                                {
                                    "0": "119",
                                    "1": "Karen",
                                    "2": "Colmenares"
                                },
                                {
                                    "0": "120",
                                    "1": "Matthew",
                                    "2": "Wilson"
                                },
                                {
                                    "0": "121",
                                    "1": "Jack",
                                    "2": "Hale"
                                },
                                {
                                    "0": "122",
                                    "1": "Priya",
                                    "2": "Singh"
                                },
                                {
                                    "0": "123",
                                    "1": "Shanta",
                                    "2": "Vollman"
                                },
                                {
                                    "0": "124",
                                    "1": "Kevin",
                                    "2": "Mourgos"
                                },
                                {
                                    "0": "125",
                                    "1": "Julia",
                                    "2": "Nayer"
                                },
                                {
                                    "0": "126",
                                    "1": "Irene",
                                    "2": "Mikkilineni"
                                },
                                {
                                    "0": "127",
                                    "1": "James",
                                    "2": "Landry"
                                },
                                {
                                    "0": "128",
                                    "1": "Steven",
                                    "2": "Markle"
                                },
                                {
                                    "0": "129",
                                    "1": "Laura",
                                    "2": "Bissot"
                                },
                                {
                                    "0": "130",
                                    "1": "Mark",
                                    "2": "Atkinson"
                                },
                                {
                                    "0": "131",
                                    "1": "James",
                                    "2": "Marlow"
                                },
                                {
                                    "0": "132",
                                    "1": "Gavin",
                                    "2": "Olson"
                                },
                                {
                                    "0": "133",
                                    "1": "Jason",
                                    "2": "Mallin"
                                },
                                {
                                    "0": "134",
                                    "1": "Michael",
                                    "2": "Rogers"
                                },
                                {
                                    "0": "135",
                                    "1": "Mitch",
                                    "2": "Holt"
                                },
                                {
                                    "0": "136",
                                    "1": "Hazel",
                                    "2": "Philtanker"
                                },
                                {
                                    "0": "137",
                                    "1": "Renske",
                                    "2": "Ladwig"
                                },
                                {
                                    "0": "138",
                                    "1": "Stephen",
                                    "2": "Stiles"
                                },
                                {
                                    "0": "139",
                                    "1": "Tony",
                                    "2": "Rogers"
                                },
                                {
                                    "0": "140",
                                    "1": "Mayank",
                                    "2": "Patel"
                                },
                                {
                                    "0": "141",
                                    "1": "Trenna",
                                    "2": "Rajs"
                                },
                                {
                                    "0": "142",
                                    "1": "Rick",
                                    "2": "Davies"
                                },
                                {
                                    "0": "143",
                                    "1": "Randall",
                                    "2": "Matos"
                                },
                                {
                                    "0": "144",
                                    "1": "Peter",
                                    "2": "Vargas"
                                },
                                {
                                    "0": "178",
                                    "1": "Olivia",
                                    "2": "Grant"
                                },
                                {
                                    "0": "179",
                                    "1": "Richie",
                                    "2": "Johnson"
                                },
                                {
                                    "0": "180",
                                    "1": "Horacio",
                                    "2": "Taylor"
                                },
                                {
                                    "0": "181",
                                    "1": "Laura",
                                    "2": "Hobbs"
                                },
                                {
                                    "0": "182",
                                    "1": "Martha",
                                    "2": "Sullivan"
                                },
                                {
                                    "0": "183",
                                    "1": "Girard",
                                    "2": "Geoni"
                                },
                                {
                                    "0": "184",
                                    "1": "Nandita",
                                    "2": "Sarchand"
                                },
                                {
                                    "0": "185",
                                    "1": "Alexis",
                                    "2": "Bull"
                                },
                                {
                                    "0": "186",
                                    "1": "Julia",
                                    "2": "Dellinger"
                                },
                                {
                                    "0": "187",
                                    "1": "Anthony",
                                    "2": "Cabrio"
                                },
                                {
                                    "0": "188",
                                    "1": "Kelly",
                                    "2": "Chung"
                                },
                                {
                                    "0": "189",
                                    "1": "Jennifer",
                                    "2": "Dilly"
                                },
                                {
                                    "0": "190",
                                    "1": "Timothy",
                                    "2": "Gates"
                                },
                                {
                                    "0": "191",
                                    "1": "Chuck",
                                    "2": "Perkins"
                                },
                                {
                                    "0": "192",
                                    "1": "Sarah",
                                    "2": "Bell"
                                },
                                {
                                    "0": "193",
                                    "1": "Britney",
                                    "2": "Everett"
                                },
                                {
                                    "0": "194",
                                    "1": "Samuel",
                                    "2": "McCain"
                                },
                                {
                                    "0": "195",
                                    "1": "Catrina",
                                    "2": "Jones"
                                },
                                {
                                    "0": "196",
                                    "1": "Tabitha",
                                    "2": "Walsh"
                                },
                                {
                                    "0": "197",
                                    "1": "Milford",
                                    "2": "Feeney"
                                },
                                {
                                    "0": "198",
                                    "1": "Alfred",
                                    "2": "Tate"
                                },
                                {
                                    "0": "199",
                                    "1": "Douglas",
                                    "2": "Grant"
                                },
                                {
                                    "0": "200",
                                    "1": "Jennifer",
                                    "2": "Whalen"
                                },
                                {
                                    "0": "201",
                                    "1": "Michael",
                                    "2": "Hartstein"
                                },
                                {
                                    "0": "202",
                                    "1": "Patrick",
                                    "2": "Bacon"
                                },
                                {
                                    "0": "203",
                                    "1": "Susan",
                                    "2": "Jacobs"
                                },
                                {
                                    "0": "204",
                                    "1": "Richard",
                                    "2": "Baer"
                                },
                                {
                                    "0": "205",
                                    "1": "Shelley",
                                    "2": "Higgins"
                                },
                                {
                                    "0": "206",
                                    "1": "William",
                                    "2": "Gietz"
                                }
                            ]
                        },
                        "text/html": "<table><tr><th>employee_id</th><th>first_name</th><th>last_name</th></tr><tr><td>100</td><td>Jack</td><td>Bernard</td></tr><tr><td>101</td><td>Don</td><td>Reilly</td></tr><tr><td>102</td><td>Judy</td><td>Lawson</td></tr><tr><td>103</td><td>Yani</td><td>Wenzlick</td></tr><tr><td>104</td><td>Rachel</td><td>Mortensen</td></tr><tr><td>105</td><td>Paul</td><td>Cameron</td></tr><tr><td>106</td><td>Russell</td><td>King</td></tr><tr><td>107</td><td>Maria</td><td>Cameron</td></tr><tr><td>108</td><td>Patricia</td><td>Doyle</td></tr><tr><td>109</td><td>Daniel</td><td>Hopkins</td></tr><tr><td>110</td><td>John</td><td>Chen</td></tr><tr><td>111</td><td>Llyod</td><td>Henderson</td></tr><tr><td>112</td><td>Lena</td><td>Chadwick</td></tr><tr><td>113</td><td>Richard</td><td>Stewart</td></tr><tr><td>114</td><td>Diana</td><td>Colman</td></tr><tr><td>115</td><td>Alexander</td><td>Khoo</td></tr><tr><td>116</td><td>Shelli</td><td>Baida</td></tr><tr><td>117</td><td>Peter</td><td>Owen</td></tr><tr><td>118</td><td>Peter</td><td>Owen</td></tr><tr><td>119</td><td>Karen</td><td>Colmenares</td></tr><tr><td>120</td><td>Matthew</td><td>Wilson</td></tr><tr><td>121</td><td>Jack</td><td>Hale</td></tr><tr><td>122</td><td>Priya</td><td>Singh</td></tr><tr><td>123</td><td>Shanta</td><td>Vollman</td></tr><tr><td>124</td><td>Kevin</td><td>Mourgos</td></tr><tr><td>125</td><td>Julia</td><td>Nayer</td></tr><tr><td>126</td><td>Irene</td><td>Mikkilineni</td></tr><tr><td>127</td><td>James</td><td>Landry</td></tr><tr><td>128</td><td>Steven</td><td>Markle</td></tr><tr><td>129</td><td>Laura</td><td>Bissot</td></tr><tr><td>130</td><td>Mark</td><td>Atkinson</td></tr><tr><td>131</td><td>James</td><td>Marlow</td></tr><tr><td>132</td><td>Gavin</td><td>Olson</td></tr><tr><td>133</td><td>Jason</td><td>Mallin</td></tr><tr><td>134</td><td>Michael</td><td>Rogers</td></tr><tr><td>135</td><td>Mitch</td><td>Holt</td></tr><tr><td>136</td><td>Hazel</td><td>Philtanker</td></tr><tr><td>137</td><td>Renske</td><td>Ladwig</td></tr><tr><td>138</td><td>Stephen</td><td>Stiles</td></tr><tr><td>139</td><td>Tony</td><td>Rogers</td></tr><tr><td>140</td><td>Mayank</td><td>Patel</td></tr><tr><td>141</td><td>Trenna</td><td>Rajs</td></tr><tr><td>142</td><td>Rick</td><td>Davies</td></tr><tr><td>143</td><td>Randall</td><td>Matos</td></tr><tr><td>144</td><td>Peter</td><td>Vargas</td></tr><tr><td>178</td><td>Olivia</td><td>Grant</td></tr><tr><td>179</td><td>Richie</td><td>Johnson</td></tr><tr><td>180</td><td>Horacio</td><td>Taylor</td></tr><tr><td>181</td><td>Laura</td><td>Hobbs</td></tr><tr><td>182</td><td>Martha</td><td>Sullivan</td></tr><tr><td>183</td><td>Girard</td><td>Geoni</td></tr><tr><td>184</td><td>Nandita</td><td>Sarchand</td></tr><tr><td>185</td><td>Alexis</td><td>Bull</td></tr><tr><td>186</td><td>Julia</td><td>Dellinger</td></tr><tr><td>187</td><td>Anthony</td><td>Cabrio</td></tr><tr><td>188</td><td>Kelly</td><td>Chung</td></tr><tr><td>189</td><td>Jennifer</td><td>Dilly</td></tr><tr><td>190</td><td>Timothy</td><td>Gates</td></tr><tr><td>191</td><td>Chuck</td><td>Perkins</td></tr><tr><td>192</td><td>Sarah</td><td>Bell</td></tr><tr><td>193</td><td>Britney</td><td>Everett</td></tr><tr><td>194</td><td>Samuel</td><td>McCain</td></tr><tr><td>195</td><td>Catrina</td><td>Jones</td></tr><tr><td>196</td><td>Tabitha</td><td>Walsh</td></tr><tr><td>197</td><td>Milford</td><td>Feeney</td></tr><tr><td>198</td><td>Alfred</td><td>Tate</td></tr><tr><td>199</td><td>Douglas</td><td>Grant</td></tr><tr><td>200</td><td>Jennifer</td><td>Whalen</td></tr><tr><td>201</td><td>Michael</td><td>Hartstein</td></tr><tr><td>202</td><td>Patrick</td><td>Bacon</td></tr><tr><td>203</td><td>Susan</td><td>Jacobs</td></tr><tr><td>204</td><td>Richard</td><td>Baer</td></tr><tr><td>205</td><td>Shelley</td><td>Higgins</td></tr><tr><td>206</td><td>William</td><td>Gietz</td></tr></table>"
                    },
                    "metadata": {}
                }
            ],
            "execution_count": 16
        },
        {
            "cell_type": "markdown",
            "source": [
                "### **Eighth Challenge** \n",
                "\n",
                "Challenge: Return unique customers who have ordered the 'PBX Smart Watch 4’. Include: \n",
                "\n",
                "\\- customer\\_id \n",
                "\n",
                "\\- first\\_name \n",
                "\n",
                "\\- last\\_name \n",
                "\n",
                "\\- email"
            ],
            "metadata": {
                "language": "sql",
                "azdata_cell_guid": "fc06778d-b981-40bd-bdfe-9b9f06cccc57"
            },
            "attachments": {}
        },
        {
            "cell_type": "code",
            "source": [
                "SELECT DISTINCT c.customer_id, c.first_name, c.last_name, c.email\n",
                "FROM oes.customers c \n",
                "INNER JOIN oes.orders o \n",
                "ON c.customer_id = o.customer_id \n",
                "INNER JOIN oes.order_items oi \n",
                "ON o.order_id = oi.order_id \n",
                "INNER JOIN oes.products p \n",
                "ON oi.product_id = p.product_id \n",
                "WHERE p.product_name = 'PBX Smart Watch 4';"
            ],
            "metadata": {
                "language": "sql",
                "azdata_cell_guid": "f61caea8-e19f-4030-ad6a-a19f2c1532f3"
            },
            "outputs": [
                {
                    "output_type": "display_data",
                    "data": {
                        "text/html": "(28 rows affected)"
                    },
                    "metadata": {}
                },
                {
                    "output_type": "display_data",
                    "data": {
                        "text/html": "Total execution time: 00:00:00.028"
                    },
                    "metadata": {}
                },
                {
                    "output_type": "execute_result",
                    "execution_count": 22,
                    "data": {
                        "application/vnd.dataresource+json": {
                            "schema": {
                                "fields": [
                                    {
                                        "name": "customer_id"
                                    },
                                    {
                                        "name": "first_name"
                                    },
                                    {
                                        "name": "last_name"
                                    },
                                    {
                                        "name": "email"
                                    }
                                ]
                            },
                            "data": [
                                {
                                    "0": "4",
                                    "1": "Trina",
                                    "2": "Oto",
                                    "3": "trina@oto.com.au"
                                },
                                {
                                    "0": "5",
                                    "1": "Emelda",
                                    "2": "Geffers",
                                    "3": "emelda.geffers@gmail.com"
                                },
                                {
                                    "0": "11",
                                    "1": "Kathryn",
                                    "2": "Bonalumi",
                                    "3": "kathryn.bonalumi@yahoo.com"
                                },
                                {
                                    "0": "12",
                                    "1": "Suzan",
                                    "2": "Landa",
                                    "3": "suzan.landa@gmail.com"
                                },
                                {
                                    "0": "19",
                                    "1": "Albina",
                                    "2": "Glick",
                                    "3": "albina@glick.com"
                                },
                                {
                                    "0": "20",
                                    "1": "Alishia",
                                    "2": "Sergi",
                                    "3": "asergi@gmail.com"
                                },
                                {
                                    "0": "23",
                                    "1": "Rozella",
                                    "2": "Ostrosky",
                                    "3": "rozella.ostrosky@ostrosky.com"
                                },
                                {
                                    "0": "25",
                                    "1": "Kati",
                                    "2": "Rulapaugh",
                                    "3": "kati.rulapaugh@hotmail.com"
                                },
                                {
                                    "0": "28",
                                    "1": "Aleshia",
                                    "2": "Harris",
                                    "3": "a_harris@hotmail.com"
                                },
                                {
                                    "0": "32",
                                    "1": "Tyisha",
                                    "2": "Veness",
                                    "3": "tyisha.veness@hotmail.com"
                                },
                                {
                                    "0": "35",
                                    "1": "Laquita",
                                    "2": "Hisaw",
                                    "3": "laquita@yahoo.com"
                                },
                                {
                                    "0": "38",
                                    "1": "Fernanda",
                                    "2": "Writer",
                                    "3": "fernanda@writer.co.uk"
                                },
                                {
                                    "0": "47",
                                    "1": "Mee",
                                    "2": "Lapinski",
                                    "3": "mee.lapinski@yahoo.com"
                                },
                                {
                                    "0": "51",
                                    "1": "Lourdes",
                                    "2": "Bauswell",
                                    "3": "lourdes_bauswell@aol.com"
                                },
                                {
                                    "0": "61",
                                    "1": "Casper",
                                    "2": "Henderson",
                                    "3": "casper123@hotmail.com"
                                },
                                {
                                    "0": "62",
                                    "1": "Huey",
                                    "2": "Marcille",
                                    "3": "huey.marcille@gmail.com"
                                },
                                {
                                    "0": "63",
                                    "1": "Apolonia",
                                    "2": "Warne",
                                    "3": "apolonia@gmail.com"
                                },
                                {
                                    "0": "69",
                                    "1": "Willard",
                                    "2": "Lablanc",
                                    "3": "wlablanc@yahoo.com"
                                },
                                {
                                    "0": "70",
                                    "1": "Lauryn",
                                    "2": "Randol",
                                    "3": "lauryn@yahoo.com"
                                },
                                {
                                    "0": "71",
                                    "1": "Laurena",
                                    "2": "Davis",
                                    "3": "laurena.davis@davis.com"
                                },
                                {
                                    "0": "75",
                                    "1": "Tish",
                                    "2": "Violett",
                                    "3": "tish.violett@violett.com"
                                },
                                {
                                    "0": "76",
                                    "1": "Hollis",
                                    "2": "Stanfield",
                                    "3": "hollis.stanfield@aol.com"
                                },
                                {
                                    "0": "83",
                                    "1": "Vicki",
                                    "2": "Jones",
                                    "3": "vicki@gmail.com"
                                },
                                {
                                    "0": "84",
                                    "1": "Renato",
                                    "2": "Airhart",
                                    "3": "renato_airhart@hotmail.com"
                                },
                                {
                                    "0": "86",
                                    "1": "Barney",
                                    "2": "Hagen",
                                    "3": "barney@yahoo.com"
                                },
                                {
                                    "0": "87",
                                    "1": "Matthew",
                                    "2": "Armacost",
                                    "3": "matthew_armacost@gmail.com"
                                },
                                {
                                    "0": "89",
                                    "1": "Iesha",
                                    "2": "Wardle",
                                    "3": "iesha@gmail.com"
                                },
                                {
                                    "0": "91",
                                    "1": "Paulene",
                                    "2": "Thomas",
                                    "3": "paulene_thomas@rhule.org"
                                }
                            ]
                        },
                        "text/html": "<table><tr><th>customer_id</th><th>first_name</th><th>last_name</th><th>email</th></tr><tr><td>4</td><td>Trina</td><td>Oto</td><td>trina@oto.com.au</td></tr><tr><td>5</td><td>Emelda</td><td>Geffers</td><td>emelda.geffers@gmail.com</td></tr><tr><td>11</td><td>Kathryn</td><td>Bonalumi</td><td>kathryn.bonalumi@yahoo.com</td></tr><tr><td>12</td><td>Suzan</td><td>Landa</td><td>suzan.landa@gmail.com</td></tr><tr><td>19</td><td>Albina</td><td>Glick</td><td>albina@glick.com</td></tr><tr><td>20</td><td>Alishia</td><td>Sergi</td><td>asergi@gmail.com</td></tr><tr><td>23</td><td>Rozella</td><td>Ostrosky</td><td>rozella.ostrosky@ostrosky.com</td></tr><tr><td>25</td><td>Kati</td><td>Rulapaugh</td><td>kati.rulapaugh@hotmail.com</td></tr><tr><td>28</td><td>Aleshia</td><td>Harris</td><td>a_harris@hotmail.com</td></tr><tr><td>32</td><td>Tyisha</td><td>Veness</td><td>tyisha.veness@hotmail.com</td></tr><tr><td>35</td><td>Laquita</td><td>Hisaw</td><td>laquita@yahoo.com</td></tr><tr><td>38</td><td>Fernanda</td><td>Writer</td><td>fernanda@writer.co.uk</td></tr><tr><td>47</td><td>Mee</td><td>Lapinski</td><td>mee.lapinski@yahoo.com</td></tr><tr><td>51</td><td>Lourdes</td><td>Bauswell</td><td>lourdes_bauswell@aol.com</td></tr><tr><td>61</td><td>Casper</td><td>Henderson</td><td>casper123@hotmail.com</td></tr><tr><td>62</td><td>Huey</td><td>Marcille</td><td>huey.marcille@gmail.com</td></tr><tr><td>63</td><td>Apolonia</td><td>Warne</td><td>apolonia@gmail.com</td></tr><tr><td>69</td><td>Willard</td><td>Lablanc</td><td>wlablanc@yahoo.com</td></tr><tr><td>70</td><td>Lauryn</td><td>Randol</td><td>lauryn@yahoo.com</td></tr><tr><td>71</td><td>Laurena</td><td>Davis</td><td>laurena.davis@davis.com</td></tr><tr><td>75</td><td>Tish</td><td>Violett</td><td>tish.violett@violett.com</td></tr><tr><td>76</td><td>Hollis</td><td>Stanfield</td><td>hollis.stanfield@aol.com</td></tr><tr><td>83</td><td>Vicki</td><td>Jones</td><td>vicki@gmail.com</td></tr><tr><td>84</td><td>Renato</td><td>Airhart</td><td>renato_airhart@hotmail.com</td></tr><tr><td>86</td><td>Barney</td><td>Hagen</td><td>barney@yahoo.com</td></tr><tr><td>87</td><td>Matthew</td><td>Armacost</td><td>matthew_armacost@gmail.com</td></tr><tr><td>89</td><td>Iesha</td><td>Wardle</td><td>iesha@gmail.com</td></tr><tr><td>91</td><td>Paulene</td><td>Thomas</td><td>paulene_thomas@rhule.org</td></tr></table>"
                    },
                    "metadata": {}
                }
            ],
            "execution_count": 22
        }
    ]
}