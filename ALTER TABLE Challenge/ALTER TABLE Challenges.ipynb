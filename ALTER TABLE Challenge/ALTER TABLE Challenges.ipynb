{
    "metadata": {
        "kernelspec": {
            "name": "SQL",
            "display_name": "SQL",
            "language": "sql"
        },
        "language_info": {
            "name": "sql",
            "version": ""
        }
    },
    "nbformat_minor": 2,
    "nbformat": 4,
    "cells": [
        {
            "cell_type": "markdown",
            "source": [
                "# ALTER TABLE Challenges"
            ],
            "metadata": {
                "azdata_cell_guid": "d40d90b5-9230-400c-a468-6ca57d69a3a2"
            },
            "attachments": {}
        },
        {
            "cell_type": "markdown",
            "source": [
                "\\*\\*Use SAMPLEDB Database\\*\\*"
            ],
            "metadata": {
                "azdata_cell_guid": "70109f4d-df10-402e-8258-03e8366098e4",
                "language": ""
            },
            "attachments": {}
        },
        {
            "cell_type": "code",
            "source": [
                "USE SAMPLEDB\n",
                "GO"
            ],
            "metadata": {
                "azdata_cell_guid": "63c95dc6-893b-42e8-8b16-a23877c0b613",
                "language": "sql"
            },
            "outputs": [
                {
                    "output_type": "display_data",
                    "data": {
                        "text/html": "Commands completed successfully."
                    },
                    "metadata": {}
                },
                {
                    "output_type": "display_data",
                    "data": {
                        "text/html": "Total execution time: 00:00:00.002"
                    },
                    "metadata": {}
                }
            ],
            "execution_count": 1
        },
        {
            "cell_type": "markdown",
            "source": [
                "### **First Challenge** \n",
                "\n",
                "Challenge: Add a new column called ‘termination\\_date’ onto the hcm.employees table. Give this new column a data type of DATE."
            ],
            "metadata": {
                "azdata_cell_guid": "991a6612-839f-46ad-9290-f691fab2dcc3"
            },
            "attachments": {}
        },
        {
            "cell_type": "code",
            "source": [
                "ALTER TABLE hcm.employees \n",
                "ADD termination_date DATE;"
            ],
            "metadata": {
                "azdata_cell_guid": "13afb214-0161-476a-aa17-55d464e5bdc3",
                "language": "sql"
            },
            "outputs": [
                {
                    "output_type": "display_data",
                    "data": {
                        "text/html": "Commands completed successfully."
                    },
                    "metadata": {}
                },
                {
                    "output_type": "display_data",
                    "data": {
                        "text/html": "Total execution time: 00:00:00.026"
                    },
                    "metadata": {}
                }
            ],
            "execution_count": 2
        },
        {
            "cell_type": "markdown",
            "source": [
                "### **Second Challenge** \n",
                "\n",
                "Challenge: Write two SQL statements to change the data type of the first\\_name and last\\_name columns to NVARCHAR(60) in the oes.customers table."
            ],
            "metadata": {
                "language": "sql",
                "azdata_cell_guid": "6f4a6385-7d00-4f88-80dc-6b2431fa3dc0"
            },
            "attachments": {}
        },
        {
            "cell_type": "code",
            "source": [
                "ALTER TABLE oes.customers \n",
                "ALTER COLUMN first_name NVARCHAR(60); \n",
                "\n",
                "ALTER TABLE oes.customers \n",
                "ALTER COLUMN last_name NVARCHAR(60);"
            ],
            "metadata": {
                "language": "sql",
                "azdata_cell_guid": "a30e1d26-a18c-43cc-a8aa-52289fc985cc"
            },
            "outputs": [
                {
                    "output_type": "display_data",
                    "data": {
                        "text/html": "Commands completed successfully."
                    },
                    "metadata": {}
                },
                {
                    "output_type": "display_data",
                    "data": {
                        "text/html": "Total execution time: 00:00:00.026"
                    },
                    "metadata": {}
                }
            ],
            "execution_count": 4
        },
        {
            "cell_type": "markdown",
            "source": [
                "### **Third Challenge** \n",
                "\n",
                "Challenge: Use sp\\_rename to rename the column name 'phone' to 'main\\_phone' in the oes.customers table. Note that this challenge does not use an ALTER TABLE statement."
            ],
            "metadata": {
                "language": "sql",
                "azdata_cell_guid": "6ce70f8c-78b1-4a2f-8817-a62537ef0fc7"
            },
            "attachments": {}
        },
        {
            "cell_type": "code",
            "source": [
                "sp_rename 'oes.customers.phone', 'main_phone', 'COLUMN';"
            ],
            "metadata": {
                "language": "sql",
                "azdata_cell_guid": "43ea10f1-ed8d-4af1-bc3c-dc8294ccac04"
            },
            "outputs": [
                {
                    "output_type": "display_data",
                    "data": {
                        "text/html": "Caution: Changing any part of an object name could break scripts and stored procedures."
                    },
                    "metadata": {}
                },
                {
                    "output_type": "display_data",
                    "data": {
                        "text/html": "Total execution time: 00:00:00.186"
                    },
                    "metadata": {}
                }
            ],
            "execution_count": 6
        }
    ]
}