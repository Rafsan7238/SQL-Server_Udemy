{
    "metadata": {
        "kernelspec": {
            "name": "SQL",
            "display_name": "SQL",
            "language": "sql"
        },
        "language_info": {
            "name": "sql",
            "version": ""
        }
    },
    "nbformat_minor": 2,
    "nbformat": 4,
    "cells": [
        {
            "cell_type": "markdown",
            "source": [
                "# CASE Expression Challenges"
            ],
            "metadata": {
                "azdata_cell_guid": "a30fd1a2-0b36-402f-acfc-02b132805780"
            },
            "attachments": {}
        },
        {
            "cell_type": "markdown",
            "source": [
                "\\*\\*Use SAMPLEDB Database\\*\\*"
            ],
            "metadata": {
                "azdata_cell_guid": "2142090d-326a-4b4b-bf3b-965a9af1d4c9"
            },
            "attachments": {}
        },
        {
            "cell_type": "code",
            "source": [
                "USE SAMPLEDB\n",
                "GO"
            ],
            "metadata": {
                "azdata_cell_guid": "acb321a3-deb6-4c85-845e-7a5cec6a860a",
                "language": "sql"
            },
            "outputs": [
                {
                    "output_type": "display_data",
                    "data": {
                        "text/html": "Commands completed successfully."
                    },
                    "metadata": {}
                },
                {
                    "output_type": "display_data",
                    "data": {
                        "text/html": "Total execution time: 00:00:00.002"
                    },
                    "metadata": {}
                }
            ],
            "execution_count": 1
        },
        {
            "cell_type": "markdown",
            "source": [
                "### First Challenge  \n",
                "\n",
                "Challenge: Select the following columns from the oes.products table: \n",
                "\n",
                "• product\\_id \n",
                "\n",
                "• product\\_name \n",
                "\n",
                "• discontinued \n",
                "\n",
                "Include a CASE expression in the SELECT statement called discontinued\\_description. Give this expression the string ‘No’ when the discontinued column equals 0 and a string of ‘Yes’ when the discontinued column equals 1. In all other cases give the expression the string of ‘unknown’."
            ],
            "metadata": {
                "language": "sql",
                "azdata_cell_guid": "3c1544d1-8438-4784-be86-d91af6b9b1b8"
            },
            "attachments": {}
        },
        {
            "cell_type": "code",
            "source": [
                "SELECT product_id, product_name, discontinued,\n",
                "CASE discontinued \n",
                "    WHEN 0 THEN 'No'\n",
                "    ELSE 'Yes'\n",
                "END AS discontinued_description\n",
                "FROM oes.products;"
            ],
            "metadata": {
                "language": "sql",
                "azdata_cell_guid": "777753f3-1211-410a-910a-086cdb8ad757",
                "tags": [
                    "hide_input"
                ]
            },
            "outputs": [
                {
                    "output_type": "display_data",
                    "data": {
                        "text/html": "(79 rows affected)"
                    },
                    "metadata": {}
                },
                {
                    "output_type": "display_data",
                    "data": {
                        "text/html": "Total execution time: 00:00:00.013"
                    },
                    "metadata": {}
                },
                {
                    "output_type": "execute_result",
                    "metadata": {},
                    "execution_count": 3,
                    "data": {
                        "application/vnd.dataresource+json": {
                            "schema": {
                                "fields": [
                                    {
                                        "name": "product_id"
                                    },
                                    {
                                        "name": "product_name"
                                    },
                                    {
                                        "name": "discontinued"
                                    },
                                    {
                                        "name": "discontinued_description"
                                    }
                                ]
                            },
                            "data": [
                                {
                                    "0": "1",
                                    "1": "Apple iPhone 11 64GB - Black",
                                    "2": "0",
                                    "3": "No"
                                },
                                {
                                    "0": "2",
                                    "1": "Apple iPhone 11 128GB - White",
                                    "2": "0",
                                    "3": "No"
                                },
                                {
                                    "0": "3",
                                    "1": "Titan Army N34QW 34 inch Curved UltraWide Monitor",
                                    "2": "0",
                                    "3": "No"
                                },
                                {
                                    "0": "4",
                                    "1": "LG UltraGear 24GL600F-B 24 inch Full HD Monitor",
                                    "2": "0",
                                    "3": "No"
                                },
                                {
                                    "0": "5",
                                    "1": "ASUS PG279Q Monitor",
                                    "2": "1",
                                    "3": "Yes"
                                },
                                {
                                    "0": "6",
                                    "1": "Logitech G213 Prodigy RGB Gaming Keyboard",
                                    "2": "0",
                                    "3": "No"
                                },
                                {
                                    "0": "7",
                                    "1": "Canon PIXMA MG2460 Inkjet MFP printer",
                                    "2": "0",
                                    "3": "No"
                                },
                                {
                                    "0": "8",
                                    "1": "Microsoft Sculpt Ergonomic Wireless Keyboard and Mouse Combo",
                                    "2": "0",
                                    "3": "No"
                                },
                                {
                                    "0": "9",
                                    "1": "JKW Video Intercom over IP adaptor",
                                    "2": "1",
                                    "3": "Yes"
                                },
                                {
                                    "0": "10",
                                    "1": "Intel Coffee Lake Core i9 Processor",
                                    "2": "0",
                                    "3": "No"
                                },
                                {
                                    "0": "11",
                                    "1": "Horion 55 inch 4K Ultra HD LED TV",
                                    "2": "0",
                                    "3": "No"
                                },
                                {
                                    "0": "12",
                                    "1": "Sony WH-1000XM3 Noise-Cancelling headphones - Black",
                                    "2": "0",
                                    "3": "No"
                                },
                                {
                                    "0": "13",
                                    "1": "HyperX AMP 7.1 USB Sound Card",
                                    "2": "0",
                                    "3": "No"
                                },
                                {
                                    "0": "14",
                                    "1": "HP LaserJet Pro M15W printer",
                                    "2": "0",
                                    "3": "No"
                                },
                                {
                                    "0": "15",
                                    "1": "Logitech G Pro X Mechanical TKL RGB Gaming Keyboard",
                                    "2": "0",
                                    "3": "No"
                                },
                                {
                                    "0": "16",
                                    "1": "Canon EOS 3000D DSLR Entry-Level Camera",
                                    "2": "0",
                                    "3": "No"
                                },
                                {
                                    "0": "17",
                                    "1": "MPS Intercom system",
                                    "2": "1",
                                    "3": "Yes"
                                },
                                {
                                    "0": "18",
                                    "1": "Ugreen CM129 Audio Sound Card Adapter",
                                    "2": "0",
                                    "3": "No"
                                },
                                {
                                    "0": "19",
                                    "1": "Nikon D3500 DSLR Camera",
                                    "2": "0",
                                    "3": "No"
                                },
                                {
                                    "0": "20",
                                    "1": "GoPro HERO 8 Black Action Camera 4K Video",
                                    "2": "0",
                                    "3": "No"
                                },
                                {
                                    "0": "21",
                                    "1": "DJI Mavic Mini Drone",
                                    "2": "0",
                                    "3": "No"
                                },
                                {
                                    "0": "22",
                                    "1": "HPR Workstation Intel 7",
                                    "2": "0",
                                    "3": "No"
                                },
                                {
                                    "0": "23",
                                    "1": "PBX 32106 NUC Mini PC Desktop Kit",
                                    "2": "0",
                                    "3": "No"
                                },
                                {
                                    "0": "24",
                                    "1": "Apple iPhone 6S - Silver",
                                    "2": "1",
                                    "3": "Yes"
                                },
                                {
                                    "0": "25",
                                    "1": "Apple iPhone SE 128GB - Black",
                                    "2": "0",
                                    "3": "No"
                                },
                                {
                                    "0": "26",
                                    "1": "DJI Mavic 2 Pro Drone with Hasselblad Camera",
                                    "2": "0",
                                    "3": "No"
                                },
                                {
                                    "0": "27",
                                    "1": "Canon EF 50mm f/1.8 STM Lens for Canon Digital SLR Cameras",
                                    "2": "0",
                                    "3": "No"
                                },
                                {
                                    "0": "28",
                                    "1": "Canon Black CLI-8 Ink Cartridge",
                                    "2": "1",
                                    "3": "Yes"
                                },
                                {
                                    "0": "29",
                                    "1": "APY Intercom System",
                                    "2": "1",
                                    "3": "Yes"
                                },
                                {
                                    "0": "30",
                                    "1": "Leadtek Quadro P620 Professional Workstation Graphics Card",
                                    "2": "0",
                                    "3": "No"
                                },
                                {
                                    "0": "31",
                                    "1": "Logitech Z333 2.1 Multimedia Speaker System",
                                    "2": "0",
                                    "3": "No"
                                },
                                {
                                    "0": "32",
                                    "1": "Blue Yeti Microphone",
                                    "2": "0",
                                    "3": "No"
                                },
                                {
                                    "0": "33",
                                    "1": "Edifier Multimedia 2.0 system PC Speaker",
                                    "2": "0",
                                    "3": "No"
                                },
                                {
                                    "0": "34",
                                    "1": "Samsung Galaxy Note10 - Aura Black",
                                    "2": "0",
                                    "3": "No"
                                },
                                {
                                    "0": "35",
                                    "1": "PBX Smart Watch 4",
                                    "2": "0",
                                    "3": "No"
                                },
                                {
                                    "0": "36",
                                    "1": "Leadtek Quadro P1000 Full Performance Professional Graphics Card",
                                    "2": "0",
                                    "3": "No"
                                },
                                {
                                    "0": "37",
                                    "1": "Leadtek Quadro P400 Professional Workstation Graphics Card",
                                    "2": "0",
                                    "3": "No"
                                },
                                {
                                    "0": "38",
                                    "1": "Apple Watch Series 3 - Grey",
                                    "2": "0",
                                    "3": "No"
                                },
                                {
                                    "0": "39",
                                    "1": "Spigen iPhone 11 Clear Case",
                                    "2": "0",
                                    "3": "No"
                                },
                                {
                                    "0": "40",
                                    "1": "Samsung 1TB Solid State Drive SSD",
                                    "2": "0",
                                    "3": "No"
                                },
                                {
                                    "0": "41",
                                    "1": "Crucial MX500 500GB SSD",
                                    "2": "0",
                                    "3": "No"
                                },
                                {
                                    "0": "42",
                                    "1": "PBX Everyday Home PC 43300",
                                    "2": "1",
                                    "3": "Yes"
                                },
                                {
                                    "0": "43",
                                    "1": "Samsung Galaxy S20 Smart Cover",
                                    "2": "0",
                                    "3": "No"
                                },
                                {
                                    "0": "44",
                                    "1": "ASUS VG279Q 27 inch Full HD IPS Gaming Monitor",
                                    "2": "0",
                                    "3": "No"
                                },
                                {
                                    "0": "45",
                                    "1": "Aten UC3020 CamLive HDMI to USB-C Video Capture",
                                    "2": "0",
                                    "3": "No"
                                },
                                {
                                    "0": "46",
                                    "1": "Cooler Master Hyper 212",
                                    "2": "0",
                                    "3": "No"
                                },
                                {
                                    "0": "47",
                                    "1": "Canon EOS M50 Mirrorless Camera",
                                    "2": "0",
                                    "3": "No"
                                },
                                {
                                    "0": "48",
                                    "1": "Canon EOS 80D DSLR Camera Single Lens Kit",
                                    "2": "0",
                                    "3": "No"
                                },
                                {
                                    "0": "49",
                                    "1": "GoPro HERO 7 Silver Action Camera 4K Video",
                                    "2": "0",
                                    "3": "No"
                                },
                                {
                                    "0": "50",
                                    "1": "Comet Drone with Camera",
                                    "2": "0",
                                    "3": "No"
                                },
                                {
                                    "0": "51",
                                    "1": "HP Ink Cartridge 65XL Black",
                                    "2": "0",
                                    "3": "No"
                                },
                                {
                                    "0": "52",
                                    "1": "ASUS W203MA Laptop",
                                    "2": "0",
                                    "3": "No"
                                },
                                {
                                    "0": "53",
                                    "1": "AB Security cam",
                                    "2": "1",
                                    "3": "Yes"
                                },
                                {
                                    "0": "54",
                                    "1": "Panasonic VL-SWD272 Wireless Video Intercom System",
                                    "2": "0",
                                    "3": "No"
                                },
                                {
                                    "0": "55",
                                    "1": "RING Smart Video Wi-Fi Doorbell 3",
                                    "2": "0",
                                    "3": "No"
                                },
                                {
                                    "0": "56",
                                    "1": "Microsoft Surface Laptop 3",
                                    "2": "0",
                                    "3": "No"
                                },
                                {
                                    "0": "57",
                                    "1": "Acer Nitro 7 Gaming Laptop",
                                    "2": "0",
                                    "3": "No"
                                },
                                {
                                    "0": "58",
                                    "1": "Cooler Master MasterFan",
                                    "2": "0",
                                    "3": "No"
                                },
                                {
                                    "0": "59",
                                    "1": "Samsung 50TU8000 50 inch 4K Smart TV",
                                    "2": "0",
                                    "3": "No"
                                },
                                {
                                    "0": "60",
                                    "1": "Konic 55 inch 4K Ultra HD LED TV",
                                    "2": "0",
                                    "3": "No"
                                },
                                {
                                    "0": "61",
                                    "1": "Apple Magic Keyboard",
                                    "2": "0",
                                    "3": "No"
                                },
                                {
                                    "0": "62",
                                    "1": "Viper-X Drone with VR Headset",
                                    "2": "0",
                                    "3": "No"
                                },
                                {
                                    "0": "63",
                                    "1": "Samsung C49HG90 49 inch QLED Monitor",
                                    "2": "0",
                                    "3": "No"
                                },
                                {
                                    "0": "64",
                                    "1": "Microsoft Surface Pro 7 Tablet",
                                    "2": "0",
                                    "3": "No"
                                },
                                {
                                    "0": "65",
                                    "1": "Evoluent VM4R Wired Vertical Mouse 4 right-handed",
                                    "2": "0",
                                    "3": "No"
                                },
                                {
                                    "0": "66",
                                    "1": "Adesso iMouse E1",
                                    "2": "0",
                                    "3": "No"
                                },
                                {
                                    "0": "67",
                                    "1": "Spigen Galaxy Note 10 tough armor case",
                                    "2": "0",
                                    "3": "No"
                                },
                                {
                                    "0": "68",
                                    "1": "Andromeda Drone with Camera",
                                    "2": "0",
                                    "3": "No"
                                },
                                {
                                    "0": "69",
                                    "1": "PowerBeats Pro True Wireless Sports Earphones",
                                    "2": "0",
                                    "3": "No"
                                },
                                {
                                    "0": "70",
                                    "1": "PBX 2000mAh Power Bank 3 - Black",
                                    "2": "0",
                                    "3": "No"
                                },
                                {
                                    "0": "71",
                                    "1": "Apple AirPods Pro Noise Cancelling True Wireless Headphones",
                                    "2": "0",
                                    "3": "No"
                                },
                                {
                                    "0": "72",
                                    "1": "Sennheiser HD 4.30i Over-Ear Headphones",
                                    "2": "0",
                                    "3": "No"
                                },
                                {
                                    "0": "73",
                                    "1": "Corsair LL Series LL120 Fan",
                                    "2": "0",
                                    "3": "No"
                                },
                                {
                                    "0": "74",
                                    "1": "Canon Ink Cartridge PG645",
                                    "2": "0",
                                    "3": "No"
                                },
                                {
                                    "0": "75",
                                    "1": "Roidmi S3 Bluetooth Music Car Charger",
                                    "2": "0",
                                    "3": "No"
                                },
                                {
                                    "0": "76",
                                    "1": "Belkin 10W Wireless Charging Air Vent Car Mount ",
                                    "2": "0",
                                    "3": "No"
                                },
                                {
                                    "0": "77",
                                    "1": "Microsoft Surface Arc Mouse - Bluetooth - Ice Blue",
                                    "2": "0",
                                    "3": "No"
                                },
                                {
                                    "0": "78",
                                    "1": "PBX Noise Cancelling Headphones",
                                    "2": "0",
                                    "3": "No"
                                },
                                {
                                    "0": "79",
                                    "1": "PBX 21 inch Series 9 Monitor",
                                    "2": "0",
                                    "3": "No"
                                }
                            ]
                        },
                        "text/html": [
                            "<table>",
                            "<tr><th>product_id</th><th>product_name</th><th>discontinued</th><th>discontinued_description</th></tr>",
                            "<tr><td>1</td><td>Apple iPhone 11 64GB - Black</td><td>0</td><td>No</td></tr>",
                            "<tr><td>2</td><td>Apple iPhone 11 128GB - White</td><td>0</td><td>No</td></tr>",
                            "<tr><td>3</td><td>Titan Army N34QW 34 inch Curved UltraWide Monitor</td><td>0</td><td>No</td></tr>",
                            "<tr><td>4</td><td>LG UltraGear 24GL600F-B 24 inch Full HD Monitor</td><td>0</td><td>No</td></tr>",
                            "<tr><td>5</td><td>ASUS PG279Q Monitor</td><td>1</td><td>Yes</td></tr>",
                            "<tr><td>6</td><td>Logitech G213 Prodigy RGB Gaming Keyboard</td><td>0</td><td>No</td></tr>",
                            "<tr><td>7</td><td>Canon PIXMA MG2460 Inkjet MFP printer</td><td>0</td><td>No</td></tr>",
                            "<tr><td>8</td><td>Microsoft Sculpt Ergonomic Wireless Keyboard and Mouse Combo</td><td>0</td><td>No</td></tr>",
                            "<tr><td>9</td><td>JKW Video Intercom over IP adaptor</td><td>1</td><td>Yes</td></tr>",
                            "<tr><td>10</td><td>Intel Coffee Lake Core i9 Processor</td><td>0</td><td>No</td></tr>",
                            "<tr><td>11</td><td>Horion 55 inch 4K Ultra HD LED TV</td><td>0</td><td>No</td></tr>",
                            "<tr><td>12</td><td>Sony WH-1000XM3 Noise-Cancelling headphones - Black</td><td>0</td><td>No</td></tr>",
                            "<tr><td>13</td><td>HyperX AMP 7.1 USB Sound Card</td><td>0</td><td>No</td></tr>",
                            "<tr><td>14</td><td>HP LaserJet Pro M15W printer</td><td>0</td><td>No</td></tr>",
                            "<tr><td>15</td><td>Logitech G Pro X Mechanical TKL RGB Gaming Keyboard</td><td>0</td><td>No</td></tr>",
                            "<tr><td>16</td><td>Canon EOS 3000D DSLR Entry-Level Camera</td><td>0</td><td>No</td></tr>",
                            "<tr><td>17</td><td>MPS Intercom system</td><td>1</td><td>Yes</td></tr>",
                            "<tr><td>18</td><td>Ugreen CM129 Audio Sound Card Adapter</td><td>0</td><td>No</td></tr>",
                            "<tr><td>19</td><td>Nikon D3500 DSLR Camera</td><td>0</td><td>No</td></tr>",
                            "<tr><td>20</td><td>GoPro HERO 8 Black Action Camera 4K Video</td><td>0</td><td>No</td></tr>",
                            "<tr><td>21</td><td>DJI Mavic Mini Drone</td><td>0</td><td>No</td></tr>",
                            "<tr><td>22</td><td>HPR Workstation Intel 7</td><td>0</td><td>No</td></tr>",
                            "<tr><td>23</td><td>PBX 32106 NUC Mini PC Desktop Kit</td><td>0</td><td>No</td></tr>",
                            "<tr><td>24</td><td>Apple iPhone 6S - Silver</td><td>1</td><td>Yes</td></tr>",
                            "<tr><td>25</td><td>Apple iPhone SE 128GB - Black</td><td>0</td><td>No</td></tr>",
                            "<tr><td>26</td><td>DJI Mavic 2 Pro Drone with Hasselblad Camera</td><td>0</td><td>No</td></tr>",
                            "<tr><td>27</td><td>Canon EF 50mm f/1.8 STM Lens for Canon Digital SLR Cameras</td><td>0</td><td>No</td></tr>",
                            "<tr><td>28</td><td>Canon Black CLI-8 Ink Cartridge</td><td>1</td><td>Yes</td></tr>",
                            "<tr><td>29</td><td>APY Intercom System</td><td>1</td><td>Yes</td></tr>",
                            "<tr><td>30</td><td>Leadtek Quadro P620 Professional Workstation Graphics Card</td><td>0</td><td>No</td></tr>",
                            "<tr><td>31</td><td>Logitech Z333 2.1 Multimedia Speaker System</td><td>0</td><td>No</td></tr>",
                            "<tr><td>32</td><td>Blue Yeti Microphone</td><td>0</td><td>No</td></tr>",
                            "<tr><td>33</td><td>Edifier Multimedia 2.0 system PC Speaker</td><td>0</td><td>No</td></tr>",
                            "<tr><td>34</td><td>Samsung Galaxy Note10 - Aura Black</td><td>0</td><td>No</td></tr>",
                            "<tr><td>35</td><td>PBX Smart Watch 4</td><td>0</td><td>No</td></tr>",
                            "<tr><td>36</td><td>Leadtek Quadro P1000 Full Performance Professional Graphics Card</td><td>0</td><td>No</td></tr>",
                            "<tr><td>37</td><td>Leadtek Quadro P400 Professional Workstation Graphics Card</td><td>0</td><td>No</td></tr>",
                            "<tr><td>38</td><td>Apple Watch Series 3 - Grey</td><td>0</td><td>No</td></tr>",
                            "<tr><td>39</td><td>Spigen iPhone 11 Clear Case</td><td>0</td><td>No</td></tr>",
                            "<tr><td>40</td><td>Samsung 1TB Solid State Drive SSD</td><td>0</td><td>No</td></tr>",
                            "<tr><td>41</td><td>Crucial MX500 500GB SSD</td><td>0</td><td>No</td></tr>",
                            "<tr><td>42</td><td>PBX Everyday Home PC 43300</td><td>1</td><td>Yes</td></tr>",
                            "<tr><td>43</td><td>Samsung Galaxy S20 Smart Cover</td><td>0</td><td>No</td></tr>",
                            "<tr><td>44</td><td>ASUS VG279Q 27 inch Full HD IPS Gaming Monitor</td><td>0</td><td>No</td></tr>",
                            "<tr><td>45</td><td>Aten UC3020 CamLive HDMI to USB-C Video Capture</td><td>0</td><td>No</td></tr>",
                            "<tr><td>46</td><td>Cooler Master Hyper 212</td><td>0</td><td>No</td></tr>",
                            "<tr><td>47</td><td>Canon EOS M50 Mirrorless Camera</td><td>0</td><td>No</td></tr>",
                            "<tr><td>48</td><td>Canon EOS 80D DSLR Camera Single Lens Kit</td><td>0</td><td>No</td></tr>",
                            "<tr><td>49</td><td>GoPro HERO 7 Silver Action Camera 4K Video</td><td>0</td><td>No</td></tr>",
                            "<tr><td>50</td><td>Comet Drone with Camera</td><td>0</td><td>No</td></tr>",
                            "<tr><td>51</td><td>HP Ink Cartridge 65XL Black</td><td>0</td><td>No</td></tr>",
                            "<tr><td>52</td><td>ASUS W203MA Laptop</td><td>0</td><td>No</td></tr>",
                            "<tr><td>53</td><td>AB Security cam</td><td>1</td><td>Yes</td></tr>",
                            "<tr><td>54</td><td>Panasonic VL-SWD272 Wireless Video Intercom System</td><td>0</td><td>No</td></tr>",
                            "<tr><td>55</td><td>RING Smart Video Wi-Fi Doorbell 3</td><td>0</td><td>No</td></tr>",
                            "<tr><td>56</td><td>Microsoft Surface Laptop 3</td><td>0</td><td>No</td></tr>",
                            "<tr><td>57</td><td>Acer Nitro 7 Gaming Laptop</td><td>0</td><td>No</td></tr>",
                            "<tr><td>58</td><td>Cooler Master MasterFan</td><td>0</td><td>No</td></tr>",
                            "<tr><td>59</td><td>Samsung 50TU8000 50 inch 4K Smart TV</td><td>0</td><td>No</td></tr>",
                            "<tr><td>60</td><td>Konic 55 inch 4K Ultra HD LED TV</td><td>0</td><td>No</td></tr>",
                            "<tr><td>61</td><td>Apple Magic Keyboard</td><td>0</td><td>No</td></tr>",
                            "<tr><td>62</td><td>Viper-X Drone with VR Headset</td><td>0</td><td>No</td></tr>",
                            "<tr><td>63</td><td>Samsung C49HG90 49 inch QLED Monitor</td><td>0</td><td>No</td></tr>",
                            "<tr><td>64</td><td>Microsoft Surface Pro 7 Tablet</td><td>0</td><td>No</td></tr>",
                            "<tr><td>65</td><td>Evoluent VM4R Wired Vertical Mouse 4 right-handed</td><td>0</td><td>No</td></tr>",
                            "<tr><td>66</td><td>Adesso iMouse E1</td><td>0</td><td>No</td></tr>",
                            "<tr><td>67</td><td>Spigen Galaxy Note 10 tough armor case</td><td>0</td><td>No</td></tr>",
                            "<tr><td>68</td><td>Andromeda Drone with Camera</td><td>0</td><td>No</td></tr>",
                            "<tr><td>69</td><td>PowerBeats Pro True Wireless Sports Earphones</td><td>0</td><td>No</td></tr>",
                            "<tr><td>70</td><td>PBX 2000mAh Power Bank 3 - Black</td><td>0</td><td>No</td></tr>",
                            "<tr><td>71</td><td>Apple AirPods Pro Noise Cancelling True Wireless Headphones</td><td>0</td><td>No</td></tr>",
                            "<tr><td>72</td><td>Sennheiser HD 4.30i Over-Ear Headphones</td><td>0</td><td>No</td></tr>",
                            "<tr><td>73</td><td>Corsair LL Series LL120 Fan</td><td>0</td><td>No</td></tr>",
                            "<tr><td>74</td><td>Canon Ink Cartridge PG645</td><td>0</td><td>No</td></tr>",
                            "<tr><td>75</td><td>Roidmi S3 Bluetooth Music Car Charger</td><td>0</td><td>No</td></tr>",
                            "<tr><td>76</td><td>Belkin 10W Wireless Charging Air Vent Car Mount </td><td>0</td><td>No</td></tr>",
                            "<tr><td>77</td><td>Microsoft Surface Arc Mouse - Bluetooth - Ice Blue</td><td>0</td><td>No</td></tr>",
                            "<tr><td>78</td><td>PBX Noise Cancelling Headphones</td><td>0</td><td>No</td></tr>",
                            "<tr><td>79</td><td>PBX 21 inch Series 9 Monitor</td><td>0</td><td>No</td></tr>",
                            "</table>"
                        ]
                    }
                }
            ],
            "execution_count": 3
        },
        {
            "cell_type": "markdown",
            "source": [
                "### **Second Challenge** \n",
                "\n",
                "Challenge: Select the following columns from the oes.products table: \n",
                "\n",
                "• product\\_id \n",
                "\n",
                "• product\\_name \n",
                "\n",
                "• list\\_price \n",
                "\n",
                "Include a CASE expression in the SELECT statement called price\\_grade. For this expression.. \n",
                "\n",
                "• If list\\_price is less than 50 then give the string ‘Low’. \n",
                "\n",
                "• If list\\_price is greater than or equal to 50 and list\\_price is less than 250 then give the string ‘Medium’. \n",
                "\n",
                "• If list\\_price is greater than or equal to 250 then give the string ‘High’. \n",
                "\n",
                "• In all other cases, give the expression the string of ‘unknown’."
            ],
            "metadata": {
                "azdata_cell_guid": "660aeae1-5dfb-422a-a5c3-0ae1a45228d8"
            },
            "attachments": {}
        },
        {
            "cell_type": "code",
            "source": [
                "SELECT product_id, product_name, list_price,\n",
                "CASE \n",
                "    WHEN list_price < 50 THEN 'Low'\n",
                "    WHEN list_price >= 50 AND list_price < 250 THEN 'Medium'\n",
                "    WHEN list_price >= 250 THEN 'High'\n",
                "    ELSE 'unknown'\n",
                "END AS price_grade \n",
                "FROM oes.products;"
            ],
            "metadata": {
                "azdata_cell_guid": "805575be-1b89-4562-b9ec-8654ad9a9eb0",
                "language": "sql"
            },
            "outputs": [
                {
                    "output_type": "display_data",
                    "data": {
                        "text/html": "(79 rows affected)"
                    },
                    "metadata": {}
                },
                {
                    "output_type": "display_data",
                    "data": {
                        "text/html": "Total execution time: 00:00:00.015"
                    },
                    "metadata": {}
                },
                {
                    "output_type": "execute_result",
                    "metadata": {},
                    "execution_count": 6,
                    "data": {
                        "application/vnd.dataresource+json": {
                            "schema": {
                                "fields": [
                                    {
                                        "name": "product_id"
                                    },
                                    {
                                        "name": "product_name"
                                    },
                                    {
                                        "name": "list_price"
                                    },
                                    {
                                        "name": "price_grade"
                                    }
                                ]
                            },
                            "data": [
                                {
                                    "0": "1",
                                    "1": "Apple iPhone 11 64GB - Black",
                                    "2": "1299.0000",
                                    "3": "High"
                                },
                                {
                                    "0": "2",
                                    "1": "Apple iPhone 11 128GB - White",
                                    "2": "1499.0000",
                                    "3": "High"
                                },
                                {
                                    "0": "3",
                                    "1": "Titan Army N34QW 34 inch Curved UltraWide Monitor",
                                    "2": "799.0000",
                                    "3": "High"
                                },
                                {
                                    "0": "4",
                                    "1": "LG UltraGear 24GL600F-B 24 inch Full HD Monitor",
                                    "2": "348.9900",
                                    "3": "High"
                                },
                                {
                                    "0": "5",
                                    "1": "ASUS PG279Q Monitor",
                                    "2": "149.0000",
                                    "3": "Medium"
                                },
                                {
                                    "0": "6",
                                    "1": "Logitech G213 Prodigy RGB Gaming Keyboard",
                                    "2": "109.0000",
                                    "3": "Medium"
                                },
                                {
                                    "0": "7",
                                    "1": "Canon PIXMA MG2460 Inkjet MFP printer",
                                    "2": "39.0000",
                                    "3": "Low"
                                },
                                {
                                    "0": "8",
                                    "1": "Microsoft Sculpt Ergonomic Wireless Keyboard and Mouse Combo",
                                    "2": "171.3500",
                                    "3": "Medium"
                                },
                                {
                                    "0": "9",
                                    "1": "JKW Video Intercom over IP adaptor",
                                    "2": "495.0000",
                                    "3": "High"
                                },
                                {
                                    "0": "10",
                                    "1": "Intel Coffee Lake Core i9 Processor",
                                    "2": "779.0000",
                                    "3": "High"
                                },
                                {
                                    "0": "11",
                                    "1": "Horion 55 inch 4K Ultra HD LED TV",
                                    "2": "632.0000",
                                    "3": "High"
                                },
                                {
                                    "0": "12",
                                    "1": "Sony WH-1000XM3 Noise-Cancelling headphones - Black",
                                    "2": "459.0000",
                                    "3": "High"
                                },
                                {
                                    "0": "13",
                                    "1": "HyperX AMP 7.1 USB Sound Card",
                                    "2": "59.0000",
                                    "3": "Medium"
                                },
                                {
                                    "0": "14",
                                    "1": "HP LaserJet Pro M15W printer",
                                    "2": "23.2500",
                                    "3": "Low"
                                },
                                {
                                    "0": "15",
                                    "1": "Logitech G Pro X Mechanical TKL RGB Gaming Keyboard",
                                    "2": "278.9900",
                                    "3": "High"
                                },
                                {
                                    "0": "16",
                                    "1": "Canon EOS 3000D DSLR Entry-Level Camera",
                                    "2": "578.9900",
                                    "3": "High"
                                },
                                {
                                    "0": "17",
                                    "1": "MPS Intercom system",
                                    "2": "398.0000",
                                    "3": "High"
                                },
                                {
                                    "0": "18",
                                    "1": "Ugreen CM129 Audio Sound Card Adapter",
                                    "2": "28.7500",
                                    "3": "Low"
                                },
                                {
                                    "0": "19",
                                    "1": "Nikon D3500 DSLR Camera",
                                    "2": "659.0000",
                                    "3": "High"
                                },
                                {
                                    "0": "20",
                                    "1": "GoPro HERO 8 Black Action Camera 4K Video",
                                    "2": "595.0000",
                                    "3": "High"
                                },
                                {
                                    "0": "21",
                                    "1": "DJI Mavic Mini Drone",
                                    "2": "623.5000",
                                    "3": "High"
                                },
                                {
                                    "0": "22",
                                    "1": "HPR Workstation Intel 7",
                                    "2": "3744.0000",
                                    "3": "High"
                                },
                                {
                                    "0": "23",
                                    "1": "PBX 32106 NUC Mini PC Desktop Kit",
                                    "2": "350.9500",
                                    "3": "High"
                                },
                                {
                                    "0": "24",
                                    "1": "Apple iPhone 6S - Silver",
                                    "2": "999.9900",
                                    "3": "High"
                                },
                                {
                                    "0": "25",
                                    "1": "Apple iPhone SE 128GB - Black",
                                    "2": "898.9900",
                                    "3": "High"
                                },
                                {
                                    "0": "26",
                                    "1": "DJI Mavic 2 Pro Drone with Hasselblad Camera",
                                    "2": "2491.6700",
                                    "3": "High"
                                },
                                {
                                    "0": "27",
                                    "1": "Canon EF 50mm f/1.8 STM Lens for Canon Digital SLR Cameras",
                                    "2": "249.0000",
                                    "3": "Medium"
                                },
                                {
                                    "0": "28",
                                    "1": "Canon Black CLI-8 Ink Cartridge",
                                    "2": "32.0000",
                                    "3": "Low"
                                },
                                {
                                    "0": "29",
                                    "1": "APY Intercom System",
                                    "2": "350.0000",
                                    "3": "High"
                                },
                                {
                                    "0": "30",
                                    "1": "Leadtek Quadro P620 Professional Workstation Graphics Card",
                                    "2": "349.9400",
                                    "3": "High"
                                },
                                {
                                    "0": "31",
                                    "1": "Logitech Z333 2.1 Multimedia Speaker System",
                                    "2": "159.0000",
                                    "3": "Medium"
                                },
                                {
                                    "0": "32",
                                    "1": "Blue Yeti Microphone",
                                    "2": "258.9900",
                                    "3": "High"
                                },
                                {
                                    "0": "33",
                                    "1": "Edifier Multimedia 2.0 system PC Speaker",
                                    "2": "22.9400",
                                    "3": "Low"
                                },
                                {
                                    "0": "34",
                                    "1": "Samsung Galaxy Note10 - Aura Black",
                                    "2": "1499.0000",
                                    "3": "High"
                                },
                                {
                                    "0": "35",
                                    "1": "PBX Smart Watch 4",
                                    "2": "69.0000",
                                    "3": "Medium"
                                },
                                {
                                    "0": "36",
                                    "1": "Leadtek Quadro P1000 Full Performance Professional Graphics Card",
                                    "2": "688.8500",
                                    "3": "High"
                                },
                                {
                                    "0": "37",
                                    "1": "Leadtek Quadro P400 Professional Workstation Graphics Card",
                                    "2": "240.3500",
                                    "3": "Medium"
                                },
                                {
                                    "0": "38",
                                    "1": "Apple Watch Series 3 - Grey",
                                    "2": "339.5000",
                                    "3": "High"
                                },
                                {
                                    "0": "39",
                                    "1": "Spigen iPhone 11 Clear Case",
                                    "2": "23.0000",
                                    "3": "Low"
                                },
                                {
                                    "0": "40",
                                    "1": "Samsung 1TB Solid State Drive SSD",
                                    "2": "194.3500",
                                    "3": "Medium"
                                },
                                {
                                    "0": "41",
                                    "1": "Crucial MX500 500GB SSD",
                                    "2": "132.2500",
                                    "3": "Medium"
                                },
                                {
                                    "0": "42",
                                    "1": "PBX Everyday Home PC 43300",
                                    "2": "1033.0000",
                                    "3": "High"
                                },
                                {
                                    "0": "43",
                                    "1": "Samsung Galaxy S20 Smart Cover",
                                    "2": "85.9500",
                                    "3": "Medium"
                                },
                                {
                                    "0": "44",
                                    "1": "ASUS VG279Q 27 inch Full HD IPS Gaming Monitor",
                                    "2": "578.9900",
                                    "3": "High"
                                },
                                {
                                    "0": "45",
                                    "1": "Aten UC3020 CamLive HDMI to USB-C Video Capture",
                                    "2": "251.0000",
                                    "3": "High"
                                },
                                {
                                    "0": "46",
                                    "1": "Cooler Master Hyper 212",
                                    "2": "74.7500",
                                    "3": "Medium"
                                },
                                {
                                    "0": "47",
                                    "1": "Canon EOS M50 Mirrorless Camera",
                                    "2": "989.0000",
                                    "3": "High"
                                },
                                {
                                    "0": "48",
                                    "1": "Canon EOS 80D DSLR Camera Single Lens Kit",
                                    "2": "1499.0000",
                                    "3": "High"
                                },
                                {
                                    "0": "49",
                                    "1": "GoPro HERO 7 Silver Action Camera 4K Video",
                                    "2": "325.6200",
                                    "3": "High"
                                },
                                {
                                    "0": "50",
                                    "1": "Comet Drone with Camera",
                                    "2": "99.0000",
                                    "3": "Medium"
                                },
                                {
                                    "0": "51",
                                    "1": "HP Ink Cartridge 65XL Black",
                                    "2": "44.4900",
                                    "3": "Low"
                                },
                                {
                                    "0": "52",
                                    "1": "ASUS W203MA Laptop",
                                    "2": "425.9900",
                                    "3": "High"
                                },
                                {
                                    "0": "53",
                                    "1": "AB Security cam",
                                    "2": "300.0000",
                                    "3": "High"
                                },
                                {
                                    "0": "54",
                                    "1": "Panasonic VL-SWD272 Wireless Video Intercom System",
                                    "2": "661.2500",
                                    "3": "High"
                                },
                                {
                                    "0": "55",
                                    "1": "RING Smart Video Wi-Fi Doorbell 3",
                                    "2": "398.9900",
                                    "3": "High"
                                },
                                {
                                    "0": "56",
                                    "1": "Microsoft Surface Laptop 3",
                                    "2": "1789.9900",
                                    "3": "High"
                                },
                                {
                                    "0": "57",
                                    "1": "Acer Nitro 7 Gaming Laptop",
                                    "2": "2104.0000",
                                    "3": "High"
                                },
                                {
                                    "0": "58",
                                    "1": "Cooler Master MasterFan",
                                    "2": "98.9900",
                                    "3": "Medium"
                                },
                                {
                                    "0": "59",
                                    "1": "Samsung 50TU8000 50 inch 4K Smart TV",
                                    "2": "1426.0000",
                                    "3": "High"
                                },
                                {
                                    "0": "60",
                                    "1": "Konic 55 inch 4K Ultra HD LED TV",
                                    "2": "747.5000",
                                    "3": "High"
                                },
                                {
                                    "0": "61",
                                    "1": "Apple Magic Keyboard",
                                    "2": "147.9900",
                                    "3": "Medium"
                                },
                                {
                                    "0": "62",
                                    "1": "Viper-X Drone with VR Headset",
                                    "2": "69.9900",
                                    "3": "Medium"
                                },
                                {
                                    "0": "63",
                                    "1": "Samsung C49HG90 49 inch QLED Monitor",
                                    "2": "1899.0000",
                                    "3": "High"
                                },
                                {
                                    "0": "64",
                                    "1": "Microsoft Surface Pro 7 Tablet",
                                    "2": "1598.9900",
                                    "3": "High"
                                },
                                {
                                    "0": "65",
                                    "1": "Evoluent VM4R Wired Vertical Mouse 4 right-handed",
                                    "2": "182.8500",
                                    "3": "Medium"
                                },
                                {
                                    "0": "66",
                                    "1": "Adesso iMouse E1",
                                    "2": "79.9500",
                                    "3": "Medium"
                                },
                                {
                                    "0": "67",
                                    "1": "Spigen Galaxy Note 10 tough armor case",
                                    "2": "20.0000",
                                    "3": "Low"
                                },
                                {
                                    "0": "68",
                                    "1": "Andromeda Drone with Camera",
                                    "2": "49.9900",
                                    "3": "Low"
                                },
                                {
                                    "0": "69",
                                    "1": "PowerBeats Pro True Wireless Sports Earphones",
                                    "2": "332.9900",
                                    "3": "High"
                                },
                                {
                                    "0": "70",
                                    "1": "PBX 2000mAh Power Bank 3 - Black",
                                    "2": "84.0000",
                                    "3": "Medium"
                                },
                                {
                                    "0": "71",
                                    "1": "Apple AirPods Pro Noise Cancelling True Wireless Headphones",
                                    "2": "409.0000",
                                    "3": "High"
                                },
                                {
                                    "0": "72",
                                    "1": "Sennheiser HD 4.30i Over-Ear Headphones",
                                    "2": "98.9900",
                                    "3": "Medium"
                                },
                                {
                                    "0": "73",
                                    "1": "Corsair LL Series LL120 Fan",
                                    "2": "192.9900",
                                    "3": "Medium"
                                },
                                {
                                    "0": "74",
                                    "1": "Canon Ink Cartridge PG645",
                                    "2": "33.8200",
                                    "3": "Low"
                                },
                                {
                                    "0": "75",
                                    "1": "Roidmi S3 Bluetooth Music Car Charger",
                                    "2": "53.9900",
                                    "3": "Medium"
                                },
                                {
                                    "0": "76",
                                    "1": "Belkin 10W Wireless Charging Air Vent Car Mount ",
                                    "2": "68.0000",
                                    "3": "Medium"
                                },
                                {
                                    "0": "77",
                                    "1": "Microsoft Surface Arc Mouse - Bluetooth - Ice Blue",
                                    "2": "128.8000",
                                    "3": "Medium"
                                },
                                {
                                    "0": "78",
                                    "1": "PBX Noise Cancelling Headphones",
                                    "2": "80.0000",
                                    "3": "Medium"
                                },
                                {
                                    "0": "79",
                                    "1": "PBX 21 inch Series 9 Monitor",
                                    "2": "79.9500",
                                    "3": "Medium"
                                }
                            ]
                        },
                        "text/html": [
                            "<table>",
                            "<tr><th>product_id</th><th>product_name</th><th>list_price</th><th>price_grade</th></tr>",
                            "<tr><td>1</td><td>Apple iPhone 11 64GB - Black</td><td>1299.0000</td><td>High</td></tr>",
                            "<tr><td>2</td><td>Apple iPhone 11 128GB - White</td><td>1499.0000</td><td>High</td></tr>",
                            "<tr><td>3</td><td>Titan Army N34QW 34 inch Curved UltraWide Monitor</td><td>799.0000</td><td>High</td></tr>",
                            "<tr><td>4</td><td>LG UltraGear 24GL600F-B 24 inch Full HD Monitor</td><td>348.9900</td><td>High</td></tr>",
                            "<tr><td>5</td><td>ASUS PG279Q Monitor</td><td>149.0000</td><td>Medium</td></tr>",
                            "<tr><td>6</td><td>Logitech G213 Prodigy RGB Gaming Keyboard</td><td>109.0000</td><td>Medium</td></tr>",
                            "<tr><td>7</td><td>Canon PIXMA MG2460 Inkjet MFP printer</td><td>39.0000</td><td>Low</td></tr>",
                            "<tr><td>8</td><td>Microsoft Sculpt Ergonomic Wireless Keyboard and Mouse Combo</td><td>171.3500</td><td>Medium</td></tr>",
                            "<tr><td>9</td><td>JKW Video Intercom over IP adaptor</td><td>495.0000</td><td>High</td></tr>",
                            "<tr><td>10</td><td>Intel Coffee Lake Core i9 Processor</td><td>779.0000</td><td>High</td></tr>",
                            "<tr><td>11</td><td>Horion 55 inch 4K Ultra HD LED TV</td><td>632.0000</td><td>High</td></tr>",
                            "<tr><td>12</td><td>Sony WH-1000XM3 Noise-Cancelling headphones - Black</td><td>459.0000</td><td>High</td></tr>",
                            "<tr><td>13</td><td>HyperX AMP 7.1 USB Sound Card</td><td>59.0000</td><td>Medium</td></tr>",
                            "<tr><td>14</td><td>HP LaserJet Pro M15W printer</td><td>23.2500</td><td>Low</td></tr>",
                            "<tr><td>15</td><td>Logitech G Pro X Mechanical TKL RGB Gaming Keyboard</td><td>278.9900</td><td>High</td></tr>",
                            "<tr><td>16</td><td>Canon EOS 3000D DSLR Entry-Level Camera</td><td>578.9900</td><td>High</td></tr>",
                            "<tr><td>17</td><td>MPS Intercom system</td><td>398.0000</td><td>High</td></tr>",
                            "<tr><td>18</td><td>Ugreen CM129 Audio Sound Card Adapter</td><td>28.7500</td><td>Low</td></tr>",
                            "<tr><td>19</td><td>Nikon D3500 DSLR Camera</td><td>659.0000</td><td>High</td></tr>",
                            "<tr><td>20</td><td>GoPro HERO 8 Black Action Camera 4K Video</td><td>595.0000</td><td>High</td></tr>",
                            "<tr><td>21</td><td>DJI Mavic Mini Drone</td><td>623.5000</td><td>High</td></tr>",
                            "<tr><td>22</td><td>HPR Workstation Intel 7</td><td>3744.0000</td><td>High</td></tr>",
                            "<tr><td>23</td><td>PBX 32106 NUC Mini PC Desktop Kit</td><td>350.9500</td><td>High</td></tr>",
                            "<tr><td>24</td><td>Apple iPhone 6S - Silver</td><td>999.9900</td><td>High</td></tr>",
                            "<tr><td>25</td><td>Apple iPhone SE 128GB - Black</td><td>898.9900</td><td>High</td></tr>",
                            "<tr><td>26</td><td>DJI Mavic 2 Pro Drone with Hasselblad Camera</td><td>2491.6700</td><td>High</td></tr>",
                            "<tr><td>27</td><td>Canon EF 50mm f/1.8 STM Lens for Canon Digital SLR Cameras</td><td>249.0000</td><td>Medium</td></tr>",
                            "<tr><td>28</td><td>Canon Black CLI-8 Ink Cartridge</td><td>32.0000</td><td>Low</td></tr>",
                            "<tr><td>29</td><td>APY Intercom System</td><td>350.0000</td><td>High</td></tr>",
                            "<tr><td>30</td><td>Leadtek Quadro P620 Professional Workstation Graphics Card</td><td>349.9400</td><td>High</td></tr>",
                            "<tr><td>31</td><td>Logitech Z333 2.1 Multimedia Speaker System</td><td>159.0000</td><td>Medium</td></tr>",
                            "<tr><td>32</td><td>Blue Yeti Microphone</td><td>258.9900</td><td>High</td></tr>",
                            "<tr><td>33</td><td>Edifier Multimedia 2.0 system PC Speaker</td><td>22.9400</td><td>Low</td></tr>",
                            "<tr><td>34</td><td>Samsung Galaxy Note10 - Aura Black</td><td>1499.0000</td><td>High</td></tr>",
                            "<tr><td>35</td><td>PBX Smart Watch 4</td><td>69.0000</td><td>Medium</td></tr>",
                            "<tr><td>36</td><td>Leadtek Quadro P1000 Full Performance Professional Graphics Card</td><td>688.8500</td><td>High</td></tr>",
                            "<tr><td>37</td><td>Leadtek Quadro P400 Professional Workstation Graphics Card</td><td>240.3500</td><td>Medium</td></tr>",
                            "<tr><td>38</td><td>Apple Watch Series 3 - Grey</td><td>339.5000</td><td>High</td></tr>",
                            "<tr><td>39</td><td>Spigen iPhone 11 Clear Case</td><td>23.0000</td><td>Low</td></tr>",
                            "<tr><td>40</td><td>Samsung 1TB Solid State Drive SSD</td><td>194.3500</td><td>Medium</td></tr>",
                            "<tr><td>41</td><td>Crucial MX500 500GB SSD</td><td>132.2500</td><td>Medium</td></tr>",
                            "<tr><td>42</td><td>PBX Everyday Home PC 43300</td><td>1033.0000</td><td>High</td></tr>",
                            "<tr><td>43</td><td>Samsung Galaxy S20 Smart Cover</td><td>85.9500</td><td>Medium</td></tr>",
                            "<tr><td>44</td><td>ASUS VG279Q 27 inch Full HD IPS Gaming Monitor</td><td>578.9900</td><td>High</td></tr>",
                            "<tr><td>45</td><td>Aten UC3020 CamLive HDMI to USB-C Video Capture</td><td>251.0000</td><td>High</td></tr>",
                            "<tr><td>46</td><td>Cooler Master Hyper 212</td><td>74.7500</td><td>Medium</td></tr>",
                            "<tr><td>47</td><td>Canon EOS M50 Mirrorless Camera</td><td>989.0000</td><td>High</td></tr>",
                            "<tr><td>48</td><td>Canon EOS 80D DSLR Camera Single Lens Kit</td><td>1499.0000</td><td>High</td></tr>",
                            "<tr><td>49</td><td>GoPro HERO 7 Silver Action Camera 4K Video</td><td>325.6200</td><td>High</td></tr>",
                            "<tr><td>50</td><td>Comet Drone with Camera</td><td>99.0000</td><td>Medium</td></tr>",
                            "<tr><td>51</td><td>HP Ink Cartridge 65XL Black</td><td>44.4900</td><td>Low</td></tr>",
                            "<tr><td>52</td><td>ASUS W203MA Laptop</td><td>425.9900</td><td>High</td></tr>",
                            "<tr><td>53</td><td>AB Security cam</td><td>300.0000</td><td>High</td></tr>",
                            "<tr><td>54</td><td>Panasonic VL-SWD272 Wireless Video Intercom System</td><td>661.2500</td><td>High</td></tr>",
                            "<tr><td>55</td><td>RING Smart Video Wi-Fi Doorbell 3</td><td>398.9900</td><td>High</td></tr>",
                            "<tr><td>56</td><td>Microsoft Surface Laptop 3</td><td>1789.9900</td><td>High</td></tr>",
                            "<tr><td>57</td><td>Acer Nitro 7 Gaming Laptop</td><td>2104.0000</td><td>High</td></tr>",
                            "<tr><td>58</td><td>Cooler Master MasterFan</td><td>98.9900</td><td>Medium</td></tr>",
                            "<tr><td>59</td><td>Samsung 50TU8000 50 inch 4K Smart TV</td><td>1426.0000</td><td>High</td></tr>",
                            "<tr><td>60</td><td>Konic 55 inch 4K Ultra HD LED TV</td><td>747.5000</td><td>High</td></tr>",
                            "<tr><td>61</td><td>Apple Magic Keyboard</td><td>147.9900</td><td>Medium</td></tr>",
                            "<tr><td>62</td><td>Viper-X Drone with VR Headset</td><td>69.9900</td><td>Medium</td></tr>",
                            "<tr><td>63</td><td>Samsung C49HG90 49 inch QLED Monitor</td><td>1899.0000</td><td>High</td></tr>",
                            "<tr><td>64</td><td>Microsoft Surface Pro 7 Tablet</td><td>1598.9900</td><td>High</td></tr>",
                            "<tr><td>65</td><td>Evoluent VM4R Wired Vertical Mouse 4 right-handed</td><td>182.8500</td><td>Medium</td></tr>",
                            "<tr><td>66</td><td>Adesso iMouse E1</td><td>79.9500</td><td>Medium</td></tr>",
                            "<tr><td>67</td><td>Spigen Galaxy Note 10 tough armor case</td><td>20.0000</td><td>Low</td></tr>",
                            "<tr><td>68</td><td>Andromeda Drone with Camera</td><td>49.9900</td><td>Low</td></tr>",
                            "<tr><td>69</td><td>PowerBeats Pro True Wireless Sports Earphones</td><td>332.9900</td><td>High</td></tr>",
                            "<tr><td>70</td><td>PBX 2000mAh Power Bank 3 - Black</td><td>84.0000</td><td>Medium</td></tr>",
                            "<tr><td>71</td><td>Apple AirPods Pro Noise Cancelling True Wireless Headphones</td><td>409.0000</td><td>High</td></tr>",
                            "<tr><td>72</td><td>Sennheiser HD 4.30i Over-Ear Headphones</td><td>98.9900</td><td>Medium</td></tr>",
                            "<tr><td>73</td><td>Corsair LL Series LL120 Fan</td><td>192.9900</td><td>Medium</td></tr>",
                            "<tr><td>74</td><td>Canon Ink Cartridge PG645</td><td>33.8200</td><td>Low</td></tr>",
                            "<tr><td>75</td><td>Roidmi S3 Bluetooth Music Car Charger</td><td>53.9900</td><td>Medium</td></tr>",
                            "<tr><td>76</td><td>Belkin 10W Wireless Charging Air Vent Car Mount </td><td>68.0000</td><td>Medium</td></tr>",
                            "<tr><td>77</td><td>Microsoft Surface Arc Mouse - Bluetooth - Ice Blue</td><td>128.8000</td><td>Medium</td></tr>",
                            "<tr><td>78</td><td>PBX Noise Cancelling Headphones</td><td>80.0000</td><td>Medium</td></tr>",
                            "<tr><td>79</td><td>PBX 21 inch Series 9 Monitor</td><td>79.9500</td><td>Medium</td></tr>",
                            "</table>"
                        ]
                    }
                }
            ],
            "execution_count": 6
        },
        {
            "cell_type": "markdown",
            "source": [
                "### **Third Challenge** \n",
                "\n",
                "Challenge: Select the following columns from the oes.orders table: \n",
                "\n",
                "• order\\_id \n",
                "\n",
                "• order\\_date \n",
                "\n",
                "• shipped\\_date \n",
                "\n",
                "Include a CASE expression called shipping\\_status which determines the difference in days between the order\\_date and the shipped\\_date. \n",
                "\n",
                "• When this difference is less than or equal to 7 then give the string value ‘Shipped within one week’. \n",
                "\n",
                "• If the difference is greater than 7 days, then give the string ‘Shipped over a week later’. \n",
                "\n",
                "• If shipped\\_date is null then give the string ‘Not yet shipped’."
            ],
            "metadata": {
                "language": "sql",
                "azdata_cell_guid": "294fea49-d86a-40e8-acd2-5d894d2adcaa"
            },
            "attachments": {}
        },
        {
            "cell_type": "code",
            "source": [
                "SELECT order_id, order_date, shipped_date, \n",
                "CASE \n",
                "    WHEN DATEDIFF(day, order_date, shipped_date) <= 7 THEN 'Shipped within one week'\n",
                "    WHEN DATEDIFF(day, order_date, shipped_date) > 7 THEN 'Shipped over a week later'\n",
                "    ELSE 'Not yet shipped'\n",
                "END AS shipping_status\n",
                "FROM oes.orders;"
            ],
            "metadata": {
                "language": "sql",
                "azdata_cell_guid": "07dbe335-016c-4f95-961a-01fc96417cae"
            },
            "outputs": [
                {
                    "output_type": "display_data",
                    "data": {
                        "text/html": "(830 rows affected)"
                    },
                    "metadata": {}
                },
                {
                    "output_type": "display_data",
                    "data": {
                        "text/html": "Total execution time: 00:00:00.015"
                    },
                    "metadata": {}
                },
                {
                    "output_type": "execute_result",
                    "metadata": {},
                    "execution_count": 7,
                    "data": {
                        "application/vnd.dataresource+json": {
                            "schema": {
                                "fields": [
                                    {
                                        "name": "order_id"
                                    },
                                    {
                                        "name": "order_date"
                                    },
                                    {
                                        "name": "shipped_date"
                                    },
                                    {
                                        "name": "shipping_status"
                                    }
                                ]
                            },
                            "data": [
                                {
                                    "0": "10248",
                                    "1": "2018-07-14",
                                    "2": "2018-07-16",
                                    "3": "Shipped within one week"
                                },
                                {
                                    "0": "10249",
                                    "1": "2018-07-05",
                                    "2": "2018-07-10",
                                    "3": "Shipped within one week"
                                },
                                {
                                    "0": "10250",
                                    "1": "2018-07-08",
                                    "2": "2018-07-12",
                                    "3": "Shipped within one week"
                                },
                                {
                                    "0": "10251",
                                    "1": "2018-07-08",
                                    "2": "2018-07-15",
                                    "3": "Shipped within one week"
                                },
                                {
                                    "0": "10252",
                                    "1": "2018-07-09",
                                    "2": "2018-07-11",
                                    "3": "Shipped within one week"
                                },
                                {
                                    "0": "10253",
                                    "1": "2018-07-10",
                                    "2": "2018-07-16",
                                    "3": "Shipped within one week"
                                },
                                {
                                    "0": "10254",
                                    "1": "2018-07-11",
                                    "2": "2018-07-23",
                                    "3": "Shipped over a week later"
                                },
                                {
                                    "0": "10255",
                                    "1": "2018-07-12",
                                    "2": "2018-07-15",
                                    "3": "Shipped within one week"
                                },
                                {
                                    "0": "10256",
                                    "1": "2018-07-15",
                                    "2": "2018-07-17",
                                    "3": "Shipped within one week"
                                },
                                {
                                    "0": "10257",
                                    "1": "2018-07-16",
                                    "2": "2018-07-22",
                                    "3": "Shipped within one week"
                                },
                                {
                                    "0": "10258",
                                    "1": "2018-07-17",
                                    "2": "2018-07-23",
                                    "3": "Shipped within one week"
                                },
                                {
                                    "0": "10259",
                                    "1": "2018-07-18",
                                    "2": "2018-07-25",
                                    "3": "Shipped within one week"
                                },
                                {
                                    "0": "10260",
                                    "1": "2018-07-19",
                                    "2": "2018-07-29",
                                    "3": "Shipped over a week later"
                                },
                                {
                                    "0": "10261",
                                    "1": "2018-07-19",
                                    "2": "2018-07-30",
                                    "3": "Shipped over a week later"
                                },
                                {
                                    "0": "10262",
                                    "1": "2018-07-22",
                                    "2": "2018-07-25",
                                    "3": "Shipped within one week"
                                },
                                {
                                    "0": "10263",
                                    "1": "2018-07-23",
                                    "2": "2018-07-31",
                                    "3": "Shipped over a week later"
                                },
                                {
                                    "0": "10264",
                                    "1": "2018-07-24",
                                    "2": "2018-08-23",
                                    "3": "Shipped over a week later"
                                },
                                {
                                    "0": "10265",
                                    "1": "2018-07-25",
                                    "2": "2018-08-12",
                                    "3": "Shipped over a week later"
                                },
                                {
                                    "0": "10266",
                                    "1": "2018-07-26",
                                    "2": "2018-07-31",
                                    "3": "Shipped within one week"
                                },
                                {
                                    "0": "10267",
                                    "1": "2018-07-29",
                                    "2": "2018-08-06",
                                    "3": "Shipped over a week later"
                                },
                                {
                                    "0": "10268",
                                    "1": "2018-07-30",
                                    "2": "2018-08-02",
                                    "3": "Shipped within one week"
                                },
                                {
                                    "0": "10269",
                                    "1": "2018-07-31",
                                    "2": "2018-08-09",
                                    "3": "Shipped over a week later"
                                },
                                {
                                    "0": "10270",
                                    "1": "2018-08-01",
                                    "2": "2018-08-02",
                                    "3": "Shipped within one week"
                                },
                                {
                                    "0": "10271",
                                    "1": "2018-08-01",
                                    "2": "2018-08-30",
                                    "3": "Shipped over a week later"
                                },
                                {
                                    "0": "10272",
                                    "1": "2018-08-02",
                                    "2": "2018-08-06",
                                    "3": "Shipped within one week"
                                },
                                {
                                    "0": "10273",
                                    "1": "2018-08-05",
                                    "2": "2018-08-12",
                                    "3": "Shipped within one week"
                                },
                                {
                                    "0": "10274",
                                    "1": "2018-08-06",
                                    "2": "2018-08-16",
                                    "3": "Shipped over a week later"
                                },
                                {
                                    "0": "10275",
                                    "1": "2018-08-07",
                                    "2": "2018-08-09",
                                    "3": "Shipped within one week"
                                },
                                {
                                    "0": "10276",
                                    "1": "2018-08-08",
                                    "2": "2018-08-14",
                                    "3": "Shipped within one week"
                                },
                                {
                                    "0": "10277",
                                    "1": "2018-08-09",
                                    "2": "2018-08-13",
                                    "3": "Shipped within one week"
                                },
                                {
                                    "0": "10278",
                                    "1": "2018-08-12",
                                    "2": "2018-08-16",
                                    "3": "Shipped within one week"
                                },
                                {
                                    "0": "10279",
                                    "1": "2018-08-13",
                                    "2": "2018-08-16",
                                    "3": "Shipped within one week"
                                },
                                {
                                    "0": "10280",
                                    "1": "2018-08-14",
                                    "2": "2018-09-12",
                                    "3": "Shipped over a week later"
                                },
                                {
                                    "0": "10281",
                                    "1": "2018-08-14",
                                    "2": "2018-08-21",
                                    "3": "Shipped within one week"
                                },
                                {
                                    "0": "10282",
                                    "1": "2018-08-15",
                                    "2": "2018-08-21",
                                    "3": "Shipped within one week"
                                },
                                {
                                    "0": "10283",
                                    "1": "2018-08-16",
                                    "2": "2018-08-23",
                                    "3": "Shipped within one week"
                                },
                                {
                                    "0": "10284",
                                    "1": "2018-08-19",
                                    "2": "2018-08-27",
                                    "3": "Shipped over a week later"
                                },
                                {
                                    "0": "10285",
                                    "1": "2018-08-20",
                                    "2": "2018-08-26",
                                    "3": "Shipped within one week"
                                },
                                {
                                    "0": "10286",
                                    "1": "2018-08-21",
                                    "2": "2018-08-30",
                                    "3": "Shipped over a week later"
                                },
                                {
                                    "0": "10287",
                                    "1": "2018-08-22",
                                    "2": "2018-08-28",
                                    "3": "Shipped within one week"
                                },
                                {
                                    "0": "10288",
                                    "1": "2018-08-23",
                                    "2": "2018-09-03",
                                    "3": "Shipped over a week later"
                                },
                                {
                                    "0": "10289",
                                    "1": "2018-08-26",
                                    "2": "2018-08-28",
                                    "3": "Shipped within one week"
                                },
                                {
                                    "0": "10290",
                                    "1": "2018-08-27",
                                    "2": "2018-09-03",
                                    "3": "Shipped within one week"
                                },
                                {
                                    "0": "10291",
                                    "1": "2018-08-27",
                                    "2": "2018-09-04",
                                    "3": "Shipped over a week later"
                                },
                                {
                                    "0": "10292",
                                    "1": "2018-08-28",
                                    "2": "2018-09-02",
                                    "3": "Shipped within one week"
                                },
                                {
                                    "0": "10293",
                                    "1": "2018-08-29",
                                    "2": "2018-09-11",
                                    "3": "Shipped over a week later"
                                },
                                {
                                    "0": "10294",
                                    "1": "2018-08-30",
                                    "2": "2018-09-05",
                                    "3": "Shipped within one week"
                                },
                                {
                                    "0": "10295",
                                    "1": "2018-09-02",
                                    "2": "2018-09-10",
                                    "3": "Shipped over a week later"
                                },
                                {
                                    "0": "10296",
                                    "1": "2018-09-03",
                                    "2": "2018-09-11",
                                    "3": "Shipped over a week later"
                                },
                                {
                                    "0": "10297",
                                    "1": "2018-09-04",
                                    "2": "2018-09-10",
                                    "3": "Shipped within one week"
                                },
                                {
                                    "0": "10298",
                                    "1": "2018-09-05",
                                    "2": "2018-09-11",
                                    "3": "Shipped within one week"
                                },
                                {
                                    "0": "10299",
                                    "1": "2018-09-06",
                                    "2": "2018-09-13",
                                    "3": "Shipped within one week"
                                },
                                {
                                    "0": "10300",
                                    "1": "2018-09-09",
                                    "2": "2018-09-18",
                                    "3": "Shipped over a week later"
                                },
                                {
                                    "0": "10301",
                                    "1": "2018-09-09",
                                    "2": "2018-09-17",
                                    "3": "Shipped over a week later"
                                },
                                {
                                    "0": "10302",
                                    "1": "2018-09-10",
                                    "2": "2018-10-09",
                                    "3": "Shipped over a week later"
                                },
                                {
                                    "0": "10303",
                                    "1": "2018-09-11",
                                    "2": "2018-09-18",
                                    "3": "Shipped within one week"
                                },
                                {
                                    "0": "10304",
                                    "1": "2018-09-12",
                                    "2": "2018-09-17",
                                    "3": "Shipped within one week"
                                },
                                {
                                    "0": "10305",
                                    "1": "2018-09-13",
                                    "2": "2018-10-09",
                                    "3": "Shipped over a week later"
                                },
                                {
                                    "0": "10306",
                                    "1": "2018-09-16",
                                    "2": "2018-09-23",
                                    "3": "Shipped within one week"
                                },
                                {
                                    "0": "10307",
                                    "1": "2018-09-17",
                                    "2": "2018-09-25",
                                    "3": "Shipped over a week later"
                                },
                                {
                                    "0": "10308",
                                    "1": "2018-09-18",
                                    "2": "2018-09-24",
                                    "3": "Shipped within one week"
                                },
                                {
                                    "0": "10309",
                                    "1": "2018-09-19",
                                    "2": "2018-10-23",
                                    "3": "Shipped over a week later"
                                },
                                {
                                    "0": "10310",
                                    "1": "2018-09-20",
                                    "2": "2018-09-27",
                                    "3": "Shipped within one week"
                                },
                                {
                                    "0": "10311",
                                    "1": "2018-09-20",
                                    "2": "2018-09-26",
                                    "3": "Shipped within one week"
                                },
                                {
                                    "0": "10312",
                                    "1": "2018-09-23",
                                    "2": "2018-10-03",
                                    "3": "Shipped over a week later"
                                },
                                {
                                    "0": "10313",
                                    "1": "2018-09-24",
                                    "2": "2018-10-04",
                                    "3": "Shipped over a week later"
                                },
                                {
                                    "0": "10314",
                                    "1": "2018-09-25",
                                    "2": "2018-10-04",
                                    "3": "Shipped over a week later"
                                },
                                {
                                    "0": "10315",
                                    "1": "2018-09-26",
                                    "2": "2018-10-03",
                                    "3": "Shipped within one week"
                                },
                                {
                                    "0": "10316",
                                    "1": "2018-09-27",
                                    "2": "2018-10-08",
                                    "3": "Shipped over a week later"
                                },
                                {
                                    "0": "10317",
                                    "1": "2018-09-30",
                                    "2": "2018-10-10",
                                    "3": "Shipped over a week later"
                                },
                                {
                                    "0": "10318",
                                    "1": "2018-10-01",
                                    "2": "2018-10-04",
                                    "3": "Shipped within one week"
                                },
                                {
                                    "0": "10319",
                                    "1": "2018-10-02",
                                    "2": "2018-10-11",
                                    "3": "Shipped over a week later"
                                },
                                {
                                    "0": "10320",
                                    "1": "2018-10-03",
                                    "2": "2018-10-18",
                                    "3": "Shipped over a week later"
                                },
                                {
                                    "0": "10321",
                                    "1": "2018-10-03",
                                    "2": "2018-10-11",
                                    "3": "Shipped over a week later"
                                },
                                {
                                    "0": "10322",
                                    "1": "2018-10-04",
                                    "2": "2018-10-23",
                                    "3": "Shipped over a week later"
                                },
                                {
                                    "0": "10323",
                                    "1": "2018-10-07",
                                    "2": "2018-10-14",
                                    "3": "Shipped within one week"
                                },
                                {
                                    "0": "10324",
                                    "1": "2018-10-08",
                                    "2": "2018-10-10",
                                    "3": "Shipped within one week"
                                },
                                {
                                    "0": "10325",
                                    "1": "2018-10-09",
                                    "2": "2018-10-14",
                                    "3": "Shipped within one week"
                                },
                                {
                                    "0": "10326",
                                    "1": "2018-10-10",
                                    "2": "2018-10-14",
                                    "3": "Shipped within one week"
                                },
                                {
                                    "0": "10327",
                                    "1": "2018-10-11",
                                    "2": "2018-10-14",
                                    "3": "Shipped within one week"
                                },
                                {
                                    "0": "10328",
                                    "1": "2018-10-14",
                                    "2": "2018-10-17",
                                    "3": "Shipped within one week"
                                },
                                {
                                    "0": "10329",
                                    "1": "2018-10-15",
                                    "2": "2018-10-23",
                                    "3": "Shipped over a week later"
                                },
                                {
                                    "0": "10330",
                                    "1": "2018-10-16",
                                    "2": "2018-10-28",
                                    "3": "Shipped over a week later"
                                },
                                {
                                    "0": "10331",
                                    "1": "2018-10-16",
                                    "2": "2018-10-21",
                                    "3": "Shipped within one week"
                                },
                                {
                                    "0": "10332",
                                    "1": "2018-10-17",
                                    "2": "2018-10-21",
                                    "3": "Shipped within one week"
                                },
                                {
                                    "0": "10333",
                                    "1": "2018-10-18",
                                    "2": "2018-10-25",
                                    "3": "Shipped within one week"
                                },
                                {
                                    "0": "10334",
                                    "1": "2018-10-21",
                                    "2": "2018-10-28",
                                    "3": "Shipped within one week"
                                },
                                {
                                    "0": "10335",
                                    "1": "2018-10-22",
                                    "2": "2018-10-24",
                                    "3": "Shipped within one week"
                                },
                                {
                                    "0": "10336",
                                    "1": "2018-10-23",
                                    "2": "2018-10-25",
                                    "3": "Shipped within one week"
                                },
                                {
                                    "0": "10337",
                                    "1": "2018-10-24",
                                    "2": "2018-10-29",
                                    "3": "Shipped within one week"
                                },
                                {
                                    "0": "10338",
                                    "1": "2018-10-25",
                                    "2": "2018-10-29",
                                    "3": "Shipped within one week"
                                },
                                {
                                    "0": "10339",
                                    "1": "2018-10-28",
                                    "2": "2018-11-04",
                                    "3": "Shipped within one week"
                                },
                                {
                                    "0": "10340",
                                    "1": "2018-10-29",
                                    "2": "2018-11-08",
                                    "3": "Shipped over a week later"
                                },
                                {
                                    "0": "10341",
                                    "1": "2018-10-29",
                                    "2": "2018-11-05",
                                    "3": "Shipped within one week"
                                },
                                {
                                    "0": "10342",
                                    "1": "2018-10-30",
                                    "2": "2018-11-04",
                                    "3": "Shipped within one week"
                                },
                                {
                                    "0": "10343",
                                    "1": "2018-10-31",
                                    "2": "2018-11-06",
                                    "3": "Shipped within one week"
                                },
                                {
                                    "0": "10344",
                                    "1": "2018-11-01",
                                    "2": "2018-11-05",
                                    "3": "Shipped within one week"
                                },
                                {
                                    "0": "10345",
                                    "1": "2018-11-04",
                                    "2": "2018-11-11",
                                    "3": "Shipped within one week"
                                },
                                {
                                    "0": "10346",
                                    "1": "2018-11-05",
                                    "2": "2018-11-08",
                                    "3": "Shipped within one week"
                                },
                                {
                                    "0": "10347",
                                    "1": "2018-11-06",
                                    "2": "2018-11-08",
                                    "3": "Shipped within one week"
                                },
                                {
                                    "0": "10348",
                                    "1": "2018-11-07",
                                    "2": "2018-11-15",
                                    "3": "Shipped over a week later"
                                },
                                {
                                    "0": "10349",
                                    "1": "2018-11-08",
                                    "2": "2018-11-15",
                                    "3": "Shipped within one week"
                                },
                                {
                                    "0": "10350",
                                    "1": "2018-11-11",
                                    "2": "2018-12-03",
                                    "3": "Shipped over a week later"
                                },
                                {
                                    "0": "10351",
                                    "1": "2018-11-11",
                                    "2": "2018-11-20",
                                    "3": "Shipped over a week later"
                                },
                                {
                                    "0": "10352",
                                    "1": "2018-11-12",
                                    "2": "2018-11-18",
                                    "3": "Shipped within one week"
                                },
                                {
                                    "0": "10353",
                                    "1": "2018-11-13",
                                    "2": "2018-11-25",
                                    "3": "Shipped over a week later"
                                },
                                {
                                    "0": "10354",
                                    "1": "2018-11-14",
                                    "2": "2018-11-20",
                                    "3": "Shipped within one week"
                                },
                                {
                                    "0": "10355",
                                    "1": "2018-11-15",
                                    "2": "2018-11-20",
                                    "3": "Shipped within one week"
                                },
                                {
                                    "0": "10356",
                                    "1": "2018-11-18",
                                    "2": "2018-11-27",
                                    "3": "Shipped over a week later"
                                },
                                {
                                    "0": "10357",
                                    "1": "2018-11-19",
                                    "2": "2018-12-02",
                                    "3": "Shipped over a week later"
                                },
                                {
                                    "0": "10358",
                                    "1": "2018-11-20",
                                    "2": "2018-11-27",
                                    "3": "Shipped within one week"
                                },
                                {
                                    "0": "10359",
                                    "1": "2018-11-21",
                                    "2": "2018-11-26",
                                    "3": "Shipped within one week"
                                },
                                {
                                    "0": "10360",
                                    "1": "2018-11-22",
                                    "2": "2018-12-02",
                                    "3": "Shipped over a week later"
                                },
                                {
                                    "0": "10361",
                                    "1": "2018-11-22",
                                    "2": "2018-12-03",
                                    "3": "Shipped over a week later"
                                },
                                {
                                    "0": "10362",
                                    "1": "2018-11-25",
                                    "2": "2018-11-28",
                                    "3": "Shipped within one week"
                                },
                                {
                                    "0": "10363",
                                    "1": "2018-11-26",
                                    "2": "2018-12-04",
                                    "3": "Shipped over a week later"
                                },
                                {
                                    "0": "10364",
                                    "1": "2018-11-26",
                                    "2": "2018-12-04",
                                    "3": "Shipped over a week later"
                                },
                                {
                                    "0": "10365",
                                    "1": "2018-11-27",
                                    "2": "2018-12-02",
                                    "3": "Shipped within one week"
                                },
                                {
                                    "0": "10366",
                                    "1": "2018-11-28",
                                    "2": "2018-12-30",
                                    "3": "Shipped over a week later"
                                },
                                {
                                    "0": "10367",
                                    "1": "2018-11-28",
                                    "2": "2018-12-02",
                                    "3": "Shipped within one week"
                                },
                                {
                                    "0": "10368",
                                    "1": "2018-11-29",
                                    "2": "2018-12-02",
                                    "3": "Shipped within one week"
                                },
                                {
                                    "0": "10369",
                                    "1": "2018-12-02",
                                    "2": "2018-12-09",
                                    "3": "Shipped within one week"
                                },
                                {
                                    "0": "10370",
                                    "1": "2018-12-03",
                                    "2": "2018-12-27",
                                    "3": "Shipped over a week later"
                                },
                                {
                                    "0": "10371",
                                    "1": "2018-12-03",
                                    "2": "2018-12-24",
                                    "3": "Shipped over a week later"
                                },
                                {
                                    "0": "10372",
                                    "1": "2018-12-04",
                                    "2": "2018-12-09",
                                    "3": "Shipped within one week"
                                },
                                {
                                    "0": "10373",
                                    "1": "2018-12-05",
                                    "2": "2018-12-11",
                                    "3": "Shipped within one week"
                                },
                                {
                                    "0": "10374",
                                    "1": "2018-12-05",
                                    "2": "2018-12-09",
                                    "3": "Shipped within one week"
                                },
                                {
                                    "0": "10375",
                                    "1": "2018-12-06",
                                    "2": "2018-12-09",
                                    "3": "Shipped within one week"
                                },
                                {
                                    "0": "10376",
                                    "1": "2018-12-09",
                                    "2": "2018-12-13",
                                    "3": "Shipped within one week"
                                },
                                {
                                    "0": "10377",
                                    "1": "2018-12-09",
                                    "2": "2018-12-13",
                                    "3": "Shipped within one week"
                                },
                                {
                                    "0": "10378",
                                    "1": "2018-12-10",
                                    "2": "2018-12-19",
                                    "3": "Shipped over a week later"
                                },
                                {
                                    "0": "10379",
                                    "1": "2018-12-11",
                                    "2": "2018-12-13",
                                    "3": "Shipped within one week"
                                },
                                {
                                    "0": "10380",
                                    "1": "2018-12-12",
                                    "2": "2019-01-16",
                                    "3": "Shipped over a week later"
                                },
                                {
                                    "0": "10381",
                                    "1": "2018-12-12",
                                    "2": "2018-12-13",
                                    "3": "Shipped within one week"
                                },
                                {
                                    "0": "10382",
                                    "1": "2018-12-13",
                                    "2": "2018-12-16",
                                    "3": "Shipped within one week"
                                },
                                {
                                    "0": "10383",
                                    "1": "2018-12-16",
                                    "2": "2018-12-18",
                                    "3": "Shipped within one week"
                                },
                                {
                                    "0": "10384",
                                    "1": "2018-12-16",
                                    "2": "2018-12-20",
                                    "3": "Shipped within one week"
                                },
                                {
                                    "0": "10385",
                                    "1": "2018-12-17",
                                    "2": "2018-12-23",
                                    "3": "Shipped within one week"
                                },
                                {
                                    "0": "10386",
                                    "1": "2018-12-18",
                                    "2": "2018-12-25",
                                    "3": "Shipped within one week"
                                },
                                {
                                    "0": "10387",
                                    "1": "2018-12-18",
                                    "2": "2018-12-20",
                                    "3": "Shipped within one week"
                                },
                                {
                                    "0": "10388",
                                    "1": "2018-12-19",
                                    "2": "2018-12-20",
                                    "3": "Shipped within one week"
                                },
                                {
                                    "0": "10389",
                                    "1": "2018-12-20",
                                    "2": "2018-12-24",
                                    "3": "Shipped within one week"
                                },
                                {
                                    "0": "10390",
                                    "1": "2018-12-23",
                                    "2": "2018-12-26",
                                    "3": "Shipped within one week"
                                },
                                {
                                    "0": "10391",
                                    "1": "2018-12-23",
                                    "2": "2018-12-31",
                                    "3": "Shipped over a week later"
                                },
                                {
                                    "0": "10392",
                                    "1": "2018-12-24",
                                    "2": "2019-01-01",
                                    "3": "Shipped over a week later"
                                },
                                {
                                    "0": "10393",
                                    "1": "2018-12-25",
                                    "2": "2019-01-03",
                                    "3": "Shipped over a week later"
                                },
                                {
                                    "0": "10394",
                                    "1": "2018-12-25",
                                    "2": "2019-01-03",
                                    "3": "Shipped over a week later"
                                },
                                {
                                    "0": "10395",
                                    "1": "2018-12-26",
                                    "2": "2019-01-03",
                                    "3": "Shipped over a week later"
                                },
                                {
                                    "0": "10396",
                                    "1": "2018-12-27",
                                    "2": "2019-01-06",
                                    "3": "Shipped over a week later"
                                },
                                {
                                    "0": "10397",
                                    "1": "2018-12-27",
                                    "2": "2019-01-02",
                                    "3": "Shipped within one week"
                                },
                                {
                                    "0": "10398",
                                    "1": "2018-12-30",
                                    "2": "2019-01-09",
                                    "3": "Shipped over a week later"
                                },
                                {
                                    "0": "10399",
                                    "1": "2018-12-31",
                                    "2": "2019-01-08",
                                    "3": "Shipped over a week later"
                                },
                                {
                                    "0": "10400",
                                    "1": "2019-01-01",
                                    "2": "2019-01-16",
                                    "3": "Shipped over a week later"
                                },
                                {
                                    "0": "10401",
                                    "1": "2019-01-01",
                                    "2": "2019-01-10",
                                    "3": "Shipped over a week later"
                                },
                                {
                                    "0": "10402",
                                    "1": "2019-01-02",
                                    "2": "2019-01-10",
                                    "3": "Shipped over a week later"
                                },
                                {
                                    "0": "10403",
                                    "1": "2019-01-03",
                                    "2": "2019-01-09",
                                    "3": "Shipped within one week"
                                },
                                {
                                    "0": "10404",
                                    "1": "2019-01-03",
                                    "2": "2019-01-08",
                                    "3": "Shipped within one week"
                                },
                                {
                                    "0": "10405",
                                    "1": "2019-01-06",
                                    "2": "2019-01-22",
                                    "3": "Shipped over a week later"
                                },
                                {
                                    "0": "10406",
                                    "1": "2019-01-07",
                                    "2": "2019-01-13",
                                    "3": "Shipped within one week"
                                },
                                {
                                    "0": "10407",
                                    "1": "2019-01-07",
                                    "2": "2019-01-30",
                                    "3": "Shipped over a week later"
                                },
                                {
                                    "0": "10408",
                                    "1": "2019-01-08",
                                    "2": "2019-01-14",
                                    "3": "Shipped within one week"
                                },
                                {
                                    "0": "10409",
                                    "1": "2019-01-09",
                                    "2": "2019-01-14",
                                    "3": "Shipped within one week"
                                },
                                {
                                    "0": "10410",
                                    "1": "2019-01-10",
                                    "2": "2019-01-15",
                                    "3": "Shipped within one week"
                                },
                                {
                                    "0": "10411",
                                    "1": "2019-01-10",
                                    "2": "2019-01-21",
                                    "3": "Shipped over a week later"
                                },
                                {
                                    "0": "10412",
                                    "1": "2019-01-13",
                                    "2": "2019-01-15",
                                    "3": "Shipped within one week"
                                },
                                {
                                    "0": "10413",
                                    "1": "2019-01-14",
                                    "2": "2019-01-16",
                                    "3": "Shipped within one week"
                                },
                                {
                                    "0": "10414",
                                    "1": "2019-01-14",
                                    "2": "2019-01-17",
                                    "3": "Shipped within one week"
                                },
                                {
                                    "0": "10415",
                                    "1": "2019-01-15",
                                    "2": "2019-01-24",
                                    "3": "Shipped over a week later"
                                },
                                {
                                    "0": "10416",
                                    "1": "2019-01-16",
                                    "2": "2019-01-27",
                                    "3": "Shipped over a week later"
                                },
                                {
                                    "0": "10417",
                                    "1": "2019-01-16",
                                    "2": "2019-01-28",
                                    "3": "Shipped over a week later"
                                },
                                {
                                    "0": "10418",
                                    "1": "2019-01-17",
                                    "2": "2019-01-24",
                                    "3": "Shipped within one week"
                                },
                                {
                                    "0": "10419",
                                    "1": "2019-01-20",
                                    "2": "2019-01-30",
                                    "3": "Shipped over a week later"
                                },
                                {
                                    "0": "10420",
                                    "1": "2019-01-21",
                                    "2": "2019-01-27",
                                    "3": "Shipped within one week"
                                },
                                {
                                    "0": "10421",
                                    "1": "2019-01-21",
                                    "2": "2019-01-27",
                                    "3": "Shipped within one week"
                                },
                                {
                                    "0": "10422",
                                    "1": "2019-01-22",
                                    "2": "2019-01-31",
                                    "3": "Shipped over a week later"
                                },
                                {
                                    "0": "10423",
                                    "1": "2019-01-23",
                                    "2": "2019-02-24",
                                    "3": "Shipped over a week later"
                                },
                                {
                                    "0": "10424",
                                    "1": "2019-01-23",
                                    "2": "2019-01-27",
                                    "3": "Shipped within one week"
                                },
                                {
                                    "0": "10425",
                                    "1": "2019-01-24",
                                    "2": "2019-02-14",
                                    "3": "Shipped over a week later"
                                },
                                {
                                    "0": "10426",
                                    "1": "2019-01-27",
                                    "2": "2019-02-06",
                                    "3": "Shipped over a week later"
                                },
                                {
                                    "0": "10427",
                                    "1": "2019-01-27",
                                    "2": "2019-03-03",
                                    "3": "Shipped over a week later"
                                },
                                {
                                    "0": "10428",
                                    "1": "2019-01-28",
                                    "2": "2019-02-04",
                                    "3": "Shipped within one week"
                                },
                                {
                                    "0": "10429",
                                    "1": "2019-01-29",
                                    "2": "2019-02-07",
                                    "3": "Shipped over a week later"
                                },
                                {
                                    "0": "10430",
                                    "1": "2019-01-30",
                                    "2": "2019-02-03",
                                    "3": "Shipped within one week"
                                },
                                {
                                    "0": "10431",
                                    "1": "2019-01-30",
                                    "2": "2019-02-07",
                                    "3": "Shipped over a week later"
                                },
                                {
                                    "0": "10432",
                                    "1": "2019-01-31",
                                    "2": "2019-02-07",
                                    "3": "Shipped within one week"
                                },
                                {
                                    "0": "10433",
                                    "1": "2019-02-03",
                                    "2": "2019-03-04",
                                    "3": "Shipped over a week later"
                                },
                                {
                                    "0": "10434",
                                    "1": "2019-02-03",
                                    "2": "2019-02-13",
                                    "3": "Shipped over a week later"
                                },
                                {
                                    "0": "10435",
                                    "1": "2019-02-04",
                                    "2": "2019-02-07",
                                    "3": "Shipped within one week"
                                },
                                {
                                    "0": "10436",
                                    "1": "2019-02-05",
                                    "2": "2019-02-11",
                                    "3": "Shipped within one week"
                                },
                                {
                                    "0": "10437",
                                    "1": "2019-02-05",
                                    "2": "2019-02-12",
                                    "3": "Shipped within one week"
                                },
                                {
                                    "0": "10438",
                                    "1": "2019-02-06",
                                    "2": "2019-02-14",
                                    "3": "Shipped over a week later"
                                },
                                {
                                    "0": "10439",
                                    "1": "2019-02-07",
                                    "2": "2019-02-10",
                                    "3": "Shipped within one week"
                                },
                                {
                                    "0": "10440",
                                    "1": "2019-02-10",
                                    "2": "2019-02-28",
                                    "3": "Shipped over a week later"
                                },
                                {
                                    "0": "10441",
                                    "1": "2019-02-10",
                                    "2": "2019-03-14",
                                    "3": "Shipped over a week later"
                                },
                                {
                                    "0": "10442",
                                    "1": "2019-02-11",
                                    "2": "2019-02-18",
                                    "3": "Shipped within one week"
                                },
                                {
                                    "0": "10443",
                                    "1": "2019-02-12",
                                    "2": "2019-02-14",
                                    "3": "Shipped within one week"
                                },
                                {
                                    "0": "10444",
                                    "1": "2019-02-12",
                                    "2": "2019-02-21",
                                    "3": "Shipped over a week later"
                                },
                                {
                                    "0": "10445",
                                    "1": "2019-02-13",
                                    "2": "2019-02-20",
                                    "3": "Shipped within one week"
                                },
                                {
                                    "0": "10446",
                                    "1": "2019-02-14",
                                    "2": "2019-02-19",
                                    "3": "Shipped within one week"
                                },
                                {
                                    "0": "10447",
                                    "1": "2019-02-14",
                                    "2": "2019-03-07",
                                    "3": "Shipped over a week later"
                                },
                                {
                                    "0": "10448",
                                    "1": "2019-02-17",
                                    "2": "2019-02-24",
                                    "3": "Shipped within one week"
                                },
                                {
                                    "0": "10449",
                                    "1": "2019-02-18",
                                    "2": "2019-02-27",
                                    "3": "Shipped over a week later"
                                },
                                {
                                    "0": "10450",
                                    "1": "2019-02-19",
                                    "2": "2019-03-11",
                                    "3": "Shipped over a week later"
                                },
                                {
                                    "0": "10451",
                                    "1": "2019-02-19",
                                    "2": "2019-03-12",
                                    "3": "Shipped over a week later"
                                },
                                {
                                    "0": "10452",
                                    "1": "2019-02-20",
                                    "2": "2019-02-26",
                                    "3": "Shipped within one week"
                                },
                                {
                                    "0": "10453",
                                    "1": "2019-02-21",
                                    "2": "2019-02-26",
                                    "3": "Shipped within one week"
                                },
                                {
                                    "0": "10454",
                                    "1": "2019-02-21",
                                    "2": "2019-02-25",
                                    "3": "Shipped within one week"
                                },
                                {
                                    "0": "10455",
                                    "1": "2019-02-24",
                                    "2": "2019-03-03",
                                    "3": "Shipped within one week"
                                },
                                {
                                    "0": "10456",
                                    "1": "2019-02-25",
                                    "2": "2019-02-28",
                                    "3": "Shipped within one week"
                                },
                                {
                                    "0": "10457",
                                    "1": "2019-02-25",
                                    "2": "2019-03-03",
                                    "3": "Shipped within one week"
                                },
                                {
                                    "0": "10458",
                                    "1": "2019-02-26",
                                    "2": "2019-03-04",
                                    "3": "Shipped within one week"
                                },
                                {
                                    "0": "10459",
                                    "1": "2019-02-27",
                                    "2": "2019-02-28",
                                    "3": "Shipped within one week"
                                },
                                {
                                    "0": "10460",
                                    "1": "2019-02-28",
                                    "2": "2019-03-03",
                                    "3": "Shipped within one week"
                                },
                                {
                                    "0": "10461",
                                    "1": "2019-02-28",
                                    "2": "2019-03-05",
                                    "3": "Shipped within one week"
                                },
                                {
                                    "0": "10462",
                                    "1": "2019-03-03",
                                    "2": "2019-03-18",
                                    "3": "Shipped over a week later"
                                },
                                {
                                    "0": "10463",
                                    "1": "2019-03-04",
                                    "2": "2019-03-06",
                                    "3": "Shipped within one week"
                                },
                                {
                                    "0": "10464",
                                    "1": "2019-03-04",
                                    "2": "2019-03-14",
                                    "3": "Shipped over a week later"
                                },
                                {
                                    "0": "10465",
                                    "1": "2019-03-05",
                                    "2": "2019-03-14",
                                    "3": "Shipped over a week later"
                                },
                                {
                                    "0": "10466",
                                    "1": "2019-03-06",
                                    "2": "2019-03-13",
                                    "3": "Shipped within one week"
                                },
                                {
                                    "0": "10467",
                                    "1": "2019-03-06",
                                    "2": "2019-03-11",
                                    "3": "Shipped within one week"
                                },
                                {
                                    "0": "10468",
                                    "1": "2019-03-07",
                                    "2": "2019-03-12",
                                    "3": "Shipped within one week"
                                },
                                {
                                    "0": "10469",
                                    "1": "2019-03-10",
                                    "2": "2019-03-14",
                                    "3": "Shipped within one week"
                                },
                                {
                                    "0": "10470",
                                    "1": "2019-03-11",
                                    "2": "2019-03-14",
                                    "3": "Shipped within one week"
                                },
                                {
                                    "0": "10471",
                                    "1": "2019-03-11",
                                    "2": "2019-03-18",
                                    "3": "Shipped within one week"
                                },
                                {
                                    "0": "10472",
                                    "1": "2019-03-12",
                                    "2": "2019-03-19",
                                    "3": "Shipped within one week"
                                },
                                {
                                    "0": "10473",
                                    "1": "2019-03-13",
                                    "2": "2019-03-21",
                                    "3": "Shipped over a week later"
                                },
                                {
                                    "0": "10474",
                                    "1": "2019-03-13",
                                    "2": "2019-03-21",
                                    "3": "Shipped over a week later"
                                },
                                {
                                    "0": "10475",
                                    "1": "2019-03-14",
                                    "2": "2019-04-04",
                                    "3": "Shipped over a week later"
                                },
                                {
                                    "0": "10476",
                                    "1": "2019-03-17",
                                    "2": "2019-03-24",
                                    "3": "Shipped within one week"
                                },
                                {
                                    "0": "10477",
                                    "1": "2019-03-17",
                                    "2": "2019-03-25",
                                    "3": "Shipped over a week later"
                                },
                                {
                                    "0": "10478",
                                    "1": "2019-03-18",
                                    "2": "2019-03-26",
                                    "3": "Shipped over a week later"
                                },
                                {
                                    "0": "10479",
                                    "1": "2019-03-19",
                                    "2": "2019-03-21",
                                    "3": "Shipped within one week"
                                },
                                {
                                    "0": "10480",
                                    "1": "2019-03-20",
                                    "2": "2019-03-24",
                                    "3": "Shipped within one week"
                                },
                                {
                                    "0": "10481",
                                    "1": "2019-03-20",
                                    "2": "2019-03-25",
                                    "3": "Shipped within one week"
                                },
                                {
                                    "0": "10482",
                                    "1": "2019-03-21",
                                    "2": "2019-04-10",
                                    "3": "Shipped over a week later"
                                },
                                {
                                    "0": "10483",
                                    "1": "2019-03-24",
                                    "2": "2019-04-25",
                                    "3": "Shipped over a week later"
                                },
                                {
                                    "0": "10484",
                                    "1": "2019-03-24",
                                    "2": "2019-04-01",
                                    "3": "Shipped over a week later"
                                },
                                {
                                    "0": "10485",
                                    "1": "2019-03-25",
                                    "2": "2019-03-31",
                                    "3": "Shipped within one week"
                                },
                                {
                                    "0": "10486",
                                    "1": "2019-03-26",
                                    "2": "2019-04-02",
                                    "3": "Shipped within one week"
                                },
                                {
                                    "0": "10487",
                                    "1": "2019-03-26",
                                    "2": "2019-03-28",
                                    "3": "Shipped within one week"
                                },
                                {
                                    "0": "10488",
                                    "1": "2019-03-27",
                                    "2": "2019-04-02",
                                    "3": "Shipped within one week"
                                },
                                {
                                    "0": "10489",
                                    "1": "2019-03-28",
                                    "2": "2019-04-09",
                                    "3": "Shipped over a week later"
                                },
                                {
                                    "0": "10490",
                                    "1": "2019-03-31",
                                    "2": "2019-04-03",
                                    "3": "Shipped within one week"
                                },
                                {
                                    "0": "10491",
                                    "1": "2019-03-31",
                                    "2": "2019-04-08",
                                    "3": "Shipped over a week later"
                                },
                                {
                                    "0": "10492",
                                    "1": "2019-04-01",
                                    "2": "2019-04-11",
                                    "3": "Shipped over a week later"
                                },
                                {
                                    "0": "10493",
                                    "1": "2019-04-02",
                                    "2": "2019-04-10",
                                    "3": "Shipped over a week later"
                                },
                                {
                                    "0": "10494",
                                    "1": "2019-04-02",
                                    "2": "2019-04-09",
                                    "3": "Shipped within one week"
                                },
                                {
                                    "0": "10495",
                                    "1": "2019-04-03",
                                    "2": "2019-04-11",
                                    "3": "Shipped over a week later"
                                },
                                {
                                    "0": "10496",
                                    "1": "2019-04-04",
                                    "2": "2019-04-07",
                                    "3": "Shipped within one week"
                                },
                                {
                                    "0": "10497",
                                    "1": "2019-04-04",
                                    "2": "2019-04-07",
                                    "3": "Shipped within one week"
                                },
                                {
                                    "0": "10498",
                                    "1": "2019-04-07",
                                    "2": "2019-04-11",
                                    "3": "Shipped within one week"
                                },
                                {
                                    "0": "10499",
                                    "1": "2019-04-08",
                                    "2": "2019-04-16",
                                    "3": "Shipped over a week later"
                                },
                                {
                                    "0": "10500",
                                    "1": "2019-04-09",
                                    "2": "2019-04-17",
                                    "3": "Shipped over a week later"
                                },
                                {
                                    "0": "10501",
                                    "1": "2019-04-09",
                                    "2": "2019-04-16",
                                    "3": "Shipped within one week"
                                },
                                {
                                    "0": "10502",
                                    "1": "2019-04-10",
                                    "2": "2019-04-29",
                                    "3": "Shipped over a week later"
                                },
                                {
                                    "0": "10503",
                                    "1": "2019-04-11",
                                    "2": "2019-04-16",
                                    "3": "Shipped within one week"
                                },
                                {
                                    "0": "10504",
                                    "1": "2019-04-11",
                                    "2": "2019-04-18",
                                    "3": "Shipped within one week"
                                },
                                {
                                    "0": "10505",
                                    "1": "2019-04-14",
                                    "2": "2019-04-21",
                                    "3": "Shipped within one week"
                                },
                                {
                                    "0": "10506",
                                    "1": "2019-04-15",
                                    "2": "2019-05-02",
                                    "3": "Shipped over a week later"
                                },
                                {
                                    "0": "10507",
                                    "1": "2019-04-15",
                                    "2": "2019-04-22",
                                    "3": "Shipped within one week"
                                },
                                {
                                    "0": "10508",
                                    "1": "2019-04-16",
                                    "2": "2019-05-13",
                                    "3": "Shipped over a week later"
                                },
                                {
                                    "0": "10509",
                                    "1": "2019-04-17",
                                    "2": "2019-04-29",
                                    "3": "Shipped over a week later"
                                },
                                {
                                    "0": "10510",
                                    "1": "2019-04-18",
                                    "2": "2019-04-28",
                                    "3": "Shipped over a week later"
                                },
                                {
                                    "0": "10511",
                                    "1": "2019-04-18",
                                    "2": "2019-04-21",
                                    "3": "Shipped within one week"
                                },
                                {
                                    "0": "10512",
                                    "1": "2019-04-21",
                                    "2": "2019-04-24",
                                    "3": "Shipped within one week"
                                },
                                {
                                    "0": "10513",
                                    "1": "2019-04-22",
                                    "2": "2019-04-28",
                                    "3": "Shipped within one week"
                                },
                                {
                                    "0": "10514",
                                    "1": "2019-04-22",
                                    "2": "2019-05-16",
                                    "3": "Shipped over a week later"
                                },
                                {
                                    "0": "10515",
                                    "1": "2019-04-23",
                                    "2": "2019-05-23",
                                    "3": "Shipped over a week later"
                                },
                                {
                                    "0": "10516",
                                    "1": "2019-04-24",
                                    "2": "2019-05-01",
                                    "3": "Shipped within one week"
                                },
                                {
                                    "0": "10517",
                                    "1": "2019-04-24",
                                    "2": "2019-04-29",
                                    "3": "Shipped within one week"
                                },
                                {
                                    "0": "10518",
                                    "1": "2019-04-25",
                                    "2": "2019-05-05",
                                    "3": "Shipped over a week later"
                                },
                                {
                                    "0": "10519",
                                    "1": "2019-04-28",
                                    "2": "2019-05-01",
                                    "3": "Shipped within one week"
                                },
                                {
                                    "0": "10520",
                                    "1": "2019-04-29",
                                    "2": "2019-05-01",
                                    "3": "Shipped within one week"
                                },
                                {
                                    "0": "10521",
                                    "1": "2019-04-29",
                                    "2": "2019-05-02",
                                    "3": "Shipped within one week"
                                },
                                {
                                    "0": "10522",
                                    "1": "2019-04-30",
                                    "2": "2019-05-06",
                                    "3": "Shipped within one week"
                                },
                                {
                                    "0": "10523",
                                    "1": "2019-05-01",
                                    "2": "2019-05-30",
                                    "3": "Shipped over a week later"
                                },
                                {
                                    "0": "10524",
                                    "1": "2019-05-01",
                                    "2": "2019-05-07",
                                    "3": "Shipped within one week"
                                },
                                {
                                    "0": "10525",
                                    "1": "2019-05-02",
                                    "2": "2019-05-23",
                                    "3": "Shipped over a week later"
                                },
                                {
                                    "0": "10526",
                                    "1": "2019-05-05",
                                    "2": "2019-05-15",
                                    "3": "Shipped over a week later"
                                },
                                {
                                    "0": "10527",
                                    "1": "2019-05-05",
                                    "2": "2019-05-07",
                                    "3": "Shipped within one week"
                                },
                                {
                                    "0": "10528",
                                    "1": "2019-05-06",
                                    "2": "2019-05-09",
                                    "3": "Shipped within one week"
                                },
                                {
                                    "0": "10529",
                                    "1": "2019-05-07",
                                    "2": "2019-05-09",
                                    "3": "Shipped within one week"
                                },
                                {
                                    "0": "10530",
                                    "1": "2019-05-08",
                                    "2": "2019-05-12",
                                    "3": "Shipped within one week"
                                },
                                {
                                    "0": "10531",
                                    "1": "2019-05-08",
                                    "2": "2019-05-19",
                                    "3": "Shipped over a week later"
                                },
                                {
                                    "0": "10532",
                                    "1": "2019-05-09",
                                    "2": "2019-05-12",
                                    "3": "Shipped within one week"
                                },
                                {
                                    "0": "10533",
                                    "1": "2019-05-12",
                                    "2": "2019-05-22",
                                    "3": "Shipped over a week later"
                                },
                                {
                                    "0": "10534",
                                    "1": "2019-05-12",
                                    "2": "2019-05-14",
                                    "3": "Shipped within one week"
                                },
                                {
                                    "0": "10535",
                                    "1": "2019-05-13",
                                    "2": "2019-05-21",
                                    "3": "Shipped over a week later"
                                },
                                {
                                    "0": "10536",
                                    "1": "2019-05-14",
                                    "2": "2019-06-06",
                                    "3": "Shipped over a week later"
                                },
                                {
                                    "0": "10537",
                                    "1": "2019-05-14",
                                    "2": "2019-05-19",
                                    "3": "Shipped within one week"
                                },
                                {
                                    "0": "10538",
                                    "1": "2019-05-15",
                                    "2": "2019-05-16",
                                    "3": "Shipped within one week"
                                },
                                {
                                    "0": "10539",
                                    "1": "2019-05-16",
                                    "2": "2019-05-23",
                                    "3": "Shipped within one week"
                                },
                                {
                                    "0": "10540",
                                    "1": "2019-05-19",
                                    "2": "2019-06-13",
                                    "3": "Shipped over a week later"
                                },
                                {
                                    "0": "10541",
                                    "1": "2019-05-19",
                                    "2": "2019-05-29",
                                    "3": "Shipped over a week later"
                                },
                                {
                                    "0": "10542",
                                    "1": "2019-05-20",
                                    "2": "2019-05-26",
                                    "3": "Shipped within one week"
                                },
                                {
                                    "0": "10543",
                                    "1": "2019-05-21",
                                    "2": "2019-05-23",
                                    "3": "Shipped within one week"
                                },
                                {
                                    "0": "10544",
                                    "1": "2019-05-21",
                                    "2": "2019-05-30",
                                    "3": "Shipped over a week later"
                                },
                                {
                                    "0": "10545",
                                    "1": "2019-05-22",
                                    "2": "2019-06-26",
                                    "3": "Shipped over a week later"
                                },
                                {
                                    "0": "10546",
                                    "1": "2019-05-23",
                                    "2": "2019-05-27",
                                    "3": "Shipped within one week"
                                },
                                {
                                    "0": "10547",
                                    "1": "2019-05-23",
                                    "2": "2019-06-02",
                                    "3": "Shipped over a week later"
                                },
                                {
                                    "0": "10548",
                                    "1": "2019-05-26",
                                    "2": "2019-06-02",
                                    "3": "Shipped within one week"
                                },
                                {
                                    "0": "10549",
                                    "1": "2019-05-27",
                                    "2": "2019-05-30",
                                    "3": "Shipped within one week"
                                },
                                {
                                    "0": "10550",
                                    "1": "2019-05-28",
                                    "2": "2019-06-06",
                                    "3": "Shipped over a week later"
                                },
                                {
                                    "0": "10551",
                                    "1": "2019-05-28",
                                    "2": "2019-06-06",
                                    "3": "Shipped over a week later"
                                },
                                {
                                    "0": "10552",
                                    "1": "2019-05-29",
                                    "2": "2019-06-05",
                                    "3": "Shipped within one week"
                                },
                                {
                                    "0": "10553",
                                    "1": "2019-05-30",
                                    "2": "2019-06-03",
                                    "3": "Shipped within one week"
                                },
                                {
                                    "0": "10554",
                                    "1": "2019-05-30",
                                    "2": "2019-06-05",
                                    "3": "Shipped within one week"
                                },
                                {
                                    "0": "10555",
                                    "1": "2019-06-02",
                                    "2": "2019-06-04",
                                    "3": "Shipped within one week"
                                },
                                {
                                    "0": "10556",
                                    "1": "2019-06-03",
                                    "2": "2019-06-13",
                                    "3": "Shipped over a week later"
                                },
                                {
                                    "0": "10557",
                                    "1": "2019-06-03",
                                    "2": "2019-06-06",
                                    "3": "Shipped within one week"
                                },
                                {
                                    "0": "10558",
                                    "1": "2019-06-04",
                                    "2": "2019-06-10",
                                    "3": "Shipped within one week"
                                },
                                {
                                    "0": "10559",
                                    "1": "2019-06-05",
                                    "2": "2019-06-13",
                                    "3": "Shipped over a week later"
                                },
                                {
                                    "0": "10560",
                                    "1": "2019-06-06",
                                    "2": "2019-06-09",
                                    "3": "Shipped within one week"
                                },
                                {
                                    "0": "10561",
                                    "1": "2019-06-06",
                                    "2": "2019-06-09",
                                    "3": "Shipped within one week"
                                },
                                {
                                    "0": "10562",
                                    "1": "2019-06-09",
                                    "2": "2019-06-12",
                                    "3": "Shipped within one week"
                                },
                                {
                                    "0": "10563",
                                    "1": "2019-06-10",
                                    "2": "2019-06-24",
                                    "3": "Shipped over a week later"
                                },
                                {
                                    "0": "10564",
                                    "1": "2019-06-10",
                                    "2": "2019-06-16",
                                    "3": "Shipped within one week"
                                },
                                {
                                    "0": "10565",
                                    "1": "2019-06-11",
                                    "2": "2019-06-18",
                                    "3": "Shipped within one week"
                                },
                                {
                                    "0": "10566",
                                    "1": "2019-06-12",
                                    "2": "2019-06-18",
                                    "3": "Shipped within one week"
                                },
                                {
                                    "0": "10567",
                                    "1": "2019-06-12",
                                    "2": "2019-06-17",
                                    "3": "Shipped within one week"
                                },
                                {
                                    "0": "10568",
                                    "1": "2019-06-13",
                                    "2": "2019-07-09",
                                    "3": "Shipped over a week later"
                                },
                                {
                                    "0": "10569",
                                    "1": "2019-06-16",
                                    "2": "2019-07-11",
                                    "3": "Shipped over a week later"
                                },
                                {
                                    "0": "10570",
                                    "1": "2019-06-17",
                                    "2": "2019-06-19",
                                    "3": "Shipped within one week"
                                },
                                {
                                    "0": "10571",
                                    "1": "2019-06-17",
                                    "2": "2019-07-04",
                                    "3": "Shipped over a week later"
                                },
                                {
                                    "0": "10572",
                                    "1": "2019-06-18",
                                    "2": "2019-06-25",
                                    "3": "Shipped within one week"
                                },
                                {
                                    "0": "10573",
                                    "1": "2019-06-19",
                                    "2": "2019-06-20",
                                    "3": "Shipped within one week"
                                },
                                {
                                    "0": "10574",
                                    "1": "2019-06-19",
                                    "2": "2019-06-30",
                                    "3": "Shipped over a week later"
                                },
                                {
                                    "0": "10575",
                                    "1": "2019-06-20",
                                    "2": "2019-06-30",
                                    "3": "Shipped over a week later"
                                },
                                {
                                    "0": "10576",
                                    "1": "2019-06-23",
                                    "2": "2019-06-30",
                                    "3": "Shipped within one week"
                                },
                                {
                                    "0": "10577",
                                    "1": "2019-06-23",
                                    "2": "2019-06-30",
                                    "3": "Shipped within one week"
                                },
                                {
                                    "0": "10578",
                                    "1": "2019-06-24",
                                    "2": "2019-07-25",
                                    "3": "Shipped over a week later"
                                },
                                {
                                    "0": "10579",
                                    "1": "2019-06-25",
                                    "2": "2019-07-04",
                                    "3": "Shipped over a week later"
                                },
                                {
                                    "0": "10580",
                                    "1": "2019-06-26",
                                    "2": "2019-07-01",
                                    "3": "Shipped within one week"
                                },
                                {
                                    "0": "10581",
                                    "1": "2019-06-26",
                                    "2": "2019-07-02",
                                    "3": "Shipped within one week"
                                },
                                {
                                    "0": "10582",
                                    "1": "2019-06-27",
                                    "2": "2019-07-14",
                                    "3": "Shipped over a week later"
                                },
                                {
                                    "0": "10583",
                                    "1": "2019-06-30",
                                    "2": "2019-07-04",
                                    "3": "Shipped within one week"
                                },
                                {
                                    "0": "10584",
                                    "1": "2019-06-30",
                                    "2": "2019-07-04",
                                    "3": "Shipped within one week"
                                },
                                {
                                    "0": "10585",
                                    "1": "2019-07-01",
                                    "2": "2019-07-10",
                                    "3": "Shipped over a week later"
                                },
                                {
                                    "0": "10586",
                                    "1": "2019-07-02",
                                    "2": "2019-07-09",
                                    "3": "Shipped within one week"
                                },
                                {
                                    "0": "10587",
                                    "1": "2019-07-02",
                                    "2": "2019-07-09",
                                    "3": "Shipped within one week"
                                },
                                {
                                    "0": "10588",
                                    "1": "2019-07-03",
                                    "2": "2019-07-10",
                                    "3": "Shipped within one week"
                                },
                                {
                                    "0": "10589",
                                    "1": "2019-07-04",
                                    "2": "2019-07-14",
                                    "3": "Shipped over a week later"
                                },
                                {
                                    "0": "10590",
                                    "1": "2019-07-07",
                                    "2": "2019-07-14",
                                    "3": "Shipped within one week"
                                },
                                {
                                    "0": "10591",
                                    "1": "2019-07-07",
                                    "2": "2019-07-16",
                                    "3": "Shipped over a week later"
                                },
                                {
                                    "0": "10592",
                                    "1": "2019-07-08",
                                    "2": "2019-07-16",
                                    "3": "Shipped over a week later"
                                },
                                {
                                    "0": "10593",
                                    "1": "2019-07-09",
                                    "2": "2019-08-13",
                                    "3": "Shipped over a week later"
                                },
                                {
                                    "0": "10594",
                                    "1": "2019-07-09",
                                    "2": "2019-07-16",
                                    "3": "Shipped within one week"
                                },
                                {
                                    "0": "10595",
                                    "1": "2019-07-10",
                                    "2": "2019-07-14",
                                    "3": "Shipped within one week"
                                },
                                {
                                    "0": "10596",
                                    "1": "2019-07-11",
                                    "2": "2019-08-12",
                                    "3": "Shipped over a week later"
                                },
                                {
                                    "0": "10597",
                                    "1": "2019-07-11",
                                    "2": "2019-07-18",
                                    "3": "Shipped within one week"
                                },
                                {
                                    "0": "10598",
                                    "1": "2019-07-14",
                                    "2": "2019-07-18",
                                    "3": "Shipped within one week"
                                },
                                {
                                    "0": "10599",
                                    "1": "2019-07-15",
                                    "2": "2019-07-21",
                                    "3": "Shipped within one week"
                                },
                                {
                                    "0": "10600",
                                    "1": "2019-07-16",
                                    "2": "2019-07-21",
                                    "3": "Shipped within one week"
                                },
                                {
                                    "0": "10601",
                                    "1": "2019-07-16",
                                    "2": "2019-07-22",
                                    "3": "Shipped within one week"
                                },
                                {
                                    "0": "10602",
                                    "1": "2019-07-17",
                                    "2": "2019-07-22",
                                    "3": "Shipped within one week"
                                },
                                {
                                    "0": "10603",
                                    "1": "2019-07-18",
                                    "2": "2019-08-08",
                                    "3": "Shipped over a week later"
                                },
                                {
                                    "0": "10604",
                                    "1": "2019-07-18",
                                    "2": "2019-07-29",
                                    "3": "Shipped over a week later"
                                },
                                {
                                    "0": "10605",
                                    "1": "2019-07-21",
                                    "2": "2019-07-29",
                                    "3": "Shipped over a week later"
                                },
                                {
                                    "0": "10606",
                                    "1": "2019-07-22",
                                    "2": "2019-07-31",
                                    "3": "Shipped over a week later"
                                },
                                {
                                    "0": "10607",
                                    "1": "2019-07-22",
                                    "2": "2019-07-25",
                                    "3": "Shipped within one week"
                                },
                                {
                                    "0": "10608",
                                    "1": "2019-07-23",
                                    "2": "2019-08-01",
                                    "3": "Shipped over a week later"
                                },
                                {
                                    "0": "10609",
                                    "1": "2019-07-24",
                                    "2": "2019-07-30",
                                    "3": "Shipped within one week"
                                },
                                {
                                    "0": "10610",
                                    "1": "2019-07-25",
                                    "2": "2019-08-06",
                                    "3": "Shipped over a week later"
                                },
                                {
                                    "0": "10611",
                                    "1": "2019-07-25",
                                    "2": "2019-08-01",
                                    "3": "Shipped within one week"
                                },
                                {
                                    "0": "10612",
                                    "1": "2019-07-28",
                                    "2": "2019-08-01",
                                    "3": "Shipped within one week"
                                },
                                {
                                    "0": "10613",
                                    "1": "2019-07-29",
                                    "2": "2019-08-01",
                                    "3": "Shipped within one week"
                                },
                                {
                                    "0": "10614",
                                    "1": "2019-07-29",
                                    "2": "2019-08-01",
                                    "3": "Shipped within one week"
                                },
                                {
                                    "0": "10615",
                                    "1": "2019-07-30",
                                    "2": "2019-08-06",
                                    "3": "Shipped within one week"
                                },
                                {
                                    "0": "10616",
                                    "1": "2019-07-31",
                                    "2": "2019-08-05",
                                    "3": "Shipped within one week"
                                },
                                {
                                    "0": "10617",
                                    "1": "2019-07-31",
                                    "2": "2019-08-04",
                                    "3": "Shipped within one week"
                                },
                                {
                                    "0": "10618",
                                    "1": "2019-08-01",
                                    "2": "2019-08-08",
                                    "3": "Shipped within one week"
                                },
                                {
                                    "0": "10619",
                                    "1": "2019-08-04",
                                    "2": "2019-08-07",
                                    "3": "Shipped within one week"
                                },
                                {
                                    "0": "10620",
                                    "1": "2019-08-05",
                                    "2": "2019-08-14",
                                    "3": "Shipped over a week later"
                                },
                                {
                                    "0": "10621",
                                    "1": "2019-08-05",
                                    "2": "2019-08-11",
                                    "3": "Shipped within one week"
                                },
                                {
                                    "0": "10622",
                                    "1": "2019-08-06",
                                    "2": "2019-08-11",
                                    "3": "Shipped within one week"
                                },
                                {
                                    "0": "10623",
                                    "1": "2019-08-07",
                                    "2": "2019-08-12",
                                    "3": "Shipped within one week"
                                },
                                {
                                    "0": "10624",
                                    "1": "2019-08-07",
                                    "2": "2019-08-19",
                                    "3": "Shipped over a week later"
                                },
                                {
                                    "0": "10625",
                                    "1": "2019-08-08",
                                    "2": "2019-08-14",
                                    "3": "Shipped within one week"
                                },
                                {
                                    "0": "10626",
                                    "1": "2019-08-11",
                                    "2": "2019-08-20",
                                    "3": "Shipped over a week later"
                                },
                                {
                                    "0": "10627",
                                    "1": "2019-08-11",
                                    "2": "2019-08-21",
                                    "3": "Shipped over a week later"
                                },
                                {
                                    "0": "10628",
                                    "1": "2019-08-12",
                                    "2": "2019-08-20",
                                    "3": "Shipped over a week later"
                                },
                                {
                                    "0": "10629",
                                    "1": "2019-08-12",
                                    "2": "2019-08-20",
                                    "3": "Shipped over a week later"
                                },
                                {
                                    "0": "10630",
                                    "1": "2019-08-13",
                                    "2": "2019-08-19",
                                    "3": "Shipped within one week"
                                },
                                {
                                    "0": "10631",
                                    "1": "2019-08-14",
                                    "2": "2019-08-15",
                                    "3": "Shipped within one week"
                                },
                                {
                                    "0": "10632",
                                    "1": "2019-08-14",
                                    "2": "2019-08-19",
                                    "3": "Shipped within one week"
                                },
                                {
                                    "0": "10633",
                                    "1": "2019-08-15",
                                    "2": "2019-08-18",
                                    "3": "Shipped within one week"
                                },
                                {
                                    "0": "10634",
                                    "1": "2019-08-15",
                                    "2": "2019-08-21",
                                    "3": "Shipped within one week"
                                },
                                {
                                    "0": "10635",
                                    "1": "2019-08-18",
                                    "2": "2019-08-21",
                                    "3": "Shipped within one week"
                                },
                                {
                                    "0": "10636",
                                    "1": "2019-08-19",
                                    "2": "2019-08-26",
                                    "3": "Shipped within one week"
                                },
                                {
                                    "0": "10637",
                                    "1": "2019-08-19",
                                    "2": "2019-08-26",
                                    "3": "Shipped within one week"
                                },
                                {
                                    "0": "10638",
                                    "1": "2019-08-20",
                                    "2": "2019-09-01",
                                    "3": "Shipped over a week later"
                                },
                                {
                                    "0": "10639",
                                    "1": "2019-08-20",
                                    "2": "2019-08-27",
                                    "3": "Shipped within one week"
                                },
                                {
                                    "0": "10640",
                                    "1": "2019-08-21",
                                    "2": "2019-08-28",
                                    "3": "Shipped within one week"
                                },
                                {
                                    "0": "10641",
                                    "1": "2019-08-22",
                                    "2": "2019-08-26",
                                    "3": "Shipped within one week"
                                },
                                {
                                    "0": "10642",
                                    "1": "2019-08-22",
                                    "2": "2019-09-05",
                                    "3": "Shipped over a week later"
                                },
                                {
                                    "0": "10643",
                                    "1": "2019-08-25",
                                    "2": "2019-09-02",
                                    "3": "Shipped over a week later"
                                },
                                {
                                    "0": "10644",
                                    "1": "2019-08-25",
                                    "2": "2019-09-01",
                                    "3": "Shipped within one week"
                                },
                                {
                                    "0": "10645",
                                    "1": "2019-08-26",
                                    "2": "2019-09-02",
                                    "3": "Shipped within one week"
                                },
                                {
                                    "0": "10646",
                                    "1": "2019-08-27",
                                    "2": "2019-09-03",
                                    "3": "Shipped within one week"
                                },
                                {
                                    "0": "10647",
                                    "1": "2019-08-27",
                                    "2": "2019-09-03",
                                    "3": "Shipped within one week"
                                },
                                {
                                    "0": "10648",
                                    "1": "2019-08-28",
                                    "2": "2019-09-09",
                                    "3": "Shipped over a week later"
                                },
                                {
                                    "0": "10649",
                                    "1": "2019-08-28",
                                    "2": "2019-08-29",
                                    "3": "Shipped within one week"
                                },
                                {
                                    "0": "10650",
                                    "1": "2019-08-29",
                                    "2": "2019-09-03",
                                    "3": "Shipped within one week"
                                },
                                {
                                    "0": "10651",
                                    "1": "2019-09-01",
                                    "2": "2019-09-11",
                                    "3": "Shipped over a week later"
                                },
                                {
                                    "0": "10652",
                                    "1": "2019-09-01",
                                    "2": "2019-09-08",
                                    "3": "Shipped within one week"
                                },
                                {
                                    "0": "10653",
                                    "1": "2019-09-02",
                                    "2": "2019-09-19",
                                    "3": "Shipped over a week later"
                                },
                                {
                                    "0": "10654",
                                    "1": "2019-09-02",
                                    "2": "2019-09-11",
                                    "3": "Shipped over a week later"
                                },
                                {
                                    "0": "10655",
                                    "1": "2019-09-03",
                                    "2": "2019-09-11",
                                    "3": "Shipped over a week later"
                                },
                                {
                                    "0": "10656",
                                    "1": "2019-09-04",
                                    "2": "2019-09-10",
                                    "3": "Shipped within one week"
                                },
                                {
                                    "0": "10657",
                                    "1": "2019-09-04",
                                    "2": "2019-09-15",
                                    "3": "Shipped over a week later"
                                },
                                {
                                    "0": "10658",
                                    "1": "2019-09-05",
                                    "2": "2019-09-08",
                                    "3": "Shipped within one week"
                                },
                                {
                                    "0": "10659",
                                    "1": "2019-09-05",
                                    "2": "2019-09-10",
                                    "3": "Shipped within one week"
                                },
                                {
                                    "0": "10660",
                                    "1": "2019-09-08",
                                    "2": "2019-10-15",
                                    "3": "Shipped over a week later"
                                },
                                {
                                    "0": "10661",
                                    "1": "2019-09-09",
                                    "2": "2019-09-15",
                                    "3": "Shipped within one week"
                                },
                                {
                                    "0": "10662",
                                    "1": "2019-09-09",
                                    "2": "2019-09-18",
                                    "3": "Shipped over a week later"
                                },
                                {
                                    "0": "10663",
                                    "1": "2019-09-10",
                                    "2": "2019-10-03",
                                    "3": "Shipped over a week later"
                                },
                                {
                                    "0": "10664",
                                    "1": "2019-09-10",
                                    "2": "2019-09-19",
                                    "3": "Shipped over a week later"
                                },
                                {
                                    "0": "10665",
                                    "1": "2019-09-11",
                                    "2": "2019-09-17",
                                    "3": "Shipped within one week"
                                },
                                {
                                    "0": "10666",
                                    "1": "2019-09-12",
                                    "2": "2019-09-22",
                                    "3": "Shipped over a week later"
                                },
                                {
                                    "0": "10667",
                                    "1": "2019-09-12",
                                    "2": "2019-09-19",
                                    "3": "Shipped within one week"
                                },
                                {
                                    "0": "10668",
                                    "1": "2019-09-15",
                                    "2": "2019-09-23",
                                    "3": "Shipped over a week later"
                                },
                                {
                                    "0": "10669",
                                    "1": "2019-09-15",
                                    "2": "2019-09-22",
                                    "3": "Shipped within one week"
                                },
                                {
                                    "0": "10670",
                                    "1": "2019-09-16",
                                    "2": "2019-09-18",
                                    "3": "Shipped within one week"
                                },
                                {
                                    "0": "10671",
                                    "1": "2019-09-17",
                                    "2": "2019-09-24",
                                    "3": "Shipped within one week"
                                },
                                {
                                    "0": "10672",
                                    "1": "2019-09-17",
                                    "2": "2019-09-26",
                                    "3": "Shipped over a week later"
                                },
                                {
                                    "0": "10673",
                                    "1": "2019-09-18",
                                    "2": "2019-09-19",
                                    "3": "Shipped within one week"
                                },
                                {
                                    "0": "10674",
                                    "1": "2019-09-18",
                                    "2": "2019-09-30",
                                    "3": "Shipped over a week later"
                                },
                                {
                                    "0": "10675",
                                    "1": "2019-09-19",
                                    "2": "2019-09-23",
                                    "3": "Shipped within one week"
                                },
                                {
                                    "0": "10676",
                                    "1": "2019-09-22",
                                    "2": "2019-09-29",
                                    "3": "Shipped within one week"
                                },
                                {
                                    "0": "10677",
                                    "1": "2019-09-22",
                                    "2": "2019-09-26",
                                    "3": "Shipped within one week"
                                },
                                {
                                    "0": "10678",
                                    "1": "2019-09-23",
                                    "2": "2019-10-16",
                                    "3": "Shipped over a week later"
                                },
                                {
                                    "0": "10679",
                                    "1": "2019-09-23",
                                    "2": "2019-09-30",
                                    "3": "Shipped within one week"
                                },
                                {
                                    "0": "10680",
                                    "1": "2019-09-24",
                                    "2": "2019-09-26",
                                    "3": "Shipped within one week"
                                },
                                {
                                    "0": "10681",
                                    "1": "2019-09-25",
                                    "2": "2019-09-30",
                                    "3": "Shipped within one week"
                                },
                                {
                                    "0": "10682",
                                    "1": "2019-09-25",
                                    "2": "2019-10-01",
                                    "3": "Shipped within one week"
                                },
                                {
                                    "0": "10683",
                                    "1": "2019-09-26",
                                    "2": "2019-10-01",
                                    "3": "Shipped within one week"
                                },
                                {
                                    "0": "10684",
                                    "1": "2019-09-26",
                                    "2": "2019-09-30",
                                    "3": "Shipped within one week"
                                },
                                {
                                    "0": "10685",
                                    "1": "2019-09-29",
                                    "2": "2019-10-03",
                                    "3": "Shipped within one week"
                                },
                                {
                                    "0": "10686",
                                    "1": "2019-09-30",
                                    "2": "2019-10-08",
                                    "3": "Shipped over a week later"
                                },
                                {
                                    "0": "10687",
                                    "1": "2019-09-30",
                                    "2": "2019-10-30",
                                    "3": "Shipped over a week later"
                                },
                                {
                                    "0": "10688",
                                    "1": "2019-10-01",
                                    "2": "2019-10-07",
                                    "3": "Shipped within one week"
                                },
                                {
                                    "0": "10689",
                                    "1": "2019-10-01",
                                    "2": "2019-10-07",
                                    "3": "Shipped within one week"
                                },
                                {
                                    "0": "10690",
                                    "1": "2019-10-02",
                                    "2": "2019-10-03",
                                    "3": "Shipped within one week"
                                },
                                {
                                    "0": "10691",
                                    "1": "2019-10-03",
                                    "2": "2019-10-22",
                                    "3": "Shipped over a week later"
                                },
                                {
                                    "0": "10692",
                                    "1": "2019-10-03",
                                    "2": "2019-10-13",
                                    "3": "Shipped over a week later"
                                },
                                {
                                    "0": "10693",
                                    "1": "2019-10-06",
                                    "2": "2019-10-10",
                                    "3": "Shipped within one week"
                                },
                                {
                                    "0": "10694",
                                    "1": "2019-10-06",
                                    "2": "2019-10-09",
                                    "3": "Shipped within one week"
                                },
                                {
                                    "0": "10695",
                                    "1": "2019-10-07",
                                    "2": "2019-10-14",
                                    "3": "Shipped within one week"
                                },
                                {
                                    "0": "10696",
                                    "1": "2019-10-08",
                                    "2": "2019-10-14",
                                    "3": "Shipped within one week"
                                },
                                {
                                    "0": "10697",
                                    "1": "2019-10-08",
                                    "2": "2019-10-14",
                                    "3": "Shipped within one week"
                                },
                                {
                                    "0": "10698",
                                    "1": "2019-10-09",
                                    "2": "2019-10-17",
                                    "3": "Shipped over a week later"
                                },
                                {
                                    "0": "10699",
                                    "1": "2019-10-09",
                                    "2": "2019-10-13",
                                    "3": "Shipped within one week"
                                },
                                {
                                    "0": "10700",
                                    "1": "2019-10-10",
                                    "2": "2019-10-16",
                                    "3": "Shipped within one week"
                                },
                                {
                                    "0": "10701",
                                    "1": "2019-10-13",
                                    "2": "2019-10-15",
                                    "3": "Shipped within one week"
                                },
                                {
                                    "0": "10702",
                                    "1": "2019-10-13",
                                    "2": "2019-10-21",
                                    "3": "Shipped over a week later"
                                },
                                {
                                    "0": "10703",
                                    "1": "2019-10-14",
                                    "2": "2019-10-20",
                                    "3": "Shipped within one week"
                                },
                                {
                                    "0": "10704",
                                    "1": "2019-10-14",
                                    "2": "2019-11-07",
                                    "3": "Shipped over a week later"
                                },
                                {
                                    "0": "10705",
                                    "1": "2019-10-15",
                                    "2": "2019-11-18",
                                    "3": "Shipped over a week later"
                                },
                                {
                                    "0": "10706",
                                    "1": "2019-10-16",
                                    "2": "2019-10-21",
                                    "3": "Shipped within one week"
                                },
                                {
                                    "0": "10707",
                                    "1": "2019-10-16",
                                    "2": "2019-10-23",
                                    "3": "Shipped within one week"
                                },
                                {
                                    "0": "10708",
                                    "1": "2019-10-17",
                                    "2": "2019-11-05",
                                    "3": "Shipped over a week later"
                                },
                                {
                                    "0": "10709",
                                    "1": "2019-10-17",
                                    "2": "2019-11-20",
                                    "3": "Shipped over a week later"
                                },
                                {
                                    "0": "10710",
                                    "1": "2019-10-20",
                                    "2": "2019-10-23",
                                    "3": "Shipped within one week"
                                },
                                {
                                    "0": "10711",
                                    "1": "2019-10-21",
                                    "2": "2019-10-29",
                                    "3": "Shipped over a week later"
                                },
                                {
                                    "0": "10712",
                                    "1": "2019-10-21",
                                    "2": "2019-10-31",
                                    "3": "Shipped over a week later"
                                },
                                {
                                    "0": "10713",
                                    "1": "2019-10-22",
                                    "2": "2019-10-24",
                                    "3": "Shipped within one week"
                                },
                                {
                                    "0": "10714",
                                    "1": "2019-10-22",
                                    "2": "2019-10-27",
                                    "3": "Shipped within one week"
                                },
                                {
                                    "0": "10715",
                                    "1": "2019-10-23",
                                    "2": "2019-10-29",
                                    "3": "Shipped within one week"
                                },
                                {
                                    "0": "10716",
                                    "1": "2019-10-24",
                                    "2": "2019-10-27",
                                    "3": "Shipped within one week"
                                },
                                {
                                    "0": "10717",
                                    "1": "2019-10-24",
                                    "2": "2019-10-29",
                                    "3": "Shipped within one week"
                                },
                                {
                                    "0": "10718",
                                    "1": "2019-10-27",
                                    "2": "2019-10-29",
                                    "3": "Shipped within one week"
                                },
                                {
                                    "0": "10719",
                                    "1": "2019-10-27",
                                    "2": "2019-11-05",
                                    "3": "Shipped over a week later"
                                },
                                {
                                    "0": "10720",
                                    "1": "2019-10-28",
                                    "2": "2019-11-05",
                                    "3": "Shipped over a week later"
                                },
                                {
                                    "0": "10721",
                                    "1": "2019-10-29",
                                    "2": "2019-10-31",
                                    "3": "Shipped within one week"
                                },
                                {
                                    "0": "10722",
                                    "1": "2019-10-29",
                                    "2": "2019-11-04",
                                    "3": "Shipped within one week"
                                },
                                {
                                    "0": "10723",
                                    "1": "2019-10-30",
                                    "2": "2019-11-25",
                                    "3": "Shipped over a week later"
                                },
                                {
                                    "0": "10724",
                                    "1": "2019-10-30",
                                    "2": "2019-11-05",
                                    "3": "Shipped within one week"
                                },
                                {
                                    "0": "10725",
                                    "1": "2019-10-31",
                                    "2": "2019-11-05",
                                    "3": "Shipped within one week"
                                },
                                {
                                    "0": "10726",
                                    "1": "2019-11-03",
                                    "2": "2019-12-05",
                                    "3": "Shipped over a week later"
                                },
                                {
                                    "0": "10727",
                                    "1": "2019-11-03",
                                    "2": "2019-12-05",
                                    "3": "Shipped over a week later"
                                },
                                {
                                    "0": "10728",
                                    "1": "2019-11-04",
                                    "2": "2019-11-11",
                                    "3": "Shipped within one week"
                                },
                                {
                                    "0": "10729",
                                    "1": "2019-11-04",
                                    "2": "2019-11-14",
                                    "3": "Shipped over a week later"
                                },
                                {
                                    "0": "10730",
                                    "1": "2019-11-05",
                                    "2": "2019-11-14",
                                    "3": "Shipped over a week later"
                                },
                                {
                                    "0": "10731",
                                    "1": "2019-11-06",
                                    "2": "2019-11-14",
                                    "3": "Shipped over a week later"
                                },
                                {
                                    "0": "10732",
                                    "1": "2019-11-06",
                                    "2": "2019-11-07",
                                    "3": "Shipped within one week"
                                },
                                {
                                    "0": "10733",
                                    "1": "2019-11-07",
                                    "2": "2019-11-10",
                                    "3": "Shipped within one week"
                                },
                                {
                                    "0": "10734",
                                    "1": "2019-11-07",
                                    "2": "2019-11-12",
                                    "3": "Shipped within one week"
                                },
                                {
                                    "0": "10735",
                                    "1": "2019-11-10",
                                    "2": "2019-11-21",
                                    "3": "Shipped over a week later"
                                },
                                {
                                    "0": "10736",
                                    "1": "2019-11-11",
                                    "2": "2019-11-21",
                                    "3": "Shipped over a week later"
                                },
                                {
                                    "0": "10737",
                                    "1": "2019-11-11",
                                    "2": "2019-11-18",
                                    "3": "Shipped within one week"
                                },
                                {
                                    "0": "10738",
                                    "1": "2019-11-12",
                                    "2": "2019-11-18",
                                    "3": "Shipped within one week"
                                },
                                {
                                    "0": "10739",
                                    "1": "2019-11-12",
                                    "2": "2019-11-17",
                                    "3": "Shipped within one week"
                                },
                                {
                                    "0": "10740",
                                    "1": "2019-11-13",
                                    "2": "2019-11-25",
                                    "3": "Shipped over a week later"
                                },
                                {
                                    "0": "10741",
                                    "1": "2019-11-14",
                                    "2": "2019-11-18",
                                    "3": "Shipped within one week"
                                },
                                {
                                    "0": "10742",
                                    "1": "2019-11-14",
                                    "2": "2019-11-18",
                                    "3": "Shipped within one week"
                                },
                                {
                                    "0": "10743",
                                    "1": "2019-11-17",
                                    "2": "2019-11-21",
                                    "3": "Shipped within one week"
                                },
                                {
                                    "0": "10744",
                                    "1": "2019-11-17",
                                    "2": "2019-11-24",
                                    "3": "Shipped within one week"
                                },
                                {
                                    "0": "10745",
                                    "1": "2019-11-18",
                                    "2": "2019-11-27",
                                    "3": "Shipped over a week later"
                                },
                                {
                                    "0": "10746",
                                    "1": "2019-11-19",
                                    "2": "2019-11-21",
                                    "3": "Shipped within one week"
                                },
                                {
                                    "0": "10747",
                                    "1": "2019-11-19",
                                    "2": "2019-11-26",
                                    "3": "Shipped within one week"
                                },
                                {
                                    "0": "10748",
                                    "1": "2019-11-20",
                                    "2": "2019-11-28",
                                    "3": "Shipped over a week later"
                                },
                                {
                                    "0": "10749",
                                    "1": "2019-11-20",
                                    "2": "2019-12-19",
                                    "3": "Shipped over a week later"
                                },
                                {
                                    "0": "10750",
                                    "1": "2019-11-21",
                                    "2": "2019-11-24",
                                    "3": "Shipped within one week"
                                },
                                {
                                    "0": "10751",
                                    "1": "2019-11-24",
                                    "2": "2019-12-03",
                                    "3": "Shipped over a week later"
                                },
                                {
                                    "0": "10752",
                                    "1": "2019-11-24",
                                    "2": "2019-11-28",
                                    "3": "Shipped within one week"
                                },
                                {
                                    "0": "10753",
                                    "1": "2019-11-25",
                                    "2": "2019-11-27",
                                    "3": "Shipped within one week"
                                },
                                {
                                    "0": "10754",
                                    "1": "2019-11-25",
                                    "2": "2019-11-27",
                                    "3": "Shipped within one week"
                                },
                                {
                                    "0": "10755",
                                    "1": "2019-11-26",
                                    "2": "2019-11-28",
                                    "3": "Shipped within one week"
                                },
                                {
                                    "0": "10756",
                                    "1": "2019-11-27",
                                    "2": "2019-12-02",
                                    "3": "Shipped within one week"
                                },
                                {
                                    "0": "10757",
                                    "1": "2019-11-27",
                                    "2": "2019-12-15",
                                    "3": "Shipped over a week later"
                                },
                                {
                                    "0": "10758",
                                    "1": "2019-11-28",
                                    "2": "2019-12-04",
                                    "3": "Shipped within one week"
                                },
                                {
                                    "0": "10759",
                                    "1": "2019-11-28",
                                    "2": "2019-12-12",
                                    "3": "Shipped over a week later"
                                },
                                {
                                    "0": "10760",
                                    "1": "2019-12-01",
                                    "2": "2019-12-10",
                                    "3": "Shipped over a week later"
                                },
                                {
                                    "0": "10761",
                                    "1": "2019-12-02",
                                    "2": "2019-12-08",
                                    "3": "Shipped within one week"
                                },
                                {
                                    "0": "10762",
                                    "1": "2019-12-02",
                                    "2": "2019-12-09",
                                    "3": "Shipped within one week"
                                },
                                {
                                    "0": "10763",
                                    "1": "2019-12-03",
                                    "2": "2019-12-08",
                                    "3": "Shipped within one week"
                                },
                                {
                                    "0": "10764",
                                    "1": "2019-12-03",
                                    "2": "2019-12-08",
                                    "3": "Shipped within one week"
                                },
                                {
                                    "0": "10765",
                                    "1": "2019-12-04",
                                    "2": "2019-12-09",
                                    "3": "Shipped within one week"
                                },
                                {
                                    "0": "10766",
                                    "1": "2019-12-05",
                                    "2": "2019-12-09",
                                    "3": "Shipped within one week"
                                },
                                {
                                    "0": "10767",
                                    "1": "2019-12-05",
                                    "2": "2019-12-15",
                                    "3": "Shipped over a week later"
                                },
                                {
                                    "0": "10768",
                                    "1": "2019-12-08",
                                    "2": "2019-12-15",
                                    "3": "Shipped within one week"
                                },
                                {
                                    "0": "10769",
                                    "1": "2019-12-08",
                                    "2": "2019-12-12",
                                    "3": "Shipped within one week"
                                },
                                {
                                    "0": "10770",
                                    "1": "2019-12-09",
                                    "2": "2019-12-17",
                                    "3": "Shipped over a week later"
                                },
                                {
                                    "0": "10771",
                                    "1": "2019-12-10",
                                    "2": "2020-01-02",
                                    "3": "Shipped over a week later"
                                },
                                {
                                    "0": "10772",
                                    "1": "2019-12-10",
                                    "2": "2019-12-19",
                                    "3": "Shipped over a week later"
                                },
                                {
                                    "0": "10773",
                                    "1": "2019-12-11",
                                    "2": "2019-12-16",
                                    "3": "Shipped within one week"
                                },
                                {
                                    "0": "10774",
                                    "1": "2019-12-11",
                                    "2": "2019-12-12",
                                    "3": "Shipped within one week"
                                },
                                {
                                    "0": "10775",
                                    "1": "2019-12-12",
                                    "2": "2019-12-26",
                                    "3": "Shipped over a week later"
                                },
                                {
                                    "0": "10776",
                                    "1": "2019-12-15",
                                    "2": "2019-12-18",
                                    "3": "Shipped within one week"
                                },
                                {
                                    "0": "10777",
                                    "1": "2019-12-15",
                                    "2": "2020-01-21",
                                    "3": "Shipped over a week later"
                                },
                                {
                                    "0": "10778",
                                    "1": "2019-12-16",
                                    "2": "2019-12-24",
                                    "3": "Shipped over a week later"
                                },
                                {
                                    "0": "10779",
                                    "1": "2019-12-16",
                                    "2": "2020-01-14",
                                    "3": "Shipped over a week later"
                                },
                                {
                                    "0": "10780",
                                    "1": "2019-12-16",
                                    "2": "2019-12-25",
                                    "3": "Shipped over a week later"
                                },
                                {
                                    "0": "10781",
                                    "1": "2019-12-17",
                                    "2": "2019-12-19",
                                    "3": "Shipped within one week"
                                },
                                {
                                    "0": "10782",
                                    "1": "2019-12-17",
                                    "2": "2019-12-22",
                                    "3": "Shipped within one week"
                                },
                                {
                                    "0": "10783",
                                    "1": "2019-12-18",
                                    "2": "2019-12-19",
                                    "3": "Shipped within one week"
                                },
                                {
                                    "0": "10784",
                                    "1": "2019-12-18",
                                    "2": "2019-12-22",
                                    "3": "Shipped within one week"
                                },
                                {
                                    "0": "10785",
                                    "1": "2019-12-18",
                                    "2": "2019-12-24",
                                    "3": "Shipped within one week"
                                },
                                {
                                    "0": "10786",
                                    "1": "2019-12-19",
                                    "2": "2019-12-23",
                                    "3": "Shipped within one week"
                                },
                                {
                                    "0": "10787",
                                    "1": "2019-12-19",
                                    "2": "2019-12-26",
                                    "3": "Shipped within one week"
                                },
                                {
                                    "0": "10788",
                                    "1": "2019-12-22",
                                    "2": "2020-01-19",
                                    "3": "Shipped over a week later"
                                },
                                {
                                    "0": "10789",
                                    "1": "2019-12-22",
                                    "2": "2019-12-31",
                                    "3": "Shipped over a week later"
                                },
                                {
                                    "0": "10790",
                                    "1": "2019-12-22",
                                    "2": "2019-12-26",
                                    "3": "Shipped within one week"
                                },
                                {
                                    "0": "10791",
                                    "1": "2019-12-23",
                                    "2": "2020-01-01",
                                    "3": "Shipped over a week later"
                                },
                                {
                                    "0": "10792",
                                    "1": "2019-12-23",
                                    "2": "2019-12-31",
                                    "3": "Shipped over a week later"
                                },
                                {
                                    "0": "10793",
                                    "1": "2019-12-24",
                                    "2": "2020-01-08",
                                    "3": "Shipped over a week later"
                                },
                                {
                                    "0": "10794",
                                    "1": "2019-12-24",
                                    "2": "2020-01-02",
                                    "3": "Shipped over a week later"
                                },
                                {
                                    "0": "10795",
                                    "1": "2019-12-24",
                                    "2": "2020-01-20",
                                    "3": "Shipped over a week later"
                                },
                                {
                                    "0": "10796",
                                    "1": "2019-12-25",
                                    "2": "2020-01-14",
                                    "3": "Shipped over a week later"
                                },
                                {
                                    "0": "10797",
                                    "1": "2019-12-25",
                                    "2": "2020-01-05",
                                    "3": "Shipped over a week later"
                                },
                                {
                                    "0": "10798",
                                    "1": "2019-12-26",
                                    "2": "2020-01-05",
                                    "3": "Shipped over a week later"
                                },
                                {
                                    "0": "10799",
                                    "1": "2019-12-26",
                                    "2": "2020-01-05",
                                    "3": "Shipped over a week later"
                                },
                                {
                                    "0": "10800",
                                    "1": "2019-12-26",
                                    "2": "2020-01-05",
                                    "3": "Shipped over a week later"
                                },
                                {
                                    "0": "10801",
                                    "1": "2019-12-29",
                                    "2": "2019-12-31",
                                    "3": "Shipped within one week"
                                },
                                {
                                    "0": "10802",
                                    "1": "2019-12-29",
                                    "2": "2020-01-02",
                                    "3": "Shipped within one week"
                                },
                                {
                                    "0": "10803",
                                    "1": "2019-12-30",
                                    "2": "2020-01-06",
                                    "3": "Shipped within one week"
                                },
                                {
                                    "0": "10804",
                                    "1": "2019-12-30",
                                    "2": "2020-01-07",
                                    "3": "Shipped over a week later"
                                },
                                {
                                    "0": "10805",
                                    "1": "2019-12-30",
                                    "2": "2020-01-09",
                                    "3": "Shipped over a week later"
                                },
                                {
                                    "0": "10806",
                                    "1": "2019-12-31",
                                    "2": "2020-01-05",
                                    "3": "Shipped within one week"
                                },
                                {
                                    "0": "10807",
                                    "1": "2019-12-31",
                                    "2": "2020-01-30",
                                    "3": "Shipped over a week later"
                                },
                                {
                                    "0": "10808",
                                    "1": "2020-01-01",
                                    "2": "2020-01-09",
                                    "3": "Shipped over a week later"
                                },
                                {
                                    "0": "10809",
                                    "1": "2020-01-01",
                                    "2": "2020-01-07",
                                    "3": "Shipped within one week"
                                },
                                {
                                    "0": "10810",
                                    "1": "2020-01-01",
                                    "2": "2020-01-07",
                                    "3": "Shipped within one week"
                                },
                                {
                                    "0": "10811",
                                    "1": "2020-01-02",
                                    "2": "2020-01-08",
                                    "3": "Shipped within one week"
                                },
                                {
                                    "0": "10812",
                                    "1": "2020-01-02",
                                    "2": "2020-01-12",
                                    "3": "Shipped over a week later"
                                },
                                {
                                    "0": "10813",
                                    "1": "2020-01-05",
                                    "2": "2020-01-09",
                                    "3": "Shipped within one week"
                                },
                                {
                                    "0": "10814",
                                    "1": "2020-01-05",
                                    "2": "2020-01-14",
                                    "3": "Shipped over a week later"
                                },
                                {
                                    "0": "10815",
                                    "1": "2020-01-05",
                                    "2": "2020-01-14",
                                    "3": "Shipped over a week later"
                                },
                                {
                                    "0": "10816",
                                    "1": "2020-01-06",
                                    "2": "2020-02-04",
                                    "3": "Shipped over a week later"
                                },
                                {
                                    "0": "10817",
                                    "1": "2020-01-06",
                                    "2": "2020-01-13",
                                    "3": "Shipped within one week"
                                },
                                {
                                    "0": "10818",
                                    "1": "2020-01-07",
                                    "2": "2020-01-12",
                                    "3": "Shipped within one week"
                                },
                                {
                                    "0": "10819",
                                    "1": "2020-01-07",
                                    "2": "2020-01-16",
                                    "3": "Shipped over a week later"
                                },
                                {
                                    "0": "10820",
                                    "1": "2020-01-07",
                                    "2": "2020-01-13",
                                    "3": "Shipped within one week"
                                },
                                {
                                    "0": "10821",
                                    "1": "2020-01-08",
                                    "2": "2020-01-15",
                                    "3": "Shipped within one week"
                                },
                                {
                                    "0": "10822",
                                    "1": "2020-01-08",
                                    "2": "2020-01-16",
                                    "3": "Shipped over a week later"
                                },
                                {
                                    "0": "10823",
                                    "1": "2020-01-09",
                                    "2": "2020-01-13",
                                    "3": "Shipped within one week"
                                },
                                {
                                    "0": "10824",
                                    "1": "2020-01-09",
                                    "2": "2020-01-30",
                                    "3": "Shipped over a week later"
                                },
                                {
                                    "0": "10825",
                                    "1": "2020-01-09",
                                    "2": "2020-01-14",
                                    "3": "Shipped within one week"
                                },
                                {
                                    "0": "10826",
                                    "1": "2020-01-12",
                                    "2": "2020-02-06",
                                    "3": "Shipped over a week later"
                                },
                                {
                                    "0": "10827",
                                    "1": "2020-01-12",
                                    "2": "2020-02-06",
                                    "3": "Shipped over a week later"
                                },
                                {
                                    "0": "10828",
                                    "1": "2020-01-13",
                                    "2": "2020-02-04",
                                    "3": "Shipped over a week later"
                                },
                                {
                                    "0": "10829",
                                    "1": "2020-01-13",
                                    "2": "2020-01-23",
                                    "3": "Shipped over a week later"
                                },
                                {
                                    "0": "10830",
                                    "1": "2020-01-13",
                                    "2": "2020-01-21",
                                    "3": "Shipped over a week later"
                                },
                                {
                                    "0": "10831",
                                    "1": "2020-01-14",
                                    "2": "2020-01-23",
                                    "3": "Shipped over a week later"
                                },
                                {
                                    "0": "10832",
                                    "1": "2020-01-14",
                                    "2": "2020-01-19",
                                    "3": "Shipped within one week"
                                },
                                {
                                    "0": "10833",
                                    "1": "2020-01-15",
                                    "2": "2020-01-23",
                                    "3": "Shipped over a week later"
                                },
                                {
                                    "0": "10834",
                                    "1": "2020-01-15",
                                    "2": "2020-01-19",
                                    "3": "Shipped within one week"
                                },
                                {
                                    "0": "10835",
                                    "1": "2020-01-15",
                                    "2": "2020-01-21",
                                    "3": "Shipped within one week"
                                },
                                {
                                    "0": "10836",
                                    "1": "2020-01-16",
                                    "2": "2020-01-21",
                                    "3": "Shipped within one week"
                                },
                                {
                                    "0": "10837",
                                    "1": "2020-01-16",
                                    "2": "2020-01-23",
                                    "3": "Shipped within one week"
                                },
                                {
                                    "0": "10838",
                                    "1": "2020-01-19",
                                    "2": "2020-01-23",
                                    "3": "Shipped within one week"
                                },
                                {
                                    "0": "10839",
                                    "1": "2020-01-19",
                                    "2": "2020-01-22",
                                    "3": "Shipped within one week"
                                },
                                {
                                    "0": "10840",
                                    "1": "2020-01-19",
                                    "2": "2020-02-16",
                                    "3": "Shipped over a week later"
                                },
                                {
                                    "0": "10841",
                                    "1": "2020-01-20",
                                    "2": "2020-01-29",
                                    "3": "Shipped over a week later"
                                },
                                {
                                    "0": "10842",
                                    "1": "2020-01-20",
                                    "2": "2020-01-29",
                                    "3": "Shipped over a week later"
                                },
                                {
                                    "0": "10843",
                                    "1": "2020-01-21",
                                    "2": "2020-01-26",
                                    "3": "Shipped within one week"
                                },
                                {
                                    "0": "10844",
                                    "1": "2020-01-21",
                                    "2": "2020-01-26",
                                    "3": "Shipped within one week"
                                },
                                {
                                    "0": "10845",
                                    "1": "2020-01-21",
                                    "2": "2020-01-30",
                                    "3": "Shipped over a week later"
                                },
                                {
                                    "0": "10846",
                                    "1": "2020-01-22",
                                    "2": "2020-01-23",
                                    "3": "Shipped within one week"
                                },
                                {
                                    "0": "10847",
                                    "1": "2020-01-22",
                                    "2": "2020-02-10",
                                    "3": "Shipped over a week later"
                                },
                                {
                                    "0": "10848",
                                    "1": "2020-01-23",
                                    "2": "2020-01-29",
                                    "3": "Shipped within one week"
                                },
                                {
                                    "0": "10849",
                                    "1": "2020-01-23",
                                    "2": "2020-01-30",
                                    "3": "Shipped within one week"
                                },
                                {
                                    "0": "10850",
                                    "1": "2020-01-23",
                                    "2": "2020-01-30",
                                    "3": "Shipped within one week"
                                },
                                {
                                    "0": "10851",
                                    "1": "2020-01-26",
                                    "2": "2020-02-02",
                                    "3": "Shipped within one week"
                                },
                                {
                                    "0": "10852",
                                    "1": "2020-01-26",
                                    "2": "2020-01-30",
                                    "3": "Shipped within one week"
                                },
                                {
                                    "0": "10853",
                                    "1": "2020-01-27",
                                    "2": "2020-02-03",
                                    "3": "Shipped within one week"
                                },
                                {
                                    "0": "10854",
                                    "1": "2020-01-27",
                                    "2": "2020-02-05",
                                    "3": "Shipped over a week later"
                                },
                                {
                                    "0": "10855",
                                    "1": "2020-01-27",
                                    "2": "2020-02-04",
                                    "3": "Shipped over a week later"
                                },
                                {
                                    "0": "10856",
                                    "1": "2020-01-28",
                                    "2": "2020-02-10",
                                    "3": "Shipped over a week later"
                                },
                                {
                                    "0": "10857",
                                    "1": "2020-01-28",
                                    "2": "2020-02-06",
                                    "3": "Shipped over a week later"
                                },
                                {
                                    "0": "10858",
                                    "1": "2020-01-29",
                                    "2": "2020-02-03",
                                    "3": "Shipped within one week"
                                },
                                {
                                    "0": "10859",
                                    "1": "2020-01-29",
                                    "2": "2020-02-02",
                                    "3": "Shipped within one week"
                                },
                                {
                                    "0": "10860",
                                    "1": "2020-01-29",
                                    "2": "2020-02-04",
                                    "3": "Shipped within one week"
                                },
                                {
                                    "0": "10861",
                                    "1": "2020-01-30",
                                    "2": "2020-02-17",
                                    "3": "Shipped over a week later"
                                },
                                {
                                    "0": "10862",
                                    "1": "2020-01-30",
                                    "2": "2020-02-02",
                                    "3": "Shipped within one week"
                                },
                                {
                                    "0": "10863",
                                    "1": "2020-02-02",
                                    "2": "2020-02-17",
                                    "3": "Shipped over a week later"
                                },
                                {
                                    "0": "10864",
                                    "1": "2020-02-02",
                                    "2": "2020-02-09",
                                    "3": "Shipped within one week"
                                },
                                {
                                    "0": "10865",
                                    "1": "2020-02-02",
                                    "2": "2020-02-12",
                                    "3": "Shipped over a week later"
                                },
                                {
                                    "0": "10866",
                                    "1": "2020-02-03",
                                    "2": "2020-02-12",
                                    "3": "Shipped over a week later"
                                },
                                {
                                    "0": "10867",
                                    "1": "2020-02-03",
                                    "2": "2020-02-11",
                                    "3": "Shipped over a week later"
                                },
                                {
                                    "0": "10868",
                                    "1": "2020-02-04",
                                    "2": "2020-02-23",
                                    "3": "Shipped over a week later"
                                },
                                {
                                    "0": "10869",
                                    "1": "2020-02-04",
                                    "2": "2020-02-09",
                                    "3": "Shipped within one week"
                                },
                                {
                                    "0": "10870",
                                    "1": "2020-02-04",
                                    "2": "2020-02-13",
                                    "3": "Shipped over a week later"
                                },
                                {
                                    "0": "10871",
                                    "1": "2020-02-05",
                                    "2": "2020-02-10",
                                    "3": "Shipped within one week"
                                },
                                {
                                    "0": "10872",
                                    "1": "2020-02-05",
                                    "2": "2020-02-09",
                                    "3": "Shipped within one week"
                                },
                                {
                                    "0": "10873",
                                    "1": "2020-02-06",
                                    "2": "2020-02-09",
                                    "3": "Shipped within one week"
                                },
                                {
                                    "0": "10874",
                                    "1": "2020-02-06",
                                    "2": "2020-02-11",
                                    "3": "Shipped within one week"
                                },
                                {
                                    "0": "10875",
                                    "1": "2020-02-06",
                                    "2": "2020-03-03",
                                    "3": "Shipped over a week later"
                                },
                                {
                                    "0": "10876",
                                    "1": "2020-02-09",
                                    "2": "2020-02-12",
                                    "3": "Shipped within one week"
                                },
                                {
                                    "0": "10877",
                                    "1": "2020-02-09",
                                    "2": "2020-02-19",
                                    "3": "Shipped over a week later"
                                },
                                {
                                    "0": "10878",
                                    "1": "2020-02-10",
                                    "2": "2020-02-12",
                                    "3": "Shipped within one week"
                                },
                                {
                                    "0": "10879",
                                    "1": "2020-02-10",
                                    "2": "2020-02-12",
                                    "3": "Shipped within one week"
                                },
                                {
                                    "0": "10880",
                                    "1": "2020-02-10",
                                    "2": "2020-02-18",
                                    "3": "Shipped over a week later"
                                },
                                {
                                    "0": "10881",
                                    "1": "2020-02-11",
                                    "2": "2020-02-18",
                                    "3": "Shipped within one week"
                                },
                                {
                                    "0": "10882",
                                    "1": "2020-02-11",
                                    "2": "2020-02-20",
                                    "3": "Shipped over a week later"
                                },
                                {
                                    "0": "10883",
                                    "1": "2020-02-12",
                                    "2": "2020-02-20",
                                    "3": "Shipped over a week later"
                                },
                                {
                                    "0": "10884",
                                    "1": "2020-02-12",
                                    "2": "2020-02-13",
                                    "3": "Shipped within one week"
                                },
                                {
                                    "0": "10885",
                                    "1": "2020-02-12",
                                    "2": "2020-02-18",
                                    "3": "Shipped within one week"
                                },
                                {
                                    "0": "10886",
                                    "1": "2020-02-13",
                                    "2": "2020-03-02",
                                    "3": "Shipped over a week later"
                                },
                                {
                                    "0": "10887",
                                    "1": "2020-02-13",
                                    "2": "2020-02-16",
                                    "3": "Shipped within one week"
                                },
                                {
                                    "0": "10888",
                                    "1": "2020-02-16",
                                    "2": "2020-02-23",
                                    "3": "Shipped within one week"
                                },
                                {
                                    "0": "10889",
                                    "1": "2020-02-16",
                                    "2": "2020-02-23",
                                    "3": "Shipped within one week"
                                },
                                {
                                    "0": "10890",
                                    "1": "2020-02-16",
                                    "2": "2020-02-18",
                                    "3": "Shipped within one week"
                                },
                                {
                                    "0": "10891",
                                    "1": "2020-02-17",
                                    "2": "2020-02-19",
                                    "3": "Shipped within one week"
                                },
                                {
                                    "0": "10892",
                                    "1": "2020-02-17",
                                    "2": "2020-02-19",
                                    "3": "Shipped within one week"
                                },
                                {
                                    "0": "10893",
                                    "1": "2020-02-18",
                                    "2": "2020-02-20",
                                    "3": "Shipped within one week"
                                },
                                {
                                    "0": "10894",
                                    "1": "2020-02-18",
                                    "2": "2020-02-20",
                                    "3": "Shipped within one week"
                                },
                                {
                                    "0": "10895",
                                    "1": "2020-02-18",
                                    "2": "2020-02-23",
                                    "3": "Shipped within one week"
                                },
                                {
                                    "0": "10896",
                                    "1": "2020-02-19",
                                    "2": "2020-02-27",
                                    "3": "Shipped over a week later"
                                },
                                {
                                    "0": "10897",
                                    "1": "2020-02-19",
                                    "2": "2020-02-25",
                                    "3": "Shipped within one week"
                                },
                                {
                                    "0": "10898",
                                    "1": "2020-02-20",
                                    "2": "2020-03-06",
                                    "3": "Shipped over a week later"
                                },
                                {
                                    "0": "10899",
                                    "1": "2020-02-20",
                                    "2": "2020-02-26",
                                    "3": "Shipped within one week"
                                },
                                {
                                    "0": "10900",
                                    "1": "2020-02-20",
                                    "2": "2020-03-04",
                                    "3": "Shipped over a week later"
                                },
                                {
                                    "0": "10901",
                                    "1": "2020-02-23",
                                    "2": "2020-02-26",
                                    "3": "Shipped within one week"
                                },
                                {
                                    "0": "10902",
                                    "1": "2020-02-23",
                                    "2": "2020-03-03",
                                    "3": "Shipped over a week later"
                                },
                                {
                                    "0": "10903",
                                    "1": "2020-02-24",
                                    "2": "2020-03-04",
                                    "3": "Shipped over a week later"
                                },
                                {
                                    "0": "10904",
                                    "1": "2020-02-24",
                                    "2": "2020-02-27",
                                    "3": "Shipped within one week"
                                },
                                {
                                    "0": "10905",
                                    "1": "2020-02-24",
                                    "2": "2020-03-06",
                                    "3": "Shipped over a week later"
                                },
                                {
                                    "0": "10906",
                                    "1": "2020-02-25",
                                    "2": "2020-03-03",
                                    "3": "Shipped within one week"
                                },
                                {
                                    "0": "10907",
                                    "1": "2020-02-25",
                                    "2": "2020-02-27",
                                    "3": "Shipped within one week"
                                },
                                {
                                    "0": "10908",
                                    "1": "2020-02-26",
                                    "2": "2020-03-06",
                                    "3": "Shipped over a week later"
                                },
                                {
                                    "0": "10909",
                                    "1": "2020-02-26",
                                    "2": "2020-03-10",
                                    "3": "Shipped over a week later"
                                },
                                {
                                    "0": "10910",
                                    "1": "2020-02-26",
                                    "2": "2020-03-04",
                                    "3": "Shipped within one week"
                                },
                                {
                                    "0": "10911",
                                    "1": "2020-02-26",
                                    "2": "2020-03-05",
                                    "3": "Shipped over a week later"
                                },
                                {
                                    "0": "10912",
                                    "1": "2020-02-26",
                                    "2": "2020-03-18",
                                    "3": "Shipped over a week later"
                                },
                                {
                                    "0": "10913",
                                    "1": "2020-02-26",
                                    "2": "2020-03-04",
                                    "3": "Shipped within one week"
                                },
                                {
                                    "0": "10914",
                                    "1": "2020-02-27",
                                    "2": "2020-03-02",
                                    "3": "Shipped within one week"
                                },
                                {
                                    "0": "10915",
                                    "1": "2020-02-27",
                                    "2": "2020-03-02",
                                    "3": "Shipped within one week"
                                },
                                {
                                    "0": "10916",
                                    "1": "2020-02-27",
                                    "2": "2020-03-09",
                                    "3": "Shipped over a week later"
                                },
                                {
                                    "0": "10917",
                                    "1": "2020-03-02",
                                    "2": "2020-03-11",
                                    "3": "Shipped over a week later"
                                },
                                {
                                    "0": "10918",
                                    "1": "2020-03-02",
                                    "2": "2020-03-11",
                                    "3": "Shipped over a week later"
                                },
                                {
                                    "0": "10919",
                                    "1": "2020-03-02",
                                    "2": "2020-03-04",
                                    "3": "Shipped within one week"
                                },
                                {
                                    "0": "10920",
                                    "1": "2020-03-03",
                                    "2": "2020-03-09",
                                    "3": "Shipped within one week"
                                },
                                {
                                    "0": "10921",
                                    "1": "2020-03-03",
                                    "2": "2020-03-09",
                                    "3": "Shipped within one week"
                                },
                                {
                                    "0": "10922",
                                    "1": "2020-03-03",
                                    "2": "2020-03-05",
                                    "3": "Shipped within one week"
                                },
                                {
                                    "0": "10923",
                                    "1": "2020-03-03",
                                    "2": "2020-03-13",
                                    "3": "Shipped over a week later"
                                },
                                {
                                    "0": "10924",
                                    "1": "2020-03-04",
                                    "2": "2020-04-08",
                                    "3": "Shipped over a week later"
                                },
                                {
                                    "0": "10925",
                                    "1": "2020-03-04",
                                    "2": "2020-03-13",
                                    "3": "Shipped over a week later"
                                },
                                {
                                    "0": "10926",
                                    "1": "2020-03-04",
                                    "2": "2020-03-11",
                                    "3": "Shipped within one week"
                                },
                                {
                                    "0": "10927",
                                    "1": "2020-03-05",
                                    "2": "2020-04-08",
                                    "3": "Shipped over a week later"
                                },
                                {
                                    "0": "10928",
                                    "1": "2020-03-05",
                                    "2": "2020-03-18",
                                    "3": "Shipped over a week later"
                                },
                                {
                                    "0": "10929",
                                    "1": "2020-03-05",
                                    "2": "2020-03-12",
                                    "3": "Shipped within one week"
                                },
                                {
                                    "0": "10930",
                                    "1": "2020-03-06",
                                    "2": "2020-03-18",
                                    "3": "Shipped over a week later"
                                },
                                {
                                    "0": "10931",
                                    "1": "2020-03-06",
                                    "2": "2020-03-19",
                                    "3": "Shipped over a week later"
                                },
                                {
                                    "0": "10932",
                                    "1": "2020-03-06",
                                    "2": "2020-03-24",
                                    "3": "Shipped over a week later"
                                },
                                {
                                    "0": "10933",
                                    "1": "2020-03-06",
                                    "2": "2020-03-16",
                                    "3": "Shipped over a week later"
                                },
                                {
                                    "0": "10934",
                                    "1": "2020-03-09",
                                    "2": "2020-03-12",
                                    "3": "Shipped within one week"
                                },
                                {
                                    "0": "10935",
                                    "1": "2020-03-09",
                                    "2": "2020-03-18",
                                    "3": "Shipped over a week later"
                                },
                                {
                                    "0": "10936",
                                    "1": "2020-03-09",
                                    "2": "2020-03-18",
                                    "3": "Shipped over a week later"
                                },
                                {
                                    "0": "10937",
                                    "1": "2020-03-10",
                                    "2": "2020-03-13",
                                    "3": "Shipped within one week"
                                },
                                {
                                    "0": "10938",
                                    "1": "2020-03-10",
                                    "2": "2020-03-16",
                                    "3": "Shipped within one week"
                                },
                                {
                                    "0": "10939",
                                    "1": "2020-03-10",
                                    "2": "2020-03-13",
                                    "3": "Shipped within one week"
                                },
                                {
                                    "0": "10940",
                                    "1": "2020-03-11",
                                    "2": "2020-03-23",
                                    "3": "Shipped over a week later"
                                },
                                {
                                    "0": "10941",
                                    "1": "2020-03-11",
                                    "2": "2020-03-20",
                                    "3": "Shipped over a week later"
                                },
                                {
                                    "0": "10942",
                                    "1": "2020-03-11",
                                    "2": "2020-03-18",
                                    "3": "Shipped within one week"
                                },
                                {
                                    "0": "10943",
                                    "1": "2020-03-11",
                                    "2": "2020-03-19",
                                    "3": "Shipped over a week later"
                                },
                                {
                                    "0": "10944",
                                    "1": "2020-03-12",
                                    "2": "2020-03-13",
                                    "3": "Shipped within one week"
                                },
                                {
                                    "0": "10945",
                                    "1": "2020-03-12",
                                    "2": "2020-03-18",
                                    "3": "Shipped within one week"
                                },
                                {
                                    "0": "10946",
                                    "1": "2020-03-12",
                                    "2": "2020-03-19",
                                    "3": "Shipped within one week"
                                },
                                {
                                    "0": "10947",
                                    "1": "2020-03-13",
                                    "2": "2020-03-16",
                                    "3": "Shipped within one week"
                                },
                                {
                                    "0": "10948",
                                    "1": "2020-03-13",
                                    "2": "2020-03-19",
                                    "3": "Shipped within one week"
                                },
                                {
                                    "0": "10949",
                                    "1": "2020-03-13",
                                    "2": "2020-03-17",
                                    "3": "Shipped within one week"
                                },
                                {
                                    "0": "10950",
                                    "1": "2020-03-16",
                                    "2": "2020-03-23",
                                    "3": "Shipped within one week"
                                },
                                {
                                    "0": "10951",
                                    "1": "2020-03-16",
                                    "2": "2020-04-07",
                                    "3": "Shipped over a week later"
                                },
                                {
                                    "0": "10952",
                                    "1": "2020-03-16",
                                    "2": "2020-03-24",
                                    "3": "Shipped over a week later"
                                },
                                {
                                    "0": "10953",
                                    "1": "2020-03-16",
                                    "2": "2020-03-25",
                                    "3": "Shipped over a week later"
                                },
                                {
                                    "0": "10954",
                                    "1": "2020-03-17",
                                    "2": "2020-03-20",
                                    "3": "Shipped within one week"
                                },
                                {
                                    "0": "10955",
                                    "1": "2020-03-17",
                                    "2": "2020-03-20",
                                    "3": "Shipped within one week"
                                },
                                {
                                    "0": "10956",
                                    "1": "2020-03-17",
                                    "2": "2020-03-20",
                                    "3": "Shipped within one week"
                                },
                                {
                                    "0": "10957",
                                    "1": "2020-03-18",
                                    "2": "2020-03-27",
                                    "3": "Shipped over a week later"
                                },
                                {
                                    "0": "10958",
                                    "1": "2020-03-18",
                                    "2": "2020-03-27",
                                    "3": "Shipped over a week later"
                                },
                                {
                                    "0": "10959",
                                    "1": "2020-03-18",
                                    "2": "2020-03-23",
                                    "3": "Shipped within one week"
                                },
                                {
                                    "0": "10960",
                                    "1": "2020-03-19",
                                    "2": "2020-04-08",
                                    "3": "Shipped over a week later"
                                },
                                {
                                    "0": "10961",
                                    "1": "2020-03-19",
                                    "2": "2020-03-30",
                                    "3": "Shipped over a week later"
                                },
                                {
                                    "0": "10962",
                                    "1": "2020-03-19",
                                    "2": "2020-03-23",
                                    "3": "Shipped within one week"
                                },
                                {
                                    "0": "10963",
                                    "1": "2020-03-19",
                                    "2": "2020-03-26",
                                    "3": "Shipped within one week"
                                },
                                {
                                    "0": "10964",
                                    "1": "2020-03-20",
                                    "2": "2020-03-24",
                                    "3": "Shipped within one week"
                                },
                                {
                                    "0": "10965",
                                    "1": "2020-03-20",
                                    "2": "2020-03-30",
                                    "3": "Shipped over a week later"
                                },
                                {
                                    "0": "10966",
                                    "1": "2020-03-20",
                                    "2": "2020-04-08",
                                    "3": "Shipped over a week later"
                                },
                                {
                                    "0": "10967",
                                    "1": "2020-03-23",
                                    "2": "2020-04-02",
                                    "3": "Shipped over a week later"
                                },
                                {
                                    "0": "10968",
                                    "1": "2020-03-23",
                                    "2": "2020-04-01",
                                    "3": "Shipped over a week later"
                                },
                                {
                                    "0": "10969",
                                    "1": "2020-03-23",
                                    "2": "2020-03-30",
                                    "3": "Shipped within one week"
                                },
                                {
                                    "0": "10970",
                                    "1": "2020-03-24",
                                    "2": "2020-04-24",
                                    "3": "Shipped over a week later"
                                },
                                {
                                    "0": "10971",
                                    "1": "2020-03-24",
                                    "2": "2020-04-02",
                                    "3": "Shipped over a week later"
                                },
                                {
                                    "0": "10972",
                                    "1": "2020-03-24",
                                    "2": "2020-03-26",
                                    "3": "Shipped within one week"
                                },
                                {
                                    "0": "10973",
                                    "1": "2020-03-24",
                                    "2": "2020-03-27",
                                    "3": "Shipped within one week"
                                },
                                {
                                    "0": "10974",
                                    "1": "2020-03-25",
                                    "2": "2020-04-03",
                                    "3": "Shipped over a week later"
                                },
                                {
                                    "0": "10975",
                                    "1": "2020-03-25",
                                    "2": "2020-03-27",
                                    "3": "Shipped within one week"
                                },
                                {
                                    "0": "10976",
                                    "1": "2020-03-25",
                                    "2": "2020-04-03",
                                    "3": "Shipped over a week later"
                                },
                                {
                                    "0": "10977",
                                    "1": "2020-03-26",
                                    "2": "2020-04-10",
                                    "3": "Shipped over a week later"
                                },
                                {
                                    "0": "10978",
                                    "1": "2020-03-26",
                                    "2": "2020-04-23",
                                    "3": "Shipped over a week later"
                                },
                                {
                                    "0": "10979",
                                    "1": "2020-03-26",
                                    "2": "2020-03-31",
                                    "3": "Shipped within one week"
                                },
                                {
                                    "0": "10980",
                                    "1": "2020-03-27",
                                    "2": "2020-04-17",
                                    "3": "Shipped over a week later"
                                },
                                {
                                    "0": "10981",
                                    "1": "2020-03-27",
                                    "2": "2020-04-02",
                                    "3": "Shipped within one week"
                                },
                                {
                                    "0": "10982",
                                    "1": "2020-03-27",
                                    "2": "2020-04-08",
                                    "3": "Shipped over a week later"
                                },
                                {
                                    "0": "10983",
                                    "1": "2020-03-27",
                                    "2": "2020-04-06",
                                    "3": "Shipped over a week later"
                                },
                                {
                                    "0": "10984",
                                    "1": "2020-03-30",
                                    "2": "2020-04-03",
                                    "3": "Shipped within one week"
                                },
                                {
                                    "0": "10985",
                                    "1": "2020-03-30",
                                    "2": "2020-04-02",
                                    "3": "Shipped within one week"
                                },
                                {
                                    "0": "10986",
                                    "1": "2020-03-30",
                                    "2": "2020-04-21",
                                    "3": "Shipped over a week later"
                                },
                                {
                                    "0": "10987",
                                    "1": "2020-03-31",
                                    "2": "2020-04-06",
                                    "3": "Shipped within one week"
                                },
                                {
                                    "0": "10988",
                                    "1": "2020-03-31",
                                    "2": "2020-04-10",
                                    "3": "Shipped over a week later"
                                },
                                {
                                    "0": "10989",
                                    "1": "2020-03-31",
                                    "2": "2020-04-02",
                                    "3": "Shipped within one week"
                                },
                                {
                                    "0": "10990",
                                    "1": "2020-04-01",
                                    "2": "2020-04-07",
                                    "3": "Shipped within one week"
                                },
                                {
                                    "0": "10991",
                                    "1": "2020-04-01",
                                    "2": "2020-04-07",
                                    "3": "Shipped within one week"
                                },
                                {
                                    "0": "10992",
                                    "1": "2020-04-01",
                                    "2": "2020-04-03",
                                    "3": "Shipped within one week"
                                },
                                {
                                    "0": "10993",
                                    "1": "2020-04-01",
                                    "2": "2020-04-10",
                                    "3": "Shipped over a week later"
                                },
                                {
                                    "0": "10994",
                                    "1": "2020-04-02",
                                    "2": "2020-04-09",
                                    "3": "Shipped within one week"
                                },
                                {
                                    "0": "10995",
                                    "1": "2020-04-02",
                                    "2": "2020-04-06",
                                    "3": "Shipped within one week"
                                },
                                {
                                    "0": "10996",
                                    "1": "2020-04-02",
                                    "2": "2020-04-10",
                                    "3": "Shipped over a week later"
                                },
                                {
                                    "0": "10997",
                                    "1": "2020-04-03",
                                    "2": "2020-04-13",
                                    "3": "Shipped over a week later"
                                },
                                {
                                    "0": "10998",
                                    "1": "2020-04-03",
                                    "2": "2020-04-17",
                                    "3": "Shipped over a week later"
                                },
                                {
                                    "0": "10999",
                                    "1": "2020-04-03",
                                    "2": "2020-04-10",
                                    "3": "Shipped within one week"
                                },
                                {
                                    "0": "11000",
                                    "1": "2020-04-06",
                                    "2": "2020-04-14",
                                    "3": "Shipped over a week later"
                                },
                                {
                                    "0": "11001",
                                    "1": "2020-04-06",
                                    "2": "2020-04-14",
                                    "3": "Shipped over a week later"
                                },
                                {
                                    "0": "11002",
                                    "1": "2020-04-06",
                                    "2": "2020-04-16",
                                    "3": "Shipped over a week later"
                                },
                                {
                                    "0": "11003",
                                    "1": "2020-04-06",
                                    "2": "2020-04-08",
                                    "3": "Shipped within one week"
                                },
                                {
                                    "0": "11004",
                                    "1": "2020-04-07",
                                    "2": "2020-04-20",
                                    "3": "Shipped over a week later"
                                },
                                {
                                    "0": "11005",
                                    "1": "2020-04-07",
                                    "2": "2020-04-10",
                                    "3": "Shipped within one week"
                                },
                                {
                                    "0": "11006",
                                    "1": "2020-04-07",
                                    "2": "2020-04-15",
                                    "3": "Shipped over a week later"
                                },
                                {
                                    "0": "11007",
                                    "1": "2020-04-08",
                                    "2": "2020-04-13",
                                    "3": "Shipped within one week"
                                },
                                {
                                    "0": "11008",
                                    "1": "2020-07-08",
                                    "2": "NULL",
                                    "3": "Not yet shipped"
                                },
                                {
                                    "0": "11009",
                                    "1": "2020-04-08",
                                    "2": "2020-04-10",
                                    "3": "Shipped within one week"
                                },
                                {
                                    "0": "11010",
                                    "1": "2020-04-09",
                                    "2": "2020-04-21",
                                    "3": "Shipped over a week later"
                                },
                                {
                                    "0": "11011",
                                    "1": "2020-04-09",
                                    "2": "2020-04-13",
                                    "3": "Shipped within one week"
                                },
                                {
                                    "0": "11012",
                                    "1": "2020-04-09",
                                    "2": "2020-04-17",
                                    "3": "Shipped over a week later"
                                },
                                {
                                    "0": "11013",
                                    "1": "2020-04-09",
                                    "2": "2020-04-10",
                                    "3": "Shipped within one week"
                                },
                                {
                                    "0": "11014",
                                    "1": "2020-04-10",
                                    "2": "2020-04-15",
                                    "3": "Shipped within one week"
                                },
                                {
                                    "0": "11015",
                                    "1": "2020-04-10",
                                    "2": "2020-04-20",
                                    "3": "Shipped over a week later"
                                },
                                {
                                    "0": "11016",
                                    "1": "2020-04-10",
                                    "2": "2020-04-13",
                                    "3": "Shipped within one week"
                                },
                                {
                                    "0": "11017",
                                    "1": "2020-04-13",
                                    "2": "2020-04-20",
                                    "3": "Shipped within one week"
                                },
                                {
                                    "0": "11018",
                                    "1": "2020-04-13",
                                    "2": "2020-04-16",
                                    "3": "Shipped within one week"
                                },
                                {
                                    "0": "11019",
                                    "1": "2020-07-13",
                                    "2": "NULL",
                                    "3": "Not yet shipped"
                                },
                                {
                                    "0": "11020",
                                    "1": "2020-04-14",
                                    "2": "2020-04-16",
                                    "3": "Shipped within one week"
                                },
                                {
                                    "0": "11021",
                                    "1": "2020-04-14",
                                    "2": "2020-04-21",
                                    "3": "Shipped within one week"
                                },
                                {
                                    "0": "11022",
                                    "1": "2020-04-14",
                                    "2": "2020-05-04",
                                    "3": "Shipped over a week later"
                                },
                                {
                                    "0": "11023",
                                    "1": "2020-04-14",
                                    "2": "2020-04-24",
                                    "3": "Shipped over a week later"
                                },
                                {
                                    "0": "11024",
                                    "1": "2020-04-15",
                                    "2": "2020-04-20",
                                    "3": "Shipped within one week"
                                },
                                {
                                    "0": "11025",
                                    "1": "2020-04-15",
                                    "2": "2020-04-24",
                                    "3": "Shipped over a week later"
                                },
                                {
                                    "0": "11026",
                                    "1": "2020-04-15",
                                    "2": "2020-04-28",
                                    "3": "Shipped over a week later"
                                },
                                {
                                    "0": "11027",
                                    "1": "2020-04-16",
                                    "2": "2020-04-20",
                                    "3": "Shipped within one week"
                                },
                                {
                                    "0": "11028",
                                    "1": "2020-04-16",
                                    "2": "2020-04-22",
                                    "3": "Shipped within one week"
                                },
                                {
                                    "0": "11029",
                                    "1": "2020-04-16",
                                    "2": "2020-04-27",
                                    "3": "Shipped over a week later"
                                },
                                {
                                    "0": "11030",
                                    "1": "2020-04-17",
                                    "2": "2020-04-27",
                                    "3": "Shipped over a week later"
                                },
                                {
                                    "0": "11031",
                                    "1": "2020-04-17",
                                    "2": "2020-04-24",
                                    "3": "Shipped within one week"
                                },
                                {
                                    "0": "11032",
                                    "1": "2020-04-17",
                                    "2": "2020-04-23",
                                    "3": "Shipped within one week"
                                },
                                {
                                    "0": "11033",
                                    "1": "2020-04-17",
                                    "2": "2020-04-23",
                                    "3": "Shipped within one week"
                                },
                                {
                                    "0": "11034",
                                    "1": "2020-04-20",
                                    "2": "2020-04-27",
                                    "3": "Shipped within one week"
                                },
                                {
                                    "0": "11035",
                                    "1": "2020-04-20",
                                    "2": "2020-04-24",
                                    "3": "Shipped within one week"
                                },
                                {
                                    "0": "11036",
                                    "1": "2020-04-20",
                                    "2": "2020-04-22",
                                    "3": "Shipped within one week"
                                },
                                {
                                    "0": "11037",
                                    "1": "2020-04-21",
                                    "2": "2020-04-27",
                                    "3": "Shipped within one week"
                                },
                                {
                                    "0": "11038",
                                    "1": "2020-04-21",
                                    "2": "2020-04-30",
                                    "3": "Shipped over a week later"
                                },
                                {
                                    "0": "11039",
                                    "1": "2020-04-21",
                                    "2": "NULL",
                                    "3": "Not yet shipped"
                                },
                                {
                                    "0": "11040",
                                    "1": "2020-04-22",
                                    "2": "NULL",
                                    "3": "Not yet shipped"
                                },
                                {
                                    "0": "11041",
                                    "1": "2020-04-22",
                                    "2": "2020-04-28",
                                    "3": "Shipped within one week"
                                },
                                {
                                    "0": "11042",
                                    "1": "2020-04-22",
                                    "2": "2020-05-01",
                                    "3": "Shipped over a week later"
                                },
                                {
                                    "0": "11043",
                                    "1": "2020-04-22",
                                    "2": "2020-04-29",
                                    "3": "Shipped within one week"
                                },
                                {
                                    "0": "11044",
                                    "1": "2020-04-23",
                                    "2": "2020-05-01",
                                    "3": "Shipped over a week later"
                                },
                                {
                                    "0": "11045",
                                    "1": "2020-04-23",
                                    "2": "NULL",
                                    "3": "Not yet shipped"
                                },
                                {
                                    "0": "11046",
                                    "1": "2020-04-23",
                                    "2": "2020-04-24",
                                    "3": "Shipped within one week"
                                },
                                {
                                    "0": "11047",
                                    "1": "2020-04-24",
                                    "2": "2020-05-01",
                                    "3": "Shipped within one week"
                                },
                                {
                                    "0": "11048",
                                    "1": "2020-04-24",
                                    "2": "2020-04-30",
                                    "3": "Shipped within one week"
                                },
                                {
                                    "0": "11049",
                                    "1": "2020-04-24",
                                    "2": "2020-05-04",
                                    "3": "Shipped over a week later"
                                },
                                {
                                    "0": "11050",
                                    "1": "2020-04-27",
                                    "2": "2020-05-05",
                                    "3": "Shipped over a week later"
                                },
                                {
                                    "0": "11051",
                                    "1": "2020-07-27",
                                    "2": "NULL",
                                    "3": "Not yet shipped"
                                },
                                {
                                    "0": "11052",
                                    "1": "2020-04-27",
                                    "2": "2020-05-01",
                                    "3": "Shipped within one week"
                                },
                                {
                                    "0": "11053",
                                    "1": "2020-04-27",
                                    "2": "2020-04-29",
                                    "3": "Shipped within one week"
                                },
                                {
                                    "0": "11054",
                                    "1": "2020-04-28",
                                    "2": "NULL",
                                    "3": "Not yet shipped"
                                },
                                {
                                    "0": "11055",
                                    "1": "2020-04-28",
                                    "2": "2020-05-05",
                                    "3": "Shipped within one week"
                                },
                                {
                                    "0": "11056",
                                    "1": "2020-04-28",
                                    "2": "2020-05-01",
                                    "3": "Shipped within one week"
                                },
                                {
                                    "0": "11057",
                                    "1": "2020-04-29",
                                    "2": "2020-05-01",
                                    "3": "Shipped within one week"
                                },
                                {
                                    "0": "11058",
                                    "1": "2020-07-29",
                                    "2": "NULL",
                                    "3": "Not yet shipped"
                                },
                                {
                                    "0": "11059",
                                    "1": "2020-07-29",
                                    "2": "NULL",
                                    "3": "Not yet shipped"
                                },
                                {
                                    "0": "11060",
                                    "1": "2020-04-30",
                                    "2": "2020-05-04",
                                    "3": "Shipped within one week"
                                },
                                {
                                    "0": "11061",
                                    "1": "2020-07-30",
                                    "2": "NULL",
                                    "3": "Not yet shipped"
                                },
                                {
                                    "0": "11062",
                                    "1": "2020-07-30",
                                    "2": "NULL",
                                    "3": "Not yet shipped"
                                },
                                {
                                    "0": "11063",
                                    "1": "2020-04-30",
                                    "2": "2020-05-06",
                                    "3": "Shipped within one week"
                                },
                                {
                                    "0": "11064",
                                    "1": "2020-05-01",
                                    "2": "2020-05-04",
                                    "3": "Shipped within one week"
                                },
                                {
                                    "0": "11065",
                                    "1": "2020-07-29",
                                    "2": "NULL",
                                    "3": "Not yet shipped"
                                },
                                {
                                    "0": "11066",
                                    "1": "2020-05-01",
                                    "2": "2020-05-04",
                                    "3": "Shipped within one week"
                                },
                                {
                                    "0": "11067",
                                    "1": "2020-05-04",
                                    "2": "2020-05-06",
                                    "3": "Shipped within one week"
                                },
                                {
                                    "0": "11068",
                                    "1": "2020-07-29",
                                    "2": "NULL",
                                    "3": "Not yet shipped"
                                },
                                {
                                    "0": "11069",
                                    "1": "2020-05-04",
                                    "2": "2020-05-06",
                                    "3": "Shipped within one week"
                                },
                                {
                                    "0": "11070",
                                    "1": "2020-07-31",
                                    "2": "NULL",
                                    "3": "Not yet shipped"
                                },
                                {
                                    "0": "11071",
                                    "1": "2020-07-31",
                                    "2": "NULL",
                                    "3": "Not yet shipped"
                                },
                                {
                                    "0": "11072",
                                    "1": "2020-07-31",
                                    "2": "NULL",
                                    "3": "Not yet shipped"
                                },
                                {
                                    "0": "11073",
                                    "1": "2020-07-31",
                                    "2": "NULL",
                                    "3": "Not yet shipped"
                                },
                                {
                                    "0": "11074",
                                    "1": "2020-07-31",
                                    "2": "NULL",
                                    "3": "Not yet shipped"
                                },
                                {
                                    "0": "11075",
                                    "1": "2020-07-30",
                                    "2": "NULL",
                                    "3": "Not yet shipped"
                                },
                                {
                                    "0": "11076",
                                    "1": "2020-07-30",
                                    "2": "NULL",
                                    "3": "Not yet shipped"
                                },
                                {
                                    "0": "11077",
                                    "1": "2020-07-30",
                                    "2": "NULL",
                                    "3": "Not yet shipped"
                                }
                            ]
                        },
                        "text/html": [
                            "<table>",
                            "<tr><th>order_id</th><th>order_date</th><th>shipped_date</th><th>shipping_status</th></tr>",
                            "<tr><td>10248</td><td>2018-07-14</td><td>2018-07-16</td><td>Shipped within one week</td></tr>",
                            "<tr><td>10249</td><td>2018-07-05</td><td>2018-07-10</td><td>Shipped within one week</td></tr>",
                            "<tr><td>10250</td><td>2018-07-08</td><td>2018-07-12</td><td>Shipped within one week</td></tr>",
                            "<tr><td>10251</td><td>2018-07-08</td><td>2018-07-15</td><td>Shipped within one week</td></tr>",
                            "<tr><td>10252</td><td>2018-07-09</td><td>2018-07-11</td><td>Shipped within one week</td></tr>",
                            "<tr><td>10253</td><td>2018-07-10</td><td>2018-07-16</td><td>Shipped within one week</td></tr>",
                            "<tr><td>10254</td><td>2018-07-11</td><td>2018-07-23</td><td>Shipped over a week later</td></tr>",
                            "<tr><td>10255</td><td>2018-07-12</td><td>2018-07-15</td><td>Shipped within one week</td></tr>",
                            "<tr><td>10256</td><td>2018-07-15</td><td>2018-07-17</td><td>Shipped within one week</td></tr>",
                            "<tr><td>10257</td><td>2018-07-16</td><td>2018-07-22</td><td>Shipped within one week</td></tr>",
                            "<tr><td>10258</td><td>2018-07-17</td><td>2018-07-23</td><td>Shipped within one week</td></tr>",
                            "<tr><td>10259</td><td>2018-07-18</td><td>2018-07-25</td><td>Shipped within one week</td></tr>",
                            "<tr><td>10260</td><td>2018-07-19</td><td>2018-07-29</td><td>Shipped over a week later</td></tr>",
                            "<tr><td>10261</td><td>2018-07-19</td><td>2018-07-30</td><td>Shipped over a week later</td></tr>",
                            "<tr><td>10262</td><td>2018-07-22</td><td>2018-07-25</td><td>Shipped within one week</td></tr>",
                            "<tr><td>10263</td><td>2018-07-23</td><td>2018-07-31</td><td>Shipped over a week later</td></tr>",
                            "<tr><td>10264</td><td>2018-07-24</td><td>2018-08-23</td><td>Shipped over a week later</td></tr>",
                            "<tr><td>10265</td><td>2018-07-25</td><td>2018-08-12</td><td>Shipped over a week later</td></tr>",
                            "<tr><td>10266</td><td>2018-07-26</td><td>2018-07-31</td><td>Shipped within one week</td></tr>",
                            "<tr><td>10267</td><td>2018-07-29</td><td>2018-08-06</td><td>Shipped over a week later</td></tr>",
                            "<tr><td>10268</td><td>2018-07-30</td><td>2018-08-02</td><td>Shipped within one week</td></tr>",
                            "<tr><td>10269</td><td>2018-07-31</td><td>2018-08-09</td><td>Shipped over a week later</td></tr>",
                            "<tr><td>10270</td><td>2018-08-01</td><td>2018-08-02</td><td>Shipped within one week</td></tr>",
                            "<tr><td>10271</td><td>2018-08-01</td><td>2018-08-30</td><td>Shipped over a week later</td></tr>",
                            "<tr><td>10272</td><td>2018-08-02</td><td>2018-08-06</td><td>Shipped within one week</td></tr>",
                            "<tr><td>10273</td><td>2018-08-05</td><td>2018-08-12</td><td>Shipped within one week</td></tr>",
                            "<tr><td>10274</td><td>2018-08-06</td><td>2018-08-16</td><td>Shipped over a week later</td></tr>",
                            "<tr><td>10275</td><td>2018-08-07</td><td>2018-08-09</td><td>Shipped within one week</td></tr>",
                            "<tr><td>10276</td><td>2018-08-08</td><td>2018-08-14</td><td>Shipped within one week</td></tr>",
                            "<tr><td>10277</td><td>2018-08-09</td><td>2018-08-13</td><td>Shipped within one week</td></tr>",
                            "<tr><td>10278</td><td>2018-08-12</td><td>2018-08-16</td><td>Shipped within one week</td></tr>",
                            "<tr><td>10279</td><td>2018-08-13</td><td>2018-08-16</td><td>Shipped within one week</td></tr>",
                            "<tr><td>10280</td><td>2018-08-14</td><td>2018-09-12</td><td>Shipped over a week later</td></tr>",
                            "<tr><td>10281</td><td>2018-08-14</td><td>2018-08-21</td><td>Shipped within one week</td></tr>",
                            "<tr><td>10282</td><td>2018-08-15</td><td>2018-08-21</td><td>Shipped within one week</td></tr>",
                            "<tr><td>10283</td><td>2018-08-16</td><td>2018-08-23</td><td>Shipped within one week</td></tr>",
                            "<tr><td>10284</td><td>2018-08-19</td><td>2018-08-27</td><td>Shipped over a week later</td></tr>",
                            "<tr><td>10285</td><td>2018-08-20</td><td>2018-08-26</td><td>Shipped within one week</td></tr>",
                            "<tr><td>10286</td><td>2018-08-21</td><td>2018-08-30</td><td>Shipped over a week later</td></tr>",
                            "<tr><td>10287</td><td>2018-08-22</td><td>2018-08-28</td><td>Shipped within one week</td></tr>",
                            "<tr><td>10288</td><td>2018-08-23</td><td>2018-09-03</td><td>Shipped over a week later</td></tr>",
                            "<tr><td>10289</td><td>2018-08-26</td><td>2018-08-28</td><td>Shipped within one week</td></tr>",
                            "<tr><td>10290</td><td>2018-08-27</td><td>2018-09-03</td><td>Shipped within one week</td></tr>",
                            "<tr><td>10291</td><td>2018-08-27</td><td>2018-09-04</td><td>Shipped over a week later</td></tr>",
                            "<tr><td>10292</td><td>2018-08-28</td><td>2018-09-02</td><td>Shipped within one week</td></tr>",
                            "<tr><td>10293</td><td>2018-08-29</td><td>2018-09-11</td><td>Shipped over a week later</td></tr>",
                            "<tr><td>10294</td><td>2018-08-30</td><td>2018-09-05</td><td>Shipped within one week</td></tr>",
                            "<tr><td>10295</td><td>2018-09-02</td><td>2018-09-10</td><td>Shipped over a week later</td></tr>",
                            "<tr><td>10296</td><td>2018-09-03</td><td>2018-09-11</td><td>Shipped over a week later</td></tr>",
                            "<tr><td>10297</td><td>2018-09-04</td><td>2018-09-10</td><td>Shipped within one week</td></tr>",
                            "<tr><td>10298</td><td>2018-09-05</td><td>2018-09-11</td><td>Shipped within one week</td></tr>",
                            "<tr><td>10299</td><td>2018-09-06</td><td>2018-09-13</td><td>Shipped within one week</td></tr>",
                            "<tr><td>10300</td><td>2018-09-09</td><td>2018-09-18</td><td>Shipped over a week later</td></tr>",
                            "<tr><td>10301</td><td>2018-09-09</td><td>2018-09-17</td><td>Shipped over a week later</td></tr>",
                            "<tr><td>10302</td><td>2018-09-10</td><td>2018-10-09</td><td>Shipped over a week later</td></tr>",
                            "<tr><td>10303</td><td>2018-09-11</td><td>2018-09-18</td><td>Shipped within one week</td></tr>",
                            "<tr><td>10304</td><td>2018-09-12</td><td>2018-09-17</td><td>Shipped within one week</td></tr>",
                            "<tr><td>10305</td><td>2018-09-13</td><td>2018-10-09</td><td>Shipped over a week later</td></tr>",
                            "<tr><td>10306</td><td>2018-09-16</td><td>2018-09-23</td><td>Shipped within one week</td></tr>",
                            "<tr><td>10307</td><td>2018-09-17</td><td>2018-09-25</td><td>Shipped over a week later</td></tr>",
                            "<tr><td>10308</td><td>2018-09-18</td><td>2018-09-24</td><td>Shipped within one week</td></tr>",
                            "<tr><td>10309</td><td>2018-09-19</td><td>2018-10-23</td><td>Shipped over a week later</td></tr>",
                            "<tr><td>10310</td><td>2018-09-20</td><td>2018-09-27</td><td>Shipped within one week</td></tr>",
                            "<tr><td>10311</td><td>2018-09-20</td><td>2018-09-26</td><td>Shipped within one week</td></tr>",
                            "<tr><td>10312</td><td>2018-09-23</td><td>2018-10-03</td><td>Shipped over a week later</td></tr>",
                            "<tr><td>10313</td><td>2018-09-24</td><td>2018-10-04</td><td>Shipped over a week later</td></tr>",
                            "<tr><td>10314</td><td>2018-09-25</td><td>2018-10-04</td><td>Shipped over a week later</td></tr>",
                            "<tr><td>10315</td><td>2018-09-26</td><td>2018-10-03</td><td>Shipped within one week</td></tr>",
                            "<tr><td>10316</td><td>2018-09-27</td><td>2018-10-08</td><td>Shipped over a week later</td></tr>",
                            "<tr><td>10317</td><td>2018-09-30</td><td>2018-10-10</td><td>Shipped over a week later</td></tr>",
                            "<tr><td>10318</td><td>2018-10-01</td><td>2018-10-04</td><td>Shipped within one week</td></tr>",
                            "<tr><td>10319</td><td>2018-10-02</td><td>2018-10-11</td><td>Shipped over a week later</td></tr>",
                            "<tr><td>10320</td><td>2018-10-03</td><td>2018-10-18</td><td>Shipped over a week later</td></tr>",
                            "<tr><td>10321</td><td>2018-10-03</td><td>2018-10-11</td><td>Shipped over a week later</td></tr>",
                            "<tr><td>10322</td><td>2018-10-04</td><td>2018-10-23</td><td>Shipped over a week later</td></tr>",
                            "<tr><td>10323</td><td>2018-10-07</td><td>2018-10-14</td><td>Shipped within one week</td></tr>",
                            "<tr><td>10324</td><td>2018-10-08</td><td>2018-10-10</td><td>Shipped within one week</td></tr>",
                            "<tr><td>10325</td><td>2018-10-09</td><td>2018-10-14</td><td>Shipped within one week</td></tr>",
                            "<tr><td>10326</td><td>2018-10-10</td><td>2018-10-14</td><td>Shipped within one week</td></tr>",
                            "<tr><td>10327</td><td>2018-10-11</td><td>2018-10-14</td><td>Shipped within one week</td></tr>",
                            "<tr><td>10328</td><td>2018-10-14</td><td>2018-10-17</td><td>Shipped within one week</td></tr>",
                            "<tr><td>10329</td><td>2018-10-15</td><td>2018-10-23</td><td>Shipped over a week later</td></tr>",
                            "<tr><td>10330</td><td>2018-10-16</td><td>2018-10-28</td><td>Shipped over a week later</td></tr>",
                            "<tr><td>10331</td><td>2018-10-16</td><td>2018-10-21</td><td>Shipped within one week</td></tr>",
                            "<tr><td>10332</td><td>2018-10-17</td><td>2018-10-21</td><td>Shipped within one week</td></tr>",
                            "<tr><td>10333</td><td>2018-10-18</td><td>2018-10-25</td><td>Shipped within one week</td></tr>",
                            "<tr><td>10334</td><td>2018-10-21</td><td>2018-10-28</td><td>Shipped within one week</td></tr>",
                            "<tr><td>10335</td><td>2018-10-22</td><td>2018-10-24</td><td>Shipped within one week</td></tr>",
                            "<tr><td>10336</td><td>2018-10-23</td><td>2018-10-25</td><td>Shipped within one week</td></tr>",
                            "<tr><td>10337</td><td>2018-10-24</td><td>2018-10-29</td><td>Shipped within one week</td></tr>",
                            "<tr><td>10338</td><td>2018-10-25</td><td>2018-10-29</td><td>Shipped within one week</td></tr>",
                            "<tr><td>10339</td><td>2018-10-28</td><td>2018-11-04</td><td>Shipped within one week</td></tr>",
                            "<tr><td>10340</td><td>2018-10-29</td><td>2018-11-08</td><td>Shipped over a week later</td></tr>",
                            "<tr><td>10341</td><td>2018-10-29</td><td>2018-11-05</td><td>Shipped within one week</td></tr>",
                            "<tr><td>10342</td><td>2018-10-30</td><td>2018-11-04</td><td>Shipped within one week</td></tr>",
                            "<tr><td>10343</td><td>2018-10-31</td><td>2018-11-06</td><td>Shipped within one week</td></tr>",
                            "<tr><td>10344</td><td>2018-11-01</td><td>2018-11-05</td><td>Shipped within one week</td></tr>",
                            "<tr><td>10345</td><td>2018-11-04</td><td>2018-11-11</td><td>Shipped within one week</td></tr>",
                            "<tr><td>10346</td><td>2018-11-05</td><td>2018-11-08</td><td>Shipped within one week</td></tr>",
                            "<tr><td>10347</td><td>2018-11-06</td><td>2018-11-08</td><td>Shipped within one week</td></tr>",
                            "<tr><td>10348</td><td>2018-11-07</td><td>2018-11-15</td><td>Shipped over a week later</td></tr>",
                            "<tr><td>10349</td><td>2018-11-08</td><td>2018-11-15</td><td>Shipped within one week</td></tr>",
                            "<tr><td>10350</td><td>2018-11-11</td><td>2018-12-03</td><td>Shipped over a week later</td></tr>",
                            "<tr><td>10351</td><td>2018-11-11</td><td>2018-11-20</td><td>Shipped over a week later</td></tr>",
                            "<tr><td>10352</td><td>2018-11-12</td><td>2018-11-18</td><td>Shipped within one week</td></tr>",
                            "<tr><td>10353</td><td>2018-11-13</td><td>2018-11-25</td><td>Shipped over a week later</td></tr>",
                            "<tr><td>10354</td><td>2018-11-14</td><td>2018-11-20</td><td>Shipped within one week</td></tr>",
                            "<tr><td>10355</td><td>2018-11-15</td><td>2018-11-20</td><td>Shipped within one week</td></tr>",
                            "<tr><td>10356</td><td>2018-11-18</td><td>2018-11-27</td><td>Shipped over a week later</td></tr>",
                            "<tr><td>10357</td><td>2018-11-19</td><td>2018-12-02</td><td>Shipped over a week later</td></tr>",
                            "<tr><td>10358</td><td>2018-11-20</td><td>2018-11-27</td><td>Shipped within one week</td></tr>",
                            "<tr><td>10359</td><td>2018-11-21</td><td>2018-11-26</td><td>Shipped within one week</td></tr>",
                            "<tr><td>10360</td><td>2018-11-22</td><td>2018-12-02</td><td>Shipped over a week later</td></tr>",
                            "<tr><td>10361</td><td>2018-11-22</td><td>2018-12-03</td><td>Shipped over a week later</td></tr>",
                            "<tr><td>10362</td><td>2018-11-25</td><td>2018-11-28</td><td>Shipped within one week</td></tr>",
                            "<tr><td>10363</td><td>2018-11-26</td><td>2018-12-04</td><td>Shipped over a week later</td></tr>",
                            "<tr><td>10364</td><td>2018-11-26</td><td>2018-12-04</td><td>Shipped over a week later</td></tr>",
                            "<tr><td>10365</td><td>2018-11-27</td><td>2018-12-02</td><td>Shipped within one week</td></tr>",
                            "<tr><td>10366</td><td>2018-11-28</td><td>2018-12-30</td><td>Shipped over a week later</td></tr>",
                            "<tr><td>10367</td><td>2018-11-28</td><td>2018-12-02</td><td>Shipped within one week</td></tr>",
                            "<tr><td>10368</td><td>2018-11-29</td><td>2018-12-02</td><td>Shipped within one week</td></tr>",
                            "<tr><td>10369</td><td>2018-12-02</td><td>2018-12-09</td><td>Shipped within one week</td></tr>",
                            "<tr><td>10370</td><td>2018-12-03</td><td>2018-12-27</td><td>Shipped over a week later</td></tr>",
                            "<tr><td>10371</td><td>2018-12-03</td><td>2018-12-24</td><td>Shipped over a week later</td></tr>",
                            "<tr><td>10372</td><td>2018-12-04</td><td>2018-12-09</td><td>Shipped within one week</td></tr>",
                            "<tr><td>10373</td><td>2018-12-05</td><td>2018-12-11</td><td>Shipped within one week</td></tr>",
                            "<tr><td>10374</td><td>2018-12-05</td><td>2018-12-09</td><td>Shipped within one week</td></tr>",
                            "<tr><td>10375</td><td>2018-12-06</td><td>2018-12-09</td><td>Shipped within one week</td></tr>",
                            "<tr><td>10376</td><td>2018-12-09</td><td>2018-12-13</td><td>Shipped within one week</td></tr>",
                            "<tr><td>10377</td><td>2018-12-09</td><td>2018-12-13</td><td>Shipped within one week</td></tr>",
                            "<tr><td>10378</td><td>2018-12-10</td><td>2018-12-19</td><td>Shipped over a week later</td></tr>",
                            "<tr><td>10379</td><td>2018-12-11</td><td>2018-12-13</td><td>Shipped within one week</td></tr>",
                            "<tr><td>10380</td><td>2018-12-12</td><td>2019-01-16</td><td>Shipped over a week later</td></tr>",
                            "<tr><td>10381</td><td>2018-12-12</td><td>2018-12-13</td><td>Shipped within one week</td></tr>",
                            "<tr><td>10382</td><td>2018-12-13</td><td>2018-12-16</td><td>Shipped within one week</td></tr>",
                            "<tr><td>10383</td><td>2018-12-16</td><td>2018-12-18</td><td>Shipped within one week</td></tr>",
                            "<tr><td>10384</td><td>2018-12-16</td><td>2018-12-20</td><td>Shipped within one week</td></tr>",
                            "<tr><td>10385</td><td>2018-12-17</td><td>2018-12-23</td><td>Shipped within one week</td></tr>",
                            "<tr><td>10386</td><td>2018-12-18</td><td>2018-12-25</td><td>Shipped within one week</td></tr>",
                            "<tr><td>10387</td><td>2018-12-18</td><td>2018-12-20</td><td>Shipped within one week</td></tr>",
                            "<tr><td>10388</td><td>2018-12-19</td><td>2018-12-20</td><td>Shipped within one week</td></tr>",
                            "<tr><td>10389</td><td>2018-12-20</td><td>2018-12-24</td><td>Shipped within one week</td></tr>",
                            "<tr><td>10390</td><td>2018-12-23</td><td>2018-12-26</td><td>Shipped within one week</td></tr>",
                            "<tr><td>10391</td><td>2018-12-23</td><td>2018-12-31</td><td>Shipped over a week later</td></tr>",
                            "<tr><td>10392</td><td>2018-12-24</td><td>2019-01-01</td><td>Shipped over a week later</td></tr>",
                            "<tr><td>10393</td><td>2018-12-25</td><td>2019-01-03</td><td>Shipped over a week later</td></tr>",
                            "<tr><td>10394</td><td>2018-12-25</td><td>2019-01-03</td><td>Shipped over a week later</td></tr>",
                            "<tr><td>10395</td><td>2018-12-26</td><td>2019-01-03</td><td>Shipped over a week later</td></tr>",
                            "<tr><td>10396</td><td>2018-12-27</td><td>2019-01-06</td><td>Shipped over a week later</td></tr>",
                            "<tr><td>10397</td><td>2018-12-27</td><td>2019-01-02</td><td>Shipped within one week</td></tr>",
                            "<tr><td>10398</td><td>2018-12-30</td><td>2019-01-09</td><td>Shipped over a week later</td></tr>",
                            "<tr><td>10399</td><td>2018-12-31</td><td>2019-01-08</td><td>Shipped over a week later</td></tr>",
                            "<tr><td>10400</td><td>2019-01-01</td><td>2019-01-16</td><td>Shipped over a week later</td></tr>",
                            "<tr><td>10401</td><td>2019-01-01</td><td>2019-01-10</td><td>Shipped over a week later</td></tr>",
                            "<tr><td>10402</td><td>2019-01-02</td><td>2019-01-10</td><td>Shipped over a week later</td></tr>",
                            "<tr><td>10403</td><td>2019-01-03</td><td>2019-01-09</td><td>Shipped within one week</td></tr>",
                            "<tr><td>10404</td><td>2019-01-03</td><td>2019-01-08</td><td>Shipped within one week</td></tr>",
                            "<tr><td>10405</td><td>2019-01-06</td><td>2019-01-22</td><td>Shipped over a week later</td></tr>",
                            "<tr><td>10406</td><td>2019-01-07</td><td>2019-01-13</td><td>Shipped within one week</td></tr>",
                            "<tr><td>10407</td><td>2019-01-07</td><td>2019-01-30</td><td>Shipped over a week later</td></tr>",
                            "<tr><td>10408</td><td>2019-01-08</td><td>2019-01-14</td><td>Shipped within one week</td></tr>",
                            "<tr><td>10409</td><td>2019-01-09</td><td>2019-01-14</td><td>Shipped within one week</td></tr>",
                            "<tr><td>10410</td><td>2019-01-10</td><td>2019-01-15</td><td>Shipped within one week</td></tr>",
                            "<tr><td>10411</td><td>2019-01-10</td><td>2019-01-21</td><td>Shipped over a week later</td></tr>",
                            "<tr><td>10412</td><td>2019-01-13</td><td>2019-01-15</td><td>Shipped within one week</td></tr>",
                            "<tr><td>10413</td><td>2019-01-14</td><td>2019-01-16</td><td>Shipped within one week</td></tr>",
                            "<tr><td>10414</td><td>2019-01-14</td><td>2019-01-17</td><td>Shipped within one week</td></tr>",
                            "<tr><td>10415</td><td>2019-01-15</td><td>2019-01-24</td><td>Shipped over a week later</td></tr>",
                            "<tr><td>10416</td><td>2019-01-16</td><td>2019-01-27</td><td>Shipped over a week later</td></tr>",
                            "<tr><td>10417</td><td>2019-01-16</td><td>2019-01-28</td><td>Shipped over a week later</td></tr>",
                            "<tr><td>10418</td><td>2019-01-17</td><td>2019-01-24</td><td>Shipped within one week</td></tr>",
                            "<tr><td>10419</td><td>2019-01-20</td><td>2019-01-30</td><td>Shipped over a week later</td></tr>",
                            "<tr><td>10420</td><td>2019-01-21</td><td>2019-01-27</td><td>Shipped within one week</td></tr>",
                            "<tr><td>10421</td><td>2019-01-21</td><td>2019-01-27</td><td>Shipped within one week</td></tr>",
                            "<tr><td>10422</td><td>2019-01-22</td><td>2019-01-31</td><td>Shipped over a week later</td></tr>",
                            "<tr><td>10423</td><td>2019-01-23</td><td>2019-02-24</td><td>Shipped over a week later</td></tr>",
                            "<tr><td>10424</td><td>2019-01-23</td><td>2019-01-27</td><td>Shipped within one week</td></tr>",
                            "<tr><td>10425</td><td>2019-01-24</td><td>2019-02-14</td><td>Shipped over a week later</td></tr>",
                            "<tr><td>10426</td><td>2019-01-27</td><td>2019-02-06</td><td>Shipped over a week later</td></tr>",
                            "<tr><td>10427</td><td>2019-01-27</td><td>2019-03-03</td><td>Shipped over a week later</td></tr>",
                            "<tr><td>10428</td><td>2019-01-28</td><td>2019-02-04</td><td>Shipped within one week</td></tr>",
                            "<tr><td>10429</td><td>2019-01-29</td><td>2019-02-07</td><td>Shipped over a week later</td></tr>",
                            "<tr><td>10430</td><td>2019-01-30</td><td>2019-02-03</td><td>Shipped within one week</td></tr>",
                            "<tr><td>10431</td><td>2019-01-30</td><td>2019-02-07</td><td>Shipped over a week later</td></tr>",
                            "<tr><td>10432</td><td>2019-01-31</td><td>2019-02-07</td><td>Shipped within one week</td></tr>",
                            "<tr><td>10433</td><td>2019-02-03</td><td>2019-03-04</td><td>Shipped over a week later</td></tr>",
                            "<tr><td>10434</td><td>2019-02-03</td><td>2019-02-13</td><td>Shipped over a week later</td></tr>",
                            "<tr><td>10435</td><td>2019-02-04</td><td>2019-02-07</td><td>Shipped within one week</td></tr>",
                            "<tr><td>10436</td><td>2019-02-05</td><td>2019-02-11</td><td>Shipped within one week</td></tr>",
                            "<tr><td>10437</td><td>2019-02-05</td><td>2019-02-12</td><td>Shipped within one week</td></tr>",
                            "<tr><td>10438</td><td>2019-02-06</td><td>2019-02-14</td><td>Shipped over a week later</td></tr>",
                            "<tr><td>10439</td><td>2019-02-07</td><td>2019-02-10</td><td>Shipped within one week</td></tr>",
                            "<tr><td>10440</td><td>2019-02-10</td><td>2019-02-28</td><td>Shipped over a week later</td></tr>",
                            "<tr><td>10441</td><td>2019-02-10</td><td>2019-03-14</td><td>Shipped over a week later</td></tr>",
                            "<tr><td>10442</td><td>2019-02-11</td><td>2019-02-18</td><td>Shipped within one week</td></tr>",
                            "<tr><td>10443</td><td>2019-02-12</td><td>2019-02-14</td><td>Shipped within one week</td></tr>",
                            "<tr><td>10444</td><td>2019-02-12</td><td>2019-02-21</td><td>Shipped over a week later</td></tr>",
                            "<tr><td>10445</td><td>2019-02-13</td><td>2019-02-20</td><td>Shipped within one week</td></tr>",
                            "<tr><td>10446</td><td>2019-02-14</td><td>2019-02-19</td><td>Shipped within one week</td></tr>",
                            "<tr><td>10447</td><td>2019-02-14</td><td>2019-03-07</td><td>Shipped over a week later</td></tr>",
                            "<tr><td>10448</td><td>2019-02-17</td><td>2019-02-24</td><td>Shipped within one week</td></tr>",
                            "<tr><td>10449</td><td>2019-02-18</td><td>2019-02-27</td><td>Shipped over a week later</td></tr>",
                            "<tr><td>10450</td><td>2019-02-19</td><td>2019-03-11</td><td>Shipped over a week later</td></tr>",
                            "<tr><td>10451</td><td>2019-02-19</td><td>2019-03-12</td><td>Shipped over a week later</td></tr>",
                            "<tr><td>10452</td><td>2019-02-20</td><td>2019-02-26</td><td>Shipped within one week</td></tr>",
                            "<tr><td>10453</td><td>2019-02-21</td><td>2019-02-26</td><td>Shipped within one week</td></tr>",
                            "<tr><td>10454</td><td>2019-02-21</td><td>2019-02-25</td><td>Shipped within one week</td></tr>",
                            "<tr><td>10455</td><td>2019-02-24</td><td>2019-03-03</td><td>Shipped within one week</td></tr>",
                            "<tr><td>10456</td><td>2019-02-25</td><td>2019-02-28</td><td>Shipped within one week</td></tr>",
                            "<tr><td>10457</td><td>2019-02-25</td><td>2019-03-03</td><td>Shipped within one week</td></tr>",
                            "<tr><td>10458</td><td>2019-02-26</td><td>2019-03-04</td><td>Shipped within one week</td></tr>",
                            "<tr><td>10459</td><td>2019-02-27</td><td>2019-02-28</td><td>Shipped within one week</td></tr>",
                            "<tr><td>10460</td><td>2019-02-28</td><td>2019-03-03</td><td>Shipped within one week</td></tr>",
                            "<tr><td>10461</td><td>2019-02-28</td><td>2019-03-05</td><td>Shipped within one week</td></tr>",
                            "<tr><td>10462</td><td>2019-03-03</td><td>2019-03-18</td><td>Shipped over a week later</td></tr>",
                            "<tr><td>10463</td><td>2019-03-04</td><td>2019-03-06</td><td>Shipped within one week</td></tr>",
                            "<tr><td>10464</td><td>2019-03-04</td><td>2019-03-14</td><td>Shipped over a week later</td></tr>",
                            "<tr><td>10465</td><td>2019-03-05</td><td>2019-03-14</td><td>Shipped over a week later</td></tr>",
                            "<tr><td>10466</td><td>2019-03-06</td><td>2019-03-13</td><td>Shipped within one week</td></tr>",
                            "<tr><td>10467</td><td>2019-03-06</td><td>2019-03-11</td><td>Shipped within one week</td></tr>",
                            "<tr><td>10468</td><td>2019-03-07</td><td>2019-03-12</td><td>Shipped within one week</td></tr>",
                            "<tr><td>10469</td><td>2019-03-10</td><td>2019-03-14</td><td>Shipped within one week</td></tr>",
                            "<tr><td>10470</td><td>2019-03-11</td><td>2019-03-14</td><td>Shipped within one week</td></tr>",
                            "<tr><td>10471</td><td>2019-03-11</td><td>2019-03-18</td><td>Shipped within one week</td></tr>",
                            "<tr><td>10472</td><td>2019-03-12</td><td>2019-03-19</td><td>Shipped within one week</td></tr>",
                            "<tr><td>10473</td><td>2019-03-13</td><td>2019-03-21</td><td>Shipped over a week later</td></tr>",
                            "<tr><td>10474</td><td>2019-03-13</td><td>2019-03-21</td><td>Shipped over a week later</td></tr>",
                            "<tr><td>10475</td><td>2019-03-14</td><td>2019-04-04</td><td>Shipped over a week later</td></tr>",
                            "<tr><td>10476</td><td>2019-03-17</td><td>2019-03-24</td><td>Shipped within one week</td></tr>",
                            "<tr><td>10477</td><td>2019-03-17</td><td>2019-03-25</td><td>Shipped over a week later</td></tr>",
                            "<tr><td>10478</td><td>2019-03-18</td><td>2019-03-26</td><td>Shipped over a week later</td></tr>",
                            "<tr><td>10479</td><td>2019-03-19</td><td>2019-03-21</td><td>Shipped within one week</td></tr>",
                            "<tr><td>10480</td><td>2019-03-20</td><td>2019-03-24</td><td>Shipped within one week</td></tr>",
                            "<tr><td>10481</td><td>2019-03-20</td><td>2019-03-25</td><td>Shipped within one week</td></tr>",
                            "<tr><td>10482</td><td>2019-03-21</td><td>2019-04-10</td><td>Shipped over a week later</td></tr>",
                            "<tr><td>10483</td><td>2019-03-24</td><td>2019-04-25</td><td>Shipped over a week later</td></tr>",
                            "<tr><td>10484</td><td>2019-03-24</td><td>2019-04-01</td><td>Shipped over a week later</td></tr>",
                            "<tr><td>10485</td><td>2019-03-25</td><td>2019-03-31</td><td>Shipped within one week</td></tr>",
                            "<tr><td>10486</td><td>2019-03-26</td><td>2019-04-02</td><td>Shipped within one week</td></tr>",
                            "<tr><td>10487</td><td>2019-03-26</td><td>2019-03-28</td><td>Shipped within one week</td></tr>",
                            "<tr><td>10488</td><td>2019-03-27</td><td>2019-04-02</td><td>Shipped within one week</td></tr>",
                            "<tr><td>10489</td><td>2019-03-28</td><td>2019-04-09</td><td>Shipped over a week later</td></tr>",
                            "<tr><td>10490</td><td>2019-03-31</td><td>2019-04-03</td><td>Shipped within one week</td></tr>",
                            "<tr><td>10491</td><td>2019-03-31</td><td>2019-04-08</td><td>Shipped over a week later</td></tr>",
                            "<tr><td>10492</td><td>2019-04-01</td><td>2019-04-11</td><td>Shipped over a week later</td></tr>",
                            "<tr><td>10493</td><td>2019-04-02</td><td>2019-04-10</td><td>Shipped over a week later</td></tr>",
                            "<tr><td>10494</td><td>2019-04-02</td><td>2019-04-09</td><td>Shipped within one week</td></tr>",
                            "<tr><td>10495</td><td>2019-04-03</td><td>2019-04-11</td><td>Shipped over a week later</td></tr>",
                            "<tr><td>10496</td><td>2019-04-04</td><td>2019-04-07</td><td>Shipped within one week</td></tr>",
                            "<tr><td>10497</td><td>2019-04-04</td><td>2019-04-07</td><td>Shipped within one week</td></tr>",
                            "<tr><td>10498</td><td>2019-04-07</td><td>2019-04-11</td><td>Shipped within one week</td></tr>",
                            "<tr><td>10499</td><td>2019-04-08</td><td>2019-04-16</td><td>Shipped over a week later</td></tr>",
                            "<tr><td>10500</td><td>2019-04-09</td><td>2019-04-17</td><td>Shipped over a week later</td></tr>",
                            "<tr><td>10501</td><td>2019-04-09</td><td>2019-04-16</td><td>Shipped within one week</td></tr>",
                            "<tr><td>10502</td><td>2019-04-10</td><td>2019-04-29</td><td>Shipped over a week later</td></tr>",
                            "<tr><td>10503</td><td>2019-04-11</td><td>2019-04-16</td><td>Shipped within one week</td></tr>",
                            "<tr><td>10504</td><td>2019-04-11</td><td>2019-04-18</td><td>Shipped within one week</td></tr>",
                            "<tr><td>10505</td><td>2019-04-14</td><td>2019-04-21</td><td>Shipped within one week</td></tr>",
                            "<tr><td>10506</td><td>2019-04-15</td><td>2019-05-02</td><td>Shipped over a week later</td></tr>",
                            "<tr><td>10507</td><td>2019-04-15</td><td>2019-04-22</td><td>Shipped within one week</td></tr>",
                            "<tr><td>10508</td><td>2019-04-16</td><td>2019-05-13</td><td>Shipped over a week later</td></tr>",
                            "<tr><td>10509</td><td>2019-04-17</td><td>2019-04-29</td><td>Shipped over a week later</td></tr>",
                            "<tr><td>10510</td><td>2019-04-18</td><td>2019-04-28</td><td>Shipped over a week later</td></tr>",
                            "<tr><td>10511</td><td>2019-04-18</td><td>2019-04-21</td><td>Shipped within one week</td></tr>",
                            "<tr><td>10512</td><td>2019-04-21</td><td>2019-04-24</td><td>Shipped within one week</td></tr>",
                            "<tr><td>10513</td><td>2019-04-22</td><td>2019-04-28</td><td>Shipped within one week</td></tr>",
                            "<tr><td>10514</td><td>2019-04-22</td><td>2019-05-16</td><td>Shipped over a week later</td></tr>",
                            "<tr><td>10515</td><td>2019-04-23</td><td>2019-05-23</td><td>Shipped over a week later</td></tr>",
                            "<tr><td>10516</td><td>2019-04-24</td><td>2019-05-01</td><td>Shipped within one week</td></tr>",
                            "<tr><td>10517</td><td>2019-04-24</td><td>2019-04-29</td><td>Shipped within one week</td></tr>",
                            "<tr><td>10518</td><td>2019-04-25</td><td>2019-05-05</td><td>Shipped over a week later</td></tr>",
                            "<tr><td>10519</td><td>2019-04-28</td><td>2019-05-01</td><td>Shipped within one week</td></tr>",
                            "<tr><td>10520</td><td>2019-04-29</td><td>2019-05-01</td><td>Shipped within one week</td></tr>",
                            "<tr><td>10521</td><td>2019-04-29</td><td>2019-05-02</td><td>Shipped within one week</td></tr>",
                            "<tr><td>10522</td><td>2019-04-30</td><td>2019-05-06</td><td>Shipped within one week</td></tr>",
                            "<tr><td>10523</td><td>2019-05-01</td><td>2019-05-30</td><td>Shipped over a week later</td></tr>",
                            "<tr><td>10524</td><td>2019-05-01</td><td>2019-05-07</td><td>Shipped within one week</td></tr>",
                            "<tr><td>10525</td><td>2019-05-02</td><td>2019-05-23</td><td>Shipped over a week later</td></tr>",
                            "<tr><td>10526</td><td>2019-05-05</td><td>2019-05-15</td><td>Shipped over a week later</td></tr>",
                            "<tr><td>10527</td><td>2019-05-05</td><td>2019-05-07</td><td>Shipped within one week</td></tr>",
                            "<tr><td>10528</td><td>2019-05-06</td><td>2019-05-09</td><td>Shipped within one week</td></tr>",
                            "<tr><td>10529</td><td>2019-05-07</td><td>2019-05-09</td><td>Shipped within one week</td></tr>",
                            "<tr><td>10530</td><td>2019-05-08</td><td>2019-05-12</td><td>Shipped within one week</td></tr>",
                            "<tr><td>10531</td><td>2019-05-08</td><td>2019-05-19</td><td>Shipped over a week later</td></tr>",
                            "<tr><td>10532</td><td>2019-05-09</td><td>2019-05-12</td><td>Shipped within one week</td></tr>",
                            "<tr><td>10533</td><td>2019-05-12</td><td>2019-05-22</td><td>Shipped over a week later</td></tr>",
                            "<tr><td>10534</td><td>2019-05-12</td><td>2019-05-14</td><td>Shipped within one week</td></tr>",
                            "<tr><td>10535</td><td>2019-05-13</td><td>2019-05-21</td><td>Shipped over a week later</td></tr>",
                            "<tr><td>10536</td><td>2019-05-14</td><td>2019-06-06</td><td>Shipped over a week later</td></tr>",
                            "<tr><td>10537</td><td>2019-05-14</td><td>2019-05-19</td><td>Shipped within one week</td></tr>",
                            "<tr><td>10538</td><td>2019-05-15</td><td>2019-05-16</td><td>Shipped within one week</td></tr>",
                            "<tr><td>10539</td><td>2019-05-16</td><td>2019-05-23</td><td>Shipped within one week</td></tr>",
                            "<tr><td>10540</td><td>2019-05-19</td><td>2019-06-13</td><td>Shipped over a week later</td></tr>",
                            "<tr><td>10541</td><td>2019-05-19</td><td>2019-05-29</td><td>Shipped over a week later</td></tr>",
                            "<tr><td>10542</td><td>2019-05-20</td><td>2019-05-26</td><td>Shipped within one week</td></tr>",
                            "<tr><td>10543</td><td>2019-05-21</td><td>2019-05-23</td><td>Shipped within one week</td></tr>",
                            "<tr><td>10544</td><td>2019-05-21</td><td>2019-05-30</td><td>Shipped over a week later</td></tr>",
                            "<tr><td>10545</td><td>2019-05-22</td><td>2019-06-26</td><td>Shipped over a week later</td></tr>",
                            "<tr><td>10546</td><td>2019-05-23</td><td>2019-05-27</td><td>Shipped within one week</td></tr>",
                            "<tr><td>10547</td><td>2019-05-23</td><td>2019-06-02</td><td>Shipped over a week later</td></tr>",
                            "<tr><td>10548</td><td>2019-05-26</td><td>2019-06-02</td><td>Shipped within one week</td></tr>",
                            "<tr><td>10549</td><td>2019-05-27</td><td>2019-05-30</td><td>Shipped within one week</td></tr>",
                            "<tr><td>10550</td><td>2019-05-28</td><td>2019-06-06</td><td>Shipped over a week later</td></tr>",
                            "<tr><td>10551</td><td>2019-05-28</td><td>2019-06-06</td><td>Shipped over a week later</td></tr>",
                            "<tr><td>10552</td><td>2019-05-29</td><td>2019-06-05</td><td>Shipped within one week</td></tr>",
                            "<tr><td>10553</td><td>2019-05-30</td><td>2019-06-03</td><td>Shipped within one week</td></tr>",
                            "<tr><td>10554</td><td>2019-05-30</td><td>2019-06-05</td><td>Shipped within one week</td></tr>",
                            "<tr><td>10555</td><td>2019-06-02</td><td>2019-06-04</td><td>Shipped within one week</td></tr>",
                            "<tr><td>10556</td><td>2019-06-03</td><td>2019-06-13</td><td>Shipped over a week later</td></tr>",
                            "<tr><td>10557</td><td>2019-06-03</td><td>2019-06-06</td><td>Shipped within one week</td></tr>",
                            "<tr><td>10558</td><td>2019-06-04</td><td>2019-06-10</td><td>Shipped within one week</td></tr>",
                            "<tr><td>10559</td><td>2019-06-05</td><td>2019-06-13</td><td>Shipped over a week later</td></tr>",
                            "<tr><td>10560</td><td>2019-06-06</td><td>2019-06-09</td><td>Shipped within one week</td></tr>",
                            "<tr><td>10561</td><td>2019-06-06</td><td>2019-06-09</td><td>Shipped within one week</td></tr>",
                            "<tr><td>10562</td><td>2019-06-09</td><td>2019-06-12</td><td>Shipped within one week</td></tr>",
                            "<tr><td>10563</td><td>2019-06-10</td><td>2019-06-24</td><td>Shipped over a week later</td></tr>",
                            "<tr><td>10564</td><td>2019-06-10</td><td>2019-06-16</td><td>Shipped within one week</td></tr>",
                            "<tr><td>10565</td><td>2019-06-11</td><td>2019-06-18</td><td>Shipped within one week</td></tr>",
                            "<tr><td>10566</td><td>2019-06-12</td><td>2019-06-18</td><td>Shipped within one week</td></tr>",
                            "<tr><td>10567</td><td>2019-06-12</td><td>2019-06-17</td><td>Shipped within one week</td></tr>",
                            "<tr><td>10568</td><td>2019-06-13</td><td>2019-07-09</td><td>Shipped over a week later</td></tr>",
                            "<tr><td>10569</td><td>2019-06-16</td><td>2019-07-11</td><td>Shipped over a week later</td></tr>",
                            "<tr><td>10570</td><td>2019-06-17</td><td>2019-06-19</td><td>Shipped within one week</td></tr>",
                            "<tr><td>10571</td><td>2019-06-17</td><td>2019-07-04</td><td>Shipped over a week later</td></tr>",
                            "<tr><td>10572</td><td>2019-06-18</td><td>2019-06-25</td><td>Shipped within one week</td></tr>",
                            "<tr><td>10573</td><td>2019-06-19</td><td>2019-06-20</td><td>Shipped within one week</td></tr>",
                            "<tr><td>10574</td><td>2019-06-19</td><td>2019-06-30</td><td>Shipped over a week later</td></tr>",
                            "<tr><td>10575</td><td>2019-06-20</td><td>2019-06-30</td><td>Shipped over a week later</td></tr>",
                            "<tr><td>10576</td><td>2019-06-23</td><td>2019-06-30</td><td>Shipped within one week</td></tr>",
                            "<tr><td>10577</td><td>2019-06-23</td><td>2019-06-30</td><td>Shipped within one week</td></tr>",
                            "<tr><td>10578</td><td>2019-06-24</td><td>2019-07-25</td><td>Shipped over a week later</td></tr>",
                            "<tr><td>10579</td><td>2019-06-25</td><td>2019-07-04</td><td>Shipped over a week later</td></tr>",
                            "<tr><td>10580</td><td>2019-06-26</td><td>2019-07-01</td><td>Shipped within one week</td></tr>",
                            "<tr><td>10581</td><td>2019-06-26</td><td>2019-07-02</td><td>Shipped within one week</td></tr>",
                            "<tr><td>10582</td><td>2019-06-27</td><td>2019-07-14</td><td>Shipped over a week later</td></tr>",
                            "<tr><td>10583</td><td>2019-06-30</td><td>2019-07-04</td><td>Shipped within one week</td></tr>",
                            "<tr><td>10584</td><td>2019-06-30</td><td>2019-07-04</td><td>Shipped within one week</td></tr>",
                            "<tr><td>10585</td><td>2019-07-01</td><td>2019-07-10</td><td>Shipped over a week later</td></tr>",
                            "<tr><td>10586</td><td>2019-07-02</td><td>2019-07-09</td><td>Shipped within one week</td></tr>",
                            "<tr><td>10587</td><td>2019-07-02</td><td>2019-07-09</td><td>Shipped within one week</td></tr>",
                            "<tr><td>10588</td><td>2019-07-03</td><td>2019-07-10</td><td>Shipped within one week</td></tr>",
                            "<tr><td>10589</td><td>2019-07-04</td><td>2019-07-14</td><td>Shipped over a week later</td></tr>",
                            "<tr><td>10590</td><td>2019-07-07</td><td>2019-07-14</td><td>Shipped within one week</td></tr>",
                            "<tr><td>10591</td><td>2019-07-07</td><td>2019-07-16</td><td>Shipped over a week later</td></tr>",
                            "<tr><td>10592</td><td>2019-07-08</td><td>2019-07-16</td><td>Shipped over a week later</td></tr>",
                            "<tr><td>10593</td><td>2019-07-09</td><td>2019-08-13</td><td>Shipped over a week later</td></tr>",
                            "<tr><td>10594</td><td>2019-07-09</td><td>2019-07-16</td><td>Shipped within one week</td></tr>",
                            "<tr><td>10595</td><td>2019-07-10</td><td>2019-07-14</td><td>Shipped within one week</td></tr>",
                            "<tr><td>10596</td><td>2019-07-11</td><td>2019-08-12</td><td>Shipped over a week later</td></tr>",
                            "<tr><td>10597</td><td>2019-07-11</td><td>2019-07-18</td><td>Shipped within one week</td></tr>",
                            "<tr><td>10598</td><td>2019-07-14</td><td>2019-07-18</td><td>Shipped within one week</td></tr>",
                            "<tr><td>10599</td><td>2019-07-15</td><td>2019-07-21</td><td>Shipped within one week</td></tr>",
                            "<tr><td>10600</td><td>2019-07-16</td><td>2019-07-21</td><td>Shipped within one week</td></tr>",
                            "<tr><td>10601</td><td>2019-07-16</td><td>2019-07-22</td><td>Shipped within one week</td></tr>",
                            "<tr><td>10602</td><td>2019-07-17</td><td>2019-07-22</td><td>Shipped within one week</td></tr>",
                            "<tr><td>10603</td><td>2019-07-18</td><td>2019-08-08</td><td>Shipped over a week later</td></tr>",
                            "<tr><td>10604</td><td>2019-07-18</td><td>2019-07-29</td><td>Shipped over a week later</td></tr>",
                            "<tr><td>10605</td><td>2019-07-21</td><td>2019-07-29</td><td>Shipped over a week later</td></tr>",
                            "<tr><td>10606</td><td>2019-07-22</td><td>2019-07-31</td><td>Shipped over a week later</td></tr>",
                            "<tr><td>10607</td><td>2019-07-22</td><td>2019-07-25</td><td>Shipped within one week</td></tr>",
                            "<tr><td>10608</td><td>2019-07-23</td><td>2019-08-01</td><td>Shipped over a week later</td></tr>",
                            "<tr><td>10609</td><td>2019-07-24</td><td>2019-07-30</td><td>Shipped within one week</td></tr>",
                            "<tr><td>10610</td><td>2019-07-25</td><td>2019-08-06</td><td>Shipped over a week later</td></tr>",
                            "<tr><td>10611</td><td>2019-07-25</td><td>2019-08-01</td><td>Shipped within one week</td></tr>",
                            "<tr><td>10612</td><td>2019-07-28</td><td>2019-08-01</td><td>Shipped within one week</td></tr>",
                            "<tr><td>10613</td><td>2019-07-29</td><td>2019-08-01</td><td>Shipped within one week</td></tr>",
                            "<tr><td>10614</td><td>2019-07-29</td><td>2019-08-01</td><td>Shipped within one week</td></tr>",
                            "<tr><td>10615</td><td>2019-07-30</td><td>2019-08-06</td><td>Shipped within one week</td></tr>",
                            "<tr><td>10616</td><td>2019-07-31</td><td>2019-08-05</td><td>Shipped within one week</td></tr>",
                            "<tr><td>10617</td><td>2019-07-31</td><td>2019-08-04</td><td>Shipped within one week</td></tr>",
                            "<tr><td>10618</td><td>2019-08-01</td><td>2019-08-08</td><td>Shipped within one week</td></tr>",
                            "<tr><td>10619</td><td>2019-08-04</td><td>2019-08-07</td><td>Shipped within one week</td></tr>",
                            "<tr><td>10620</td><td>2019-08-05</td><td>2019-08-14</td><td>Shipped over a week later</td></tr>",
                            "<tr><td>10621</td><td>2019-08-05</td><td>2019-08-11</td><td>Shipped within one week</td></tr>",
                            "<tr><td>10622</td><td>2019-08-06</td><td>2019-08-11</td><td>Shipped within one week</td></tr>",
                            "<tr><td>10623</td><td>2019-08-07</td><td>2019-08-12</td><td>Shipped within one week</td></tr>",
                            "<tr><td>10624</td><td>2019-08-07</td><td>2019-08-19</td><td>Shipped over a week later</td></tr>",
                            "<tr><td>10625</td><td>2019-08-08</td><td>2019-08-14</td><td>Shipped within one week</td></tr>",
                            "<tr><td>10626</td><td>2019-08-11</td><td>2019-08-20</td><td>Shipped over a week later</td></tr>",
                            "<tr><td>10627</td><td>2019-08-11</td><td>2019-08-21</td><td>Shipped over a week later</td></tr>",
                            "<tr><td>10628</td><td>2019-08-12</td><td>2019-08-20</td><td>Shipped over a week later</td></tr>",
                            "<tr><td>10629</td><td>2019-08-12</td><td>2019-08-20</td><td>Shipped over a week later</td></tr>",
                            "<tr><td>10630</td><td>2019-08-13</td><td>2019-08-19</td><td>Shipped within one week</td></tr>",
                            "<tr><td>10631</td><td>2019-08-14</td><td>2019-08-15</td><td>Shipped within one week</td></tr>",
                            "<tr><td>10632</td><td>2019-08-14</td><td>2019-08-19</td><td>Shipped within one week</td></tr>",
                            "<tr><td>10633</td><td>2019-08-15</td><td>2019-08-18</td><td>Shipped within one week</td></tr>",
                            "<tr><td>10634</td><td>2019-08-15</td><td>2019-08-21</td><td>Shipped within one week</td></tr>",
                            "<tr><td>10635</td><td>2019-08-18</td><td>2019-08-21</td><td>Shipped within one week</td></tr>",
                            "<tr><td>10636</td><td>2019-08-19</td><td>2019-08-26</td><td>Shipped within one week</td></tr>",
                            "<tr><td>10637</td><td>2019-08-19</td><td>2019-08-26</td><td>Shipped within one week</td></tr>",
                            "<tr><td>10638</td><td>2019-08-20</td><td>2019-09-01</td><td>Shipped over a week later</td></tr>",
                            "<tr><td>10639</td><td>2019-08-20</td><td>2019-08-27</td><td>Shipped within one week</td></tr>",
                            "<tr><td>10640</td><td>2019-08-21</td><td>2019-08-28</td><td>Shipped within one week</td></tr>",
                            "<tr><td>10641</td><td>2019-08-22</td><td>2019-08-26</td><td>Shipped within one week</td></tr>",
                            "<tr><td>10642</td><td>2019-08-22</td><td>2019-09-05</td><td>Shipped over a week later</td></tr>",
                            "<tr><td>10643</td><td>2019-08-25</td><td>2019-09-02</td><td>Shipped over a week later</td></tr>",
                            "<tr><td>10644</td><td>2019-08-25</td><td>2019-09-01</td><td>Shipped within one week</td></tr>",
                            "<tr><td>10645</td><td>2019-08-26</td><td>2019-09-02</td><td>Shipped within one week</td></tr>",
                            "<tr><td>10646</td><td>2019-08-27</td><td>2019-09-03</td><td>Shipped within one week</td></tr>",
                            "<tr><td>10647</td><td>2019-08-27</td><td>2019-09-03</td><td>Shipped within one week</td></tr>",
                            "<tr><td>10648</td><td>2019-08-28</td><td>2019-09-09</td><td>Shipped over a week later</td></tr>",
                            "<tr><td>10649</td><td>2019-08-28</td><td>2019-08-29</td><td>Shipped within one week</td></tr>",
                            "<tr><td>10650</td><td>2019-08-29</td><td>2019-09-03</td><td>Shipped within one week</td></tr>",
                            "<tr><td>10651</td><td>2019-09-01</td><td>2019-09-11</td><td>Shipped over a week later</td></tr>",
                            "<tr><td>10652</td><td>2019-09-01</td><td>2019-09-08</td><td>Shipped within one week</td></tr>",
                            "<tr><td>10653</td><td>2019-09-02</td><td>2019-09-19</td><td>Shipped over a week later</td></tr>",
                            "<tr><td>10654</td><td>2019-09-02</td><td>2019-09-11</td><td>Shipped over a week later</td></tr>",
                            "<tr><td>10655</td><td>2019-09-03</td><td>2019-09-11</td><td>Shipped over a week later</td></tr>",
                            "<tr><td>10656</td><td>2019-09-04</td><td>2019-09-10</td><td>Shipped within one week</td></tr>",
                            "<tr><td>10657</td><td>2019-09-04</td><td>2019-09-15</td><td>Shipped over a week later</td></tr>",
                            "<tr><td>10658</td><td>2019-09-05</td><td>2019-09-08</td><td>Shipped within one week</td></tr>",
                            "<tr><td>10659</td><td>2019-09-05</td><td>2019-09-10</td><td>Shipped within one week</td></tr>",
                            "<tr><td>10660</td><td>2019-09-08</td><td>2019-10-15</td><td>Shipped over a week later</td></tr>",
                            "<tr><td>10661</td><td>2019-09-09</td><td>2019-09-15</td><td>Shipped within one week</td></tr>",
                            "<tr><td>10662</td><td>2019-09-09</td><td>2019-09-18</td><td>Shipped over a week later</td></tr>",
                            "<tr><td>10663</td><td>2019-09-10</td><td>2019-10-03</td><td>Shipped over a week later</td></tr>",
                            "<tr><td>10664</td><td>2019-09-10</td><td>2019-09-19</td><td>Shipped over a week later</td></tr>",
                            "<tr><td>10665</td><td>2019-09-11</td><td>2019-09-17</td><td>Shipped within one week</td></tr>",
                            "<tr><td>10666</td><td>2019-09-12</td><td>2019-09-22</td><td>Shipped over a week later</td></tr>",
                            "<tr><td>10667</td><td>2019-09-12</td><td>2019-09-19</td><td>Shipped within one week</td></tr>",
                            "<tr><td>10668</td><td>2019-09-15</td><td>2019-09-23</td><td>Shipped over a week later</td></tr>",
                            "<tr><td>10669</td><td>2019-09-15</td><td>2019-09-22</td><td>Shipped within one week</td></tr>",
                            "<tr><td>10670</td><td>2019-09-16</td><td>2019-09-18</td><td>Shipped within one week</td></tr>",
                            "<tr><td>10671</td><td>2019-09-17</td><td>2019-09-24</td><td>Shipped within one week</td></tr>",
                            "<tr><td>10672</td><td>2019-09-17</td><td>2019-09-26</td><td>Shipped over a week later</td></tr>",
                            "<tr><td>10673</td><td>2019-09-18</td><td>2019-09-19</td><td>Shipped within one week</td></tr>",
                            "<tr><td>10674</td><td>2019-09-18</td><td>2019-09-30</td><td>Shipped over a week later</td></tr>",
                            "<tr><td>10675</td><td>2019-09-19</td><td>2019-09-23</td><td>Shipped within one week</td></tr>",
                            "<tr><td>10676</td><td>2019-09-22</td><td>2019-09-29</td><td>Shipped within one week</td></tr>",
                            "<tr><td>10677</td><td>2019-09-22</td><td>2019-09-26</td><td>Shipped within one week</td></tr>",
                            "<tr><td>10678</td><td>2019-09-23</td><td>2019-10-16</td><td>Shipped over a week later</td></tr>",
                            "<tr><td>10679</td><td>2019-09-23</td><td>2019-09-30</td><td>Shipped within one week</td></tr>",
                            "<tr><td>10680</td><td>2019-09-24</td><td>2019-09-26</td><td>Shipped within one week</td></tr>",
                            "<tr><td>10681</td><td>2019-09-25</td><td>2019-09-30</td><td>Shipped within one week</td></tr>",
                            "<tr><td>10682</td><td>2019-09-25</td><td>2019-10-01</td><td>Shipped within one week</td></tr>",
                            "<tr><td>10683</td><td>2019-09-26</td><td>2019-10-01</td><td>Shipped within one week</td></tr>",
                            "<tr><td>10684</td><td>2019-09-26</td><td>2019-09-30</td><td>Shipped within one week</td></tr>",
                            "<tr><td>10685</td><td>2019-09-29</td><td>2019-10-03</td><td>Shipped within one week</td></tr>",
                            "<tr><td>10686</td><td>2019-09-30</td><td>2019-10-08</td><td>Shipped over a week later</td></tr>",
                            "<tr><td>10687</td><td>2019-09-30</td><td>2019-10-30</td><td>Shipped over a week later</td></tr>",
                            "<tr><td>10688</td><td>2019-10-01</td><td>2019-10-07</td><td>Shipped within one week</td></tr>",
                            "<tr><td>10689</td><td>2019-10-01</td><td>2019-10-07</td><td>Shipped within one week</td></tr>",
                            "<tr><td>10690</td><td>2019-10-02</td><td>2019-10-03</td><td>Shipped within one week</td></tr>",
                            "<tr><td>10691</td><td>2019-10-03</td><td>2019-10-22</td><td>Shipped over a week later</td></tr>",
                            "<tr><td>10692</td><td>2019-10-03</td><td>2019-10-13</td><td>Shipped over a week later</td></tr>",
                            "<tr><td>10693</td><td>2019-10-06</td><td>2019-10-10</td><td>Shipped within one week</td></tr>",
                            "<tr><td>10694</td><td>2019-10-06</td><td>2019-10-09</td><td>Shipped within one week</td></tr>",
                            "<tr><td>10695</td><td>2019-10-07</td><td>2019-10-14</td><td>Shipped within one week</td></tr>",
                            "<tr><td>10696</td><td>2019-10-08</td><td>2019-10-14</td><td>Shipped within one week</td></tr>",
                            "<tr><td>10697</td><td>2019-10-08</td><td>2019-10-14</td><td>Shipped within one week</td></tr>",
                            "<tr><td>10698</td><td>2019-10-09</td><td>2019-10-17</td><td>Shipped over a week later</td></tr>",
                            "<tr><td>10699</td><td>2019-10-09</td><td>2019-10-13</td><td>Shipped within one week</td></tr>",
                            "<tr><td>10700</td><td>2019-10-10</td><td>2019-10-16</td><td>Shipped within one week</td></tr>",
                            "<tr><td>10701</td><td>2019-10-13</td><td>2019-10-15</td><td>Shipped within one week</td></tr>",
                            "<tr><td>10702</td><td>2019-10-13</td><td>2019-10-21</td><td>Shipped over a week later</td></tr>",
                            "<tr><td>10703</td><td>2019-10-14</td><td>2019-10-20</td><td>Shipped within one week</td></tr>",
                            "<tr><td>10704</td><td>2019-10-14</td><td>2019-11-07</td><td>Shipped over a week later</td></tr>",
                            "<tr><td>10705</td><td>2019-10-15</td><td>2019-11-18</td><td>Shipped over a week later</td></tr>",
                            "<tr><td>10706</td><td>2019-10-16</td><td>2019-10-21</td><td>Shipped within one week</td></tr>",
                            "<tr><td>10707</td><td>2019-10-16</td><td>2019-10-23</td><td>Shipped within one week</td></tr>",
                            "<tr><td>10708</td><td>2019-10-17</td><td>2019-11-05</td><td>Shipped over a week later</td></tr>",
                            "<tr><td>10709</td><td>2019-10-17</td><td>2019-11-20</td><td>Shipped over a week later</td></tr>",
                            "<tr><td>10710</td><td>2019-10-20</td><td>2019-10-23</td><td>Shipped within one week</td></tr>",
                            "<tr><td>10711</td><td>2019-10-21</td><td>2019-10-29</td><td>Shipped over a week later</td></tr>",
                            "<tr><td>10712</td><td>2019-10-21</td><td>2019-10-31</td><td>Shipped over a week later</td></tr>",
                            "<tr><td>10713</td><td>2019-10-22</td><td>2019-10-24</td><td>Shipped within one week</td></tr>",
                            "<tr><td>10714</td><td>2019-10-22</td><td>2019-10-27</td><td>Shipped within one week</td></tr>",
                            "<tr><td>10715</td><td>2019-10-23</td><td>2019-10-29</td><td>Shipped within one week</td></tr>",
                            "<tr><td>10716</td><td>2019-10-24</td><td>2019-10-27</td><td>Shipped within one week</td></tr>",
                            "<tr><td>10717</td><td>2019-10-24</td><td>2019-10-29</td><td>Shipped within one week</td></tr>",
                            "<tr><td>10718</td><td>2019-10-27</td><td>2019-10-29</td><td>Shipped within one week</td></tr>",
                            "<tr><td>10719</td><td>2019-10-27</td><td>2019-11-05</td><td>Shipped over a week later</td></tr>",
                            "<tr><td>10720</td><td>2019-10-28</td><td>2019-11-05</td><td>Shipped over a week later</td></tr>",
                            "<tr><td>10721</td><td>2019-10-29</td><td>2019-10-31</td><td>Shipped within one week</td></tr>",
                            "<tr><td>10722</td><td>2019-10-29</td><td>2019-11-04</td><td>Shipped within one week</td></tr>",
                            "<tr><td>10723</td><td>2019-10-30</td><td>2019-11-25</td><td>Shipped over a week later</td></tr>",
                            "<tr><td>10724</td><td>2019-10-30</td><td>2019-11-05</td><td>Shipped within one week</td></tr>",
                            "<tr><td>10725</td><td>2019-10-31</td><td>2019-11-05</td><td>Shipped within one week</td></tr>",
                            "<tr><td>10726</td><td>2019-11-03</td><td>2019-12-05</td><td>Shipped over a week later</td></tr>",
                            "<tr><td>10727</td><td>2019-11-03</td><td>2019-12-05</td><td>Shipped over a week later</td></tr>",
                            "<tr><td>10728</td><td>2019-11-04</td><td>2019-11-11</td><td>Shipped within one week</td></tr>",
                            "<tr><td>10729</td><td>2019-11-04</td><td>2019-11-14</td><td>Shipped over a week later</td></tr>",
                            "<tr><td>10730</td><td>2019-11-05</td><td>2019-11-14</td><td>Shipped over a week later</td></tr>",
                            "<tr><td>10731</td><td>2019-11-06</td><td>2019-11-14</td><td>Shipped over a week later</td></tr>",
                            "<tr><td>10732</td><td>2019-11-06</td><td>2019-11-07</td><td>Shipped within one week</td></tr>",
                            "<tr><td>10733</td><td>2019-11-07</td><td>2019-11-10</td><td>Shipped within one week</td></tr>",
                            "<tr><td>10734</td><td>2019-11-07</td><td>2019-11-12</td><td>Shipped within one week</td></tr>",
                            "<tr><td>10735</td><td>2019-11-10</td><td>2019-11-21</td><td>Shipped over a week later</td></tr>",
                            "<tr><td>10736</td><td>2019-11-11</td><td>2019-11-21</td><td>Shipped over a week later</td></tr>",
                            "<tr><td>10737</td><td>2019-11-11</td><td>2019-11-18</td><td>Shipped within one week</td></tr>",
                            "<tr><td>10738</td><td>2019-11-12</td><td>2019-11-18</td><td>Shipped within one week</td></tr>",
                            "<tr><td>10739</td><td>2019-11-12</td><td>2019-11-17</td><td>Shipped within one week</td></tr>",
                            "<tr><td>10740</td><td>2019-11-13</td><td>2019-11-25</td><td>Shipped over a week later</td></tr>",
                            "<tr><td>10741</td><td>2019-11-14</td><td>2019-11-18</td><td>Shipped within one week</td></tr>",
                            "<tr><td>10742</td><td>2019-11-14</td><td>2019-11-18</td><td>Shipped within one week</td></tr>",
                            "<tr><td>10743</td><td>2019-11-17</td><td>2019-11-21</td><td>Shipped within one week</td></tr>",
                            "<tr><td>10744</td><td>2019-11-17</td><td>2019-11-24</td><td>Shipped within one week</td></tr>",
                            "<tr><td>10745</td><td>2019-11-18</td><td>2019-11-27</td><td>Shipped over a week later</td></tr>",
                            "<tr><td>10746</td><td>2019-11-19</td><td>2019-11-21</td><td>Shipped within one week</td></tr>",
                            "<tr><td>10747</td><td>2019-11-19</td><td>2019-11-26</td><td>Shipped within one week</td></tr>",
                            "<tr><td>10748</td><td>2019-11-20</td><td>2019-11-28</td><td>Shipped over a week later</td></tr>",
                            "<tr><td>10749</td><td>2019-11-20</td><td>2019-12-19</td><td>Shipped over a week later</td></tr>",
                            "<tr><td>10750</td><td>2019-11-21</td><td>2019-11-24</td><td>Shipped within one week</td></tr>",
                            "<tr><td>10751</td><td>2019-11-24</td><td>2019-12-03</td><td>Shipped over a week later</td></tr>",
                            "<tr><td>10752</td><td>2019-11-24</td><td>2019-11-28</td><td>Shipped within one week</td></tr>",
                            "<tr><td>10753</td><td>2019-11-25</td><td>2019-11-27</td><td>Shipped within one week</td></tr>",
                            "<tr><td>10754</td><td>2019-11-25</td><td>2019-11-27</td><td>Shipped within one week</td></tr>",
                            "<tr><td>10755</td><td>2019-11-26</td><td>2019-11-28</td><td>Shipped within one week</td></tr>",
                            "<tr><td>10756</td><td>2019-11-27</td><td>2019-12-02</td><td>Shipped within one week</td></tr>",
                            "<tr><td>10757</td><td>2019-11-27</td><td>2019-12-15</td><td>Shipped over a week later</td></tr>",
                            "<tr><td>10758</td><td>2019-11-28</td><td>2019-12-04</td><td>Shipped within one week</td></tr>",
                            "<tr><td>10759</td><td>2019-11-28</td><td>2019-12-12</td><td>Shipped over a week later</td></tr>",
                            "<tr><td>10760</td><td>2019-12-01</td><td>2019-12-10</td><td>Shipped over a week later</td></tr>",
                            "<tr><td>10761</td><td>2019-12-02</td><td>2019-12-08</td><td>Shipped within one week</td></tr>",
                            "<tr><td>10762</td><td>2019-12-02</td><td>2019-12-09</td><td>Shipped within one week</td></tr>",
                            "<tr><td>10763</td><td>2019-12-03</td><td>2019-12-08</td><td>Shipped within one week</td></tr>",
                            "<tr><td>10764</td><td>2019-12-03</td><td>2019-12-08</td><td>Shipped within one week</td></tr>",
                            "<tr><td>10765</td><td>2019-12-04</td><td>2019-12-09</td><td>Shipped within one week</td></tr>",
                            "<tr><td>10766</td><td>2019-12-05</td><td>2019-12-09</td><td>Shipped within one week</td></tr>",
                            "<tr><td>10767</td><td>2019-12-05</td><td>2019-12-15</td><td>Shipped over a week later</td></tr>",
                            "<tr><td>10768</td><td>2019-12-08</td><td>2019-12-15</td><td>Shipped within one week</td></tr>",
                            "<tr><td>10769</td><td>2019-12-08</td><td>2019-12-12</td><td>Shipped within one week</td></tr>",
                            "<tr><td>10770</td><td>2019-12-09</td><td>2019-12-17</td><td>Shipped over a week later</td></tr>",
                            "<tr><td>10771</td><td>2019-12-10</td><td>2020-01-02</td><td>Shipped over a week later</td></tr>",
                            "<tr><td>10772</td><td>2019-12-10</td><td>2019-12-19</td><td>Shipped over a week later</td></tr>",
                            "<tr><td>10773</td><td>2019-12-11</td><td>2019-12-16</td><td>Shipped within one week</td></tr>",
                            "<tr><td>10774</td><td>2019-12-11</td><td>2019-12-12</td><td>Shipped within one week</td></tr>",
                            "<tr><td>10775</td><td>2019-12-12</td><td>2019-12-26</td><td>Shipped over a week later</td></tr>",
                            "<tr><td>10776</td><td>2019-12-15</td><td>2019-12-18</td><td>Shipped within one week</td></tr>",
                            "<tr><td>10777</td><td>2019-12-15</td><td>2020-01-21</td><td>Shipped over a week later</td></tr>",
                            "<tr><td>10778</td><td>2019-12-16</td><td>2019-12-24</td><td>Shipped over a week later</td></tr>",
                            "<tr><td>10779</td><td>2019-12-16</td><td>2020-01-14</td><td>Shipped over a week later</td></tr>",
                            "<tr><td>10780</td><td>2019-12-16</td><td>2019-12-25</td><td>Shipped over a week later</td></tr>",
                            "<tr><td>10781</td><td>2019-12-17</td><td>2019-12-19</td><td>Shipped within one week</td></tr>",
                            "<tr><td>10782</td><td>2019-12-17</td><td>2019-12-22</td><td>Shipped within one week</td></tr>",
                            "<tr><td>10783</td><td>2019-12-18</td><td>2019-12-19</td><td>Shipped within one week</td></tr>",
                            "<tr><td>10784</td><td>2019-12-18</td><td>2019-12-22</td><td>Shipped within one week</td></tr>",
                            "<tr><td>10785</td><td>2019-12-18</td><td>2019-12-24</td><td>Shipped within one week</td></tr>",
                            "<tr><td>10786</td><td>2019-12-19</td><td>2019-12-23</td><td>Shipped within one week</td></tr>",
                            "<tr><td>10787</td><td>2019-12-19</td><td>2019-12-26</td><td>Shipped within one week</td></tr>",
                            "<tr><td>10788</td><td>2019-12-22</td><td>2020-01-19</td><td>Shipped over a week later</td></tr>",
                            "<tr><td>10789</td><td>2019-12-22</td><td>2019-12-31</td><td>Shipped over a week later</td></tr>",
                            "<tr><td>10790</td><td>2019-12-22</td><td>2019-12-26</td><td>Shipped within one week</td></tr>",
                            "<tr><td>10791</td><td>2019-12-23</td><td>2020-01-01</td><td>Shipped over a week later</td></tr>",
                            "<tr><td>10792</td><td>2019-12-23</td><td>2019-12-31</td><td>Shipped over a week later</td></tr>",
                            "<tr><td>10793</td><td>2019-12-24</td><td>2020-01-08</td><td>Shipped over a week later</td></tr>",
                            "<tr><td>10794</td><td>2019-12-24</td><td>2020-01-02</td><td>Shipped over a week later</td></tr>",
                            "<tr><td>10795</td><td>2019-12-24</td><td>2020-01-20</td><td>Shipped over a week later</td></tr>",
                            "<tr><td>10796</td><td>2019-12-25</td><td>2020-01-14</td><td>Shipped over a week later</td></tr>",
                            "<tr><td>10797</td><td>2019-12-25</td><td>2020-01-05</td><td>Shipped over a week later</td></tr>",
                            "<tr><td>10798</td><td>2019-12-26</td><td>2020-01-05</td><td>Shipped over a week later</td></tr>",
                            "<tr><td>10799</td><td>2019-12-26</td><td>2020-01-05</td><td>Shipped over a week later</td></tr>",
                            "<tr><td>10800</td><td>2019-12-26</td><td>2020-01-05</td><td>Shipped over a week later</td></tr>",
                            "<tr><td>10801</td><td>2019-12-29</td><td>2019-12-31</td><td>Shipped within one week</td></tr>",
                            "<tr><td>10802</td><td>2019-12-29</td><td>2020-01-02</td><td>Shipped within one week</td></tr>",
                            "<tr><td>10803</td><td>2019-12-30</td><td>2020-01-06</td><td>Shipped within one week</td></tr>",
                            "<tr><td>10804</td><td>2019-12-30</td><td>2020-01-07</td><td>Shipped over a week later</td></tr>",
                            "<tr><td>10805</td><td>2019-12-30</td><td>2020-01-09</td><td>Shipped over a week later</td></tr>",
                            "<tr><td>10806</td><td>2019-12-31</td><td>2020-01-05</td><td>Shipped within one week</td></tr>",
                            "<tr><td>10807</td><td>2019-12-31</td><td>2020-01-30</td><td>Shipped over a week later</td></tr>",
                            "<tr><td>10808</td><td>2020-01-01</td><td>2020-01-09</td><td>Shipped over a week later</td></tr>",
                            "<tr><td>10809</td><td>2020-01-01</td><td>2020-01-07</td><td>Shipped within one week</td></tr>",
                            "<tr><td>10810</td><td>2020-01-01</td><td>2020-01-07</td><td>Shipped within one week</td></tr>",
                            "<tr><td>10811</td><td>2020-01-02</td><td>2020-01-08</td><td>Shipped within one week</td></tr>",
                            "<tr><td>10812</td><td>2020-01-02</td><td>2020-01-12</td><td>Shipped over a week later</td></tr>",
                            "<tr><td>10813</td><td>2020-01-05</td><td>2020-01-09</td><td>Shipped within one week</td></tr>",
                            "<tr><td>10814</td><td>2020-01-05</td><td>2020-01-14</td><td>Shipped over a week later</td></tr>",
                            "<tr><td>10815</td><td>2020-01-05</td><td>2020-01-14</td><td>Shipped over a week later</td></tr>",
                            "<tr><td>10816</td><td>2020-01-06</td><td>2020-02-04</td><td>Shipped over a week later</td></tr>",
                            "<tr><td>10817</td><td>2020-01-06</td><td>2020-01-13</td><td>Shipped within one week</td></tr>",
                            "<tr><td>10818</td><td>2020-01-07</td><td>2020-01-12</td><td>Shipped within one week</td></tr>",
                            "<tr><td>10819</td><td>2020-01-07</td><td>2020-01-16</td><td>Shipped over a week later</td></tr>",
                            "<tr><td>10820</td><td>2020-01-07</td><td>2020-01-13</td><td>Shipped within one week</td></tr>",
                            "<tr><td>10821</td><td>2020-01-08</td><td>2020-01-15</td><td>Shipped within one week</td></tr>",
                            "<tr><td>10822</td><td>2020-01-08</td><td>2020-01-16</td><td>Shipped over a week later</td></tr>",
                            "<tr><td>10823</td><td>2020-01-09</td><td>2020-01-13</td><td>Shipped within one week</td></tr>",
                            "<tr><td>10824</td><td>2020-01-09</td><td>2020-01-30</td><td>Shipped over a week later</td></tr>",
                            "<tr><td>10825</td><td>2020-01-09</td><td>2020-01-14</td><td>Shipped within one week</td></tr>",
                            "<tr><td>10826</td><td>2020-01-12</td><td>2020-02-06</td><td>Shipped over a week later</td></tr>",
                            "<tr><td>10827</td><td>2020-01-12</td><td>2020-02-06</td><td>Shipped over a week later</td></tr>",
                            "<tr><td>10828</td><td>2020-01-13</td><td>2020-02-04</td><td>Shipped over a week later</td></tr>",
                            "<tr><td>10829</td><td>2020-01-13</td><td>2020-01-23</td><td>Shipped over a week later</td></tr>",
                            "<tr><td>10830</td><td>2020-01-13</td><td>2020-01-21</td><td>Shipped over a week later</td></tr>",
                            "<tr><td>10831</td><td>2020-01-14</td><td>2020-01-23</td><td>Shipped over a week later</td></tr>",
                            "<tr><td>10832</td><td>2020-01-14</td><td>2020-01-19</td><td>Shipped within one week</td></tr>",
                            "<tr><td>10833</td><td>2020-01-15</td><td>2020-01-23</td><td>Shipped over a week later</td></tr>",
                            "<tr><td>10834</td><td>2020-01-15</td><td>2020-01-19</td><td>Shipped within one week</td></tr>",
                            "<tr><td>10835</td><td>2020-01-15</td><td>2020-01-21</td><td>Shipped within one week</td></tr>",
                            "<tr><td>10836</td><td>2020-01-16</td><td>2020-01-21</td><td>Shipped within one week</td></tr>",
                            "<tr><td>10837</td><td>2020-01-16</td><td>2020-01-23</td><td>Shipped within one week</td></tr>",
                            "<tr><td>10838</td><td>2020-01-19</td><td>2020-01-23</td><td>Shipped within one week</td></tr>",
                            "<tr><td>10839</td><td>2020-01-19</td><td>2020-01-22</td><td>Shipped within one week</td></tr>",
                            "<tr><td>10840</td><td>2020-01-19</td><td>2020-02-16</td><td>Shipped over a week later</td></tr>",
                            "<tr><td>10841</td><td>2020-01-20</td><td>2020-01-29</td><td>Shipped over a week later</td></tr>",
                            "<tr><td>10842</td><td>2020-01-20</td><td>2020-01-29</td><td>Shipped over a week later</td></tr>",
                            "<tr><td>10843</td><td>2020-01-21</td><td>2020-01-26</td><td>Shipped within one week</td></tr>",
                            "<tr><td>10844</td><td>2020-01-21</td><td>2020-01-26</td><td>Shipped within one week</td></tr>",
                            "<tr><td>10845</td><td>2020-01-21</td><td>2020-01-30</td><td>Shipped over a week later</td></tr>",
                            "<tr><td>10846</td><td>2020-01-22</td><td>2020-01-23</td><td>Shipped within one week</td></tr>",
                            "<tr><td>10847</td><td>2020-01-22</td><td>2020-02-10</td><td>Shipped over a week later</td></tr>",
                            "<tr><td>10848</td><td>2020-01-23</td><td>2020-01-29</td><td>Shipped within one week</td></tr>",
                            "<tr><td>10849</td><td>2020-01-23</td><td>2020-01-30</td><td>Shipped within one week</td></tr>",
                            "<tr><td>10850</td><td>2020-01-23</td><td>2020-01-30</td><td>Shipped within one week</td></tr>",
                            "<tr><td>10851</td><td>2020-01-26</td><td>2020-02-02</td><td>Shipped within one week</td></tr>",
                            "<tr><td>10852</td><td>2020-01-26</td><td>2020-01-30</td><td>Shipped within one week</td></tr>",
                            "<tr><td>10853</td><td>2020-01-27</td><td>2020-02-03</td><td>Shipped within one week</td></tr>",
                            "<tr><td>10854</td><td>2020-01-27</td><td>2020-02-05</td><td>Shipped over a week later</td></tr>",
                            "<tr><td>10855</td><td>2020-01-27</td><td>2020-02-04</td><td>Shipped over a week later</td></tr>",
                            "<tr><td>10856</td><td>2020-01-28</td><td>2020-02-10</td><td>Shipped over a week later</td></tr>",
                            "<tr><td>10857</td><td>2020-01-28</td><td>2020-02-06</td><td>Shipped over a week later</td></tr>",
                            "<tr><td>10858</td><td>2020-01-29</td><td>2020-02-03</td><td>Shipped within one week</td></tr>",
                            "<tr><td>10859</td><td>2020-01-29</td><td>2020-02-02</td><td>Shipped within one week</td></tr>",
                            "<tr><td>10860</td><td>2020-01-29</td><td>2020-02-04</td><td>Shipped within one week</td></tr>",
                            "<tr><td>10861</td><td>2020-01-30</td><td>2020-02-17</td><td>Shipped over a week later</td></tr>",
                            "<tr><td>10862</td><td>2020-01-30</td><td>2020-02-02</td><td>Shipped within one week</td></tr>",
                            "<tr><td>10863</td><td>2020-02-02</td><td>2020-02-17</td><td>Shipped over a week later</td></tr>",
                            "<tr><td>10864</td><td>2020-02-02</td><td>2020-02-09</td><td>Shipped within one week</td></tr>",
                            "<tr><td>10865</td><td>2020-02-02</td><td>2020-02-12</td><td>Shipped over a week later</td></tr>",
                            "<tr><td>10866</td><td>2020-02-03</td><td>2020-02-12</td><td>Shipped over a week later</td></tr>",
                            "<tr><td>10867</td><td>2020-02-03</td><td>2020-02-11</td><td>Shipped over a week later</td></tr>",
                            "<tr><td>10868</td><td>2020-02-04</td><td>2020-02-23</td><td>Shipped over a week later</td></tr>",
                            "<tr><td>10869</td><td>2020-02-04</td><td>2020-02-09</td><td>Shipped within one week</td></tr>",
                            "<tr><td>10870</td><td>2020-02-04</td><td>2020-02-13</td><td>Shipped over a week later</td></tr>",
                            "<tr><td>10871</td><td>2020-02-05</td><td>2020-02-10</td><td>Shipped within one week</td></tr>",
                            "<tr><td>10872</td><td>2020-02-05</td><td>2020-02-09</td><td>Shipped within one week</td></tr>",
                            "<tr><td>10873</td><td>2020-02-06</td><td>2020-02-09</td><td>Shipped within one week</td></tr>",
                            "<tr><td>10874</td><td>2020-02-06</td><td>2020-02-11</td><td>Shipped within one week</td></tr>",
                            "<tr><td>10875</td><td>2020-02-06</td><td>2020-03-03</td><td>Shipped over a week later</td></tr>",
                            "<tr><td>10876</td><td>2020-02-09</td><td>2020-02-12</td><td>Shipped within one week</td></tr>",
                            "<tr><td>10877</td><td>2020-02-09</td><td>2020-02-19</td><td>Shipped over a week later</td></tr>",
                            "<tr><td>10878</td><td>2020-02-10</td><td>2020-02-12</td><td>Shipped within one week</td></tr>",
                            "<tr><td>10879</td><td>2020-02-10</td><td>2020-02-12</td><td>Shipped within one week</td></tr>",
                            "<tr><td>10880</td><td>2020-02-10</td><td>2020-02-18</td><td>Shipped over a week later</td></tr>",
                            "<tr><td>10881</td><td>2020-02-11</td><td>2020-02-18</td><td>Shipped within one week</td></tr>",
                            "<tr><td>10882</td><td>2020-02-11</td><td>2020-02-20</td><td>Shipped over a week later</td></tr>",
                            "<tr><td>10883</td><td>2020-02-12</td><td>2020-02-20</td><td>Shipped over a week later</td></tr>",
                            "<tr><td>10884</td><td>2020-02-12</td><td>2020-02-13</td><td>Shipped within one week</td></tr>",
                            "<tr><td>10885</td><td>2020-02-12</td><td>2020-02-18</td><td>Shipped within one week</td></tr>",
                            "<tr><td>10886</td><td>2020-02-13</td><td>2020-03-02</td><td>Shipped over a week later</td></tr>",
                            "<tr><td>10887</td><td>2020-02-13</td><td>2020-02-16</td><td>Shipped within one week</td></tr>",
                            "<tr><td>10888</td><td>2020-02-16</td><td>2020-02-23</td><td>Shipped within one week</td></tr>",
                            "<tr><td>10889</td><td>2020-02-16</td><td>2020-02-23</td><td>Shipped within one week</td></tr>",
                            "<tr><td>10890</td><td>2020-02-16</td><td>2020-02-18</td><td>Shipped within one week</td></tr>",
                            "<tr><td>10891</td><td>2020-02-17</td><td>2020-02-19</td><td>Shipped within one week</td></tr>",
                            "<tr><td>10892</td><td>2020-02-17</td><td>2020-02-19</td><td>Shipped within one week</td></tr>",
                            "<tr><td>10893</td><td>2020-02-18</td><td>2020-02-20</td><td>Shipped within one week</td></tr>",
                            "<tr><td>10894</td><td>2020-02-18</td><td>2020-02-20</td><td>Shipped within one week</td></tr>",
                            "<tr><td>10895</td><td>2020-02-18</td><td>2020-02-23</td><td>Shipped within one week</td></tr>",
                            "<tr><td>10896</td><td>2020-02-19</td><td>2020-02-27</td><td>Shipped over a week later</td></tr>",
                            "<tr><td>10897</td><td>2020-02-19</td><td>2020-02-25</td><td>Shipped within one week</td></tr>",
                            "<tr><td>10898</td><td>2020-02-20</td><td>2020-03-06</td><td>Shipped over a week later</td></tr>",
                            "<tr><td>10899</td><td>2020-02-20</td><td>2020-02-26</td><td>Shipped within one week</td></tr>",
                            "<tr><td>10900</td><td>2020-02-20</td><td>2020-03-04</td><td>Shipped over a week later</td></tr>",
                            "<tr><td>10901</td><td>2020-02-23</td><td>2020-02-26</td><td>Shipped within one week</td></tr>",
                            "<tr><td>10902</td><td>2020-02-23</td><td>2020-03-03</td><td>Shipped over a week later</td></tr>",
                            "<tr><td>10903</td><td>2020-02-24</td><td>2020-03-04</td><td>Shipped over a week later</td></tr>",
                            "<tr><td>10904</td><td>2020-02-24</td><td>2020-02-27</td><td>Shipped within one week</td></tr>",
                            "<tr><td>10905</td><td>2020-02-24</td><td>2020-03-06</td><td>Shipped over a week later</td></tr>",
                            "<tr><td>10906</td><td>2020-02-25</td><td>2020-03-03</td><td>Shipped within one week</td></tr>",
                            "<tr><td>10907</td><td>2020-02-25</td><td>2020-02-27</td><td>Shipped within one week</td></tr>",
                            "<tr><td>10908</td><td>2020-02-26</td><td>2020-03-06</td><td>Shipped over a week later</td></tr>",
                            "<tr><td>10909</td><td>2020-02-26</td><td>2020-03-10</td><td>Shipped over a week later</td></tr>",
                            "<tr><td>10910</td><td>2020-02-26</td><td>2020-03-04</td><td>Shipped within one week</td></tr>",
                            "<tr><td>10911</td><td>2020-02-26</td><td>2020-03-05</td><td>Shipped over a week later</td></tr>",
                            "<tr><td>10912</td><td>2020-02-26</td><td>2020-03-18</td><td>Shipped over a week later</td></tr>",
                            "<tr><td>10913</td><td>2020-02-26</td><td>2020-03-04</td><td>Shipped within one week</td></tr>",
                            "<tr><td>10914</td><td>2020-02-27</td><td>2020-03-02</td><td>Shipped within one week</td></tr>",
                            "<tr><td>10915</td><td>2020-02-27</td><td>2020-03-02</td><td>Shipped within one week</td></tr>",
                            "<tr><td>10916</td><td>2020-02-27</td><td>2020-03-09</td><td>Shipped over a week later</td></tr>",
                            "<tr><td>10917</td><td>2020-03-02</td><td>2020-03-11</td><td>Shipped over a week later</td></tr>",
                            "<tr><td>10918</td><td>2020-03-02</td><td>2020-03-11</td><td>Shipped over a week later</td></tr>",
                            "<tr><td>10919</td><td>2020-03-02</td><td>2020-03-04</td><td>Shipped within one week</td></tr>",
                            "<tr><td>10920</td><td>2020-03-03</td><td>2020-03-09</td><td>Shipped within one week</td></tr>",
                            "<tr><td>10921</td><td>2020-03-03</td><td>2020-03-09</td><td>Shipped within one week</td></tr>",
                            "<tr><td>10922</td><td>2020-03-03</td><td>2020-03-05</td><td>Shipped within one week</td></tr>",
                            "<tr><td>10923</td><td>2020-03-03</td><td>2020-03-13</td><td>Shipped over a week later</td></tr>",
                            "<tr><td>10924</td><td>2020-03-04</td><td>2020-04-08</td><td>Shipped over a week later</td></tr>",
                            "<tr><td>10925</td><td>2020-03-04</td><td>2020-03-13</td><td>Shipped over a week later</td></tr>",
                            "<tr><td>10926</td><td>2020-03-04</td><td>2020-03-11</td><td>Shipped within one week</td></tr>",
                            "<tr><td>10927</td><td>2020-03-05</td><td>2020-04-08</td><td>Shipped over a week later</td></tr>",
                            "<tr><td>10928</td><td>2020-03-05</td><td>2020-03-18</td><td>Shipped over a week later</td></tr>",
                            "<tr><td>10929</td><td>2020-03-05</td><td>2020-03-12</td><td>Shipped within one week</td></tr>",
                            "<tr><td>10930</td><td>2020-03-06</td><td>2020-03-18</td><td>Shipped over a week later</td></tr>",
                            "<tr><td>10931</td><td>2020-03-06</td><td>2020-03-19</td><td>Shipped over a week later</td></tr>",
                            "<tr><td>10932</td><td>2020-03-06</td><td>2020-03-24</td><td>Shipped over a week later</td></tr>",
                            "<tr><td>10933</td><td>2020-03-06</td><td>2020-03-16</td><td>Shipped over a week later</td></tr>",
                            "<tr><td>10934</td><td>2020-03-09</td><td>2020-03-12</td><td>Shipped within one week</td></tr>",
                            "<tr><td>10935</td><td>2020-03-09</td><td>2020-03-18</td><td>Shipped over a week later</td></tr>",
                            "<tr><td>10936</td><td>2020-03-09</td><td>2020-03-18</td><td>Shipped over a week later</td></tr>",
                            "<tr><td>10937</td><td>2020-03-10</td><td>2020-03-13</td><td>Shipped within one week</td></tr>",
                            "<tr><td>10938</td><td>2020-03-10</td><td>2020-03-16</td><td>Shipped within one week</td></tr>",
                            "<tr><td>10939</td><td>2020-03-10</td><td>2020-03-13</td><td>Shipped within one week</td></tr>",
                            "<tr><td>10940</td><td>2020-03-11</td><td>2020-03-23</td><td>Shipped over a week later</td></tr>",
                            "<tr><td>10941</td><td>2020-03-11</td><td>2020-03-20</td><td>Shipped over a week later</td></tr>",
                            "<tr><td>10942</td><td>2020-03-11</td><td>2020-03-18</td><td>Shipped within one week</td></tr>",
                            "<tr><td>10943</td><td>2020-03-11</td><td>2020-03-19</td><td>Shipped over a week later</td></tr>",
                            "<tr><td>10944</td><td>2020-03-12</td><td>2020-03-13</td><td>Shipped within one week</td></tr>",
                            "<tr><td>10945</td><td>2020-03-12</td><td>2020-03-18</td><td>Shipped within one week</td></tr>",
                            "<tr><td>10946</td><td>2020-03-12</td><td>2020-03-19</td><td>Shipped within one week</td></tr>",
                            "<tr><td>10947</td><td>2020-03-13</td><td>2020-03-16</td><td>Shipped within one week</td></tr>",
                            "<tr><td>10948</td><td>2020-03-13</td><td>2020-03-19</td><td>Shipped within one week</td></tr>",
                            "<tr><td>10949</td><td>2020-03-13</td><td>2020-03-17</td><td>Shipped within one week</td></tr>",
                            "<tr><td>10950</td><td>2020-03-16</td><td>2020-03-23</td><td>Shipped within one week</td></tr>",
                            "<tr><td>10951</td><td>2020-03-16</td><td>2020-04-07</td><td>Shipped over a week later</td></tr>",
                            "<tr><td>10952</td><td>2020-03-16</td><td>2020-03-24</td><td>Shipped over a week later</td></tr>",
                            "<tr><td>10953</td><td>2020-03-16</td><td>2020-03-25</td><td>Shipped over a week later</td></tr>",
                            "<tr><td>10954</td><td>2020-03-17</td><td>2020-03-20</td><td>Shipped within one week</td></tr>",
                            "<tr><td>10955</td><td>2020-03-17</td><td>2020-03-20</td><td>Shipped within one week</td></tr>",
                            "<tr><td>10956</td><td>2020-03-17</td><td>2020-03-20</td><td>Shipped within one week</td></tr>",
                            "<tr><td>10957</td><td>2020-03-18</td><td>2020-03-27</td><td>Shipped over a week later</td></tr>",
                            "<tr><td>10958</td><td>2020-03-18</td><td>2020-03-27</td><td>Shipped over a week later</td></tr>",
                            "<tr><td>10959</td><td>2020-03-18</td><td>2020-03-23</td><td>Shipped within one week</td></tr>",
                            "<tr><td>10960</td><td>2020-03-19</td><td>2020-04-08</td><td>Shipped over a week later</td></tr>",
                            "<tr><td>10961</td><td>2020-03-19</td><td>2020-03-30</td><td>Shipped over a week later</td></tr>",
                            "<tr><td>10962</td><td>2020-03-19</td><td>2020-03-23</td><td>Shipped within one week</td></tr>",
                            "<tr><td>10963</td><td>2020-03-19</td><td>2020-03-26</td><td>Shipped within one week</td></tr>",
                            "<tr><td>10964</td><td>2020-03-20</td><td>2020-03-24</td><td>Shipped within one week</td></tr>",
                            "<tr><td>10965</td><td>2020-03-20</td><td>2020-03-30</td><td>Shipped over a week later</td></tr>",
                            "<tr><td>10966</td><td>2020-03-20</td><td>2020-04-08</td><td>Shipped over a week later</td></tr>",
                            "<tr><td>10967</td><td>2020-03-23</td><td>2020-04-02</td><td>Shipped over a week later</td></tr>",
                            "<tr><td>10968</td><td>2020-03-23</td><td>2020-04-01</td><td>Shipped over a week later</td></tr>",
                            "<tr><td>10969</td><td>2020-03-23</td><td>2020-03-30</td><td>Shipped within one week</td></tr>",
                            "<tr><td>10970</td><td>2020-03-24</td><td>2020-04-24</td><td>Shipped over a week later</td></tr>",
                            "<tr><td>10971</td><td>2020-03-24</td><td>2020-04-02</td><td>Shipped over a week later</td></tr>",
                            "<tr><td>10972</td><td>2020-03-24</td><td>2020-03-26</td><td>Shipped within one week</td></tr>",
                            "<tr><td>10973</td><td>2020-03-24</td><td>2020-03-27</td><td>Shipped within one week</td></tr>",
                            "<tr><td>10974</td><td>2020-03-25</td><td>2020-04-03</td><td>Shipped over a week later</td></tr>",
                            "<tr><td>10975</td><td>2020-03-25</td><td>2020-03-27</td><td>Shipped within one week</td></tr>",
                            "<tr><td>10976</td><td>2020-03-25</td><td>2020-04-03</td><td>Shipped over a week later</td></tr>",
                            "<tr><td>10977</td><td>2020-03-26</td><td>2020-04-10</td><td>Shipped over a week later</td></tr>",
                            "<tr><td>10978</td><td>2020-03-26</td><td>2020-04-23</td><td>Shipped over a week later</td></tr>",
                            "<tr><td>10979</td><td>2020-03-26</td><td>2020-03-31</td><td>Shipped within one week</td></tr>",
                            "<tr><td>10980</td><td>2020-03-27</td><td>2020-04-17</td><td>Shipped over a week later</td></tr>",
                            "<tr><td>10981</td><td>2020-03-27</td><td>2020-04-02</td><td>Shipped within one week</td></tr>",
                            "<tr><td>10982</td><td>2020-03-27</td><td>2020-04-08</td><td>Shipped over a week later</td></tr>",
                            "<tr><td>10983</td><td>2020-03-27</td><td>2020-04-06</td><td>Shipped over a week later</td></tr>",
                            "<tr><td>10984</td><td>2020-03-30</td><td>2020-04-03</td><td>Shipped within one week</td></tr>",
                            "<tr><td>10985</td><td>2020-03-30</td><td>2020-04-02</td><td>Shipped within one week</td></tr>",
                            "<tr><td>10986</td><td>2020-03-30</td><td>2020-04-21</td><td>Shipped over a week later</td></tr>",
                            "<tr><td>10987</td><td>2020-03-31</td><td>2020-04-06</td><td>Shipped within one week</td></tr>",
                            "<tr><td>10988</td><td>2020-03-31</td><td>2020-04-10</td><td>Shipped over a week later</td></tr>",
                            "<tr><td>10989</td><td>2020-03-31</td><td>2020-04-02</td><td>Shipped within one week</td></tr>",
                            "<tr><td>10990</td><td>2020-04-01</td><td>2020-04-07</td><td>Shipped within one week</td></tr>",
                            "<tr><td>10991</td><td>2020-04-01</td><td>2020-04-07</td><td>Shipped within one week</td></tr>",
                            "<tr><td>10992</td><td>2020-04-01</td><td>2020-04-03</td><td>Shipped within one week</td></tr>",
                            "<tr><td>10993</td><td>2020-04-01</td><td>2020-04-10</td><td>Shipped over a week later</td></tr>",
                            "<tr><td>10994</td><td>2020-04-02</td><td>2020-04-09</td><td>Shipped within one week</td></tr>",
                            "<tr><td>10995</td><td>2020-04-02</td><td>2020-04-06</td><td>Shipped within one week</td></tr>",
                            "<tr><td>10996</td><td>2020-04-02</td><td>2020-04-10</td><td>Shipped over a week later</td></tr>",
                            "<tr><td>10997</td><td>2020-04-03</td><td>2020-04-13</td><td>Shipped over a week later</td></tr>",
                            "<tr><td>10998</td><td>2020-04-03</td><td>2020-04-17</td><td>Shipped over a week later</td></tr>",
                            "<tr><td>10999</td><td>2020-04-03</td><td>2020-04-10</td><td>Shipped within one week</td></tr>",
                            "<tr><td>11000</td><td>2020-04-06</td><td>2020-04-14</td><td>Shipped over a week later</td></tr>",
                            "<tr><td>11001</td><td>2020-04-06</td><td>2020-04-14</td><td>Shipped over a week later</td></tr>",
                            "<tr><td>11002</td><td>2020-04-06</td><td>2020-04-16</td><td>Shipped over a week later</td></tr>",
                            "<tr><td>11003</td><td>2020-04-06</td><td>2020-04-08</td><td>Shipped within one week</td></tr>",
                            "<tr><td>11004</td><td>2020-04-07</td><td>2020-04-20</td><td>Shipped over a week later</td></tr>",
                            "<tr><td>11005</td><td>2020-04-07</td><td>2020-04-10</td><td>Shipped within one week</td></tr>",
                            "<tr><td>11006</td><td>2020-04-07</td><td>2020-04-15</td><td>Shipped over a week later</td></tr>",
                            "<tr><td>11007</td><td>2020-04-08</td><td>2020-04-13</td><td>Shipped within one week</td></tr>",
                            "<tr><td>11008</td><td>2020-07-08</td><td>NULL</td><td>Not yet shipped</td></tr>",
                            "<tr><td>11009</td><td>2020-04-08</td><td>2020-04-10</td><td>Shipped within one week</td></tr>",
                            "<tr><td>11010</td><td>2020-04-09</td><td>2020-04-21</td><td>Shipped over a week later</td></tr>",
                            "<tr><td>11011</td><td>2020-04-09</td><td>2020-04-13</td><td>Shipped within one week</td></tr>",
                            "<tr><td>11012</td><td>2020-04-09</td><td>2020-04-17</td><td>Shipped over a week later</td></tr>",
                            "<tr><td>11013</td><td>2020-04-09</td><td>2020-04-10</td><td>Shipped within one week</td></tr>",
                            "<tr><td>11014</td><td>2020-04-10</td><td>2020-04-15</td><td>Shipped within one week</td></tr>",
                            "<tr><td>11015</td><td>2020-04-10</td><td>2020-04-20</td><td>Shipped over a week later</td></tr>",
                            "<tr><td>11016</td><td>2020-04-10</td><td>2020-04-13</td><td>Shipped within one week</td></tr>",
                            "<tr><td>11017</td><td>2020-04-13</td><td>2020-04-20</td><td>Shipped within one week</td></tr>",
                            "<tr><td>11018</td><td>2020-04-13</td><td>2020-04-16</td><td>Shipped within one week</td></tr>",
                            "<tr><td>11019</td><td>2020-07-13</td><td>NULL</td><td>Not yet shipped</td></tr>",
                            "<tr><td>11020</td><td>2020-04-14</td><td>2020-04-16</td><td>Shipped within one week</td></tr>",
                            "<tr><td>11021</td><td>2020-04-14</td><td>2020-04-21</td><td>Shipped within one week</td></tr>",
                            "<tr><td>11022</td><td>2020-04-14</td><td>2020-05-04</td><td>Shipped over a week later</td></tr>",
                            "<tr><td>11023</td><td>2020-04-14</td><td>2020-04-24</td><td>Shipped over a week later</td></tr>",
                            "<tr><td>11024</td><td>2020-04-15</td><td>2020-04-20</td><td>Shipped within one week</td></tr>",
                            "<tr><td>11025</td><td>2020-04-15</td><td>2020-04-24</td><td>Shipped over a week later</td></tr>",
                            "<tr><td>11026</td><td>2020-04-15</td><td>2020-04-28</td><td>Shipped over a week later</td></tr>",
                            "<tr><td>11027</td><td>2020-04-16</td><td>2020-04-20</td><td>Shipped within one week</td></tr>",
                            "<tr><td>11028</td><td>2020-04-16</td><td>2020-04-22</td><td>Shipped within one week</td></tr>",
                            "<tr><td>11029</td><td>2020-04-16</td><td>2020-04-27</td><td>Shipped over a week later</td></tr>",
                            "<tr><td>11030</td><td>2020-04-17</td><td>2020-04-27</td><td>Shipped over a week later</td></tr>",
                            "<tr><td>11031</td><td>2020-04-17</td><td>2020-04-24</td><td>Shipped within one week</td></tr>",
                            "<tr><td>11032</td><td>2020-04-17</td><td>2020-04-23</td><td>Shipped within one week</td></tr>",
                            "<tr><td>11033</td><td>2020-04-17</td><td>2020-04-23</td><td>Shipped within one week</td></tr>",
                            "<tr><td>11034</td><td>2020-04-20</td><td>2020-04-27</td><td>Shipped within one week</td></tr>",
                            "<tr><td>11035</td><td>2020-04-20</td><td>2020-04-24</td><td>Shipped within one week</td></tr>",
                            "<tr><td>11036</td><td>2020-04-20</td><td>2020-04-22</td><td>Shipped within one week</td></tr>",
                            "<tr><td>11037</td><td>2020-04-21</td><td>2020-04-27</td><td>Shipped within one week</td></tr>",
                            "<tr><td>11038</td><td>2020-04-21</td><td>2020-04-30</td><td>Shipped over a week later</td></tr>",
                            "<tr><td>11039</td><td>2020-04-21</td><td>NULL</td><td>Not yet shipped</td></tr>",
                            "<tr><td>11040</td><td>2020-04-22</td><td>NULL</td><td>Not yet shipped</td></tr>",
                            "<tr><td>11041</td><td>2020-04-22</td><td>2020-04-28</td><td>Shipped within one week</td></tr>",
                            "<tr><td>11042</td><td>2020-04-22</td><td>2020-05-01</td><td>Shipped over a week later</td></tr>",
                            "<tr><td>11043</td><td>2020-04-22</td><td>2020-04-29</td><td>Shipped within one week</td></tr>",
                            "<tr><td>11044</td><td>2020-04-23</td><td>2020-05-01</td><td>Shipped over a week later</td></tr>",
                            "<tr><td>11045</td><td>2020-04-23</td><td>NULL</td><td>Not yet shipped</td></tr>",
                            "<tr><td>11046</td><td>2020-04-23</td><td>2020-04-24</td><td>Shipped within one week</td></tr>",
                            "<tr><td>11047</td><td>2020-04-24</td><td>2020-05-01</td><td>Shipped within one week</td></tr>",
                            "<tr><td>11048</td><td>2020-04-24</td><td>2020-04-30</td><td>Shipped within one week</td></tr>",
                            "<tr><td>11049</td><td>2020-04-24</td><td>2020-05-04</td><td>Shipped over a week later</td></tr>",
                            "<tr><td>11050</td><td>2020-04-27</td><td>2020-05-05</td><td>Shipped over a week later</td></tr>",
                            "<tr><td>11051</td><td>2020-07-27</td><td>NULL</td><td>Not yet shipped</td></tr>",
                            "<tr><td>11052</td><td>2020-04-27</td><td>2020-05-01</td><td>Shipped within one week</td></tr>",
                            "<tr><td>11053</td><td>2020-04-27</td><td>2020-04-29</td><td>Shipped within one week</td></tr>",
                            "<tr><td>11054</td><td>2020-04-28</td><td>NULL</td><td>Not yet shipped</td></tr>",
                            "<tr><td>11055</td><td>2020-04-28</td><td>2020-05-05</td><td>Shipped within one week</td></tr>",
                            "<tr><td>11056</td><td>2020-04-28</td><td>2020-05-01</td><td>Shipped within one week</td></tr>",
                            "<tr><td>11057</td><td>2020-04-29</td><td>2020-05-01</td><td>Shipped within one week</td></tr>",
                            "<tr><td>11058</td><td>2020-07-29</td><td>NULL</td><td>Not yet shipped</td></tr>",
                            "<tr><td>11059</td><td>2020-07-29</td><td>NULL</td><td>Not yet shipped</td></tr>",
                            "<tr><td>11060</td><td>2020-04-30</td><td>2020-05-04</td><td>Shipped within one week</td></tr>",
                            "<tr><td>11061</td><td>2020-07-30</td><td>NULL</td><td>Not yet shipped</td></tr>",
                            "<tr><td>11062</td><td>2020-07-30</td><td>NULL</td><td>Not yet shipped</td></tr>",
                            "<tr><td>11063</td><td>2020-04-30</td><td>2020-05-06</td><td>Shipped within one week</td></tr>",
                            "<tr><td>11064</td><td>2020-05-01</td><td>2020-05-04</td><td>Shipped within one week</td></tr>",
                            "<tr><td>11065</td><td>2020-07-29</td><td>NULL</td><td>Not yet shipped</td></tr>",
                            "<tr><td>11066</td><td>2020-05-01</td><td>2020-05-04</td><td>Shipped within one week</td></tr>",
                            "<tr><td>11067</td><td>2020-05-04</td><td>2020-05-06</td><td>Shipped within one week</td></tr>",
                            "<tr><td>11068</td><td>2020-07-29</td><td>NULL</td><td>Not yet shipped</td></tr>",
                            "<tr><td>11069</td><td>2020-05-04</td><td>2020-05-06</td><td>Shipped within one week</td></tr>",
                            "<tr><td>11070</td><td>2020-07-31</td><td>NULL</td><td>Not yet shipped</td></tr>",
                            "<tr><td>11071</td><td>2020-07-31</td><td>NULL</td><td>Not yet shipped</td></tr>",
                            "<tr><td>11072</td><td>2020-07-31</td><td>NULL</td><td>Not yet shipped</td></tr>",
                            "<tr><td>11073</td><td>2020-07-31</td><td>NULL</td><td>Not yet shipped</td></tr>",
                            "<tr><td>11074</td><td>2020-07-31</td><td>NULL</td><td>Not yet shipped</td></tr>",
                            "<tr><td>11075</td><td>2020-07-30</td><td>NULL</td><td>Not yet shipped</td></tr>",
                            "<tr><td>11076</td><td>2020-07-30</td><td>NULL</td><td>Not yet shipped</td></tr>",
                            "<tr><td>11077</td><td>2020-07-30</td><td>NULL</td><td>Not yet shipped</td></tr>",
                            "</table>"
                        ]
                    }
                }
            ],
            "execution_count": 7
        },
        {
            "cell_type": "markdown",
            "source": [
                "### **Fourth Challenge** \n",
                "\n",
                "Challenge: Repeat the third challenge to derive the shipping\\_status expression, but this time get the count of orders by the shipping\\_status expression."
            ],
            "metadata": {
                "azdata_cell_guid": "523a5181-11cb-4a74-8eb5-18535a5cd776"
            },
            "attachments": {}
        },
        {
            "cell_type": "code",
            "source": [
                "WITH shipping_time AS\n",
                "(SELECT CASE \n",
                "    WHEN DATEDIFF(day, order_date, shipped_date) <= 7 THEN 'Shipped within one week'\n",
                "    WHEN DATEDIFF(day, order_date, shipped_date) > 7 THEN 'Shipped over a week later'\n",
                "    ELSE 'Not yet shipped'\n",
                "END AS shipping_status\n",
                "FROM oes.orders)\n",
                "SELECT st.shipping_status, COUNT(*) AS order_count_by_status\n",
                "FROM shipping_time st \n",
                "GROUP BY st.shipping_status;"
            ],
            "metadata": {
                "azdata_cell_guid": "b07d4554-69bd-424a-abe1-b00790a60d95",
                "language": "sql"
            },
            "outputs": [
                {
                    "output_type": "display_data",
                    "data": {
                        "text/html": "(3 rows affected)"
                    },
                    "metadata": {}
                },
                {
                    "output_type": "display_data",
                    "data": {
                        "text/html": "Total execution time: 00:00:00.017"
                    },
                    "metadata": {}
                },
                {
                    "output_type": "execute_result",
                    "metadata": {},
                    "execution_count": 10,
                    "data": {
                        "application/vnd.dataresource+json": {
                            "schema": {
                                "fields": [
                                    {
                                        "name": "shipping_status"
                                    },
                                    {
                                        "name": "order_count_by_status"
                                    }
                                ]
                            },
                            "data": [
                                {
                                    "0": "Shipped within one week",
                                    "1": "473"
                                },
                                {
                                    "0": "Not yet shipped",
                                    "1": "21"
                                },
                                {
                                    "0": "Shipped over a week later",
                                    "1": "336"
                                }
                            ]
                        },
                        "text/html": [
                            "<table>",
                            "<tr><th>shipping_status</th><th>order_count_by_status</th></tr>",
                            "<tr><td>Shipped within one week</td><td>473</td></tr>",
                            "<tr><td>Not yet shipped</td><td>21</td></tr>",
                            "<tr><td>Shipped over a week later</td><td>336</td></tr>",
                            "</table>"
                        ]
                    }
                }
            ],
            "execution_count": 10
        }
    ]
}