{
    "metadata": {
        "kernelspec": {
            "name": "SQL",
            "display_name": "SQL",
            "language": "sql"
        },
        "language_info": {
            "name": "sql",
            "version": ""
        }
    },
    "nbformat_minor": 2,
    "nbformat": 4,
    "cells": [
        {
            "cell_type": "markdown",
            "source": [
                "# WHERE Clause Challenges"
            ],
            "metadata": {
                "azdata_cell_guid": "dd662cee-a7e5-4826-9b5c-e25e549540a6"
            },
            "attachments": {}
        },
        {
            "cell_type": "markdown",
            "source": [
                "\\*\\*Use SAMPLEDB Database\\*\\*"
            ],
            "metadata": {
                "azdata_cell_guid": "32bb3eae-345f-4e44-a4ec-4c29f64de861"
            },
            "attachments": {}
        },
        {
            "cell_type": "code",
            "source": [
                "USE SAMPLEDB \n",
                "GO"
            ],
            "metadata": {
                "azdata_cell_guid": "1ce692ec-f955-4524-8456-c93c062495b8",
                "language": "sql"
            },
            "outputs": [
                {
                    "output_type": "display_data",
                    "data": {
                        "text/html": "Commands completed successfully."
                    },
                    "metadata": {}
                },
                {
                    "output_type": "display_data",
                    "data": {
                        "text/html": "Total execution time: 00:00:00.001"
                    },
                    "metadata": {}
                }
            ],
            "execution_count": 1
        },
        {
            "cell_type": "markdown",
            "source": [
                "### **First Challenge**  \n",
                "\n",
                "Challenge: Select products from the oes.products table which have a price greater than $100."
            ],
            "metadata": {
                "language": "sql",
                "azdata_cell_guid": "a6cbfa5d-0c32-4ec6-b23c-b18414091727"
            },
            "attachments": {}
        },
        {
            "cell_type": "code",
            "source": [
                "SELECT * FROM oes.products \n",
                "WHERE list_price > 100;"
            ],
            "metadata": {
                "language": "sql",
                "azdata_cell_guid": "3af7dc45-c07b-4f40-adb7-f954c955fb1b"
            },
            "outputs": [
                {
                    "output_type": "display_data",
                    "data": {
                        "text/html": "(55 rows affected)"
                    },
                    "metadata": {}
                },
                {
                    "output_type": "display_data",
                    "data": {
                        "text/html": "Total execution time: 00:00:00.044"
                    },
                    "metadata": {}
                },
                {
                    "output_type": "execute_result",
                    "metadata": {},
                    "execution_count": 2,
                    "data": {
                        "application/vnd.dataresource+json": {
                            "schema": {
                                "fields": [
                                    {
                                        "name": "product_id"
                                    },
                                    {
                                        "name": "product_name"
                                    },
                                    {
                                        "name": "category_id"
                                    },
                                    {
                                        "name": "list_price"
                                    },
                                    {
                                        "name": "discontinued"
                                    }
                                ]
                            },
                            "data": [
                                {
                                    "0": "1",
                                    "1": "Apple iPhone 11 64GB - Black",
                                    "2": "1",
                                    "3": "1299.0000",
                                    "4": "0"
                                },
                                {
                                    "0": "2",
                                    "1": "Apple iPhone 11 128GB - White",
                                    "2": "1",
                                    "3": "1499.0000",
                                    "4": "0"
                                },
                                {
                                    "0": "3",
                                    "1": "Titan Army N34QW 34 inch Curved UltraWide Monitor",
                                    "2": "2",
                                    "3": "799.0000",
                                    "4": "0"
                                },
                                {
                                    "0": "4",
                                    "1": "LG UltraGear 24GL600F-B 24 inch Full HD Monitor",
                                    "2": "2",
                                    "3": "348.9900",
                                    "4": "0"
                                },
                                {
                                    "0": "5",
                                    "1": "ASUS PG279Q Monitor",
                                    "2": "2",
                                    "3": "149.0000",
                                    "4": "1"
                                },
                                {
                                    "0": "6",
                                    "1": "Logitech G213 Prodigy RGB Gaming Keyboard",
                                    "2": "2",
                                    "3": "109.0000",
                                    "4": "0"
                                },
                                {
                                    "0": "8",
                                    "1": "Microsoft Sculpt Ergonomic Wireless Keyboard and Mouse Combo",
                                    "2": "2",
                                    "3": "171.3500",
                                    "4": "0"
                                },
                                {
                                    "0": "9",
                                    "1": "JKW Video Intercom over IP adaptor",
                                    "2": "6",
                                    "3": "495.0000",
                                    "4": "1"
                                },
                                {
                                    "0": "10",
                                    "1": "Intel Coffee Lake Core i9 Processor",
                                    "2": "8",
                                    "3": "779.0000",
                                    "4": "0"
                                },
                                {
                                    "0": "11",
                                    "1": "Horion 55 inch 4K Ultra HD LED TV",
                                    "2": "4",
                                    "3": "632.0000",
                                    "4": "0"
                                },
                                {
                                    "0": "12",
                                    "1": "Sony WH-1000XM3 Noise-Cancelling headphones - Black",
                                    "2": "4",
                                    "3": "459.0000",
                                    "4": "0"
                                },
                                {
                                    "0": "15",
                                    "1": "Logitech G Pro X Mechanical TKL RGB Gaming Keyboard",
                                    "2": "2",
                                    "3": "278.9900",
                                    "4": "0"
                                },
                                {
                                    "0": "16",
                                    "1": "Canon EOS 3000D DSLR Entry-Level Camera",
                                    "2": "3",
                                    "3": "578.9900",
                                    "4": "0"
                                },
                                {
                                    "0": "17",
                                    "1": "MPS Intercom system",
                                    "2": "6",
                                    "3": "398.0000",
                                    "4": "1"
                                },
                                {
                                    "0": "19",
                                    "1": "Nikon D3500 DSLR Camera",
                                    "2": "3",
                                    "3": "659.0000",
                                    "4": "0"
                                },
                                {
                                    "0": "20",
                                    "1": "GoPro HERO 8 Black Action Camera 4K Video",
                                    "2": "3",
                                    "3": "595.0000",
                                    "4": "0"
                                },
                                {
                                    "0": "21",
                                    "1": "DJI Mavic Mini Drone",
                                    "2": "3",
                                    "3": "623.5000",
                                    "4": "0"
                                },
                                {
                                    "0": "22",
                                    "1": "HPR Workstation Intel 7",
                                    "2": "5",
                                    "3": "3744.0000",
                                    "4": "0"
                                },
                                {
                                    "0": "23",
                                    "1": "PBX 32106 NUC Mini PC Desktop Kit",
                                    "2": "5",
                                    "3": "350.9500",
                                    "4": "0"
                                },
                                {
                                    "0": "24",
                                    "1": "Apple iPhone 6S - Silver",
                                    "2": "1",
                                    "3": "999.9900",
                                    "4": "1"
                                },
                                {
                                    "0": "25",
                                    "1": "Apple iPhone SE 128GB - Black",
                                    "2": "1",
                                    "3": "898.9900",
                                    "4": "0"
                                },
                                {
                                    "0": "26",
                                    "1": "DJI Mavic 2 Pro Drone with Hasselblad Camera",
                                    "2": "3",
                                    "3": "2491.6700",
                                    "4": "0"
                                },
                                {
                                    "0": "27",
                                    "1": "Canon EF 50mm f/1.8 STM Lens for Canon Digital SLR Cameras",
                                    "2": "3",
                                    "3": "249.0000",
                                    "4": "0"
                                },
                                {
                                    "0": "29",
                                    "1": "APY Intercom System",
                                    "2": "6",
                                    "3": "350.0000",
                                    "4": "1"
                                },
                                {
                                    "0": "30",
                                    "1": "Leadtek Quadro P620 Professional Workstation Graphics Card",
                                    "2": "8",
                                    "3": "349.9400",
                                    "4": "0"
                                },
                                {
                                    "0": "31",
                                    "1": "Logitech Z333 2.1 Multimedia Speaker System",
                                    "2": "4",
                                    "3": "159.0000",
                                    "4": "0"
                                },
                                {
                                    "0": "32",
                                    "1": "Blue Yeti Microphone",
                                    "2": "4",
                                    "3": "258.9900",
                                    "4": "0"
                                },
                                {
                                    "0": "34",
                                    "1": "Samsung Galaxy Note10 - Aura Black",
                                    "2": "1",
                                    "3": "1499.0000",
                                    "4": "0"
                                },
                                {
                                    "0": "36",
                                    "1": "Leadtek Quadro P1000 Full Performance Professional Graphics Card",
                                    "2": "8",
                                    "3": "688.8500",
                                    "4": "0"
                                },
                                {
                                    "0": "37",
                                    "1": "Leadtek Quadro P400 Professional Workstation Graphics Card",
                                    "2": "8",
                                    "3": "240.3500",
                                    "4": "0"
                                },
                                {
                                    "0": "38",
                                    "1": "Apple Watch Series 3 - Grey",
                                    "2": "1",
                                    "3": "339.5000",
                                    "4": "0"
                                },
                                {
                                    "0": "40",
                                    "1": "Samsung 1TB Solid State Drive SSD",
                                    "2": "8",
                                    "3": "194.3500",
                                    "4": "0"
                                },
                                {
                                    "0": "41",
                                    "1": "Crucial MX500 500GB SSD",
                                    "2": "8",
                                    "3": "132.2500",
                                    "4": "0"
                                },
                                {
                                    "0": "42",
                                    "1": "PBX Everyday Home PC 43300",
                                    "2": "5",
                                    "3": "1033.0000",
                                    "4": "1"
                                },
                                {
                                    "0": "44",
                                    "1": "ASUS VG279Q 27 inch Full HD IPS Gaming Monitor",
                                    "2": "2",
                                    "3": "578.9900",
                                    "4": "0"
                                },
                                {
                                    "0": "45",
                                    "1": "Aten UC3020 CamLive HDMI to USB-C Video Capture",
                                    "2": "8",
                                    "3": "251.0000",
                                    "4": "0"
                                },
                                {
                                    "0": "47",
                                    "1": "Canon EOS M50 Mirrorless Camera",
                                    "2": "3",
                                    "3": "989.0000",
                                    "4": "0"
                                },
                                {
                                    "0": "48",
                                    "1": "Canon EOS 80D DSLR Camera Single Lens Kit",
                                    "2": "3",
                                    "3": "1499.0000",
                                    "4": "0"
                                },
                                {
                                    "0": "49",
                                    "1": "GoPro HERO 7 Silver Action Camera 4K Video",
                                    "2": "3",
                                    "3": "325.6200",
                                    "4": "0"
                                },
                                {
                                    "0": "52",
                                    "1": "ASUS W203MA Laptop",
                                    "2": "5",
                                    "3": "425.9900",
                                    "4": "0"
                                },
                                {
                                    "0": "53",
                                    "1": "AB Security cam",
                                    "2": "6",
                                    "3": "300.0000",
                                    "4": "1"
                                },
                                {
                                    "0": "54",
                                    "1": "Panasonic VL-SWD272 Wireless Video Intercom System",
                                    "2": "6",
                                    "3": "661.2500",
                                    "4": "0"
                                },
                                {
                                    "0": "55",
                                    "1": "RING Smart Video Wi-Fi Doorbell 3",
                                    "2": "6",
                                    "3": "398.9900",
                                    "4": "0"
                                },
                                {
                                    "0": "56",
                                    "1": "Microsoft Surface Laptop 3",
                                    "2": "5",
                                    "3": "1789.9900",
                                    "4": "0"
                                },
                                {
                                    "0": "57",
                                    "1": "Acer Nitro 7 Gaming Laptop",
                                    "2": "5",
                                    "3": "2104.0000",
                                    "4": "0"
                                },
                                {
                                    "0": "59",
                                    "1": "Samsung 50TU8000 50 inch 4K Smart TV",
                                    "2": "4",
                                    "3": "1426.0000",
                                    "4": "0"
                                },
                                {
                                    "0": "60",
                                    "1": "Konic 55 inch 4K Ultra HD LED TV",
                                    "2": "4",
                                    "3": "747.5000",
                                    "4": "0"
                                },
                                {
                                    "0": "61",
                                    "1": "Apple Magic Keyboard",
                                    "2": "2",
                                    "3": "147.9900",
                                    "4": "0"
                                },
                                {
                                    "0": "63",
                                    "1": "Samsung C49HG90 49 inch QLED Monitor",
                                    "2": "2",
                                    "3": "1899.0000",
                                    "4": "0"
                                },
                                {
                                    "0": "64",
                                    "1": "Microsoft Surface Pro 7 Tablet",
                                    "2": "5",
                                    "3": "1598.9900",
                                    "4": "0"
                                },
                                {
                                    "0": "65",
                                    "1": "Evoluent VM4R Wired Vertical Mouse 4 right-handed",
                                    "2": "2",
                                    "3": "182.8500",
                                    "4": "0"
                                },
                                {
                                    "0": "69",
                                    "1": "PowerBeats Pro True Wireless Sports Earphones",
                                    "2": "4",
                                    "3": "332.9900",
                                    "4": "0"
                                },
                                {
                                    "0": "71",
                                    "1": "Apple AirPods Pro Noise Cancelling True Wireless Headphones",
                                    "2": "4",
                                    "3": "409.0000",
                                    "4": "0"
                                },
                                {
                                    "0": "73",
                                    "1": "Corsair LL Series LL120 Fan",
                                    "2": "8",
                                    "3": "192.9900",
                                    "4": "0"
                                },
                                {
                                    "0": "77",
                                    "1": "Microsoft Surface Arc Mouse - Bluetooth - Ice Blue",
                                    "2": "2",
                                    "3": "128.8000",
                                    "4": "0"
                                }
                            ]
                        },
                        "text/html": [
                            "<table>",
                            "<tr><th>product_id</th><th>product_name</th><th>category_id</th><th>list_price</th><th>discontinued</th></tr>",
                            "<tr><td>1</td><td>Apple iPhone 11 64GB - Black</td><td>1</td><td>1299.0000</td><td>0</td></tr>",
                            "<tr><td>2</td><td>Apple iPhone 11 128GB - White</td><td>1</td><td>1499.0000</td><td>0</td></tr>",
                            "<tr><td>3</td><td>Titan Army N34QW 34 inch Curved UltraWide Monitor</td><td>2</td><td>799.0000</td><td>0</td></tr>",
                            "<tr><td>4</td><td>LG UltraGear 24GL600F-B 24 inch Full HD Monitor</td><td>2</td><td>348.9900</td><td>0</td></tr>",
                            "<tr><td>5</td><td>ASUS PG279Q Monitor</td><td>2</td><td>149.0000</td><td>1</td></tr>",
                            "<tr><td>6</td><td>Logitech G213 Prodigy RGB Gaming Keyboard</td><td>2</td><td>109.0000</td><td>0</td></tr>",
                            "<tr><td>8</td><td>Microsoft Sculpt Ergonomic Wireless Keyboard and Mouse Combo</td><td>2</td><td>171.3500</td><td>0</td></tr>",
                            "<tr><td>9</td><td>JKW Video Intercom over IP adaptor</td><td>6</td><td>495.0000</td><td>1</td></tr>",
                            "<tr><td>10</td><td>Intel Coffee Lake Core i9 Processor</td><td>8</td><td>779.0000</td><td>0</td></tr>",
                            "<tr><td>11</td><td>Horion 55 inch 4K Ultra HD LED TV</td><td>4</td><td>632.0000</td><td>0</td></tr>",
                            "<tr><td>12</td><td>Sony WH-1000XM3 Noise-Cancelling headphones - Black</td><td>4</td><td>459.0000</td><td>0</td></tr>",
                            "<tr><td>15</td><td>Logitech G Pro X Mechanical TKL RGB Gaming Keyboard</td><td>2</td><td>278.9900</td><td>0</td></tr>",
                            "<tr><td>16</td><td>Canon EOS 3000D DSLR Entry-Level Camera</td><td>3</td><td>578.9900</td><td>0</td></tr>",
                            "<tr><td>17</td><td>MPS Intercom system</td><td>6</td><td>398.0000</td><td>1</td></tr>",
                            "<tr><td>19</td><td>Nikon D3500 DSLR Camera</td><td>3</td><td>659.0000</td><td>0</td></tr>",
                            "<tr><td>20</td><td>GoPro HERO 8 Black Action Camera 4K Video</td><td>3</td><td>595.0000</td><td>0</td></tr>",
                            "<tr><td>21</td><td>DJI Mavic Mini Drone</td><td>3</td><td>623.5000</td><td>0</td></tr>",
                            "<tr><td>22</td><td>HPR Workstation Intel 7</td><td>5</td><td>3744.0000</td><td>0</td></tr>",
                            "<tr><td>23</td><td>PBX 32106 NUC Mini PC Desktop Kit</td><td>5</td><td>350.9500</td><td>0</td></tr>",
                            "<tr><td>24</td><td>Apple iPhone 6S - Silver</td><td>1</td><td>999.9900</td><td>1</td></tr>",
                            "<tr><td>25</td><td>Apple iPhone SE 128GB - Black</td><td>1</td><td>898.9900</td><td>0</td></tr>",
                            "<tr><td>26</td><td>DJI Mavic 2 Pro Drone with Hasselblad Camera</td><td>3</td><td>2491.6700</td><td>0</td></tr>",
                            "<tr><td>27</td><td>Canon EF 50mm f/1.8 STM Lens for Canon Digital SLR Cameras</td><td>3</td><td>249.0000</td><td>0</td></tr>",
                            "<tr><td>29</td><td>APY Intercom System</td><td>6</td><td>350.0000</td><td>1</td></tr>",
                            "<tr><td>30</td><td>Leadtek Quadro P620 Professional Workstation Graphics Card</td><td>8</td><td>349.9400</td><td>0</td></tr>",
                            "<tr><td>31</td><td>Logitech Z333 2.1 Multimedia Speaker System</td><td>4</td><td>159.0000</td><td>0</td></tr>",
                            "<tr><td>32</td><td>Blue Yeti Microphone</td><td>4</td><td>258.9900</td><td>0</td></tr>",
                            "<tr><td>34</td><td>Samsung Galaxy Note10 - Aura Black</td><td>1</td><td>1499.0000</td><td>0</td></tr>",
                            "<tr><td>36</td><td>Leadtek Quadro P1000 Full Performance Professional Graphics Card</td><td>8</td><td>688.8500</td><td>0</td></tr>",
                            "<tr><td>37</td><td>Leadtek Quadro P400 Professional Workstation Graphics Card</td><td>8</td><td>240.3500</td><td>0</td></tr>",
                            "<tr><td>38</td><td>Apple Watch Series 3 - Grey</td><td>1</td><td>339.5000</td><td>0</td></tr>",
                            "<tr><td>40</td><td>Samsung 1TB Solid State Drive SSD</td><td>8</td><td>194.3500</td><td>0</td></tr>",
                            "<tr><td>41</td><td>Crucial MX500 500GB SSD</td><td>8</td><td>132.2500</td><td>0</td></tr>",
                            "<tr><td>42</td><td>PBX Everyday Home PC 43300</td><td>5</td><td>1033.0000</td><td>1</td></tr>",
                            "<tr><td>44</td><td>ASUS VG279Q 27 inch Full HD IPS Gaming Monitor</td><td>2</td><td>578.9900</td><td>0</td></tr>",
                            "<tr><td>45</td><td>Aten UC3020 CamLive HDMI to USB-C Video Capture</td><td>8</td><td>251.0000</td><td>0</td></tr>",
                            "<tr><td>47</td><td>Canon EOS M50 Mirrorless Camera</td><td>3</td><td>989.0000</td><td>0</td></tr>",
                            "<tr><td>48</td><td>Canon EOS 80D DSLR Camera Single Lens Kit</td><td>3</td><td>1499.0000</td><td>0</td></tr>",
                            "<tr><td>49</td><td>GoPro HERO 7 Silver Action Camera 4K Video</td><td>3</td><td>325.6200</td><td>0</td></tr>",
                            "<tr><td>52</td><td>ASUS W203MA Laptop</td><td>5</td><td>425.9900</td><td>0</td></tr>",
                            "<tr><td>53</td><td>AB Security cam</td><td>6</td><td>300.0000</td><td>1</td></tr>",
                            "<tr><td>54</td><td>Panasonic VL-SWD272 Wireless Video Intercom System</td><td>6</td><td>661.2500</td><td>0</td></tr>",
                            "<tr><td>55</td><td>RING Smart Video Wi-Fi Doorbell 3</td><td>6</td><td>398.9900</td><td>0</td></tr>",
                            "<tr><td>56</td><td>Microsoft Surface Laptop 3</td><td>5</td><td>1789.9900</td><td>0</td></tr>",
                            "<tr><td>57</td><td>Acer Nitro 7 Gaming Laptop</td><td>5</td><td>2104.0000</td><td>0</td></tr>",
                            "<tr><td>59</td><td>Samsung 50TU8000 50 inch 4K Smart TV</td><td>4</td><td>1426.0000</td><td>0</td></tr>",
                            "<tr><td>60</td><td>Konic 55 inch 4K Ultra HD LED TV</td><td>4</td><td>747.5000</td><td>0</td></tr>",
                            "<tr><td>61</td><td>Apple Magic Keyboard</td><td>2</td><td>147.9900</td><td>0</td></tr>",
                            "<tr><td>63</td><td>Samsung C49HG90 49 inch QLED Monitor</td><td>2</td><td>1899.0000</td><td>0</td></tr>",
                            "<tr><td>64</td><td>Microsoft Surface Pro 7 Tablet</td><td>5</td><td>1598.9900</td><td>0</td></tr>",
                            "<tr><td>65</td><td>Evoluent VM4R Wired Vertical Mouse 4 right-handed</td><td>2</td><td>182.8500</td><td>0</td></tr>",
                            "<tr><td>69</td><td>PowerBeats Pro True Wireless Sports Earphones</td><td>4</td><td>332.9900</td><td>0</td></tr>",
                            "<tr><td>71</td><td>Apple AirPods Pro Noise Cancelling True Wireless Headphones</td><td>4</td><td>409.0000</td><td>0</td></tr>",
                            "<tr><td>73</td><td>Corsair LL Series LL120 Fan</td><td>8</td><td>192.9900</td><td>0</td></tr>",
                            "<tr><td>77</td><td>Microsoft Surface Arc Mouse - Bluetooth - Ice Blue</td><td>2</td><td>128.8000</td><td>0</td></tr>",
                            "</table>"
                        ]
                    }
                }
            ],
            "execution_count": 2
        },
        {
            "cell_type": "markdown",
            "source": [
                "### **Second Challenge**  \n",
                "\n",
                "Challenge: Select all orders from the oes.orders table which have not yet been shipped."
            ],
            "metadata": {
                "language": "sql",
                "azdata_cell_guid": "ef02cdea-c76d-49f7-90c3-4e2cf7e5d02f"
            },
            "attachments": {}
        },
        {
            "cell_type": "code",
            "source": [
                "SELECT * FROM oes.orders\n",
                "WHERE shipped_date IS NULL;"
            ],
            "metadata": {
                "language": "sql",
                "azdata_cell_guid": "08916a6b-2876-465e-943e-2d13e891bb49"
            },
            "outputs": [
                {
                    "output_type": "display_data",
                    "data": {
                        "text/html": "(21 rows affected)"
                    },
                    "metadata": {}
                },
                {
                    "output_type": "display_data",
                    "data": {
                        "text/html": "Total execution time: 00:00:00.028"
                    },
                    "metadata": {}
                },
                {
                    "output_type": "execute_result",
                    "metadata": {},
                    "execution_count": 4,
                    "data": {
                        "application/vnd.dataresource+json": {
                            "schema": {
                                "fields": [
                                    {
                                        "name": "order_id"
                                    },
                                    {
                                        "name": "customer_id"
                                    },
                                    {
                                        "name": "employee_id"
                                    },
                                    {
                                        "name": "order_date"
                                    },
                                    {
                                        "name": "shipped_date"
                                    },
                                    {
                                        "name": "shipper_id"
                                    },
                                    {
                                        "name": "freight_cost"
                                    }
                                ]
                            },
                            "data": [
                                {
                                    "0": "11008",
                                    "1": "20",
                                    "2": "NULL",
                                    "3": "2020-07-08",
                                    "4": "NULL",
                                    "5": "3",
                                    "6": "79.4600"
                                },
                                {
                                    "0": "11019",
                                    "1": "64",
                                    "2": "NULL",
                                    "3": "2020-07-13",
                                    "4": "NULL",
                                    "5": "3",
                                    "6": "15.6000"
                                },
                                {
                                    "0": "11039",
                                    "1": "47",
                                    "2": "NULL",
                                    "3": "2020-04-21",
                                    "4": "NULL",
                                    "5": "2",
                                    "6": "43.0000"
                                },
                                {
                                    "0": "11040",
                                    "1": "32",
                                    "2": "NULL",
                                    "3": "2020-04-22",
                                    "4": "NULL",
                                    "5": "3",
                                    "6": "18.8400"
                                },
                                {
                                    "0": "11045",
                                    "1": "10",
                                    "2": "NULL",
                                    "3": "2020-04-23",
                                    "4": "NULL",
                                    "5": "2",
                                    "6": "4.6000"
                                },
                                {
                                    "0": "11051",
                                    "1": "41",
                                    "2": "NULL",
                                    "3": "2020-07-27",
                                    "4": "NULL",
                                    "5": "3",
                                    "6": "31.8000"
                                },
                                {
                                    "0": "11054",
                                    "1": "12",
                                    "2": "NULL",
                                    "3": "2020-04-28",
                                    "4": "NULL",
                                    "5": "1",
                                    "6": "1.8000"
                                },
                                {
                                    "0": "11058",
                                    "1": "6",
                                    "2": "NULL",
                                    "3": "2020-07-29",
                                    "4": "NULL",
                                    "5": "3",
                                    "6": "76.8000"
                                },
                                {
                                    "0": "11059",
                                    "1": "67",
                                    "2": "NULL",
                                    "3": "2020-07-29",
                                    "4": "NULL",
                                    "5": "2",
                                    "6": "85.8000"
                                },
                                {
                                    "0": "11061",
                                    "1": "32",
                                    "2": "NULL",
                                    "3": "2020-07-30",
                                    "4": "NULL",
                                    "5": "3",
                                    "6": "36.1000"
                                },
                                {
                                    "0": "11062",
                                    "1": "66",
                                    "2": "NULL",
                                    "3": "2020-07-30",
                                    "4": "NULL",
                                    "5": "2",
                                    "6": "29.9300"
                                },
                                {
                                    "0": "11065",
                                    "1": "46",
                                    "2": "NULL",
                                    "3": "2020-07-29",
                                    "4": "NULL",
                                    "5": "1",
                                    "6": "42.9000"
                                },
                                {
                                    "0": "11068",
                                    "1": "62",
                                    "2": "NULL",
                                    "3": "2020-07-29",
                                    "4": "NULL",
                                    "5": "2",
                                    "6": "13.1000"
                                },
                                {
                                    "0": "11070",
                                    "1": "44",
                                    "2": "NULL",
                                    "3": "2020-07-31",
                                    "4": "NULL",
                                    "5": "1",
                                    "6": "26.0000"
                                },
                                {
                                    "0": "11071",
                                    "1": "46",
                                    "2": "NULL",
                                    "3": "2020-07-31",
                                    "4": "NULL",
                                    "5": "1",
                                    "6": "4.2000"
                                },
                                {
                                    "0": "11072",
                                    "1": "20",
                                    "2": "NULL",
                                    "3": "2020-07-31",
                                    "4": "NULL",
                                    "5": "2",
                                    "6": "29.0000"
                                },
                                {
                                    "0": "11073",
                                    "1": "58",
                                    "2": "NULL",
                                    "3": "2020-07-31",
                                    "4": "NULL",
                                    "5": "2",
                                    "6": "73.8000"
                                },
                                {
                                    "0": "11074",
                                    "1": "73",
                                    "2": "NULL",
                                    "3": "2020-07-31",
                                    "4": "NULL",
                                    "5": "2",
                                    "6": "18.4400"
                                },
                                {
                                    "0": "11075",
                                    "1": "68",
                                    "2": "NULL",
                                    "3": "2020-07-30",
                                    "4": "NULL",
                                    "5": "2",
                                    "6": "54.1000"
                                },
                                {
                                    "0": "11076",
                                    "1": "9",
                                    "2": "NULL",
                                    "3": "2020-07-30",
                                    "4": "NULL",
                                    "5": "2",
                                    "6": "38.2800"
                                },
                                {
                                    "0": "11077",
                                    "1": "65",
                                    "2": "NULL",
                                    "3": "2020-07-30",
                                    "4": "NULL",
                                    "5": "2",
                                    "6": "36.0000"
                                }
                            ]
                        },
                        "text/html": [
                            "<table>",
                            "<tr><th>order_id</th><th>customer_id</th><th>employee_id</th><th>order_date</th><th>shipped_date</th><th>shipper_id</th><th>freight_cost</th></tr>",
                            "<tr><td>11008</td><td>20</td><td>NULL</td><td>2020-07-08</td><td>NULL</td><td>3</td><td>79.4600</td></tr>",
                            "<tr><td>11019</td><td>64</td><td>NULL</td><td>2020-07-13</td><td>NULL</td><td>3</td><td>15.6000</td></tr>",
                            "<tr><td>11039</td><td>47</td><td>NULL</td><td>2020-04-21</td><td>NULL</td><td>2</td><td>43.0000</td></tr>",
                            "<tr><td>11040</td><td>32</td><td>NULL</td><td>2020-04-22</td><td>NULL</td><td>3</td><td>18.8400</td></tr>",
                            "<tr><td>11045</td><td>10</td><td>NULL</td><td>2020-04-23</td><td>NULL</td><td>2</td><td>4.6000</td></tr>",
                            "<tr><td>11051</td><td>41</td><td>NULL</td><td>2020-07-27</td><td>NULL</td><td>3</td><td>31.8000</td></tr>",
                            "<tr><td>11054</td><td>12</td><td>NULL</td><td>2020-04-28</td><td>NULL</td><td>1</td><td>1.8000</td></tr>",
                            "<tr><td>11058</td><td>6</td><td>NULL</td><td>2020-07-29</td><td>NULL</td><td>3</td><td>76.8000</td></tr>",
                            "<tr><td>11059</td><td>67</td><td>NULL</td><td>2020-07-29</td><td>NULL</td><td>2</td><td>85.8000</td></tr>",
                            "<tr><td>11061</td><td>32</td><td>NULL</td><td>2020-07-30</td><td>NULL</td><td>3</td><td>36.1000</td></tr>",
                            "<tr><td>11062</td><td>66</td><td>NULL</td><td>2020-07-30</td><td>NULL</td><td>2</td><td>29.9300</td></tr>",
                            "<tr><td>11065</td><td>46</td><td>NULL</td><td>2020-07-29</td><td>NULL</td><td>1</td><td>42.9000</td></tr>",
                            "<tr><td>11068</td><td>62</td><td>NULL</td><td>2020-07-29</td><td>NULL</td><td>2</td><td>13.1000</td></tr>",
                            "<tr><td>11070</td><td>44</td><td>NULL</td><td>2020-07-31</td><td>NULL</td><td>1</td><td>26.0000</td></tr>",
                            "<tr><td>11071</td><td>46</td><td>NULL</td><td>2020-07-31</td><td>NULL</td><td>1</td><td>4.2000</td></tr>",
                            "<tr><td>11072</td><td>20</td><td>NULL</td><td>2020-07-31</td><td>NULL</td><td>2</td><td>29.0000</td></tr>",
                            "<tr><td>11073</td><td>58</td><td>NULL</td><td>2020-07-31</td><td>NULL</td><td>2</td><td>73.8000</td></tr>",
                            "<tr><td>11074</td><td>73</td><td>NULL</td><td>2020-07-31</td><td>NULL</td><td>2</td><td>18.4400</td></tr>",
                            "<tr><td>11075</td><td>68</td><td>NULL</td><td>2020-07-30</td><td>NULL</td><td>2</td><td>54.1000</td></tr>",
                            "<tr><td>11076</td><td>9</td><td>NULL</td><td>2020-07-30</td><td>NULL</td><td>2</td><td>38.2800</td></tr>",
                            "<tr><td>11077</td><td>65</td><td>NULL</td><td>2020-07-30</td><td>NULL</td><td>2</td><td>36.0000</td></tr>",
                            "</table>"
                        ]
                    }
                }
            ],
            "execution_count": 4
        },
        {
            "cell_type": "markdown",
            "source": [
                "### **Third Challenge**  \n",
                "\n",
                "Challenge: Select all orders from the oes.orders table which were placed on the 26th of February 2020."
            ],
            "metadata": {
                "language": "sql",
                "azdata_cell_guid": "6d20ef54-f3c2-486a-804e-a88bbddbfd4e"
            },
            "attachments": {}
        },
        {
            "cell_type": "code",
            "source": [
                "SELECT * FROM oes.orders\n",
                "WHERE order_date = '2020-02-26';"
            ],
            "metadata": {
                "language": "sql",
                "azdata_cell_guid": "76a2523d-3b8f-4a97-992c-f26ab0329eb1"
            },
            "outputs": [
                {
                    "output_type": "display_data",
                    "data": {
                        "text/html": "(6 rows affected)"
                    },
                    "metadata": {}
                },
                {
                    "output_type": "display_data",
                    "data": {
                        "text/html": "Total execution time: 00:00:00.023"
                    },
                    "metadata": {}
                },
                {
                    "output_type": "execute_result",
                    "metadata": {},
                    "execution_count": 5,
                    "data": {
                        "application/vnd.dataresource+json": {
                            "schema": {
                                "fields": [
                                    {
                                        "name": "order_id"
                                    },
                                    {
                                        "name": "customer_id"
                                    },
                                    {
                                        "name": "employee_id"
                                    },
                                    {
                                        "name": "order_date"
                                    },
                                    {
                                        "name": "shipped_date"
                                    },
                                    {
                                        "name": "shipper_id"
                                    },
                                    {
                                        "name": "freight_cost"
                                    }
                                ]
                            },
                            "data": [
                                {
                                    "0": "10908",
                                    "1": "66",
                                    "2": "177",
                                    "3": "2020-02-26",
                                    "4": "2020-03-06",
                                    "5": "2",
                                    "6": "32.9600"
                                },
                                {
                                    "0": "10909",
                                    "1": "70",
                                    "2": "175",
                                    "3": "2020-02-26",
                                    "4": "2020-03-10",
                                    "5": "2",
                                    "6": "53.0500"
                                },
                                {
                                    "0": "10910",
                                    "1": "90",
                                    "2": "148",
                                    "3": "2020-02-26",
                                    "4": "2020-03-04",
                                    "5": "3",
                                    "6": "38.1100"
                                },
                                {
                                    "0": "10911",
                                    "1": "30",
                                    "2": "146",
                                    "3": "2020-02-26",
                                    "4": "2020-03-05",
                                    "5": "1",
                                    "6": "88.2000"
                                },
                                {
                                    "0": "10912",
                                    "1": "37",
                                    "2": "157",
                                    "3": "2020-02-26",
                                    "4": "2020-03-18",
                                    "5": "2",
                                    "6": "48.9000"
                                },
                                {
                                    "0": "10913",
                                    "1": "62",
                                    "2": "174",
                                    "3": "2020-02-26",
                                    "4": "2020-03-04",
                                    "5": "1",
                                    "6": "33.0500"
                                }
                            ]
                        },
                        "text/html": [
                            "<table>",
                            "<tr><th>order_id</th><th>customer_id</th><th>employee_id</th><th>order_date</th><th>shipped_date</th><th>shipper_id</th><th>freight_cost</th></tr>",
                            "<tr><td>10908</td><td>66</td><td>177</td><td>2020-02-26</td><td>2020-03-06</td><td>2</td><td>32.9600</td></tr>",
                            "<tr><td>10909</td><td>70</td><td>175</td><td>2020-02-26</td><td>2020-03-10</td><td>2</td><td>53.0500</td></tr>",
                            "<tr><td>10910</td><td>90</td><td>148</td><td>2020-02-26</td><td>2020-03-04</td><td>3</td><td>38.1100</td></tr>",
                            "<tr><td>10911</td><td>30</td><td>146</td><td>2020-02-26</td><td>2020-03-05</td><td>1</td><td>88.2000</td></tr>",
                            "<tr><td>10912</td><td>37</td><td>157</td><td>2020-02-26</td><td>2020-03-18</td><td>2</td><td>48.9000</td></tr>",
                            "<tr><td>10913</td><td>62</td><td>174</td><td>2020-02-26</td><td>2020-03-04</td><td>1</td><td>33.0500</td></tr>",
                            "</table>"
                        ]
                    }
                }
            ],
            "execution_count": 5
        },
        {
            "cell_type": "markdown",
            "source": [
                "### **Fourth Challenge**\n",
                "\n",
                "Challenge: Select all orders from the oes.orders table which were placed on or after the 1st of January 2020."
            ],
            "metadata": {
                "language": "sql",
                "azdata_cell_guid": "813a713c-985b-4d2f-bc10-e14749fb0152"
            },
            "attachments": {}
        },
        {
            "cell_type": "code",
            "source": [
                "SELECT * FROM oes.orders\n",
                "WHERE order_date >= '2020-01-01';"
            ],
            "metadata": {
                "language": "sql",
                "azdata_cell_guid": "c734325f-8755-4438-a377-1c007658d078"
            },
            "outputs": [
                {
                    "output_type": "display_data",
                    "data": {
                        "text/html": "(270 rows affected)"
                    },
                    "metadata": {}
                },
                {
                    "output_type": "display_data",
                    "data": {
                        "text/html": "Total execution time: 00:00:00.015"
                    },
                    "metadata": {}
                },
                {
                    "output_type": "execute_result",
                    "metadata": {},
                    "execution_count": 6,
                    "data": {
                        "application/vnd.dataresource+json": {
                            "schema": {
                                "fields": [
                                    {
                                        "name": "order_id"
                                    },
                                    {
                                        "name": "customer_id"
                                    },
                                    {
                                        "name": "employee_id"
                                    },
                                    {
                                        "name": "order_date"
                                    },
                                    {
                                        "name": "shipped_date"
                                    },
                                    {
                                        "name": "shipper_id"
                                    },
                                    {
                                        "name": "freight_cost"
                                    }
                                ]
                            },
                            "data": [
                                {
                                    "0": "10808",
                                    "1": "55",
                                    "2": "173",
                                    "3": "2020-01-01",
                                    "4": "2020-01-09",
                                    "5": "3",
                                    "6": "99.9000"
                                },
                                {
                                    "0": "10809",
                                    "1": "88",
                                    "2": "177",
                                    "3": "2020-01-01",
                                    "4": "2020-01-07",
                                    "5": "1",
                                    "6": "17.4000"
                                },
                                {
                                    "0": "10810",
                                    "1": "42",
                                    "2": "168",
                                    "3": "2020-01-01",
                                    "4": "2020-01-07",
                                    "5": "3",
                                    "6": "36.6000"
                                },
                                {
                                    "0": "10811",
                                    "1": "47",
                                    "2": "164",
                                    "3": "2020-01-02",
                                    "4": "2020-01-08",
                                    "5": "1",
                                    "6": "67.7000"
                                },
                                {
                                    "0": "10812",
                                    "1": "66",
                                    "2": "152",
                                    "3": "2020-01-02",
                                    "4": "2020-01-12",
                                    "5": "1",
                                    "6": "19.7000"
                                },
                                {
                                    "0": "10813",
                                    "1": "67",
                                    "2": "155",
                                    "3": "2020-01-05",
                                    "4": "2020-01-09",
                                    "5": "1",
                                    "6": "47.3800"
                                },
                                {
                                    "0": "10814",
                                    "1": "84",
                                    "2": "171",
                                    "3": "2020-01-05",
                                    "4": "2020-01-14",
                                    "5": "3",
                                    "6": "36.0000"
                                },
                                {
                                    "0": "10815",
                                    "1": "71",
                                    "2": "156",
                                    "3": "2020-01-05",
                                    "4": "2020-01-14",
                                    "5": "3",
                                    "6": "1.3000"
                                },
                                {
                                    "0": "10816",
                                    "1": "32",
                                    "2": "168",
                                    "3": "2020-01-06",
                                    "4": "2020-02-04",
                                    "5": "2",
                                    "6": "21.2000"
                                },
                                {
                                    "0": "10817",
                                    "1": "39",
                                    "2": "146",
                                    "3": "2020-01-06",
                                    "4": "2020-01-13",
                                    "5": "2",
                                    "6": "31.0000"
                                },
                                {
                                    "0": "10818",
                                    "1": "49",
                                    "2": "173",
                                    "3": "2020-01-07",
                                    "4": "2020-01-12",
                                    "5": "3",
                                    "6": "20.4000"
                                },
                                {
                                    "0": "10819",
                                    "1": "12",
                                    "2": "164",
                                    "3": "2020-01-07",
                                    "4": "2020-01-16",
                                    "5": "3",
                                    "6": "19.7600"
                                },
                                {
                                    "0": "10820",
                                    "1": "65",
                                    "2": "174",
                                    "3": "2020-01-07",
                                    "4": "2020-01-13",
                                    "5": "2",
                                    "6": "91.4000"
                                },
                                {
                                    "0": "10821",
                                    "1": "75",
                                    "2": "175",
                                    "3": "2020-01-08",
                                    "4": "2020-01-15",
                                    "5": "1",
                                    "6": "5.9000"
                                },
                                {
                                    "0": "10822",
                                    "1": "82",
                                    "2": "175",
                                    "3": "2020-01-08",
                                    "4": "2020-01-16",
                                    "5": "3",
                                    "6": "7.0000"
                                },
                                {
                                    "0": "10823",
                                    "1": "46",
                                    "2": "147",
                                    "3": "2020-01-09",
                                    "4": "2020-01-13",
                                    "5": "2",
                                    "6": "24.0000"
                                },
                                {
                                    "0": "10824",
                                    "1": "24",
                                    "2": "176",
                                    "3": "2020-01-09",
                                    "4": "2020-01-30",
                                    "5": "1",
                                    "6": "8.2000"
                                },
                                {
                                    "0": "10825",
                                    "1": "17",
                                    "2": "147",
                                    "3": "2020-01-09",
                                    "4": "2020-01-14",
                                    "5": "1",
                                    "6": "22.0000"
                                },
                                {
                                    "0": "10826",
                                    "1": "7",
                                    "2": "174",
                                    "3": "2020-01-12",
                                    "4": "2020-02-06",
                                    "5": "1",
                                    "6": "73.8000"
                                },
                                {
                                    "0": "10827",
                                    "1": "9",
                                    "2": "176",
                                    "3": "2020-01-12",
                                    "4": "2020-02-06",
                                    "5": "2",
                                    "6": "63.5400"
                                },
                                {
                                    "0": "10828",
                                    "1": "64",
                                    "2": "161",
                                    "3": "2020-01-13",
                                    "4": "2020-02-04",
                                    "5": "1",
                                    "6": "90.8500"
                                },
                                {
                                    "0": "10829",
                                    "1": "38",
                                    "2": "167",
                                    "3": "2020-01-13",
                                    "4": "2020-01-23",
                                    "5": "1",
                                    "6": "35.0000"
                                },
                                {
                                    "0": "10830",
                                    "1": "81",
                                    "2": "176",
                                    "3": "2020-01-13",
                                    "4": "2020-01-21",
                                    "5": "2",
                                    "6": "81.8300"
                                },
                                {
                                    "0": "10831",
                                    "1": "70",
                                    "2": "174",
                                    "3": "2020-01-14",
                                    "4": "2020-01-23",
                                    "5": "2",
                                    "6": "72.1900"
                                },
                                {
                                    "0": "10832",
                                    "1": "41",
                                    "2": "172",
                                    "3": "2020-01-14",
                                    "4": "2020-01-19",
                                    "5": "2",
                                    "6": "23.0000"
                                },
                                {
                                    "0": "10833",
                                    "1": "56",
                                    "2": "168",
                                    "3": "2020-01-15",
                                    "4": "2020-01-23",
                                    "5": "2",
                                    "6": "71.4900"
                                },
                                {
                                    "0": "10834",
                                    "1": "81",
                                    "2": "164",
                                    "3": "2020-01-15",
                                    "4": "2020-01-19",
                                    "5": "3",
                                    "6": "29.7800"
                                },
                                {
                                    "0": "10835",
                                    "1": "1",
                                    "2": "169",
                                    "3": "2020-01-15",
                                    "4": "2020-01-21",
                                    "5": "3",
                                    "6": "69.5300"
                                },
                                {
                                    "0": "10836",
                                    "1": "20",
                                    "2": "161",
                                    "3": "2020-01-16",
                                    "4": "2020-01-21",
                                    "5": "1",
                                    "6": "46.0000"
                                },
                                {
                                    "0": "10837",
                                    "1": "5",
                                    "2": "176",
                                    "3": "2020-01-16",
                                    "4": "2020-01-23",
                                    "5": "3",
                                    "6": "51.7000"
                                },
                                {
                                    "0": "10838",
                                    "1": "47",
                                    "2": "161",
                                    "3": "2020-01-19",
                                    "4": "2020-01-23",
                                    "5": "3",
                                    "6": "32.0000"
                                },
                                {
                                    "0": "10839",
                                    "1": "81",
                                    "2": "177",
                                    "3": "2020-01-19",
                                    "4": "2020-01-22",
                                    "5": "3",
                                    "6": "10.7000"
                                },
                                {
                                    "0": "10840",
                                    "1": "47",
                                    "2": "147",
                                    "3": "2020-01-19",
                                    "4": "2020-02-16",
                                    "5": "2",
                                    "6": "31.1000"
                                },
                                {
                                    "0": "10841",
                                    "1": "76",
                                    "2": "170",
                                    "3": "2020-01-20",
                                    "4": "2020-01-29",
                                    "5": "2",
                                    "6": "34.0000"
                                },
                                {
                                    "0": "10842",
                                    "1": "80",
                                    "2": "172",
                                    "3": "2020-01-20",
                                    "4": "2020-01-29",
                                    "5": "3",
                                    "6": "54.4200"
                                },
                                {
                                    "0": "10843",
                                    "1": "84",
                                    "2": "170",
                                    "3": "2020-01-21",
                                    "4": "2020-01-26",
                                    "5": "2",
                                    "6": "2.6000"
                                },
                                {
                                    "0": "10844",
                                    "1": "59",
                                    "2": "154",
                                    "3": "2020-01-21",
                                    "4": "2020-01-26",
                                    "5": "2",
                                    "6": "27.0000"
                                },
                                {
                                    "0": "10845",
                                    "1": "63",
                                    "2": "166",
                                    "3": "2020-01-21",
                                    "4": "2020-01-30",
                                    "5": "1",
                                    "6": "43.0000"
                                },
                                {
                                    "0": "10846",
                                    "1": "76",
                                    "2": "156",
                                    "3": "2020-01-22",
                                    "4": "2020-01-23",
                                    "5": "3",
                                    "6": "56.4600"
                                },
                                {
                                    "0": "10847",
                                    "1": "71",
                                    "2": "160",
                                    "3": "2020-01-22",
                                    "4": "2020-02-10",
                                    "5": "3",
                                    "6": "38.0000"
                                },
                                {
                                    "0": "10848",
                                    "1": "16",
                                    "2": "174",
                                    "3": "2020-01-23",
                                    "4": "2020-01-29",
                                    "5": "2",
                                    "6": "38.2400"
                                },
                                {
                                    "0": "10849",
                                    "1": "39",
                                    "2": "175",
                                    "3": "2020-01-23",
                                    "4": "2020-01-30",
                                    "5": "2",
                                    "6": "98.8000"
                                },
                                {
                                    "0": "10850",
                                    "1": "84",
                                    "2": "149",
                                    "3": "2020-01-23",
                                    "4": "2020-01-30",
                                    "5": "1",
                                    "6": "49.1900"
                                },
                                {
                                    "0": "10851",
                                    "1": "67",
                                    "2": "158",
                                    "3": "2020-01-26",
                                    "4": "2020-02-02",
                                    "5": "1",
                                    "6": "23.0000"
                                },
                                {
                                    "0": "10852",
                                    "1": "65",
                                    "2": "154",
                                    "3": "2020-01-26",
                                    "4": "2020-01-30",
                                    "5": "1",
                                    "6": "41.0000"
                                },
                                {
                                    "0": "10853",
                                    "1": "6",
                                    "2": "168",
                                    "3": "2020-01-27",
                                    "4": "2020-02-03",
                                    "5": "2",
                                    "6": "2.1000"
                                },
                                {
                                    "0": "10854",
                                    "1": "20",
                                    "2": "163",
                                    "3": "2020-01-27",
                                    "4": "2020-02-05",
                                    "5": "2",
                                    "6": "26.0000"
                                },
                                {
                                    "0": "10855",
                                    "1": "55",
                                    "2": "152",
                                    "3": "2020-01-27",
                                    "4": "2020-02-04",
                                    "5": "1",
                                    "6": "47.0000"
                                },
                                {
                                    "0": "10856",
                                    "1": "3",
                                    "2": "175",
                                    "3": "2020-01-28",
                                    "4": "2020-02-10",
                                    "5": "2",
                                    "6": "37.0000"
                                },
                                {
                                    "0": "10857",
                                    "1": "5",
                                    "2": "167",
                                    "3": "2020-01-28",
                                    "4": "2020-02-06",
                                    "5": "2",
                                    "6": "43.0000"
                                },
                                {
                                    "0": "10858",
                                    "1": "40",
                                    "2": "151",
                                    "3": "2020-01-29",
                                    "4": "2020-02-03",
                                    "5": "1",
                                    "6": "52.5100"
                                },
                                {
                                    "0": "10859",
                                    "1": "25",
                                    "2": "155",
                                    "3": "2020-01-29",
                                    "4": "2020-02-02",
                                    "5": "2",
                                    "6": "43.0000"
                                },
                                {
                                    "0": "10860",
                                    "1": "26",
                                    "2": "173",
                                    "3": "2020-01-29",
                                    "4": "2020-02-04",
                                    "5": "3",
                                    "6": "6.1000"
                                },
                                {
                                    "0": "10861",
                                    "1": "89",
                                    "2": "168",
                                    "3": "2020-01-30",
                                    "4": "2020-02-17",
                                    "5": "2",
                                    "6": "49.4000"
                                },
                                {
                                    "0": "10862",
                                    "1": "44",
                                    "2": "146",
                                    "3": "2020-01-30",
                                    "4": "2020-02-02",
                                    "5": "2",
                                    "6": "53.2300"
                                },
                                {
                                    "0": "10863",
                                    "1": "35",
                                    "2": "177",
                                    "3": "2020-02-02",
                                    "4": "2020-02-17",
                                    "5": "2",
                                    "6": "71.8000"
                                },
                                {
                                    "0": "10864",
                                    "1": "4",
                                    "2": "145",
                                    "3": "2020-02-02",
                                    "4": "2020-02-09",
                                    "5": "2",
                                    "6": "6.1000"
                                },
                                {
                                    "0": "10865",
                                    "1": "63",
                                    "2": "177",
                                    "3": "2020-02-02",
                                    "4": "2020-02-12",
                                    "5": "1",
                                    "6": "18.7000"
                                },
                                {
                                    "0": "10866",
                                    "1": "5",
                                    "2": "169",
                                    "3": "2020-02-03",
                                    "4": "2020-02-12",
                                    "5": "1",
                                    "6": "45.0000"
                                },
                                {
                                    "0": "10867",
                                    "1": "48",
                                    "2": "156",
                                    "3": "2020-02-03",
                                    "4": "2020-02-11",
                                    "5": "1",
                                    "6": "11.1000"
                                },
                                {
                                    "0": "10868",
                                    "1": "62",
                                    "2": "156",
                                    "3": "2020-02-04",
                                    "4": "2020-02-23",
                                    "5": "2",
                                    "6": "38.0000"
                                },
                                {
                                    "0": "10869",
                                    "1": "72",
                                    "2": "164",
                                    "3": "2020-02-04",
                                    "4": "2020-02-09",
                                    "5": "1",
                                    "6": "35.0000"
                                },
                                {
                                    "0": "10870",
                                    "1": "91",
                                    "2": "159",
                                    "3": "2020-02-04",
                                    "4": "2020-02-13",
                                    "5": "3",
                                    "6": "12.0400"
                                },
                                {
                                    "0": "10871",
                                    "1": "9",
                                    "2": "162",
                                    "3": "2020-02-05",
                                    "4": "2020-02-10",
                                    "5": "2",
                                    "6": "45.0000"
                                },
                                {
                                    "0": "10872",
                                    "1": "30",
                                    "2": "168",
                                    "3": "2020-02-05",
                                    "4": "2020-02-09",
                                    "5": "2",
                                    "6": "39.0000"
                                },
                                {
                                    "0": "10873",
                                    "1": "90",
                                    "2": "170",
                                    "3": "2020-02-06",
                                    "4": "2020-02-09",
                                    "5": "1",
                                    "6": "20.2000"
                                },
                                {
                                    "0": "10874",
                                    "1": "30",
                                    "2": "153",
                                    "3": "2020-02-06",
                                    "4": "2020-02-11",
                                    "5": "2",
                                    "6": "42.5000"
                                },
                                {
                                    "0": "10875",
                                    "1": "5",
                                    "2": "152",
                                    "3": "2020-02-06",
                                    "4": "2020-03-03",
                                    "5": "2",
                                    "6": "90.8000"
                                },
                                {
                                    "0": "10876",
                                    "1": "9",
                                    "2": "171",
                                    "3": "2020-02-09",
                                    "4": "2020-02-12",
                                    "5": "3",
                                    "6": "60.4200"
                                },
                                {
                                    "0": "10877",
                                    "1": "67",
                                    "2": "165",
                                    "3": "2020-02-09",
                                    "4": "2020-02-19",
                                    "5": "1",
                                    "6": "38.0600"
                                },
                                {
                                    "0": "10878",
                                    "1": "63",
                                    "2": "170",
                                    "3": "2020-02-10",
                                    "4": "2020-02-12",
                                    "5": "1",
                                    "6": "46.6900"
                                },
                                {
                                    "0": "10879",
                                    "1": "90",
                                    "2": "161",
                                    "3": "2020-02-10",
                                    "4": "2020-02-12",
                                    "5": "3",
                                    "6": "22.3000"
                                },
                                {
                                    "0": "10880",
                                    "1": "24",
                                    "2": "146",
                                    "3": "2020-02-10",
                                    "4": "2020-02-18",
                                    "5": "1",
                                    "6": "88.0100"
                                },
                                {
                                    "0": "10881",
                                    "1": "12",
                                    "2": "146",
                                    "3": "2020-02-11",
                                    "4": "2020-02-18",
                                    "5": "1",
                                    "6": "8.7000"
                                },
                                {
                                    "0": "10882",
                                    "1": "71",
                                    "2": "155",
                                    "3": "2020-02-11",
                                    "4": "2020-02-20",
                                    "5": "3",
                                    "6": "83.0000"
                                },
                                {
                                    "0": "10883",
                                    "1": "48",
                                    "2": "157",
                                    "3": "2020-02-12",
                                    "4": "2020-02-20",
                                    "5": "3",
                                    "6": "30.0000"
                                },
                                {
                                    "0": "10884",
                                    "1": "45",
                                    "2": "152",
                                    "3": "2020-02-12",
                                    "4": "2020-02-13",
                                    "5": "2",
                                    "6": "90.9700"
                                },
                                {
                                    "0": "10885",
                                    "1": "76",
                                    "2": "149",
                                    "3": "2020-02-12",
                                    "4": "2020-02-18",
                                    "5": "3",
                                    "6": "85.7000"
                                },
                                {
                                    "0": "10886",
                                    "1": "34",
                                    "2": "175",
                                    "3": "2020-02-13",
                                    "4": "2020-03-02",
                                    "5": "1",
                                    "6": "37.5000"
                                },
                                {
                                    "0": "10887",
                                    "1": "29",
                                    "2": "148",
                                    "3": "2020-02-13",
                                    "4": "2020-02-16",
                                    "5": "3",
                                    "6": "28.4000"
                                },
                                {
                                    "0": "10888",
                                    "1": "30",
                                    "2": "175",
                                    "3": "2020-02-16",
                                    "4": "2020-02-23",
                                    "5": "2",
                                    "6": "51.8700"
                                },
                                {
                                    "0": "10889",
                                    "1": "65",
                                    "2": "171",
                                    "3": "2020-02-16",
                                    "4": "2020-02-23",
                                    "5": "3",
                                    "6": "48.3000"
                                },
                                {
                                    "0": "10890",
                                    "1": "18",
                                    "2": "154",
                                    "3": "2020-02-16",
                                    "4": "2020-02-18",
                                    "5": "1",
                                    "6": "92.8000"
                                },
                                {
                                    "0": "10891",
                                    "1": "44",
                                    "2": "152",
                                    "3": "2020-02-17",
                                    "4": "2020-02-19",
                                    "5": "2",
                                    "6": "20.3700"
                                },
                                {
                                    "0": "10892",
                                    "1": "50",
                                    "2": "161",
                                    "3": "2020-02-17",
                                    "4": "2020-02-19",
                                    "5": "2",
                                    "6": "37.0000"
                                },
                                {
                                    "0": "10893",
                                    "1": "39",
                                    "2": "175",
                                    "3": "2020-02-18",
                                    "4": "2020-02-20",
                                    "5": "2",
                                    "6": "77.7800"
                                },
                                {
                                    "0": "10894",
                                    "1": "71",
                                    "2": "155",
                                    "3": "2020-02-18",
                                    "4": "2020-02-20",
                                    "5": "1",
                                    "6": "22.9000"
                                },
                                {
                                    "0": "10895",
                                    "1": "20",
                                    "2": "160",
                                    "3": "2020-02-18",
                                    "4": "2020-02-23",
                                    "5": "1",
                                    "6": "43.0000"
                                },
                                {
                                    "0": "10896",
                                    "1": "50",
                                    "2": "169",
                                    "3": "2020-02-19",
                                    "4": "2020-02-27",
                                    "5": "3",
                                    "6": "93.2000"
                                },
                                {
                                    "0": "10897",
                                    "1": "37",
                                    "2": "161",
                                    "3": "2020-02-19",
                                    "4": "2020-02-25",
                                    "5": "2",
                                    "6": "34.1000"
                                },
                                {
                                    "0": "10898",
                                    "1": "54",
                                    "2": "145",
                                    "3": "2020-02-20",
                                    "4": "2020-03-06",
                                    "5": "2",
                                    "6": "3.0000"
                                },
                                {
                                    "0": "10899",
                                    "1": "46",
                                    "2": "147",
                                    "3": "2020-02-20",
                                    "4": "2020-02-26",
                                    "5": "3",
                                    "6": "1.2100"
                                },
                                {
                                    "0": "10900",
                                    "1": "88",
                                    "2": "148",
                                    "3": "2020-02-20",
                                    "4": "2020-03-04",
                                    "5": "2",
                                    "6": "4.3000"
                                },
                                {
                                    "0": "10901",
                                    "1": "35",
                                    "2": "160",
                                    "3": "2020-02-23",
                                    "4": "2020-02-26",
                                    "5": "1",
                                    "6": "62.0900"
                                },
                                {
                                    "0": "10902",
                                    "1": "24",
                                    "2": "160",
                                    "3": "2020-02-23",
                                    "4": "2020-03-03",
                                    "5": "1",
                                    "6": "44.1500"
                                },
                                {
                                    "0": "10903",
                                    "1": "34",
                                    "2": "157",
                                    "3": "2020-02-24",
                                    "4": "2020-03-04",
                                    "5": "3",
                                    "6": "36.7100"
                                },
                                {
                                    "0": "10904",
                                    "1": "89",
                                    "2": "162",
                                    "3": "2020-02-24",
                                    "4": "2020-02-27",
                                    "5": "3",
                                    "6": "8.9000"
                                },
                                {
                                    "0": "10905",
                                    "1": "88",
                                    "2": "173",
                                    "3": "2020-02-24",
                                    "4": "2020-03-06",
                                    "5": "2",
                                    "6": "51.5000"
                                },
                                {
                                    "0": "10906",
                                    "1": "91",
                                    "2": "173",
                                    "3": "2020-02-25",
                                    "4": "2020-03-03",
                                    "5": "3",
                                    "6": "7.8000"
                                },
                                {
                                    "0": "10907",
                                    "1": "74",
                                    "2": "153",
                                    "3": "2020-02-25",
                                    "4": "2020-02-27",
                                    "5": "3",
                                    "6": "2.7000"
                                },
                                {
                                    "0": "10908",
                                    "1": "66",
                                    "2": "177",
                                    "3": "2020-02-26",
                                    "4": "2020-03-06",
                                    "5": "2",
                                    "6": "32.9600"
                                },
                                {
                                    "0": "10909",
                                    "1": "70",
                                    "2": "175",
                                    "3": "2020-02-26",
                                    "4": "2020-03-10",
                                    "5": "2",
                                    "6": "53.0500"
                                },
                                {
                                    "0": "10910",
                                    "1": "90",
                                    "2": "148",
                                    "3": "2020-02-26",
                                    "4": "2020-03-04",
                                    "5": "3",
                                    "6": "38.1100"
                                },
                                {
                                    "0": "10911",
                                    "1": "30",
                                    "2": "146",
                                    "3": "2020-02-26",
                                    "4": "2020-03-05",
                                    "5": "1",
                                    "6": "88.2000"
                                },
                                {
                                    "0": "10912",
                                    "1": "37",
                                    "2": "157",
                                    "3": "2020-02-26",
                                    "4": "2020-03-18",
                                    "5": "2",
                                    "6": "48.9000"
                                },
                                {
                                    "0": "10913",
                                    "1": "62",
                                    "2": "174",
                                    "3": "2020-02-26",
                                    "4": "2020-03-04",
                                    "5": "1",
                                    "6": "33.0500"
                                },
                                {
                                    "0": "10914",
                                    "1": "62",
                                    "2": "160",
                                    "3": "2020-02-27",
                                    "4": "2020-03-02",
                                    "5": "1",
                                    "6": "21.1900"
                                },
                                {
                                    "0": "10915",
                                    "1": "80",
                                    "2": "155",
                                    "3": "2020-02-27",
                                    "4": "2020-03-02",
                                    "5": "2",
                                    "6": "36.1000"
                                },
                                {
                                    "0": "10916",
                                    "1": "64",
                                    "2": "165",
                                    "3": "2020-02-27",
                                    "4": "2020-03-09",
                                    "5": "2",
                                    "6": "49.0000"
                                },
                                {
                                    "0": "10917",
                                    "1": "69",
                                    "2": "156",
                                    "3": "2020-03-02",
                                    "4": "2020-03-11",
                                    "5": "2",
                                    "6": "41.0000"
                                },
                                {
                                    "0": "10918",
                                    "1": "10",
                                    "2": "174",
                                    "3": "2020-03-02",
                                    "4": "2020-03-11",
                                    "5": "3",
                                    "6": "20.0000"
                                },
                                {
                                    "0": "10919",
                                    "1": "47",
                                    "2": "150",
                                    "3": "2020-03-02",
                                    "4": "2020-03-04",
                                    "5": "2",
                                    "6": "70.8000"
                                },
                                {
                                    "0": "10920",
                                    "1": "4",
                                    "2": "156",
                                    "3": "2020-03-03",
                                    "4": "2020-03-09",
                                    "5": "2",
                                    "6": "4.9000"
                                },
                                {
                                    "0": "10921",
                                    "1": "83",
                                    "2": "145",
                                    "3": "2020-03-03",
                                    "4": "2020-03-09",
                                    "5": "1",
                                    "6": "23.0000"
                                },
                                {
                                    "0": "10922",
                                    "1": "34",
                                    "2": "168",
                                    "3": "2020-03-03",
                                    "4": "2020-03-05",
                                    "5": "3",
                                    "6": "62.7400"
                                },
                                {
                                    "0": "10923",
                                    "1": "41",
                                    "2": "150",
                                    "3": "2020-03-03",
                                    "4": "2020-03-13",
                                    "5": "3",
                                    "6": "68.2600"
                                },
                                {
                                    "0": "10924",
                                    "1": "5",
                                    "2": "172",
                                    "3": "2020-03-04",
                                    "4": "2020-04-08",
                                    "5": "2",
                                    "6": "44.2000"
                                },
                                {
                                    "0": "10925",
                                    "1": "34",
                                    "2": "159",
                                    "3": "2020-03-04",
                                    "4": "2020-03-13",
                                    "5": "1",
                                    "6": "35.3000"
                                },
                                {
                                    "0": "10926",
                                    "1": "2",
                                    "2": "174",
                                    "3": "2020-03-04",
                                    "4": "2020-03-11",
                                    "5": "3",
                                    "6": "82.9000"
                                },
                                {
                                    "0": "10927",
                                    "1": "40",
                                    "2": "155",
                                    "3": "2020-03-05",
                                    "4": "2020-04-08",
                                    "5": "1",
                                    "6": "52.6000"
                                },
                                {
                                    "0": "10928",
                                    "1": "29",
                                    "2": "158",
                                    "3": "2020-03-05",
                                    "4": "2020-03-18",
                                    "5": "1",
                                    "6": "33.4000"
                                },
                                {
                                    "0": "10929",
                                    "1": "25",
                                    "2": "173",
                                    "3": "2020-03-05",
                                    "4": "2020-03-12",
                                    "5": "1",
                                    "6": "33.9300"
                                },
                                {
                                    "0": "10930",
                                    "1": "76",
                                    "2": "151",
                                    "3": "2020-03-06",
                                    "4": "2020-03-18",
                                    "5": "3",
                                    "6": "56.3000"
                                },
                                {
                                    "0": "10931",
                                    "1": "68",
                                    "2": "155",
                                    "3": "2020-03-06",
                                    "4": "2020-03-19",
                                    "5": "2",
                                    "6": "78.1000"
                                },
                                {
                                    "0": "10932",
                                    "1": "9",
                                    "2": "173",
                                    "3": "2020-03-06",
                                    "4": "2020-03-24",
                                    "5": "1",
                                    "6": "40.7000"
                                },
                                {
                                    "0": "10933",
                                    "1": "38",
                                    "2": "175",
                                    "3": "2020-03-06",
                                    "4": "2020-03-16",
                                    "5": "3",
                                    "6": "54.1500"
                                },
                                {
                                    "0": "10934",
                                    "1": "44",
                                    "2": "166",
                                    "3": "2020-03-09",
                                    "4": "2020-03-12",
                                    "5": "3",
                                    "6": "5.5000"
                                },
                                {
                                    "0": "10935",
                                    "1": "88",
                                    "2": "148",
                                    "3": "2020-03-09",
                                    "4": "2020-03-18",
                                    "5": "3",
                                    "6": "97.7000"
                                },
                                {
                                    "0": "10936",
                                    "1": "32",
                                    "2": "176",
                                    "3": "2020-03-09",
                                    "4": "2020-03-18",
                                    "5": "2",
                                    "6": "33.6800"
                                },
                                {
                                    "0": "10937",
                                    "1": "12",
                                    "2": "165",
                                    "3": "2020-03-10",
                                    "4": "2020-03-13",
                                    "5": "3",
                                    "6": "76.8000"
                                },
                                {
                                    "0": "10938",
                                    "1": "63",
                                    "2": "164",
                                    "3": "2020-03-10",
                                    "4": "2020-03-16",
                                    "5": "2",
                                    "6": "71.4000"
                                },
                                {
                                    "0": "10939",
                                    "1": "49",
                                    "2": "152",
                                    "3": "2020-03-10",
                                    "4": "2020-03-13",
                                    "5": "2",
                                    "6": "76.3300"
                                },
                                {
                                    "0": "10940",
                                    "1": "9",
                                    "2": "159",
                                    "3": "2020-03-11",
                                    "4": "2020-03-23",
                                    "5": "3",
                                    "6": "6.0000"
                                },
                                {
                                    "0": "10941",
                                    "1": "71",
                                    "2": "172",
                                    "3": "2020-03-11",
                                    "4": "2020-03-20",
                                    "5": "2",
                                    "6": "19.5000"
                                },
                                {
                                    "0": "10942",
                                    "1": "66",
                                    "2": "170",
                                    "3": "2020-03-11",
                                    "4": "2020-03-18",
                                    "5": "3",
                                    "6": "17.9500"
                                },
                                {
                                    "0": "10943",
                                    "1": "11",
                                    "2": "171",
                                    "3": "2020-03-11",
                                    "4": "2020-03-19",
                                    "5": "2",
                                    "6": "42.0000"
                                },
                                {
                                    "0": "10944",
                                    "1": "10",
                                    "2": "165",
                                    "3": "2020-03-12",
                                    "4": "2020-03-13",
                                    "5": "3",
                                    "6": "49.0000"
                                },
                                {
                                    "0": "10945",
                                    "1": "52",
                                    "2": "147",
                                    "3": "2020-03-12",
                                    "4": "2020-03-18",
                                    "5": "1",
                                    "6": "10.2200"
                                },
                                {
                                    "0": "10946",
                                    "1": "83",
                                    "2": "158",
                                    "3": "2020-03-12",
                                    "4": "2020-03-19",
                                    "5": "2",
                                    "6": "83.4000"
                                },
                                {
                                    "0": "10947",
                                    "1": "11",
                                    "2": "147",
                                    "3": "2020-03-13",
                                    "4": "2020-03-16",
                                    "5": "2",
                                    "6": "45.9000"
                                },
                                {
                                    "0": "10948",
                                    "1": "30",
                                    "2": "165",
                                    "3": "2020-03-13",
                                    "4": "2020-03-19",
                                    "5": "3",
                                    "6": "23.3900"
                                },
                                {
                                    "0": "10949",
                                    "1": "10",
                                    "2": "161",
                                    "3": "2020-03-13",
                                    "4": "2020-03-17",
                                    "5": "3",
                                    "6": "74.4400"
                                },
                                {
                                    "0": "10950",
                                    "1": "49",
                                    "2": "175",
                                    "3": "2020-03-16",
                                    "4": "2020-03-23",
                                    "5": "2",
                                    "6": "13.0000"
                                },
                                {
                                    "0": "10951",
                                    "1": "68",
                                    "2": "172",
                                    "3": "2020-03-16",
                                    "4": "2020-04-07",
                                    "5": "2",
                                    "6": "30.8500"
                                },
                                {
                                    "0": "10952",
                                    "1": "1",
                                    "2": "171",
                                    "3": "2020-03-16",
                                    "4": "2020-03-24",
                                    "5": "1",
                                    "6": "7.9000"
                                },
                                {
                                    "0": "10953",
                                    "1": "4",
                                    "2": "160",
                                    "3": "2020-03-16",
                                    "4": "2020-03-25",
                                    "5": "2",
                                    "6": "23.7200"
                                },
                                {
                                    "0": "10954",
                                    "1": "47",
                                    "2": "172",
                                    "3": "2020-03-17",
                                    "4": "2020-03-20",
                                    "5": "1",
                                    "6": "80.3000"
                                },
                                {
                                    "0": "10955",
                                    "1": "24",
                                    "2": "149",
                                    "3": "2020-03-17",
                                    "4": "2020-03-20",
                                    "5": "2",
                                    "6": "3.2600"
                                },
                                {
                                    "0": "10956",
                                    "1": "6",
                                    "2": "168",
                                    "3": "2020-03-17",
                                    "4": "2020-03-20",
                                    "5": "2",
                                    "6": "93.4000"
                                },
                                {
                                    "0": "10957",
                                    "1": "35",
                                    "2": "175",
                                    "3": "2020-03-18",
                                    "4": "2020-03-27",
                                    "5": "3",
                                    "6": "38.0000"
                                },
                                {
                                    "0": "10958",
                                    "1": "54",
                                    "2": "163",
                                    "3": "2020-03-18",
                                    "4": "2020-03-27",
                                    "5": "2",
                                    "6": "16.0000"
                                },
                                {
                                    "0": "10959",
                                    "1": "31",
                                    "2": "165",
                                    "3": "2020-03-18",
                                    "4": "2020-03-23",
                                    "5": "2",
                                    "6": "4.9800"
                                },
                                {
                                    "0": "10960",
                                    "1": "35",
                                    "2": "174",
                                    "3": "2020-03-19",
                                    "4": "2020-04-08",
                                    "5": "1",
                                    "6": "36.2000"
                                },
                                {
                                    "0": "10961",
                                    "1": "62",
                                    "2": "149",
                                    "3": "2020-03-19",
                                    "4": "2020-03-30",
                                    "5": "1",
                                    "6": "24.8000"
                                },
                                {
                                    "0": "10962",
                                    "1": "63",
                                    "2": "171",
                                    "3": "2020-03-19",
                                    "4": "2020-03-23",
                                    "5": "2",
                                    "6": "41.5000"
                                },
                                {
                                    "0": "10963",
                                    "1": "28",
                                    "2": "169",
                                    "3": "2020-03-19",
                                    "4": "2020-03-26",
                                    "5": "3",
                                    "6": "25.0000"
                                },
                                {
                                    "0": "10964",
                                    "1": "74",
                                    "2": "176",
                                    "3": "2020-03-20",
                                    "4": "2020-03-24",
                                    "5": "2",
                                    "6": "87.3800"
                                },
                                {
                                    "0": "10965",
                                    "1": "55",
                                    "2": "176",
                                    "3": "2020-03-20",
                                    "4": "2020-03-30",
                                    "5": "3",
                                    "6": "2.8000"
                                },
                                {
                                    "0": "10966",
                                    "1": "14",
                                    "2": "160",
                                    "3": "2020-03-20",
                                    "4": "2020-04-08",
                                    "5": "1",
                                    "6": "89.3000"
                                },
                                {
                                    "0": "10967",
                                    "1": "79",
                                    "2": "155",
                                    "3": "2020-03-23",
                                    "4": "2020-04-02",
                                    "5": "2",
                                    "6": "62.2200"
                                },
                                {
                                    "0": "10968",
                                    "1": "20",
                                    "2": "153",
                                    "3": "2020-03-23",
                                    "4": "2020-04-01",
                                    "5": "3",
                                    "6": "24.0000"
                                },
                                {
                                    "0": "10969",
                                    "1": "15",
                                    "2": "149",
                                    "3": "2020-03-23",
                                    "4": "2020-03-30",
                                    "5": "2",
                                    "6": "2.7000"
                                },
                                {
                                    "0": "10970",
                                    "1": "8",
                                    "2": "156",
                                    "3": "2020-03-24",
                                    "4": "2020-04-24",
                                    "5": "1",
                                    "6": "16.1600"
                                },
                                {
                                    "0": "10971",
                                    "1": "26",
                                    "2": "166",
                                    "3": "2020-03-24",
                                    "4": "2020-04-02",
                                    "5": "2",
                                    "6": "17.1000"
                                },
                                {
                                    "0": "10972",
                                    "1": "40",
                                    "2": "155",
                                    "3": "2020-03-24",
                                    "4": "2020-03-26",
                                    "5": "2",
                                    "6": "12.6000"
                                },
                                {
                                    "0": "10973",
                                    "1": "40",
                                    "2": "154",
                                    "3": "2020-03-24",
                                    "4": "2020-03-27",
                                    "5": "2",
                                    "6": "96.0000"
                                },
                                {
                                    "0": "10974",
                                    "1": "75",
                                    "2": "172",
                                    "3": "2020-03-25",
                                    "4": "2020-04-03",
                                    "5": "3",
                                    "6": "69.6000"
                                },
                                {
                                    "0": "10975",
                                    "1": "10",
                                    "2": "169",
                                    "3": "2020-03-25",
                                    "4": "2020-03-27",
                                    "5": "3",
                                    "6": "32.2700"
                                },
                                {
                                    "0": "10976",
                                    "1": "35",
                                    "2": "170",
                                    "3": "2020-03-25",
                                    "4": "2020-04-03",
                                    "5": "1",
                                    "6": "2.2000"
                                },
                                {
                                    "0": "10977",
                                    "1": "24",
                                    "2": "153",
                                    "3": "2020-03-26",
                                    "4": "2020-04-10",
                                    "5": "3",
                                    "6": "25.0000"
                                },
                                {
                                    "0": "10978",
                                    "1": "50",
                                    "2": "145",
                                    "3": "2020-03-26",
                                    "4": "2020-04-23",
                                    "5": "2",
                                    "6": "79.8000"
                                },
                                {
                                    "0": "10979",
                                    "1": "20",
                                    "2": "145",
                                    "3": "2020-03-26",
                                    "4": "2020-03-31",
                                    "5": "2",
                                    "6": "27.0000"
                                },
                                {
                                    "0": "10980",
                                    "1": "24",
                                    "2": "172",
                                    "3": "2020-03-27",
                                    "4": "2020-04-17",
                                    "5": "1",
                                    "6": "3.0000"
                                },
                                {
                                    "0": "10981",
                                    "1": "34",
                                    "2": "170",
                                    "3": "2020-03-27",
                                    "4": "2020-04-02",
                                    "5": "2",
                                    "6": "17.2000"
                                },
                                {
                                    "0": "10982",
                                    "1": "10",
                                    "2": "176",
                                    "3": "2020-03-27",
                                    "4": "2020-04-08",
                                    "5": "1",
                                    "6": "14.0100"
                                },
                                {
                                    "0": "10983",
                                    "1": "71",
                                    "2": "152",
                                    "3": "2020-03-27",
                                    "4": "2020-04-06",
                                    "5": "2",
                                    "6": "45.0000"
                                },
                                {
                                    "0": "10984",
                                    "1": "71",
                                    "2": "153",
                                    "3": "2020-03-30",
                                    "4": "2020-04-03",
                                    "5": "3",
                                    "6": "48.0000"
                                },
                                {
                                    "0": "10985",
                                    "1": "37",
                                    "2": "170",
                                    "3": "2020-03-30",
                                    "4": "2020-04-02",
                                    "5": "1",
                                    "6": "91.5100"
                                },
                                {
                                    "0": "10986",
                                    "1": "54",
                                    "2": "160",
                                    "3": "2020-03-30",
                                    "4": "2020-04-21",
                                    "5": "2",
                                    "6": "71.2000"
                                },
                                {
                                    "0": "10987",
                                    "1": "19",
                                    "2": "157",
                                    "3": "2020-03-31",
                                    "4": "2020-04-06",
                                    "5": "1",
                                    "6": "12.0000"
                                },
                                {
                                    "0": "10988",
                                    "1": "65",
                                    "2": "145",
                                    "3": "2020-03-31",
                                    "4": "2020-04-10",
                                    "5": "2",
                                    "6": "6.2000"
                                },
                                {
                                    "0": "10989",
                                    "1": "61",
                                    "2": "177",
                                    "3": "2020-03-31",
                                    "4": "2020-04-02",
                                    "5": "1",
                                    "6": "34.7600"
                                },
                                {
                                    "0": "10990",
                                    "1": "20",
                                    "2": "153",
                                    "3": "2020-04-01",
                                    "4": "2020-04-07",
                                    "5": "3",
                                    "6": "46.0000"
                                },
                                {
                                    "0": "10991",
                                    "1": "63",
                                    "2": "177",
                                    "3": "2020-04-01",
                                    "4": "2020-04-07",
                                    "5": "1",
                                    "6": "88.5000"
                                },
                                {
                                    "0": "10992",
                                    "1": "77",
                                    "2": "157",
                                    "3": "2020-04-01",
                                    "4": "2020-04-03",
                                    "5": "3",
                                    "6": "4.2700"
                                },
                                {
                                    "0": "10993",
                                    "1": "24",
                                    "2": "146",
                                    "3": "2020-04-01",
                                    "4": "2020-04-10",
                                    "5": "3",
                                    "6": "23.6000"
                                },
                                {
                                    "0": "10994",
                                    "1": "83",
                                    "2": "158",
                                    "3": "2020-04-02",
                                    "4": "2020-04-09",
                                    "5": "3",
                                    "6": "65.5300"
                                },
                                {
                                    "0": "10995",
                                    "1": "58",
                                    "2": "172",
                                    "3": "2020-04-02",
                                    "4": "2020-04-06",
                                    "5": "3",
                                    "6": "46.0000"
                                },
                                {
                                    "0": "10996",
                                    "1": "63",
                                    "2": "152",
                                    "3": "2020-04-02",
                                    "4": "2020-04-10",
                                    "5": "2",
                                    "6": "31.1000"
                                },
                                {
                                    "0": "10997",
                                    "1": "46",
                                    "2": "161",
                                    "3": "2020-04-03",
                                    "4": "2020-04-13",
                                    "5": "2",
                                    "6": "73.9100"
                                },
                                {
                                    "0": "10998",
                                    "1": "91",
                                    "2": "171",
                                    "3": "2020-04-03",
                                    "4": "2020-04-17",
                                    "5": "2",
                                    "6": "56.7000"
                                },
                                {
                                    "0": "10999",
                                    "1": "56",
                                    "2": "170",
                                    "3": "2020-04-03",
                                    "4": "2020-04-10",
                                    "5": "2",
                                    "6": "16.2000"
                                },
                                {
                                    "0": "11000",
                                    "1": "65",
                                    "2": "159",
                                    "3": "2020-04-06",
                                    "4": "2020-04-14",
                                    "5": "3",
                                    "6": "55.1200"
                                },
                                {
                                    "0": "11001",
                                    "1": "24",
                                    "2": "146",
                                    "3": "2020-04-06",
                                    "4": "2020-04-14",
                                    "5": "2",
                                    "6": "48.0000"
                                },
                                {
                                    "0": "11002",
                                    "1": "71",
                                    "2": "167",
                                    "3": "2020-04-06",
                                    "4": "2020-04-16",
                                    "5": "1",
                                    "6": "47.0000"
                                },
                                {
                                    "0": "11003",
                                    "1": "78",
                                    "2": "166",
                                    "3": "2020-04-06",
                                    "4": "2020-04-08",
                                    "5": "3",
                                    "6": "71.8000"
                                },
                                {
                                    "0": "11004",
                                    "1": "50",
                                    "2": "154",
                                    "3": "2020-04-07",
                                    "4": "2020-04-20",
                                    "5": "1",
                                    "6": "30.0000"
                                },
                                {
                                    "0": "11005",
                                    "1": "90",
                                    "2": "166",
                                    "3": "2020-04-07",
                                    "4": "2020-04-10",
                                    "5": "1",
                                    "6": "82.2000"
                                },
                                {
                                    "0": "11006",
                                    "1": "32",
                                    "2": "154",
                                    "3": "2020-04-07",
                                    "4": "2020-04-15",
                                    "5": "2",
                                    "6": "74.1000"
                                },
                                {
                                    "0": "11007",
                                    "1": "60",
                                    "2": "161",
                                    "3": "2020-04-08",
                                    "4": "2020-04-13",
                                    "5": "2",
                                    "6": "39.0000"
                                },
                                {
                                    "0": "11008",
                                    "1": "20",
                                    "2": "NULL",
                                    "3": "2020-07-08",
                                    "4": "NULL",
                                    "5": "3",
                                    "6": "79.4600"
                                },
                                {
                                    "0": "11009",
                                    "1": "30",
                                    "2": "153",
                                    "3": "2020-04-08",
                                    "4": "2020-04-10",
                                    "5": "1",
                                    "6": "25.0000"
                                },
                                {
                                    "0": "11010",
                                    "1": "66",
                                    "2": "149",
                                    "3": "2020-04-09",
                                    "4": "2020-04-21",
                                    "5": "2",
                                    "6": "59.2000"
                                },
                                {
                                    "0": "11011",
                                    "1": "1",
                                    "2": "154",
                                    "3": "2020-04-09",
                                    "4": "2020-04-13",
                                    "5": "1",
                                    "6": "16.7000"
                                },
                                {
                                    "0": "11012",
                                    "1": "25",
                                    "2": "157",
                                    "3": "2020-04-09",
                                    "4": "2020-04-17",
                                    "5": "3",
                                    "6": "26.0000"
                                },
                                {
                                    "0": "11013",
                                    "1": "69",
                                    "2": "146",
                                    "3": "2020-04-09",
                                    "4": "2020-04-10",
                                    "5": "1",
                                    "6": "84.2000"
                                },
                                {
                                    "0": "11014",
                                    "1": "47",
                                    "2": "146",
                                    "3": "2020-04-10",
                                    "4": "2020-04-15",
                                    "5": "3",
                                    "6": "6.8000"
                                },
                                {
                                    "0": "11015",
                                    "1": "70",
                                    "2": "171",
                                    "3": "2020-04-10",
                                    "4": "2020-04-20",
                                    "5": "2",
                                    "6": "19.0000"
                                },
                                {
                                    "0": "11016",
                                    "1": "4",
                                    "2": "166",
                                    "3": "2020-04-10",
                                    "4": "2020-04-13",
                                    "5": "2",
                                    "6": "33.8000"
                                },
                                {
                                    "0": "11017",
                                    "1": "20",
                                    "2": "163",
                                    "3": "2020-04-13",
                                    "4": "2020-04-20",
                                    "5": "2",
                                    "6": "42.0000"
                                },
                                {
                                    "0": "11018",
                                    "1": "48",
                                    "2": "163",
                                    "3": "2020-04-13",
                                    "4": "2020-04-16",
                                    "5": "2",
                                    "6": "80.0000"
                                },
                                {
                                    "0": "11019",
                                    "1": "64",
                                    "2": "NULL",
                                    "3": "2020-07-13",
                                    "4": "NULL",
                                    "5": "3",
                                    "6": "15.6000"
                                },
                                {
                                    "0": "11020",
                                    "1": "56",
                                    "2": "159",
                                    "3": "2020-04-14",
                                    "4": "2020-04-16",
                                    "5": "2",
                                    "6": "43.3000"
                                },
                                {
                                    "0": "11021",
                                    "1": "63",
                                    "2": "159",
                                    "3": "2020-04-14",
                                    "4": "2020-04-21",
                                    "5": "1",
                                    "6": "42.0000"
                                },
                                {
                                    "0": "11022",
                                    "1": "34",
                                    "2": "175",
                                    "3": "2020-04-14",
                                    "4": "2020-05-04",
                                    "5": "2",
                                    "6": "35.6000"
                                },
                                {
                                    "0": "11023",
                                    "1": "11",
                                    "2": "177",
                                    "3": "2020-04-14",
                                    "4": "2020-04-24",
                                    "5": "2",
                                    "6": "7.3000"
                                },
                                {
                                    "0": "11024",
                                    "1": "19",
                                    "2": "169",
                                    "3": "2020-04-15",
                                    "4": "2020-04-20",
                                    "5": "1",
                                    "6": "38.0000"
                                },
                                {
                                    "0": "11025",
                                    "1": "87",
                                    "2": "147",
                                    "3": "2020-04-15",
                                    "4": "2020-04-24",
                                    "5": "3",
                                    "6": "69.5000"
                                },
                                {
                                    "0": "11026",
                                    "1": "27",
                                    "2": "158",
                                    "3": "2020-04-15",
                                    "4": "2020-04-28",
                                    "5": "1",
                                    "6": "4.6000"
                                },
                                {
                                    "0": "11027",
                                    "1": "10",
                                    "2": "175",
                                    "3": "2020-04-16",
                                    "4": "2020-04-20",
                                    "5": "1",
                                    "6": "52.5200"
                                },
                                {
                                    "0": "11028",
                                    "1": "39",
                                    "2": "147",
                                    "3": "2020-04-16",
                                    "4": "2020-04-22",
                                    "5": "1",
                                    "6": "83.9000"
                                },
                                {
                                    "0": "11029",
                                    "1": "14",
                                    "2": "145",
                                    "3": "2020-04-16",
                                    "4": "2020-04-27",
                                    "5": "1",
                                    "6": "33.0000"
                                },
                                {
                                    "0": "11030",
                                    "1": "71",
                                    "2": "157",
                                    "3": "2020-04-17",
                                    "4": "2020-04-27",
                                    "5": "2",
                                    "6": "21.0000"
                                },
                                {
                                    "0": "11031",
                                    "1": "71",
                                    "2": "148",
                                    "3": "2020-04-17",
                                    "4": "2020-04-24",
                                    "5": "2",
                                    "6": "24.0000"
                                },
                                {
                                    "0": "11032",
                                    "1": "89",
                                    "2": "152",
                                    "3": "2020-04-17",
                                    "4": "2020-04-23",
                                    "5": "3",
                                    "6": "26.0000"
                                },
                                {
                                    "0": "11033",
                                    "1": "68",
                                    "2": "151",
                                    "3": "2020-04-17",
                                    "4": "2020-04-23",
                                    "5": "3",
                                    "6": "84.7400"
                                },
                                {
                                    "0": "11034",
                                    "1": "55",
                                    "2": "164",
                                    "3": "2020-04-20",
                                    "4": "2020-04-27",
                                    "5": "1",
                                    "6": "40.3200"
                                },
                                {
                                    "0": "11035",
                                    "1": "76",
                                    "2": "157",
                                    "3": "2020-04-20",
                                    "4": "2020-04-24",
                                    "5": "2",
                                    "6": "91.2000"
                                },
                                {
                                    "0": "11036",
                                    "1": "17",
                                    "2": "174",
                                    "3": "2020-04-20",
                                    "4": "2020-04-22",
                                    "5": "3",
                                    "6": "36.0000"
                                },
                                {
                                    "0": "11037",
                                    "1": "30",
                                    "2": "151",
                                    "3": "2020-04-21",
                                    "4": "2020-04-27",
                                    "5": "1",
                                    "6": "3.2000"
                                },
                                {
                                    "0": "11038",
                                    "1": "76",
                                    "2": "145",
                                    "3": "2020-04-21",
                                    "4": "2020-04-30",
                                    "5": "2",
                                    "6": "61.1000"
                                },
                                {
                                    "0": "11039",
                                    "1": "47",
                                    "2": "NULL",
                                    "3": "2020-04-21",
                                    "4": "NULL",
                                    "5": "2",
                                    "6": "43.0000"
                                },
                                {
                                    "0": "11040",
                                    "1": "32",
                                    "2": "NULL",
                                    "3": "2020-04-22",
                                    "4": "NULL",
                                    "5": "3",
                                    "6": "18.8400"
                                },
                                {
                                    "0": "11041",
                                    "1": "14",
                                    "2": "152",
                                    "3": "2020-04-22",
                                    "4": "2020-04-28",
                                    "5": "2",
                                    "6": "29.0000"
                                },
                                {
                                    "0": "11042",
                                    "1": "15",
                                    "2": "170",
                                    "3": "2020-04-22",
                                    "4": "2020-05-01",
                                    "5": "1",
                                    "6": "29.9900"
                                },
                                {
                                    "0": "11043",
                                    "1": "74",
                                    "2": "163",
                                    "3": "2020-04-22",
                                    "4": "2020-04-29",
                                    "5": "2",
                                    "6": "27.9000"
                                },
                                {
                                    "0": "11044",
                                    "1": "91",
                                    "2": "161",
                                    "3": "2020-04-23",
                                    "4": "2020-05-01",
                                    "5": "1",
                                    "6": "8.7200"
                                },
                                {
                                    "0": "11045",
                                    "1": "10",
                                    "2": "NULL",
                                    "3": "2020-04-23",
                                    "4": "NULL",
                                    "5": "2",
                                    "6": "4.6000"
                                },
                                {
                                    "0": "11046",
                                    "1": "86",
                                    "2": "175",
                                    "3": "2020-04-23",
                                    "4": "2020-04-24",
                                    "5": "2",
                                    "6": "71.6400"
                                },
                                {
                                    "0": "11047",
                                    "1": "19",
                                    "2": "145",
                                    "3": "2020-04-24",
                                    "4": "2020-05-01",
                                    "5": "3",
                                    "6": "46.6200"
                                },
                                {
                                    "0": "11048",
                                    "1": "10",
                                    "2": "145",
                                    "3": "2020-04-24",
                                    "4": "2020-04-30",
                                    "5": "3",
                                    "6": "3.2000"
                                },
                                {
                                    "0": "11049",
                                    "1": "31",
                                    "2": "175",
                                    "3": "2020-04-24",
                                    "4": "2020-05-04",
                                    "5": "1",
                                    "6": "66.4000"
                                },
                                {
                                    "0": "11050",
                                    "1": "24",
                                    "2": "162",
                                    "3": "2020-04-27",
                                    "4": "2020-05-05",
                                    "5": "2",
                                    "6": "3.6000"
                                },
                                {
                                    "0": "11051",
                                    "1": "41",
                                    "2": "NULL",
                                    "3": "2020-07-27",
                                    "4": "NULL",
                                    "5": "3",
                                    "6": "31.8000"
                                },
                                {
                                    "0": "11052",
                                    "1": "34",
                                    "2": "175",
                                    "3": "2020-04-27",
                                    "4": "2020-05-01",
                                    "5": "1",
                                    "6": "12.5000"
                                },
                                {
                                    "0": "11053",
                                    "1": "59",
                                    "2": "146",
                                    "3": "2020-04-27",
                                    "4": "2020-04-29",
                                    "5": "2",
                                    "6": "45.0000"
                                },
                                {
                                    "0": "11054",
                                    "1": "12",
                                    "2": "NULL",
                                    "3": "2020-04-28",
                                    "4": "NULL",
                                    "5": "1",
                                    "6": "1.8000"
                                },
                                {
                                    "0": "11055",
                                    "1": "35",
                                    "2": "175",
                                    "3": "2020-04-28",
                                    "4": "2020-05-05",
                                    "5": "2",
                                    "6": "44.0000"
                                },
                                {
                                    "0": "11056",
                                    "1": "19",
                                    "2": "159",
                                    "3": "2020-04-28",
                                    "4": "2020-05-01",
                                    "5": "2",
                                    "6": "59.7000"
                                },
                                {
                                    "0": "11057",
                                    "1": "53",
                                    "2": "148",
                                    "3": "2020-04-29",
                                    "4": "2020-05-01",
                                    "5": "3",
                                    "6": "4.1300"
                                },
                                {
                                    "0": "11058",
                                    "1": "6",
                                    "2": "NULL",
                                    "3": "2020-07-29",
                                    "4": "NULL",
                                    "5": "3",
                                    "6": "76.8000"
                                },
                                {
                                    "0": "11059",
                                    "1": "67",
                                    "2": "NULL",
                                    "3": "2020-07-29",
                                    "4": "NULL",
                                    "5": "2",
                                    "6": "85.8000"
                                },
                                {
                                    "0": "11060",
                                    "1": "27",
                                    "2": "174",
                                    "3": "2020-04-30",
                                    "4": "2020-05-04",
                                    "5": "2",
                                    "6": "37.4000"
                                },
                                {
                                    "0": "11061",
                                    "1": "32",
                                    "2": "NULL",
                                    "3": "2020-07-30",
                                    "4": "NULL",
                                    "5": "3",
                                    "6": "36.1000"
                                },
                                {
                                    "0": "11062",
                                    "1": "66",
                                    "2": "NULL",
                                    "3": "2020-07-30",
                                    "4": "NULL",
                                    "5": "2",
                                    "6": "29.9300"
                                },
                                {
                                    "0": "11063",
                                    "1": "37",
                                    "2": "165",
                                    "3": "2020-04-30",
                                    "4": "2020-05-06",
                                    "5": "2",
                                    "6": "81.7300"
                                },
                                {
                                    "0": "11064",
                                    "1": "71",
                                    "2": "155",
                                    "3": "2020-05-01",
                                    "4": "2020-05-04",
                                    "5": "1",
                                    "6": "68.9000"
                                },
                                {
                                    "0": "11065",
                                    "1": "46",
                                    "2": "NULL",
                                    "3": "2020-07-29",
                                    "4": "NULL",
                                    "5": "1",
                                    "6": "42.9000"
                                },
                                {
                                    "0": "11066",
                                    "1": "89",
                                    "2": "174",
                                    "3": "2020-05-01",
                                    "4": "2020-05-04",
                                    "5": "2",
                                    "6": "50.0000"
                                },
                                {
                                    "0": "11067",
                                    "1": "17",
                                    "2": "148",
                                    "3": "2020-05-04",
                                    "4": "2020-05-06",
                                    "5": "2",
                                    "6": "7.9800"
                                },
                                {
                                    "0": "11068",
                                    "1": "62",
                                    "2": "NULL",
                                    "3": "2020-07-29",
                                    "4": "NULL",
                                    "5": "2",
                                    "6": "13.1000"
                                },
                                {
                                    "0": "11069",
                                    "1": "80",
                                    "2": "164",
                                    "3": "2020-05-04",
                                    "4": "2020-05-06",
                                    "5": "2",
                                    "6": "1.4000"
                                },
                                {
                                    "0": "11070",
                                    "1": "44",
                                    "2": "NULL",
                                    "3": "2020-07-31",
                                    "4": "NULL",
                                    "5": "1",
                                    "6": "26.0000"
                                },
                                {
                                    "0": "11071",
                                    "1": "46",
                                    "2": "NULL",
                                    "3": "2020-07-31",
                                    "4": "NULL",
                                    "5": "1",
                                    "6": "4.2000"
                                },
                                {
                                    "0": "11072",
                                    "1": "20",
                                    "2": "NULL",
                                    "3": "2020-07-31",
                                    "4": "NULL",
                                    "5": "2",
                                    "6": "29.0000"
                                },
                                {
                                    "0": "11073",
                                    "1": "58",
                                    "2": "NULL",
                                    "3": "2020-07-31",
                                    "4": "NULL",
                                    "5": "2",
                                    "6": "73.8000"
                                },
                                {
                                    "0": "11074",
                                    "1": "73",
                                    "2": "NULL",
                                    "3": "2020-07-31",
                                    "4": "NULL",
                                    "5": "2",
                                    "6": "18.4400"
                                },
                                {
                                    "0": "11075",
                                    "1": "68",
                                    "2": "NULL",
                                    "3": "2020-07-30",
                                    "4": "NULL",
                                    "5": "2",
                                    "6": "54.1000"
                                },
                                {
                                    "0": "11076",
                                    "1": "9",
                                    "2": "NULL",
                                    "3": "2020-07-30",
                                    "4": "NULL",
                                    "5": "2",
                                    "6": "38.2800"
                                },
                                {
                                    "0": "11077",
                                    "1": "65",
                                    "2": "NULL",
                                    "3": "2020-07-30",
                                    "4": "NULL",
                                    "5": "2",
                                    "6": "36.0000"
                                }
                            ]
                        },
                        "text/html": [
                            "<table>",
                            "<tr><th>order_id</th><th>customer_id</th><th>employee_id</th><th>order_date</th><th>shipped_date</th><th>shipper_id</th><th>freight_cost</th></tr>",
                            "<tr><td>10808</td><td>55</td><td>173</td><td>2020-01-01</td><td>2020-01-09</td><td>3</td><td>99.9000</td></tr>",
                            "<tr><td>10809</td><td>88</td><td>177</td><td>2020-01-01</td><td>2020-01-07</td><td>1</td><td>17.4000</td></tr>",
                            "<tr><td>10810</td><td>42</td><td>168</td><td>2020-01-01</td><td>2020-01-07</td><td>3</td><td>36.6000</td></tr>",
                            "<tr><td>10811</td><td>47</td><td>164</td><td>2020-01-02</td><td>2020-01-08</td><td>1</td><td>67.7000</td></tr>",
                            "<tr><td>10812</td><td>66</td><td>152</td><td>2020-01-02</td><td>2020-01-12</td><td>1</td><td>19.7000</td></tr>",
                            "<tr><td>10813</td><td>67</td><td>155</td><td>2020-01-05</td><td>2020-01-09</td><td>1</td><td>47.3800</td></tr>",
                            "<tr><td>10814</td><td>84</td><td>171</td><td>2020-01-05</td><td>2020-01-14</td><td>3</td><td>36.0000</td></tr>",
                            "<tr><td>10815</td><td>71</td><td>156</td><td>2020-01-05</td><td>2020-01-14</td><td>3</td><td>1.3000</td></tr>",
                            "<tr><td>10816</td><td>32</td><td>168</td><td>2020-01-06</td><td>2020-02-04</td><td>2</td><td>21.2000</td></tr>",
                            "<tr><td>10817</td><td>39</td><td>146</td><td>2020-01-06</td><td>2020-01-13</td><td>2</td><td>31.0000</td></tr>",
                            "<tr><td>10818</td><td>49</td><td>173</td><td>2020-01-07</td><td>2020-01-12</td><td>3</td><td>20.4000</td></tr>",
                            "<tr><td>10819</td><td>12</td><td>164</td><td>2020-01-07</td><td>2020-01-16</td><td>3</td><td>19.7600</td></tr>",
                            "<tr><td>10820</td><td>65</td><td>174</td><td>2020-01-07</td><td>2020-01-13</td><td>2</td><td>91.4000</td></tr>",
                            "<tr><td>10821</td><td>75</td><td>175</td><td>2020-01-08</td><td>2020-01-15</td><td>1</td><td>5.9000</td></tr>",
                            "<tr><td>10822</td><td>82</td><td>175</td><td>2020-01-08</td><td>2020-01-16</td><td>3</td><td>7.0000</td></tr>",
                            "<tr><td>10823</td><td>46</td><td>147</td><td>2020-01-09</td><td>2020-01-13</td><td>2</td><td>24.0000</td></tr>",
                            "<tr><td>10824</td><td>24</td><td>176</td><td>2020-01-09</td><td>2020-01-30</td><td>1</td><td>8.2000</td></tr>",
                            "<tr><td>10825</td><td>17</td><td>147</td><td>2020-01-09</td><td>2020-01-14</td><td>1</td><td>22.0000</td></tr>",
                            "<tr><td>10826</td><td>7</td><td>174</td><td>2020-01-12</td><td>2020-02-06</td><td>1</td><td>73.8000</td></tr>",
                            "<tr><td>10827</td><td>9</td><td>176</td><td>2020-01-12</td><td>2020-02-06</td><td>2</td><td>63.5400</td></tr>",
                            "<tr><td>10828</td><td>64</td><td>161</td><td>2020-01-13</td><td>2020-02-04</td><td>1</td><td>90.8500</td></tr>",
                            "<tr><td>10829</td><td>38</td><td>167</td><td>2020-01-13</td><td>2020-01-23</td><td>1</td><td>35.0000</td></tr>",
                            "<tr><td>10830</td><td>81</td><td>176</td><td>2020-01-13</td><td>2020-01-21</td><td>2</td><td>81.8300</td></tr>",
                            "<tr><td>10831</td><td>70</td><td>174</td><td>2020-01-14</td><td>2020-01-23</td><td>2</td><td>72.1900</td></tr>",
                            "<tr><td>10832</td><td>41</td><td>172</td><td>2020-01-14</td><td>2020-01-19</td><td>2</td><td>23.0000</td></tr>",
                            "<tr><td>10833</td><td>56</td><td>168</td><td>2020-01-15</td><td>2020-01-23</td><td>2</td><td>71.4900</td></tr>",
                            "<tr><td>10834</td><td>81</td><td>164</td><td>2020-01-15</td><td>2020-01-19</td><td>3</td><td>29.7800</td></tr>",
                            "<tr><td>10835</td><td>1</td><td>169</td><td>2020-01-15</td><td>2020-01-21</td><td>3</td><td>69.5300</td></tr>",
                            "<tr><td>10836</td><td>20</td><td>161</td><td>2020-01-16</td><td>2020-01-21</td><td>1</td><td>46.0000</td></tr>",
                            "<tr><td>10837</td><td>5</td><td>176</td><td>2020-01-16</td><td>2020-01-23</td><td>3</td><td>51.7000</td></tr>",
                            "<tr><td>10838</td><td>47</td><td>161</td><td>2020-01-19</td><td>2020-01-23</td><td>3</td><td>32.0000</td></tr>",
                            "<tr><td>10839</td><td>81</td><td>177</td><td>2020-01-19</td><td>2020-01-22</td><td>3</td><td>10.7000</td></tr>",
                            "<tr><td>10840</td><td>47</td><td>147</td><td>2020-01-19</td><td>2020-02-16</td><td>2</td><td>31.1000</td></tr>",
                            "<tr><td>10841</td><td>76</td><td>170</td><td>2020-01-20</td><td>2020-01-29</td><td>2</td><td>34.0000</td></tr>",
                            "<tr><td>10842</td><td>80</td><td>172</td><td>2020-01-20</td><td>2020-01-29</td><td>3</td><td>54.4200</td></tr>",
                            "<tr><td>10843</td><td>84</td><td>170</td><td>2020-01-21</td><td>2020-01-26</td><td>2</td><td>2.6000</td></tr>",
                            "<tr><td>10844</td><td>59</td><td>154</td><td>2020-01-21</td><td>2020-01-26</td><td>2</td><td>27.0000</td></tr>",
                            "<tr><td>10845</td><td>63</td><td>166</td><td>2020-01-21</td><td>2020-01-30</td><td>1</td><td>43.0000</td></tr>",
                            "<tr><td>10846</td><td>76</td><td>156</td><td>2020-01-22</td><td>2020-01-23</td><td>3</td><td>56.4600</td></tr>",
                            "<tr><td>10847</td><td>71</td><td>160</td><td>2020-01-22</td><td>2020-02-10</td><td>3</td><td>38.0000</td></tr>",
                            "<tr><td>10848</td><td>16</td><td>174</td><td>2020-01-23</td><td>2020-01-29</td><td>2</td><td>38.2400</td></tr>",
                            "<tr><td>10849</td><td>39</td><td>175</td><td>2020-01-23</td><td>2020-01-30</td><td>2</td><td>98.8000</td></tr>",
                            "<tr><td>10850</td><td>84</td><td>149</td><td>2020-01-23</td><td>2020-01-30</td><td>1</td><td>49.1900</td></tr>",
                            "<tr><td>10851</td><td>67</td><td>158</td><td>2020-01-26</td><td>2020-02-02</td><td>1</td><td>23.0000</td></tr>",
                            "<tr><td>10852</td><td>65</td><td>154</td><td>2020-01-26</td><td>2020-01-30</td><td>1</td><td>41.0000</td></tr>",
                            "<tr><td>10853</td><td>6</td><td>168</td><td>2020-01-27</td><td>2020-02-03</td><td>2</td><td>2.1000</td></tr>",
                            "<tr><td>10854</td><td>20</td><td>163</td><td>2020-01-27</td><td>2020-02-05</td><td>2</td><td>26.0000</td></tr>",
                            "<tr><td>10855</td><td>55</td><td>152</td><td>2020-01-27</td><td>2020-02-04</td><td>1</td><td>47.0000</td></tr>",
                            "<tr><td>10856</td><td>3</td><td>175</td><td>2020-01-28</td><td>2020-02-10</td><td>2</td><td>37.0000</td></tr>",
                            "<tr><td>10857</td><td>5</td><td>167</td><td>2020-01-28</td><td>2020-02-06</td><td>2</td><td>43.0000</td></tr>",
                            "<tr><td>10858</td><td>40</td><td>151</td><td>2020-01-29</td><td>2020-02-03</td><td>1</td><td>52.5100</td></tr>",
                            "<tr><td>10859</td><td>25</td><td>155</td><td>2020-01-29</td><td>2020-02-02</td><td>2</td><td>43.0000</td></tr>",
                            "<tr><td>10860</td><td>26</td><td>173</td><td>2020-01-29</td><td>2020-02-04</td><td>3</td><td>6.1000</td></tr>",
                            "<tr><td>10861</td><td>89</td><td>168</td><td>2020-01-30</td><td>2020-02-17</td><td>2</td><td>49.4000</td></tr>",
                            "<tr><td>10862</td><td>44</td><td>146</td><td>2020-01-30</td><td>2020-02-02</td><td>2</td><td>53.2300</td></tr>",
                            "<tr><td>10863</td><td>35</td><td>177</td><td>2020-02-02</td><td>2020-02-17</td><td>2</td><td>71.8000</td></tr>",
                            "<tr><td>10864</td><td>4</td><td>145</td><td>2020-02-02</td><td>2020-02-09</td><td>2</td><td>6.1000</td></tr>",
                            "<tr><td>10865</td><td>63</td><td>177</td><td>2020-02-02</td><td>2020-02-12</td><td>1</td><td>18.7000</td></tr>",
                            "<tr><td>10866</td><td>5</td><td>169</td><td>2020-02-03</td><td>2020-02-12</td><td>1</td><td>45.0000</td></tr>",
                            "<tr><td>10867</td><td>48</td><td>156</td><td>2020-02-03</td><td>2020-02-11</td><td>1</td><td>11.1000</td></tr>",
                            "<tr><td>10868</td><td>62</td><td>156</td><td>2020-02-04</td><td>2020-02-23</td><td>2</td><td>38.0000</td></tr>",
                            "<tr><td>10869</td><td>72</td><td>164</td><td>2020-02-04</td><td>2020-02-09</td><td>1</td><td>35.0000</td></tr>",
                            "<tr><td>10870</td><td>91</td><td>159</td><td>2020-02-04</td><td>2020-02-13</td><td>3</td><td>12.0400</td></tr>",
                            "<tr><td>10871</td><td>9</td><td>162</td><td>2020-02-05</td><td>2020-02-10</td><td>2</td><td>45.0000</td></tr>",
                            "<tr><td>10872</td><td>30</td><td>168</td><td>2020-02-05</td><td>2020-02-09</td><td>2</td><td>39.0000</td></tr>",
                            "<tr><td>10873</td><td>90</td><td>170</td><td>2020-02-06</td><td>2020-02-09</td><td>1</td><td>20.2000</td></tr>",
                            "<tr><td>10874</td><td>30</td><td>153</td><td>2020-02-06</td><td>2020-02-11</td><td>2</td><td>42.5000</td></tr>",
                            "<tr><td>10875</td><td>5</td><td>152</td><td>2020-02-06</td><td>2020-03-03</td><td>2</td><td>90.8000</td></tr>",
                            "<tr><td>10876</td><td>9</td><td>171</td><td>2020-02-09</td><td>2020-02-12</td><td>3</td><td>60.4200</td></tr>",
                            "<tr><td>10877</td><td>67</td><td>165</td><td>2020-02-09</td><td>2020-02-19</td><td>1</td><td>38.0600</td></tr>",
                            "<tr><td>10878</td><td>63</td><td>170</td><td>2020-02-10</td><td>2020-02-12</td><td>1</td><td>46.6900</td></tr>",
                            "<tr><td>10879</td><td>90</td><td>161</td><td>2020-02-10</td><td>2020-02-12</td><td>3</td><td>22.3000</td></tr>",
                            "<tr><td>10880</td><td>24</td><td>146</td><td>2020-02-10</td><td>2020-02-18</td><td>1</td><td>88.0100</td></tr>",
                            "<tr><td>10881</td><td>12</td><td>146</td><td>2020-02-11</td><td>2020-02-18</td><td>1</td><td>8.7000</td></tr>",
                            "<tr><td>10882</td><td>71</td><td>155</td><td>2020-02-11</td><td>2020-02-20</td><td>3</td><td>83.0000</td></tr>",
                            "<tr><td>10883</td><td>48</td><td>157</td><td>2020-02-12</td><td>2020-02-20</td><td>3</td><td>30.0000</td></tr>",
                            "<tr><td>10884</td><td>45</td><td>152</td><td>2020-02-12</td><td>2020-02-13</td><td>2</td><td>90.9700</td></tr>",
                            "<tr><td>10885</td><td>76</td><td>149</td><td>2020-02-12</td><td>2020-02-18</td><td>3</td><td>85.7000</td></tr>",
                            "<tr><td>10886</td><td>34</td><td>175</td><td>2020-02-13</td><td>2020-03-02</td><td>1</td><td>37.5000</td></tr>",
                            "<tr><td>10887</td><td>29</td><td>148</td><td>2020-02-13</td><td>2020-02-16</td><td>3</td><td>28.4000</td></tr>",
                            "<tr><td>10888</td><td>30</td><td>175</td><td>2020-02-16</td><td>2020-02-23</td><td>2</td><td>51.8700</td></tr>",
                            "<tr><td>10889</td><td>65</td><td>171</td><td>2020-02-16</td><td>2020-02-23</td><td>3</td><td>48.3000</td></tr>",
                            "<tr><td>10890</td><td>18</td><td>154</td><td>2020-02-16</td><td>2020-02-18</td><td>1</td><td>92.8000</td></tr>",
                            "<tr><td>10891</td><td>44</td><td>152</td><td>2020-02-17</td><td>2020-02-19</td><td>2</td><td>20.3700</td></tr>",
                            "<tr><td>10892</td><td>50</td><td>161</td><td>2020-02-17</td><td>2020-02-19</td><td>2</td><td>37.0000</td></tr>",
                            "<tr><td>10893</td><td>39</td><td>175</td><td>2020-02-18</td><td>2020-02-20</td><td>2</td><td>77.7800</td></tr>",
                            "<tr><td>10894</td><td>71</td><td>155</td><td>2020-02-18</td><td>2020-02-20</td><td>1</td><td>22.9000</td></tr>",
                            "<tr><td>10895</td><td>20</td><td>160</td><td>2020-02-18</td><td>2020-02-23</td><td>1</td><td>43.0000</td></tr>",
                            "<tr><td>10896</td><td>50</td><td>169</td><td>2020-02-19</td><td>2020-02-27</td><td>3</td><td>93.2000</td></tr>",
                            "<tr><td>10897</td><td>37</td><td>161</td><td>2020-02-19</td><td>2020-02-25</td><td>2</td><td>34.1000</td></tr>",
                            "<tr><td>10898</td><td>54</td><td>145</td><td>2020-02-20</td><td>2020-03-06</td><td>2</td><td>3.0000</td></tr>",
                            "<tr><td>10899</td><td>46</td><td>147</td><td>2020-02-20</td><td>2020-02-26</td><td>3</td><td>1.2100</td></tr>",
                            "<tr><td>10900</td><td>88</td><td>148</td><td>2020-02-20</td><td>2020-03-04</td><td>2</td><td>4.3000</td></tr>",
                            "<tr><td>10901</td><td>35</td><td>160</td><td>2020-02-23</td><td>2020-02-26</td><td>1</td><td>62.0900</td></tr>",
                            "<tr><td>10902</td><td>24</td><td>160</td><td>2020-02-23</td><td>2020-03-03</td><td>1</td><td>44.1500</td></tr>",
                            "<tr><td>10903</td><td>34</td><td>157</td><td>2020-02-24</td><td>2020-03-04</td><td>3</td><td>36.7100</td></tr>",
                            "<tr><td>10904</td><td>89</td><td>162</td><td>2020-02-24</td><td>2020-02-27</td><td>3</td><td>8.9000</td></tr>",
                            "<tr><td>10905</td><td>88</td><td>173</td><td>2020-02-24</td><td>2020-03-06</td><td>2</td><td>51.5000</td></tr>",
                            "<tr><td>10906</td><td>91</td><td>173</td><td>2020-02-25</td><td>2020-03-03</td><td>3</td><td>7.8000</td></tr>",
                            "<tr><td>10907</td><td>74</td><td>153</td><td>2020-02-25</td><td>2020-02-27</td><td>3</td><td>2.7000</td></tr>",
                            "<tr><td>10908</td><td>66</td><td>177</td><td>2020-02-26</td><td>2020-03-06</td><td>2</td><td>32.9600</td></tr>",
                            "<tr><td>10909</td><td>70</td><td>175</td><td>2020-02-26</td><td>2020-03-10</td><td>2</td><td>53.0500</td></tr>",
                            "<tr><td>10910</td><td>90</td><td>148</td><td>2020-02-26</td><td>2020-03-04</td><td>3</td><td>38.1100</td></tr>",
                            "<tr><td>10911</td><td>30</td><td>146</td><td>2020-02-26</td><td>2020-03-05</td><td>1</td><td>88.2000</td></tr>",
                            "<tr><td>10912</td><td>37</td><td>157</td><td>2020-02-26</td><td>2020-03-18</td><td>2</td><td>48.9000</td></tr>",
                            "<tr><td>10913</td><td>62</td><td>174</td><td>2020-02-26</td><td>2020-03-04</td><td>1</td><td>33.0500</td></tr>",
                            "<tr><td>10914</td><td>62</td><td>160</td><td>2020-02-27</td><td>2020-03-02</td><td>1</td><td>21.1900</td></tr>",
                            "<tr><td>10915</td><td>80</td><td>155</td><td>2020-02-27</td><td>2020-03-02</td><td>2</td><td>36.1000</td></tr>",
                            "<tr><td>10916</td><td>64</td><td>165</td><td>2020-02-27</td><td>2020-03-09</td><td>2</td><td>49.0000</td></tr>",
                            "<tr><td>10917</td><td>69</td><td>156</td><td>2020-03-02</td><td>2020-03-11</td><td>2</td><td>41.0000</td></tr>",
                            "<tr><td>10918</td><td>10</td><td>174</td><td>2020-03-02</td><td>2020-03-11</td><td>3</td><td>20.0000</td></tr>",
                            "<tr><td>10919</td><td>47</td><td>150</td><td>2020-03-02</td><td>2020-03-04</td><td>2</td><td>70.8000</td></tr>",
                            "<tr><td>10920</td><td>4</td><td>156</td><td>2020-03-03</td><td>2020-03-09</td><td>2</td><td>4.9000</td></tr>",
                            "<tr><td>10921</td><td>83</td><td>145</td><td>2020-03-03</td><td>2020-03-09</td><td>1</td><td>23.0000</td></tr>",
                            "<tr><td>10922</td><td>34</td><td>168</td><td>2020-03-03</td><td>2020-03-05</td><td>3</td><td>62.7400</td></tr>",
                            "<tr><td>10923</td><td>41</td><td>150</td><td>2020-03-03</td><td>2020-03-13</td><td>3</td><td>68.2600</td></tr>",
                            "<tr><td>10924</td><td>5</td><td>172</td><td>2020-03-04</td><td>2020-04-08</td><td>2</td><td>44.2000</td></tr>",
                            "<tr><td>10925</td><td>34</td><td>159</td><td>2020-03-04</td><td>2020-03-13</td><td>1</td><td>35.3000</td></tr>",
                            "<tr><td>10926</td><td>2</td><td>174</td><td>2020-03-04</td><td>2020-03-11</td><td>3</td><td>82.9000</td></tr>",
                            "<tr><td>10927</td><td>40</td><td>155</td><td>2020-03-05</td><td>2020-04-08</td><td>1</td><td>52.6000</td></tr>",
                            "<tr><td>10928</td><td>29</td><td>158</td><td>2020-03-05</td><td>2020-03-18</td><td>1</td><td>33.4000</td></tr>",
                            "<tr><td>10929</td><td>25</td><td>173</td><td>2020-03-05</td><td>2020-03-12</td><td>1</td><td>33.9300</td></tr>",
                            "<tr><td>10930</td><td>76</td><td>151</td><td>2020-03-06</td><td>2020-03-18</td><td>3</td><td>56.3000</td></tr>",
                            "<tr><td>10931</td><td>68</td><td>155</td><td>2020-03-06</td><td>2020-03-19</td><td>2</td><td>78.1000</td></tr>",
                            "<tr><td>10932</td><td>9</td><td>173</td><td>2020-03-06</td><td>2020-03-24</td><td>1</td><td>40.7000</td></tr>",
                            "<tr><td>10933</td><td>38</td><td>175</td><td>2020-03-06</td><td>2020-03-16</td><td>3</td><td>54.1500</td></tr>",
                            "<tr><td>10934</td><td>44</td><td>166</td><td>2020-03-09</td><td>2020-03-12</td><td>3</td><td>5.5000</td></tr>",
                            "<tr><td>10935</td><td>88</td><td>148</td><td>2020-03-09</td><td>2020-03-18</td><td>3</td><td>97.7000</td></tr>",
                            "<tr><td>10936</td><td>32</td><td>176</td><td>2020-03-09</td><td>2020-03-18</td><td>2</td><td>33.6800</td></tr>",
                            "<tr><td>10937</td><td>12</td><td>165</td><td>2020-03-10</td><td>2020-03-13</td><td>3</td><td>76.8000</td></tr>",
                            "<tr><td>10938</td><td>63</td><td>164</td><td>2020-03-10</td><td>2020-03-16</td><td>2</td><td>71.4000</td></tr>",
                            "<tr><td>10939</td><td>49</td><td>152</td><td>2020-03-10</td><td>2020-03-13</td><td>2</td><td>76.3300</td></tr>",
                            "<tr><td>10940</td><td>9</td><td>159</td><td>2020-03-11</td><td>2020-03-23</td><td>3</td><td>6.0000</td></tr>",
                            "<tr><td>10941</td><td>71</td><td>172</td><td>2020-03-11</td><td>2020-03-20</td><td>2</td><td>19.5000</td></tr>",
                            "<tr><td>10942</td><td>66</td><td>170</td><td>2020-03-11</td><td>2020-03-18</td><td>3</td><td>17.9500</td></tr>",
                            "<tr><td>10943</td><td>11</td><td>171</td><td>2020-03-11</td><td>2020-03-19</td><td>2</td><td>42.0000</td></tr>",
                            "<tr><td>10944</td><td>10</td><td>165</td><td>2020-03-12</td><td>2020-03-13</td><td>3</td><td>49.0000</td></tr>",
                            "<tr><td>10945</td><td>52</td><td>147</td><td>2020-03-12</td><td>2020-03-18</td><td>1</td><td>10.2200</td></tr>",
                            "<tr><td>10946</td><td>83</td><td>158</td><td>2020-03-12</td><td>2020-03-19</td><td>2</td><td>83.4000</td></tr>",
                            "<tr><td>10947</td><td>11</td><td>147</td><td>2020-03-13</td><td>2020-03-16</td><td>2</td><td>45.9000</td></tr>",
                            "<tr><td>10948</td><td>30</td><td>165</td><td>2020-03-13</td><td>2020-03-19</td><td>3</td><td>23.3900</td></tr>",
                            "<tr><td>10949</td><td>10</td><td>161</td><td>2020-03-13</td><td>2020-03-17</td><td>3</td><td>74.4400</td></tr>",
                            "<tr><td>10950</td><td>49</td><td>175</td><td>2020-03-16</td><td>2020-03-23</td><td>2</td><td>13.0000</td></tr>",
                            "<tr><td>10951</td><td>68</td><td>172</td><td>2020-03-16</td><td>2020-04-07</td><td>2</td><td>30.8500</td></tr>",
                            "<tr><td>10952</td><td>1</td><td>171</td><td>2020-03-16</td><td>2020-03-24</td><td>1</td><td>7.9000</td></tr>",
                            "<tr><td>10953</td><td>4</td><td>160</td><td>2020-03-16</td><td>2020-03-25</td><td>2</td><td>23.7200</td></tr>",
                            "<tr><td>10954</td><td>47</td><td>172</td><td>2020-03-17</td><td>2020-03-20</td><td>1</td><td>80.3000</td></tr>",
                            "<tr><td>10955</td><td>24</td><td>149</td><td>2020-03-17</td><td>2020-03-20</td><td>2</td><td>3.2600</td></tr>",
                            "<tr><td>10956</td><td>6</td><td>168</td><td>2020-03-17</td><td>2020-03-20</td><td>2</td><td>93.4000</td></tr>",
                            "<tr><td>10957</td><td>35</td><td>175</td><td>2020-03-18</td><td>2020-03-27</td><td>3</td><td>38.0000</td></tr>",
                            "<tr><td>10958</td><td>54</td><td>163</td><td>2020-03-18</td><td>2020-03-27</td><td>2</td><td>16.0000</td></tr>",
                            "<tr><td>10959</td><td>31</td><td>165</td><td>2020-03-18</td><td>2020-03-23</td><td>2</td><td>4.9800</td></tr>",
                            "<tr><td>10960</td><td>35</td><td>174</td><td>2020-03-19</td><td>2020-04-08</td><td>1</td><td>36.2000</td></tr>",
                            "<tr><td>10961</td><td>62</td><td>149</td><td>2020-03-19</td><td>2020-03-30</td><td>1</td><td>24.8000</td></tr>",
                            "<tr><td>10962</td><td>63</td><td>171</td><td>2020-03-19</td><td>2020-03-23</td><td>2</td><td>41.5000</td></tr>",
                            "<tr><td>10963</td><td>28</td><td>169</td><td>2020-03-19</td><td>2020-03-26</td><td>3</td><td>25.0000</td></tr>",
                            "<tr><td>10964</td><td>74</td><td>176</td><td>2020-03-20</td><td>2020-03-24</td><td>2</td><td>87.3800</td></tr>",
                            "<tr><td>10965</td><td>55</td><td>176</td><td>2020-03-20</td><td>2020-03-30</td><td>3</td><td>2.8000</td></tr>",
                            "<tr><td>10966</td><td>14</td><td>160</td><td>2020-03-20</td><td>2020-04-08</td><td>1</td><td>89.3000</td></tr>",
                            "<tr><td>10967</td><td>79</td><td>155</td><td>2020-03-23</td><td>2020-04-02</td><td>2</td><td>62.2200</td></tr>",
                            "<tr><td>10968</td><td>20</td><td>153</td><td>2020-03-23</td><td>2020-04-01</td><td>3</td><td>24.0000</td></tr>",
                            "<tr><td>10969</td><td>15</td><td>149</td><td>2020-03-23</td><td>2020-03-30</td><td>2</td><td>2.7000</td></tr>",
                            "<tr><td>10970</td><td>8</td><td>156</td><td>2020-03-24</td><td>2020-04-24</td><td>1</td><td>16.1600</td></tr>",
                            "<tr><td>10971</td><td>26</td><td>166</td><td>2020-03-24</td><td>2020-04-02</td><td>2</td><td>17.1000</td></tr>",
                            "<tr><td>10972</td><td>40</td><td>155</td><td>2020-03-24</td><td>2020-03-26</td><td>2</td><td>12.6000</td></tr>",
                            "<tr><td>10973</td><td>40</td><td>154</td><td>2020-03-24</td><td>2020-03-27</td><td>2</td><td>96.0000</td></tr>",
                            "<tr><td>10974</td><td>75</td><td>172</td><td>2020-03-25</td><td>2020-04-03</td><td>3</td><td>69.6000</td></tr>",
                            "<tr><td>10975</td><td>10</td><td>169</td><td>2020-03-25</td><td>2020-03-27</td><td>3</td><td>32.2700</td></tr>",
                            "<tr><td>10976</td><td>35</td><td>170</td><td>2020-03-25</td><td>2020-04-03</td><td>1</td><td>2.2000</td></tr>",
                            "<tr><td>10977</td><td>24</td><td>153</td><td>2020-03-26</td><td>2020-04-10</td><td>3</td><td>25.0000</td></tr>",
                            "<tr><td>10978</td><td>50</td><td>145</td><td>2020-03-26</td><td>2020-04-23</td><td>2</td><td>79.8000</td></tr>",
                            "<tr><td>10979</td><td>20</td><td>145</td><td>2020-03-26</td><td>2020-03-31</td><td>2</td><td>27.0000</td></tr>",
                            "<tr><td>10980</td><td>24</td><td>172</td><td>2020-03-27</td><td>2020-04-17</td><td>1</td><td>3.0000</td></tr>",
                            "<tr><td>10981</td><td>34</td><td>170</td><td>2020-03-27</td><td>2020-04-02</td><td>2</td><td>17.2000</td></tr>",
                            "<tr><td>10982</td><td>10</td><td>176</td><td>2020-03-27</td><td>2020-04-08</td><td>1</td><td>14.0100</td></tr>",
                            "<tr><td>10983</td><td>71</td><td>152</td><td>2020-03-27</td><td>2020-04-06</td><td>2</td><td>45.0000</td></tr>",
                            "<tr><td>10984</td><td>71</td><td>153</td><td>2020-03-30</td><td>2020-04-03</td><td>3</td><td>48.0000</td></tr>",
                            "<tr><td>10985</td><td>37</td><td>170</td><td>2020-03-30</td><td>2020-04-02</td><td>1</td><td>91.5100</td></tr>",
                            "<tr><td>10986</td><td>54</td><td>160</td><td>2020-03-30</td><td>2020-04-21</td><td>2</td><td>71.2000</td></tr>",
                            "<tr><td>10987</td><td>19</td><td>157</td><td>2020-03-31</td><td>2020-04-06</td><td>1</td><td>12.0000</td></tr>",
                            "<tr><td>10988</td><td>65</td><td>145</td><td>2020-03-31</td><td>2020-04-10</td><td>2</td><td>6.2000</td></tr>",
                            "<tr><td>10989</td><td>61</td><td>177</td><td>2020-03-31</td><td>2020-04-02</td><td>1</td><td>34.7600</td></tr>",
                            "<tr><td>10990</td><td>20</td><td>153</td><td>2020-04-01</td><td>2020-04-07</td><td>3</td><td>46.0000</td></tr>",
                            "<tr><td>10991</td><td>63</td><td>177</td><td>2020-04-01</td><td>2020-04-07</td><td>1</td><td>88.5000</td></tr>",
                            "<tr><td>10992</td><td>77</td><td>157</td><td>2020-04-01</td><td>2020-04-03</td><td>3</td><td>4.2700</td></tr>",
                            "<tr><td>10993</td><td>24</td><td>146</td><td>2020-04-01</td><td>2020-04-10</td><td>3</td><td>23.6000</td></tr>",
                            "<tr><td>10994</td><td>83</td><td>158</td><td>2020-04-02</td><td>2020-04-09</td><td>3</td><td>65.5300</td></tr>",
                            "<tr><td>10995</td><td>58</td><td>172</td><td>2020-04-02</td><td>2020-04-06</td><td>3</td><td>46.0000</td></tr>",
                            "<tr><td>10996</td><td>63</td><td>152</td><td>2020-04-02</td><td>2020-04-10</td><td>2</td><td>31.1000</td></tr>",
                            "<tr><td>10997</td><td>46</td><td>161</td><td>2020-04-03</td><td>2020-04-13</td><td>2</td><td>73.9100</td></tr>",
                            "<tr><td>10998</td><td>91</td><td>171</td><td>2020-04-03</td><td>2020-04-17</td><td>2</td><td>56.7000</td></tr>",
                            "<tr><td>10999</td><td>56</td><td>170</td><td>2020-04-03</td><td>2020-04-10</td><td>2</td><td>16.2000</td></tr>",
                            "<tr><td>11000</td><td>65</td><td>159</td><td>2020-04-06</td><td>2020-04-14</td><td>3</td><td>55.1200</td></tr>",
                            "<tr><td>11001</td><td>24</td><td>146</td><td>2020-04-06</td><td>2020-04-14</td><td>2</td><td>48.0000</td></tr>",
                            "<tr><td>11002</td><td>71</td><td>167</td><td>2020-04-06</td><td>2020-04-16</td><td>1</td><td>47.0000</td></tr>",
                            "<tr><td>11003</td><td>78</td><td>166</td><td>2020-04-06</td><td>2020-04-08</td><td>3</td><td>71.8000</td></tr>",
                            "<tr><td>11004</td><td>50</td><td>154</td><td>2020-04-07</td><td>2020-04-20</td><td>1</td><td>30.0000</td></tr>",
                            "<tr><td>11005</td><td>90</td><td>166</td><td>2020-04-07</td><td>2020-04-10</td><td>1</td><td>82.2000</td></tr>",
                            "<tr><td>11006</td><td>32</td><td>154</td><td>2020-04-07</td><td>2020-04-15</td><td>2</td><td>74.1000</td></tr>",
                            "<tr><td>11007</td><td>60</td><td>161</td><td>2020-04-08</td><td>2020-04-13</td><td>2</td><td>39.0000</td></tr>",
                            "<tr><td>11008</td><td>20</td><td>NULL</td><td>2020-07-08</td><td>NULL</td><td>3</td><td>79.4600</td></tr>",
                            "<tr><td>11009</td><td>30</td><td>153</td><td>2020-04-08</td><td>2020-04-10</td><td>1</td><td>25.0000</td></tr>",
                            "<tr><td>11010</td><td>66</td><td>149</td><td>2020-04-09</td><td>2020-04-21</td><td>2</td><td>59.2000</td></tr>",
                            "<tr><td>11011</td><td>1</td><td>154</td><td>2020-04-09</td><td>2020-04-13</td><td>1</td><td>16.7000</td></tr>",
                            "<tr><td>11012</td><td>25</td><td>157</td><td>2020-04-09</td><td>2020-04-17</td><td>3</td><td>26.0000</td></tr>",
                            "<tr><td>11013</td><td>69</td><td>146</td><td>2020-04-09</td><td>2020-04-10</td><td>1</td><td>84.2000</td></tr>",
                            "<tr><td>11014</td><td>47</td><td>146</td><td>2020-04-10</td><td>2020-04-15</td><td>3</td><td>6.8000</td></tr>",
                            "<tr><td>11015</td><td>70</td><td>171</td><td>2020-04-10</td><td>2020-04-20</td><td>2</td><td>19.0000</td></tr>",
                            "<tr><td>11016</td><td>4</td><td>166</td><td>2020-04-10</td><td>2020-04-13</td><td>2</td><td>33.8000</td></tr>",
                            "<tr><td>11017</td><td>20</td><td>163</td><td>2020-04-13</td><td>2020-04-20</td><td>2</td><td>42.0000</td></tr>",
                            "<tr><td>11018</td><td>48</td><td>163</td><td>2020-04-13</td><td>2020-04-16</td><td>2</td><td>80.0000</td></tr>",
                            "<tr><td>11019</td><td>64</td><td>NULL</td><td>2020-07-13</td><td>NULL</td><td>3</td><td>15.6000</td></tr>",
                            "<tr><td>11020</td><td>56</td><td>159</td><td>2020-04-14</td><td>2020-04-16</td><td>2</td><td>43.3000</td></tr>",
                            "<tr><td>11021</td><td>63</td><td>159</td><td>2020-04-14</td><td>2020-04-21</td><td>1</td><td>42.0000</td></tr>",
                            "<tr><td>11022</td><td>34</td><td>175</td><td>2020-04-14</td><td>2020-05-04</td><td>2</td><td>35.6000</td></tr>",
                            "<tr><td>11023</td><td>11</td><td>177</td><td>2020-04-14</td><td>2020-04-24</td><td>2</td><td>7.3000</td></tr>",
                            "<tr><td>11024</td><td>19</td><td>169</td><td>2020-04-15</td><td>2020-04-20</td><td>1</td><td>38.0000</td></tr>",
                            "<tr><td>11025</td><td>87</td><td>147</td><td>2020-04-15</td><td>2020-04-24</td><td>3</td><td>69.5000</td></tr>",
                            "<tr><td>11026</td><td>27</td><td>158</td><td>2020-04-15</td><td>2020-04-28</td><td>1</td><td>4.6000</td></tr>",
                            "<tr><td>11027</td><td>10</td><td>175</td><td>2020-04-16</td><td>2020-04-20</td><td>1</td><td>52.5200</td></tr>",
                            "<tr><td>11028</td><td>39</td><td>147</td><td>2020-04-16</td><td>2020-04-22</td><td>1</td><td>83.9000</td></tr>",
                            "<tr><td>11029</td><td>14</td><td>145</td><td>2020-04-16</td><td>2020-04-27</td><td>1</td><td>33.0000</td></tr>",
                            "<tr><td>11030</td><td>71</td><td>157</td><td>2020-04-17</td><td>2020-04-27</td><td>2</td><td>21.0000</td></tr>",
                            "<tr><td>11031</td><td>71</td><td>148</td><td>2020-04-17</td><td>2020-04-24</td><td>2</td><td>24.0000</td></tr>",
                            "<tr><td>11032</td><td>89</td><td>152</td><td>2020-04-17</td><td>2020-04-23</td><td>3</td><td>26.0000</td></tr>",
                            "<tr><td>11033</td><td>68</td><td>151</td><td>2020-04-17</td><td>2020-04-23</td><td>3</td><td>84.7400</td></tr>",
                            "<tr><td>11034</td><td>55</td><td>164</td><td>2020-04-20</td><td>2020-04-27</td><td>1</td><td>40.3200</td></tr>",
                            "<tr><td>11035</td><td>76</td><td>157</td><td>2020-04-20</td><td>2020-04-24</td><td>2</td><td>91.2000</td></tr>",
                            "<tr><td>11036</td><td>17</td><td>174</td><td>2020-04-20</td><td>2020-04-22</td><td>3</td><td>36.0000</td></tr>",
                            "<tr><td>11037</td><td>30</td><td>151</td><td>2020-04-21</td><td>2020-04-27</td><td>1</td><td>3.2000</td></tr>",
                            "<tr><td>11038</td><td>76</td><td>145</td><td>2020-04-21</td><td>2020-04-30</td><td>2</td><td>61.1000</td></tr>",
                            "<tr><td>11039</td><td>47</td><td>NULL</td><td>2020-04-21</td><td>NULL</td><td>2</td><td>43.0000</td></tr>",
                            "<tr><td>11040</td><td>32</td><td>NULL</td><td>2020-04-22</td><td>NULL</td><td>3</td><td>18.8400</td></tr>",
                            "<tr><td>11041</td><td>14</td><td>152</td><td>2020-04-22</td><td>2020-04-28</td><td>2</td><td>29.0000</td></tr>",
                            "<tr><td>11042</td><td>15</td><td>170</td><td>2020-04-22</td><td>2020-05-01</td><td>1</td><td>29.9900</td></tr>",
                            "<tr><td>11043</td><td>74</td><td>163</td><td>2020-04-22</td><td>2020-04-29</td><td>2</td><td>27.9000</td></tr>",
                            "<tr><td>11044</td><td>91</td><td>161</td><td>2020-04-23</td><td>2020-05-01</td><td>1</td><td>8.7200</td></tr>",
                            "<tr><td>11045</td><td>10</td><td>NULL</td><td>2020-04-23</td><td>NULL</td><td>2</td><td>4.6000</td></tr>",
                            "<tr><td>11046</td><td>86</td><td>175</td><td>2020-04-23</td><td>2020-04-24</td><td>2</td><td>71.6400</td></tr>",
                            "<tr><td>11047</td><td>19</td><td>145</td><td>2020-04-24</td><td>2020-05-01</td><td>3</td><td>46.6200</td></tr>",
                            "<tr><td>11048</td><td>10</td><td>145</td><td>2020-04-24</td><td>2020-04-30</td><td>3</td><td>3.2000</td></tr>",
                            "<tr><td>11049</td><td>31</td><td>175</td><td>2020-04-24</td><td>2020-05-04</td><td>1</td><td>66.4000</td></tr>",
                            "<tr><td>11050</td><td>24</td><td>162</td><td>2020-04-27</td><td>2020-05-05</td><td>2</td><td>3.6000</td></tr>",
                            "<tr><td>11051</td><td>41</td><td>NULL</td><td>2020-07-27</td><td>NULL</td><td>3</td><td>31.8000</td></tr>",
                            "<tr><td>11052</td><td>34</td><td>175</td><td>2020-04-27</td><td>2020-05-01</td><td>1</td><td>12.5000</td></tr>",
                            "<tr><td>11053</td><td>59</td><td>146</td><td>2020-04-27</td><td>2020-04-29</td><td>2</td><td>45.0000</td></tr>",
                            "<tr><td>11054</td><td>12</td><td>NULL</td><td>2020-04-28</td><td>NULL</td><td>1</td><td>1.8000</td></tr>",
                            "<tr><td>11055</td><td>35</td><td>175</td><td>2020-04-28</td><td>2020-05-05</td><td>2</td><td>44.0000</td></tr>",
                            "<tr><td>11056</td><td>19</td><td>159</td><td>2020-04-28</td><td>2020-05-01</td><td>2</td><td>59.7000</td></tr>",
                            "<tr><td>11057</td><td>53</td><td>148</td><td>2020-04-29</td><td>2020-05-01</td><td>3</td><td>4.1300</td></tr>",
                            "<tr><td>11058</td><td>6</td><td>NULL</td><td>2020-07-29</td><td>NULL</td><td>3</td><td>76.8000</td></tr>",
                            "<tr><td>11059</td><td>67</td><td>NULL</td><td>2020-07-29</td><td>NULL</td><td>2</td><td>85.8000</td></tr>",
                            "<tr><td>11060</td><td>27</td><td>174</td><td>2020-04-30</td><td>2020-05-04</td><td>2</td><td>37.4000</td></tr>",
                            "<tr><td>11061</td><td>32</td><td>NULL</td><td>2020-07-30</td><td>NULL</td><td>3</td><td>36.1000</td></tr>",
                            "<tr><td>11062</td><td>66</td><td>NULL</td><td>2020-07-30</td><td>NULL</td><td>2</td><td>29.9300</td></tr>",
                            "<tr><td>11063</td><td>37</td><td>165</td><td>2020-04-30</td><td>2020-05-06</td><td>2</td><td>81.7300</td></tr>",
                            "<tr><td>11064</td><td>71</td><td>155</td><td>2020-05-01</td><td>2020-05-04</td><td>1</td><td>68.9000</td></tr>",
                            "<tr><td>11065</td><td>46</td><td>NULL</td><td>2020-07-29</td><td>NULL</td><td>1</td><td>42.9000</td></tr>",
                            "<tr><td>11066</td><td>89</td><td>174</td><td>2020-05-01</td><td>2020-05-04</td><td>2</td><td>50.0000</td></tr>",
                            "<tr><td>11067</td><td>17</td><td>148</td><td>2020-05-04</td><td>2020-05-06</td><td>2</td><td>7.9800</td></tr>",
                            "<tr><td>11068</td><td>62</td><td>NULL</td><td>2020-07-29</td><td>NULL</td><td>2</td><td>13.1000</td></tr>",
                            "<tr><td>11069</td><td>80</td><td>164</td><td>2020-05-04</td><td>2020-05-06</td><td>2</td><td>1.4000</td></tr>",
                            "<tr><td>11070</td><td>44</td><td>NULL</td><td>2020-07-31</td><td>NULL</td><td>1</td><td>26.0000</td></tr>",
                            "<tr><td>11071</td><td>46</td><td>NULL</td><td>2020-07-31</td><td>NULL</td><td>1</td><td>4.2000</td></tr>",
                            "<tr><td>11072</td><td>20</td><td>NULL</td><td>2020-07-31</td><td>NULL</td><td>2</td><td>29.0000</td></tr>",
                            "<tr><td>11073</td><td>58</td><td>NULL</td><td>2020-07-31</td><td>NULL</td><td>2</td><td>73.8000</td></tr>",
                            "<tr><td>11074</td><td>73</td><td>NULL</td><td>2020-07-31</td><td>NULL</td><td>2</td><td>18.4400</td></tr>",
                            "<tr><td>11075</td><td>68</td><td>NULL</td><td>2020-07-30</td><td>NULL</td><td>2</td><td>54.1000</td></tr>",
                            "<tr><td>11076</td><td>9</td><td>NULL</td><td>2020-07-30</td><td>NULL</td><td>2</td><td>38.2800</td></tr>",
                            "<tr><td>11077</td><td>65</td><td>NULL</td><td>2020-07-30</td><td>NULL</td><td>2</td><td>36.0000</td></tr>",
                            "</table>"
                        ]
                    }
                }
            ],
            "execution_count": 6
        }
    ]
}