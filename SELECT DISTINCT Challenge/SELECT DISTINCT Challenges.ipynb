{
    "metadata": {
        "kernelspec": {
            "name": "SQL",
            "display_name": "SQL",
            "language": "sql"
        },
        "language_info": {
            "name": "sql",
            "version": ""
        }
    },
    "nbformat_minor": 2,
    "nbformat": 4,
    "cells": [
        {
            "cell_type": "markdown",
            "source": [
                "# SELECT DISTINCT Challenges"
            ],
            "metadata": {
                "azdata_cell_guid": "1fef378e-0a2b-4a06-9bdf-ea7d667a4251"
            },
            "attachments": {}
        },
        {
            "cell_type": "markdown",
            "source": [
                "\\*\\*Use SAMPLEDB Database\\*\\*"
            ],
            "metadata": {
                "azdata_cell_guid": "ce1d1a53-38dd-41ae-8d95-b4aaf4444098",
                "language": ""
            },
            "attachments": {}
        },
        {
            "cell_type": "code",
            "source": [
                "USE SAMPLEDB\n",
                "GO"
            ],
            "metadata": {
                "azdata_cell_guid": "5e8f6f94-8952-4930-b18f-64109b1d4f5e",
                "language": "sql"
            },
            "outputs": [
                {
                    "output_type": "display_data",
                    "data": {
                        "text/html": "Commands completed successfully."
                    },
                    "metadata": {}
                },
                {
                    "output_type": "display_data",
                    "data": {
                        "text/html": "Total execution time: 00:00:00.010"
                    },
                    "metadata": {}
                }
            ],
            "execution_count": 1
        },
        {
            "cell_type": "markdown",
            "source": [
                "### **First Challenge**  \n",
                "\n",
                "Challenge: Use a SELECT DISTINCT statement to get the distinct (i.e. unique) values that occur in the locality column from the bird.antarctic\\_populations table."
            ],
            "metadata": {
                "language": "sql",
                "azdata_cell_guid": "9dd00bd1-e24b-4852-81f9-d48f68e7bf27"
            },
            "attachments": {}
        },
        {
            "cell_type": "code",
            "source": [
                "SELECT DISTINCT locality\n",
                "FROM bird.antarctic_populations;"
            ],
            "metadata": {
                "language": "sql",
                "azdata_cell_guid": "d52d4cd2-942d-4c13-afae-0dd43d845fbd"
            },
            "outputs": [
                {
                    "output_type": "display_data",
                    "data": {
                        "text/html": "(4 rows affected)"
                    },
                    "metadata": {}
                },
                {
                    "output_type": "display_data",
                    "data": {
                        "text/html": "Total execution time: 00:00:00.060"
                    },
                    "metadata": {}
                },
                {
                    "output_type": "execute_result",
                    "metadata": {},
                    "execution_count": 2,
                    "data": {
                        "application/vnd.dataresource+json": {
                            "schema": {
                                "fields": [
                                    {
                                        "name": "locality"
                                    }
                                ]
                            },
                            "data": [
                                {
                                    "0": "Anvers Island"
                                },
                                {
                                    "0": "Elephant Island"
                                },
                                {
                                    "0": "Falkland Islands"
                                },
                                {
                                    "0": "South Georgia Island"
                                }
                            ]
                        },
                        "text/html": [
                            "<table>",
                            "<tr><th>locality</th></tr>",
                            "<tr><td>Anvers Island</td></tr>",
                            "<tr><td>Elephant Island</td></tr>",
                            "<tr><td>Falkland Islands</td></tr>",
                            "<tr><td>South Georgia Island</td></tr>",
                            "</table>"
                        ]
                    }
                }
            ],
            "execution_count": 2
        },
        {
            "cell_type": "markdown",
            "source": [
                "### **Second Challenge**  \n",
                "\n",
                "Challenge: Use a SELECT DISTINCT statement to get the distinct combinations of values for both the locality and species\\_id columns from the bird.antarctic\\_populations table."
            ],
            "metadata": {
                "language": "sql",
                "azdata_cell_guid": "b44c8349-90a0-44d7-8c7b-d84c3241a30f"
            },
            "attachments": {}
        },
        {
            "cell_type": "code",
            "source": [
                "SELECT DISTINCT locality, species_id\n",
                "FROM bird.antarctic_populations;"
            ],
            "metadata": {
                "language": "sql",
                "azdata_cell_guid": "8744425e-cea1-4a5e-ba19-941daf008362"
            },
            "outputs": [
                {
                    "output_type": "display_data",
                    "data": {
                        "text/html": "(6 rows affected)"
                    },
                    "metadata": {}
                },
                {
                    "output_type": "display_data",
                    "data": {
                        "text/html": "Total execution time: 00:00:00.026"
                    },
                    "metadata": {}
                },
                {
                    "output_type": "execute_result",
                    "metadata": {},
                    "execution_count": 3,
                    "data": {
                        "application/vnd.dataresource+json": {
                            "schema": {
                                "fields": [
                                    {
                                        "name": "locality"
                                    },
                                    {
                                        "name": "species_id"
                                    }
                                ]
                            },
                            "data": [
                                {
                                    "0": "Anvers Island",
                                    "1": "1"
                                },
                                {
                                    "0": "Falkland Islands",
                                    "1": "2"
                                },
                                {
                                    "0": "South Georgia Island",
                                    "1": "2"
                                },
                                {
                                    "0": "Elephant Island",
                                    "1": "3"
                                },
                                {
                                    "0": "Falkland Islands",
                                    "1": "3"
                                },
                                {
                                    "0": "South Georgia Island",
                                    "1": "4"
                                }
                            ]
                        },
                        "text/html": [
                            "<table>",
                            "<tr><th>locality</th><th>species_id</th></tr>",
                            "<tr><td>Anvers Island</td><td>1</td></tr>",
                            "<tr><td>Falkland Islands</td><td>2</td></tr>",
                            "<tr><td>South Georgia Island</td><td>2</td></tr>",
                            "<tr><td>Elephant Island</td><td>3</td></tr>",
                            "<tr><td>Falkland Islands</td><td>3</td></tr>",
                            "<tr><td>South Georgia Island</td><td>4</td></tr>",
                            "</table>"
                        ]
                    }
                }
            ],
            "execution_count": 3
        }
    ]
}