{
    "metadata": {
        "kernelspec": {
            "name": "SQL",
            "display_name": "SQL",
            "language": "sql"
        },
        "language_info": {
            "name": "sql",
            "version": ""
        }
    },
    "nbformat_minor": 2,
    "nbformat": 4,
    "cells": [
        {
            "cell_type": "markdown",
            "source": [
                "# CREATE TABLE Challenges"
            ],
            "metadata": {
                "azdata_cell_guid": "0d303345-4750-47bd-8dc6-df10d362444a"
            },
            "attachments": {}
        },
        {
            "cell_type": "markdown",
            "source": [
                "\\*\\*Use SAMPLEDB Database\\*\\*"
            ],
            "metadata": {
                "azdata_cell_guid": "1bd690b7-aa04-4c0a-a673-4a78ea53db53"
            },
            "attachments": {}
        },
        {
            "cell_type": "code",
            "source": [
                "USE SAMPLEDB\n",
                "GO"
            ],
            "metadata": {
                "azdata_cell_guid": "62722399-5ea8-4ad9-aa13-efe87bfef1af",
                "language": "sql"
            },
            "outputs": [
                {
                    "output_type": "display_data",
                    "data": {
                        "text/html": "Commands completed successfully."
                    },
                    "metadata": {}
                },
                {
                    "output_type": "display_data",
                    "data": {
                        "text/html": "Total execution time: 00:00:00.002"
                    },
                    "metadata": {}
                }
            ],
            "execution_count": 1
        },
        {
            "cell_type": "markdown",
            "source": [
                "### **First Challenge** \n",
                "\n",
                "Challenge: Create a table called dept in the dbo schema. Specify the following columns: \n",
                "\n",
                "\\- dept\\_id INT \n",
                "\n",
                "\\- dept\\_name VARCHAR(50) \n",
                "\n",
                "Give the IDENTITY property to the dept\\_id column. Also, put a primary key constraint on the dept\\_id column. Put a NOT NULL constraint on the dept\\_name column."
            ],
            "metadata": {
                "language": "sql",
                "azdata_cell_guid": "1feae360-b13e-4f1e-ab80-4c3cb3436e76"
            },
            "attachments": {}
        },
        {
            "cell_type": "code",
            "source": [
                "CREATE TABLE dbo.dept (\n",
                "    dept_id INT IDENTITY(1,1),\n",
                "    dept_name VARCHAR(50) NOT NULL,\n",
                "    CONSTRAINT pk_dept_dept_id PRIMARY KEY (dept_id)\n",
                ");"
            ],
            "metadata": {
                "language": "sql",
                "azdata_cell_guid": "90b30610-b2c0-4089-b28e-696fcd04ffcd"
            },
            "outputs": [
                {
                    "output_type": "display_data",
                    "data": {
                        "text/html": "Commands completed successfully."
                    },
                    "metadata": {}
                },
                {
                    "output_type": "display_data",
                    "data": {
                        "text/html": "Total execution time: 00:00:00.035"
                    },
                    "metadata": {}
                }
            ],
            "execution_count": 2
        },
        {
            "cell_type": "markdown",
            "source": [
                "### **Second Challenge** \n",
                "\n",
                "Challenge: Write an insert statement to insert the following row into the dbo.dept table: \n",
                "\n",
                "| dept\\_id | dept\\_name |\n",
                "| :-------- | :---------- |\n",
                "| 1 | Business Intelligence |"
            ],
            "metadata": {
                "language": "sql",
                "azdata_cell_guid": "0b85b172-9845-4241-b110-907f5b8f3764"
            },
            "attachments": {}
        },
        {
            "cell_type": "code",
            "source": [
                "INSERT INTO dbo.dept (dept_name)\n",
                "VALUES ('Business Intelligence');\n",
                "\n",
                "SELECT * FROM dbo.dept;"
            ],
            "metadata": {
                "language": "sql",
                "azdata_cell_guid": "b2ed92a1-669b-4d12-820b-da4a1de63c93"
            },
            "outputs": [
                {
                    "output_type": "display_data",
                    "data": {
                        "text/html": "(1 row affected)"
                    },
                    "metadata": {}
                },
                {
                    "output_type": "display_data",
                    "data": {
                        "text/html": "(2 rows affected)"
                    },
                    "metadata": {}
                },
                {
                    "output_type": "display_data",
                    "data": {
                        "text/html": "Total execution time: 00:00:00.108"
                    },
                    "metadata": {}
                },
                {
                    "output_type": "execute_result",
                    "execution_count": 5,
                    "data": {
                        "application/vnd.dataresource+json": {
                            "schema": {
                                "fields": [
                                    {
                                        "name": "dept_id"
                                    },
                                    {
                                        "name": "dept_name"
                                    }
                                ]
                            },
                            "data": [
                                {
                                    "0": "1",
                                    "1": "Business Intelligence"
                                },
                                {
                                    "0": "2",
                                    "1": "Business Intelligence"
                                }
                            ]
                        },
                        "text/html": "<table><tr><th>dept_id</th><th>dept_name</th></tr><tr><td>1</td><td>Business Intelligence</td></tr><tr><td>2</td><td>Business Intelligence</td></tr></table>"
                    },
                    "metadata": {}
                }
            ],
            "execution_count": 5
        },
        {
            "cell_type": "markdown",
            "source": [
                "### **Third Challenge** \n",
                "\n",
                "Challenge: Populate the dbo.dept table with more rows: Insert all department names from the hcm.departments table."
            ],
            "metadata": {
                "language": "",
                "azdata_cell_guid": "bef2648d-8174-4c48-8ec9-72681f768e98"
            },
            "attachments": {}
        },
        {
            "cell_type": "code",
            "source": [
                "INSERT INTO dbo.dept (dept_name)\n",
                "SELECT department_name \n",
                "FROM hcm.departments;\n",
                "\n",
                "SELECT * FROM dbo.dept;"
            ],
            "metadata": {
                "azdata_cell_guid": "2630aa94-c953-4454-a881-636bd4159234",
                "language": "sql"
            },
            "outputs": [
                {
                    "output_type": "display_data",
                    "data": {
                        "text/html": "(27 rows affected)"
                    },
                    "metadata": {}
                },
                {
                    "output_type": "display_data",
                    "data": {
                        "text/html": "(29 rows affected)"
                    },
                    "metadata": {}
                },
                {
                    "output_type": "display_data",
                    "data": {
                        "text/html": "Total execution time: 00:00:00.030"
                    },
                    "metadata": {}
                },
                {
                    "output_type": "execute_result",
                    "execution_count": 8,
                    "data": {
                        "application/vnd.dataresource+json": {
                            "schema": {
                                "fields": [
                                    {
                                        "name": "dept_id"
                                    },
                                    {
                                        "name": "dept_name"
                                    }
                                ]
                            },
                            "data": [
                                {
                                    "0": "1",
                                    "1": "Business Intelligence"
                                },
                                {
                                    "0": "2",
                                    "1": "Business Intelligence"
                                },
                                {
                                    "0": "3",
                                    "1": "Administration"
                                },
                                {
                                    "0": "4",
                                    "1": "Marketing"
                                },
                                {
                                    "0": "5",
                                    "1": "Purchasing"
                                },
                                {
                                    "0": "6",
                                    "1": "Human Resources"
                                },
                                {
                                    "0": "7",
                                    "1": "Shipping"
                                },
                                {
                                    "0": "8",
                                    "1": "IT"
                                },
                                {
                                    "0": "9",
                                    "1": "Public Relations"
                                },
                                {
                                    "0": "10",
                                    "1": "Sales"
                                },
                                {
                                    "0": "11",
                                    "1": "Executive"
                                },
                                {
                                    "0": "12",
                                    "1": "Finance"
                                },
                                {
                                    "0": "13",
                                    "1": "Accounting"
                                },
                                {
                                    "0": "14",
                                    "1": "Treasury"
                                },
                                {
                                    "0": "15",
                                    "1": "Corporate Tax"
                                },
                                {
                                    "0": "16",
                                    "1": "Control And Credit"
                                },
                                {
                                    "0": "17",
                                    "1": "Shareholder Services"
                                },
                                {
                                    "0": "18",
                                    "1": "Benefits"
                                },
                                {
                                    "0": "19",
                                    "1": "Manufacturing"
                                },
                                {
                                    "0": "20",
                                    "1": "Construction"
                                },
                                {
                                    "0": "21",
                                    "1": "Contracting"
                                },
                                {
                                    "0": "22",
                                    "1": "Operations"
                                },
                                {
                                    "0": "23",
                                    "1": "IT Support"
                                },
                                {
                                    "0": "24",
                                    "1": "NOC"
                                },
                                {
                                    "0": "25",
                                    "1": "IT Helpdesk"
                                },
                                {
                                    "0": "26",
                                    "1": "Government Sales"
                                },
                                {
                                    "0": "27",
                                    "1": "Retail Sales"
                                },
                                {
                                    "0": "28",
                                    "1": "Recruiting"
                                },
                                {
                                    "0": "29",
                                    "1": "Payroll"
                                }
                            ]
                        },
                        "text/html": "<table><tr><th>dept_id</th><th>dept_name</th></tr><tr><td>1</td><td>Business Intelligence</td></tr><tr><td>2</td><td>Business Intelligence</td></tr><tr><td>3</td><td>Administration</td></tr><tr><td>4</td><td>Marketing</td></tr><tr><td>5</td><td>Purchasing</td></tr><tr><td>6</td><td>Human Resources</td></tr><tr><td>7</td><td>Shipping</td></tr><tr><td>8</td><td>IT</td></tr><tr><td>9</td><td>Public Relations</td></tr><tr><td>10</td><td>Sales</td></tr><tr><td>11</td><td>Executive</td></tr><tr><td>12</td><td>Finance</td></tr><tr><td>13</td><td>Accounting</td></tr><tr><td>14</td><td>Treasury</td></tr><tr><td>15</td><td>Corporate Tax</td></tr><tr><td>16</td><td>Control And Credit</td></tr><tr><td>17</td><td>Shareholder Services</td></tr><tr><td>18</td><td>Benefits</td></tr><tr><td>19</td><td>Manufacturing</td></tr><tr><td>20</td><td>Construction</td></tr><tr><td>21</td><td>Contracting</td></tr><tr><td>22</td><td>Operations</td></tr><tr><td>23</td><td>IT Support</td></tr><tr><td>24</td><td>NOC</td></tr><tr><td>25</td><td>IT Helpdesk</td></tr><tr><td>26</td><td>Government Sales</td></tr><tr><td>27</td><td>Retail Sales</td></tr><tr><td>28</td><td>Recruiting</td></tr><tr><td>29</td><td>Payroll</td></tr></table>"
                    },
                    "metadata": {}
                }
            ],
            "execution_count": 8
        },
        {
            "cell_type": "markdown",
            "source": [
                "### **Fourth Challenge** \n",
                "\n",
                "Challenge: Create a table called emp in the dbo schema. Specify the following columns: \n",
                "\n",
                "\\- emp\\_id INT \n",
                "\n",
                "\\- first\\_name VARCHAR(50) \n",
                "\n",
                "\\- last\\_name VARCHAR(50) \n",
                "\n",
                "\\- hire\\_date DATE \n",
                "\n",
                "\\- dept\\_id INT \n",
                "\n",
                "Give the IDENTITY property to the emp\\_id column. Also, put a primary key constraint on the emp\\_id column. Put NOT NULL constraints on any columns you think need them. Put a foreign key constraint on the dept\\_id column which references back to the dept\\_id column from the dbo.dept table."
            ],
            "metadata": {
                "language": "sql",
                "azdata_cell_guid": "085040a7-e407-4ad6-bf1e-7682ac68dd20"
            },
            "attachments": {}
        },
        {
            "cell_type": "code",
            "source": [
                "CREATE TABLE dbo.emp(\n",
                "    emp_id INT IDENTITY(1,1) PRIMARY KEY,\n",
                "    first_name VARCHAR(50) NOT NULL,\n",
                "    last_name VARCHAR(50) NOT NULL,\n",
                "    hire_date DATE NOT NULL,\n",
                "    dept_id INT FOREIGN KEY REFERENCES dbo.dept(dept_id)\n",
                ")"
            ],
            "metadata": {
                "language": "sql",
                "azdata_cell_guid": "1a108cb2-4eff-465f-818e-6de6862d20da"
            },
            "outputs": [
                {
                    "output_type": "display_data",
                    "data": {
                        "text/html": "Commands completed successfully."
                    },
                    "metadata": {}
                },
                {
                    "output_type": "display_data",
                    "data": {
                        "text/html": "Total execution time: 00:00:00.028"
                    },
                    "metadata": {}
                }
            ],
            "execution_count": 10
        },
        {
            "cell_type": "markdown",
            "source": [
                "### **Fifth Challenge** \n",
                "\n",
                "Challenge: Populate the dbo.emp table with the following two employees: \n",
                "\n",
                "| emp\\_id | first\\_name | last\\_name | hire\\_date | dept\\_id |\n",
                "| ------- | ----------- | ---------- | ---------- | -------- |\n",
                "| 1 | Scott | Davis | Dec-11-2020 | 1 |\n",
                "| 2 | Miriam | Yardley | Dec-05-2020 | 1 |"
            ],
            "metadata": {
                "language": "sql",
                "azdata_cell_guid": "94b60056-d911-442a-9263-dc1efd2e5a0d"
            },
            "attachments": {}
        },
        {
            "cell_type": "code",
            "source": [
                "INSERT INTO dbo.emp (first_name, last_name, hire_date, dept_id)\n",
                "VALUES\n",
                "    ('Scott', 'Davis', '20201211', 1),\n",
                "    ('Miriam', 'Yardley', '20201205', 1);\n",
                "\n",
                "SELECT * FROM dbo.emp;"
            ],
            "metadata": {
                "language": "sql",
                "azdata_cell_guid": "c1dd7db7-db30-46e4-aecb-d9c467d11eaa"
            },
            "outputs": [
                {
                    "output_type": "display_data",
                    "data": {
                        "text/html": "(2 rows affected)"
                    },
                    "metadata": {}
                },
                {
                    "output_type": "display_data",
                    "data": {
                        "text/html": "(2 rows affected)"
                    },
                    "metadata": {}
                },
                {
                    "output_type": "display_data",
                    "data": {
                        "text/html": "Total execution time: 00:00:00.044"
                    },
                    "metadata": {}
                },
                {
                    "output_type": "execute_result",
                    "execution_count": 12,
                    "data": {
                        "application/vnd.dataresource+json": {
                            "schema": {
                                "fields": [
                                    {
                                        "name": "emp_id"
                                    },
                                    {
                                        "name": "first_name"
                                    },
                                    {
                                        "name": "last_name"
                                    },
                                    {
                                        "name": "hire_date"
                                    },
                                    {
                                        "name": "dept_id"
                                    }
                                ]
                            },
                            "data": [
                                {
                                    "0": "1",
                                    "1": "Scott",
                                    "2": "Davis",
                                    "3": "2020-12-11",
                                    "4": "1"
                                },
                                {
                                    "0": "2",
                                    "1": "Miriam",
                                    "2": "Yardley",
                                    "3": "2020-12-05",
                                    "4": "1"
                                }
                            ]
                        },
                        "text/html": "<table><tr><th>emp_id</th><th>first_name</th><th>last_name</th><th>hire_date</th><th>dept_id</th></tr><tr><td>1</td><td>Scott</td><td>Davis</td><td>2020-12-11</td><td>1</td></tr><tr><td>2</td><td>Miriam</td><td>Yardley</td><td>2020-12-05</td><td>1</td></tr></table>"
                    },
                    "metadata": {}
                }
            ],
            "execution_count": 12
        },
        {
            "cell_type": "markdown",
            "source": [
                "### **UPDATE STATEMENT Challenge**\n",
                "\n",
                "Challenge: Use an UPDATE statement to change Miriam's last name from 'Yardley' to 'Greenbank' in the dbo.emp table. Identify Miriam by her emp\\_id number in the WHERE clause of the UPDATE statement."
            ],
            "metadata": {
                "language": "sql",
                "azdata_cell_guid": "023dd37f-93d0-4013-9036-b7bfab18b859"
            },
            "attachments": {}
        },
        {
            "cell_type": "code",
            "source": [
                "UPDATE dbo.emp \n",
                "SET last_name = 'Greenbank'\n",
                "WHERE emp_id = 2;\n",
                "\n",
                "SELECT * FROM dbo.emp;"
            ],
            "metadata": {
                "language": "sql",
                "azdata_cell_guid": "f3cac53f-cc9f-4e02-9d37-72594b528595"
            },
            "outputs": [
                {
                    "output_type": "display_data",
                    "data": {
                        "text/html": "(1 row affected)"
                    },
                    "metadata": {}
                },
                {
                    "output_type": "display_data",
                    "data": {
                        "text/html": "(2 rows affected)"
                    },
                    "metadata": {}
                },
                {
                    "output_type": "display_data",
                    "data": {
                        "text/html": "Total execution time: 00:00:00.027"
                    },
                    "metadata": {}
                },
                {
                    "output_type": "execute_result",
                    "metadata": {},
                    "execution_count": 2,
                    "data": {
                        "application/vnd.dataresource+json": {
                            "schema": {
                                "fields": [
                                    {
                                        "name": "emp_id"
                                    },
                                    {
                                        "name": "first_name"
                                    },
                                    {
                                        "name": "last_name"
                                    },
                                    {
                                        "name": "hire_date"
                                    },
                                    {
                                        "name": "dept_id"
                                    }
                                ]
                            },
                            "data": [
                                {
                                    "0": "1",
                                    "1": "Scott",
                                    "2": "Davis",
                                    "3": "2020-12-11",
                                    "4": "1"
                                },
                                {
                                    "0": "2",
                                    "1": "Miriam",
                                    "2": "Greenbank",
                                    "3": "2020-12-05",
                                    "4": "1"
                                }
                            ]
                        },
                        "text/html": [
                            "<table>",
                            "<tr><th>emp_id</th><th>first_name</th><th>last_name</th><th>hire_date</th><th>dept_id</th></tr>",
                            "<tr><td>1</td><td>Scott</td><td>Davis</td><td>2020-12-11</td><td>1</td></tr>",
                            "<tr><td>2</td><td>Miriam</td><td>Greenbank</td><td>2020-12-05</td><td>1</td></tr>",
                            "</table>"
                        ]
                    }
                }
            ],
            "execution_count": 2
        }
    ]
}