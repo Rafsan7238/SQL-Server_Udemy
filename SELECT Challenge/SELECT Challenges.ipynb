{
    "metadata": {
        "kernelspec": {
            "name": "SQL",
            "display_name": "SQL",
            "language": "sql"
        },
        "language_info": {
            "name": "sql",
            "version": ""
        }
    },
    "nbformat_minor": 2,
    "nbformat": 4,
    "cells": [
        {
            "cell_type": "markdown",
            "source": [
                "# **SELECT Challenges**"
            ],
            "metadata": {
                "azdata_cell_guid": "f3cccd81-82c3-49ff-b862-f4b648e3f968"
            },
            "attachments": {}
        },
        {
            "cell_type": "markdown",
            "source": [
                "\\*\\*Use the SAMPLEDB database\\*\\*"
            ],
            "metadata": {
                "azdata_cell_guid": "84bf21e5-6490-486a-a206-6732e68c6da0"
            },
            "attachments": {}
        },
        {
            "cell_type": "code",
            "source": [
                "USE SAMPLEDB\n",
                "GO"
            ],
            "metadata": {
                "azdata_cell_guid": "0461943a-e45d-48a0-9669-afd599f6fd31",
                "language": "sql"
            },
            "outputs": [
                {
                    "output_type": "display_data",
                    "data": {
                        "text/html": "Commands completed successfully."
                    },
                    "metadata": {}
                },
                {
                    "output_type": "display_data",
                    "data": {
                        "text/html": "Total execution time: 00:00:00.005"
                    },
                    "metadata": {}
                }
            ],
            "execution_count": 2
        },
        {
            "cell_type": "markdown",
            "source": [
                "### **First SELECT Challenge**\n",
                "\n",
                "Challenge: Use a SELECT statement to get the first\\_name and last\\_name of all employees."
            ],
            "metadata": {
                "azdata_cell_guid": "9956c939-af72-4540-9ae1-a2f261a28240"
            },
            "attachments": {}
        },
        {
            "cell_type": "code",
            "source": [
                "SELECT first_name, last_name\n",
                "FROM hcm.employees;"
            ],
            "metadata": {
                "azdata_cell_guid": "ac2f4d5b-7744-4627-8300-a56f88741f82",
                "language": "sql"
            },
            "outputs": [
                {
                    "output_type": "display_data",
                    "data": {
                        "text/html": "(107 rows affected)"
                    },
                    "metadata": {}
                },
                {
                    "output_type": "display_data",
                    "data": {
                        "text/html": "Total execution time: 00:00:00.082"
                    },
                    "metadata": {}
                },
                {
                    "output_type": "execute_result",
                    "metadata": {},
                    "execution_count": 3,
                    "data": {
                        "application/vnd.dataresource+json": {
                            "schema": {
                                "fields": [
                                    {
                                        "name": "first_name"
                                    },
                                    {
                                        "name": "last_name"
                                    }
                                ]
                            },
                            "data": [
                                {
                                    "0": "Jack",
                                    "1": "Bernard"
                                },
                                {
                                    "0": "Don",
                                    "1": "Reilly"
                                },
                                {
                                    "0": "Judy",
                                    "1": "Lawson"
                                },
                                {
                                    "0": "Yani",
                                    "1": "Wenzlick"
                                },
                                {
                                    "0": "Rachel",
                                    "1": "Mortensen"
                                },
                                {
                                    "0": "Paul",
                                    "1": "Cameron"
                                },
                                {
                                    "0": "Russell",
                                    "1": "King"
                                },
                                {
                                    "0": "Maria",
                                    "1": "Cameron"
                                },
                                {
                                    "0": "Patricia",
                                    "1": "Doyle"
                                },
                                {
                                    "0": "Daniel",
                                    "1": "Hopkins"
                                },
                                {
                                    "0": "John",
                                    "1": "Chen"
                                },
                                {
                                    "0": "Llyod",
                                    "1": "Henderson"
                                },
                                {
                                    "0": "Lena",
                                    "1": "Chadwick"
                                },
                                {
                                    "0": "Richard",
                                    "1": "Stewart"
                                },
                                {
                                    "0": "Diana",
                                    "1": "Colman"
                                },
                                {
                                    "0": "Alexander",
                                    "1": "Khoo"
                                },
                                {
                                    "0": "Shelli",
                                    "1": "Baida"
                                },
                                {
                                    "0": "Peter",
                                    "1": "Owen"
                                },
                                {
                                    "0": "Peter",
                                    "1": "Owen"
                                },
                                {
                                    "0": "Karen",
                                    "1": "Colmenares"
                                },
                                {
                                    "0": "Matthew",
                                    "1": "Wilson"
                                },
                                {
                                    "0": "Jack",
                                    "1": "Hale"
                                },
                                {
                                    "0": "Priya",
                                    "1": "Singh"
                                },
                                {
                                    "0": "Shanta",
                                    "1": "Vollman"
                                },
                                {
                                    "0": "Kevin",
                                    "1": "Mourgos"
                                },
                                {
                                    "0": "Julia",
                                    "1": "Nayer"
                                },
                                {
                                    "0": "Irene",
                                    "1": "Mikkilineni"
                                },
                                {
                                    "0": "James",
                                    "1": "Landry"
                                },
                                {
                                    "0": "Steven",
                                    "1": "Markle"
                                },
                                {
                                    "0": "Laura",
                                    "1": "Bissot"
                                },
                                {
                                    "0": "Mark",
                                    "1": "Atkinson"
                                },
                                {
                                    "0": "James",
                                    "1": "Marlow"
                                },
                                {
                                    "0": "Gavin",
                                    "1": "Olson"
                                },
                                {
                                    "0": "Jason",
                                    "1": "Mallin"
                                },
                                {
                                    "0": "Michael",
                                    "1": "Rogers"
                                },
                                {
                                    "0": "Mitch",
                                    "1": "Holt"
                                },
                                {
                                    "0": "Hazel",
                                    "1": "Philtanker"
                                },
                                {
                                    "0": "Renske",
                                    "1": "Ladwig"
                                },
                                {
                                    "0": "Stephen",
                                    "1": "Stiles"
                                },
                                {
                                    "0": "Tony",
                                    "1": "Rogers"
                                },
                                {
                                    "0": "Mayank",
                                    "1": "Patel"
                                },
                                {
                                    "0": "Trenna",
                                    "1": "Rajs"
                                },
                                {
                                    "0": "Rick",
                                    "1": "Davies"
                                },
                                {
                                    "0": "Randall",
                                    "1": "Matos"
                                },
                                {
                                    "0": "Peter",
                                    "1": "Vargas"
                                },
                                {
                                    "0": "Harold",
                                    "1": "Russell"
                                },
                                {
                                    "0": "Karen",
                                    "1": "Partners"
                                },
                                {
                                    "0": "Alberto",
                                    "1": "Errazuriz"
                                },
                                {
                                    "0": "Gerald",
                                    "1": "Cambrault"
                                },
                                {
                                    "0": "Michael",
                                    "1": "Rogers"
                                },
                                {
                                    "0": "Peter",
                                    "1": "Tucker"
                                },
                                {
                                    "0": "David",
                                    "1": "Bernstein"
                                },
                                {
                                    "0": "Peter",
                                    "1": "Hall"
                                },
                                {
                                    "0": "Christopher",
                                    "1": "Olsen"
                                },
                                {
                                    "0": "Raewyn",
                                    "1": "Cambrault"
                                },
                                {
                                    "0": "Oliver",
                                    "1": "Tuvault"
                                },
                                {
                                    "0": "Janette",
                                    "1": "King"
                                },
                                {
                                    "0": "Patrick",
                                    "1": "Sully"
                                },
                                {
                                    "0": "Allan",
                                    "1": "McEwen"
                                },
                                {
                                    "0": "Lindsey",
                                    "1": "Smith"
                                },
                                {
                                    "0": "Louise",
                                    "1": "Doran"
                                },
                                {
                                    "0": "Sarath",
                                    "1": "Sewall"
                                },
                                {
                                    "0": "Clara",
                                    "1": "Vishney"
                                },
                                {
                                    "0": "Danielle",
                                    "1": "Greene"
                                },
                                {
                                    "0": "Tamara",
                                    "1": "Marvins"
                                },
                                {
                                    "0": "David",
                                    "1": "Lee"
                                },
                                {
                                    "0": "Sundar",
                                    "1": "Ande"
                                },
                                {
                                    "0": "Amit",
                                    "1": "Banda"
                                },
                                {
                                    "0": "Danny",
                                    "1": "Ozer"
                                },
                                {
                                    "0": "Alexander",
                                    "1": "Bloom"
                                },
                                {
                                    "0": "William",
                                    "1": "Fox"
                                },
                                {
                                    "0": "Ashley",
                                    "1": "Smith"
                                },
                                {
                                    "0": "Edward",
                                    "1": "Bates"
                                },
                                {
                                    "0": "Clark",
                                    "1": "Solomon"
                                },
                                {
                                    "0": "Annemarie",
                                    "1": "Hoffman"
                                },
                                {
                                    "0": "Hiroko",
                                    "1": "Hutton"
                                },
                                {
                                    "0": "Aron",
                                    "1": "Taylor"
                                },
                                {
                                    "0": "Theron",
                                    "1": "Livingston"
                                },
                                {
                                    "0": "Olivia",
                                    "1": "Grant"
                                },
                                {
                                    "0": "Richie",
                                    "1": "Johnson"
                                },
                                {
                                    "0": "Horacio",
                                    "1": "Taylor"
                                },
                                {
                                    "0": "Laura",
                                    "1": "Hobbs"
                                },
                                {
                                    "0": "Martha",
                                    "1": "Sullivan"
                                },
                                {
                                    "0": "Girard",
                                    "1": "Geoni"
                                },
                                {
                                    "0": "Nandita",
                                    "1": "Sarchand"
                                },
                                {
                                    "0": "Alexis",
                                    "1": "Bull"
                                },
                                {
                                    "0": "Julia",
                                    "1": "Dellinger"
                                },
                                {
                                    "0": "Anthony",
                                    "1": "Cabrio"
                                },
                                {
                                    "0": "Kelly",
                                    "1": "Chung"
                                },
                                {
                                    "0": "Jennifer",
                                    "1": "Dilly"
                                },
                                {
                                    "0": "Timothy",
                                    "1": "Gates"
                                },
                                {
                                    "0": "Chuck",
                                    "1": "Perkins"
                                },
                                {
                                    "0": "Sarah",
                                    "1": "Bell"
                                },
                                {
                                    "0": "Britney",
                                    "1": "Everett"
                                },
                                {
                                    "0": "Samuel",
                                    "1": "McCain"
                                },
                                {
                                    "0": "Catrina",
                                    "1": "Jones"
                                },
                                {
                                    "0": "Tabitha",
                                    "1": "Walsh"
                                },
                                {
                                    "0": "Milford",
                                    "1": "Feeney"
                                },
                                {
                                    "0": "Alfred",
                                    "1": "Tate"
                                },
                                {
                                    "0": "Douglas",
                                    "1": "Grant"
                                },
                                {
                                    "0": "Jennifer",
                                    "1": "Whalen"
                                },
                                {
                                    "0": "Michael",
                                    "1": "Hartstein"
                                },
                                {
                                    "0": "Patrick",
                                    "1": "Bacon"
                                },
                                {
                                    "0": "Susan",
                                    "1": "Jacobs"
                                },
                                {
                                    "0": "Richard",
                                    "1": "Baer"
                                },
                                {
                                    "0": "Shelley",
                                    "1": "Higgins"
                                },
                                {
                                    "0": "William",
                                    "1": "Gietz"
                                }
                            ]
                        },
                        "text/html": [
                            "<table>",
                            "<tr><th>first_name</th><th>last_name</th></tr>",
                            "<tr><td>Jack</td><td>Bernard</td></tr>",
                            "<tr><td>Don</td><td>Reilly</td></tr>",
                            "<tr><td>Judy</td><td>Lawson</td></tr>",
                            "<tr><td>Yani</td><td>Wenzlick</td></tr>",
                            "<tr><td>Rachel</td><td>Mortensen</td></tr>",
                            "<tr><td>Paul</td><td>Cameron</td></tr>",
                            "<tr><td>Russell</td><td>King</td></tr>",
                            "<tr><td>Maria</td><td>Cameron</td></tr>",
                            "<tr><td>Patricia</td><td>Doyle</td></tr>",
                            "<tr><td>Daniel</td><td>Hopkins</td></tr>",
                            "<tr><td>John</td><td>Chen</td></tr>",
                            "<tr><td>Llyod</td><td>Henderson</td></tr>",
                            "<tr><td>Lena</td><td>Chadwick</td></tr>",
                            "<tr><td>Richard</td><td>Stewart</td></tr>",
                            "<tr><td>Diana</td><td>Colman</td></tr>",
                            "<tr><td>Alexander</td><td>Khoo</td></tr>",
                            "<tr><td>Shelli</td><td>Baida</td></tr>",
                            "<tr><td>Peter</td><td>Owen</td></tr>",
                            "<tr><td>Peter</td><td>Owen</td></tr>",
                            "<tr><td>Karen</td><td>Colmenares</td></tr>",
                            "<tr><td>Matthew</td><td>Wilson</td></tr>",
                            "<tr><td>Jack</td><td>Hale</td></tr>",
                            "<tr><td>Priya</td><td>Singh</td></tr>",
                            "<tr><td>Shanta</td><td>Vollman</td></tr>",
                            "<tr><td>Kevin</td><td>Mourgos</td></tr>",
                            "<tr><td>Julia</td><td>Nayer</td></tr>",
                            "<tr><td>Irene</td><td>Mikkilineni</td></tr>",
                            "<tr><td>James</td><td>Landry</td></tr>",
                            "<tr><td>Steven</td><td>Markle</td></tr>",
                            "<tr><td>Laura</td><td>Bissot</td></tr>",
                            "<tr><td>Mark</td><td>Atkinson</td></tr>",
                            "<tr><td>James</td><td>Marlow</td></tr>",
                            "<tr><td>Gavin</td><td>Olson</td></tr>",
                            "<tr><td>Jason</td><td>Mallin</td></tr>",
                            "<tr><td>Michael</td><td>Rogers</td></tr>",
                            "<tr><td>Mitch</td><td>Holt</td></tr>",
                            "<tr><td>Hazel</td><td>Philtanker</td></tr>",
                            "<tr><td>Renske</td><td>Ladwig</td></tr>",
                            "<tr><td>Stephen</td><td>Stiles</td></tr>",
                            "<tr><td>Tony</td><td>Rogers</td></tr>",
                            "<tr><td>Mayank</td><td>Patel</td></tr>",
                            "<tr><td>Trenna</td><td>Rajs</td></tr>",
                            "<tr><td>Rick</td><td>Davies</td></tr>",
                            "<tr><td>Randall</td><td>Matos</td></tr>",
                            "<tr><td>Peter</td><td>Vargas</td></tr>",
                            "<tr><td>Harold</td><td>Russell</td></tr>",
                            "<tr><td>Karen</td><td>Partners</td></tr>",
                            "<tr><td>Alberto</td><td>Errazuriz</td></tr>",
                            "<tr><td>Gerald</td><td>Cambrault</td></tr>",
                            "<tr><td>Michael</td><td>Rogers</td></tr>",
                            "<tr><td>Peter</td><td>Tucker</td></tr>",
                            "<tr><td>David</td><td>Bernstein</td></tr>",
                            "<tr><td>Peter</td><td>Hall</td></tr>",
                            "<tr><td>Christopher</td><td>Olsen</td></tr>",
                            "<tr><td>Raewyn</td><td>Cambrault</td></tr>",
                            "<tr><td>Oliver</td><td>Tuvault</td></tr>",
                            "<tr><td>Janette</td><td>King</td></tr>",
                            "<tr><td>Patrick</td><td>Sully</td></tr>",
                            "<tr><td>Allan</td><td>McEwen</td></tr>",
                            "<tr><td>Lindsey</td><td>Smith</td></tr>",
                            "<tr><td>Louise</td><td>Doran</td></tr>",
                            "<tr><td>Sarath</td><td>Sewall</td></tr>",
                            "<tr><td>Clara</td><td>Vishney</td></tr>",
                            "<tr><td>Danielle</td><td>Greene</td></tr>",
                            "<tr><td>Tamara</td><td>Marvins</td></tr>",
                            "<tr><td>David</td><td>Lee</td></tr>",
                            "<tr><td>Sundar</td><td>Ande</td></tr>",
                            "<tr><td>Amit</td><td>Banda</td></tr>",
                            "<tr><td>Danny</td><td>Ozer</td></tr>",
                            "<tr><td>Alexander</td><td>Bloom</td></tr>",
                            "<tr><td>William</td><td>Fox</td></tr>",
                            "<tr><td>Ashley</td><td>Smith</td></tr>",
                            "<tr><td>Edward</td><td>Bates</td></tr>",
                            "<tr><td>Clark</td><td>Solomon</td></tr>",
                            "<tr><td>Annemarie</td><td>Hoffman</td></tr>",
                            "<tr><td>Hiroko</td><td>Hutton</td></tr>",
                            "<tr><td>Aron</td><td>Taylor</td></tr>",
                            "<tr><td>Theron</td><td>Livingston</td></tr>",
                            "<tr><td>Olivia</td><td>Grant</td></tr>",
                            "<tr><td>Richie</td><td>Johnson</td></tr>",
                            "<tr><td>Horacio</td><td>Taylor</td></tr>",
                            "<tr><td>Laura</td><td>Hobbs</td></tr>",
                            "<tr><td>Martha</td><td>Sullivan</td></tr>",
                            "<tr><td>Girard</td><td>Geoni</td></tr>",
                            "<tr><td>Nandita</td><td>Sarchand</td></tr>",
                            "<tr><td>Alexis</td><td>Bull</td></tr>",
                            "<tr><td>Julia</td><td>Dellinger</td></tr>",
                            "<tr><td>Anthony</td><td>Cabrio</td></tr>",
                            "<tr><td>Kelly</td><td>Chung</td></tr>",
                            "<tr><td>Jennifer</td><td>Dilly</td></tr>",
                            "<tr><td>Timothy</td><td>Gates</td></tr>",
                            "<tr><td>Chuck</td><td>Perkins</td></tr>",
                            "<tr><td>Sarah</td><td>Bell</td></tr>",
                            "<tr><td>Britney</td><td>Everett</td></tr>",
                            "<tr><td>Samuel</td><td>McCain</td></tr>",
                            "<tr><td>Catrina</td><td>Jones</td></tr>",
                            "<tr><td>Tabitha</td><td>Walsh</td></tr>",
                            "<tr><td>Milford</td><td>Feeney</td></tr>",
                            "<tr><td>Alfred</td><td>Tate</td></tr>",
                            "<tr><td>Douglas</td><td>Grant</td></tr>",
                            "<tr><td>Jennifer</td><td>Whalen</td></tr>",
                            "<tr><td>Michael</td><td>Hartstein</td></tr>",
                            "<tr><td>Patrick</td><td>Bacon</td></tr>",
                            "<tr><td>Susan</td><td>Jacobs</td></tr>",
                            "<tr><td>Richard</td><td>Baer</td></tr>",
                            "<tr><td>Shelley</td><td>Higgins</td></tr>",
                            "<tr><td>William</td><td>Gietz</td></tr>",
                            "</table>"
                        ]
                    }
                }
            ],
            "execution_count": 3
        },
        {
            "cell_type": "markdown",
            "source": [
                "### **Second SELECT Challenge**  \n",
                "\n",
                "Challenge: Use a SELECT statement to get the last\\_name and city of all customers. Alias the last\\_name to customer\\_last\\_name in the query."
            ],
            "metadata": {
                "azdata_cell_guid": "346ea96f-1ef6-427a-8499-dd1cacf02aa6"
            },
            "attachments": {}
        },
        {
            "cell_type": "code",
            "source": [
                "SELECT last_name as customer_last_name, city\n",
                "FROM oes.customers;"
            ],
            "metadata": {
                "azdata_cell_guid": "a89a5cbb-f0b9-4cd8-8d5e-0a044d239cb8",
                "language": "sql"
            },
            "outputs": [
                {
                    "output_type": "display_data",
                    "data": {
                        "text/html": "(93 rows affected)"
                    },
                    "metadata": {}
                },
                {
                    "output_type": "display_data",
                    "data": {
                        "text/html": "Total execution time: 00:00:00.019"
                    },
                    "metadata": {}
                },
                {
                    "output_type": "execute_result",
                    "metadata": {},
                    "execution_count": 4,
                    "data": {
                        "application/vnd.dataresource+json": {
                            "schema": {
                                "fields": [
                                    {
                                        "name": "customer_last_name"
                                    },
                                    {
                                        "name": "city"
                                    }
                                ]
                            },
                            "data": [
                                {
                                    "0": "Ellerbusch",
                                    "1": "Wanguri"
                                },
                                {
                                    "0": "Harris",
                                    "1": "Alvie"
                                },
                                {
                                    "0": "Harris",
                                    "1": "Wherrol Flat"
                                },
                                {
                                    "0": "Oto",
                                    "1": "Placid Hills"
                                },
                                {
                                    "0": "Geffers",
                                    "1": "Nedlands"
                                },
                                {
                                    "0": "Ploszaj",
                                    "1": "Auchenflower"
                                },
                                {
                                    "0": "Rael",
                                    "1": "Buninyong"
                                },
                                {
                                    "0": "Lobosco",
                                    "1": "Dangar Island"
                                },
                                {
                                    "0": "Aguele",
                                    "1": "Sunny Nook"
                                },
                                {
                                    "0": "Boudrie",
                                    "1": "Minden"
                                },
                                {
                                    "0": "Bonalumi",
                                    "1": "Tibradden"
                                },
                                {
                                    "0": "Landa",
                                    "1": "Clermont"
                                },
                                {
                                    "0": "Agar",
                                    "1": "Kadina"
                                },
                                {
                                    "0": "Kusko",
                                    "1": "New York"
                                },
                                {
                                    "0": "Horsham",
                                    "1": "Conroe"
                                },
                                {
                                    "0": "Corrio",
                                    "1": "Columbus"
                                },
                                {
                                    "0": "Vocelka",
                                    "1": "Las Cruces"
                                },
                                {
                                    "0": "Sawyer",
                                    "1": "Ridgefield Park"
                                },
                                {
                                    "0": "Glick",
                                    "1": "Dunellen"
                                },
                                {
                                    "0": "Sergi",
                                    "1": "New York"
                                },
                                {
                                    "0": "Shinko",
                                    "1": "Metairie"
                                },
                                {
                                    "0": "Stockham",
                                    "1": "New York"
                                },
                                {
                                    "0": "Ostrosky",
                                    "1": "Camarillo"
                                },
                                {
                                    "0": "Gillian",
                                    "1": "San Antonio"
                                },
                                {
                                    "0": "Rulapaugh",
                                    "1": "Abilene"
                                },
                                {
                                    "0": "Schemmer",
                                    "1": "Prineville"
                                },
                                {
                                    "0": "Oldroyd",
                                    "1": "Overland Park"
                                },
                                {
                                    "0": "Harris",
                                    "1": "St. Stephens Ward"
                                },
                                {
                                    "0": "Zigomalas",
                                    "1": "Abbey Ward"
                                },
                                {
                                    "0": "Andrade",
                                    "1": "Liverpool"
                                },
                                {
                                    "0": "Walters",
                                    "1": "Liverpool"
                                },
                                {
                                    "0": "Veness",
                                    "1": "Greets Green and Lyng Ward"
                                },
                                {
                                    "0": "Rampy",
                                    "1": "Desborough"
                                },
                                {
                                    "0": "Grasmick",
                                    "1": "Bargate Ward"
                                },
                                {
                                    "0": "Hisaw",
                                    "1": "Chirton Ward"
                                },
                                {
                                    "0": "Manzella",
                                    "1": "London"
                                },
                                {
                                    "0": "Klapec",
                                    "1": "Parwich"
                                },
                                {
                                    "0": "Writer",
                                    "1": "Wilmington"
                                },
                                {
                                    "0": "Erm",
                                    "1": "Loundsley Green Ward"
                                },
                                {
                                    "0": "Jaret",
                                    "1": "Dee Ward"
                                },
                                {
                                    "0": "Bruch",
                                    "1": "Broxburn, Uphall and Winchburg"
                                },
                                {
                                    "0": "Gastellum",
                                    "1": "Weston-Super-Mare"
                                },
                                {
                                    "0": "Jones",
                                    "1": "Carbrooke"
                                },
                                {
                                    "0": "Kanne",
                                    "1": "New Milton"
                                },
                                {
                                    "0": "Julio",
                                    "1": "Parkham"
                                },
                                {
                                    "0": "Spinello",
                                    "1": "Darnall Ward"
                                },
                                {
                                    "0": "Lapinski",
                                    "1": "Marldon"
                                },
                                {
                                    "0": "Gutierres",
                                    "1": "Manchester"
                                },
                                {
                                    "0": "Rautenstrauch",
                                    "1": "Windsor"
                                },
                                {
                                    "0": "Loud",
                                    "1": "Alcida"
                                },
                                {
                                    "0": "Bauswell",
                                    "1": "Belleville"
                                },
                                {
                                    "0": "Edmison",
                                    "1": "Vancouver"
                                },
                                {
                                    "0": "Fauci",
                                    "1": "LIle-Perrot"
                                },
                                {
                                    "0": "Jones",
                                    "1": "Swift Current"
                                },
                                {
                                    "0": "Portaro",
                                    "1": "Baker Brook"
                                },
                                {
                                    "0": "Opitz",
                                    "1": "Delhi"
                                },
                                {
                                    "0": "Steinhaus",
                                    "1": "Bradford"
                                },
                                {
                                    "0": "Vielma",
                                    "1": "Aurora"
                                },
                                {
                                    "0": "Bresser",
                                    "1": "New Waterford"
                                },
                                {
                                    "0": "Tijerina",
                                    "1": "North York"
                                },
                                {
                                    "0": "Henderson",
                                    "1": "Red Deer"
                                },
                                {
                                    "0": "Marcille",
                                    "1": "Edmonton"
                                },
                                {
                                    "0": "Warne",
                                    "1": "Fredericton"
                                },
                                {
                                    "0": "Lagos",
                                    "1": "Etobicoke"
                                },
                                {
                                    "0": "Pacholec",
                                    "1": "Barrie"
                                },
                                {
                                    "0": "Branin",
                                    "1": "Calgary"
                                },
                                {
                                    "0": "Billa",
                                    "1": "Pangman"
                                },
                                {
                                    "0": "Dudash",
                                    "1": "Rouyn-Noranda"
                                },
                                {
                                    "0": "Lablanc",
                                    "1": "Leduc"
                                },
                                {
                                    "0": "Randol",
                                    "1": "North Vancouver"
                                },
                                {
                                    "0": "Davis",
                                    "1": "London"
                                },
                                {
                                    "0": "Adams",
                                    "1": "Hamilton"
                                },
                                {
                                    "0": "Kardell",
                                    "1": "Pierrefonds"
                                },
                                {
                                    "0": "Rabuse",
                                    "1": "Windsor"
                                },
                                {
                                    "0": "Violett",
                                    "1": "Laval"
                                },
                                {
                                    "0": "Stanfield",
                                    "1": "Yellowhead County"
                                },
                                {
                                    "0": "Christmann",
                                    "1": "Strathroy"
                                },
                                {
                                    "0": "Fucillo",
                                    "1": "North River"
                                },
                                {
                                    "0": "Yafuso",
                                    "1": "Ottawa"
                                },
                                {
                                    "0": "Polino",
                                    "1": "Becancour"
                                },
                                {
                                    "0": "Leko",
                                    "1": "Sault Ste. Marie"
                                },
                                {
                                    "0": "Winters",
                                    "1": "Salmon Arm"
                                },
                                {
                                    "0": "Jones",
                                    "1": "Richmond"
                                },
                                {
                                    "0": "Airhart",
                                    "1": "Calgary"
                                },
                                {
                                    "0": "Darbro",
                                    "1": "Vernon"
                                },
                                {
                                    "0": "Hagen",
                                    "1": "Saint-Hyacinthe"
                                },
                                {
                                    "0": "Armacost",
                                    "1": "Peterborough"
                                },
                                {
                                    "0": "Nelton",
                                    "1": "Quesnel"
                                },
                                {
                                    "0": "Wardle",
                                    "1": "Etobicoke"
                                },
                                {
                                    "0": "Sarchet",
                                    "1": "Regina"
                                },
                                {
                                    "0": "Thomas",
                                    "1": "Matane"
                                },
                                {
                                    "0": "Heard",
                                    "1": "Toronto"
                                },
                                {
                                    "0": "Burns",
                                    "1": "Cleveland"
                                }
                            ]
                        },
                        "text/html": [
                            "<table>",
                            "<tr><th>customer_last_name</th><th>city</th></tr>",
                            "<tr><td>Ellerbusch</td><td>Wanguri</td></tr>",
                            "<tr><td>Harris</td><td>Alvie</td></tr>",
                            "<tr><td>Harris</td><td>Wherrol Flat</td></tr>",
                            "<tr><td>Oto</td><td>Placid Hills</td></tr>",
                            "<tr><td>Geffers</td><td>Nedlands</td></tr>",
                            "<tr><td>Ploszaj</td><td>Auchenflower</td></tr>",
                            "<tr><td>Rael</td><td>Buninyong</td></tr>",
                            "<tr><td>Lobosco</td><td>Dangar Island</td></tr>",
                            "<tr><td>Aguele</td><td>Sunny Nook</td></tr>",
                            "<tr><td>Boudrie</td><td>Minden</td></tr>",
                            "<tr><td>Bonalumi</td><td>Tibradden</td></tr>",
                            "<tr><td>Landa</td><td>Clermont</td></tr>",
                            "<tr><td>Agar</td><td>Kadina</td></tr>",
                            "<tr><td>Kusko</td><td>New York</td></tr>",
                            "<tr><td>Horsham</td><td>Conroe</td></tr>",
                            "<tr><td>Corrio</td><td>Columbus</td></tr>",
                            "<tr><td>Vocelka</td><td>Las Cruces</td></tr>",
                            "<tr><td>Sawyer</td><td>Ridgefield Park</td></tr>",
                            "<tr><td>Glick</td><td>Dunellen</td></tr>",
                            "<tr><td>Sergi</td><td>New York</td></tr>",
                            "<tr><td>Shinko</td><td>Metairie</td></tr>",
                            "<tr><td>Stockham</td><td>New York</td></tr>",
                            "<tr><td>Ostrosky</td><td>Camarillo</td></tr>",
                            "<tr><td>Gillian</td><td>San Antonio</td></tr>",
                            "<tr><td>Rulapaugh</td><td>Abilene</td></tr>",
                            "<tr><td>Schemmer</td><td>Prineville</td></tr>",
                            "<tr><td>Oldroyd</td><td>Overland Park</td></tr>",
                            "<tr><td>Harris</td><td>St. Stephens Ward</td></tr>",
                            "<tr><td>Zigomalas</td><td>Abbey Ward</td></tr>",
                            "<tr><td>Andrade</td><td>Liverpool</td></tr>",
                            "<tr><td>Walters</td><td>Liverpool</td></tr>",
                            "<tr><td>Veness</td><td>Greets Green and Lyng Ward</td></tr>",
                            "<tr><td>Rampy</td><td>Desborough</td></tr>",
                            "<tr><td>Grasmick</td><td>Bargate Ward</td></tr>",
                            "<tr><td>Hisaw</td><td>Chirton Ward</td></tr>",
                            "<tr><td>Manzella</td><td>London</td></tr>",
                            "<tr><td>Klapec</td><td>Parwich</td></tr>",
                            "<tr><td>Writer</td><td>Wilmington</td></tr>",
                            "<tr><td>Erm</td><td>Loundsley Green Ward</td></tr>",
                            "<tr><td>Jaret</td><td>Dee Ward</td></tr>",
                            "<tr><td>Bruch</td><td>Broxburn, Uphall and Winchburg</td></tr>",
                            "<tr><td>Gastellum</td><td>Weston-Super-Mare</td></tr>",
                            "<tr><td>Jones</td><td>Carbrooke</td></tr>",
                            "<tr><td>Kanne</td><td>New Milton</td></tr>",
                            "<tr><td>Julio</td><td>Parkham</td></tr>",
                            "<tr><td>Spinello</td><td>Darnall Ward</td></tr>",
                            "<tr><td>Lapinski</td><td>Marldon</td></tr>",
                            "<tr><td>Gutierres</td><td>Manchester</td></tr>",
                            "<tr><td>Rautenstrauch</td><td>Windsor</td></tr>",
                            "<tr><td>Loud</td><td>Alcida</td></tr>",
                            "<tr><td>Bauswell</td><td>Belleville</td></tr>",
                            "<tr><td>Edmison</td><td>Vancouver</td></tr>",
                            "<tr><td>Fauci</td><td>LIle-Perrot</td></tr>",
                            "<tr><td>Jones</td><td>Swift Current</td></tr>",
                            "<tr><td>Portaro</td><td>Baker Brook</td></tr>",
                            "<tr><td>Opitz</td><td>Delhi</td></tr>",
                            "<tr><td>Steinhaus</td><td>Bradford</td></tr>",
                            "<tr><td>Vielma</td><td>Aurora</td></tr>",
                            "<tr><td>Bresser</td><td>New Waterford</td></tr>",
                            "<tr><td>Tijerina</td><td>North York</td></tr>",
                            "<tr><td>Henderson</td><td>Red Deer</td></tr>",
                            "<tr><td>Marcille</td><td>Edmonton</td></tr>",
                            "<tr><td>Warne</td><td>Fredericton</td></tr>",
                            "<tr><td>Lagos</td><td>Etobicoke</td></tr>",
                            "<tr><td>Pacholec</td><td>Barrie</td></tr>",
                            "<tr><td>Branin</td><td>Calgary</td></tr>",
                            "<tr><td>Billa</td><td>Pangman</td></tr>",
                            "<tr><td>Dudash</td><td>Rouyn-Noranda</td></tr>",
                            "<tr><td>Lablanc</td><td>Leduc</td></tr>",
                            "<tr><td>Randol</td><td>North Vancouver</td></tr>",
                            "<tr><td>Davis</td><td>London</td></tr>",
                            "<tr><td>Adams</td><td>Hamilton</td></tr>",
                            "<tr><td>Kardell</td><td>Pierrefonds</td></tr>",
                            "<tr><td>Rabuse</td><td>Windsor</td></tr>",
                            "<tr><td>Violett</td><td>Laval</td></tr>",
                            "<tr><td>Stanfield</td><td>Yellowhead County</td></tr>",
                            "<tr><td>Christmann</td><td>Strathroy</td></tr>",
                            "<tr><td>Fucillo</td><td>North River</td></tr>",
                            "<tr><td>Yafuso</td><td>Ottawa</td></tr>",
                            "<tr><td>Polino</td><td>Becancour</td></tr>",
                            "<tr><td>Leko</td><td>Sault Ste. Marie</td></tr>",
                            "<tr><td>Winters</td><td>Salmon Arm</td></tr>",
                            "<tr><td>Jones</td><td>Richmond</td></tr>",
                            "<tr><td>Airhart</td><td>Calgary</td></tr>",
                            "<tr><td>Darbro</td><td>Vernon</td></tr>",
                            "<tr><td>Hagen</td><td>Saint-Hyacinthe</td></tr>",
                            "<tr><td>Armacost</td><td>Peterborough</td></tr>",
                            "<tr><td>Nelton</td><td>Quesnel</td></tr>",
                            "<tr><td>Wardle</td><td>Etobicoke</td></tr>",
                            "<tr><td>Sarchet</td><td>Regina</td></tr>",
                            "<tr><td>Thomas</td><td>Matane</td></tr>",
                            "<tr><td>Heard</td><td>Toronto</td></tr>",
                            "<tr><td>Burns</td><td>Cleveland</td></tr>",
                            "</table>"
                        ]
                    }
                }
            ],
            "execution_count": 4
        },
        {
            "cell_type": "markdown",
            "source": [
                "### **Third SELECT Challenge**  \n",
                "\n",
                "Challenge: Use a SELECT statement to select all columns from the oes.order\\_items table."
            ],
            "metadata": {
                "azdata_cell_guid": "45ecb07d-ab16-410d-8fe9-c25b53306ef6"
            },
            "attachments": {}
        },
        {
            "cell_type": "code",
            "source": [
                "SELECT * FROM oes.order_items;"
            ],
            "metadata": {
                "azdata_cell_guid": "d381d656-f4ef-4b04-8694-4ffed1604b2c",
                "language": "sql"
            },
            "outputs": [
                {
                    "output_type": "display_data",
                    "data": {
                        "text/html": "(2155 rows affected)"
                    },
                    "metadata": {}
                },
                {
                    "output_type": "display_data",
                    "data": {
                        "text/html": "Total execution time: 00:00:00.059"
                    },
                    "metadata": {}
                },
                {
                    "output_type": "execute_result",
                    "metadata": {},
                    "execution_count": 5,
                    "data": {
                        "application/vnd.dataresource+json": {
                            "schema": {
                                "fields": [
                                    {
                                        "name": "order_id"
                                    },
                                    {
                                        "name": "product_id"
                                    },
                                    {
                                        "name": "unit_price"
                                    },
                                    {
                                        "name": "quantity"
                                    },
                                    {
                                        "name": "discount"
                                    }
                                ]
                            },
                            "data": [
                                {
                                    "0": "10248",
                                    "1": "11",
                                    "2": "632.0000",
                                    "3": "15",
                                    "4": "0.000"
                                },
                                {
                                    "0": "10248",
                                    "1": "42",
                                    "2": "1033.0000",
                                    "3": "12",
                                    "4": "0.000"
                                },
                                {
                                    "0": "10248",
                                    "1": "72",
                                    "2": "97.0100",
                                    "3": "8",
                                    "4": "0.000"
                                },
                                {
                                    "0": "10249",
                                    "1": "14",
                                    "2": "23.0200",
                                    "3": "2",
                                    "4": "0.000"
                                },
                                {
                                    "0": "10249",
                                    "1": "51",
                                    "2": "43.6000",
                                    "3": "14",
                                    "4": "0.000"
                                },
                                {
                                    "0": "10250",
                                    "1": "41",
                                    "2": "129.6100",
                                    "3": "1",
                                    "4": "0.000"
                                },
                                {
                                    "0": "10250",
                                    "1": "51",
                                    "2": "43.1600",
                                    "3": "11",
                                    "4": "0.150"
                                },
                                {
                                    "0": "10250",
                                    "1": "65",
                                    "2": "181.0200",
                                    "3": "9",
                                    "4": "0.150"
                                },
                                {
                                    "0": "10251",
                                    "1": "22",
                                    "2": "3594.2400",
                                    "3": "1",
                                    "4": "0.050"
                                },
                                {
                                    "0": "10251",
                                    "1": "57",
                                    "2": "2040.8800",
                                    "3": "1",
                                    "4": "0.050"
                                },
                                {
                                    "0": "10251",
                                    "1": "65",
                                    "2": "175.5400",
                                    "3": "6",
                                    "4": "0.000"
                                },
                                {
                                    "0": "10252",
                                    "1": "20",
                                    "2": "595.0000",
                                    "3": "9",
                                    "4": "0.050"
                                },
                                {
                                    "0": "10252",
                                    "1": "33",
                                    "2": "22.4800",
                                    "3": "7",
                                    "4": "0.050"
                                },
                                {
                                    "0": "10252",
                                    "1": "60",
                                    "2": "717.6000",
                                    "3": "9",
                                    "4": "0.000"
                                },
                                {
                                    "0": "10253",
                                    "1": "31",
                                    "2": "159.0000",
                                    "3": "6",
                                    "4": "0.000"
                                },
                                {
                                    "0": "10253",
                                    "1": "39",
                                    "2": "23.0000",
                                    "3": "1",
                                    "4": "0.000"
                                },
                                {
                                    "0": "10253",
                                    "1": "49",
                                    "2": "325.6200",
                                    "3": "14",
                                    "4": "0.000"
                                },
                                {
                                    "0": "10254",
                                    "1": "24",
                                    "2": "979.9900",
                                    "3": "1",
                                    "4": "0.150"
                                },
                                {
                                    "0": "10254",
                                    "1": "55",
                                    "2": "395.0000",
                                    "3": "12",
                                    "4": "0.150"
                                },
                                {
                                    "0": "10254",
                                    "1": "74",
                                    "2": "33.4800",
                                    "3": "14",
                                    "4": "0.000"
                                },
                                {
                                    "0": "10255",
                                    "1": "2",
                                    "2": "1469.0200",
                                    "3": "2",
                                    "4": "0.000"
                                },
                                {
                                    "0": "10255",
                                    "1": "16",
                                    "2": "555.8300",
                                    "3": "2",
                                    "4": "0.000"
                                },
                                {
                                    "0": "10255",
                                    "1": "36",
                                    "2": "675.0700",
                                    "3": "1",
                                    "4": "0.000"
                                },
                                {
                                    "0": "10255",
                                    "1": "59",
                                    "2": "1397.4800",
                                    "3": "1",
                                    "4": "0.000"
                                },
                                {
                                    "0": "10256",
                                    "1": "53",
                                    "2": "291.0000",
                                    "3": "8",
                                    "4": "0.000"
                                },
                                {
                                    "0": "10256",
                                    "1": "77",
                                    "2": "126.2200",
                                    "3": "10",
                                    "4": "0.000"
                                },
                                {
                                    "0": "10257",
                                    "1": "27",
                                    "2": "239.0400",
                                    "3": "10",
                                    "4": "0.000"
                                },
                                {
                                    "0": "10257",
                                    "1": "39",
                                    "2": "22.3100",
                                    "3": "15",
                                    "4": "0.000"
                                },
                                {
                                    "0": "10257",
                                    "1": "77",
                                    "2": "124.9400",
                                    "3": "9",
                                    "4": "0.000"
                                },
                                {
                                    "0": "10258",
                                    "1": "2",
                                    "2": "1499.0000",
                                    "3": "11",
                                    "4": "0.200"
                                },
                                {
                                    "0": "10258",
                                    "1": "5",
                                    "2": "149.0000",
                                    "3": "12",
                                    "4": "0.200"
                                },
                                {
                                    "0": "10258",
                                    "1": "32",
                                    "2": "253.8100",
                                    "3": "12",
                                    "4": "0.200"
                                },
                                {
                                    "0": "10259",
                                    "1": "21",
                                    "2": "617.2700",
                                    "3": "7",
                                    "4": "0.000"
                                },
                                {
                                    "0": "10259",
                                    "1": "37",
                                    "2": "230.7400",
                                    "3": "14",
                                    "4": "0.000"
                                },
                                {
                                    "0": "10260",
                                    "1": "41",
                                    "2": "130.9300",
                                    "3": "9",
                                    "4": "0.250"
                                },
                                {
                                    "0": "10260",
                                    "1": "57",
                                    "2": "2019.8400",
                                    "3": "1",
                                    "4": "0.000"
                                },
                                {
                                    "0": "10260",
                                    "1": "62",
                                    "2": "69.9900",
                                    "3": "6",
                                    "4": "0.250"
                                },
                                {
                                    "0": "10260",
                                    "1": "70",
                                    "2": "84.0000",
                                    "3": "2",
                                    "4": "0.250"
                                },
                                {
                                    "0": "10261",
                                    "1": "21",
                                    "2": "611.0300",
                                    "3": "1",
                                    "4": "0.000"
                                },
                                {
                                    "0": "10261",
                                    "1": "35",
                                    "2": "67.6200",
                                    "3": "10",
                                    "4": "0.000"
                                },
                                {
                                    "0": "10262",
                                    "1": "5",
                                    "2": "147.5100",
                                    "3": "7",
                                    "4": "0.200"
                                },
                                {
                                    "0": "10262",
                                    "1": "7",
                                    "2": "38.2200",
                                    "3": "2",
                                    "4": "0.000"
                                },
                                {
                                    "0": "10262",
                                    "1": "56",
                                    "2": "1754.1900",
                                    "3": "2",
                                    "4": "0.000"
                                },
                                {
                                    "0": "10263",
                                    "1": "16",
                                    "2": "555.8300",
                                    "3": "5",
                                    "4": "0.250"
                                },
                                {
                                    "0": "10263",
                                    "1": "24",
                                    "2": "969.9900",
                                    "3": "12",
                                    "4": "0.000"
                                },
                                {
                                    "0": "10263",
                                    "1": "30",
                                    "2": "346.4400",
                                    "3": "13",
                                    "4": "0.250"
                                },
                                {
                                    "0": "10263",
                                    "1": "74",
                                    "2": "32.4700",
                                    "3": "4",
                                    "4": "0.250"
                                },
                                {
                                    "0": "10264",
                                    "1": "2",
                                    "2": "1499.0000",
                                    "3": "2",
                                    "4": "0.000"
                                },
                                {
                                    "0": "10264",
                                    "1": "41",
                                    "2": "129.6100",
                                    "3": "14",
                                    "4": "0.150"
                                },
                                {
                                    "0": "10265",
                                    "1": "17",
                                    "2": "386.0600",
                                    "3": "6",
                                    "4": "0.000"
                                },
                                {
                                    "0": "10265",
                                    "1": "70",
                                    "2": "82.3200",
                                    "3": "10",
                                    "4": "0.000"
                                },
                                {
                                    "0": "10266",
                                    "1": "12",
                                    "2": "445.2300",
                                    "3": "3",
                                    "4": "0.050"
                                },
                                {
                                    "0": "10267",
                                    "1": "40",
                                    "2": "186.5800",
                                    "3": "4",
                                    "4": "0.000"
                                },
                                {
                                    "0": "10267",
                                    "1": "59",
                                    "2": "1411.7400",
                                    "3": "2",
                                    "4": "0.150"
                                },
                                {
                                    "0": "10267",
                                    "1": "76",
                                    "2": "66.6400",
                                    "3": "8",
                                    "4": "0.150"
                                },
                                {
                                    "0": "10268",
                                    "1": "29",
                                    "2": "346.5000",
                                    "3": "15",
                                    "4": "0.000"
                                },
                                {
                                    "0": "10268",
                                    "1": "72",
                                    "2": "96.0200",
                                    "3": "15",
                                    "4": "0.000"
                                },
                                {
                                    "0": "10269",
                                    "1": "33",
                                    "2": "22.2500",
                                    "3": "11",
                                    "4": "0.050"
                                },
                                {
                                    "0": "10269",
                                    "1": "72",
                                    "2": "96.0200",
                                    "3": "2",
                                    "4": "0.050"
                                },
                                {
                                    "0": "10270",
                                    "1": "36",
                                    "2": "675.0700",
                                    "3": "7",
                                    "4": "0.000"
                                },
                                {
                                    "0": "10270",
                                    "1": "43",
                                    "2": "83.3700",
                                    "3": "14",
                                    "4": "0.000"
                                },
                                {
                                    "0": "10271",
                                    "1": "33",
                                    "2": "22.7100",
                                    "3": "3",
                                    "4": "0.000"
                                },
                                {
                                    "0": "10272",
                                    "1": "20",
                                    "2": "577.1500",
                                    "3": "14",
                                    "4": "0.000"
                                },
                                {
                                    "0": "10272",
                                    "1": "31",
                                    "2": "155.8200",
                                    "3": "11",
                                    "4": "0.000"
                                },
                                {
                                    "0": "10272",
                                    "1": "72",
                                    "2": "98.9900",
                                    "3": "9",
                                    "4": "0.000"
                                },
                                {
                                    "0": "10273",
                                    "1": "10",
                                    "2": "747.8400",
                                    "3": "13",
                                    "4": "0.050"
                                },
                                {
                                    "0": "10273",
                                    "1": "31",
                                    "2": "154.2300",
                                    "3": "9",
                                    "4": "0.050"
                                },
                                {
                                    "0": "10273",
                                    "1": "33",
                                    "2": "22.2500",
                                    "3": "15",
                                    "4": "0.000"
                                },
                                {
                                    "0": "10273",
                                    "1": "40",
                                    "2": "192.4100",
                                    "3": "8",
                                    "4": "0.050"
                                },
                                {
                                    "0": "10273",
                                    "1": "76",
                                    "2": "65.9600",
                                    "3": "7",
                                    "4": "0.050"
                                },
                                {
                                    "0": "10274",
                                    "1": "71",
                                    "2": "409.0000",
                                    "3": "4",
                                    "4": "0.000"
                                },
                                {
                                    "0": "10274",
                                    "1": "72",
                                    "2": "98.9900",
                                    "3": "7",
                                    "4": "0.000"
                                },
                                {
                                    "0": "10275",
                                    "1": "24",
                                    "2": "999.9900",
                                    "3": "5",
                                    "4": "0.050"
                                },
                                {
                                    "0": "10275",
                                    "1": "59",
                                    "2": "1368.9600",
                                    "3": "3",
                                    "4": "0.050"
                                },
                                {
                                    "0": "10276",
                                    "1": "10",
                                    "2": "763.4200",
                                    "3": "6",
                                    "4": "0.000"
                                },
                                {
                                    "0": "10276",
                                    "1": "13",
                                    "2": "56.6400",
                                    "3": "9",
                                    "4": "0.000"
                                },
                                {
                                    "0": "10277",
                                    "1": "28",
                                    "2": "31.0400",
                                    "3": "12",
                                    "4": "0.000"
                                },
                                {
                                    "0": "10277",
                                    "1": "62",
                                    "2": "69.9900",
                                    "3": "3",
                                    "4": "0.000"
                                },
                                {
                                    "0": "10278",
                                    "1": "44",
                                    "2": "578.9900",
                                    "3": "8",
                                    "4": "0.000"
                                },
                                {
                                    "0": "10278",
                                    "1": "59",
                                    "2": "1426.0000",
                                    "3": "10",
                                    "4": "0.000"
                                },
                                {
                                    "0": "10278",
                                    "1": "63",
                                    "2": "1823.0400",
                                    "3": "3",
                                    "4": "0.000"
                                },
                                {
                                    "0": "10278",
                                    "1": "73",
                                    "2": "189.1300",
                                    "3": "2",
                                    "4": "0.000"
                                },
                                {
                                    "0": "10279",
                                    "1": "17",
                                    "2": "390.0400",
                                    "3": "12",
                                    "4": "0.250"
                                },
                                {
                                    "0": "10280",
                                    "1": "24",
                                    "2": "979.9900",
                                    "3": "3",
                                    "4": "0.000"
                                },
                                {
                                    "0": "10280",
                                    "1": "55",
                                    "2": "391.0100",
                                    "3": "8",
                                    "4": "0.000"
                                },
                                {
                                    "0": "10280",
                                    "1": "75",
                                    "2": "53.4500",
                                    "3": "6",
                                    "4": "0.000"
                                },
                                {
                                    "0": "10281",
                                    "1": "19",
                                    "2": "652.4100",
                                    "3": "12",
                                    "4": "0.000"
                                },
                                {
                                    "0": "10281",
                                    "1": "24",
                                    "2": "979.9900",
                                    "3": "9",
                                    "4": "0.000"
                                },
                                {
                                    "0": "10281",
                                    "1": "35",
                                    "2": "67.6200",
                                    "3": "12",
                                    "4": "0.000"
                                },
                                {
                                    "0": "10282",
                                    "1": "30",
                                    "2": "349.9400",
                                    "3": "14",
                                    "4": "0.000"
                                },
                                {
                                    "0": "10282",
                                    "1": "57",
                                    "2": "2019.8400",
                                    "3": "1",
                                    "4": "0.000"
                                },
                                {
                                    "0": "10283",
                                    "1": "15",
                                    "2": "276.2000",
                                    "3": "8",
                                    "4": "0.000"
                                },
                                {
                                    "0": "10283",
                                    "1": "19",
                                    "2": "639.2300",
                                    "3": "5",
                                    "4": "0.000"
                                },
                                {
                                    "0": "10283",
                                    "1": "60",
                                    "2": "732.5500",
                                    "3": "14",
                                    "4": "0.000"
                                },
                                {
                                    "0": "10283",
                                    "1": "72",
                                    "2": "95.0300",
                                    "3": "5",
                                    "4": "0.000"
                                },
                                {
                                    "0": "10284",
                                    "1": "27",
                                    "2": "249.0000",
                                    "3": "7",
                                    "4": "0.250"
                                },
                                {
                                    "0": "10284",
                                    "1": "44",
                                    "2": "573.2000",
                                    "3": "7",
                                    "4": "0.000"
                                },
                                {
                                    "0": "10284",
                                    "1": "60",
                                    "2": "740.0300",
                                    "3": "10",
                                    "4": "0.250"
                                },
                                {
                                    "0": "10284",
                                    "1": "67",
                                    "2": "19.8000",
                                    "3": "1",
                                    "4": "0.250"
                                },
                                {
                                    "0": "10285",
                                    "1": "1",
                                    "2": "1247.0400",
                                    "3": "2",
                                    "4": "0.200"
                                },
                                {
                                    "0": "10285",
                                    "1": "40",
                                    "2": "194.3500",
                                    "3": "5",
                                    "4": "0.200"
                                },
                                {
                                    "0": "10285",
                                    "1": "53",
                                    "2": "294.0000",
                                    "3": "14",
                                    "4": "0.200"
                                },
                                {
                                    "0": "10286",
                                    "1": "35",
                                    "2": "66.9300",
                                    "3": "1",
                                    "4": "0.000"
                                },
                                {
                                    "0": "10286",
                                    "1": "62",
                                    "2": "69.2900",
                                    "3": "11",
                                    "4": "0.000"
                                },
                                {
                                    "0": "10287",
                                    "1": "16",
                                    "2": "567.4100",
                                    "3": "5",
                                    "4": "0.150"
                                },
                                {
                                    "0": "10287",
                                    "1": "34",
                                    "2": "1439.0400",
                                    "3": "4",
                                    "4": "0.000"
                                },
                                {
                                    "0": "10287",
                                    "1": "46",
                                    "2": "74.7500",
                                    "3": "8",
                                    "4": "0.150"
                                },
                                {
                                    "0": "10288",
                                    "1": "54",
                                    "2": "641.4100",
                                    "3": "8",
                                    "4": "0.100"
                                },
                                {
                                    "0": "10288",
                                    "1": "68",
                                    "2": "48.9900",
                                    "3": "9",
                                    "4": "0.100"
                                },
                                {
                                    "0": "10289",
                                    "1": "3",
                                    "2": "775.0300",
                                    "3": "13",
                                    "4": "0.000"
                                },
                                {
                                    "0": "10289",
                                    "1": "64",
                                    "2": "1535.0300",
                                    "3": "15",
                                    "4": "0.000"
                                },
                                {
                                    "0": "10290",
                                    "1": "5",
                                    "2": "146.0200",
                                    "3": "11",
                                    "4": "0.000"
                                },
                                {
                                    "0": "10290",
                                    "1": "29",
                                    "2": "350.0000",
                                    "3": "15",
                                    "4": "0.000"
                                },
                                {
                                    "0": "10290",
                                    "1": "49",
                                    "2": "315.8500",
                                    "3": "4",
                                    "4": "0.000"
                                },
                                {
                                    "0": "10290",
                                    "1": "77",
                                    "2": "123.6500",
                                    "3": "9",
                                    "4": "0.000"
                                },
                                {
                                    "0": "10291",
                                    "1": "13",
                                    "2": "58.4100",
                                    "3": "3",
                                    "4": "0.100"
                                },
                                {
                                    "0": "10291",
                                    "1": "44",
                                    "2": "578.9900",
                                    "3": "4",
                                    "4": "0.100"
                                },
                                {
                                    "0": "10291",
                                    "1": "51",
                                    "2": "43.6000",
                                    "3": "7",
                                    "4": "0.100"
                                },
                                {
                                    "0": "10292",
                                    "1": "20",
                                    "2": "583.1000",
                                    "3": "7",
                                    "4": "0.000"
                                },
                                {
                                    "0": "10293",
                                    "1": "18",
                                    "2": "28.1800",
                                    "3": "13",
                                    "4": "0.000"
                                },
                                {
                                    "0": "10293",
                                    "1": "24",
                                    "2": "989.9900",
                                    "3": "4",
                                    "4": "0.000"
                                },
                                {
                                    "0": "10293",
                                    "1": "63",
                                    "2": "1861.0200",
                                    "3": "1",
                                    "4": "0.000"
                                },
                                {
                                    "0": "10293",
                                    "1": "75",
                                    "2": "53.9900",
                                    "3": "10",
                                    "4": "0.000"
                                },
                                {
                                    "0": "10294",
                                    "1": "1",
                                    "2": "1247.0400",
                                    "3": "1",
                                    "4": "0.000"
                                },
                                {
                                    "0": "10294",
                                    "1": "17",
                                    "2": "390.0400",
                                    "3": "13",
                                    "4": "0.000"
                                },
                                {
                                    "0": "10294",
                                    "1": "43",
                                    "2": "85.0900",
                                    "3": "12",
                                    "4": "0.000"
                                },
                                {
                                    "0": "10294",
                                    "1": "60",
                                    "2": "717.6000",
                                    "3": "5",
                                    "4": "0.000"
                                },
                                {
                                    "0": "10294",
                                    "1": "75",
                                    "2": "53.4500",
                                    "3": "15",
                                    "4": "0.000"
                                },
                                {
                                    "0": "10295",
                                    "1": "56",
                                    "2": "1789.9900",
                                    "3": "1",
                                    "4": "0.000"
                                },
                                {
                                    "0": "10296",
                                    "1": "11",
                                    "2": "632.0000",
                                    "3": "7",
                                    "4": "0.000"
                                },
                                {
                                    "0": "10296",
                                    "1": "16",
                                    "2": "573.2000",
                                    "3": "9",
                                    "4": "0.000"
                                },
                                {
                                    "0": "10296",
                                    "1": "69",
                                    "2": "319.6700",
                                    "3": "1",
                                    "4": "0.000"
                                },
                                {
                                    "0": "10297",
                                    "1": "39",
                                    "2": "23.0000",
                                    "3": "1",
                                    "4": "0.000"
                                },
                                {
                                    "0": "10297",
                                    "1": "72",
                                    "2": "95.0300",
                                    "3": "12",
                                    "4": "0.000"
                                },
                                {
                                    "0": "10298",
                                    "1": "2",
                                    "2": "1454.0300",
                                    "3": "4",
                                    "4": "0.000"
                                },
                                {
                                    "0": "10298",
                                    "1": "36",
                                    "2": "688.8500",
                                    "3": "3",
                                    "4": "0.250"
                                },
                                {
                                    "0": "10298",
                                    "1": "59",
                                    "2": "1383.2200",
                                    "3": "3",
                                    "4": "0.250"
                                },
                                {
                                    "0": "10298",
                                    "1": "62",
                                    "2": "69.2900",
                                    "3": "11",
                                    "4": "0.000"
                                },
                                {
                                    "0": "10299",
                                    "1": "19",
                                    "2": "639.2300",
                                    "3": "13",
                                    "4": "0.000"
                                },
                                {
                                    "0": "10299",
                                    "1": "70",
                                    "2": "81.4800",
                                    "3": "6",
                                    "4": "0.000"
                                },
                                {
                                    "0": "10300",
                                    "1": "66",
                                    "2": "79.1200",
                                    "3": "15",
                                    "4": "0.000"
                                },
                                {
                                    "0": "10300",
                                    "1": "68",
                                    "2": "49.4900",
                                    "3": "10",
                                    "4": "0.000"
                                },
                                {
                                    "0": "10301",
                                    "1": "40",
                                    "2": "188.5200",
                                    "3": "3",
                                    "4": "0.000"
                                },
                                {
                                    "0": "10301",
                                    "1": "56",
                                    "2": "1789.9900",
                                    "3": "1",
                                    "4": "0.000"
                                },
                                {
                                    "0": "10302",
                                    "1": "17",
                                    "2": "386.0600",
                                    "3": "6",
                                    "4": "0.000"
                                },
                                {
                                    "0": "10302",
                                    "1": "28",
                                    "2": "31.6800",
                                    "3": "7",
                                    "4": "0.000"
                                },
                                {
                                    "0": "10302",
                                    "1": "43",
                                    "2": "84.2300",
                                    "3": "6",
                                    "4": "0.000"
                                },
                                {
                                    "0": "10303",
                                    "1": "40",
                                    "2": "188.5200",
                                    "3": "7",
                                    "4": "0.100"
                                },
                                {
                                    "0": "10303",
                                    "1": "65",
                                    "2": "182.8500",
                                    "3": "5",
                                    "4": "0.100"
                                },
                                {
                                    "0": "10303",
                                    "1": "68",
                                    "2": "48.4900",
                                    "3": "7",
                                    "4": "0.100"
                                },
                                {
                                    "0": "10304",
                                    "1": "49",
                                    "2": "315.8500",
                                    "3": "9",
                                    "4": "0.000"
                                },
                                {
                                    "0": "10304",
                                    "1": "59",
                                    "2": "1383.2200",
                                    "3": "8",
                                    "4": "0.000"
                                },
                                {
                                    "0": "10304",
                                    "1": "71",
                                    "2": "392.6400",
                                    "3": "6",
                                    "4": "0.000"
                                },
                                {
                                    "0": "10305",
                                    "1": "18",
                                    "2": "27.6000",
                                    "3": "13",
                                    "4": "0.100"
                                },
                                {
                                    "0": "10305",
                                    "1": "29",
                                    "2": "339.5000",
                                    "3": "9",
                                    "4": "0.100"
                                },
                                {
                                    "0": "10305",
                                    "1": "39",
                                    "2": "22.3100",
                                    "3": "5",
                                    "4": "0.100"
                                },
                                {
                                    "0": "10306",
                                    "1": "30",
                                    "2": "335.9400",
                                    "3": "15",
                                    "4": "0.000"
                                },
                                {
                                    "0": "10306",
                                    "1": "53",
                                    "2": "300.0000",
                                    "3": "12",
                                    "4": "0.000"
                                },
                                {
                                    "0": "10306",
                                    "1": "54",
                                    "2": "634.8000",
                                    "3": "7",
                                    "4": "0.000"
                                },
                                {
                                    "0": "10307",
                                    "1": "62",
                                    "2": "69.9900",
                                    "3": "13",
                                    "4": "0.000"
                                },
                                {
                                    "0": "10307",
                                    "1": "68",
                                    "2": "48.4900",
                                    "3": "13",
                                    "4": "0.000"
                                },
                                {
                                    "0": "10308",
                                    "1": "69",
                                    "2": "329.6600",
                                    "3": "3",
                                    "4": "0.000"
                                },
                                {
                                    "0": "10308",
                                    "1": "70",
                                    "2": "81.4800",
                                    "3": "13",
                                    "4": "0.000"
                                },
                                {
                                    "0": "10309",
                                    "1": "4",
                                    "2": "345.5000",
                                    "3": "15",
                                    "4": "0.000"
                                },
                                {
                                    "0": "10309",
                                    "1": "6",
                                    "2": "106.8200",
                                    "3": "9",
                                    "4": "0.000"
                                },
                                {
                                    "0": "10309",
                                    "1": "42",
                                    "2": "991.6800",
                                    "3": "5",
                                    "4": "0.000"
                                },
                                {
                                    "0": "10309",
                                    "1": "43",
                                    "2": "84.2300",
                                    "3": "7",
                                    "4": "0.000"
                                },
                                {
                                    "0": "10309",
                                    "1": "71",
                                    "2": "392.6400",
                                    "3": "2",
                                    "4": "0.000"
                                },
                                {
                                    "0": "10310",
                                    "1": "16",
                                    "2": "567.4100",
                                    "3": "10",
                                    "4": "0.000"
                                },
                                {
                                    "0": "10310",
                                    "1": "62",
                                    "2": "67.1900",
                                    "3": "4",
                                    "4": "0.000"
                                },
                                {
                                    "0": "10311",
                                    "1": "42",
                                    "2": "1033.0000",
                                    "3": "10",
                                    "4": "0.000"
                                },
                                {
                                    "0": "10311",
                                    "1": "69",
                                    "2": "319.6700",
                                    "3": "4",
                                    "4": "0.000"
                                },
                                {
                                    "0": "10312",
                                    "1": "28",
                                    "2": "30.7200",
                                    "3": "2",
                                    "4": "0.000"
                                },
                                {
                                    "0": "10312",
                                    "1": "43",
                                    "2": "84.2300",
                                    "3": "10",
                                    "4": "0.000"
                                },
                                {
                                    "0": "10312",
                                    "1": "53",
                                    "2": "297.0000",
                                    "3": "6",
                                    "4": "0.000"
                                },
                                {
                                    "0": "10312",
                                    "1": "75",
                                    "2": "52.3700",
                                    "3": "9",
                                    "4": "0.000"
                                },
                                {
                                    "0": "10313",
                                    "1": "36",
                                    "2": "688.8500",
                                    "3": "14",
                                    "4": "0.000"
                                },
                                {
                                    "0": "10314",
                                    "1": "32",
                                    "2": "251.2200",
                                    "3": "12",
                                    "4": "0.100"
                                },
                                {
                                    "0": "10314",
                                    "1": "58",
                                    "2": "97.0100",
                                    "3": "14",
                                    "4": "0.100"
                                },
                                {
                                    "0": "10314",
                                    "1": "62",
                                    "2": "68.5900",
                                    "3": "7",
                                    "4": "0.100"
                                },
                                {
                                    "0": "10315",
                                    "1": "34",
                                    "2": "1499.0000",
                                    "3": "14",
                                    "4": "0.000"
                                },
                                {
                                    "0": "10315",
                                    "1": "70",
                                    "2": "82.3200",
                                    "3": "2",
                                    "4": "0.000"
                                },
                                {
                                    "0": "10316",
                                    "1": "41",
                                    "2": "130.9300",
                                    "3": "15",
                                    "4": "0.000"
                                },
                                {
                                    "0": "10316",
                                    "1": "62",
                                    "2": "69.2900",
                                    "3": "11",
                                    "4": "0.000"
                                },
                                {
                                    "0": "10317",
                                    "1": "1",
                                    "2": "1286.0100",
                                    "3": "2",
                                    "4": "0.000"
                                },
                                {
                                    "0": "10318",
                                    "1": "41",
                                    "2": "129.6100",
                                    "3": "6",
                                    "4": "0.000"
                                },
                                {
                                    "0": "10318",
                                    "1": "76",
                                    "2": "67.3200",
                                    "3": "10",
                                    "4": "0.000"
                                },
                                {
                                    "0": "10319",
                                    "1": "17",
                                    "2": "394.0200",
                                    "3": "8",
                                    "4": "0.000"
                                },
                                {
                                    "0": "10319",
                                    "1": "28",
                                    "2": "31.3600",
                                    "3": "9",
                                    "4": "0.000"
                                },
                                {
                                    "0": "10319",
                                    "1": "76",
                                    "2": "65.2800",
                                    "3": "11",
                                    "4": "0.000"
                                },
                                {
                                    "0": "10320",
                                    "1": "71",
                                    "2": "409.0000",
                                    "3": "5",
                                    "4": "0.000"
                                },
                                {
                                    "0": "10321",
                                    "1": "35",
                                    "2": "66.2400",
                                    "3": "13",
                                    "4": "0.000"
                                },
                                {
                                    "0": "10322",
                                    "1": "52",
                                    "2": "421.7300",
                                    "3": "5",
                                    "4": "0.000"
                                },
                                {
                                    "0": "10323",
                                    "1": "15",
                                    "2": "278.9900",
                                    "3": "3",
                                    "4": "0.000"
                                },
                                {
                                    "0": "10323",
                                    "1": "25",
                                    "2": "898.9900",
                                    "3": "8",
                                    "4": "0.000"
                                },
                                {
                                    "0": "10323",
                                    "1": "39",
                                    "2": "22.0800",
                                    "3": "5",
                                    "4": "0.000"
                                },
                                {
                                    "0": "10324",
                                    "1": "16",
                                    "2": "573.2000",
                                    "3": "14",
                                    "4": "0.150"
                                },
                                {
                                    "0": "10324",
                                    "1": "35",
                                    "2": "66.9300",
                                    "3": "7",
                                    "4": "0.150"
                                },
                                {
                                    "0": "10324",
                                    "1": "46",
                                    "2": "72.5100",
                                    "3": "8",
                                    "4": "0.000"
                                },
                                {
                                    "0": "10324",
                                    "1": "59",
                                    "2": "1383.2200",
                                    "3": "1",
                                    "4": "0.150"
                                },
                                {
                                    "0": "10324",
                                    "1": "63",
                                    "2": "1861.0200",
                                    "3": "14",
                                    "4": "0.150"
                                },
                                {
                                    "0": "10325",
                                    "1": "6",
                                    "2": "107.9100",
                                    "3": "13",
                                    "4": "0.000"
                                },
                                {
                                    "0": "10325",
                                    "1": "13",
                                    "2": "57.8200",
                                    "3": "14",
                                    "4": "0.000"
                                },
                                {
                                    "0": "10325",
                                    "1": "14",
                                    "2": "23.0200",
                                    "3": "2",
                                    "4": "0.000"
                                },
                                {
                                    "0": "10325",
                                    "1": "31",
                                    "2": "159.0000",
                                    "3": "3",
                                    "4": "0.000"
                                },
                                {
                                    "0": "10325",
                                    "1": "72",
                                    "2": "98.9900",
                                    "3": "9",
                                    "4": "0.000"
                                },
                                {
                                    "0": "10326",
                                    "1": "4",
                                    "2": "335.0300",
                                    "3": "15",
                                    "4": "0.000"
                                },
                                {
                                    "0": "10326",
                                    "1": "57",
                                    "2": "2061.9200",
                                    "3": "6",
                                    "4": "0.000"
                                },
                                {
                                    "0": "10326",
                                    "1": "75",
                                    "2": "53.9900",
                                    "3": "12",
                                    "4": "0.000"
                                },
                                {
                                    "0": "10327",
                                    "1": "2",
                                    "2": "1454.0300",
                                    "3": "6",
                                    "4": "0.200"
                                },
                                {
                                    "0": "10327",
                                    "1": "11",
                                    "2": "619.3600",
                                    "3": "3",
                                    "4": "0.200"
                                },
                                {
                                    "0": "10327",
                                    "1": "30",
                                    "2": "349.9400",
                                    "3": "11",
                                    "4": "0.200"
                                },
                                {
                                    "0": "10327",
                                    "1": "58",
                                    "2": "97.0100",
                                    "3": "10",
                                    "4": "0.200"
                                },
                                {
                                    "0": "10328",
                                    "1": "59",
                                    "2": "1383.2200",
                                    "3": "13",
                                    "4": "0.000"
                                },
                                {
                                    "0": "10328",
                                    "1": "65",
                                    "2": "182.8500",
                                    "3": "2",
                                    "4": "0.000"
                                },
                                {
                                    "0": "10328",
                                    "1": "68",
                                    "2": "47.9900",
                                    "3": "5",
                                    "4": "0.000"
                                },
                                {
                                    "0": "10329",
                                    "1": "19",
                                    "2": "645.8200",
                                    "3": "1",
                                    "4": "0.050"
                                },
                                {
                                    "0": "10329",
                                    "1": "30",
                                    "2": "335.9400",
                                    "3": "1",
                                    "4": "0.050"
                                },
                                {
                                    "0": "10329",
                                    "1": "38",
                                    "2": "339.5000",
                                    "3": "8",
                                    "4": "0.050"
                                },
                                {
                                    "0": "10329",
                                    "1": "56",
                                    "2": "1718.3900",
                                    "3": "7",
                                    "4": "0.050"
                                },
                                {
                                    "0": "10330",
                                    "1": "26",
                                    "2": "2392.0000",
                                    "3": "12",
                                    "4": "0.200"
                                },
                                {
                                    "0": "10330",
                                    "1": "72",
                                    "2": "97.0100",
                                    "3": "7",
                                    "4": "0.150"
                                },
                                {
                                    "0": "10331",
                                    "1": "54",
                                    "2": "654.6400",
                                    "3": "6",
                                    "4": "0.000"
                                },
                                {
                                    "0": "10332",
                                    "1": "18",
                                    "2": "28.7500",
                                    "3": "3",
                                    "4": "0.200"
                                },
                                {
                                    "0": "10332",
                                    "1": "42",
                                    "2": "1012.3400",
                                    "3": "14",
                                    "4": "0.200"
                                },
                                {
                                    "0": "10332",
                                    "1": "47",
                                    "2": "979.1100",
                                    "3": "5",
                                    "4": "0.200"
                                },
                                {
                                    "0": "10333",
                                    "1": "14",
                                    "2": "22.5500",
                                    "3": "11",
                                    "4": "0.000"
                                },
                                {
                                    "0": "10333",
                                    "1": "21",
                                    "2": "623.5000",
                                    "3": "13",
                                    "4": "0.100"
                                },
                                {
                                    "0": "10333",
                                    "1": "71",
                                    "2": "409.0000",
                                    "3": "15",
                                    "4": "0.100"
                                },
                                {
                                    "0": "10334",
                                    "1": "52",
                                    "2": "408.9500",
                                    "3": "1",
                                    "4": "0.000"
                                },
                                {
                                    "0": "10334",
                                    "1": "68",
                                    "2": "48.4900",
                                    "3": "5",
                                    "4": "0.000"
                                },
                                {
                                    "0": "10335",
                                    "1": "2",
                                    "2": "1469.0200",
                                    "3": "2",
                                    "4": "0.000"
                                },
                                {
                                    "0": "10335",
                                    "1": "31",
                                    "2": "155.8200",
                                    "3": "1",
                                    "4": "0.200"
                                },
                                {
                                    "0": "10335",
                                    "1": "32",
                                    "2": "251.2200",
                                    "3": "8",
                                    "4": "0.200"
                                },
                                {
                                    "0": "10335",
                                    "1": "51",
                                    "2": "42.7100",
                                    "3": "14",
                                    "4": "0.200"
                                },
                                {
                                    "0": "10336",
                                    "1": "4",
                                    "2": "345.5000",
                                    "3": "7",
                                    "4": "0.100"
                                },
                                {
                                    "0": "10337",
                                    "1": "23",
                                    "2": "336.9100",
                                    "3": "2",
                                    "4": "0.000"
                                },
                                {
                                    "0": "10337",
                                    "1": "26",
                                    "2": "2466.7500",
                                    "3": "7",
                                    "4": "0.000"
                                },
                                {
                                    "0": "10337",
                                    "1": "36",
                                    "2": "688.8500",
                                    "3": "6",
                                    "4": "0.000"
                                },
                                {
                                    "0": "10337",
                                    "1": "37",
                                    "2": "235.5400",
                                    "3": "12",
                                    "4": "0.000"
                                },
                                {
                                    "0": "10337",
                                    "1": "72",
                                    "2": "97.0100",
                                    "3": "7",
                                    "4": "0.000"
                                },
                                {
                                    "0": "10338",
                                    "1": "17",
                                    "2": "390.0400",
                                    "3": "2",
                                    "4": "0.000"
                                },
                                {
                                    "0": "10338",
                                    "1": "30",
                                    "2": "349.9400",
                                    "3": "14",
                                    "4": "0.000"
                                },
                                {
                                    "0": "10339",
                                    "1": "4",
                                    "2": "335.0300",
                                    "3": "11",
                                    "4": "0.000"
                                },
                                {
                                    "0": "10339",
                                    "1": "17",
                                    "2": "382.0800",
                                    "3": "7",
                                    "4": "0.050"
                                },
                                {
                                    "0": "10339",
                                    "1": "62",
                                    "2": "67.1900",
                                    "3": "12",
                                    "4": "0.000"
                                },
                                {
                                    "0": "10340",
                                    "1": "18",
                                    "2": "28.1800",
                                    "3": "9",
                                    "4": "0.050"
                                },
                                {
                                    "0": "10340",
                                    "1": "41",
                                    "2": "130.9300",
                                    "3": "13",
                                    "4": "0.050"
                                },
                                {
                                    "0": "10340",
                                    "1": "43",
                                    "2": "84.2300",
                                    "3": "8",
                                    "4": "0.050"
                                },
                                {
                                    "0": "10341",
                                    "1": "33",
                                    "2": "22.7100",
                                    "3": "5",
                                    "4": "0.000"
                                },
                                {
                                    "0": "10341",
                                    "1": "59",
                                    "2": "1426.0000",
                                    "3": "15",
                                    "4": "0.150"
                                },
                                {
                                    "0": "10342",
                                    "1": "2",
                                    "2": "1454.0300",
                                    "3": "7",
                                    "4": "0.200"
                                },
                                {
                                    "0": "10342",
                                    "1": "31",
                                    "2": "159.0000",
                                    "3": "15",
                                    "4": "0.200"
                                },
                                {
                                    "0": "10342",
                                    "1": "36",
                                    "2": "681.9600",
                                    "3": "15",
                                    "4": "0.200"
                                },
                                {
                                    "0": "10342",
                                    "1": "55",
                                    "2": "387.0200",
                                    "3": "15",
                                    "4": "0.200"
                                },
                                {
                                    "0": "10343",
                                    "1": "64",
                                    "2": "1551.0200",
                                    "3": "14",
                                    "4": "0.000"
                                },
                                {
                                    "0": "10343",
                                    "1": "68",
                                    "2": "48.9900",
                                    "3": "3",
                                    "4": "0.050"
                                },
                                {
                                    "0": "10343",
                                    "1": "76",
                                    "2": "67.3200",
                                    "3": "6",
                                    "4": "0.000"
                                },
                                {
                                    "0": "10344",
                                    "1": "4",
                                    "2": "342.0100",
                                    "3": "14",
                                    "4": "0.000"
                                },
                                {
                                    "0": "10344",
                                    "1": "8",
                                    "2": "166.2100",
                                    "3": "7",
                                    "4": "0.250"
                                },
                                {
                                    "0": "10345",
                                    "1": "8",
                                    "2": "169.6400",
                                    "3": "12",
                                    "4": "0.000"
                                },
                                {
                                    "0": "10345",
                                    "1": "19",
                                    "2": "639.2300",
                                    "3": "6",
                                    "4": "0.000"
                                },
                                {
                                    "0": "10345",
                                    "1": "42",
                                    "2": "1033.0000",
                                    "3": "2",
                                    "4": "0.000"
                                },
                                {
                                    "0": "10346",
                                    "1": "17",
                                    "2": "386.0600",
                                    "3": "11",
                                    "4": "0.100"
                                },
                                {
                                    "0": "10346",
                                    "1": "56",
                                    "2": "1772.0900",
                                    "3": "4",
                                    "4": "0.000"
                                },
                                {
                                    "0": "10347",
                                    "1": "25",
                                    "2": "898.9900",
                                    "3": "3",
                                    "4": "0.000"
                                },
                                {
                                    "0": "10347",
                                    "1": "39",
                                    "2": "22.3100",
                                    "3": "3",
                                    "4": "0.150"
                                },
                                {
                                    "0": "10347",
                                    "1": "40",
                                    "2": "192.4100",
                                    "3": "2",
                                    "4": "0.000"
                                },
                                {
                                    "0": "10347",
                                    "1": "75",
                                    "2": "52.3700",
                                    "3": "11",
                                    "4": "0.150"
                                },
                                {
                                    "0": "10348",
                                    "1": "1",
                                    "2": "1273.0200",
                                    "3": "8",
                                    "4": "0.150"
                                },
                                {
                                    "0": "10348",
                                    "1": "23",
                                    "2": "336.9100",
                                    "3": "2",
                                    "4": "0.000"
                                },
                                {
                                    "0": "10349",
                                    "1": "54",
                                    "2": "641.4100",
                                    "3": "12",
                                    "4": "0.000"
                                },
                                {
                                    "0": "10350",
                                    "1": "50",
                                    "2": "96.0300",
                                    "3": "3",
                                    "4": "0.100"
                                },
                                {
                                    "0": "10350",
                                    "1": "69",
                                    "2": "326.3300",
                                    "3": "3",
                                    "4": "0.100"
                                },
                                {
                                    "0": "10351",
                                    "1": "38",
                                    "2": "325.9200",
                                    "3": "9",
                                    "4": "0.050"
                                },
                                {
                                    "0": "10351",
                                    "1": "41",
                                    "2": "132.2500",
                                    "3": "6",
                                    "4": "0.000"
                                },
                                {
                                    "0": "10351",
                                    "1": "44",
                                    "2": "555.8300",
                                    "3": "6",
                                    "4": "0.050"
                                },
                                {
                                    "0": "10351",
                                    "1": "65",
                                    "2": "179.1900",
                                    "3": "13",
                                    "4": "0.050"
                                },
                                {
                                    "0": "10352",
                                    "1": "24",
                                    "2": "979.9900",
                                    "3": "15",
                                    "4": "0.000"
                                },
                                {
                                    "0": "10352",
                                    "1": "54",
                                    "2": "654.6400",
                                    "3": "2",
                                    "4": "0.150"
                                },
                                {
                                    "0": "10353",
                                    "1": "11",
                                    "2": "625.6800",
                                    "3": "3",
                                    "4": "0.200"
                                },
                                {
                                    "0": "10353",
                                    "1": "38",
                                    "2": "336.1100",
                                    "3": "13",
                                    "4": "0.200"
                                },
                                {
                                    "0": "10354",
                                    "1": "1",
                                    "2": "1247.0400",
                                    "3": "3",
                                    "4": "0.000"
                                },
                                {
                                    "0": "10354",
                                    "1": "29",
                                    "2": "336.0000",
                                    "3": "5",
                                    "4": "0.000"
                                },
                                {
                                    "0": "10355",
                                    "1": "24",
                                    "2": "959.9900",
                                    "3": "15",
                                    "4": "0.000"
                                },
                                {
                                    "0": "10355",
                                    "1": "57",
                                    "2": "2040.8800",
                                    "3": "2",
                                    "4": "0.000"
                                },
                                {
                                    "0": "10356",
                                    "1": "31",
                                    "2": "157.4100",
                                    "3": "3",
                                    "4": "0.000"
                                },
                                {
                                    "0": "10356",
                                    "1": "55",
                                    "2": "395.0000",
                                    "3": "10",
                                    "4": "0.000"
                                },
                                {
                                    "0": "10356",
                                    "1": "69",
                                    "2": "326.3300",
                                    "3": "5",
                                    "4": "0.000"
                                },
                                {
                                    "0": "10357",
                                    "1": "10",
                                    "2": "747.8400",
                                    "3": "4",
                                    "4": "0.200"
                                },
                                {
                                    "0": "10357",
                                    "1": "26",
                                    "2": "2392.0000",
                                    "3": "12",
                                    "4": "0.000"
                                },
                                {
                                    "0": "10357",
                                    "1": "60",
                                    "2": "740.0300",
                                    "3": "4",
                                    "4": "0.200"
                                },
                                {
                                    "0": "10358",
                                    "1": "24",
                                    "2": "959.9900",
                                    "3": "8",
                                    "4": "0.050"
                                },
                                {
                                    "0": "10358",
                                    "1": "34",
                                    "2": "1499.0000",
                                    "3": "8",
                                    "4": "0.050"
                                },
                                {
                                    "0": "10358",
                                    "1": "36",
                                    "2": "688.8500",
                                    "3": "5",
                                    "4": "0.050"
                                },
                                {
                                    "0": "10359",
                                    "1": "16",
                                    "2": "555.8300",
                                    "3": "6",
                                    "4": "0.050"
                                },
                                {
                                    "0": "10359",
                                    "1": "31",
                                    "2": "157.4100",
                                    "3": "15",
                                    "4": "0.050"
                                },
                                {
                                    "0": "10359",
                                    "1": "60",
                                    "2": "732.5500",
                                    "3": "9",
                                    "4": "0.050"
                                },
                                {
                                    "0": "10360",
                                    "1": "28",
                                    "2": "31.6800",
                                    "3": "6",
                                    "4": "0.000"
                                },
                                {
                                    "0": "10360",
                                    "1": "29",
                                    "2": "350.0000",
                                    "3": "8",
                                    "4": "0.000"
                                },
                                {
                                    "0": "10360",
                                    "1": "38",
                                    "2": "325.9200",
                                    "3": "9",
                                    "4": "0.000"
                                },
                                {
                                    "0": "10360",
                                    "1": "49",
                                    "2": "325.6200",
                                    "3": "14",
                                    "4": "0.000"
                                },
                                {
                                    "0": "10360",
                                    "1": "54",
                                    "2": "661.2500",
                                    "3": "7",
                                    "4": "0.000"
                                },
                                {
                                    "0": "10361",
                                    "1": "39",
                                    "2": "23.0000",
                                    "3": "10",
                                    "4": "0.100"
                                },
                                {
                                    "0": "10361",
                                    "1": "60",
                                    "2": "717.6000",
                                    "3": "3",
                                    "4": "0.100"
                                },
                                {
                                    "0": "10362",
                                    "1": "25",
                                    "2": "898.9900",
                                    "3": "2",
                                    "4": "0.000"
                                },
                                {
                                    "0": "10362",
                                    "1": "51",
                                    "2": "44.0500",
                                    "3": "15",
                                    "4": "0.000"
                                },
                                {
                                    "0": "10362",
                                    "1": "54",
                                    "2": "641.4100",
                                    "3": "12",
                                    "4": "0.000"
                                },
                                {
                                    "0": "10363",
                                    "1": "31",
                                    "2": "154.2300",
                                    "3": "4",
                                    "4": "0.000"
                                },
                                {
                                    "0": "10363",
                                    "1": "75",
                                    "2": "51.8300",
                                    "3": "8",
                                    "4": "0.000"
                                },
                                {
                                    "0": "10363",
                                    "1": "76",
                                    "2": "65.9600",
                                    "3": "3",
                                    "4": "0.000"
                                },
                                {
                                    "0": "10364",
                                    "1": "69",
                                    "2": "323.0000",
                                    "3": "14",
                                    "4": "0.000"
                                },
                                {
                                    "0": "10364",
                                    "1": "71",
                                    "2": "404.9100",
                                    "3": "13",
                                    "4": "0.000"
                                },
                                {
                                    "0": "10365",
                                    "1": "11",
                                    "2": "625.6800",
                                    "3": "10",
                                    "4": "0.000"
                                },
                                {
                                    "0": "10366",
                                    "1": "65",
                                    "2": "182.8500",
                                    "3": "15",
                                    "4": "0.000"
                                },
                                {
                                    "0": "10366",
                                    "1": "77",
                                    "2": "127.5100",
                                    "3": "1",
                                    "4": "0.000"
                                },
                                {
                                    "0": "10367",
                                    "1": "34",
                                    "2": "1439.0400",
                                    "3": "7",
                                    "4": "0.000"
                                },
                                {
                                    "0": "10367",
                                    "1": "54",
                                    "2": "661.2500",
                                    "3": "15",
                                    "4": "0.000"
                                },
                                {
                                    "0": "10367",
                                    "1": "65",
                                    "2": "177.3600",
                                    "3": "7",
                                    "4": "0.000"
                                },
                                {
                                    "0": "10367",
                                    "1": "77",
                                    "2": "124.9400",
                                    "3": "13",
                                    "4": "0.000"
                                },
                                {
                                    "0": "10368",
                                    "1": "21",
                                    "2": "604.8000",
                                    "3": "2",
                                    "4": "0.100"
                                },
                                {
                                    "0": "10368",
                                    "1": "28",
                                    "2": "30.7200",
                                    "3": "6",
                                    "4": "0.100"
                                },
                                {
                                    "0": "10368",
                                    "1": "57",
                                    "2": "2104.0000",
                                    "3": "11",
                                    "4": "0.000"
                                },
                                {
                                    "0": "10368",
                                    "1": "64",
                                    "2": "1551.0200",
                                    "3": "3",
                                    "4": "0.100"
                                },
                                {
                                    "0": "10369",
                                    "1": "29",
                                    "2": "343.0000",
                                    "3": "3",
                                    "4": "0.000"
                                },
                                {
                                    "0": "10369",
                                    "1": "56",
                                    "2": "1736.2900",
                                    "3": "12",
                                    "4": "0.250"
                                },
                                {
                                    "0": "10370",
                                    "1": "1",
                                    "2": "1299.0000",
                                    "3": "11",
                                    "4": "0.150"
                                },
                                {
                                    "0": "10370",
                                    "1": "64",
                                    "2": "1567.0100",
                                    "3": "4",
                                    "4": "0.000"
                                },
                                {
                                    "0": "10370",
                                    "1": "74",
                                    "2": "33.4800",
                                    "3": "12",
                                    "4": "0.150"
                                },
                                {
                                    "0": "10371",
                                    "1": "36",
                                    "2": "668.1800",
                                    "3": "14",
                                    "4": "0.200"
                                },
                                {
                                    "0": "10372",
                                    "1": "20",
                                    "2": "583.1000",
                                    "3": "1",
                                    "4": "0.250"
                                },
                                {
                                    "0": "10372",
                                    "1": "38",
                                    "2": "329.3200",
                                    "3": "8",
                                    "4": "0.250"
                                },
                                {
                                    "0": "10372",
                                    "1": "60",
                                    "2": "747.5000",
                                    "3": "7",
                                    "4": "0.250"
                                },
                                {
                                    "0": "10372",
                                    "1": "72",
                                    "2": "95.0300",
                                    "3": "12",
                                    "4": "0.250"
                                },
                                {
                                    "0": "10373",
                                    "1": "58",
                                    "2": "98.0000",
                                    "3": "6",
                                    "4": "0.200"
                                },
                                {
                                    "0": "10373",
                                    "1": "71",
                                    "2": "400.8200",
                                    "3": "9",
                                    "4": "0.200"
                                },
                                {
                                    "0": "10374",
                                    "1": "31",
                                    "2": "154.2300",
                                    "3": "6",
                                    "4": "0.000"
                                },
                                {
                                    "0": "10374",
                                    "1": "58",
                                    "2": "96.0200",
                                    "3": "5",
                                    "4": "0.000"
                                },
                                {
                                    "0": "10375",
                                    "1": "14",
                                    "2": "22.3200",
                                    "3": "1",
                                    "4": "0.000"
                                },
                                {
                                    "0": "10375",
                                    "1": "54",
                                    "2": "641.4100",
                                    "3": "10",
                                    "4": "0.000"
                                },
                                {
                                    "0": "10376",
                                    "1": "31",
                                    "2": "155.8200",
                                    "3": "1",
                                    "4": "0.050"
                                },
                                {
                                    "0": "10377",
                                    "1": "28",
                                    "2": "31.3600",
                                    "3": "5",
                                    "4": "0.150"
                                },
                                {
                                    "0": "10377",
                                    "1": "39",
                                    "2": "22.3100",
                                    "3": "1",
                                    "4": "0.150"
                                },
                                {
                                    "0": "10378",
                                    "1": "71",
                                    "2": "392.6400",
                                    "3": "5",
                                    "4": "0.000"
                                },
                                {
                                    "0": "10379",
                                    "1": "41",
                                    "2": "128.2800",
                                    "3": "5",
                                    "4": "0.100"
                                },
                                {
                                    "0": "10379",
                                    "1": "63",
                                    "2": "1861.0200",
                                    "3": "11",
                                    "4": "0.100"
                                },
                                {
                                    "0": "10379",
                                    "1": "65",
                                    "2": "177.3600",
                                    "3": "12",
                                    "4": "0.100"
                                },
                                {
                                    "0": "10380",
                                    "1": "30",
                                    "2": "346.4400",
                                    "3": "6",
                                    "4": "0.100"
                                },
                                {
                                    "0": "10380",
                                    "1": "53",
                                    "2": "294.0000",
                                    "3": "1",
                                    "4": "0.100"
                                },
                                {
                                    "0": "10380",
                                    "1": "60",
                                    "2": "747.5000",
                                    "3": "9",
                                    "4": "0.100"
                                },
                                {
                                    "0": "10380",
                                    "1": "70",
                                    "2": "80.6400",
                                    "3": "6",
                                    "4": "0.000"
                                },
                                {
                                    "0": "10381",
                                    "1": "74",
                                    "2": "33.1400",
                                    "3": "4",
                                    "4": "0.000"
                                },
                                {
                                    "0": "10382",
                                    "1": "5",
                                    "2": "146.0200",
                                    "3": "9",
                                    "4": "0.000"
                                },
                                {
                                    "0": "10382",
                                    "1": "18",
                                    "2": "28.1800",
                                    "3": "3",
                                    "4": "0.000"
                                },
                                {
                                    "0": "10382",
                                    "1": "29",
                                    "2": "339.5000",
                                    "3": "6",
                                    "4": "0.000"
                                },
                                {
                                    "0": "10382",
                                    "1": "33",
                                    "2": "22.4800",
                                    "3": "9",
                                    "4": "0.000"
                                },
                                {
                                    "0": "10382",
                                    "1": "74",
                                    "2": "32.4700",
                                    "3": "14",
                                    "4": "0.000"
                                },
                                {
                                    "0": "10383",
                                    "1": "13",
                                    "2": "57.2300",
                                    "3": "6",
                                    "4": "0.000"
                                },
                                {
                                    "0": "10383",
                                    "1": "50",
                                    "2": "97.0200",
                                    "3": "3",
                                    "4": "0.000"
                                },
                                {
                                    "0": "10383",
                                    "1": "56",
                                    "2": "1789.9900",
                                    "3": "12",
                                    "4": "0.000"
                                },
                                {
                                    "0": "10384",
                                    "1": "20",
                                    "2": "583.1000",
                                    "3": "7",
                                    "4": "0.000"
                                },
                                {
                                    "0": "10384",
                                    "1": "60",
                                    "2": "717.6000",
                                    "3": "11",
                                    "4": "0.000"
                                },
                                {
                                    "0": "10385",
                                    "1": "7",
                                    "2": "39.0000",
                                    "3": "11",
                                    "4": "0.200"
                                },
                                {
                                    "0": "10385",
                                    "1": "60",
                                    "2": "747.5000",
                                    "3": "14",
                                    "4": "0.200"
                                },
                                {
                                    "0": "10385",
                                    "1": "68",
                                    "2": "49.9900",
                                    "3": "7",
                                    "4": "0.200"
                                },
                                {
                                    "0": "10386",
                                    "1": "24",
                                    "2": "959.9900",
                                    "3": "15",
                                    "4": "0.000"
                                },
                                {
                                    "0": "10386",
                                    "1": "34",
                                    "2": "1469.0200",
                                    "3": "6",
                                    "4": "0.000"
                                },
                                {
                                    "0": "10387",
                                    "1": "24",
                                    "2": "959.9900",
                                    "3": "14",
                                    "4": "0.000"
                                },
                                {
                                    "0": "10387",
                                    "1": "28",
                                    "2": "31.3600",
                                    "3": "12",
                                    "4": "0.000"
                                },
                                {
                                    "0": "10387",
                                    "1": "59",
                                    "2": "1383.2200",
                                    "3": "7",
                                    "4": "0.000"
                                },
                                {
                                    "0": "10387",
                                    "1": "71",
                                    "2": "396.7300",
                                    "3": "7",
                                    "4": "0.000"
                                },
                                {
                                    "0": "10388",
                                    "1": "45",
                                    "2": "248.4900",
                                    "3": "8",
                                    "4": "0.200"
                                },
                                {
                                    "0": "10388",
                                    "1": "52",
                                    "2": "417.4700",
                                    "3": "3",
                                    "4": "0.200"
                                },
                                {
                                    "0": "10388",
                                    "1": "53",
                                    "2": "300.0000",
                                    "3": "4",
                                    "4": "0.000"
                                },
                                {
                                    "0": "10389",
                                    "1": "10",
                                    "2": "779.0000",
                                    "3": "1",
                                    "4": "0.000"
                                },
                                {
                                    "0": "10389",
                                    "1": "55",
                                    "2": "398.9900",
                                    "3": "12",
                                    "4": "0.000"
                                },
                                {
                                    "0": "10389",
                                    "1": "62",
                                    "2": "67.8900",
                                    "3": "12",
                                    "4": "0.000"
                                },
                                {
                                    "0": "10389",
                                    "1": "70",
                                    "2": "80.6400",
                                    "3": "3",
                                    "4": "0.000"
                                },
                                {
                                    "0": "10390",
                                    "1": "31",
                                    "2": "157.4100",
                                    "3": "11",
                                    "4": "0.100"
                                },
                                {
                                    "0": "10390",
                                    "1": "35",
                                    "2": "69.0000",
                                    "3": "8",
                                    "4": "0.100"
                                },
                                {
                                    "0": "10390",
                                    "1": "46",
                                    "2": "73.2600",
                                    "3": "3",
                                    "4": "0.000"
                                },
                                {
                                    "0": "10390",
                                    "1": "72",
                                    "2": "98.0000",
                                    "3": "9",
                                    "4": "0.100"
                                },
                                {
                                    "0": "10391",
                                    "1": "13",
                                    "2": "59.0000",
                                    "3": "3",
                                    "4": "0.000"
                                },
                                {
                                    "0": "10392",
                                    "1": "69",
                                    "2": "323.0000",
                                    "3": "13",
                                    "4": "0.000"
                                },
                                {
                                    "0": "10393",
                                    "1": "2",
                                    "2": "1439.0400",
                                    "3": "6",
                                    "4": "0.250"
                                },
                                {
                                    "0": "10393",
                                    "1": "14",
                                    "2": "22.7900",
                                    "3": "8",
                                    "4": "0.250"
                                },
                                {
                                    "0": "10393",
                                    "1": "25",
                                    "2": "898.9900",
                                    "3": "13",
                                    "4": "0.250"
                                },
                                {
                                    "0": "10393",
                                    "1": "26",
                                    "2": "2416.9200",
                                    "3": "7",
                                    "4": "0.250"
                                },
                                {
                                    "0": "10393",
                                    "1": "31",
                                    "2": "154.2300",
                                    "3": "10",
                                    "4": "0.000"
                                },
                                {
                                    "0": "10394",
                                    "1": "13",
                                    "2": "59.0000",
                                    "3": "7",
                                    "4": "0.000"
                                },
                                {
                                    "0": "10394",
                                    "1": "62",
                                    "2": "67.1900",
                                    "3": "8",
                                    "4": "0.000"
                                },
                                {
                                    "0": "10395",
                                    "1": "46",
                                    "2": "74.0000",
                                    "3": "13",
                                    "4": "0.100"
                                },
                                {
                                    "0": "10395",
                                    "1": "53",
                                    "2": "294.0000",
                                    "3": "11",
                                    "4": "0.100"
                                },
                                {
                                    "0": "10395",
                                    "1": "69",
                                    "2": "323.0000",
                                    "3": "10",
                                    "4": "0.000"
                                },
                                {
                                    "0": "10396",
                                    "1": "23",
                                    "2": "347.4400",
                                    "3": "4",
                                    "4": "0.000"
                                },
                                {
                                    "0": "10396",
                                    "1": "71",
                                    "2": "400.8200",
                                    "3": "2",
                                    "4": "0.000"
                                },
                                {
                                    "0": "10396",
                                    "1": "72",
                                    "2": "95.0300",
                                    "3": "10",
                                    "4": "0.000"
                                },
                                {
                                    "0": "10397",
                                    "1": "21",
                                    "2": "617.2700",
                                    "3": "7",
                                    "4": "0.150"
                                },
                                {
                                    "0": "10397",
                                    "1": "51",
                                    "2": "43.1600",
                                    "3": "12",
                                    "4": "0.150"
                                },
                                {
                                    "0": "10398",
                                    "1": "35",
                                    "2": "67.6200",
                                    "3": "5",
                                    "4": "0.000"
                                },
                                {
                                    "0": "10398",
                                    "1": "55",
                                    "2": "398.9900",
                                    "3": "12",
                                    "4": "0.100"
                                },
                                {
                                    "0": "10399",
                                    "1": "68",
                                    "2": "49.4900",
                                    "3": "8",
                                    "4": "0.000"
                                },
                                {
                                    "0": "10399",
                                    "1": "71",
                                    "2": "400.8200",
                                    "3": "4",
                                    "4": "0.000"
                                },
                                {
                                    "0": "10399",
                                    "1": "76",
                                    "2": "67.3200",
                                    "3": "14",
                                    "4": "0.000"
                                },
                                {
                                    "0": "10399",
                                    "1": "77",
                                    "2": "128.8000",
                                    "3": "4",
                                    "4": "0.000"
                                },
                                {
                                    "0": "10400",
                                    "1": "29",
                                    "2": "346.5000",
                                    "3": "4",
                                    "4": "0.000"
                                },
                                {
                                    "0": "10400",
                                    "1": "35",
                                    "2": "66.2400",
                                    "3": "15",
                                    "4": "0.000"
                                },
                                {
                                    "0": "10400",
                                    "1": "49",
                                    "2": "315.8500",
                                    "3": "3",
                                    "4": "0.000"
                                },
                                {
                                    "0": "10401",
                                    "1": "30",
                                    "2": "335.9400",
                                    "3": "3",
                                    "4": "0.000"
                                },
                                {
                                    "0": "10401",
                                    "1": "56",
                                    "2": "1772.0900",
                                    "3": "9",
                                    "4": "0.000"
                                },
                                {
                                    "0": "10401",
                                    "1": "65",
                                    "2": "179.1900",
                                    "3": "10",
                                    "4": "0.000"
                                },
                                {
                                    "0": "10401",
                                    "1": "71",
                                    "2": "392.6400",
                                    "3": "3",
                                    "4": "0.000"
                                },
                                {
                                    "0": "10402",
                                    "1": "23",
                                    "2": "350.9500",
                                    "3": "10",
                                    "4": "0.000"
                                },
                                {
                                    "0": "10402",
                                    "1": "63",
                                    "2": "1842.0300",
                                    "3": "9",
                                    "4": "0.000"
                                },
                                {
                                    "0": "10403",
                                    "1": "16",
                                    "2": "555.8300",
                                    "3": "3",
                                    "4": "0.150"
                                },
                                {
                                    "0": "10403",
                                    "1": "48",
                                    "2": "1484.0100",
                                    "3": "1",
                                    "4": "0.150"
                                },
                                {
                                    "0": "10404",
                                    "1": "26",
                                    "2": "2416.9200",
                                    "3": "2",
                                    "4": "0.050"
                                },
                                {
                                    "0": "10404",
                                    "1": "42",
                                    "2": "991.6800",
                                    "3": "1",
                                    "4": "0.050"
                                },
                                {
                                    "0": "10404",
                                    "1": "49",
                                    "2": "325.6200",
                                    "3": "10",
                                    "4": "0.050"
                                },
                                {
                                    "0": "10405",
                                    "1": "3",
                                    "2": "775.0300",
                                    "3": "6",
                                    "4": "0.000"
                                },
                                {
                                    "0": "10406",
                                    "1": "1",
                                    "2": "1260.0300",
                                    "3": "14",
                                    "4": "0.000"
                                },
                                {
                                    "0": "10406",
                                    "1": "21",
                                    "2": "617.2700",
                                    "3": "7",
                                    "4": "0.100"
                                },
                                {
                                    "0": "10406",
                                    "1": "28",
                                    "2": "31.3600",
                                    "3": "4",
                                    "4": "0.100"
                                },
                                {
                                    "0": "10406",
                                    "1": "36",
                                    "2": "675.0700",
                                    "3": "9",
                                    "4": "0.100"
                                },
                                {
                                    "0": "10406",
                                    "1": "40",
                                    "2": "190.4600",
                                    "3": "6",
                                    "4": "0.100"
                                },
                                {
                                    "0": "10407",
                                    "1": "11",
                                    "2": "606.7200",
                                    "3": "1",
                                    "4": "0.000"
                                },
                                {
                                    "0": "10407",
                                    "1": "69",
                                    "2": "329.6600",
                                    "3": "5",
                                    "4": "0.000"
                                },
                                {
                                    "0": "10407",
                                    "1": "71",
                                    "2": "392.6400",
                                    "3": "13",
                                    "4": "0.000"
                                },
                                {
                                    "0": "10408",
                                    "1": "37",
                                    "2": "240.3500",
                                    "3": "1",
                                    "4": "0.000"
                                },
                                {
                                    "0": "10408",
                                    "1": "54",
                                    "2": "648.0300",
                                    "3": "3",
                                    "4": "0.000"
                                },
                                {
                                    "0": "10408",
                                    "1": "62",
                                    "2": "69.9900",
                                    "3": "13",
                                    "4": "0.000"
                                },
                                {
                                    "0": "10409",
                                    "1": "14",
                                    "2": "23.2500",
                                    "3": "3",
                                    "4": "0.000"
                                },
                                {
                                    "0": "10409",
                                    "1": "21",
                                    "2": "604.8000",
                                    "3": "10",
                                    "4": "0.000"
                                },
                                {
                                    "0": "10410",
                                    "1": "33",
                                    "2": "22.9400",
                                    "3": "14",
                                    "4": "0.000"
                                },
                                {
                                    "0": "10410",
                                    "1": "59",
                                    "2": "1368.9600",
                                    "3": "4",
                                    "4": "0.000"
                                },
                                {
                                    "0": "10411",
                                    "1": "41",
                                    "2": "126.9600",
                                    "3": "9",
                                    "4": "0.200"
                                },
                                {
                                    "0": "10411",
                                    "1": "44",
                                    "2": "561.6200",
                                    "3": "11",
                                    "4": "0.200"
                                },
                                {
                                    "0": "10411",
                                    "1": "59",
                                    "2": "1368.9600",
                                    "3": "3",
                                    "4": "0.200"
                                },
                                {
                                    "0": "10412",
                                    "1": "14",
                                    "2": "22.5500",
                                    "3": "12",
                                    "4": "0.100"
                                },
                                {
                                    "0": "10413",
                                    "1": "1",
                                    "2": "1299.0000",
                                    "3": "8",
                                    "4": "0.000"
                                },
                                {
                                    "0": "10413",
                                    "1": "62",
                                    "2": "69.9900",
                                    "3": "14",
                                    "4": "0.000"
                                },
                                {
                                    "0": "10413",
                                    "1": "76",
                                    "2": "65.9600",
                                    "3": "10",
                                    "4": "0.000"
                                },
                                {
                                    "0": "10414",
                                    "1": "19",
                                    "2": "652.4100",
                                    "3": "9",
                                    "4": "0.050"
                                },
                                {
                                    "0": "10414",
                                    "1": "33",
                                    "2": "22.4800",
                                    "3": "3",
                                    "4": "0.000"
                                },
                                {
                                    "0": "10415",
                                    "1": "17",
                                    "2": "390.0400",
                                    "3": "1",
                                    "4": "0.000"
                                },
                                {
                                    "0": "10415",
                                    "1": "33",
                                    "2": "22.9400",
                                    "3": "6",
                                    "4": "0.000"
                                },
                                {
                                    "0": "10416",
                                    "1": "19",
                                    "2": "632.6400",
                                    "3": "10",
                                    "4": "0.000"
                                },
                                {
                                    "0": "10416",
                                    "1": "53",
                                    "2": "294.0000",
                                    "3": "2",
                                    "4": "0.000"
                                },
                                {
                                    "0": "10416",
                                    "1": "57",
                                    "2": "2061.9200",
                                    "3": "13",
                                    "4": "0.000"
                                },
                                {
                                    "0": "10417",
                                    "1": "38",
                                    "2": "329.3200",
                                    "3": "4",
                                    "4": "0.000"
                                },
                                {
                                    "0": "10417",
                                    "1": "46",
                                    "2": "71.7600",
                                    "3": "6",
                                    "4": "0.250"
                                },
                                {
                                    "0": "10417",
                                    "1": "68",
                                    "2": "48.4900",
                                    "3": "4",
                                    "4": "0.250"
                                },
                                {
                                    "0": "10417",
                                    "1": "77",
                                    "2": "124.9400",
                                    "3": "7",
                                    "4": "0.000"
                                },
                                {
                                    "0": "10418",
                                    "1": "2",
                                    "2": "1499.0000",
                                    "3": "8",
                                    "4": "0.000"
                                },
                                {
                                    "0": "10418",
                                    "1": "47",
                                    "2": "949.4400",
                                    "3": "6",
                                    "4": "0.000"
                                },
                                {
                                    "0": "10418",
                                    "1": "61",
                                    "2": "147.9900",
                                    "3": "8",
                                    "4": "0.000"
                                },
                                {
                                    "0": "10418",
                                    "1": "74",
                                    "2": "32.4700",
                                    "3": "12",
                                    "4": "0.000"
                                },
                                {
                                    "0": "10419",
                                    "1": "60",
                                    "2": "747.5000",
                                    "3": "15",
                                    "4": "0.050"
                                },
                                {
                                    "0": "10419",
                                    "1": "69",
                                    "2": "323.0000",
                                    "3": "8",
                                    "4": "0.050"
                                },
                                {
                                    "0": "10420",
                                    "1": "9",
                                    "2": "495.0000",
                                    "3": "11",
                                    "4": "0.100"
                                },
                                {
                                    "0": "10420",
                                    "1": "13",
                                    "2": "57.2300",
                                    "3": "2",
                                    "4": "0.100"
                                },
                                {
                                    "0": "10420",
                                    "1": "70",
                                    "2": "82.3200",
                                    "3": "15",
                                    "4": "0.100"
                                },
                                {
                                    "0": "10420",
                                    "1": "73",
                                    "2": "189.1300",
                                    "3": "12",
                                    "4": "0.100"
                                },
                                {
                                    "0": "10421",
                                    "1": "19",
                                    "2": "652.4100",
                                    "3": "5",
                                    "4": "0.150"
                                },
                                {
                                    "0": "10421",
                                    "1": "26",
                                    "2": "2491.6700",
                                    "3": "12",
                                    "4": "0.000"
                                },
                                {
                                    "0": "10421",
                                    "1": "53",
                                    "2": "291.0000",
                                    "3": "8",
                                    "4": "0.150"
                                },
                                {
                                    "0": "10421",
                                    "1": "77",
                                    "2": "126.2200",
                                    "3": "15",
                                    "4": "0.150"
                                },
                                {
                                    "0": "10422",
                                    "1": "26",
                                    "2": "2466.7500",
                                    "3": "9",
                                    "4": "0.000"
                                },
                                {
                                    "0": "10423",
                                    "1": "31",
                                    "2": "152.6400",
                                    "3": "9",
                                    "4": "0.000"
                                },
                                {
                                    "0": "10423",
                                    "1": "59",
                                    "2": "1368.9600",
                                    "3": "11",
                                    "4": "0.000"
                                },
                                {
                                    "0": "10424",
                                    "1": "35",
                                    "2": "67.6200",
                                    "3": "1",
                                    "4": "0.200"
                                },
                                {
                                    "0": "10424",
                                    "1": "38",
                                    "2": "339.5000",
                                    "3": "6",
                                    "4": "0.200"
                                },
                                {
                                    "0": "10424",
                                    "1": "68",
                                    "2": "49.9900",
                                    "3": "15",
                                    "4": "0.200"
                                },
                                {
                                    "0": "10425",
                                    "1": "55",
                                    "2": "398.9900",
                                    "3": "13",
                                    "4": "0.250"
                                },
                                {
                                    "0": "10425",
                                    "1": "76",
                                    "2": "65.2800",
                                    "3": "15",
                                    "4": "0.250"
                                },
                                {
                                    "0": "10426",
                                    "1": "56",
                                    "2": "1772.0900",
                                    "3": "9",
                                    "4": "0.000"
                                },
                                {
                                    "0": "10426",
                                    "1": "64",
                                    "2": "1535.0300",
                                    "3": "6",
                                    "4": "0.000"
                                },
                                {
                                    "0": "10427",
                                    "1": "14",
                                    "2": "22.3200",
                                    "3": "6",
                                    "4": "0.000"
                                },
                                {
                                    "0": "10428",
                                    "1": "46",
                                    "2": "74.0000",
                                    "3": "2",
                                    "4": "0.000"
                                },
                                {
                                    "0": "10429",
                                    "1": "50",
                                    "2": "96.0300",
                                    "3": "6",
                                    "4": "0.000"
                                },
                                {
                                    "0": "10429",
                                    "1": "63",
                                    "2": "1899.0000",
                                    "3": "9",
                                    "4": "0.250"
                                },
                                {
                                    "0": "10430",
                                    "1": "17",
                                    "2": "390.0400",
                                    "3": "11",
                                    "4": "0.200"
                                },
                                {
                                    "0": "10430",
                                    "1": "21",
                                    "2": "604.8000",
                                    "3": "3",
                                    "4": "0.000"
                                },
                                {
                                    "0": "10430",
                                    "1": "56",
                                    "2": "1736.2900",
                                    "3": "13",
                                    "4": "0.000"
                                },
                                {
                                    "0": "10430",
                                    "1": "59",
                                    "2": "1383.2200",
                                    "3": "3",
                                    "4": "0.200"
                                },
                                {
                                    "0": "10431",
                                    "1": "17",
                                    "2": "386.0600",
                                    "3": "10",
                                    "4": "0.250"
                                },
                                {
                                    "0": "10431",
                                    "1": "40",
                                    "2": "192.4100",
                                    "3": "11",
                                    "4": "0.250"
                                },
                                {
                                    "0": "10431",
                                    "1": "47",
                                    "2": "969.2200",
                                    "3": "5",
                                    "4": "0.250"
                                },
                                {
                                    "0": "10432",
                                    "1": "26",
                                    "2": "2416.9200",
                                    "3": "9",
                                    "4": "0.000"
                                },
                                {
                                    "0": "10432",
                                    "1": "54",
                                    "2": "641.4100",
                                    "3": "4",
                                    "4": "0.000"
                                },
                                {
                                    "0": "10433",
                                    "1": "56",
                                    "2": "1718.3900",
                                    "3": "14",
                                    "4": "0.000"
                                },
                                {
                                    "0": "10434",
                                    "1": "11",
                                    "2": "619.3600",
                                    "3": "11",
                                    "4": "0.000"
                                },
                                {
                                    "0": "10434",
                                    "1": "76",
                                    "2": "66.6400",
                                    "3": "11",
                                    "4": "0.150"
                                },
                                {
                                    "0": "10435",
                                    "1": "2",
                                    "2": "1439.0400",
                                    "3": "11",
                                    "4": "0.000"
                                },
                                {
                                    "0": "10435",
                                    "1": "22",
                                    "2": "3669.1200",
                                    "3": "1",
                                    "4": "0.000"
                                },
                                {
                                    "0": "10435",
                                    "1": "72",
                                    "2": "95.0300",
                                    "3": "8",
                                    "4": "0.000"
                                },
                                {
                                    "0": "10436",
                                    "1": "46",
                                    "2": "74.7500",
                                    "3": "1",
                                    "4": "0.000"
                                },
                                {
                                    "0": "10436",
                                    "1": "56",
                                    "2": "1718.3900",
                                    "3": "1",
                                    "4": "0.100"
                                },
                                {
                                    "0": "10436",
                                    "1": "64",
                                    "2": "1583.0000",
                                    "3": "12",
                                    "4": "0.100"
                                },
                                {
                                    "0": "10436",
                                    "1": "75",
                                    "2": "53.9900",
                                    "3": "13",
                                    "4": "0.100"
                                },
                                {
                                    "0": "10437",
                                    "1": "53",
                                    "2": "300.0000",
                                    "3": "13",
                                    "4": "0.000"
                                },
                                {
                                    "0": "10438",
                                    "1": "19",
                                    "2": "632.6400",
                                    "3": "5",
                                    "4": "0.200"
                                },
                                {
                                    "0": "10438",
                                    "1": "34",
                                    "2": "1469.0200",
                                    "3": "3",
                                    "4": "0.200"
                                },
                                {
                                    "0": "10438",
                                    "1": "57",
                                    "2": "2019.8400",
                                    "3": "6",
                                    "4": "0.200"
                                },
                                {
                                    "0": "10439",
                                    "1": "12",
                                    "2": "440.6400",
                                    "3": "11",
                                    "4": "0.000"
                                },
                                {
                                    "0": "10439",
                                    "1": "16",
                                    "2": "567.4100",
                                    "3": "2",
                                    "4": "0.000"
                                },
                                {
                                    "0": "10439",
                                    "1": "64",
                                    "2": "1567.0100",
                                    "3": "3",
                                    "4": "0.000"
                                },
                                {
                                    "0": "10439",
                                    "1": "74",
                                    "2": "32.8100",
                                    "3": "7",
                                    "4": "0.000"
                                },
                                {
                                    "0": "10440",
                                    "1": "2",
                                    "2": "1439.0400",
                                    "3": "5",
                                    "4": "0.150"
                                },
                                {
                                    "0": "10440",
                                    "1": "16",
                                    "2": "567.4100",
                                    "3": "13",
                                    "4": "0.150"
                                },
                                {
                                    "0": "10440",
                                    "1": "29",
                                    "2": "350.0000",
                                    "3": "3",
                                    "4": "0.150"
                                },
                                {
                                    "0": "10440",
                                    "1": "61",
                                    "2": "145.0300",
                                    "3": "11",
                                    "4": "0.150"
                                },
                                {
                                    "0": "10441",
                                    "1": "27",
                                    "2": "249.0000",
                                    "3": "14",
                                    "4": "0.000"
                                },
                                {
                                    "0": "10442",
                                    "1": "11",
                                    "2": "613.0400",
                                    "3": "7",
                                    "4": "0.000"
                                },
                                {
                                    "0": "10442",
                                    "1": "54",
                                    "2": "641.4100",
                                    "3": "7",
                                    "4": "0.000"
                                },
                                {
                                    "0": "10442",
                                    "1": "66",
                                    "2": "76.7200",
                                    "3": "3",
                                    "4": "0.000"
                                },
                                {
                                    "0": "10443",
                                    "1": "11",
                                    "2": "606.7200",
                                    "3": "13",
                                    "4": "0.200"
                                },
                                {
                                    "0": "10443",
                                    "1": "28",
                                    "2": "31.3600",
                                    "3": "10",
                                    "4": "0.000"
                                },
                                {
                                    "0": "10444",
                                    "1": "17",
                                    "2": "386.0600",
                                    "3": "15",
                                    "4": "0.000"
                                },
                                {
                                    "0": "10444",
                                    "1": "26",
                                    "2": "2466.7500",
                                    "3": "13",
                                    "4": "0.000"
                                },
                                {
                                    "0": "10444",
                                    "1": "35",
                                    "2": "66.2400",
                                    "3": "10",
                                    "4": "0.000"
                                },
                                {
                                    "0": "10444",
                                    "1": "41",
                                    "2": "130.9300",
                                    "3": "10",
                                    "4": "0.000"
                                },
                                {
                                    "0": "10445",
                                    "1": "39",
                                    "2": "23.0000",
                                    "3": "15",
                                    "4": "0.000"
                                },
                                {
                                    "0": "10445",
                                    "1": "54",
                                    "2": "641.4100",
                                    "3": "3",
                                    "4": "0.000"
                                },
                                {
                                    "0": "10446",
                                    "1": "19",
                                    "2": "652.4100",
                                    "3": "13",
                                    "4": "0.100"
                                },
                                {
                                    "0": "10446",
                                    "1": "24",
                                    "2": "959.9900",
                                    "3": "6",
                                    "4": "0.100"
                                },
                                {
                                    "0": "10446",
                                    "1": "31",
                                    "2": "154.2300",
                                    "3": "3",
                                    "4": "0.100"
                                },
                                {
                                    "0": "10446",
                                    "1": "52",
                                    "2": "408.9500",
                                    "3": "5",
                                    "4": "0.100"
                                },
                                {
                                    "0": "10447",
                                    "1": "19",
                                    "2": "645.8200",
                                    "3": "7",
                                    "4": "0.000"
                                },
                                {
                                    "0": "10447",
                                    "1": "65",
                                    "2": "175.5400",
                                    "3": "11",
                                    "4": "0.000"
                                },
                                {
                                    "0": "10447",
                                    "1": "71",
                                    "2": "409.0000",
                                    "3": "3",
                                    "4": "0.000"
                                },
                                {
                                    "0": "10448",
                                    "1": "26",
                                    "2": "2491.6700",
                                    "3": "6",
                                    "4": "0.000"
                                },
                                {
                                    "0": "10448",
                                    "1": "40",
                                    "2": "194.3500",
                                    "3": "4",
                                    "4": "0.000"
                                },
                                {
                                    "0": "10449",
                                    "1": "10",
                                    "2": "779.0000",
                                    "3": "12",
                                    "4": "0.000"
                                },
                                {
                                    "0": "10449",
                                    "1": "52",
                                    "2": "408.9500",
                                    "3": "13",
                                    "4": "0.000"
                                },
                                {
                                    "0": "10449",
                                    "1": "62",
                                    "2": "68.5900",
                                    "3": "11",
                                    "4": "0.000"
                                },
                                {
                                    "0": "10450",
                                    "1": "10",
                                    "2": "763.4200",
                                    "3": "7",
                                    "4": "0.200"
                                },
                                {
                                    "0": "10450",
                                    "1": "54",
                                    "2": "634.8000",
                                    "3": "4",
                                    "4": "0.200"
                                },
                                {
                                    "0": "10451",
                                    "1": "55",
                                    "2": "391.0100",
                                    "3": "13",
                                    "4": "0.100"
                                },
                                {
                                    "0": "10451",
                                    "1": "64",
                                    "2": "1583.0000",
                                    "3": "6",
                                    "4": "0.100"
                                },
                                {
                                    "0": "10451",
                                    "1": "65",
                                    "2": "179.1900",
                                    "3": "4",
                                    "4": "0.100"
                                },
                                {
                                    "0": "10451",
                                    "1": "77",
                                    "2": "123.6500",
                                    "3": "14",
                                    "4": "0.100"
                                },
                                {
                                    "0": "10452",
                                    "1": "28",
                                    "2": "32.0000",
                                    "3": "6",
                                    "4": "0.000"
                                },
                                {
                                    "0": "10452",
                                    "1": "44",
                                    "2": "561.6200",
                                    "3": "11",
                                    "4": "0.050"
                                },
                                {
                                    "0": "10453",
                                    "1": "48",
                                    "2": "1454.0300",
                                    "3": "4",
                                    "4": "0.100"
                                },
                                {
                                    "0": "10453",
                                    "1": "70",
                                    "2": "80.6400",
                                    "3": "15",
                                    "4": "0.100"
                                },
                                {
                                    "0": "10454",
                                    "1": "16",
                                    "2": "561.6200",
                                    "3": "12",
                                    "4": "0.200"
                                },
                                {
                                    "0": "10454",
                                    "1": "33",
                                    "2": "22.9400",
                                    "3": "5",
                                    "4": "0.200"
                                },
                                {
                                    "0": "10454",
                                    "1": "46",
                                    "2": "72.5100",
                                    "3": "5",
                                    "4": "0.200"
                                },
                                {
                                    "0": "10455",
                                    "1": "39",
                                    "2": "22.7700",
                                    "3": "8",
                                    "4": "0.000"
                                },
                                {
                                    "0": "10455",
                                    "1": "53",
                                    "2": "297.0000",
                                    "3": "4",
                                    "4": "0.000"
                                },
                                {
                                    "0": "10455",
                                    "1": "61",
                                    "2": "146.5100",
                                    "3": "4",
                                    "4": "0.000"
                                },
                                {
                                    "0": "10455",
                                    "1": "71",
                                    "2": "400.8200",
                                    "3": "12",
                                    "4": "0.000"
                                },
                                {
                                    "0": "10456",
                                    "1": "21",
                                    "2": "598.5600",
                                    "3": "11",
                                    "4": "0.150"
                                },
                                {
                                    "0": "10456",
                                    "1": "49",
                                    "2": "315.8500",
                                    "3": "2",
                                    "4": "0.150"
                                },
                                {
                                    "0": "10457",
                                    "1": "59",
                                    "2": "1397.4800",
                                    "3": "14",
                                    "4": "0.000"
                                },
                                {
                                    "0": "10458",
                                    "1": "26",
                                    "2": "2491.6700",
                                    "3": "11",
                                    "4": "0.000"
                                },
                                {
                                    "0": "10458",
                                    "1": "28",
                                    "2": "30.7200",
                                    "3": "10",
                                    "4": "0.000"
                                },
                                {
                                    "0": "10458",
                                    "1": "43",
                                    "2": "82.5100",
                                    "3": "7",
                                    "4": "0.000"
                                },
                                {
                                    "0": "10458",
                                    "1": "56",
                                    "2": "1718.3900",
                                    "3": "13",
                                    "4": "0.000"
                                },
                                {
                                    "0": "10458",
                                    "1": "71",
                                    "2": "396.7300",
                                    "3": "15",
                                    "4": "0.000"
                                },
                                {
                                    "0": "10459",
                                    "1": "7",
                                    "2": "37.4400",
                                    "3": "2",
                                    "4": "0.050"
                                },
                                {
                                    "0": "10459",
                                    "1": "46",
                                    "2": "74.0000",
                                    "3": "4",
                                    "4": "0.050"
                                },
                                {
                                    "0": "10459",
                                    "1": "72",
                                    "2": "95.0300",
                                    "3": "4",
                                    "4": "0.000"
                                },
                                {
                                    "0": "10460",
                                    "1": "68",
                                    "2": "47.9900",
                                    "3": "12",
                                    "4": "0.250"
                                },
                                {
                                    "0": "10460",
                                    "1": "75",
                                    "2": "52.9100",
                                    "3": "12",
                                    "4": "0.250"
                                },
                                {
                                    "0": "10461",
                                    "1": "21",
                                    "2": "598.5600",
                                    "3": "8",
                                    "4": "0.250"
                                },
                                {
                                    "0": "10461",
                                    "1": "30",
                                    "2": "349.9400",
                                    "3": "5",
                                    "4": "0.250"
                                },
                                {
                                    "0": "10461",
                                    "1": "55",
                                    "2": "387.0200",
                                    "3": "14",
                                    "4": "0.250"
                                },
                                {
                                    "0": "10462",
                                    "1": "13",
                                    "2": "57.8200",
                                    "3": "14",
                                    "4": "0.000"
                                },
                                {
                                    "0": "10462",
                                    "1": "23",
                                    "2": "347.4400",
                                    "3": "5",
                                    "4": "0.000"
                                },
                                {
                                    "0": "10463",
                                    "1": "19",
                                    "2": "632.6400",
                                    "3": "3",
                                    "4": "0.000"
                                },
                                {
                                    "0": "10463",
                                    "1": "42",
                                    "2": "1012.3400",
                                    "3": "14",
                                    "4": "0.000"
                                },
                                {
                                    "0": "10464",
                                    "1": "4",
                                    "2": "335.0300",
                                    "3": "9",
                                    "4": "0.200"
                                },
                                {
                                    "0": "10464",
                                    "1": "43",
                                    "2": "84.2300",
                                    "3": "9",
                                    "4": "0.000"
                                },
                                {
                                    "0": "10464",
                                    "1": "56",
                                    "2": "1736.2900",
                                    "3": "8",
                                    "4": "0.200"
                                },
                                {
                                    "0": "10464",
                                    "1": "60",
                                    "2": "717.6000",
                                    "3": "6",
                                    "4": "0.000"
                                },
                                {
                                    "0": "10465",
                                    "1": "24",
                                    "2": "959.9900",
                                    "3": "5",
                                    "4": "0.000"
                                },
                                {
                                    "0": "10465",
                                    "1": "29",
                                    "2": "350.0000",
                                    "3": "10",
                                    "4": "0.100"
                                },
                                {
                                    "0": "10465",
                                    "1": "40",
                                    "2": "186.5800",
                                    "3": "9",
                                    "4": "0.000"
                                },
                                {
                                    "0": "10465",
                                    "1": "45",
                                    "2": "251.0000",
                                    "3": "3",
                                    "4": "0.100"
                                },
                                {
                                    "0": "10465",
                                    "1": "50",
                                    "2": "99.0000",
                                    "3": "9",
                                    "4": "0.000"
                                },
                                {
                                    "0": "10466",
                                    "1": "11",
                                    "2": "606.7200",
                                    "3": "14",
                                    "4": "0.000"
                                },
                                {
                                    "0": "10466",
                                    "1": "46",
                                    "2": "74.7500",
                                    "3": "3",
                                    "4": "0.000"
                                },
                                {
                                    "0": "10467",
                                    "1": "24",
                                    "2": "969.9900",
                                    "3": "1",
                                    "4": "0.000"
                                },
                                {
                                    "0": "10467",
                                    "1": "25",
                                    "2": "898.9900",
                                    "3": "14",
                                    "4": "0.000"
                                },
                                {
                                    "0": "10468",
                                    "1": "30",
                                    "2": "349.9400",
                                    "3": "15",
                                    "4": "0.000"
                                },
                                {
                                    "0": "10468",
                                    "1": "43",
                                    "2": "84.2300",
                                    "3": "12",
                                    "4": "0.000"
                                },
                                {
                                    "0": "10469",
                                    "1": "2",
                                    "2": "1439.0400",
                                    "3": "11",
                                    "4": "0.150"
                                },
                                {
                                    "0": "10469",
                                    "1": "16",
                                    "2": "573.2000",
                                    "3": "13",
                                    "4": "0.150"
                                },
                                {
                                    "0": "10469",
                                    "1": "44",
                                    "2": "573.2000",
                                    "3": "2",
                                    "4": "0.150"
                                },
                                {
                                    "0": "10470",
                                    "1": "18",
                                    "2": "27.8900",
                                    "3": "9",
                                    "4": "0.000"
                                },
                                {
                                    "0": "10470",
                                    "1": "23",
                                    "2": "347.4400",
                                    "3": "1",
                                    "4": "0.000"
                                },
                                {
                                    "0": "10470",
                                    "1": "64",
                                    "2": "1551.0200",
                                    "3": "12",
                                    "4": "0.000"
                                },
                                {
                                    "0": "10471",
                                    "1": "7",
                                    "2": "39.0000",
                                    "3": "6",
                                    "4": "0.000"
                                },
                                {
                                    "0": "10471",
                                    "1": "56",
                                    "2": "1718.3900",
                                    "3": "9",
                                    "4": "0.000"
                                },
                                {
                                    "0": "10472",
                                    "1": "24",
                                    "2": "969.9900",
                                    "3": "4",
                                    "4": "0.050"
                                },
                                {
                                    "0": "10472",
                                    "1": "51",
                                    "2": "44.0500",
                                    "3": "2",
                                    "4": "0.000"
                                },
                                {
                                    "0": "10473",
                                    "1": "33",
                                    "2": "22.7100",
                                    "3": "10",
                                    "4": "0.000"
                                },
                                {
                                    "0": "10473",
                                    "1": "71",
                                    "2": "409.0000",
                                    "3": "1",
                                    "4": "0.000"
                                },
                                {
                                    "0": "10474",
                                    "1": "14",
                                    "2": "23.0200",
                                    "3": "6",
                                    "4": "0.000"
                                },
                                {
                                    "0": "10474",
                                    "1": "28",
                                    "2": "32.0000",
                                    "3": "5",
                                    "4": "0.000"
                                },
                                {
                                    "0": "10474",
                                    "1": "40",
                                    "2": "188.5200",
                                    "3": "11",
                                    "4": "0.000"
                                },
                                {
                                    "0": "10474",
                                    "1": "75",
                                    "2": "53.9900",
                                    "3": "14",
                                    "4": "0.000"
                                },
                                {
                                    "0": "10475",
                                    "1": "31",
                                    "2": "154.2300",
                                    "3": "7",
                                    "4": "0.150"
                                },
                                {
                                    "0": "10475",
                                    "1": "66",
                                    "2": "76.7200",
                                    "3": "10",
                                    "4": "0.150"
                                },
                                {
                                    "0": "10475",
                                    "1": "76",
                                    "2": "66.6400",
                                    "3": "3",
                                    "4": "0.150"
                                },
                                {
                                    "0": "10476",
                                    "1": "55",
                                    "2": "398.9900",
                                    "3": "8",
                                    "4": "0.050"
                                },
                                {
                                    "0": "10476",
                                    "1": "70",
                                    "2": "82.3200",
                                    "3": "3",
                                    "4": "0.000"
                                },
                                {
                                    "0": "10477",
                                    "1": "1",
                                    "2": "1299.0000",
                                    "3": "13",
                                    "4": "0.000"
                                },
                                {
                                    "0": "10477",
                                    "1": "21",
                                    "2": "598.5600",
                                    "3": "7",
                                    "4": "0.250"
                                },
                                {
                                    "0": "10477",
                                    "1": "39",
                                    "2": "22.3100",
                                    "3": "11",
                                    "4": "0.250"
                                },
                                {
                                    "0": "10478",
                                    "1": "10",
                                    "2": "755.6300",
                                    "3": "9",
                                    "4": "0.050"
                                },
                                {
                                    "0": "10479",
                                    "1": "38",
                                    "2": "336.1100",
                                    "3": "13",
                                    "4": "0.000"
                                },
                                {
                                    "0": "10479",
                                    "1": "53",
                                    "2": "297.0000",
                                    "3": "6",
                                    "4": "0.000"
                                },
                                {
                                    "0": "10479",
                                    "1": "59",
                                    "2": "1397.4800",
                                    "3": "8",
                                    "4": "0.000"
                                },
                                {
                                    "0": "10479",
                                    "1": "64",
                                    "2": "1567.0100",
                                    "3": "4",
                                    "4": "0.000"
                                },
                                {
                                    "0": "10480",
                                    "1": "47",
                                    "2": "949.4400",
                                    "3": "13",
                                    "4": "0.000"
                                },
                                {
                                    "0": "10480",
                                    "1": "59",
                                    "2": "1368.9600",
                                    "3": "7",
                                    "4": "0.000"
                                },
                                {
                                    "0": "10481",
                                    "1": "49",
                                    "2": "315.8500",
                                    "3": "7",
                                    "4": "0.000"
                                },
                                {
                                    "0": "10481",
                                    "1": "60",
                                    "2": "717.6000",
                                    "3": "14",
                                    "4": "0.000"
                                },
                                {
                                    "0": "10482",
                                    "1": "40",
                                    "2": "190.4600",
                                    "3": "10",
                                    "4": "0.000"
                                },
                                {
                                    "0": "10483",
                                    "1": "34",
                                    "2": "1484.0100",
                                    "3": "5",
                                    "4": "0.050"
                                },
                                {
                                    "0": "10483",
                                    "1": "77",
                                    "2": "124.9400",
                                    "3": "2",
                                    "4": "0.050"
                                },
                                {
                                    "0": "10484",
                                    "1": "21",
                                    "2": "611.0300",
                                    "3": "9",
                                    "4": "0.000"
                                },
                                {
                                    "0": "10484",
                                    "1": "40",
                                    "2": "190.4600",
                                    "3": "9",
                                    "4": "0.000"
                                },
                                {
                                    "0": "10484",
                                    "1": "51",
                                    "2": "44.0500",
                                    "3": "2",
                                    "4": "0.000"
                                },
                                {
                                    "0": "10485",
                                    "1": "2",
                                    "2": "1484.0100",
                                    "3": "10",
                                    "4": "0.100"
                                },
                                {
                                    "0": "10485",
                                    "1": "3",
                                    "2": "767.0400",
                                    "3": "9",
                                    "4": "0.100"
                                },
                                {
                                    "0": "10485",
                                    "1": "55",
                                    "2": "387.0200",
                                    "3": "11",
                                    "4": "0.100"
                                },
                                {
                                    "0": "10485",
                                    "1": "70",
                                    "2": "84.0000",
                                    "3": "15",
                                    "4": "0.100"
                                },
                                {
                                    "0": "10486",
                                    "1": "11",
                                    "2": "632.0000",
                                    "3": "3",
                                    "4": "0.000"
                                },
                                {
                                    "0": "10486",
                                    "1": "51",
                                    "2": "44.4900",
                                    "3": "10",
                                    "4": "0.000"
                                },
                                {
                                    "0": "10486",
                                    "1": "74",
                                    "2": "33.1400",
                                    "3": "12",
                                    "4": "0.000"
                                },
                                {
                                    "0": "10487",
                                    "1": "19",
                                    "2": "639.2300",
                                    "3": "15",
                                    "4": "0.000"
                                },
                                {
                                    "0": "10487",
                                    "1": "26",
                                    "2": "2491.6700",
                                    "3": "11",
                                    "4": "0.000"
                                },
                                {
                                    "0": "10487",
                                    "1": "54",
                                    "2": "661.2500",
                                    "3": "6",
                                    "4": "0.250"
                                },
                                {
                                    "0": "10488",
                                    "1": "59",
                                    "2": "1426.0000",
                                    "3": "4",
                                    "4": "0.000"
                                },
                                {
                                    "0": "10488",
                                    "1": "73",
                                    "2": "191.0600",
                                    "3": "9",
                                    "4": "0.200"
                                },
                                {
                                    "0": "10489",
                                    "1": "11",
                                    "2": "619.3600",
                                    "3": "5",
                                    "4": "0.250"
                                },
                                {
                                    "0": "10489",
                                    "1": "16",
                                    "2": "561.6200",
                                    "3": "3",
                                    "4": "0.000"
                                },
                                {
                                    "0": "10490",
                                    "1": "59",
                                    "2": "1397.4800",
                                    "3": "13",
                                    "4": "0.000"
                                },
                                {
                                    "0": "10490",
                                    "1": "68",
                                    "2": "48.4900",
                                    "3": "4",
                                    "4": "0.000"
                                },
                                {
                                    "0": "10490",
                                    "1": "75",
                                    "2": "52.9100",
                                    "3": "4",
                                    "4": "0.000"
                                },
                                {
                                    "0": "10491",
                                    "1": "44",
                                    "2": "578.9900",
                                    "3": "14",
                                    "4": "0.150"
                                },
                                {
                                    "0": "10491",
                                    "1": "77",
                                    "2": "124.9400",
                                    "3": "6",
                                    "4": "0.150"
                                },
                                {
                                    "0": "10492",
                                    "1": "25",
                                    "2": "898.9900",
                                    "3": "8",
                                    "4": "0.050"
                                },
                                {
                                    "0": "10492",
                                    "1": "42",
                                    "2": "991.6800",
                                    "3": "8",
                                    "4": "0.050"
                                },
                                {
                                    "0": "10493",
                                    "1": "65",
                                    "2": "182.8500",
                                    "3": "13",
                                    "4": "0.100"
                                },
                                {
                                    "0": "10493",
                                    "1": "66",
                                    "2": "76.7200",
                                    "3": "12",
                                    "4": "0.100"
                                },
                                {
                                    "0": "10493",
                                    "1": "69",
                                    "2": "319.6700",
                                    "3": "3",
                                    "4": "0.100"
                                },
                                {
                                    "0": "10494",
                                    "1": "56",
                                    "2": "1789.9900",
                                    "3": "8",
                                    "4": "0.000"
                                },
                                {
                                    "0": "10495",
                                    "1": "23",
                                    "2": "347.4400",
                                    "3": "15",
                                    "4": "0.000"
                                },
                                {
                                    "0": "10495",
                                    "1": "41",
                                    "2": "126.9600",
                                    "3": "9",
                                    "4": "0.000"
                                },
                                {
                                    "0": "10495",
                                    "1": "77",
                                    "2": "127.5100",
                                    "3": "7",
                                    "4": "0.000"
                                },
                                {
                                    "0": "10496",
                                    "1": "31",
                                    "2": "152.6400",
                                    "3": "13",
                                    "4": "0.050"
                                },
                                {
                                    "0": "10497",
                                    "1": "56",
                                    "2": "1736.2900",
                                    "3": "8",
                                    "4": "0.000"
                                },
                                {
                                    "0": "10497",
                                    "1": "72",
                                    "2": "97.0100",
                                    "3": "14",
                                    "4": "0.000"
                                },
                                {
                                    "0": "10497",
                                    "1": "77",
                                    "2": "127.5100",
                                    "3": "5",
                                    "4": "0.000"
                                },
                                {
                                    "0": "10498",
                                    "1": "24",
                                    "2": "989.9900",
                                    "3": "9",
                                    "4": "0.000"
                                },
                                {
                                    "0": "10498",
                                    "1": "40",
                                    "2": "188.5200",
                                    "3": "3",
                                    "4": "0.000"
                                },
                                {
                                    "0": "10498",
                                    "1": "42",
                                    "2": "1033.0000",
                                    "3": "1",
                                    "4": "0.000"
                                },
                                {
                                    "0": "10499",
                                    "1": "28",
                                    "2": "31.6800",
                                    "3": "11",
                                    "4": "0.000"
                                },
                                {
                                    "0": "10499",
                                    "1": "49",
                                    "2": "319.1100",
                                    "3": "3",
                                    "4": "0.000"
                                },
                                {
                                    "0": "10500",
                                    "1": "15",
                                    "2": "278.9900",
                                    "3": "6",
                                    "4": "0.050"
                                },
                                {
                                    "0": "10500",
                                    "1": "28",
                                    "2": "31.6800",
                                    "3": "14",
                                    "4": "0.050"
                                },
                                {
                                    "0": "10501",
                                    "1": "54",
                                    "2": "661.2500",
                                    "3": "1",
                                    "4": "0.000"
                                },
                                {
                                    "0": "10502",
                                    "1": "45",
                                    "2": "245.9800",
                                    "3": "4",
                                    "4": "0.000"
                                },
                                {
                                    "0": "10502",
                                    "1": "53",
                                    "2": "297.0000",
                                    "3": "9",
                                    "4": "0.000"
                                },
                                {
                                    "0": "10502",
                                    "1": "67",
                                    "2": "19.8000",
                                    "3": "8",
                                    "4": "0.000"
                                },
                                {
                                    "0": "10503",
                                    "1": "14",
                                    "2": "22.5500",
                                    "3": "14",
                                    "4": "0.000"
                                },
                                {
                                    "0": "10503",
                                    "1": "65",
                                    "2": "177.3600",
                                    "3": "5",
                                    "4": "0.000"
                                },
                                {
                                    "0": "10504",
                                    "1": "2",
                                    "2": "1439.0400",
                                    "3": "6",
                                    "4": "0.000"
                                },
                                {
                                    "0": "10504",
                                    "1": "21",
                                    "2": "598.5600",
                                    "3": "2",
                                    "4": "0.000"
                                },
                                {
                                    "0": "10504",
                                    "1": "53",
                                    "2": "288.0000",
                                    "3": "1",
                                    "4": "0.000"
                                },
                                {
                                    "0": "10504",
                                    "1": "61",
                                    "2": "145.0300",
                                    "3": "6",
                                    "4": "0.000"
                                },
                                {
                                    "0": "10505",
                                    "1": "62",
                                    "2": "69.9900",
                                    "3": "12",
                                    "4": "0.000"
                                },
                                {
                                    "0": "10506",
                                    "1": "25",
                                    "2": "898.9900",
                                    "3": "6",
                                    "4": "0.100"
                                },
                                {
                                    "0": "10506",
                                    "1": "70",
                                    "2": "81.4800",
                                    "3": "3",
                                    "4": "0.100"
                                },
                                {
                                    "0": "10507",
                                    "1": "43",
                                    "2": "82.5100",
                                    "3": "8",
                                    "4": "0.150"
                                },
                                {
                                    "0": "10507",
                                    "1": "48",
                                    "2": "1454.0300",
                                    "3": "15",
                                    "4": "0.150"
                                },
                                {
                                    "0": "10508",
                                    "1": "13",
                                    "2": "57.2300",
                                    "3": "13",
                                    "4": "0.000"
                                },
                                {
                                    "0": "10508",
                                    "1": "39",
                                    "2": "22.3100",
                                    "3": "12",
                                    "4": "0.000"
                                },
                                {
                                    "0": "10509",
                                    "1": "28",
                                    "2": "30.7200",
                                    "3": "4",
                                    "4": "0.000"
                                },
                                {
                                    "0": "10510",
                                    "1": "29",
                                    "2": "339.5000",
                                    "3": "3",
                                    "4": "0.000"
                                },
                                {
                                    "0": "10510",
                                    "1": "75",
                                    "2": "52.9100",
                                    "3": "14",
                                    "4": "0.100"
                                },
                                {
                                    "0": "10511",
                                    "1": "4",
                                    "2": "338.5200",
                                    "3": "1",
                                    "4": "0.150"
                                },
                                {
                                    "0": "10511",
                                    "1": "7",
                                    "2": "37.8300",
                                    "3": "4",
                                    "4": "0.150"
                                },
                                {
                                    "0": "10511",
                                    "1": "8",
                                    "2": "167.9200",
                                    "3": "12",
                                    "4": "0.150"
                                },
                                {
                                    "0": "10512",
                                    "1": "24",
                                    "2": "989.9900",
                                    "3": "2",
                                    "4": "0.150"
                                },
                                {
                                    "0": "10512",
                                    "1": "46",
                                    "2": "72.5100",
                                    "3": "15",
                                    "4": "0.150"
                                },
                                {
                                    "0": "10512",
                                    "1": "47",
                                    "2": "949.4400",
                                    "3": "4",
                                    "4": "0.150"
                                },
                                {
                                    "0": "10512",
                                    "1": "60",
                                    "2": "732.5500",
                                    "3": "2",
                                    "4": "0.150"
                                },
                                {
                                    "0": "10513",
                                    "1": "21",
                                    "2": "617.2700",
                                    "3": "1",
                                    "4": "0.200"
                                },
                                {
                                    "0": "10513",
                                    "1": "32",
                                    "2": "251.2200",
                                    "3": "1",
                                    "4": "0.200"
                                },
                                {
                                    "0": "10513",
                                    "1": "61",
                                    "2": "146.5100",
                                    "3": "7",
                                    "4": "0.200"
                                },
                                {
                                    "0": "10514",
                                    "1": "20",
                                    "2": "595.0000",
                                    "3": "6",
                                    "4": "0.000"
                                },
                                {
                                    "0": "10514",
                                    "1": "28",
                                    "2": "31.6800",
                                    "3": "15",
                                    "4": "0.000"
                                },
                                {
                                    "0": "10514",
                                    "1": "56",
                                    "2": "1772.0900",
                                    "3": "5",
                                    "4": "0.000"
                                },
                                {
                                    "0": "10514",
                                    "1": "65",
                                    "2": "177.3600",
                                    "3": "10",
                                    "4": "0.000"
                                },
                                {
                                    "0": "10514",
                                    "1": "75",
                                    "2": "51.8300",
                                    "3": "14",
                                    "4": "0.000"
                                },
                                {
                                    "0": "10515",
                                    "1": "9",
                                    "2": "490.0500",
                                    "3": "12",
                                    "4": "0.150"
                                },
                                {
                                    "0": "10515",
                                    "1": "16",
                                    "2": "555.8300",
                                    "3": "9",
                                    "4": "0.000"
                                },
                                {
                                    "0": "10515",
                                    "1": "27",
                                    "2": "249.0000",
                                    "3": "4",
                                    "4": "0.000"
                                },
                                {
                                    "0": "10515",
                                    "1": "33",
                                    "2": "22.9400",
                                    "3": "12",
                                    "4": "0.150"
                                },
                                {
                                    "0": "10515",
                                    "1": "60",
                                    "2": "740.0300",
                                    "3": "2",
                                    "4": "0.150"
                                },
                                {
                                    "0": "10516",
                                    "1": "18",
                                    "2": "27.6000",
                                    "3": "15",
                                    "4": "0.100"
                                },
                                {
                                    "0": "10516",
                                    "1": "41",
                                    "2": "130.9300",
                                    "3": "15",
                                    "4": "0.100"
                                },
                                {
                                    "0": "10516",
                                    "1": "42",
                                    "2": "1022.6700",
                                    "3": "15",
                                    "4": "0.000"
                                },
                                {
                                    "0": "10517",
                                    "1": "52",
                                    "2": "408.9500",
                                    "3": "1",
                                    "4": "0.000"
                                },
                                {
                                    "0": "10517",
                                    "1": "59",
                                    "2": "1383.2200",
                                    "3": "7",
                                    "4": "0.000"
                                },
                                {
                                    "0": "10517",
                                    "1": "70",
                                    "2": "84.0000",
                                    "3": "15",
                                    "4": "0.000"
                                },
                                {
                                    "0": "10518",
                                    "1": "24",
                                    "2": "989.9900",
                                    "3": "14",
                                    "4": "0.000"
                                },
                                {
                                    "0": "10518",
                                    "1": "38",
                                    "2": "339.5000",
                                    "3": "12",
                                    "4": "0.000"
                                },
                                {
                                    "0": "10518",
                                    "1": "44",
                                    "2": "567.4100",
                                    "3": "14",
                                    "4": "0.000"
                                },
                                {
                                    "0": "10519",
                                    "1": "10",
                                    "2": "779.0000",
                                    "3": "11",
                                    "4": "0.050"
                                },
                                {
                                    "0": "10519",
                                    "1": "56",
                                    "2": "1772.0900",
                                    "3": "6",
                                    "4": "0.000"
                                },
                                {
                                    "0": "10519",
                                    "1": "60",
                                    "2": "747.5000",
                                    "3": "14",
                                    "4": "0.050"
                                },
                                {
                                    "0": "10520",
                                    "1": "24",
                                    "2": "999.9900",
                                    "3": "10",
                                    "4": "0.000"
                                },
                                {
                                    "0": "10520",
                                    "1": "53",
                                    "2": "297.0000",
                                    "3": "6",
                                    "4": "0.000"
                                },
                                {
                                    "0": "10521",
                                    "1": "35",
                                    "2": "68.3100",
                                    "3": "1",
                                    "4": "0.000"
                                },
                                {
                                    "0": "10521",
                                    "1": "41",
                                    "2": "132.2500",
                                    "3": "9",
                                    "4": "0.000"
                                },
                                {
                                    "0": "10521",
                                    "1": "68",
                                    "2": "48.9900",
                                    "3": "7",
                                    "4": "0.000"
                                },
                                {
                                    "0": "10522",
                                    "1": "1",
                                    "2": "1247.0400",
                                    "3": "5",
                                    "4": "0.200"
                                },
                                {
                                    "0": "10522",
                                    "1": "8",
                                    "2": "164.5000",
                                    "3": "8",
                                    "4": "0.000"
                                },
                                {
                                    "0": "10522",
                                    "1": "30",
                                    "2": "339.4400",
                                    "3": "14",
                                    "4": "0.200"
                                },
                                {
                                    "0": "10522",
                                    "1": "40",
                                    "2": "192.4100",
                                    "3": "10",
                                    "4": "0.200"
                                },
                                {
                                    "0": "10523",
                                    "1": "17",
                                    "2": "386.0600",
                                    "3": "3",
                                    "4": "0.100"
                                },
                                {
                                    "0": "10523",
                                    "1": "20",
                                    "2": "589.0500",
                                    "3": "14",
                                    "4": "0.100"
                                },
                                {
                                    "0": "10523",
                                    "1": "37",
                                    "2": "240.3500",
                                    "3": "10",
                                    "4": "0.100"
                                },
                                {
                                    "0": "10523",
                                    "1": "41",
                                    "2": "132.2500",
                                    "3": "2",
                                    "4": "0.100"
                                },
                                {
                                    "0": "10524",
                                    "1": "10",
                                    "2": "771.2100",
                                    "3": "11",
                                    "4": "0.000"
                                },
                                {
                                    "0": "10524",
                                    "1": "30",
                                    "2": "339.4400",
                                    "3": "11",
                                    "4": "0.000"
                                },
                                {
                                    "0": "10524",
                                    "1": "43",
                                    "2": "84.2300",
                                    "3": "1",
                                    "4": "0.000"
                                },
                                {
                                    "0": "10524",
                                    "1": "54",
                                    "2": "641.4100",
                                    "3": "14",
                                    "4": "0.000"
                                },
                                {
                                    "0": "10525",
                                    "1": "36",
                                    "2": "681.9600",
                                    "3": "4",
                                    "4": "0.000"
                                },
                                {
                                    "0": "10525",
                                    "1": "40",
                                    "2": "186.5800",
                                    "3": "9",
                                    "4": "0.100"
                                },
                                {
                                    "0": "10526",
                                    "1": "1",
                                    "2": "1247.0400",
                                    "3": "1",
                                    "4": "0.150"
                                },
                                {
                                    "0": "10526",
                                    "1": "13",
                                    "2": "58.4100",
                                    "3": "3",
                                    "4": "0.000"
                                },
                                {
                                    "0": "10526",
                                    "1": "56",
                                    "2": "1772.0900",
                                    "3": "6",
                                    "4": "0.150"
                                },
                                {
                                    "0": "10527",
                                    "1": "4",
                                    "2": "335.0300",
                                    "3": "4",
                                    "4": "0.100"
                                },
                                {
                                    "0": "10527",
                                    "1": "36",
                                    "2": "661.3000",
                                    "3": "15",
                                    "4": "0.100"
                                },
                                {
                                    "0": "10528",
                                    "1": "11",
                                    "2": "606.7200",
                                    "3": "2",
                                    "4": "0.000"
                                },
                                {
                                    "0": "10528",
                                    "1": "33",
                                    "2": "22.7100",
                                    "3": "4",
                                    "4": "0.200"
                                },
                                {
                                    "0": "10528",
                                    "1": "72",
                                    "2": "98.9900",
                                    "3": "4",
                                    "4": "0.000"
                                },
                                {
                                    "0": "10529",
                                    "1": "55",
                                    "2": "391.0100",
                                    "3": "6",
                                    "4": "0.000"
                                },
                                {
                                    "0": "10529",
                                    "1": "68",
                                    "2": "49.9900",
                                    "3": "9",
                                    "4": "0.000"
                                },
                                {
                                    "0": "10529",
                                    "1": "69",
                                    "2": "329.6600",
                                    "3": "1",
                                    "4": "0.000"
                                },
                                {
                                    "0": "10530",
                                    "1": "17",
                                    "2": "390.0400",
                                    "3": "2",
                                    "4": "0.000"
                                },
                                {
                                    "0": "10530",
                                    "1": "43",
                                    "2": "85.0900",
                                    "3": "10",
                                    "4": "0.000"
                                },
                                {
                                    "0": "10530",
                                    "1": "61",
                                    "2": "142.0700",
                                    "3": "5",
                                    "4": "0.000"
                                },
                                {
                                    "0": "10530",
                                    "1": "76",
                                    "2": "66.6400",
                                    "3": "1",
                                    "4": "0.000"
                                },
                                {
                                    "0": "10531",
                                    "1": "59",
                                    "2": "1383.2200",
                                    "3": "14",
                                    "4": "0.000"
                                },
                                {
                                    "0": "10532",
                                    "1": "30",
                                    "2": "349.9400",
                                    "3": "5",
                                    "4": "0.000"
                                },
                                {
                                    "0": "10532",
                                    "1": "66",
                                    "2": "77.5200",
                                    "3": "2",
                                    "4": "0.000"
                                },
                                {
                                    "0": "10533",
                                    "1": "4",
                                    "2": "338.5200",
                                    "3": "13",
                                    "4": "0.050"
                                },
                                {
                                    "0": "10533",
                                    "1": "72",
                                    "2": "97.0100",
                                    "3": "9",
                                    "4": "0.000"
                                },
                                {
                                    "0": "10533",
                                    "1": "73",
                                    "2": "191.0600",
                                    "3": "5",
                                    "4": "0.050"
                                },
                                {
                                    "0": "10534",
                                    "1": "30",
                                    "2": "339.4400",
                                    "3": "8",
                                    "4": "0.000"
                                },
                                {
                                    "0": "10534",
                                    "1": "40",
                                    "2": "186.5800",
                                    "3": "5",
                                    "4": "0.200"
                                },
                                {
                                    "0": "10534",
                                    "1": "54",
                                    "2": "641.4100",
                                    "3": "14",
                                    "4": "0.200"
                                },
                                {
                                    "0": "10535",
                                    "1": "11",
                                    "2": "606.7200",
                                    "3": "7",
                                    "4": "0.100"
                                },
                                {
                                    "0": "10535",
                                    "1": "40",
                                    "2": "192.4100",
                                    "3": "3",
                                    "4": "0.100"
                                },
                                {
                                    "0": "10535",
                                    "1": "57",
                                    "2": "2104.0000",
                                    "3": "15",
                                    "4": "0.100"
                                },
                                {
                                    "0": "10535",
                                    "1": "59",
                                    "2": "1383.2200",
                                    "3": "8",
                                    "4": "0.100"
                                },
                                {
                                    "0": "10536",
                                    "1": "12",
                                    "2": "440.6400",
                                    "3": "1",
                                    "4": "0.250"
                                },
                                {
                                    "0": "10536",
                                    "1": "31",
                                    "2": "154.2300",
                                    "3": "12",
                                    "4": "0.000"
                                },
                                {
                                    "0": "10536",
                                    "1": "33",
                                    "2": "22.9400",
                                    "3": "8",
                                    "4": "0.000"
                                },
                                {
                                    "0": "10536",
                                    "1": "60",
                                    "2": "717.6000",
                                    "3": "10",
                                    "4": "0.250"
                                },
                                {
                                    "0": "10537",
                                    "1": "31",
                                    "2": "152.6400",
                                    "3": "8",
                                    "4": "0.000"
                                },
                                {
                                    "0": "10537",
                                    "1": "51",
                                    "2": "44.0500",
                                    "3": "7",
                                    "4": "0.000"
                                },
                                {
                                    "0": "10537",
                                    "1": "58",
                                    "2": "96.0200",
                                    "3": "8",
                                    "4": "0.000"
                                },
                                {
                                    "0": "10537",
                                    "1": "72",
                                    "2": "95.0300",
                                    "3": "1",
                                    "4": "0.000"
                                },
                                {
                                    "0": "10537",
                                    "1": "73",
                                    "2": "189.1300",
                                    "3": "14",
                                    "4": "0.000"
                                },
                                {
                                    "0": "10538",
                                    "1": "70",
                                    "2": "84.0000",
                                    "3": "5",
                                    "4": "0.000"
                                },
                                {
                                    "0": "10538",
                                    "1": "72",
                                    "2": "98.9900",
                                    "3": "13",
                                    "4": "0.000"
                                },
                                {
                                    "0": "10539",
                                    "1": "13",
                                    "2": "57.8200",
                                    "3": "13",
                                    "4": "0.000"
                                },
                                {
                                    "0": "10539",
                                    "1": "21",
                                    "2": "617.2700",
                                    "3": "2",
                                    "4": "0.000"
                                },
                                {
                                    "0": "10539",
                                    "1": "33",
                                    "2": "22.2500",
                                    "3": "12",
                                    "4": "0.000"
                                },
                                {
                                    "0": "10539",
                                    "1": "49",
                                    "2": "322.3600",
                                    "3": "9",
                                    "4": "0.000"
                                },
                                {
                                    "0": "10540",
                                    "1": "3",
                                    "2": "767.0400",
                                    "3": "7",
                                    "4": "0.000"
                                },
                                {
                                    "0": "10540",
                                    "1": "26",
                                    "2": "2466.7500",
                                    "3": "1",
                                    "4": "0.000"
                                },
                                {
                                    "0": "10540",
                                    "1": "38",
                                    "2": "339.5000",
                                    "3": "12",
                                    "4": "0.000"
                                },
                                {
                                    "0": "10540",
                                    "1": "68",
                                    "2": "47.9900",
                                    "3": "1",
                                    "4": "0.000"
                                },
                                {
                                    "0": "10541",
                                    "1": "24",
                                    "2": "959.9900",
                                    "3": "8",
                                    "4": "0.100"
                                },
                                {
                                    "0": "10541",
                                    "1": "38",
                                    "2": "339.5000",
                                    "3": "4",
                                    "4": "0.100"
                                },
                                {
                                    "0": "10541",
                                    "1": "65",
                                    "2": "179.1900",
                                    "3": "14",
                                    "4": "0.100"
                                },
                                {
                                    "0": "10541",
                                    "1": "71",
                                    "2": "396.7300",
                                    "3": "3",
                                    "4": "0.100"
                                },
                                {
                                    "0": "10542",
                                    "1": "11",
                                    "2": "613.0400",
                                    "3": "8",
                                    "4": "0.050"
                                },
                                {
                                    "0": "10542",
                                    "1": "54",
                                    "2": "634.8000",
                                    "3": "8",
                                    "4": "0.050"
                                },
                                {
                                    "0": "10543",
                                    "1": "12",
                                    "2": "454.4100",
                                    "3": "4",
                                    "4": "0.150"
                                },
                                {
                                    "0": "10543",
                                    "1": "23",
                                    "2": "347.4400",
                                    "3": "9",
                                    "4": "0.150"
                                },
                                {
                                    "0": "10544",
                                    "1": "28",
                                    "2": "32.0000",
                                    "3": "2",
                                    "4": "0.000"
                                },
                                {
                                    "0": "10544",
                                    "1": "67",
                                    "2": "19.4000",
                                    "3": "14",
                                    "4": "0.000"
                                },
                                {
                                    "0": "10545",
                                    "1": "11",
                                    "2": "632.0000",
                                    "3": "4",
                                    "4": "0.000"
                                },
                                {
                                    "0": "10546",
                                    "1": "7",
                                    "2": "38.2200",
                                    "3": "2",
                                    "4": "0.000"
                                },
                                {
                                    "0": "10546",
                                    "1": "35",
                                    "2": "69.0000",
                                    "3": "2",
                                    "4": "0.000"
                                },
                                {
                                    "0": "10546",
                                    "1": "62",
                                    "2": "69.9900",
                                    "3": "15",
                                    "4": "0.000"
                                },
                                {
                                    "0": "10547",
                                    "1": "32",
                                    "2": "248.6300",
                                    "3": "7",
                                    "4": "0.150"
                                },
                                {
                                    "0": "10547",
                                    "1": "36",
                                    "2": "675.0700",
                                    "3": "6",
                                    "4": "0.000"
                                },
                                {
                                    "0": "10548",
                                    "1": "34",
                                    "2": "1484.0100",
                                    "3": "11",
                                    "4": "0.250"
                                },
                                {
                                    "0": "10548",
                                    "1": "41",
                                    "2": "128.2800",
                                    "3": "13",
                                    "4": "0.000"
                                },
                                {
                                    "0": "10549",
                                    "1": "31",
                                    "2": "159.0000",
                                    "3": "8",
                                    "4": "0.150"
                                },
                                {
                                    "0": "10549",
                                    "1": "45",
                                    "2": "251.0000",
                                    "3": "15",
                                    "4": "0.150"
                                },
                                {
                                    "0": "10549",
                                    "1": "51",
                                    "2": "44.4900",
                                    "3": "3",
                                    "4": "0.150"
                                },
                                {
                                    "0": "10550",
                                    "1": "17",
                                    "2": "390.0400",
                                    "3": "3",
                                    "4": "0.100"
                                },
                                {
                                    "0": "10550",
                                    "1": "19",
                                    "2": "652.4100",
                                    "3": "3",
                                    "4": "0.000"
                                },
                                {
                                    "0": "10550",
                                    "1": "21",
                                    "2": "611.0300",
                                    "3": "3",
                                    "4": "0.100"
                                },
                                {
                                    "0": "10550",
                                    "1": "61",
                                    "2": "142.0700",
                                    "3": "3",
                                    "4": "0.100"
                                },
                                {
                                    "0": "10551",
                                    "1": "16",
                                    "2": "561.6200",
                                    "3": "9",
                                    "4": "0.150"
                                },
                                {
                                    "0": "10551",
                                    "1": "35",
                                    "2": "68.3100",
                                    "3": "8",
                                    "4": "0.150"
                                },
                                {
                                    "0": "10551",
                                    "1": "44",
                                    "2": "578.9900",
                                    "3": "2",
                                    "4": "0.000"
                                },
                                {
                                    "0": "10552",
                                    "1": "69",
                                    "2": "323.0000",
                                    "3": "6",
                                    "4": "0.000"
                                },
                                {
                                    "0": "10552",
                                    "1": "75",
                                    "2": "52.9100",
                                    "3": "3",
                                    "4": "0.000"
                                },
                                {
                                    "0": "10553",
                                    "1": "11",
                                    "2": "619.3600",
                                    "3": "5",
                                    "4": "0.000"
                                },
                                {
                                    "0": "10553",
                                    "1": "16",
                                    "2": "573.2000",
                                    "3": "2",
                                    "4": "0.000"
                                },
                                {
                                    "0": "10553",
                                    "1": "22",
                                    "2": "3669.1200",
                                    "3": "13",
                                    "4": "0.000"
                                },
                                {
                                    "0": "10553",
                                    "1": "31",
                                    "2": "152.6400",
                                    "3": "1",
                                    "4": "0.000"
                                },
                                {
                                    "0": "10553",
                                    "1": "35",
                                    "2": "66.9300",
                                    "3": "12",
                                    "4": "0.000"
                                },
                                {
                                    "0": "10554",
                                    "1": "16",
                                    "2": "578.9900",
                                    "3": "15",
                                    "4": "0.050"
                                },
                                {
                                    "0": "10554",
                                    "1": "23",
                                    "2": "347.4400",
                                    "3": "14",
                                    "4": "0.050"
                                },
                                {
                                    "0": "10554",
                                    "1": "62",
                                    "2": "69.9900",
                                    "3": "6",
                                    "4": "0.050"
                                },
                                {
                                    "0": "10554",
                                    "1": "77",
                                    "2": "126.2200",
                                    "3": "9",
                                    "4": "0.050"
                                },
                                {
                                    "0": "10555",
                                    "1": "14",
                                    "2": "23.2500",
                                    "3": "1",
                                    "4": "0.200"
                                },
                                {
                                    "0": "10555",
                                    "1": "19",
                                    "2": "639.2300",
                                    "3": "12",
                                    "4": "0.200"
                                },
                                {
                                    "0": "10555",
                                    "1": "24",
                                    "2": "999.9900",
                                    "3": "9",
                                    "4": "0.200"
                                },
                                {
                                    "0": "10555",
                                    "1": "51",
                                    "2": "43.6000",
                                    "3": "8",
                                    "4": "0.200"
                                },
                                {
                                    "0": "10555",
                                    "1": "56",
                                    "2": "1772.0900",
                                    "3": "12",
                                    "4": "0.200"
                                },
                                {
                                    "0": "10556",
                                    "1": "72",
                                    "2": "98.9900",
                                    "3": "13",
                                    "4": "0.000"
                                },
                                {
                                    "0": "10557",
                                    "1": "64",
                                    "2": "1535.0300",
                                    "3": "9",
                                    "4": "0.000"
                                },
                                {
                                    "0": "10557",
                                    "1": "75",
                                    "2": "52.9100",
                                    "3": "11",
                                    "4": "0.000"
                                },
                                {
                                    "0": "10558",
                                    "1": "47",
                                    "2": "989.0000",
                                    "3": "14",
                                    "4": "0.000"
                                },
                                {
                                    "0": "10558",
                                    "1": "51",
                                    "2": "43.1600",
                                    "3": "4",
                                    "4": "0.000"
                                },
                                {
                                    "0": "10558",
                                    "1": "52",
                                    "2": "408.9500",
                                    "3": "2",
                                    "4": "0.000"
                                },
                                {
                                    "0": "10558",
                                    "1": "53",
                                    "2": "291.0000",
                                    "3": "1",
                                    "4": "0.000"
                                },
                                {
                                    "0": "10558",
                                    "1": "73",
                                    "2": "192.9900",
                                    "3": "1",
                                    "4": "0.000"
                                },
                                {
                                    "0": "10559",
                                    "1": "41",
                                    "2": "129.6100",
                                    "3": "5",
                                    "4": "0.050"
                                },
                                {
                                    "0": "10559",
                                    "1": "55",
                                    "2": "398.9900",
                                    "3": "8",
                                    "4": "0.050"
                                },
                                {
                                    "0": "10560",
                                    "1": "30",
                                    "2": "342.9400",
                                    "3": "6",
                                    "4": "0.000"
                                },
                                {
                                    "0": "10560",
                                    "1": "62",
                                    "2": "68.5900",
                                    "3": "14",
                                    "4": "0.250"
                                },
                                {
                                    "0": "10561",
                                    "1": "44",
                                    "2": "573.2000",
                                    "3": "8",
                                    "4": "0.000"
                                },
                                {
                                    "0": "10561",
                                    "1": "51",
                                    "2": "44.0500",
                                    "3": "14",
                                    "4": "0.000"
                                },
                                {
                                    "0": "10562",
                                    "1": "33",
                                    "2": "22.4800",
                                    "3": "14",
                                    "4": "0.100"
                                },
                                {
                                    "0": "10562",
                                    "1": "62",
                                    "2": "67.1900",
                                    "3": "1",
                                    "4": "0.100"
                                },
                                {
                                    "0": "10563",
                                    "1": "36",
                                    "2": "661.3000",
                                    "3": "2",
                                    "4": "0.000"
                                },
                                {
                                    "0": "10563",
                                    "1": "52",
                                    "2": "417.4700",
                                    "3": "10",
                                    "4": "0.000"
                                },
                                {
                                    "0": "10564",
                                    "1": "17",
                                    "2": "382.0800",
                                    "3": "6",
                                    "4": "0.050"
                                },
                                {
                                    "0": "10564",
                                    "1": "31",
                                    "2": "152.6400",
                                    "3": "13",
                                    "4": "0.050"
                                },
                                {
                                    "0": "10564",
                                    "1": "55",
                                    "2": "383.0300",
                                    "3": "12",
                                    "4": "0.050"
                                },
                                {
                                    "0": "10565",
                                    "1": "24",
                                    "2": "959.9900",
                                    "3": "4",
                                    "4": "0.100"
                                },
                                {
                                    "0": "10565",
                                    "1": "64",
                                    "2": "1535.0300",
                                    "3": "15",
                                    "4": "0.100"
                                },
                                {
                                    "0": "10566",
                                    "1": "11",
                                    "2": "625.6800",
                                    "3": "10",
                                    "4": "0.150"
                                },
                                {
                                    "0": "10566",
                                    "1": "18",
                                    "2": "28.7500",
                                    "3": "1",
                                    "4": "0.150"
                                },
                                {
                                    "0": "10566",
                                    "1": "76",
                                    "2": "66.6400",
                                    "3": "8",
                                    "4": "0.000"
                                },
                                {
                                    "0": "10567",
                                    "1": "31",
                                    "2": "157.4100",
                                    "3": "9",
                                    "4": "0.200"
                                },
                                {
                                    "0": "10567",
                                    "1": "51",
                                    "2": "44.0500",
                                    "3": "15",
                                    "4": "0.000"
                                },
                                {
                                    "0": "10567",
                                    "1": "59",
                                    "2": "1411.7400",
                                    "3": "6",
                                    "4": "0.200"
                                },
                                {
                                    "0": "10568",
                                    "1": "10",
                                    "2": "779.0000",
                                    "3": "15",
                                    "4": "0.000"
                                },
                                {
                                    "0": "10569",
                                    "1": "31",
                                    "2": "152.6400",
                                    "3": "7",
                                    "4": "0.200"
                                },
                                {
                                    "0": "10569",
                                    "1": "76",
                                    "2": "66.6400",
                                    "3": "3",
                                    "4": "0.000"
                                },
                                {
                                    "0": "10570",
                                    "1": "11",
                                    "2": "632.0000",
                                    "3": "11",
                                    "4": "0.050"
                                },
                                {
                                    "0": "10570",
                                    "1": "56",
                                    "2": "1718.3900",
                                    "3": "15",
                                    "4": "0.050"
                                },
                                {
                                    "0": "10571",
                                    "1": "14",
                                    "2": "22.5500",
                                    "3": "11",
                                    "4": "0.150"
                                },
                                {
                                    "0": "10571",
                                    "1": "42",
                                    "2": "1002.0100",
                                    "3": "4",
                                    "4": "0.150"
                                },
                                {
                                    "0": "10572",
                                    "1": "16",
                                    "2": "573.2000",
                                    "3": "13",
                                    "4": "0.100"
                                },
                                {
                                    "0": "10572",
                                    "1": "32",
                                    "2": "251.2200",
                                    "3": "2",
                                    "4": "0.100"
                                },
                                {
                                    "0": "10572",
                                    "1": "40",
                                    "2": "190.4600",
                                    "3": "11",
                                    "4": "0.000"
                                },
                                {
                                    "0": "10572",
                                    "1": "75",
                                    "2": "52.9100",
                                    "3": "5",
                                    "4": "0.100"
                                },
                                {
                                    "0": "10573",
                                    "1": "17",
                                    "2": "382.0800",
                                    "3": "1",
                                    "4": "0.000"
                                },
                                {
                                    "0": "10573",
                                    "1": "34",
                                    "2": "1484.0100",
                                    "3": "10",
                                    "4": "0.000"
                                },
                                {
                                    "0": "10573",
                                    "1": "53",
                                    "2": "297.0000",
                                    "3": "4",
                                    "4": "0.000"
                                },
                                {
                                    "0": "10574",
                                    "1": "33",
                                    "2": "22.2500",
                                    "3": "12",
                                    "4": "0.000"
                                },
                                {
                                    "0": "10574",
                                    "1": "40",
                                    "2": "192.4100",
                                    "3": "15",
                                    "4": "0.000"
                                },
                                {
                                    "0": "10574",
                                    "1": "62",
                                    "2": "69.2900",
                                    "3": "8",
                                    "4": "0.000"
                                },
                                {
                                    "0": "10574",
                                    "1": "64",
                                    "2": "1551.0200",
                                    "3": "8",
                                    "4": "0.000"
                                },
                                {
                                    "0": "10575",
                                    "1": "59",
                                    "2": "1411.7400",
                                    "3": "14",
                                    "4": "0.000"
                                },
                                {
                                    "0": "10575",
                                    "1": "63",
                                    "2": "1842.0300",
                                    "3": "6",
                                    "4": "0.000"
                                },
                                {
                                    "0": "10575",
                                    "1": "72",
                                    "2": "95.0300",
                                    "3": "14",
                                    "4": "0.000"
                                },
                                {
                                    "0": "10575",
                                    "1": "76",
                                    "2": "65.9600",
                                    "3": "13",
                                    "4": "0.000"
                                },
                                {
                                    "0": "10576",
                                    "1": "1",
                                    "2": "1286.0100",
                                    "3": "7",
                                    "4": "0.000"
                                },
                                {
                                    "0": "10576",
                                    "1": "31",
                                    "2": "155.8200",
                                    "3": "10",
                                    "4": "0.000"
                                },
                                {
                                    "0": "10576",
                                    "1": "44",
                                    "2": "578.9900",
                                    "3": "10",
                                    "4": "0.000"
                                },
                                {
                                    "0": "10577",
                                    "1": "39",
                                    "2": "23.0000",
                                    "3": "5",
                                    "4": "0.000"
                                },
                                {
                                    "0": "10577",
                                    "1": "75",
                                    "2": "52.9100",
                                    "3": "14",
                                    "4": "0.000"
                                },
                                {
                                    "0": "10577",
                                    "1": "77",
                                    "2": "124.9400",
                                    "3": "3",
                                    "4": "0.000"
                                },
                                {
                                    "0": "10578",
                                    "1": "35",
                                    "2": "69.0000",
                                    "3": "11",
                                    "4": "0.000"
                                },
                                {
                                    "0": "10578",
                                    "1": "57",
                                    "2": "2040.8800",
                                    "3": "9",
                                    "4": "0.000"
                                },
                                {
                                    "0": "10579",
                                    "1": "15",
                                    "2": "270.6200",
                                    "3": "15",
                                    "4": "0.000"
                                },
                                {
                                    "0": "10579",
                                    "1": "75",
                                    "2": "52.9100",
                                    "3": "9",
                                    "4": "0.000"
                                },
                                {
                                    "0": "10580",
                                    "1": "14",
                                    "2": "22.3200",
                                    "3": "15",
                                    "4": "0.050"
                                },
                                {
                                    "0": "10580",
                                    "1": "41",
                                    "2": "132.2500",
                                    "3": "12",
                                    "4": "0.050"
                                },
                                {
                                    "0": "10580",
                                    "1": "65",
                                    "2": "181.0200",
                                    "3": "12",
                                    "4": "0.050"
                                },
                                {
                                    "0": "10581",
                                    "1": "75",
                                    "2": "53.9900",
                                    "3": "12",
                                    "4": "0.200"
                                },
                                {
                                    "0": "10582",
                                    "1": "57",
                                    "2": "2019.8400",
                                    "3": "12",
                                    "4": "0.000"
                                },
                                {
                                    "0": "10582",
                                    "1": "76",
                                    "2": "65.9600",
                                    "3": "10",
                                    "4": "0.000"
                                },
                                {
                                    "0": "10583",
                                    "1": "29",
                                    "2": "336.0000",
                                    "3": "4",
                                    "4": "0.000"
                                },
                                {
                                    "0": "10583",
                                    "1": "60",
                                    "2": "747.5000",
                                    "3": "5",
                                    "4": "0.150"
                                },
                                {
                                    "0": "10583",
                                    "1": "69",
                                    "2": "329.6600",
                                    "3": "6",
                                    "4": "0.150"
                                },
                                {
                                    "0": "10584",
                                    "1": "31",
                                    "2": "155.8200",
                                    "3": "4",
                                    "4": "0.050"
                                },
                                {
                                    "0": "10585",
                                    "1": "47",
                                    "2": "959.3300",
                                    "3": "12",
                                    "4": "0.000"
                                },
                                {
                                    "0": "10586",
                                    "1": "52",
                                    "2": "413.2100",
                                    "3": "4",
                                    "4": "0.150"
                                },
                                {
                                    "0": "10587",
                                    "1": "26",
                                    "2": "2491.6700",
                                    "3": "1",
                                    "4": "0.000"
                                },
                                {
                                    "0": "10587",
                                    "1": "35",
                                    "2": "68.3100",
                                    "3": "5",
                                    "4": "0.000"
                                },
                                {
                                    "0": "10587",
                                    "1": "77",
                                    "2": "123.6500",
                                    "3": "14",
                                    "4": "0.000"
                                },
                                {
                                    "0": "10588",
                                    "1": "18",
                                    "2": "27.6000",
                                    "3": "1",
                                    "4": "0.200"
                                },
                                {
                                    "0": "10588",
                                    "1": "42",
                                    "2": "1022.6700",
                                    "3": "2",
                                    "4": "0.200"
                                },
                                {
                                    "0": "10589",
                                    "1": "35",
                                    "2": "66.9300",
                                    "3": "7",
                                    "4": "0.000"
                                },
                                {
                                    "0": "10590",
                                    "1": "1",
                                    "2": "1286.0100",
                                    "3": "12",
                                    "4": "0.000"
                                },
                                {
                                    "0": "10590",
                                    "1": "77",
                                    "2": "124.9400",
                                    "3": "8",
                                    "4": "0.050"
                                },
                                {
                                    "0": "10591",
                                    "1": "3",
                                    "2": "799.0000",
                                    "3": "11",
                                    "4": "0.000"
                                },
                                {
                                    "0": "10591",
                                    "1": "7",
                                    "2": "37.4400",
                                    "3": "13",
                                    "4": "0.000"
                                },
                                {
                                    "0": "10591",
                                    "1": "54",
                                    "2": "641.4100",
                                    "3": "10",
                                    "4": "0.000"
                                },
                                {
                                    "0": "10592",
                                    "1": "15",
                                    "2": "270.6200",
                                    "3": "6",
                                    "4": "0.050"
                                },
                                {
                                    "0": "10592",
                                    "1": "26",
                                    "2": "2491.6700",
                                    "3": "3",
                                    "4": "0.050"
                                },
                                {
                                    "0": "10593",
                                    "1": "20",
                                    "2": "589.0500",
                                    "3": "5",
                                    "4": "0.200"
                                },
                                {
                                    "0": "10593",
                                    "1": "69",
                                    "2": "326.3300",
                                    "3": "10",
                                    "4": "0.200"
                                },
                                {
                                    "0": "10593",
                                    "1": "76",
                                    "2": "67.3200",
                                    "3": "13",
                                    "4": "0.200"
                                },
                                {
                                    "0": "10594",
                                    "1": "52",
                                    "2": "413.2100",
                                    "3": "13",
                                    "4": "0.000"
                                },
                                {
                                    "0": "10594",
                                    "1": "58",
                                    "2": "98.9900",
                                    "3": "12",
                                    "4": "0.000"
                                },
                                {
                                    "0": "10595",
                                    "1": "35",
                                    "2": "67.6200",
                                    "3": "7",
                                    "4": "0.250"
                                },
                                {
                                    "0": "10595",
                                    "1": "61",
                                    "2": "142.0700",
                                    "3": "1",
                                    "4": "0.250"
                                },
                                {
                                    "0": "10595",
                                    "1": "69",
                                    "2": "332.9900",
                                    "3": "15",
                                    "4": "0.250"
                                },
                                {
                                    "0": "10596",
                                    "1": "56",
                                    "2": "1772.0900",
                                    "3": "15",
                                    "4": "0.200"
                                },
                                {
                                    "0": "10596",
                                    "1": "63",
                                    "2": "1861.0200",
                                    "3": "11",
                                    "4": "0.200"
                                },
                                {
                                    "0": "10596",
                                    "1": "75",
                                    "2": "51.8300",
                                    "3": "12",
                                    "4": "0.200"
                                },
                                {
                                    "0": "10597",
                                    "1": "24",
                                    "2": "989.9900",
                                    "3": "8",
                                    "4": "0.200"
                                },
                                {
                                    "0": "10597",
                                    "1": "57",
                                    "2": "2104.0000",
                                    "3": "13",
                                    "4": "0.000"
                                },
                                {
                                    "0": "10597",
                                    "1": "65",
                                    "2": "181.0200",
                                    "3": "5",
                                    "4": "0.200"
                                },
                                {
                                    "0": "10598",
                                    "1": "27",
                                    "2": "241.5300",
                                    "3": "4",
                                    "4": "0.000"
                                },
                                {
                                    "0": "10598",
                                    "1": "71",
                                    "2": "409.0000",
                                    "3": "13",
                                    "4": "0.000"
                                },
                                {
                                    "0": "10599",
                                    "1": "62",
                                    "2": "69.9900",
                                    "3": "15",
                                    "4": "0.000"
                                },
                                {
                                    "0": "10600",
                                    "1": "54",
                                    "2": "641.4100",
                                    "3": "8",
                                    "4": "0.000"
                                },
                                {
                                    "0": "10600",
                                    "1": "73",
                                    "2": "191.0600",
                                    "3": "9",
                                    "4": "0.000"
                                },
                                {
                                    "0": "10601",
                                    "1": "13",
                                    "2": "58.4100",
                                    "3": "14",
                                    "4": "0.000"
                                },
                                {
                                    "0": "10601",
                                    "1": "59",
                                    "2": "1426.0000",
                                    "3": "1",
                                    "4": "0.000"
                                },
                                {
                                    "0": "10602",
                                    "1": "77",
                                    "2": "127.5100",
                                    "3": "11",
                                    "4": "0.250"
                                },
                                {
                                    "0": "10603",
                                    "1": "22",
                                    "2": "3744.0000",
                                    "3": "5",
                                    "4": "0.000"
                                },
                                {
                                    "0": "10603",
                                    "1": "49",
                                    "2": "315.8500",
                                    "3": "9",
                                    "4": "0.050"
                                },
                                {
                                    "0": "10604",
                                    "1": "48",
                                    "2": "1439.0400",
                                    "3": "14",
                                    "4": "0.100"
                                },
                                {
                                    "0": "10604",
                                    "1": "76",
                                    "2": "65.9600",
                                    "3": "4",
                                    "4": "0.100"
                                },
                                {
                                    "0": "10605",
                                    "1": "16",
                                    "2": "567.4100",
                                    "3": "9",
                                    "4": "0.050"
                                },
                                {
                                    "0": "10605",
                                    "1": "59",
                                    "2": "1368.9600",
                                    "3": "9",
                                    "4": "0.050"
                                },
                                {
                                    "0": "10605",
                                    "1": "60",
                                    "2": "747.5000",
                                    "3": "12",
                                    "4": "0.050"
                                },
                                {
                                    "0": "10605",
                                    "1": "71",
                                    "2": "409.0000",
                                    "3": "15",
                                    "4": "0.050"
                                },
                                {
                                    "0": "10606",
                                    "1": "4",
                                    "2": "348.9900",
                                    "3": "4",
                                    "4": "0.200"
                                },
                                {
                                    "0": "10606",
                                    "1": "55",
                                    "2": "383.0300",
                                    "3": "2",
                                    "4": "0.200"
                                },
                                {
                                    "0": "10606",
                                    "1": "62",
                                    "2": "69.2900",
                                    "3": "11",
                                    "4": "0.200"
                                },
                                {
                                    "0": "10607",
                                    "1": "7",
                                    "2": "39.0000",
                                    "3": "4",
                                    "4": "0.000"
                                },
                                {
                                    "0": "10607",
                                    "1": "17",
                                    "2": "390.0400",
                                    "3": "5",
                                    "4": "0.000"
                                },
                                {
                                    "0": "10607",
                                    "1": "33",
                                    "2": "22.7100",
                                    "3": "7",
                                    "4": "0.000"
                                },
                                {
                                    "0": "10607",
                                    "1": "40",
                                    "2": "192.4100",
                                    "3": "4",
                                    "4": "0.000"
                                },
                                {
                                    "0": "10607",
                                    "1": "72",
                                    "2": "96.0200",
                                    "3": "2",
                                    "4": "0.000"
                                },
                                {
                                    "0": "10608",
                                    "1": "56",
                                    "2": "1736.2900",
                                    "3": "14",
                                    "4": "0.000"
                                },
                                {
                                    "0": "10609",
                                    "1": "1",
                                    "2": "1286.0100",
                                    "3": "6",
                                    "4": "0.000"
                                },
                                {
                                    "0": "10609",
                                    "1": "10",
                                    "2": "763.4200",
                                    "3": "2",
                                    "4": "0.000"
                                },
                                {
                                    "0": "10609",
                                    "1": "21",
                                    "2": "617.2700",
                                    "3": "10",
                                    "4": "0.000"
                                },
                                {
                                    "0": "10610",
                                    "1": "36",
                                    "2": "661.3000",
                                    "3": "12",
                                    "4": "0.250"
                                },
                                {
                                    "0": "10611",
                                    "1": "1",
                                    "2": "1247.0400",
                                    "3": "11",
                                    "4": "0.000"
                                },
                                {
                                    "0": "10611",
                                    "1": "2",
                                    "2": "1454.0300",
                                    "3": "5",
                                    "4": "0.000"
                                },
                                {
                                    "0": "10611",
                                    "1": "60",
                                    "2": "732.5500",
                                    "3": "7",
                                    "4": "0.000"
                                },
                                {
                                    "0": "10612",
                                    "1": "10",
                                    "2": "771.2100",
                                    "3": "8",
                                    "4": "0.000"
                                },
                                {
                                    "0": "10612",
                                    "1": "36",
                                    "2": "688.8500",
                                    "3": "4",
                                    "4": "0.000"
                                },
                                {
                                    "0": "10612",
                                    "1": "49",
                                    "2": "319.1100",
                                    "3": "4",
                                    "4": "0.000"
                                },
                                {
                                    "0": "10612",
                                    "1": "60",
                                    "2": "747.5000",
                                    "3": "4",
                                    "4": "0.000"
                                },
                                {
                                    "0": "10612",
                                    "1": "76",
                                    "2": "67.3200",
                                    "3": "11",
                                    "4": "0.000"
                                },
                                {
                                    "0": "10613",
                                    "1": "13",
                                    "2": "56.6400",
                                    "3": "1",
                                    "4": "0.100"
                                },
                                {
                                    "0": "10613",
                                    "1": "75",
                                    "2": "53.4500",
                                    "3": "12",
                                    "4": "0.000"
                                },
                                {
                                    "0": "10614",
                                    "1": "11",
                                    "2": "619.3600",
                                    "3": "1",
                                    "4": "0.000"
                                },
                                {
                                    "0": "10614",
                                    "1": "21",
                                    "2": "611.0300",
                                    "3": "15",
                                    "4": "0.000"
                                },
                                {
                                    "0": "10614",
                                    "1": "39",
                                    "2": "23.0000",
                                    "3": "11",
                                    "4": "0.000"
                                },
                                {
                                    "0": "10615",
                                    "1": "55",
                                    "2": "383.0300",
                                    "3": "15",
                                    "4": "0.000"
                                },
                                {
                                    "0": "10616",
                                    "1": "38",
                                    "2": "339.5000",
                                    "3": "15",
                                    "4": "0.050"
                                },
                                {
                                    "0": "10616",
                                    "1": "56",
                                    "2": "1754.1900",
                                    "3": "11",
                                    "4": "0.000"
                                },
                                {
                                    "0": "10616",
                                    "1": "70",
                                    "2": "81.4800",
                                    "3": "12",
                                    "4": "0.050"
                                },
                                {
                                    "0": "10616",
                                    "1": "71",
                                    "2": "404.9100",
                                    "3": "9",
                                    "4": "0.050"
                                },
                                {
                                    "0": "10617",
                                    "1": "59",
                                    "2": "1426.0000",
                                    "3": "12",
                                    "4": "0.150"
                                },
                                {
                                    "0": "10618",
                                    "1": "6",
                                    "2": "105.7300",
                                    "3": "5",
                                    "4": "0.000"
                                },
                                {
                                    "0": "10618",
                                    "1": "56",
                                    "2": "1754.1900",
                                    "3": "4",
                                    "4": "0.000"
                                },
                                {
                                    "0": "10618",
                                    "1": "68",
                                    "2": "49.9900",
                                    "3": "3",
                                    "4": "0.000"
                                },
                                {
                                    "0": "10619",
                                    "1": "21",
                                    "2": "611.0300",
                                    "3": "13",
                                    "4": "0.000"
                                },
                                {
                                    "0": "10619",
                                    "1": "22",
                                    "2": "3669.1200",
                                    "3": "14",
                                    "4": "0.000"
                                },
                                {
                                    "0": "10620",
                                    "1": "24",
                                    "2": "969.9900",
                                    "3": "7",
                                    "4": "0.000"
                                },
                                {
                                    "0": "10620",
                                    "1": "52",
                                    "2": "425.9900",
                                    "3": "4",
                                    "4": "0.000"
                                },
                                {
                                    "0": "10621",
                                    "1": "19",
                                    "2": "652.4100",
                                    "3": "2",
                                    "4": "0.000"
                                },
                                {
                                    "0": "10621",
                                    "1": "23",
                                    "2": "343.9300",
                                    "3": "10",
                                    "4": "0.000"
                                },
                                {
                                    "0": "10621",
                                    "1": "70",
                                    "2": "83.1600",
                                    "3": "11",
                                    "4": "0.000"
                                },
                                {
                                    "0": "10621",
                                    "1": "71",
                                    "2": "409.0000",
                                    "3": "6",
                                    "4": "0.000"
                                },
                                {
                                    "0": "10622",
                                    "1": "2",
                                    "2": "1439.0400",
                                    "3": "1",
                                    "4": "0.000"
                                },
                                {
                                    "0": "10622",
                                    "1": "68",
                                    "2": "49.9900",
                                    "3": "11",
                                    "4": "0.200"
                                },
                                {
                                    "0": "10623",
                                    "1": "14",
                                    "2": "22.7900",
                                    "3": "8",
                                    "4": "0.000"
                                },
                                {
                                    "0": "10623",
                                    "1": "19",
                                    "2": "632.6400",
                                    "3": "9",
                                    "4": "0.100"
                                },
                                {
                                    "0": "10623",
                                    "1": "21",
                                    "2": "598.5600",
                                    "3": "7",
                                    "4": "0.100"
                                },
                                {
                                    "0": "10623",
                                    "1": "24",
                                    "2": "989.9900",
                                    "3": "3",
                                    "4": "0.000"
                                },
                                {
                                    "0": "10623",
                                    "1": "35",
                                    "2": "66.9300",
                                    "3": "6",
                                    "4": "0.100"
                                },
                                {
                                    "0": "10624",
                                    "1": "28",
                                    "2": "30.7200",
                                    "3": "1",
                                    "4": "0.000"
                                },
                                {
                                    "0": "10624",
                                    "1": "29",
                                    "2": "339.5000",
                                    "3": "5",
                                    "4": "0.000"
                                },
                                {
                                    "0": "10624",
                                    "1": "44",
                                    "2": "578.9900",
                                    "3": "3",
                                    "4": "0.000"
                                },
                                {
                                    "0": "10625",
                                    "1": "14",
                                    "2": "22.7900",
                                    "3": "1",
                                    "4": "0.000"
                                },
                                {
                                    "0": "10625",
                                    "1": "42",
                                    "2": "1022.6700",
                                    "3": "4",
                                    "4": "0.000"
                                },
                                {
                                    "0": "10625",
                                    "1": "60",
                                    "2": "717.6000",
                                    "3": "5",
                                    "4": "0.000"
                                },
                                {
                                    "0": "10626",
                                    "1": "53",
                                    "2": "300.0000",
                                    "3": "13",
                                    "4": "0.000"
                                },
                                {
                                    "0": "10626",
                                    "1": "60",
                                    "2": "747.5000",
                                    "3": "3",
                                    "4": "0.000"
                                },
                                {
                                    "0": "10626",
                                    "1": "71",
                                    "2": "392.6400",
                                    "3": "2",
                                    "4": "0.000"
                                },
                                {
                                    "0": "10627",
                                    "1": "62",
                                    "2": "67.8900",
                                    "3": "10",
                                    "4": "0.000"
                                },
                                {
                                    "0": "10627",
                                    "1": "73",
                                    "2": "192.9900",
                                    "3": "13",
                                    "4": "0.150"
                                },
                                {
                                    "0": "10628",
                                    "1": "1",
                                    "2": "1260.0300",
                                    "3": "11",
                                    "4": "0.000"
                                },
                                {
                                    "0": "10629",
                                    "1": "29",
                                    "2": "343.0000",
                                    "3": "4",
                                    "4": "0.000"
                                },
                                {
                                    "0": "10629",
                                    "1": "64",
                                    "2": "1567.0100",
                                    "3": "4",
                                    "4": "0.000"
                                },
                                {
                                    "0": "10630",
                                    "1": "55",
                                    "2": "387.0200",
                                    "3": "6",
                                    "4": "0.050"
                                },
                                {
                                    "0": "10630",
                                    "1": "76",
                                    "2": "65.2800",
                                    "3": "3",
                                    "4": "0.000"
                                },
                                {
                                    "0": "10631",
                                    "1": "75",
                                    "2": "52.3700",
                                    "3": "1",
                                    "4": "0.100"
                                },
                                {
                                    "0": "10632",
                                    "1": "2",
                                    "2": "1454.0300",
                                    "3": "14",
                                    "4": "0.050"
                                },
                                {
                                    "0": "10632",
                                    "1": "33",
                                    "2": "22.4800",
                                    "3": "8",
                                    "4": "0.050"
                                },
                                {
                                    "0": "10633",
                                    "1": "12",
                                    "2": "440.6400",
                                    "3": "4",
                                    "4": "0.150"
                                },
                                {
                                    "0": "10633",
                                    "1": "13",
                                    "2": "58.4100",
                                    "3": "14",
                                    "4": "0.150"
                                },
                                {
                                    "0": "10633",
                                    "1": "26",
                                    "2": "2491.6700",
                                    "3": "1",
                                    "4": "0.150"
                                },
                                {
                                    "0": "10633",
                                    "1": "62",
                                    "2": "69.2900",
                                    "3": "8",
                                    "4": "0.150"
                                },
                                {
                                    "0": "10634",
                                    "1": "7",
                                    "2": "38.2200",
                                    "3": "7",
                                    "4": "0.000"
                                },
                                {
                                    "0": "10634",
                                    "1": "18",
                                    "2": "28.1800",
                                    "3": "10",
                                    "4": "0.000"
                                },
                                {
                                    "0": "10634",
                                    "1": "51",
                                    "2": "42.7100",
                                    "3": "5",
                                    "4": "0.000"
                                },
                                {
                                    "0": "10634",
                                    "1": "75",
                                    "2": "51.8300",
                                    "3": "11",
                                    "4": "0.000"
                                },
                                {
                                    "0": "10635",
                                    "1": "4",
                                    "2": "342.0100",
                                    "3": "7",
                                    "4": "0.100"
                                },
                                {
                                    "0": "10635",
                                    "1": "5",
                                    "2": "144.5300",
                                    "3": "10",
                                    "4": "0.100"
                                },
                                {
                                    "0": "10635",
                                    "1": "22",
                                    "2": "3706.5600",
                                    "3": "13",
                                    "4": "0.000"
                                },
                                {
                                    "0": "10636",
                                    "1": "4",
                                    "2": "345.5000",
                                    "3": "11",
                                    "4": "0.000"
                                },
                                {
                                    "0": "10636",
                                    "1": "58",
                                    "2": "98.9900",
                                    "3": "1",
                                    "4": "0.000"
                                },
                                {
                                    "0": "10637",
                                    "1": "11",
                                    "2": "606.7200",
                                    "3": "15",
                                    "4": "0.000"
                                },
                                {
                                    "0": "10637",
                                    "1": "50",
                                    "2": "95.0400",
                                    "3": "10",
                                    "4": "0.050"
                                },
                                {
                                    "0": "10637",
                                    "1": "56",
                                    "2": "1789.9900",
                                    "3": "12",
                                    "4": "0.050"
                                },
                                {
                                    "0": "10638",
                                    "1": "45",
                                    "2": "243.4700",
                                    "3": "12",
                                    "4": "0.000"
                                },
                                {
                                    "0": "10638",
                                    "1": "65",
                                    "2": "179.1900",
                                    "3": "2",
                                    "4": "0.000"
                                },
                                {
                                    "0": "10638",
                                    "1": "72",
                                    "2": "98.9900",
                                    "3": "12",
                                    "4": "0.000"
                                },
                                {
                                    "0": "10639",
                                    "1": "18",
                                    "2": "28.1800",
                                    "3": "13",
                                    "4": "0.000"
                                },
                                {
                                    "0": "10640",
                                    "1": "69",
                                    "2": "329.6600",
                                    "3": "15",
                                    "4": "0.250"
                                },
                                {
                                    "0": "10640",
                                    "1": "70",
                                    "2": "82.3200",
                                    "3": "11",
                                    "4": "0.250"
                                },
                                {
                                    "0": "10641",
                                    "1": "2",
                                    "2": "1499.0000",
                                    "3": "5",
                                    "4": "0.000"
                                },
                                {
                                    "0": "10641",
                                    "1": "40",
                                    "2": "192.4100",
                                    "3": "11",
                                    "4": "0.000"
                                },
                                {
                                    "0": "10642",
                                    "1": "21",
                                    "2": "611.0300",
                                    "3": "4",
                                    "4": "0.200"
                                },
                                {
                                    "0": "10642",
                                    "1": "61",
                                    "2": "147.9900",
                                    "3": "12",
                                    "4": "0.200"
                                },
                                {
                                    "0": "10643",
                                    "1": "28",
                                    "2": "31.6800",
                                    "3": "5",
                                    "4": "0.250"
                                },
                                {
                                    "0": "10643",
                                    "1": "39",
                                    "2": "22.5400",
                                    "3": "11",
                                    "4": "0.250"
                                },
                                {
                                    "0": "10643",
                                    "1": "46",
                                    "2": "71.7600",
                                    "3": "6",
                                    "4": "0.250"
                                },
                                {
                                    "0": "10644",
                                    "1": "18",
                                    "2": "27.6000",
                                    "3": "6",
                                    "4": "0.100"
                                },
                                {
                                    "0": "10644",
                                    "1": "43",
                                    "2": "84.2300",
                                    "3": "7",
                                    "4": "0.000"
                                },
                                {
                                    "0": "10644",
                                    "1": "46",
                                    "2": "71.7600",
                                    "3": "12",
                                    "4": "0.100"
                                },
                                {
                                    "0": "10645",
                                    "1": "18",
                                    "2": "28.1800",
                                    "3": "10",
                                    "4": "0.000"
                                },
                                {
                                    "0": "10645",
                                    "1": "36",
                                    "2": "668.1800",
                                    "3": "6",
                                    "4": "0.000"
                                },
                                {
                                    "0": "10646",
                                    "1": "1",
                                    "2": "1286.0100",
                                    "3": "12",
                                    "4": "0.250"
                                },
                                {
                                    "0": "10646",
                                    "1": "10",
                                    "2": "771.2100",
                                    "3": "8",
                                    "4": "0.250"
                                },
                                {
                                    "0": "10646",
                                    "1": "71",
                                    "2": "396.7300",
                                    "3": "11",
                                    "4": "0.250"
                                },
                                {
                                    "0": "10646",
                                    "1": "77",
                                    "2": "128.8000",
                                    "3": "6",
                                    "4": "0.250"
                                },
                                {
                                    "0": "10647",
                                    "1": "19",
                                    "2": "659.0000",
                                    "3": "5",
                                    "4": "0.000"
                                },
                                {
                                    "0": "10647",
                                    "1": "39",
                                    "2": "22.0800",
                                    "3": "9",
                                    "4": "0.000"
                                },
                                {
                                    "0": "10648",
                                    "1": "22",
                                    "2": "3744.0000",
                                    "3": "10",
                                    "4": "0.000"
                                },
                                {
                                    "0": "10648",
                                    "1": "24",
                                    "2": "989.9900",
                                    "3": "8",
                                    "4": "0.150"
                                },
                                {
                                    "0": "10649",
                                    "1": "28",
                                    "2": "31.0400",
                                    "3": "8",
                                    "4": "0.000"
                                },
                                {
                                    "0": "10649",
                                    "1": "72",
                                    "2": "96.0200",
                                    "3": "9",
                                    "4": "0.000"
                                },
                                {
                                    "0": "10650",
                                    "1": "30",
                                    "2": "335.9400",
                                    "3": "8",
                                    "4": "0.000"
                                },
                                {
                                    "0": "10650",
                                    "1": "53",
                                    "2": "297.0000",
                                    "3": "4",
                                    "4": "0.050"
                                },
                                {
                                    "0": "10650",
                                    "1": "54",
                                    "2": "641.4100",
                                    "3": "15",
                                    "4": "0.000"
                                },
                                {
                                    "0": "10651",
                                    "1": "19",
                                    "2": "632.6400",
                                    "3": "3",
                                    "4": "0.250"
                                },
                                {
                                    "0": "10651",
                                    "1": "22",
                                    "2": "3594.2400",
                                    "3": "12",
                                    "4": "0.250"
                                },
                                {
                                    "0": "10652",
                                    "1": "30",
                                    "2": "339.4400",
                                    "3": "11",
                                    "4": "0.250"
                                },
                                {
                                    "0": "10652",
                                    "1": "42",
                                    "2": "1012.3400",
                                    "3": "11",
                                    "4": "0.000"
                                },
                                {
                                    "0": "10653",
                                    "1": "16",
                                    "2": "578.9900",
                                    "3": "8",
                                    "4": "0.100"
                                },
                                {
                                    "0": "10653",
                                    "1": "60",
                                    "2": "747.5000",
                                    "3": "5",
                                    "4": "0.100"
                                },
                                {
                                    "0": "10654",
                                    "1": "4",
                                    "2": "348.9900",
                                    "3": "8",
                                    "4": "0.100"
                                },
                                {
                                    "0": "10654",
                                    "1": "39",
                                    "2": "22.5400",
                                    "3": "1",
                                    "4": "0.100"
                                },
                                {
                                    "0": "10654",
                                    "1": "54",
                                    "2": "661.2500",
                                    "3": "2",
                                    "4": "0.100"
                                },
                                {
                                    "0": "10655",
                                    "1": "41",
                                    "2": "130.9300",
                                    "3": "14",
                                    "4": "0.200"
                                },
                                {
                                    "0": "10656",
                                    "1": "14",
                                    "2": "22.5500",
                                    "3": "15",
                                    "4": "0.100"
                                },
                                {
                                    "0": "10656",
                                    "1": "44",
                                    "2": "555.8300",
                                    "3": "7",
                                    "4": "0.100"
                                },
                                {
                                    "0": "10656",
                                    "1": "47",
                                    "2": "989.0000",
                                    "3": "14",
                                    "4": "0.100"
                                },
                                {
                                    "0": "10657",
                                    "1": "15",
                                    "2": "273.4100",
                                    "3": "12",
                                    "4": "0.000"
                                },
                                {
                                    "0": "10657",
                                    "1": "41",
                                    "2": "130.9300",
                                    "3": "7",
                                    "4": "0.000"
                                },
                                {
                                    "0": "10657",
                                    "1": "46",
                                    "2": "71.7600",
                                    "3": "12",
                                    "4": "0.000"
                                },
                                {
                                    "0": "10657",
                                    "1": "47",
                                    "2": "949.4400",
                                    "3": "13",
                                    "4": "0.000"
                                },
                                {
                                    "0": "10657",
                                    "1": "56",
                                    "2": "1789.9900",
                                    "3": "8",
                                    "4": "0.000"
                                },
                                {
                                    "0": "10657",
                                    "1": "60",
                                    "2": "717.6000",
                                    "3": "9",
                                    "4": "0.000"
                                },
                                {
                                    "0": "10658",
                                    "1": "21",
                                    "2": "623.5000",
                                    "3": "6",
                                    "4": "0.000"
                                },
                                {
                                    "0": "10658",
                                    "1": "40",
                                    "2": "190.4600",
                                    "3": "11",
                                    "4": "0.050"
                                },
                                {
                                    "0": "10658",
                                    "1": "60",
                                    "2": "740.0300",
                                    "3": "6",
                                    "4": "0.050"
                                },
                                {
                                    "0": "10658",
                                    "1": "77",
                                    "2": "124.9400",
                                    "3": "14",
                                    "4": "0.050"
                                },
                                {
                                    "0": "10659",
                                    "1": "31",
                                    "2": "157.4100",
                                    "3": "6",
                                    "4": "0.050"
                                },
                                {
                                    "0": "10659",
                                    "1": "40",
                                    "2": "188.5200",
                                    "3": "6",
                                    "4": "0.050"
                                },
                                {
                                    "0": "10659",
                                    "1": "70",
                                    "2": "84.0000",
                                    "3": "11",
                                    "4": "0.050"
                                },
                                {
                                    "0": "10660",
                                    "1": "20",
                                    "2": "577.1500",
                                    "3": "4",
                                    "4": "0.000"
                                },
                                {
                                    "0": "10661",
                                    "1": "39",
                                    "2": "22.5400",
                                    "3": "9",
                                    "4": "0.200"
                                },
                                {
                                    "0": "10661",
                                    "1": "58",
                                    "2": "96.0200",
                                    "3": "13",
                                    "4": "0.200"
                                },
                                {
                                    "0": "10662",
                                    "1": "68",
                                    "2": "49.9900",
                                    "3": "5",
                                    "4": "0.000"
                                },
                                {
                                    "0": "10663",
                                    "1": "40",
                                    "2": "186.5800",
                                    "3": "11",
                                    "4": "0.050"
                                },
                                {
                                    "0": "10663",
                                    "1": "42",
                                    "2": "1012.3400",
                                    "3": "5",
                                    "4": "0.050"
                                },
                                {
                                    "0": "10663",
                                    "1": "51",
                                    "2": "44.4900",
                                    "3": "15",
                                    "4": "0.050"
                                },
                                {
                                    "0": "10664",
                                    "1": "10",
                                    "2": "779.0000",
                                    "3": "4",
                                    "4": "0.150"
                                },
                                {
                                    "0": "10664",
                                    "1": "56",
                                    "2": "1789.9900",
                                    "3": "6",
                                    "4": "0.150"
                                },
                                {
                                    "0": "10664",
                                    "1": "65",
                                    "2": "181.0200",
                                    "3": "8",
                                    "4": "0.150"
                                },
                                {
                                    "0": "10665",
                                    "1": "51",
                                    "2": "42.7100",
                                    "3": "10",
                                    "4": "0.000"
                                },
                                {
                                    "0": "10665",
                                    "1": "59",
                                    "2": "1368.9600",
                                    "3": "13",
                                    "4": "0.000"
                                },
                                {
                                    "0": "10665",
                                    "1": "76",
                                    "2": "66.6400",
                                    "3": "7",
                                    "4": "0.000"
                                },
                                {
                                    "0": "10666",
                                    "1": "29",
                                    "2": "339.5000",
                                    "3": "4",
                                    "4": "0.000"
                                },
                                {
                                    "0": "10666",
                                    "1": "65",
                                    "2": "177.3600",
                                    "3": "15",
                                    "4": "0.000"
                                },
                                {
                                    "0": "10667",
                                    "1": "69",
                                    "2": "323.0000",
                                    "3": "13",
                                    "4": "0.200"
                                },
                                {
                                    "0": "10667",
                                    "1": "71",
                                    "2": "392.6400",
                                    "3": "1",
                                    "4": "0.200"
                                },
                                {
                                    "0": "10668",
                                    "1": "31",
                                    "2": "159.0000",
                                    "3": "2",
                                    "4": "0.100"
                                },
                                {
                                    "0": "10668",
                                    "1": "55",
                                    "2": "395.0000",
                                    "3": "1",
                                    "4": "0.100"
                                },
                                {
                                    "0": "10668",
                                    "1": "64",
                                    "2": "1583.0000",
                                    "3": "10",
                                    "4": "0.100"
                                },
                                {
                                    "0": "10669",
                                    "1": "36",
                                    "2": "681.9600",
                                    "3": "12",
                                    "4": "0.000"
                                },
                                {
                                    "0": "10670",
                                    "1": "23",
                                    "2": "350.9500",
                                    "3": "13",
                                    "4": "0.000"
                                },
                                {
                                    "0": "10670",
                                    "1": "46",
                                    "2": "71.7600",
                                    "3": "3",
                                    "4": "0.000"
                                },
                                {
                                    "0": "10670",
                                    "1": "67",
                                    "2": "19.6000",
                                    "3": "9",
                                    "4": "0.000"
                                },
                                {
                                    "0": "10670",
                                    "1": "73",
                                    "2": "187.2000",
                                    "3": "8",
                                    "4": "0.000"
                                },
                                {
                                    "0": "10670",
                                    "1": "75",
                                    "2": "53.9900",
                                    "3": "13",
                                    "4": "0.000"
                                },
                                {
                                    "0": "10671",
                                    "1": "16",
                                    "2": "567.4100",
                                    "3": "10",
                                    "4": "0.000"
                                },
                                {
                                    "0": "10671",
                                    "1": "62",
                                    "2": "69.9900",
                                    "3": "2",
                                    "4": "0.000"
                                },
                                {
                                    "0": "10671",
                                    "1": "65",
                                    "2": "175.5400",
                                    "3": "2",
                                    "4": "0.000"
                                },
                                {
                                    "0": "10672",
                                    "1": "38",
                                    "2": "325.9200",
                                    "3": "11",
                                    "4": "0.100"
                                },
                                {
                                    "0": "10672",
                                    "1": "71",
                                    "2": "396.7300",
                                    "3": "8",
                                    "4": "0.000"
                                },
                                {
                                    "0": "10673",
                                    "1": "16",
                                    "2": "573.2000",
                                    "3": "4",
                                    "4": "0.000"
                                },
                                {
                                    "0": "10673",
                                    "1": "42",
                                    "2": "1012.3400",
                                    "3": "7",
                                    "4": "0.000"
                                },
                                {
                                    "0": "10673",
                                    "1": "43",
                                    "2": "85.9500",
                                    "3": "2",
                                    "4": "0.000"
                                },
                                {
                                    "0": "10674",
                                    "1": "23",
                                    "2": "340.4200",
                                    "3": "15",
                                    "4": "0.000"
                                },
                                {
                                    "0": "10675",
                                    "1": "14",
                                    "2": "22.3200",
                                    "3": "4",
                                    "4": "0.000"
                                },
                                {
                                    "0": "10675",
                                    "1": "53",
                                    "2": "288.0000",
                                    "3": "9",
                                    "4": "0.000"
                                },
                                {
                                    "0": "10675",
                                    "1": "58",
                                    "2": "96.0200",
                                    "3": "1",
                                    "4": "0.000"
                                },
                                {
                                    "0": "10676",
                                    "1": "10",
                                    "2": "755.6300",
                                    "3": "14",
                                    "4": "0.000"
                                },
                                {
                                    "0": "10676",
                                    "1": "19",
                                    "2": "645.8200",
                                    "3": "5",
                                    "4": "0.000"
                                },
                                {
                                    "0": "10676",
                                    "1": "44",
                                    "2": "555.8300",
                                    "3": "15",
                                    "4": "0.000"
                                },
                                {
                                    "0": "10677",
                                    "1": "26",
                                    "2": "2466.7500",
                                    "3": "13",
                                    "4": "0.150"
                                },
                                {
                                    "0": "10677",
                                    "1": "33",
                                    "2": "22.9400",
                                    "3": "1",
                                    "4": "0.150"
                                },
                                {
                                    "0": "10678",
                                    "1": "12",
                                    "2": "445.2300",
                                    "3": "6",
                                    "4": "0.000"
                                },
                                {
                                    "0": "10678",
                                    "1": "33",
                                    "2": "22.0200",
                                    "3": "7",
                                    "4": "0.000"
                                },
                                {
                                    "0": "10678",
                                    "1": "41",
                                    "2": "129.6100",
                                    "3": "2",
                                    "4": "0.000"
                                },
                                {
                                    "0": "10678",
                                    "1": "54",
                                    "2": "661.2500",
                                    "3": "12",
                                    "4": "0.000"
                                },
                                {
                                    "0": "10679",
                                    "1": "59",
                                    "2": "1397.4800",
                                    "3": "14",
                                    "4": "0.000"
                                },
                                {
                                    "0": "10680",
                                    "1": "16",
                                    "2": "561.6200",
                                    "3": "6",
                                    "4": "0.250"
                                },
                                {
                                    "0": "10680",
                                    "1": "31",
                                    "2": "152.6400",
                                    "3": "9",
                                    "4": "0.250"
                                },
                                {
                                    "0": "10680",
                                    "1": "42",
                                    "2": "1012.3400",
                                    "3": "4",
                                    "4": "0.250"
                                },
                                {
                                    "0": "10681",
                                    "1": "19",
                                    "2": "639.2300",
                                    "3": "8",
                                    "4": "0.100"
                                },
                                {
                                    "0": "10681",
                                    "1": "21",
                                    "2": "604.8000",
                                    "3": "13",
                                    "4": "0.100"
                                },
                                {
                                    "0": "10681",
                                    "1": "64",
                                    "2": "1535.0300",
                                    "3": "4",
                                    "4": "0.000"
                                },
                                {
                                    "0": "10682",
                                    "1": "33",
                                    "2": "22.9400",
                                    "3": "6",
                                    "4": "0.000"
                                },
                                {
                                    "0": "10682",
                                    "1": "66",
                                    "2": "79.9200",
                                    "3": "3",
                                    "4": "0.000"
                                },
                                {
                                    "0": "10682",
                                    "1": "75",
                                    "2": "51.8300",
                                    "3": "2",
                                    "4": "0.000"
                                },
                                {
                                    "0": "10683",
                                    "1": "52",
                                    "2": "413.2100",
                                    "3": "15",
                                    "4": "0.000"
                                },
                                {
                                    "0": "10684",
                                    "1": "40",
                                    "2": "192.4100",
                                    "3": "1",
                                    "4": "0.000"
                                },
                                {
                                    "0": "10684",
                                    "1": "47",
                                    "2": "969.2200",
                                    "3": "7",
                                    "4": "0.000"
                                },
                                {
                                    "0": "10684",
                                    "1": "60",
                                    "2": "740.0300",
                                    "3": "3",
                                    "4": "0.000"
                                },
                                {
                                    "0": "10685",
                                    "1": "10",
                                    "2": "747.8400",
                                    "3": "11",
                                    "4": "0.000"
                                },
                                {
                                    "0": "10685",
                                    "1": "41",
                                    "2": "126.9600",
                                    "3": "1",
                                    "4": "0.000"
                                },
                                {
                                    "0": "10685",
                                    "1": "47",
                                    "2": "979.1100",
                                    "3": "8",
                                    "4": "0.000"
                                },
                                {
                                    "0": "10686",
                                    "1": "17",
                                    "2": "394.0200",
                                    "3": "2",
                                    "4": "0.200"
                                },
                                {
                                    "0": "10686",
                                    "1": "26",
                                    "2": "2441.8400",
                                    "3": "10",
                                    "4": "0.000"
                                },
                                {
                                    "0": "10687",
                                    "1": "9",
                                    "2": "495.0000",
                                    "3": "8",
                                    "4": "0.250"
                                },
                                {
                                    "0": "10687",
                                    "1": "29",
                                    "2": "346.5000",
                                    "3": "15",
                                    "4": "0.000"
                                },
                                {
                                    "0": "10687",
                                    "1": "36",
                                    "2": "681.9600",
                                    "3": "12",
                                    "4": "0.250"
                                },
                                {
                                    "0": "10688",
                                    "1": "10",
                                    "2": "763.4200",
                                    "3": "8",
                                    "4": "0.100"
                                },
                                {
                                    "0": "10688",
                                    "1": "28",
                                    "2": "30.7200",
                                    "3": "10",
                                    "4": "0.100"
                                },
                                {
                                    "0": "10688",
                                    "1": "34",
                                    "2": "1454.0300",
                                    "3": "7",
                                    "4": "0.000"
                                },
                                {
                                    "0": "10689",
                                    "1": "1",
                                    "2": "1247.0400",
                                    "3": "9",
                                    "4": "0.250"
                                },
                                {
                                    "0": "10690",
                                    "1": "56",
                                    "2": "1754.1900",
                                    "3": "9",
                                    "4": "0.250"
                                },
                                {
                                    "0": "10690",
                                    "1": "77",
                                    "2": "124.9400",
                                    "3": "12",
                                    "4": "0.250"
                                },
                                {
                                    "0": "10691",
                                    "1": "1",
                                    "2": "1260.0300",
                                    "3": "3",
                                    "4": "0.000"
                                },
                                {
                                    "0": "10691",
                                    "1": "29",
                                    "2": "343.0000",
                                    "3": "1",
                                    "4": "0.000"
                                },
                                {
                                    "0": "10691",
                                    "1": "43",
                                    "2": "85.9500",
                                    "3": "8",
                                    "4": "0.000"
                                },
                                {
                                    "0": "10691",
                                    "1": "44",
                                    "2": "573.2000",
                                    "3": "1",
                                    "4": "0.000"
                                },
                                {
                                    "0": "10691",
                                    "1": "62",
                                    "2": "69.9900",
                                    "3": "6",
                                    "4": "0.000"
                                },
                                {
                                    "0": "10692",
                                    "1": "63",
                                    "2": "1861.0200",
                                    "3": "10",
                                    "4": "0.000"
                                },
                                {
                                    "0": "10693",
                                    "1": "9",
                                    "2": "495.0000",
                                    "3": "14",
                                    "4": "0.000"
                                },
                                {
                                    "0": "10693",
                                    "1": "54",
                                    "2": "641.4100",
                                    "3": "7",
                                    "4": "0.150"
                                },
                                {
                                    "0": "10693",
                                    "1": "69",
                                    "2": "323.0000",
                                    "3": "1",
                                    "4": "0.150"
                                },
                                {
                                    "0": "10693",
                                    "1": "73",
                                    "2": "192.9900",
                                    "3": "6",
                                    "4": "0.150"
                                },
                                {
                                    "0": "10694",
                                    "1": "7",
                                    "2": "38.2200",
                                    "3": "4",
                                    "4": "0.000"
                                },
                                {
                                    "0": "10694",
                                    "1": "59",
                                    "2": "1397.4800",
                                    "3": "3",
                                    "4": "0.000"
                                },
                                {
                                    "0": "10694",
                                    "1": "70",
                                    "2": "84.0000",
                                    "3": "13",
                                    "4": "0.000"
                                },
                                {
                                    "0": "10695",
                                    "1": "8",
                                    "2": "169.6400",
                                    "3": "2",
                                    "4": "0.000"
                                },
                                {
                                    "0": "10695",
                                    "1": "12",
                                    "2": "449.8200",
                                    "3": "5",
                                    "4": "0.000"
                                },
                                {
                                    "0": "10695",
                                    "1": "24",
                                    "2": "979.9900",
                                    "3": "10",
                                    "4": "0.000"
                                },
                                {
                                    "0": "10696",
                                    "1": "17",
                                    "2": "390.0400",
                                    "3": "6",
                                    "4": "0.000"
                                },
                                {
                                    "0": "10696",
                                    "1": "46",
                                    "2": "74.7500",
                                    "3": "11",
                                    "4": "0.000"
                                },
                                {
                                    "0": "10697",
                                    "1": "19",
                                    "2": "645.8200",
                                    "3": "5",
                                    "4": "0.250"
                                },
                                {
                                    "0": "10697",
                                    "1": "35",
                                    "2": "66.9300",
                                    "3": "6",
                                    "4": "0.250"
                                },
                                {
                                    "0": "10697",
                                    "1": "58",
                                    "2": "98.0000",
                                    "3": "13",
                                    "4": "0.250"
                                },
                                {
                                    "0": "10697",
                                    "1": "70",
                                    "2": "80.6400",
                                    "3": "7",
                                    "4": "0.250"
                                },
                                {
                                    "0": "10698",
                                    "1": "11",
                                    "2": "606.7200",
                                    "3": "2",
                                    "4": "0.000"
                                },
                                {
                                    "0": "10698",
                                    "1": "17",
                                    "2": "398.0000",
                                    "3": "5",
                                    "4": "0.050"
                                },
                                {
                                    "0": "10698",
                                    "1": "29",
                                    "2": "339.5000",
                                    "3": "9",
                                    "4": "0.050"
                                },
                                {
                                    "0": "10698",
                                    "1": "65",
                                    "2": "177.3600",
                                    "3": "15",
                                    "4": "0.050"
                                },
                                {
                                    "0": "10698",
                                    "1": "70",
                                    "2": "80.6400",
                                    "3": "4",
                                    "4": "0.050"
                                },
                                {
                                    "0": "10699",
                                    "1": "47",
                                    "2": "979.1100",
                                    "3": "13",
                                    "4": "0.000"
                                },
                                {
                                    "0": "10700",
                                    "1": "1",
                                    "2": "1247.0400",
                                    "3": "12",
                                    "4": "0.200"
                                },
                                {
                                    "0": "10700",
                                    "1": "34",
                                    "2": "1484.0100",
                                    "3": "6",
                                    "4": "0.200"
                                },
                                {
                                    "0": "10700",
                                    "1": "68",
                                    "2": "49.4900",
                                    "3": "1",
                                    "4": "0.200"
                                },
                                {
                                    "0": "10700",
                                    "1": "71",
                                    "2": "404.9100",
                                    "3": "7",
                                    "4": "0.200"
                                },
                                {
                                    "0": "10701",
                                    "1": "59",
                                    "2": "1397.4800",
                                    "3": "10",
                                    "4": "0.150"
                                },
                                {
                                    "0": "10701",
                                    "1": "71",
                                    "2": "404.9100",
                                    "3": "1",
                                    "4": "0.150"
                                },
                                {
                                    "0": "10701",
                                    "1": "76",
                                    "2": "67.3200",
                                    "3": "8",
                                    "4": "0.150"
                                },
                                {
                                    "0": "10702",
                                    "1": "3",
                                    "2": "767.0400",
                                    "3": "12",
                                    "4": "0.000"
                                },
                                {
                                    "0": "10702",
                                    "1": "76",
                                    "2": "66.6400",
                                    "3": "4",
                                    "4": "0.000"
                                },
                                {
                                    "0": "10703",
                                    "1": "2",
                                    "2": "1454.0300",
                                    "3": "4",
                                    "4": "0.000"
                                },
                                {
                                    "0": "10703",
                                    "1": "59",
                                    "2": "1368.9600",
                                    "3": "8",
                                    "4": "0.000"
                                },
                                {
                                    "0": "10703",
                                    "1": "73",
                                    "2": "192.9900",
                                    "3": "5",
                                    "4": "0.000"
                                },
                                {
                                    "0": "10704",
                                    "1": "4",
                                    "2": "345.5000",
                                    "3": "1",
                                    "4": "0.000"
                                },
                                {
                                    "0": "10704",
                                    "1": "24",
                                    "2": "979.9900",
                                    "3": "13",
                                    "4": "0.000"
                                },
                                {
                                    "0": "10704",
                                    "1": "48",
                                    "2": "1499.0000",
                                    "3": "6",
                                    "4": "0.000"
                                },
                                {
                                    "0": "10705",
                                    "1": "31",
                                    "2": "157.4100",
                                    "3": "9",
                                    "4": "0.000"
                                },
                                {
                                    "0": "10705",
                                    "1": "32",
                                    "2": "248.6300",
                                    "3": "9",
                                    "4": "0.000"
                                },
                                {
                                    "0": "10706",
                                    "1": "16",
                                    "2": "573.2000",
                                    "3": "8",
                                    "4": "0.000"
                                },
                                {
                                    "0": "10706",
                                    "1": "43",
                                    "2": "85.0900",
                                    "3": "15",
                                    "4": "0.000"
                                },
                                {
                                    "0": "10706",
                                    "1": "59",
                                    "2": "1426.0000",
                                    "3": "14",
                                    "4": "0.000"
                                },
                                {
                                    "0": "10707",
                                    "1": "55",
                                    "2": "391.0100",
                                    "3": "10",
                                    "4": "0.000"
                                },
                                {
                                    "0": "10707",
                                    "1": "57",
                                    "2": "2104.0000",
                                    "3": "3",
                                    "4": "0.000"
                                },
                                {
                                    "0": "10707",
                                    "1": "70",
                                    "2": "80.6400",
                                    "3": "10",
                                    "4": "0.150"
                                },
                                {
                                    "0": "10708",
                                    "1": "5",
                                    "2": "144.5300",
                                    "3": "15",
                                    "4": "0.000"
                                },
                                {
                                    "0": "10708",
                                    "1": "36",
                                    "2": "661.3000",
                                    "3": "14",
                                    "4": "0.000"
                                },
                                {
                                    "0": "10709",
                                    "1": "8",
                                    "2": "164.5000",
                                    "3": "10",
                                    "4": "0.000"
                                },
                                {
                                    "0": "10709",
                                    "1": "51",
                                    "2": "44.4900",
                                    "3": "14",
                                    "4": "0.000"
                                },
                                {
                                    "0": "10709",
                                    "1": "60",
                                    "2": "717.6000",
                                    "3": "11",
                                    "4": "0.000"
                                },
                                {
                                    "0": "10710",
                                    "1": "19",
                                    "2": "632.6400",
                                    "3": "2",
                                    "4": "0.000"
                                },
                                {
                                    "0": "10710",
                                    "1": "47",
                                    "2": "959.3300",
                                    "3": "5",
                                    "4": "0.000"
                                },
                                {
                                    "0": "10711",
                                    "1": "19",
                                    "2": "645.8200",
                                    "3": "6",
                                    "4": "0.000"
                                },
                                {
                                    "0": "10711",
                                    "1": "41",
                                    "2": "128.2800",
                                    "3": "5",
                                    "4": "0.000"
                                },
                                {
                                    "0": "10711",
                                    "1": "53",
                                    "2": "297.0000",
                                    "3": "6",
                                    "4": "0.000"
                                },
                                {
                                    "0": "10712",
                                    "1": "53",
                                    "2": "297.0000",
                                    "3": "12",
                                    "4": "0.050"
                                },
                                {
                                    "0": "10712",
                                    "1": "56",
                                    "2": "1718.3900",
                                    "3": "1",
                                    "4": "0.000"
                                },
                                {
                                    "0": "10713",
                                    "1": "10",
                                    "2": "771.2100",
                                    "3": "3",
                                    "4": "0.000"
                                },
                                {
                                    "0": "10713",
                                    "1": "26",
                                    "2": "2392.0000",
                                    "3": "1",
                                    "4": "0.000"
                                },
                                {
                                    "0": "10713",
                                    "1": "45",
                                    "2": "240.9600",
                                    "3": "8",
                                    "4": "0.000"
                                },
                                {
                                    "0": "10713",
                                    "1": "46",
                                    "2": "72.5100",
                                    "3": "9",
                                    "4": "0.000"
                                },
                                {
                                    "0": "10714",
                                    "1": "2",
                                    "2": "1454.0300",
                                    "3": "5",
                                    "4": "0.250"
                                },
                                {
                                    "0": "10714",
                                    "1": "17",
                                    "2": "394.0200",
                                    "3": "12",
                                    "4": "0.250"
                                },
                                {
                                    "0": "10714",
                                    "1": "47",
                                    "2": "949.4400",
                                    "3": "5",
                                    "4": "0.250"
                                },
                                {
                                    "0": "10714",
                                    "1": "56",
                                    "2": "1718.3900",
                                    "3": "14",
                                    "4": "0.250"
                                },
                                {
                                    "0": "10714",
                                    "1": "58",
                                    "2": "97.0100",
                                    "3": "13",
                                    "4": "0.250"
                                },
                                {
                                    "0": "10715",
                                    "1": "10",
                                    "2": "763.4200",
                                    "3": "5",
                                    "4": "0.000"
                                },
                                {
                                    "0": "10715",
                                    "1": "71",
                                    "2": "400.8200",
                                    "3": "13",
                                    "4": "0.000"
                                },
                                {
                                    "0": "10716",
                                    "1": "21",
                                    "2": "623.5000",
                                    "3": "14",
                                    "4": "0.000"
                                },
                                {
                                    "0": "10716",
                                    "1": "51",
                                    "2": "42.7100",
                                    "3": "14",
                                    "4": "0.000"
                                },
                                {
                                    "0": "10716",
                                    "1": "61",
                                    "2": "143.5500",
                                    "3": "7",
                                    "4": "0.000"
                                },
                                {
                                    "0": "10717",
                                    "1": "21",
                                    "2": "623.5000",
                                    "3": "6",
                                    "4": "0.050"
                                },
                                {
                                    "0": "10717",
                                    "1": "54",
                                    "2": "654.6400",
                                    "3": "6",
                                    "4": "0.000"
                                },
                                {
                                    "0": "10717",
                                    "1": "69",
                                    "2": "332.9900",
                                    "3": "12",
                                    "4": "0.050"
                                },
                                {
                                    "0": "10718",
                                    "1": "12",
                                    "2": "445.2300",
                                    "3": "13",
                                    "4": "0.000"
                                },
                                {
                                    "0": "10718",
                                    "1": "16",
                                    "2": "573.2000",
                                    "3": "1",
                                    "4": "0.000"
                                },
                                {
                                    "0": "10718",
                                    "1": "36",
                                    "2": "668.1800",
                                    "3": "2",
                                    "4": "0.000"
                                },
                                {
                                    "0": "10718",
                                    "1": "62",
                                    "2": "69.9900",
                                    "3": "15",
                                    "4": "0.000"
                                },
                                {
                                    "0": "10719",
                                    "1": "18",
                                    "2": "28.1800",
                                    "3": "6",
                                    "4": "0.250"
                                },
                                {
                                    "0": "10719",
                                    "1": "30",
                                    "2": "339.4400",
                                    "3": "9",
                                    "4": "0.250"
                                },
                                {
                                    "0": "10719",
                                    "1": "54",
                                    "2": "648.0300",
                                    "3": "11",
                                    "4": "0.250"
                                },
                                {
                                    "0": "10720",
                                    "1": "35",
                                    "2": "66.2400",
                                    "3": "15",
                                    "4": "0.000"
                                },
                                {
                                    "0": "10720",
                                    "1": "71",
                                    "2": "404.9100",
                                    "3": "4",
                                    "4": "0.000"
                                },
                                {
                                    "0": "10721",
                                    "1": "44",
                                    "2": "561.6200",
                                    "3": "10",
                                    "4": "0.050"
                                },
                                {
                                    "0": "10722",
                                    "1": "2",
                                    "2": "1484.0100",
                                    "3": "6",
                                    "4": "0.000"
                                },
                                {
                                    "0": "10722",
                                    "1": "31",
                                    "2": "159.0000",
                                    "3": "11",
                                    "4": "0.000"
                                },
                                {
                                    "0": "10722",
                                    "1": "68",
                                    "2": "49.9900",
                                    "3": "14",
                                    "4": "0.000"
                                },
                                {
                                    "0": "10722",
                                    "1": "75",
                                    "2": "52.9100",
                                    "3": "4",
                                    "4": "0.000"
                                },
                                {
                                    "0": "10723",
                                    "1": "26",
                                    "2": "2392.0000",
                                    "3": "3",
                                    "4": "0.000"
                                },
                                {
                                    "0": "10724",
                                    "1": "10",
                                    "2": "779.0000",
                                    "3": "5",
                                    "4": "0.000"
                                },
                                {
                                    "0": "10724",
                                    "1": "61",
                                    "2": "142.0700",
                                    "3": "13",
                                    "4": "0.000"
                                },
                                {
                                    "0": "10725",
                                    "1": "41",
                                    "2": "130.9300",
                                    "3": "7",
                                    "4": "0.000"
                                },
                                {
                                    "0": "10725",
                                    "1": "52",
                                    "2": "413.2100",
                                    "3": "14",
                                    "4": "0.000"
                                },
                                {
                                    "0": "10725",
                                    "1": "55",
                                    "2": "391.0100",
                                    "3": "1",
                                    "4": "0.000"
                                },
                                {
                                    "0": "10726",
                                    "1": "4",
                                    "2": "342.0100",
                                    "3": "14",
                                    "4": "0.000"
                                },
                                {
                                    "0": "10726",
                                    "1": "11",
                                    "2": "632.0000",
                                    "3": "12",
                                    "4": "0.000"
                                },
                                {
                                    "0": "10727",
                                    "1": "17",
                                    "2": "390.0400",
                                    "3": "2",
                                    "4": "0.050"
                                },
                                {
                                    "0": "10727",
                                    "1": "56",
                                    "2": "1736.2900",
                                    "3": "13",
                                    "4": "0.050"
                                },
                                {
                                    "0": "10727",
                                    "1": "59",
                                    "2": "1383.2200",
                                    "3": "15",
                                    "4": "0.050"
                                },
                                {
                                    "0": "10728",
                                    "1": "30",
                                    "2": "339.4400",
                                    "3": "8",
                                    "4": "0.000"
                                },
                                {
                                    "0": "10728",
                                    "1": "40",
                                    "2": "192.4100",
                                    "3": "6",
                                    "4": "0.000"
                                },
                                {
                                    "0": "10728",
                                    "1": "55",
                                    "2": "391.0100",
                                    "3": "3",
                                    "4": "0.000"
                                },
                                {
                                    "0": "10728",
                                    "1": "60",
                                    "2": "747.5000",
                                    "3": "11",
                                    "4": "0.000"
                                },
                                {
                                    "0": "10729",
                                    "1": "1",
                                    "2": "1286.0100",
                                    "3": "3",
                                    "4": "0.000"
                                },
                                {
                                    "0": "10729",
                                    "1": "21",
                                    "2": "598.5600",
                                    "3": "12",
                                    "4": "0.000"
                                },
                                {
                                    "0": "10729",
                                    "1": "50",
                                    "2": "99.0000",
                                    "3": "14",
                                    "4": "0.000"
                                },
                                {
                                    "0": "10730",
                                    "1": "16",
                                    "2": "578.9900",
                                    "3": "5",
                                    "4": "0.050"
                                },
                                {
                                    "0": "10730",
                                    "1": "31",
                                    "2": "159.0000",
                                    "3": "2",
                                    "4": "0.050"
                                },
                                {
                                    "0": "10730",
                                    "1": "65",
                                    "2": "181.0200",
                                    "3": "7",
                                    "4": "0.050"
                                },
                                {
                                    "0": "10731",
                                    "1": "21",
                                    "2": "623.5000",
                                    "3": "8",
                                    "4": "0.050"
                                },
                                {
                                    "0": "10731",
                                    "1": "51",
                                    "2": "44.0500",
                                    "3": "12",
                                    "4": "0.050"
                                },
                                {
                                    "0": "10732",
                                    "1": "76",
                                    "2": "68.0000",
                                    "3": "1",
                                    "4": "0.000"
                                },
                                {
                                    "0": "10733",
                                    "1": "14",
                                    "2": "22.3200",
                                    "3": "4",
                                    "4": "0.000"
                                },
                                {
                                    "0": "10733",
                                    "1": "28",
                                    "2": "30.7200",
                                    "3": "11",
                                    "4": "0.000"
                                },
                                {
                                    "0": "10733",
                                    "1": "52",
                                    "2": "413.2100",
                                    "3": "7",
                                    "4": "0.000"
                                },
                                {
                                    "0": "10734",
                                    "1": "6",
                                    "2": "109.0000",
                                    "3": "4",
                                    "4": "0.000"
                                },
                                {
                                    "0": "10734",
                                    "1": "30",
                                    "2": "339.4400",
                                    "3": "4",
                                    "4": "0.000"
                                },
                                {
                                    "0": "10734",
                                    "1": "76",
                                    "2": "65.2800",
                                    "3": "2",
                                    "4": "0.000"
                                },
                                {
                                    "0": "10735",
                                    "1": "61",
                                    "2": "147.9900",
                                    "3": "12",
                                    "4": "0.100"
                                },
                                {
                                    "0": "10735",
                                    "1": "77",
                                    "2": "126.2200",
                                    "3": "15",
                                    "4": "0.100"
                                },
                                {
                                    "0": "10736",
                                    "1": "65",
                                    "2": "175.5400",
                                    "3": "7",
                                    "4": "0.000"
                                },
                                {
                                    "0": "10736",
                                    "1": "75",
                                    "2": "51.8300",
                                    "3": "5",
                                    "4": "0.000"
                                },
                                {
                                    "0": "10737",
                                    "1": "13",
                                    "2": "59.0000",
                                    "3": "14",
                                    "4": "0.000"
                                },
                                {
                                    "0": "10737",
                                    "1": "41",
                                    "2": "130.9300",
                                    "3": "10",
                                    "4": "0.000"
                                },
                                {
                                    "0": "10738",
                                    "1": "16",
                                    "2": "578.9900",
                                    "3": "5",
                                    "4": "0.000"
                                },
                                {
                                    "0": "10739",
                                    "1": "36",
                                    "2": "681.9600",
                                    "3": "7",
                                    "4": "0.000"
                                },
                                {
                                    "0": "10739",
                                    "1": "52",
                                    "2": "408.9500",
                                    "3": "6",
                                    "4": "0.000"
                                },
                                {
                                    "0": "10740",
                                    "1": "28",
                                    "2": "31.0400",
                                    "3": "15",
                                    "4": "0.200"
                                },
                                {
                                    "0": "10740",
                                    "1": "35",
                                    "2": "66.2400",
                                    "3": "2",
                                    "4": "0.200"
                                },
                                {
                                    "0": "10740",
                                    "1": "45",
                                    "2": "240.9600",
                                    "3": "2",
                                    "4": "0.200"
                                },
                                {
                                    "0": "10740",
                                    "1": "56",
                                    "2": "1736.2900",
                                    "3": "3",
                                    "4": "0.200"
                                },
                                {
                                    "0": "10741",
                                    "1": "2",
                                    "2": "1469.0200",
                                    "3": "1",
                                    "4": "0.200"
                                },
                                {
                                    "0": "10742",
                                    "1": "3",
                                    "2": "775.0300",
                                    "3": "14",
                                    "4": "0.000"
                                },
                                {
                                    "0": "10742",
                                    "1": "60",
                                    "2": "747.5000",
                                    "3": "10",
                                    "4": "0.000"
                                },
                                {
                                    "0": "10742",
                                    "1": "72",
                                    "2": "98.9900",
                                    "3": "4",
                                    "4": "0.000"
                                },
                                {
                                    "0": "10743",
                                    "1": "46",
                                    "2": "72.5100",
                                    "3": "14",
                                    "4": "0.050"
                                },
                                {
                                    "0": "10744",
                                    "1": "40",
                                    "2": "192.4100",
                                    "3": "1",
                                    "4": "0.200"
                                },
                                {
                                    "0": "10745",
                                    "1": "18",
                                    "2": "27.8900",
                                    "3": "12",
                                    "4": "0.000"
                                },
                                {
                                    "0": "10745",
                                    "1": "44",
                                    "2": "561.6200",
                                    "3": "13",
                                    "4": "0.000"
                                },
                                {
                                    "0": "10745",
                                    "1": "59",
                                    "2": "1411.7400",
                                    "3": "13",
                                    "4": "0.000"
                                },
                                {
                                    "0": "10745",
                                    "1": "72",
                                    "2": "98.9900",
                                    "3": "2",
                                    "4": "0.000"
                                },
                                {
                                    "0": "10746",
                                    "1": "13",
                                    "2": "57.8200",
                                    "3": "5",
                                    "4": "0.000"
                                },
                                {
                                    "0": "10746",
                                    "1": "42",
                                    "2": "1022.6700",
                                    "3": "15",
                                    "4": "0.000"
                                },
                                {
                                    "0": "10746",
                                    "1": "62",
                                    "2": "69.2900",
                                    "3": "10",
                                    "4": "0.000"
                                },
                                {
                                    "0": "10746",
                                    "1": "69",
                                    "2": "326.3300",
                                    "3": "13",
                                    "4": "0.000"
                                },
                                {
                                    "0": "10747",
                                    "1": "31",
                                    "2": "157.4100",
                                    "3": "11",
                                    "4": "0.000"
                                },
                                {
                                    "0": "10747",
                                    "1": "41",
                                    "2": "126.9600",
                                    "3": "11",
                                    "4": "0.000"
                                },
                                {
                                    "0": "10747",
                                    "1": "63",
                                    "2": "1880.0100",
                                    "3": "15",
                                    "4": "0.000"
                                },
                                {
                                    "0": "10747",
                                    "1": "69",
                                    "2": "329.6600",
                                    "3": "4",
                                    "4": "0.000"
                                },
                                {
                                    "0": "10748",
                                    "1": "23",
                                    "2": "343.9300",
                                    "3": "1",
                                    "4": "0.000"
                                },
                                {
                                    "0": "10748",
                                    "1": "40",
                                    "2": "190.4600",
                                    "3": "5",
                                    "4": "0.000"
                                },
                                {
                                    "0": "10748",
                                    "1": "56",
                                    "2": "1772.0900",
                                    "3": "13",
                                    "4": "0.000"
                                },
                                {
                                    "0": "10749",
                                    "1": "56",
                                    "2": "1718.3900",
                                    "3": "4",
                                    "4": "0.000"
                                },
                                {
                                    "0": "10749",
                                    "1": "59",
                                    "2": "1368.9600",
                                    "3": "2",
                                    "4": "0.000"
                                },
                                {
                                    "0": "10749",
                                    "1": "76",
                                    "2": "65.9600",
                                    "3": "15",
                                    "4": "0.000"
                                },
                                {
                                    "0": "10750",
                                    "1": "14",
                                    "2": "22.5500",
                                    "3": "5",
                                    "4": "0.150"
                                },
                                {
                                    "0": "10750",
                                    "1": "45",
                                    "2": "251.0000",
                                    "3": "11",
                                    "4": "0.150"
                                },
                                {
                                    "0": "10750",
                                    "1": "59",
                                    "2": "1383.2200",
                                    "3": "8",
                                    "4": "0.150"
                                },
                                {
                                    "0": "10751",
                                    "1": "26",
                                    "2": "2466.7500",
                                    "3": "14",
                                    "4": "0.100"
                                },
                                {
                                    "0": "10751",
                                    "1": "30",
                                    "2": "346.4400",
                                    "3": "15",
                                    "4": "0.000"
                                },
                                {
                                    "0": "10751",
                                    "1": "50",
                                    "2": "99.0000",
                                    "3": "8",
                                    "4": "0.100"
                                },
                                {
                                    "0": "10751",
                                    "1": "73",
                                    "2": "185.2700",
                                    "3": "8",
                                    "4": "0.000"
                                },
                                {
                                    "0": "10752",
                                    "1": "1",
                                    "2": "1260.0300",
                                    "3": "2",
                                    "4": "0.000"
                                },
                                {
                                    "0": "10752",
                                    "1": "69",
                                    "2": "323.0000",
                                    "3": "4",
                                    "4": "0.000"
                                },
                                {
                                    "0": "10753",
                                    "1": "45",
                                    "2": "251.0000",
                                    "3": "6",
                                    "4": "0.000"
                                },
                                {
                                    "0": "10753",
                                    "1": "74",
                                    "2": "32.8100",
                                    "3": "5",
                                    "4": "0.000"
                                },
                                {
                                    "0": "10754",
                                    "1": "40",
                                    "2": "190.4600",
                                    "3": "3",
                                    "4": "0.000"
                                },
                                {
                                    "0": "10755",
                                    "1": "47",
                                    "2": "949.4400",
                                    "3": "8",
                                    "4": "0.250"
                                },
                                {
                                    "0": "10755",
                                    "1": "56",
                                    "2": "1772.0900",
                                    "3": "5",
                                    "4": "0.250"
                                },
                                {
                                    "0": "10755",
                                    "1": "57",
                                    "2": "2040.8800",
                                    "3": "10",
                                    "4": "0.250"
                                },
                                {
                                    "0": "10755",
                                    "1": "69",
                                    "2": "329.6600",
                                    "3": "6",
                                    "4": "0.250"
                                },
                                {
                                    "0": "10756",
                                    "1": "18",
                                    "2": "28.7500",
                                    "3": "5",
                                    "4": "0.200"
                                },
                                {
                                    "0": "10756",
                                    "1": "36",
                                    "2": "661.3000",
                                    "3": "6",
                                    "4": "0.200"
                                },
                                {
                                    "0": "10756",
                                    "1": "68",
                                    "2": "48.9900",
                                    "3": "14",
                                    "4": "0.200"
                                },
                                {
                                    "0": "10756",
                                    "1": "69",
                                    "2": "323.0000",
                                    "3": "11",
                                    "4": "0.200"
                                },
                                {
                                    "0": "10757",
                                    "1": "34",
                                    "2": "1499.0000",
                                    "3": "1",
                                    "4": "0.000"
                                },
                                {
                                    "0": "10757",
                                    "1": "59",
                                    "2": "1426.0000",
                                    "3": "6",
                                    "4": "0.000"
                                },
                                {
                                    "0": "10757",
                                    "1": "62",
                                    "2": "69.2900",
                                    "3": "4",
                                    "4": "0.000"
                                },
                                {
                                    "0": "10757",
                                    "1": "64",
                                    "2": "1598.9900",
                                    "3": "5",
                                    "4": "0.000"
                                },
                                {
                                    "0": "10758",
                                    "1": "26",
                                    "2": "2491.6700",
                                    "3": "9",
                                    "4": "0.000"
                                },
                                {
                                    "0": "10758",
                                    "1": "52",
                                    "2": "425.9900",
                                    "3": "3",
                                    "4": "0.000"
                                },
                                {
                                    "0": "10758",
                                    "1": "70",
                                    "2": "81.4800",
                                    "3": "7",
                                    "4": "0.000"
                                },
                                {
                                    "0": "10759",
                                    "1": "32",
                                    "2": "253.8100",
                                    "3": "15",
                                    "4": "0.000"
                                },
                                {
                                    "0": "10760",
                                    "1": "25",
                                    "2": "898.9900",
                                    "3": "9",
                                    "4": "0.250"
                                },
                                {
                                    "0": "10760",
                                    "1": "27",
                                    "2": "241.5300",
                                    "3": "14",
                                    "4": "0.000"
                                },
                                {
                                    "0": "10760",
                                    "1": "43",
                                    "2": "84.2300",
                                    "3": "4",
                                    "4": "0.250"
                                },
                                {
                                    "0": "10761",
                                    "1": "25",
                                    "2": "898.9900",
                                    "3": "12",
                                    "4": "0.250"
                                },
                                {
                                    "0": "10761",
                                    "1": "75",
                                    "2": "51.8300",
                                    "3": "14",
                                    "4": "0.000"
                                },
                                {
                                    "0": "10762",
                                    "1": "39",
                                    "2": "23.0000",
                                    "3": "2",
                                    "4": "0.000"
                                },
                                {
                                    "0": "10762",
                                    "1": "47",
                                    "2": "959.3300",
                                    "3": "2",
                                    "4": "0.000"
                                },
                                {
                                    "0": "10762",
                                    "1": "51",
                                    "2": "43.6000",
                                    "3": "4",
                                    "4": "0.000"
                                },
                                {
                                    "0": "10762",
                                    "1": "56",
                                    "2": "1754.1900",
                                    "3": "4",
                                    "4": "0.000"
                                },
                                {
                                    "0": "10763",
                                    "1": "21",
                                    "2": "611.0300",
                                    "3": "4",
                                    "4": "0.000"
                                },
                                {
                                    "0": "10763",
                                    "1": "22",
                                    "2": "3706.5600",
                                    "3": "13",
                                    "4": "0.000"
                                },
                                {
                                    "0": "10763",
                                    "1": "24",
                                    "2": "979.9900",
                                    "3": "7",
                                    "4": "0.000"
                                },
                                {
                                    "0": "10764",
                                    "1": "3",
                                    "2": "775.0300",
                                    "3": "4",
                                    "4": "0.100"
                                },
                                {
                                    "0": "10764",
                                    "1": "39",
                                    "2": "22.5400",
                                    "3": "10",
                                    "4": "0.100"
                                },
                                {
                                    "0": "10765",
                                    "1": "65",
                                    "2": "175.5400",
                                    "3": "5",
                                    "4": "0.100"
                                },
                                {
                                    "0": "10766",
                                    "1": "2",
                                    "2": "1499.0000",
                                    "3": "4",
                                    "4": "0.000"
                                },
                                {
                                    "0": "10766",
                                    "1": "7",
                                    "2": "39.0000",
                                    "3": "11",
                                    "4": "0.000"
                                },
                                {
                                    "0": "10766",
                                    "1": "68",
                                    "2": "47.9900",
                                    "3": "8",
                                    "4": "0.000"
                                },
                                {
                                    "0": "10767",
                                    "1": "42",
                                    "2": "991.6800",
                                    "3": "2",
                                    "4": "0.000"
                                },
                                {
                                    "0": "10768",
                                    "1": "22",
                                    "2": "3706.5600",
                                    "3": "10",
                                    "4": "0.000"
                                },
                                {
                                    "0": "10768",
                                    "1": "31",
                                    "2": "154.2300",
                                    "3": "1",
                                    "4": "0.000"
                                },
                                {
                                    "0": "10768",
                                    "1": "60",
                                    "2": "717.6000",
                                    "3": "2",
                                    "4": "0.000"
                                },
                                {
                                    "0": "10768",
                                    "1": "71",
                                    "2": "396.7300",
                                    "3": "14",
                                    "4": "0.000"
                                },
                                {
                                    "0": "10769",
                                    "1": "41",
                                    "2": "128.2800",
                                    "3": "7",
                                    "4": "0.050"
                                },
                                {
                                    "0": "10769",
                                    "1": "52",
                                    "2": "421.7300",
                                    "3": "4",
                                    "4": "0.050"
                                },
                                {
                                    "0": "10769",
                                    "1": "61",
                                    "2": "146.5100",
                                    "3": "10",
                                    "4": "0.000"
                                },
                                {
                                    "0": "10769",
                                    "1": "62",
                                    "2": "69.9900",
                                    "3": "9",
                                    "4": "0.000"
                                },
                                {
                                    "0": "10770",
                                    "1": "11",
                                    "2": "619.3600",
                                    "3": "1",
                                    "4": "0.250"
                                },
                                {
                                    "0": "10771",
                                    "1": "71",
                                    "2": "404.9100",
                                    "3": "3",
                                    "4": "0.000"
                                },
                                {
                                    "0": "10772",
                                    "1": "29",
                                    "2": "350.0000",
                                    "3": "4",
                                    "4": "0.000"
                                },
                                {
                                    "0": "10772",
                                    "1": "59",
                                    "2": "1397.4800",
                                    "3": "7",
                                    "4": "0.000"
                                },
                                {
                                    "0": "10773",
                                    "1": "17",
                                    "2": "386.0600",
                                    "3": "11",
                                    "4": "0.000"
                                },
                                {
                                    "0": "10773",
                                    "1": "31",
                                    "2": "159.0000",
                                    "3": "11",
                                    "4": "0.200"
                                },
                                {
                                    "0": "10773",
                                    "1": "75",
                                    "2": "52.3700",
                                    "3": "9",
                                    "4": "0.200"
                                },
                                {
                                    "0": "10774",
                                    "1": "31",
                                    "2": "159.0000",
                                    "3": "8",
                                    "4": "0.250"
                                },
                                {
                                    "0": "10774",
                                    "1": "66",
                                    "2": "79.9200",
                                    "3": "6",
                                    "4": "0.000"
                                },
                                {
                                    "0": "10775",
                                    "1": "10",
                                    "2": "779.0000",
                                    "3": "1",
                                    "4": "0.000"
                                },
                                {
                                    "0": "10775",
                                    "1": "67",
                                    "2": "19.4000",
                                    "3": "9",
                                    "4": "0.000"
                                },
                                {
                                    "0": "10776",
                                    "1": "31",
                                    "2": "152.6400",
                                    "3": "12",
                                    "4": "0.050"
                                },
                                {
                                    "0": "10776",
                                    "1": "42",
                                    "2": "1033.0000",
                                    "3": "6",
                                    "4": "0.050"
                                },
                                {
                                    "0": "10776",
                                    "1": "45",
                                    "2": "243.4700",
                                    "3": "3",
                                    "4": "0.050"
                                },
                                {
                                    "0": "10776",
                                    "1": "51",
                                    "2": "44.0500",
                                    "3": "8",
                                    "4": "0.050"
                                },
                                {
                                    "0": "10777",
                                    "1": "42",
                                    "2": "1002.0100",
                                    "3": "7",
                                    "4": "0.200"
                                },
                                {
                                    "0": "10778",
                                    "1": "41",
                                    "2": "129.6100",
                                    "3": "10",
                                    "4": "0.000"
                                },
                                {
                                    "0": "10779",
                                    "1": "16",
                                    "2": "561.6200",
                                    "3": "14",
                                    "4": "0.000"
                                },
                                {
                                    "0": "10779",
                                    "1": "62",
                                    "2": "69.9900",
                                    "3": "15",
                                    "4": "0.000"
                                },
                                {
                                    "0": "10780",
                                    "1": "70",
                                    "2": "84.0000",
                                    "3": "4",
                                    "4": "0.000"
                                },
                                {
                                    "0": "10780",
                                    "1": "77",
                                    "2": "124.9400",
                                    "3": "5",
                                    "4": "0.000"
                                },
                                {
                                    "0": "10781",
                                    "1": "54",
                                    "2": "648.0300",
                                    "3": "4",
                                    "4": "0.200"
                                },
                                {
                                    "0": "10781",
                                    "1": "56",
                                    "2": "1789.9900",
                                    "3": "9",
                                    "4": "0.200"
                                },
                                {
                                    "0": "10781",
                                    "1": "74",
                                    "2": "33.4800",
                                    "3": "2",
                                    "4": "0.000"
                                },
                                {
                                    "0": "10782",
                                    "1": "31",
                                    "2": "159.0000",
                                    "3": "4",
                                    "4": "0.000"
                                },
                                {
                                    "0": "10783",
                                    "1": "31",
                                    "2": "155.8200",
                                    "3": "7",
                                    "4": "0.000"
                                },
                                {
                                    "0": "10783",
                                    "1": "38",
                                    "2": "329.3200",
                                    "3": "8",
                                    "4": "0.000"
                                },
                                {
                                    "0": "10784",
                                    "1": "36",
                                    "2": "668.1800",
                                    "3": "5",
                                    "4": "0.000"
                                },
                                {
                                    "0": "10784",
                                    "1": "39",
                                    "2": "22.0800",
                                    "3": "14",
                                    "4": "0.150"
                                },
                                {
                                    "0": "10784",
                                    "1": "72",
                                    "2": "97.0100",
                                    "3": "13",
                                    "4": "0.150"
                                },
                                {
                                    "0": "10785",
                                    "1": "10",
                                    "2": "779.0000",
                                    "3": "5",
                                    "4": "0.000"
                                },
                                {
                                    "0": "10785",
                                    "1": "75",
                                    "2": "53.4500",
                                    "3": "10",
                                    "4": "0.000"
                                },
                                {
                                    "0": "10786",
                                    "1": "8",
                                    "2": "167.9200",
                                    "3": "9",
                                    "4": "0.200"
                                },
                                {
                                    "0": "10786",
                                    "1": "30",
                                    "2": "349.9400",
                                    "3": "11",
                                    "4": "0.200"
                                },
                                {
                                    "0": "10786",
                                    "1": "75",
                                    "2": "52.3700",
                                    "3": "4",
                                    "4": "0.200"
                                },
                                {
                                    "0": "10787",
                                    "1": "2",
                                    "2": "1439.0400",
                                    "3": "6",
                                    "4": "0.050"
                                },
                                {
                                    "0": "10787",
                                    "1": "29",
                                    "2": "343.0000",
                                    "3": "7",
                                    "4": "0.050"
                                },
                                {
                                    "0": "10788",
                                    "1": "19",
                                    "2": "632.6400",
                                    "3": "2",
                                    "4": "0.050"
                                },
                                {
                                    "0": "10788",
                                    "1": "75",
                                    "2": "52.3700",
                                    "3": "10",
                                    "4": "0.050"
                                },
                                {
                                    "0": "10789",
                                    "1": "18",
                                    "2": "28.7500",
                                    "3": "2",
                                    "4": "0.000"
                                },
                                {
                                    "0": "10789",
                                    "1": "35",
                                    "2": "66.2400",
                                    "3": "11",
                                    "4": "0.000"
                                },
                                {
                                    "0": "10789",
                                    "1": "63",
                                    "2": "1861.0200",
                                    "3": "5",
                                    "4": "0.000"
                                },
                                {
                                    "0": "10789",
                                    "1": "68",
                                    "2": "48.9900",
                                    "3": "3",
                                    "4": "0.000"
                                },
                                {
                                    "0": "10790",
                                    "1": "7",
                                    "2": "38.6100",
                                    "3": "7",
                                    "4": "0.150"
                                },
                                {
                                    "0": "10790",
                                    "1": "56",
                                    "2": "1736.2900",
                                    "3": "14",
                                    "4": "0.150"
                                },
                                {
                                    "0": "10791",
                                    "1": "29",
                                    "2": "339.5000",
                                    "3": "14",
                                    "4": "0.050"
                                },
                                {
                                    "0": "10791",
                                    "1": "41",
                                    "2": "129.6100",
                                    "3": "2",
                                    "4": "0.050"
                                },
                                {
                                    "0": "10792",
                                    "1": "2",
                                    "2": "1454.0300",
                                    "3": "1",
                                    "4": "0.000"
                                },
                                {
                                    "0": "10792",
                                    "1": "54",
                                    "2": "641.4100",
                                    "3": "10",
                                    "4": "0.000"
                                },
                                {
                                    "0": "10792",
                                    "1": "68",
                                    "2": "48.9900",
                                    "3": "6",
                                    "4": "0.000"
                                },
                                {
                                    "0": "10793",
                                    "1": "41",
                                    "2": "129.6100",
                                    "3": "11",
                                    "4": "0.000"
                                },
                                {
                                    "0": "10793",
                                    "1": "52",
                                    "2": "421.7300",
                                    "3": "8",
                                    "4": "0.000"
                                },
                                {
                                    "0": "10794",
                                    "1": "14",
                                    "2": "22.3200",
                                    "3": "6",
                                    "4": "0.200"
                                },
                                {
                                    "0": "10794",
                                    "1": "54",
                                    "2": "648.0300",
                                    "3": "9",
                                    "4": "0.200"
                                },
                                {
                                    "0": "10795",
                                    "1": "16",
                                    "2": "578.9900",
                                    "3": "11",
                                    "4": "0.000"
                                },
                                {
                                    "0": "10795",
                                    "1": "17",
                                    "2": "382.0800",
                                    "3": "15",
                                    "4": "0.250"
                                },
                                {
                                    "0": "10796",
                                    "1": "26",
                                    "2": "2392.0000",
                                    "3": "8",
                                    "4": "0.200"
                                },
                                {
                                    "0": "10796",
                                    "1": "44",
                                    "2": "578.9900",
                                    "3": "10",
                                    "4": "0.000"
                                },
                                {
                                    "0": "10796",
                                    "1": "64",
                                    "2": "1535.0300",
                                    "3": "11",
                                    "4": "0.200"
                                },
                                {
                                    "0": "10796",
                                    "1": "69",
                                    "2": "326.3300",
                                    "3": "4",
                                    "4": "0.200"
                                },
                                {
                                    "0": "10797",
                                    "1": "11",
                                    "2": "619.3600",
                                    "3": "13",
                                    "4": "0.000"
                                },
                                {
                                    "0": "10798",
                                    "1": "62",
                                    "2": "67.8900",
                                    "3": "7",
                                    "4": "0.000"
                                },
                                {
                                    "0": "10798",
                                    "1": "72",
                                    "2": "96.0200",
                                    "3": "10",
                                    "4": "0.000"
                                },
                                {
                                    "0": "10799",
                                    "1": "13",
                                    "2": "57.8200",
                                    "3": "15",
                                    "4": "0.150"
                                },
                                {
                                    "0": "10799",
                                    "1": "24",
                                    "2": "969.9900",
                                    "3": "15",
                                    "4": "0.150"
                                },
                                {
                                    "0": "10799",
                                    "1": "59",
                                    "2": "1368.9600",
                                    "3": "11",
                                    "4": "0.000"
                                },
                                {
                                    "0": "10800",
                                    "1": "11",
                                    "2": "632.0000",
                                    "3": "9",
                                    "4": "0.100"
                                },
                                {
                                    "0": "10800",
                                    "1": "51",
                                    "2": "42.7100",
                                    "3": "2",
                                    "4": "0.100"
                                },
                                {
                                    "0": "10800",
                                    "1": "54",
                                    "2": "641.4100",
                                    "3": "6",
                                    "4": "0.100"
                                },
                                {
                                    "0": "10801",
                                    "1": "17",
                                    "2": "390.0400",
                                    "3": "5",
                                    "4": "0.250"
                                },
                                {
                                    "0": "10801",
                                    "1": "29",
                                    "2": "336.0000",
                                    "3": "6",
                                    "4": "0.250"
                                },
                                {
                                    "0": "10802",
                                    "1": "30",
                                    "2": "349.9400",
                                    "3": "10",
                                    "4": "0.250"
                                },
                                {
                                    "0": "10802",
                                    "1": "51",
                                    "2": "44.4900",
                                    "3": "6",
                                    "4": "0.250"
                                },
                                {
                                    "0": "10802",
                                    "1": "55",
                                    "2": "398.9900",
                                    "3": "14",
                                    "4": "0.250"
                                },
                                {
                                    "0": "10802",
                                    "1": "62",
                                    "2": "69.2900",
                                    "3": "6",
                                    "4": "0.250"
                                },
                                {
                                    "0": "10803",
                                    "1": "19",
                                    "2": "652.4100",
                                    "3": "12",
                                    "4": "0.050"
                                },
                                {
                                    "0": "10803",
                                    "1": "25",
                                    "2": "898.9900",
                                    "3": "7",
                                    "4": "0.050"
                                },
                                {
                                    "0": "10803",
                                    "1": "59",
                                    "2": "1426.0000",
                                    "3": "1",
                                    "4": "0.050"
                                },
                                {
                                    "0": "10804",
                                    "1": "10",
                                    "2": "747.8400",
                                    "3": "2",
                                    "4": "0.000"
                                },
                                {
                                    "0": "10804",
                                    "1": "28",
                                    "2": "30.7200",
                                    "3": "11",
                                    "4": "0.000"
                                },
                                {
                                    "0": "10804",
                                    "1": "49",
                                    "2": "319.1100",
                                    "3": "7",
                                    "4": "0.150"
                                },
                                {
                                    "0": "10805",
                                    "1": "34",
                                    "2": "1439.0400",
                                    "3": "10",
                                    "4": "0.000"
                                },
                                {
                                    "0": "10805",
                                    "1": "38",
                                    "2": "329.3200",
                                    "3": "3",
                                    "4": "0.000"
                                },
                                {
                                    "0": "10806",
                                    "1": "2",
                                    "2": "1439.0400",
                                    "3": "4",
                                    "4": "0.250"
                                },
                                {
                                    "0": "10806",
                                    "1": "65",
                                    "2": "177.3600",
                                    "3": "6",
                                    "4": "0.000"
                                },
                                {
                                    "0": "10806",
                                    "1": "74",
                                    "2": "33.4800",
                                    "3": "11",
                                    "4": "0.250"
                                },
                                {
                                    "0": "10807",
                                    "1": "40",
                                    "2": "192.4100",
                                    "3": "3",
                                    "4": "0.000"
                                },
                                {
                                    "0": "10808",
                                    "1": "56",
                                    "2": "1736.2900",
                                    "3": "7",
                                    "4": "0.150"
                                },
                                {
                                    "0": "10808",
                                    "1": "76",
                                    "2": "65.2800",
                                    "3": "4",
                                    "4": "0.150"
                                },
                                {
                                    "0": "10809",
                                    "1": "52",
                                    "2": "413.2100",
                                    "3": "3",
                                    "4": "0.000"
                                },
                                {
                                    "0": "10810",
                                    "1": "13",
                                    "2": "58.4100",
                                    "3": "15",
                                    "4": "0.000"
                                },
                                {
                                    "0": "10810",
                                    "1": "25",
                                    "2": "898.9900",
                                    "3": "10",
                                    "4": "0.000"
                                },
                                {
                                    "0": "10810",
                                    "1": "70",
                                    "2": "80.6400",
                                    "3": "13",
                                    "4": "0.000"
                                },
                                {
                                    "0": "10811",
                                    "1": "19",
                                    "2": "659.0000",
                                    "3": "2",
                                    "4": "0.000"
                                },
                                {
                                    "0": "10811",
                                    "1": "23",
                                    "2": "347.4400",
                                    "3": "1",
                                    "4": "0.000"
                                },
                                {
                                    "0": "10811",
                                    "1": "40",
                                    "2": "192.4100",
                                    "3": "13",
                                    "4": "0.000"
                                },
                                {
                                    "0": "10812",
                                    "1": "31",
                                    "2": "152.6400",
                                    "3": "6",
                                    "4": "0.100"
                                },
                                {
                                    "0": "10812",
                                    "1": "72",
                                    "2": "95.0300",
                                    "3": "6",
                                    "4": "0.100"
                                },
                                {
                                    "0": "10812",
                                    "1": "77",
                                    "2": "127.5100",
                                    "3": "7",
                                    "4": "0.000"
                                },
                                {
                                    "0": "10813",
                                    "1": "2",
                                    "2": "1484.0100",
                                    "3": "9",
                                    "4": "0.200"
                                },
                                {
                                    "0": "10813",
                                    "1": "46",
                                    "2": "71.7600",
                                    "3": "13",
                                    "4": "0.000"
                                },
                                {
                                    "0": "10814",
                                    "1": "41",
                                    "2": "126.9600",
                                    "3": "2",
                                    "4": "0.000"
                                },
                                {
                                    "0": "10814",
                                    "1": "43",
                                    "2": "85.0900",
                                    "3": "8",
                                    "4": "0.150"
                                },
                                {
                                    "0": "10814",
                                    "1": "48",
                                    "2": "1454.0300",
                                    "3": "10",
                                    "4": "0.150"
                                },
                                {
                                    "0": "10814",
                                    "1": "61",
                                    "2": "145.0300",
                                    "3": "15",
                                    "4": "0.150"
                                },
                                {
                                    "0": "10815",
                                    "1": "33",
                                    "2": "22.9400",
                                    "3": "3",
                                    "4": "0.000"
                                },
                                {
                                    "0": "10816",
                                    "1": "38",
                                    "2": "339.5000",
                                    "3": "7",
                                    "4": "0.050"
                                },
                                {
                                    "0": "10816",
                                    "1": "62",
                                    "2": "67.8900",
                                    "3": "10",
                                    "4": "0.050"
                                },
                                {
                                    "0": "10817",
                                    "1": "26",
                                    "2": "2466.7500",
                                    "3": "12",
                                    "4": "0.150"
                                },
                                {
                                    "0": "10817",
                                    "1": "38",
                                    "2": "325.9200",
                                    "3": "10",
                                    "4": "0.000"
                                },
                                {
                                    "0": "10817",
                                    "1": "40",
                                    "2": "194.3500",
                                    "3": "1",
                                    "4": "0.150"
                                },
                                {
                                    "0": "10817",
                                    "1": "62",
                                    "2": "69.2900",
                                    "3": "6",
                                    "4": "0.150"
                                },
                                {
                                    "0": "10818",
                                    "1": "32",
                                    "2": "258.9900",
                                    "3": "4",
                                    "4": "0.000"
                                },
                                {
                                    "0": "10818",
                                    "1": "41",
                                    "2": "129.6100",
                                    "3": "15",
                                    "4": "0.000"
                                },
                                {
                                    "0": "10819",
                                    "1": "43",
                                    "2": "85.9500",
                                    "3": "13",
                                    "4": "0.000"
                                },
                                {
                                    "0": "10819",
                                    "1": "75",
                                    "2": "53.9900",
                                    "3": "15",
                                    "4": "0.000"
                                },
                                {
                                    "0": "10820",
                                    "1": "56",
                                    "2": "1789.9900",
                                    "3": "7",
                                    "4": "0.000"
                                },
                                {
                                    "0": "10821",
                                    "1": "35",
                                    "2": "66.9300",
                                    "3": "3",
                                    "4": "0.000"
                                },
                                {
                                    "0": "10821",
                                    "1": "51",
                                    "2": "42.7100",
                                    "3": "6",
                                    "4": "0.000"
                                },
                                {
                                    "0": "10822",
                                    "1": "62",
                                    "2": "69.9900",
                                    "3": "2",
                                    "4": "0.000"
                                },
                                {
                                    "0": "10822",
                                    "1": "70",
                                    "2": "80.6400",
                                    "3": "5",
                                    "4": "0.000"
                                },
                                {
                                    "0": "10823",
                                    "1": "11",
                                    "2": "613.0400",
                                    "3": "13",
                                    "4": "0.100"
                                },
                                {
                                    "0": "10823",
                                    "1": "57",
                                    "2": "2019.8400",
                                    "3": "4",
                                    "4": "0.000"
                                },
                                {
                                    "0": "10823",
                                    "1": "59",
                                    "2": "1411.7400",
                                    "3": "8",
                                    "4": "0.100"
                                },
                                {
                                    "0": "10823",
                                    "1": "77",
                                    "2": "124.9400",
                                    "3": "1",
                                    "4": "0.100"
                                },
                                {
                                    "0": "10824",
                                    "1": "41",
                                    "2": "129.6100",
                                    "3": "12",
                                    "4": "0.000"
                                },
                                {
                                    "0": "10824",
                                    "1": "70",
                                    "2": "82.3200",
                                    "3": "10",
                                    "4": "0.000"
                                },
                                {
                                    "0": "10825",
                                    "1": "26",
                                    "2": "2392.0000",
                                    "3": "2",
                                    "4": "0.000"
                                },
                                {
                                    "0": "10825",
                                    "1": "53",
                                    "2": "291.0000",
                                    "3": "14",
                                    "4": "0.000"
                                },
                                {
                                    "0": "10826",
                                    "1": "31",
                                    "2": "154.2300",
                                    "3": "14",
                                    "4": "0.000"
                                },
                                {
                                    "0": "10826",
                                    "1": "57",
                                    "2": "2040.8800",
                                    "3": "15",
                                    "4": "0.000"
                                },
                                {
                                    "0": "10827",
                                    "1": "10",
                                    "2": "763.4200",
                                    "3": "15",
                                    "4": "0.000"
                                },
                                {
                                    "0": "10827",
                                    "1": "39",
                                    "2": "22.7700",
                                    "3": "11",
                                    "4": "0.000"
                                },
                                {
                                    "0": "10828",
                                    "1": "20",
                                    "2": "571.2000",
                                    "3": "13",
                                    "4": "0.000"
                                },
                                {
                                    "0": "10828",
                                    "1": "38",
                                    "2": "325.9200",
                                    "3": "11",
                                    "4": "0.000"
                                },
                                {
                                    "0": "10829",
                                    "1": "2",
                                    "2": "1469.0200",
                                    "3": "2",
                                    "4": "0.000"
                                },
                                {
                                    "0": "10829",
                                    "1": "8",
                                    "2": "171.3500",
                                    "3": "11",
                                    "4": "0.000"
                                },
                                {
                                    "0": "10829",
                                    "1": "13",
                                    "2": "56.6400",
                                    "3": "8",
                                    "4": "0.000"
                                },
                                {
                                    "0": "10829",
                                    "1": "60",
                                    "2": "717.6000",
                                    "3": "15",
                                    "4": "0.000"
                                },
                                {
                                    "0": "10830",
                                    "1": "6",
                                    "2": "106.8200",
                                    "3": "6",
                                    "4": "0.000"
                                },
                                {
                                    "0": "10830",
                                    "1": "39",
                                    "2": "22.5400",
                                    "3": "8",
                                    "4": "0.000"
                                },
                                {
                                    "0": "10830",
                                    "1": "60",
                                    "2": "732.5500",
                                    "3": "8",
                                    "4": "0.000"
                                },
                                {
                                    "0": "10830",
                                    "1": "68",
                                    "2": "49.4900",
                                    "3": "7",
                                    "4": "0.000"
                                },
                                {
                                    "0": "10831",
                                    "1": "19",
                                    "2": "652.4100",
                                    "3": "9",
                                    "4": "0.000"
                                },
                                {
                                    "0": "10831",
                                    "1": "35",
                                    "2": "66.2400",
                                    "3": "3",
                                    "4": "0.000"
                                },
                                {
                                    "0": "10831",
                                    "1": "38",
                                    "2": "325.9200",
                                    "3": "7",
                                    "4": "0.000"
                                },
                                {
                                    "0": "10831",
                                    "1": "43",
                                    "2": "84.2300",
                                    "3": "2",
                                    "4": "0.000"
                                },
                                {
                                    "0": "10832",
                                    "1": "13",
                                    "2": "58.4100",
                                    "3": "10",
                                    "4": "0.200"
                                },
                                {
                                    "0": "10832",
                                    "1": "25",
                                    "2": "898.9900",
                                    "3": "3",
                                    "4": "0.200"
                                },
                                {
                                    "0": "10832",
                                    "1": "44",
                                    "2": "555.8300",
                                    "3": "5",
                                    "4": "0.200"
                                },
                                {
                                    "0": "10832",
                                    "1": "64",
                                    "2": "1535.0300",
                                    "3": "3",
                                    "4": "0.000"
                                },
                                {
                                    "0": "10833",
                                    "1": "7",
                                    "2": "38.2200",
                                    "3": "3",
                                    "4": "0.100"
                                },
                                {
                                    "0": "10833",
                                    "1": "31",
                                    "2": "154.2300",
                                    "3": "14",
                                    "4": "0.100"
                                },
                                {
                                    "0": "10833",
                                    "1": "53",
                                    "2": "294.0000",
                                    "3": "10",
                                    "4": "0.100"
                                },
                                {
                                    "0": "10834",
                                    "1": "29",
                                    "2": "339.5000",
                                    "3": "14",
                                    "4": "0.050"
                                },
                                {
                                    "0": "10834",
                                    "1": "30",
                                    "2": "342.9400",
                                    "3": "14",
                                    "4": "0.050"
                                },
                                {
                                    "0": "10835",
                                    "1": "59",
                                    "2": "1397.4800",
                                    "3": "15",
                                    "4": "0.000"
                                },
                                {
                                    "0": "10835",
                                    "1": "77",
                                    "2": "128.8000",
                                    "3": "13",
                                    "4": "0.200"
                                },
                                {
                                    "0": "10836",
                                    "1": "22",
                                    "2": "3744.0000",
                                    "3": "15",
                                    "4": "0.000"
                                },
                                {
                                    "0": "10836",
                                    "1": "35",
                                    "2": "68.3100",
                                    "3": "15",
                                    "4": "0.000"
                                },
                                {
                                    "0": "10836",
                                    "1": "57",
                                    "2": "2104.0000",
                                    "3": "11",
                                    "4": "0.000"
                                },
                                {
                                    "0": "10836",
                                    "1": "60",
                                    "2": "725.0800",
                                    "3": "2",
                                    "4": "0.000"
                                },
                                {
                                    "0": "10836",
                                    "1": "64",
                                    "2": "1567.0100",
                                    "3": "5",
                                    "4": "0.000"
                                },
                                {
                                    "0": "10837",
                                    "1": "13",
                                    "2": "56.6400",
                                    "3": "3",
                                    "4": "0.000"
                                },
                                {
                                    "0": "10837",
                                    "1": "40",
                                    "2": "186.5800",
                                    "3": "5",
                                    "4": "0.000"
                                },
                                {
                                    "0": "10837",
                                    "1": "47",
                                    "2": "949.4400",
                                    "3": "5",
                                    "4": "0.250"
                                },
                                {
                                    "0": "10837",
                                    "1": "76",
                                    "2": "68.0000",
                                    "3": "5",
                                    "4": "0.250"
                                },
                                {
                                    "0": "10838",
                                    "1": "1",
                                    "2": "1286.0100",
                                    "3": "3",
                                    "4": "0.250"
                                },
                                {
                                    "0": "10838",
                                    "1": "18",
                                    "2": "27.8900",
                                    "3": "10",
                                    "4": "0.250"
                                },
                                {
                                    "0": "10838",
                                    "1": "36",
                                    "2": "668.1800",
                                    "3": "15",
                                    "4": "0.250"
                                },
                                {
                                    "0": "10839",
                                    "1": "58",
                                    "2": "97.0100",
                                    "3": "11",
                                    "4": "0.100"
                                },
                                {
                                    "0": "10839",
                                    "1": "72",
                                    "2": "95.0300",
                                    "3": "10",
                                    "4": "0.100"
                                },
                                {
                                    "0": "10840",
                                    "1": "25",
                                    "2": "898.9900",
                                    "3": "14",
                                    "4": "0.200"
                                },
                                {
                                    "0": "10840",
                                    "1": "39",
                                    "2": "22.5400",
                                    "3": "11",
                                    "4": "0.200"
                                },
                                {
                                    "0": "10841",
                                    "1": "10",
                                    "2": "771.2100",
                                    "3": "12",
                                    "4": "0.000"
                                },
                                {
                                    "0": "10841",
                                    "1": "56",
                                    "2": "1754.1900",
                                    "3": "6",
                                    "4": "0.000"
                                },
                                {
                                    "0": "10841",
                                    "1": "59",
                                    "2": "1426.0000",
                                    "3": "15",
                                    "4": "0.000"
                                },
                                {
                                    "0": "10841",
                                    "1": "77",
                                    "2": "126.2200",
                                    "3": "11",
                                    "4": "0.000"
                                },
                                {
                                    "0": "10842",
                                    "1": "11",
                                    "2": "606.7200",
                                    "3": "10",
                                    "4": "0.000"
                                },
                                {
                                    "0": "10842",
                                    "1": "43",
                                    "2": "82.5100",
                                    "3": "14",
                                    "4": "0.000"
                                },
                                {
                                    "0": "10842",
                                    "1": "68",
                                    "2": "48.9900",
                                    "3": "7",
                                    "4": "0.000"
                                },
                                {
                                    "0": "10842",
                                    "1": "70",
                                    "2": "83.1600",
                                    "3": "10",
                                    "4": "0.000"
                                },
                                {
                                    "0": "10843",
                                    "1": "51",
                                    "2": "42.7100",
                                    "3": "9",
                                    "4": "0.250"
                                },
                                {
                                    "0": "10844",
                                    "1": "22",
                                    "2": "3744.0000",
                                    "3": "4",
                                    "4": "0.000"
                                },
                                {
                                    "0": "10845",
                                    "1": "23",
                                    "2": "350.9500",
                                    "3": "11",
                                    "4": "0.100"
                                },
                                {
                                    "0": "10845",
                                    "1": "35",
                                    "2": "66.2400",
                                    "3": "1",
                                    "4": "0.100"
                                },
                                {
                                    "0": "10845",
                                    "1": "42",
                                    "2": "1012.3400",
                                    "3": "6",
                                    "4": "0.100"
                                },
                                {
                                    "0": "10845",
                                    "1": "58",
                                    "2": "95.0300",
                                    "3": "12",
                                    "4": "0.100"
                                },
                                {
                                    "0": "10845",
                                    "1": "64",
                                    "2": "1551.0200",
                                    "3": "12",
                                    "4": "0.000"
                                },
                                {
                                    "0": "10846",
                                    "1": "4",
                                    "2": "335.0300",
                                    "3": "2",
                                    "4": "0.000"
                                },
                                {
                                    "0": "10846",
                                    "1": "70",
                                    "2": "81.4800",
                                    "3": "7",
                                    "4": "0.000"
                                },
                                {
                                    "0": "10846",
                                    "1": "74",
                                    "2": "32.8100",
                                    "3": "12",
                                    "4": "0.000"
                                },
                                {
                                    "0": "10847",
                                    "1": "1",
                                    "2": "1299.0000",
                                    "3": "3",
                                    "4": "0.200"
                                },
                                {
                                    "0": "10847",
                                    "1": "19",
                                    "2": "659.0000",
                                    "3": "14",
                                    "4": "0.200"
                                },
                                {
                                    "0": "10847",
                                    "1": "37",
                                    "2": "240.3500",
                                    "3": "7",
                                    "4": "0.200"
                                },
                                {
                                    "0": "10847",
                                    "1": "45",
                                    "2": "245.9800",
                                    "3": "9",
                                    "4": "0.200"
                                },
                                {
                                    "0": "10847",
                                    "1": "60",
                                    "2": "747.5000",
                                    "3": "15",
                                    "4": "0.200"
                                },
                                {
                                    "0": "10847",
                                    "1": "71",
                                    "2": "396.7300",
                                    "3": "6",
                                    "4": "0.200"
                                },
                                {
                                    "0": "10848",
                                    "1": "5",
                                    "2": "144.5300",
                                    "3": "12",
                                    "4": "0.000"
                                },
                                {
                                    "0": "10848",
                                    "1": "9",
                                    "2": "495.0000",
                                    "3": "7",
                                    "4": "0.000"
                                },
                                {
                                    "0": "10849",
                                    "1": "3",
                                    "2": "775.0300",
                                    "3": "6",
                                    "4": "0.000"
                                },
                                {
                                    "0": "10849",
                                    "1": "26",
                                    "2": "2491.6700",
                                    "3": "2",
                                    "4": "0.150"
                                },
                                {
                                    "0": "10850",
                                    "1": "25",
                                    "2": "898.9900",
                                    "3": "9",
                                    "4": "0.150"
                                },
                                {
                                    "0": "10850",
                                    "1": "33",
                                    "2": "22.9400",
                                    "3": "1",
                                    "4": "0.150"
                                },
                                {
                                    "0": "10850",
                                    "1": "70",
                                    "2": "84.0000",
                                    "3": "2",
                                    "4": "0.150"
                                },
                                {
                                    "0": "10851",
                                    "1": "2",
                                    "2": "1454.0300",
                                    "3": "2",
                                    "4": "0.050"
                                },
                                {
                                    "0": "10851",
                                    "1": "25",
                                    "2": "898.9900",
                                    "3": "4",
                                    "4": "0.050"
                                },
                                {
                                    "0": "10851",
                                    "1": "57",
                                    "2": "2061.9200",
                                    "3": "2",
                                    "4": "0.050"
                                },
                                {
                                    "0": "10851",
                                    "1": "59",
                                    "2": "1426.0000",
                                    "3": "6",
                                    "4": "0.050"
                                },
                                {
                                    "0": "10852",
                                    "1": "2",
                                    "2": "1499.0000",
                                    "3": "2",
                                    "4": "0.000"
                                },
                                {
                                    "0": "10852",
                                    "1": "17",
                                    "2": "382.0800",
                                    "3": "8",
                                    "4": "0.000"
                                },
                                {
                                    "0": "10852",
                                    "1": "62",
                                    "2": "67.8900",
                                    "3": "13",
                                    "4": "0.000"
                                },
                                {
                                    "0": "10853",
                                    "1": "18",
                                    "2": "27.6000",
                                    "3": "15",
                                    "4": "0.000"
                                },
                                {
                                    "0": "10854",
                                    "1": "10",
                                    "2": "755.6300",
                                    "3": "2",
                                    "4": "0.150"
                                },
                                {
                                    "0": "10854",
                                    "1": "13",
                                    "2": "58.4100",
                                    "3": "11",
                                    "4": "0.150"
                                },
                                {
                                    "0": "10855",
                                    "1": "16",
                                    "2": "573.2000",
                                    "3": "13",
                                    "4": "0.000"
                                },
                                {
                                    "0": "10855",
                                    "1": "31",
                                    "2": "154.2300",
                                    "3": "10",
                                    "4": "0.000"
                                },
                                {
                                    "0": "10855",
                                    "1": "56",
                                    "2": "1718.3900",
                                    "3": "1",
                                    "4": "0.000"
                                },
                                {
                                    "0": "10855",
                                    "1": "65",
                                    "2": "179.1900",
                                    "3": "6",
                                    "4": "0.150"
                                },
                                {
                                    "0": "10856",
                                    "1": "2",
                                    "2": "1469.0200",
                                    "3": "5",
                                    "4": "0.000"
                                },
                                {
                                    "0": "10856",
                                    "1": "42",
                                    "2": "1002.0100",
                                    "3": "3",
                                    "4": "0.000"
                                },
                                {
                                    "0": "10857",
                                    "1": "3",
                                    "2": "775.0300",
                                    "3": "3",
                                    "4": "0.000"
                                },
                                {
                                    "0": "10857",
                                    "1": "26",
                                    "2": "2392.0000",
                                    "3": "10",
                                    "4": "0.250"
                                },
                                {
                                    "0": "10857",
                                    "1": "29",
                                    "2": "336.0000",
                                    "3": "10",
                                    "4": "0.250"
                                },
                                {
                                    "0": "10858",
                                    "1": "7",
                                    "2": "38.6100",
                                    "3": "1",
                                    "4": "0.000"
                                },
                                {
                                    "0": "10858",
                                    "1": "27",
                                    "2": "246.5100",
                                    "3": "11",
                                    "4": "0.000"
                                },
                                {
                                    "0": "10858",
                                    "1": "70",
                                    "2": "84.0000",
                                    "3": "4",
                                    "4": "0.000"
                                },
                                {
                                    "0": "10859",
                                    "1": "24",
                                    "2": "979.9900",
                                    "3": "7",
                                    "4": "0.250"
                                },
                                {
                                    "0": "10859",
                                    "1": "54",
                                    "2": "661.2500",
                                    "3": "12",
                                    "4": "0.250"
                                },
                                {
                                    "0": "10859",
                                    "1": "64",
                                    "2": "1567.0100",
                                    "3": "2",
                                    "4": "0.250"
                                },
                                {
                                    "0": "10860",
                                    "1": "51",
                                    "2": "43.1600",
                                    "3": "3",
                                    "4": "0.000"
                                },
                                {
                                    "0": "10860",
                                    "1": "76",
                                    "2": "65.2800",
                                    "3": "10",
                                    "4": "0.000"
                                },
                                {
                                    "0": "10861",
                                    "1": "17",
                                    "2": "386.0600",
                                    "3": "1",
                                    "4": "0.000"
                                },
                                {
                                    "0": "10861",
                                    "1": "18",
                                    "2": "28.7500",
                                    "3": "2",
                                    "4": "0.000"
                                },
                                {
                                    "0": "10861",
                                    "1": "21",
                                    "2": "623.5000",
                                    "3": "4",
                                    "4": "0.000"
                                },
                                {
                                    "0": "10861",
                                    "1": "33",
                                    "2": "22.4800",
                                    "3": "1",
                                    "4": "0.000"
                                },
                                {
                                    "0": "10861",
                                    "1": "62",
                                    "2": "68.5900",
                                    "3": "10",
                                    "4": "0.000"
                                },
                                {
                                    "0": "10862",
                                    "1": "11",
                                    "2": "613.0400",
                                    "3": "10",
                                    "4": "0.000"
                                },
                                {
                                    "0": "10862",
                                    "1": "52",
                                    "2": "421.7300",
                                    "3": "3",
                                    "4": "0.000"
                                },
                                {
                                    "0": "10863",
                                    "1": "1",
                                    "2": "1273.0200",
                                    "3": "8",
                                    "4": "0.150"
                                },
                                {
                                    "0": "10863",
                                    "1": "58",
                                    "2": "96.0200",
                                    "3": "9",
                                    "4": "0.150"
                                },
                                {
                                    "0": "10864",
                                    "1": "35",
                                    "2": "69.0000",
                                    "3": "12",
                                    "4": "0.000"
                                },
                                {
                                    "0": "10864",
                                    "1": "67",
                                    "2": "19.2000",
                                    "3": "3",
                                    "4": "0.000"
                                },
                                {
                                    "0": "10865",
                                    "1": "38",
                                    "2": "339.5000",
                                    "3": "7",
                                    "4": "0.050"
                                },
                                {
                                    "0": "10865",
                                    "1": "39",
                                    "2": "22.3100",
                                    "3": "6",
                                    "4": "0.050"
                                },
                                {
                                    "0": "10866",
                                    "1": "2",
                                    "2": "1499.0000",
                                    "3": "13",
                                    "4": "0.250"
                                },
                                {
                                    "0": "10866",
                                    "1": "24",
                                    "2": "979.9900",
                                    "3": "4",
                                    "4": "0.250"
                                },
                                {
                                    "0": "10866",
                                    "1": "30",
                                    "2": "342.9400",
                                    "3": "4",
                                    "4": "0.250"
                                },
                                {
                                    "0": "10867",
                                    "1": "53",
                                    "2": "297.0000",
                                    "3": "7",
                                    "4": "0.000"
                                },
                                {
                                    "0": "10868",
                                    "1": "26",
                                    "2": "2416.9200",
                                    "3": "1",
                                    "4": "0.000"
                                },
                                {
                                    "0": "10868",
                                    "1": "35",
                                    "2": "68.3100",
                                    "3": "11",
                                    "4": "0.000"
                                },
                                {
                                    "0": "10868",
                                    "1": "49",
                                    "2": "312.6000",
                                    "3": "1",
                                    "4": "0.100"
                                },
                                {
                                    "0": "10869",
                                    "1": "1",
                                    "2": "1273.0200",
                                    "3": "9",
                                    "4": "0.000"
                                },
                                {
                                    "0": "10869",
                                    "1": "11",
                                    "2": "619.3600",
                                    "3": "10",
                                    "4": "0.000"
                                },
                                {
                                    "0": "10869",
                                    "1": "23",
                                    "2": "350.9500",
                                    "3": "7",
                                    "4": "0.000"
                                },
                                {
                                    "0": "10869",
                                    "1": "68",
                                    "2": "48.4900",
                                    "3": "2",
                                    "4": "0.000"
                                },
                                {
                                    "0": "10870",
                                    "1": "35",
                                    "2": "66.2400",
                                    "3": "5",
                                    "4": "0.000"
                                },
                                {
                                    "0": "10870",
                                    "1": "51",
                                    "2": "43.6000",
                                    "3": "4",
                                    "4": "0.000"
                                },
                                {
                                    "0": "10871",
                                    "1": "6",
                                    "2": "107.9100",
                                    "3": "10",
                                    "4": "0.050"
                                },
                                {
                                    "0": "10871",
                                    "1": "16",
                                    "2": "578.9900",
                                    "3": "10",
                                    "4": "0.050"
                                },
                                {
                                    "0": "10871",
                                    "1": "17",
                                    "2": "398.0000",
                                    "3": "7",
                                    "4": "0.050"
                                },
                                {
                                    "0": "10872",
                                    "1": "55",
                                    "2": "391.0100",
                                    "3": "9",
                                    "4": "0.050"
                                },
                                {
                                    "0": "10872",
                                    "1": "62",
                                    "2": "67.8900",
                                    "3": "12",
                                    "4": "0.050"
                                },
                                {
                                    "0": "10872",
                                    "1": "64",
                                    "2": "1551.0200",
                                    "3": "4",
                                    "4": "0.050"
                                },
                                {
                                    "0": "10872",
                                    "1": "65",
                                    "2": "175.5400",
                                    "3": "12",
                                    "4": "0.050"
                                },
                                {
                                    "0": "10873",
                                    "1": "21",
                                    "2": "598.5600",
                                    "3": "8",
                                    "4": "0.000"
                                },
                                {
                                    "0": "10873",
                                    "1": "28",
                                    "2": "30.7200",
                                    "3": "8",
                                    "4": "0.000"
                                },
                                {
                                    "0": "10874",
                                    "1": "10",
                                    "2": "763.4200",
                                    "3": "1",
                                    "4": "0.000"
                                },
                                {
                                    "0": "10875",
                                    "1": "19",
                                    "2": "632.6400",
                                    "3": "9",
                                    "4": "0.000"
                                },
                                {
                                    "0": "10875",
                                    "1": "47",
                                    "2": "979.1100",
                                    "3": "12",
                                    "4": "0.100"
                                },
                                {
                                    "0": "10875",
                                    "1": "49",
                                    "2": "312.6000",
                                    "3": "2",
                                    "4": "0.000"
                                },
                                {
                                    "0": "10876",
                                    "1": "46",
                                    "2": "72.5100",
                                    "3": "9",
                                    "4": "0.000"
                                },
                                {
                                    "0": "10876",
                                    "1": "64",
                                    "2": "1583.0000",
                                    "3": "9",
                                    "4": "0.000"
                                },
                                {
                                    "0": "10877",
                                    "1": "16",
                                    "2": "567.4100",
                                    "3": "2",
                                    "4": "0.250"
                                },
                                {
                                    "0": "10877",
                                    "1": "18",
                                    "2": "27.8900",
                                    "3": "11",
                                    "4": "0.000"
                                },
                                {
                                    "0": "10878",
                                    "1": "20",
                                    "2": "571.2000",
                                    "3": "14",
                                    "4": "0.050"
                                },
                                {
                                    "0": "10879",
                                    "1": "40",
                                    "2": "186.5800",
                                    "3": "10",
                                    "4": "0.000"
                                },
                                {
                                    "0": "10879",
                                    "1": "65",
                                    "2": "182.8500",
                                    "3": "1",
                                    "4": "0.000"
                                },
                                {
                                    "0": "10879",
                                    "1": "76",
                                    "2": "65.2800",
                                    "3": "13",
                                    "4": "0.000"
                                },
                                {
                                    "0": "10880",
                                    "1": "23",
                                    "2": "343.9300",
                                    "3": "12",
                                    "4": "0.200"
                                },
                                {
                                    "0": "10880",
                                    "1": "61",
                                    "2": "147.9900",
                                    "3": "8",
                                    "4": "0.200"
                                },
                                {
                                    "0": "10880",
                                    "1": "70",
                                    "2": "80.6400",
                                    "3": "2",
                                    "4": "0.200"
                                },
                                {
                                    "0": "10881",
                                    "1": "73",
                                    "2": "192.9900",
                                    "3": "2",
                                    "4": "0.000"
                                },
                                {
                                    "0": "10882",
                                    "1": "42",
                                    "2": "1022.6700",
                                    "3": "3",
                                    "4": "0.000"
                                },
                                {
                                    "0": "10882",
                                    "1": "49",
                                    "2": "319.1100",
                                    "3": "9",
                                    "4": "0.150"
                                },
                                {
                                    "0": "10882",
                                    "1": "54",
                                    "2": "634.8000",
                                    "3": "9",
                                    "4": "0.150"
                                },
                                {
                                    "0": "10883",
                                    "1": "24",
                                    "2": "969.9900",
                                    "3": "13",
                                    "4": "0.000"
                                },
                                {
                                    "0": "10884",
                                    "1": "21",
                                    "2": "617.2700",
                                    "3": "8",
                                    "4": "0.050"
                                },
                                {
                                    "0": "10884",
                                    "1": "56",
                                    "2": "1736.2900",
                                    "3": "12",
                                    "4": "0.050"
                                },
                                {
                                    "0": "10884",
                                    "1": "65",
                                    "2": "179.1900",
                                    "3": "6",
                                    "4": "0.050"
                                },
                                {
                                    "0": "10885",
                                    "1": "2",
                                    "2": "1454.0300",
                                    "3": "11",
                                    "4": "0.000"
                                },
                                {
                                    "0": "10885",
                                    "1": "24",
                                    "2": "979.9900",
                                    "3": "12",
                                    "4": "0.000"
                                },
                                {
                                    "0": "10885",
                                    "1": "70",
                                    "2": "80.6400",
                                    "3": "3",
                                    "4": "0.000"
                                },
                                {
                                    "0": "10885",
                                    "1": "77",
                                    "2": "123.6500",
                                    "3": "4",
                                    "4": "0.000"
                                },
                                {
                                    "0": "10886",
                                    "1": "10",
                                    "2": "779.0000",
                                    "3": "8",
                                    "4": "0.000"
                                },
                                {
                                    "0": "10886",
                                    "1": "31",
                                    "2": "159.0000",
                                    "3": "8",
                                    "4": "0.000"
                                },
                                {
                                    "0": "10886",
                                    "1": "77",
                                    "2": "123.6500",
                                    "3": "5",
                                    "4": "0.000"
                                },
                                {
                                    "0": "10887",
                                    "1": "25",
                                    "2": "898.9900",
                                    "3": "5",
                                    "4": "0.000"
                                },
                                {
                                    "0": "10888",
                                    "1": "2",
                                    "2": "1499.0000",
                                    "3": "15",
                                    "4": "0.000"
                                },
                                {
                                    "0": "10888",
                                    "1": "68",
                                    "2": "48.4900",
                                    "3": "1",
                                    "4": "0.000"
                                },
                                {
                                    "0": "10889",
                                    "1": "11",
                                    "2": "606.7200",
                                    "3": "11",
                                    "4": "0.000"
                                },
                                {
                                    "0": "10889",
                                    "1": "38",
                                    "2": "336.1100",
                                    "3": "13",
                                    "4": "0.000"
                                },
                                {
                                    "0": "10890",
                                    "1": "17",
                                    "2": "382.0800",
                                    "3": "4",
                                    "4": "0.000"
                                },
                                {
                                    "0": "10890",
                                    "1": "34",
                                    "2": "1484.0100",
                                    "3": "2",
                                    "4": "0.000"
                                },
                                {
                                    "0": "10890",
                                    "1": "41",
                                    "2": "128.2800",
                                    "3": "1",
                                    "4": "0.000"
                                },
                                {
                                    "0": "10891",
                                    "1": "30",
                                    "2": "349.9400",
                                    "3": "8",
                                    "4": "0.050"
                                },
                                {
                                    "0": "10892",
                                    "1": "59",
                                    "2": "1411.7400",
                                    "3": "8",
                                    "4": "0.050"
                                },
                                {
                                    "0": "10893",
                                    "1": "8",
                                    "2": "171.3500",
                                    "3": "7",
                                    "4": "0.000"
                                },
                                {
                                    "0": "10893",
                                    "1": "24",
                                    "2": "959.9900",
                                    "3": "13",
                                    "4": "0.000"
                                },
                                {
                                    "0": "10893",
                                    "1": "29",
                                    "2": "336.0000",
                                    "3": "4",
                                    "4": "0.000"
                                },
                                {
                                    "0": "10893",
                                    "1": "30",
                                    "2": "346.4400",
                                    "3": "15",
                                    "4": "0.000"
                                },
                                {
                                    "0": "10893",
                                    "1": "36",
                                    "2": "681.9600",
                                    "3": "11",
                                    "4": "0.000"
                                },
                                {
                                    "0": "10894",
                                    "1": "13",
                                    "2": "57.2300",
                                    "3": "12",
                                    "4": "0.050"
                                },
                                {
                                    "0": "10894",
                                    "1": "69",
                                    "2": "326.3300",
                                    "3": "10",
                                    "4": "0.050"
                                },
                                {
                                    "0": "10894",
                                    "1": "75",
                                    "2": "52.3700",
                                    "3": "1",
                                    "4": "0.050"
                                },
                                {
                                    "0": "10895",
                                    "1": "24",
                                    "2": "999.9900",
                                    "3": "4",
                                    "4": "0.000"
                                },
                                {
                                    "0": "10895",
                                    "1": "39",
                                    "2": "23.0000",
                                    "3": "10",
                                    "4": "0.000"
                                },
                                {
                                    "0": "10895",
                                    "1": "40",
                                    "2": "190.4600",
                                    "3": "11",
                                    "4": "0.000"
                                },
                                {
                                    "0": "10895",
                                    "1": "60",
                                    "2": "717.6000",
                                    "3": "5",
                                    "4": "0.000"
                                },
                                {
                                    "0": "10896",
                                    "1": "45",
                                    "2": "243.4700",
                                    "3": "6",
                                    "4": "0.000"
                                },
                                {
                                    "0": "10896",
                                    "1": "56",
                                    "2": "1772.0900",
                                    "3": "2",
                                    "4": "0.000"
                                },
                                {
                                    "0": "10897",
                                    "1": "29",
                                    "2": "343.0000",
                                    "3": "1",
                                    "4": "0.000"
                                },
                                {
                                    "0": "10897",
                                    "1": "30",
                                    "2": "335.9400",
                                    "3": "3",
                                    "4": "0.000"
                                },
                                {
                                    "0": "10898",
                                    "1": "13",
                                    "2": "57.8200",
                                    "3": "1",
                                    "4": "0.000"
                                },
                                {
                                    "0": "10899",
                                    "1": "39",
                                    "2": "23.0000",
                                    "3": "5",
                                    "4": "0.150"
                                },
                                {
                                    "0": "10900",
                                    "1": "70",
                                    "2": "81.4800",
                                    "3": "8",
                                    "4": "0.250"
                                },
                                {
                                    "0": "10901",
                                    "1": "41",
                                    "2": "129.6100",
                                    "3": "4",
                                    "4": "0.000"
                                },
                                {
                                    "0": "10901",
                                    "1": "71",
                                    "2": "400.8200",
                                    "3": "14",
                                    "4": "0.000"
                                },
                                {
                                    "0": "10902",
                                    "1": "55",
                                    "2": "391.0100",
                                    "3": "7",
                                    "4": "0.150"
                                },
                                {
                                    "0": "10902",
                                    "1": "62",
                                    "2": "67.8900",
                                    "3": "15",
                                    "4": "0.150"
                                },
                                {
                                    "0": "10903",
                                    "1": "13",
                                    "2": "57.2300",
                                    "3": "3",
                                    "4": "0.000"
                                },
                                {
                                    "0": "10903",
                                    "1": "65",
                                    "2": "175.5400",
                                    "3": "2",
                                    "4": "0.000"
                                },
                                {
                                    "0": "10903",
                                    "1": "68",
                                    "2": "48.9900",
                                    "3": "9",
                                    "4": "0.000"
                                },
                                {
                                    "0": "10904",
                                    "1": "58",
                                    "2": "96.0200",
                                    "3": "7",
                                    "4": "0.000"
                                },
                                {
                                    "0": "10904",
                                    "1": "62",
                                    "2": "69.2900",
                                    "3": "6",
                                    "4": "0.000"
                                },
                                {
                                    "0": "10905",
                                    "1": "1",
                                    "2": "1247.0400",
                                    "3": "12",
                                    "4": "0.050"
                                },
                                {
                                    "0": "10906",
                                    "1": "61",
                                    "2": "147.9900",
                                    "3": "8",
                                    "4": "0.000"
                                },
                                {
                                    "0": "10907",
                                    "1": "75",
                                    "2": "52.3700",
                                    "3": "1",
                                    "4": "0.000"
                                },
                                {
                                    "0": "10908",
                                    "1": "7",
                                    "2": "37.8300",
                                    "3": "14",
                                    "4": "0.050"
                                },
                                {
                                    "0": "10908",
                                    "1": "52",
                                    "2": "417.4700",
                                    "3": "14",
                                    "4": "0.050"
                                },
                                {
                                    "0": "10909",
                                    "1": "7",
                                    "2": "38.6100",
                                    "3": "2",
                                    "4": "0.000"
                                },
                                {
                                    "0": "10909",
                                    "1": "16",
                                    "2": "561.6200",
                                    "3": "8",
                                    "4": "0.000"
                                },
                                {
                                    "0": "10909",
                                    "1": "41",
                                    "2": "126.9600",
                                    "3": "11",
                                    "4": "0.000"
                                },
                                {
                                    "0": "10910",
                                    "1": "19",
                                    "2": "645.8200",
                                    "3": "5",
                                    "4": "0.000"
                                },
                                {
                                    "0": "10910",
                                    "1": "49",
                                    "2": "315.8500",
                                    "3": "12",
                                    "4": "0.000"
                                },
                                {
                                    "0": "10910",
                                    "1": "61",
                                    "2": "147.9900",
                                    "3": "15",
                                    "4": "0.000"
                                },
                                {
                                    "0": "10911",
                                    "1": "1",
                                    "2": "1247.0400",
                                    "3": "2",
                                    "4": "0.000"
                                },
                                {
                                    "0": "10911",
                                    "1": "17",
                                    "2": "382.0800",
                                    "3": "13",
                                    "4": "0.000"
                                },
                                {
                                    "0": "10911",
                                    "1": "67",
                                    "2": "19.4000",
                                    "3": "3",
                                    "4": "0.000"
                                },
                                {
                                    "0": "10912",
                                    "1": "11",
                                    "2": "613.0400",
                                    "3": "12",
                                    "4": "0.250"
                                },
                                {
                                    "0": "10912",
                                    "1": "29",
                                    "2": "339.5000",
                                    "3": "13",
                                    "4": "0.250"
                                },
                                {
                                    "0": "10913",
                                    "1": "4",
                                    "2": "335.0300",
                                    "3": "14",
                                    "4": "0.250"
                                },
                                {
                                    "0": "10913",
                                    "1": "33",
                                    "2": "22.9400",
                                    "3": "7",
                                    "4": "0.250"
                                },
                                {
                                    "0": "10913",
                                    "1": "58",
                                    "2": "98.9900",
                                    "3": "1",
                                    "4": "0.000"
                                },
                                {
                                    "0": "10914",
                                    "1": "71",
                                    "2": "400.8200",
                                    "3": "13",
                                    "4": "0.000"
                                },
                                {
                                    "0": "10915",
                                    "1": "17",
                                    "2": "398.0000",
                                    "3": "11",
                                    "4": "0.000"
                                },
                                {
                                    "0": "10915",
                                    "1": "33",
                                    "2": "22.2500",
                                    "3": "6",
                                    "4": "0.000"
                                },
                                {
                                    "0": "10915",
                                    "1": "54",
                                    "2": "634.8000",
                                    "3": "13",
                                    "4": "0.000"
                                },
                                {
                                    "0": "10916",
                                    "1": "16",
                                    "2": "573.2000",
                                    "3": "6",
                                    "4": "0.000"
                                },
                                {
                                    "0": "10916",
                                    "1": "32",
                                    "2": "256.4000",
                                    "3": "11",
                                    "4": "0.000"
                                },
                                {
                                    "0": "10916",
                                    "1": "57",
                                    "2": "2061.9200",
                                    "3": "2",
                                    "4": "0.000"
                                },
                                {
                                    "0": "10917",
                                    "1": "30",
                                    "2": "346.4400",
                                    "3": "6",
                                    "4": "0.000"
                                },
                                {
                                    "0": "10917",
                                    "1": "60",
                                    "2": "732.5500",
                                    "3": "6",
                                    "4": "0.000"
                                },
                                {
                                    "0": "10918",
                                    "1": "1",
                                    "2": "1286.0100",
                                    "3": "8",
                                    "4": "0.250"
                                },
                                {
                                    "0": "10918",
                                    "1": "60",
                                    "2": "732.5500",
                                    "3": "2",
                                    "4": "0.250"
                                },
                                {
                                    "0": "10919",
                                    "1": "16",
                                    "2": "578.9900",
                                    "3": "13",
                                    "4": "0.000"
                                },
                                {
                                    "0": "10919",
                                    "1": "25",
                                    "2": "898.9900",
                                    "3": "7",
                                    "4": "0.000"
                                },
                                {
                                    "0": "10919",
                                    "1": "40",
                                    "2": "194.3500",
                                    "3": "7",
                                    "4": "0.000"
                                },
                                {
                                    "0": "10920",
                                    "1": "50",
                                    "2": "96.0300",
                                    "3": "2",
                                    "4": "0.000"
                                },
                                {
                                    "0": "10921",
                                    "1": "35",
                                    "2": "67.6200",
                                    "3": "1",
                                    "4": "0.000"
                                },
                                {
                                    "0": "10921",
                                    "1": "63",
                                    "2": "1861.0200",
                                    "3": "4",
                                    "4": "0.000"
                                },
                                {
                                    "0": "10922",
                                    "1": "17",
                                    "2": "394.0200",
                                    "3": "8",
                                    "4": "0.000"
                                },
                                {
                                    "0": "10922",
                                    "1": "24",
                                    "2": "989.9900",
                                    "3": "3",
                                    "4": "0.000"
                                },
                                {
                                    "0": "10923",
                                    "1": "42",
                                    "2": "1012.3400",
                                    "3": "14",
                                    "4": "0.200"
                                },
                                {
                                    "0": "10923",
                                    "1": "43",
                                    "2": "85.0900",
                                    "3": "10",
                                    "4": "0.200"
                                },
                                {
                                    "0": "10923",
                                    "1": "67",
                                    "2": "20.0000",
                                    "3": "10",
                                    "4": "0.200"
                                },
                                {
                                    "0": "10924",
                                    "1": "10",
                                    "2": "771.2100",
                                    "3": "15",
                                    "4": "0.100"
                                },
                                {
                                    "0": "10924",
                                    "1": "28",
                                    "2": "31.3600",
                                    "3": "13",
                                    "4": "0.100"
                                },
                                {
                                    "0": "10924",
                                    "1": "75",
                                    "2": "51.8300",
                                    "3": "2",
                                    "4": "0.000"
                                },
                                {
                                    "0": "10925",
                                    "1": "36",
                                    "2": "675.0700",
                                    "3": "6",
                                    "4": "0.150"
                                },
                                {
                                    "0": "10925",
                                    "1": "52",
                                    "2": "408.9500",
                                    "3": "12",
                                    "4": "0.150"
                                },
                                {
                                    "0": "10926",
                                    "1": "11",
                                    "2": "606.7200",
                                    "3": "9",
                                    "4": "0.000"
                                },
                                {
                                    "0": "10926",
                                    "1": "13",
                                    "2": "59.0000",
                                    "3": "7",
                                    "4": "0.000"
                                },
                                {
                                    "0": "10926",
                                    "1": "19",
                                    "2": "639.2300",
                                    "3": "5",
                                    "4": "0.000"
                                },
                                {
                                    "0": "10926",
                                    "1": "72",
                                    "2": "97.0100",
                                    "3": "10",
                                    "4": "0.000"
                                },
                                {
                                    "0": "10927",
                                    "1": "20",
                                    "2": "577.1500",
                                    "3": "13",
                                    "4": "0.000"
                                },
                                {
                                    "0": "10927",
                                    "1": "52",
                                    "2": "421.7300",
                                    "3": "5",
                                    "4": "0.000"
                                },
                                {
                                    "0": "10927",
                                    "1": "76",
                                    "2": "67.3200",
                                    "3": "11",
                                    "4": "0.000"
                                },
                                {
                                    "0": "10928",
                                    "1": "47",
                                    "2": "989.0000",
                                    "3": "10",
                                    "4": "0.000"
                                },
                                {
                                    "0": "10928",
                                    "1": "76",
                                    "2": "67.3200",
                                    "3": "3",
                                    "4": "0.000"
                                },
                                {
                                    "0": "10929",
                                    "1": "21",
                                    "2": "604.8000",
                                    "3": "15",
                                    "4": "0.000"
                                },
                                {
                                    "0": "10929",
                                    "1": "75",
                                    "2": "53.4500",
                                    "3": "4",
                                    "4": "0.000"
                                },
                                {
                                    "0": "10929",
                                    "1": "77",
                                    "2": "128.8000",
                                    "3": "15",
                                    "4": "0.000"
                                },
                                {
                                    "0": "10930",
                                    "1": "21",
                                    "2": "604.8000",
                                    "3": "7",
                                    "4": "0.000"
                                },
                                {
                                    "0": "10930",
                                    "1": "27",
                                    "2": "244.0200",
                                    "3": "2",
                                    "4": "0.000"
                                },
                                {
                                    "0": "10930",
                                    "1": "55",
                                    "2": "383.0300",
                                    "3": "6",
                                    "4": "0.200"
                                },
                                {
                                    "0": "10930",
                                    "1": "58",
                                    "2": "98.0000",
                                    "3": "15",
                                    "4": "0.200"
                                },
                                {
                                    "0": "10931",
                                    "1": "13",
                                    "2": "57.8200",
                                    "3": "4",
                                    "4": "0.150"
                                },
                                {
                                    "0": "10931",
                                    "1": "57",
                                    "2": "2082.9600",
                                    "3": "5",
                                    "4": "0.000"
                                },
                                {
                                    "0": "10932",
                                    "1": "16",
                                    "2": "573.2000",
                                    "3": "7",
                                    "4": "0.100"
                                },
                                {
                                    "0": "10932",
                                    "1": "62",
                                    "2": "68.5900",
                                    "3": "1",
                                    "4": "0.100"
                                },
                                {
                                    "0": "10932",
                                    "1": "72",
                                    "2": "98.9900",
                                    "3": "10",
                                    "4": "0.000"
                                },
                                {
                                    "0": "10932",
                                    "1": "75",
                                    "2": "53.4500",
                                    "3": "1",
                                    "4": "0.100"
                                },
                                {
                                    "0": "10933",
                                    "1": "53",
                                    "2": "288.0000",
                                    "3": "15",
                                    "4": "0.000"
                                },
                                {
                                    "0": "10933",
                                    "1": "61",
                                    "2": "143.5500",
                                    "3": "6",
                                    "4": "0.000"
                                },
                                {
                                    "0": "10934",
                                    "1": "6",
                                    "2": "105.7300",
                                    "3": "5",
                                    "4": "0.000"
                                },
                                {
                                    "0": "10935",
                                    "1": "1",
                                    "2": "1286.0100",
                                    "3": "1",
                                    "4": "0.000"
                                },
                                {
                                    "0": "10935",
                                    "1": "18",
                                    "2": "27.8900",
                                    "3": "2",
                                    "4": "0.250"
                                },
                                {
                                    "0": "10935",
                                    "1": "23",
                                    "2": "340.4200",
                                    "3": "12",
                                    "4": "0.250"
                                },
                                {
                                    "0": "10936",
                                    "1": "36",
                                    "2": "668.1800",
                                    "3": "11",
                                    "4": "0.200"
                                },
                                {
                                    "0": "10937",
                                    "1": "28",
                                    "2": "31.0400",
                                    "3": "14",
                                    "4": "0.000"
                                },
                                {
                                    "0": "10937",
                                    "1": "34",
                                    "2": "1454.0300",
                                    "3": "12",
                                    "4": "0.000"
                                },
                                {
                                    "0": "10938",
                                    "1": "13",
                                    "2": "57.8200",
                                    "3": "11",
                                    "4": "0.250"
                                },
                                {
                                    "0": "10938",
                                    "1": "43",
                                    "2": "85.9500",
                                    "3": "11",
                                    "4": "0.250"
                                },
                                {
                                    "0": "10938",
                                    "1": "60",
                                    "2": "725.0800",
                                    "3": "6",
                                    "4": "0.250"
                                },
                                {
                                    "0": "10938",
                                    "1": "71",
                                    "2": "409.0000",
                                    "3": "11",
                                    "4": "0.250"
                                },
                                {
                                    "0": "10939",
                                    "1": "2",
                                    "2": "1469.0200",
                                    "3": "12",
                                    "4": "0.150"
                                },
                                {
                                    "0": "10939",
                                    "1": "67",
                                    "2": "20.0000",
                                    "3": "6",
                                    "4": "0.150"
                                },
                                {
                                    "0": "10940",
                                    "1": "7",
                                    "2": "39.0000",
                                    "3": "15",
                                    "4": "0.000"
                                },
                                {
                                    "0": "10940",
                                    "1": "13",
                                    "2": "59.0000",
                                    "3": "6",
                                    "4": "0.000"
                                },
                                {
                                    "0": "10941",
                                    "1": "31",
                                    "2": "154.2300",
                                    "3": "4",
                                    "4": "0.250"
                                },
                                {
                                    "0": "10941",
                                    "1": "62",
                                    "2": "69.2900",
                                    "3": "3",
                                    "4": "0.250"
                                },
                                {
                                    "0": "10941",
                                    "1": "68",
                                    "2": "47.9900",
                                    "3": "1",
                                    "4": "0.250"
                                },
                                {
                                    "0": "10941",
                                    "1": "72",
                                    "2": "98.0000",
                                    "3": "12",
                                    "4": "0.000"
                                },
                                {
                                    "0": "10942",
                                    "1": "49",
                                    "2": "322.3600",
                                    "3": "13",
                                    "4": "0.000"
                                },
                                {
                                    "0": "10943",
                                    "1": "13",
                                    "2": "56.6400",
                                    "3": "12",
                                    "4": "0.000"
                                },
                                {
                                    "0": "10943",
                                    "1": "22",
                                    "2": "3669.1200",
                                    "3": "1",
                                    "4": "0.000"
                                },
                                {
                                    "0": "10943",
                                    "1": "46",
                                    "2": "71.7600",
                                    "3": "15",
                                    "4": "0.000"
                                },
                                {
                                    "0": "10944",
                                    "1": "11",
                                    "2": "613.0400",
                                    "3": "13",
                                    "4": "0.250"
                                },
                                {
                                    "0": "10944",
                                    "1": "44",
                                    "2": "555.8300",
                                    "3": "8",
                                    "4": "0.250"
                                },
                                {
                                    "0": "10944",
                                    "1": "56",
                                    "2": "1736.2900",
                                    "3": "10",
                                    "4": "0.000"
                                },
                                {
                                    "0": "10945",
                                    "1": "13",
                                    "2": "57.8200",
                                    "3": "15",
                                    "4": "0.000"
                                },
                                {
                                    "0": "10945",
                                    "1": "31",
                                    "2": "152.6400",
                                    "3": "13",
                                    "4": "0.000"
                                },
                                {
                                    "0": "10946",
                                    "1": "10",
                                    "2": "763.4200",
                                    "3": "2",
                                    "4": "0.000"
                                },
                                {
                                    "0": "10946",
                                    "1": "24",
                                    "2": "959.9900",
                                    "3": "12",
                                    "4": "0.000"
                                },
                                {
                                    "0": "10946",
                                    "1": "77",
                                    "2": "127.5100",
                                    "3": "8",
                                    "4": "0.000"
                                },
                                {
                                    "0": "10947",
                                    "1": "59",
                                    "2": "1411.7400",
                                    "3": "10",
                                    "4": "0.000"
                                },
                                {
                                    "0": "10948",
                                    "1": "50",
                                    "2": "99.0000",
                                    "3": "6",
                                    "4": "0.000"
                                },
                                {
                                    "0": "10948",
                                    "1": "51",
                                    "2": "44.4900",
                                    "3": "11",
                                    "4": "0.000"
                                },
                                {
                                    "0": "10948",
                                    "1": "55",
                                    "2": "398.9900",
                                    "3": "10",
                                    "4": "0.000"
                                },
                                {
                                    "0": "10949",
                                    "1": "6",
                                    "2": "106.8200",
                                    "3": "8",
                                    "4": "0.000"
                                },
                                {
                                    "0": "10949",
                                    "1": "10",
                                    "2": "755.6300",
                                    "3": "4",
                                    "4": "0.000"
                                },
                                {
                                    "0": "10949",
                                    "1": "17",
                                    "2": "386.0600",
                                    "3": "3",
                                    "4": "0.000"
                                },
                                {
                                    "0": "10949",
                                    "1": "62",
                                    "2": "69.9900",
                                    "3": "14",
                                    "4": "0.000"
                                },
                                {
                                    "0": "10950",
                                    "1": "4",
                                    "2": "335.0300",
                                    "3": "15",
                                    "4": "0.000"
                                },
                                {
                                    "0": "10951",
                                    "1": "33",
                                    "2": "22.9400",
                                    "3": "2",
                                    "4": "0.050"
                                },
                                {
                                    "0": "10951",
                                    "1": "41",
                                    "2": "126.9600",
                                    "3": "1",
                                    "4": "0.050"
                                },
                                {
                                    "0": "10951",
                                    "1": "75",
                                    "2": "52.3700",
                                    "3": "4",
                                    "4": "0.050"
                                },
                                {
                                    "0": "10952",
                                    "1": "6",
                                    "2": "107.9100",
                                    "3": "11",
                                    "4": "0.050"
                                },
                                {
                                    "0": "10952",
                                    "1": "28",
                                    "2": "31.0400",
                                    "3": "9",
                                    "4": "0.000"
                                },
                                {
                                    "0": "10953",
                                    "1": "20",
                                    "2": "589.0500",
                                    "3": "2",
                                    "4": "0.050"
                                },
                                {
                                    "0": "10953",
                                    "1": "31",
                                    "2": "152.6400",
                                    "3": "11",
                                    "4": "0.050"
                                },
                                {
                                    "0": "10954",
                                    "1": "16",
                                    "2": "567.4100",
                                    "3": "3",
                                    "4": "0.150"
                                },
                                {
                                    "0": "10954",
                                    "1": "31",
                                    "2": "155.8200",
                                    "3": "8",
                                    "4": "0.150"
                                },
                                {
                                    "0": "10954",
                                    "1": "45",
                                    "2": "240.9600",
                                    "3": "13",
                                    "4": "0.000"
                                },
                                {
                                    "0": "10954",
                                    "1": "60",
                                    "2": "747.5000",
                                    "3": "12",
                                    "4": "0.150"
                                },
                                {
                                    "0": "10955",
                                    "1": "75",
                                    "2": "52.9100",
                                    "3": "7",
                                    "4": "0.200"
                                },
                                {
                                    "0": "10956",
                                    "1": "21",
                                    "2": "604.8000",
                                    "3": "6",
                                    "4": "0.000"
                                },
                                {
                                    "0": "10956",
                                    "1": "47",
                                    "2": "959.3300",
                                    "3": "6",
                                    "4": "0.000"
                                },
                                {
                                    "0": "10956",
                                    "1": "51",
                                    "2": "42.7100",
                                    "3": "6",
                                    "4": "0.000"
                                },
                                {
                                    "0": "10957",
                                    "1": "30",
                                    "2": "335.9400",
                                    "3": "15",
                                    "4": "0.000"
                                },
                                {
                                    "0": "10957",
                                    "1": "35",
                                    "2": "66.9300",
                                    "3": "15",
                                    "4": "0.000"
                                },
                                {
                                    "0": "10957",
                                    "1": "64",
                                    "2": "1583.0000",
                                    "3": "12",
                                    "4": "0.000"
                                },
                                {
                                    "0": "10958",
                                    "1": "5",
                                    "2": "147.5100",
                                    "3": "13",
                                    "4": "0.000"
                                },
                                {
                                    "0": "10958",
                                    "1": "7",
                                    "2": "38.2200",
                                    "3": "11",
                                    "4": "0.000"
                                },
                                {
                                    "0": "10958",
                                    "1": "72",
                                    "2": "97.0100",
                                    "3": "14",
                                    "4": "0.000"
                                },
                                {
                                    "0": "10959",
                                    "1": "75",
                                    "2": "53.9900",
                                    "3": "10",
                                    "4": "0.150"
                                },
                                {
                                    "0": "10960",
                                    "1": "24",
                                    "2": "999.9900",
                                    "3": "6",
                                    "4": "0.250"
                                },
                                {
                                    "0": "10960",
                                    "1": "41",
                                    "2": "126.9600",
                                    "3": "6",
                                    "4": "0.000"
                                },
                                {
                                    "0": "10961",
                                    "1": "52",
                                    "2": "417.4700",
                                    "3": "3",
                                    "4": "0.050"
                                },
                                {
                                    "0": "10961",
                                    "1": "76",
                                    "2": "65.2800",
                                    "3": "10",
                                    "4": "0.000"
                                },
                                {
                                    "0": "10962",
                                    "1": "7",
                                    "2": "37.8300",
                                    "3": "9",
                                    "4": "0.000"
                                },
                                {
                                    "0": "10962",
                                    "1": "13",
                                    "2": "58.4100",
                                    "3": "6",
                                    "4": "0.000"
                                },
                                {
                                    "0": "10962",
                                    "1": "53",
                                    "2": "294.0000",
                                    "3": "12",
                                    "4": "0.000"
                                },
                                {
                                    "0": "10962",
                                    "1": "69",
                                    "2": "332.9900",
                                    "3": "14",
                                    "4": "0.000"
                                },
                                {
                                    "0": "10962",
                                    "1": "76",
                                    "2": "65.2800",
                                    "3": "1",
                                    "4": "0.000"
                                },
                                {
                                    "0": "10963",
                                    "1": "60",
                                    "2": "732.5500",
                                    "3": "11",
                                    "4": "0.150"
                                },
                                {
                                    "0": "10964",
                                    "1": "18",
                                    "2": "28.7500",
                                    "3": "5",
                                    "4": "0.000"
                                },
                                {
                                    "0": "10964",
                                    "1": "38",
                                    "2": "339.5000",
                                    "3": "3",
                                    "4": "0.000"
                                },
                                {
                                    "0": "10964",
                                    "1": "69",
                                    "2": "332.9900",
                                    "3": "2",
                                    "4": "0.000"
                                },
                                {
                                    "0": "10965",
                                    "1": "51",
                                    "2": "42.7100",
                                    "3": "14",
                                    "4": "0.000"
                                },
                                {
                                    "0": "10966",
                                    "1": "37",
                                    "2": "240.3500",
                                    "3": "13",
                                    "4": "0.000"
                                },
                                {
                                    "0": "10966",
                                    "1": "56",
                                    "2": "1718.3900",
                                    "3": "15",
                                    "4": "0.150"
                                },
                                {
                                    "0": "10966",
                                    "1": "62",
                                    "2": "67.8900",
                                    "3": "15",
                                    "4": "0.150"
                                },
                                {
                                    "0": "10967",
                                    "1": "19",
                                    "2": "639.2300",
                                    "3": "9",
                                    "4": "0.000"
                                },
                                {
                                    "0": "10967",
                                    "1": "49",
                                    "2": "325.6200",
                                    "3": "6",
                                    "4": "0.000"
                                },
                                {
                                    "0": "10968",
                                    "1": "12",
                                    "2": "449.8200",
                                    "3": "7",
                                    "4": "0.000"
                                },
                                {
                                    "0": "10968",
                                    "1": "24",
                                    "2": "959.9900",
                                    "3": "2",
                                    "4": "0.000"
                                },
                                {
                                    "0": "10968",
                                    "1": "64",
                                    "2": "1551.0200",
                                    "3": "5",
                                    "4": "0.000"
                                },
                                {
                                    "0": "10969",
                                    "1": "46",
                                    "2": "74.0000",
                                    "3": "10",
                                    "4": "0.000"
                                },
                                {
                                    "0": "10970",
                                    "1": "52",
                                    "2": "408.9500",
                                    "3": "11",
                                    "4": "0.200"
                                },
                                {
                                    "0": "10971",
                                    "1": "29",
                                    "2": "336.0000",
                                    "3": "6",
                                    "4": "0.000"
                                },
                                {
                                    "0": "10972",
                                    "1": "17",
                                    "2": "382.0800",
                                    "3": "7",
                                    "4": "0.000"
                                },
                                {
                                    "0": "10972",
                                    "1": "33",
                                    "2": "22.7100",
                                    "3": "7",
                                    "4": "0.000"
                                },
                                {
                                    "0": "10973",
                                    "1": "26",
                                    "2": "2491.6700",
                                    "3": "2",
                                    "4": "0.000"
                                },
                                {
                                    "0": "10973",
                                    "1": "41",
                                    "2": "129.6100",
                                    "3": "9",
                                    "4": "0.000"
                                },
                                {
                                    "0": "10973",
                                    "1": "75",
                                    "2": "53.4500",
                                    "3": "8",
                                    "4": "0.000"
                                },
                                {
                                    "0": "10974",
                                    "1": "63",
                                    "2": "1880.0100",
                                    "3": "7",
                                    "4": "0.000"
                                },
                                {
                                    "0": "10975",
                                    "1": "8",
                                    "2": "166.2100",
                                    "3": "1",
                                    "4": "0.000"
                                },
                                {
                                    "0": "10975",
                                    "1": "75",
                                    "2": "53.4500",
                                    "3": "5",
                                    "4": "0.000"
                                },
                                {
                                    "0": "10976",
                                    "1": "28",
                                    "2": "31.6800",
                                    "3": "13",
                                    "4": "0.000"
                                },
                                {
                                    "0": "10977",
                                    "1": "39",
                                    "2": "22.7700",
                                    "3": "10",
                                    "4": "0.000"
                                },
                                {
                                    "0": "10977",
                                    "1": "47",
                                    "2": "949.4400",
                                    "3": "11",
                                    "4": "0.000"
                                },
                                {
                                    "0": "10977",
                                    "1": "51",
                                    "2": "43.6000",
                                    "3": "5",
                                    "4": "0.000"
                                },
                                {
                                    "0": "10977",
                                    "1": "63",
                                    "2": "1899.0000",
                                    "3": "11",
                                    "4": "0.000"
                                },
                                {
                                    "0": "10978",
                                    "1": "8",
                                    "2": "167.9200",
                                    "3": "6",
                                    "4": "0.150"
                                },
                                {
                                    "0": "10978",
                                    "1": "21",
                                    "2": "617.2700",
                                    "3": "14",
                                    "4": "0.150"
                                },
                                {
                                    "0": "10978",
                                    "1": "40",
                                    "2": "194.3500",
                                    "3": "1",
                                    "4": "0.000"
                                },
                                {
                                    "0": "10978",
                                    "1": "44",
                                    "2": "561.6200",
                                    "3": "5",
                                    "4": "0.150"
                                },
                                {
                                    "0": "10979",
                                    "1": "7",
                                    "2": "37.4400",
                                    "3": "2",
                                    "4": "0.000"
                                },
                                {
                                    "0": "10979",
                                    "1": "12",
                                    "2": "454.4100",
                                    "3": "14",
                                    "4": "0.000"
                                },
                                {
                                    "0": "10979",
                                    "1": "24",
                                    "2": "969.9900",
                                    "3": "5",
                                    "4": "0.000"
                                },
                                {
                                    "0": "10979",
                                    "1": "27",
                                    "2": "239.0400",
                                    "3": "1",
                                    "4": "0.000"
                                },
                                {
                                    "0": "10979",
                                    "1": "31",
                                    "2": "154.2300",
                                    "3": "15",
                                    "4": "0.000"
                                },
                                {
                                    "0": "10979",
                                    "1": "63",
                                    "2": "1899.0000",
                                    "3": "13",
                                    "4": "0.000"
                                },
                                {
                                    "0": "10980",
                                    "1": "75",
                                    "2": "52.3700",
                                    "3": "5",
                                    "4": "0.200"
                                },
                                {
                                    "0": "10981",
                                    "1": "38",
                                    "2": "332.7100",
                                    "3": "11",
                                    "4": "0.000"
                                },
                                {
                                    "0": "10982",
                                    "1": "7",
                                    "2": "37.8300",
                                    "3": "11",
                                    "4": "0.000"
                                },
                                {
                                    "0": "10982",
                                    "1": "43",
                                    "2": "82.5100",
                                    "3": "15",
                                    "4": "0.000"
                                },
                                {
                                    "0": "10983",
                                    "1": "13",
                                    "2": "58.4100",
                                    "3": "5",
                                    "4": "0.150"
                                },
                                {
                                    "0": "10983",
                                    "1": "57",
                                    "2": "2061.9200",
                                    "3": "2",
                                    "4": "0.000"
                                },
                                {
                                    "0": "10984",
                                    "1": "16",
                                    "2": "578.9900",
                                    "3": "5",
                                    "4": "0.000"
                                },
                                {
                                    "0": "10984",
                                    "1": "24",
                                    "2": "969.9900",
                                    "3": "14",
                                    "4": "0.000"
                                },
                                {
                                    "0": "10984",
                                    "1": "36",
                                    "2": "661.3000",
                                    "3": "4",
                                    "4": "0.000"
                                },
                                {
                                    "0": "10985",
                                    "1": "16",
                                    "2": "573.2000",
                                    "3": "11",
                                    "4": "0.100"
                                },
                                {
                                    "0": "10985",
                                    "1": "18",
                                    "2": "28.4600",
                                    "3": "11",
                                    "4": "0.100"
                                },
                                {
                                    "0": "10985",
                                    "1": "32",
                                    "2": "256.4000",
                                    "3": "14",
                                    "4": "0.100"
                                },
                                {
                                    "0": "10986",
                                    "1": "11",
                                    "2": "625.6800",
                                    "3": "3",
                                    "4": "0.000"
                                },
                                {
                                    "0": "10986",
                                    "1": "20",
                                    "2": "595.0000",
                                    "3": "2",
                                    "4": "0.000"
                                },
                                {
                                    "0": "10986",
                                    "1": "76",
                                    "2": "66.6400",
                                    "3": "2",
                                    "4": "0.000"
                                },
                                {
                                    "0": "10986",
                                    "1": "77",
                                    "2": "127.5100",
                                    "3": "2",
                                    "4": "0.000"
                                },
                                {
                                    "0": "10987",
                                    "1": "7",
                                    "2": "39.0000",
                                    "3": "7",
                                    "4": "0.000"
                                },
                                {
                                    "0": "10987",
                                    "1": "43",
                                    "2": "83.3700",
                                    "3": "6",
                                    "4": "0.000"
                                },
                                {
                                    "0": "10987",
                                    "1": "72",
                                    "2": "97.0100",
                                    "3": "7",
                                    "4": "0.000"
                                },
                                {
                                    "0": "10988",
                                    "1": "7",
                                    "2": "39.0000",
                                    "3": "10",
                                    "4": "0.000"
                                },
                                {
                                    "0": "10988",
                                    "1": "62",
                                    "2": "69.2900",
                                    "3": "6",
                                    "4": "0.100"
                                },
                                {
                                    "0": "10989",
                                    "1": "6",
                                    "2": "109.0000",
                                    "3": "3",
                                    "4": "0.000"
                                },
                                {
                                    "0": "10989",
                                    "1": "11",
                                    "2": "613.0400",
                                    "3": "1",
                                    "4": "0.000"
                                },
                                {
                                    "0": "10989",
                                    "1": "41",
                                    "2": "130.9300",
                                    "3": "13",
                                    "4": "0.000"
                                },
                                {
                                    "0": "10990",
                                    "1": "21",
                                    "2": "623.5000",
                                    "3": "9",
                                    "4": "0.000"
                                },
                                {
                                    "0": "10990",
                                    "1": "34",
                                    "2": "1484.0100",
                                    "3": "12",
                                    "4": "0.150"
                                },
                                {
                                    "0": "10990",
                                    "1": "55",
                                    "2": "395.0000",
                                    "3": "9",
                                    "4": "0.150"
                                },
                                {
                                    "0": "10990",
                                    "1": "61",
                                    "2": "146.5100",
                                    "3": "3",
                                    "4": "0.150"
                                },
                                {
                                    "0": "10991",
                                    "1": "2",
                                    "2": "1484.0100",
                                    "3": "15",
                                    "4": "0.200"
                                },
                                {
                                    "0": "10991",
                                    "1": "70",
                                    "2": "81.4800",
                                    "3": "15",
                                    "4": "0.200"
                                },
                                {
                                    "0": "10991",
                                    "1": "76",
                                    "2": "68.0000",
                                    "3": "2",
                                    "4": "0.200"
                                },
                                {
                                    "0": "10992",
                                    "1": "72",
                                    "2": "96.0200",
                                    "3": "7",
                                    "4": "0.000"
                                },
                                {
                                    "0": "10993",
                                    "1": "29",
                                    "2": "346.5000",
                                    "3": "3",
                                    "4": "0.250"
                                },
                                {
                                    "0": "10993",
                                    "1": "41",
                                    "2": "128.2800",
                                    "3": "15",
                                    "4": "0.250"
                                },
                                {
                                    "0": "10994",
                                    "1": "59",
                                    "2": "1411.7400",
                                    "3": "1",
                                    "4": "0.050"
                                },
                                {
                                    "0": "10995",
                                    "1": "51",
                                    "2": "44.4900",
                                    "3": "7",
                                    "4": "0.000"
                                },
                                {
                                    "0": "10995",
                                    "1": "60",
                                    "2": "732.5500",
                                    "3": "8",
                                    "4": "0.000"
                                },
                                {
                                    "0": "10996",
                                    "1": "42",
                                    "2": "991.6800",
                                    "3": "6",
                                    "4": "0.000"
                                },
                                {
                                    "0": "10997",
                                    "1": "32",
                                    "2": "256.4000",
                                    "3": "1",
                                    "4": "0.000"
                                },
                                {
                                    "0": "10997",
                                    "1": "46",
                                    "2": "73.2600",
                                    "3": "4",
                                    "4": "0.250"
                                },
                                {
                                    "0": "10997",
                                    "1": "52",
                                    "2": "417.4700",
                                    "3": "14",
                                    "4": "0.250"
                                },
                                {
                                    "0": "10998",
                                    "1": "24",
                                    "2": "959.9900",
                                    "3": "6",
                                    "4": "0.000"
                                },
                                {
                                    "0": "10998",
                                    "1": "61",
                                    "2": "142.0700",
                                    "3": "8",
                                    "4": "0.000"
                                },
                                {
                                    "0": "10998",
                                    "1": "74",
                                    "2": "33.4800",
                                    "3": "7",
                                    "4": "0.000"
                                },
                                {
                                    "0": "10998",
                                    "1": "75",
                                    "2": "53.9900",
                                    "3": "4",
                                    "4": "0.000"
                                },
                                {
                                    "0": "10999",
                                    "1": "41",
                                    "2": "132.2500",
                                    "3": "7",
                                    "4": "0.050"
                                },
                                {
                                    "0": "10999",
                                    "1": "51",
                                    "2": "42.7100",
                                    "3": "1",
                                    "4": "0.050"
                                },
                                {
                                    "0": "10999",
                                    "1": "77",
                                    "2": "126.2200",
                                    "3": "14",
                                    "4": "0.050"
                                },
                                {
                                    "0": "11000",
                                    "1": "4",
                                    "2": "338.5200",
                                    "3": "10",
                                    "4": "0.250"
                                },
                                {
                                    "0": "11000",
                                    "1": "24",
                                    "2": "979.9900",
                                    "3": "5",
                                    "4": "0.250"
                                },
                                {
                                    "0": "11000",
                                    "1": "77",
                                    "2": "127.5100",
                                    "3": "12",
                                    "4": "0.000"
                                },
                                {
                                    "0": "11001",
                                    "1": "7",
                                    "2": "38.2200",
                                    "3": "15",
                                    "4": "0.000"
                                },
                                {
                                    "0": "11001",
                                    "1": "22",
                                    "2": "3744.0000",
                                    "3": "10",
                                    "4": "0.000"
                                },
                                {
                                    "0": "11001",
                                    "1": "46",
                                    "2": "72.5100",
                                    "3": "11",
                                    "4": "0.000"
                                },
                                {
                                    "0": "11001",
                                    "1": "55",
                                    "2": "391.0100",
                                    "3": "11",
                                    "4": "0.000"
                                },
                                {
                                    "0": "11002",
                                    "1": "13",
                                    "2": "57.2300",
                                    "3": "15",
                                    "4": "0.000"
                                },
                                {
                                    "0": "11002",
                                    "1": "35",
                                    "2": "68.3100",
                                    "3": "8",
                                    "4": "0.150"
                                },
                                {
                                    "0": "11002",
                                    "1": "42",
                                    "2": "991.6800",
                                    "3": "9",
                                    "4": "0.150"
                                },
                                {
                                    "0": "11002",
                                    "1": "55",
                                    "2": "398.9900",
                                    "3": "1",
                                    "4": "0.000"
                                },
                                {
                                    "0": "11003",
                                    "1": "1",
                                    "2": "1273.0200",
                                    "3": "2",
                                    "4": "0.000"
                                },
                                {
                                    "0": "11003",
                                    "1": "40",
                                    "2": "194.3500",
                                    "3": "10",
                                    "4": "0.000"
                                },
                                {
                                    "0": "11003",
                                    "1": "52",
                                    "2": "408.9500",
                                    "3": "7",
                                    "4": "0.000"
                                },
                                {
                                    "0": "11004",
                                    "1": "26",
                                    "2": "2441.8400",
                                    "3": "8",
                                    "4": "0.000"
                                },
                                {
                                    "0": "11004",
                                    "1": "76",
                                    "2": "68.0000",
                                    "3": "15",
                                    "4": "0.000"
                                },
                                {
                                    "0": "11005",
                                    "1": "1",
                                    "2": "1299.0000",
                                    "3": "6",
                                    "4": "0.000"
                                },
                                {
                                    "0": "11005",
                                    "1": "59",
                                    "2": "1397.4800",
                                    "3": "12",
                                    "4": "0.000"
                                },
                                {
                                    "0": "11006",
                                    "1": "1",
                                    "2": "1273.0200",
                                    "3": "5",
                                    "4": "0.000"
                                },
                                {
                                    "0": "11006",
                                    "1": "29",
                                    "2": "346.5000",
                                    "3": "7",
                                    "4": "0.250"
                                },
                                {
                                    "0": "11007",
                                    "1": "8",
                                    "2": "169.6400",
                                    "3": "9",
                                    "4": "0.000"
                                },
                                {
                                    "0": "11007",
                                    "1": "29",
                                    "2": "350.0000",
                                    "3": "12",
                                    "4": "0.000"
                                },
                                {
                                    "0": "11007",
                                    "1": "42",
                                    "2": "1033.0000",
                                    "3": "11",
                                    "4": "0.000"
                                },
                                {
                                    "0": "11008",
                                    "1": "28",
                                    "2": "31.6800",
                                    "3": "14",
                                    "4": "0.050"
                                },
                                {
                                    "0": "11008",
                                    "1": "34",
                                    "2": "1499.0000",
                                    "3": "3",
                                    "4": "0.050"
                                },
                                {
                                    "0": "11008",
                                    "1": "71",
                                    "2": "396.7300",
                                    "3": "4",
                                    "4": "0.000"
                                },
                                {
                                    "0": "11009",
                                    "1": "24",
                                    "2": "979.9900",
                                    "3": "8",
                                    "4": "0.000"
                                },
                                {
                                    "0": "11009",
                                    "1": "36",
                                    "2": "668.1800",
                                    "3": "15",
                                    "4": "0.250"
                                },
                                {
                                    "0": "11009",
                                    "1": "60",
                                    "2": "717.6000",
                                    "3": "14",
                                    "4": "0.000"
                                },
                                {
                                    "0": "11010",
                                    "1": "7",
                                    "2": "38.6100",
                                    "3": "5",
                                    "4": "0.000"
                                },
                                {
                                    "0": "11010",
                                    "1": "24",
                                    "2": "959.9900",
                                    "3": "14",
                                    "4": "0.000"
                                },
                                {
                                    "0": "11011",
                                    "1": "58",
                                    "2": "96.0200",
                                    "3": "7",
                                    "4": "0.050"
                                },
                                {
                                    "0": "11011",
                                    "1": "71",
                                    "2": "404.9100",
                                    "3": "9",
                                    "4": "0.000"
                                },
                                {
                                    "0": "11012",
                                    "1": "19",
                                    "2": "652.4100",
                                    "3": "8",
                                    "4": "0.050"
                                },
                                {
                                    "0": "11012",
                                    "1": "60",
                                    "2": "732.5500",
                                    "3": "1",
                                    "4": "0.050"
                                },
                                {
                                    "0": "11012",
                                    "1": "71",
                                    "2": "392.6400",
                                    "3": "7",
                                    "4": "0.050"
                                },
                                {
                                    "0": "11013",
                                    "1": "23",
                                    "2": "350.9500",
                                    "3": "4",
                                    "4": "0.000"
                                },
                                {
                                    "0": "11013",
                                    "1": "42",
                                    "2": "1033.0000",
                                    "3": "6",
                                    "4": "0.000"
                                },
                                {
                                    "0": "11013",
                                    "1": "45",
                                    "2": "248.4900",
                                    "3": "2",
                                    "4": "0.000"
                                },
                                {
                                    "0": "11013",
                                    "1": "68",
                                    "2": "49.4900",
                                    "3": "13",
                                    "4": "0.000"
                                },
                                {
                                    "0": "11014",
                                    "1": "41",
                                    "2": "126.9600",
                                    "3": "10",
                                    "4": "0.100"
                                },
                                {
                                    "0": "11015",
                                    "1": "30",
                                    "2": "339.4400",
                                    "3": "9",
                                    "4": "0.000"
                                },
                                {
                                    "0": "11015",
                                    "1": "77",
                                    "2": "127.5100",
                                    "3": "3",
                                    "4": "0.000"
                                },
                                {
                                    "0": "11016",
                                    "1": "31",
                                    "2": "155.8200",
                                    "3": "10",
                                    "4": "0.000"
                                },
                                {
                                    "0": "11016",
                                    "1": "36",
                                    "2": "668.1800",
                                    "3": "1",
                                    "4": "0.000"
                                },
                                {
                                    "0": "11017",
                                    "1": "3",
                                    "2": "767.0400",
                                    "3": "8",
                                    "4": "0.000"
                                },
                                {
                                    "0": "11017",
                                    "1": "59",
                                    "2": "1411.7400",
                                    "3": "13",
                                    "4": "0.000"
                                },
                                {
                                    "0": "11017",
                                    "1": "70",
                                    "2": "81.4800",
                                    "3": "15",
                                    "4": "0.000"
                                },
                                {
                                    "0": "11018",
                                    "1": "12",
                                    "2": "454.4100",
                                    "3": "6",
                                    "4": "0.000"
                                },
                                {
                                    "0": "11018",
                                    "1": "18",
                                    "2": "28.1800",
                                    "3": "3",
                                    "4": "0.000"
                                },
                                {
                                    "0": "11018",
                                    "1": "56",
                                    "2": "1772.0900",
                                    "3": "15",
                                    "4": "0.000"
                                },
                                {
                                    "0": "11019",
                                    "1": "46",
                                    "2": "74.7500",
                                    "3": "12",
                                    "4": "0.000"
                                },
                                {
                                    "0": "11019",
                                    "1": "49",
                                    "2": "315.8500",
                                    "3": "12",
                                    "4": "0.000"
                                },
                                {
                                    "0": "11020",
                                    "1": "10",
                                    "2": "747.8400",
                                    "3": "1",
                                    "4": "0.150"
                                },
                                {
                                    "0": "11021",
                                    "1": "2",
                                    "2": "1439.0400",
                                    "3": "10",
                                    "4": "0.250"
                                },
                                {
                                    "0": "11021",
                                    "1": "20",
                                    "2": "595.0000",
                                    "3": "2",
                                    "4": "0.000"
                                },
                                {
                                    "0": "11021",
                                    "1": "26",
                                    "2": "2392.0000",
                                    "3": "3",
                                    "4": "0.000"
                                },
                                {
                                    "0": "11021",
                                    "1": "51",
                                    "2": "44.4900",
                                    "3": "13",
                                    "4": "0.250"
                                },
                                {
                                    "0": "11021",
                                    "1": "72",
                                    "2": "98.0000",
                                    "3": "3",
                                    "4": "0.000"
                                },
                                {
                                    "0": "11022",
                                    "1": "19",
                                    "2": "639.2300",
                                    "3": "4",
                                    "4": "0.000"
                                },
                                {
                                    "0": "11022",
                                    "1": "69",
                                    "2": "323.0000",
                                    "3": "12",
                                    "4": "0.000"
                                },
                                {
                                    "0": "11023",
                                    "1": "7",
                                    "2": "39.0000",
                                    "3": "15",
                                    "4": "0.000"
                                },
                                {
                                    "0": "11023",
                                    "1": "43",
                                    "2": "82.5100",
                                    "3": "10",
                                    "4": "0.000"
                                },
                                {
                                    "0": "11024",
                                    "1": "26",
                                    "2": "2466.7500",
                                    "3": "8",
                                    "4": "0.000"
                                },
                                {
                                    "0": "11024",
                                    "1": "33",
                                    "2": "22.0200",
                                    "3": "1",
                                    "4": "0.000"
                                },
                                {
                                    "0": "11024",
                                    "1": "65",
                                    "2": "179.1900",
                                    "3": "2",
                                    "4": "0.000"
                                },
                                {
                                    "0": "11024",
                                    "1": "71",
                                    "2": "409.0000",
                                    "3": "13",
                                    "4": "0.000"
                                },
                                {
                                    "0": "11025",
                                    "1": "1",
                                    "2": "1260.0300",
                                    "3": "15",
                                    "4": "0.100"
                                },
                                {
                                    "0": "11025",
                                    "1": "13",
                                    "2": "56.6400",
                                    "3": "13",
                                    "4": "0.100"
                                },
                                {
                                    "0": "11026",
                                    "1": "18",
                                    "2": "28.4600",
                                    "3": "8",
                                    "4": "0.000"
                                },
                                {
                                    "0": "11026",
                                    "1": "51",
                                    "2": "43.6000",
                                    "3": "11",
                                    "4": "0.000"
                                },
                                {
                                    "0": "11027",
                                    "1": "24",
                                    "2": "959.9900",
                                    "3": "12",
                                    "4": "0.250"
                                },
                                {
                                    "0": "11027",
                                    "1": "62",
                                    "2": "69.2900",
                                    "3": "11",
                                    "4": "0.250"
                                },
                                {
                                    "0": "11028",
                                    "1": "55",
                                    "2": "395.0000",
                                    "3": "15",
                                    "4": "0.000"
                                },
                                {
                                    "0": "11028",
                                    "1": "59",
                                    "2": "1397.4800",
                                    "3": "3",
                                    "4": "0.000"
                                },
                                {
                                    "0": "11029",
                                    "1": "56",
                                    "2": "1718.3900",
                                    "3": "1",
                                    "4": "0.000"
                                },
                                {
                                    "0": "11029",
                                    "1": "63",
                                    "2": "1823.0400",
                                    "3": "4",
                                    "4": "0.000"
                                },
                                {
                                    "0": "11030",
                                    "1": "2",
                                    "2": "1484.0100",
                                    "3": "12",
                                    "4": "0.250"
                                },
                                {
                                    "0": "11030",
                                    "1": "5",
                                    "2": "143.0400",
                                    "3": "9",
                                    "4": "0.000"
                                },
                                {
                                    "0": "11030",
                                    "1": "29",
                                    "2": "339.5000",
                                    "3": "1",
                                    "4": "0.250"
                                },
                                {
                                    "0": "11030",
                                    "1": "59",
                                    "2": "1397.4800",
                                    "3": "9",
                                    "4": "0.250"
                                },
                                {
                                    "0": "11031",
                                    "1": "1",
                                    "2": "1247.0400",
                                    "3": "6",
                                    "4": "0.000"
                                },
                                {
                                    "0": "11031",
                                    "1": "13",
                                    "2": "57.8200",
                                    "3": "25",
                                    "4": "0.000"
                                },
                                {
                                    "0": "11031",
                                    "1": "24",
                                    "2": "999.9900",
                                    "3": "12",
                                    "4": "0.000"
                                },
                                {
                                    "0": "11031",
                                    "1": "64",
                                    "2": "1551.0200",
                                    "3": "15",
                                    "4": "0.000"
                                },
                                {
                                    "0": "11031",
                                    "1": "71",
                                    "2": "392.6400",
                                    "3": "6",
                                    "4": "0.000"
                                },
                                {
                                    "0": "11032",
                                    "1": "36",
                                    "2": "688.8500",
                                    "3": "4",
                                    "4": "0.000"
                                },
                                {
                                    "0": "11032",
                                    "1": "38",
                                    "2": "339.5000",
                                    "3": "15",
                                    "4": "0.000"
                                },
                                {
                                    "0": "11032",
                                    "1": "59",
                                    "2": "1383.2200",
                                    "3": "14",
                                    "4": "0.000"
                                },
                                {
                                    "0": "11033",
                                    "1": "53",
                                    "2": "294.0000",
                                    "3": "12",
                                    "4": "0.100"
                                },
                                {
                                    "0": "11033",
                                    "1": "69",
                                    "2": "332.9900",
                                    "3": "1",
                                    "4": "0.100"
                                },
                                {
                                    "0": "11034",
                                    "1": "21",
                                    "2": "623.5000",
                                    "3": "4",
                                    "4": "0.100"
                                },
                                {
                                    "0": "11034",
                                    "1": "44",
                                    "2": "578.9900",
                                    "3": "10",
                                    "4": "0.000"
                                },
                                {
                                    "0": "11034",
                                    "1": "61",
                                    "2": "145.0300",
                                    "3": "4",
                                    "4": "0.000"
                                },
                                {
                                    "0": "11035",
                                    "1": "1",
                                    "2": "1273.0200",
                                    "3": "3",
                                    "4": "0.000"
                                },
                                {
                                    "0": "11035",
                                    "1": "35",
                                    "2": "66.2400",
                                    "3": "5",
                                    "4": "0.000"
                                },
                                {
                                    "0": "11035",
                                    "1": "42",
                                    "2": "1033.0000",
                                    "3": "6",
                                    "4": "0.000"
                                },
                                {
                                    "0": "11035",
                                    "1": "54",
                                    "2": "641.4100",
                                    "3": "6",
                                    "4": "0.000"
                                },
                                {
                                    "0": "11036",
                                    "1": "13",
                                    "2": "58.4100",
                                    "3": "8",
                                    "4": "0.000"
                                },
                                {
                                    "0": "11036",
                                    "1": "59",
                                    "2": "1368.9600",
                                    "3": "8",
                                    "4": "0.000"
                                },
                                {
                                    "0": "11037",
                                    "1": "70",
                                    "2": "80.6400",
                                    "3": "8",
                                    "4": "0.000"
                                },
                                {
                                    "0": "11038",
                                    "1": "40",
                                    "2": "194.3500",
                                    "3": "13",
                                    "4": "0.200"
                                },
                                {
                                    "0": "11038",
                                    "1": "52",
                                    "2": "421.7300",
                                    "3": "11",
                                    "4": "0.000"
                                },
                                {
                                    "0": "11038",
                                    "1": "71",
                                    "2": "404.9100",
                                    "3": "5",
                                    "4": "0.000"
                                },
                                {
                                    "0": "11039",
                                    "1": "28",
                                    "2": "32.0000",
                                    "3": "7",
                                    "4": "0.000"
                                },
                                {
                                    "0": "11039",
                                    "1": "35",
                                    "2": "68.3100",
                                    "3": "4",
                                    "4": "0.000"
                                },
                                {
                                    "0": "11039",
                                    "1": "49",
                                    "2": "319.1100",
                                    "3": "11",
                                    "4": "0.000"
                                },
                                {
                                    "0": "11039",
                                    "1": "57",
                                    "2": "2104.0000",
                                    "3": "8",
                                    "4": "0.000"
                                },
                                {
                                    "0": "11040",
                                    "1": "21",
                                    "2": "598.5600",
                                    "3": "7",
                                    "4": "0.000"
                                },
                                {
                                    "0": "11041",
                                    "1": "2",
                                    "2": "1484.0100",
                                    "3": "6",
                                    "4": "0.200"
                                },
                                {
                                    "0": "11041",
                                    "1": "63",
                                    "2": "1823.0400",
                                    "3": "4",
                                    "4": "0.000"
                                },
                                {
                                    "0": "11042",
                                    "1": "44",
                                    "2": "561.6200",
                                    "3": "6",
                                    "4": "0.000"
                                },
                                {
                                    "0": "11042",
                                    "1": "61",
                                    "2": "147.9900",
                                    "3": "11",
                                    "4": "0.000"
                                },
                                {
                                    "0": "11043",
                                    "1": "11",
                                    "2": "632.0000",
                                    "3": "4",
                                    "4": "0.000"
                                },
                                {
                                    "0": "11044",
                                    "1": "62",
                                    "2": "67.1900",
                                    "3": "6",
                                    "4": "0.000"
                                },
                                {
                                    "0": "11045",
                                    "1": "33",
                                    "2": "22.2500",
                                    "3": "12",
                                    "4": "0.000"
                                },
                                {
                                    "0": "11045",
                                    "1": "51",
                                    "2": "43.1600",
                                    "3": "14",
                                    "4": "0.000"
                                },
                                {
                                    "0": "11046",
                                    "1": "12",
                                    "2": "454.4100",
                                    "3": "8",
                                    "4": "0.050"
                                },
                                {
                                    "0": "11046",
                                    "1": "32",
                                    "2": "258.9900",
                                    "3": "4",
                                    "4": "0.050"
                                },
                                {
                                    "0": "11046",
                                    "1": "35",
                                    "2": "67.6200",
                                    "3": "9",
                                    "4": "0.050"
                                },
                                {
                                    "0": "11047",
                                    "1": "1",
                                    "2": "1247.0400",
                                    "3": "12",
                                    "4": "0.250"
                                },
                                {
                                    "0": "11047",
                                    "1": "5",
                                    "2": "147.5100",
                                    "3": "6",
                                    "4": "0.250"
                                },
                                {
                                    "0": "11048",
                                    "1": "68",
                                    "2": "49.9900",
                                    "3": "14",
                                    "4": "0.000"
                                },
                                {
                                    "0": "11049",
                                    "1": "2",
                                    "2": "1469.0200",
                                    "3": "15",
                                    "4": "0.200"
                                },
                                {
                                    "0": "11049",
                                    "1": "12",
                                    "2": "440.6400",
                                    "3": "11",
                                    "4": "0.200"
                                },
                                {
                                    "0": "11050",
                                    "1": "76",
                                    "2": "68.0000",
                                    "3": "4",
                                    "4": "0.100"
                                },
                                {
                                    "0": "11051",
                                    "1": "24",
                                    "2": "959.9900",
                                    "3": "6",
                                    "4": "0.200"
                                },
                                {
                                    "0": "11052",
                                    "1": "43",
                                    "2": "85.9500",
                                    "3": "13",
                                    "4": "0.200"
                                },
                                {
                                    "0": "11052",
                                    "1": "61",
                                    "2": "143.5500",
                                    "3": "8",
                                    "4": "0.200"
                                },
                                {
                                    "0": "11053",
                                    "1": "18",
                                    "2": "27.6000",
                                    "3": "2",
                                    "4": "0.200"
                                },
                                {
                                    "0": "11053",
                                    "1": "32",
                                    "2": "251.2200",
                                    "3": "9",
                                    "4": "0.000"
                                },
                                {
                                    "0": "11053",
                                    "1": "64",
                                    "2": "1535.0300",
                                    "3": "7",
                                    "4": "0.200"
                                },
                                {
                                    "0": "11054",
                                    "1": "33",
                                    "2": "22.9400",
                                    "3": "6",
                                    "4": "0.000"
                                },
                                {
                                    "0": "11054",
                                    "1": "67",
                                    "2": "19.4000",
                                    "3": "1",
                                    "4": "0.000"
                                },
                                {
                                    "0": "11055",
                                    "1": "24",
                                    "2": "979.9900",
                                    "3": "7",
                                    "4": "0.000"
                                },
                                {
                                    "0": "11055",
                                    "1": "25",
                                    "2": "898.9900",
                                    "3": "5",
                                    "4": "0.000"
                                },
                                {
                                    "0": "11055",
                                    "1": "51",
                                    "2": "44.0500",
                                    "3": "10",
                                    "4": "0.000"
                                },
                                {
                                    "0": "11055",
                                    "1": "57",
                                    "2": "2104.0000",
                                    "3": "6",
                                    "4": "0.000"
                                },
                                {
                                    "0": "11056",
                                    "1": "7",
                                    "2": "37.4400",
                                    "3": "12",
                                    "4": "0.000"
                                },
                                {
                                    "0": "11056",
                                    "1": "55",
                                    "2": "395.0000",
                                    "3": "6",
                                    "4": "0.000"
                                },
                                {
                                    "0": "11056",
                                    "1": "60",
                                    "2": "732.5500",
                                    "3": "11",
                                    "4": "0.000"
                                },
                                {
                                    "0": "11057",
                                    "1": "70",
                                    "2": "82.3200",
                                    "3": "7",
                                    "4": "0.000"
                                },
                                {
                                    "0": "11058",
                                    "1": "21",
                                    "2": "604.8000",
                                    "3": "11",
                                    "4": "0.000"
                                },
                                {
                                    "0": "11058",
                                    "1": "60",
                                    "2": "747.5000",
                                    "3": "13",
                                    "4": "0.000"
                                },
                                {
                                    "0": "11058",
                                    "1": "61",
                                    "2": "143.5500",
                                    "3": "1",
                                    "4": "0.000"
                                },
                                {
                                    "0": "11059",
                                    "1": "13",
                                    "2": "57.8200",
                                    "3": "8",
                                    "4": "0.000"
                                },
                                {
                                    "0": "11059",
                                    "1": "17",
                                    "2": "394.0200",
                                    "3": "11",
                                    "4": "0.000"
                                },
                                {
                                    "0": "11059",
                                    "1": "60",
                                    "2": "747.5000",
                                    "3": "14",
                                    "4": "0.000"
                                },
                                {
                                    "0": "11060",
                                    "1": "60",
                                    "2": "732.5500",
                                    "3": "14",
                                    "4": "0.000"
                                },
                                {
                                    "0": "11060",
                                    "1": "77",
                                    "2": "124.9400",
                                    "3": "9",
                                    "4": "0.000"
                                },
                                {
                                    "0": "11061",
                                    "1": "60",
                                    "2": "732.5500",
                                    "3": "4",
                                    "4": "0.000"
                                },
                                {
                                    "0": "11062",
                                    "1": "53",
                                    "2": "294.0000",
                                    "3": "13",
                                    "4": "0.200"
                                },
                                {
                                    "0": "11062",
                                    "1": "70",
                                    "2": "80.6400",
                                    "3": "1",
                                    "4": "0.200"
                                },
                                {
                                    "0": "11063",
                                    "1": "34",
                                    "2": "1484.0100",
                                    "3": "11",
                                    "4": "0.000"
                                },
                                {
                                    "0": "11063",
                                    "1": "40",
                                    "2": "192.4100",
                                    "3": "15",
                                    "4": "0.100"
                                },
                                {
                                    "0": "11063",
                                    "1": "41",
                                    "2": "128.2800",
                                    "3": "8",
                                    "4": "0.100"
                                },
                                {
                                    "0": "11064",
                                    "1": "17",
                                    "2": "398.0000",
                                    "3": "10",
                                    "4": "0.100"
                                },
                                {
                                    "0": "11064",
                                    "1": "41",
                                    "2": "130.9300",
                                    "3": "2",
                                    "4": "0.000"
                                },
                                {
                                    "0": "11064",
                                    "1": "53",
                                    "2": "294.0000",
                                    "3": "11",
                                    "4": "0.100"
                                },
                                {
                                    "0": "11064",
                                    "1": "55",
                                    "2": "387.0200",
                                    "3": "8",
                                    "4": "0.100"
                                },
                                {
                                    "0": "11064",
                                    "1": "68",
                                    "2": "49.9900",
                                    "3": "3",
                                    "4": "0.000"
                                },
                                {
                                    "0": "11065",
                                    "1": "30",
                                    "2": "339.4400",
                                    "3": "1",
                                    "4": "0.250"
                                },
                                {
                                    "0": "11065",
                                    "1": "54",
                                    "2": "654.6400",
                                    "3": "5",
                                    "4": "0.250"
                                },
                                {
                                    "0": "11066",
                                    "1": "16",
                                    "2": "573.2000",
                                    "3": "15",
                                    "4": "0.000"
                                },
                                {
                                    "0": "11066",
                                    "1": "19",
                                    "2": "652.4100",
                                    "3": "2",
                                    "4": "0.000"
                                },
                                {
                                    "0": "11066",
                                    "1": "34",
                                    "2": "1469.0200",
                                    "3": "4",
                                    "4": "0.000"
                                },
                                {
                                    "0": "11067",
                                    "1": "41",
                                    "2": "126.9600",
                                    "3": "5",
                                    "4": "0.000"
                                },
                                {
                                    "0": "11068",
                                    "1": "28",
                                    "2": "32.0000",
                                    "3": "8",
                                    "4": "0.150"
                                },
                                {
                                    "0": "11068",
                                    "1": "43",
                                    "2": "84.2300",
                                    "3": "2",
                                    "4": "0.150"
                                },
                                {
                                    "0": "11068",
                                    "1": "77",
                                    "2": "124.9400",
                                    "3": "11",
                                    "4": "0.150"
                                },
                                {
                                    "0": "11069",
                                    "1": "39",
                                    "2": "23.0000",
                                    "3": "4",
                                    "4": "0.000"
                                },
                                {
                                    "0": "11070",
                                    "1": "1",
                                    "2": "1286.0100",
                                    "3": "1",
                                    "4": "0.150"
                                },
                                {
                                    "0": "11070",
                                    "1": "2",
                                    "2": "1454.0300",
                                    "3": "13",
                                    "4": "0.150"
                                },
                                {
                                    "0": "11070",
                                    "1": "16",
                                    "2": "578.9900",
                                    "3": "15",
                                    "4": "0.150"
                                },
                                {
                                    "0": "11070",
                                    "1": "31",
                                    "2": "154.2300",
                                    "3": "7",
                                    "4": "0.000"
                                },
                                {
                                    "0": "11071",
                                    "1": "7",
                                    "2": "38.6100",
                                    "3": "12",
                                    "4": "0.050"
                                },
                                {
                                    "0": "11071",
                                    "1": "13",
                                    "2": "58.4100",
                                    "3": "1",
                                    "4": "0.050"
                                },
                                {
                                    "0": "11072",
                                    "1": "2",
                                    "2": "1469.0200",
                                    "3": "13",
                                    "4": "0.000"
                                },
                                {
                                    "0": "11072",
                                    "1": "41",
                                    "2": "128.2800",
                                    "3": "6",
                                    "4": "0.000"
                                },
                                {
                                    "0": "11072",
                                    "1": "50",
                                    "2": "99.0000",
                                    "3": "13",
                                    "4": "0.000"
                                },
                                {
                                    "0": "11072",
                                    "1": "64",
                                    "2": "1567.0100",
                                    "3": "5",
                                    "4": "0.000"
                                },
                                {
                                    "0": "11073",
                                    "1": "11",
                                    "2": "613.0400",
                                    "3": "4",
                                    "4": "0.000"
                                },
                                {
                                    "0": "11073",
                                    "1": "24",
                                    "2": "999.9900",
                                    "3": "11",
                                    "4": "0.000"
                                },
                                {
                                    "0": "11074",
                                    "1": "16",
                                    "2": "573.2000",
                                    "3": "3",
                                    "4": "0.050"
                                },
                                {
                                    "0": "11075",
                                    "1": "2",
                                    "2": "1454.0300",
                                    "3": "2",
                                    "4": "0.150"
                                },
                                {
                                    "0": "11075",
                                    "1": "46",
                                    "2": "71.7600",
                                    "3": "1",
                                    "4": "0.150"
                                },
                                {
                                    "0": "11075",
                                    "1": "76",
                                    "2": "65.9600",
                                    "3": "1",
                                    "4": "0.150"
                                },
                                {
                                    "0": "11076",
                                    "1": "6",
                                    "2": "106.8200",
                                    "3": "11",
                                    "4": "0.250"
                                },
                                {
                                    "0": "11076",
                                    "1": "14",
                                    "2": "23.0200",
                                    "3": "5",
                                    "4": "0.250"
                                },
                                {
                                    "0": "11076",
                                    "1": "19",
                                    "2": "645.8200",
                                    "3": "12",
                                    "4": "0.250"
                                },
                                {
                                    "0": "11077",
                                    "1": "2",
                                    "2": "1469.0200",
                                    "3": "8",
                                    "4": "0.200"
                                },
                                {
                                    "0": "11077",
                                    "1": "3",
                                    "2": "791.0100",
                                    "3": "8",
                                    "4": "0.000"
                                },
                                {
                                    "0": "11077",
                                    "1": "4",
                                    "2": "342.0100",
                                    "3": "10",
                                    "4": "0.000"
                                },
                                {
                                    "0": "11077",
                                    "1": "6",
                                    "2": "105.7300",
                                    "3": "9",
                                    "4": "0.020"
                                },
                                {
                                    "0": "11077",
                                    "1": "7",
                                    "2": "37.4400",
                                    "3": "9",
                                    "4": "0.050"
                                },
                                {
                                    "0": "11077",
                                    "1": "8",
                                    "2": "166.2100",
                                    "3": "7",
                                    "4": "0.100"
                                },
                                {
                                    "0": "11077",
                                    "1": "10",
                                    "2": "779.0000",
                                    "3": "2",
                                    "4": "0.000"
                                },
                                {
                                    "0": "11077",
                                    "1": "12",
                                    "2": "445.2300",
                                    "3": "10",
                                    "4": "0.050"
                                },
                                {
                                    "0": "11077",
                                    "1": "13",
                                    "2": "57.8200",
                                    "3": "11",
                                    "4": "0.000"
                                },
                                {
                                    "0": "11077",
                                    "1": "14",
                                    "2": "22.5500",
                                    "3": "7",
                                    "4": "0.030"
                                },
                                {
                                    "0": "11077",
                                    "1": "16",
                                    "2": "555.8300",
                                    "3": "13",
                                    "4": "0.030"
                                },
                                {
                                    "0": "11077",
                                    "1": "20",
                                    "2": "571.2000",
                                    "3": "7",
                                    "4": "0.040"
                                },
                                {
                                    "0": "11077",
                                    "1": "23",
                                    "2": "347.4400",
                                    "3": "3",
                                    "4": "0.000"
                                },
                                {
                                    "0": "11077",
                                    "1": "32",
                                    "2": "256.4000",
                                    "3": "4",
                                    "4": "0.000"
                                },
                                {
                                    "0": "11077",
                                    "1": "39",
                                    "2": "22.5400",
                                    "3": "13",
                                    "4": "0.050"
                                },
                                {
                                    "0": "11077",
                                    "1": "41",
                                    "2": "129.6100",
                                    "3": "11",
                                    "4": "0.000"
                                },
                                {
                                    "0": "11077",
                                    "1": "46",
                                    "2": "72.5100",
                                    "3": "4",
                                    "4": "0.020"
                                },
                                {
                                    "0": "11077",
                                    "1": "52",
                                    "2": "417.4700",
                                    "3": "6",
                                    "4": "0.000"
                                },
                                {
                                    "0": "11077",
                                    "1": "55",
                                    "2": "387.0200",
                                    "3": "15",
                                    "4": "0.000"
                                },
                                {
                                    "0": "11077",
                                    "1": "60",
                                    "2": "740.0300",
                                    "3": "6",
                                    "4": "0.060"
                                },
                                {
                                    "0": "11077",
                                    "1": "64",
                                    "2": "1551.0200",
                                    "3": "4",
                                    "4": "0.030"
                                },
                                {
                                    "0": "11077",
                                    "1": "66",
                                    "2": "76.7200",
                                    "3": "3",
                                    "4": "0.000"
                                },
                                {
                                    "0": "11077",
                                    "1": "73",
                                    "2": "191.0600",
                                    "3": "7",
                                    "4": "0.010"
                                },
                                {
                                    "0": "11077",
                                    "1": "75",
                                    "2": "53.9900",
                                    "3": "13",
                                    "4": "0.000"
                                },
                                {
                                    "0": "11077",
                                    "1": "77",
                                    "2": "128.8000",
                                    "3": "6",
                                    "4": "0.000"
                                }
                            ]
                        },
                        "text/html": [
                            "<table>",
                            "<tr><th>order_id</th><th>product_id</th><th>unit_price</th><th>quantity</th><th>discount</th></tr>",
                            "<tr><td>10248</td><td>11</td><td>632.0000</td><td>15</td><td>0.000</td></tr>",
                            "<tr><td>10248</td><td>42</td><td>1033.0000</td><td>12</td><td>0.000</td></tr>",
                            "<tr><td>10248</td><td>72</td><td>97.0100</td><td>8</td><td>0.000</td></tr>",
                            "<tr><td>10249</td><td>14</td><td>23.0200</td><td>2</td><td>0.000</td></tr>",
                            "<tr><td>10249</td><td>51</td><td>43.6000</td><td>14</td><td>0.000</td></tr>",
                            "<tr><td>10250</td><td>41</td><td>129.6100</td><td>1</td><td>0.000</td></tr>",
                            "<tr><td>10250</td><td>51</td><td>43.1600</td><td>11</td><td>0.150</td></tr>",
                            "<tr><td>10250</td><td>65</td><td>181.0200</td><td>9</td><td>0.150</td></tr>",
                            "<tr><td>10251</td><td>22</td><td>3594.2400</td><td>1</td><td>0.050</td></tr>",
                            "<tr><td>10251</td><td>57</td><td>2040.8800</td><td>1</td><td>0.050</td></tr>",
                            "<tr><td>10251</td><td>65</td><td>175.5400</td><td>6</td><td>0.000</td></tr>",
                            "<tr><td>10252</td><td>20</td><td>595.0000</td><td>9</td><td>0.050</td></tr>",
                            "<tr><td>10252</td><td>33</td><td>22.4800</td><td>7</td><td>0.050</td></tr>",
                            "<tr><td>10252</td><td>60</td><td>717.6000</td><td>9</td><td>0.000</td></tr>",
                            "<tr><td>10253</td><td>31</td><td>159.0000</td><td>6</td><td>0.000</td></tr>",
                            "<tr><td>10253</td><td>39</td><td>23.0000</td><td>1</td><td>0.000</td></tr>",
                            "<tr><td>10253</td><td>49</td><td>325.6200</td><td>14</td><td>0.000</td></tr>",
                            "<tr><td>10254</td><td>24</td><td>979.9900</td><td>1</td><td>0.150</td></tr>",
                            "<tr><td>10254</td><td>55</td><td>395.0000</td><td>12</td><td>0.150</td></tr>",
                            "<tr><td>10254</td><td>74</td><td>33.4800</td><td>14</td><td>0.000</td></tr>",
                            "<tr><td>10255</td><td>2</td><td>1469.0200</td><td>2</td><td>0.000</td></tr>",
                            "<tr><td>10255</td><td>16</td><td>555.8300</td><td>2</td><td>0.000</td></tr>",
                            "<tr><td>10255</td><td>36</td><td>675.0700</td><td>1</td><td>0.000</td></tr>",
                            "<tr><td>10255</td><td>59</td><td>1397.4800</td><td>1</td><td>0.000</td></tr>",
                            "<tr><td>10256</td><td>53</td><td>291.0000</td><td>8</td><td>0.000</td></tr>",
                            "<tr><td>10256</td><td>77</td><td>126.2200</td><td>10</td><td>0.000</td></tr>",
                            "<tr><td>10257</td><td>27</td><td>239.0400</td><td>10</td><td>0.000</td></tr>",
                            "<tr><td>10257</td><td>39</td><td>22.3100</td><td>15</td><td>0.000</td></tr>",
                            "<tr><td>10257</td><td>77</td><td>124.9400</td><td>9</td><td>0.000</td></tr>",
                            "<tr><td>10258</td><td>2</td><td>1499.0000</td><td>11</td><td>0.200</td></tr>",
                            "<tr><td>10258</td><td>5</td><td>149.0000</td><td>12</td><td>0.200</td></tr>",
                            "<tr><td>10258</td><td>32</td><td>253.8100</td><td>12</td><td>0.200</td></tr>",
                            "<tr><td>10259</td><td>21</td><td>617.2700</td><td>7</td><td>0.000</td></tr>",
                            "<tr><td>10259</td><td>37</td><td>230.7400</td><td>14</td><td>0.000</td></tr>",
                            "<tr><td>10260</td><td>41</td><td>130.9300</td><td>9</td><td>0.250</td></tr>",
                            "<tr><td>10260</td><td>57</td><td>2019.8400</td><td>1</td><td>0.000</td></tr>",
                            "<tr><td>10260</td><td>62</td><td>69.9900</td><td>6</td><td>0.250</td></tr>",
                            "<tr><td>10260</td><td>70</td><td>84.0000</td><td>2</td><td>0.250</td></tr>",
                            "<tr><td>10261</td><td>21</td><td>611.0300</td><td>1</td><td>0.000</td></tr>",
                            "<tr><td>10261</td><td>35</td><td>67.6200</td><td>10</td><td>0.000</td></tr>",
                            "<tr><td>10262</td><td>5</td><td>147.5100</td><td>7</td><td>0.200</td></tr>",
                            "<tr><td>10262</td><td>7</td><td>38.2200</td><td>2</td><td>0.000</td></tr>",
                            "<tr><td>10262</td><td>56</td><td>1754.1900</td><td>2</td><td>0.000</td></tr>",
                            "<tr><td>10263</td><td>16</td><td>555.8300</td><td>5</td><td>0.250</td></tr>",
                            "<tr><td>10263</td><td>24</td><td>969.9900</td><td>12</td><td>0.000</td></tr>",
                            "<tr><td>10263</td><td>30</td><td>346.4400</td><td>13</td><td>0.250</td></tr>",
                            "<tr><td>10263</td><td>74</td><td>32.4700</td><td>4</td><td>0.250</td></tr>",
                            "<tr><td>10264</td><td>2</td><td>1499.0000</td><td>2</td><td>0.000</td></tr>",
                            "<tr><td>10264</td><td>41</td><td>129.6100</td><td>14</td><td>0.150</td></tr>",
                            "<tr><td>10265</td><td>17</td><td>386.0600</td><td>6</td><td>0.000</td></tr>",
                            "<tr><td>10265</td><td>70</td><td>82.3200</td><td>10</td><td>0.000</td></tr>",
                            "<tr><td>10266</td><td>12</td><td>445.2300</td><td>3</td><td>0.050</td></tr>",
                            "<tr><td>10267</td><td>40</td><td>186.5800</td><td>4</td><td>0.000</td></tr>",
                            "<tr><td>10267</td><td>59</td><td>1411.7400</td><td>2</td><td>0.150</td></tr>",
                            "<tr><td>10267</td><td>76</td><td>66.6400</td><td>8</td><td>0.150</td></tr>",
                            "<tr><td>10268</td><td>29</td><td>346.5000</td><td>15</td><td>0.000</td></tr>",
                            "<tr><td>10268</td><td>72</td><td>96.0200</td><td>15</td><td>0.000</td></tr>",
                            "<tr><td>10269</td><td>33</td><td>22.2500</td><td>11</td><td>0.050</td></tr>",
                            "<tr><td>10269</td><td>72</td><td>96.0200</td><td>2</td><td>0.050</td></tr>",
                            "<tr><td>10270</td><td>36</td><td>675.0700</td><td>7</td><td>0.000</td></tr>",
                            "<tr><td>10270</td><td>43</td><td>83.3700</td><td>14</td><td>0.000</td></tr>",
                            "<tr><td>10271</td><td>33</td><td>22.7100</td><td>3</td><td>0.000</td></tr>",
                            "<tr><td>10272</td><td>20</td><td>577.1500</td><td>14</td><td>0.000</td></tr>",
                            "<tr><td>10272</td><td>31</td><td>155.8200</td><td>11</td><td>0.000</td></tr>",
                            "<tr><td>10272</td><td>72</td><td>98.9900</td><td>9</td><td>0.000</td></tr>",
                            "<tr><td>10273</td><td>10</td><td>747.8400</td><td>13</td><td>0.050</td></tr>",
                            "<tr><td>10273</td><td>31</td><td>154.2300</td><td>9</td><td>0.050</td></tr>",
                            "<tr><td>10273</td><td>33</td><td>22.2500</td><td>15</td><td>0.000</td></tr>",
                            "<tr><td>10273</td><td>40</td><td>192.4100</td><td>8</td><td>0.050</td></tr>",
                            "<tr><td>10273</td><td>76</td><td>65.9600</td><td>7</td><td>0.050</td></tr>",
                            "<tr><td>10274</td><td>71</td><td>409.0000</td><td>4</td><td>0.000</td></tr>",
                            "<tr><td>10274</td><td>72</td><td>98.9900</td><td>7</td><td>0.000</td></tr>",
                            "<tr><td>10275</td><td>24</td><td>999.9900</td><td>5</td><td>0.050</td></tr>",
                            "<tr><td>10275</td><td>59</td><td>1368.9600</td><td>3</td><td>0.050</td></tr>",
                            "<tr><td>10276</td><td>10</td><td>763.4200</td><td>6</td><td>0.000</td></tr>",
                            "<tr><td>10276</td><td>13</td><td>56.6400</td><td>9</td><td>0.000</td></tr>",
                            "<tr><td>10277</td><td>28</td><td>31.0400</td><td>12</td><td>0.000</td></tr>",
                            "<tr><td>10277</td><td>62</td><td>69.9900</td><td>3</td><td>0.000</td></tr>",
                            "<tr><td>10278</td><td>44</td><td>578.9900</td><td>8</td><td>0.000</td></tr>",
                            "<tr><td>10278</td><td>59</td><td>1426.0000</td><td>10</td><td>0.000</td></tr>",
                            "<tr><td>10278</td><td>63</td><td>1823.0400</td><td>3</td><td>0.000</td></tr>",
                            "<tr><td>10278</td><td>73</td><td>189.1300</td><td>2</td><td>0.000</td></tr>",
                            "<tr><td>10279</td><td>17</td><td>390.0400</td><td>12</td><td>0.250</td></tr>",
                            "<tr><td>10280</td><td>24</td><td>979.9900</td><td>3</td><td>0.000</td></tr>",
                            "<tr><td>10280</td><td>55</td><td>391.0100</td><td>8</td><td>0.000</td></tr>",
                            "<tr><td>10280</td><td>75</td><td>53.4500</td><td>6</td><td>0.000</td></tr>",
                            "<tr><td>10281</td><td>19</td><td>652.4100</td><td>12</td><td>0.000</td></tr>",
                            "<tr><td>10281</td><td>24</td><td>979.9900</td><td>9</td><td>0.000</td></tr>",
                            "<tr><td>10281</td><td>35</td><td>67.6200</td><td>12</td><td>0.000</td></tr>",
                            "<tr><td>10282</td><td>30</td><td>349.9400</td><td>14</td><td>0.000</td></tr>",
                            "<tr><td>10282</td><td>57</td><td>2019.8400</td><td>1</td><td>0.000</td></tr>",
                            "<tr><td>10283</td><td>15</td><td>276.2000</td><td>8</td><td>0.000</td></tr>",
                            "<tr><td>10283</td><td>19</td><td>639.2300</td><td>5</td><td>0.000</td></tr>",
                            "<tr><td>10283</td><td>60</td><td>732.5500</td><td>14</td><td>0.000</td></tr>",
                            "<tr><td>10283</td><td>72</td><td>95.0300</td><td>5</td><td>0.000</td></tr>",
                            "<tr><td>10284</td><td>27</td><td>249.0000</td><td>7</td><td>0.250</td></tr>",
                            "<tr><td>10284</td><td>44</td><td>573.2000</td><td>7</td><td>0.000</td></tr>",
                            "<tr><td>10284</td><td>60</td><td>740.0300</td><td>10</td><td>0.250</td></tr>",
                            "<tr><td>10284</td><td>67</td><td>19.8000</td><td>1</td><td>0.250</td></tr>",
                            "<tr><td>10285</td><td>1</td><td>1247.0400</td><td>2</td><td>0.200</td></tr>",
                            "<tr><td>10285</td><td>40</td><td>194.3500</td><td>5</td><td>0.200</td></tr>",
                            "<tr><td>10285</td><td>53</td><td>294.0000</td><td>14</td><td>0.200</td></tr>",
                            "<tr><td>10286</td><td>35</td><td>66.9300</td><td>1</td><td>0.000</td></tr>",
                            "<tr><td>10286</td><td>62</td><td>69.2900</td><td>11</td><td>0.000</td></tr>",
                            "<tr><td>10287</td><td>16</td><td>567.4100</td><td>5</td><td>0.150</td></tr>",
                            "<tr><td>10287</td><td>34</td><td>1439.0400</td><td>4</td><td>0.000</td></tr>",
                            "<tr><td>10287</td><td>46</td><td>74.7500</td><td>8</td><td>0.150</td></tr>",
                            "<tr><td>10288</td><td>54</td><td>641.4100</td><td>8</td><td>0.100</td></tr>",
                            "<tr><td>10288</td><td>68</td><td>48.9900</td><td>9</td><td>0.100</td></tr>",
                            "<tr><td>10289</td><td>3</td><td>775.0300</td><td>13</td><td>0.000</td></tr>",
                            "<tr><td>10289</td><td>64</td><td>1535.0300</td><td>15</td><td>0.000</td></tr>",
                            "<tr><td>10290</td><td>5</td><td>146.0200</td><td>11</td><td>0.000</td></tr>",
                            "<tr><td>10290</td><td>29</td><td>350.0000</td><td>15</td><td>0.000</td></tr>",
                            "<tr><td>10290</td><td>49</td><td>315.8500</td><td>4</td><td>0.000</td></tr>",
                            "<tr><td>10290</td><td>77</td><td>123.6500</td><td>9</td><td>0.000</td></tr>",
                            "<tr><td>10291</td><td>13</td><td>58.4100</td><td>3</td><td>0.100</td></tr>",
                            "<tr><td>10291</td><td>44</td><td>578.9900</td><td>4</td><td>0.100</td></tr>",
                            "<tr><td>10291</td><td>51</td><td>43.6000</td><td>7</td><td>0.100</td></tr>",
                            "<tr><td>10292</td><td>20</td><td>583.1000</td><td>7</td><td>0.000</td></tr>",
                            "<tr><td>10293</td><td>18</td><td>28.1800</td><td>13</td><td>0.000</td></tr>",
                            "<tr><td>10293</td><td>24</td><td>989.9900</td><td>4</td><td>0.000</td></tr>",
                            "<tr><td>10293</td><td>63</td><td>1861.0200</td><td>1</td><td>0.000</td></tr>",
                            "<tr><td>10293</td><td>75</td><td>53.9900</td><td>10</td><td>0.000</td></tr>",
                            "<tr><td>10294</td><td>1</td><td>1247.0400</td><td>1</td><td>0.000</td></tr>",
                            "<tr><td>10294</td><td>17</td><td>390.0400</td><td>13</td><td>0.000</td></tr>",
                            "<tr><td>10294</td><td>43</td><td>85.0900</td><td>12</td><td>0.000</td></tr>",
                            "<tr><td>10294</td><td>60</td><td>717.6000</td><td>5</td><td>0.000</td></tr>",
                            "<tr><td>10294</td><td>75</td><td>53.4500</td><td>15</td><td>0.000</td></tr>",
                            "<tr><td>10295</td><td>56</td><td>1789.9900</td><td>1</td><td>0.000</td></tr>",
                            "<tr><td>10296</td><td>11</td><td>632.0000</td><td>7</td><td>0.000</td></tr>",
                            "<tr><td>10296</td><td>16</td><td>573.2000</td><td>9</td><td>0.000</td></tr>",
                            "<tr><td>10296</td><td>69</td><td>319.6700</td><td>1</td><td>0.000</td></tr>",
                            "<tr><td>10297</td><td>39</td><td>23.0000</td><td>1</td><td>0.000</td></tr>",
                            "<tr><td>10297</td><td>72</td><td>95.0300</td><td>12</td><td>0.000</td></tr>",
                            "<tr><td>10298</td><td>2</td><td>1454.0300</td><td>4</td><td>0.000</td></tr>",
                            "<tr><td>10298</td><td>36</td><td>688.8500</td><td>3</td><td>0.250</td></tr>",
                            "<tr><td>10298</td><td>59</td><td>1383.2200</td><td>3</td><td>0.250</td></tr>",
                            "<tr><td>10298</td><td>62</td><td>69.2900</td><td>11</td><td>0.000</td></tr>",
                            "<tr><td>10299</td><td>19</td><td>639.2300</td><td>13</td><td>0.000</td></tr>",
                            "<tr><td>10299</td><td>70</td><td>81.4800</td><td>6</td><td>0.000</td></tr>",
                            "<tr><td>10300</td><td>66</td><td>79.1200</td><td>15</td><td>0.000</td></tr>",
                            "<tr><td>10300</td><td>68</td><td>49.4900</td><td>10</td><td>0.000</td></tr>",
                            "<tr><td>10301</td><td>40</td><td>188.5200</td><td>3</td><td>0.000</td></tr>",
                            "<tr><td>10301</td><td>56</td><td>1789.9900</td><td>1</td><td>0.000</td></tr>",
                            "<tr><td>10302</td><td>17</td><td>386.0600</td><td>6</td><td>0.000</td></tr>",
                            "<tr><td>10302</td><td>28</td><td>31.6800</td><td>7</td><td>0.000</td></tr>",
                            "<tr><td>10302</td><td>43</td><td>84.2300</td><td>6</td><td>0.000</td></tr>",
                            "<tr><td>10303</td><td>40</td><td>188.5200</td><td>7</td><td>0.100</td></tr>",
                            "<tr><td>10303</td><td>65</td><td>182.8500</td><td>5</td><td>0.100</td></tr>",
                            "<tr><td>10303</td><td>68</td><td>48.4900</td><td>7</td><td>0.100</td></tr>",
                            "<tr><td>10304</td><td>49</td><td>315.8500</td><td>9</td><td>0.000</td></tr>",
                            "<tr><td>10304</td><td>59</td><td>1383.2200</td><td>8</td><td>0.000</td></tr>",
                            "<tr><td>10304</td><td>71</td><td>392.6400</td><td>6</td><td>0.000</td></tr>",
                            "<tr><td>10305</td><td>18</td><td>27.6000</td><td>13</td><td>0.100</td></tr>",
                            "<tr><td>10305</td><td>29</td><td>339.5000</td><td>9</td><td>0.100</td></tr>",
                            "<tr><td>10305</td><td>39</td><td>22.3100</td><td>5</td><td>0.100</td></tr>",
                            "<tr><td>10306</td><td>30</td><td>335.9400</td><td>15</td><td>0.000</td></tr>",
                            "<tr><td>10306</td><td>53</td><td>300.0000</td><td>12</td><td>0.000</td></tr>",
                            "<tr><td>10306</td><td>54</td><td>634.8000</td><td>7</td><td>0.000</td></tr>",
                            "<tr><td>10307</td><td>62</td><td>69.9900</td><td>13</td><td>0.000</td></tr>",
                            "<tr><td>10307</td><td>68</td><td>48.4900</td><td>13</td><td>0.000</td></tr>",
                            "<tr><td>10308</td><td>69</td><td>329.6600</td><td>3</td><td>0.000</td></tr>",
                            "<tr><td>10308</td><td>70</td><td>81.4800</td><td>13</td><td>0.000</td></tr>",
                            "<tr><td>10309</td><td>4</td><td>345.5000</td><td>15</td><td>0.000</td></tr>",
                            "<tr><td>10309</td><td>6</td><td>106.8200</td><td>9</td><td>0.000</td></tr>",
                            "<tr><td>10309</td><td>42</td><td>991.6800</td><td>5</td><td>0.000</td></tr>",
                            "<tr><td>10309</td><td>43</td><td>84.2300</td><td>7</td><td>0.000</td></tr>",
                            "<tr><td>10309</td><td>71</td><td>392.6400</td><td>2</td><td>0.000</td></tr>",
                            "<tr><td>10310</td><td>16</td><td>567.4100</td><td>10</td><td>0.000</td></tr>",
                            "<tr><td>10310</td><td>62</td><td>67.1900</td><td>4</td><td>0.000</td></tr>",
                            "<tr><td>10311</td><td>42</td><td>1033.0000</td><td>10</td><td>0.000</td></tr>",
                            "<tr><td>10311</td><td>69</td><td>319.6700</td><td>4</td><td>0.000</td></tr>",
                            "<tr><td>10312</td><td>28</td><td>30.7200</td><td>2</td><td>0.000</td></tr>",
                            "<tr><td>10312</td><td>43</td><td>84.2300</td><td>10</td><td>0.000</td></tr>",
                            "<tr><td>10312</td><td>53</td><td>297.0000</td><td>6</td><td>0.000</td></tr>",
                            "<tr><td>10312</td><td>75</td><td>52.3700</td><td>9</td><td>0.000</td></tr>",
                            "<tr><td>10313</td><td>36</td><td>688.8500</td><td>14</td><td>0.000</td></tr>",
                            "<tr><td>10314</td><td>32</td><td>251.2200</td><td>12</td><td>0.100</td></tr>",
                            "<tr><td>10314</td><td>58</td><td>97.0100</td><td>14</td><td>0.100</td></tr>",
                            "<tr><td>10314</td><td>62</td><td>68.5900</td><td>7</td><td>0.100</td></tr>",
                            "<tr><td>10315</td><td>34</td><td>1499.0000</td><td>14</td><td>0.000</td></tr>",
                            "<tr><td>10315</td><td>70</td><td>82.3200</td><td>2</td><td>0.000</td></tr>",
                            "<tr><td>10316</td><td>41</td><td>130.9300</td><td>15</td><td>0.000</td></tr>",
                            "<tr><td>10316</td><td>62</td><td>69.2900</td><td>11</td><td>0.000</td></tr>",
                            "<tr><td>10317</td><td>1</td><td>1286.0100</td><td>2</td><td>0.000</td></tr>",
                            "<tr><td>10318</td><td>41</td><td>129.6100</td><td>6</td><td>0.000</td></tr>",
                            "<tr><td>10318</td><td>76</td><td>67.3200</td><td>10</td><td>0.000</td></tr>",
                            "<tr><td>10319</td><td>17</td><td>394.0200</td><td>8</td><td>0.000</td></tr>",
                            "<tr><td>10319</td><td>28</td><td>31.3600</td><td>9</td><td>0.000</td></tr>",
                            "<tr><td>10319</td><td>76</td><td>65.2800</td><td>11</td><td>0.000</td></tr>",
                            "<tr><td>10320</td><td>71</td><td>409.0000</td><td>5</td><td>0.000</td></tr>",
                            "<tr><td>10321</td><td>35</td><td>66.2400</td><td>13</td><td>0.000</td></tr>",
                            "<tr><td>10322</td><td>52</td><td>421.7300</td><td>5</td><td>0.000</td></tr>",
                            "<tr><td>10323</td><td>15</td><td>278.9900</td><td>3</td><td>0.000</td></tr>",
                            "<tr><td>10323</td><td>25</td><td>898.9900</td><td>8</td><td>0.000</td></tr>",
                            "<tr><td>10323</td><td>39</td><td>22.0800</td><td>5</td><td>0.000</td></tr>",
                            "<tr><td>10324</td><td>16</td><td>573.2000</td><td>14</td><td>0.150</td></tr>",
                            "<tr><td>10324</td><td>35</td><td>66.9300</td><td>7</td><td>0.150</td></tr>",
                            "<tr><td>10324</td><td>46</td><td>72.5100</td><td>8</td><td>0.000</td></tr>",
                            "<tr><td>10324</td><td>59</td><td>1383.2200</td><td>1</td><td>0.150</td></tr>",
                            "<tr><td>10324</td><td>63</td><td>1861.0200</td><td>14</td><td>0.150</td></tr>",
                            "<tr><td>10325</td><td>6</td><td>107.9100</td><td>13</td><td>0.000</td></tr>",
                            "<tr><td>10325</td><td>13</td><td>57.8200</td><td>14</td><td>0.000</td></tr>",
                            "<tr><td>10325</td><td>14</td><td>23.0200</td><td>2</td><td>0.000</td></tr>",
                            "<tr><td>10325</td><td>31</td><td>159.0000</td><td>3</td><td>0.000</td></tr>",
                            "<tr><td>10325</td><td>72</td><td>98.9900</td><td>9</td><td>0.000</td></tr>",
                            "<tr><td>10326</td><td>4</td><td>335.0300</td><td>15</td><td>0.000</td></tr>",
                            "<tr><td>10326</td><td>57</td><td>2061.9200</td><td>6</td><td>0.000</td></tr>",
                            "<tr><td>10326</td><td>75</td><td>53.9900</td><td>12</td><td>0.000</td></tr>",
                            "<tr><td>10327</td><td>2</td><td>1454.0300</td><td>6</td><td>0.200</td></tr>",
                            "<tr><td>10327</td><td>11</td><td>619.3600</td><td>3</td><td>0.200</td></tr>",
                            "<tr><td>10327</td><td>30</td><td>349.9400</td><td>11</td><td>0.200</td></tr>",
                            "<tr><td>10327</td><td>58</td><td>97.0100</td><td>10</td><td>0.200</td></tr>",
                            "<tr><td>10328</td><td>59</td><td>1383.2200</td><td>13</td><td>0.000</td></tr>",
                            "<tr><td>10328</td><td>65</td><td>182.8500</td><td>2</td><td>0.000</td></tr>",
                            "<tr><td>10328</td><td>68</td><td>47.9900</td><td>5</td><td>0.000</td></tr>",
                            "<tr><td>10329</td><td>19</td><td>645.8200</td><td>1</td><td>0.050</td></tr>",
                            "<tr><td>10329</td><td>30</td><td>335.9400</td><td>1</td><td>0.050</td></tr>",
                            "<tr><td>10329</td><td>38</td><td>339.5000</td><td>8</td><td>0.050</td></tr>",
                            "<tr><td>10329</td><td>56</td><td>1718.3900</td><td>7</td><td>0.050</td></tr>",
                            "<tr><td>10330</td><td>26</td><td>2392.0000</td><td>12</td><td>0.200</td></tr>",
                            "<tr><td>10330</td><td>72</td><td>97.0100</td><td>7</td><td>0.150</td></tr>",
                            "<tr><td>10331</td><td>54</td><td>654.6400</td><td>6</td><td>0.000</td></tr>",
                            "<tr><td>10332</td><td>18</td><td>28.7500</td><td>3</td><td>0.200</td></tr>",
                            "<tr><td>10332</td><td>42</td><td>1012.3400</td><td>14</td><td>0.200</td></tr>",
                            "<tr><td>10332</td><td>47</td><td>979.1100</td><td>5</td><td>0.200</td></tr>",
                            "<tr><td>10333</td><td>14</td><td>22.5500</td><td>11</td><td>0.000</td></tr>",
                            "<tr><td>10333</td><td>21</td><td>623.5000</td><td>13</td><td>0.100</td></tr>",
                            "<tr><td>10333</td><td>71</td><td>409.0000</td><td>15</td><td>0.100</td></tr>",
                            "<tr><td>10334</td><td>52</td><td>408.9500</td><td>1</td><td>0.000</td></tr>",
                            "<tr><td>10334</td><td>68</td><td>48.4900</td><td>5</td><td>0.000</td></tr>",
                            "<tr><td>10335</td><td>2</td><td>1469.0200</td><td>2</td><td>0.000</td></tr>",
                            "<tr><td>10335</td><td>31</td><td>155.8200</td><td>1</td><td>0.200</td></tr>",
                            "<tr><td>10335</td><td>32</td><td>251.2200</td><td>8</td><td>0.200</td></tr>",
                            "<tr><td>10335</td><td>51</td><td>42.7100</td><td>14</td><td>0.200</td></tr>",
                            "<tr><td>10336</td><td>4</td><td>345.5000</td><td>7</td><td>0.100</td></tr>",
                            "<tr><td>10337</td><td>23</td><td>336.9100</td><td>2</td><td>0.000</td></tr>",
                            "<tr><td>10337</td><td>26</td><td>2466.7500</td><td>7</td><td>0.000</td></tr>",
                            "<tr><td>10337</td><td>36</td><td>688.8500</td><td>6</td><td>0.000</td></tr>",
                            "<tr><td>10337</td><td>37</td><td>235.5400</td><td>12</td><td>0.000</td></tr>",
                            "<tr><td>10337</td><td>72</td><td>97.0100</td><td>7</td><td>0.000</td></tr>",
                            "<tr><td>10338</td><td>17</td><td>390.0400</td><td>2</td><td>0.000</td></tr>",
                            "<tr><td>10338</td><td>30</td><td>349.9400</td><td>14</td><td>0.000</td></tr>",
                            "<tr><td>10339</td><td>4</td><td>335.0300</td><td>11</td><td>0.000</td></tr>",
                            "<tr><td>10339</td><td>17</td><td>382.0800</td><td>7</td><td>0.050</td></tr>",
                            "<tr><td>10339</td><td>62</td><td>67.1900</td><td>12</td><td>0.000</td></tr>",
                            "<tr><td>10340</td><td>18</td><td>28.1800</td><td>9</td><td>0.050</td></tr>",
                            "<tr><td>10340</td><td>41</td><td>130.9300</td><td>13</td><td>0.050</td></tr>",
                            "<tr><td>10340</td><td>43</td><td>84.2300</td><td>8</td><td>0.050</td></tr>",
                            "<tr><td>10341</td><td>33</td><td>22.7100</td><td>5</td><td>0.000</td></tr>",
                            "<tr><td>10341</td><td>59</td><td>1426.0000</td><td>15</td><td>0.150</td></tr>",
                            "<tr><td>10342</td><td>2</td><td>1454.0300</td><td>7</td><td>0.200</td></tr>",
                            "<tr><td>10342</td><td>31</td><td>159.0000</td><td>15</td><td>0.200</td></tr>",
                            "<tr><td>10342</td><td>36</td><td>681.9600</td><td>15</td><td>0.200</td></tr>",
                            "<tr><td>10342</td><td>55</td><td>387.0200</td><td>15</td><td>0.200</td></tr>",
                            "<tr><td>10343</td><td>64</td><td>1551.0200</td><td>14</td><td>0.000</td></tr>",
                            "<tr><td>10343</td><td>68</td><td>48.9900</td><td>3</td><td>0.050</td></tr>",
                            "<tr><td>10343</td><td>76</td><td>67.3200</td><td>6</td><td>0.000</td></tr>",
                            "<tr><td>10344</td><td>4</td><td>342.0100</td><td>14</td><td>0.000</td></tr>",
                            "<tr><td>10344</td><td>8</td><td>166.2100</td><td>7</td><td>0.250</td></tr>",
                            "<tr><td>10345</td><td>8</td><td>169.6400</td><td>12</td><td>0.000</td></tr>",
                            "<tr><td>10345</td><td>19</td><td>639.2300</td><td>6</td><td>0.000</td></tr>",
                            "<tr><td>10345</td><td>42</td><td>1033.0000</td><td>2</td><td>0.000</td></tr>",
                            "<tr><td>10346</td><td>17</td><td>386.0600</td><td>11</td><td>0.100</td></tr>",
                            "<tr><td>10346</td><td>56</td><td>1772.0900</td><td>4</td><td>0.000</td></tr>",
                            "<tr><td>10347</td><td>25</td><td>898.9900</td><td>3</td><td>0.000</td></tr>",
                            "<tr><td>10347</td><td>39</td><td>22.3100</td><td>3</td><td>0.150</td></tr>",
                            "<tr><td>10347</td><td>40</td><td>192.4100</td><td>2</td><td>0.000</td></tr>",
                            "<tr><td>10347</td><td>75</td><td>52.3700</td><td>11</td><td>0.150</td></tr>",
                            "<tr><td>10348</td><td>1</td><td>1273.0200</td><td>8</td><td>0.150</td></tr>",
                            "<tr><td>10348</td><td>23</td><td>336.9100</td><td>2</td><td>0.000</td></tr>",
                            "<tr><td>10349</td><td>54</td><td>641.4100</td><td>12</td><td>0.000</td></tr>",
                            "<tr><td>10350</td><td>50</td><td>96.0300</td><td>3</td><td>0.100</td></tr>",
                            "<tr><td>10350</td><td>69</td><td>326.3300</td><td>3</td><td>0.100</td></tr>",
                            "<tr><td>10351</td><td>38</td><td>325.9200</td><td>9</td><td>0.050</td></tr>",
                            "<tr><td>10351</td><td>41</td><td>132.2500</td><td>6</td><td>0.000</td></tr>",
                            "<tr><td>10351</td><td>44</td><td>555.8300</td><td>6</td><td>0.050</td></tr>",
                            "<tr><td>10351</td><td>65</td><td>179.1900</td><td>13</td><td>0.050</td></tr>",
                            "<tr><td>10352</td><td>24</td><td>979.9900</td><td>15</td><td>0.000</td></tr>",
                            "<tr><td>10352</td><td>54</td><td>654.6400</td><td>2</td><td>0.150</td></tr>",
                            "<tr><td>10353</td><td>11</td><td>625.6800</td><td>3</td><td>0.200</td></tr>",
                            "<tr><td>10353</td><td>38</td><td>336.1100</td><td>13</td><td>0.200</td></tr>",
                            "<tr><td>10354</td><td>1</td><td>1247.0400</td><td>3</td><td>0.000</td></tr>",
                            "<tr><td>10354</td><td>29</td><td>336.0000</td><td>5</td><td>0.000</td></tr>",
                            "<tr><td>10355</td><td>24</td><td>959.9900</td><td>15</td><td>0.000</td></tr>",
                            "<tr><td>10355</td><td>57</td><td>2040.8800</td><td>2</td><td>0.000</td></tr>",
                            "<tr><td>10356</td><td>31</td><td>157.4100</td><td>3</td><td>0.000</td></tr>",
                            "<tr><td>10356</td><td>55</td><td>395.0000</td><td>10</td><td>0.000</td></tr>",
                            "<tr><td>10356</td><td>69</td><td>326.3300</td><td>5</td><td>0.000</td></tr>",
                            "<tr><td>10357</td><td>10</td><td>747.8400</td><td>4</td><td>0.200</td></tr>",
                            "<tr><td>10357</td><td>26</td><td>2392.0000</td><td>12</td><td>0.000</td></tr>",
                            "<tr><td>10357</td><td>60</td><td>740.0300</td><td>4</td><td>0.200</td></tr>",
                            "<tr><td>10358</td><td>24</td><td>959.9900</td><td>8</td><td>0.050</td></tr>",
                            "<tr><td>10358</td><td>34</td><td>1499.0000</td><td>8</td><td>0.050</td></tr>",
                            "<tr><td>10358</td><td>36</td><td>688.8500</td><td>5</td><td>0.050</td></tr>",
                            "<tr><td>10359</td><td>16</td><td>555.8300</td><td>6</td><td>0.050</td></tr>",
                            "<tr><td>10359</td><td>31</td><td>157.4100</td><td>15</td><td>0.050</td></tr>",
                            "<tr><td>10359</td><td>60</td><td>732.5500</td><td>9</td><td>0.050</td></tr>",
                            "<tr><td>10360</td><td>28</td><td>31.6800</td><td>6</td><td>0.000</td></tr>",
                            "<tr><td>10360</td><td>29</td><td>350.0000</td><td>8</td><td>0.000</td></tr>",
                            "<tr><td>10360</td><td>38</td><td>325.9200</td><td>9</td><td>0.000</td></tr>",
                            "<tr><td>10360</td><td>49</td><td>325.6200</td><td>14</td><td>0.000</td></tr>",
                            "<tr><td>10360</td><td>54</td><td>661.2500</td><td>7</td><td>0.000</td></tr>",
                            "<tr><td>10361</td><td>39</td><td>23.0000</td><td>10</td><td>0.100</td></tr>",
                            "<tr><td>10361</td><td>60</td><td>717.6000</td><td>3</td><td>0.100</td></tr>",
                            "<tr><td>10362</td><td>25</td><td>898.9900</td><td>2</td><td>0.000</td></tr>",
                            "<tr><td>10362</td><td>51</td><td>44.0500</td><td>15</td><td>0.000</td></tr>",
                            "<tr><td>10362</td><td>54</td><td>641.4100</td><td>12</td><td>0.000</td></tr>",
                            "<tr><td>10363</td><td>31</td><td>154.2300</td><td>4</td><td>0.000</td></tr>",
                            "<tr><td>10363</td><td>75</td><td>51.8300</td><td>8</td><td>0.000</td></tr>",
                            "<tr><td>10363</td><td>76</td><td>65.9600</td><td>3</td><td>0.000</td></tr>",
                            "<tr><td>10364</td><td>69</td><td>323.0000</td><td>14</td><td>0.000</td></tr>",
                            "<tr><td>10364</td><td>71</td><td>404.9100</td><td>13</td><td>0.000</td></tr>",
                            "<tr><td>10365</td><td>11</td><td>625.6800</td><td>10</td><td>0.000</td></tr>",
                            "<tr><td>10366</td><td>65</td><td>182.8500</td><td>15</td><td>0.000</td></tr>",
                            "<tr><td>10366</td><td>77</td><td>127.5100</td><td>1</td><td>0.000</td></tr>",
                            "<tr><td>10367</td><td>34</td><td>1439.0400</td><td>7</td><td>0.000</td></tr>",
                            "<tr><td>10367</td><td>54</td><td>661.2500</td><td>15</td><td>0.000</td></tr>",
                            "<tr><td>10367</td><td>65</td><td>177.3600</td><td>7</td><td>0.000</td></tr>",
                            "<tr><td>10367</td><td>77</td><td>124.9400</td><td>13</td><td>0.000</td></tr>",
                            "<tr><td>10368</td><td>21</td><td>604.8000</td><td>2</td><td>0.100</td></tr>",
                            "<tr><td>10368</td><td>28</td><td>30.7200</td><td>6</td><td>0.100</td></tr>",
                            "<tr><td>10368</td><td>57</td><td>2104.0000</td><td>11</td><td>0.000</td></tr>",
                            "<tr><td>10368</td><td>64</td><td>1551.0200</td><td>3</td><td>0.100</td></tr>",
                            "<tr><td>10369</td><td>29</td><td>343.0000</td><td>3</td><td>0.000</td></tr>",
                            "<tr><td>10369</td><td>56</td><td>1736.2900</td><td>12</td><td>0.250</td></tr>",
                            "<tr><td>10370</td><td>1</td><td>1299.0000</td><td>11</td><td>0.150</td></tr>",
                            "<tr><td>10370</td><td>64</td><td>1567.0100</td><td>4</td><td>0.000</td></tr>",
                            "<tr><td>10370</td><td>74</td><td>33.4800</td><td>12</td><td>0.150</td></tr>",
                            "<tr><td>10371</td><td>36</td><td>668.1800</td><td>14</td><td>0.200</td></tr>",
                            "<tr><td>10372</td><td>20</td><td>583.1000</td><td>1</td><td>0.250</td></tr>",
                            "<tr><td>10372</td><td>38</td><td>329.3200</td><td>8</td><td>0.250</td></tr>",
                            "<tr><td>10372</td><td>60</td><td>747.5000</td><td>7</td><td>0.250</td></tr>",
                            "<tr><td>10372</td><td>72</td><td>95.0300</td><td>12</td><td>0.250</td></tr>",
                            "<tr><td>10373</td><td>58</td><td>98.0000</td><td>6</td><td>0.200</td></tr>",
                            "<tr><td>10373</td><td>71</td><td>400.8200</td><td>9</td><td>0.200</td></tr>",
                            "<tr><td>10374</td><td>31</td><td>154.2300</td><td>6</td><td>0.000</td></tr>",
                            "<tr><td>10374</td><td>58</td><td>96.0200</td><td>5</td><td>0.000</td></tr>",
                            "<tr><td>10375</td><td>14</td><td>22.3200</td><td>1</td><td>0.000</td></tr>",
                            "<tr><td>10375</td><td>54</td><td>641.4100</td><td>10</td><td>0.000</td></tr>",
                            "<tr><td>10376</td><td>31</td><td>155.8200</td><td>1</td><td>0.050</td></tr>",
                            "<tr><td>10377</td><td>28</td><td>31.3600</td><td>5</td><td>0.150</td></tr>",
                            "<tr><td>10377</td><td>39</td><td>22.3100</td><td>1</td><td>0.150</td></tr>",
                            "<tr><td>10378</td><td>71</td><td>392.6400</td><td>5</td><td>0.000</td></tr>",
                            "<tr><td>10379</td><td>41</td><td>128.2800</td><td>5</td><td>0.100</td></tr>",
                            "<tr><td>10379</td><td>63</td><td>1861.0200</td><td>11</td><td>0.100</td></tr>",
                            "<tr><td>10379</td><td>65</td><td>177.3600</td><td>12</td><td>0.100</td></tr>",
                            "<tr><td>10380</td><td>30</td><td>346.4400</td><td>6</td><td>0.100</td></tr>",
                            "<tr><td>10380</td><td>53</td><td>294.0000</td><td>1</td><td>0.100</td></tr>",
                            "<tr><td>10380</td><td>60</td><td>747.5000</td><td>9</td><td>0.100</td></tr>",
                            "<tr><td>10380</td><td>70</td><td>80.6400</td><td>6</td><td>0.000</td></tr>",
                            "<tr><td>10381</td><td>74</td><td>33.1400</td><td>4</td><td>0.000</td></tr>",
                            "<tr><td>10382</td><td>5</td><td>146.0200</td><td>9</td><td>0.000</td></tr>",
                            "<tr><td>10382</td><td>18</td><td>28.1800</td><td>3</td><td>0.000</td></tr>",
                            "<tr><td>10382</td><td>29</td><td>339.5000</td><td>6</td><td>0.000</td></tr>",
                            "<tr><td>10382</td><td>33</td><td>22.4800</td><td>9</td><td>0.000</td></tr>",
                            "<tr><td>10382</td><td>74</td><td>32.4700</td><td>14</td><td>0.000</td></tr>",
                            "<tr><td>10383</td><td>13</td><td>57.2300</td><td>6</td><td>0.000</td></tr>",
                            "<tr><td>10383</td><td>50</td><td>97.0200</td><td>3</td><td>0.000</td></tr>",
                            "<tr><td>10383</td><td>56</td><td>1789.9900</td><td>12</td><td>0.000</td></tr>",
                            "<tr><td>10384</td><td>20</td><td>583.1000</td><td>7</td><td>0.000</td></tr>",
                            "<tr><td>10384</td><td>60</td><td>717.6000</td><td>11</td><td>0.000</td></tr>",
                            "<tr><td>10385</td><td>7</td><td>39.0000</td><td>11</td><td>0.200</td></tr>",
                            "<tr><td>10385</td><td>60</td><td>747.5000</td><td>14</td><td>0.200</td></tr>",
                            "<tr><td>10385</td><td>68</td><td>49.9900</td><td>7</td><td>0.200</td></tr>",
                            "<tr><td>10386</td><td>24</td><td>959.9900</td><td>15</td><td>0.000</td></tr>",
                            "<tr><td>10386</td><td>34</td><td>1469.0200</td><td>6</td><td>0.000</td></tr>",
                            "<tr><td>10387</td><td>24</td><td>959.9900</td><td>14</td><td>0.000</td></tr>",
                            "<tr><td>10387</td><td>28</td><td>31.3600</td><td>12</td><td>0.000</td></tr>",
                            "<tr><td>10387</td><td>59</td><td>1383.2200</td><td>7</td><td>0.000</td></tr>",
                            "<tr><td>10387</td><td>71</td><td>396.7300</td><td>7</td><td>0.000</td></tr>",
                            "<tr><td>10388</td><td>45</td><td>248.4900</td><td>8</td><td>0.200</td></tr>",
                            "<tr><td>10388</td><td>52</td><td>417.4700</td><td>3</td><td>0.200</td></tr>",
                            "<tr><td>10388</td><td>53</td><td>300.0000</td><td>4</td><td>0.000</td></tr>",
                            "<tr><td>10389</td><td>10</td><td>779.0000</td><td>1</td><td>0.000</td></tr>",
                            "<tr><td>10389</td><td>55</td><td>398.9900</td><td>12</td><td>0.000</td></tr>",
                            "<tr><td>10389</td><td>62</td><td>67.8900</td><td>12</td><td>0.000</td></tr>",
                            "<tr><td>10389</td><td>70</td><td>80.6400</td><td>3</td><td>0.000</td></tr>",
                            "<tr><td>10390</td><td>31</td><td>157.4100</td><td>11</td><td>0.100</td></tr>",
                            "<tr><td>10390</td><td>35</td><td>69.0000</td><td>8</td><td>0.100</td></tr>",
                            "<tr><td>10390</td><td>46</td><td>73.2600</td><td>3</td><td>0.000</td></tr>",
                            "<tr><td>10390</td><td>72</td><td>98.0000</td><td>9</td><td>0.100</td></tr>",
                            "<tr><td>10391</td><td>13</td><td>59.0000</td><td>3</td><td>0.000</td></tr>",
                            "<tr><td>10392</td><td>69</td><td>323.0000</td><td>13</td><td>0.000</td></tr>",
                            "<tr><td>10393</td><td>2</td><td>1439.0400</td><td>6</td><td>0.250</td></tr>",
                            "<tr><td>10393</td><td>14</td><td>22.7900</td><td>8</td><td>0.250</td></tr>",
                            "<tr><td>10393</td><td>25</td><td>898.9900</td><td>13</td><td>0.250</td></tr>",
                            "<tr><td>10393</td><td>26</td><td>2416.9200</td><td>7</td><td>0.250</td></tr>",
                            "<tr><td>10393</td><td>31</td><td>154.2300</td><td>10</td><td>0.000</td></tr>",
                            "<tr><td>10394</td><td>13</td><td>59.0000</td><td>7</td><td>0.000</td></tr>",
                            "<tr><td>10394</td><td>62</td><td>67.1900</td><td>8</td><td>0.000</td></tr>",
                            "<tr><td>10395</td><td>46</td><td>74.0000</td><td>13</td><td>0.100</td></tr>",
                            "<tr><td>10395</td><td>53</td><td>294.0000</td><td>11</td><td>0.100</td></tr>",
                            "<tr><td>10395</td><td>69</td><td>323.0000</td><td>10</td><td>0.000</td></tr>",
                            "<tr><td>10396</td><td>23</td><td>347.4400</td><td>4</td><td>0.000</td></tr>",
                            "<tr><td>10396</td><td>71</td><td>400.8200</td><td>2</td><td>0.000</td></tr>",
                            "<tr><td>10396</td><td>72</td><td>95.0300</td><td>10</td><td>0.000</td></tr>",
                            "<tr><td>10397</td><td>21</td><td>617.2700</td><td>7</td><td>0.150</td></tr>",
                            "<tr><td>10397</td><td>51</td><td>43.1600</td><td>12</td><td>0.150</td></tr>",
                            "<tr><td>10398</td><td>35</td><td>67.6200</td><td>5</td><td>0.000</td></tr>",
                            "<tr><td>10398</td><td>55</td><td>398.9900</td><td>12</td><td>0.100</td></tr>",
                            "<tr><td>10399</td><td>68</td><td>49.4900</td><td>8</td><td>0.000</td></tr>",
                            "<tr><td>10399</td><td>71</td><td>400.8200</td><td>4</td><td>0.000</td></tr>",
                            "<tr><td>10399</td><td>76</td><td>67.3200</td><td>14</td><td>0.000</td></tr>",
                            "<tr><td>10399</td><td>77</td><td>128.8000</td><td>4</td><td>0.000</td></tr>",
                            "<tr><td>10400</td><td>29</td><td>346.5000</td><td>4</td><td>0.000</td></tr>",
                            "<tr><td>10400</td><td>35</td><td>66.2400</td><td>15</td><td>0.000</td></tr>",
                            "<tr><td>10400</td><td>49</td><td>315.8500</td><td>3</td><td>0.000</td></tr>",
                            "<tr><td>10401</td><td>30</td><td>335.9400</td><td>3</td><td>0.000</td></tr>",
                            "<tr><td>10401</td><td>56</td><td>1772.0900</td><td>9</td><td>0.000</td></tr>",
                            "<tr><td>10401</td><td>65</td><td>179.1900</td><td>10</td><td>0.000</td></tr>",
                            "<tr><td>10401</td><td>71</td><td>392.6400</td><td>3</td><td>0.000</td></tr>",
                            "<tr><td>10402</td><td>23</td><td>350.9500</td><td>10</td><td>0.000</td></tr>",
                            "<tr><td>10402</td><td>63</td><td>1842.0300</td><td>9</td><td>0.000</td></tr>",
                            "<tr><td>10403</td><td>16</td><td>555.8300</td><td>3</td><td>0.150</td></tr>",
                            "<tr><td>10403</td><td>48</td><td>1484.0100</td><td>1</td><td>0.150</td></tr>",
                            "<tr><td>10404</td><td>26</td><td>2416.9200</td><td>2</td><td>0.050</td></tr>",
                            "<tr><td>10404</td><td>42</td><td>991.6800</td><td>1</td><td>0.050</td></tr>",
                            "<tr><td>10404</td><td>49</td><td>325.6200</td><td>10</td><td>0.050</td></tr>",
                            "<tr><td>10405</td><td>3</td><td>775.0300</td><td>6</td><td>0.000</td></tr>",
                            "<tr><td>10406</td><td>1</td><td>1260.0300</td><td>14</td><td>0.000</td></tr>",
                            "<tr><td>10406</td><td>21</td><td>617.2700</td><td>7</td><td>0.100</td></tr>",
                            "<tr><td>10406</td><td>28</td><td>31.3600</td><td>4</td><td>0.100</td></tr>",
                            "<tr><td>10406</td><td>36</td><td>675.0700</td><td>9</td><td>0.100</td></tr>",
                            "<tr><td>10406</td><td>40</td><td>190.4600</td><td>6</td><td>0.100</td></tr>",
                            "<tr><td>10407</td><td>11</td><td>606.7200</td><td>1</td><td>0.000</td></tr>",
                            "<tr><td>10407</td><td>69</td><td>329.6600</td><td>5</td><td>0.000</td></tr>",
                            "<tr><td>10407</td><td>71</td><td>392.6400</td><td>13</td><td>0.000</td></tr>",
                            "<tr><td>10408</td><td>37</td><td>240.3500</td><td>1</td><td>0.000</td></tr>",
                            "<tr><td>10408</td><td>54</td><td>648.0300</td><td>3</td><td>0.000</td></tr>",
                            "<tr><td>10408</td><td>62</td><td>69.9900</td><td>13</td><td>0.000</td></tr>",
                            "<tr><td>10409</td><td>14</td><td>23.2500</td><td>3</td><td>0.000</td></tr>",
                            "<tr><td>10409</td><td>21</td><td>604.8000</td><td>10</td><td>0.000</td></tr>",
                            "<tr><td>10410</td><td>33</td><td>22.9400</td><td>14</td><td>0.000</td></tr>",
                            "<tr><td>10410</td><td>59</td><td>1368.9600</td><td>4</td><td>0.000</td></tr>",
                            "<tr><td>10411</td><td>41</td><td>126.9600</td><td>9</td><td>0.200</td></tr>",
                            "<tr><td>10411</td><td>44</td><td>561.6200</td><td>11</td><td>0.200</td></tr>",
                            "<tr><td>10411</td><td>59</td><td>1368.9600</td><td>3</td><td>0.200</td></tr>",
                            "<tr><td>10412</td><td>14</td><td>22.5500</td><td>12</td><td>0.100</td></tr>",
                            "<tr><td>10413</td><td>1</td><td>1299.0000</td><td>8</td><td>0.000</td></tr>",
                            "<tr><td>10413</td><td>62</td><td>69.9900</td><td>14</td><td>0.000</td></tr>",
                            "<tr><td>10413</td><td>76</td><td>65.9600</td><td>10</td><td>0.000</td></tr>",
                            "<tr><td>10414</td><td>19</td><td>652.4100</td><td>9</td><td>0.050</td></tr>",
                            "<tr><td>10414</td><td>33</td><td>22.4800</td><td>3</td><td>0.000</td></tr>",
                            "<tr><td>10415</td><td>17</td><td>390.0400</td><td>1</td><td>0.000</td></tr>",
                            "<tr><td>10415</td><td>33</td><td>22.9400</td><td>6</td><td>0.000</td></tr>",
                            "<tr><td>10416</td><td>19</td><td>632.6400</td><td>10</td><td>0.000</td></tr>",
                            "<tr><td>10416</td><td>53</td><td>294.0000</td><td>2</td><td>0.000</td></tr>",
                            "<tr><td>10416</td><td>57</td><td>2061.9200</td><td>13</td><td>0.000</td></tr>",
                            "<tr><td>10417</td><td>38</td><td>329.3200</td><td>4</td><td>0.000</td></tr>",
                            "<tr><td>10417</td><td>46</td><td>71.7600</td><td>6</td><td>0.250</td></tr>",
                            "<tr><td>10417</td><td>68</td><td>48.4900</td><td>4</td><td>0.250</td></tr>",
                            "<tr><td>10417</td><td>77</td><td>124.9400</td><td>7</td><td>0.000</td></tr>",
                            "<tr><td>10418</td><td>2</td><td>1499.0000</td><td>8</td><td>0.000</td></tr>",
                            "<tr><td>10418</td><td>47</td><td>949.4400</td><td>6</td><td>0.000</td></tr>",
                            "<tr><td>10418</td><td>61</td><td>147.9900</td><td>8</td><td>0.000</td></tr>",
                            "<tr><td>10418</td><td>74</td><td>32.4700</td><td>12</td><td>0.000</td></tr>",
                            "<tr><td>10419</td><td>60</td><td>747.5000</td><td>15</td><td>0.050</td></tr>",
                            "<tr><td>10419</td><td>69</td><td>323.0000</td><td>8</td><td>0.050</td></tr>",
                            "<tr><td>10420</td><td>9</td><td>495.0000</td><td>11</td><td>0.100</td></tr>",
                            "<tr><td>10420</td><td>13</td><td>57.2300</td><td>2</td><td>0.100</td></tr>",
                            "<tr><td>10420</td><td>70</td><td>82.3200</td><td>15</td><td>0.100</td></tr>",
                            "<tr><td>10420</td><td>73</td><td>189.1300</td><td>12</td><td>0.100</td></tr>",
                            "<tr><td>10421</td><td>19</td><td>652.4100</td><td>5</td><td>0.150</td></tr>",
                            "<tr><td>10421</td><td>26</td><td>2491.6700</td><td>12</td><td>0.000</td></tr>",
                            "<tr><td>10421</td><td>53</td><td>291.0000</td><td>8</td><td>0.150</td></tr>",
                            "<tr><td>10421</td><td>77</td><td>126.2200</td><td>15</td><td>0.150</td></tr>",
                            "<tr><td>10422</td><td>26</td><td>2466.7500</td><td>9</td><td>0.000</td></tr>",
                            "<tr><td>10423</td><td>31</td><td>152.6400</td><td>9</td><td>0.000</td></tr>",
                            "<tr><td>10423</td><td>59</td><td>1368.9600</td><td>11</td><td>0.000</td></tr>",
                            "<tr><td>10424</td><td>35</td><td>67.6200</td><td>1</td><td>0.200</td></tr>",
                            "<tr><td>10424</td><td>38</td><td>339.5000</td><td>6</td><td>0.200</td></tr>",
                            "<tr><td>10424</td><td>68</td><td>49.9900</td><td>15</td><td>0.200</td></tr>",
                            "<tr><td>10425</td><td>55</td><td>398.9900</td><td>13</td><td>0.250</td></tr>",
                            "<tr><td>10425</td><td>76</td><td>65.2800</td><td>15</td><td>0.250</td></tr>",
                            "<tr><td>10426</td><td>56</td><td>1772.0900</td><td>9</td><td>0.000</td></tr>",
                            "<tr><td>10426</td><td>64</td><td>1535.0300</td><td>6</td><td>0.000</td></tr>",
                            "<tr><td>10427</td><td>14</td><td>22.3200</td><td>6</td><td>0.000</td></tr>",
                            "<tr><td>10428</td><td>46</td><td>74.0000</td><td>2</td><td>0.000</td></tr>",
                            "<tr><td>10429</td><td>50</td><td>96.0300</td><td>6</td><td>0.000</td></tr>",
                            "<tr><td>10429</td><td>63</td><td>1899.0000</td><td>9</td><td>0.250</td></tr>",
                            "<tr><td>10430</td><td>17</td><td>390.0400</td><td>11</td><td>0.200</td></tr>",
                            "<tr><td>10430</td><td>21</td><td>604.8000</td><td>3</td><td>0.000</td></tr>",
                            "<tr><td>10430</td><td>56</td><td>1736.2900</td><td>13</td><td>0.000</td></tr>",
                            "<tr><td>10430</td><td>59</td><td>1383.2200</td><td>3</td><td>0.200</td></tr>",
                            "<tr><td>10431</td><td>17</td><td>386.0600</td><td>10</td><td>0.250</td></tr>",
                            "<tr><td>10431</td><td>40</td><td>192.4100</td><td>11</td><td>0.250</td></tr>",
                            "<tr><td>10431</td><td>47</td><td>969.2200</td><td>5</td><td>0.250</td></tr>",
                            "<tr><td>10432</td><td>26</td><td>2416.9200</td><td>9</td><td>0.000</td></tr>",
                            "<tr><td>10432</td><td>54</td><td>641.4100</td><td>4</td><td>0.000</td></tr>",
                            "<tr><td>10433</td><td>56</td><td>1718.3900</td><td>14</td><td>0.000</td></tr>",
                            "<tr><td>10434</td><td>11</td><td>619.3600</td><td>11</td><td>0.000</td></tr>",
                            "<tr><td>10434</td><td>76</td><td>66.6400</td><td>11</td><td>0.150</td></tr>",
                            "<tr><td>10435</td><td>2</td><td>1439.0400</td><td>11</td><td>0.000</td></tr>",
                            "<tr><td>10435</td><td>22</td><td>3669.1200</td><td>1</td><td>0.000</td></tr>",
                            "<tr><td>10435</td><td>72</td><td>95.0300</td><td>8</td><td>0.000</td></tr>",
                            "<tr><td>10436</td><td>46</td><td>74.7500</td><td>1</td><td>0.000</td></tr>",
                            "<tr><td>10436</td><td>56</td><td>1718.3900</td><td>1</td><td>0.100</td></tr>",
                            "<tr><td>10436</td><td>64</td><td>1583.0000</td><td>12</td><td>0.100</td></tr>",
                            "<tr><td>10436</td><td>75</td><td>53.9900</td><td>13</td><td>0.100</td></tr>",
                            "<tr><td>10437</td><td>53</td><td>300.0000</td><td>13</td><td>0.000</td></tr>",
                            "<tr><td>10438</td><td>19</td><td>632.6400</td><td>5</td><td>0.200</td></tr>",
                            "<tr><td>10438</td><td>34</td><td>1469.0200</td><td>3</td><td>0.200</td></tr>",
                            "<tr><td>10438</td><td>57</td><td>2019.8400</td><td>6</td><td>0.200</td></tr>",
                            "<tr><td>10439</td><td>12</td><td>440.6400</td><td>11</td><td>0.000</td></tr>",
                            "<tr><td>10439</td><td>16</td><td>567.4100</td><td>2</td><td>0.000</td></tr>",
                            "<tr><td>10439</td><td>64</td><td>1567.0100</td><td>3</td><td>0.000</td></tr>",
                            "<tr><td>10439</td><td>74</td><td>32.8100</td><td>7</td><td>0.000</td></tr>",
                            "<tr><td>10440</td><td>2</td><td>1439.0400</td><td>5</td><td>0.150</td></tr>",
                            "<tr><td>10440</td><td>16</td><td>567.4100</td><td>13</td><td>0.150</td></tr>",
                            "<tr><td>10440</td><td>29</td><td>350.0000</td><td>3</td><td>0.150</td></tr>",
                            "<tr><td>10440</td><td>61</td><td>145.0300</td><td>11</td><td>0.150</td></tr>",
                            "<tr><td>10441</td><td>27</td><td>249.0000</td><td>14</td><td>0.000</td></tr>",
                            "<tr><td>10442</td><td>11</td><td>613.0400</td><td>7</td><td>0.000</td></tr>",
                            "<tr><td>10442</td><td>54</td><td>641.4100</td><td>7</td><td>0.000</td></tr>",
                            "<tr><td>10442</td><td>66</td><td>76.7200</td><td>3</td><td>0.000</td></tr>",
                            "<tr><td>10443</td><td>11</td><td>606.7200</td><td>13</td><td>0.200</td></tr>",
                            "<tr><td>10443</td><td>28</td><td>31.3600</td><td>10</td><td>0.000</td></tr>",
                            "<tr><td>10444</td><td>17</td><td>386.0600</td><td>15</td><td>0.000</td></tr>",
                            "<tr><td>10444</td><td>26</td><td>2466.7500</td><td>13</td><td>0.000</td></tr>",
                            "<tr><td>10444</td><td>35</td><td>66.2400</td><td>10</td><td>0.000</td></tr>",
                            "<tr><td>10444</td><td>41</td><td>130.9300</td><td>10</td><td>0.000</td></tr>",
                            "<tr><td>10445</td><td>39</td><td>23.0000</td><td>15</td><td>0.000</td></tr>",
                            "<tr><td>10445</td><td>54</td><td>641.4100</td><td>3</td><td>0.000</td></tr>",
                            "<tr><td>10446</td><td>19</td><td>652.4100</td><td>13</td><td>0.100</td></tr>",
                            "<tr><td>10446</td><td>24</td><td>959.9900</td><td>6</td><td>0.100</td></tr>",
                            "<tr><td>10446</td><td>31</td><td>154.2300</td><td>3</td><td>0.100</td></tr>",
                            "<tr><td>10446</td><td>52</td><td>408.9500</td><td>5</td><td>0.100</td></tr>",
                            "<tr><td>10447</td><td>19</td><td>645.8200</td><td>7</td><td>0.000</td></tr>",
                            "<tr><td>10447</td><td>65</td><td>175.5400</td><td>11</td><td>0.000</td></tr>",
                            "<tr><td>10447</td><td>71</td><td>409.0000</td><td>3</td><td>0.000</td></tr>",
                            "<tr><td>10448</td><td>26</td><td>2491.6700</td><td>6</td><td>0.000</td></tr>",
                            "<tr><td>10448</td><td>40</td><td>194.3500</td><td>4</td><td>0.000</td></tr>",
                            "<tr><td>10449</td><td>10</td><td>779.0000</td><td>12</td><td>0.000</td></tr>",
                            "<tr><td>10449</td><td>52</td><td>408.9500</td><td>13</td><td>0.000</td></tr>",
                            "<tr><td>10449</td><td>62</td><td>68.5900</td><td>11</td><td>0.000</td></tr>",
                            "<tr><td>10450</td><td>10</td><td>763.4200</td><td>7</td><td>0.200</td></tr>",
                            "<tr><td>10450</td><td>54</td><td>634.8000</td><td>4</td><td>0.200</td></tr>",
                            "<tr><td>10451</td><td>55</td><td>391.0100</td><td>13</td><td>0.100</td></tr>",
                            "<tr><td>10451</td><td>64</td><td>1583.0000</td><td>6</td><td>0.100</td></tr>",
                            "<tr><td>10451</td><td>65</td><td>179.1900</td><td>4</td><td>0.100</td></tr>",
                            "<tr><td>10451</td><td>77</td><td>123.6500</td><td>14</td><td>0.100</td></tr>",
                            "<tr><td>10452</td><td>28</td><td>32.0000</td><td>6</td><td>0.000</td></tr>",
                            "<tr><td>10452</td><td>44</td><td>561.6200</td><td>11</td><td>0.050</td></tr>",
                            "<tr><td>10453</td><td>48</td><td>1454.0300</td><td>4</td><td>0.100</td></tr>",
                            "<tr><td>10453</td><td>70</td><td>80.6400</td><td>15</td><td>0.100</td></tr>",
                            "<tr><td>10454</td><td>16</td><td>561.6200</td><td>12</td><td>0.200</td></tr>",
                            "<tr><td>10454</td><td>33</td><td>22.9400</td><td>5</td><td>0.200</td></tr>",
                            "<tr><td>10454</td><td>46</td><td>72.5100</td><td>5</td><td>0.200</td></tr>",
                            "<tr><td>10455</td><td>39</td><td>22.7700</td><td>8</td><td>0.000</td></tr>",
                            "<tr><td>10455</td><td>53</td><td>297.0000</td><td>4</td><td>0.000</td></tr>",
                            "<tr><td>10455</td><td>61</td><td>146.5100</td><td>4</td><td>0.000</td></tr>",
                            "<tr><td>10455</td><td>71</td><td>400.8200</td><td>12</td><td>0.000</td></tr>",
                            "<tr><td>10456</td><td>21</td><td>598.5600</td><td>11</td><td>0.150</td></tr>",
                            "<tr><td>10456</td><td>49</td><td>315.8500</td><td>2</td><td>0.150</td></tr>",
                            "<tr><td>10457</td><td>59</td><td>1397.4800</td><td>14</td><td>0.000</td></tr>",
                            "<tr><td>10458</td><td>26</td><td>2491.6700</td><td>11</td><td>0.000</td></tr>",
                            "<tr><td>10458</td><td>28</td><td>30.7200</td><td>10</td><td>0.000</td></tr>",
                            "<tr><td>10458</td><td>43</td><td>82.5100</td><td>7</td><td>0.000</td></tr>",
                            "<tr><td>10458</td><td>56</td><td>1718.3900</td><td>13</td><td>0.000</td></tr>",
                            "<tr><td>10458</td><td>71</td><td>396.7300</td><td>15</td><td>0.000</td></tr>",
                            "<tr><td>10459</td><td>7</td><td>37.4400</td><td>2</td><td>0.050</td></tr>",
                            "<tr><td>10459</td><td>46</td><td>74.0000</td><td>4</td><td>0.050</td></tr>",
                            "<tr><td>10459</td><td>72</td><td>95.0300</td><td>4</td><td>0.000</td></tr>",
                            "<tr><td>10460</td><td>68</td><td>47.9900</td><td>12</td><td>0.250</td></tr>",
                            "<tr><td>10460</td><td>75</td><td>52.9100</td><td>12</td><td>0.250</td></tr>",
                            "<tr><td>10461</td><td>21</td><td>598.5600</td><td>8</td><td>0.250</td></tr>",
                            "<tr><td>10461</td><td>30</td><td>349.9400</td><td>5</td><td>0.250</td></tr>",
                            "<tr><td>10461</td><td>55</td><td>387.0200</td><td>14</td><td>0.250</td></tr>",
                            "<tr><td>10462</td><td>13</td><td>57.8200</td><td>14</td><td>0.000</td></tr>",
                            "<tr><td>10462</td><td>23</td><td>347.4400</td><td>5</td><td>0.000</td></tr>",
                            "<tr><td>10463</td><td>19</td><td>632.6400</td><td>3</td><td>0.000</td></tr>",
                            "<tr><td>10463</td><td>42</td><td>1012.3400</td><td>14</td><td>0.000</td></tr>",
                            "<tr><td>10464</td><td>4</td><td>335.0300</td><td>9</td><td>0.200</td></tr>",
                            "<tr><td>10464</td><td>43</td><td>84.2300</td><td>9</td><td>0.000</td></tr>",
                            "<tr><td>10464</td><td>56</td><td>1736.2900</td><td>8</td><td>0.200</td></tr>",
                            "<tr><td>10464</td><td>60</td><td>717.6000</td><td>6</td><td>0.000</td></tr>",
                            "<tr><td>10465</td><td>24</td><td>959.9900</td><td>5</td><td>0.000</td></tr>",
                            "<tr><td>10465</td><td>29</td><td>350.0000</td><td>10</td><td>0.100</td></tr>",
                            "<tr><td>10465</td><td>40</td><td>186.5800</td><td>9</td><td>0.000</td></tr>",
                            "<tr><td>10465</td><td>45</td><td>251.0000</td><td>3</td><td>0.100</td></tr>",
                            "<tr><td>10465</td><td>50</td><td>99.0000</td><td>9</td><td>0.000</td></tr>",
                            "<tr><td>10466</td><td>11</td><td>606.7200</td><td>14</td><td>0.000</td></tr>",
                            "<tr><td>10466</td><td>46</td><td>74.7500</td><td>3</td><td>0.000</td></tr>",
                            "<tr><td>10467</td><td>24</td><td>969.9900</td><td>1</td><td>0.000</td></tr>",
                            "<tr><td>10467</td><td>25</td><td>898.9900</td><td>14</td><td>0.000</td></tr>",
                            "<tr><td>10468</td><td>30</td><td>349.9400</td><td>15</td><td>0.000</td></tr>",
                            "<tr><td>10468</td><td>43</td><td>84.2300</td><td>12</td><td>0.000</td></tr>",
                            "<tr><td>10469</td><td>2</td><td>1439.0400</td><td>11</td><td>0.150</td></tr>",
                            "<tr><td>10469</td><td>16</td><td>573.2000</td><td>13</td><td>0.150</td></tr>",
                            "<tr><td>10469</td><td>44</td><td>573.2000</td><td>2</td><td>0.150</td></tr>",
                            "<tr><td>10470</td><td>18</td><td>27.8900</td><td>9</td><td>0.000</td></tr>",
                            "<tr><td>10470</td><td>23</td><td>347.4400</td><td>1</td><td>0.000</td></tr>",
                            "<tr><td>10470</td><td>64</td><td>1551.0200</td><td>12</td><td>0.000</td></tr>",
                            "<tr><td>10471</td><td>7</td><td>39.0000</td><td>6</td><td>0.000</td></tr>",
                            "<tr><td>10471</td><td>56</td><td>1718.3900</td><td>9</td><td>0.000</td></tr>",
                            "<tr><td>10472</td><td>24</td><td>969.9900</td><td>4</td><td>0.050</td></tr>",
                            "<tr><td>10472</td><td>51</td><td>44.0500</td><td>2</td><td>0.000</td></tr>",
                            "<tr><td>10473</td><td>33</td><td>22.7100</td><td>10</td><td>0.000</td></tr>",
                            "<tr><td>10473</td><td>71</td><td>409.0000</td><td>1</td><td>0.000</td></tr>",
                            "<tr><td>10474</td><td>14</td><td>23.0200</td><td>6</td><td>0.000</td></tr>",
                            "<tr><td>10474</td><td>28</td><td>32.0000</td><td>5</td><td>0.000</td></tr>",
                            "<tr><td>10474</td><td>40</td><td>188.5200</td><td>11</td><td>0.000</td></tr>",
                            "<tr><td>10474</td><td>75</td><td>53.9900</td><td>14</td><td>0.000</td></tr>",
                            "<tr><td>10475</td><td>31</td><td>154.2300</td><td>7</td><td>0.150</td></tr>",
                            "<tr><td>10475</td><td>66</td><td>76.7200</td><td>10</td><td>0.150</td></tr>",
                            "<tr><td>10475</td><td>76</td><td>66.6400</td><td>3</td><td>0.150</td></tr>",
                            "<tr><td>10476</td><td>55</td><td>398.9900</td><td>8</td><td>0.050</td></tr>",
                            "<tr><td>10476</td><td>70</td><td>82.3200</td><td>3</td><td>0.000</td></tr>",
                            "<tr><td>10477</td><td>1</td><td>1299.0000</td><td>13</td><td>0.000</td></tr>",
                            "<tr><td>10477</td><td>21</td><td>598.5600</td><td>7</td><td>0.250</td></tr>",
                            "<tr><td>10477</td><td>39</td><td>22.3100</td><td>11</td><td>0.250</td></tr>",
                            "<tr><td>10478</td><td>10</td><td>755.6300</td><td>9</td><td>0.050</td></tr>",
                            "<tr><td>10479</td><td>38</td><td>336.1100</td><td>13</td><td>0.000</td></tr>",
                            "<tr><td>10479</td><td>53</td><td>297.0000</td><td>6</td><td>0.000</td></tr>",
                            "<tr><td>10479</td><td>59</td><td>1397.4800</td><td>8</td><td>0.000</td></tr>",
                            "<tr><td>10479</td><td>64</td><td>1567.0100</td><td>4</td><td>0.000</td></tr>",
                            "<tr><td>10480</td><td>47</td><td>949.4400</td><td>13</td><td>0.000</td></tr>",
                            "<tr><td>10480</td><td>59</td><td>1368.9600</td><td>7</td><td>0.000</td></tr>",
                            "<tr><td>10481</td><td>49</td><td>315.8500</td><td>7</td><td>0.000</td></tr>",
                            "<tr><td>10481</td><td>60</td><td>717.6000</td><td>14</td><td>0.000</td></tr>",
                            "<tr><td>10482</td><td>40</td><td>190.4600</td><td>10</td><td>0.000</td></tr>",
                            "<tr><td>10483</td><td>34</td><td>1484.0100</td><td>5</td><td>0.050</td></tr>",
                            "<tr><td>10483</td><td>77</td><td>124.9400</td><td>2</td><td>0.050</td></tr>",
                            "<tr><td>10484</td><td>21</td><td>611.0300</td><td>9</td><td>0.000</td></tr>",
                            "<tr><td>10484</td><td>40</td><td>190.4600</td><td>9</td><td>0.000</td></tr>",
                            "<tr><td>10484</td><td>51</td><td>44.0500</td><td>2</td><td>0.000</td></tr>",
                            "<tr><td>10485</td><td>2</td><td>1484.0100</td><td>10</td><td>0.100</td></tr>",
                            "<tr><td>10485</td><td>3</td><td>767.0400</td><td>9</td><td>0.100</td></tr>",
                            "<tr><td>10485</td><td>55</td><td>387.0200</td><td>11</td><td>0.100</td></tr>",
                            "<tr><td>10485</td><td>70</td><td>84.0000</td><td>15</td><td>0.100</td></tr>",
                            "<tr><td>10486</td><td>11</td><td>632.0000</td><td>3</td><td>0.000</td></tr>",
                            "<tr><td>10486</td><td>51</td><td>44.4900</td><td>10</td><td>0.000</td></tr>",
                            "<tr><td>10486</td><td>74</td><td>33.1400</td><td>12</td><td>0.000</td></tr>",
                            "<tr><td>10487</td><td>19</td><td>639.2300</td><td>15</td><td>0.000</td></tr>",
                            "<tr><td>10487</td><td>26</td><td>2491.6700</td><td>11</td><td>0.000</td></tr>",
                            "<tr><td>10487</td><td>54</td><td>661.2500</td><td>6</td><td>0.250</td></tr>",
                            "<tr><td>10488</td><td>59</td><td>1426.0000</td><td>4</td><td>0.000</td></tr>",
                            "<tr><td>10488</td><td>73</td><td>191.0600</td><td>9</td><td>0.200</td></tr>",
                            "<tr><td>10489</td><td>11</td><td>619.3600</td><td>5</td><td>0.250</td></tr>",
                            "<tr><td>10489</td><td>16</td><td>561.6200</td><td>3</td><td>0.000</td></tr>",
                            "<tr><td>10490</td><td>59</td><td>1397.4800</td><td>13</td><td>0.000</td></tr>",
                            "<tr><td>10490</td><td>68</td><td>48.4900</td><td>4</td><td>0.000</td></tr>",
                            "<tr><td>10490</td><td>75</td><td>52.9100</td><td>4</td><td>0.000</td></tr>",
                            "<tr><td>10491</td><td>44</td><td>578.9900</td><td>14</td><td>0.150</td></tr>",
                            "<tr><td>10491</td><td>77</td><td>124.9400</td><td>6</td><td>0.150</td></tr>",
                            "<tr><td>10492</td><td>25</td><td>898.9900</td><td>8</td><td>0.050</td></tr>",
                            "<tr><td>10492</td><td>42</td><td>991.6800</td><td>8</td><td>0.050</td></tr>",
                            "<tr><td>10493</td><td>65</td><td>182.8500</td><td>13</td><td>0.100</td></tr>",
                            "<tr><td>10493</td><td>66</td><td>76.7200</td><td>12</td><td>0.100</td></tr>",
                            "<tr><td>10493</td><td>69</td><td>319.6700</td><td>3</td><td>0.100</td></tr>",
                            "<tr><td>10494</td><td>56</td><td>1789.9900</td><td>8</td><td>0.000</td></tr>",
                            "<tr><td>10495</td><td>23</td><td>347.4400</td><td>15</td><td>0.000</td></tr>",
                            "<tr><td>10495</td><td>41</td><td>126.9600</td><td>9</td><td>0.000</td></tr>",
                            "<tr><td>10495</td><td>77</td><td>127.5100</td><td>7</td><td>0.000</td></tr>",
                            "<tr><td>10496</td><td>31</td><td>152.6400</td><td>13</td><td>0.050</td></tr>",
                            "<tr><td>10497</td><td>56</td><td>1736.2900</td><td>8</td><td>0.000</td></tr>",
                            "<tr><td>10497</td><td>72</td><td>97.0100</td><td>14</td><td>0.000</td></tr>",
                            "<tr><td>10497</td><td>77</td><td>127.5100</td><td>5</td><td>0.000</td></tr>",
                            "<tr><td>10498</td><td>24</td><td>989.9900</td><td>9</td><td>0.000</td></tr>",
                            "<tr><td>10498</td><td>40</td><td>188.5200</td><td>3</td><td>0.000</td></tr>",
                            "<tr><td>10498</td><td>42</td><td>1033.0000</td><td>1</td><td>0.000</td></tr>",
                            "<tr><td>10499</td><td>28</td><td>31.6800</td><td>11</td><td>0.000</td></tr>",
                            "<tr><td>10499</td><td>49</td><td>319.1100</td><td>3</td><td>0.000</td></tr>",
                            "<tr><td>10500</td><td>15</td><td>278.9900</td><td>6</td><td>0.050</td></tr>",
                            "<tr><td>10500</td><td>28</td><td>31.6800</td><td>14</td><td>0.050</td></tr>",
                            "<tr><td>10501</td><td>54</td><td>661.2500</td><td>1</td><td>0.000</td></tr>",
                            "<tr><td>10502</td><td>45</td><td>245.9800</td><td>4</td><td>0.000</td></tr>",
                            "<tr><td>10502</td><td>53</td><td>297.0000</td><td>9</td><td>0.000</td></tr>",
                            "<tr><td>10502</td><td>67</td><td>19.8000</td><td>8</td><td>0.000</td></tr>",
                            "<tr><td>10503</td><td>14</td><td>22.5500</td><td>14</td><td>0.000</td></tr>",
                            "<tr><td>10503</td><td>65</td><td>177.3600</td><td>5</td><td>0.000</td></tr>",
                            "<tr><td>10504</td><td>2</td><td>1439.0400</td><td>6</td><td>0.000</td></tr>",
                            "<tr><td>10504</td><td>21</td><td>598.5600</td><td>2</td><td>0.000</td></tr>",
                            "<tr><td>10504</td><td>53</td><td>288.0000</td><td>1</td><td>0.000</td></tr>",
                            "<tr><td>10504</td><td>61</td><td>145.0300</td><td>6</td><td>0.000</td></tr>",
                            "<tr><td>10505</td><td>62</td><td>69.9900</td><td>12</td><td>0.000</td></tr>",
                            "<tr><td>10506</td><td>25</td><td>898.9900</td><td>6</td><td>0.100</td></tr>",
                            "<tr><td>10506</td><td>70</td><td>81.4800</td><td>3</td><td>0.100</td></tr>",
                            "<tr><td>10507</td><td>43</td><td>82.5100</td><td>8</td><td>0.150</td></tr>",
                            "<tr><td>10507</td><td>48</td><td>1454.0300</td><td>15</td><td>0.150</td></tr>",
                            "<tr><td>10508</td><td>13</td><td>57.2300</td><td>13</td><td>0.000</td></tr>",
                            "<tr><td>10508</td><td>39</td><td>22.3100</td><td>12</td><td>0.000</td></tr>",
                            "<tr><td>10509</td><td>28</td><td>30.7200</td><td>4</td><td>0.000</td></tr>",
                            "<tr><td>10510</td><td>29</td><td>339.5000</td><td>3</td><td>0.000</td></tr>",
                            "<tr><td>10510</td><td>75</td><td>52.9100</td><td>14</td><td>0.100</td></tr>",
                            "<tr><td>10511</td><td>4</td><td>338.5200</td><td>1</td><td>0.150</td></tr>",
                            "<tr><td>10511</td><td>7</td><td>37.8300</td><td>4</td><td>0.150</td></tr>",
                            "<tr><td>10511</td><td>8</td><td>167.9200</td><td>12</td><td>0.150</td></tr>",
                            "<tr><td>10512</td><td>24</td><td>989.9900</td><td>2</td><td>0.150</td></tr>",
                            "<tr><td>10512</td><td>46</td><td>72.5100</td><td>15</td><td>0.150</td></tr>",
                            "<tr><td>10512</td><td>47</td><td>949.4400</td><td>4</td><td>0.150</td></tr>",
                            "<tr><td>10512</td><td>60</td><td>732.5500</td><td>2</td><td>0.150</td></tr>",
                            "<tr><td>10513</td><td>21</td><td>617.2700</td><td>1</td><td>0.200</td></tr>",
                            "<tr><td>10513</td><td>32</td><td>251.2200</td><td>1</td><td>0.200</td></tr>",
                            "<tr><td>10513</td><td>61</td><td>146.5100</td><td>7</td><td>0.200</td></tr>",
                            "<tr><td>10514</td><td>20</td><td>595.0000</td><td>6</td><td>0.000</td></tr>",
                            "<tr><td>10514</td><td>28</td><td>31.6800</td><td>15</td><td>0.000</td></tr>",
                            "<tr><td>10514</td><td>56</td><td>1772.0900</td><td>5</td><td>0.000</td></tr>",
                            "<tr><td>10514</td><td>65</td><td>177.3600</td><td>10</td><td>0.000</td></tr>",
                            "<tr><td>10514</td><td>75</td><td>51.8300</td><td>14</td><td>0.000</td></tr>",
                            "<tr><td>10515</td><td>9</td><td>490.0500</td><td>12</td><td>0.150</td></tr>",
                            "<tr><td>10515</td><td>16</td><td>555.8300</td><td>9</td><td>0.000</td></tr>",
                            "<tr><td>10515</td><td>27</td><td>249.0000</td><td>4</td><td>0.000</td></tr>",
                            "<tr><td>10515</td><td>33</td><td>22.9400</td><td>12</td><td>0.150</td></tr>",
                            "<tr><td>10515</td><td>60</td><td>740.0300</td><td>2</td><td>0.150</td></tr>",
                            "<tr><td>10516</td><td>18</td><td>27.6000</td><td>15</td><td>0.100</td></tr>",
                            "<tr><td>10516</td><td>41</td><td>130.9300</td><td>15</td><td>0.100</td></tr>",
                            "<tr><td>10516</td><td>42</td><td>1022.6700</td><td>15</td><td>0.000</td></tr>",
                            "<tr><td>10517</td><td>52</td><td>408.9500</td><td>1</td><td>0.000</td></tr>",
                            "<tr><td>10517</td><td>59</td><td>1383.2200</td><td>7</td><td>0.000</td></tr>",
                            "<tr><td>10517</td><td>70</td><td>84.0000</td><td>15</td><td>0.000</td></tr>",
                            "<tr><td>10518</td><td>24</td><td>989.9900</td><td>14</td><td>0.000</td></tr>",
                            "<tr><td>10518</td><td>38</td><td>339.5000</td><td>12</td><td>0.000</td></tr>",
                            "<tr><td>10518</td><td>44</td><td>567.4100</td><td>14</td><td>0.000</td></tr>",
                            "<tr><td>10519</td><td>10</td><td>779.0000</td><td>11</td><td>0.050</td></tr>",
                            "<tr><td>10519</td><td>56</td><td>1772.0900</td><td>6</td><td>0.000</td></tr>",
                            "<tr><td>10519</td><td>60</td><td>747.5000</td><td>14</td><td>0.050</td></tr>",
                            "<tr><td>10520</td><td>24</td><td>999.9900</td><td>10</td><td>0.000</td></tr>",
                            "<tr><td>10520</td><td>53</td><td>297.0000</td><td>6</td><td>0.000</td></tr>",
                            "<tr><td>10521</td><td>35</td><td>68.3100</td><td>1</td><td>0.000</td></tr>",
                            "<tr><td>10521</td><td>41</td><td>132.2500</td><td>9</td><td>0.000</td></tr>",
                            "<tr><td>10521</td><td>68</td><td>48.9900</td><td>7</td><td>0.000</td></tr>",
                            "<tr><td>10522</td><td>1</td><td>1247.0400</td><td>5</td><td>0.200</td></tr>",
                            "<tr><td>10522</td><td>8</td><td>164.5000</td><td>8</td><td>0.000</td></tr>",
                            "<tr><td>10522</td><td>30</td><td>339.4400</td><td>14</td><td>0.200</td></tr>",
                            "<tr><td>10522</td><td>40</td><td>192.4100</td><td>10</td><td>0.200</td></tr>",
                            "<tr><td>10523</td><td>17</td><td>386.0600</td><td>3</td><td>0.100</td></tr>",
                            "<tr><td>10523</td><td>20</td><td>589.0500</td><td>14</td><td>0.100</td></tr>",
                            "<tr><td>10523</td><td>37</td><td>240.3500</td><td>10</td><td>0.100</td></tr>",
                            "<tr><td>10523</td><td>41</td><td>132.2500</td><td>2</td><td>0.100</td></tr>",
                            "<tr><td>10524</td><td>10</td><td>771.2100</td><td>11</td><td>0.000</td></tr>",
                            "<tr><td>10524</td><td>30</td><td>339.4400</td><td>11</td><td>0.000</td></tr>",
                            "<tr><td>10524</td><td>43</td><td>84.2300</td><td>1</td><td>0.000</td></tr>",
                            "<tr><td>10524</td><td>54</td><td>641.4100</td><td>14</td><td>0.000</td></tr>",
                            "<tr><td>10525</td><td>36</td><td>681.9600</td><td>4</td><td>0.000</td></tr>",
                            "<tr><td>10525</td><td>40</td><td>186.5800</td><td>9</td><td>0.100</td></tr>",
                            "<tr><td>10526</td><td>1</td><td>1247.0400</td><td>1</td><td>0.150</td></tr>",
                            "<tr><td>10526</td><td>13</td><td>58.4100</td><td>3</td><td>0.000</td></tr>",
                            "<tr><td>10526</td><td>56</td><td>1772.0900</td><td>6</td><td>0.150</td></tr>",
                            "<tr><td>10527</td><td>4</td><td>335.0300</td><td>4</td><td>0.100</td></tr>",
                            "<tr><td>10527</td><td>36</td><td>661.3000</td><td>15</td><td>0.100</td></tr>",
                            "<tr><td>10528</td><td>11</td><td>606.7200</td><td>2</td><td>0.000</td></tr>",
                            "<tr><td>10528</td><td>33</td><td>22.7100</td><td>4</td><td>0.200</td></tr>",
                            "<tr><td>10528</td><td>72</td><td>98.9900</td><td>4</td><td>0.000</td></tr>",
                            "<tr><td>10529</td><td>55</td><td>391.0100</td><td>6</td><td>0.000</td></tr>",
                            "<tr><td>10529</td><td>68</td><td>49.9900</td><td>9</td><td>0.000</td></tr>",
                            "<tr><td>10529</td><td>69</td><td>329.6600</td><td>1</td><td>0.000</td></tr>",
                            "<tr><td>10530</td><td>17</td><td>390.0400</td><td>2</td><td>0.000</td></tr>",
                            "<tr><td>10530</td><td>43</td><td>85.0900</td><td>10</td><td>0.000</td></tr>",
                            "<tr><td>10530</td><td>61</td><td>142.0700</td><td>5</td><td>0.000</td></tr>",
                            "<tr><td>10530</td><td>76</td><td>66.6400</td><td>1</td><td>0.000</td></tr>",
                            "<tr><td>10531</td><td>59</td><td>1383.2200</td><td>14</td><td>0.000</td></tr>",
                            "<tr><td>10532</td><td>30</td><td>349.9400</td><td>5</td><td>0.000</td></tr>",
                            "<tr><td>10532</td><td>66</td><td>77.5200</td><td>2</td><td>0.000</td></tr>",
                            "<tr><td>10533</td><td>4</td><td>338.5200</td><td>13</td><td>0.050</td></tr>",
                            "<tr><td>10533</td><td>72</td><td>97.0100</td><td>9</td><td>0.000</td></tr>",
                            "<tr><td>10533</td><td>73</td><td>191.0600</td><td>5</td><td>0.050</td></tr>",
                            "<tr><td>10534</td><td>30</td><td>339.4400</td><td>8</td><td>0.000</td></tr>",
                            "<tr><td>10534</td><td>40</td><td>186.5800</td><td>5</td><td>0.200</td></tr>",
                            "<tr><td>10534</td><td>54</td><td>641.4100</td><td>14</td><td>0.200</td></tr>",
                            "<tr><td>10535</td><td>11</td><td>606.7200</td><td>7</td><td>0.100</td></tr>",
                            "<tr><td>10535</td><td>40</td><td>192.4100</td><td>3</td><td>0.100</td></tr>",
                            "<tr><td>10535</td><td>57</td><td>2104.0000</td><td>15</td><td>0.100</td></tr>",
                            "<tr><td>10535</td><td>59</td><td>1383.2200</td><td>8</td><td>0.100</td></tr>",
                            "<tr><td>10536</td><td>12</td><td>440.6400</td><td>1</td><td>0.250</td></tr>",
                            "<tr><td>10536</td><td>31</td><td>154.2300</td><td>12</td><td>0.000</td></tr>",
                            "<tr><td>10536</td><td>33</td><td>22.9400</td><td>8</td><td>0.000</td></tr>",
                            "<tr><td>10536</td><td>60</td><td>717.6000</td><td>10</td><td>0.250</td></tr>",
                            "<tr><td>10537</td><td>31</td><td>152.6400</td><td>8</td><td>0.000</td></tr>",
                            "<tr><td>10537</td><td>51</td><td>44.0500</td><td>7</td><td>0.000</td></tr>",
                            "<tr><td>10537</td><td>58</td><td>96.0200</td><td>8</td><td>0.000</td></tr>",
                            "<tr><td>10537</td><td>72</td><td>95.0300</td><td>1</td><td>0.000</td></tr>",
                            "<tr><td>10537</td><td>73</td><td>189.1300</td><td>14</td><td>0.000</td></tr>",
                            "<tr><td>10538</td><td>70</td><td>84.0000</td><td>5</td><td>0.000</td></tr>",
                            "<tr><td>10538</td><td>72</td><td>98.9900</td><td>13</td><td>0.000</td></tr>",
                            "<tr><td>10539</td><td>13</td><td>57.8200</td><td>13</td><td>0.000</td></tr>",
                            "<tr><td>10539</td><td>21</td><td>617.2700</td><td>2</td><td>0.000</td></tr>",
                            "<tr><td>10539</td><td>33</td><td>22.2500</td><td>12</td><td>0.000</td></tr>",
                            "<tr><td>10539</td><td>49</td><td>322.3600</td><td>9</td><td>0.000</td></tr>",
                            "<tr><td>10540</td><td>3</td><td>767.0400</td><td>7</td><td>0.000</td></tr>",
                            "<tr><td>10540</td><td>26</td><td>2466.7500</td><td>1</td><td>0.000</td></tr>",
                            "<tr><td>10540</td><td>38</td><td>339.5000</td><td>12</td><td>0.000</td></tr>",
                            "<tr><td>10540</td><td>68</td><td>47.9900</td><td>1</td><td>0.000</td></tr>",
                            "<tr><td>10541</td><td>24</td><td>959.9900</td><td>8</td><td>0.100</td></tr>",
                            "<tr><td>10541</td><td>38</td><td>339.5000</td><td>4</td><td>0.100</td></tr>",
                            "<tr><td>10541</td><td>65</td><td>179.1900</td><td>14</td><td>0.100</td></tr>",
                            "<tr><td>10541</td><td>71</td><td>396.7300</td><td>3</td><td>0.100</td></tr>",
                            "<tr><td>10542</td><td>11</td><td>613.0400</td><td>8</td><td>0.050</td></tr>",
                            "<tr><td>10542</td><td>54</td><td>634.8000</td><td>8</td><td>0.050</td></tr>",
                            "<tr><td>10543</td><td>12</td><td>454.4100</td><td>4</td><td>0.150</td></tr>",
                            "<tr><td>10543</td><td>23</td><td>347.4400</td><td>9</td><td>0.150</td></tr>",
                            "<tr><td>10544</td><td>28</td><td>32.0000</td><td>2</td><td>0.000</td></tr>",
                            "<tr><td>10544</td><td>67</td><td>19.4000</td><td>14</td><td>0.000</td></tr>",
                            "<tr><td>10545</td><td>11</td><td>632.0000</td><td>4</td><td>0.000</td></tr>",
                            "<tr><td>10546</td><td>7</td><td>38.2200</td><td>2</td><td>0.000</td></tr>",
                            "<tr><td>10546</td><td>35</td><td>69.0000</td><td>2</td><td>0.000</td></tr>",
                            "<tr><td>10546</td><td>62</td><td>69.9900</td><td>15</td><td>0.000</td></tr>",
                            "<tr><td>10547</td><td>32</td><td>248.6300</td><td>7</td><td>0.150</td></tr>",
                            "<tr><td>10547</td><td>36</td><td>675.0700</td><td>6</td><td>0.000</td></tr>",
                            "<tr><td>10548</td><td>34</td><td>1484.0100</td><td>11</td><td>0.250</td></tr>",
                            "<tr><td>10548</td><td>41</td><td>128.2800</td><td>13</td><td>0.000</td></tr>",
                            "<tr><td>10549</td><td>31</td><td>159.0000</td><td>8</td><td>0.150</td></tr>",
                            "<tr><td>10549</td><td>45</td><td>251.0000</td><td>15</td><td>0.150</td></tr>",
                            "<tr><td>10549</td><td>51</td><td>44.4900</td><td>3</td><td>0.150</td></tr>",
                            "<tr><td>10550</td><td>17</td><td>390.0400</td><td>3</td><td>0.100</td></tr>",
                            "<tr><td>10550</td><td>19</td><td>652.4100</td><td>3</td><td>0.000</td></tr>",
                            "<tr><td>10550</td><td>21</td><td>611.0300</td><td>3</td><td>0.100</td></tr>",
                            "<tr><td>10550</td><td>61</td><td>142.0700</td><td>3</td><td>0.100</td></tr>",
                            "<tr><td>10551</td><td>16</td><td>561.6200</td><td>9</td><td>0.150</td></tr>",
                            "<tr><td>10551</td><td>35</td><td>68.3100</td><td>8</td><td>0.150</td></tr>",
                            "<tr><td>10551</td><td>44</td><td>578.9900</td><td>2</td><td>0.000</td></tr>",
                            "<tr><td>10552</td><td>69</td><td>323.0000</td><td>6</td><td>0.000</td></tr>",
                            "<tr><td>10552</td><td>75</td><td>52.9100</td><td>3</td><td>0.000</td></tr>",
                            "<tr><td>10553</td><td>11</td><td>619.3600</td><td>5</td><td>0.000</td></tr>",
                            "<tr><td>10553</td><td>16</td><td>573.2000</td><td>2</td><td>0.000</td></tr>",
                            "<tr><td>10553</td><td>22</td><td>3669.1200</td><td>13</td><td>0.000</td></tr>",
                            "<tr><td>10553</td><td>31</td><td>152.6400</td><td>1</td><td>0.000</td></tr>",
                            "<tr><td>10553</td><td>35</td><td>66.9300</td><td>12</td><td>0.000</td></tr>",
                            "<tr><td>10554</td><td>16</td><td>578.9900</td><td>15</td><td>0.050</td></tr>",
                            "<tr><td>10554</td><td>23</td><td>347.4400</td><td>14</td><td>0.050</td></tr>",
                            "<tr><td>10554</td><td>62</td><td>69.9900</td><td>6</td><td>0.050</td></tr>",
                            "<tr><td>10554</td><td>77</td><td>126.2200</td><td>9</td><td>0.050</td></tr>",
                            "<tr><td>10555</td><td>14</td><td>23.2500</td><td>1</td><td>0.200</td></tr>",
                            "<tr><td>10555</td><td>19</td><td>639.2300</td><td>12</td><td>0.200</td></tr>",
                            "<tr><td>10555</td><td>24</td><td>999.9900</td><td>9</td><td>0.200</td></tr>",
                            "<tr><td>10555</td><td>51</td><td>43.6000</td><td>8</td><td>0.200</td></tr>",
                            "<tr><td>10555</td><td>56</td><td>1772.0900</td><td>12</td><td>0.200</td></tr>",
                            "<tr><td>10556</td><td>72</td><td>98.9900</td><td>13</td><td>0.000</td></tr>",
                            "<tr><td>10557</td><td>64</td><td>1535.0300</td><td>9</td><td>0.000</td></tr>",
                            "<tr><td>10557</td><td>75</td><td>52.9100</td><td>11</td><td>0.000</td></tr>",
                            "<tr><td>10558</td><td>47</td><td>989.0000</td><td>14</td><td>0.000</td></tr>",
                            "<tr><td>10558</td><td>51</td><td>43.1600</td><td>4</td><td>0.000</td></tr>",
                            "<tr><td>10558</td><td>52</td><td>408.9500</td><td>2</td><td>0.000</td></tr>",
                            "<tr><td>10558</td><td>53</td><td>291.0000</td><td>1</td><td>0.000</td></tr>",
                            "<tr><td>10558</td><td>73</td><td>192.9900</td><td>1</td><td>0.000</td></tr>",
                            "<tr><td>10559</td><td>41</td><td>129.6100</td><td>5</td><td>0.050</td></tr>",
                            "<tr><td>10559</td><td>55</td><td>398.9900</td><td>8</td><td>0.050</td></tr>",
                            "<tr><td>10560</td><td>30</td><td>342.9400</td><td>6</td><td>0.000</td></tr>",
                            "<tr><td>10560</td><td>62</td><td>68.5900</td><td>14</td><td>0.250</td></tr>",
                            "<tr><td>10561</td><td>44</td><td>573.2000</td><td>8</td><td>0.000</td></tr>",
                            "<tr><td>10561</td><td>51</td><td>44.0500</td><td>14</td><td>0.000</td></tr>",
                            "<tr><td>10562</td><td>33</td><td>22.4800</td><td>14</td><td>0.100</td></tr>",
                            "<tr><td>10562</td><td>62</td><td>67.1900</td><td>1</td><td>0.100</td></tr>",
                            "<tr><td>10563</td><td>36</td><td>661.3000</td><td>2</td><td>0.000</td></tr>",
                            "<tr><td>10563</td><td>52</td><td>417.4700</td><td>10</td><td>0.000</td></tr>",
                            "<tr><td>10564</td><td>17</td><td>382.0800</td><td>6</td><td>0.050</td></tr>",
                            "<tr><td>10564</td><td>31</td><td>152.6400</td><td>13</td><td>0.050</td></tr>",
                            "<tr><td>10564</td><td>55</td><td>383.0300</td><td>12</td><td>0.050</td></tr>",
                            "<tr><td>10565</td><td>24</td><td>959.9900</td><td>4</td><td>0.100</td></tr>",
                            "<tr><td>10565</td><td>64</td><td>1535.0300</td><td>15</td><td>0.100</td></tr>",
                            "<tr><td>10566</td><td>11</td><td>625.6800</td><td>10</td><td>0.150</td></tr>",
                            "<tr><td>10566</td><td>18</td><td>28.7500</td><td>1</td><td>0.150</td></tr>",
                            "<tr><td>10566</td><td>76</td><td>66.6400</td><td>8</td><td>0.000</td></tr>",
                            "<tr><td>10567</td><td>31</td><td>157.4100</td><td>9</td><td>0.200</td></tr>",
                            "<tr><td>10567</td><td>51</td><td>44.0500</td><td>15</td><td>0.000</td></tr>",
                            "<tr><td>10567</td><td>59</td><td>1411.7400</td><td>6</td><td>0.200</td></tr>",
                            "<tr><td>10568</td><td>10</td><td>779.0000</td><td>15</td><td>0.000</td></tr>",
                            "<tr><td>10569</td><td>31</td><td>152.6400</td><td>7</td><td>0.200</td></tr>",
                            "<tr><td>10569</td><td>76</td><td>66.6400</td><td>3</td><td>0.000</td></tr>",
                            "<tr><td>10570</td><td>11</td><td>632.0000</td><td>11</td><td>0.050</td></tr>",
                            "<tr><td>10570</td><td>56</td><td>1718.3900</td><td>15</td><td>0.050</td></tr>",
                            "<tr><td>10571</td><td>14</td><td>22.5500</td><td>11</td><td>0.150</td></tr>",
                            "<tr><td>10571</td><td>42</td><td>1002.0100</td><td>4</td><td>0.150</td></tr>",
                            "<tr><td>10572</td><td>16</td><td>573.2000</td><td>13</td><td>0.100</td></tr>",
                            "<tr><td>10572</td><td>32</td><td>251.2200</td><td>2</td><td>0.100</td></tr>",
                            "<tr><td>10572</td><td>40</td><td>190.4600</td><td>11</td><td>0.000</td></tr>",
                            "<tr><td>10572</td><td>75</td><td>52.9100</td><td>5</td><td>0.100</td></tr>",
                            "<tr><td>10573</td><td>17</td><td>382.0800</td><td>1</td><td>0.000</td></tr>",
                            "<tr><td>10573</td><td>34</td><td>1484.0100</td><td>10</td><td>0.000</td></tr>",
                            "<tr><td>10573</td><td>53</td><td>297.0000</td><td>4</td><td>0.000</td></tr>",
                            "<tr><td>10574</td><td>33</td><td>22.2500</td><td>12</td><td>0.000</td></tr>",
                            "<tr><td>10574</td><td>40</td><td>192.4100</td><td>15</td><td>0.000</td></tr>",
                            "<tr><td>10574</td><td>62</td><td>69.2900</td><td>8</td><td>0.000</td></tr>",
                            "<tr><td>10574</td><td>64</td><td>1551.0200</td><td>8</td><td>0.000</td></tr>",
                            "<tr><td>10575</td><td>59</td><td>1411.7400</td><td>14</td><td>0.000</td></tr>",
                            "<tr><td>10575</td><td>63</td><td>1842.0300</td><td>6</td><td>0.000</td></tr>",
                            "<tr><td>10575</td><td>72</td><td>95.0300</td><td>14</td><td>0.000</td></tr>",
                            "<tr><td>10575</td><td>76</td><td>65.9600</td><td>13</td><td>0.000</td></tr>",
                            "<tr><td>10576</td><td>1</td><td>1286.0100</td><td>7</td><td>0.000</td></tr>",
                            "<tr><td>10576</td><td>31</td><td>155.8200</td><td>10</td><td>0.000</td></tr>",
                            "<tr><td>10576</td><td>44</td><td>578.9900</td><td>10</td><td>0.000</td></tr>",
                            "<tr><td>10577</td><td>39</td><td>23.0000</td><td>5</td><td>0.000</td></tr>",
                            "<tr><td>10577</td><td>75</td><td>52.9100</td><td>14</td><td>0.000</td></tr>",
                            "<tr><td>10577</td><td>77</td><td>124.9400</td><td>3</td><td>0.000</td></tr>",
                            "<tr><td>10578</td><td>35</td><td>69.0000</td><td>11</td><td>0.000</td></tr>",
                            "<tr><td>10578</td><td>57</td><td>2040.8800</td><td>9</td><td>0.000</td></tr>",
                            "<tr><td>10579</td><td>15</td><td>270.6200</td><td>15</td><td>0.000</td></tr>",
                            "<tr><td>10579</td><td>75</td><td>52.9100</td><td>9</td><td>0.000</td></tr>",
                            "<tr><td>10580</td><td>14</td><td>22.3200</td><td>15</td><td>0.050</td></tr>",
                            "<tr><td>10580</td><td>41</td><td>132.2500</td><td>12</td><td>0.050</td></tr>",
                            "<tr><td>10580</td><td>65</td><td>181.0200</td><td>12</td><td>0.050</td></tr>",
                            "<tr><td>10581</td><td>75</td><td>53.9900</td><td>12</td><td>0.200</td></tr>",
                            "<tr><td>10582</td><td>57</td><td>2019.8400</td><td>12</td><td>0.000</td></tr>",
                            "<tr><td>10582</td><td>76</td><td>65.9600</td><td>10</td><td>0.000</td></tr>",
                            "<tr><td>10583</td><td>29</td><td>336.0000</td><td>4</td><td>0.000</td></tr>",
                            "<tr><td>10583</td><td>60</td><td>747.5000</td><td>5</td><td>0.150</td></tr>",
                            "<tr><td>10583</td><td>69</td><td>329.6600</td><td>6</td><td>0.150</td></tr>",
                            "<tr><td>10584</td><td>31</td><td>155.8200</td><td>4</td><td>0.050</td></tr>",
                            "<tr><td>10585</td><td>47</td><td>959.3300</td><td>12</td><td>0.000</td></tr>",
                            "<tr><td>10586</td><td>52</td><td>413.2100</td><td>4</td><td>0.150</td></tr>",
                            "<tr><td>10587</td><td>26</td><td>2491.6700</td><td>1</td><td>0.000</td></tr>",
                            "<tr><td>10587</td><td>35</td><td>68.3100</td><td>5</td><td>0.000</td></tr>",
                            "<tr><td>10587</td><td>77</td><td>123.6500</td><td>14</td><td>0.000</td></tr>",
                            "<tr><td>10588</td><td>18</td><td>27.6000</td><td>1</td><td>0.200</td></tr>",
                            "<tr><td>10588</td><td>42</td><td>1022.6700</td><td>2</td><td>0.200</td></tr>",
                            "<tr><td>10589</td><td>35</td><td>66.9300</td><td>7</td><td>0.000</td></tr>",
                            "<tr><td>10590</td><td>1</td><td>1286.0100</td><td>12</td><td>0.000</td></tr>",
                            "<tr><td>10590</td><td>77</td><td>124.9400</td><td>8</td><td>0.050</td></tr>",
                            "<tr><td>10591</td><td>3</td><td>799.0000</td><td>11</td><td>0.000</td></tr>",
                            "<tr><td>10591</td><td>7</td><td>37.4400</td><td>13</td><td>0.000</td></tr>",
                            "<tr><td>10591</td><td>54</td><td>641.4100</td><td>10</td><td>0.000</td></tr>",
                            "<tr><td>10592</td><td>15</td><td>270.6200</td><td>6</td><td>0.050</td></tr>",
                            "<tr><td>10592</td><td>26</td><td>2491.6700</td><td>3</td><td>0.050</td></tr>",
                            "<tr><td>10593</td><td>20</td><td>589.0500</td><td>5</td><td>0.200</td></tr>",
                            "<tr><td>10593</td><td>69</td><td>326.3300</td><td>10</td><td>0.200</td></tr>",
                            "<tr><td>10593</td><td>76</td><td>67.3200</td><td>13</td><td>0.200</td></tr>",
                            "<tr><td>10594</td><td>52</td><td>413.2100</td><td>13</td><td>0.000</td></tr>",
                            "<tr><td>10594</td><td>58</td><td>98.9900</td><td>12</td><td>0.000</td></tr>",
                            "<tr><td>10595</td><td>35</td><td>67.6200</td><td>7</td><td>0.250</td></tr>",
                            "<tr><td>10595</td><td>61</td><td>142.0700</td><td>1</td><td>0.250</td></tr>",
                            "<tr><td>10595</td><td>69</td><td>332.9900</td><td>15</td><td>0.250</td></tr>",
                            "<tr><td>10596</td><td>56</td><td>1772.0900</td><td>15</td><td>0.200</td></tr>",
                            "<tr><td>10596</td><td>63</td><td>1861.0200</td><td>11</td><td>0.200</td></tr>",
                            "<tr><td>10596</td><td>75</td><td>51.8300</td><td>12</td><td>0.200</td></tr>",
                            "<tr><td>10597</td><td>24</td><td>989.9900</td><td>8</td><td>0.200</td></tr>",
                            "<tr><td>10597</td><td>57</td><td>2104.0000</td><td>13</td><td>0.000</td></tr>",
                            "<tr><td>10597</td><td>65</td><td>181.0200</td><td>5</td><td>0.200</td></tr>",
                            "<tr><td>10598</td><td>27</td><td>241.5300</td><td>4</td><td>0.000</td></tr>",
                            "<tr><td>10598</td><td>71</td><td>409.0000</td><td>13</td><td>0.000</td></tr>",
                            "<tr><td>10599</td><td>62</td><td>69.9900</td><td>15</td><td>0.000</td></tr>",
                            "<tr><td>10600</td><td>54</td><td>641.4100</td><td>8</td><td>0.000</td></tr>",
                            "<tr><td>10600</td><td>73</td><td>191.0600</td><td>9</td><td>0.000</td></tr>",
                            "<tr><td>10601</td><td>13</td><td>58.4100</td><td>14</td><td>0.000</td></tr>",
                            "<tr><td>10601</td><td>59</td><td>1426.0000</td><td>1</td><td>0.000</td></tr>",
                            "<tr><td>10602</td><td>77</td><td>127.5100</td><td>11</td><td>0.250</td></tr>",
                            "<tr><td>10603</td><td>22</td><td>3744.0000</td><td>5</td><td>0.000</td></tr>",
                            "<tr><td>10603</td><td>49</td><td>315.8500</td><td>9</td><td>0.050</td></tr>",
                            "<tr><td>10604</td><td>48</td><td>1439.0400</td><td>14</td><td>0.100</td></tr>",
                            "<tr><td>10604</td><td>76</td><td>65.9600</td><td>4</td><td>0.100</td></tr>",
                            "<tr><td>10605</td><td>16</td><td>567.4100</td><td>9</td><td>0.050</td></tr>",
                            "<tr><td>10605</td><td>59</td><td>1368.9600</td><td>9</td><td>0.050</td></tr>",
                            "<tr><td>10605</td><td>60</td><td>747.5000</td><td>12</td><td>0.050</td></tr>",
                            "<tr><td>10605</td><td>71</td><td>409.0000</td><td>15</td><td>0.050</td></tr>",
                            "<tr><td>10606</td><td>4</td><td>348.9900</td><td>4</td><td>0.200</td></tr>",
                            "<tr><td>10606</td><td>55</td><td>383.0300</td><td>2</td><td>0.200</td></tr>",
                            "<tr><td>10606</td><td>62</td><td>69.2900</td><td>11</td><td>0.200</td></tr>",
                            "<tr><td>10607</td><td>7</td><td>39.0000</td><td>4</td><td>0.000</td></tr>",
                            "<tr><td>10607</td><td>17</td><td>390.0400</td><td>5</td><td>0.000</td></tr>",
                            "<tr><td>10607</td><td>33</td><td>22.7100</td><td>7</td><td>0.000</td></tr>",
                            "<tr><td>10607</td><td>40</td><td>192.4100</td><td>4</td><td>0.000</td></tr>",
                            "<tr><td>10607</td><td>72</td><td>96.0200</td><td>2</td><td>0.000</td></tr>",
                            "<tr><td>10608</td><td>56</td><td>1736.2900</td><td>14</td><td>0.000</td></tr>",
                            "<tr><td>10609</td><td>1</td><td>1286.0100</td><td>6</td><td>0.000</td></tr>",
                            "<tr><td>10609</td><td>10</td><td>763.4200</td><td>2</td><td>0.000</td></tr>",
                            "<tr><td>10609</td><td>21</td><td>617.2700</td><td>10</td><td>0.000</td></tr>",
                            "<tr><td>10610</td><td>36</td><td>661.3000</td><td>12</td><td>0.250</td></tr>",
                            "<tr><td>10611</td><td>1</td><td>1247.0400</td><td>11</td><td>0.000</td></tr>",
                            "<tr><td>10611</td><td>2</td><td>1454.0300</td><td>5</td><td>0.000</td></tr>",
                            "<tr><td>10611</td><td>60</td><td>732.5500</td><td>7</td><td>0.000</td></tr>",
                            "<tr><td>10612</td><td>10</td><td>771.2100</td><td>8</td><td>0.000</td></tr>",
                            "<tr><td>10612</td><td>36</td><td>688.8500</td><td>4</td><td>0.000</td></tr>",
                            "<tr><td>10612</td><td>49</td><td>319.1100</td><td>4</td><td>0.000</td></tr>",
                            "<tr><td>10612</td><td>60</td><td>747.5000</td><td>4</td><td>0.000</td></tr>",
                            "<tr><td>10612</td><td>76</td><td>67.3200</td><td>11</td><td>0.000</td></tr>",
                            "<tr><td>10613</td><td>13</td><td>56.6400</td><td>1</td><td>0.100</td></tr>",
                            "<tr><td>10613</td><td>75</td><td>53.4500</td><td>12</td><td>0.000</td></tr>",
                            "<tr><td>10614</td><td>11</td><td>619.3600</td><td>1</td><td>0.000</td></tr>",
                            "<tr><td>10614</td><td>21</td><td>611.0300</td><td>15</td><td>0.000</td></tr>",
                            "<tr><td>10614</td><td>39</td><td>23.0000</td><td>11</td><td>0.000</td></tr>",
                            "<tr><td>10615</td><td>55</td><td>383.0300</td><td>15</td><td>0.000</td></tr>",
                            "<tr><td>10616</td><td>38</td><td>339.5000</td><td>15</td><td>0.050</td></tr>",
                            "<tr><td>10616</td><td>56</td><td>1754.1900</td><td>11</td><td>0.000</td></tr>",
                            "<tr><td>10616</td><td>70</td><td>81.4800</td><td>12</td><td>0.050</td></tr>",
                            "<tr><td>10616</td><td>71</td><td>404.9100</td><td>9</td><td>0.050</td></tr>",
                            "<tr><td>10617</td><td>59</td><td>1426.0000</td><td>12</td><td>0.150</td></tr>",
                            "<tr><td>10618</td><td>6</td><td>105.7300</td><td>5</td><td>0.000</td></tr>",
                            "<tr><td>10618</td><td>56</td><td>1754.1900</td><td>4</td><td>0.000</td></tr>",
                            "<tr><td>10618</td><td>68</td><td>49.9900</td><td>3</td><td>0.000</td></tr>",
                            "<tr><td>10619</td><td>21</td><td>611.0300</td><td>13</td><td>0.000</td></tr>",
                            "<tr><td>10619</td><td>22</td><td>3669.1200</td><td>14</td><td>0.000</td></tr>",
                            "<tr><td>10620</td><td>24</td><td>969.9900</td><td>7</td><td>0.000</td></tr>",
                            "<tr><td>10620</td><td>52</td><td>425.9900</td><td>4</td><td>0.000</td></tr>",
                            "<tr><td>10621</td><td>19</td><td>652.4100</td><td>2</td><td>0.000</td></tr>",
                            "<tr><td>10621</td><td>23</td><td>343.9300</td><td>10</td><td>0.000</td></tr>",
                            "<tr><td>10621</td><td>70</td><td>83.1600</td><td>11</td><td>0.000</td></tr>",
                            "<tr><td>10621</td><td>71</td><td>409.0000</td><td>6</td><td>0.000</td></tr>",
                            "<tr><td>10622</td><td>2</td><td>1439.0400</td><td>1</td><td>0.000</td></tr>",
                            "<tr><td>10622</td><td>68</td><td>49.9900</td><td>11</td><td>0.200</td></tr>",
                            "<tr><td>10623</td><td>14</td><td>22.7900</td><td>8</td><td>0.000</td></tr>",
                            "<tr><td>10623</td><td>19</td><td>632.6400</td><td>9</td><td>0.100</td></tr>",
                            "<tr><td>10623</td><td>21</td><td>598.5600</td><td>7</td><td>0.100</td></tr>",
                            "<tr><td>10623</td><td>24</td><td>989.9900</td><td>3</td><td>0.000</td></tr>",
                            "<tr><td>10623</td><td>35</td><td>66.9300</td><td>6</td><td>0.100</td></tr>",
                            "<tr><td>10624</td><td>28</td><td>30.7200</td><td>1</td><td>0.000</td></tr>",
                            "<tr><td>10624</td><td>29</td><td>339.5000</td><td>5</td><td>0.000</td></tr>",
                            "<tr><td>10624</td><td>44</td><td>578.9900</td><td>3</td><td>0.000</td></tr>",
                            "<tr><td>10625</td><td>14</td><td>22.7900</td><td>1</td><td>0.000</td></tr>",
                            "<tr><td>10625</td><td>42</td><td>1022.6700</td><td>4</td><td>0.000</td></tr>",
                            "<tr><td>10625</td><td>60</td><td>717.6000</td><td>5</td><td>0.000</td></tr>",
                            "<tr><td>10626</td><td>53</td><td>300.0000</td><td>13</td><td>0.000</td></tr>",
                            "<tr><td>10626</td><td>60</td><td>747.5000</td><td>3</td><td>0.000</td></tr>",
                            "<tr><td>10626</td><td>71</td><td>392.6400</td><td>2</td><td>0.000</td></tr>",
                            "<tr><td>10627</td><td>62</td><td>67.8900</td><td>10</td><td>0.000</td></tr>",
                            "<tr><td>10627</td><td>73</td><td>192.9900</td><td>13</td><td>0.150</td></tr>",
                            "<tr><td>10628</td><td>1</td><td>1260.0300</td><td>11</td><td>0.000</td></tr>",
                            "<tr><td>10629</td><td>29</td><td>343.0000</td><td>4</td><td>0.000</td></tr>",
                            "<tr><td>10629</td><td>64</td><td>1567.0100</td><td>4</td><td>0.000</td></tr>",
                            "<tr><td>10630</td><td>55</td><td>387.0200</td><td>6</td><td>0.050</td></tr>",
                            "<tr><td>10630</td><td>76</td><td>65.2800</td><td>3</td><td>0.000</td></tr>",
                            "<tr><td>10631</td><td>75</td><td>52.3700</td><td>1</td><td>0.100</td></tr>",
                            "<tr><td>10632</td><td>2</td><td>1454.0300</td><td>14</td><td>0.050</td></tr>",
                            "<tr><td>10632</td><td>33</td><td>22.4800</td><td>8</td><td>0.050</td></tr>",
                            "<tr><td>10633</td><td>12</td><td>440.6400</td><td>4</td><td>0.150</td></tr>",
                            "<tr><td>10633</td><td>13</td><td>58.4100</td><td>14</td><td>0.150</td></tr>",
                            "<tr><td>10633</td><td>26</td><td>2491.6700</td><td>1</td><td>0.150</td></tr>",
                            "<tr><td>10633</td><td>62</td><td>69.2900</td><td>8</td><td>0.150</td></tr>",
                            "<tr><td>10634</td><td>7</td><td>38.2200</td><td>7</td><td>0.000</td></tr>",
                            "<tr><td>10634</td><td>18</td><td>28.1800</td><td>10</td><td>0.000</td></tr>",
                            "<tr><td>10634</td><td>51</td><td>42.7100</td><td>5</td><td>0.000</td></tr>",
                            "<tr><td>10634</td><td>75</td><td>51.8300</td><td>11</td><td>0.000</td></tr>",
                            "<tr><td>10635</td><td>4</td><td>342.0100</td><td>7</td><td>0.100</td></tr>",
                            "<tr><td>10635</td><td>5</td><td>144.5300</td><td>10</td><td>0.100</td></tr>",
                            "<tr><td>10635</td><td>22</td><td>3706.5600</td><td>13</td><td>0.000</td></tr>",
                            "<tr><td>10636</td><td>4</td><td>345.5000</td><td>11</td><td>0.000</td></tr>",
                            "<tr><td>10636</td><td>58</td><td>98.9900</td><td>1</td><td>0.000</td></tr>",
                            "<tr><td>10637</td><td>11</td><td>606.7200</td><td>15</td><td>0.000</td></tr>",
                            "<tr><td>10637</td><td>50</td><td>95.0400</td><td>10</td><td>0.050</td></tr>",
                            "<tr><td>10637</td><td>56</td><td>1789.9900</td><td>12</td><td>0.050</td></tr>",
                            "<tr><td>10638</td><td>45</td><td>243.4700</td><td>12</td><td>0.000</td></tr>",
                            "<tr><td>10638</td><td>65</td><td>179.1900</td><td>2</td><td>0.000</td></tr>",
                            "<tr><td>10638</td><td>72</td><td>98.9900</td><td>12</td><td>0.000</td></tr>",
                            "<tr><td>10639</td><td>18</td><td>28.1800</td><td>13</td><td>0.000</td></tr>",
                            "<tr><td>10640</td><td>69</td><td>329.6600</td><td>15</td><td>0.250</td></tr>",
                            "<tr><td>10640</td><td>70</td><td>82.3200</td><td>11</td><td>0.250</td></tr>",
                            "<tr><td>10641</td><td>2</td><td>1499.0000</td><td>5</td><td>0.000</td></tr>",
                            "<tr><td>10641</td><td>40</td><td>192.4100</td><td>11</td><td>0.000</td></tr>",
                            "<tr><td>10642</td><td>21</td><td>611.0300</td><td>4</td><td>0.200</td></tr>",
                            "<tr><td>10642</td><td>61</td><td>147.9900</td><td>12</td><td>0.200</td></tr>",
                            "<tr><td>10643</td><td>28</td><td>31.6800</td><td>5</td><td>0.250</td></tr>",
                            "<tr><td>10643</td><td>39</td><td>22.5400</td><td>11</td><td>0.250</td></tr>",
                            "<tr><td>10643</td><td>46</td><td>71.7600</td><td>6</td><td>0.250</td></tr>",
                            "<tr><td>10644</td><td>18</td><td>27.6000</td><td>6</td><td>0.100</td></tr>",
                            "<tr><td>10644</td><td>43</td><td>84.2300</td><td>7</td><td>0.000</td></tr>",
                            "<tr><td>10644</td><td>46</td><td>71.7600</td><td>12</td><td>0.100</td></tr>",
                            "<tr><td>10645</td><td>18</td><td>28.1800</td><td>10</td><td>0.000</td></tr>",
                            "<tr><td>10645</td><td>36</td><td>668.1800</td><td>6</td><td>0.000</td></tr>",
                            "<tr><td>10646</td><td>1</td><td>1286.0100</td><td>12</td><td>0.250</td></tr>",
                            "<tr><td>10646</td><td>10</td><td>771.2100</td><td>8</td><td>0.250</td></tr>",
                            "<tr><td>10646</td><td>71</td><td>396.7300</td><td>11</td><td>0.250</td></tr>",
                            "<tr><td>10646</td><td>77</td><td>128.8000</td><td>6</td><td>0.250</td></tr>",
                            "<tr><td>10647</td><td>19</td><td>659.0000</td><td>5</td><td>0.000</td></tr>",
                            "<tr><td>10647</td><td>39</td><td>22.0800</td><td>9</td><td>0.000</td></tr>",
                            "<tr><td>10648</td><td>22</td><td>3744.0000</td><td>10</td><td>0.000</td></tr>",
                            "<tr><td>10648</td><td>24</td><td>989.9900</td><td>8</td><td>0.150</td></tr>",
                            "<tr><td>10649</td><td>28</td><td>31.0400</td><td>8</td><td>0.000</td></tr>",
                            "<tr><td>10649</td><td>72</td><td>96.0200</td><td>9</td><td>0.000</td></tr>",
                            "<tr><td>10650</td><td>30</td><td>335.9400</td><td>8</td><td>0.000</td></tr>",
                            "<tr><td>10650</td><td>53</td><td>297.0000</td><td>4</td><td>0.050</td></tr>",
                            "<tr><td>10650</td><td>54</td><td>641.4100</td><td>15</td><td>0.000</td></tr>",
                            "<tr><td>10651</td><td>19</td><td>632.6400</td><td>3</td><td>0.250</td></tr>",
                            "<tr><td>10651</td><td>22</td><td>3594.2400</td><td>12</td><td>0.250</td></tr>",
                            "<tr><td>10652</td><td>30</td><td>339.4400</td><td>11</td><td>0.250</td></tr>",
                            "<tr><td>10652</td><td>42</td><td>1012.3400</td><td>11</td><td>0.000</td></tr>",
                            "<tr><td>10653</td><td>16</td><td>578.9900</td><td>8</td><td>0.100</td></tr>",
                            "<tr><td>10653</td><td>60</td><td>747.5000</td><td>5</td><td>0.100</td></tr>",
                            "<tr><td>10654</td><td>4</td><td>348.9900</td><td>8</td><td>0.100</td></tr>",
                            "<tr><td>10654</td><td>39</td><td>22.5400</td><td>1</td><td>0.100</td></tr>",
                            "<tr><td>10654</td><td>54</td><td>661.2500</td><td>2</td><td>0.100</td></tr>",
                            "<tr><td>10655</td><td>41</td><td>130.9300</td><td>14</td><td>0.200</td></tr>",
                            "<tr><td>10656</td><td>14</td><td>22.5500</td><td>15</td><td>0.100</td></tr>",
                            "<tr><td>10656</td><td>44</td><td>555.8300</td><td>7</td><td>0.100</td></tr>",
                            "<tr><td>10656</td><td>47</td><td>989.0000</td><td>14</td><td>0.100</td></tr>",
                            "<tr><td>10657</td><td>15</td><td>273.4100</td><td>12</td><td>0.000</td></tr>",
                            "<tr><td>10657</td><td>41</td><td>130.9300</td><td>7</td><td>0.000</td></tr>",
                            "<tr><td>10657</td><td>46</td><td>71.7600</td><td>12</td><td>0.000</td></tr>",
                            "<tr><td>10657</td><td>47</td><td>949.4400</td><td>13</td><td>0.000</td></tr>",
                            "<tr><td>10657</td><td>56</td><td>1789.9900</td><td>8</td><td>0.000</td></tr>",
                            "<tr><td>10657</td><td>60</td><td>717.6000</td><td>9</td><td>0.000</td></tr>",
                            "<tr><td>10658</td><td>21</td><td>623.5000</td><td>6</td><td>0.000</td></tr>",
                            "<tr><td>10658</td><td>40</td><td>190.4600</td><td>11</td><td>0.050</td></tr>",
                            "<tr><td>10658</td><td>60</td><td>740.0300</td><td>6</td><td>0.050</td></tr>",
                            "<tr><td>10658</td><td>77</td><td>124.9400</td><td>14</td><td>0.050</td></tr>",
                            "<tr><td>10659</td><td>31</td><td>157.4100</td><td>6</td><td>0.050</td></tr>",
                            "<tr><td>10659</td><td>40</td><td>188.5200</td><td>6</td><td>0.050</td></tr>",
                            "<tr><td>10659</td><td>70</td><td>84.0000</td><td>11</td><td>0.050</td></tr>",
                            "<tr><td>10660</td><td>20</td><td>577.1500</td><td>4</td><td>0.000</td></tr>",
                            "<tr><td>10661</td><td>39</td><td>22.5400</td><td>9</td><td>0.200</td></tr>",
                            "<tr><td>10661</td><td>58</td><td>96.0200</td><td>13</td><td>0.200</td></tr>",
                            "<tr><td>10662</td><td>68</td><td>49.9900</td><td>5</td><td>0.000</td></tr>",
                            "<tr><td>10663</td><td>40</td><td>186.5800</td><td>11</td><td>0.050</td></tr>",
                            "<tr><td>10663</td><td>42</td><td>1012.3400</td><td>5</td><td>0.050</td></tr>",
                            "<tr><td>10663</td><td>51</td><td>44.4900</td><td>15</td><td>0.050</td></tr>",
                            "<tr><td>10664</td><td>10</td><td>779.0000</td><td>4</td><td>0.150</td></tr>",
                            "<tr><td>10664</td><td>56</td><td>1789.9900</td><td>6</td><td>0.150</td></tr>",
                            "<tr><td>10664</td><td>65</td><td>181.0200</td><td>8</td><td>0.150</td></tr>",
                            "<tr><td>10665</td><td>51</td><td>42.7100</td><td>10</td><td>0.000</td></tr>",
                            "<tr><td>10665</td><td>59</td><td>1368.9600</td><td>13</td><td>0.000</td></tr>",
                            "<tr><td>10665</td><td>76</td><td>66.6400</td><td>7</td><td>0.000</td></tr>",
                            "<tr><td>10666</td><td>29</td><td>339.5000</td><td>4</td><td>0.000</td></tr>",
                            "<tr><td>10666</td><td>65</td><td>177.3600</td><td>15</td><td>0.000</td></tr>",
                            "<tr><td>10667</td><td>69</td><td>323.0000</td><td>13</td><td>0.200</td></tr>",
                            "<tr><td>10667</td><td>71</td><td>392.6400</td><td>1</td><td>0.200</td></tr>",
                            "<tr><td>10668</td><td>31</td><td>159.0000</td><td>2</td><td>0.100</td></tr>",
                            "<tr><td>10668</td><td>55</td><td>395.0000</td><td>1</td><td>0.100</td></tr>",
                            "<tr><td>10668</td><td>64</td><td>1583.0000</td><td>10</td><td>0.100</td></tr>",
                            "<tr><td>10669</td><td>36</td><td>681.9600</td><td>12</td><td>0.000</td></tr>",
                            "<tr><td>10670</td><td>23</td><td>350.9500</td><td>13</td><td>0.000</td></tr>",
                            "<tr><td>10670</td><td>46</td><td>71.7600</td><td>3</td><td>0.000</td></tr>",
                            "<tr><td>10670</td><td>67</td><td>19.6000</td><td>9</td><td>0.000</td></tr>",
                            "<tr><td>10670</td><td>73</td><td>187.2000</td><td>8</td><td>0.000</td></tr>",
                            "<tr><td>10670</td><td>75</td><td>53.9900</td><td>13</td><td>0.000</td></tr>",
                            "<tr><td>10671</td><td>16</td><td>567.4100</td><td>10</td><td>0.000</td></tr>",
                            "<tr><td>10671</td><td>62</td><td>69.9900</td><td>2</td><td>0.000</td></tr>",
                            "<tr><td>10671</td><td>65</td><td>175.5400</td><td>2</td><td>0.000</td></tr>",
                            "<tr><td>10672</td><td>38</td><td>325.9200</td><td>11</td><td>0.100</td></tr>",
                            "<tr><td>10672</td><td>71</td><td>396.7300</td><td>8</td><td>0.000</td></tr>",
                            "<tr><td>10673</td><td>16</td><td>573.2000</td><td>4</td><td>0.000</td></tr>",
                            "<tr><td>10673</td><td>42</td><td>1012.3400</td><td>7</td><td>0.000</td></tr>",
                            "<tr><td>10673</td><td>43</td><td>85.9500</td><td>2</td><td>0.000</td></tr>",
                            "<tr><td>10674</td><td>23</td><td>340.4200</td><td>15</td><td>0.000</td></tr>",
                            "<tr><td>10675</td><td>14</td><td>22.3200</td><td>4</td><td>0.000</td></tr>",
                            "<tr><td>10675</td><td>53</td><td>288.0000</td><td>9</td><td>0.000</td></tr>",
                            "<tr><td>10675</td><td>58</td><td>96.0200</td><td>1</td><td>0.000</td></tr>",
                            "<tr><td>10676</td><td>10</td><td>755.6300</td><td>14</td><td>0.000</td></tr>",
                            "<tr><td>10676</td><td>19</td><td>645.8200</td><td>5</td><td>0.000</td></tr>",
                            "<tr><td>10676</td><td>44</td><td>555.8300</td><td>15</td><td>0.000</td></tr>",
                            "<tr><td>10677</td><td>26</td><td>2466.7500</td><td>13</td><td>0.150</td></tr>",
                            "<tr><td>10677</td><td>33</td><td>22.9400</td><td>1</td><td>0.150</td></tr>",
                            "<tr><td>10678</td><td>12</td><td>445.2300</td><td>6</td><td>0.000</td></tr>",
                            "<tr><td>10678</td><td>33</td><td>22.0200</td><td>7</td><td>0.000</td></tr>",
                            "<tr><td>10678</td><td>41</td><td>129.6100</td><td>2</td><td>0.000</td></tr>",
                            "<tr><td>10678</td><td>54</td><td>661.2500</td><td>12</td><td>0.000</td></tr>",
                            "<tr><td>10679</td><td>59</td><td>1397.4800</td><td>14</td><td>0.000</td></tr>",
                            "<tr><td>10680</td><td>16</td><td>561.6200</td><td>6</td><td>0.250</td></tr>",
                            "<tr><td>10680</td><td>31</td><td>152.6400</td><td>9</td><td>0.250</td></tr>",
                            "<tr><td>10680</td><td>42</td><td>1012.3400</td><td>4</td><td>0.250</td></tr>",
                            "<tr><td>10681</td><td>19</td><td>639.2300</td><td>8</td><td>0.100</td></tr>",
                            "<tr><td>10681</td><td>21</td><td>604.8000</td><td>13</td><td>0.100</td></tr>",
                            "<tr><td>10681</td><td>64</td><td>1535.0300</td><td>4</td><td>0.000</td></tr>",
                            "<tr><td>10682</td><td>33</td><td>22.9400</td><td>6</td><td>0.000</td></tr>",
                            "<tr><td>10682</td><td>66</td><td>79.9200</td><td>3</td><td>0.000</td></tr>",
                            "<tr><td>10682</td><td>75</td><td>51.8300</td><td>2</td><td>0.000</td></tr>",
                            "<tr><td>10683</td><td>52</td><td>413.2100</td><td>15</td><td>0.000</td></tr>",
                            "<tr><td>10684</td><td>40</td><td>192.4100</td><td>1</td><td>0.000</td></tr>",
                            "<tr><td>10684</td><td>47</td><td>969.2200</td><td>7</td><td>0.000</td></tr>",
                            "<tr><td>10684</td><td>60</td><td>740.0300</td><td>3</td><td>0.000</td></tr>",
                            "<tr><td>10685</td><td>10</td><td>747.8400</td><td>11</td><td>0.000</td></tr>",
                            "<tr><td>10685</td><td>41</td><td>126.9600</td><td>1</td><td>0.000</td></tr>",
                            "<tr><td>10685</td><td>47</td><td>979.1100</td><td>8</td><td>0.000</td></tr>",
                            "<tr><td>10686</td><td>17</td><td>394.0200</td><td>2</td><td>0.200</td></tr>",
                            "<tr><td>10686</td><td>26</td><td>2441.8400</td><td>10</td><td>0.000</td></tr>",
                            "<tr><td>10687</td><td>9</td><td>495.0000</td><td>8</td><td>0.250</td></tr>",
                            "<tr><td>10687</td><td>29</td><td>346.5000</td><td>15</td><td>0.000</td></tr>",
                            "<tr><td>10687</td><td>36</td><td>681.9600</td><td>12</td><td>0.250</td></tr>",
                            "<tr><td>10688</td><td>10</td><td>763.4200</td><td>8</td><td>0.100</td></tr>",
                            "<tr><td>10688</td><td>28</td><td>30.7200</td><td>10</td><td>0.100</td></tr>",
                            "<tr><td>10688</td><td>34</td><td>1454.0300</td><td>7</td><td>0.000</td></tr>",
                            "<tr><td>10689</td><td>1</td><td>1247.0400</td><td>9</td><td>0.250</td></tr>",
                            "<tr><td>10690</td><td>56</td><td>1754.1900</td><td>9</td><td>0.250</td></tr>",
                            "<tr><td>10690</td><td>77</td><td>124.9400</td><td>12</td><td>0.250</td></tr>",
                            "<tr><td>10691</td><td>1</td><td>1260.0300</td><td>3</td><td>0.000</td></tr>",
                            "<tr><td>10691</td><td>29</td><td>343.0000</td><td>1</td><td>0.000</td></tr>",
                            "<tr><td>10691</td><td>43</td><td>85.9500</td><td>8</td><td>0.000</td></tr>",
                            "<tr><td>10691</td><td>44</td><td>573.2000</td><td>1</td><td>0.000</td></tr>",
                            "<tr><td>10691</td><td>62</td><td>69.9900</td><td>6</td><td>0.000</td></tr>",
                            "<tr><td>10692</td><td>63</td><td>1861.0200</td><td>10</td><td>0.000</td></tr>",
                            "<tr><td>10693</td><td>9</td><td>495.0000</td><td>14</td><td>0.000</td></tr>",
                            "<tr><td>10693</td><td>54</td><td>641.4100</td><td>7</td><td>0.150</td></tr>",
                            "<tr><td>10693</td><td>69</td><td>323.0000</td><td>1</td><td>0.150</td></tr>",
                            "<tr><td>10693</td><td>73</td><td>192.9900</td><td>6</td><td>0.150</td></tr>",
                            "<tr><td>10694</td><td>7</td><td>38.2200</td><td>4</td><td>0.000</td></tr>",
                            "<tr><td>10694</td><td>59</td><td>1397.4800</td><td>3</td><td>0.000</td></tr>",
                            "<tr><td>10694</td><td>70</td><td>84.0000</td><td>13</td><td>0.000</td></tr>",
                            "<tr><td>10695</td><td>8</td><td>169.6400</td><td>2</td><td>0.000</td></tr>",
                            "<tr><td>10695</td><td>12</td><td>449.8200</td><td>5</td><td>0.000</td></tr>",
                            "<tr><td>10695</td><td>24</td><td>979.9900</td><td>10</td><td>0.000</td></tr>",
                            "<tr><td>10696</td><td>17</td><td>390.0400</td><td>6</td><td>0.000</td></tr>",
                            "<tr><td>10696</td><td>46</td><td>74.7500</td><td>11</td><td>0.000</td></tr>",
                            "<tr><td>10697</td><td>19</td><td>645.8200</td><td>5</td><td>0.250</td></tr>",
                            "<tr><td>10697</td><td>35</td><td>66.9300</td><td>6</td><td>0.250</td></tr>",
                            "<tr><td>10697</td><td>58</td><td>98.0000</td><td>13</td><td>0.250</td></tr>",
                            "<tr><td>10697</td><td>70</td><td>80.6400</td><td>7</td><td>0.250</td></tr>",
                            "<tr><td>10698</td><td>11</td><td>606.7200</td><td>2</td><td>0.000</td></tr>",
                            "<tr><td>10698</td><td>17</td><td>398.0000</td><td>5</td><td>0.050</td></tr>",
                            "<tr><td>10698</td><td>29</td><td>339.5000</td><td>9</td><td>0.050</td></tr>",
                            "<tr><td>10698</td><td>65</td><td>177.3600</td><td>15</td><td>0.050</td></tr>",
                            "<tr><td>10698</td><td>70</td><td>80.6400</td><td>4</td><td>0.050</td></tr>",
                            "<tr><td>10699</td><td>47</td><td>979.1100</td><td>13</td><td>0.000</td></tr>",
                            "<tr><td>10700</td><td>1</td><td>1247.0400</td><td>12</td><td>0.200</td></tr>",
                            "<tr><td>10700</td><td>34</td><td>1484.0100</td><td>6</td><td>0.200</td></tr>",
                            "<tr><td>10700</td><td>68</td><td>49.4900</td><td>1</td><td>0.200</td></tr>",
                            "<tr><td>10700</td><td>71</td><td>404.9100</td><td>7</td><td>0.200</td></tr>",
                            "<tr><td>10701</td><td>59</td><td>1397.4800</td><td>10</td><td>0.150</td></tr>",
                            "<tr><td>10701</td><td>71</td><td>404.9100</td><td>1</td><td>0.150</td></tr>",
                            "<tr><td>10701</td><td>76</td><td>67.3200</td><td>8</td><td>0.150</td></tr>",
                            "<tr><td>10702</td><td>3</td><td>767.0400</td><td>12</td><td>0.000</td></tr>",
                            "<tr><td>10702</td><td>76</td><td>66.6400</td><td>4</td><td>0.000</td></tr>",
                            "<tr><td>10703</td><td>2</td><td>1454.0300</td><td>4</td><td>0.000</td></tr>",
                            "<tr><td>10703</td><td>59</td><td>1368.9600</td><td>8</td><td>0.000</td></tr>",
                            "<tr><td>10703</td><td>73</td><td>192.9900</td><td>5</td><td>0.000</td></tr>",
                            "<tr><td>10704</td><td>4</td><td>345.5000</td><td>1</td><td>0.000</td></tr>",
                            "<tr><td>10704</td><td>24</td><td>979.9900</td><td>13</td><td>0.000</td></tr>",
                            "<tr><td>10704</td><td>48</td><td>1499.0000</td><td>6</td><td>0.000</td></tr>",
                            "<tr><td>10705</td><td>31</td><td>157.4100</td><td>9</td><td>0.000</td></tr>",
                            "<tr><td>10705</td><td>32</td><td>248.6300</td><td>9</td><td>0.000</td></tr>",
                            "<tr><td>10706</td><td>16</td><td>573.2000</td><td>8</td><td>0.000</td></tr>",
                            "<tr><td>10706</td><td>43</td><td>85.0900</td><td>15</td><td>0.000</td></tr>",
                            "<tr><td>10706</td><td>59</td><td>1426.0000</td><td>14</td><td>0.000</td></tr>",
                            "<tr><td>10707</td><td>55</td><td>391.0100</td><td>10</td><td>0.000</td></tr>",
                            "<tr><td>10707</td><td>57</td><td>2104.0000</td><td>3</td><td>0.000</td></tr>",
                            "<tr><td>10707</td><td>70</td><td>80.6400</td><td>10</td><td>0.150</td></tr>",
                            "<tr><td>10708</td><td>5</td><td>144.5300</td><td>15</td><td>0.000</td></tr>",
                            "<tr><td>10708</td><td>36</td><td>661.3000</td><td>14</td><td>0.000</td></tr>",
                            "<tr><td>10709</td><td>8</td><td>164.5000</td><td>10</td><td>0.000</td></tr>",
                            "<tr><td>10709</td><td>51</td><td>44.4900</td><td>14</td><td>0.000</td></tr>",
                            "<tr><td>10709</td><td>60</td><td>717.6000</td><td>11</td><td>0.000</td></tr>",
                            "<tr><td>10710</td><td>19</td><td>632.6400</td><td>2</td><td>0.000</td></tr>",
                            "<tr><td>10710</td><td>47</td><td>959.3300</td><td>5</td><td>0.000</td></tr>",
                            "<tr><td>10711</td><td>19</td><td>645.8200</td><td>6</td><td>0.000</td></tr>",
                            "<tr><td>10711</td><td>41</td><td>128.2800</td><td>5</td><td>0.000</td></tr>",
                            "<tr><td>10711</td><td>53</td><td>297.0000</td><td>6</td><td>0.000</td></tr>",
                            "<tr><td>10712</td><td>53</td><td>297.0000</td><td>12</td><td>0.050</td></tr>",
                            "<tr><td>10712</td><td>56</td><td>1718.3900</td><td>1</td><td>0.000</td></tr>",
                            "<tr><td>10713</td><td>10</td><td>771.2100</td><td>3</td><td>0.000</td></tr>",
                            "<tr><td>10713</td><td>26</td><td>2392.0000</td><td>1</td><td>0.000</td></tr>",
                            "<tr><td>10713</td><td>45</td><td>240.9600</td><td>8</td><td>0.000</td></tr>",
                            "<tr><td>10713</td><td>46</td><td>72.5100</td><td>9</td><td>0.000</td></tr>",
                            "<tr><td>10714</td><td>2</td><td>1454.0300</td><td>5</td><td>0.250</td></tr>",
                            "<tr><td>10714</td><td>17</td><td>394.0200</td><td>12</td><td>0.250</td></tr>",
                            "<tr><td>10714</td><td>47</td><td>949.4400</td><td>5</td><td>0.250</td></tr>",
                            "<tr><td>10714</td><td>56</td><td>1718.3900</td><td>14</td><td>0.250</td></tr>",
                            "<tr><td>10714</td><td>58</td><td>97.0100</td><td>13</td><td>0.250</td></tr>",
                            "<tr><td>10715</td><td>10</td><td>763.4200</td><td>5</td><td>0.000</td></tr>",
                            "<tr><td>10715</td><td>71</td><td>400.8200</td><td>13</td><td>0.000</td></tr>",
                            "<tr><td>10716</td><td>21</td><td>623.5000</td><td>14</td><td>0.000</td></tr>",
                            "<tr><td>10716</td><td>51</td><td>42.7100</td><td>14</td><td>0.000</td></tr>",
                            "<tr><td>10716</td><td>61</td><td>143.5500</td><td>7</td><td>0.000</td></tr>",
                            "<tr><td>10717</td><td>21</td><td>623.5000</td><td>6</td><td>0.050</td></tr>",
                            "<tr><td>10717</td><td>54</td><td>654.6400</td><td>6</td><td>0.000</td></tr>",
                            "<tr><td>10717</td><td>69</td><td>332.9900</td><td>12</td><td>0.050</td></tr>",
                            "<tr><td>10718</td><td>12</td><td>445.2300</td><td>13</td><td>0.000</td></tr>",
                            "<tr><td>10718</td><td>16</td><td>573.2000</td><td>1</td><td>0.000</td></tr>",
                            "<tr><td>10718</td><td>36</td><td>668.1800</td><td>2</td><td>0.000</td></tr>",
                            "<tr><td>10718</td><td>62</td><td>69.9900</td><td>15</td><td>0.000</td></tr>",
                            "<tr><td>10719</td><td>18</td><td>28.1800</td><td>6</td><td>0.250</td></tr>",
                            "<tr><td>10719</td><td>30</td><td>339.4400</td><td>9</td><td>0.250</td></tr>",
                            "<tr><td>10719</td><td>54</td><td>648.0300</td><td>11</td><td>0.250</td></tr>",
                            "<tr><td>10720</td><td>35</td><td>66.2400</td><td>15</td><td>0.000</td></tr>",
                            "<tr><td>10720</td><td>71</td><td>404.9100</td><td>4</td><td>0.000</td></tr>",
                            "<tr><td>10721</td><td>44</td><td>561.6200</td><td>10</td><td>0.050</td></tr>",
                            "<tr><td>10722</td><td>2</td><td>1484.0100</td><td>6</td><td>0.000</td></tr>",
                            "<tr><td>10722</td><td>31</td><td>159.0000</td><td>11</td><td>0.000</td></tr>",
                            "<tr><td>10722</td><td>68</td><td>49.9900</td><td>14</td><td>0.000</td></tr>",
                            "<tr><td>10722</td><td>75</td><td>52.9100</td><td>4</td><td>0.000</td></tr>",
                            "<tr><td>10723</td><td>26</td><td>2392.0000</td><td>3</td><td>0.000</td></tr>",
                            "<tr><td>10724</td><td>10</td><td>779.0000</td><td>5</td><td>0.000</td></tr>",
                            "<tr><td>10724</td><td>61</td><td>142.0700</td><td>13</td><td>0.000</td></tr>",
                            "<tr><td>10725</td><td>41</td><td>130.9300</td><td>7</td><td>0.000</td></tr>",
                            "<tr><td>10725</td><td>52</td><td>413.2100</td><td>14</td><td>0.000</td></tr>",
                            "<tr><td>10725</td><td>55</td><td>391.0100</td><td>1</td><td>0.000</td></tr>",
                            "<tr><td>10726</td><td>4</td><td>342.0100</td><td>14</td><td>0.000</td></tr>",
                            "<tr><td>10726</td><td>11</td><td>632.0000</td><td>12</td><td>0.000</td></tr>",
                            "<tr><td>10727</td><td>17</td><td>390.0400</td><td>2</td><td>0.050</td></tr>",
                            "<tr><td>10727</td><td>56</td><td>1736.2900</td><td>13</td><td>0.050</td></tr>",
                            "<tr><td>10727</td><td>59</td><td>1383.2200</td><td>15</td><td>0.050</td></tr>",
                            "<tr><td>10728</td><td>30</td><td>339.4400</td><td>8</td><td>0.000</td></tr>",
                            "<tr><td>10728</td><td>40</td><td>192.4100</td><td>6</td><td>0.000</td></tr>",
                            "<tr><td>10728</td><td>55</td><td>391.0100</td><td>3</td><td>0.000</td></tr>",
                            "<tr><td>10728</td><td>60</td><td>747.5000</td><td>11</td><td>0.000</td></tr>",
                            "<tr><td>10729</td><td>1</td><td>1286.0100</td><td>3</td><td>0.000</td></tr>",
                            "<tr><td>10729</td><td>21</td><td>598.5600</td><td>12</td><td>0.000</td></tr>",
                            "<tr><td>10729</td><td>50</td><td>99.0000</td><td>14</td><td>0.000</td></tr>",
                            "<tr><td>10730</td><td>16</td><td>578.9900</td><td>5</td><td>0.050</td></tr>",
                            "<tr><td>10730</td><td>31</td><td>159.0000</td><td>2</td><td>0.050</td></tr>",
                            "<tr><td>10730</td><td>65</td><td>181.0200</td><td>7</td><td>0.050</td></tr>",
                            "<tr><td>10731</td><td>21</td><td>623.5000</td><td>8</td><td>0.050</td></tr>",
                            "<tr><td>10731</td><td>51</td><td>44.0500</td><td>12</td><td>0.050</td></tr>",
                            "<tr><td>10732</td><td>76</td><td>68.0000</td><td>1</td><td>0.000</td></tr>",
                            "<tr><td>10733</td><td>14</td><td>22.3200</td><td>4</td><td>0.000</td></tr>",
                            "<tr><td>10733</td><td>28</td><td>30.7200</td><td>11</td><td>0.000</td></tr>",
                            "<tr><td>10733</td><td>52</td><td>413.2100</td><td>7</td><td>0.000</td></tr>",
                            "<tr><td>10734</td><td>6</td><td>109.0000</td><td>4</td><td>0.000</td></tr>",
                            "<tr><td>10734</td><td>30</td><td>339.4400</td><td>4</td><td>0.000</td></tr>",
                            "<tr><td>10734</td><td>76</td><td>65.2800</td><td>2</td><td>0.000</td></tr>",
                            "<tr><td>10735</td><td>61</td><td>147.9900</td><td>12</td><td>0.100</td></tr>",
                            "<tr><td>10735</td><td>77</td><td>126.2200</td><td>15</td><td>0.100</td></tr>",
                            "<tr><td>10736</td><td>65</td><td>175.5400</td><td>7</td><td>0.000</td></tr>",
                            "<tr><td>10736</td><td>75</td><td>51.8300</td><td>5</td><td>0.000</td></tr>",
                            "<tr><td>10737</td><td>13</td><td>59.0000</td><td>14</td><td>0.000</td></tr>",
                            "<tr><td>10737</td><td>41</td><td>130.9300</td><td>10</td><td>0.000</td></tr>",
                            "<tr><td>10738</td><td>16</td><td>578.9900</td><td>5</td><td>0.000</td></tr>",
                            "<tr><td>10739</td><td>36</td><td>681.9600</td><td>7</td><td>0.000</td></tr>",
                            "<tr><td>10739</td><td>52</td><td>408.9500</td><td>6</td><td>0.000</td></tr>",
                            "<tr><td>10740</td><td>28</td><td>31.0400</td><td>15</td><td>0.200</td></tr>",
                            "<tr><td>10740</td><td>35</td><td>66.2400</td><td>2</td><td>0.200</td></tr>",
                            "<tr><td>10740</td><td>45</td><td>240.9600</td><td>2</td><td>0.200</td></tr>",
                            "<tr><td>10740</td><td>56</td><td>1736.2900</td><td>3</td><td>0.200</td></tr>",
                            "<tr><td>10741</td><td>2</td><td>1469.0200</td><td>1</td><td>0.200</td></tr>",
                            "<tr><td>10742</td><td>3</td><td>775.0300</td><td>14</td><td>0.000</td></tr>",
                            "<tr><td>10742</td><td>60</td><td>747.5000</td><td>10</td><td>0.000</td></tr>",
                            "<tr><td>10742</td><td>72</td><td>98.9900</td><td>4</td><td>0.000</td></tr>",
                            "<tr><td>10743</td><td>46</td><td>72.5100</td><td>14</td><td>0.050</td></tr>",
                            "<tr><td>10744</td><td>40</td><td>192.4100</td><td>1</td><td>0.200</td></tr>",
                            "<tr><td>10745</td><td>18</td><td>27.8900</td><td>12</td><td>0.000</td></tr>",
                            "<tr><td>10745</td><td>44</td><td>561.6200</td><td>13</td><td>0.000</td></tr>",
                            "<tr><td>10745</td><td>59</td><td>1411.7400</td><td>13</td><td>0.000</td></tr>",
                            "<tr><td>10745</td><td>72</td><td>98.9900</td><td>2</td><td>0.000</td></tr>",
                            "<tr><td>10746</td><td>13</td><td>57.8200</td><td>5</td><td>0.000</td></tr>",
                            "<tr><td>10746</td><td>42</td><td>1022.6700</td><td>15</td><td>0.000</td></tr>",
                            "<tr><td>10746</td><td>62</td><td>69.2900</td><td>10</td><td>0.000</td></tr>",
                            "<tr><td>10746</td><td>69</td><td>326.3300</td><td>13</td><td>0.000</td></tr>",
                            "<tr><td>10747</td><td>31</td><td>157.4100</td><td>11</td><td>0.000</td></tr>",
                            "<tr><td>10747</td><td>41</td><td>126.9600</td><td>11</td><td>0.000</td></tr>",
                            "<tr><td>10747</td><td>63</td><td>1880.0100</td><td>15</td><td>0.000</td></tr>",
                            "<tr><td>10747</td><td>69</td><td>329.6600</td><td>4</td><td>0.000</td></tr>",
                            "<tr><td>10748</td><td>23</td><td>343.9300</td><td>1</td><td>0.000</td></tr>",
                            "<tr><td>10748</td><td>40</td><td>190.4600</td><td>5</td><td>0.000</td></tr>",
                            "<tr><td>10748</td><td>56</td><td>1772.0900</td><td>13</td><td>0.000</td></tr>",
                            "<tr><td>10749</td><td>56</td><td>1718.3900</td><td>4</td><td>0.000</td></tr>",
                            "<tr><td>10749</td><td>59</td><td>1368.9600</td><td>2</td><td>0.000</td></tr>",
                            "<tr><td>10749</td><td>76</td><td>65.9600</td><td>15</td><td>0.000</td></tr>",
                            "<tr><td>10750</td><td>14</td><td>22.5500</td><td>5</td><td>0.150</td></tr>",
                            "<tr><td>10750</td><td>45</td><td>251.0000</td><td>11</td><td>0.150</td></tr>",
                            "<tr><td>10750</td><td>59</td><td>1383.2200</td><td>8</td><td>0.150</td></tr>",
                            "<tr><td>10751</td><td>26</td><td>2466.7500</td><td>14</td><td>0.100</td></tr>",
                            "<tr><td>10751</td><td>30</td><td>346.4400</td><td>15</td><td>0.000</td></tr>",
                            "<tr><td>10751</td><td>50</td><td>99.0000</td><td>8</td><td>0.100</td></tr>",
                            "<tr><td>10751</td><td>73</td><td>185.2700</td><td>8</td><td>0.000</td></tr>",
                            "<tr><td>10752</td><td>1</td><td>1260.0300</td><td>2</td><td>0.000</td></tr>",
                            "<tr><td>10752</td><td>69</td><td>323.0000</td><td>4</td><td>0.000</td></tr>",
                            "<tr><td>10753</td><td>45</td><td>251.0000</td><td>6</td><td>0.000</td></tr>",
                            "<tr><td>10753</td><td>74</td><td>32.8100</td><td>5</td><td>0.000</td></tr>",
                            "<tr><td>10754</td><td>40</td><td>190.4600</td><td>3</td><td>0.000</td></tr>",
                            "<tr><td>10755</td><td>47</td><td>949.4400</td><td>8</td><td>0.250</td></tr>",
                            "<tr><td>10755</td><td>56</td><td>1772.0900</td><td>5</td><td>0.250</td></tr>",
                            "<tr><td>10755</td><td>57</td><td>2040.8800</td><td>10</td><td>0.250</td></tr>",
                            "<tr><td>10755</td><td>69</td><td>329.6600</td><td>6</td><td>0.250</td></tr>",
                            "<tr><td>10756</td><td>18</td><td>28.7500</td><td>5</td><td>0.200</td></tr>",
                            "<tr><td>10756</td><td>36</td><td>661.3000</td><td>6</td><td>0.200</td></tr>",
                            "<tr><td>10756</td><td>68</td><td>48.9900</td><td>14</td><td>0.200</td></tr>",
                            "<tr><td>10756</td><td>69</td><td>323.0000</td><td>11</td><td>0.200</td></tr>",
                            "<tr><td>10757</td><td>34</td><td>1499.0000</td><td>1</td><td>0.000</td></tr>",
                            "<tr><td>10757</td><td>59</td><td>1426.0000</td><td>6</td><td>0.000</td></tr>",
                            "<tr><td>10757</td><td>62</td><td>69.2900</td><td>4</td><td>0.000</td></tr>",
                            "<tr><td>10757</td><td>64</td><td>1598.9900</td><td>5</td><td>0.000</td></tr>",
                            "<tr><td>10758</td><td>26</td><td>2491.6700</td><td>9</td><td>0.000</td></tr>",
                            "<tr><td>10758</td><td>52</td><td>425.9900</td><td>3</td><td>0.000</td></tr>",
                            "<tr><td>10758</td><td>70</td><td>81.4800</td><td>7</td><td>0.000</td></tr>",
                            "<tr><td>10759</td><td>32</td><td>253.8100</td><td>15</td><td>0.000</td></tr>",
                            "<tr><td>10760</td><td>25</td><td>898.9900</td><td>9</td><td>0.250</td></tr>",
                            "<tr><td>10760</td><td>27</td><td>241.5300</td><td>14</td><td>0.000</td></tr>",
                            "<tr><td>10760</td><td>43</td><td>84.2300</td><td>4</td><td>0.250</td></tr>",
                            "<tr><td>10761</td><td>25</td><td>898.9900</td><td>12</td><td>0.250</td></tr>",
                            "<tr><td>10761</td><td>75</td><td>51.8300</td><td>14</td><td>0.000</td></tr>",
                            "<tr><td>10762</td><td>39</td><td>23.0000</td><td>2</td><td>0.000</td></tr>",
                            "<tr><td>10762</td><td>47</td><td>959.3300</td><td>2</td><td>0.000</td></tr>",
                            "<tr><td>10762</td><td>51</td><td>43.6000</td><td>4</td><td>0.000</td></tr>",
                            "<tr><td>10762</td><td>56</td><td>1754.1900</td><td>4</td><td>0.000</td></tr>",
                            "<tr><td>10763</td><td>21</td><td>611.0300</td><td>4</td><td>0.000</td></tr>",
                            "<tr><td>10763</td><td>22</td><td>3706.5600</td><td>13</td><td>0.000</td></tr>",
                            "<tr><td>10763</td><td>24</td><td>979.9900</td><td>7</td><td>0.000</td></tr>",
                            "<tr><td>10764</td><td>3</td><td>775.0300</td><td>4</td><td>0.100</td></tr>",
                            "<tr><td>10764</td><td>39</td><td>22.5400</td><td>10</td><td>0.100</td></tr>",
                            "<tr><td>10765</td><td>65</td><td>175.5400</td><td>5</td><td>0.100</td></tr>",
                            "<tr><td>10766</td><td>2</td><td>1499.0000</td><td>4</td><td>0.000</td></tr>",
                            "<tr><td>10766</td><td>7</td><td>39.0000</td><td>11</td><td>0.000</td></tr>",
                            "<tr><td>10766</td><td>68</td><td>47.9900</td><td>8</td><td>0.000</td></tr>",
                            "<tr><td>10767</td><td>42</td><td>991.6800</td><td>2</td><td>0.000</td></tr>",
                            "<tr><td>10768</td><td>22</td><td>3706.5600</td><td>10</td><td>0.000</td></tr>",
                            "<tr><td>10768</td><td>31</td><td>154.2300</td><td>1</td><td>0.000</td></tr>",
                            "<tr><td>10768</td><td>60</td><td>717.6000</td><td>2</td><td>0.000</td></tr>",
                            "<tr><td>10768</td><td>71</td><td>396.7300</td><td>14</td><td>0.000</td></tr>",
                            "<tr><td>10769</td><td>41</td><td>128.2800</td><td>7</td><td>0.050</td></tr>",
                            "<tr><td>10769</td><td>52</td><td>421.7300</td><td>4</td><td>0.050</td></tr>",
                            "<tr><td>10769</td><td>61</td><td>146.5100</td><td>10</td><td>0.000</td></tr>",
                            "<tr><td>10769</td><td>62</td><td>69.9900</td><td>9</td><td>0.000</td></tr>",
                            "<tr><td>10770</td><td>11</td><td>619.3600</td><td>1</td><td>0.250</td></tr>",
                            "<tr><td>10771</td><td>71</td><td>404.9100</td><td>3</td><td>0.000</td></tr>",
                            "<tr><td>10772</td><td>29</td><td>350.0000</td><td>4</td><td>0.000</td></tr>",
                            "<tr><td>10772</td><td>59</td><td>1397.4800</td><td>7</td><td>0.000</td></tr>",
                            "<tr><td>10773</td><td>17</td><td>386.0600</td><td>11</td><td>0.000</td></tr>",
                            "<tr><td>10773</td><td>31</td><td>159.0000</td><td>11</td><td>0.200</td></tr>",
                            "<tr><td>10773</td><td>75</td><td>52.3700</td><td>9</td><td>0.200</td></tr>",
                            "<tr><td>10774</td><td>31</td><td>159.0000</td><td>8</td><td>0.250</td></tr>",
                            "<tr><td>10774</td><td>66</td><td>79.9200</td><td>6</td><td>0.000</td></tr>",
                            "<tr><td>10775</td><td>10</td><td>779.0000</td><td>1</td><td>0.000</td></tr>",
                            "<tr><td>10775</td><td>67</td><td>19.4000</td><td>9</td><td>0.000</td></tr>",
                            "<tr><td>10776</td><td>31</td><td>152.6400</td><td>12</td><td>0.050</td></tr>",
                            "<tr><td>10776</td><td>42</td><td>1033.0000</td><td>6</td><td>0.050</td></tr>",
                            "<tr><td>10776</td><td>45</td><td>243.4700</td><td>3</td><td>0.050</td></tr>",
                            "<tr><td>10776</td><td>51</td><td>44.0500</td><td>8</td><td>0.050</td></tr>",
                            "<tr><td>10777</td><td>42</td><td>1002.0100</td><td>7</td><td>0.200</td></tr>",
                            "<tr><td>10778</td><td>41</td><td>129.6100</td><td>10</td><td>0.000</td></tr>",
                            "<tr><td>10779</td><td>16</td><td>561.6200</td><td>14</td><td>0.000</td></tr>",
                            "<tr><td>10779</td><td>62</td><td>69.9900</td><td>15</td><td>0.000</td></tr>",
                            "<tr><td>10780</td><td>70</td><td>84.0000</td><td>4</td><td>0.000</td></tr>",
                            "<tr><td>10780</td><td>77</td><td>124.9400</td><td>5</td><td>0.000</td></tr>",
                            "<tr><td>10781</td><td>54</td><td>648.0300</td><td>4</td><td>0.200</td></tr>",
                            "<tr><td>10781</td><td>56</td><td>1789.9900</td><td>9</td><td>0.200</td></tr>",
                            "<tr><td>10781</td><td>74</td><td>33.4800</td><td>2</td><td>0.000</td></tr>",
                            "<tr><td>10782</td><td>31</td><td>159.0000</td><td>4</td><td>0.000</td></tr>",
                            "<tr><td>10783</td><td>31</td><td>155.8200</td><td>7</td><td>0.000</td></tr>",
                            "<tr><td>10783</td><td>38</td><td>329.3200</td><td>8</td><td>0.000</td></tr>",
                            "<tr><td>10784</td><td>36</td><td>668.1800</td><td>5</td><td>0.000</td></tr>",
                            "<tr><td>10784</td><td>39</td><td>22.0800</td><td>14</td><td>0.150</td></tr>",
                            "<tr><td>10784</td><td>72</td><td>97.0100</td><td>13</td><td>0.150</td></tr>",
                            "<tr><td>10785</td><td>10</td><td>779.0000</td><td>5</td><td>0.000</td></tr>",
                            "<tr><td>10785</td><td>75</td><td>53.4500</td><td>10</td><td>0.000</td></tr>",
                            "<tr><td>10786</td><td>8</td><td>167.9200</td><td>9</td><td>0.200</td></tr>",
                            "<tr><td>10786</td><td>30</td><td>349.9400</td><td>11</td><td>0.200</td></tr>",
                            "<tr><td>10786</td><td>75</td><td>52.3700</td><td>4</td><td>0.200</td></tr>",
                            "<tr><td>10787</td><td>2</td><td>1439.0400</td><td>6</td><td>0.050</td></tr>",
                            "<tr><td>10787</td><td>29</td><td>343.0000</td><td>7</td><td>0.050</td></tr>",
                            "<tr><td>10788</td><td>19</td><td>632.6400</td><td>2</td><td>0.050</td></tr>",
                            "<tr><td>10788</td><td>75</td><td>52.3700</td><td>10</td><td>0.050</td></tr>",
                            "<tr><td>10789</td><td>18</td><td>28.7500</td><td>2</td><td>0.000</td></tr>",
                            "<tr><td>10789</td><td>35</td><td>66.2400</td><td>11</td><td>0.000</td></tr>",
                            "<tr><td>10789</td><td>63</td><td>1861.0200</td><td>5</td><td>0.000</td></tr>",
                            "<tr><td>10789</td><td>68</td><td>48.9900</td><td>3</td><td>0.000</td></tr>",
                            "<tr><td>10790</td><td>7</td><td>38.6100</td><td>7</td><td>0.150</td></tr>",
                            "<tr><td>10790</td><td>56</td><td>1736.2900</td><td>14</td><td>0.150</td></tr>",
                            "<tr><td>10791</td><td>29</td><td>339.5000</td><td>14</td><td>0.050</td></tr>",
                            "<tr><td>10791</td><td>41</td><td>129.6100</td><td>2</td><td>0.050</td></tr>",
                            "<tr><td>10792</td><td>2</td><td>1454.0300</td><td>1</td><td>0.000</td></tr>",
                            "<tr><td>10792</td><td>54</td><td>641.4100</td><td>10</td><td>0.000</td></tr>",
                            "<tr><td>10792</td><td>68</td><td>48.9900</td><td>6</td><td>0.000</td></tr>",
                            "<tr><td>10793</td><td>41</td><td>129.6100</td><td>11</td><td>0.000</td></tr>",
                            "<tr><td>10793</td><td>52</td><td>421.7300</td><td>8</td><td>0.000</td></tr>",
                            "<tr><td>10794</td><td>14</td><td>22.3200</td><td>6</td><td>0.200</td></tr>",
                            "<tr><td>10794</td><td>54</td><td>648.0300</td><td>9</td><td>0.200</td></tr>",
                            "<tr><td>10795</td><td>16</td><td>578.9900</td><td>11</td><td>0.000</td></tr>",
                            "<tr><td>10795</td><td>17</td><td>382.0800</td><td>15</td><td>0.250</td></tr>",
                            "<tr><td>10796</td><td>26</td><td>2392.0000</td><td>8</td><td>0.200</td></tr>",
                            "<tr><td>10796</td><td>44</td><td>578.9900</td><td>10</td><td>0.000</td></tr>",
                            "<tr><td>10796</td><td>64</td><td>1535.0300</td><td>11</td><td>0.200</td></tr>",
                            "<tr><td>10796</td><td>69</td><td>326.3300</td><td>4</td><td>0.200</td></tr>",
                            "<tr><td>10797</td><td>11</td><td>619.3600</td><td>13</td><td>0.000</td></tr>",
                            "<tr><td>10798</td><td>62</td><td>67.8900</td><td>7</td><td>0.000</td></tr>",
                            "<tr><td>10798</td><td>72</td><td>96.0200</td><td>10</td><td>0.000</td></tr>",
                            "<tr><td>10799</td><td>13</td><td>57.8200</td><td>15</td><td>0.150</td></tr>",
                            "<tr><td>10799</td><td>24</td><td>969.9900</td><td>15</td><td>0.150</td></tr>",
                            "<tr><td>10799</td><td>59</td><td>1368.9600</td><td>11</td><td>0.000</td></tr>",
                            "<tr><td>10800</td><td>11</td><td>632.0000</td><td>9</td><td>0.100</td></tr>",
                            "<tr><td>10800</td><td>51</td><td>42.7100</td><td>2</td><td>0.100</td></tr>",
                            "<tr><td>10800</td><td>54</td><td>641.4100</td><td>6</td><td>0.100</td></tr>",
                            "<tr><td>10801</td><td>17</td><td>390.0400</td><td>5</td><td>0.250</td></tr>",
                            "<tr><td>10801</td><td>29</td><td>336.0000</td><td>6</td><td>0.250</td></tr>",
                            "<tr><td>10802</td><td>30</td><td>349.9400</td><td>10</td><td>0.250</td></tr>",
                            "<tr><td>10802</td><td>51</td><td>44.4900</td><td>6</td><td>0.250</td></tr>",
                            "<tr><td>10802</td><td>55</td><td>398.9900</td><td>14</td><td>0.250</td></tr>",
                            "<tr><td>10802</td><td>62</td><td>69.2900</td><td>6</td><td>0.250</td></tr>",
                            "<tr><td>10803</td><td>19</td><td>652.4100</td><td>12</td><td>0.050</td></tr>",
                            "<tr><td>10803</td><td>25</td><td>898.9900</td><td>7</td><td>0.050</td></tr>",
                            "<tr><td>10803</td><td>59</td><td>1426.0000</td><td>1</td><td>0.050</td></tr>",
                            "<tr><td>10804</td><td>10</td><td>747.8400</td><td>2</td><td>0.000</td></tr>",
                            "<tr><td>10804</td><td>28</td><td>30.7200</td><td>11</td><td>0.000</td></tr>",
                            "<tr><td>10804</td><td>49</td><td>319.1100</td><td>7</td><td>0.150</td></tr>",
                            "<tr><td>10805</td><td>34</td><td>1439.0400</td><td>10</td><td>0.000</td></tr>",
                            "<tr><td>10805</td><td>38</td><td>329.3200</td><td>3</td><td>0.000</td></tr>",
                            "<tr><td>10806</td><td>2</td><td>1439.0400</td><td>4</td><td>0.250</td></tr>",
                            "<tr><td>10806</td><td>65</td><td>177.3600</td><td>6</td><td>0.000</td></tr>",
                            "<tr><td>10806</td><td>74</td><td>33.4800</td><td>11</td><td>0.250</td></tr>",
                            "<tr><td>10807</td><td>40</td><td>192.4100</td><td>3</td><td>0.000</td></tr>",
                            "<tr><td>10808</td><td>56</td><td>1736.2900</td><td>7</td><td>0.150</td></tr>",
                            "<tr><td>10808</td><td>76</td><td>65.2800</td><td>4</td><td>0.150</td></tr>",
                            "<tr><td>10809</td><td>52</td><td>413.2100</td><td>3</td><td>0.000</td></tr>",
                            "<tr><td>10810</td><td>13</td><td>58.4100</td><td>15</td><td>0.000</td></tr>",
                            "<tr><td>10810</td><td>25</td><td>898.9900</td><td>10</td><td>0.000</td></tr>",
                            "<tr><td>10810</td><td>70</td><td>80.6400</td><td>13</td><td>0.000</td></tr>",
                            "<tr><td>10811</td><td>19</td><td>659.0000</td><td>2</td><td>0.000</td></tr>",
                            "<tr><td>10811</td><td>23</td><td>347.4400</td><td>1</td><td>0.000</td></tr>",
                            "<tr><td>10811</td><td>40</td><td>192.4100</td><td>13</td><td>0.000</td></tr>",
                            "<tr><td>10812</td><td>31</td><td>152.6400</td><td>6</td><td>0.100</td></tr>",
                            "<tr><td>10812</td><td>72</td><td>95.0300</td><td>6</td><td>0.100</td></tr>",
                            "<tr><td>10812</td><td>77</td><td>127.5100</td><td>7</td><td>0.000</td></tr>",
                            "<tr><td>10813</td><td>2</td><td>1484.0100</td><td>9</td><td>0.200</td></tr>",
                            "<tr><td>10813</td><td>46</td><td>71.7600</td><td>13</td><td>0.000</td></tr>",
                            "<tr><td>10814</td><td>41</td><td>126.9600</td><td>2</td><td>0.000</td></tr>",
                            "<tr><td>10814</td><td>43</td><td>85.0900</td><td>8</td><td>0.150</td></tr>",
                            "<tr><td>10814</td><td>48</td><td>1454.0300</td><td>10</td><td>0.150</td></tr>",
                            "<tr><td>10814</td><td>61</td><td>145.0300</td><td>15</td><td>0.150</td></tr>",
                            "<tr><td>10815</td><td>33</td><td>22.9400</td><td>3</td><td>0.000</td></tr>",
                            "<tr><td>10816</td><td>38</td><td>339.5000</td><td>7</td><td>0.050</td></tr>",
                            "<tr><td>10816</td><td>62</td><td>67.8900</td><td>10</td><td>0.050</td></tr>",
                            "<tr><td>10817</td><td>26</td><td>2466.7500</td><td>12</td><td>0.150</td></tr>",
                            "<tr><td>10817</td><td>38</td><td>325.9200</td><td>10</td><td>0.000</td></tr>",
                            "<tr><td>10817</td><td>40</td><td>194.3500</td><td>1</td><td>0.150</td></tr>",
                            "<tr><td>10817</td><td>62</td><td>69.2900</td><td>6</td><td>0.150</td></tr>",
                            "<tr><td>10818</td><td>32</td><td>258.9900</td><td>4</td><td>0.000</td></tr>",
                            "<tr><td>10818</td><td>41</td><td>129.6100</td><td>15</td><td>0.000</td></tr>",
                            "<tr><td>10819</td><td>43</td><td>85.9500</td><td>13</td><td>0.000</td></tr>",
                            "<tr><td>10819</td><td>75</td><td>53.9900</td><td>15</td><td>0.000</td></tr>",
                            "<tr><td>10820</td><td>56</td><td>1789.9900</td><td>7</td><td>0.000</td></tr>",
                            "<tr><td>10821</td><td>35</td><td>66.9300</td><td>3</td><td>0.000</td></tr>",
                            "<tr><td>10821</td><td>51</td><td>42.7100</td><td>6</td><td>0.000</td></tr>",
                            "<tr><td>10822</td><td>62</td><td>69.9900</td><td>2</td><td>0.000</td></tr>",
                            "<tr><td>10822</td><td>70</td><td>80.6400</td><td>5</td><td>0.000</td></tr>",
                            "<tr><td>10823</td><td>11</td><td>613.0400</td><td>13</td><td>0.100</td></tr>",
                            "<tr><td>10823</td><td>57</td><td>2019.8400</td><td>4</td><td>0.000</td></tr>",
                            "<tr><td>10823</td><td>59</td><td>1411.7400</td><td>8</td><td>0.100</td></tr>",
                            "<tr><td>10823</td><td>77</td><td>124.9400</td><td>1</td><td>0.100</td></tr>",
                            "<tr><td>10824</td><td>41</td><td>129.6100</td><td>12</td><td>0.000</td></tr>",
                            "<tr><td>10824</td><td>70</td><td>82.3200</td><td>10</td><td>0.000</td></tr>",
                            "<tr><td>10825</td><td>26</td><td>2392.0000</td><td>2</td><td>0.000</td></tr>",
                            "<tr><td>10825</td><td>53</td><td>291.0000</td><td>14</td><td>0.000</td></tr>",
                            "<tr><td>10826</td><td>31</td><td>154.2300</td><td>14</td><td>0.000</td></tr>",
                            "<tr><td>10826</td><td>57</td><td>2040.8800</td><td>15</td><td>0.000</td></tr>",
                            "<tr><td>10827</td><td>10</td><td>763.4200</td><td>15</td><td>0.000</td></tr>",
                            "<tr><td>10827</td><td>39</td><td>22.7700</td><td>11</td><td>0.000</td></tr>",
                            "<tr><td>10828</td><td>20</td><td>571.2000</td><td>13</td><td>0.000</td></tr>",
                            "<tr><td>10828</td><td>38</td><td>325.9200</td><td>11</td><td>0.000</td></tr>",
                            "<tr><td>10829</td><td>2</td><td>1469.0200</td><td>2</td><td>0.000</td></tr>",
                            "<tr><td>10829</td><td>8</td><td>171.3500</td><td>11</td><td>0.000</td></tr>",
                            "<tr><td>10829</td><td>13</td><td>56.6400</td><td>8</td><td>0.000</td></tr>",
                            "<tr><td>10829</td><td>60</td><td>717.6000</td><td>15</td><td>0.000</td></tr>",
                            "<tr><td>10830</td><td>6</td><td>106.8200</td><td>6</td><td>0.000</td></tr>",
                            "<tr><td>10830</td><td>39</td><td>22.5400</td><td>8</td><td>0.000</td></tr>",
                            "<tr><td>10830</td><td>60</td><td>732.5500</td><td>8</td><td>0.000</td></tr>",
                            "<tr><td>10830</td><td>68</td><td>49.4900</td><td>7</td><td>0.000</td></tr>",
                            "<tr><td>10831</td><td>19</td><td>652.4100</td><td>9</td><td>0.000</td></tr>",
                            "<tr><td>10831</td><td>35</td><td>66.2400</td><td>3</td><td>0.000</td></tr>",
                            "<tr><td>10831</td><td>38</td><td>325.9200</td><td>7</td><td>0.000</td></tr>",
                            "<tr><td>10831</td><td>43</td><td>84.2300</td><td>2</td><td>0.000</td></tr>",
                            "<tr><td>10832</td><td>13</td><td>58.4100</td><td>10</td><td>0.200</td></tr>",
                            "<tr><td>10832</td><td>25</td><td>898.9900</td><td>3</td><td>0.200</td></tr>",
                            "<tr><td>10832</td><td>44</td><td>555.8300</td><td>5</td><td>0.200</td></tr>",
                            "<tr><td>10832</td><td>64</td><td>1535.0300</td><td>3</td><td>0.000</td></tr>",
                            "<tr><td>10833</td><td>7</td><td>38.2200</td><td>3</td><td>0.100</td></tr>",
                            "<tr><td>10833</td><td>31</td><td>154.2300</td><td>14</td><td>0.100</td></tr>",
                            "<tr><td>10833</td><td>53</td><td>294.0000</td><td>10</td><td>0.100</td></tr>",
                            "<tr><td>10834</td><td>29</td><td>339.5000</td><td>14</td><td>0.050</td></tr>",
                            "<tr><td>10834</td><td>30</td><td>342.9400</td><td>14</td><td>0.050</td></tr>",
                            "<tr><td>10835</td><td>59</td><td>1397.4800</td><td>15</td><td>0.000</td></tr>",
                            "<tr><td>10835</td><td>77</td><td>128.8000</td><td>13</td><td>0.200</td></tr>",
                            "<tr><td>10836</td><td>22</td><td>3744.0000</td><td>15</td><td>0.000</td></tr>",
                            "<tr><td>10836</td><td>35</td><td>68.3100</td><td>15</td><td>0.000</td></tr>",
                            "<tr><td>10836</td><td>57</td><td>2104.0000</td><td>11</td><td>0.000</td></tr>",
                            "<tr><td>10836</td><td>60</td><td>725.0800</td><td>2</td><td>0.000</td></tr>",
                            "<tr><td>10836</td><td>64</td><td>1567.0100</td><td>5</td><td>0.000</td></tr>",
                            "<tr><td>10837</td><td>13</td><td>56.6400</td><td>3</td><td>0.000</td></tr>",
                            "<tr><td>10837</td><td>40</td><td>186.5800</td><td>5</td><td>0.000</td></tr>",
                            "<tr><td>10837</td><td>47</td><td>949.4400</td><td>5</td><td>0.250</td></tr>",
                            "<tr><td>10837</td><td>76</td><td>68.0000</td><td>5</td><td>0.250</td></tr>",
                            "<tr><td>10838</td><td>1</td><td>1286.0100</td><td>3</td><td>0.250</td></tr>",
                            "<tr><td>10838</td><td>18</td><td>27.8900</td><td>10</td><td>0.250</td></tr>",
                            "<tr><td>10838</td><td>36</td><td>668.1800</td><td>15</td><td>0.250</td></tr>",
                            "<tr><td>10839</td><td>58</td><td>97.0100</td><td>11</td><td>0.100</td></tr>",
                            "<tr><td>10839</td><td>72</td><td>95.0300</td><td>10</td><td>0.100</td></tr>",
                            "<tr><td>10840</td><td>25</td><td>898.9900</td><td>14</td><td>0.200</td></tr>",
                            "<tr><td>10840</td><td>39</td><td>22.5400</td><td>11</td><td>0.200</td></tr>",
                            "<tr><td>10841</td><td>10</td><td>771.2100</td><td>12</td><td>0.000</td></tr>",
                            "<tr><td>10841</td><td>56</td><td>1754.1900</td><td>6</td><td>0.000</td></tr>",
                            "<tr><td>10841</td><td>59</td><td>1426.0000</td><td>15</td><td>0.000</td></tr>",
                            "<tr><td>10841</td><td>77</td><td>126.2200</td><td>11</td><td>0.000</td></tr>",
                            "<tr><td>10842</td><td>11</td><td>606.7200</td><td>10</td><td>0.000</td></tr>",
                            "<tr><td>10842</td><td>43</td><td>82.5100</td><td>14</td><td>0.000</td></tr>",
                            "<tr><td>10842</td><td>68</td><td>48.9900</td><td>7</td><td>0.000</td></tr>",
                            "<tr><td>10842</td><td>70</td><td>83.1600</td><td>10</td><td>0.000</td></tr>",
                            "<tr><td>10843</td><td>51</td><td>42.7100</td><td>9</td><td>0.250</td></tr>",
                            "<tr><td>10844</td><td>22</td><td>3744.0000</td><td>4</td><td>0.000</td></tr>",
                            "<tr><td>10845</td><td>23</td><td>350.9500</td><td>11</td><td>0.100</td></tr>",
                            "<tr><td>10845</td><td>35</td><td>66.2400</td><td>1</td><td>0.100</td></tr>",
                            "<tr><td>10845</td><td>42</td><td>1012.3400</td><td>6</td><td>0.100</td></tr>",
                            "<tr><td>10845</td><td>58</td><td>95.0300</td><td>12</td><td>0.100</td></tr>",
                            "<tr><td>10845</td><td>64</td><td>1551.0200</td><td>12</td><td>0.000</td></tr>",
                            "<tr><td>10846</td><td>4</td><td>335.0300</td><td>2</td><td>0.000</td></tr>",
                            "<tr><td>10846</td><td>70</td><td>81.4800</td><td>7</td><td>0.000</td></tr>",
                            "<tr><td>10846</td><td>74</td><td>32.8100</td><td>12</td><td>0.000</td></tr>",
                            "<tr><td>10847</td><td>1</td><td>1299.0000</td><td>3</td><td>0.200</td></tr>",
                            "<tr><td>10847</td><td>19</td><td>659.0000</td><td>14</td><td>0.200</td></tr>",
                            "<tr><td>10847</td><td>37</td><td>240.3500</td><td>7</td><td>0.200</td></tr>",
                            "<tr><td>10847</td><td>45</td><td>245.9800</td><td>9</td><td>0.200</td></tr>",
                            "<tr><td>10847</td><td>60</td><td>747.5000</td><td>15</td><td>0.200</td></tr>",
                            "<tr><td>10847</td><td>71</td><td>396.7300</td><td>6</td><td>0.200</td></tr>",
                            "<tr><td>10848</td><td>5</td><td>144.5300</td><td>12</td><td>0.000</td></tr>",
                            "<tr><td>10848</td><td>9</td><td>495.0000</td><td>7</td><td>0.000</td></tr>",
                            "<tr><td>10849</td><td>3</td><td>775.0300</td><td>6</td><td>0.000</td></tr>",
                            "<tr><td>10849</td><td>26</td><td>2491.6700</td><td>2</td><td>0.150</td></tr>",
                            "<tr><td>10850</td><td>25</td><td>898.9900</td><td>9</td><td>0.150</td></tr>",
                            "<tr><td>10850</td><td>33</td><td>22.9400</td><td>1</td><td>0.150</td></tr>",
                            "<tr><td>10850</td><td>70</td><td>84.0000</td><td>2</td><td>0.150</td></tr>",
                            "<tr><td>10851</td><td>2</td><td>1454.0300</td><td>2</td><td>0.050</td></tr>",
                            "<tr><td>10851</td><td>25</td><td>898.9900</td><td>4</td><td>0.050</td></tr>",
                            "<tr><td>10851</td><td>57</td><td>2061.9200</td><td>2</td><td>0.050</td></tr>",
                            "<tr><td>10851</td><td>59</td><td>1426.0000</td><td>6</td><td>0.050</td></tr>",
                            "<tr><td>10852</td><td>2</td><td>1499.0000</td><td>2</td><td>0.000</td></tr>",
                            "<tr><td>10852</td><td>17</td><td>382.0800</td><td>8</td><td>0.000</td></tr>",
                            "<tr><td>10852</td><td>62</td><td>67.8900</td><td>13</td><td>0.000</td></tr>",
                            "<tr><td>10853</td><td>18</td><td>27.6000</td><td>15</td><td>0.000</td></tr>",
                            "<tr><td>10854</td><td>10</td><td>755.6300</td><td>2</td><td>0.150</td></tr>",
                            "<tr><td>10854</td><td>13</td><td>58.4100</td><td>11</td><td>0.150</td></tr>",
                            "<tr><td>10855</td><td>16</td><td>573.2000</td><td>13</td><td>0.000</td></tr>",
                            "<tr><td>10855</td><td>31</td><td>154.2300</td><td>10</td><td>0.000</td></tr>",
                            "<tr><td>10855</td><td>56</td><td>1718.3900</td><td>1</td><td>0.000</td></tr>",
                            "<tr><td>10855</td><td>65</td><td>179.1900</td><td>6</td><td>0.150</td></tr>",
                            "<tr><td>10856</td><td>2</td><td>1469.0200</td><td>5</td><td>0.000</td></tr>",
                            "<tr><td>10856</td><td>42</td><td>1002.0100</td><td>3</td><td>0.000</td></tr>",
                            "<tr><td>10857</td><td>3</td><td>775.0300</td><td>3</td><td>0.000</td></tr>",
                            "<tr><td>10857</td><td>26</td><td>2392.0000</td><td>10</td><td>0.250</td></tr>",
                            "<tr><td>10857</td><td>29</td><td>336.0000</td><td>10</td><td>0.250</td></tr>",
                            "<tr><td>10858</td><td>7</td><td>38.6100</td><td>1</td><td>0.000</td></tr>",
                            "<tr><td>10858</td><td>27</td><td>246.5100</td><td>11</td><td>0.000</td></tr>",
                            "<tr><td>10858</td><td>70</td><td>84.0000</td><td>4</td><td>0.000</td></tr>",
                            "<tr><td>10859</td><td>24</td><td>979.9900</td><td>7</td><td>0.250</td></tr>",
                            "<tr><td>10859</td><td>54</td><td>661.2500</td><td>12</td><td>0.250</td></tr>",
                            "<tr><td>10859</td><td>64</td><td>1567.0100</td><td>2</td><td>0.250</td></tr>",
                            "<tr><td>10860</td><td>51</td><td>43.1600</td><td>3</td><td>0.000</td></tr>",
                            "<tr><td>10860</td><td>76</td><td>65.2800</td><td>10</td><td>0.000</td></tr>",
                            "<tr><td>10861</td><td>17</td><td>386.0600</td><td>1</td><td>0.000</td></tr>",
                            "<tr><td>10861</td><td>18</td><td>28.7500</td><td>2</td><td>0.000</td></tr>",
                            "<tr><td>10861</td><td>21</td><td>623.5000</td><td>4</td><td>0.000</td></tr>",
                            "<tr><td>10861</td><td>33</td><td>22.4800</td><td>1</td><td>0.000</td></tr>",
                            "<tr><td>10861</td><td>62</td><td>68.5900</td><td>10</td><td>0.000</td></tr>",
                            "<tr><td>10862</td><td>11</td><td>613.0400</td><td>10</td><td>0.000</td></tr>",
                            "<tr><td>10862</td><td>52</td><td>421.7300</td><td>3</td><td>0.000</td></tr>",
                            "<tr><td>10863</td><td>1</td><td>1273.0200</td><td>8</td><td>0.150</td></tr>",
                            "<tr><td>10863</td><td>58</td><td>96.0200</td><td>9</td><td>0.150</td></tr>",
                            "<tr><td>10864</td><td>35</td><td>69.0000</td><td>12</td><td>0.000</td></tr>",
                            "<tr><td>10864</td><td>67</td><td>19.2000</td><td>3</td><td>0.000</td></tr>",
                            "<tr><td>10865</td><td>38</td><td>339.5000</td><td>7</td><td>0.050</td></tr>",
                            "<tr><td>10865</td><td>39</td><td>22.3100</td><td>6</td><td>0.050</td></tr>",
                            "<tr><td>10866</td><td>2</td><td>1499.0000</td><td>13</td><td>0.250</td></tr>",
                            "<tr><td>10866</td><td>24</td><td>979.9900</td><td>4</td><td>0.250</td></tr>",
                            "<tr><td>10866</td><td>30</td><td>342.9400</td><td>4</td><td>0.250</td></tr>",
                            "<tr><td>10867</td><td>53</td><td>297.0000</td><td>7</td><td>0.000</td></tr>",
                            "<tr><td>10868</td><td>26</td><td>2416.9200</td><td>1</td><td>0.000</td></tr>",
                            "<tr><td>10868</td><td>35</td><td>68.3100</td><td>11</td><td>0.000</td></tr>",
                            "<tr><td>10868</td><td>49</td><td>312.6000</td><td>1</td><td>0.100</td></tr>",
                            "<tr><td>10869</td><td>1</td><td>1273.0200</td><td>9</td><td>0.000</td></tr>",
                            "<tr><td>10869</td><td>11</td><td>619.3600</td><td>10</td><td>0.000</td></tr>",
                            "<tr><td>10869</td><td>23</td><td>350.9500</td><td>7</td><td>0.000</td></tr>",
                            "<tr><td>10869</td><td>68</td><td>48.4900</td><td>2</td><td>0.000</td></tr>",
                            "<tr><td>10870</td><td>35</td><td>66.2400</td><td>5</td><td>0.000</td></tr>",
                            "<tr><td>10870</td><td>51</td><td>43.6000</td><td>4</td><td>0.000</td></tr>",
                            "<tr><td>10871</td><td>6</td><td>107.9100</td><td>10</td><td>0.050</td></tr>",
                            "<tr><td>10871</td><td>16</td><td>578.9900</td><td>10</td><td>0.050</td></tr>",
                            "<tr><td>10871</td><td>17</td><td>398.0000</td><td>7</td><td>0.050</td></tr>",
                            "<tr><td>10872</td><td>55</td><td>391.0100</td><td>9</td><td>0.050</td></tr>",
                            "<tr><td>10872</td><td>62</td><td>67.8900</td><td>12</td><td>0.050</td></tr>",
                            "<tr><td>10872</td><td>64</td><td>1551.0200</td><td>4</td><td>0.050</td></tr>",
                            "<tr><td>10872</td><td>65</td><td>175.5400</td><td>12</td><td>0.050</td></tr>",
                            "<tr><td>10873</td><td>21</td><td>598.5600</td><td>8</td><td>0.000</td></tr>",
                            "<tr><td>10873</td><td>28</td><td>30.7200</td><td>8</td><td>0.000</td></tr>",
                            "<tr><td>10874</td><td>10</td><td>763.4200</td><td>1</td><td>0.000</td></tr>",
                            "<tr><td>10875</td><td>19</td><td>632.6400</td><td>9</td><td>0.000</td></tr>",
                            "<tr><td>10875</td><td>47</td><td>979.1100</td><td>12</td><td>0.100</td></tr>",
                            "<tr><td>10875</td><td>49</td><td>312.6000</td><td>2</td><td>0.000</td></tr>",
                            "<tr><td>10876</td><td>46</td><td>72.5100</td><td>9</td><td>0.000</td></tr>",
                            "<tr><td>10876</td><td>64</td><td>1583.0000</td><td>9</td><td>0.000</td></tr>",
                            "<tr><td>10877</td><td>16</td><td>567.4100</td><td>2</td><td>0.250</td></tr>",
                            "<tr><td>10877</td><td>18</td><td>27.8900</td><td>11</td><td>0.000</td></tr>",
                            "<tr><td>10878</td><td>20</td><td>571.2000</td><td>14</td><td>0.050</td></tr>",
                            "<tr><td>10879</td><td>40</td><td>186.5800</td><td>10</td><td>0.000</td></tr>",
                            "<tr><td>10879</td><td>65</td><td>182.8500</td><td>1</td><td>0.000</td></tr>",
                            "<tr><td>10879</td><td>76</td><td>65.2800</td><td>13</td><td>0.000</td></tr>",
                            "<tr><td>10880</td><td>23</td><td>343.9300</td><td>12</td><td>0.200</td></tr>",
                            "<tr><td>10880</td><td>61</td><td>147.9900</td><td>8</td><td>0.200</td></tr>",
                            "<tr><td>10880</td><td>70</td><td>80.6400</td><td>2</td><td>0.200</td></tr>",
                            "<tr><td>10881</td><td>73</td><td>192.9900</td><td>2</td><td>0.000</td></tr>",
                            "<tr><td>10882</td><td>42</td><td>1022.6700</td><td>3</td><td>0.000</td></tr>",
                            "<tr><td>10882</td><td>49</td><td>319.1100</td><td>9</td><td>0.150</td></tr>",
                            "<tr><td>10882</td><td>54</td><td>634.8000</td><td>9</td><td>0.150</td></tr>",
                            "<tr><td>10883</td><td>24</td><td>969.9900</td><td>13</td><td>0.000</td></tr>",
                            "<tr><td>10884</td><td>21</td><td>617.2700</td><td>8</td><td>0.050</td></tr>",
                            "<tr><td>10884</td><td>56</td><td>1736.2900</td><td>12</td><td>0.050</td></tr>",
                            "<tr><td>10884</td><td>65</td><td>179.1900</td><td>6</td><td>0.050</td></tr>",
                            "<tr><td>10885</td><td>2</td><td>1454.0300</td><td>11</td><td>0.000</td></tr>",
                            "<tr><td>10885</td><td>24</td><td>979.9900</td><td>12</td><td>0.000</td></tr>",
                            "<tr><td>10885</td><td>70</td><td>80.6400</td><td>3</td><td>0.000</td></tr>",
                            "<tr><td>10885</td><td>77</td><td>123.6500</td><td>4</td><td>0.000</td></tr>",
                            "<tr><td>10886</td><td>10</td><td>779.0000</td><td>8</td><td>0.000</td></tr>",
                            "<tr><td>10886</td><td>31</td><td>159.0000</td><td>8</td><td>0.000</td></tr>",
                            "<tr><td>10886</td><td>77</td><td>123.6500</td><td>5</td><td>0.000</td></tr>",
                            "<tr><td>10887</td><td>25</td><td>898.9900</td><td>5</td><td>0.000</td></tr>",
                            "<tr><td>10888</td><td>2</td><td>1499.0000</td><td>15</td><td>0.000</td></tr>",
                            "<tr><td>10888</td><td>68</td><td>48.4900</td><td>1</td><td>0.000</td></tr>",
                            "<tr><td>10889</td><td>11</td><td>606.7200</td><td>11</td><td>0.000</td></tr>",
                            "<tr><td>10889</td><td>38</td><td>336.1100</td><td>13</td><td>0.000</td></tr>",
                            "<tr><td>10890</td><td>17</td><td>382.0800</td><td>4</td><td>0.000</td></tr>",
                            "<tr><td>10890</td><td>34</td><td>1484.0100</td><td>2</td><td>0.000</td></tr>",
                            "<tr><td>10890</td><td>41</td><td>128.2800</td><td>1</td><td>0.000</td></tr>",
                            "<tr><td>10891</td><td>30</td><td>349.9400</td><td>8</td><td>0.050</td></tr>",
                            "<tr><td>10892</td><td>59</td><td>1411.7400</td><td>8</td><td>0.050</td></tr>",
                            "<tr><td>10893</td><td>8</td><td>171.3500</td><td>7</td><td>0.000</td></tr>",
                            "<tr><td>10893</td><td>24</td><td>959.9900</td><td>13</td><td>0.000</td></tr>",
                            "<tr><td>10893</td><td>29</td><td>336.0000</td><td>4</td><td>0.000</td></tr>",
                            "<tr><td>10893</td><td>30</td><td>346.4400</td><td>15</td><td>0.000</td></tr>",
                            "<tr><td>10893</td><td>36</td><td>681.9600</td><td>11</td><td>0.000</td></tr>",
                            "<tr><td>10894</td><td>13</td><td>57.2300</td><td>12</td><td>0.050</td></tr>",
                            "<tr><td>10894</td><td>69</td><td>326.3300</td><td>10</td><td>0.050</td></tr>",
                            "<tr><td>10894</td><td>75</td><td>52.3700</td><td>1</td><td>0.050</td></tr>",
                            "<tr><td>10895</td><td>24</td><td>999.9900</td><td>4</td><td>0.000</td></tr>",
                            "<tr><td>10895</td><td>39</td><td>23.0000</td><td>10</td><td>0.000</td></tr>",
                            "<tr><td>10895</td><td>40</td><td>190.4600</td><td>11</td><td>0.000</td></tr>",
                            "<tr><td>10895</td><td>60</td><td>717.6000</td><td>5</td><td>0.000</td></tr>",
                            "<tr><td>10896</td><td>45</td><td>243.4700</td><td>6</td><td>0.000</td></tr>",
                            "<tr><td>10896</td><td>56</td><td>1772.0900</td><td>2</td><td>0.000</td></tr>",
                            "<tr><td>10897</td><td>29</td><td>343.0000</td><td>1</td><td>0.000</td></tr>",
                            "<tr><td>10897</td><td>30</td><td>335.9400</td><td>3</td><td>0.000</td></tr>",
                            "<tr><td>10898</td><td>13</td><td>57.8200</td><td>1</td><td>0.000</td></tr>",
                            "<tr><td>10899</td><td>39</td><td>23.0000</td><td>5</td><td>0.150</td></tr>",
                            "<tr><td>10900</td><td>70</td><td>81.4800</td><td>8</td><td>0.250</td></tr>",
                            "<tr><td>10901</td><td>41</td><td>129.6100</td><td>4</td><td>0.000</td></tr>",
                            "<tr><td>10901</td><td>71</td><td>400.8200</td><td>14</td><td>0.000</td></tr>",
                            "<tr><td>10902</td><td>55</td><td>391.0100</td><td>7</td><td>0.150</td></tr>",
                            "<tr><td>10902</td><td>62</td><td>67.8900</td><td>15</td><td>0.150</td></tr>",
                            "<tr><td>10903</td><td>13</td><td>57.2300</td><td>3</td><td>0.000</td></tr>",
                            "<tr><td>10903</td><td>65</td><td>175.5400</td><td>2</td><td>0.000</td></tr>",
                            "<tr><td>10903</td><td>68</td><td>48.9900</td><td>9</td><td>0.000</td></tr>",
                            "<tr><td>10904</td><td>58</td><td>96.0200</td><td>7</td><td>0.000</td></tr>",
                            "<tr><td>10904</td><td>62</td><td>69.2900</td><td>6</td><td>0.000</td></tr>",
                            "<tr><td>10905</td><td>1</td><td>1247.0400</td><td>12</td><td>0.050</td></tr>",
                            "<tr><td>10906</td><td>61</td><td>147.9900</td><td>8</td><td>0.000</td></tr>",
                            "<tr><td>10907</td><td>75</td><td>52.3700</td><td>1</td><td>0.000</td></tr>",
                            "<tr><td>10908</td><td>7</td><td>37.8300</td><td>14</td><td>0.050</td></tr>",
                            "<tr><td>10908</td><td>52</td><td>417.4700</td><td>14</td><td>0.050</td></tr>",
                            "<tr><td>10909</td><td>7</td><td>38.6100</td><td>2</td><td>0.000</td></tr>",
                            "<tr><td>10909</td><td>16</td><td>561.6200</td><td>8</td><td>0.000</td></tr>",
                            "<tr><td>10909</td><td>41</td><td>126.9600</td><td>11</td><td>0.000</td></tr>",
                            "<tr><td>10910</td><td>19</td><td>645.8200</td><td>5</td><td>0.000</td></tr>",
                            "<tr><td>10910</td><td>49</td><td>315.8500</td><td>12</td><td>0.000</td></tr>",
                            "<tr><td>10910</td><td>61</td><td>147.9900</td><td>15</td><td>0.000</td></tr>",
                            "<tr><td>10911</td><td>1</td><td>1247.0400</td><td>2</td><td>0.000</td></tr>",
                            "<tr><td>10911</td><td>17</td><td>382.0800</td><td>13</td><td>0.000</td></tr>",
                            "<tr><td>10911</td><td>67</td><td>19.4000</td><td>3</td><td>0.000</td></tr>",
                            "<tr><td>10912</td><td>11</td><td>613.0400</td><td>12</td><td>0.250</td></tr>",
                            "<tr><td>10912</td><td>29</td><td>339.5000</td><td>13</td><td>0.250</td></tr>",
                            "<tr><td>10913</td><td>4</td><td>335.0300</td><td>14</td><td>0.250</td></tr>",
                            "<tr><td>10913</td><td>33</td><td>22.9400</td><td>7</td><td>0.250</td></tr>",
                            "<tr><td>10913</td><td>58</td><td>98.9900</td><td>1</td><td>0.000</td></tr>",
                            "<tr><td>10914</td><td>71</td><td>400.8200</td><td>13</td><td>0.000</td></tr>",
                            "<tr><td>10915</td><td>17</td><td>398.0000</td><td>11</td><td>0.000</td></tr>",
                            "<tr><td>10915</td><td>33</td><td>22.2500</td><td>6</td><td>0.000</td></tr>",
                            "<tr><td>10915</td><td>54</td><td>634.8000</td><td>13</td><td>0.000</td></tr>",
                            "<tr><td>10916</td><td>16</td><td>573.2000</td><td>6</td><td>0.000</td></tr>",
                            "<tr><td>10916</td><td>32</td><td>256.4000</td><td>11</td><td>0.000</td></tr>",
                            "<tr><td>10916</td><td>57</td><td>2061.9200</td><td>2</td><td>0.000</td></tr>",
                            "<tr><td>10917</td><td>30</td><td>346.4400</td><td>6</td><td>0.000</td></tr>",
                            "<tr><td>10917</td><td>60</td><td>732.5500</td><td>6</td><td>0.000</td></tr>",
                            "<tr><td>10918</td><td>1</td><td>1286.0100</td><td>8</td><td>0.250</td></tr>",
                            "<tr><td>10918</td><td>60</td><td>732.5500</td><td>2</td><td>0.250</td></tr>",
                            "<tr><td>10919</td><td>16</td><td>578.9900</td><td>13</td><td>0.000</td></tr>",
                            "<tr><td>10919</td><td>25</td><td>898.9900</td><td>7</td><td>0.000</td></tr>",
                            "<tr><td>10919</td><td>40</td><td>194.3500</td><td>7</td><td>0.000</td></tr>",
                            "<tr><td>10920</td><td>50</td><td>96.0300</td><td>2</td><td>0.000</td></tr>",
                            "<tr><td>10921</td><td>35</td><td>67.6200</td><td>1</td><td>0.000</td></tr>",
                            "<tr><td>10921</td><td>63</td><td>1861.0200</td><td>4</td><td>0.000</td></tr>",
                            "<tr><td>10922</td><td>17</td><td>394.0200</td><td>8</td><td>0.000</td></tr>",
                            "<tr><td>10922</td><td>24</td><td>989.9900</td><td>3</td><td>0.000</td></tr>",
                            "<tr><td>10923</td><td>42</td><td>1012.3400</td><td>14</td><td>0.200</td></tr>",
                            "<tr><td>10923</td><td>43</td><td>85.0900</td><td>10</td><td>0.200</td></tr>",
                            "<tr><td>10923</td><td>67</td><td>20.0000</td><td>10</td><td>0.200</td></tr>",
                            "<tr><td>10924</td><td>10</td><td>771.2100</td><td>15</td><td>0.100</td></tr>",
                            "<tr><td>10924</td><td>28</td><td>31.3600</td><td>13</td><td>0.100</td></tr>",
                            "<tr><td>10924</td><td>75</td><td>51.8300</td><td>2</td><td>0.000</td></tr>",
                            "<tr><td>10925</td><td>36</td><td>675.0700</td><td>6</td><td>0.150</td></tr>",
                            "<tr><td>10925</td><td>52</td><td>408.9500</td><td>12</td><td>0.150</td></tr>",
                            "<tr><td>10926</td><td>11</td><td>606.7200</td><td>9</td><td>0.000</td></tr>",
                            "<tr><td>10926</td><td>13</td><td>59.0000</td><td>7</td><td>0.000</td></tr>",
                            "<tr><td>10926</td><td>19</td><td>639.2300</td><td>5</td><td>0.000</td></tr>",
                            "<tr><td>10926</td><td>72</td><td>97.0100</td><td>10</td><td>0.000</td></tr>",
                            "<tr><td>10927</td><td>20</td><td>577.1500</td><td>13</td><td>0.000</td></tr>",
                            "<tr><td>10927</td><td>52</td><td>421.7300</td><td>5</td><td>0.000</td></tr>",
                            "<tr><td>10927</td><td>76</td><td>67.3200</td><td>11</td><td>0.000</td></tr>",
                            "<tr><td>10928</td><td>47</td><td>989.0000</td><td>10</td><td>0.000</td></tr>",
                            "<tr><td>10928</td><td>76</td><td>67.3200</td><td>3</td><td>0.000</td></tr>",
                            "<tr><td>10929</td><td>21</td><td>604.8000</td><td>15</td><td>0.000</td></tr>",
                            "<tr><td>10929</td><td>75</td><td>53.4500</td><td>4</td><td>0.000</td></tr>",
                            "<tr><td>10929</td><td>77</td><td>128.8000</td><td>15</td><td>0.000</td></tr>",
                            "<tr><td>10930</td><td>21</td><td>604.8000</td><td>7</td><td>0.000</td></tr>",
                            "<tr><td>10930</td><td>27</td><td>244.0200</td><td>2</td><td>0.000</td></tr>",
                            "<tr><td>10930</td><td>55</td><td>383.0300</td><td>6</td><td>0.200</td></tr>",
                            "<tr><td>10930</td><td>58</td><td>98.0000</td><td>15</td><td>0.200</td></tr>",
                            "<tr><td>10931</td><td>13</td><td>57.8200</td><td>4</td><td>0.150</td></tr>",
                            "<tr><td>10931</td><td>57</td><td>2082.9600</td><td>5</td><td>0.000</td></tr>",
                            "<tr><td>10932</td><td>16</td><td>573.2000</td><td>7</td><td>0.100</td></tr>",
                            "<tr><td>10932</td><td>62</td><td>68.5900</td><td>1</td><td>0.100</td></tr>",
                            "<tr><td>10932</td><td>72</td><td>98.9900</td><td>10</td><td>0.000</td></tr>",
                            "<tr><td>10932</td><td>75</td><td>53.4500</td><td>1</td><td>0.100</td></tr>",
                            "<tr><td>10933</td><td>53</td><td>288.0000</td><td>15</td><td>0.000</td></tr>",
                            "<tr><td>10933</td><td>61</td><td>143.5500</td><td>6</td><td>0.000</td></tr>",
                            "<tr><td>10934</td><td>6</td><td>105.7300</td><td>5</td><td>0.000</td></tr>",
                            "<tr><td>10935</td><td>1</td><td>1286.0100</td><td>1</td><td>0.000</td></tr>",
                            "<tr><td>10935</td><td>18</td><td>27.8900</td><td>2</td><td>0.250</td></tr>",
                            "<tr><td>10935</td><td>23</td><td>340.4200</td><td>12</td><td>0.250</td></tr>",
                            "<tr><td>10936</td><td>36</td><td>668.1800</td><td>11</td><td>0.200</td></tr>",
                            "<tr><td>10937</td><td>28</td><td>31.0400</td><td>14</td><td>0.000</td></tr>",
                            "<tr><td>10937</td><td>34</td><td>1454.0300</td><td>12</td><td>0.000</td></tr>",
                            "<tr><td>10938</td><td>13</td><td>57.8200</td><td>11</td><td>0.250</td></tr>",
                            "<tr><td>10938</td><td>43</td><td>85.9500</td><td>11</td><td>0.250</td></tr>",
                            "<tr><td>10938</td><td>60</td><td>725.0800</td><td>6</td><td>0.250</td></tr>",
                            "<tr><td>10938</td><td>71</td><td>409.0000</td><td>11</td><td>0.250</td></tr>",
                            "<tr><td>10939</td><td>2</td><td>1469.0200</td><td>12</td><td>0.150</td></tr>",
                            "<tr><td>10939</td><td>67</td><td>20.0000</td><td>6</td><td>0.150</td></tr>",
                            "<tr><td>10940</td><td>7</td><td>39.0000</td><td>15</td><td>0.000</td></tr>",
                            "<tr><td>10940</td><td>13</td><td>59.0000</td><td>6</td><td>0.000</td></tr>",
                            "<tr><td>10941</td><td>31</td><td>154.2300</td><td>4</td><td>0.250</td></tr>",
                            "<tr><td>10941</td><td>62</td><td>69.2900</td><td>3</td><td>0.250</td></tr>",
                            "<tr><td>10941</td><td>68</td><td>47.9900</td><td>1</td><td>0.250</td></tr>",
                            "<tr><td>10941</td><td>72</td><td>98.0000</td><td>12</td><td>0.000</td></tr>",
                            "<tr><td>10942</td><td>49</td><td>322.3600</td><td>13</td><td>0.000</td></tr>",
                            "<tr><td>10943</td><td>13</td><td>56.6400</td><td>12</td><td>0.000</td></tr>",
                            "<tr><td>10943</td><td>22</td><td>3669.1200</td><td>1</td><td>0.000</td></tr>",
                            "<tr><td>10943</td><td>46</td><td>71.7600</td><td>15</td><td>0.000</td></tr>",
                            "<tr><td>10944</td><td>11</td><td>613.0400</td><td>13</td><td>0.250</td></tr>",
                            "<tr><td>10944</td><td>44</td><td>555.8300</td><td>8</td><td>0.250</td></tr>",
                            "<tr><td>10944</td><td>56</td><td>1736.2900</td><td>10</td><td>0.000</td></tr>",
                            "<tr><td>10945</td><td>13</td><td>57.8200</td><td>15</td><td>0.000</td></tr>",
                            "<tr><td>10945</td><td>31</td><td>152.6400</td><td>13</td><td>0.000</td></tr>",
                            "<tr><td>10946</td><td>10</td><td>763.4200</td><td>2</td><td>0.000</td></tr>",
                            "<tr><td>10946</td><td>24</td><td>959.9900</td><td>12</td><td>0.000</td></tr>",
                            "<tr><td>10946</td><td>77</td><td>127.5100</td><td>8</td><td>0.000</td></tr>",
                            "<tr><td>10947</td><td>59</td><td>1411.7400</td><td>10</td><td>0.000</td></tr>",
                            "<tr><td>10948</td><td>50</td><td>99.0000</td><td>6</td><td>0.000</td></tr>",
                            "<tr><td>10948</td><td>51</td><td>44.4900</td><td>11</td><td>0.000</td></tr>",
                            "<tr><td>10948</td><td>55</td><td>398.9900</td><td>10</td><td>0.000</td></tr>",
                            "<tr><td>10949</td><td>6</td><td>106.8200</td><td>8</td><td>0.000</td></tr>",
                            "<tr><td>10949</td><td>10</td><td>755.6300</td><td>4</td><td>0.000</td></tr>",
                            "<tr><td>10949</td><td>17</td><td>386.0600</td><td>3</td><td>0.000</td></tr>",
                            "<tr><td>10949</td><td>62</td><td>69.9900</td><td>14</td><td>0.000</td></tr>",
                            "<tr><td>10950</td><td>4</td><td>335.0300</td><td>15</td><td>0.000</td></tr>",
                            "<tr><td>10951</td><td>33</td><td>22.9400</td><td>2</td><td>0.050</td></tr>",
                            "<tr><td>10951</td><td>41</td><td>126.9600</td><td>1</td><td>0.050</td></tr>",
                            "<tr><td>10951</td><td>75</td><td>52.3700</td><td>4</td><td>0.050</td></tr>",
                            "<tr><td>10952</td><td>6</td><td>107.9100</td><td>11</td><td>0.050</td></tr>",
                            "<tr><td>10952</td><td>28</td><td>31.0400</td><td>9</td><td>0.000</td></tr>",
                            "<tr><td>10953</td><td>20</td><td>589.0500</td><td>2</td><td>0.050</td></tr>",
                            "<tr><td>10953</td><td>31</td><td>152.6400</td><td>11</td><td>0.050</td></tr>",
                            "<tr><td>10954</td><td>16</td><td>567.4100</td><td>3</td><td>0.150</td></tr>",
                            "<tr><td>10954</td><td>31</td><td>155.8200</td><td>8</td><td>0.150</td></tr>",
                            "<tr><td>10954</td><td>45</td><td>240.9600</td><td>13</td><td>0.000</td></tr>",
                            "<tr><td>10954</td><td>60</td><td>747.5000</td><td>12</td><td>0.150</td></tr>",
                            "<tr><td>10955</td><td>75</td><td>52.9100</td><td>7</td><td>0.200</td></tr>",
                            "<tr><td>10956</td><td>21</td><td>604.8000</td><td>6</td><td>0.000</td></tr>",
                            "<tr><td>10956</td><td>47</td><td>959.3300</td><td>6</td><td>0.000</td></tr>",
                            "<tr><td>10956</td><td>51</td><td>42.7100</td><td>6</td><td>0.000</td></tr>",
                            "<tr><td>10957</td><td>30</td><td>335.9400</td><td>15</td><td>0.000</td></tr>",
                            "<tr><td>10957</td><td>35</td><td>66.9300</td><td>15</td><td>0.000</td></tr>",
                            "<tr><td>10957</td><td>64</td><td>1583.0000</td><td>12</td><td>0.000</td></tr>",
                            "<tr><td>10958</td><td>5</td><td>147.5100</td><td>13</td><td>0.000</td></tr>",
                            "<tr><td>10958</td><td>7</td><td>38.2200</td><td>11</td><td>0.000</td></tr>",
                            "<tr><td>10958</td><td>72</td><td>97.0100</td><td>14</td><td>0.000</td></tr>",
                            "<tr><td>10959</td><td>75</td><td>53.9900</td><td>10</td><td>0.150</td></tr>",
                            "<tr><td>10960</td><td>24</td><td>999.9900</td><td>6</td><td>0.250</td></tr>",
                            "<tr><td>10960</td><td>41</td><td>126.9600</td><td>6</td><td>0.000</td></tr>",
                            "<tr><td>10961</td><td>52</td><td>417.4700</td><td>3</td><td>0.050</td></tr>",
                            "<tr><td>10961</td><td>76</td><td>65.2800</td><td>10</td><td>0.000</td></tr>",
                            "<tr><td>10962</td><td>7</td><td>37.8300</td><td>9</td><td>0.000</td></tr>",
                            "<tr><td>10962</td><td>13</td><td>58.4100</td><td>6</td><td>0.000</td></tr>",
                            "<tr><td>10962</td><td>53</td><td>294.0000</td><td>12</td><td>0.000</td></tr>",
                            "<tr><td>10962</td><td>69</td><td>332.9900</td><td>14</td><td>0.000</td></tr>",
                            "<tr><td>10962</td><td>76</td><td>65.2800</td><td>1</td><td>0.000</td></tr>",
                            "<tr><td>10963</td><td>60</td><td>732.5500</td><td>11</td><td>0.150</td></tr>",
                            "<tr><td>10964</td><td>18</td><td>28.7500</td><td>5</td><td>0.000</td></tr>",
                            "<tr><td>10964</td><td>38</td><td>339.5000</td><td>3</td><td>0.000</td></tr>",
                            "<tr><td>10964</td><td>69</td><td>332.9900</td><td>2</td><td>0.000</td></tr>",
                            "<tr><td>10965</td><td>51</td><td>42.7100</td><td>14</td><td>0.000</td></tr>",
                            "<tr><td>10966</td><td>37</td><td>240.3500</td><td>13</td><td>0.000</td></tr>",
                            "<tr><td>10966</td><td>56</td><td>1718.3900</td><td>15</td><td>0.150</td></tr>",
                            "<tr><td>10966</td><td>62</td><td>67.8900</td><td>15</td><td>0.150</td></tr>",
                            "<tr><td>10967</td><td>19</td><td>639.2300</td><td>9</td><td>0.000</td></tr>",
                            "<tr><td>10967</td><td>49</td><td>325.6200</td><td>6</td><td>0.000</td></tr>",
                            "<tr><td>10968</td><td>12</td><td>449.8200</td><td>7</td><td>0.000</td></tr>",
                            "<tr><td>10968</td><td>24</td><td>959.9900</td><td>2</td><td>0.000</td></tr>",
                            "<tr><td>10968</td><td>64</td><td>1551.0200</td><td>5</td><td>0.000</td></tr>",
                            "<tr><td>10969</td><td>46</td><td>74.0000</td><td>10</td><td>0.000</td></tr>",
                            "<tr><td>10970</td><td>52</td><td>408.9500</td><td>11</td><td>0.200</td></tr>",
                            "<tr><td>10971</td><td>29</td><td>336.0000</td><td>6</td><td>0.000</td></tr>",
                            "<tr><td>10972</td><td>17</td><td>382.0800</td><td>7</td><td>0.000</td></tr>",
                            "<tr><td>10972</td><td>33</td><td>22.7100</td><td>7</td><td>0.000</td></tr>",
                            "<tr><td>10973</td><td>26</td><td>2491.6700</td><td>2</td><td>0.000</td></tr>",
                            "<tr><td>10973</td><td>41</td><td>129.6100</td><td>9</td><td>0.000</td></tr>",
                            "<tr><td>10973</td><td>75</td><td>53.4500</td><td>8</td><td>0.000</td></tr>",
                            "<tr><td>10974</td><td>63</td><td>1880.0100</td><td>7</td><td>0.000</td></tr>",
                            "<tr><td>10975</td><td>8</td><td>166.2100</td><td>1</td><td>0.000</td></tr>",
                            "<tr><td>10975</td><td>75</td><td>53.4500</td><td>5</td><td>0.000</td></tr>",
                            "<tr><td>10976</td><td>28</td><td>31.6800</td><td>13</td><td>0.000</td></tr>",
                            "<tr><td>10977</td><td>39</td><td>22.7700</td><td>10</td><td>0.000</td></tr>",
                            "<tr><td>10977</td><td>47</td><td>949.4400</td><td>11</td><td>0.000</td></tr>",
                            "<tr><td>10977</td><td>51</td><td>43.6000</td><td>5</td><td>0.000</td></tr>",
                            "<tr><td>10977</td><td>63</td><td>1899.0000</td><td>11</td><td>0.000</td></tr>",
                            "<tr><td>10978</td><td>8</td><td>167.9200</td><td>6</td><td>0.150</td></tr>",
                            "<tr><td>10978</td><td>21</td><td>617.2700</td><td>14</td><td>0.150</td></tr>",
                            "<tr><td>10978</td><td>40</td><td>194.3500</td><td>1</td><td>0.000</td></tr>",
                            "<tr><td>10978</td><td>44</td><td>561.6200</td><td>5</td><td>0.150</td></tr>",
                            "<tr><td>10979</td><td>7</td><td>37.4400</td><td>2</td><td>0.000</td></tr>",
                            "<tr><td>10979</td><td>12</td><td>454.4100</td><td>14</td><td>0.000</td></tr>",
                            "<tr><td>10979</td><td>24</td><td>969.9900</td><td>5</td><td>0.000</td></tr>",
                            "<tr><td>10979</td><td>27</td><td>239.0400</td><td>1</td><td>0.000</td></tr>",
                            "<tr><td>10979</td><td>31</td><td>154.2300</td><td>15</td><td>0.000</td></tr>",
                            "<tr><td>10979</td><td>63</td><td>1899.0000</td><td>13</td><td>0.000</td></tr>",
                            "<tr><td>10980</td><td>75</td><td>52.3700</td><td>5</td><td>0.200</td></tr>",
                            "<tr><td>10981</td><td>38</td><td>332.7100</td><td>11</td><td>0.000</td></tr>",
                            "<tr><td>10982</td><td>7</td><td>37.8300</td><td>11</td><td>0.000</td></tr>",
                            "<tr><td>10982</td><td>43</td><td>82.5100</td><td>15</td><td>0.000</td></tr>",
                            "<tr><td>10983</td><td>13</td><td>58.4100</td><td>5</td><td>0.150</td></tr>",
                            "<tr><td>10983</td><td>57</td><td>2061.9200</td><td>2</td><td>0.000</td></tr>",
                            "<tr><td>10984</td><td>16</td><td>578.9900</td><td>5</td><td>0.000</td></tr>",
                            "<tr><td>10984</td><td>24</td><td>969.9900</td><td>14</td><td>0.000</td></tr>",
                            "<tr><td>10984</td><td>36</td><td>661.3000</td><td>4</td><td>0.000</td></tr>",
                            "<tr><td>10985</td><td>16</td><td>573.2000</td><td>11</td><td>0.100</td></tr>",
                            "<tr><td>10985</td><td>18</td><td>28.4600</td><td>11</td><td>0.100</td></tr>",
                            "<tr><td>10985</td><td>32</td><td>256.4000</td><td>14</td><td>0.100</td></tr>",
                            "<tr><td>10986</td><td>11</td><td>625.6800</td><td>3</td><td>0.000</td></tr>",
                            "<tr><td>10986</td><td>20</td><td>595.0000</td><td>2</td><td>0.000</td></tr>",
                            "<tr><td>10986</td><td>76</td><td>66.6400</td><td>2</td><td>0.000</td></tr>",
                            "<tr><td>10986</td><td>77</td><td>127.5100</td><td>2</td><td>0.000</td></tr>",
                            "<tr><td>10987</td><td>7</td><td>39.0000</td><td>7</td><td>0.000</td></tr>",
                            "<tr><td>10987</td><td>43</td><td>83.3700</td><td>6</td><td>0.000</td></tr>",
                            "<tr><td>10987</td><td>72</td><td>97.0100</td><td>7</td><td>0.000</td></tr>",
                            "<tr><td>10988</td><td>7</td><td>39.0000</td><td>10</td><td>0.000</td></tr>",
                            "<tr><td>10988</td><td>62</td><td>69.2900</td><td>6</td><td>0.100</td></tr>",
                            "<tr><td>10989</td><td>6</td><td>109.0000</td><td>3</td><td>0.000</td></tr>",
                            "<tr><td>10989</td><td>11</td><td>613.0400</td><td>1</td><td>0.000</td></tr>",
                            "<tr><td>10989</td><td>41</td><td>130.9300</td><td>13</td><td>0.000</td></tr>",
                            "<tr><td>10990</td><td>21</td><td>623.5000</td><td>9</td><td>0.000</td></tr>",
                            "<tr><td>10990</td><td>34</td><td>1484.0100</td><td>12</td><td>0.150</td></tr>",
                            "<tr><td>10990</td><td>55</td><td>395.0000</td><td>9</td><td>0.150</td></tr>",
                            "<tr><td>10990</td><td>61</td><td>146.5100</td><td>3</td><td>0.150</td></tr>",
                            "<tr><td>10991</td><td>2</td><td>1484.0100</td><td>15</td><td>0.200</td></tr>",
                            "<tr><td>10991</td><td>70</td><td>81.4800</td><td>15</td><td>0.200</td></tr>",
                            "<tr><td>10991</td><td>76</td><td>68.0000</td><td>2</td><td>0.200</td></tr>",
                            "<tr><td>10992</td><td>72</td><td>96.0200</td><td>7</td><td>0.000</td></tr>",
                            "<tr><td>10993</td><td>29</td><td>346.5000</td><td>3</td><td>0.250</td></tr>",
                            "<tr><td>10993</td><td>41</td><td>128.2800</td><td>15</td><td>0.250</td></tr>",
                            "<tr><td>10994</td><td>59</td><td>1411.7400</td><td>1</td><td>0.050</td></tr>",
                            "<tr><td>10995</td><td>51</td><td>44.4900</td><td>7</td><td>0.000</td></tr>",
                            "<tr><td>10995</td><td>60</td><td>732.5500</td><td>8</td><td>0.000</td></tr>",
                            "<tr><td>10996</td><td>42</td><td>991.6800</td><td>6</td><td>0.000</td></tr>",
                            "<tr><td>10997</td><td>32</td><td>256.4000</td><td>1</td><td>0.000</td></tr>",
                            "<tr><td>10997</td><td>46</td><td>73.2600</td><td>4</td><td>0.250</td></tr>",
                            "<tr><td>10997</td><td>52</td><td>417.4700</td><td>14</td><td>0.250</td></tr>",
                            "<tr><td>10998</td><td>24</td><td>959.9900</td><td>6</td><td>0.000</td></tr>",
                            "<tr><td>10998</td><td>61</td><td>142.0700</td><td>8</td><td>0.000</td></tr>",
                            "<tr><td>10998</td><td>74</td><td>33.4800</td><td>7</td><td>0.000</td></tr>",
                            "<tr><td>10998</td><td>75</td><td>53.9900</td><td>4</td><td>0.000</td></tr>",
                            "<tr><td>10999</td><td>41</td><td>132.2500</td><td>7</td><td>0.050</td></tr>",
                            "<tr><td>10999</td><td>51</td><td>42.7100</td><td>1</td><td>0.050</td></tr>",
                            "<tr><td>10999</td><td>77</td><td>126.2200</td><td>14</td><td>0.050</td></tr>",
                            "<tr><td>11000</td><td>4</td><td>338.5200</td><td>10</td><td>0.250</td></tr>",
                            "<tr><td>11000</td><td>24</td><td>979.9900</td><td>5</td><td>0.250</td></tr>",
                            "<tr><td>11000</td><td>77</td><td>127.5100</td><td>12</td><td>0.000</td></tr>",
                            "<tr><td>11001</td><td>7</td><td>38.2200</td><td>15</td><td>0.000</td></tr>",
                            "<tr><td>11001</td><td>22</td><td>3744.0000</td><td>10</td><td>0.000</td></tr>",
                            "<tr><td>11001</td><td>46</td><td>72.5100</td><td>11</td><td>0.000</td></tr>",
                            "<tr><td>11001</td><td>55</td><td>391.0100</td><td>11</td><td>0.000</td></tr>",
                            "<tr><td>11002</td><td>13</td><td>57.2300</td><td>15</td><td>0.000</td></tr>",
                            "<tr><td>11002</td><td>35</td><td>68.3100</td><td>8</td><td>0.150</td></tr>",
                            "<tr><td>11002</td><td>42</td><td>991.6800</td><td>9</td><td>0.150</td></tr>",
                            "<tr><td>11002</td><td>55</td><td>398.9900</td><td>1</td><td>0.000</td></tr>",
                            "<tr><td>11003</td><td>1</td><td>1273.0200</td><td>2</td><td>0.000</td></tr>",
                            "<tr><td>11003</td><td>40</td><td>194.3500</td><td>10</td><td>0.000</td></tr>",
                            "<tr><td>11003</td><td>52</td><td>408.9500</td><td>7</td><td>0.000</td></tr>",
                            "<tr><td>11004</td><td>26</td><td>2441.8400</td><td>8</td><td>0.000</td></tr>",
                            "<tr><td>11004</td><td>76</td><td>68.0000</td><td>15</td><td>0.000</td></tr>",
                            "<tr><td>11005</td><td>1</td><td>1299.0000</td><td>6</td><td>0.000</td></tr>",
                            "<tr><td>11005</td><td>59</td><td>1397.4800</td><td>12</td><td>0.000</td></tr>",
                            "<tr><td>11006</td><td>1</td><td>1273.0200</td><td>5</td><td>0.000</td></tr>",
                            "<tr><td>11006</td><td>29</td><td>346.5000</td><td>7</td><td>0.250</td></tr>",
                            "<tr><td>11007</td><td>8</td><td>169.6400</td><td>9</td><td>0.000</td></tr>",
                            "<tr><td>11007</td><td>29</td><td>350.0000</td><td>12</td><td>0.000</td></tr>",
                            "<tr><td>11007</td><td>42</td><td>1033.0000</td><td>11</td><td>0.000</td></tr>",
                            "<tr><td>11008</td><td>28</td><td>31.6800</td><td>14</td><td>0.050</td></tr>",
                            "<tr><td>11008</td><td>34</td><td>1499.0000</td><td>3</td><td>0.050</td></tr>",
                            "<tr><td>11008</td><td>71</td><td>396.7300</td><td>4</td><td>0.000</td></tr>",
                            "<tr><td>11009</td><td>24</td><td>979.9900</td><td>8</td><td>0.000</td></tr>",
                            "<tr><td>11009</td><td>36</td><td>668.1800</td><td>15</td><td>0.250</td></tr>",
                            "<tr><td>11009</td><td>60</td><td>717.6000</td><td>14</td><td>0.000</td></tr>",
                            "<tr><td>11010</td><td>7</td><td>38.6100</td><td>5</td><td>0.000</td></tr>",
                            "<tr><td>11010</td><td>24</td><td>959.9900</td><td>14</td><td>0.000</td></tr>",
                            "<tr><td>11011</td><td>58</td><td>96.0200</td><td>7</td><td>0.050</td></tr>",
                            "<tr><td>11011</td><td>71</td><td>404.9100</td><td>9</td><td>0.000</td></tr>",
                            "<tr><td>11012</td><td>19</td><td>652.4100</td><td>8</td><td>0.050</td></tr>",
                            "<tr><td>11012</td><td>60</td><td>732.5500</td><td>1</td><td>0.050</td></tr>",
                            "<tr><td>11012</td><td>71</td><td>392.6400</td><td>7</td><td>0.050</td></tr>",
                            "<tr><td>11013</td><td>23</td><td>350.9500</td><td>4</td><td>0.000</td></tr>",
                            "<tr><td>11013</td><td>42</td><td>1033.0000</td><td>6</td><td>0.000</td></tr>",
                            "<tr><td>11013</td><td>45</td><td>248.4900</td><td>2</td><td>0.000</td></tr>",
                            "<tr><td>11013</td><td>68</td><td>49.4900</td><td>13</td><td>0.000</td></tr>",
                            "<tr><td>11014</td><td>41</td><td>126.9600</td><td>10</td><td>0.100</td></tr>",
                            "<tr><td>11015</td><td>30</td><td>339.4400</td><td>9</td><td>0.000</td></tr>",
                            "<tr><td>11015</td><td>77</td><td>127.5100</td><td>3</td><td>0.000</td></tr>",
                            "<tr><td>11016</td><td>31</td><td>155.8200</td><td>10</td><td>0.000</td></tr>",
                            "<tr><td>11016</td><td>36</td><td>668.1800</td><td>1</td><td>0.000</td></tr>",
                            "<tr><td>11017</td><td>3</td><td>767.0400</td><td>8</td><td>0.000</td></tr>",
                            "<tr><td>11017</td><td>59</td><td>1411.7400</td><td>13</td><td>0.000</td></tr>",
                            "<tr><td>11017</td><td>70</td><td>81.4800</td><td>15</td><td>0.000</td></tr>",
                            "<tr><td>11018</td><td>12</td><td>454.4100</td><td>6</td><td>0.000</td></tr>",
                            "<tr><td>11018</td><td>18</td><td>28.1800</td><td>3</td><td>0.000</td></tr>",
                            "<tr><td>11018</td><td>56</td><td>1772.0900</td><td>15</td><td>0.000</td></tr>",
                            "<tr><td>11019</td><td>46</td><td>74.7500</td><td>12</td><td>0.000</td></tr>",
                            "<tr><td>11019</td><td>49</td><td>315.8500</td><td>12</td><td>0.000</td></tr>",
                            "<tr><td>11020</td><td>10</td><td>747.8400</td><td>1</td><td>0.150</td></tr>",
                            "<tr><td>11021</td><td>2</td><td>1439.0400</td><td>10</td><td>0.250</td></tr>",
                            "<tr><td>11021</td><td>20</td><td>595.0000</td><td>2</td><td>0.000</td></tr>",
                            "<tr><td>11021</td><td>26</td><td>2392.0000</td><td>3</td><td>0.000</td></tr>",
                            "<tr><td>11021</td><td>51</td><td>44.4900</td><td>13</td><td>0.250</td></tr>",
                            "<tr><td>11021</td><td>72</td><td>98.0000</td><td>3</td><td>0.000</td></tr>",
                            "<tr><td>11022</td><td>19</td><td>639.2300</td><td>4</td><td>0.000</td></tr>",
                            "<tr><td>11022</td><td>69</td><td>323.0000</td><td>12</td><td>0.000</td></tr>",
                            "<tr><td>11023</td><td>7</td><td>39.0000</td><td>15</td><td>0.000</td></tr>",
                            "<tr><td>11023</td><td>43</td><td>82.5100</td><td>10</td><td>0.000</td></tr>",
                            "<tr><td>11024</td><td>26</td><td>2466.7500</td><td>8</td><td>0.000</td></tr>",
                            "<tr><td>11024</td><td>33</td><td>22.0200</td><td>1</td><td>0.000</td></tr>",
                            "<tr><td>11024</td><td>65</td><td>179.1900</td><td>2</td><td>0.000</td></tr>",
                            "<tr><td>11024</td><td>71</td><td>409.0000</td><td>13</td><td>0.000</td></tr>",
                            "<tr><td>11025</td><td>1</td><td>1260.0300</td><td>15</td><td>0.100</td></tr>",
                            "<tr><td>11025</td><td>13</td><td>56.6400</td><td>13</td><td>0.100</td></tr>",
                            "<tr><td>11026</td><td>18</td><td>28.4600</td><td>8</td><td>0.000</td></tr>",
                            "<tr><td>11026</td><td>51</td><td>43.6000</td><td>11</td><td>0.000</td></tr>",
                            "<tr><td>11027</td><td>24</td><td>959.9900</td><td>12</td><td>0.250</td></tr>",
                            "<tr><td>11027</td><td>62</td><td>69.2900</td><td>11</td><td>0.250</td></tr>",
                            "<tr><td>11028</td><td>55</td><td>395.0000</td><td>15</td><td>0.000</td></tr>",
                            "<tr><td>11028</td><td>59</td><td>1397.4800</td><td>3</td><td>0.000</td></tr>",
                            "<tr><td>11029</td><td>56</td><td>1718.3900</td><td>1</td><td>0.000</td></tr>",
                            "<tr><td>11029</td><td>63</td><td>1823.0400</td><td>4</td><td>0.000</td></tr>",
                            "<tr><td>11030</td><td>2</td><td>1484.0100</td><td>12</td><td>0.250</td></tr>",
                            "<tr><td>11030</td><td>5</td><td>143.0400</td><td>9</td><td>0.000</td></tr>",
                            "<tr><td>11030</td><td>29</td><td>339.5000</td><td>1</td><td>0.250</td></tr>",
                            "<tr><td>11030</td><td>59</td><td>1397.4800</td><td>9</td><td>0.250</td></tr>",
                            "<tr><td>11031</td><td>1</td><td>1247.0400</td><td>6</td><td>0.000</td></tr>",
                            "<tr><td>11031</td><td>13</td><td>57.8200</td><td>25</td><td>0.000</td></tr>",
                            "<tr><td>11031</td><td>24</td><td>999.9900</td><td>12</td><td>0.000</td></tr>",
                            "<tr><td>11031</td><td>64</td><td>1551.0200</td><td>15</td><td>0.000</td></tr>",
                            "<tr><td>11031</td><td>71</td><td>392.6400</td><td>6</td><td>0.000</td></tr>",
                            "<tr><td>11032</td><td>36</td><td>688.8500</td><td>4</td><td>0.000</td></tr>",
                            "<tr><td>11032</td><td>38</td><td>339.5000</td><td>15</td><td>0.000</td></tr>",
                            "<tr><td>11032</td><td>59</td><td>1383.2200</td><td>14</td><td>0.000</td></tr>",
                            "<tr><td>11033</td><td>53</td><td>294.0000</td><td>12</td><td>0.100</td></tr>",
                            "<tr><td>11033</td><td>69</td><td>332.9900</td><td>1</td><td>0.100</td></tr>",
                            "<tr><td>11034</td><td>21</td><td>623.5000</td><td>4</td><td>0.100</td></tr>",
                            "<tr><td>11034</td><td>44</td><td>578.9900</td><td>10</td><td>0.000</td></tr>",
                            "<tr><td>11034</td><td>61</td><td>145.0300</td><td>4</td><td>0.000</td></tr>",
                            "<tr><td>11035</td><td>1</td><td>1273.0200</td><td>3</td><td>0.000</td></tr>",
                            "<tr><td>11035</td><td>35</td><td>66.2400</td><td>5</td><td>0.000</td></tr>",
                            "<tr><td>11035</td><td>42</td><td>1033.0000</td><td>6</td><td>0.000</td></tr>",
                            "<tr><td>11035</td><td>54</td><td>641.4100</td><td>6</td><td>0.000</td></tr>",
                            "<tr><td>11036</td><td>13</td><td>58.4100</td><td>8</td><td>0.000</td></tr>",
                            "<tr><td>11036</td><td>59</td><td>1368.9600</td><td>8</td><td>0.000</td></tr>",
                            "<tr><td>11037</td><td>70</td><td>80.6400</td><td>8</td><td>0.000</td></tr>",
                            "<tr><td>11038</td><td>40</td><td>194.3500</td><td>13</td><td>0.200</td></tr>",
                            "<tr><td>11038</td><td>52</td><td>421.7300</td><td>11</td><td>0.000</td></tr>",
                            "<tr><td>11038</td><td>71</td><td>404.9100</td><td>5</td><td>0.000</td></tr>",
                            "<tr><td>11039</td><td>28</td><td>32.0000</td><td>7</td><td>0.000</td></tr>",
                            "<tr><td>11039</td><td>35</td><td>68.3100</td><td>4</td><td>0.000</td></tr>",
                            "<tr><td>11039</td><td>49</td><td>319.1100</td><td>11</td><td>0.000</td></tr>",
                            "<tr><td>11039</td><td>57</td><td>2104.0000</td><td>8</td><td>0.000</td></tr>",
                            "<tr><td>11040</td><td>21</td><td>598.5600</td><td>7</td><td>0.000</td></tr>",
                            "<tr><td>11041</td><td>2</td><td>1484.0100</td><td>6</td><td>0.200</td></tr>",
                            "<tr><td>11041</td><td>63</td><td>1823.0400</td><td>4</td><td>0.000</td></tr>",
                            "<tr><td>11042</td><td>44</td><td>561.6200</td><td>6</td><td>0.000</td></tr>",
                            "<tr><td>11042</td><td>61</td><td>147.9900</td><td>11</td><td>0.000</td></tr>",
                            "<tr><td>11043</td><td>11</td><td>632.0000</td><td>4</td><td>0.000</td></tr>",
                            "<tr><td>11044</td><td>62</td><td>67.1900</td><td>6</td><td>0.000</td></tr>",
                            "<tr><td>11045</td><td>33</td><td>22.2500</td><td>12</td><td>0.000</td></tr>",
                            "<tr><td>11045</td><td>51</td><td>43.1600</td><td>14</td><td>0.000</td></tr>",
                            "<tr><td>11046</td><td>12</td><td>454.4100</td><td>8</td><td>0.050</td></tr>",
                            "<tr><td>11046</td><td>32</td><td>258.9900</td><td>4</td><td>0.050</td></tr>",
                            "<tr><td>11046</td><td>35</td><td>67.6200</td><td>9</td><td>0.050</td></tr>",
                            "<tr><td>11047</td><td>1</td><td>1247.0400</td><td>12</td><td>0.250</td></tr>",
                            "<tr><td>11047</td><td>5</td><td>147.5100</td><td>6</td><td>0.250</td></tr>",
                            "<tr><td>11048</td><td>68</td><td>49.9900</td><td>14</td><td>0.000</td></tr>",
                            "<tr><td>11049</td><td>2</td><td>1469.0200</td><td>15</td><td>0.200</td></tr>",
                            "<tr><td>11049</td><td>12</td><td>440.6400</td><td>11</td><td>0.200</td></tr>",
                            "<tr><td>11050</td><td>76</td><td>68.0000</td><td>4</td><td>0.100</td></tr>",
                            "<tr><td>11051</td><td>24</td><td>959.9900</td><td>6</td><td>0.200</td></tr>",
                            "<tr><td>11052</td><td>43</td><td>85.9500</td><td>13</td><td>0.200</td></tr>",
                            "<tr><td>11052</td><td>61</td><td>143.5500</td><td>8</td><td>0.200</td></tr>",
                            "<tr><td>11053</td><td>18</td><td>27.6000</td><td>2</td><td>0.200</td></tr>",
                            "<tr><td>11053</td><td>32</td><td>251.2200</td><td>9</td><td>0.000</td></tr>",
                            "<tr><td>11053</td><td>64</td><td>1535.0300</td><td>7</td><td>0.200</td></tr>",
                            "<tr><td>11054</td><td>33</td><td>22.9400</td><td>6</td><td>0.000</td></tr>",
                            "<tr><td>11054</td><td>67</td><td>19.4000</td><td>1</td><td>0.000</td></tr>",
                            "<tr><td>11055</td><td>24</td><td>979.9900</td><td>7</td><td>0.000</td></tr>",
                            "<tr><td>11055</td><td>25</td><td>898.9900</td><td>5</td><td>0.000</td></tr>",
                            "<tr><td>11055</td><td>51</td><td>44.0500</td><td>10</td><td>0.000</td></tr>",
                            "<tr><td>11055</td><td>57</td><td>2104.0000</td><td>6</td><td>0.000</td></tr>",
                            "<tr><td>11056</td><td>7</td><td>37.4400</td><td>12</td><td>0.000</td></tr>",
                            "<tr><td>11056</td><td>55</td><td>395.0000</td><td>6</td><td>0.000</td></tr>",
                            "<tr><td>11056</td><td>60</td><td>732.5500</td><td>11</td><td>0.000</td></tr>",
                            "<tr><td>11057</td><td>70</td><td>82.3200</td><td>7</td><td>0.000</td></tr>",
                            "<tr><td>11058</td><td>21</td><td>604.8000</td><td>11</td><td>0.000</td></tr>",
                            "<tr><td>11058</td><td>60</td><td>747.5000</td><td>13</td><td>0.000</td></tr>",
                            "<tr><td>11058</td><td>61</td><td>143.5500</td><td>1</td><td>0.000</td></tr>",
                            "<tr><td>11059</td><td>13</td><td>57.8200</td><td>8</td><td>0.000</td></tr>",
                            "<tr><td>11059</td><td>17</td><td>394.0200</td><td>11</td><td>0.000</td></tr>",
                            "<tr><td>11059</td><td>60</td><td>747.5000</td><td>14</td><td>0.000</td></tr>",
                            "<tr><td>11060</td><td>60</td><td>732.5500</td><td>14</td><td>0.000</td></tr>",
                            "<tr><td>11060</td><td>77</td><td>124.9400</td><td>9</td><td>0.000</td></tr>",
                            "<tr><td>11061</td><td>60</td><td>732.5500</td><td>4</td><td>0.000</td></tr>",
                            "<tr><td>11062</td><td>53</td><td>294.0000</td><td>13</td><td>0.200</td></tr>",
                            "<tr><td>11062</td><td>70</td><td>80.6400</td><td>1</td><td>0.200</td></tr>",
                            "<tr><td>11063</td><td>34</td><td>1484.0100</td><td>11</td><td>0.000</td></tr>",
                            "<tr><td>11063</td><td>40</td><td>192.4100</td><td>15</td><td>0.100</td></tr>",
                            "<tr><td>11063</td><td>41</td><td>128.2800</td><td>8</td><td>0.100</td></tr>",
                            "<tr><td>11064</td><td>17</td><td>398.0000</td><td>10</td><td>0.100</td></tr>",
                            "<tr><td>11064</td><td>41</td><td>130.9300</td><td>2</td><td>0.000</td></tr>",
                            "<tr><td>11064</td><td>53</td><td>294.0000</td><td>11</td><td>0.100</td></tr>",
                            "<tr><td>11064</td><td>55</td><td>387.0200</td><td>8</td><td>0.100</td></tr>",
                            "<tr><td>11064</td><td>68</td><td>49.9900</td><td>3</td><td>0.000</td></tr>",
                            "<tr><td>11065</td><td>30</td><td>339.4400</td><td>1</td><td>0.250</td></tr>",
                            "<tr><td>11065</td><td>54</td><td>654.6400</td><td>5</td><td>0.250</td></tr>",
                            "<tr><td>11066</td><td>16</td><td>573.2000</td><td>15</td><td>0.000</td></tr>",
                            "<tr><td>11066</td><td>19</td><td>652.4100</td><td>2</td><td>0.000</td></tr>",
                            "<tr><td>11066</td><td>34</td><td>1469.0200</td><td>4</td><td>0.000</td></tr>",
                            "<tr><td>11067</td><td>41</td><td>126.9600</td><td>5</td><td>0.000</td></tr>",
                            "<tr><td>11068</td><td>28</td><td>32.0000</td><td>8</td><td>0.150</td></tr>",
                            "<tr><td>11068</td><td>43</td><td>84.2300</td><td>2</td><td>0.150</td></tr>",
                            "<tr><td>11068</td><td>77</td><td>124.9400</td><td>11</td><td>0.150</td></tr>",
                            "<tr><td>11069</td><td>39</td><td>23.0000</td><td>4</td><td>0.000</td></tr>",
                            "<tr><td>11070</td><td>1</td><td>1286.0100</td><td>1</td><td>0.150</td></tr>",
                            "<tr><td>11070</td><td>2</td><td>1454.0300</td><td>13</td><td>0.150</td></tr>",
                            "<tr><td>11070</td><td>16</td><td>578.9900</td><td>15</td><td>0.150</td></tr>",
                            "<tr><td>11070</td><td>31</td><td>154.2300</td><td>7</td><td>0.000</td></tr>",
                            "<tr><td>11071</td><td>7</td><td>38.6100</td><td>12</td><td>0.050</td></tr>",
                            "<tr><td>11071</td><td>13</td><td>58.4100</td><td>1</td><td>0.050</td></tr>",
                            "<tr><td>11072</td><td>2</td><td>1469.0200</td><td>13</td><td>0.000</td></tr>",
                            "<tr><td>11072</td><td>41</td><td>128.2800</td><td>6</td><td>0.000</td></tr>",
                            "<tr><td>11072</td><td>50</td><td>99.0000</td><td>13</td><td>0.000</td></tr>",
                            "<tr><td>11072</td><td>64</td><td>1567.0100</td><td>5</td><td>0.000</td></tr>",
                            "<tr><td>11073</td><td>11</td><td>613.0400</td><td>4</td><td>0.000</td></tr>",
                            "<tr><td>11073</td><td>24</td><td>999.9900</td><td>11</td><td>0.000</td></tr>",
                            "<tr><td>11074</td><td>16</td><td>573.2000</td><td>3</td><td>0.050</td></tr>",
                            "<tr><td>11075</td><td>2</td><td>1454.0300</td><td>2</td><td>0.150</td></tr>",
                            "<tr><td>11075</td><td>46</td><td>71.7600</td><td>1</td><td>0.150</td></tr>",
                            "<tr><td>11075</td><td>76</td><td>65.9600</td><td>1</td><td>0.150</td></tr>",
                            "<tr><td>11076</td><td>6</td><td>106.8200</td><td>11</td><td>0.250</td></tr>",
                            "<tr><td>11076</td><td>14</td><td>23.0200</td><td>5</td><td>0.250</td></tr>",
                            "<tr><td>11076</td><td>19</td><td>645.8200</td><td>12</td><td>0.250</td></tr>",
                            "<tr><td>11077</td><td>2</td><td>1469.0200</td><td>8</td><td>0.200</td></tr>",
                            "<tr><td>11077</td><td>3</td><td>791.0100</td><td>8</td><td>0.000</td></tr>",
                            "<tr><td>11077</td><td>4</td><td>342.0100</td><td>10</td><td>0.000</td></tr>",
                            "<tr><td>11077</td><td>6</td><td>105.7300</td><td>9</td><td>0.020</td></tr>",
                            "<tr><td>11077</td><td>7</td><td>37.4400</td><td>9</td><td>0.050</td></tr>",
                            "<tr><td>11077</td><td>8</td><td>166.2100</td><td>7</td><td>0.100</td></tr>",
                            "<tr><td>11077</td><td>10</td><td>779.0000</td><td>2</td><td>0.000</td></tr>",
                            "<tr><td>11077</td><td>12</td><td>445.2300</td><td>10</td><td>0.050</td></tr>",
                            "<tr><td>11077</td><td>13</td><td>57.8200</td><td>11</td><td>0.000</td></tr>",
                            "<tr><td>11077</td><td>14</td><td>22.5500</td><td>7</td><td>0.030</td></tr>",
                            "<tr><td>11077</td><td>16</td><td>555.8300</td><td>13</td><td>0.030</td></tr>",
                            "<tr><td>11077</td><td>20</td><td>571.2000</td><td>7</td><td>0.040</td></tr>",
                            "<tr><td>11077</td><td>23</td><td>347.4400</td><td>3</td><td>0.000</td></tr>",
                            "<tr><td>11077</td><td>32</td><td>256.4000</td><td>4</td><td>0.000</td></tr>",
                            "<tr><td>11077</td><td>39</td><td>22.5400</td><td>13</td><td>0.050</td></tr>",
                            "<tr><td>11077</td><td>41</td><td>129.6100</td><td>11</td><td>0.000</td></tr>",
                            "<tr><td>11077</td><td>46</td><td>72.5100</td><td>4</td><td>0.020</td></tr>",
                            "<tr><td>11077</td><td>52</td><td>417.4700</td><td>6</td><td>0.000</td></tr>",
                            "<tr><td>11077</td><td>55</td><td>387.0200</td><td>15</td><td>0.000</td></tr>",
                            "<tr><td>11077</td><td>60</td><td>740.0300</td><td>6</td><td>0.060</td></tr>",
                            "<tr><td>11077</td><td>64</td><td>1551.0200</td><td>4</td><td>0.030</td></tr>",
                            "<tr><td>11077</td><td>66</td><td>76.7200</td><td>3</td><td>0.000</td></tr>",
                            "<tr><td>11077</td><td>73</td><td>191.0600</td><td>7</td><td>0.010</td></tr>",
                            "<tr><td>11077</td><td>75</td><td>53.9900</td><td>13</td><td>0.000</td></tr>",
                            "<tr><td>11077</td><td>77</td><td>128.8000</td><td>6</td><td>0.000</td></tr>",
                            "</table>"
                        ]
                    }
                }
            ],
            "execution_count": 5
        }
    ]
}