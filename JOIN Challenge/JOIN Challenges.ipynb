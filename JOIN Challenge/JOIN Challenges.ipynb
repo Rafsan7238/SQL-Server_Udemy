{
    "metadata": {
        "kernelspec": {
            "name": "SQL",
            "display_name": "SQL",
            "language": "sql"
        },
        "language_info": {
            "name": "sql",
            "version": ""
        }
    },
    "nbformat_minor": 2,
    "nbformat": 4,
    "cells": [
        {
            "cell_type": "markdown",
            "source": [
                "# Join Challenges"
            ],
            "metadata": {
                "azdata_cell_guid": "fd336d05-f2c5-4de9-b19b-ee143ad11ef4"
            },
            "attachments": {}
        },
        {
            "cell_type": "markdown",
            "source": [
                "\\*\\*Use SAMPLEDB Database\\*\\*"
            ],
            "metadata": {
                "azdata_cell_guid": "8799d683-24ed-49d9-b623-d21f307e1f9e"
            },
            "attachments": {}
        },
        {
            "cell_type": "code",
            "source": [
                "USE SAMPLEDB \n",
                "GO\n",
                ""
            ],
            "metadata": {
                "azdata_cell_guid": "17b3d30d-cdce-47f9-bbf7-344f49a8672a",
                "language": "sql"
            },
            "outputs": [
                {
                    "output_type": "display_data",
                    "data": {
                        "text/html": "Commands completed successfully."
                    },
                    "metadata": {}
                },
                {
                    "output_type": "display_data",
                    "data": {
                        "text/html": "Total execution time: 00:00:00.015"
                    },
                    "metadata": {}
                }
            ],
            "execution_count": 2
        },
        {
            "cell_type": "markdown",
            "source": [
                "### **First Challenge**\n",
                "\n",
                "Challenge: Write a query to return the following attributes for employees who belong to a department:  \n",
                "\n",
                "\\- employee\\_id   \n",
                "\\- first\\_name   \n",
                "\\- last\\_name   \n",
                "\\- salary   \n",
                "\\- department\\_name"
            ],
            "metadata": {
                "language": "sql",
                "azdata_cell_guid": "14926eec-6303-4f9d-99c9-658ac9df8407"
            },
            "attachments": {}
        },
        {
            "cell_type": "code",
            "source": [
                "SELECT e.employee_id, e.first_name, e.last_name, e.salary, d.department_name\n",
                "FROM hcm.employees e INNER JOIN hcm.departments d \n",
                "ON e.department_id = d.department_id;"
            ],
            "metadata": {
                "language": "sql",
                "azdata_cell_guid": "9661f137-a30a-41c8-941e-cc98e251843d"
            },
            "outputs": [
                {
                    "output_type": "display_data",
                    "data": {
                        "text/html": "(78 rows affected)"
                    },
                    "metadata": {}
                },
                {
                    "output_type": "display_data",
                    "data": {
                        "text/html": "Total execution time: 00:00:00.151"
                    },
                    "metadata": {}
                },
                {
                    "output_type": "execute_result",
                    "metadata": {},
                    "execution_count": 3,
                    "data": {
                        "application/vnd.dataresource+json": {
                            "schema": {
                                "fields": [
                                    {
                                        "name": "employee_id"
                                    },
                                    {
                                        "name": "first_name"
                                    },
                                    {
                                        "name": "last_name"
                                    },
                                    {
                                        "name": "salary"
                                    },
                                    {
                                        "name": "department_name"
                                    }
                                ]
                            },
                            "data": [
                                {
                                    "0": "100",
                                    "1": "Jack",
                                    "2": "Bernard",
                                    "3": "576000.00",
                                    "4": "Executive"
                                },
                                {
                                    "0": "101",
                                    "1": "Don",
                                    "2": "Reilly",
                                    "3": "408000.00",
                                    "4": "Executive"
                                },
                                {
                                    "0": "102",
                                    "1": "Judy",
                                    "2": "Lawson",
                                    "3": "408000.00",
                                    "4": "Executive"
                                },
                                {
                                    "0": "103",
                                    "1": "Yani",
                                    "2": "Wenzlick",
                                    "3": "216000.00",
                                    "4": "IT"
                                },
                                {
                                    "0": "104",
                                    "1": "Rachel",
                                    "2": "Mortensen",
                                    "3": "144000.00",
                                    "4": "IT"
                                },
                                {
                                    "0": "105",
                                    "1": "Paul",
                                    "2": "Cameron",
                                    "3": "115200.00",
                                    "4": "IT"
                                },
                                {
                                    "0": "106",
                                    "1": "Russell",
                                    "2": "King",
                                    "3": "115200.00",
                                    "4": "IT"
                                },
                                {
                                    "0": "107",
                                    "1": "Maria",
                                    "2": "Cameron",
                                    "3": "100800.00",
                                    "4": "IT"
                                },
                                {
                                    "0": "108",
                                    "1": "Patricia",
                                    "2": "Doyle",
                                    "3": "288192.00",
                                    "4": "Finance"
                                },
                                {
                                    "0": "109",
                                    "1": "Daniel",
                                    "2": "Hopkins",
                                    "3": "216000.00",
                                    "4": "Finance"
                                },
                                {
                                    "0": "110",
                                    "1": "John",
                                    "2": "Chen",
                                    "3": "196800.00",
                                    "4": "Finance"
                                },
                                {
                                    "0": "111",
                                    "1": "Llyod",
                                    "2": "Henderson",
                                    "3": "184800.00",
                                    "4": "Finance"
                                },
                                {
                                    "0": "112",
                                    "1": "Lena",
                                    "2": "Chadwick",
                                    "3": "187200.00",
                                    "4": "Finance"
                                },
                                {
                                    "0": "113",
                                    "1": "Richard",
                                    "2": "Stewart",
                                    "3": "165600.00",
                                    "4": "Finance"
                                },
                                {
                                    "0": "114",
                                    "1": "Diana",
                                    "2": "Colman",
                                    "3": "264000.00",
                                    "4": "Purchasing"
                                },
                                {
                                    "0": "115",
                                    "1": "Alexander",
                                    "2": "Khoo",
                                    "3": "74400.00",
                                    "4": "Purchasing"
                                },
                                {
                                    "0": "116",
                                    "1": "Shelli",
                                    "2": "Baida",
                                    "3": "69600.00",
                                    "4": "Purchasing"
                                },
                                {
                                    "0": "117",
                                    "1": "Peter",
                                    "2": "Owen",
                                    "3": "67200.00",
                                    "4": "Purchasing"
                                },
                                {
                                    "0": "118",
                                    "1": "Peter",
                                    "2": "Owen",
                                    "3": "62400.00",
                                    "4": "Purchasing"
                                },
                                {
                                    "0": "119",
                                    "1": "Karen",
                                    "2": "Colmenares",
                                    "3": "60000.00",
                                    "4": "Purchasing"
                                },
                                {
                                    "0": "120",
                                    "1": "Matthew",
                                    "2": "Wilson",
                                    "3": "196800.00",
                                    "4": "Shipping"
                                },
                                {
                                    "0": "121",
                                    "1": "Jack",
                                    "2": "Hale",
                                    "3": "196800.00",
                                    "4": "Shipping"
                                },
                                {
                                    "0": "122",
                                    "1": "Priya",
                                    "2": "Singh",
                                    "3": "189600.00",
                                    "4": "Shipping"
                                },
                                {
                                    "0": "123",
                                    "1": "Shanta",
                                    "2": "Vollman",
                                    "3": "156000.00",
                                    "4": "Shipping"
                                },
                                {
                                    "0": "124",
                                    "1": "Kevin",
                                    "2": "Mourgos",
                                    "3": "139200.00",
                                    "4": "Shipping"
                                },
                                {
                                    "0": "125",
                                    "1": "Julia",
                                    "2": "Nayer",
                                    "3": "76800.00",
                                    "4": "Shipping"
                                },
                                {
                                    "0": "126",
                                    "1": "Irene",
                                    "2": "Mikkilineni",
                                    "3": "64800.00",
                                    "4": "Shipping"
                                },
                                {
                                    "0": "127",
                                    "1": "James",
                                    "2": "Landry",
                                    "3": "57600.00",
                                    "4": "Shipping"
                                },
                                {
                                    "0": "128",
                                    "1": "Steven",
                                    "2": "Markle",
                                    "3": "52800.00",
                                    "4": "Shipping"
                                },
                                {
                                    "0": "129",
                                    "1": "Laura",
                                    "2": "Bissot",
                                    "3": "79200.00",
                                    "4": "Shipping"
                                },
                                {
                                    "0": "130",
                                    "1": "Mark",
                                    "2": "Atkinson",
                                    "3": "67200.00",
                                    "4": "Shipping"
                                },
                                {
                                    "0": "131",
                                    "1": "James",
                                    "2": "Marlow",
                                    "3": "60000.00",
                                    "4": "Shipping"
                                },
                                {
                                    "0": "132",
                                    "1": "Gavin",
                                    "2": "Olson",
                                    "3": "52800.00",
                                    "4": "Shipping"
                                },
                                {
                                    "0": "133",
                                    "1": "Jason",
                                    "2": "Mallin",
                                    "3": "79200.00",
                                    "4": "Shipping"
                                },
                                {
                                    "0": "134",
                                    "1": "Michael",
                                    "2": "Rogers",
                                    "3": "69600.00",
                                    "4": "Shipping"
                                },
                                {
                                    "0": "135",
                                    "1": "Mitch",
                                    "2": "Holt",
                                    "3": "57600.00",
                                    "4": "Shipping"
                                },
                                {
                                    "0": "136",
                                    "1": "Hazel",
                                    "2": "Philtanker",
                                    "3": "52800.00",
                                    "4": "Shipping"
                                },
                                {
                                    "0": "137",
                                    "1": "Renske",
                                    "2": "Ladwig",
                                    "3": "86400.00",
                                    "4": "Shipping"
                                },
                                {
                                    "0": "138",
                                    "1": "Stephen",
                                    "2": "Stiles",
                                    "3": "76800.00",
                                    "4": "Shipping"
                                },
                                {
                                    "0": "139",
                                    "1": "Tony",
                                    "2": "Rogers",
                                    "3": "64800.00",
                                    "4": "Shipping"
                                },
                                {
                                    "0": "140",
                                    "1": "Mayank",
                                    "2": "Patel",
                                    "3": "60000.00",
                                    "4": "Shipping"
                                },
                                {
                                    "0": "141",
                                    "1": "Trenna",
                                    "2": "Rajs",
                                    "3": "84000.00",
                                    "4": "Shipping"
                                },
                                {
                                    "0": "142",
                                    "1": "Rick",
                                    "2": "Davies",
                                    "3": "74400.00",
                                    "4": "Shipping"
                                },
                                {
                                    "0": "143",
                                    "1": "Randall",
                                    "2": "Matos",
                                    "3": "62400.00",
                                    "4": "Shipping"
                                },
                                {
                                    "0": "144",
                                    "1": "Peter",
                                    "2": "Vargas",
                                    "3": "60000.00",
                                    "4": "Shipping"
                                },
                                {
                                    "0": "145",
                                    "1": "Harold",
                                    "2": "Russell",
                                    "3": "336000.00",
                                    "4": "Sales"
                                },
                                {
                                    "0": "146",
                                    "1": "Karen",
                                    "2": "Partners",
                                    "3": "336000.00",
                                    "4": "Sales"
                                },
                                {
                                    "0": "147",
                                    "1": "Alberto",
                                    "2": "Errazuriz",
                                    "3": "288000.00",
                                    "4": "Sales"
                                },
                                {
                                    "0": "148",
                                    "1": "Gerald",
                                    "2": "Cambrault",
                                    "3": "264000.00",
                                    "4": "Sales"
                                },
                                {
                                    "0": "149",
                                    "1": "Michael",
                                    "2": "Rogers",
                                    "3": "252000.00",
                                    "4": "Sales"
                                },
                                {
                                    "0": "150",
                                    "1": "Peter",
                                    "2": "Tucker",
                                    "3": "240000.00",
                                    "4": "Sales"
                                },
                                {
                                    "0": "151",
                                    "1": "David",
                                    "2": "Bernstein",
                                    "3": "228000.00",
                                    "4": "Sales"
                                },
                                {
                                    "0": "152",
                                    "1": "Peter",
                                    "2": "Hall",
                                    "3": "216000.00",
                                    "4": "Sales"
                                },
                                {
                                    "0": "153",
                                    "1": "Christopher",
                                    "2": "Olsen",
                                    "3": "192000.00",
                                    "4": "Sales"
                                },
                                {
                                    "0": "154",
                                    "1": "Raewyn",
                                    "2": "Cambrault",
                                    "3": "180000.00",
                                    "4": "Sales"
                                },
                                {
                                    "0": "155",
                                    "1": "Oliver",
                                    "2": "Tuvault",
                                    "3": "168000.00",
                                    "4": "Sales"
                                },
                                {
                                    "0": "156",
                                    "1": "Janette",
                                    "2": "King",
                                    "3": "240000.00",
                                    "4": "Sales"
                                },
                                {
                                    "0": "157",
                                    "1": "Patrick",
                                    "2": "Sully",
                                    "3": "228000.00",
                                    "4": "Sales"
                                },
                                {
                                    "0": "158",
                                    "1": "Allan",
                                    "2": "McEwen",
                                    "3": "216000.00",
                                    "4": "Sales"
                                },
                                {
                                    "0": "159",
                                    "1": "Lindsey",
                                    "2": "Smith",
                                    "3": "192000.00",
                                    "4": "Sales"
                                },
                                {
                                    "0": "160",
                                    "1": "Louise",
                                    "2": "Doran",
                                    "3": "180000.00",
                                    "4": "Sales"
                                },
                                {
                                    "0": "161",
                                    "1": "Sarath",
                                    "2": "Sewall",
                                    "3": "168000.00",
                                    "4": "Sales"
                                },
                                {
                                    "0": "162",
                                    "1": "Clara",
                                    "2": "Vishney",
                                    "3": "252000.00",
                                    "4": "Sales"
                                },
                                {
                                    "0": "163",
                                    "1": "Danielle",
                                    "2": "Greene",
                                    "3": "228000.00",
                                    "4": "Sales"
                                },
                                {
                                    "0": "164",
                                    "1": "Tamara",
                                    "2": "Marvins",
                                    "3": "172800.00",
                                    "4": "Sales"
                                },
                                {
                                    "0": "165",
                                    "1": "David",
                                    "2": "Lee",
                                    "3": "163200.00",
                                    "4": "Sales"
                                },
                                {
                                    "0": "166",
                                    "1": "Sundar",
                                    "2": "Ande",
                                    "3": "153600.00",
                                    "4": "Sales"
                                },
                                {
                                    "0": "167",
                                    "1": "Amit",
                                    "2": "Banda",
                                    "3": "148800.00",
                                    "4": "Sales"
                                },
                                {
                                    "0": "168",
                                    "1": "Danny",
                                    "2": "Ozer",
                                    "3": "276000.00",
                                    "4": "Sales"
                                },
                                {
                                    "0": "169",
                                    "1": "Alexander",
                                    "2": "Bloom",
                                    "3": "240000.00",
                                    "4": "Sales"
                                },
                                {
                                    "0": "170",
                                    "1": "William",
                                    "2": "Fox",
                                    "3": "230400.00",
                                    "4": "Sales"
                                },
                                {
                                    "0": "171",
                                    "1": "Ashley",
                                    "2": "Smith",
                                    "3": "177600.00",
                                    "4": "Sales"
                                },
                                {
                                    "0": "172",
                                    "1": "Edward",
                                    "2": "Bates",
                                    "3": "175200.00",
                                    "4": "Sales"
                                },
                                {
                                    "0": "173",
                                    "1": "Clark",
                                    "2": "Solomon",
                                    "3": "146400.00",
                                    "4": "Sales"
                                },
                                {
                                    "0": "174",
                                    "1": "Annemarie",
                                    "2": "Hoffman",
                                    "3": "264000.00",
                                    "4": "Sales"
                                },
                                {
                                    "0": "175",
                                    "1": "Hiroko",
                                    "2": "Hutton",
                                    "3": "211200.00",
                                    "4": "Sales"
                                },
                                {
                                    "0": "176",
                                    "1": "Aron",
                                    "2": "Taylor",
                                    "3": "206400.00",
                                    "4": "Sales"
                                },
                                {
                                    "0": "177",
                                    "1": "Theron",
                                    "2": "Livingston",
                                    "3": "201600.00",
                                    "4": "Sales"
                                }
                            ]
                        },
                        "text/html": [
                            "<table>",
                            "<tr><th>employee_id</th><th>first_name</th><th>last_name</th><th>salary</th><th>department_name</th></tr>",
                            "<tr><td>100</td><td>Jack</td><td>Bernard</td><td>576000.00</td><td>Executive</td></tr>",
                            "<tr><td>101</td><td>Don</td><td>Reilly</td><td>408000.00</td><td>Executive</td></tr>",
                            "<tr><td>102</td><td>Judy</td><td>Lawson</td><td>408000.00</td><td>Executive</td></tr>",
                            "<tr><td>103</td><td>Yani</td><td>Wenzlick</td><td>216000.00</td><td>IT</td></tr>",
                            "<tr><td>104</td><td>Rachel</td><td>Mortensen</td><td>144000.00</td><td>IT</td></tr>",
                            "<tr><td>105</td><td>Paul</td><td>Cameron</td><td>115200.00</td><td>IT</td></tr>",
                            "<tr><td>106</td><td>Russell</td><td>King</td><td>115200.00</td><td>IT</td></tr>",
                            "<tr><td>107</td><td>Maria</td><td>Cameron</td><td>100800.00</td><td>IT</td></tr>",
                            "<tr><td>108</td><td>Patricia</td><td>Doyle</td><td>288192.00</td><td>Finance</td></tr>",
                            "<tr><td>109</td><td>Daniel</td><td>Hopkins</td><td>216000.00</td><td>Finance</td></tr>",
                            "<tr><td>110</td><td>John</td><td>Chen</td><td>196800.00</td><td>Finance</td></tr>",
                            "<tr><td>111</td><td>Llyod</td><td>Henderson</td><td>184800.00</td><td>Finance</td></tr>",
                            "<tr><td>112</td><td>Lena</td><td>Chadwick</td><td>187200.00</td><td>Finance</td></tr>",
                            "<tr><td>113</td><td>Richard</td><td>Stewart</td><td>165600.00</td><td>Finance</td></tr>",
                            "<tr><td>114</td><td>Diana</td><td>Colman</td><td>264000.00</td><td>Purchasing</td></tr>",
                            "<tr><td>115</td><td>Alexander</td><td>Khoo</td><td>74400.00</td><td>Purchasing</td></tr>",
                            "<tr><td>116</td><td>Shelli</td><td>Baida</td><td>69600.00</td><td>Purchasing</td></tr>",
                            "<tr><td>117</td><td>Peter</td><td>Owen</td><td>67200.00</td><td>Purchasing</td></tr>",
                            "<tr><td>118</td><td>Peter</td><td>Owen</td><td>62400.00</td><td>Purchasing</td></tr>",
                            "<tr><td>119</td><td>Karen</td><td>Colmenares</td><td>60000.00</td><td>Purchasing</td></tr>",
                            "<tr><td>120</td><td>Matthew</td><td>Wilson</td><td>196800.00</td><td>Shipping</td></tr>",
                            "<tr><td>121</td><td>Jack</td><td>Hale</td><td>196800.00</td><td>Shipping</td></tr>",
                            "<tr><td>122</td><td>Priya</td><td>Singh</td><td>189600.00</td><td>Shipping</td></tr>",
                            "<tr><td>123</td><td>Shanta</td><td>Vollman</td><td>156000.00</td><td>Shipping</td></tr>",
                            "<tr><td>124</td><td>Kevin</td><td>Mourgos</td><td>139200.00</td><td>Shipping</td></tr>",
                            "<tr><td>125</td><td>Julia</td><td>Nayer</td><td>76800.00</td><td>Shipping</td></tr>",
                            "<tr><td>126</td><td>Irene</td><td>Mikkilineni</td><td>64800.00</td><td>Shipping</td></tr>",
                            "<tr><td>127</td><td>James</td><td>Landry</td><td>57600.00</td><td>Shipping</td></tr>",
                            "<tr><td>128</td><td>Steven</td><td>Markle</td><td>52800.00</td><td>Shipping</td></tr>",
                            "<tr><td>129</td><td>Laura</td><td>Bissot</td><td>79200.00</td><td>Shipping</td></tr>",
                            "<tr><td>130</td><td>Mark</td><td>Atkinson</td><td>67200.00</td><td>Shipping</td></tr>",
                            "<tr><td>131</td><td>James</td><td>Marlow</td><td>60000.00</td><td>Shipping</td></tr>",
                            "<tr><td>132</td><td>Gavin</td><td>Olson</td><td>52800.00</td><td>Shipping</td></tr>",
                            "<tr><td>133</td><td>Jason</td><td>Mallin</td><td>79200.00</td><td>Shipping</td></tr>",
                            "<tr><td>134</td><td>Michael</td><td>Rogers</td><td>69600.00</td><td>Shipping</td></tr>",
                            "<tr><td>135</td><td>Mitch</td><td>Holt</td><td>57600.00</td><td>Shipping</td></tr>",
                            "<tr><td>136</td><td>Hazel</td><td>Philtanker</td><td>52800.00</td><td>Shipping</td></tr>",
                            "<tr><td>137</td><td>Renske</td><td>Ladwig</td><td>86400.00</td><td>Shipping</td></tr>",
                            "<tr><td>138</td><td>Stephen</td><td>Stiles</td><td>76800.00</td><td>Shipping</td></tr>",
                            "<tr><td>139</td><td>Tony</td><td>Rogers</td><td>64800.00</td><td>Shipping</td></tr>",
                            "<tr><td>140</td><td>Mayank</td><td>Patel</td><td>60000.00</td><td>Shipping</td></tr>",
                            "<tr><td>141</td><td>Trenna</td><td>Rajs</td><td>84000.00</td><td>Shipping</td></tr>",
                            "<tr><td>142</td><td>Rick</td><td>Davies</td><td>74400.00</td><td>Shipping</td></tr>",
                            "<tr><td>143</td><td>Randall</td><td>Matos</td><td>62400.00</td><td>Shipping</td></tr>",
                            "<tr><td>144</td><td>Peter</td><td>Vargas</td><td>60000.00</td><td>Shipping</td></tr>",
                            "<tr><td>145</td><td>Harold</td><td>Russell</td><td>336000.00</td><td>Sales</td></tr>",
                            "<tr><td>146</td><td>Karen</td><td>Partners</td><td>336000.00</td><td>Sales</td></tr>",
                            "<tr><td>147</td><td>Alberto</td><td>Errazuriz</td><td>288000.00</td><td>Sales</td></tr>",
                            "<tr><td>148</td><td>Gerald</td><td>Cambrault</td><td>264000.00</td><td>Sales</td></tr>",
                            "<tr><td>149</td><td>Michael</td><td>Rogers</td><td>252000.00</td><td>Sales</td></tr>",
                            "<tr><td>150</td><td>Peter</td><td>Tucker</td><td>240000.00</td><td>Sales</td></tr>",
                            "<tr><td>151</td><td>David</td><td>Bernstein</td><td>228000.00</td><td>Sales</td></tr>",
                            "<tr><td>152</td><td>Peter</td><td>Hall</td><td>216000.00</td><td>Sales</td></tr>",
                            "<tr><td>153</td><td>Christopher</td><td>Olsen</td><td>192000.00</td><td>Sales</td></tr>",
                            "<tr><td>154</td><td>Raewyn</td><td>Cambrault</td><td>180000.00</td><td>Sales</td></tr>",
                            "<tr><td>155</td><td>Oliver</td><td>Tuvault</td><td>168000.00</td><td>Sales</td></tr>",
                            "<tr><td>156</td><td>Janette</td><td>King</td><td>240000.00</td><td>Sales</td></tr>",
                            "<tr><td>157</td><td>Patrick</td><td>Sully</td><td>228000.00</td><td>Sales</td></tr>",
                            "<tr><td>158</td><td>Allan</td><td>McEwen</td><td>216000.00</td><td>Sales</td></tr>",
                            "<tr><td>159</td><td>Lindsey</td><td>Smith</td><td>192000.00</td><td>Sales</td></tr>",
                            "<tr><td>160</td><td>Louise</td><td>Doran</td><td>180000.00</td><td>Sales</td></tr>",
                            "<tr><td>161</td><td>Sarath</td><td>Sewall</td><td>168000.00</td><td>Sales</td></tr>",
                            "<tr><td>162</td><td>Clara</td><td>Vishney</td><td>252000.00</td><td>Sales</td></tr>",
                            "<tr><td>163</td><td>Danielle</td><td>Greene</td><td>228000.00</td><td>Sales</td></tr>",
                            "<tr><td>164</td><td>Tamara</td><td>Marvins</td><td>172800.00</td><td>Sales</td></tr>",
                            "<tr><td>165</td><td>David</td><td>Lee</td><td>163200.00</td><td>Sales</td></tr>",
                            "<tr><td>166</td><td>Sundar</td><td>Ande</td><td>153600.00</td><td>Sales</td></tr>",
                            "<tr><td>167</td><td>Amit</td><td>Banda</td><td>148800.00</td><td>Sales</td></tr>",
                            "<tr><td>168</td><td>Danny</td><td>Ozer</td><td>276000.00</td><td>Sales</td></tr>",
                            "<tr><td>169</td><td>Alexander</td><td>Bloom</td><td>240000.00</td><td>Sales</td></tr>",
                            "<tr><td>170</td><td>William</td><td>Fox</td><td>230400.00</td><td>Sales</td></tr>",
                            "<tr><td>171</td><td>Ashley</td><td>Smith</td><td>177600.00</td><td>Sales</td></tr>",
                            "<tr><td>172</td><td>Edward</td><td>Bates</td><td>175200.00</td><td>Sales</td></tr>",
                            "<tr><td>173</td><td>Clark</td><td>Solomon</td><td>146400.00</td><td>Sales</td></tr>",
                            "<tr><td>174</td><td>Annemarie</td><td>Hoffman</td><td>264000.00</td><td>Sales</td></tr>",
                            "<tr><td>175</td><td>Hiroko</td><td>Hutton</td><td>211200.00</td><td>Sales</td></tr>",
                            "<tr><td>176</td><td>Aron</td><td>Taylor</td><td>206400.00</td><td>Sales</td></tr>",
                            "<tr><td>177</td><td>Theron</td><td>Livingston</td><td>201600.00</td><td>Sales</td></tr>",
                            "</table>"
                        ]
                    }
                }
            ],
            "execution_count": 3
        },
        {
            "cell_type": "markdown",
            "source": [
                "### **Second Challenge**\n",
                "\n",
                "Challenge: Write a query to return the following attributes for all employees, including employees who do not belong to a department: \n",
                "\n",
                "\\- employee\\_id \n",
                "\n",
                "\\- first\\_name \n",
                "\n",
                "\\- last\\_name \n",
                "\n",
                "\\- salary \n",
                "\n",
                "\\- department\\_name"
            ],
            "metadata": {
                "language": "",
                "azdata_cell_guid": "63486e94-f66d-4191-8233-b2451ede182f"
            },
            "attachments": {}
        },
        {
            "cell_type": "code",
            "source": [
                "SELECT e.employee_id, e.first_name, e.last_name, e.salary, d.department_name\n",
                "FROM hcm.employees e LEFT JOIN hcm.departments d \n",
                "ON e.department_id = d.department_id;"
            ],
            "metadata": {
                "azdata_cell_guid": "9aacc564-4082-46e9-82c0-d0af45744e51",
                "language": "sql"
            },
            "outputs": [
                {
                    "output_type": "display_data",
                    "data": {
                        "text/html": "(107 rows affected)"
                    },
                    "metadata": {}
                },
                {
                    "output_type": "display_data",
                    "data": {
                        "text/html": "Total execution time: 00:00:00.023"
                    },
                    "metadata": {}
                },
                {
                    "output_type": "execute_result",
                    "metadata": {},
                    "execution_count": 4,
                    "data": {
                        "application/vnd.dataresource+json": {
                            "schema": {
                                "fields": [
                                    {
                                        "name": "employee_id"
                                    },
                                    {
                                        "name": "first_name"
                                    },
                                    {
                                        "name": "last_name"
                                    },
                                    {
                                        "name": "salary"
                                    },
                                    {
                                        "name": "department_name"
                                    }
                                ]
                            },
                            "data": [
                                {
                                    "0": "100",
                                    "1": "Jack",
                                    "2": "Bernard",
                                    "3": "576000.00",
                                    "4": "Executive"
                                },
                                {
                                    "0": "101",
                                    "1": "Don",
                                    "2": "Reilly",
                                    "3": "408000.00",
                                    "4": "Executive"
                                },
                                {
                                    "0": "102",
                                    "1": "Judy",
                                    "2": "Lawson",
                                    "3": "408000.00",
                                    "4": "Executive"
                                },
                                {
                                    "0": "103",
                                    "1": "Yani",
                                    "2": "Wenzlick",
                                    "3": "216000.00",
                                    "4": "IT"
                                },
                                {
                                    "0": "104",
                                    "1": "Rachel",
                                    "2": "Mortensen",
                                    "3": "144000.00",
                                    "4": "IT"
                                },
                                {
                                    "0": "105",
                                    "1": "Paul",
                                    "2": "Cameron",
                                    "3": "115200.00",
                                    "4": "IT"
                                },
                                {
                                    "0": "106",
                                    "1": "Russell",
                                    "2": "King",
                                    "3": "115200.00",
                                    "4": "IT"
                                },
                                {
                                    "0": "107",
                                    "1": "Maria",
                                    "2": "Cameron",
                                    "3": "100800.00",
                                    "4": "IT"
                                },
                                {
                                    "0": "108",
                                    "1": "Patricia",
                                    "2": "Doyle",
                                    "3": "288192.00",
                                    "4": "Finance"
                                },
                                {
                                    "0": "109",
                                    "1": "Daniel",
                                    "2": "Hopkins",
                                    "3": "216000.00",
                                    "4": "Finance"
                                },
                                {
                                    "0": "110",
                                    "1": "John",
                                    "2": "Chen",
                                    "3": "196800.00",
                                    "4": "Finance"
                                },
                                {
                                    "0": "111",
                                    "1": "Llyod",
                                    "2": "Henderson",
                                    "3": "184800.00",
                                    "4": "Finance"
                                },
                                {
                                    "0": "112",
                                    "1": "Lena",
                                    "2": "Chadwick",
                                    "3": "187200.00",
                                    "4": "Finance"
                                },
                                {
                                    "0": "113",
                                    "1": "Richard",
                                    "2": "Stewart",
                                    "3": "165600.00",
                                    "4": "Finance"
                                },
                                {
                                    "0": "114",
                                    "1": "Diana",
                                    "2": "Colman",
                                    "3": "264000.00",
                                    "4": "Purchasing"
                                },
                                {
                                    "0": "115",
                                    "1": "Alexander",
                                    "2": "Khoo",
                                    "3": "74400.00",
                                    "4": "Purchasing"
                                },
                                {
                                    "0": "116",
                                    "1": "Shelli",
                                    "2": "Baida",
                                    "3": "69600.00",
                                    "4": "Purchasing"
                                },
                                {
                                    "0": "117",
                                    "1": "Peter",
                                    "2": "Owen",
                                    "3": "67200.00",
                                    "4": "Purchasing"
                                },
                                {
                                    "0": "118",
                                    "1": "Peter",
                                    "2": "Owen",
                                    "3": "62400.00",
                                    "4": "Purchasing"
                                },
                                {
                                    "0": "119",
                                    "1": "Karen",
                                    "2": "Colmenares",
                                    "3": "60000.00",
                                    "4": "Purchasing"
                                },
                                {
                                    "0": "120",
                                    "1": "Matthew",
                                    "2": "Wilson",
                                    "3": "196800.00",
                                    "4": "Shipping"
                                },
                                {
                                    "0": "121",
                                    "1": "Jack",
                                    "2": "Hale",
                                    "3": "196800.00",
                                    "4": "Shipping"
                                },
                                {
                                    "0": "122",
                                    "1": "Priya",
                                    "2": "Singh",
                                    "3": "189600.00",
                                    "4": "Shipping"
                                },
                                {
                                    "0": "123",
                                    "1": "Shanta",
                                    "2": "Vollman",
                                    "3": "156000.00",
                                    "4": "Shipping"
                                },
                                {
                                    "0": "124",
                                    "1": "Kevin",
                                    "2": "Mourgos",
                                    "3": "139200.00",
                                    "4": "Shipping"
                                },
                                {
                                    "0": "125",
                                    "1": "Julia",
                                    "2": "Nayer",
                                    "3": "76800.00",
                                    "4": "Shipping"
                                },
                                {
                                    "0": "126",
                                    "1": "Irene",
                                    "2": "Mikkilineni",
                                    "3": "64800.00",
                                    "4": "Shipping"
                                },
                                {
                                    "0": "127",
                                    "1": "James",
                                    "2": "Landry",
                                    "3": "57600.00",
                                    "4": "Shipping"
                                },
                                {
                                    "0": "128",
                                    "1": "Steven",
                                    "2": "Markle",
                                    "3": "52800.00",
                                    "4": "Shipping"
                                },
                                {
                                    "0": "129",
                                    "1": "Laura",
                                    "2": "Bissot",
                                    "3": "79200.00",
                                    "4": "Shipping"
                                },
                                {
                                    "0": "130",
                                    "1": "Mark",
                                    "2": "Atkinson",
                                    "3": "67200.00",
                                    "4": "Shipping"
                                },
                                {
                                    "0": "131",
                                    "1": "James",
                                    "2": "Marlow",
                                    "3": "60000.00",
                                    "4": "Shipping"
                                },
                                {
                                    "0": "132",
                                    "1": "Gavin",
                                    "2": "Olson",
                                    "3": "52800.00",
                                    "4": "Shipping"
                                },
                                {
                                    "0": "133",
                                    "1": "Jason",
                                    "2": "Mallin",
                                    "3": "79200.00",
                                    "4": "Shipping"
                                },
                                {
                                    "0": "134",
                                    "1": "Michael",
                                    "2": "Rogers",
                                    "3": "69600.00",
                                    "4": "Shipping"
                                },
                                {
                                    "0": "135",
                                    "1": "Mitch",
                                    "2": "Holt",
                                    "3": "57600.00",
                                    "4": "Shipping"
                                },
                                {
                                    "0": "136",
                                    "1": "Hazel",
                                    "2": "Philtanker",
                                    "3": "52800.00",
                                    "4": "Shipping"
                                },
                                {
                                    "0": "137",
                                    "1": "Renske",
                                    "2": "Ladwig",
                                    "3": "86400.00",
                                    "4": "Shipping"
                                },
                                {
                                    "0": "138",
                                    "1": "Stephen",
                                    "2": "Stiles",
                                    "3": "76800.00",
                                    "4": "Shipping"
                                },
                                {
                                    "0": "139",
                                    "1": "Tony",
                                    "2": "Rogers",
                                    "3": "64800.00",
                                    "4": "Shipping"
                                },
                                {
                                    "0": "140",
                                    "1": "Mayank",
                                    "2": "Patel",
                                    "3": "60000.00",
                                    "4": "Shipping"
                                },
                                {
                                    "0": "141",
                                    "1": "Trenna",
                                    "2": "Rajs",
                                    "3": "84000.00",
                                    "4": "Shipping"
                                },
                                {
                                    "0": "142",
                                    "1": "Rick",
                                    "2": "Davies",
                                    "3": "74400.00",
                                    "4": "Shipping"
                                },
                                {
                                    "0": "143",
                                    "1": "Randall",
                                    "2": "Matos",
                                    "3": "62400.00",
                                    "4": "Shipping"
                                },
                                {
                                    "0": "144",
                                    "1": "Peter",
                                    "2": "Vargas",
                                    "3": "60000.00",
                                    "4": "Shipping"
                                },
                                {
                                    "0": "145",
                                    "1": "Harold",
                                    "2": "Russell",
                                    "3": "336000.00",
                                    "4": "Sales"
                                },
                                {
                                    "0": "146",
                                    "1": "Karen",
                                    "2": "Partners",
                                    "3": "336000.00",
                                    "4": "Sales"
                                },
                                {
                                    "0": "147",
                                    "1": "Alberto",
                                    "2": "Errazuriz",
                                    "3": "288000.00",
                                    "4": "Sales"
                                },
                                {
                                    "0": "148",
                                    "1": "Gerald",
                                    "2": "Cambrault",
                                    "3": "264000.00",
                                    "4": "Sales"
                                },
                                {
                                    "0": "149",
                                    "1": "Michael",
                                    "2": "Rogers",
                                    "3": "252000.00",
                                    "4": "Sales"
                                },
                                {
                                    "0": "150",
                                    "1": "Peter",
                                    "2": "Tucker",
                                    "3": "240000.00",
                                    "4": "Sales"
                                },
                                {
                                    "0": "151",
                                    "1": "David",
                                    "2": "Bernstein",
                                    "3": "228000.00",
                                    "4": "Sales"
                                },
                                {
                                    "0": "152",
                                    "1": "Peter",
                                    "2": "Hall",
                                    "3": "216000.00",
                                    "4": "Sales"
                                },
                                {
                                    "0": "153",
                                    "1": "Christopher",
                                    "2": "Olsen",
                                    "3": "192000.00",
                                    "4": "Sales"
                                },
                                {
                                    "0": "154",
                                    "1": "Raewyn",
                                    "2": "Cambrault",
                                    "3": "180000.00",
                                    "4": "Sales"
                                },
                                {
                                    "0": "155",
                                    "1": "Oliver",
                                    "2": "Tuvault",
                                    "3": "168000.00",
                                    "4": "Sales"
                                },
                                {
                                    "0": "156",
                                    "1": "Janette",
                                    "2": "King",
                                    "3": "240000.00",
                                    "4": "Sales"
                                },
                                {
                                    "0": "157",
                                    "1": "Patrick",
                                    "2": "Sully",
                                    "3": "228000.00",
                                    "4": "Sales"
                                },
                                {
                                    "0": "158",
                                    "1": "Allan",
                                    "2": "McEwen",
                                    "3": "216000.00",
                                    "4": "Sales"
                                },
                                {
                                    "0": "159",
                                    "1": "Lindsey",
                                    "2": "Smith",
                                    "3": "192000.00",
                                    "4": "Sales"
                                },
                                {
                                    "0": "160",
                                    "1": "Louise",
                                    "2": "Doran",
                                    "3": "180000.00",
                                    "4": "Sales"
                                },
                                {
                                    "0": "161",
                                    "1": "Sarath",
                                    "2": "Sewall",
                                    "3": "168000.00",
                                    "4": "Sales"
                                },
                                {
                                    "0": "162",
                                    "1": "Clara",
                                    "2": "Vishney",
                                    "3": "252000.00",
                                    "4": "Sales"
                                },
                                {
                                    "0": "163",
                                    "1": "Danielle",
                                    "2": "Greene",
                                    "3": "228000.00",
                                    "4": "Sales"
                                },
                                {
                                    "0": "164",
                                    "1": "Tamara",
                                    "2": "Marvins",
                                    "3": "172800.00",
                                    "4": "Sales"
                                },
                                {
                                    "0": "165",
                                    "1": "David",
                                    "2": "Lee",
                                    "3": "163200.00",
                                    "4": "Sales"
                                },
                                {
                                    "0": "166",
                                    "1": "Sundar",
                                    "2": "Ande",
                                    "3": "153600.00",
                                    "4": "Sales"
                                },
                                {
                                    "0": "167",
                                    "1": "Amit",
                                    "2": "Banda",
                                    "3": "148800.00",
                                    "4": "Sales"
                                },
                                {
                                    "0": "168",
                                    "1": "Danny",
                                    "2": "Ozer",
                                    "3": "276000.00",
                                    "4": "Sales"
                                },
                                {
                                    "0": "169",
                                    "1": "Alexander",
                                    "2": "Bloom",
                                    "3": "240000.00",
                                    "4": "Sales"
                                },
                                {
                                    "0": "170",
                                    "1": "William",
                                    "2": "Fox",
                                    "3": "230400.00",
                                    "4": "Sales"
                                },
                                {
                                    "0": "171",
                                    "1": "Ashley",
                                    "2": "Smith",
                                    "3": "177600.00",
                                    "4": "Sales"
                                },
                                {
                                    "0": "172",
                                    "1": "Edward",
                                    "2": "Bates",
                                    "3": "175200.00",
                                    "4": "Sales"
                                },
                                {
                                    "0": "173",
                                    "1": "Clark",
                                    "2": "Solomon",
                                    "3": "146400.00",
                                    "4": "Sales"
                                },
                                {
                                    "0": "174",
                                    "1": "Annemarie",
                                    "2": "Hoffman",
                                    "3": "264000.00",
                                    "4": "Sales"
                                },
                                {
                                    "0": "175",
                                    "1": "Hiroko",
                                    "2": "Hutton",
                                    "3": "211200.00",
                                    "4": "Sales"
                                },
                                {
                                    "0": "176",
                                    "1": "Aron",
                                    "2": "Taylor",
                                    "3": "206400.00",
                                    "4": "Sales"
                                },
                                {
                                    "0": "177",
                                    "1": "Theron",
                                    "2": "Livingston",
                                    "3": "201600.00",
                                    "4": "Sales"
                                },
                                {
                                    "0": "178",
                                    "1": "Olivia",
                                    "2": "Grant",
                                    "3": "168000.00",
                                    "4": "NULL"
                                },
                                {
                                    "0": "179",
                                    "1": "Richie",
                                    "2": "Johnson",
                                    "3": "148800.00",
                                    "4": "NULL"
                                },
                                {
                                    "0": "180",
                                    "1": "Horacio",
                                    "2": "Taylor",
                                    "3": "76800.00",
                                    "4": "NULL"
                                },
                                {
                                    "0": "181",
                                    "1": "Laura",
                                    "2": "Hobbs",
                                    "3": "74400.00",
                                    "4": "NULL"
                                },
                                {
                                    "0": "182",
                                    "1": "Martha",
                                    "2": "Sullivan",
                                    "3": "60000.00",
                                    "4": "NULL"
                                },
                                {
                                    "0": "183",
                                    "1": "Girard",
                                    "2": "Geoni",
                                    "3": "67200.00",
                                    "4": "NULL"
                                },
                                {
                                    "0": "184",
                                    "1": "Nandita",
                                    "2": "Sarchand",
                                    "3": "100800.00",
                                    "4": "NULL"
                                },
                                {
                                    "0": "185",
                                    "1": "Alexis",
                                    "2": "Bull",
                                    "3": "98400.00",
                                    "4": "NULL"
                                },
                                {
                                    "0": "186",
                                    "1": "Julia",
                                    "2": "Dellinger",
                                    "3": "81600.00",
                                    "4": "NULL"
                                },
                                {
                                    "0": "187",
                                    "1": "Anthony",
                                    "2": "Cabrio",
                                    "3": "72000.00",
                                    "4": "NULL"
                                },
                                {
                                    "0": "188",
                                    "1": "Kelly",
                                    "2": "Chung",
                                    "3": "91200.00",
                                    "4": "NULL"
                                },
                                {
                                    "0": "189",
                                    "1": "Jennifer",
                                    "2": "Dilly",
                                    "3": "86400.00",
                                    "4": "NULL"
                                },
                                {
                                    "0": "190",
                                    "1": "Timothy",
                                    "2": "Gates",
                                    "3": "69600.00",
                                    "4": "NULL"
                                },
                                {
                                    "0": "191",
                                    "1": "Chuck",
                                    "2": "Perkins",
                                    "3": "60000.00",
                                    "4": "NULL"
                                },
                                {
                                    "0": "192",
                                    "1": "Sarah",
                                    "2": "Bell",
                                    "3": "96000.00",
                                    "4": "NULL"
                                },
                                {
                                    "0": "193",
                                    "1": "Britney",
                                    "2": "Everett",
                                    "3": "93600.00",
                                    "4": "NULL"
                                },
                                {
                                    "0": "194",
                                    "1": "Samuel",
                                    "2": "McCain",
                                    "3": "76800.00",
                                    "4": "NULL"
                                },
                                {
                                    "0": "195",
                                    "1": "Catrina",
                                    "2": "Jones",
                                    "3": "67200.00",
                                    "4": "NULL"
                                },
                                {
                                    "0": "196",
                                    "1": "Tabitha",
                                    "2": "Walsh",
                                    "3": "74400.00",
                                    "4": "NULL"
                                },
                                {
                                    "0": "197",
                                    "1": "Milford",
                                    "2": "Feeney",
                                    "3": "72000.00",
                                    "4": "NULL"
                                },
                                {
                                    "0": "198",
                                    "1": "Alfred",
                                    "2": "Tate",
                                    "3": "62400.00",
                                    "4": "NULL"
                                },
                                {
                                    "0": "199",
                                    "1": "Douglas",
                                    "2": "Grant",
                                    "3": "62400.00",
                                    "4": "NULL"
                                },
                                {
                                    "0": "200",
                                    "1": "Jennifer",
                                    "2": "Whalen",
                                    "3": "105600.00",
                                    "4": "NULL"
                                },
                                {
                                    "0": "201",
                                    "1": "Michael",
                                    "2": "Hartstein",
                                    "3": "312000.00",
                                    "4": "NULL"
                                },
                                {
                                    "0": "202",
                                    "1": "Patrick",
                                    "2": "Bacon",
                                    "3": "144000.00",
                                    "4": "NULL"
                                },
                                {
                                    "0": "203",
                                    "1": "Susan",
                                    "2": "Jacobs",
                                    "3": "156000.00",
                                    "4": "NULL"
                                },
                                {
                                    "0": "204",
                                    "1": "Richard",
                                    "2": "Baer",
                                    "3": "240000.00",
                                    "4": "NULL"
                                },
                                {
                                    "0": "205",
                                    "1": "Shelley",
                                    "2": "Higgins",
                                    "3": "288192.00",
                                    "4": "NULL"
                                },
                                {
                                    "0": "206",
                                    "1": "William",
                                    "2": "Gietz",
                                    "3": "199200.00",
                                    "4": "NULL"
                                }
                            ]
                        },
                        "text/html": [
                            "<table>",
                            "<tr><th>employee_id</th><th>first_name</th><th>last_name</th><th>salary</th><th>department_name</th></tr>",
                            "<tr><td>100</td><td>Jack</td><td>Bernard</td><td>576000.00</td><td>Executive</td></tr>",
                            "<tr><td>101</td><td>Don</td><td>Reilly</td><td>408000.00</td><td>Executive</td></tr>",
                            "<tr><td>102</td><td>Judy</td><td>Lawson</td><td>408000.00</td><td>Executive</td></tr>",
                            "<tr><td>103</td><td>Yani</td><td>Wenzlick</td><td>216000.00</td><td>IT</td></tr>",
                            "<tr><td>104</td><td>Rachel</td><td>Mortensen</td><td>144000.00</td><td>IT</td></tr>",
                            "<tr><td>105</td><td>Paul</td><td>Cameron</td><td>115200.00</td><td>IT</td></tr>",
                            "<tr><td>106</td><td>Russell</td><td>King</td><td>115200.00</td><td>IT</td></tr>",
                            "<tr><td>107</td><td>Maria</td><td>Cameron</td><td>100800.00</td><td>IT</td></tr>",
                            "<tr><td>108</td><td>Patricia</td><td>Doyle</td><td>288192.00</td><td>Finance</td></tr>",
                            "<tr><td>109</td><td>Daniel</td><td>Hopkins</td><td>216000.00</td><td>Finance</td></tr>",
                            "<tr><td>110</td><td>John</td><td>Chen</td><td>196800.00</td><td>Finance</td></tr>",
                            "<tr><td>111</td><td>Llyod</td><td>Henderson</td><td>184800.00</td><td>Finance</td></tr>",
                            "<tr><td>112</td><td>Lena</td><td>Chadwick</td><td>187200.00</td><td>Finance</td></tr>",
                            "<tr><td>113</td><td>Richard</td><td>Stewart</td><td>165600.00</td><td>Finance</td></tr>",
                            "<tr><td>114</td><td>Diana</td><td>Colman</td><td>264000.00</td><td>Purchasing</td></tr>",
                            "<tr><td>115</td><td>Alexander</td><td>Khoo</td><td>74400.00</td><td>Purchasing</td></tr>",
                            "<tr><td>116</td><td>Shelli</td><td>Baida</td><td>69600.00</td><td>Purchasing</td></tr>",
                            "<tr><td>117</td><td>Peter</td><td>Owen</td><td>67200.00</td><td>Purchasing</td></tr>",
                            "<tr><td>118</td><td>Peter</td><td>Owen</td><td>62400.00</td><td>Purchasing</td></tr>",
                            "<tr><td>119</td><td>Karen</td><td>Colmenares</td><td>60000.00</td><td>Purchasing</td></tr>",
                            "<tr><td>120</td><td>Matthew</td><td>Wilson</td><td>196800.00</td><td>Shipping</td></tr>",
                            "<tr><td>121</td><td>Jack</td><td>Hale</td><td>196800.00</td><td>Shipping</td></tr>",
                            "<tr><td>122</td><td>Priya</td><td>Singh</td><td>189600.00</td><td>Shipping</td></tr>",
                            "<tr><td>123</td><td>Shanta</td><td>Vollman</td><td>156000.00</td><td>Shipping</td></tr>",
                            "<tr><td>124</td><td>Kevin</td><td>Mourgos</td><td>139200.00</td><td>Shipping</td></tr>",
                            "<tr><td>125</td><td>Julia</td><td>Nayer</td><td>76800.00</td><td>Shipping</td></tr>",
                            "<tr><td>126</td><td>Irene</td><td>Mikkilineni</td><td>64800.00</td><td>Shipping</td></tr>",
                            "<tr><td>127</td><td>James</td><td>Landry</td><td>57600.00</td><td>Shipping</td></tr>",
                            "<tr><td>128</td><td>Steven</td><td>Markle</td><td>52800.00</td><td>Shipping</td></tr>",
                            "<tr><td>129</td><td>Laura</td><td>Bissot</td><td>79200.00</td><td>Shipping</td></tr>",
                            "<tr><td>130</td><td>Mark</td><td>Atkinson</td><td>67200.00</td><td>Shipping</td></tr>",
                            "<tr><td>131</td><td>James</td><td>Marlow</td><td>60000.00</td><td>Shipping</td></tr>",
                            "<tr><td>132</td><td>Gavin</td><td>Olson</td><td>52800.00</td><td>Shipping</td></tr>",
                            "<tr><td>133</td><td>Jason</td><td>Mallin</td><td>79200.00</td><td>Shipping</td></tr>",
                            "<tr><td>134</td><td>Michael</td><td>Rogers</td><td>69600.00</td><td>Shipping</td></tr>",
                            "<tr><td>135</td><td>Mitch</td><td>Holt</td><td>57600.00</td><td>Shipping</td></tr>",
                            "<tr><td>136</td><td>Hazel</td><td>Philtanker</td><td>52800.00</td><td>Shipping</td></tr>",
                            "<tr><td>137</td><td>Renske</td><td>Ladwig</td><td>86400.00</td><td>Shipping</td></tr>",
                            "<tr><td>138</td><td>Stephen</td><td>Stiles</td><td>76800.00</td><td>Shipping</td></tr>",
                            "<tr><td>139</td><td>Tony</td><td>Rogers</td><td>64800.00</td><td>Shipping</td></tr>",
                            "<tr><td>140</td><td>Mayank</td><td>Patel</td><td>60000.00</td><td>Shipping</td></tr>",
                            "<tr><td>141</td><td>Trenna</td><td>Rajs</td><td>84000.00</td><td>Shipping</td></tr>",
                            "<tr><td>142</td><td>Rick</td><td>Davies</td><td>74400.00</td><td>Shipping</td></tr>",
                            "<tr><td>143</td><td>Randall</td><td>Matos</td><td>62400.00</td><td>Shipping</td></tr>",
                            "<tr><td>144</td><td>Peter</td><td>Vargas</td><td>60000.00</td><td>Shipping</td></tr>",
                            "<tr><td>145</td><td>Harold</td><td>Russell</td><td>336000.00</td><td>Sales</td></tr>",
                            "<tr><td>146</td><td>Karen</td><td>Partners</td><td>336000.00</td><td>Sales</td></tr>",
                            "<tr><td>147</td><td>Alberto</td><td>Errazuriz</td><td>288000.00</td><td>Sales</td></tr>",
                            "<tr><td>148</td><td>Gerald</td><td>Cambrault</td><td>264000.00</td><td>Sales</td></tr>",
                            "<tr><td>149</td><td>Michael</td><td>Rogers</td><td>252000.00</td><td>Sales</td></tr>",
                            "<tr><td>150</td><td>Peter</td><td>Tucker</td><td>240000.00</td><td>Sales</td></tr>",
                            "<tr><td>151</td><td>David</td><td>Bernstein</td><td>228000.00</td><td>Sales</td></tr>",
                            "<tr><td>152</td><td>Peter</td><td>Hall</td><td>216000.00</td><td>Sales</td></tr>",
                            "<tr><td>153</td><td>Christopher</td><td>Olsen</td><td>192000.00</td><td>Sales</td></tr>",
                            "<tr><td>154</td><td>Raewyn</td><td>Cambrault</td><td>180000.00</td><td>Sales</td></tr>",
                            "<tr><td>155</td><td>Oliver</td><td>Tuvault</td><td>168000.00</td><td>Sales</td></tr>",
                            "<tr><td>156</td><td>Janette</td><td>King</td><td>240000.00</td><td>Sales</td></tr>",
                            "<tr><td>157</td><td>Patrick</td><td>Sully</td><td>228000.00</td><td>Sales</td></tr>",
                            "<tr><td>158</td><td>Allan</td><td>McEwen</td><td>216000.00</td><td>Sales</td></tr>",
                            "<tr><td>159</td><td>Lindsey</td><td>Smith</td><td>192000.00</td><td>Sales</td></tr>",
                            "<tr><td>160</td><td>Louise</td><td>Doran</td><td>180000.00</td><td>Sales</td></tr>",
                            "<tr><td>161</td><td>Sarath</td><td>Sewall</td><td>168000.00</td><td>Sales</td></tr>",
                            "<tr><td>162</td><td>Clara</td><td>Vishney</td><td>252000.00</td><td>Sales</td></tr>",
                            "<tr><td>163</td><td>Danielle</td><td>Greene</td><td>228000.00</td><td>Sales</td></tr>",
                            "<tr><td>164</td><td>Tamara</td><td>Marvins</td><td>172800.00</td><td>Sales</td></tr>",
                            "<tr><td>165</td><td>David</td><td>Lee</td><td>163200.00</td><td>Sales</td></tr>",
                            "<tr><td>166</td><td>Sundar</td><td>Ande</td><td>153600.00</td><td>Sales</td></tr>",
                            "<tr><td>167</td><td>Amit</td><td>Banda</td><td>148800.00</td><td>Sales</td></tr>",
                            "<tr><td>168</td><td>Danny</td><td>Ozer</td><td>276000.00</td><td>Sales</td></tr>",
                            "<tr><td>169</td><td>Alexander</td><td>Bloom</td><td>240000.00</td><td>Sales</td></tr>",
                            "<tr><td>170</td><td>William</td><td>Fox</td><td>230400.00</td><td>Sales</td></tr>",
                            "<tr><td>171</td><td>Ashley</td><td>Smith</td><td>177600.00</td><td>Sales</td></tr>",
                            "<tr><td>172</td><td>Edward</td><td>Bates</td><td>175200.00</td><td>Sales</td></tr>",
                            "<tr><td>173</td><td>Clark</td><td>Solomon</td><td>146400.00</td><td>Sales</td></tr>",
                            "<tr><td>174</td><td>Annemarie</td><td>Hoffman</td><td>264000.00</td><td>Sales</td></tr>",
                            "<tr><td>175</td><td>Hiroko</td><td>Hutton</td><td>211200.00</td><td>Sales</td></tr>",
                            "<tr><td>176</td><td>Aron</td><td>Taylor</td><td>206400.00</td><td>Sales</td></tr>",
                            "<tr><td>177</td><td>Theron</td><td>Livingston</td><td>201600.00</td><td>Sales</td></tr>",
                            "<tr><td>178</td><td>Olivia</td><td>Grant</td><td>168000.00</td><td>NULL</td></tr>",
                            "<tr><td>179</td><td>Richie</td><td>Johnson</td><td>148800.00</td><td>NULL</td></tr>",
                            "<tr><td>180</td><td>Horacio</td><td>Taylor</td><td>76800.00</td><td>NULL</td></tr>",
                            "<tr><td>181</td><td>Laura</td><td>Hobbs</td><td>74400.00</td><td>NULL</td></tr>",
                            "<tr><td>182</td><td>Martha</td><td>Sullivan</td><td>60000.00</td><td>NULL</td></tr>",
                            "<tr><td>183</td><td>Girard</td><td>Geoni</td><td>67200.00</td><td>NULL</td></tr>",
                            "<tr><td>184</td><td>Nandita</td><td>Sarchand</td><td>100800.00</td><td>NULL</td></tr>",
                            "<tr><td>185</td><td>Alexis</td><td>Bull</td><td>98400.00</td><td>NULL</td></tr>",
                            "<tr><td>186</td><td>Julia</td><td>Dellinger</td><td>81600.00</td><td>NULL</td></tr>",
                            "<tr><td>187</td><td>Anthony</td><td>Cabrio</td><td>72000.00</td><td>NULL</td></tr>",
                            "<tr><td>188</td><td>Kelly</td><td>Chung</td><td>91200.00</td><td>NULL</td></tr>",
                            "<tr><td>189</td><td>Jennifer</td><td>Dilly</td><td>86400.00</td><td>NULL</td></tr>",
                            "<tr><td>190</td><td>Timothy</td><td>Gates</td><td>69600.00</td><td>NULL</td></tr>",
                            "<tr><td>191</td><td>Chuck</td><td>Perkins</td><td>60000.00</td><td>NULL</td></tr>",
                            "<tr><td>192</td><td>Sarah</td><td>Bell</td><td>96000.00</td><td>NULL</td></tr>",
                            "<tr><td>193</td><td>Britney</td><td>Everett</td><td>93600.00</td><td>NULL</td></tr>",
                            "<tr><td>194</td><td>Samuel</td><td>McCain</td><td>76800.00</td><td>NULL</td></tr>",
                            "<tr><td>195</td><td>Catrina</td><td>Jones</td><td>67200.00</td><td>NULL</td></tr>",
                            "<tr><td>196</td><td>Tabitha</td><td>Walsh</td><td>74400.00</td><td>NULL</td></tr>",
                            "<tr><td>197</td><td>Milford</td><td>Feeney</td><td>72000.00</td><td>NULL</td></tr>",
                            "<tr><td>198</td><td>Alfred</td><td>Tate</td><td>62400.00</td><td>NULL</td></tr>",
                            "<tr><td>199</td><td>Douglas</td><td>Grant</td><td>62400.00</td><td>NULL</td></tr>",
                            "<tr><td>200</td><td>Jennifer</td><td>Whalen</td><td>105600.00</td><td>NULL</td></tr>",
                            "<tr><td>201</td><td>Michael</td><td>Hartstein</td><td>312000.00</td><td>NULL</td></tr>",
                            "<tr><td>202</td><td>Patrick</td><td>Bacon</td><td>144000.00</td><td>NULL</td></tr>",
                            "<tr><td>203</td><td>Susan</td><td>Jacobs</td><td>156000.00</td><td>NULL</td></tr>",
                            "<tr><td>204</td><td>Richard</td><td>Baer</td><td>240000.00</td><td>NULL</td></tr>",
                            "<tr><td>205</td><td>Shelley</td><td>Higgins</td><td>288192.00</td><td>NULL</td></tr>",
                            "<tr><td>206</td><td>William</td><td>Gietz</td><td>199200.00</td><td>NULL</td></tr>",
                            "</table>"
                        ]
                    }
                }
            ],
            "execution_count": 4
        },
        {
            "cell_type": "markdown",
            "source": [
                "### **Third Challenge** \n",
                "\n",
                "Challenge: Write a query to return the total number of employees in each department. Include the department\\_name in the query result. Also, include employees who have not been assigned to a department."
            ],
            "metadata": {
                "azdata_cell_guid": "67b58934-a54b-45ee-9f43-834d6133da25"
            },
            "attachments": {}
        },
        {
            "cell_type": "code",
            "source": [
                "SELECT d.department_name, COUNT(*) AS employee_count\n",
                "FROM hcm.employees e LEFT JOIN hcm.departments d\n",
                "ON e.department_id = d.department_id \n",
                "GROUP BY d.department_name;"
            ],
            "metadata": {
                "azdata_cell_guid": "e0e31bd0-8a57-4d3c-9645-4963c3591d12",
                "language": "sql"
            },
            "outputs": [
                {
                    "output_type": "display_data",
                    "data": {
                        "text/html": "(7 rows affected)"
                    },
                    "metadata": {}
                },
                {
                    "output_type": "display_data",
                    "data": {
                        "text/html": "Total execution time: 00:00:00.008"
                    },
                    "metadata": {}
                },
                {
                    "output_type": "execute_result",
                    "metadata": {},
                    "execution_count": 9,
                    "data": {
                        "application/vnd.dataresource+json": {
                            "schema": {
                                "fields": [
                                    {
                                        "name": "department_name"
                                    },
                                    {
                                        "name": "employee_count"
                                    }
                                ]
                            },
                            "data": [
                                {
                                    "0": "NULL",
                                    "1": "29"
                                },
                                {
                                    "0": "Executive",
                                    "1": "3"
                                },
                                {
                                    "0": "Finance",
                                    "1": "6"
                                },
                                {
                                    "0": "IT",
                                    "1": "5"
                                },
                                {
                                    "0": "Purchasing",
                                    "1": "6"
                                },
                                {
                                    "0": "Sales",
                                    "1": "33"
                                },
                                {
                                    "0": "Shipping",
                                    "1": "25"
                                }
                            ]
                        },
                        "text/html": [
                            "<table>",
                            "<tr><th>department_name</th><th>employee_count</th></tr>",
                            "<tr><td>NULL</td><td>29</td></tr>",
                            "<tr><td>Executive</td><td>3</td></tr>",
                            "<tr><td>Finance</td><td>6</td></tr>",
                            "<tr><td>IT</td><td>5</td></tr>",
                            "<tr><td>Purchasing</td><td>6</td></tr>",
                            "<tr><td>Sales</td><td>33</td></tr>",
                            "<tr><td>Shipping</td><td>25</td></tr>",
                            "</table>"
                        ]
                    }
                }
            ],
            "execution_count": 9
        }
    ]
}