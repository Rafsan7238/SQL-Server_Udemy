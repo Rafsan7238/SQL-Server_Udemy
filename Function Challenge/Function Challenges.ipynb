{
    "metadata": {
        "kernelspec": {
            "name": "SQL",
            "display_name": "SQL",
            "language": "sql"
        },
        "language_info": {
            "name": "sql",
            "version": ""
        }
    },
    "nbformat_minor": 2,
    "nbformat": 4,
    "cells": [
        {
            "cell_type": "markdown",
            "source": [
                "# Function Challenges"
            ],
            "metadata": {
                "azdata_cell_guid": "64e4e4e9-b332-4298-bd51-bda3c0b8b38f"
            },
            "attachments": {}
        },
        {
            "cell_type": "markdown",
            "source": [
                "\\*\\*Use SAMPLEDB Database\\*\\*"
            ],
            "metadata": {
                "azdata_cell_guid": "06cd8a72-c473-4711-a491-ae73a0391b0f"
            },
            "attachments": {}
        },
        {
            "cell_type": "code",
            "source": [
                "USE SAMPLEDB\n",
                "GO"
            ],
            "metadata": {
                "azdata_cell_guid": "cf11ba5f-f066-4be5-974e-b457d008b886",
                "language": "sql"
            },
            "outputs": [
                {
                    "output_type": "display_data",
                    "data": {
                        "text/html": "Commands completed successfully."
                    },
                    "metadata": {}
                },
                {
                    "output_type": "display_data",
                    "data": {
                        "text/html": "Total execution time: 00:00:00.002"
                    },
                    "metadata": {}
                }
            ],
            "execution_count": 1
        },
        {
            "cell_type": "markdown",
            "source": [
                "### **First Challenge**\n",
                "\n",
                "Challenge: Concatenate the first name and last name of each employee. Include a single space between the first and last name. Name the new expression employee\\_name. Include: \n",
                "\n",
                "\\- employee\\_id \n",
                "\n",
                "\\- first\\_name \n",
                "\n",
                "\\- last\\_name \n",
                "\n",
                "\\- employee\\_name"
            ],
            "metadata": {
                "language": "sql",
                "azdata_cell_guid": "c0a6d2cd-4005-4e25-9d72-0525dabed09d"
            },
            "attachments": {}
        },
        {
            "cell_type": "code",
            "source": [
                "SELECT employee_id, first_name, last_name, first_name + ' ' + last_name AS employee_name\n",
                "FROM hcm.employees ;"
            ],
            "metadata": {
                "language": "sql",
                "azdata_cell_guid": "0449da34-7072-49ab-8732-bdb8e2d36547"
            },
            "outputs": [
                {
                    "output_type": "display_data",
                    "data": {
                        "text/html": "(107 rows affected)"
                    },
                    "metadata": {}
                },
                {
                    "output_type": "display_data",
                    "data": {
                        "text/html": "Total execution time: 00:00:00.019"
                    },
                    "metadata": {}
                },
                {
                    "output_type": "execute_result",
                    "metadata": {},
                    "execution_count": 2,
                    "data": {
                        "application/vnd.dataresource+json": {
                            "schema": {
                                "fields": [
                                    {
                                        "name": "employee_id"
                                    },
                                    {
                                        "name": "first_name"
                                    },
                                    {
                                        "name": "last_name"
                                    },
                                    {
                                        "name": "employee_name"
                                    }
                                ]
                            },
                            "data": [
                                {
                                    "0": "100",
                                    "1": "Jack",
                                    "2": "Bernard",
                                    "3": "Jack Bernard"
                                },
                                {
                                    "0": "101",
                                    "1": "Don",
                                    "2": "Reilly",
                                    "3": "Don Reilly"
                                },
                                {
                                    "0": "102",
                                    "1": "Judy",
                                    "2": "Lawson",
                                    "3": "Judy Lawson"
                                },
                                {
                                    "0": "103",
                                    "1": "Yani",
                                    "2": "Wenzlick",
                                    "3": "Yani Wenzlick"
                                },
                                {
                                    "0": "104",
                                    "1": "Rachel",
                                    "2": "Mortensen",
                                    "3": "Rachel Mortensen"
                                },
                                {
                                    "0": "105",
                                    "1": "Paul",
                                    "2": "Cameron",
                                    "3": "Paul Cameron"
                                },
                                {
                                    "0": "106",
                                    "1": "Russell",
                                    "2": "King",
                                    "3": "Russell King"
                                },
                                {
                                    "0": "107",
                                    "1": "Maria",
                                    "2": "Cameron",
                                    "3": "Maria Cameron"
                                },
                                {
                                    "0": "108",
                                    "1": "Patricia",
                                    "2": "Doyle",
                                    "3": "Patricia Doyle"
                                },
                                {
                                    "0": "109",
                                    "1": "Daniel",
                                    "2": "Hopkins",
                                    "3": "Daniel Hopkins"
                                },
                                {
                                    "0": "110",
                                    "1": "John",
                                    "2": "Chen",
                                    "3": "John Chen"
                                },
                                {
                                    "0": "111",
                                    "1": "Llyod",
                                    "2": "Henderson",
                                    "3": "Llyod Henderson"
                                },
                                {
                                    "0": "112",
                                    "1": "Lena",
                                    "2": "Chadwick",
                                    "3": "Lena Chadwick"
                                },
                                {
                                    "0": "113",
                                    "1": "Richard",
                                    "2": "Stewart",
                                    "3": "Richard Stewart"
                                },
                                {
                                    "0": "114",
                                    "1": "Diana",
                                    "2": "Colman",
                                    "3": "Diana Colman"
                                },
                                {
                                    "0": "115",
                                    "1": "Alexander",
                                    "2": "Khoo",
                                    "3": "Alexander Khoo"
                                },
                                {
                                    "0": "116",
                                    "1": "Shelli",
                                    "2": "Baida",
                                    "3": "Shelli Baida"
                                },
                                {
                                    "0": "117",
                                    "1": "Peter",
                                    "2": "Owen",
                                    "3": "Peter Owen"
                                },
                                {
                                    "0": "118",
                                    "1": "Peter",
                                    "2": "Owen",
                                    "3": "Peter Owen"
                                },
                                {
                                    "0": "119",
                                    "1": "Karen",
                                    "2": "Colmenares",
                                    "3": "Karen Colmenares"
                                },
                                {
                                    "0": "120",
                                    "1": "Matthew",
                                    "2": "Wilson",
                                    "3": "Matthew Wilson"
                                },
                                {
                                    "0": "121",
                                    "1": "Jack",
                                    "2": "Hale",
                                    "3": "Jack Hale"
                                },
                                {
                                    "0": "122",
                                    "1": "Priya",
                                    "2": "Singh",
                                    "3": "Priya Singh"
                                },
                                {
                                    "0": "123",
                                    "1": "Shanta",
                                    "2": "Vollman",
                                    "3": "Shanta Vollman"
                                },
                                {
                                    "0": "124",
                                    "1": "Kevin",
                                    "2": "Mourgos",
                                    "3": "Kevin Mourgos"
                                },
                                {
                                    "0": "125",
                                    "1": "Julia",
                                    "2": "Nayer",
                                    "3": "Julia Nayer"
                                },
                                {
                                    "0": "126",
                                    "1": "Irene",
                                    "2": "Mikkilineni",
                                    "3": "Irene Mikkilineni"
                                },
                                {
                                    "0": "127",
                                    "1": "James",
                                    "2": "Landry",
                                    "3": "James Landry"
                                },
                                {
                                    "0": "128",
                                    "1": "Steven",
                                    "2": "Markle",
                                    "3": "Steven Markle"
                                },
                                {
                                    "0": "129",
                                    "1": "Laura",
                                    "2": "Bissot",
                                    "3": "Laura Bissot"
                                },
                                {
                                    "0": "130",
                                    "1": "Mark",
                                    "2": "Atkinson",
                                    "3": "Mark Atkinson"
                                },
                                {
                                    "0": "131",
                                    "1": "James",
                                    "2": "Marlow",
                                    "3": "James Marlow"
                                },
                                {
                                    "0": "132",
                                    "1": "Gavin",
                                    "2": "Olson",
                                    "3": "Gavin Olson"
                                },
                                {
                                    "0": "133",
                                    "1": "Jason",
                                    "2": "Mallin",
                                    "3": "Jason Mallin"
                                },
                                {
                                    "0": "134",
                                    "1": "Michael",
                                    "2": "Rogers",
                                    "3": "Michael Rogers"
                                },
                                {
                                    "0": "135",
                                    "1": "Mitch",
                                    "2": "Holt",
                                    "3": "Mitch Holt"
                                },
                                {
                                    "0": "136",
                                    "1": "Hazel",
                                    "2": "Philtanker",
                                    "3": "Hazel Philtanker"
                                },
                                {
                                    "0": "137",
                                    "1": "Renske",
                                    "2": "Ladwig",
                                    "3": "Renske Ladwig"
                                },
                                {
                                    "0": "138",
                                    "1": "Stephen",
                                    "2": "Stiles",
                                    "3": "Stephen Stiles"
                                },
                                {
                                    "0": "139",
                                    "1": "Tony",
                                    "2": "Rogers",
                                    "3": "Tony Rogers"
                                },
                                {
                                    "0": "140",
                                    "1": "Mayank",
                                    "2": "Patel",
                                    "3": "Mayank Patel"
                                },
                                {
                                    "0": "141",
                                    "1": "Trenna",
                                    "2": "Rajs",
                                    "3": "Trenna Rajs"
                                },
                                {
                                    "0": "142",
                                    "1": "Rick",
                                    "2": "Davies",
                                    "3": "Rick Davies"
                                },
                                {
                                    "0": "143",
                                    "1": "Randall",
                                    "2": "Matos",
                                    "3": "Randall Matos"
                                },
                                {
                                    "0": "144",
                                    "1": "Peter",
                                    "2": "Vargas",
                                    "3": "Peter Vargas"
                                },
                                {
                                    "0": "145",
                                    "1": "Harold",
                                    "2": "Russell",
                                    "3": "Harold Russell"
                                },
                                {
                                    "0": "146",
                                    "1": "Karen",
                                    "2": "Partners",
                                    "3": "Karen Partners"
                                },
                                {
                                    "0": "147",
                                    "1": "Alberto",
                                    "2": "Errazuriz",
                                    "3": "Alberto Errazuriz"
                                },
                                {
                                    "0": "148",
                                    "1": "Gerald",
                                    "2": "Cambrault",
                                    "3": "Gerald Cambrault"
                                },
                                {
                                    "0": "149",
                                    "1": "Michael",
                                    "2": "Rogers",
                                    "3": "Michael Rogers"
                                },
                                {
                                    "0": "150",
                                    "1": "Peter",
                                    "2": "Tucker",
                                    "3": "Peter Tucker"
                                },
                                {
                                    "0": "151",
                                    "1": "David",
                                    "2": "Bernstein",
                                    "3": "David Bernstein"
                                },
                                {
                                    "0": "152",
                                    "1": "Peter",
                                    "2": "Hall",
                                    "3": "Peter Hall"
                                },
                                {
                                    "0": "153",
                                    "1": "Christopher",
                                    "2": "Olsen",
                                    "3": "Christopher Olsen"
                                },
                                {
                                    "0": "154",
                                    "1": "Raewyn",
                                    "2": "Cambrault",
                                    "3": "Raewyn Cambrault"
                                },
                                {
                                    "0": "155",
                                    "1": "Oliver",
                                    "2": "Tuvault",
                                    "3": "Oliver Tuvault"
                                },
                                {
                                    "0": "156",
                                    "1": "Janette",
                                    "2": "King",
                                    "3": "Janette King"
                                },
                                {
                                    "0": "157",
                                    "1": "Patrick",
                                    "2": "Sully",
                                    "3": "Patrick Sully"
                                },
                                {
                                    "0": "158",
                                    "1": "Allan",
                                    "2": "McEwen",
                                    "3": "Allan McEwen"
                                },
                                {
                                    "0": "159",
                                    "1": "Lindsey",
                                    "2": "Smith",
                                    "3": "Lindsey Smith"
                                },
                                {
                                    "0": "160",
                                    "1": "Louise",
                                    "2": "Doran",
                                    "3": "Louise Doran"
                                },
                                {
                                    "0": "161",
                                    "1": "Sarath",
                                    "2": "Sewall",
                                    "3": "Sarath Sewall"
                                },
                                {
                                    "0": "162",
                                    "1": "Clara",
                                    "2": "Vishney",
                                    "3": "Clara Vishney"
                                },
                                {
                                    "0": "163",
                                    "1": "Danielle",
                                    "2": "Greene",
                                    "3": "Danielle Greene"
                                },
                                {
                                    "0": "164",
                                    "1": "Tamara",
                                    "2": "Marvins",
                                    "3": "Tamara Marvins"
                                },
                                {
                                    "0": "165",
                                    "1": "David",
                                    "2": "Lee",
                                    "3": "David Lee"
                                },
                                {
                                    "0": "166",
                                    "1": "Sundar",
                                    "2": "Ande",
                                    "3": "Sundar Ande"
                                },
                                {
                                    "0": "167",
                                    "1": "Amit",
                                    "2": "Banda",
                                    "3": "Amit Banda"
                                },
                                {
                                    "0": "168",
                                    "1": "Danny",
                                    "2": "Ozer",
                                    "3": "Danny Ozer"
                                },
                                {
                                    "0": "169",
                                    "1": "Alexander",
                                    "2": "Bloom",
                                    "3": "Alexander Bloom"
                                },
                                {
                                    "0": "170",
                                    "1": "William",
                                    "2": "Fox",
                                    "3": "William Fox"
                                },
                                {
                                    "0": "171",
                                    "1": "Ashley",
                                    "2": "Smith",
                                    "3": "Ashley Smith"
                                },
                                {
                                    "0": "172",
                                    "1": "Edward",
                                    "2": "Bates",
                                    "3": "Edward Bates"
                                },
                                {
                                    "0": "173",
                                    "1": "Clark",
                                    "2": "Solomon",
                                    "3": "Clark Solomon"
                                },
                                {
                                    "0": "174",
                                    "1": "Annemarie",
                                    "2": "Hoffman",
                                    "3": "Annemarie Hoffman"
                                },
                                {
                                    "0": "175",
                                    "1": "Hiroko",
                                    "2": "Hutton",
                                    "3": "Hiroko Hutton"
                                },
                                {
                                    "0": "176",
                                    "1": "Aron",
                                    "2": "Taylor",
                                    "3": "Aron Taylor"
                                },
                                {
                                    "0": "177",
                                    "1": "Theron",
                                    "2": "Livingston",
                                    "3": "Theron Livingston"
                                },
                                {
                                    "0": "178",
                                    "1": "Olivia",
                                    "2": "Grant",
                                    "3": "Olivia Grant"
                                },
                                {
                                    "0": "179",
                                    "1": "Richie",
                                    "2": "Johnson",
                                    "3": "Richie Johnson"
                                },
                                {
                                    "0": "180",
                                    "1": "Horacio",
                                    "2": "Taylor",
                                    "3": "Horacio Taylor"
                                },
                                {
                                    "0": "181",
                                    "1": "Laura",
                                    "2": "Hobbs",
                                    "3": "Laura Hobbs"
                                },
                                {
                                    "0": "182",
                                    "1": "Martha",
                                    "2": "Sullivan",
                                    "3": "Martha Sullivan"
                                },
                                {
                                    "0": "183",
                                    "1": "Girard",
                                    "2": "Geoni",
                                    "3": "Girard Geoni"
                                },
                                {
                                    "0": "184",
                                    "1": "Nandita",
                                    "2": "Sarchand",
                                    "3": "Nandita Sarchand"
                                },
                                {
                                    "0": "185",
                                    "1": "Alexis",
                                    "2": "Bull",
                                    "3": "Alexis Bull"
                                },
                                {
                                    "0": "186",
                                    "1": "Julia",
                                    "2": "Dellinger",
                                    "3": "Julia Dellinger"
                                },
                                {
                                    "0": "187",
                                    "1": "Anthony",
                                    "2": "Cabrio",
                                    "3": "Anthony Cabrio"
                                },
                                {
                                    "0": "188",
                                    "1": "Kelly",
                                    "2": "Chung",
                                    "3": "Kelly Chung"
                                },
                                {
                                    "0": "189",
                                    "1": "Jennifer",
                                    "2": "Dilly",
                                    "3": "Jennifer Dilly"
                                },
                                {
                                    "0": "190",
                                    "1": "Timothy",
                                    "2": "Gates",
                                    "3": "Timothy Gates"
                                },
                                {
                                    "0": "191",
                                    "1": "Chuck",
                                    "2": "Perkins",
                                    "3": "Chuck Perkins"
                                },
                                {
                                    "0": "192",
                                    "1": "Sarah",
                                    "2": "Bell",
                                    "3": "Sarah Bell"
                                },
                                {
                                    "0": "193",
                                    "1": "Britney",
                                    "2": "Everett",
                                    "3": "Britney Everett"
                                },
                                {
                                    "0": "194",
                                    "1": "Samuel",
                                    "2": "McCain",
                                    "3": "Samuel McCain"
                                },
                                {
                                    "0": "195",
                                    "1": "Catrina",
                                    "2": "Jones",
                                    "3": "Catrina Jones"
                                },
                                {
                                    "0": "196",
                                    "1": "Tabitha",
                                    "2": "Walsh",
                                    "3": "Tabitha Walsh"
                                },
                                {
                                    "0": "197",
                                    "1": "Milford",
                                    "2": "Feeney",
                                    "3": "Milford Feeney"
                                },
                                {
                                    "0": "198",
                                    "1": "Alfred",
                                    "2": "Tate",
                                    "3": "Alfred Tate"
                                },
                                {
                                    "0": "199",
                                    "1": "Douglas",
                                    "2": "Grant",
                                    "3": "Douglas Grant"
                                },
                                {
                                    "0": "200",
                                    "1": "Jennifer",
                                    "2": "Whalen",
                                    "3": "Jennifer Whalen"
                                },
                                {
                                    "0": "201",
                                    "1": "Michael",
                                    "2": "Hartstein",
                                    "3": "Michael Hartstein"
                                },
                                {
                                    "0": "202",
                                    "1": "Patrick",
                                    "2": "Bacon",
                                    "3": "Patrick Bacon"
                                },
                                {
                                    "0": "203",
                                    "1": "Susan",
                                    "2": "Jacobs",
                                    "3": "Susan Jacobs"
                                },
                                {
                                    "0": "204",
                                    "1": "Richard",
                                    "2": "Baer",
                                    "3": "Richard Baer"
                                },
                                {
                                    "0": "205",
                                    "1": "Shelley",
                                    "2": "Higgins",
                                    "3": "Shelley Higgins"
                                },
                                {
                                    "0": "206",
                                    "1": "William",
                                    "2": "Gietz",
                                    "3": "William Gietz"
                                }
                            ]
                        },
                        "text/html": [
                            "<table>",
                            "<tr><th>employee_id</th><th>first_name</th><th>last_name</th><th>employee_name</th></tr>",
                            "<tr><td>100</td><td>Jack</td><td>Bernard</td><td>Jack Bernard</td></tr>",
                            "<tr><td>101</td><td>Don</td><td>Reilly</td><td>Don Reilly</td></tr>",
                            "<tr><td>102</td><td>Judy</td><td>Lawson</td><td>Judy Lawson</td></tr>",
                            "<tr><td>103</td><td>Yani</td><td>Wenzlick</td><td>Yani Wenzlick</td></tr>",
                            "<tr><td>104</td><td>Rachel</td><td>Mortensen</td><td>Rachel Mortensen</td></tr>",
                            "<tr><td>105</td><td>Paul</td><td>Cameron</td><td>Paul Cameron</td></tr>",
                            "<tr><td>106</td><td>Russell</td><td>King</td><td>Russell King</td></tr>",
                            "<tr><td>107</td><td>Maria</td><td>Cameron</td><td>Maria Cameron</td></tr>",
                            "<tr><td>108</td><td>Patricia</td><td>Doyle</td><td>Patricia Doyle</td></tr>",
                            "<tr><td>109</td><td>Daniel</td><td>Hopkins</td><td>Daniel Hopkins</td></tr>",
                            "<tr><td>110</td><td>John</td><td>Chen</td><td>John Chen</td></tr>",
                            "<tr><td>111</td><td>Llyod</td><td>Henderson</td><td>Llyod Henderson</td></tr>",
                            "<tr><td>112</td><td>Lena</td><td>Chadwick</td><td>Lena Chadwick</td></tr>",
                            "<tr><td>113</td><td>Richard</td><td>Stewart</td><td>Richard Stewart</td></tr>",
                            "<tr><td>114</td><td>Diana</td><td>Colman</td><td>Diana Colman</td></tr>",
                            "<tr><td>115</td><td>Alexander</td><td>Khoo</td><td>Alexander Khoo</td></tr>",
                            "<tr><td>116</td><td>Shelli</td><td>Baida</td><td>Shelli Baida</td></tr>",
                            "<tr><td>117</td><td>Peter</td><td>Owen</td><td>Peter Owen</td></tr>",
                            "<tr><td>118</td><td>Peter</td><td>Owen</td><td>Peter Owen</td></tr>",
                            "<tr><td>119</td><td>Karen</td><td>Colmenares</td><td>Karen Colmenares</td></tr>",
                            "<tr><td>120</td><td>Matthew</td><td>Wilson</td><td>Matthew Wilson</td></tr>",
                            "<tr><td>121</td><td>Jack</td><td>Hale</td><td>Jack Hale</td></tr>",
                            "<tr><td>122</td><td>Priya</td><td>Singh</td><td>Priya Singh</td></tr>",
                            "<tr><td>123</td><td>Shanta</td><td>Vollman</td><td>Shanta Vollman</td></tr>",
                            "<tr><td>124</td><td>Kevin</td><td>Mourgos</td><td>Kevin Mourgos</td></tr>",
                            "<tr><td>125</td><td>Julia</td><td>Nayer</td><td>Julia Nayer</td></tr>",
                            "<tr><td>126</td><td>Irene</td><td>Mikkilineni</td><td>Irene Mikkilineni</td></tr>",
                            "<tr><td>127</td><td>James</td><td>Landry</td><td>James Landry</td></tr>",
                            "<tr><td>128</td><td>Steven</td><td>Markle</td><td>Steven Markle</td></tr>",
                            "<tr><td>129</td><td>Laura</td><td>Bissot</td><td>Laura Bissot</td></tr>",
                            "<tr><td>130</td><td>Mark</td><td>Atkinson</td><td>Mark Atkinson</td></tr>",
                            "<tr><td>131</td><td>James</td><td>Marlow</td><td>James Marlow</td></tr>",
                            "<tr><td>132</td><td>Gavin</td><td>Olson</td><td>Gavin Olson</td></tr>",
                            "<tr><td>133</td><td>Jason</td><td>Mallin</td><td>Jason Mallin</td></tr>",
                            "<tr><td>134</td><td>Michael</td><td>Rogers</td><td>Michael Rogers</td></tr>",
                            "<tr><td>135</td><td>Mitch</td><td>Holt</td><td>Mitch Holt</td></tr>",
                            "<tr><td>136</td><td>Hazel</td><td>Philtanker</td><td>Hazel Philtanker</td></tr>",
                            "<tr><td>137</td><td>Renske</td><td>Ladwig</td><td>Renske Ladwig</td></tr>",
                            "<tr><td>138</td><td>Stephen</td><td>Stiles</td><td>Stephen Stiles</td></tr>",
                            "<tr><td>139</td><td>Tony</td><td>Rogers</td><td>Tony Rogers</td></tr>",
                            "<tr><td>140</td><td>Mayank</td><td>Patel</td><td>Mayank Patel</td></tr>",
                            "<tr><td>141</td><td>Trenna</td><td>Rajs</td><td>Trenna Rajs</td></tr>",
                            "<tr><td>142</td><td>Rick</td><td>Davies</td><td>Rick Davies</td></tr>",
                            "<tr><td>143</td><td>Randall</td><td>Matos</td><td>Randall Matos</td></tr>",
                            "<tr><td>144</td><td>Peter</td><td>Vargas</td><td>Peter Vargas</td></tr>",
                            "<tr><td>145</td><td>Harold</td><td>Russell</td><td>Harold Russell</td></tr>",
                            "<tr><td>146</td><td>Karen</td><td>Partners</td><td>Karen Partners</td></tr>",
                            "<tr><td>147</td><td>Alberto</td><td>Errazuriz</td><td>Alberto Errazuriz</td></tr>",
                            "<tr><td>148</td><td>Gerald</td><td>Cambrault</td><td>Gerald Cambrault</td></tr>",
                            "<tr><td>149</td><td>Michael</td><td>Rogers</td><td>Michael Rogers</td></tr>",
                            "<tr><td>150</td><td>Peter</td><td>Tucker</td><td>Peter Tucker</td></tr>",
                            "<tr><td>151</td><td>David</td><td>Bernstein</td><td>David Bernstein</td></tr>",
                            "<tr><td>152</td><td>Peter</td><td>Hall</td><td>Peter Hall</td></tr>",
                            "<tr><td>153</td><td>Christopher</td><td>Olsen</td><td>Christopher Olsen</td></tr>",
                            "<tr><td>154</td><td>Raewyn</td><td>Cambrault</td><td>Raewyn Cambrault</td></tr>",
                            "<tr><td>155</td><td>Oliver</td><td>Tuvault</td><td>Oliver Tuvault</td></tr>",
                            "<tr><td>156</td><td>Janette</td><td>King</td><td>Janette King</td></tr>",
                            "<tr><td>157</td><td>Patrick</td><td>Sully</td><td>Patrick Sully</td></tr>",
                            "<tr><td>158</td><td>Allan</td><td>McEwen</td><td>Allan McEwen</td></tr>",
                            "<tr><td>159</td><td>Lindsey</td><td>Smith</td><td>Lindsey Smith</td></tr>",
                            "<tr><td>160</td><td>Louise</td><td>Doran</td><td>Louise Doran</td></tr>",
                            "<tr><td>161</td><td>Sarath</td><td>Sewall</td><td>Sarath Sewall</td></tr>",
                            "<tr><td>162</td><td>Clara</td><td>Vishney</td><td>Clara Vishney</td></tr>",
                            "<tr><td>163</td><td>Danielle</td><td>Greene</td><td>Danielle Greene</td></tr>",
                            "<tr><td>164</td><td>Tamara</td><td>Marvins</td><td>Tamara Marvins</td></tr>",
                            "<tr><td>165</td><td>David</td><td>Lee</td><td>David Lee</td></tr>",
                            "<tr><td>166</td><td>Sundar</td><td>Ande</td><td>Sundar Ande</td></tr>",
                            "<tr><td>167</td><td>Amit</td><td>Banda</td><td>Amit Banda</td></tr>",
                            "<tr><td>168</td><td>Danny</td><td>Ozer</td><td>Danny Ozer</td></tr>",
                            "<tr><td>169</td><td>Alexander</td><td>Bloom</td><td>Alexander Bloom</td></tr>",
                            "<tr><td>170</td><td>William</td><td>Fox</td><td>William Fox</td></tr>",
                            "<tr><td>171</td><td>Ashley</td><td>Smith</td><td>Ashley Smith</td></tr>",
                            "<tr><td>172</td><td>Edward</td><td>Bates</td><td>Edward Bates</td></tr>",
                            "<tr><td>173</td><td>Clark</td><td>Solomon</td><td>Clark Solomon</td></tr>",
                            "<tr><td>174</td><td>Annemarie</td><td>Hoffman</td><td>Annemarie Hoffman</td></tr>",
                            "<tr><td>175</td><td>Hiroko</td><td>Hutton</td><td>Hiroko Hutton</td></tr>",
                            "<tr><td>176</td><td>Aron</td><td>Taylor</td><td>Aron Taylor</td></tr>",
                            "<tr><td>177</td><td>Theron</td><td>Livingston</td><td>Theron Livingston</td></tr>",
                            "<tr><td>178</td><td>Olivia</td><td>Grant</td><td>Olivia Grant</td></tr>",
                            "<tr><td>179</td><td>Richie</td><td>Johnson</td><td>Richie Johnson</td></tr>",
                            "<tr><td>180</td><td>Horacio</td><td>Taylor</td><td>Horacio Taylor</td></tr>",
                            "<tr><td>181</td><td>Laura</td><td>Hobbs</td><td>Laura Hobbs</td></tr>",
                            "<tr><td>182</td><td>Martha</td><td>Sullivan</td><td>Martha Sullivan</td></tr>",
                            "<tr><td>183</td><td>Girard</td><td>Geoni</td><td>Girard Geoni</td></tr>",
                            "<tr><td>184</td><td>Nandita</td><td>Sarchand</td><td>Nandita Sarchand</td></tr>",
                            "<tr><td>185</td><td>Alexis</td><td>Bull</td><td>Alexis Bull</td></tr>",
                            "<tr><td>186</td><td>Julia</td><td>Dellinger</td><td>Julia Dellinger</td></tr>",
                            "<tr><td>187</td><td>Anthony</td><td>Cabrio</td><td>Anthony Cabrio</td></tr>",
                            "<tr><td>188</td><td>Kelly</td><td>Chung</td><td>Kelly Chung</td></tr>",
                            "<tr><td>189</td><td>Jennifer</td><td>Dilly</td><td>Jennifer Dilly</td></tr>",
                            "<tr><td>190</td><td>Timothy</td><td>Gates</td><td>Timothy Gates</td></tr>",
                            "<tr><td>191</td><td>Chuck</td><td>Perkins</td><td>Chuck Perkins</td></tr>",
                            "<tr><td>192</td><td>Sarah</td><td>Bell</td><td>Sarah Bell</td></tr>",
                            "<tr><td>193</td><td>Britney</td><td>Everett</td><td>Britney Everett</td></tr>",
                            "<tr><td>194</td><td>Samuel</td><td>McCain</td><td>Samuel McCain</td></tr>",
                            "<tr><td>195</td><td>Catrina</td><td>Jones</td><td>Catrina Jones</td></tr>",
                            "<tr><td>196</td><td>Tabitha</td><td>Walsh</td><td>Tabitha Walsh</td></tr>",
                            "<tr><td>197</td><td>Milford</td><td>Feeney</td><td>Milford Feeney</td></tr>",
                            "<tr><td>198</td><td>Alfred</td><td>Tate</td><td>Alfred Tate</td></tr>",
                            "<tr><td>199</td><td>Douglas</td><td>Grant</td><td>Douglas Grant</td></tr>",
                            "<tr><td>200</td><td>Jennifer</td><td>Whalen</td><td>Jennifer Whalen</td></tr>",
                            "<tr><td>201</td><td>Michael</td><td>Hartstein</td><td>Michael Hartstein</td></tr>",
                            "<tr><td>202</td><td>Patrick</td><td>Bacon</td><td>Patrick Bacon</td></tr>",
                            "<tr><td>203</td><td>Susan</td><td>Jacobs</td><td>Susan Jacobs</td></tr>",
                            "<tr><td>204</td><td>Richard</td><td>Baer</td><td>Richard Baer</td></tr>",
                            "<tr><td>205</td><td>Shelley</td><td>Higgins</td><td>Shelley Higgins</td></tr>",
                            "<tr><td>206</td><td>William</td><td>Gietz</td><td>William Gietz</td></tr>",
                            "</table>"
                        ]
                    }
                }
            ],
            "execution_count": 2
        },
        {
            "cell_type": "markdown",
            "source": [
                "### **Second Challenge**\n",
                "\n",
                "Challenge: Concatenate the first name, middle name, and last name of each employee. Include a single space between each of the names. Name the new expression employee\\_name. Include: \n",
                "\n",
                "\\- employee\\_id \n",
                "\n",
                "\\- first\\_name \n",
                "\n",
                "\\- last\\_name \n",
                "\n",
                "\\- employee\\_name"
            ],
            "metadata": {
                "azdata_cell_guid": "163841f7-fa79-4c51-b96b-555d6f65e5ca"
            },
            "attachments": {}
        },
        {
            "cell_type": "code",
            "source": [
                "SELECT employee_id, first_name, last_name, first_name + ISNULL(' ' + middle_name, '') + ' ' + last_name AS employee_name\n",
                "FROM hcm.employees;"
            ],
            "metadata": {
                "azdata_cell_guid": "b0bd017a-22ab-4121-9fe7-23ffb264c395",
                "language": "sql"
            },
            "outputs": [
                {
                    "output_type": "display_data",
                    "data": {
                        "text/html": "(107 rows affected)"
                    },
                    "metadata": {}
                },
                {
                    "output_type": "display_data",
                    "data": {
                        "text/html": "Total execution time: 00:00:00.016"
                    },
                    "metadata": {}
                },
                {
                    "output_type": "execute_result",
                    "metadata": {},
                    "execution_count": 4,
                    "data": {
                        "application/vnd.dataresource+json": {
                            "schema": {
                                "fields": [
                                    {
                                        "name": "employee_id"
                                    },
                                    {
                                        "name": "first_name"
                                    },
                                    {
                                        "name": "last_name"
                                    },
                                    {
                                        "name": "employee_name"
                                    }
                                ]
                            },
                            "data": [
                                {
                                    "0": "100",
                                    "1": "Jack",
                                    "2": "Bernard",
                                    "3": "Jack John Bernard"
                                },
                                {
                                    "0": "101",
                                    "1": "Don",
                                    "2": "Reilly",
                                    "3": "Don Fred Reilly"
                                },
                                {
                                    "0": "102",
                                    "1": "Judy",
                                    "2": "Lawson",
                                    "3": "Judy Georgia Lawson"
                                },
                                {
                                    "0": "103",
                                    "1": "Yani",
                                    "2": "Wenzlick",
                                    "3": "Yani Michelle Wenzlick"
                                },
                                {
                                    "0": "104",
                                    "1": "Rachel",
                                    "2": "Mortensen",
                                    "3": "Rachel Alison Mortensen"
                                },
                                {
                                    "0": "105",
                                    "1": "Paul",
                                    "2": "Cameron",
                                    "3": "Paul James Cameron"
                                },
                                {
                                    "0": "106",
                                    "1": "Russell",
                                    "2": "King",
                                    "3": "Russell John King"
                                },
                                {
                                    "0": "107",
                                    "1": "Maria",
                                    "2": "Cameron",
                                    "3": "Maria April Cameron"
                                },
                                {
                                    "0": "108",
                                    "1": "Patricia",
                                    "2": "Doyle",
                                    "3": "Patricia Dana Doyle"
                                },
                                {
                                    "0": "109",
                                    "1": "Daniel",
                                    "2": "Hopkins",
                                    "3": "Daniel Alexander Hopkins"
                                },
                                {
                                    "0": "110",
                                    "1": "John",
                                    "2": "Chen",
                                    "3": "John Chen"
                                },
                                {
                                    "0": "111",
                                    "1": "Llyod",
                                    "2": "Henderson",
                                    "3": "Llyod Eric Henderson"
                                },
                                {
                                    "0": "112",
                                    "1": "Lena",
                                    "2": "Chadwick",
                                    "3": "Lena Michelle Chadwick"
                                },
                                {
                                    "0": "113",
                                    "1": "Richard",
                                    "2": "Stewart",
                                    "3": "Richard Mark Stewart"
                                },
                                {
                                    "0": "114",
                                    "1": "Diana",
                                    "2": "Colman",
                                    "3": "Diana Mary Colman"
                                },
                                {
                                    "0": "115",
                                    "1": "Alexander",
                                    "2": "Khoo",
                                    "3": "Alexander Khoo"
                                },
                                {
                                    "0": "116",
                                    "1": "Shelli",
                                    "2": "Baida",
                                    "3": "Shelli Baida"
                                },
                                {
                                    "0": "117",
                                    "1": "Peter",
                                    "2": "Owen",
                                    "3": "Peter Owen"
                                },
                                {
                                    "0": "118",
                                    "1": "Peter",
                                    "2": "Owen",
                                    "3": "Peter Richard Owen"
                                },
                                {
                                    "0": "119",
                                    "1": "Karen",
                                    "2": "Colmenares",
                                    "3": "Karen Rhonda Colmenares"
                                },
                                {
                                    "0": "120",
                                    "1": "Matthew",
                                    "2": "Wilson",
                                    "3": "Matthew Anthony Wilson"
                                },
                                {
                                    "0": "121",
                                    "1": "Jack",
                                    "2": "Hale",
                                    "3": "Jack Earl Hale"
                                },
                                {
                                    "0": "122",
                                    "1": "Priya",
                                    "2": "Singh",
                                    "3": "Priya Singh"
                                },
                                {
                                    "0": "123",
                                    "1": "Shanta",
                                    "2": "Vollman",
                                    "3": "Shanta Vollman"
                                },
                                {
                                    "0": "124",
                                    "1": "Kevin",
                                    "2": "Mourgos",
                                    "3": "Kevin Mourgos"
                                },
                                {
                                    "0": "125",
                                    "1": "Julia",
                                    "2": "Nayer",
                                    "3": "Julia Aleisha Nayer"
                                },
                                {
                                    "0": "126",
                                    "1": "Irene",
                                    "2": "Mikkilineni",
                                    "3": "Irene Mikkilineni"
                                },
                                {
                                    "0": "127",
                                    "1": "James",
                                    "2": "Landry",
                                    "3": "James Landry"
                                },
                                {
                                    "0": "128",
                                    "1": "Steven",
                                    "2": "Markle",
                                    "3": "Steven Andrew Markle"
                                },
                                {
                                    "0": "129",
                                    "1": "Laura",
                                    "2": "Bissot",
                                    "3": "Laura Tanya Bissot"
                                },
                                {
                                    "0": "130",
                                    "1": "Mark",
                                    "2": "Atkinson",
                                    "3": "Mark Jeffrey Atkinson"
                                },
                                {
                                    "0": "131",
                                    "1": "James",
                                    "2": "Marlow",
                                    "3": "James Ian Marlow"
                                },
                                {
                                    "0": "132",
                                    "1": "Gavin",
                                    "2": "Olson",
                                    "3": "Gavin Francis Olson"
                                },
                                {
                                    "0": "133",
                                    "1": "Jason",
                                    "2": "Mallin",
                                    "3": "Jason Paul Mallin"
                                },
                                {
                                    "0": "134",
                                    "1": "Michael",
                                    "2": "Rogers",
                                    "3": "Michael Robert Rogers"
                                },
                                {
                                    "0": "135",
                                    "1": "Mitch",
                                    "2": "Holt",
                                    "3": "Mitch Matthew Holt"
                                },
                                {
                                    "0": "136",
                                    "1": "Hazel",
                                    "2": "Philtanker",
                                    "3": "Hazel Danielle Philtanker"
                                },
                                {
                                    "0": "137",
                                    "1": "Renske",
                                    "2": "Ladwig",
                                    "3": "Renske Ladwig"
                                },
                                {
                                    "0": "138",
                                    "1": "Stephen",
                                    "2": "Stiles",
                                    "3": "Stephen Curtis Stiles"
                                },
                                {
                                    "0": "139",
                                    "1": "Tony",
                                    "2": "Rogers",
                                    "3": "Tony Sean Rogers"
                                },
                                {
                                    "0": "140",
                                    "1": "Mayank",
                                    "2": "Patel",
                                    "3": "Mayank Patel"
                                },
                                {
                                    "0": "141",
                                    "1": "Trenna",
                                    "2": "Rajs",
                                    "3": "Trenna Jasmine Rajs"
                                },
                                {
                                    "0": "142",
                                    "1": "Rick",
                                    "2": "Davies",
                                    "3": "Rick David Davies"
                                },
                                {
                                    "0": "143",
                                    "1": "Randall",
                                    "2": "Matos",
                                    "3": "Randall Patrick Matos"
                                },
                                {
                                    "0": "144",
                                    "1": "Peter",
                                    "2": "Vargas",
                                    "3": "Peter Andrew Vargas"
                                },
                                {
                                    "0": "145",
                                    "1": "Harold",
                                    "2": "Russell",
                                    "3": "Harold John Russell"
                                },
                                {
                                    "0": "146",
                                    "1": "Karen",
                                    "2": "Partners",
                                    "3": "Karen Courtney Partners"
                                },
                                {
                                    "0": "147",
                                    "1": "Alberto",
                                    "2": "Errazuriz",
                                    "3": "Alberto Jesus Errazuriz"
                                },
                                {
                                    "0": "148",
                                    "1": "Gerald",
                                    "2": "Cambrault",
                                    "3": "Gerald Cambrault"
                                },
                                {
                                    "0": "149",
                                    "1": "Michael",
                                    "2": "Rogers",
                                    "3": "Michael Rogers"
                                },
                                {
                                    "0": "150",
                                    "1": "Peter",
                                    "2": "Tucker",
                                    "3": "Peter Tucker"
                                },
                                {
                                    "0": "151",
                                    "1": "David",
                                    "2": "Bernstein",
                                    "3": "David Bernstein"
                                },
                                {
                                    "0": "152",
                                    "1": "Peter",
                                    "2": "Hall",
                                    "3": "Peter Hall"
                                },
                                {
                                    "0": "153",
                                    "1": "Christopher",
                                    "2": "Olsen",
                                    "3": "Christopher Olsen"
                                },
                                {
                                    "0": "154",
                                    "1": "Raewyn",
                                    "2": "Cambrault",
                                    "3": "Raewyn Phoebe Cambrault"
                                },
                                {
                                    "0": "155",
                                    "1": "Oliver",
                                    "2": "Tuvault",
                                    "3": "Oliver Tuvault"
                                },
                                {
                                    "0": "156",
                                    "1": "Janette",
                                    "2": "King",
                                    "3": "Janette Helen King"
                                },
                                {
                                    "0": "157",
                                    "1": "Patrick",
                                    "2": "Sully",
                                    "3": "Patrick Richard Sully"
                                },
                                {
                                    "0": "158",
                                    "1": "Allan",
                                    "2": "McEwen",
                                    "3": "Allan Arthur McEwen"
                                },
                                {
                                    "0": "159",
                                    "1": "Lindsey",
                                    "2": "Smith",
                                    "3": "Lindsey Ben Smith"
                                },
                                {
                                    "0": "160",
                                    "1": "Louise",
                                    "2": "Doran",
                                    "3": "Louise Christina Doran"
                                },
                                {
                                    "0": "161",
                                    "1": "Sarath",
                                    "2": "Sewall",
                                    "3": "Sarath Melissa Sewall"
                                },
                                {
                                    "0": "162",
                                    "1": "Clara",
                                    "2": "Vishney",
                                    "3": "Clara Vishney"
                                },
                                {
                                    "0": "163",
                                    "1": "Danielle",
                                    "2": "Greene",
                                    "3": "Danielle Marie Greene"
                                },
                                {
                                    "0": "164",
                                    "1": "Tamara",
                                    "2": "Marvins",
                                    "3": "Tamara Madeleine Marvins"
                                },
                                {
                                    "0": "165",
                                    "1": "David",
                                    "2": "Lee",
                                    "3": "David Craig Lee"
                                },
                                {
                                    "0": "166",
                                    "1": "Sundar",
                                    "2": "Ande",
                                    "3": "Sundar Ande"
                                },
                                {
                                    "0": "167",
                                    "1": "Amit",
                                    "2": "Banda",
                                    "3": "Amit Tom Banda"
                                },
                                {
                                    "0": "168",
                                    "1": "Danny",
                                    "2": "Ozer",
                                    "3": "Danny Ozer"
                                },
                                {
                                    "0": "169",
                                    "1": "Alexander",
                                    "2": "Bloom",
                                    "3": "Alexander Joseph Bloom"
                                },
                                {
                                    "0": "170",
                                    "1": "William",
                                    "2": "Fox",
                                    "3": "William Nigel Fox"
                                },
                                {
                                    "0": "171",
                                    "1": "Ashley",
                                    "2": "Smith",
                                    "3": "Ashley Freya Smith"
                                },
                                {
                                    "0": "172",
                                    "1": "Edward",
                                    "2": "Bates",
                                    "3": "Edward Neil Bates"
                                },
                                {
                                    "0": "173",
                                    "1": "Clark",
                                    "2": "Solomon",
                                    "3": "Clark Nigel Solomon"
                                },
                                {
                                    "0": "174",
                                    "1": "Annemarie",
                                    "2": "Hoffman",
                                    "3": "Annemarie Olivia Hoffman"
                                },
                                {
                                    "0": "175",
                                    "1": "Hiroko",
                                    "2": "Hutton",
                                    "3": "Hiroko Hutton"
                                },
                                {
                                    "0": "176",
                                    "1": "Aron",
                                    "2": "Taylor",
                                    "3": "Aron Taylor"
                                },
                                {
                                    "0": "177",
                                    "1": "Theron",
                                    "2": "Livingston",
                                    "3": "Theron Livingston"
                                },
                                {
                                    "0": "178",
                                    "1": "Olivia",
                                    "2": "Grant",
                                    "3": "Olivia Chantelle Grant"
                                },
                                {
                                    "0": "179",
                                    "1": "Richie",
                                    "2": "Johnson",
                                    "3": "Richie Hugh Johnson"
                                },
                                {
                                    "0": "180",
                                    "1": "Horacio",
                                    "2": "Taylor",
                                    "3": "Horacio Otis Taylor"
                                },
                                {
                                    "0": "181",
                                    "1": "Laura",
                                    "2": "Hobbs",
                                    "3": "Laura Caitlyn Hobbs"
                                },
                                {
                                    "0": "182",
                                    "1": "Martha",
                                    "2": "Sullivan",
                                    "3": "Martha Sullivan"
                                },
                                {
                                    "0": "183",
                                    "1": "Girard",
                                    "2": "Geoni",
                                    "3": "Girard Rafael Geoni"
                                },
                                {
                                    "0": "184",
                                    "1": "Nandita",
                                    "2": "Sarchand",
                                    "3": "Nandita Sarchand"
                                },
                                {
                                    "0": "185",
                                    "1": "Alexis",
                                    "2": "Bull",
                                    "3": "Alexis Bull"
                                },
                                {
                                    "0": "186",
                                    "1": "Julia",
                                    "2": "Dellinger",
                                    "3": "Julia Veronica Dellinger"
                                },
                                {
                                    "0": "187",
                                    "1": "Anthony",
                                    "2": "Cabrio",
                                    "3": "Anthony Alec Cabrio"
                                },
                                {
                                    "0": "188",
                                    "1": "Kelly",
                                    "2": "Chung",
                                    "3": "Kelly Natalie Chung"
                                },
                                {
                                    "0": "189",
                                    "1": "Jennifer",
                                    "2": "Dilly",
                                    "3": "Jennifer Hazel Dilly"
                                },
                                {
                                    "0": "190",
                                    "1": "Timothy",
                                    "2": "Gates",
                                    "3": "Timothy Mitchell Gates"
                                },
                                {
                                    "0": "191",
                                    "1": "Chuck",
                                    "2": "Perkins",
                                    "3": "Chuck Perkins"
                                },
                                {
                                    "0": "192",
                                    "1": "Sarah",
                                    "2": "Bell",
                                    "3": "Sarah Maisie Bell"
                                },
                                {
                                    "0": "193",
                                    "1": "Britney",
                                    "2": "Everett",
                                    "3": "Britney Josie Everett"
                                },
                                {
                                    "0": "194",
                                    "1": "Samuel",
                                    "2": "McCain",
                                    "3": "Samuel Christopher McCain"
                                },
                                {
                                    "0": "195",
                                    "1": "Catrina",
                                    "2": "Jones",
                                    "3": "Catrina Hollie Jones"
                                },
                                {
                                    "0": "196",
                                    "1": "Tabitha",
                                    "2": "Walsh",
                                    "3": "Tabitha Meghan Walsh"
                                },
                                {
                                    "0": "197",
                                    "1": "Milford",
                                    "2": "Feeney",
                                    "3": "Milford Feeney"
                                },
                                {
                                    "0": "198",
                                    "1": "Alfred",
                                    "2": "Tate",
                                    "3": "Alfred Jack Tate"
                                },
                                {
                                    "0": "199",
                                    "1": "Douglas",
                                    "2": "Grant",
                                    "3": "Douglas Robert Grant"
                                },
                                {
                                    "0": "200",
                                    "1": "Jennifer",
                                    "2": "Whalen",
                                    "3": "Jennifer Patricia Whalen"
                                },
                                {
                                    "0": "201",
                                    "1": "Michael",
                                    "2": "Hartstein",
                                    "3": "Michael Timothy Hartstein"
                                },
                                {
                                    "0": "202",
                                    "1": "Patrick",
                                    "2": "Bacon",
                                    "3": "Patrick Ronan Bacon"
                                },
                                {
                                    "0": "203",
                                    "1": "Susan",
                                    "2": "Jacobs",
                                    "3": "Susan Jane Jacobs"
                                },
                                {
                                    "0": "204",
                                    "1": "Richard",
                                    "2": "Baer",
                                    "3": "Richard Michael Baer"
                                },
                                {
                                    "0": "205",
                                    "1": "Shelley",
                                    "2": "Higgins",
                                    "3": "Shelley Higgins"
                                },
                                {
                                    "0": "206",
                                    "1": "William",
                                    "2": "Gietz",
                                    "3": "William Abe Gietz"
                                }
                            ]
                        },
                        "text/html": [
                            "<table>",
                            "<tr><th>employee_id</th><th>first_name</th><th>last_name</th><th>employee_name</th></tr>",
                            "<tr><td>100</td><td>Jack</td><td>Bernard</td><td>Jack John Bernard</td></tr>",
                            "<tr><td>101</td><td>Don</td><td>Reilly</td><td>Don Fred Reilly</td></tr>",
                            "<tr><td>102</td><td>Judy</td><td>Lawson</td><td>Judy Georgia Lawson</td></tr>",
                            "<tr><td>103</td><td>Yani</td><td>Wenzlick</td><td>Yani Michelle Wenzlick</td></tr>",
                            "<tr><td>104</td><td>Rachel</td><td>Mortensen</td><td>Rachel Alison Mortensen</td></tr>",
                            "<tr><td>105</td><td>Paul</td><td>Cameron</td><td>Paul James Cameron</td></tr>",
                            "<tr><td>106</td><td>Russell</td><td>King</td><td>Russell John King</td></tr>",
                            "<tr><td>107</td><td>Maria</td><td>Cameron</td><td>Maria April Cameron</td></tr>",
                            "<tr><td>108</td><td>Patricia</td><td>Doyle</td><td>Patricia Dana Doyle</td></tr>",
                            "<tr><td>109</td><td>Daniel</td><td>Hopkins</td><td>Daniel Alexander Hopkins</td></tr>",
                            "<tr><td>110</td><td>John</td><td>Chen</td><td>John Chen</td></tr>",
                            "<tr><td>111</td><td>Llyod</td><td>Henderson</td><td>Llyod Eric Henderson</td></tr>",
                            "<tr><td>112</td><td>Lena</td><td>Chadwick</td><td>Lena Michelle Chadwick</td></tr>",
                            "<tr><td>113</td><td>Richard</td><td>Stewart</td><td>Richard Mark Stewart</td></tr>",
                            "<tr><td>114</td><td>Diana</td><td>Colman</td><td>Diana Mary Colman</td></tr>",
                            "<tr><td>115</td><td>Alexander</td><td>Khoo</td><td>Alexander Khoo</td></tr>",
                            "<tr><td>116</td><td>Shelli</td><td>Baida</td><td>Shelli Baida</td></tr>",
                            "<tr><td>117</td><td>Peter</td><td>Owen</td><td>Peter Owen</td></tr>",
                            "<tr><td>118</td><td>Peter</td><td>Owen</td><td>Peter Richard Owen</td></tr>",
                            "<tr><td>119</td><td>Karen</td><td>Colmenares</td><td>Karen Rhonda Colmenares</td></tr>",
                            "<tr><td>120</td><td>Matthew</td><td>Wilson</td><td>Matthew Anthony Wilson</td></tr>",
                            "<tr><td>121</td><td>Jack</td><td>Hale</td><td>Jack Earl Hale</td></tr>",
                            "<tr><td>122</td><td>Priya</td><td>Singh</td><td>Priya Singh</td></tr>",
                            "<tr><td>123</td><td>Shanta</td><td>Vollman</td><td>Shanta Vollman</td></tr>",
                            "<tr><td>124</td><td>Kevin</td><td>Mourgos</td><td>Kevin Mourgos</td></tr>",
                            "<tr><td>125</td><td>Julia</td><td>Nayer</td><td>Julia Aleisha Nayer</td></tr>",
                            "<tr><td>126</td><td>Irene</td><td>Mikkilineni</td><td>Irene Mikkilineni</td></tr>",
                            "<tr><td>127</td><td>James</td><td>Landry</td><td>James Landry</td></tr>",
                            "<tr><td>128</td><td>Steven</td><td>Markle</td><td>Steven Andrew Markle</td></tr>",
                            "<tr><td>129</td><td>Laura</td><td>Bissot</td><td>Laura Tanya Bissot</td></tr>",
                            "<tr><td>130</td><td>Mark</td><td>Atkinson</td><td>Mark Jeffrey Atkinson</td></tr>",
                            "<tr><td>131</td><td>James</td><td>Marlow</td><td>James Ian Marlow</td></tr>",
                            "<tr><td>132</td><td>Gavin</td><td>Olson</td><td>Gavin Francis Olson</td></tr>",
                            "<tr><td>133</td><td>Jason</td><td>Mallin</td><td>Jason Paul Mallin</td></tr>",
                            "<tr><td>134</td><td>Michael</td><td>Rogers</td><td>Michael Robert Rogers</td></tr>",
                            "<tr><td>135</td><td>Mitch</td><td>Holt</td><td>Mitch Matthew Holt</td></tr>",
                            "<tr><td>136</td><td>Hazel</td><td>Philtanker</td><td>Hazel Danielle Philtanker</td></tr>",
                            "<tr><td>137</td><td>Renske</td><td>Ladwig</td><td>Renske Ladwig</td></tr>",
                            "<tr><td>138</td><td>Stephen</td><td>Stiles</td><td>Stephen Curtis Stiles</td></tr>",
                            "<tr><td>139</td><td>Tony</td><td>Rogers</td><td>Tony Sean Rogers</td></tr>",
                            "<tr><td>140</td><td>Mayank</td><td>Patel</td><td>Mayank Patel</td></tr>",
                            "<tr><td>141</td><td>Trenna</td><td>Rajs</td><td>Trenna Jasmine Rajs</td></tr>",
                            "<tr><td>142</td><td>Rick</td><td>Davies</td><td>Rick David Davies</td></tr>",
                            "<tr><td>143</td><td>Randall</td><td>Matos</td><td>Randall Patrick Matos</td></tr>",
                            "<tr><td>144</td><td>Peter</td><td>Vargas</td><td>Peter Andrew Vargas</td></tr>",
                            "<tr><td>145</td><td>Harold</td><td>Russell</td><td>Harold John Russell</td></tr>",
                            "<tr><td>146</td><td>Karen</td><td>Partners</td><td>Karen Courtney Partners</td></tr>",
                            "<tr><td>147</td><td>Alberto</td><td>Errazuriz</td><td>Alberto Jesus Errazuriz</td></tr>",
                            "<tr><td>148</td><td>Gerald</td><td>Cambrault</td><td>Gerald Cambrault</td></tr>",
                            "<tr><td>149</td><td>Michael</td><td>Rogers</td><td>Michael Rogers</td></tr>",
                            "<tr><td>150</td><td>Peter</td><td>Tucker</td><td>Peter Tucker</td></tr>",
                            "<tr><td>151</td><td>David</td><td>Bernstein</td><td>David Bernstein</td></tr>",
                            "<tr><td>152</td><td>Peter</td><td>Hall</td><td>Peter Hall</td></tr>",
                            "<tr><td>153</td><td>Christopher</td><td>Olsen</td><td>Christopher Olsen</td></tr>",
                            "<tr><td>154</td><td>Raewyn</td><td>Cambrault</td><td>Raewyn Phoebe Cambrault</td></tr>",
                            "<tr><td>155</td><td>Oliver</td><td>Tuvault</td><td>Oliver Tuvault</td></tr>",
                            "<tr><td>156</td><td>Janette</td><td>King</td><td>Janette Helen King</td></tr>",
                            "<tr><td>157</td><td>Patrick</td><td>Sully</td><td>Patrick Richard Sully</td></tr>",
                            "<tr><td>158</td><td>Allan</td><td>McEwen</td><td>Allan Arthur McEwen</td></tr>",
                            "<tr><td>159</td><td>Lindsey</td><td>Smith</td><td>Lindsey Ben Smith</td></tr>",
                            "<tr><td>160</td><td>Louise</td><td>Doran</td><td>Louise Christina Doran</td></tr>",
                            "<tr><td>161</td><td>Sarath</td><td>Sewall</td><td>Sarath Melissa Sewall</td></tr>",
                            "<tr><td>162</td><td>Clara</td><td>Vishney</td><td>Clara Vishney</td></tr>",
                            "<tr><td>163</td><td>Danielle</td><td>Greene</td><td>Danielle Marie Greene</td></tr>",
                            "<tr><td>164</td><td>Tamara</td><td>Marvins</td><td>Tamara Madeleine Marvins</td></tr>",
                            "<tr><td>165</td><td>David</td><td>Lee</td><td>David Craig Lee</td></tr>",
                            "<tr><td>166</td><td>Sundar</td><td>Ande</td><td>Sundar Ande</td></tr>",
                            "<tr><td>167</td><td>Amit</td><td>Banda</td><td>Amit Tom Banda</td></tr>",
                            "<tr><td>168</td><td>Danny</td><td>Ozer</td><td>Danny Ozer</td></tr>",
                            "<tr><td>169</td><td>Alexander</td><td>Bloom</td><td>Alexander Joseph Bloom</td></tr>",
                            "<tr><td>170</td><td>William</td><td>Fox</td><td>William Nigel Fox</td></tr>",
                            "<tr><td>171</td><td>Ashley</td><td>Smith</td><td>Ashley Freya Smith</td></tr>",
                            "<tr><td>172</td><td>Edward</td><td>Bates</td><td>Edward Neil Bates</td></tr>",
                            "<tr><td>173</td><td>Clark</td><td>Solomon</td><td>Clark Nigel Solomon</td></tr>",
                            "<tr><td>174</td><td>Annemarie</td><td>Hoffman</td><td>Annemarie Olivia Hoffman</td></tr>",
                            "<tr><td>175</td><td>Hiroko</td><td>Hutton</td><td>Hiroko Hutton</td></tr>",
                            "<tr><td>176</td><td>Aron</td><td>Taylor</td><td>Aron Taylor</td></tr>",
                            "<tr><td>177</td><td>Theron</td><td>Livingston</td><td>Theron Livingston</td></tr>",
                            "<tr><td>178</td><td>Olivia</td><td>Grant</td><td>Olivia Chantelle Grant</td></tr>",
                            "<tr><td>179</td><td>Richie</td><td>Johnson</td><td>Richie Hugh Johnson</td></tr>",
                            "<tr><td>180</td><td>Horacio</td><td>Taylor</td><td>Horacio Otis Taylor</td></tr>",
                            "<tr><td>181</td><td>Laura</td><td>Hobbs</td><td>Laura Caitlyn Hobbs</td></tr>",
                            "<tr><td>182</td><td>Martha</td><td>Sullivan</td><td>Martha Sullivan</td></tr>",
                            "<tr><td>183</td><td>Girard</td><td>Geoni</td><td>Girard Rafael Geoni</td></tr>",
                            "<tr><td>184</td><td>Nandita</td><td>Sarchand</td><td>Nandita Sarchand</td></tr>",
                            "<tr><td>185</td><td>Alexis</td><td>Bull</td><td>Alexis Bull</td></tr>",
                            "<tr><td>186</td><td>Julia</td><td>Dellinger</td><td>Julia Veronica Dellinger</td></tr>",
                            "<tr><td>187</td><td>Anthony</td><td>Cabrio</td><td>Anthony Alec Cabrio</td></tr>",
                            "<tr><td>188</td><td>Kelly</td><td>Chung</td><td>Kelly Natalie Chung</td></tr>",
                            "<tr><td>189</td><td>Jennifer</td><td>Dilly</td><td>Jennifer Hazel Dilly</td></tr>",
                            "<tr><td>190</td><td>Timothy</td><td>Gates</td><td>Timothy Mitchell Gates</td></tr>",
                            "<tr><td>191</td><td>Chuck</td><td>Perkins</td><td>Chuck Perkins</td></tr>",
                            "<tr><td>192</td><td>Sarah</td><td>Bell</td><td>Sarah Maisie Bell</td></tr>",
                            "<tr><td>193</td><td>Britney</td><td>Everett</td><td>Britney Josie Everett</td></tr>",
                            "<tr><td>194</td><td>Samuel</td><td>McCain</td><td>Samuel Christopher McCain</td></tr>",
                            "<tr><td>195</td><td>Catrina</td><td>Jones</td><td>Catrina Hollie Jones</td></tr>",
                            "<tr><td>196</td><td>Tabitha</td><td>Walsh</td><td>Tabitha Meghan Walsh</td></tr>",
                            "<tr><td>197</td><td>Milford</td><td>Feeney</td><td>Milford Feeney</td></tr>",
                            "<tr><td>198</td><td>Alfred</td><td>Tate</td><td>Alfred Jack Tate</td></tr>",
                            "<tr><td>199</td><td>Douglas</td><td>Grant</td><td>Douglas Robert Grant</td></tr>",
                            "<tr><td>200</td><td>Jennifer</td><td>Whalen</td><td>Jennifer Patricia Whalen</td></tr>",
                            "<tr><td>201</td><td>Michael</td><td>Hartstein</td><td>Michael Timothy Hartstein</td></tr>",
                            "<tr><td>202</td><td>Patrick</td><td>Bacon</td><td>Patrick Ronan Bacon</td></tr>",
                            "<tr><td>203</td><td>Susan</td><td>Jacobs</td><td>Susan Jane Jacobs</td></tr>",
                            "<tr><td>204</td><td>Richard</td><td>Baer</td><td>Richard Michael Baer</td></tr>",
                            "<tr><td>205</td><td>Shelley</td><td>Higgins</td><td>Shelley Higgins</td></tr>",
                            "<tr><td>206</td><td>William</td><td>Gietz</td><td>William Abe Gietz</td></tr>",
                            "</table>"
                        ]
                    }
                }
            ],
            "execution_count": 4
        },
        {
            "cell_type": "markdown",
            "source": [
                "### **Third Challenge** \n",
                "\n",
                "Challenge: Extract the genus name from the scientific\\_name as given in the bird.antarctic\\_species table."
            ],
            "metadata": {
                "azdata_cell_guid": "547f9570-6510-4215-b4f8-50adaf4210c6"
            },
            "attachments": {}
        },
        {
            "cell_type": "code",
            "source": [
                "SELECT LEFT(scientific_name, CHARINDEX(' ', scientific_name) - 1) AS genus_name\n",
                "FROM  bird.antarctic_species;"
            ],
            "metadata": {
                "azdata_cell_guid": "a59a8648-593e-4952-8e28-24ecff6013d8",
                "language": "sql"
            },
            "outputs": [
                {
                    "output_type": "display_data",
                    "data": {
                        "text/html": "(5 rows affected)"
                    },
                    "metadata": {}
                },
                {
                    "output_type": "display_data",
                    "data": {
                        "text/html": "Total execution time: 00:00:00.008"
                    },
                    "metadata": {}
                },
                {
                    "output_type": "execute_result",
                    "metadata": {},
                    "execution_count": 7,
                    "data": {
                        "application/vnd.dataresource+json": {
                            "schema": {
                                "fields": [
                                    {
                                        "name": "genus_name"
                                    }
                                ]
                            },
                            "data": [
                                {
                                    "0": "Aptenodytes"
                                },
                                {
                                    "0": "Eudyptes"
                                },
                                {
                                    "0": "Phoebetria"
                                },
                                {
                                    "0": "Pygoscelis"
                                },
                                {
                                    "0": "Pygoscelis"
                                }
                            ]
                        },
                        "text/html": [
                            "<table>",
                            "<tr><th>genus_name</th></tr>",
                            "<tr><td>Aptenodytes</td></tr>",
                            "<tr><td>Eudyptes</td></tr>",
                            "<tr><td>Phoebetria</td></tr>",
                            "<tr><td>Pygoscelis</td></tr>",
                            "<tr><td>Pygoscelis</td></tr>",
                            "</table>"
                        ]
                    }
                }
            ],
            "execution_count": 7
        },
        {
            "cell_type": "markdown",
            "source": [
                "### **Fourth Challenge** \n",
                "\n",
                "Challenge: Extract the species name from the scientific\\_name as given in the bird.antarctic\\_species table."
            ],
            "metadata": {
                "language": "sql",
                "azdata_cell_guid": "e719314f-77bb-41d1-91cf-7d196877c697"
            },
            "attachments": {}
        },
        {
            "cell_type": "code",
            "source": [
                "SELECT SUBSTRING(scientific_name, CHARINDEX(' ', scientific_name) + 1, LEN(scientific_name)) AS species_name\n",
                "FROM bird.antarctic_species;"
            ],
            "metadata": {
                "language": "sql",
                "azdata_cell_guid": "76cf231c-a331-440b-9dde-4b8f847d70e8"
            },
            "outputs": [
                {
                    "output_type": "display_data",
                    "data": {
                        "text/html": "(5 rows affected)"
                    },
                    "metadata": {}
                },
                {
                    "output_type": "display_data",
                    "data": {
                        "text/html": "Total execution time: 00:00:00.011"
                    },
                    "metadata": {}
                },
                {
                    "output_type": "execute_result",
                    "metadata": {},
                    "execution_count": 8,
                    "data": {
                        "application/vnd.dataresource+json": {
                            "schema": {
                                "fields": [
                                    {
                                        "name": "species_name"
                                    }
                                ]
                            },
                            "data": [
                                {
                                    "0": "patagonicus"
                                },
                                {
                                    "0": "chrysolophus"
                                },
                                {
                                    "0": "fusca"
                                },
                                {
                                    "0": "adeliae"
                                },
                                {
                                    "0": "antarcticus"
                                }
                            ]
                        },
                        "text/html": [
                            "<table>",
                            "<tr><th>species_name</th></tr>",
                            "<tr><td>patagonicus</td></tr>",
                            "<tr><td>chrysolophus</td></tr>",
                            "<tr><td>fusca</td></tr>",
                            "<tr><td>adeliae</td></tr>",
                            "<tr><td>antarcticus</td></tr>",
                            "</table>"
                        ]
                    }
                }
            ],
            "execution_count": 8
        },
        {
            "cell_type": "markdown",
            "source": [
                "### **Fifth Challenge**\n",
                "\n",
                "Challenge: Return the age in years for all employees. Name this expression as employee\\_age. Include: \n",
                "\n",
                "\\- employee\\_id \n",
                "\n",
                "\\- first\\_name \n",
                "\n",
                "\\- last\\_name \n",
                "\n",
                "\\- birth\\_date \n",
                "\n",
                "\\- employee\\_age"
            ],
            "metadata": {
                "language": "sql",
                "azdata_cell_guid": "b7767c69-a0c7-41a0-afe5-2486dfad102a"
            },
            "attachments": {}
        },
        {
            "cell_type": "code",
            "source": [
                "SELECT employee_id, first_name, last_name, birth_date, DATEDIFF(year, birth_date, CURRENT_TIMESTAMP) AS employee_age \n",
                "FROM hcm.employees;"
            ],
            "metadata": {
                "language": "sql",
                "azdata_cell_guid": "ae1169cd-9440-4fea-85c0-043054f98d49"
            },
            "outputs": [
                {
                    "output_type": "display_data",
                    "data": {
                        "text/html": "(107 rows affected)"
                    },
                    "metadata": {}
                },
                {
                    "output_type": "display_data",
                    "data": {
                        "text/html": "Total execution time: 00:00:00.015"
                    },
                    "metadata": {}
                },
                {
                    "output_type": "execute_result",
                    "metadata": {},
                    "execution_count": 9,
                    "data": {
                        "application/vnd.dataresource+json": {
                            "schema": {
                                "fields": [
                                    {
                                        "name": "employee_id"
                                    },
                                    {
                                        "name": "first_name"
                                    },
                                    {
                                        "name": "last_name"
                                    },
                                    {
                                        "name": "birth_date"
                                    },
                                    {
                                        "name": "employee_age"
                                    }
                                ]
                            },
                            "data": [
                                {
                                    "0": "100",
                                    "1": "Jack",
                                    "2": "Bernard",
                                    "3": "1994-01-13",
                                    "4": "28"
                                },
                                {
                                    "0": "101",
                                    "1": "Don",
                                    "2": "Reilly",
                                    "3": "1966-12-27",
                                    "4": "56"
                                },
                                {
                                    "0": "102",
                                    "1": "Judy",
                                    "2": "Lawson",
                                    "3": "1960-11-12",
                                    "4": "62"
                                },
                                {
                                    "0": "103",
                                    "1": "Yani",
                                    "2": "Wenzlick",
                                    "3": "1967-09-22",
                                    "4": "55"
                                },
                                {
                                    "0": "104",
                                    "1": "Rachel",
                                    "2": "Mortensen",
                                    "3": "1959-07-27",
                                    "4": "63"
                                },
                                {
                                    "0": "105",
                                    "1": "Paul",
                                    "2": "Cameron",
                                    "3": "1985-12-20",
                                    "4": "37"
                                },
                                {
                                    "0": "106",
                                    "1": "Russell",
                                    "2": "King",
                                    "3": "1989-04-18",
                                    "4": "33"
                                },
                                {
                                    "0": "107",
                                    "1": "Maria",
                                    "2": "Cameron",
                                    "3": "1973-03-11",
                                    "4": "49"
                                },
                                {
                                    "0": "108",
                                    "1": "Patricia",
                                    "2": "Doyle",
                                    "3": "1971-08-14",
                                    "4": "51"
                                },
                                {
                                    "0": "109",
                                    "1": "Daniel",
                                    "2": "Hopkins",
                                    "3": "1995-04-15",
                                    "4": "27"
                                },
                                {
                                    "0": "110",
                                    "1": "John",
                                    "2": "Chen",
                                    "3": "1961-01-24",
                                    "4": "61"
                                },
                                {
                                    "0": "111",
                                    "1": "Llyod",
                                    "2": "Henderson",
                                    "3": "1992-10-02",
                                    "4": "30"
                                },
                                {
                                    "0": "112",
                                    "1": "Lena",
                                    "2": "Chadwick",
                                    "3": "1957-02-03",
                                    "4": "65"
                                },
                                {
                                    "0": "113",
                                    "1": "Richard",
                                    "2": "Stewart",
                                    "3": "1967-10-20",
                                    "4": "55"
                                },
                                {
                                    "0": "114",
                                    "1": "Diana",
                                    "2": "Colman",
                                    "3": "1986-02-13",
                                    "4": "36"
                                },
                                {
                                    "0": "115",
                                    "1": "Alexander",
                                    "2": "Khoo",
                                    "3": "1959-10-17",
                                    "4": "63"
                                },
                                {
                                    "0": "116",
                                    "1": "Shelli",
                                    "2": "Baida",
                                    "3": "1959-01-23",
                                    "4": "63"
                                },
                                {
                                    "0": "117",
                                    "1": "Peter",
                                    "2": "Owen",
                                    "3": "1988-10-22",
                                    "4": "34"
                                },
                                {
                                    "0": "118",
                                    "1": "Peter",
                                    "2": "Owen",
                                    "3": "1994-02-23",
                                    "4": "28"
                                },
                                {
                                    "0": "119",
                                    "1": "Karen",
                                    "2": "Colmenares",
                                    "3": "1987-03-06",
                                    "4": "35"
                                },
                                {
                                    "0": "120",
                                    "1": "Matthew",
                                    "2": "Wilson",
                                    "3": "1970-10-13",
                                    "4": "52"
                                },
                                {
                                    "0": "121",
                                    "1": "Jack",
                                    "2": "Hale",
                                    "3": "1966-09-13",
                                    "4": "56"
                                },
                                {
                                    "0": "122",
                                    "1": "Priya",
                                    "2": "Singh",
                                    "3": "1980-08-04",
                                    "4": "42"
                                },
                                {
                                    "0": "123",
                                    "1": "Shanta",
                                    "2": "Vollman",
                                    "3": "1984-07-06",
                                    "4": "38"
                                },
                                {
                                    "0": "124",
                                    "1": "Kevin",
                                    "2": "Mourgos",
                                    "3": "1970-09-03",
                                    "4": "52"
                                },
                                {
                                    "0": "125",
                                    "1": "Julia",
                                    "2": "Nayer",
                                    "3": "1972-09-16",
                                    "4": "50"
                                },
                                {
                                    "0": "126",
                                    "1": "Irene",
                                    "2": "Mikkilineni",
                                    "3": "1962-02-16",
                                    "4": "60"
                                },
                                {
                                    "0": "127",
                                    "1": "James",
                                    "2": "Landry",
                                    "3": "1972-04-13",
                                    "4": "50"
                                },
                                {
                                    "0": "128",
                                    "1": "Steven",
                                    "2": "Markle",
                                    "3": "1970-08-19",
                                    "4": "52"
                                },
                                {
                                    "0": "129",
                                    "1": "Laura",
                                    "2": "Bissot",
                                    "3": "1987-04-02",
                                    "4": "35"
                                },
                                {
                                    "0": "130",
                                    "1": "Mark",
                                    "2": "Atkinson",
                                    "3": "1979-02-04",
                                    "4": "43"
                                },
                                {
                                    "0": "131",
                                    "1": "James",
                                    "2": "Marlow",
                                    "3": "1984-06-21",
                                    "4": "38"
                                },
                                {
                                    "0": "132",
                                    "1": "Gavin",
                                    "2": "Olson",
                                    "3": "1973-02-16",
                                    "4": "49"
                                },
                                {
                                    "0": "133",
                                    "1": "Jason",
                                    "2": "Mallin",
                                    "3": "1985-12-22",
                                    "4": "37"
                                },
                                {
                                    "0": "134",
                                    "1": "Michael",
                                    "2": "Rogers",
                                    "3": "1969-08-25",
                                    "4": "53"
                                },
                                {
                                    "0": "135",
                                    "1": "Mitch",
                                    "2": "Holt",
                                    "3": "1992-05-10",
                                    "4": "30"
                                },
                                {
                                    "0": "136",
                                    "1": "Hazel",
                                    "2": "Philtanker",
                                    "3": "1994-10-17",
                                    "4": "28"
                                },
                                {
                                    "0": "137",
                                    "1": "Renske",
                                    "2": "Ladwig",
                                    "3": "1972-07-18",
                                    "4": "50"
                                },
                                {
                                    "0": "138",
                                    "1": "Stephen",
                                    "2": "Stiles",
                                    "3": "1982-11-13",
                                    "4": "40"
                                },
                                {
                                    "0": "139",
                                    "1": "Tony",
                                    "2": "Rogers",
                                    "3": "1976-02-21",
                                    "4": "46"
                                },
                                {
                                    "0": "140",
                                    "1": "Mayank",
                                    "2": "Patel",
                                    "3": "1983-06-16",
                                    "4": "39"
                                },
                                {
                                    "0": "141",
                                    "1": "Trenna",
                                    "2": "Rajs",
                                    "3": "1965-09-27",
                                    "4": "57"
                                },
                                {
                                    "0": "142",
                                    "1": "Rick",
                                    "2": "Davies",
                                    "3": "1977-04-13",
                                    "4": "45"
                                },
                                {
                                    "0": "143",
                                    "1": "Randall",
                                    "2": "Matos",
                                    "3": "1957-05-24",
                                    "4": "65"
                                },
                                {
                                    "0": "144",
                                    "1": "Peter",
                                    "2": "Vargas",
                                    "3": "1975-05-24",
                                    "4": "47"
                                },
                                {
                                    "0": "145",
                                    "1": "Harold",
                                    "2": "Russell",
                                    "3": "1969-01-06",
                                    "4": "53"
                                },
                                {
                                    "0": "146",
                                    "1": "Karen",
                                    "2": "Partners",
                                    "3": "1986-12-06",
                                    "4": "36"
                                },
                                {
                                    "0": "147",
                                    "1": "Alberto",
                                    "2": "Errazuriz",
                                    "3": "1973-08-17",
                                    "4": "49"
                                },
                                {
                                    "0": "148",
                                    "1": "Gerald",
                                    "2": "Cambrault",
                                    "3": "1973-06-27",
                                    "4": "49"
                                },
                                {
                                    "0": "149",
                                    "1": "Michael",
                                    "2": "Rogers",
                                    "3": "1970-10-19",
                                    "4": "52"
                                },
                                {
                                    "0": "150",
                                    "1": "Peter",
                                    "2": "Tucker",
                                    "3": "1989-04-28",
                                    "4": "33"
                                },
                                {
                                    "0": "151",
                                    "1": "David",
                                    "2": "Bernstein",
                                    "3": "1963-04-07",
                                    "4": "59"
                                },
                                {
                                    "0": "152",
                                    "1": "Peter",
                                    "2": "Hall",
                                    "3": "1994-05-11",
                                    "4": "28"
                                },
                                {
                                    "0": "153",
                                    "1": "Christopher",
                                    "2": "Olsen",
                                    "3": "1958-10-13",
                                    "4": "64"
                                },
                                {
                                    "0": "154",
                                    "1": "Raewyn",
                                    "2": "Cambrault",
                                    "3": "1985-10-25",
                                    "4": "37"
                                },
                                {
                                    "0": "155",
                                    "1": "Oliver",
                                    "2": "Tuvault",
                                    "3": "1983-10-02",
                                    "4": "39"
                                },
                                {
                                    "0": "156",
                                    "1": "Janette",
                                    "2": "King",
                                    "3": "1989-09-28",
                                    "4": "33"
                                },
                                {
                                    "0": "157",
                                    "1": "Patrick",
                                    "2": "Sully",
                                    "3": "1993-09-20",
                                    "4": "29"
                                },
                                {
                                    "0": "158",
                                    "1": "Allan",
                                    "2": "McEwen",
                                    "3": "1966-07-13",
                                    "4": "56"
                                },
                                {
                                    "0": "159",
                                    "1": "Lindsey",
                                    "2": "Smith",
                                    "3": "1971-06-12",
                                    "4": "51"
                                },
                                {
                                    "0": "160",
                                    "1": "Louise",
                                    "2": "Doran",
                                    "3": "1971-01-25",
                                    "4": "51"
                                },
                                {
                                    "0": "161",
                                    "1": "Sarath",
                                    "2": "Sewall",
                                    "3": "1958-08-27",
                                    "4": "64"
                                },
                                {
                                    "0": "162",
                                    "1": "Clara",
                                    "2": "Vishney",
                                    "3": "1978-12-23",
                                    "4": "44"
                                },
                                {
                                    "0": "163",
                                    "1": "Danielle",
                                    "2": "Greene",
                                    "3": "1990-05-16",
                                    "4": "32"
                                },
                                {
                                    "0": "164",
                                    "1": "Tamara",
                                    "2": "Marvins",
                                    "3": "1963-09-14",
                                    "4": "59"
                                },
                                {
                                    "0": "165",
                                    "1": "David",
                                    "2": "Lee",
                                    "3": "1987-07-03",
                                    "4": "35"
                                },
                                {
                                    "0": "166",
                                    "1": "Sundar",
                                    "2": "Ande",
                                    "3": "1995-06-12",
                                    "4": "27"
                                },
                                {
                                    "0": "167",
                                    "1": "Amit",
                                    "2": "Banda",
                                    "3": "1978-05-09",
                                    "4": "44"
                                },
                                {
                                    "0": "168",
                                    "1": "Danny",
                                    "2": "Ozer",
                                    "3": "1990-03-28",
                                    "4": "32"
                                },
                                {
                                    "0": "169",
                                    "1": "Alexander",
                                    "2": "Bloom",
                                    "3": "1964-09-23",
                                    "4": "58"
                                },
                                {
                                    "0": "170",
                                    "1": "William",
                                    "2": "Fox",
                                    "3": "1992-07-13",
                                    "4": "30"
                                },
                                {
                                    "0": "171",
                                    "1": "Ashley",
                                    "2": "Smith",
                                    "3": "1979-12-07",
                                    "4": "43"
                                },
                                {
                                    "0": "172",
                                    "1": "Edward",
                                    "2": "Bates",
                                    "3": "1968-02-04",
                                    "4": "54"
                                },
                                {
                                    "0": "173",
                                    "1": "Clark",
                                    "2": "Solomon",
                                    "3": "1965-02-07",
                                    "4": "57"
                                },
                                {
                                    "0": "174",
                                    "1": "Annemarie",
                                    "2": "Hoffman",
                                    "3": "1975-08-04",
                                    "4": "47"
                                },
                                {
                                    "0": "175",
                                    "1": "Hiroko",
                                    "2": "Hutton",
                                    "3": "1995-04-02",
                                    "4": "27"
                                },
                                {
                                    "0": "176",
                                    "1": "Aron",
                                    "2": "Taylor",
                                    "3": "1960-08-21",
                                    "4": "62"
                                },
                                {
                                    "0": "177",
                                    "1": "Theron",
                                    "2": "Livingston",
                                    "3": "1988-08-20",
                                    "4": "34"
                                },
                                {
                                    "0": "178",
                                    "1": "Olivia",
                                    "2": "Grant",
                                    "3": "1995-06-26",
                                    "4": "27"
                                },
                                {
                                    "0": "179",
                                    "1": "Richie",
                                    "2": "Johnson",
                                    "3": "1977-11-17",
                                    "4": "45"
                                },
                                {
                                    "0": "180",
                                    "1": "Horacio",
                                    "2": "Taylor",
                                    "3": "1971-11-06",
                                    "4": "51"
                                },
                                {
                                    "0": "181",
                                    "1": "Laura",
                                    "2": "Hobbs",
                                    "3": "1977-10-07",
                                    "4": "45"
                                },
                                {
                                    "0": "182",
                                    "1": "Martha",
                                    "2": "Sullivan",
                                    "3": "1960-08-04",
                                    "4": "62"
                                },
                                {
                                    "0": "183",
                                    "1": "Girard",
                                    "2": "Geoni",
                                    "3": "1965-08-02",
                                    "4": "57"
                                },
                                {
                                    "0": "184",
                                    "1": "Nandita",
                                    "2": "Sarchand",
                                    "3": "1975-12-13",
                                    "4": "47"
                                },
                                {
                                    "0": "185",
                                    "1": "Alexis",
                                    "2": "Bull",
                                    "3": "1963-03-26",
                                    "4": "59"
                                },
                                {
                                    "0": "186",
                                    "1": "Julia",
                                    "2": "Dellinger",
                                    "3": "1977-01-08",
                                    "4": "45"
                                },
                                {
                                    "0": "187",
                                    "1": "Anthony",
                                    "2": "Cabrio",
                                    "3": "1980-12-18",
                                    "4": "42"
                                },
                                {
                                    "0": "188",
                                    "1": "Kelly",
                                    "2": "Chung",
                                    "3": "1968-12-14",
                                    "4": "54"
                                },
                                {
                                    "0": "189",
                                    "1": "Jennifer",
                                    "2": "Dilly",
                                    "3": "1957-12-26",
                                    "4": "65"
                                },
                                {
                                    "0": "190",
                                    "1": "Timothy",
                                    "2": "Gates",
                                    "3": "1983-02-01",
                                    "4": "39"
                                },
                                {
                                    "0": "191",
                                    "1": "Chuck",
                                    "2": "Perkins",
                                    "3": "1994-03-01",
                                    "4": "28"
                                },
                                {
                                    "0": "192",
                                    "1": "Sarah",
                                    "2": "Bell",
                                    "3": "1969-04-05",
                                    "4": "53"
                                },
                                {
                                    "0": "193",
                                    "1": "Britney",
                                    "2": "Everett",
                                    "3": "1958-01-01",
                                    "4": "64"
                                },
                                {
                                    "0": "194",
                                    "1": "Samuel",
                                    "2": "McCain",
                                    "3": "1985-06-27",
                                    "4": "37"
                                },
                                {
                                    "0": "195",
                                    "1": "Catrina",
                                    "2": "Jones",
                                    "3": "1957-02-17",
                                    "4": "65"
                                },
                                {
                                    "0": "196",
                                    "1": "Tabitha",
                                    "2": "Walsh",
                                    "3": "1991-04-02",
                                    "4": "31"
                                },
                                {
                                    "0": "197",
                                    "1": "Milford",
                                    "2": "Feeney",
                                    "3": "1962-06-10",
                                    "4": "60"
                                },
                                {
                                    "0": "198",
                                    "1": "Alfred",
                                    "2": "Tate",
                                    "3": "1991-04-03",
                                    "4": "31"
                                },
                                {
                                    "0": "199",
                                    "1": "Douglas",
                                    "2": "Grant",
                                    "3": "1993-02-04",
                                    "4": "29"
                                },
                                {
                                    "0": "200",
                                    "1": "Jennifer",
                                    "2": "Whalen",
                                    "3": "1983-11-15",
                                    "4": "39"
                                },
                                {
                                    "0": "201",
                                    "1": "Michael",
                                    "2": "Hartstein",
                                    "3": "1965-07-11",
                                    "4": "57"
                                },
                                {
                                    "0": "202",
                                    "1": "Patrick",
                                    "2": "Bacon",
                                    "3": "1993-11-10",
                                    "4": "29"
                                },
                                {
                                    "0": "203",
                                    "1": "Susan",
                                    "2": "Jacobs",
                                    "3": "1985-07-11",
                                    "4": "37"
                                },
                                {
                                    "0": "204",
                                    "1": "Richard",
                                    "2": "Baer",
                                    "3": "1961-04-07",
                                    "4": "61"
                                },
                                {
                                    "0": "205",
                                    "1": "Shelley",
                                    "2": "Higgins",
                                    "3": "1975-04-04",
                                    "4": "47"
                                },
                                {
                                    "0": "206",
                                    "1": "William",
                                    "2": "Gietz",
                                    "3": "1962-10-24",
                                    "4": "60"
                                }
                            ]
                        },
                        "text/html": [
                            "<table>",
                            "<tr><th>employee_id</th><th>first_name</th><th>last_name</th><th>birth_date</th><th>employee_age</th></tr>",
                            "<tr><td>100</td><td>Jack</td><td>Bernard</td><td>1994-01-13</td><td>28</td></tr>",
                            "<tr><td>101</td><td>Don</td><td>Reilly</td><td>1966-12-27</td><td>56</td></tr>",
                            "<tr><td>102</td><td>Judy</td><td>Lawson</td><td>1960-11-12</td><td>62</td></tr>",
                            "<tr><td>103</td><td>Yani</td><td>Wenzlick</td><td>1967-09-22</td><td>55</td></tr>",
                            "<tr><td>104</td><td>Rachel</td><td>Mortensen</td><td>1959-07-27</td><td>63</td></tr>",
                            "<tr><td>105</td><td>Paul</td><td>Cameron</td><td>1985-12-20</td><td>37</td></tr>",
                            "<tr><td>106</td><td>Russell</td><td>King</td><td>1989-04-18</td><td>33</td></tr>",
                            "<tr><td>107</td><td>Maria</td><td>Cameron</td><td>1973-03-11</td><td>49</td></tr>",
                            "<tr><td>108</td><td>Patricia</td><td>Doyle</td><td>1971-08-14</td><td>51</td></tr>",
                            "<tr><td>109</td><td>Daniel</td><td>Hopkins</td><td>1995-04-15</td><td>27</td></tr>",
                            "<tr><td>110</td><td>John</td><td>Chen</td><td>1961-01-24</td><td>61</td></tr>",
                            "<tr><td>111</td><td>Llyod</td><td>Henderson</td><td>1992-10-02</td><td>30</td></tr>",
                            "<tr><td>112</td><td>Lena</td><td>Chadwick</td><td>1957-02-03</td><td>65</td></tr>",
                            "<tr><td>113</td><td>Richard</td><td>Stewart</td><td>1967-10-20</td><td>55</td></tr>",
                            "<tr><td>114</td><td>Diana</td><td>Colman</td><td>1986-02-13</td><td>36</td></tr>",
                            "<tr><td>115</td><td>Alexander</td><td>Khoo</td><td>1959-10-17</td><td>63</td></tr>",
                            "<tr><td>116</td><td>Shelli</td><td>Baida</td><td>1959-01-23</td><td>63</td></tr>",
                            "<tr><td>117</td><td>Peter</td><td>Owen</td><td>1988-10-22</td><td>34</td></tr>",
                            "<tr><td>118</td><td>Peter</td><td>Owen</td><td>1994-02-23</td><td>28</td></tr>",
                            "<tr><td>119</td><td>Karen</td><td>Colmenares</td><td>1987-03-06</td><td>35</td></tr>",
                            "<tr><td>120</td><td>Matthew</td><td>Wilson</td><td>1970-10-13</td><td>52</td></tr>",
                            "<tr><td>121</td><td>Jack</td><td>Hale</td><td>1966-09-13</td><td>56</td></tr>",
                            "<tr><td>122</td><td>Priya</td><td>Singh</td><td>1980-08-04</td><td>42</td></tr>",
                            "<tr><td>123</td><td>Shanta</td><td>Vollman</td><td>1984-07-06</td><td>38</td></tr>",
                            "<tr><td>124</td><td>Kevin</td><td>Mourgos</td><td>1970-09-03</td><td>52</td></tr>",
                            "<tr><td>125</td><td>Julia</td><td>Nayer</td><td>1972-09-16</td><td>50</td></tr>",
                            "<tr><td>126</td><td>Irene</td><td>Mikkilineni</td><td>1962-02-16</td><td>60</td></tr>",
                            "<tr><td>127</td><td>James</td><td>Landry</td><td>1972-04-13</td><td>50</td></tr>",
                            "<tr><td>128</td><td>Steven</td><td>Markle</td><td>1970-08-19</td><td>52</td></tr>",
                            "<tr><td>129</td><td>Laura</td><td>Bissot</td><td>1987-04-02</td><td>35</td></tr>",
                            "<tr><td>130</td><td>Mark</td><td>Atkinson</td><td>1979-02-04</td><td>43</td></tr>",
                            "<tr><td>131</td><td>James</td><td>Marlow</td><td>1984-06-21</td><td>38</td></tr>",
                            "<tr><td>132</td><td>Gavin</td><td>Olson</td><td>1973-02-16</td><td>49</td></tr>",
                            "<tr><td>133</td><td>Jason</td><td>Mallin</td><td>1985-12-22</td><td>37</td></tr>",
                            "<tr><td>134</td><td>Michael</td><td>Rogers</td><td>1969-08-25</td><td>53</td></tr>",
                            "<tr><td>135</td><td>Mitch</td><td>Holt</td><td>1992-05-10</td><td>30</td></tr>",
                            "<tr><td>136</td><td>Hazel</td><td>Philtanker</td><td>1994-10-17</td><td>28</td></tr>",
                            "<tr><td>137</td><td>Renske</td><td>Ladwig</td><td>1972-07-18</td><td>50</td></tr>",
                            "<tr><td>138</td><td>Stephen</td><td>Stiles</td><td>1982-11-13</td><td>40</td></tr>",
                            "<tr><td>139</td><td>Tony</td><td>Rogers</td><td>1976-02-21</td><td>46</td></tr>",
                            "<tr><td>140</td><td>Mayank</td><td>Patel</td><td>1983-06-16</td><td>39</td></tr>",
                            "<tr><td>141</td><td>Trenna</td><td>Rajs</td><td>1965-09-27</td><td>57</td></tr>",
                            "<tr><td>142</td><td>Rick</td><td>Davies</td><td>1977-04-13</td><td>45</td></tr>",
                            "<tr><td>143</td><td>Randall</td><td>Matos</td><td>1957-05-24</td><td>65</td></tr>",
                            "<tr><td>144</td><td>Peter</td><td>Vargas</td><td>1975-05-24</td><td>47</td></tr>",
                            "<tr><td>145</td><td>Harold</td><td>Russell</td><td>1969-01-06</td><td>53</td></tr>",
                            "<tr><td>146</td><td>Karen</td><td>Partners</td><td>1986-12-06</td><td>36</td></tr>",
                            "<tr><td>147</td><td>Alberto</td><td>Errazuriz</td><td>1973-08-17</td><td>49</td></tr>",
                            "<tr><td>148</td><td>Gerald</td><td>Cambrault</td><td>1973-06-27</td><td>49</td></tr>",
                            "<tr><td>149</td><td>Michael</td><td>Rogers</td><td>1970-10-19</td><td>52</td></tr>",
                            "<tr><td>150</td><td>Peter</td><td>Tucker</td><td>1989-04-28</td><td>33</td></tr>",
                            "<tr><td>151</td><td>David</td><td>Bernstein</td><td>1963-04-07</td><td>59</td></tr>",
                            "<tr><td>152</td><td>Peter</td><td>Hall</td><td>1994-05-11</td><td>28</td></tr>",
                            "<tr><td>153</td><td>Christopher</td><td>Olsen</td><td>1958-10-13</td><td>64</td></tr>",
                            "<tr><td>154</td><td>Raewyn</td><td>Cambrault</td><td>1985-10-25</td><td>37</td></tr>",
                            "<tr><td>155</td><td>Oliver</td><td>Tuvault</td><td>1983-10-02</td><td>39</td></tr>",
                            "<tr><td>156</td><td>Janette</td><td>King</td><td>1989-09-28</td><td>33</td></tr>",
                            "<tr><td>157</td><td>Patrick</td><td>Sully</td><td>1993-09-20</td><td>29</td></tr>",
                            "<tr><td>158</td><td>Allan</td><td>McEwen</td><td>1966-07-13</td><td>56</td></tr>",
                            "<tr><td>159</td><td>Lindsey</td><td>Smith</td><td>1971-06-12</td><td>51</td></tr>",
                            "<tr><td>160</td><td>Louise</td><td>Doran</td><td>1971-01-25</td><td>51</td></tr>",
                            "<tr><td>161</td><td>Sarath</td><td>Sewall</td><td>1958-08-27</td><td>64</td></tr>",
                            "<tr><td>162</td><td>Clara</td><td>Vishney</td><td>1978-12-23</td><td>44</td></tr>",
                            "<tr><td>163</td><td>Danielle</td><td>Greene</td><td>1990-05-16</td><td>32</td></tr>",
                            "<tr><td>164</td><td>Tamara</td><td>Marvins</td><td>1963-09-14</td><td>59</td></tr>",
                            "<tr><td>165</td><td>David</td><td>Lee</td><td>1987-07-03</td><td>35</td></tr>",
                            "<tr><td>166</td><td>Sundar</td><td>Ande</td><td>1995-06-12</td><td>27</td></tr>",
                            "<tr><td>167</td><td>Amit</td><td>Banda</td><td>1978-05-09</td><td>44</td></tr>",
                            "<tr><td>168</td><td>Danny</td><td>Ozer</td><td>1990-03-28</td><td>32</td></tr>",
                            "<tr><td>169</td><td>Alexander</td><td>Bloom</td><td>1964-09-23</td><td>58</td></tr>",
                            "<tr><td>170</td><td>William</td><td>Fox</td><td>1992-07-13</td><td>30</td></tr>",
                            "<tr><td>171</td><td>Ashley</td><td>Smith</td><td>1979-12-07</td><td>43</td></tr>",
                            "<tr><td>172</td><td>Edward</td><td>Bates</td><td>1968-02-04</td><td>54</td></tr>",
                            "<tr><td>173</td><td>Clark</td><td>Solomon</td><td>1965-02-07</td><td>57</td></tr>",
                            "<tr><td>174</td><td>Annemarie</td><td>Hoffman</td><td>1975-08-04</td><td>47</td></tr>",
                            "<tr><td>175</td><td>Hiroko</td><td>Hutton</td><td>1995-04-02</td><td>27</td></tr>",
                            "<tr><td>176</td><td>Aron</td><td>Taylor</td><td>1960-08-21</td><td>62</td></tr>",
                            "<tr><td>177</td><td>Theron</td><td>Livingston</td><td>1988-08-20</td><td>34</td></tr>",
                            "<tr><td>178</td><td>Olivia</td><td>Grant</td><td>1995-06-26</td><td>27</td></tr>",
                            "<tr><td>179</td><td>Richie</td><td>Johnson</td><td>1977-11-17</td><td>45</td></tr>",
                            "<tr><td>180</td><td>Horacio</td><td>Taylor</td><td>1971-11-06</td><td>51</td></tr>",
                            "<tr><td>181</td><td>Laura</td><td>Hobbs</td><td>1977-10-07</td><td>45</td></tr>",
                            "<tr><td>182</td><td>Martha</td><td>Sullivan</td><td>1960-08-04</td><td>62</td></tr>",
                            "<tr><td>183</td><td>Girard</td><td>Geoni</td><td>1965-08-02</td><td>57</td></tr>",
                            "<tr><td>184</td><td>Nandita</td><td>Sarchand</td><td>1975-12-13</td><td>47</td></tr>",
                            "<tr><td>185</td><td>Alexis</td><td>Bull</td><td>1963-03-26</td><td>59</td></tr>",
                            "<tr><td>186</td><td>Julia</td><td>Dellinger</td><td>1977-01-08</td><td>45</td></tr>",
                            "<tr><td>187</td><td>Anthony</td><td>Cabrio</td><td>1980-12-18</td><td>42</td></tr>",
                            "<tr><td>188</td><td>Kelly</td><td>Chung</td><td>1968-12-14</td><td>54</td></tr>",
                            "<tr><td>189</td><td>Jennifer</td><td>Dilly</td><td>1957-12-26</td><td>65</td></tr>",
                            "<tr><td>190</td><td>Timothy</td><td>Gates</td><td>1983-02-01</td><td>39</td></tr>",
                            "<tr><td>191</td><td>Chuck</td><td>Perkins</td><td>1994-03-01</td><td>28</td></tr>",
                            "<tr><td>192</td><td>Sarah</td><td>Bell</td><td>1969-04-05</td><td>53</td></tr>",
                            "<tr><td>193</td><td>Britney</td><td>Everett</td><td>1958-01-01</td><td>64</td></tr>",
                            "<tr><td>194</td><td>Samuel</td><td>McCain</td><td>1985-06-27</td><td>37</td></tr>",
                            "<tr><td>195</td><td>Catrina</td><td>Jones</td><td>1957-02-17</td><td>65</td></tr>",
                            "<tr><td>196</td><td>Tabitha</td><td>Walsh</td><td>1991-04-02</td><td>31</td></tr>",
                            "<tr><td>197</td><td>Milford</td><td>Feeney</td><td>1962-06-10</td><td>60</td></tr>",
                            "<tr><td>198</td><td>Alfred</td><td>Tate</td><td>1991-04-03</td><td>31</td></tr>",
                            "<tr><td>199</td><td>Douglas</td><td>Grant</td><td>1993-02-04</td><td>29</td></tr>",
                            "<tr><td>200</td><td>Jennifer</td><td>Whalen</td><td>1983-11-15</td><td>39</td></tr>",
                            "<tr><td>201</td><td>Michael</td><td>Hartstein</td><td>1965-07-11</td><td>57</td></tr>",
                            "<tr><td>202</td><td>Patrick</td><td>Bacon</td><td>1993-11-10</td><td>29</td></tr>",
                            "<tr><td>203</td><td>Susan</td><td>Jacobs</td><td>1985-07-11</td><td>37</td></tr>",
                            "<tr><td>204</td><td>Richard</td><td>Baer</td><td>1961-04-07</td><td>61</td></tr>",
                            "<tr><td>205</td><td>Shelley</td><td>Higgins</td><td>1975-04-04</td><td>47</td></tr>",
                            "<tr><td>206</td><td>William</td><td>Gietz</td><td>1962-10-24</td><td>60</td></tr>",
                            "</table>"
                        ]
                    }
                }
            ],
            "execution_count": 9
        },
        {
            "cell_type": "markdown",
            "source": [
                "### **Sixth Challenge** \n",
                "\n",
                "Challenge: Assuming an estimated shipping date of 7 days after the order date, add a column expression called estimated\\_shipping\\_date for all unshipped orders. Include: \n",
                "\n",
                "\\- order\\_id \n",
                "\n",
                "\\- order\\_date \n",
                "\n",
                "\\- estimated\\_shipping\\_date"
            ],
            "metadata": {
                "azdata_cell_guid": "f3ce805e-fa4e-49d1-a2c8-cdd9063d863f"
            },
            "attachments": {}
        },
        {
            "cell_type": "code",
            "source": [
                "SELECT order_id, order_date, DATEADD(day, 7, order_date) AS estimated_shipping_date\n",
                "FROM oes.orders\n",
                "WHERE shipped_date IS NULL;"
            ],
            "metadata": {
                "azdata_cell_guid": "a3efe8ee-6eb7-44af-affa-b57ca5582093",
                "language": "sql"
            },
            "outputs": [
                {
                    "output_type": "display_data",
                    "data": {
                        "text/html": "(21 rows affected)"
                    },
                    "metadata": {}
                },
                {
                    "output_type": "display_data",
                    "data": {
                        "text/html": "Total execution time: 00:00:00.015"
                    },
                    "metadata": {}
                },
                {
                    "output_type": "execute_result",
                    "metadata": {},
                    "execution_count": 11,
                    "data": {
                        "application/vnd.dataresource+json": {
                            "schema": {
                                "fields": [
                                    {
                                        "name": "order_id"
                                    },
                                    {
                                        "name": "order_date"
                                    },
                                    {
                                        "name": "estimated_shipping_date"
                                    }
                                ]
                            },
                            "data": [
                                {
                                    "0": "11008",
                                    "1": "2020-07-08",
                                    "2": "2020-07-15"
                                },
                                {
                                    "0": "11019",
                                    "1": "2020-07-13",
                                    "2": "2020-07-20"
                                },
                                {
                                    "0": "11039",
                                    "1": "2020-04-21",
                                    "2": "2020-04-28"
                                },
                                {
                                    "0": "11040",
                                    "1": "2020-04-22",
                                    "2": "2020-04-29"
                                },
                                {
                                    "0": "11045",
                                    "1": "2020-04-23",
                                    "2": "2020-04-30"
                                },
                                {
                                    "0": "11051",
                                    "1": "2020-07-27",
                                    "2": "2020-08-03"
                                },
                                {
                                    "0": "11054",
                                    "1": "2020-04-28",
                                    "2": "2020-05-05"
                                },
                                {
                                    "0": "11058",
                                    "1": "2020-07-29",
                                    "2": "2020-08-05"
                                },
                                {
                                    "0": "11059",
                                    "1": "2020-07-29",
                                    "2": "2020-08-05"
                                },
                                {
                                    "0": "11061",
                                    "1": "2020-07-30",
                                    "2": "2020-08-06"
                                },
                                {
                                    "0": "11062",
                                    "1": "2020-07-30",
                                    "2": "2020-08-06"
                                },
                                {
                                    "0": "11065",
                                    "1": "2020-07-29",
                                    "2": "2020-08-05"
                                },
                                {
                                    "0": "11068",
                                    "1": "2020-07-29",
                                    "2": "2020-08-05"
                                },
                                {
                                    "0": "11070",
                                    "1": "2020-07-31",
                                    "2": "2020-08-07"
                                },
                                {
                                    "0": "11071",
                                    "1": "2020-07-31",
                                    "2": "2020-08-07"
                                },
                                {
                                    "0": "11072",
                                    "1": "2020-07-31",
                                    "2": "2020-08-07"
                                },
                                {
                                    "0": "11073",
                                    "1": "2020-07-31",
                                    "2": "2020-08-07"
                                },
                                {
                                    "0": "11074",
                                    "1": "2020-07-31",
                                    "2": "2020-08-07"
                                },
                                {
                                    "0": "11075",
                                    "1": "2020-07-30",
                                    "2": "2020-08-06"
                                },
                                {
                                    "0": "11076",
                                    "1": "2020-07-30",
                                    "2": "2020-08-06"
                                },
                                {
                                    "0": "11077",
                                    "1": "2020-07-30",
                                    "2": "2020-08-06"
                                }
                            ]
                        },
                        "text/html": [
                            "<table>",
                            "<tr><th>order_id</th><th>order_date</th><th>estimated_shipping_date</th></tr>",
                            "<tr><td>11008</td><td>2020-07-08</td><td>2020-07-15</td></tr>",
                            "<tr><td>11019</td><td>2020-07-13</td><td>2020-07-20</td></tr>",
                            "<tr><td>11039</td><td>2020-04-21</td><td>2020-04-28</td></tr>",
                            "<tr><td>11040</td><td>2020-04-22</td><td>2020-04-29</td></tr>",
                            "<tr><td>11045</td><td>2020-04-23</td><td>2020-04-30</td></tr>",
                            "<tr><td>11051</td><td>2020-07-27</td><td>2020-08-03</td></tr>",
                            "<tr><td>11054</td><td>2020-04-28</td><td>2020-05-05</td></tr>",
                            "<tr><td>11058</td><td>2020-07-29</td><td>2020-08-05</td></tr>",
                            "<tr><td>11059</td><td>2020-07-29</td><td>2020-08-05</td></tr>",
                            "<tr><td>11061</td><td>2020-07-30</td><td>2020-08-06</td></tr>",
                            "<tr><td>11062</td><td>2020-07-30</td><td>2020-08-06</td></tr>",
                            "<tr><td>11065</td><td>2020-07-29</td><td>2020-08-05</td></tr>",
                            "<tr><td>11068</td><td>2020-07-29</td><td>2020-08-05</td></tr>",
                            "<tr><td>11070</td><td>2020-07-31</td><td>2020-08-07</td></tr>",
                            "<tr><td>11071</td><td>2020-07-31</td><td>2020-08-07</td></tr>",
                            "<tr><td>11072</td><td>2020-07-31</td><td>2020-08-07</td></tr>",
                            "<tr><td>11073</td><td>2020-07-31</td><td>2020-08-07</td></tr>",
                            "<tr><td>11074</td><td>2020-07-31</td><td>2020-08-07</td></tr>",
                            "<tr><td>11075</td><td>2020-07-30</td><td>2020-08-06</td></tr>",
                            "<tr><td>11076</td><td>2020-07-30</td><td>2020-08-06</td></tr>",
                            "<tr><td>11077</td><td>2020-07-30</td><td>2020-08-06</td></tr>",
                            "</table>"
                        ]
                    }
                }
            ],
            "execution_count": 11
        },
        {
            "cell_type": "markdown",
            "source": [
                "### **Seventh Challenge** \n",
                "\n",
                "Challenge: Calculate the average number of days it takes each shipping company to ship an order. Call this expression avg\\_shipping\\_days. Include: \n",
                "\n",
                "\\- company\\_name \n",
                "\n",
                "\\- avg\\_shipping\\_days"
            ],
            "metadata": {
                "azdata_cell_guid": "c9734e1c-2e16-49b3-9031-47c24c73486e"
            },
            "attachments": {}
        },
        {
            "cell_type": "code",
            "source": [
                "SELECT s.company_name, AVG(DATEDIFF(day, o.order_date, o.shipped_date)) AS avg_shipping_days\n",
                "FROM oes.orders o\n",
                "INNER JOIN oes.shippers s \n",
                "ON o.shipper_id = s.shipper_id \n",
                "WHERE shipped_date IS NOT NULL\n",
                "GROUP BY s.company_name;"
            ],
            "metadata": {
                "azdata_cell_guid": "49ec18be-d43a-41d7-9241-002f99ac895d",
                "language": "sql"
            },
            "outputs": [
                {
                    "output_type": "display_data",
                    "data": {
                        "text/html": "(3 rows affected)"
                    },
                    "metadata": {}
                },
                {
                    "output_type": "display_data",
                    "data": {
                        "text/html": "Total execution time: 00:00:00.053"
                    },
                    "metadata": {}
                },
                {
                    "output_type": "execute_result",
                    "metadata": {},
                    "execution_count": 14,
                    "data": {
                        "application/vnd.dataresource+json": {
                            "schema": {
                                "fields": [
                                    {
                                        "name": "company_name"
                                    },
                                    {
                                        "name": "avg_shipping_days"
                                    }
                                ]
                            },
                            "data": [
                                {
                                    "0": "Fast Freight",
                                    "1": "8"
                                },
                                {
                                    "0": "Pack and Ship",
                                    "1": "7"
                                },
                                {
                                    "0": "Smart Shipping Ltd",
                                    "1": "9"
                                }
                            ]
                        },
                        "text/html": [
                            "<table>",
                            "<tr><th>company_name</th><th>avg_shipping_days</th></tr>",
                            "<tr><td>Fast Freight</td><td>8</td></tr>",
                            "<tr><td>Pack and Ship</td><td>7</td></tr>",
                            "<tr><td>Smart Shipping Ltd</td><td>9</td></tr>",
                            "</table>"
                        ]
                    }
                }
            ],
            "execution_count": 14
        }
    ]
}