{
    "metadata": {
        "kernelspec": {
            "name": "SQL",
            "display_name": "SQL",
            "language": "sql"
        },
        "language_info": {
            "name": "sql",
            "version": ""
        }
    },
    "nbformat_minor": 2,
    "nbformat": 4,
    "cells": [
        {
            "cell_type": "markdown",
            "source": [
                "# Advanced Join Challenges"
            ],
            "metadata": {
                "azdata_cell_guid": "de99c758-a6a0-4957-8faf-8b41e20e8fe4"
            },
            "attachments": {}
        },
        {
            "cell_type": "markdown",
            "source": [
                "\\*\\*Use SAMPLEDB Database\\*\\*"
            ],
            "metadata": {
                "azdata_cell_guid": "756b77f7-9305-45c4-accb-35787dcbe5bc"
            },
            "attachments": {}
        },
        {
            "cell_type": "code",
            "source": [
                "USE SAMPLEDB \n",
                "GO"
            ],
            "metadata": {
                "azdata_cell_guid": "1bbf3c00-51b8-488b-b2cf-32bc3ad3b201",
                "language": "sql"
            },
            "outputs": [
                {
                    "output_type": "display_data",
                    "data": {
                        "text/html": "Commands completed successfully."
                    },
                    "metadata": {}
                },
                {
                    "output_type": "display_data",
                    "data": {
                        "text/html": "Total execution time: 00:00:00.002"
                    },
                    "metadata": {}
                }
            ],
            "execution_count": 1
        },
        {
            "cell_type": "markdown",
            "source": [
                "### **First Challenge** \n",
                "\n",
                "Challenge: Write a query to return employee details for all employees as well as the first and last name of each employee's manager. Include the following columns: \n",
                "\n",
                "\\- employee\\_id \n",
                "\n",
                "\\- first\\_name \n",
                "\n",
                "\\- last\\_name \n",
                "\n",
                "\\- manager\\_first\\_name (alias for first\\_name) \n",
                "\n",
                "\\- manager\\_last\\_name (alias for last\\_name)"
            ],
            "metadata": {
                "azdata_cell_guid": "2cfad330-2eb2-4643-a294-dcc36eecae56"
            },
            "attachments": {}
        },
        {
            "cell_type": "code",
            "source": [
                "SELECT e.employee_id, e.first_name, e.last_name, e2.first_name AS manager_first_name, e2.last_name AS manager_last_name\n",
                "FROM hcm.employees e LEFT JOIN hcm.employees e2\n",
                "ON e.manager_id = e2.employee_id;"
            ],
            "metadata": {
                "azdata_cell_guid": "1392f52c-b253-4a76-b39c-63d1f7e5348a",
                "language": "sql"
            },
            "outputs": [
                {
                    "output_type": "display_data",
                    "data": {
                        "text/html": "(107 rows affected)"
                    },
                    "metadata": {}
                },
                {
                    "output_type": "display_data",
                    "data": {
                        "text/html": "Total execution time: 00:00:00.099"
                    },
                    "metadata": {}
                },
                {
                    "output_type": "execute_result",
                    "metadata": {},
                    "execution_count": 2,
                    "data": {
                        "application/vnd.dataresource+json": {
                            "schema": {
                                "fields": [
                                    {
                                        "name": "employee_id"
                                    },
                                    {
                                        "name": "first_name"
                                    },
                                    {
                                        "name": "last_name"
                                    },
                                    {
                                        "name": "manager_first_name"
                                    },
                                    {
                                        "name": "manager_last_name"
                                    }
                                ]
                            },
                            "data": [
                                {
                                    "0": "100",
                                    "1": "Jack",
                                    "2": "Bernard",
                                    "3": "NULL",
                                    "4": "NULL"
                                },
                                {
                                    "0": "101",
                                    "1": "Don",
                                    "2": "Reilly",
                                    "3": "Jack",
                                    "4": "Bernard"
                                },
                                {
                                    "0": "102",
                                    "1": "Judy",
                                    "2": "Lawson",
                                    "3": "Jack",
                                    "4": "Bernard"
                                },
                                {
                                    "0": "114",
                                    "1": "Diana",
                                    "2": "Colman",
                                    "3": "Jack",
                                    "4": "Bernard"
                                },
                                {
                                    "0": "120",
                                    "1": "Matthew",
                                    "2": "Wilson",
                                    "3": "Jack",
                                    "4": "Bernard"
                                },
                                {
                                    "0": "121",
                                    "1": "Jack",
                                    "2": "Hale",
                                    "3": "Jack",
                                    "4": "Bernard"
                                },
                                {
                                    "0": "122",
                                    "1": "Priya",
                                    "2": "Singh",
                                    "3": "Jack",
                                    "4": "Bernard"
                                },
                                {
                                    "0": "123",
                                    "1": "Shanta",
                                    "2": "Vollman",
                                    "3": "Jack",
                                    "4": "Bernard"
                                },
                                {
                                    "0": "124",
                                    "1": "Kevin",
                                    "2": "Mourgos",
                                    "3": "Jack",
                                    "4": "Bernard"
                                },
                                {
                                    "0": "145",
                                    "1": "Harold",
                                    "2": "Russell",
                                    "3": "Jack",
                                    "4": "Bernard"
                                },
                                {
                                    "0": "146",
                                    "1": "Karen",
                                    "2": "Partners",
                                    "3": "Jack",
                                    "4": "Bernard"
                                },
                                {
                                    "0": "147",
                                    "1": "Alberto",
                                    "2": "Errazuriz",
                                    "3": "Jack",
                                    "4": "Bernard"
                                },
                                {
                                    "0": "148",
                                    "1": "Gerald",
                                    "2": "Cambrault",
                                    "3": "Jack",
                                    "4": "Bernard"
                                },
                                {
                                    "0": "149",
                                    "1": "Michael",
                                    "2": "Rogers",
                                    "3": "Jack",
                                    "4": "Bernard"
                                },
                                {
                                    "0": "201",
                                    "1": "Michael",
                                    "2": "Hartstein",
                                    "3": "Jack",
                                    "4": "Bernard"
                                },
                                {
                                    "0": "200",
                                    "1": "Jennifer",
                                    "2": "Whalen",
                                    "3": "Don",
                                    "4": "Reilly"
                                },
                                {
                                    "0": "203",
                                    "1": "Susan",
                                    "2": "Jacobs",
                                    "3": "Don",
                                    "4": "Reilly"
                                },
                                {
                                    "0": "204",
                                    "1": "Richard",
                                    "2": "Baer",
                                    "3": "Don",
                                    "4": "Reilly"
                                },
                                {
                                    "0": "205",
                                    "1": "Shelley",
                                    "2": "Higgins",
                                    "3": "Don",
                                    "4": "Reilly"
                                },
                                {
                                    "0": "108",
                                    "1": "Patricia",
                                    "2": "Doyle",
                                    "3": "Don",
                                    "4": "Reilly"
                                },
                                {
                                    "0": "103",
                                    "1": "Yani",
                                    "2": "Wenzlick",
                                    "3": "Judy",
                                    "4": "Lawson"
                                },
                                {
                                    "0": "104",
                                    "1": "Rachel",
                                    "2": "Mortensen",
                                    "3": "Yani",
                                    "4": "Wenzlick"
                                },
                                {
                                    "0": "105",
                                    "1": "Paul",
                                    "2": "Cameron",
                                    "3": "Yani",
                                    "4": "Wenzlick"
                                },
                                {
                                    "0": "106",
                                    "1": "Russell",
                                    "2": "King",
                                    "3": "Yani",
                                    "4": "Wenzlick"
                                },
                                {
                                    "0": "107",
                                    "1": "Maria",
                                    "2": "Cameron",
                                    "3": "Yani",
                                    "4": "Wenzlick"
                                },
                                {
                                    "0": "109",
                                    "1": "Daniel",
                                    "2": "Hopkins",
                                    "3": "Patricia",
                                    "4": "Doyle"
                                },
                                {
                                    "0": "110",
                                    "1": "John",
                                    "2": "Chen",
                                    "3": "Patricia",
                                    "4": "Doyle"
                                },
                                {
                                    "0": "111",
                                    "1": "Llyod",
                                    "2": "Henderson",
                                    "3": "Patricia",
                                    "4": "Doyle"
                                },
                                {
                                    "0": "112",
                                    "1": "Lena",
                                    "2": "Chadwick",
                                    "3": "Patricia",
                                    "4": "Doyle"
                                },
                                {
                                    "0": "113",
                                    "1": "Richard",
                                    "2": "Stewart",
                                    "3": "Patricia",
                                    "4": "Doyle"
                                },
                                {
                                    "0": "115",
                                    "1": "Alexander",
                                    "2": "Khoo",
                                    "3": "Diana",
                                    "4": "Colman"
                                },
                                {
                                    "0": "116",
                                    "1": "Shelli",
                                    "2": "Baida",
                                    "3": "Diana",
                                    "4": "Colman"
                                },
                                {
                                    "0": "117",
                                    "1": "Peter",
                                    "2": "Owen",
                                    "3": "Diana",
                                    "4": "Colman"
                                },
                                {
                                    "0": "118",
                                    "1": "Peter",
                                    "2": "Owen",
                                    "3": "Diana",
                                    "4": "Colman"
                                },
                                {
                                    "0": "119",
                                    "1": "Karen",
                                    "2": "Colmenares",
                                    "3": "Diana",
                                    "4": "Colman"
                                },
                                {
                                    "0": "125",
                                    "1": "Julia",
                                    "2": "Nayer",
                                    "3": "Matthew",
                                    "4": "Wilson"
                                },
                                {
                                    "0": "126",
                                    "1": "Irene",
                                    "2": "Mikkilineni",
                                    "3": "Matthew",
                                    "4": "Wilson"
                                },
                                {
                                    "0": "127",
                                    "1": "James",
                                    "2": "Landry",
                                    "3": "Matthew",
                                    "4": "Wilson"
                                },
                                {
                                    "0": "128",
                                    "1": "Steven",
                                    "2": "Markle",
                                    "3": "Matthew",
                                    "4": "Wilson"
                                },
                                {
                                    "0": "180",
                                    "1": "Horacio",
                                    "2": "Taylor",
                                    "3": "Matthew",
                                    "4": "Wilson"
                                },
                                {
                                    "0": "181",
                                    "1": "Laura",
                                    "2": "Hobbs",
                                    "3": "Matthew",
                                    "4": "Wilson"
                                },
                                {
                                    "0": "182",
                                    "1": "Martha",
                                    "2": "Sullivan",
                                    "3": "Matthew",
                                    "4": "Wilson"
                                },
                                {
                                    "0": "183",
                                    "1": "Girard",
                                    "2": "Geoni",
                                    "3": "Matthew",
                                    "4": "Wilson"
                                },
                                {
                                    "0": "184",
                                    "1": "Nandita",
                                    "2": "Sarchand",
                                    "3": "Jack",
                                    "4": "Hale"
                                },
                                {
                                    "0": "185",
                                    "1": "Alexis",
                                    "2": "Bull",
                                    "3": "Jack",
                                    "4": "Hale"
                                },
                                {
                                    "0": "186",
                                    "1": "Julia",
                                    "2": "Dellinger",
                                    "3": "Jack",
                                    "4": "Hale"
                                },
                                {
                                    "0": "187",
                                    "1": "Anthony",
                                    "2": "Cabrio",
                                    "3": "Jack",
                                    "4": "Hale"
                                },
                                {
                                    "0": "129",
                                    "1": "Laura",
                                    "2": "Bissot",
                                    "3": "Jack",
                                    "4": "Hale"
                                },
                                {
                                    "0": "130",
                                    "1": "Mark",
                                    "2": "Atkinson",
                                    "3": "Jack",
                                    "4": "Hale"
                                },
                                {
                                    "0": "131",
                                    "1": "James",
                                    "2": "Marlow",
                                    "3": "Jack",
                                    "4": "Hale"
                                },
                                {
                                    "0": "132",
                                    "1": "Gavin",
                                    "2": "Olson",
                                    "3": "Jack",
                                    "4": "Hale"
                                },
                                {
                                    "0": "133",
                                    "1": "Jason",
                                    "2": "Mallin",
                                    "3": "Priya",
                                    "4": "Singh"
                                },
                                {
                                    "0": "134",
                                    "1": "Michael",
                                    "2": "Rogers",
                                    "3": "Priya",
                                    "4": "Singh"
                                },
                                {
                                    "0": "135",
                                    "1": "Mitch",
                                    "2": "Holt",
                                    "3": "Priya",
                                    "4": "Singh"
                                },
                                {
                                    "0": "136",
                                    "1": "Hazel",
                                    "2": "Philtanker",
                                    "3": "Priya",
                                    "4": "Singh"
                                },
                                {
                                    "0": "188",
                                    "1": "Kelly",
                                    "2": "Chung",
                                    "3": "Priya",
                                    "4": "Singh"
                                },
                                {
                                    "0": "189",
                                    "1": "Jennifer",
                                    "2": "Dilly",
                                    "3": "Priya",
                                    "4": "Singh"
                                },
                                {
                                    "0": "190",
                                    "1": "Timothy",
                                    "2": "Gates",
                                    "3": "Priya",
                                    "4": "Singh"
                                },
                                {
                                    "0": "191",
                                    "1": "Chuck",
                                    "2": "Perkins",
                                    "3": "Priya",
                                    "4": "Singh"
                                },
                                {
                                    "0": "192",
                                    "1": "Sarah",
                                    "2": "Bell",
                                    "3": "Shanta",
                                    "4": "Vollman"
                                },
                                {
                                    "0": "193",
                                    "1": "Britney",
                                    "2": "Everett",
                                    "3": "Shanta",
                                    "4": "Vollman"
                                },
                                {
                                    "0": "194",
                                    "1": "Samuel",
                                    "2": "McCain",
                                    "3": "Shanta",
                                    "4": "Vollman"
                                },
                                {
                                    "0": "195",
                                    "1": "Catrina",
                                    "2": "Jones",
                                    "3": "Shanta",
                                    "4": "Vollman"
                                },
                                {
                                    "0": "137",
                                    "1": "Renske",
                                    "2": "Ladwig",
                                    "3": "Shanta",
                                    "4": "Vollman"
                                },
                                {
                                    "0": "138",
                                    "1": "Stephen",
                                    "2": "Stiles",
                                    "3": "Shanta",
                                    "4": "Vollman"
                                },
                                {
                                    "0": "139",
                                    "1": "Tony",
                                    "2": "Rogers",
                                    "3": "Shanta",
                                    "4": "Vollman"
                                },
                                {
                                    "0": "140",
                                    "1": "Mayank",
                                    "2": "Patel",
                                    "3": "Shanta",
                                    "4": "Vollman"
                                },
                                {
                                    "0": "141",
                                    "1": "Trenna",
                                    "2": "Rajs",
                                    "3": "Kevin",
                                    "4": "Mourgos"
                                },
                                {
                                    "0": "142",
                                    "1": "Rick",
                                    "2": "Davies",
                                    "3": "Kevin",
                                    "4": "Mourgos"
                                },
                                {
                                    "0": "143",
                                    "1": "Randall",
                                    "2": "Matos",
                                    "3": "Kevin",
                                    "4": "Mourgos"
                                },
                                {
                                    "0": "144",
                                    "1": "Peter",
                                    "2": "Vargas",
                                    "3": "Kevin",
                                    "4": "Mourgos"
                                },
                                {
                                    "0": "196",
                                    "1": "Tabitha",
                                    "2": "Walsh",
                                    "3": "Kevin",
                                    "4": "Mourgos"
                                },
                                {
                                    "0": "197",
                                    "1": "Milford",
                                    "2": "Feeney",
                                    "3": "Kevin",
                                    "4": "Mourgos"
                                },
                                {
                                    "0": "198",
                                    "1": "Alfred",
                                    "2": "Tate",
                                    "3": "Kevin",
                                    "4": "Mourgos"
                                },
                                {
                                    "0": "199",
                                    "1": "Douglas",
                                    "2": "Grant",
                                    "3": "Kevin",
                                    "4": "Mourgos"
                                },
                                {
                                    "0": "150",
                                    "1": "Peter",
                                    "2": "Tucker",
                                    "3": "Harold",
                                    "4": "Russell"
                                },
                                {
                                    "0": "151",
                                    "1": "David",
                                    "2": "Bernstein",
                                    "3": "Harold",
                                    "4": "Russell"
                                },
                                {
                                    "0": "152",
                                    "1": "Peter",
                                    "2": "Hall",
                                    "3": "Harold",
                                    "4": "Russell"
                                },
                                {
                                    "0": "153",
                                    "1": "Christopher",
                                    "2": "Olsen",
                                    "3": "Harold",
                                    "4": "Russell"
                                },
                                {
                                    "0": "154",
                                    "1": "Raewyn",
                                    "2": "Cambrault",
                                    "3": "Harold",
                                    "4": "Russell"
                                },
                                {
                                    "0": "155",
                                    "1": "Oliver",
                                    "2": "Tuvault",
                                    "3": "Harold",
                                    "4": "Russell"
                                },
                                {
                                    "0": "156",
                                    "1": "Janette",
                                    "2": "King",
                                    "3": "Karen",
                                    "4": "Partners"
                                },
                                {
                                    "0": "157",
                                    "1": "Patrick",
                                    "2": "Sully",
                                    "3": "Karen",
                                    "4": "Partners"
                                },
                                {
                                    "0": "158",
                                    "1": "Allan",
                                    "2": "McEwen",
                                    "3": "Karen",
                                    "4": "Partners"
                                },
                                {
                                    "0": "159",
                                    "1": "Lindsey",
                                    "2": "Smith",
                                    "3": "Karen",
                                    "4": "Partners"
                                },
                                {
                                    "0": "160",
                                    "1": "Louise",
                                    "2": "Doran",
                                    "3": "Karen",
                                    "4": "Partners"
                                },
                                {
                                    "0": "161",
                                    "1": "Sarath",
                                    "2": "Sewall",
                                    "3": "Karen",
                                    "4": "Partners"
                                },
                                {
                                    "0": "162",
                                    "1": "Clara",
                                    "2": "Vishney",
                                    "3": "Alberto",
                                    "4": "Errazuriz"
                                },
                                {
                                    "0": "163",
                                    "1": "Danielle",
                                    "2": "Greene",
                                    "3": "Alberto",
                                    "4": "Errazuriz"
                                },
                                {
                                    "0": "164",
                                    "1": "Tamara",
                                    "2": "Marvins",
                                    "3": "Alberto",
                                    "4": "Errazuriz"
                                },
                                {
                                    "0": "165",
                                    "1": "David",
                                    "2": "Lee",
                                    "3": "Alberto",
                                    "4": "Errazuriz"
                                },
                                {
                                    "0": "166",
                                    "1": "Sundar",
                                    "2": "Ande",
                                    "3": "Alberto",
                                    "4": "Errazuriz"
                                },
                                {
                                    "0": "167",
                                    "1": "Amit",
                                    "2": "Banda",
                                    "3": "Alberto",
                                    "4": "Errazuriz"
                                },
                                {
                                    "0": "168",
                                    "1": "Danny",
                                    "2": "Ozer",
                                    "3": "Gerald",
                                    "4": "Cambrault"
                                },
                                {
                                    "0": "169",
                                    "1": "Alexander",
                                    "2": "Bloom",
                                    "3": "Gerald",
                                    "4": "Cambrault"
                                },
                                {
                                    "0": "170",
                                    "1": "William",
                                    "2": "Fox",
                                    "3": "Gerald",
                                    "4": "Cambrault"
                                },
                                {
                                    "0": "171",
                                    "1": "Ashley",
                                    "2": "Smith",
                                    "3": "Gerald",
                                    "4": "Cambrault"
                                },
                                {
                                    "0": "172",
                                    "1": "Edward",
                                    "2": "Bates",
                                    "3": "Gerald",
                                    "4": "Cambrault"
                                },
                                {
                                    "0": "173",
                                    "1": "Clark",
                                    "2": "Solomon",
                                    "3": "Gerald",
                                    "4": "Cambrault"
                                },
                                {
                                    "0": "174",
                                    "1": "Annemarie",
                                    "2": "Hoffman",
                                    "3": "Michael",
                                    "4": "Rogers"
                                },
                                {
                                    "0": "175",
                                    "1": "Hiroko",
                                    "2": "Hutton",
                                    "3": "Michael",
                                    "4": "Rogers"
                                },
                                {
                                    "0": "176",
                                    "1": "Aron",
                                    "2": "Taylor",
                                    "3": "Michael",
                                    "4": "Rogers"
                                },
                                {
                                    "0": "177",
                                    "1": "Theron",
                                    "2": "Livingston",
                                    "3": "Michael",
                                    "4": "Rogers"
                                },
                                {
                                    "0": "178",
                                    "1": "Olivia",
                                    "2": "Grant",
                                    "3": "Michael",
                                    "4": "Rogers"
                                },
                                {
                                    "0": "179",
                                    "1": "Richie",
                                    "2": "Johnson",
                                    "3": "Michael",
                                    "4": "Rogers"
                                },
                                {
                                    "0": "202",
                                    "1": "Patrick",
                                    "2": "Bacon",
                                    "3": "Michael",
                                    "4": "Hartstein"
                                },
                                {
                                    "0": "206",
                                    "1": "William",
                                    "2": "Gietz",
                                    "3": "Shelley",
                                    "4": "Higgins"
                                }
                            ]
                        },
                        "text/html": [
                            "<table>",
                            "<tr><th>employee_id</th><th>first_name</th><th>last_name</th><th>manager_first_name</th><th>manager_last_name</th></tr>",
                            "<tr><td>100</td><td>Jack</td><td>Bernard</td><td>NULL</td><td>NULL</td></tr>",
                            "<tr><td>101</td><td>Don</td><td>Reilly</td><td>Jack</td><td>Bernard</td></tr>",
                            "<tr><td>102</td><td>Judy</td><td>Lawson</td><td>Jack</td><td>Bernard</td></tr>",
                            "<tr><td>114</td><td>Diana</td><td>Colman</td><td>Jack</td><td>Bernard</td></tr>",
                            "<tr><td>120</td><td>Matthew</td><td>Wilson</td><td>Jack</td><td>Bernard</td></tr>",
                            "<tr><td>121</td><td>Jack</td><td>Hale</td><td>Jack</td><td>Bernard</td></tr>",
                            "<tr><td>122</td><td>Priya</td><td>Singh</td><td>Jack</td><td>Bernard</td></tr>",
                            "<tr><td>123</td><td>Shanta</td><td>Vollman</td><td>Jack</td><td>Bernard</td></tr>",
                            "<tr><td>124</td><td>Kevin</td><td>Mourgos</td><td>Jack</td><td>Bernard</td></tr>",
                            "<tr><td>145</td><td>Harold</td><td>Russell</td><td>Jack</td><td>Bernard</td></tr>",
                            "<tr><td>146</td><td>Karen</td><td>Partners</td><td>Jack</td><td>Bernard</td></tr>",
                            "<tr><td>147</td><td>Alberto</td><td>Errazuriz</td><td>Jack</td><td>Bernard</td></tr>",
                            "<tr><td>148</td><td>Gerald</td><td>Cambrault</td><td>Jack</td><td>Bernard</td></tr>",
                            "<tr><td>149</td><td>Michael</td><td>Rogers</td><td>Jack</td><td>Bernard</td></tr>",
                            "<tr><td>201</td><td>Michael</td><td>Hartstein</td><td>Jack</td><td>Bernard</td></tr>",
                            "<tr><td>200</td><td>Jennifer</td><td>Whalen</td><td>Don</td><td>Reilly</td></tr>",
                            "<tr><td>203</td><td>Susan</td><td>Jacobs</td><td>Don</td><td>Reilly</td></tr>",
                            "<tr><td>204</td><td>Richard</td><td>Baer</td><td>Don</td><td>Reilly</td></tr>",
                            "<tr><td>205</td><td>Shelley</td><td>Higgins</td><td>Don</td><td>Reilly</td></tr>",
                            "<tr><td>108</td><td>Patricia</td><td>Doyle</td><td>Don</td><td>Reilly</td></tr>",
                            "<tr><td>103</td><td>Yani</td><td>Wenzlick</td><td>Judy</td><td>Lawson</td></tr>",
                            "<tr><td>104</td><td>Rachel</td><td>Mortensen</td><td>Yani</td><td>Wenzlick</td></tr>",
                            "<tr><td>105</td><td>Paul</td><td>Cameron</td><td>Yani</td><td>Wenzlick</td></tr>",
                            "<tr><td>106</td><td>Russell</td><td>King</td><td>Yani</td><td>Wenzlick</td></tr>",
                            "<tr><td>107</td><td>Maria</td><td>Cameron</td><td>Yani</td><td>Wenzlick</td></tr>",
                            "<tr><td>109</td><td>Daniel</td><td>Hopkins</td><td>Patricia</td><td>Doyle</td></tr>",
                            "<tr><td>110</td><td>John</td><td>Chen</td><td>Patricia</td><td>Doyle</td></tr>",
                            "<tr><td>111</td><td>Llyod</td><td>Henderson</td><td>Patricia</td><td>Doyle</td></tr>",
                            "<tr><td>112</td><td>Lena</td><td>Chadwick</td><td>Patricia</td><td>Doyle</td></tr>",
                            "<tr><td>113</td><td>Richard</td><td>Stewart</td><td>Patricia</td><td>Doyle</td></tr>",
                            "<tr><td>115</td><td>Alexander</td><td>Khoo</td><td>Diana</td><td>Colman</td></tr>",
                            "<tr><td>116</td><td>Shelli</td><td>Baida</td><td>Diana</td><td>Colman</td></tr>",
                            "<tr><td>117</td><td>Peter</td><td>Owen</td><td>Diana</td><td>Colman</td></tr>",
                            "<tr><td>118</td><td>Peter</td><td>Owen</td><td>Diana</td><td>Colman</td></tr>",
                            "<tr><td>119</td><td>Karen</td><td>Colmenares</td><td>Diana</td><td>Colman</td></tr>",
                            "<tr><td>125</td><td>Julia</td><td>Nayer</td><td>Matthew</td><td>Wilson</td></tr>",
                            "<tr><td>126</td><td>Irene</td><td>Mikkilineni</td><td>Matthew</td><td>Wilson</td></tr>",
                            "<tr><td>127</td><td>James</td><td>Landry</td><td>Matthew</td><td>Wilson</td></tr>",
                            "<tr><td>128</td><td>Steven</td><td>Markle</td><td>Matthew</td><td>Wilson</td></tr>",
                            "<tr><td>180</td><td>Horacio</td><td>Taylor</td><td>Matthew</td><td>Wilson</td></tr>",
                            "<tr><td>181</td><td>Laura</td><td>Hobbs</td><td>Matthew</td><td>Wilson</td></tr>",
                            "<tr><td>182</td><td>Martha</td><td>Sullivan</td><td>Matthew</td><td>Wilson</td></tr>",
                            "<tr><td>183</td><td>Girard</td><td>Geoni</td><td>Matthew</td><td>Wilson</td></tr>",
                            "<tr><td>184</td><td>Nandita</td><td>Sarchand</td><td>Jack</td><td>Hale</td></tr>",
                            "<tr><td>185</td><td>Alexis</td><td>Bull</td><td>Jack</td><td>Hale</td></tr>",
                            "<tr><td>186</td><td>Julia</td><td>Dellinger</td><td>Jack</td><td>Hale</td></tr>",
                            "<tr><td>187</td><td>Anthony</td><td>Cabrio</td><td>Jack</td><td>Hale</td></tr>",
                            "<tr><td>129</td><td>Laura</td><td>Bissot</td><td>Jack</td><td>Hale</td></tr>",
                            "<tr><td>130</td><td>Mark</td><td>Atkinson</td><td>Jack</td><td>Hale</td></tr>",
                            "<tr><td>131</td><td>James</td><td>Marlow</td><td>Jack</td><td>Hale</td></tr>",
                            "<tr><td>132</td><td>Gavin</td><td>Olson</td><td>Jack</td><td>Hale</td></tr>",
                            "<tr><td>133</td><td>Jason</td><td>Mallin</td><td>Priya</td><td>Singh</td></tr>",
                            "<tr><td>134</td><td>Michael</td><td>Rogers</td><td>Priya</td><td>Singh</td></tr>",
                            "<tr><td>135</td><td>Mitch</td><td>Holt</td><td>Priya</td><td>Singh</td></tr>",
                            "<tr><td>136</td><td>Hazel</td><td>Philtanker</td><td>Priya</td><td>Singh</td></tr>",
                            "<tr><td>188</td><td>Kelly</td><td>Chung</td><td>Priya</td><td>Singh</td></tr>",
                            "<tr><td>189</td><td>Jennifer</td><td>Dilly</td><td>Priya</td><td>Singh</td></tr>",
                            "<tr><td>190</td><td>Timothy</td><td>Gates</td><td>Priya</td><td>Singh</td></tr>",
                            "<tr><td>191</td><td>Chuck</td><td>Perkins</td><td>Priya</td><td>Singh</td></tr>",
                            "<tr><td>192</td><td>Sarah</td><td>Bell</td><td>Shanta</td><td>Vollman</td></tr>",
                            "<tr><td>193</td><td>Britney</td><td>Everett</td><td>Shanta</td><td>Vollman</td></tr>",
                            "<tr><td>194</td><td>Samuel</td><td>McCain</td><td>Shanta</td><td>Vollman</td></tr>",
                            "<tr><td>195</td><td>Catrina</td><td>Jones</td><td>Shanta</td><td>Vollman</td></tr>",
                            "<tr><td>137</td><td>Renske</td><td>Ladwig</td><td>Shanta</td><td>Vollman</td></tr>",
                            "<tr><td>138</td><td>Stephen</td><td>Stiles</td><td>Shanta</td><td>Vollman</td></tr>",
                            "<tr><td>139</td><td>Tony</td><td>Rogers</td><td>Shanta</td><td>Vollman</td></tr>",
                            "<tr><td>140</td><td>Mayank</td><td>Patel</td><td>Shanta</td><td>Vollman</td></tr>",
                            "<tr><td>141</td><td>Trenna</td><td>Rajs</td><td>Kevin</td><td>Mourgos</td></tr>",
                            "<tr><td>142</td><td>Rick</td><td>Davies</td><td>Kevin</td><td>Mourgos</td></tr>",
                            "<tr><td>143</td><td>Randall</td><td>Matos</td><td>Kevin</td><td>Mourgos</td></tr>",
                            "<tr><td>144</td><td>Peter</td><td>Vargas</td><td>Kevin</td><td>Mourgos</td></tr>",
                            "<tr><td>196</td><td>Tabitha</td><td>Walsh</td><td>Kevin</td><td>Mourgos</td></tr>",
                            "<tr><td>197</td><td>Milford</td><td>Feeney</td><td>Kevin</td><td>Mourgos</td></tr>",
                            "<tr><td>198</td><td>Alfred</td><td>Tate</td><td>Kevin</td><td>Mourgos</td></tr>",
                            "<tr><td>199</td><td>Douglas</td><td>Grant</td><td>Kevin</td><td>Mourgos</td></tr>",
                            "<tr><td>150</td><td>Peter</td><td>Tucker</td><td>Harold</td><td>Russell</td></tr>",
                            "<tr><td>151</td><td>David</td><td>Bernstein</td><td>Harold</td><td>Russell</td></tr>",
                            "<tr><td>152</td><td>Peter</td><td>Hall</td><td>Harold</td><td>Russell</td></tr>",
                            "<tr><td>153</td><td>Christopher</td><td>Olsen</td><td>Harold</td><td>Russell</td></tr>",
                            "<tr><td>154</td><td>Raewyn</td><td>Cambrault</td><td>Harold</td><td>Russell</td></tr>",
                            "<tr><td>155</td><td>Oliver</td><td>Tuvault</td><td>Harold</td><td>Russell</td></tr>",
                            "<tr><td>156</td><td>Janette</td><td>King</td><td>Karen</td><td>Partners</td></tr>",
                            "<tr><td>157</td><td>Patrick</td><td>Sully</td><td>Karen</td><td>Partners</td></tr>",
                            "<tr><td>158</td><td>Allan</td><td>McEwen</td><td>Karen</td><td>Partners</td></tr>",
                            "<tr><td>159</td><td>Lindsey</td><td>Smith</td><td>Karen</td><td>Partners</td></tr>",
                            "<tr><td>160</td><td>Louise</td><td>Doran</td><td>Karen</td><td>Partners</td></tr>",
                            "<tr><td>161</td><td>Sarath</td><td>Sewall</td><td>Karen</td><td>Partners</td></tr>",
                            "<tr><td>162</td><td>Clara</td><td>Vishney</td><td>Alberto</td><td>Errazuriz</td></tr>",
                            "<tr><td>163</td><td>Danielle</td><td>Greene</td><td>Alberto</td><td>Errazuriz</td></tr>",
                            "<tr><td>164</td><td>Tamara</td><td>Marvins</td><td>Alberto</td><td>Errazuriz</td></tr>",
                            "<tr><td>165</td><td>David</td><td>Lee</td><td>Alberto</td><td>Errazuriz</td></tr>",
                            "<tr><td>166</td><td>Sundar</td><td>Ande</td><td>Alberto</td><td>Errazuriz</td></tr>",
                            "<tr><td>167</td><td>Amit</td><td>Banda</td><td>Alberto</td><td>Errazuriz</td></tr>",
                            "<tr><td>168</td><td>Danny</td><td>Ozer</td><td>Gerald</td><td>Cambrault</td></tr>",
                            "<tr><td>169</td><td>Alexander</td><td>Bloom</td><td>Gerald</td><td>Cambrault</td></tr>",
                            "<tr><td>170</td><td>William</td><td>Fox</td><td>Gerald</td><td>Cambrault</td></tr>",
                            "<tr><td>171</td><td>Ashley</td><td>Smith</td><td>Gerald</td><td>Cambrault</td></tr>",
                            "<tr><td>172</td><td>Edward</td><td>Bates</td><td>Gerald</td><td>Cambrault</td></tr>",
                            "<tr><td>173</td><td>Clark</td><td>Solomon</td><td>Gerald</td><td>Cambrault</td></tr>",
                            "<tr><td>174</td><td>Annemarie</td><td>Hoffman</td><td>Michael</td><td>Rogers</td></tr>",
                            "<tr><td>175</td><td>Hiroko</td><td>Hutton</td><td>Michael</td><td>Rogers</td></tr>",
                            "<tr><td>176</td><td>Aron</td><td>Taylor</td><td>Michael</td><td>Rogers</td></tr>",
                            "<tr><td>177</td><td>Theron</td><td>Livingston</td><td>Michael</td><td>Rogers</td></tr>",
                            "<tr><td>178</td><td>Olivia</td><td>Grant</td><td>Michael</td><td>Rogers</td></tr>",
                            "<tr><td>179</td><td>Richie</td><td>Johnson</td><td>Michael</td><td>Rogers</td></tr>",
                            "<tr><td>202</td><td>Patrick</td><td>Bacon</td><td>Michael</td><td>Hartstein</td></tr>",
                            "<tr><td>206</td><td>William</td><td>Gietz</td><td>Shelley</td><td>Higgins</td></tr>",
                            "</table>"
                        ]
                    }
                }
            ],
            "execution_count": 2
        },
        {
            "cell_type": "markdown",
            "source": [
                "### **Second Challenge** \n",
                "\n",
                "Challenge: Write a query to return all the products at each warehouse. Include the following attributes: \n",
                "\n",
                "\\- product\\_id \n",
                "\n",
                "\\- product\\_name \n",
                "\n",
                "\\- warehouse\\_id \n",
                "\n",
                "\\- warehouse\\_name \n",
                "\n",
                "\\- quantity\\_on\\_hand"
            ],
            "metadata": {
                "language": "sql",
                "azdata_cell_guid": "25e679e7-e9bb-4f48-b94b-a80c6da99b72"
            },
            "attachments": {}
        },
        {
            "cell_type": "code",
            "source": [
                "SELECT i.product_id, p.product_name, i.warehouse_id, w.warehouse_name, i.quantity_on_hand \n",
                "FROM oes.inventories i INNER JOIN oes.products p\n",
                "ON i.product_id = p.product_id \n",
                "INNER JOIN oes.warehouses w\n",
                "ON i.warehouse_id = w.warehouse_id;"
            ],
            "metadata": {
                "language": "sql",
                "azdata_cell_guid": "43f84c5e-8099-4a13-83c3-176c326e1d12"
            },
            "outputs": [
                {
                    "output_type": "display_data",
                    "data": {
                        "text/html": "(514 rows affected)"
                    },
                    "metadata": {}
                },
                {
                    "output_type": "display_data",
                    "data": {
                        "text/html": "Total execution time: 00:00:00.059"
                    },
                    "metadata": {}
                },
                {
                    "output_type": "execute_result",
                    "metadata": {},
                    "execution_count": 5,
                    "data": {
                        "application/vnd.dataresource+json": {
                            "schema": {
                                "fields": [
                                    {
                                        "name": "product_id"
                                    },
                                    {
                                        "name": "product_name"
                                    },
                                    {
                                        "name": "warehouse_id"
                                    },
                                    {
                                        "name": "warehouse_name"
                                    },
                                    {
                                        "name": "quantity_on_hand"
                                    }
                                ]
                            },
                            "data": [
                                {
                                    "0": "1",
                                    "1": "Apple iPhone 11 64GB - Black",
                                    "2": "1",
                                    "3": "Central warehouse",
                                    "4": "112"
                                },
                                {
                                    "0": "1",
                                    "1": "Apple iPhone 11 64GB - Black",
                                    "2": "2",
                                    "3": "Downtown warehouse",
                                    "4": "107"
                                },
                                {
                                    "0": "1",
                                    "1": "Apple iPhone 11 64GB - Black",
                                    "2": "3",
                                    "3": "Brunswick warehouse",
                                    "4": "176"
                                },
                                {
                                    "0": "1",
                                    "1": "Apple iPhone 11 64GB - Black",
                                    "2": "4",
                                    "3": "NULL",
                                    "4": "97"
                                },
                                {
                                    "0": "1",
                                    "1": "Apple iPhone 11 64GB - Black",
                                    "2": "5",
                                    "3": "NULL",
                                    "4": "62"
                                },
                                {
                                    "0": "1",
                                    "1": "Apple iPhone 11 64GB - Black",
                                    "2": "6",
                                    "3": "NULL",
                                    "4": "155"
                                },
                                {
                                    "0": "1",
                                    "1": "Apple iPhone 11 64GB - Black",
                                    "2": "7",
                                    "3": "NULL",
                                    "4": "63"
                                },
                                {
                                    "0": "1",
                                    "1": "Apple iPhone 11 64GB - Black",
                                    "2": "8",
                                    "3": "NULL",
                                    "4": "164"
                                },
                                {
                                    "0": "2",
                                    "1": "Apple iPhone 11 128GB - White",
                                    "2": "2",
                                    "3": "Downtown warehouse",
                                    "4": "98"
                                },
                                {
                                    "0": "2",
                                    "1": "Apple iPhone 11 128GB - White",
                                    "2": "3",
                                    "3": "Brunswick warehouse",
                                    "4": "178"
                                },
                                {
                                    "0": "2",
                                    "1": "Apple iPhone 11 128GB - White",
                                    "2": "5",
                                    "3": "NULL",
                                    "4": "181"
                                },
                                {
                                    "0": "2",
                                    "1": "Apple iPhone 11 128GB - White",
                                    "2": "6",
                                    "3": "NULL",
                                    "4": "78"
                                },
                                {
                                    "0": "2",
                                    "1": "Apple iPhone 11 128GB - White",
                                    "2": "7",
                                    "3": "NULL",
                                    "4": "73"
                                },
                                {
                                    "0": "2",
                                    "1": "Apple iPhone 11 128GB - White",
                                    "2": "8",
                                    "3": "NULL",
                                    "4": "171"
                                },
                                {
                                    "0": "2",
                                    "1": "Apple iPhone 11 128GB - White",
                                    "2": "9",
                                    "3": "NULL",
                                    "4": "65"
                                },
                                {
                                    "0": "3",
                                    "1": "Titan Army N34QW 34 inch Curved UltraWide Monitor",
                                    "2": "2",
                                    "3": "Downtown warehouse",
                                    "4": "69"
                                },
                                {
                                    "0": "3",
                                    "1": "Titan Army N34QW 34 inch Curved UltraWide Monitor",
                                    "2": "3",
                                    "3": "Brunswick warehouse",
                                    "4": "176"
                                },
                                {
                                    "0": "3",
                                    "1": "Titan Army N34QW 34 inch Curved UltraWide Monitor",
                                    "2": "4",
                                    "3": "NULL",
                                    "4": "176"
                                },
                                {
                                    "0": "3",
                                    "1": "Titan Army N34QW 34 inch Curved UltraWide Monitor",
                                    "2": "5",
                                    "3": "NULL",
                                    "4": "134"
                                },
                                {
                                    "0": "3",
                                    "1": "Titan Army N34QW 34 inch Curved UltraWide Monitor",
                                    "2": "7",
                                    "3": "NULL",
                                    "4": "225"
                                },
                                {
                                    "0": "3",
                                    "1": "Titan Army N34QW 34 inch Curved UltraWide Monitor",
                                    "2": "8",
                                    "3": "NULL",
                                    "4": "236"
                                },
                                {
                                    "0": "3",
                                    "1": "Titan Army N34QW 34 inch Curved UltraWide Monitor",
                                    "2": "9",
                                    "3": "NULL",
                                    "4": "244"
                                },
                                {
                                    "0": "4",
                                    "1": "LG UltraGear 24GL600F-B 24 inch Full HD Monitor",
                                    "2": "1",
                                    "3": "Central warehouse",
                                    "4": "107"
                                },
                                {
                                    "0": "4",
                                    "1": "LG UltraGear 24GL600F-B 24 inch Full HD Monitor",
                                    "2": "2",
                                    "3": "Downtown warehouse",
                                    "4": "126"
                                },
                                {
                                    "0": "4",
                                    "1": "LG UltraGear 24GL600F-B 24 inch Full HD Monitor",
                                    "2": "4",
                                    "3": "NULL",
                                    "4": "50"
                                },
                                {
                                    "0": "4",
                                    "1": "LG UltraGear 24GL600F-B 24 inch Full HD Monitor",
                                    "2": "5",
                                    "3": "NULL",
                                    "4": "101"
                                },
                                {
                                    "0": "4",
                                    "1": "LG UltraGear 24GL600F-B 24 inch Full HD Monitor",
                                    "2": "7",
                                    "3": "NULL",
                                    "4": "157"
                                },
                                {
                                    "0": "4",
                                    "1": "LG UltraGear 24GL600F-B 24 inch Full HD Monitor",
                                    "2": "8",
                                    "3": "NULL",
                                    "4": "173"
                                },
                                {
                                    "0": "4",
                                    "1": "LG UltraGear 24GL600F-B 24 inch Full HD Monitor",
                                    "2": "9",
                                    "3": "NULL",
                                    "4": "226"
                                },
                                {
                                    "0": "5",
                                    "1": "ASUS PG279Q Monitor",
                                    "2": "2",
                                    "3": "Downtown warehouse",
                                    "4": "10"
                                },
                                {
                                    "0": "5",
                                    "1": "ASUS PG279Q Monitor",
                                    "2": "3",
                                    "3": "Brunswick warehouse",
                                    "4": "45"
                                },
                                {
                                    "0": "5",
                                    "1": "ASUS PG279Q Monitor",
                                    "2": "4",
                                    "3": "NULL",
                                    "4": "21"
                                },
                                {
                                    "0": "5",
                                    "1": "ASUS PG279Q Monitor",
                                    "2": "5",
                                    "3": "NULL",
                                    "4": "63"
                                },
                                {
                                    "0": "5",
                                    "1": "ASUS PG279Q Monitor",
                                    "2": "6",
                                    "3": "NULL",
                                    "4": "17"
                                },
                                {
                                    "0": "5",
                                    "1": "ASUS PG279Q Monitor",
                                    "2": "7",
                                    "3": "NULL",
                                    "4": "28"
                                },
                                {
                                    "0": "5",
                                    "1": "ASUS PG279Q Monitor",
                                    "2": "9",
                                    "3": "NULL",
                                    "4": "45"
                                },
                                {
                                    "0": "6",
                                    "1": "Logitech G213 Prodigy RGB Gaming Keyboard",
                                    "2": "2",
                                    "3": "Downtown warehouse",
                                    "4": "97"
                                },
                                {
                                    "0": "6",
                                    "1": "Logitech G213 Prodigy RGB Gaming Keyboard",
                                    "2": "3",
                                    "3": "Brunswick warehouse",
                                    "4": "47"
                                },
                                {
                                    "0": "6",
                                    "1": "Logitech G213 Prodigy RGB Gaming Keyboard",
                                    "2": "4",
                                    "3": "NULL",
                                    "4": "181"
                                },
                                {
                                    "0": "6",
                                    "1": "Logitech G213 Prodigy RGB Gaming Keyboard",
                                    "2": "5",
                                    "3": "NULL",
                                    "4": "197"
                                },
                                {
                                    "0": "6",
                                    "1": "Logitech G213 Prodigy RGB Gaming Keyboard",
                                    "2": "6",
                                    "3": "NULL",
                                    "4": "119"
                                },
                                {
                                    "0": "6",
                                    "1": "Logitech G213 Prodigy RGB Gaming Keyboard",
                                    "2": "7",
                                    "3": "NULL",
                                    "4": "214"
                                },
                                {
                                    "0": "6",
                                    "1": "Logitech G213 Prodigy RGB Gaming Keyboard",
                                    "2": "8",
                                    "3": "NULL",
                                    "4": "74"
                                },
                                {
                                    "0": "6",
                                    "1": "Logitech G213 Prodigy RGB Gaming Keyboard",
                                    "2": "9",
                                    "3": "NULL",
                                    "4": "184"
                                },
                                {
                                    "0": "7",
                                    "1": "Canon PIXMA MG2460 Inkjet MFP printer",
                                    "2": "2",
                                    "3": "Downtown warehouse",
                                    "4": "99"
                                },
                                {
                                    "0": "7",
                                    "1": "Canon PIXMA MG2460 Inkjet MFP printer",
                                    "2": "4",
                                    "3": "NULL",
                                    "4": "110"
                                },
                                {
                                    "0": "7",
                                    "1": "Canon PIXMA MG2460 Inkjet MFP printer",
                                    "2": "5",
                                    "3": "NULL",
                                    "4": "96"
                                },
                                {
                                    "0": "7",
                                    "1": "Canon PIXMA MG2460 Inkjet MFP printer",
                                    "2": "6",
                                    "3": "NULL",
                                    "4": "63"
                                },
                                {
                                    "0": "7",
                                    "1": "Canon PIXMA MG2460 Inkjet MFP printer",
                                    "2": "7",
                                    "3": "NULL",
                                    "4": "72"
                                },
                                {
                                    "0": "7",
                                    "1": "Canon PIXMA MG2460 Inkjet MFP printer",
                                    "2": "8",
                                    "3": "NULL",
                                    "4": "183"
                                },
                                {
                                    "0": "7",
                                    "1": "Canon PIXMA MG2460 Inkjet MFP printer",
                                    "2": "9",
                                    "3": "NULL",
                                    "4": "239"
                                },
                                {
                                    "0": "8",
                                    "1": "Microsoft Sculpt Ergonomic Wireless Keyboard and Mouse Combo",
                                    "2": "3",
                                    "3": "Brunswick warehouse",
                                    "4": "47"
                                },
                                {
                                    "0": "8",
                                    "1": "Microsoft Sculpt Ergonomic Wireless Keyboard and Mouse Combo",
                                    "2": "4",
                                    "3": "NULL",
                                    "4": "96"
                                },
                                {
                                    "0": "8",
                                    "1": "Microsoft Sculpt Ergonomic Wireless Keyboard and Mouse Combo",
                                    "2": "5",
                                    "3": "NULL",
                                    "4": "62"
                                },
                                {
                                    "0": "8",
                                    "1": "Microsoft Sculpt Ergonomic Wireless Keyboard and Mouse Combo",
                                    "2": "6",
                                    "3": "NULL",
                                    "4": "154"
                                },
                                {
                                    "0": "8",
                                    "1": "Microsoft Sculpt Ergonomic Wireless Keyboard and Mouse Combo",
                                    "2": "8",
                                    "3": "NULL",
                                    "4": "209"
                                },
                                {
                                    "0": "9",
                                    "1": "JKW Video Intercom over IP adaptor",
                                    "2": "2",
                                    "3": "Downtown warehouse",
                                    "4": "35"
                                },
                                {
                                    "0": "9",
                                    "1": "JKW Video Intercom over IP adaptor",
                                    "2": "3",
                                    "3": "Brunswick warehouse",
                                    "4": "35"
                                },
                                {
                                    "0": "9",
                                    "1": "JKW Video Intercom over IP adaptor",
                                    "2": "5",
                                    "3": "NULL",
                                    "4": "21"
                                },
                                {
                                    "0": "9",
                                    "1": "JKW Video Intercom over IP adaptor",
                                    "2": "6",
                                    "3": "NULL",
                                    "4": "44"
                                },
                                {
                                    "0": "9",
                                    "1": "JKW Video Intercom over IP adaptor",
                                    "2": "7",
                                    "3": "NULL",
                                    "4": "19"
                                },
                                {
                                    "0": "9",
                                    "1": "JKW Video Intercom over IP adaptor",
                                    "2": "8",
                                    "3": "NULL",
                                    "4": "34"
                                },
                                {
                                    "0": "9",
                                    "1": "JKW Video Intercom over IP adaptor",
                                    "2": "9",
                                    "3": "NULL",
                                    "4": "20"
                                },
                                {
                                    "0": "10",
                                    "1": "Intel Coffee Lake Core i9 Processor",
                                    "2": "1",
                                    "3": "Central warehouse",
                                    "4": "97"
                                },
                                {
                                    "0": "10",
                                    "1": "Intel Coffee Lake Core i9 Processor",
                                    "2": "2",
                                    "3": "Downtown warehouse",
                                    "4": "127"
                                },
                                {
                                    "0": "10",
                                    "1": "Intel Coffee Lake Core i9 Processor",
                                    "2": "3",
                                    "3": "Brunswick warehouse",
                                    "4": "102"
                                },
                                {
                                    "0": "10",
                                    "1": "Intel Coffee Lake Core i9 Processor",
                                    "2": "4",
                                    "3": "NULL",
                                    "4": "98"
                                },
                                {
                                    "0": "10",
                                    "1": "Intel Coffee Lake Core i9 Processor",
                                    "2": "5",
                                    "3": "NULL",
                                    "4": "77"
                                },
                                {
                                    "0": "10",
                                    "1": "Intel Coffee Lake Core i9 Processor",
                                    "2": "6",
                                    "3": "NULL",
                                    "4": "195"
                                },
                                {
                                    "0": "10",
                                    "1": "Intel Coffee Lake Core i9 Processor",
                                    "2": "7",
                                    "3": "NULL",
                                    "4": "167"
                                },
                                {
                                    "0": "10",
                                    "1": "Intel Coffee Lake Core i9 Processor",
                                    "2": "8",
                                    "3": "NULL",
                                    "4": "209"
                                },
                                {
                                    "0": "10",
                                    "1": "Intel Coffee Lake Core i9 Processor",
                                    "2": "9",
                                    "3": "NULL",
                                    "4": "89"
                                },
                                {
                                    "0": "11",
                                    "1": "Horion 55 inch 4K Ultra HD LED TV",
                                    "2": "2",
                                    "3": "Downtown warehouse",
                                    "4": "120"
                                },
                                {
                                    "0": "11",
                                    "1": "Horion 55 inch 4K Ultra HD LED TV",
                                    "2": "4",
                                    "3": "NULL",
                                    "4": "98"
                                },
                                {
                                    "0": "11",
                                    "1": "Horion 55 inch 4K Ultra HD LED TV",
                                    "2": "6",
                                    "3": "NULL",
                                    "4": "67"
                                },
                                {
                                    "0": "11",
                                    "1": "Horion 55 inch 4K Ultra HD LED TV",
                                    "2": "7",
                                    "3": "NULL",
                                    "4": "38"
                                },
                                {
                                    "0": "11",
                                    "1": "Horion 55 inch 4K Ultra HD LED TV",
                                    "2": "8",
                                    "3": "NULL",
                                    "4": "87"
                                },
                                {
                                    "0": "11",
                                    "1": "Horion 55 inch 4K Ultra HD LED TV",
                                    "2": "9",
                                    "3": "NULL",
                                    "4": "86"
                                },
                                {
                                    "0": "12",
                                    "1": "Sony WH-1000XM3 Noise-Cancelling headphones - Black",
                                    "2": "1",
                                    "3": "Central warehouse",
                                    "4": "106"
                                },
                                {
                                    "0": "12",
                                    "1": "Sony WH-1000XM3 Noise-Cancelling headphones - Black",
                                    "2": "2",
                                    "3": "Downtown warehouse",
                                    "4": "175"
                                },
                                {
                                    "0": "12",
                                    "1": "Sony WH-1000XM3 Noise-Cancelling headphones - Black",
                                    "2": "4",
                                    "3": "NULL",
                                    "4": "104"
                                },
                                {
                                    "0": "12",
                                    "1": "Sony WH-1000XM3 Noise-Cancelling headphones - Black",
                                    "2": "5",
                                    "3": "NULL",
                                    "4": "176"
                                },
                                {
                                    "0": "12",
                                    "1": "Sony WH-1000XM3 Noise-Cancelling headphones - Black",
                                    "2": "6",
                                    "3": "NULL",
                                    "4": "82"
                                },
                                {
                                    "0": "12",
                                    "1": "Sony WH-1000XM3 Noise-Cancelling headphones - Black",
                                    "2": "7",
                                    "3": "NULL",
                                    "4": "226"
                                },
                                {
                                    "0": "12",
                                    "1": "Sony WH-1000XM3 Noise-Cancelling headphones - Black",
                                    "2": "8",
                                    "3": "NULL",
                                    "4": "226"
                                },
                                {
                                    "0": "13",
                                    "1": "HyperX AMP 7.1 USB Sound Card",
                                    "2": "2",
                                    "3": "Downtown warehouse",
                                    "4": "128"
                                },
                                {
                                    "0": "13",
                                    "1": "HyperX AMP 7.1 USB Sound Card",
                                    "2": "4",
                                    "3": "NULL",
                                    "4": "104"
                                },
                                {
                                    "0": "13",
                                    "1": "HyperX AMP 7.1 USB Sound Card",
                                    "2": "5",
                                    "3": "NULL",
                                    "4": "106"
                                },
                                {
                                    "0": "13",
                                    "1": "HyperX AMP 7.1 USB Sound Card",
                                    "2": "6",
                                    "3": "NULL",
                                    "4": "185"
                                },
                                {
                                    "0": "13",
                                    "1": "HyperX AMP 7.1 USB Sound Card",
                                    "2": "8",
                                    "3": "NULL",
                                    "4": "183"
                                },
                                {
                                    "0": "13",
                                    "1": "HyperX AMP 7.1 USB Sound Card",
                                    "2": "9",
                                    "3": "NULL",
                                    "4": "215"
                                },
                                {
                                    "0": "14",
                                    "1": "HP LaserJet Pro M15W printer",
                                    "2": "2",
                                    "3": "Downtown warehouse",
                                    "4": "101"
                                },
                                {
                                    "0": "14",
                                    "1": "HP LaserJet Pro M15W printer",
                                    "2": "7",
                                    "3": "NULL",
                                    "4": "70"
                                },
                                {
                                    "0": "14",
                                    "1": "HP LaserJet Pro M15W printer",
                                    "2": "8",
                                    "3": "NULL",
                                    "4": "163"
                                },
                                {
                                    "0": "14",
                                    "1": "HP LaserJet Pro M15W printer",
                                    "2": "9",
                                    "3": "NULL",
                                    "4": "185"
                                },
                                {
                                    "0": "15",
                                    "1": "Logitech G Pro X Mechanical TKL RGB Gaming Keyboard",
                                    "2": "2",
                                    "3": "Downtown warehouse",
                                    "4": "101"
                                },
                                {
                                    "0": "15",
                                    "1": "Logitech G Pro X Mechanical TKL RGB Gaming Keyboard",
                                    "2": "5",
                                    "3": "NULL",
                                    "4": "105"
                                },
                                {
                                    "0": "15",
                                    "1": "Logitech G Pro X Mechanical TKL RGB Gaming Keyboard",
                                    "2": "6",
                                    "3": "NULL",
                                    "4": "197"
                                },
                                {
                                    "0": "15",
                                    "1": "Logitech G Pro X Mechanical TKL RGB Gaming Keyboard",
                                    "2": "7",
                                    "3": "NULL",
                                    "4": "69"
                                },
                                {
                                    "0": "15",
                                    "1": "Logitech G Pro X Mechanical TKL RGB Gaming Keyboard",
                                    "2": "8",
                                    "3": "NULL",
                                    "4": "86"
                                },
                                {
                                    "0": "15",
                                    "1": "Logitech G Pro X Mechanical TKL RGB Gaming Keyboard",
                                    "2": "9",
                                    "3": "NULL",
                                    "4": "95"
                                },
                                {
                                    "0": "16",
                                    "1": "Canon EOS 3000D DSLR Entry-Level Camera",
                                    "2": "1",
                                    "3": "Central warehouse",
                                    "4": "97"
                                },
                                {
                                    "0": "16",
                                    "1": "Canon EOS 3000D DSLR Entry-Level Camera",
                                    "2": "2",
                                    "3": "Downtown warehouse",
                                    "4": "128"
                                },
                                {
                                    "0": "16",
                                    "1": "Canon EOS 3000D DSLR Entry-Level Camera",
                                    "2": "3",
                                    "3": "Brunswick warehouse",
                                    "4": "196"
                                },
                                {
                                    "0": "16",
                                    "1": "Canon EOS 3000D DSLR Entry-Level Camera",
                                    "2": "4",
                                    "3": "NULL",
                                    "4": "93"
                                },
                                {
                                    "0": "16",
                                    "1": "Canon EOS 3000D DSLR Entry-Level Camera",
                                    "2": "5",
                                    "3": "NULL",
                                    "4": "62"
                                },
                                {
                                    "0": "16",
                                    "1": "Canon EOS 3000D DSLR Entry-Level Camera",
                                    "2": "7",
                                    "3": "NULL",
                                    "4": "209"
                                },
                                {
                                    "0": "16",
                                    "1": "Canon EOS 3000D DSLR Entry-Level Camera",
                                    "2": "8",
                                    "3": "NULL",
                                    "4": "210"
                                },
                                {
                                    "0": "16",
                                    "1": "Canon EOS 3000D DSLR Entry-Level Camera",
                                    "2": "9",
                                    "3": "NULL",
                                    "4": "186"
                                },
                                {
                                    "0": "17",
                                    "1": "MPS Intercom system",
                                    "2": "1",
                                    "3": "Central warehouse",
                                    "4": "25"
                                },
                                {
                                    "0": "17",
                                    "1": "MPS Intercom system",
                                    "2": "4",
                                    "3": "NULL",
                                    "4": "177"
                                },
                                {
                                    "0": "17",
                                    "1": "MPS Intercom system",
                                    "2": "5",
                                    "3": "NULL",
                                    "4": "74"
                                },
                                {
                                    "0": "17",
                                    "1": "MPS Intercom system",
                                    "2": "6",
                                    "3": "NULL",
                                    "4": "18"
                                },
                                {
                                    "0": "17",
                                    "1": "MPS Intercom system",
                                    "2": "7",
                                    "3": "NULL",
                                    "4": "24"
                                },
                                {
                                    "0": "17",
                                    "1": "MPS Intercom system",
                                    "2": "8",
                                    "3": "NULL",
                                    "4": "35"
                                },
                                {
                                    "0": "17",
                                    "1": "MPS Intercom system",
                                    "2": "9",
                                    "3": "NULL",
                                    "4": "34"
                                },
                                {
                                    "0": "18",
                                    "1": "Ugreen CM129 Audio Sound Card Adapter",
                                    "2": "2",
                                    "3": "Downtown warehouse",
                                    "4": "101"
                                },
                                {
                                    "0": "18",
                                    "1": "Ugreen CM129 Audio Sound Card Adapter",
                                    "2": "5",
                                    "3": "NULL",
                                    "4": "273"
                                },
                                {
                                    "0": "18",
                                    "1": "Ugreen CM129 Audio Sound Card Adapter",
                                    "2": "6",
                                    "3": "NULL",
                                    "4": "154"
                                },
                                {
                                    "0": "18",
                                    "1": "Ugreen CM129 Audio Sound Card Adapter",
                                    "2": "7",
                                    "3": "NULL",
                                    "4": "77"
                                },
                                {
                                    "0": "18",
                                    "1": "Ugreen CM129 Audio Sound Card Adapter",
                                    "2": "8",
                                    "3": "NULL",
                                    "4": "63"
                                },
                                {
                                    "0": "18",
                                    "1": "Ugreen CM129 Audio Sound Card Adapter",
                                    "2": "9",
                                    "3": "NULL",
                                    "4": "267"
                                },
                                {
                                    "0": "19",
                                    "1": "Nikon D3500 DSLR Camera",
                                    "2": "2",
                                    "3": "Downtown warehouse",
                                    "4": "101"
                                },
                                {
                                    "0": "19",
                                    "1": "Nikon D3500 DSLR Camera",
                                    "2": "4",
                                    "3": "NULL",
                                    "4": "177"
                                },
                                {
                                    "0": "19",
                                    "1": "Nikon D3500 DSLR Camera",
                                    "2": "5",
                                    "3": "NULL",
                                    "4": "219"
                                },
                                {
                                    "0": "19",
                                    "1": "Nikon D3500 DSLR Camera",
                                    "2": "6",
                                    "3": "NULL",
                                    "4": "212"
                                },
                                {
                                    "0": "19",
                                    "1": "Nikon D3500 DSLR Camera",
                                    "2": "7",
                                    "3": "NULL",
                                    "4": "68"
                                },
                                {
                                    "0": "19",
                                    "1": "Nikon D3500 DSLR Camera",
                                    "2": "8",
                                    "3": "NULL",
                                    "4": "227"
                                },
                                {
                                    "0": "19",
                                    "1": "Nikon D3500 DSLR Camera",
                                    "2": "9",
                                    "3": "NULL",
                                    "4": "90"
                                },
                                {
                                    "0": "20",
                                    "1": "GoPro HERO 8 Black Action Camera 4K Video",
                                    "2": "2",
                                    "3": "Downtown warehouse",
                                    "4": "158"
                                },
                                {
                                    "0": "20",
                                    "1": "GoPro HERO 8 Black Action Camera 4K Video",
                                    "2": "4",
                                    "3": "NULL",
                                    "4": "246"
                                },
                                {
                                    "0": "20",
                                    "1": "GoPro HERO 8 Black Action Camera 4K Video",
                                    "2": "6",
                                    "3": "NULL",
                                    "4": "78"
                                },
                                {
                                    "0": "20",
                                    "1": "GoPro HERO 8 Black Action Camera 4K Video",
                                    "2": "7",
                                    "3": "NULL",
                                    "4": "113"
                                },
                                {
                                    "0": "20",
                                    "1": "GoPro HERO 8 Black Action Camera 4K Video",
                                    "2": "9",
                                    "3": "NULL",
                                    "4": "30"
                                },
                                {
                                    "0": "21",
                                    "1": "DJI Mavic Mini Drone",
                                    "2": "2",
                                    "3": "Downtown warehouse",
                                    "4": "117"
                                },
                                {
                                    "0": "21",
                                    "1": "DJI Mavic Mini Drone",
                                    "2": "4",
                                    "3": "NULL",
                                    "4": "74"
                                },
                                {
                                    "0": "21",
                                    "1": "DJI Mavic Mini Drone",
                                    "2": "6",
                                    "3": "NULL",
                                    "4": "110"
                                },
                                {
                                    "0": "21",
                                    "1": "DJI Mavic Mini Drone",
                                    "2": "7",
                                    "3": "NULL",
                                    "4": "37"
                                },
                                {
                                    "0": "21",
                                    "1": "DJI Mavic Mini Drone",
                                    "2": "8",
                                    "3": "NULL",
                                    "4": "179"
                                },
                                {
                                    "0": "22",
                                    "1": "HPR Workstation Intel 7",
                                    "2": "2",
                                    "3": "Downtown warehouse",
                                    "4": "215"
                                },
                                {
                                    "0": "22",
                                    "1": "HPR Workstation Intel 7",
                                    "2": "4",
                                    "3": "NULL",
                                    "4": "173"
                                },
                                {
                                    "0": "22",
                                    "1": "HPR Workstation Intel 7",
                                    "2": "6",
                                    "3": "NULL",
                                    "4": "81"
                                },
                                {
                                    "0": "22",
                                    "1": "HPR Workstation Intel 7",
                                    "2": "8",
                                    "3": "NULL",
                                    "4": "227"
                                },
                                {
                                    "0": "22",
                                    "1": "HPR Workstation Intel 7",
                                    "2": "9",
                                    "3": "NULL",
                                    "4": "271"
                                },
                                {
                                    "0": "23",
                                    "1": "PBX 32106 NUC Mini PC Desktop Kit",
                                    "2": "2",
                                    "3": "Downtown warehouse",
                                    "4": "96"
                                },
                                {
                                    "0": "23",
                                    "1": "PBX 32106 NUC Mini PC Desktop Kit",
                                    "2": "4",
                                    "3": "NULL",
                                    "4": "177"
                                },
                                {
                                    "0": "23",
                                    "1": "PBX 32106 NUC Mini PC Desktop Kit",
                                    "2": "5",
                                    "3": "NULL",
                                    "4": "74"
                                },
                                {
                                    "0": "23",
                                    "1": "PBX 32106 NUC Mini PC Desktop Kit",
                                    "2": "6",
                                    "3": "NULL",
                                    "4": "111"
                                },
                                {
                                    "0": "23",
                                    "1": "PBX 32106 NUC Mini PC Desktop Kit",
                                    "2": "8",
                                    "3": "NULL",
                                    "4": "171"
                                },
                                {
                                    "0": "24",
                                    "1": "Apple iPhone 6S - Silver",
                                    "2": "1",
                                    "3": "Central warehouse",
                                    "4": "36"
                                },
                                {
                                    "0": "24",
                                    "1": "Apple iPhone 6S - Silver",
                                    "2": "2",
                                    "3": "Downtown warehouse",
                                    "4": "38"
                                },
                                {
                                    "0": "24",
                                    "1": "Apple iPhone 6S - Silver",
                                    "2": "4",
                                    "3": "NULL",
                                    "4": "34"
                                },
                                {
                                    "0": "24",
                                    "1": "Apple iPhone 6S - Silver",
                                    "2": "5",
                                    "3": "NULL",
                                    "4": "115"
                                },
                                {
                                    "0": "24",
                                    "1": "Apple iPhone 6S - Silver",
                                    "2": "6",
                                    "3": "NULL",
                                    "4": "19"
                                },
                                {
                                    "0": "24",
                                    "1": "Apple iPhone 6S - Silver",
                                    "2": "7",
                                    "3": "NULL",
                                    "4": "29"
                                },
                                {
                                    "0": "24",
                                    "1": "Apple iPhone 6S - Silver",
                                    "2": "8",
                                    "3": "NULL",
                                    "4": "20"
                                },
                                {
                                    "0": "25",
                                    "1": "Apple iPhone SE 128GB - Black",
                                    "2": "2",
                                    "3": "Downtown warehouse",
                                    "4": "33"
                                },
                                {
                                    "0": "25",
                                    "1": "Apple iPhone SE 128GB - Black",
                                    "2": "3",
                                    "3": "Brunswick warehouse",
                                    "4": "176"
                                },
                                {
                                    "0": "25",
                                    "1": "Apple iPhone SE 128GB - Black",
                                    "2": "4",
                                    "3": "NULL",
                                    "4": "173"
                                },
                                {
                                    "0": "25",
                                    "1": "Apple iPhone SE 128GB - Black",
                                    "2": "5",
                                    "3": "NULL",
                                    "4": "210"
                                },
                                {
                                    "0": "25",
                                    "1": "Apple iPhone SE 128GB - Black",
                                    "2": "6",
                                    "3": "NULL",
                                    "4": "122"
                                },
                                {
                                    "0": "25",
                                    "1": "Apple iPhone SE 128GB - Black",
                                    "2": "7",
                                    "3": "NULL",
                                    "4": "227"
                                },
                                {
                                    "0": "25",
                                    "1": "Apple iPhone SE 128GB - Black",
                                    "2": "8",
                                    "3": "NULL",
                                    "4": "178"
                                },
                                {
                                    "0": "26",
                                    "1": "DJI Mavic 2 Pro Drone with Hasselblad Camera",
                                    "2": "2",
                                    "3": "Downtown warehouse",
                                    "4": "100"
                                },
                                {
                                    "0": "26",
                                    "1": "DJI Mavic 2 Pro Drone with Hasselblad Camera",
                                    "2": "3",
                                    "3": "Brunswick warehouse",
                                    "4": "103"
                                },
                                {
                                    "0": "26",
                                    "1": "DJI Mavic 2 Pro Drone with Hasselblad Camera",
                                    "2": "4",
                                    "3": "NULL",
                                    "4": "73"
                                },
                                {
                                    "0": "26",
                                    "1": "DJI Mavic 2 Pro Drone with Hasselblad Camera",
                                    "2": "6",
                                    "3": "NULL",
                                    "4": "122"
                                },
                                {
                                    "0": "26",
                                    "1": "DJI Mavic 2 Pro Drone with Hasselblad Camera",
                                    "2": "7",
                                    "3": "NULL",
                                    "4": "227"
                                },
                                {
                                    "0": "26",
                                    "1": "DJI Mavic 2 Pro Drone with Hasselblad Camera",
                                    "2": "8",
                                    "3": "NULL",
                                    "4": "38"
                                },
                                {
                                    "0": "26",
                                    "1": "DJI Mavic 2 Pro Drone with Hasselblad Camera",
                                    "2": "9",
                                    "3": "NULL",
                                    "4": "220"
                                },
                                {
                                    "0": "27",
                                    "1": "Canon EF 50mm f/1.8 STM Lens for Canon Digital SLR Cameras",
                                    "2": "1",
                                    "3": "Central warehouse",
                                    "4": "275"
                                },
                                {
                                    "0": "27",
                                    "1": "Canon EF 50mm f/1.8 STM Lens for Canon Digital SLR Cameras",
                                    "2": "2",
                                    "3": "Downtown warehouse",
                                    "4": "131"
                                },
                                {
                                    "0": "27",
                                    "1": "Canon EF 50mm f/1.8 STM Lens for Canon Digital SLR Cameras",
                                    "2": "4",
                                    "3": "NULL",
                                    "4": "245"
                                },
                                {
                                    "0": "27",
                                    "1": "Canon EF 50mm f/1.8 STM Lens for Canon Digital SLR Cameras",
                                    "2": "6",
                                    "3": "NULL",
                                    "4": "119"
                                },
                                {
                                    "0": "28",
                                    "1": "Canon Black CLI-8 Ink Cartridge",
                                    "2": "1",
                                    "3": "Central warehouse",
                                    "4": "76"
                                },
                                {
                                    "0": "28",
                                    "1": "Canon Black CLI-8 Ink Cartridge",
                                    "2": "2",
                                    "3": "Downtown warehouse",
                                    "4": "33"
                                },
                                {
                                    "0": "28",
                                    "1": "Canon Black CLI-8 Ink Cartridge",
                                    "2": "3",
                                    "3": "Brunswick warehouse",
                                    "4": "9"
                                },
                                {
                                    "0": "28",
                                    "1": "Canon Black CLI-8 Ink Cartridge",
                                    "2": "5",
                                    "3": "NULL",
                                    "4": "35"
                                },
                                {
                                    "0": "28",
                                    "1": "Canon Black CLI-8 Ink Cartridge",
                                    "2": "6",
                                    "3": "NULL",
                                    "4": "25"
                                },
                                {
                                    "0": "28",
                                    "1": "Canon Black CLI-8 Ink Cartridge",
                                    "2": "7",
                                    "3": "NULL",
                                    "4": "16"
                                },
                                {
                                    "0": "28",
                                    "1": "Canon Black CLI-8 Ink Cartridge",
                                    "2": "8",
                                    "3": "NULL",
                                    "4": "9"
                                },
                                {
                                    "0": "28",
                                    "1": "Canon Black CLI-8 Ink Cartridge",
                                    "2": "9",
                                    "3": "NULL",
                                    "4": "40"
                                },
                                {
                                    "0": "29",
                                    "1": "APY Intercom System",
                                    "2": "2",
                                    "3": "Downtown warehouse",
                                    "4": "42"
                                },
                                {
                                    "0": "29",
                                    "1": "APY Intercom System",
                                    "2": "4",
                                    "3": "NULL",
                                    "4": "36"
                                },
                                {
                                    "0": "29",
                                    "1": "APY Intercom System",
                                    "2": "5",
                                    "3": "NULL",
                                    "4": "181"
                                },
                                {
                                    "0": "29",
                                    "1": "APY Intercom System",
                                    "2": "6",
                                    "3": "NULL",
                                    "4": "32"
                                },
                                {
                                    "0": "29",
                                    "1": "APY Intercom System",
                                    "2": "7",
                                    "3": "NULL",
                                    "4": "223"
                                },
                                {
                                    "0": "29",
                                    "1": "APY Intercom System",
                                    "2": "8",
                                    "3": "NULL",
                                    "4": "182"
                                },
                                {
                                    "0": "29",
                                    "1": "APY Intercom System",
                                    "2": "9",
                                    "3": "NULL",
                                    "4": "32"
                                },
                                {
                                    "0": "30",
                                    "1": "Leadtek Quadro P620 Professional Workstation Graphics Card",
                                    "2": "1",
                                    "3": "Central warehouse",
                                    "4": "98"
                                },
                                {
                                    "0": "30",
                                    "1": "Leadtek Quadro P620 Professional Workstation Graphics Card",
                                    "2": "2",
                                    "3": "Downtown warehouse",
                                    "4": "102"
                                },
                                {
                                    "0": "30",
                                    "1": "Leadtek Quadro P620 Professional Workstation Graphics Card",
                                    "2": "5",
                                    "3": "NULL",
                                    "4": "304"
                                },
                                {
                                    "0": "30",
                                    "1": "Leadtek Quadro P620 Professional Workstation Graphics Card",
                                    "2": "6",
                                    "3": "NULL",
                                    "4": "78"
                                },
                                {
                                    "0": "30",
                                    "1": "Leadtek Quadro P620 Professional Workstation Graphics Card",
                                    "2": "7",
                                    "3": "NULL",
                                    "4": "226"
                                },
                                {
                                    "0": "30",
                                    "1": "Leadtek Quadro P620 Professional Workstation Graphics Card",
                                    "2": "8",
                                    "3": "NULL",
                                    "4": "235"
                                },
                                {
                                    "0": "30",
                                    "1": "Leadtek Quadro P620 Professional Workstation Graphics Card",
                                    "2": "9",
                                    "3": "NULL",
                                    "4": "100"
                                },
                                {
                                    "0": "31",
                                    "1": "Logitech Z333 2.1 Multimedia Speaker System",
                                    "2": "1",
                                    "3": "Central warehouse",
                                    "4": "194"
                                },
                                {
                                    "0": "31",
                                    "1": "Logitech Z333 2.1 Multimedia Speaker System",
                                    "2": "4",
                                    "3": "NULL",
                                    "4": "273"
                                },
                                {
                                    "0": "31",
                                    "1": "Logitech Z333 2.1 Multimedia Speaker System",
                                    "2": "5",
                                    "3": "NULL",
                                    "4": "194"
                                },
                                {
                                    "0": "31",
                                    "1": "Logitech Z333 2.1 Multimedia Speaker System",
                                    "2": "6",
                                    "3": "NULL",
                                    "4": "184"
                                },
                                {
                                    "0": "31",
                                    "1": "Logitech Z333 2.1 Multimedia Speaker System",
                                    "2": "7",
                                    "3": "NULL",
                                    "4": "225"
                                },
                                {
                                    "0": "31",
                                    "1": "Logitech Z333 2.1 Multimedia Speaker System",
                                    "2": "8",
                                    "3": "NULL",
                                    "4": "227"
                                },
                                {
                                    "0": "32",
                                    "1": "Blue Yeti Microphone",
                                    "2": "2",
                                    "3": "Downtown warehouse",
                                    "4": "95"
                                },
                                {
                                    "0": "32",
                                    "1": "Blue Yeti Microphone",
                                    "2": "4",
                                    "3": "NULL",
                                    "4": "172"
                                },
                                {
                                    "0": "32",
                                    "1": "Blue Yeti Microphone",
                                    "2": "6",
                                    "3": "NULL",
                                    "4": "68"
                                },
                                {
                                    "0": "32",
                                    "1": "Blue Yeti Microphone",
                                    "2": "7",
                                    "3": "NULL",
                                    "4": "113"
                                },
                                {
                                    "0": "32",
                                    "1": "Blue Yeti Microphone",
                                    "2": "8",
                                    "3": "NULL",
                                    "4": "183"
                                },
                                {
                                    "0": "32",
                                    "1": "Blue Yeti Microphone",
                                    "2": "9",
                                    "3": "NULL",
                                    "4": "216"
                                },
                                {
                                    "0": "33",
                                    "1": "Edifier Multimedia 2.0 system PC Speaker",
                                    "2": "3",
                                    "3": "Brunswick warehouse",
                                    "4": "178"
                                },
                                {
                                    "0": "33",
                                    "1": "Edifier Multimedia 2.0 system PC Speaker",
                                    "2": "4",
                                    "3": "NULL",
                                    "4": "107"
                                },
                                {
                                    "0": "33",
                                    "1": "Edifier Multimedia 2.0 system PC Speaker",
                                    "2": "5",
                                    "3": "NULL",
                                    "4": "193"
                                },
                                {
                                    "0": "33",
                                    "1": "Edifier Multimedia 2.0 system PC Speaker",
                                    "2": "6",
                                    "3": "NULL",
                                    "4": "67"
                                },
                                {
                                    "0": "33",
                                    "1": "Edifier Multimedia 2.0 system PC Speaker",
                                    "2": "7",
                                    "3": "NULL",
                                    "4": "71"
                                },
                                {
                                    "0": "33",
                                    "1": "Edifier Multimedia 2.0 system PC Speaker",
                                    "2": "8",
                                    "3": "NULL",
                                    "4": "63"
                                },
                                {
                                    "0": "33",
                                    "1": "Edifier Multimedia 2.0 system PC Speaker",
                                    "2": "9",
                                    "3": "NULL",
                                    "4": "89"
                                },
                                {
                                    "0": "34",
                                    "1": "Samsung Galaxy Note10 - Aura Black",
                                    "2": "1",
                                    "3": "Central warehouse",
                                    "4": "32"
                                },
                                {
                                    "0": "34",
                                    "1": "Samsung Galaxy Note10 - Aura Black",
                                    "2": "2",
                                    "3": "Downtown warehouse",
                                    "4": "118"
                                },
                                {
                                    "0": "34",
                                    "1": "Samsung Galaxy Note10 - Aura Black",
                                    "2": "4",
                                    "3": "NULL",
                                    "4": "107"
                                },
                                {
                                    "0": "34",
                                    "1": "Samsung Galaxy Note10 - Aura Black",
                                    "2": "5",
                                    "3": "NULL",
                                    "4": "77"
                                },
                                {
                                    "0": "34",
                                    "1": "Samsung Galaxy Note10 - Aura Black",
                                    "2": "6",
                                    "3": "NULL",
                                    "4": "223"
                                },
                                {
                                    "0": "34",
                                    "1": "Samsung Galaxy Note10 - Aura Black",
                                    "2": "7",
                                    "3": "NULL",
                                    "4": "30"
                                },
                                {
                                    "0": "34",
                                    "1": "Samsung Galaxy Note10 - Aura Black",
                                    "2": "8",
                                    "3": "NULL",
                                    "4": "170"
                                },
                                {
                                    "0": "34",
                                    "1": "Samsung Galaxy Note10 - Aura Black",
                                    "2": "9",
                                    "3": "NULL",
                                    "4": "219"
                                },
                                {
                                    "0": "35",
                                    "1": "PBX Smart Watch 4",
                                    "2": "2",
                                    "3": "Downtown warehouse",
                                    "4": "175"
                                },
                                {
                                    "0": "35",
                                    "1": "PBX Smart Watch 4",
                                    "2": "4",
                                    "3": "NULL",
                                    "4": "146"
                                },
                                {
                                    "0": "35",
                                    "1": "PBX Smart Watch 4",
                                    "2": "6",
                                    "3": "NULL",
                                    "4": "184"
                                },
                                {
                                    "0": "35",
                                    "1": "PBX Smart Watch 4",
                                    "2": "7",
                                    "3": "NULL",
                                    "4": "71"
                                },
                                {
                                    "0": "35",
                                    "1": "PBX Smart Watch 4",
                                    "2": "8",
                                    "3": "NULL",
                                    "4": "30"
                                },
                                {
                                    "0": "36",
                                    "1": "Leadtek Quadro P1000 Full Performance Professional Graphics Card",
                                    "2": "2",
                                    "3": "Downtown warehouse",
                                    "4": "118"
                                },
                                {
                                    "0": "36",
                                    "1": "Leadtek Quadro P1000 Full Performance Professional Graphics Card",
                                    "2": "3",
                                    "3": "Brunswick warehouse",
                                    "4": "43"
                                },
                                {
                                    "0": "36",
                                    "1": "Leadtek Quadro P1000 Full Performance Professional Graphics Card",
                                    "2": "5",
                                    "3": "NULL",
                                    "4": "84"
                                },
                                {
                                    "0": "36",
                                    "1": "Leadtek Quadro P1000 Full Performance Professional Graphics Card",
                                    "2": "6",
                                    "3": "NULL",
                                    "4": "216"
                                },
                                {
                                    "0": "36",
                                    "1": "Leadtek Quadro P1000 Full Performance Professional Graphics Card",
                                    "2": "7",
                                    "3": "NULL",
                                    "4": "226"
                                },
                                {
                                    "0": "36",
                                    "1": "Leadtek Quadro P1000 Full Performance Professional Graphics Card",
                                    "2": "8",
                                    "3": "NULL",
                                    "4": "76"
                                },
                                {
                                    "0": "36",
                                    "1": "Leadtek Quadro P1000 Full Performance Professional Graphics Card",
                                    "2": "9",
                                    "3": "NULL",
                                    "4": "95"
                                },
                                {
                                    "0": "37",
                                    "1": "Leadtek Quadro P400 Professional Workstation Graphics Card",
                                    "2": "1",
                                    "3": "Central warehouse",
                                    "4": "165"
                                },
                                {
                                    "0": "37",
                                    "1": "Leadtek Quadro P400 Professional Workstation Graphics Card",
                                    "2": "3",
                                    "3": "Brunswick warehouse",
                                    "4": "103"
                                },
                                {
                                    "0": "37",
                                    "1": "Leadtek Quadro P400 Professional Workstation Graphics Card",
                                    "2": "4",
                                    "3": "NULL",
                                    "4": "49"
                                },
                                {
                                    "0": "37",
                                    "1": "Leadtek Quadro P400 Professional Workstation Graphics Card",
                                    "2": "5",
                                    "3": "NULL",
                                    "4": "83"
                                },
                                {
                                    "0": "37",
                                    "1": "Leadtek Quadro P400 Professional Workstation Graphics Card",
                                    "2": "6",
                                    "3": "NULL",
                                    "4": "122"
                                },
                                {
                                    "0": "37",
                                    "1": "Leadtek Quadro P400 Professional Workstation Graphics Card",
                                    "2": "8",
                                    "3": "NULL",
                                    "4": "77"
                                },
                                {
                                    "0": "37",
                                    "1": "Leadtek Quadro P400 Professional Workstation Graphics Card",
                                    "2": "9",
                                    "3": "NULL",
                                    "4": "97"
                                },
                                {
                                    "0": "38",
                                    "1": "Apple Watch Series 3 - Grey",
                                    "2": "1",
                                    "3": "Central warehouse",
                                    "4": "157"
                                },
                                {
                                    "0": "38",
                                    "1": "Apple Watch Series 3 - Grey",
                                    "2": "2",
                                    "3": "Downtown warehouse",
                                    "4": "131"
                                },
                                {
                                    "0": "38",
                                    "1": "Apple Watch Series 3 - Grey",
                                    "2": "4",
                                    "3": "NULL",
                                    "4": "50"
                                },
                                {
                                    "0": "38",
                                    "1": "Apple Watch Series 3 - Grey",
                                    "2": "6",
                                    "3": "NULL",
                                    "4": "119"
                                },
                                {
                                    "0": "38",
                                    "1": "Apple Watch Series 3 - Grey",
                                    "2": "7",
                                    "3": "NULL",
                                    "4": "91"
                                },
                                {
                                    "0": "38",
                                    "1": "Apple Watch Series 3 - Grey",
                                    "2": "8",
                                    "3": "NULL",
                                    "4": "76"
                                },
                                {
                                    "0": "38",
                                    "1": "Apple Watch Series 3 - Grey",
                                    "2": "9",
                                    "3": "NULL",
                                    "4": "185"
                                },
                                {
                                    "0": "39",
                                    "1": "Spigen iPhone 11 Clear Case",
                                    "2": "1",
                                    "3": "Central warehouse",
                                    "4": "125"
                                },
                                {
                                    "0": "39",
                                    "1": "Spigen iPhone 11 Clear Case",
                                    "2": "2",
                                    "3": "Downtown warehouse",
                                    "4": "127"
                                },
                                {
                                    "0": "39",
                                    "1": "Spigen iPhone 11 Clear Case",
                                    "2": "4",
                                    "3": "NULL",
                                    "4": "98"
                                },
                                {
                                    "0": "39",
                                    "1": "Spigen iPhone 11 Clear Case",
                                    "2": "6",
                                    "3": "NULL",
                                    "4": "63"
                                },
                                {
                                    "0": "39",
                                    "1": "Spigen iPhone 11 Clear Case",
                                    "2": "9",
                                    "3": "NULL",
                                    "4": "31"
                                },
                                {
                                    "0": "40",
                                    "1": "Samsung 1TB Solid State Drive SSD",
                                    "2": "2",
                                    "3": "Downtown warehouse",
                                    "4": "73"
                                },
                                {
                                    "0": "40",
                                    "1": "Samsung 1TB Solid State Drive SSD",
                                    "2": "4",
                                    "3": "NULL",
                                    "4": "50"
                                },
                                {
                                    "0": "40",
                                    "1": "Samsung 1TB Solid State Drive SSD",
                                    "2": "5",
                                    "3": "NULL",
                                    "4": "99"
                                },
                                {
                                    "0": "40",
                                    "1": "Samsung 1TB Solid State Drive SSD",
                                    "2": "6",
                                    "3": "NULL",
                                    "4": "213"
                                },
                                {
                                    "0": "40",
                                    "1": "Samsung 1TB Solid State Drive SSD",
                                    "2": "7",
                                    "3": "NULL",
                                    "4": "214"
                                },
                                {
                                    "0": "40",
                                    "1": "Samsung 1TB Solid State Drive SSD",
                                    "2": "8",
                                    "3": "NULL",
                                    "4": "94"
                                },
                                {
                                    "0": "40",
                                    "1": "Samsung 1TB Solid State Drive SSD",
                                    "2": "9",
                                    "3": "NULL",
                                    "4": "275"
                                },
                                {
                                    "0": "41",
                                    "1": "Crucial MX500 500GB SSD",
                                    "2": "1",
                                    "3": "Central warehouse",
                                    "4": "32"
                                },
                                {
                                    "0": "41",
                                    "1": "Crucial MX500 500GB SSD",
                                    "2": "2",
                                    "3": "Downtown warehouse",
                                    "4": "102"
                                },
                                {
                                    "0": "41",
                                    "1": "Crucial MX500 500GB SSD",
                                    "2": "4",
                                    "3": "NULL",
                                    "4": "49"
                                },
                                {
                                    "0": "41",
                                    "1": "Crucial MX500 500GB SSD",
                                    "2": "5",
                                    "3": "NULL",
                                    "4": "104"
                                },
                                {
                                    "0": "41",
                                    "1": "Crucial MX500 500GB SSD",
                                    "2": "6",
                                    "3": "NULL",
                                    "4": "117"
                                },
                                {
                                    "0": "41",
                                    "1": "Crucial MX500 500GB SSD",
                                    "2": "8",
                                    "3": "NULL",
                                    "4": "163"
                                },
                                {
                                    "0": "41",
                                    "1": "Crucial MX500 500GB SSD",
                                    "2": "9",
                                    "3": "NULL",
                                    "4": "164"
                                },
                                {
                                    "0": "42",
                                    "1": "PBX Everyday Home PC 43300",
                                    "2": "3",
                                    "3": "Brunswick warehouse",
                                    "4": "35"
                                },
                                {
                                    "0": "42",
                                    "1": "PBX Everyday Home PC 43300",
                                    "2": "4",
                                    "3": "NULL",
                                    "4": "21"
                                },
                                {
                                    "0": "42",
                                    "1": "PBX Everyday Home PC 43300",
                                    "2": "5",
                                    "3": "NULL",
                                    "4": "114"
                                },
                                {
                                    "0": "42",
                                    "1": "PBX Everyday Home PC 43300",
                                    "2": "6",
                                    "3": "NULL",
                                    "4": "24"
                                },
                                {
                                    "0": "42",
                                    "1": "PBX Everyday Home PC 43300",
                                    "2": "7",
                                    "3": "NULL",
                                    "4": "21"
                                },
                                {
                                    "0": "42",
                                    "1": "PBX Everyday Home PC 43300",
                                    "2": "8",
                                    "3": "NULL",
                                    "4": "19"
                                },
                                {
                                    "0": "42",
                                    "1": "PBX Everyday Home PC 43300",
                                    "2": "9",
                                    "3": "NULL",
                                    "4": "74"
                                },
                                {
                                    "0": "43",
                                    "1": "Samsung Galaxy S20 Smart Cover",
                                    "2": "1",
                                    "3": "Central warehouse",
                                    "4": "66"
                                },
                                {
                                    "0": "43",
                                    "1": "Samsung Galaxy S20 Smart Cover",
                                    "2": "4",
                                    "3": "NULL",
                                    "4": "175"
                                },
                                {
                                    "0": "43",
                                    "1": "Samsung Galaxy S20 Smart Cover",
                                    "2": "5",
                                    "3": "NULL",
                                    "4": "78"
                                },
                                {
                                    "0": "43",
                                    "1": "Samsung Galaxy S20 Smart Cover",
                                    "2": "7",
                                    "3": "NULL",
                                    "4": "214"
                                },
                                {
                                    "0": "43",
                                    "1": "Samsung Galaxy S20 Smart Cover",
                                    "2": "8",
                                    "3": "NULL",
                                    "4": "76"
                                },
                                {
                                    "0": "43",
                                    "1": "Samsung Galaxy S20 Smart Cover",
                                    "2": "9",
                                    "3": "NULL",
                                    "4": "90"
                                },
                                {
                                    "0": "44",
                                    "1": "ASUS VG279Q 27 inch Full HD IPS Gaming Monitor",
                                    "2": "2",
                                    "3": "Downtown warehouse",
                                    "4": "170"
                                },
                                {
                                    "0": "44",
                                    "1": "ASUS VG279Q 27 inch Full HD IPS Gaming Monitor",
                                    "2": "4",
                                    "3": "NULL",
                                    "4": "176"
                                },
                                {
                                    "0": "44",
                                    "1": "ASUS VG279Q 27 inch Full HD IPS Gaming Monitor",
                                    "2": "5",
                                    "3": "NULL",
                                    "4": "118"
                                },
                                {
                                    "0": "44",
                                    "1": "ASUS VG279Q 27 inch Full HD IPS Gaming Monitor",
                                    "2": "6",
                                    "3": "NULL",
                                    "4": "227"
                                },
                                {
                                    "0": "44",
                                    "1": "ASUS VG279Q 27 inch Full HD IPS Gaming Monitor",
                                    "2": "7",
                                    "3": "NULL",
                                    "4": "226"
                                },
                                {
                                    "0": "44",
                                    "1": "ASUS VG279Q 27 inch Full HD IPS Gaming Monitor",
                                    "2": "8",
                                    "3": "NULL",
                                    "4": "172"
                                },
                                {
                                    "0": "44",
                                    "1": "ASUS VG279Q 27 inch Full HD IPS Gaming Monitor",
                                    "2": "9",
                                    "3": "NULL",
                                    "4": "75"
                                },
                                {
                                    "0": "45",
                                    "1": "Aten UC3020 CamLive HDMI to USB-C Video Capture",
                                    "2": "2",
                                    "3": "Downtown warehouse",
                                    "4": "127"
                                },
                                {
                                    "0": "45",
                                    "1": "Aten UC3020 CamLive HDMI to USB-C Video Capture",
                                    "2": "3",
                                    "3": "Brunswick warehouse",
                                    "4": "176"
                                },
                                {
                                    "0": "45",
                                    "1": "Aten UC3020 CamLive HDMI to USB-C Video Capture",
                                    "2": "4",
                                    "3": "NULL",
                                    "4": "272"
                                },
                                {
                                    "0": "45",
                                    "1": "Aten UC3020 CamLive HDMI to USB-C Video Capture",
                                    "2": "5",
                                    "3": "NULL",
                                    "4": "69"
                                },
                                {
                                    "0": "45",
                                    "1": "Aten UC3020 CamLive HDMI to USB-C Video Capture",
                                    "2": "6",
                                    "3": "NULL",
                                    "4": "62"
                                },
                                {
                                    "0": "45",
                                    "1": "Aten UC3020 CamLive HDMI to USB-C Video Capture",
                                    "2": "7",
                                    "3": "NULL",
                                    "4": "29"
                                },
                                {
                                    "0": "45",
                                    "1": "Aten UC3020 CamLive HDMI to USB-C Video Capture",
                                    "2": "8",
                                    "3": "NULL",
                                    "4": "173"
                                },
                                {
                                    "0": "45",
                                    "1": "Aten UC3020 CamLive HDMI to USB-C Video Capture",
                                    "2": "9",
                                    "3": "NULL",
                                    "4": "74"
                                },
                                {
                                    "0": "46",
                                    "1": "Cooler Master Hyper 212",
                                    "2": "2",
                                    "3": "Downtown warehouse",
                                    "4": "118"
                                },
                                {
                                    "0": "46",
                                    "1": "Cooler Master Hyper 212",
                                    "2": "4",
                                    "3": "NULL",
                                    "4": "50"
                                },
                                {
                                    "0": "46",
                                    "1": "Cooler Master Hyper 212",
                                    "2": "5",
                                    "3": "NULL",
                                    "4": "54"
                                },
                                {
                                    "0": "46",
                                    "1": "Cooler Master Hyper 212",
                                    "2": "8",
                                    "3": "NULL",
                                    "4": "180"
                                },
                                {
                                    "0": "46",
                                    "1": "Cooler Master Hyper 212",
                                    "2": "9",
                                    "3": "NULL",
                                    "4": "164"
                                },
                                {
                                    "0": "47",
                                    "1": "Canon EOS M50 Mirrorless Camera",
                                    "2": "1",
                                    "3": "Central warehouse",
                                    "4": "98"
                                },
                                {
                                    "0": "47",
                                    "1": "Canon EOS M50 Mirrorless Camera",
                                    "2": "2",
                                    "3": "Downtown warehouse",
                                    "4": "133"
                                },
                                {
                                    "0": "47",
                                    "1": "Canon EOS M50 Mirrorless Camera",
                                    "2": "3",
                                    "3": "Brunswick warehouse",
                                    "4": "136"
                                },
                                {
                                    "0": "47",
                                    "1": "Canon EOS M50 Mirrorless Camera",
                                    "2": "4",
                                    "3": "NULL",
                                    "4": "96"
                                },
                                {
                                    "0": "47",
                                    "1": "Canon EOS M50 Mirrorless Camera",
                                    "2": "5",
                                    "3": "NULL",
                                    "4": "195"
                                },
                                {
                                    "0": "47",
                                    "1": "Canon EOS M50 Mirrorless Camera",
                                    "2": "6",
                                    "3": "NULL",
                                    "4": "81"
                                },
                                {
                                    "0": "47",
                                    "1": "Canon EOS M50 Mirrorless Camera",
                                    "2": "7",
                                    "3": "NULL",
                                    "4": "225"
                                },
                                {
                                    "0": "47",
                                    "1": "Canon EOS M50 Mirrorless Camera",
                                    "2": "8",
                                    "3": "NULL",
                                    "4": "88"
                                },
                                {
                                    "0": "47",
                                    "1": "Canon EOS M50 Mirrorless Camera",
                                    "2": "9",
                                    "3": "NULL",
                                    "4": "88"
                                },
                                {
                                    "0": "48",
                                    "1": "Canon EOS 80D DSLR Camera Single Lens Kit",
                                    "2": "1",
                                    "3": "Central warehouse",
                                    "4": "165"
                                },
                                {
                                    "0": "48",
                                    "1": "Canon EOS 80D DSLR Camera Single Lens Kit",
                                    "2": "2",
                                    "3": "Downtown warehouse",
                                    "4": "79"
                                },
                                {
                                    "0": "48",
                                    "1": "Canon EOS 80D DSLR Camera Single Lens Kit",
                                    "2": "4",
                                    "3": "NULL",
                                    "4": "54"
                                },
                                {
                                    "0": "48",
                                    "1": "Canon EOS 80D DSLR Camera Single Lens Kit",
                                    "2": "5",
                                    "3": "NULL",
                                    "4": "114"
                                },
                                {
                                    "0": "48",
                                    "1": "Canon EOS 80D DSLR Camera Single Lens Kit",
                                    "2": "6",
                                    "3": "NULL",
                                    "4": "63"
                                },
                                {
                                    "0": "48",
                                    "1": "Canon EOS 80D DSLR Camera Single Lens Kit",
                                    "2": "7",
                                    "3": "NULL",
                                    "4": "74"
                                },
                                {
                                    "0": "48",
                                    "1": "Canon EOS 80D DSLR Camera Single Lens Kit",
                                    "2": "8",
                                    "3": "NULL",
                                    "4": "178"
                                },
                                {
                                    "0": "48",
                                    "1": "Canon EOS 80D DSLR Camera Single Lens Kit",
                                    "2": "9",
                                    "3": "NULL",
                                    "4": "39"
                                },
                                {
                                    "0": "49",
                                    "1": "GoPro HERO 7 Silver Action Camera 4K Video",
                                    "2": "1",
                                    "3": "Central warehouse",
                                    "4": "101"
                                },
                                {
                                    "0": "49",
                                    "1": "GoPro HERO 7 Silver Action Camera 4K Video",
                                    "2": "2",
                                    "3": "Downtown warehouse",
                                    "4": "81"
                                },
                                {
                                    "0": "49",
                                    "1": "GoPro HERO 7 Silver Action Camera 4K Video",
                                    "2": "3",
                                    "3": "Brunswick warehouse",
                                    "4": "197"
                                },
                                {
                                    "0": "49",
                                    "1": "GoPro HERO 7 Silver Action Camera 4K Video",
                                    "2": "4",
                                    "3": "NULL",
                                    "4": "48"
                                },
                                {
                                    "0": "49",
                                    "1": "GoPro HERO 7 Silver Action Camera 4K Video",
                                    "2": "5",
                                    "3": "NULL",
                                    "4": "304"
                                },
                                {
                                    "0": "49",
                                    "1": "GoPro HERO 7 Silver Action Camera 4K Video",
                                    "2": "6",
                                    "3": "NULL",
                                    "4": "220"
                                },
                                {
                                    "0": "49",
                                    "1": "GoPro HERO 7 Silver Action Camera 4K Video",
                                    "2": "7",
                                    "3": "NULL",
                                    "4": "30"
                                },
                                {
                                    "0": "49",
                                    "1": "GoPro HERO 7 Silver Action Camera 4K Video",
                                    "2": "8",
                                    "3": "NULL",
                                    "4": "210"
                                },
                                {
                                    "0": "49",
                                    "1": "GoPro HERO 7 Silver Action Camera 4K Video",
                                    "2": "9",
                                    "3": "NULL",
                                    "4": "185"
                                },
                                {
                                    "0": "50",
                                    "1": "Comet Drone with Camera",
                                    "2": "3",
                                    "3": "Brunswick warehouse",
                                    "4": "103"
                                },
                                {
                                    "0": "50",
                                    "1": "Comet Drone with Camera",
                                    "2": "4",
                                    "3": "NULL",
                                    "4": "251"
                                },
                                {
                                    "0": "50",
                                    "1": "Comet Drone with Camera",
                                    "2": "5",
                                    "3": "NULL",
                                    "4": "54"
                                },
                                {
                                    "0": "50",
                                    "1": "Comet Drone with Camera",
                                    "2": "6",
                                    "3": "NULL",
                                    "4": "213"
                                },
                                {
                                    "0": "50",
                                    "1": "Comet Drone with Camera",
                                    "2": "7",
                                    "3": "NULL",
                                    "4": "227"
                                },
                                {
                                    "0": "50",
                                    "1": "Comet Drone with Camera",
                                    "2": "8",
                                    "3": "NULL",
                                    "4": "169"
                                },
                                {
                                    "0": "50",
                                    "1": "Comet Drone with Camera",
                                    "2": "9",
                                    "3": "NULL",
                                    "4": "73"
                                },
                                {
                                    "0": "51",
                                    "1": "HP Ink Cartridge 65XL Black",
                                    "2": "2",
                                    "3": "Downtown warehouse",
                                    "4": "96"
                                },
                                {
                                    "0": "51",
                                    "1": "HP Ink Cartridge 65XL Black",
                                    "2": "3",
                                    "3": "Brunswick warehouse",
                                    "4": "176"
                                },
                                {
                                    "0": "51",
                                    "1": "HP Ink Cartridge 65XL Black",
                                    "2": "4",
                                    "3": "NULL",
                                    "4": "222"
                                },
                                {
                                    "0": "51",
                                    "1": "HP Ink Cartridge 65XL Black",
                                    "2": "5",
                                    "3": "NULL",
                                    "4": "114"
                                },
                                {
                                    "0": "51",
                                    "1": "HP Ink Cartridge 65XL Black",
                                    "2": "6",
                                    "3": "NULL",
                                    "4": "216"
                                },
                                {
                                    "0": "51",
                                    "1": "HP Ink Cartridge 65XL Black",
                                    "2": "8",
                                    "3": "NULL",
                                    "4": "88"
                                },
                                {
                                    "0": "51",
                                    "1": "HP Ink Cartridge 65XL Black",
                                    "2": "9",
                                    "3": "NULL",
                                    "4": "184"
                                },
                                {
                                    "0": "52",
                                    "1": "ASUS W203MA Laptop",
                                    "2": "2",
                                    "3": "Downtown warehouse",
                                    "4": "81"
                                },
                                {
                                    "0": "52",
                                    "1": "ASUS W203MA Laptop",
                                    "2": "3",
                                    "3": "Brunswick warehouse",
                                    "4": "136"
                                },
                                {
                                    "0": "52",
                                    "1": "ASUS W203MA Laptop",
                                    "2": "5",
                                    "3": "NULL",
                                    "4": "181"
                                },
                                {
                                    "0": "52",
                                    "1": "ASUS W203MA Laptop",
                                    "2": "7",
                                    "3": "NULL",
                                    "4": "119"
                                },
                                {
                                    "0": "52",
                                    "1": "ASUS W203MA Laptop",
                                    "2": "8",
                                    "3": "NULL",
                                    "4": "227"
                                },
                                {
                                    "0": "52",
                                    "1": "ASUS W203MA Laptop",
                                    "2": "9",
                                    "3": "NULL",
                                    "4": "89"
                                },
                                {
                                    "0": "53",
                                    "1": "AB Security cam",
                                    "2": "2",
                                    "3": "Downtown warehouse",
                                    "4": "30"
                                },
                                {
                                    "0": "53",
                                    "1": "AB Security cam",
                                    "2": "3",
                                    "3": "Brunswick warehouse",
                                    "4": "41"
                                },
                                {
                                    "0": "53",
                                    "1": "AB Security cam",
                                    "2": "4",
                                    "3": "NULL",
                                    "4": "40"
                                },
                                {
                                    "0": "53",
                                    "1": "AB Security cam",
                                    "2": "5",
                                    "3": "NULL",
                                    "4": "29"
                                },
                                {
                                    "0": "53",
                                    "1": "AB Security cam",
                                    "2": "6",
                                    "3": "NULL",
                                    "4": "23"
                                },
                                {
                                    "0": "53",
                                    "1": "AB Security cam",
                                    "2": "7",
                                    "3": "NULL",
                                    "4": "22"
                                },
                                {
                                    "0": "53",
                                    "1": "AB Security cam",
                                    "2": "8",
                                    "3": "NULL",
                                    "4": "54"
                                },
                                {
                                    "0": "53",
                                    "1": "AB Security cam",
                                    "2": "9",
                                    "3": "NULL",
                                    "4": "34"
                                },
                                {
                                    "0": "54",
                                    "1": "Panasonic VL-SWD272 Wireless Video Intercom System",
                                    "2": "2",
                                    "3": "Downtown warehouse",
                                    "4": "133"
                                },
                                {
                                    "0": "54",
                                    "1": "Panasonic VL-SWD272 Wireless Video Intercom System",
                                    "2": "4",
                                    "3": "NULL",
                                    "4": "98"
                                },
                                {
                                    "0": "54",
                                    "1": "Panasonic VL-SWD272 Wireless Video Intercom System",
                                    "2": "5",
                                    "3": "NULL",
                                    "4": "115"
                                },
                                {
                                    "0": "54",
                                    "1": "Panasonic VL-SWD272 Wireless Video Intercom System",
                                    "2": "6",
                                    "3": "NULL",
                                    "4": "189"
                                },
                                {
                                    "0": "54",
                                    "1": "Panasonic VL-SWD272 Wireless Video Intercom System",
                                    "2": "7",
                                    "3": "NULL",
                                    "4": "69"
                                },
                                {
                                    "0": "54",
                                    "1": "Panasonic VL-SWD272 Wireless Video Intercom System",
                                    "2": "8",
                                    "3": "NULL",
                                    "4": "85"
                                },
                                {
                                    "0": "54",
                                    "1": "Panasonic VL-SWD272 Wireless Video Intercom System",
                                    "2": "9",
                                    "3": "NULL",
                                    "4": "31"
                                },
                                {
                                    "0": "55",
                                    "1": "RING Smart Video Wi-Fi Doorbell 3",
                                    "2": "1",
                                    "3": "Central warehouse",
                                    "4": "157"
                                },
                                {
                                    "0": "55",
                                    "1": "RING Smart Video Wi-Fi Doorbell 3",
                                    "2": "2",
                                    "3": "Downtown warehouse",
                                    "4": "175"
                                },
                                {
                                    "0": "55",
                                    "1": "RING Smart Video Wi-Fi Doorbell 3",
                                    "2": "4",
                                    "3": "NULL",
                                    "4": "104"
                                },
                                {
                                    "0": "55",
                                    "1": "RING Smart Video Wi-Fi Doorbell 3",
                                    "2": "6",
                                    "3": "NULL",
                                    "4": "119"
                                },
                                {
                                    "0": "55",
                                    "1": "RING Smart Video Wi-Fi Doorbell 3",
                                    "2": "7",
                                    "3": "NULL",
                                    "4": "30"
                                },
                                {
                                    "0": "55",
                                    "1": "RING Smart Video Wi-Fi Doorbell 3",
                                    "2": "8",
                                    "3": "NULL",
                                    "4": "184"
                                },
                                {
                                    "0": "55",
                                    "1": "RING Smart Video Wi-Fi Doorbell 3",
                                    "2": "9",
                                    "3": "NULL",
                                    "4": "267"
                                },
                                {
                                    "0": "56",
                                    "1": "Microsoft Surface Laptop 3",
                                    "2": "2",
                                    "3": "Downtown warehouse",
                                    "4": "42"
                                },
                                {
                                    "0": "56",
                                    "1": "Microsoft Surface Laptop 3",
                                    "2": "3",
                                    "3": "Brunswick warehouse",
                                    "4": "171"
                                },
                                {
                                    "0": "56",
                                    "1": "Microsoft Surface Laptop 3",
                                    "2": "4",
                                    "3": "NULL",
                                    "4": "74"
                                },
                                {
                                    "0": "56",
                                    "1": "Microsoft Surface Laptop 3",
                                    "2": "6",
                                    "3": "NULL",
                                    "4": "196"
                                },
                                {
                                    "0": "56",
                                    "1": "Microsoft Surface Laptop 3",
                                    "2": "8",
                                    "3": "NULL",
                                    "4": "94"
                                },
                                {
                                    "0": "56",
                                    "1": "Microsoft Surface Laptop 3",
                                    "2": "9",
                                    "3": "NULL",
                                    "4": "88"
                                },
                                {
                                    "0": "57",
                                    "1": "Acer Nitro 7 Gaming Laptop",
                                    "2": "2",
                                    "3": "Downtown warehouse",
                                    "4": "125"
                                },
                                {
                                    "0": "57",
                                    "1": "Acer Nitro 7 Gaming Laptop",
                                    "2": "4",
                                    "3": "NULL",
                                    "4": "174"
                                },
                                {
                                    "0": "57",
                                    "1": "Acer Nitro 7 Gaming Laptop",
                                    "2": "6",
                                    "3": "NULL",
                                    "4": "213"
                                },
                                {
                                    "0": "57",
                                    "1": "Acer Nitro 7 Gaming Laptop",
                                    "2": "8",
                                    "3": "NULL",
                                    "4": "179"
                                },
                                {
                                    "0": "57",
                                    "1": "Acer Nitro 7 Gaming Laptop",
                                    "2": "9",
                                    "3": "NULL",
                                    "4": "266"
                                },
                                {
                                    "0": "58",
                                    "1": "Cooler Master MasterFan",
                                    "2": "2",
                                    "3": "Downtown warehouse",
                                    "4": "97"
                                },
                                {
                                    "0": "58",
                                    "1": "Cooler Master MasterFan",
                                    "2": "5",
                                    "3": "NULL",
                                    "4": "92"
                                },
                                {
                                    "0": "58",
                                    "1": "Cooler Master MasterFan",
                                    "2": "6",
                                    "3": "NULL",
                                    "4": "155"
                                },
                                {
                                    "0": "58",
                                    "1": "Cooler Master MasterFan",
                                    "2": "8",
                                    "3": "NULL",
                                    "4": "234"
                                },
                                {
                                    "0": "58",
                                    "1": "Cooler Master MasterFan",
                                    "2": "9",
                                    "3": "NULL",
                                    "4": "86"
                                },
                                {
                                    "0": "59",
                                    "1": "Samsung 50TU8000 50 inch 4K Smart TV",
                                    "2": "2",
                                    "3": "Downtown warehouse",
                                    "4": "276"
                                },
                                {
                                    "0": "59",
                                    "1": "Samsung 50TU8000 50 inch 4K Smart TV",
                                    "2": "5",
                                    "3": "NULL",
                                    "4": "134"
                                },
                                {
                                    "0": "59",
                                    "1": "Samsung 50TU8000 50 inch 4K Smart TV",
                                    "2": "6",
                                    "3": "NULL",
                                    "4": "199"
                                },
                                {
                                    "0": "59",
                                    "1": "Samsung 50TU8000 50 inch 4K Smart TV",
                                    "2": "7",
                                    "3": "NULL",
                                    "4": "74"
                                },
                                {
                                    "0": "59",
                                    "1": "Samsung 50TU8000 50 inch 4K Smart TV",
                                    "2": "8",
                                    "3": "NULL",
                                    "4": "76"
                                },
                                {
                                    "0": "59",
                                    "1": "Samsung 50TU8000 50 inch 4K Smart TV",
                                    "2": "9",
                                    "3": "NULL",
                                    "4": "272"
                                },
                                {
                                    "0": "60",
                                    "1": "Konic 55 inch 4K Ultra HD LED TV",
                                    "2": "2",
                                    "3": "Downtown warehouse",
                                    "4": "118"
                                },
                                {
                                    "0": "60",
                                    "1": "Konic 55 inch 4K Ultra HD LED TV",
                                    "2": "3",
                                    "3": "Brunswick warehouse",
                                    "4": "46"
                                },
                                {
                                    "0": "60",
                                    "1": "Konic 55 inch 4K Ultra HD LED TV",
                                    "2": "4",
                                    "3": "NULL",
                                    "4": "246"
                                },
                                {
                                    "0": "60",
                                    "1": "Konic 55 inch 4K Ultra HD LED TV",
                                    "2": "5",
                                    "3": "NULL",
                                    "4": "101"
                                },
                                {
                                    "0": "60",
                                    "1": "Konic 55 inch 4K Ultra HD LED TV",
                                    "2": "6",
                                    "3": "NULL",
                                    "4": "193"
                                },
                                {
                                    "0": "61",
                                    "1": "Apple Magic Keyboard",
                                    "2": "1",
                                    "3": "Central warehouse",
                                    "4": "157"
                                },
                                {
                                    "0": "61",
                                    "1": "Apple Magic Keyboard",
                                    "2": "2",
                                    "3": "Downtown warehouse",
                                    "4": "71"
                                },
                                {
                                    "0": "61",
                                    "1": "Apple Magic Keyboard",
                                    "2": "5",
                                    "3": "NULL",
                                    "4": "177"
                                },
                                {
                                    "0": "61",
                                    "1": "Apple Magic Keyboard",
                                    "2": "6",
                                    "3": "NULL",
                                    "4": "119"
                                },
                                {
                                    "0": "61",
                                    "1": "Apple Magic Keyboard",
                                    "2": "7",
                                    "3": "NULL",
                                    "4": "185"
                                },
                                {
                                    "0": "61",
                                    "1": "Apple Magic Keyboard",
                                    "2": "8",
                                    "3": "NULL",
                                    "4": "183"
                                },
                                {
                                    "0": "61",
                                    "1": "Apple Magic Keyboard",
                                    "2": "9",
                                    "3": "NULL",
                                    "4": "219"
                                },
                                {
                                    "0": "62",
                                    "1": "Viper-X Drone with VR Headset",
                                    "2": "3",
                                    "3": "Brunswick warehouse",
                                    "4": "103"
                                },
                                {
                                    "0": "62",
                                    "1": "Viper-X Drone with VR Headset",
                                    "2": "4",
                                    "3": "NULL",
                                    "4": "197"
                                },
                                {
                                    "0": "62",
                                    "1": "Viper-X Drone with VR Headset",
                                    "2": "5",
                                    "3": "NULL",
                                    "4": "237"
                                },
                                {
                                    "0": "62",
                                    "1": "Viper-X Drone with VR Headset",
                                    "2": "6",
                                    "3": "NULL",
                                    "4": "185"
                                },
                                {
                                    "0": "62",
                                    "1": "Viper-X Drone with VR Headset",
                                    "2": "7",
                                    "3": "NULL",
                                    "4": "62"
                                },
                                {
                                    "0": "62",
                                    "1": "Viper-X Drone with VR Headset",
                                    "2": "8",
                                    "3": "NULL",
                                    "4": "39"
                                },
                                {
                                    "0": "62",
                                    "1": "Viper-X Drone with VR Headset",
                                    "2": "9",
                                    "3": "NULL",
                                    "4": "164"
                                },
                                {
                                    "0": "63",
                                    "1": "Samsung C49HG90 49 inch QLED Monitor",
                                    "2": "2",
                                    "3": "Downtown warehouse",
                                    "4": "96"
                                },
                                {
                                    "0": "63",
                                    "1": "Samsung C49HG90 49 inch QLED Monitor",
                                    "2": "4",
                                    "3": "NULL",
                                    "4": "35"
                                },
                                {
                                    "0": "63",
                                    "1": "Samsung C49HG90 49 inch QLED Monitor",
                                    "2": "5",
                                    "3": "NULL",
                                    "4": "177"
                                },
                                {
                                    "0": "63",
                                    "1": "Samsung C49HG90 49 inch QLED Monitor",
                                    "2": "6",
                                    "3": "NULL",
                                    "4": "64"
                                },
                                {
                                    "0": "63",
                                    "1": "Samsung C49HG90 49 inch QLED Monitor",
                                    "2": "7",
                                    "3": "NULL",
                                    "4": "58"
                                },
                                {
                                    "0": "63",
                                    "1": "Samsung C49HG90 49 inch QLED Monitor",
                                    "2": "8",
                                    "3": "NULL",
                                    "4": "163"
                                },
                                {
                                    "0": "63",
                                    "1": "Samsung C49HG90 49 inch QLED Monitor",
                                    "2": "9",
                                    "3": "NULL",
                                    "4": "191"
                                },
                                {
                                    "0": "64",
                                    "1": "Microsoft Surface Pro 7 Tablet",
                                    "2": "1",
                                    "3": "Central warehouse",
                                    "4": "106"
                                },
                                {
                                    "0": "64",
                                    "1": "Microsoft Surface Pro 7 Tablet",
                                    "2": "2",
                                    "3": "Downtown warehouse",
                                    "4": "89"
                                },
                                {
                                    "0": "64",
                                    "1": "Microsoft Surface Pro 7 Tablet",
                                    "2": "3",
                                    "3": "Brunswick warehouse",
                                    "4": "102"
                                },
                                {
                                    "0": "64",
                                    "1": "Microsoft Surface Pro 7 Tablet",
                                    "2": "4",
                                    "3": "NULL",
                                    "4": "177"
                                },
                                {
                                    "0": "64",
                                    "1": "Microsoft Surface Pro 7 Tablet",
                                    "2": "5",
                                    "3": "NULL",
                                    "4": "107"
                                },
                                {
                                    "0": "64",
                                    "1": "Microsoft Surface Pro 7 Tablet",
                                    "2": "6",
                                    "3": "NULL",
                                    "4": "122"
                                },
                                {
                                    "0": "64",
                                    "1": "Microsoft Surface Pro 7 Tablet",
                                    "2": "7",
                                    "3": "NULL",
                                    "4": "214"
                                },
                                {
                                    "0": "64",
                                    "1": "Microsoft Surface Pro 7 Tablet",
                                    "2": "8",
                                    "3": "NULL",
                                    "4": "182"
                                },
                                {
                                    "0": "64",
                                    "1": "Microsoft Surface Pro 7 Tablet",
                                    "2": "9",
                                    "3": "NULL",
                                    "4": "88"
                                },
                                {
                                    "0": "65",
                                    "1": "Evoluent VM4R Wired Vertical Mouse 4 right-handed",
                                    "2": "1",
                                    "3": "Central warehouse",
                                    "4": "93"
                                },
                                {
                                    "0": "65",
                                    "1": "Evoluent VM4R Wired Vertical Mouse 4 right-handed",
                                    "2": "2",
                                    "3": "Downtown warehouse",
                                    "4": "282"
                                },
                                {
                                    "0": "65",
                                    "1": "Evoluent VM4R Wired Vertical Mouse 4 right-handed",
                                    "2": "5",
                                    "3": "NULL",
                                    "4": "237"
                                },
                                {
                                    "0": "65",
                                    "1": "Evoluent VM4R Wired Vertical Mouse 4 right-handed",
                                    "2": "6",
                                    "3": "NULL",
                                    "4": "122"
                                },
                                {
                                    "0": "65",
                                    "1": "Evoluent VM4R Wired Vertical Mouse 4 right-handed",
                                    "2": "7",
                                    "3": "NULL",
                                    "4": "228"
                                },
                                {
                                    "0": "65",
                                    "1": "Evoluent VM4R Wired Vertical Mouse 4 right-handed",
                                    "2": "8",
                                    "3": "NULL",
                                    "4": "181"
                                },
                                {
                                    "0": "65",
                                    "1": "Evoluent VM4R Wired Vertical Mouse 4 right-handed",
                                    "2": "9",
                                    "3": "NULL",
                                    "4": "84"
                                },
                                {
                                    "0": "66",
                                    "1": "Adesso iMouse E1",
                                    "2": "2",
                                    "3": "Downtown warehouse",
                                    "4": "135"
                                },
                                {
                                    "0": "66",
                                    "1": "Adesso iMouse E1",
                                    "2": "3",
                                    "3": "Brunswick warehouse",
                                    "4": "42"
                                },
                                {
                                    "0": "66",
                                    "1": "Adesso iMouse E1",
                                    "2": "4",
                                    "3": "NULL",
                                    "4": "174"
                                },
                                {
                                    "0": "66",
                                    "1": "Adesso iMouse E1",
                                    "2": "5",
                                    "3": "NULL",
                                    "4": "117"
                                },
                                {
                                    "0": "66",
                                    "1": "Adesso iMouse E1",
                                    "2": "6",
                                    "3": "NULL",
                                    "4": "198"
                                },
                                {
                                    "0": "66",
                                    "1": "Adesso iMouse E1",
                                    "2": "7",
                                    "3": "NULL",
                                    "4": "208"
                                },
                                {
                                    "0": "66",
                                    "1": "Adesso iMouse E1",
                                    "2": "9",
                                    "3": "NULL",
                                    "4": "86"
                                },
                                {
                                    "0": "67",
                                    "1": "Spigen Galaxy Note 10 tough armor case",
                                    "2": "1",
                                    "3": "Central warehouse",
                                    "4": "94"
                                },
                                {
                                    "0": "67",
                                    "1": "Spigen Galaxy Note 10 tough armor case",
                                    "2": "2",
                                    "3": "Downtown warehouse",
                                    "4": "46"
                                },
                                {
                                    "0": "67",
                                    "1": "Spigen Galaxy Note 10 tough armor case",
                                    "2": "4",
                                    "3": "NULL",
                                    "4": "197"
                                },
                                {
                                    "0": "67",
                                    "1": "Spigen Galaxy Note 10 tough armor case",
                                    "2": "5",
                                    "3": "NULL",
                                    "4": "107"
                                },
                                {
                                    "0": "67",
                                    "1": "Spigen Galaxy Note 10 tough armor case",
                                    "2": "7",
                                    "3": "NULL",
                                    "4": "223"
                                },
                                {
                                    "0": "67",
                                    "1": "Spigen Galaxy Note 10 tough armor case",
                                    "2": "8",
                                    "3": "NULL",
                                    "4": "87"
                                },
                                {
                                    "0": "67",
                                    "1": "Spigen Galaxy Note 10 tough armor case",
                                    "2": "9",
                                    "3": "NULL",
                                    "4": "232"
                                },
                                {
                                    "0": "68",
                                    "1": "Andromeda Drone with Camera",
                                    "2": "2",
                                    "3": "Downtown warehouse",
                                    "4": "94"
                                },
                                {
                                    "0": "68",
                                    "1": "Andromeda Drone with Camera",
                                    "2": "3",
                                    "3": "Brunswick warehouse",
                                    "4": "175"
                                },
                                {
                                    "0": "68",
                                    "1": "Andromeda Drone with Camera",
                                    "2": "4",
                                    "3": "NULL",
                                    "4": "97"
                                },
                                {
                                    "0": "68",
                                    "1": "Andromeda Drone with Camera",
                                    "2": "5",
                                    "3": "NULL",
                                    "4": "176"
                                },
                                {
                                    "0": "68",
                                    "1": "Andromeda Drone with Camera",
                                    "2": "6",
                                    "3": "NULL",
                                    "4": "149"
                                },
                                {
                                    "0": "68",
                                    "1": "Andromeda Drone with Camera",
                                    "2": "7",
                                    "3": "NULL",
                                    "4": "224"
                                },
                                {
                                    "0": "68",
                                    "1": "Andromeda Drone with Camera",
                                    "2": "8",
                                    "3": "NULL",
                                    "4": "76"
                                },
                                {
                                    "0": "68",
                                    "1": "Andromeda Drone with Camera",
                                    "2": "9",
                                    "3": "NULL",
                                    "4": "89"
                                },
                                {
                                    "0": "69",
                                    "1": "PowerBeats Pro True Wireless Sports Earphones",
                                    "2": "2",
                                    "3": "Downtown warehouse",
                                    "4": "138"
                                },
                                {
                                    "0": "69",
                                    "1": "PowerBeats Pro True Wireless Sports Earphones",
                                    "2": "4",
                                    "3": "NULL",
                                    "4": "103"
                                },
                                {
                                    "0": "69",
                                    "1": "PowerBeats Pro True Wireless Sports Earphones",
                                    "2": "5",
                                    "3": "NULL",
                                    "4": "211"
                                },
                                {
                                    "0": "69",
                                    "1": "PowerBeats Pro True Wireless Sports Earphones",
                                    "2": "6",
                                    "3": "NULL",
                                    "4": "155"
                                },
                                {
                                    "0": "69",
                                    "1": "PowerBeats Pro True Wireless Sports Earphones",
                                    "2": "7",
                                    "3": "NULL",
                                    "4": "113"
                                },
                                {
                                    "0": "69",
                                    "1": "PowerBeats Pro True Wireless Sports Earphones",
                                    "2": "8",
                                    "3": "NULL",
                                    "4": "81"
                                },
                                {
                                    "0": "69",
                                    "1": "PowerBeats Pro True Wireless Sports Earphones",
                                    "2": "9",
                                    "3": "NULL",
                                    "4": "97"
                                },
                                {
                                    "0": "70",
                                    "1": "PBX 2000mAh Power Bank 3 - Black",
                                    "2": "1",
                                    "3": "Central warehouse",
                                    "4": "108"
                                },
                                {
                                    "0": "70",
                                    "1": "PBX 2000mAh Power Bank 3 - Black",
                                    "2": "2",
                                    "3": "Downtown warehouse",
                                    "4": "131"
                                },
                                {
                                    "0": "70",
                                    "1": "PBX 2000mAh Power Bank 3 - Black",
                                    "2": "3",
                                    "3": "Brunswick warehouse",
                                    "4": "209"
                                },
                                {
                                    "0": "70",
                                    "1": "PBX 2000mAh Power Bank 3 - Black",
                                    "2": "4",
                                    "3": "NULL",
                                    "4": "185"
                                },
                                {
                                    "0": "70",
                                    "1": "PBX 2000mAh Power Bank 3 - Black",
                                    "2": "5",
                                    "3": "NULL",
                                    "4": "177"
                                },
                                {
                                    "0": "70",
                                    "1": "PBX 2000mAh Power Bank 3 - Black",
                                    "2": "6",
                                    "3": "NULL",
                                    "4": "154"
                                },
                                {
                                    "0": "70",
                                    "1": "PBX 2000mAh Power Bank 3 - Black",
                                    "2": "7",
                                    "3": "NULL",
                                    "4": "167"
                                },
                                {
                                    "0": "70",
                                    "1": "PBX 2000mAh Power Bank 3 - Black",
                                    "2": "8",
                                    "3": "NULL",
                                    "4": "39"
                                },
                                {
                                    "0": "70",
                                    "1": "PBX 2000mAh Power Bank 3 - Black",
                                    "2": "9",
                                    "3": "NULL",
                                    "4": "89"
                                },
                                {
                                    "0": "71",
                                    "1": "Apple AirPods Pro Noise Cancelling True Wireless Headphones",
                                    "2": "2",
                                    "3": "Downtown warehouse",
                                    "4": "170"
                                },
                                {
                                    "0": "71",
                                    "1": "Apple AirPods Pro Noise Cancelling True Wireless Headphones",
                                    "2": "3",
                                    "3": "Brunswick warehouse",
                                    "4": "172"
                                },
                                {
                                    "0": "71",
                                    "1": "Apple AirPods Pro Noise Cancelling True Wireless Headphones",
                                    "2": "4",
                                    "3": "NULL",
                                    "4": "146"
                                },
                                {
                                    "0": "71",
                                    "1": "Apple AirPods Pro Noise Cancelling True Wireless Headphones",
                                    "2": "5",
                                    "3": "NULL",
                                    "4": "100"
                                },
                                {
                                    "0": "71",
                                    "1": "Apple AirPods Pro Noise Cancelling True Wireless Headphones",
                                    "2": "6",
                                    "3": "NULL",
                                    "4": "149"
                                },
                                {
                                    "0": "71",
                                    "1": "Apple AirPods Pro Noise Cancelling True Wireless Headphones",
                                    "2": "7",
                                    "3": "NULL",
                                    "4": "167"
                                },
                                {
                                    "0": "71",
                                    "1": "Apple AirPods Pro Noise Cancelling True Wireless Headphones",
                                    "2": "8",
                                    "3": "NULL",
                                    "4": "74"
                                },
                                {
                                    "0": "71",
                                    "1": "Apple AirPods Pro Noise Cancelling True Wireless Headphones",
                                    "2": "9",
                                    "3": "NULL",
                                    "4": "244"
                                },
                                {
                                    "0": "72",
                                    "1": "Sennheiser HD 4.30i Over-Ear Headphones",
                                    "2": "2",
                                    "3": "Downtown warehouse",
                                    "4": "175"
                                },
                                {
                                    "0": "72",
                                    "1": "Sennheiser HD 4.30i Over-Ear Headphones",
                                    "2": "6",
                                    "3": "NULL",
                                    "4": "213"
                                },
                                {
                                    "0": "72",
                                    "1": "Sennheiser HD 4.30i Over-Ear Headphones",
                                    "2": "8",
                                    "3": "NULL",
                                    "4": "88"
                                },
                                {
                                    "0": "72",
                                    "1": "Sennheiser HD 4.30i Over-Ear Headphones",
                                    "2": "9",
                                    "3": "NULL",
                                    "4": "185"
                                },
                                {
                                    "0": "73",
                                    "1": "Corsair LL Series LL120 Fan",
                                    "2": "2",
                                    "3": "Downtown warehouse",
                                    "4": "100"
                                },
                                {
                                    "0": "73",
                                    "1": "Corsair LL Series LL120 Fan",
                                    "2": "4",
                                    "3": "NULL",
                                    "4": "96"
                                },
                                {
                                    "0": "73",
                                    "1": "Corsair LL Series LL120 Fan",
                                    "2": "5",
                                    "3": "NULL",
                                    "4": "273"
                                },
                                {
                                    "0": "73",
                                    "1": "Corsair LL Series LL120 Fan",
                                    "2": "6",
                                    "3": "NULL",
                                    "4": "68"
                                },
                                {
                                    "0": "73",
                                    "1": "Corsair LL Series LL120 Fan",
                                    "2": "8",
                                    "3": "NULL",
                                    "4": "163"
                                },
                                {
                                    "0": "73",
                                    "1": "Corsair LL Series LL120 Fan",
                                    "2": "9",
                                    "3": "NULL",
                                    "4": "164"
                                },
                                {
                                    "0": "74",
                                    "1": "Canon Ink Cartridge PG645",
                                    "2": "1",
                                    "3": "Central warehouse",
                                    "4": "108"
                                },
                                {
                                    "0": "74",
                                    "1": "Canon Ink Cartridge PG645",
                                    "2": "2",
                                    "3": "Downtown warehouse",
                                    "4": "173"
                                },
                                {
                                    "0": "74",
                                    "1": "Canon Ink Cartridge PG645",
                                    "2": "4",
                                    "3": "NULL",
                                    "4": "96"
                                },
                                {
                                    "0": "74",
                                    "1": "Canon Ink Cartridge PG645",
                                    "2": "6",
                                    "3": "NULL",
                                    "4": "111"
                                },
                                {
                                    "0": "74",
                                    "1": "Canon Ink Cartridge PG645",
                                    "2": "7",
                                    "3": "NULL",
                                    "4": "184"
                                },
                                {
                                    "0": "74",
                                    "1": "Canon Ink Cartridge PG645",
                                    "2": "9",
                                    "3": "NULL",
                                    "4": "89"
                                },
                                {
                                    "0": "75",
                                    "1": "Roidmi S3 Bluetooth Music Car Charger",
                                    "2": "2",
                                    "3": "Downtown warehouse",
                                    "4": "158"
                                },
                                {
                                    "0": "75",
                                    "1": "Roidmi S3 Bluetooth Music Car Charger",
                                    "2": "3",
                                    "3": "Brunswick warehouse",
                                    "4": "48"
                                },
                                {
                                    "0": "75",
                                    "1": "Roidmi S3 Bluetooth Music Car Charger",
                                    "2": "6",
                                    "3": "NULL",
                                    "4": "78"
                                },
                                {
                                    "0": "75",
                                    "1": "Roidmi S3 Bluetooth Music Car Charger",
                                    "2": "7",
                                    "3": "NULL",
                                    "4": "71"
                                },
                                {
                                    "0": "75",
                                    "1": "Roidmi S3 Bluetooth Music Car Charger",
                                    "2": "8",
                                    "3": "NULL",
                                    "4": "209"
                                },
                                {
                                    "0": "76",
                                    "1": "Belkin 10W Wireless Charging Air Vent Car Mount ",
                                    "2": "2",
                                    "3": "Downtown warehouse",
                                    "4": "34"
                                },
                                {
                                    "0": "76",
                                    "1": "Belkin 10W Wireless Charging Air Vent Car Mount ",
                                    "2": "3",
                                    "3": "Brunswick warehouse",
                                    "4": "47"
                                },
                                {
                                    "0": "76",
                                    "1": "Belkin 10W Wireless Charging Air Vent Car Mount ",
                                    "2": "4",
                                    "3": "NULL",
                                    "4": "221"
                                },
                                {
                                    "0": "76",
                                    "1": "Belkin 10W Wireless Charging Air Vent Car Mount ",
                                    "2": "5",
                                    "3": "NULL",
                                    "4": "115"
                                },
                                {
                                    "0": "76",
                                    "1": "Belkin 10W Wireless Charging Air Vent Car Mount ",
                                    "2": "6",
                                    "3": "NULL",
                                    "4": "194"
                                },
                                {
                                    "0": "76",
                                    "1": "Belkin 10W Wireless Charging Air Vent Car Mount ",
                                    "2": "8",
                                    "3": "NULL",
                                    "4": "174"
                                },
                                {
                                    "0": "76",
                                    "1": "Belkin 10W Wireless Charging Air Vent Car Mount ",
                                    "2": "9",
                                    "3": "NULL",
                                    "4": "264"
                                },
                                {
                                    "0": "77",
                                    "1": "Microsoft Surface Arc Mouse - Bluetooth - Ice Blue",
                                    "2": "2",
                                    "3": "Downtown warehouse",
                                    "4": "118"
                                },
                                {
                                    "0": "77",
                                    "1": "Microsoft Surface Arc Mouse - Bluetooth - Ice Blue",
                                    "2": "3",
                                    "3": "Brunswick warehouse",
                                    "4": "47"
                                },
                                {
                                    "0": "77",
                                    "1": "Microsoft Surface Arc Mouse - Bluetooth - Ice Blue",
                                    "2": "4",
                                    "3": "NULL",
                                    "4": "87"
                                },
                                {
                                    "0": "77",
                                    "1": "Microsoft Surface Arc Mouse - Bluetooth - Ice Blue",
                                    "2": "6",
                                    "3": "NULL",
                                    "4": "64"
                                },
                                {
                                    "0": "77",
                                    "1": "Microsoft Surface Arc Mouse - Bluetooth - Ice Blue",
                                    "2": "7",
                                    "3": "NULL",
                                    "4": "226"
                                },
                                {
                                    "0": "77",
                                    "1": "Microsoft Surface Arc Mouse - Bluetooth - Ice Blue",
                                    "2": "8",
                                    "3": "NULL",
                                    "4": "179"
                                },
                                {
                                    "0": "77",
                                    "1": "Microsoft Surface Arc Mouse - Bluetooth - Ice Blue",
                                    "2": "9",
                                    "3": "NULL",
                                    "4": "266"
                                }
                            ]
                        },
                        "text/html": [
                            "<table>",
                            "<tr><th>product_id</th><th>product_name</th><th>warehouse_id</th><th>warehouse_name</th><th>quantity_on_hand</th></tr>",
                            "<tr><td>1</td><td>Apple iPhone 11 64GB - Black</td><td>1</td><td>Central warehouse</td><td>112</td></tr>",
                            "<tr><td>1</td><td>Apple iPhone 11 64GB - Black</td><td>2</td><td>Downtown warehouse</td><td>107</td></tr>",
                            "<tr><td>1</td><td>Apple iPhone 11 64GB - Black</td><td>3</td><td>Brunswick warehouse</td><td>176</td></tr>",
                            "<tr><td>1</td><td>Apple iPhone 11 64GB - Black</td><td>4</td><td>NULL</td><td>97</td></tr>",
                            "<tr><td>1</td><td>Apple iPhone 11 64GB - Black</td><td>5</td><td>NULL</td><td>62</td></tr>",
                            "<tr><td>1</td><td>Apple iPhone 11 64GB - Black</td><td>6</td><td>NULL</td><td>155</td></tr>",
                            "<tr><td>1</td><td>Apple iPhone 11 64GB - Black</td><td>7</td><td>NULL</td><td>63</td></tr>",
                            "<tr><td>1</td><td>Apple iPhone 11 64GB - Black</td><td>8</td><td>NULL</td><td>164</td></tr>",
                            "<tr><td>2</td><td>Apple iPhone 11 128GB - White</td><td>2</td><td>Downtown warehouse</td><td>98</td></tr>",
                            "<tr><td>2</td><td>Apple iPhone 11 128GB - White</td><td>3</td><td>Brunswick warehouse</td><td>178</td></tr>",
                            "<tr><td>2</td><td>Apple iPhone 11 128GB - White</td><td>5</td><td>NULL</td><td>181</td></tr>",
                            "<tr><td>2</td><td>Apple iPhone 11 128GB - White</td><td>6</td><td>NULL</td><td>78</td></tr>",
                            "<tr><td>2</td><td>Apple iPhone 11 128GB - White</td><td>7</td><td>NULL</td><td>73</td></tr>",
                            "<tr><td>2</td><td>Apple iPhone 11 128GB - White</td><td>8</td><td>NULL</td><td>171</td></tr>",
                            "<tr><td>2</td><td>Apple iPhone 11 128GB - White</td><td>9</td><td>NULL</td><td>65</td></tr>",
                            "<tr><td>3</td><td>Titan Army N34QW 34 inch Curved UltraWide Monitor</td><td>2</td><td>Downtown warehouse</td><td>69</td></tr>",
                            "<tr><td>3</td><td>Titan Army N34QW 34 inch Curved UltraWide Monitor</td><td>3</td><td>Brunswick warehouse</td><td>176</td></tr>",
                            "<tr><td>3</td><td>Titan Army N34QW 34 inch Curved UltraWide Monitor</td><td>4</td><td>NULL</td><td>176</td></tr>",
                            "<tr><td>3</td><td>Titan Army N34QW 34 inch Curved UltraWide Monitor</td><td>5</td><td>NULL</td><td>134</td></tr>",
                            "<tr><td>3</td><td>Titan Army N34QW 34 inch Curved UltraWide Monitor</td><td>7</td><td>NULL</td><td>225</td></tr>",
                            "<tr><td>3</td><td>Titan Army N34QW 34 inch Curved UltraWide Monitor</td><td>8</td><td>NULL</td><td>236</td></tr>",
                            "<tr><td>3</td><td>Titan Army N34QW 34 inch Curved UltraWide Monitor</td><td>9</td><td>NULL</td><td>244</td></tr>",
                            "<tr><td>4</td><td>LG UltraGear 24GL600F-B 24 inch Full HD Monitor</td><td>1</td><td>Central warehouse</td><td>107</td></tr>",
                            "<tr><td>4</td><td>LG UltraGear 24GL600F-B 24 inch Full HD Monitor</td><td>2</td><td>Downtown warehouse</td><td>126</td></tr>",
                            "<tr><td>4</td><td>LG UltraGear 24GL600F-B 24 inch Full HD Monitor</td><td>4</td><td>NULL</td><td>50</td></tr>",
                            "<tr><td>4</td><td>LG UltraGear 24GL600F-B 24 inch Full HD Monitor</td><td>5</td><td>NULL</td><td>101</td></tr>",
                            "<tr><td>4</td><td>LG UltraGear 24GL600F-B 24 inch Full HD Monitor</td><td>7</td><td>NULL</td><td>157</td></tr>",
                            "<tr><td>4</td><td>LG UltraGear 24GL600F-B 24 inch Full HD Monitor</td><td>8</td><td>NULL</td><td>173</td></tr>",
                            "<tr><td>4</td><td>LG UltraGear 24GL600F-B 24 inch Full HD Monitor</td><td>9</td><td>NULL</td><td>226</td></tr>",
                            "<tr><td>5</td><td>ASUS PG279Q Monitor</td><td>2</td><td>Downtown warehouse</td><td>10</td></tr>",
                            "<tr><td>5</td><td>ASUS PG279Q Monitor</td><td>3</td><td>Brunswick warehouse</td><td>45</td></tr>",
                            "<tr><td>5</td><td>ASUS PG279Q Monitor</td><td>4</td><td>NULL</td><td>21</td></tr>",
                            "<tr><td>5</td><td>ASUS PG279Q Monitor</td><td>5</td><td>NULL</td><td>63</td></tr>",
                            "<tr><td>5</td><td>ASUS PG279Q Monitor</td><td>6</td><td>NULL</td><td>17</td></tr>",
                            "<tr><td>5</td><td>ASUS PG279Q Monitor</td><td>7</td><td>NULL</td><td>28</td></tr>",
                            "<tr><td>5</td><td>ASUS PG279Q Monitor</td><td>9</td><td>NULL</td><td>45</td></tr>",
                            "<tr><td>6</td><td>Logitech G213 Prodigy RGB Gaming Keyboard</td><td>2</td><td>Downtown warehouse</td><td>97</td></tr>",
                            "<tr><td>6</td><td>Logitech G213 Prodigy RGB Gaming Keyboard</td><td>3</td><td>Brunswick warehouse</td><td>47</td></tr>",
                            "<tr><td>6</td><td>Logitech G213 Prodigy RGB Gaming Keyboard</td><td>4</td><td>NULL</td><td>181</td></tr>",
                            "<tr><td>6</td><td>Logitech G213 Prodigy RGB Gaming Keyboard</td><td>5</td><td>NULL</td><td>197</td></tr>",
                            "<tr><td>6</td><td>Logitech G213 Prodigy RGB Gaming Keyboard</td><td>6</td><td>NULL</td><td>119</td></tr>",
                            "<tr><td>6</td><td>Logitech G213 Prodigy RGB Gaming Keyboard</td><td>7</td><td>NULL</td><td>214</td></tr>",
                            "<tr><td>6</td><td>Logitech G213 Prodigy RGB Gaming Keyboard</td><td>8</td><td>NULL</td><td>74</td></tr>",
                            "<tr><td>6</td><td>Logitech G213 Prodigy RGB Gaming Keyboard</td><td>9</td><td>NULL</td><td>184</td></tr>",
                            "<tr><td>7</td><td>Canon PIXMA MG2460 Inkjet MFP printer</td><td>2</td><td>Downtown warehouse</td><td>99</td></tr>",
                            "<tr><td>7</td><td>Canon PIXMA MG2460 Inkjet MFP printer</td><td>4</td><td>NULL</td><td>110</td></tr>",
                            "<tr><td>7</td><td>Canon PIXMA MG2460 Inkjet MFP printer</td><td>5</td><td>NULL</td><td>96</td></tr>",
                            "<tr><td>7</td><td>Canon PIXMA MG2460 Inkjet MFP printer</td><td>6</td><td>NULL</td><td>63</td></tr>",
                            "<tr><td>7</td><td>Canon PIXMA MG2460 Inkjet MFP printer</td><td>7</td><td>NULL</td><td>72</td></tr>",
                            "<tr><td>7</td><td>Canon PIXMA MG2460 Inkjet MFP printer</td><td>8</td><td>NULL</td><td>183</td></tr>",
                            "<tr><td>7</td><td>Canon PIXMA MG2460 Inkjet MFP printer</td><td>9</td><td>NULL</td><td>239</td></tr>",
                            "<tr><td>8</td><td>Microsoft Sculpt Ergonomic Wireless Keyboard and Mouse Combo</td><td>3</td><td>Brunswick warehouse</td><td>47</td></tr>",
                            "<tr><td>8</td><td>Microsoft Sculpt Ergonomic Wireless Keyboard and Mouse Combo</td><td>4</td><td>NULL</td><td>96</td></tr>",
                            "<tr><td>8</td><td>Microsoft Sculpt Ergonomic Wireless Keyboard and Mouse Combo</td><td>5</td><td>NULL</td><td>62</td></tr>",
                            "<tr><td>8</td><td>Microsoft Sculpt Ergonomic Wireless Keyboard and Mouse Combo</td><td>6</td><td>NULL</td><td>154</td></tr>",
                            "<tr><td>8</td><td>Microsoft Sculpt Ergonomic Wireless Keyboard and Mouse Combo</td><td>8</td><td>NULL</td><td>209</td></tr>",
                            "<tr><td>9</td><td>JKW Video Intercom over IP adaptor</td><td>2</td><td>Downtown warehouse</td><td>35</td></tr>",
                            "<tr><td>9</td><td>JKW Video Intercom over IP adaptor</td><td>3</td><td>Brunswick warehouse</td><td>35</td></tr>",
                            "<tr><td>9</td><td>JKW Video Intercom over IP adaptor</td><td>5</td><td>NULL</td><td>21</td></tr>",
                            "<tr><td>9</td><td>JKW Video Intercom over IP adaptor</td><td>6</td><td>NULL</td><td>44</td></tr>",
                            "<tr><td>9</td><td>JKW Video Intercom over IP adaptor</td><td>7</td><td>NULL</td><td>19</td></tr>",
                            "<tr><td>9</td><td>JKW Video Intercom over IP adaptor</td><td>8</td><td>NULL</td><td>34</td></tr>",
                            "<tr><td>9</td><td>JKW Video Intercom over IP adaptor</td><td>9</td><td>NULL</td><td>20</td></tr>",
                            "<tr><td>10</td><td>Intel Coffee Lake Core i9 Processor</td><td>1</td><td>Central warehouse</td><td>97</td></tr>",
                            "<tr><td>10</td><td>Intel Coffee Lake Core i9 Processor</td><td>2</td><td>Downtown warehouse</td><td>127</td></tr>",
                            "<tr><td>10</td><td>Intel Coffee Lake Core i9 Processor</td><td>3</td><td>Brunswick warehouse</td><td>102</td></tr>",
                            "<tr><td>10</td><td>Intel Coffee Lake Core i9 Processor</td><td>4</td><td>NULL</td><td>98</td></tr>",
                            "<tr><td>10</td><td>Intel Coffee Lake Core i9 Processor</td><td>5</td><td>NULL</td><td>77</td></tr>",
                            "<tr><td>10</td><td>Intel Coffee Lake Core i9 Processor</td><td>6</td><td>NULL</td><td>195</td></tr>",
                            "<tr><td>10</td><td>Intel Coffee Lake Core i9 Processor</td><td>7</td><td>NULL</td><td>167</td></tr>",
                            "<tr><td>10</td><td>Intel Coffee Lake Core i9 Processor</td><td>8</td><td>NULL</td><td>209</td></tr>",
                            "<tr><td>10</td><td>Intel Coffee Lake Core i9 Processor</td><td>9</td><td>NULL</td><td>89</td></tr>",
                            "<tr><td>11</td><td>Horion 55 inch 4K Ultra HD LED TV</td><td>2</td><td>Downtown warehouse</td><td>120</td></tr>",
                            "<tr><td>11</td><td>Horion 55 inch 4K Ultra HD LED TV</td><td>4</td><td>NULL</td><td>98</td></tr>",
                            "<tr><td>11</td><td>Horion 55 inch 4K Ultra HD LED TV</td><td>6</td><td>NULL</td><td>67</td></tr>",
                            "<tr><td>11</td><td>Horion 55 inch 4K Ultra HD LED TV</td><td>7</td><td>NULL</td><td>38</td></tr>",
                            "<tr><td>11</td><td>Horion 55 inch 4K Ultra HD LED TV</td><td>8</td><td>NULL</td><td>87</td></tr>",
                            "<tr><td>11</td><td>Horion 55 inch 4K Ultra HD LED TV</td><td>9</td><td>NULL</td><td>86</td></tr>",
                            "<tr><td>12</td><td>Sony WH-1000XM3 Noise-Cancelling headphones - Black</td><td>1</td><td>Central warehouse</td><td>106</td></tr>",
                            "<tr><td>12</td><td>Sony WH-1000XM3 Noise-Cancelling headphones - Black</td><td>2</td><td>Downtown warehouse</td><td>175</td></tr>",
                            "<tr><td>12</td><td>Sony WH-1000XM3 Noise-Cancelling headphones - Black</td><td>4</td><td>NULL</td><td>104</td></tr>",
                            "<tr><td>12</td><td>Sony WH-1000XM3 Noise-Cancelling headphones - Black</td><td>5</td><td>NULL</td><td>176</td></tr>",
                            "<tr><td>12</td><td>Sony WH-1000XM3 Noise-Cancelling headphones - Black</td><td>6</td><td>NULL</td><td>82</td></tr>",
                            "<tr><td>12</td><td>Sony WH-1000XM3 Noise-Cancelling headphones - Black</td><td>7</td><td>NULL</td><td>226</td></tr>",
                            "<tr><td>12</td><td>Sony WH-1000XM3 Noise-Cancelling headphones - Black</td><td>8</td><td>NULL</td><td>226</td></tr>",
                            "<tr><td>13</td><td>HyperX AMP 7.1 USB Sound Card</td><td>2</td><td>Downtown warehouse</td><td>128</td></tr>",
                            "<tr><td>13</td><td>HyperX AMP 7.1 USB Sound Card</td><td>4</td><td>NULL</td><td>104</td></tr>",
                            "<tr><td>13</td><td>HyperX AMP 7.1 USB Sound Card</td><td>5</td><td>NULL</td><td>106</td></tr>",
                            "<tr><td>13</td><td>HyperX AMP 7.1 USB Sound Card</td><td>6</td><td>NULL</td><td>185</td></tr>",
                            "<tr><td>13</td><td>HyperX AMP 7.1 USB Sound Card</td><td>8</td><td>NULL</td><td>183</td></tr>",
                            "<tr><td>13</td><td>HyperX AMP 7.1 USB Sound Card</td><td>9</td><td>NULL</td><td>215</td></tr>",
                            "<tr><td>14</td><td>HP LaserJet Pro M15W printer</td><td>2</td><td>Downtown warehouse</td><td>101</td></tr>",
                            "<tr><td>14</td><td>HP LaserJet Pro M15W printer</td><td>7</td><td>NULL</td><td>70</td></tr>",
                            "<tr><td>14</td><td>HP LaserJet Pro M15W printer</td><td>8</td><td>NULL</td><td>163</td></tr>",
                            "<tr><td>14</td><td>HP LaserJet Pro M15W printer</td><td>9</td><td>NULL</td><td>185</td></tr>",
                            "<tr><td>15</td><td>Logitech G Pro X Mechanical TKL RGB Gaming Keyboard</td><td>2</td><td>Downtown warehouse</td><td>101</td></tr>",
                            "<tr><td>15</td><td>Logitech G Pro X Mechanical TKL RGB Gaming Keyboard</td><td>5</td><td>NULL</td><td>105</td></tr>",
                            "<tr><td>15</td><td>Logitech G Pro X Mechanical TKL RGB Gaming Keyboard</td><td>6</td><td>NULL</td><td>197</td></tr>",
                            "<tr><td>15</td><td>Logitech G Pro X Mechanical TKL RGB Gaming Keyboard</td><td>7</td><td>NULL</td><td>69</td></tr>",
                            "<tr><td>15</td><td>Logitech G Pro X Mechanical TKL RGB Gaming Keyboard</td><td>8</td><td>NULL</td><td>86</td></tr>",
                            "<tr><td>15</td><td>Logitech G Pro X Mechanical TKL RGB Gaming Keyboard</td><td>9</td><td>NULL</td><td>95</td></tr>",
                            "<tr><td>16</td><td>Canon EOS 3000D DSLR Entry-Level Camera</td><td>1</td><td>Central warehouse</td><td>97</td></tr>",
                            "<tr><td>16</td><td>Canon EOS 3000D DSLR Entry-Level Camera</td><td>2</td><td>Downtown warehouse</td><td>128</td></tr>",
                            "<tr><td>16</td><td>Canon EOS 3000D DSLR Entry-Level Camera</td><td>3</td><td>Brunswick warehouse</td><td>196</td></tr>",
                            "<tr><td>16</td><td>Canon EOS 3000D DSLR Entry-Level Camera</td><td>4</td><td>NULL</td><td>93</td></tr>",
                            "<tr><td>16</td><td>Canon EOS 3000D DSLR Entry-Level Camera</td><td>5</td><td>NULL</td><td>62</td></tr>",
                            "<tr><td>16</td><td>Canon EOS 3000D DSLR Entry-Level Camera</td><td>7</td><td>NULL</td><td>209</td></tr>",
                            "<tr><td>16</td><td>Canon EOS 3000D DSLR Entry-Level Camera</td><td>8</td><td>NULL</td><td>210</td></tr>",
                            "<tr><td>16</td><td>Canon EOS 3000D DSLR Entry-Level Camera</td><td>9</td><td>NULL</td><td>186</td></tr>",
                            "<tr><td>17</td><td>MPS Intercom system</td><td>1</td><td>Central warehouse</td><td>25</td></tr>",
                            "<tr><td>17</td><td>MPS Intercom system</td><td>4</td><td>NULL</td><td>177</td></tr>",
                            "<tr><td>17</td><td>MPS Intercom system</td><td>5</td><td>NULL</td><td>74</td></tr>",
                            "<tr><td>17</td><td>MPS Intercom system</td><td>6</td><td>NULL</td><td>18</td></tr>",
                            "<tr><td>17</td><td>MPS Intercom system</td><td>7</td><td>NULL</td><td>24</td></tr>",
                            "<tr><td>17</td><td>MPS Intercom system</td><td>8</td><td>NULL</td><td>35</td></tr>",
                            "<tr><td>17</td><td>MPS Intercom system</td><td>9</td><td>NULL</td><td>34</td></tr>",
                            "<tr><td>18</td><td>Ugreen CM129 Audio Sound Card Adapter</td><td>2</td><td>Downtown warehouse</td><td>101</td></tr>",
                            "<tr><td>18</td><td>Ugreen CM129 Audio Sound Card Adapter</td><td>5</td><td>NULL</td><td>273</td></tr>",
                            "<tr><td>18</td><td>Ugreen CM129 Audio Sound Card Adapter</td><td>6</td><td>NULL</td><td>154</td></tr>",
                            "<tr><td>18</td><td>Ugreen CM129 Audio Sound Card Adapter</td><td>7</td><td>NULL</td><td>77</td></tr>",
                            "<tr><td>18</td><td>Ugreen CM129 Audio Sound Card Adapter</td><td>8</td><td>NULL</td><td>63</td></tr>",
                            "<tr><td>18</td><td>Ugreen CM129 Audio Sound Card Adapter</td><td>9</td><td>NULL</td><td>267</td></tr>",
                            "<tr><td>19</td><td>Nikon D3500 DSLR Camera</td><td>2</td><td>Downtown warehouse</td><td>101</td></tr>",
                            "<tr><td>19</td><td>Nikon D3500 DSLR Camera</td><td>4</td><td>NULL</td><td>177</td></tr>",
                            "<tr><td>19</td><td>Nikon D3500 DSLR Camera</td><td>5</td><td>NULL</td><td>219</td></tr>",
                            "<tr><td>19</td><td>Nikon D3500 DSLR Camera</td><td>6</td><td>NULL</td><td>212</td></tr>",
                            "<tr><td>19</td><td>Nikon D3500 DSLR Camera</td><td>7</td><td>NULL</td><td>68</td></tr>",
                            "<tr><td>19</td><td>Nikon D3500 DSLR Camera</td><td>8</td><td>NULL</td><td>227</td></tr>",
                            "<tr><td>19</td><td>Nikon D3500 DSLR Camera</td><td>9</td><td>NULL</td><td>90</td></tr>",
                            "<tr><td>20</td><td>GoPro HERO 8 Black Action Camera 4K Video</td><td>2</td><td>Downtown warehouse</td><td>158</td></tr>",
                            "<tr><td>20</td><td>GoPro HERO 8 Black Action Camera 4K Video</td><td>4</td><td>NULL</td><td>246</td></tr>",
                            "<tr><td>20</td><td>GoPro HERO 8 Black Action Camera 4K Video</td><td>6</td><td>NULL</td><td>78</td></tr>",
                            "<tr><td>20</td><td>GoPro HERO 8 Black Action Camera 4K Video</td><td>7</td><td>NULL</td><td>113</td></tr>",
                            "<tr><td>20</td><td>GoPro HERO 8 Black Action Camera 4K Video</td><td>9</td><td>NULL</td><td>30</td></tr>",
                            "<tr><td>21</td><td>DJI Mavic Mini Drone</td><td>2</td><td>Downtown warehouse</td><td>117</td></tr>",
                            "<tr><td>21</td><td>DJI Mavic Mini Drone</td><td>4</td><td>NULL</td><td>74</td></tr>",
                            "<tr><td>21</td><td>DJI Mavic Mini Drone</td><td>6</td><td>NULL</td><td>110</td></tr>",
                            "<tr><td>21</td><td>DJI Mavic Mini Drone</td><td>7</td><td>NULL</td><td>37</td></tr>",
                            "<tr><td>21</td><td>DJI Mavic Mini Drone</td><td>8</td><td>NULL</td><td>179</td></tr>",
                            "<tr><td>22</td><td>HPR Workstation Intel 7</td><td>2</td><td>Downtown warehouse</td><td>215</td></tr>",
                            "<tr><td>22</td><td>HPR Workstation Intel 7</td><td>4</td><td>NULL</td><td>173</td></tr>",
                            "<tr><td>22</td><td>HPR Workstation Intel 7</td><td>6</td><td>NULL</td><td>81</td></tr>",
                            "<tr><td>22</td><td>HPR Workstation Intel 7</td><td>8</td><td>NULL</td><td>227</td></tr>",
                            "<tr><td>22</td><td>HPR Workstation Intel 7</td><td>9</td><td>NULL</td><td>271</td></tr>",
                            "<tr><td>23</td><td>PBX 32106 NUC Mini PC Desktop Kit</td><td>2</td><td>Downtown warehouse</td><td>96</td></tr>",
                            "<tr><td>23</td><td>PBX 32106 NUC Mini PC Desktop Kit</td><td>4</td><td>NULL</td><td>177</td></tr>",
                            "<tr><td>23</td><td>PBX 32106 NUC Mini PC Desktop Kit</td><td>5</td><td>NULL</td><td>74</td></tr>",
                            "<tr><td>23</td><td>PBX 32106 NUC Mini PC Desktop Kit</td><td>6</td><td>NULL</td><td>111</td></tr>",
                            "<tr><td>23</td><td>PBX 32106 NUC Mini PC Desktop Kit</td><td>8</td><td>NULL</td><td>171</td></tr>",
                            "<tr><td>24</td><td>Apple iPhone 6S - Silver</td><td>1</td><td>Central warehouse</td><td>36</td></tr>",
                            "<tr><td>24</td><td>Apple iPhone 6S - Silver</td><td>2</td><td>Downtown warehouse</td><td>38</td></tr>",
                            "<tr><td>24</td><td>Apple iPhone 6S - Silver</td><td>4</td><td>NULL</td><td>34</td></tr>",
                            "<tr><td>24</td><td>Apple iPhone 6S - Silver</td><td>5</td><td>NULL</td><td>115</td></tr>",
                            "<tr><td>24</td><td>Apple iPhone 6S - Silver</td><td>6</td><td>NULL</td><td>19</td></tr>",
                            "<tr><td>24</td><td>Apple iPhone 6S - Silver</td><td>7</td><td>NULL</td><td>29</td></tr>",
                            "<tr><td>24</td><td>Apple iPhone 6S - Silver</td><td>8</td><td>NULL</td><td>20</td></tr>",
                            "<tr><td>25</td><td>Apple iPhone SE 128GB - Black</td><td>2</td><td>Downtown warehouse</td><td>33</td></tr>",
                            "<tr><td>25</td><td>Apple iPhone SE 128GB - Black</td><td>3</td><td>Brunswick warehouse</td><td>176</td></tr>",
                            "<tr><td>25</td><td>Apple iPhone SE 128GB - Black</td><td>4</td><td>NULL</td><td>173</td></tr>",
                            "<tr><td>25</td><td>Apple iPhone SE 128GB - Black</td><td>5</td><td>NULL</td><td>210</td></tr>",
                            "<tr><td>25</td><td>Apple iPhone SE 128GB - Black</td><td>6</td><td>NULL</td><td>122</td></tr>",
                            "<tr><td>25</td><td>Apple iPhone SE 128GB - Black</td><td>7</td><td>NULL</td><td>227</td></tr>",
                            "<tr><td>25</td><td>Apple iPhone SE 128GB - Black</td><td>8</td><td>NULL</td><td>178</td></tr>",
                            "<tr><td>26</td><td>DJI Mavic 2 Pro Drone with Hasselblad Camera</td><td>2</td><td>Downtown warehouse</td><td>100</td></tr>",
                            "<tr><td>26</td><td>DJI Mavic 2 Pro Drone with Hasselblad Camera</td><td>3</td><td>Brunswick warehouse</td><td>103</td></tr>",
                            "<tr><td>26</td><td>DJI Mavic 2 Pro Drone with Hasselblad Camera</td><td>4</td><td>NULL</td><td>73</td></tr>",
                            "<tr><td>26</td><td>DJI Mavic 2 Pro Drone with Hasselblad Camera</td><td>6</td><td>NULL</td><td>122</td></tr>",
                            "<tr><td>26</td><td>DJI Mavic 2 Pro Drone with Hasselblad Camera</td><td>7</td><td>NULL</td><td>227</td></tr>",
                            "<tr><td>26</td><td>DJI Mavic 2 Pro Drone with Hasselblad Camera</td><td>8</td><td>NULL</td><td>38</td></tr>",
                            "<tr><td>26</td><td>DJI Mavic 2 Pro Drone with Hasselblad Camera</td><td>9</td><td>NULL</td><td>220</td></tr>",
                            "<tr><td>27</td><td>Canon EF 50mm f/1.8 STM Lens for Canon Digital SLR Cameras</td><td>1</td><td>Central warehouse</td><td>275</td></tr>",
                            "<tr><td>27</td><td>Canon EF 50mm f/1.8 STM Lens for Canon Digital SLR Cameras</td><td>2</td><td>Downtown warehouse</td><td>131</td></tr>",
                            "<tr><td>27</td><td>Canon EF 50mm f/1.8 STM Lens for Canon Digital SLR Cameras</td><td>4</td><td>NULL</td><td>245</td></tr>",
                            "<tr><td>27</td><td>Canon EF 50mm f/1.8 STM Lens for Canon Digital SLR Cameras</td><td>6</td><td>NULL</td><td>119</td></tr>",
                            "<tr><td>28</td><td>Canon Black CLI-8 Ink Cartridge</td><td>1</td><td>Central warehouse</td><td>76</td></tr>",
                            "<tr><td>28</td><td>Canon Black CLI-8 Ink Cartridge</td><td>2</td><td>Downtown warehouse</td><td>33</td></tr>",
                            "<tr><td>28</td><td>Canon Black CLI-8 Ink Cartridge</td><td>3</td><td>Brunswick warehouse</td><td>9</td></tr>",
                            "<tr><td>28</td><td>Canon Black CLI-8 Ink Cartridge</td><td>5</td><td>NULL</td><td>35</td></tr>",
                            "<tr><td>28</td><td>Canon Black CLI-8 Ink Cartridge</td><td>6</td><td>NULL</td><td>25</td></tr>",
                            "<tr><td>28</td><td>Canon Black CLI-8 Ink Cartridge</td><td>7</td><td>NULL</td><td>16</td></tr>",
                            "<tr><td>28</td><td>Canon Black CLI-8 Ink Cartridge</td><td>8</td><td>NULL</td><td>9</td></tr>",
                            "<tr><td>28</td><td>Canon Black CLI-8 Ink Cartridge</td><td>9</td><td>NULL</td><td>40</td></tr>",
                            "<tr><td>29</td><td>APY Intercom System</td><td>2</td><td>Downtown warehouse</td><td>42</td></tr>",
                            "<tr><td>29</td><td>APY Intercom System</td><td>4</td><td>NULL</td><td>36</td></tr>",
                            "<tr><td>29</td><td>APY Intercom System</td><td>5</td><td>NULL</td><td>181</td></tr>",
                            "<tr><td>29</td><td>APY Intercom System</td><td>6</td><td>NULL</td><td>32</td></tr>",
                            "<tr><td>29</td><td>APY Intercom System</td><td>7</td><td>NULL</td><td>223</td></tr>",
                            "<tr><td>29</td><td>APY Intercom System</td><td>8</td><td>NULL</td><td>182</td></tr>",
                            "<tr><td>29</td><td>APY Intercom System</td><td>9</td><td>NULL</td><td>32</td></tr>",
                            "<tr><td>30</td><td>Leadtek Quadro P620 Professional Workstation Graphics Card</td><td>1</td><td>Central warehouse</td><td>98</td></tr>",
                            "<tr><td>30</td><td>Leadtek Quadro P620 Professional Workstation Graphics Card</td><td>2</td><td>Downtown warehouse</td><td>102</td></tr>",
                            "<tr><td>30</td><td>Leadtek Quadro P620 Professional Workstation Graphics Card</td><td>5</td><td>NULL</td><td>304</td></tr>",
                            "<tr><td>30</td><td>Leadtek Quadro P620 Professional Workstation Graphics Card</td><td>6</td><td>NULL</td><td>78</td></tr>",
                            "<tr><td>30</td><td>Leadtek Quadro P620 Professional Workstation Graphics Card</td><td>7</td><td>NULL</td><td>226</td></tr>",
                            "<tr><td>30</td><td>Leadtek Quadro P620 Professional Workstation Graphics Card</td><td>8</td><td>NULL</td><td>235</td></tr>",
                            "<tr><td>30</td><td>Leadtek Quadro P620 Professional Workstation Graphics Card</td><td>9</td><td>NULL</td><td>100</td></tr>",
                            "<tr><td>31</td><td>Logitech Z333 2.1 Multimedia Speaker System</td><td>1</td><td>Central warehouse</td><td>194</td></tr>",
                            "<tr><td>31</td><td>Logitech Z333 2.1 Multimedia Speaker System</td><td>4</td><td>NULL</td><td>273</td></tr>",
                            "<tr><td>31</td><td>Logitech Z333 2.1 Multimedia Speaker System</td><td>5</td><td>NULL</td><td>194</td></tr>",
                            "<tr><td>31</td><td>Logitech Z333 2.1 Multimedia Speaker System</td><td>6</td><td>NULL</td><td>184</td></tr>",
                            "<tr><td>31</td><td>Logitech Z333 2.1 Multimedia Speaker System</td><td>7</td><td>NULL</td><td>225</td></tr>",
                            "<tr><td>31</td><td>Logitech Z333 2.1 Multimedia Speaker System</td><td>8</td><td>NULL</td><td>227</td></tr>",
                            "<tr><td>32</td><td>Blue Yeti Microphone</td><td>2</td><td>Downtown warehouse</td><td>95</td></tr>",
                            "<tr><td>32</td><td>Blue Yeti Microphone</td><td>4</td><td>NULL</td><td>172</td></tr>",
                            "<tr><td>32</td><td>Blue Yeti Microphone</td><td>6</td><td>NULL</td><td>68</td></tr>",
                            "<tr><td>32</td><td>Blue Yeti Microphone</td><td>7</td><td>NULL</td><td>113</td></tr>",
                            "<tr><td>32</td><td>Blue Yeti Microphone</td><td>8</td><td>NULL</td><td>183</td></tr>",
                            "<tr><td>32</td><td>Blue Yeti Microphone</td><td>9</td><td>NULL</td><td>216</td></tr>",
                            "<tr><td>33</td><td>Edifier Multimedia 2.0 system PC Speaker</td><td>3</td><td>Brunswick warehouse</td><td>178</td></tr>",
                            "<tr><td>33</td><td>Edifier Multimedia 2.0 system PC Speaker</td><td>4</td><td>NULL</td><td>107</td></tr>",
                            "<tr><td>33</td><td>Edifier Multimedia 2.0 system PC Speaker</td><td>5</td><td>NULL</td><td>193</td></tr>",
                            "<tr><td>33</td><td>Edifier Multimedia 2.0 system PC Speaker</td><td>6</td><td>NULL</td><td>67</td></tr>",
                            "<tr><td>33</td><td>Edifier Multimedia 2.0 system PC Speaker</td><td>7</td><td>NULL</td><td>71</td></tr>",
                            "<tr><td>33</td><td>Edifier Multimedia 2.0 system PC Speaker</td><td>8</td><td>NULL</td><td>63</td></tr>",
                            "<tr><td>33</td><td>Edifier Multimedia 2.0 system PC Speaker</td><td>9</td><td>NULL</td><td>89</td></tr>",
                            "<tr><td>34</td><td>Samsung Galaxy Note10 - Aura Black</td><td>1</td><td>Central warehouse</td><td>32</td></tr>",
                            "<tr><td>34</td><td>Samsung Galaxy Note10 - Aura Black</td><td>2</td><td>Downtown warehouse</td><td>118</td></tr>",
                            "<tr><td>34</td><td>Samsung Galaxy Note10 - Aura Black</td><td>4</td><td>NULL</td><td>107</td></tr>",
                            "<tr><td>34</td><td>Samsung Galaxy Note10 - Aura Black</td><td>5</td><td>NULL</td><td>77</td></tr>",
                            "<tr><td>34</td><td>Samsung Galaxy Note10 - Aura Black</td><td>6</td><td>NULL</td><td>223</td></tr>",
                            "<tr><td>34</td><td>Samsung Galaxy Note10 - Aura Black</td><td>7</td><td>NULL</td><td>30</td></tr>",
                            "<tr><td>34</td><td>Samsung Galaxy Note10 - Aura Black</td><td>8</td><td>NULL</td><td>170</td></tr>",
                            "<tr><td>34</td><td>Samsung Galaxy Note10 - Aura Black</td><td>9</td><td>NULL</td><td>219</td></tr>",
                            "<tr><td>35</td><td>PBX Smart Watch 4</td><td>2</td><td>Downtown warehouse</td><td>175</td></tr>",
                            "<tr><td>35</td><td>PBX Smart Watch 4</td><td>4</td><td>NULL</td><td>146</td></tr>",
                            "<tr><td>35</td><td>PBX Smart Watch 4</td><td>6</td><td>NULL</td><td>184</td></tr>",
                            "<tr><td>35</td><td>PBX Smart Watch 4</td><td>7</td><td>NULL</td><td>71</td></tr>",
                            "<tr><td>35</td><td>PBX Smart Watch 4</td><td>8</td><td>NULL</td><td>30</td></tr>",
                            "<tr><td>36</td><td>Leadtek Quadro P1000 Full Performance Professional Graphics Card</td><td>2</td><td>Downtown warehouse</td><td>118</td></tr>",
                            "<tr><td>36</td><td>Leadtek Quadro P1000 Full Performance Professional Graphics Card</td><td>3</td><td>Brunswick warehouse</td><td>43</td></tr>",
                            "<tr><td>36</td><td>Leadtek Quadro P1000 Full Performance Professional Graphics Card</td><td>5</td><td>NULL</td><td>84</td></tr>",
                            "<tr><td>36</td><td>Leadtek Quadro P1000 Full Performance Professional Graphics Card</td><td>6</td><td>NULL</td><td>216</td></tr>",
                            "<tr><td>36</td><td>Leadtek Quadro P1000 Full Performance Professional Graphics Card</td><td>7</td><td>NULL</td><td>226</td></tr>",
                            "<tr><td>36</td><td>Leadtek Quadro P1000 Full Performance Professional Graphics Card</td><td>8</td><td>NULL</td><td>76</td></tr>",
                            "<tr><td>36</td><td>Leadtek Quadro P1000 Full Performance Professional Graphics Card</td><td>9</td><td>NULL</td><td>95</td></tr>",
                            "<tr><td>37</td><td>Leadtek Quadro P400 Professional Workstation Graphics Card</td><td>1</td><td>Central warehouse</td><td>165</td></tr>",
                            "<tr><td>37</td><td>Leadtek Quadro P400 Professional Workstation Graphics Card</td><td>3</td><td>Brunswick warehouse</td><td>103</td></tr>",
                            "<tr><td>37</td><td>Leadtek Quadro P400 Professional Workstation Graphics Card</td><td>4</td><td>NULL</td><td>49</td></tr>",
                            "<tr><td>37</td><td>Leadtek Quadro P400 Professional Workstation Graphics Card</td><td>5</td><td>NULL</td><td>83</td></tr>",
                            "<tr><td>37</td><td>Leadtek Quadro P400 Professional Workstation Graphics Card</td><td>6</td><td>NULL</td><td>122</td></tr>",
                            "<tr><td>37</td><td>Leadtek Quadro P400 Professional Workstation Graphics Card</td><td>8</td><td>NULL</td><td>77</td></tr>",
                            "<tr><td>37</td><td>Leadtek Quadro P400 Professional Workstation Graphics Card</td><td>9</td><td>NULL</td><td>97</td></tr>",
                            "<tr><td>38</td><td>Apple Watch Series 3 - Grey</td><td>1</td><td>Central warehouse</td><td>157</td></tr>",
                            "<tr><td>38</td><td>Apple Watch Series 3 - Grey</td><td>2</td><td>Downtown warehouse</td><td>131</td></tr>",
                            "<tr><td>38</td><td>Apple Watch Series 3 - Grey</td><td>4</td><td>NULL</td><td>50</td></tr>",
                            "<tr><td>38</td><td>Apple Watch Series 3 - Grey</td><td>6</td><td>NULL</td><td>119</td></tr>",
                            "<tr><td>38</td><td>Apple Watch Series 3 - Grey</td><td>7</td><td>NULL</td><td>91</td></tr>",
                            "<tr><td>38</td><td>Apple Watch Series 3 - Grey</td><td>8</td><td>NULL</td><td>76</td></tr>",
                            "<tr><td>38</td><td>Apple Watch Series 3 - Grey</td><td>9</td><td>NULL</td><td>185</td></tr>",
                            "<tr><td>39</td><td>Spigen iPhone 11 Clear Case</td><td>1</td><td>Central warehouse</td><td>125</td></tr>",
                            "<tr><td>39</td><td>Spigen iPhone 11 Clear Case</td><td>2</td><td>Downtown warehouse</td><td>127</td></tr>",
                            "<tr><td>39</td><td>Spigen iPhone 11 Clear Case</td><td>4</td><td>NULL</td><td>98</td></tr>",
                            "<tr><td>39</td><td>Spigen iPhone 11 Clear Case</td><td>6</td><td>NULL</td><td>63</td></tr>",
                            "<tr><td>39</td><td>Spigen iPhone 11 Clear Case</td><td>9</td><td>NULL</td><td>31</td></tr>",
                            "<tr><td>40</td><td>Samsung 1TB Solid State Drive SSD</td><td>2</td><td>Downtown warehouse</td><td>73</td></tr>",
                            "<tr><td>40</td><td>Samsung 1TB Solid State Drive SSD</td><td>4</td><td>NULL</td><td>50</td></tr>",
                            "<tr><td>40</td><td>Samsung 1TB Solid State Drive SSD</td><td>5</td><td>NULL</td><td>99</td></tr>",
                            "<tr><td>40</td><td>Samsung 1TB Solid State Drive SSD</td><td>6</td><td>NULL</td><td>213</td></tr>",
                            "<tr><td>40</td><td>Samsung 1TB Solid State Drive SSD</td><td>7</td><td>NULL</td><td>214</td></tr>",
                            "<tr><td>40</td><td>Samsung 1TB Solid State Drive SSD</td><td>8</td><td>NULL</td><td>94</td></tr>",
                            "<tr><td>40</td><td>Samsung 1TB Solid State Drive SSD</td><td>9</td><td>NULL</td><td>275</td></tr>",
                            "<tr><td>41</td><td>Crucial MX500 500GB SSD</td><td>1</td><td>Central warehouse</td><td>32</td></tr>",
                            "<tr><td>41</td><td>Crucial MX500 500GB SSD</td><td>2</td><td>Downtown warehouse</td><td>102</td></tr>",
                            "<tr><td>41</td><td>Crucial MX500 500GB SSD</td><td>4</td><td>NULL</td><td>49</td></tr>",
                            "<tr><td>41</td><td>Crucial MX500 500GB SSD</td><td>5</td><td>NULL</td><td>104</td></tr>",
                            "<tr><td>41</td><td>Crucial MX500 500GB SSD</td><td>6</td><td>NULL</td><td>117</td></tr>",
                            "<tr><td>41</td><td>Crucial MX500 500GB SSD</td><td>8</td><td>NULL</td><td>163</td></tr>",
                            "<tr><td>41</td><td>Crucial MX500 500GB SSD</td><td>9</td><td>NULL</td><td>164</td></tr>",
                            "<tr><td>42</td><td>PBX Everyday Home PC 43300</td><td>3</td><td>Brunswick warehouse</td><td>35</td></tr>",
                            "<tr><td>42</td><td>PBX Everyday Home PC 43300</td><td>4</td><td>NULL</td><td>21</td></tr>",
                            "<tr><td>42</td><td>PBX Everyday Home PC 43300</td><td>5</td><td>NULL</td><td>114</td></tr>",
                            "<tr><td>42</td><td>PBX Everyday Home PC 43300</td><td>6</td><td>NULL</td><td>24</td></tr>",
                            "<tr><td>42</td><td>PBX Everyday Home PC 43300</td><td>7</td><td>NULL</td><td>21</td></tr>",
                            "<tr><td>42</td><td>PBX Everyday Home PC 43300</td><td>8</td><td>NULL</td><td>19</td></tr>",
                            "<tr><td>42</td><td>PBX Everyday Home PC 43300</td><td>9</td><td>NULL</td><td>74</td></tr>",
                            "<tr><td>43</td><td>Samsung Galaxy S20 Smart Cover</td><td>1</td><td>Central warehouse</td><td>66</td></tr>",
                            "<tr><td>43</td><td>Samsung Galaxy S20 Smart Cover</td><td>4</td><td>NULL</td><td>175</td></tr>",
                            "<tr><td>43</td><td>Samsung Galaxy S20 Smart Cover</td><td>5</td><td>NULL</td><td>78</td></tr>",
                            "<tr><td>43</td><td>Samsung Galaxy S20 Smart Cover</td><td>7</td><td>NULL</td><td>214</td></tr>",
                            "<tr><td>43</td><td>Samsung Galaxy S20 Smart Cover</td><td>8</td><td>NULL</td><td>76</td></tr>",
                            "<tr><td>43</td><td>Samsung Galaxy S20 Smart Cover</td><td>9</td><td>NULL</td><td>90</td></tr>",
                            "<tr><td>44</td><td>ASUS VG279Q 27 inch Full HD IPS Gaming Monitor</td><td>2</td><td>Downtown warehouse</td><td>170</td></tr>",
                            "<tr><td>44</td><td>ASUS VG279Q 27 inch Full HD IPS Gaming Monitor</td><td>4</td><td>NULL</td><td>176</td></tr>",
                            "<tr><td>44</td><td>ASUS VG279Q 27 inch Full HD IPS Gaming Monitor</td><td>5</td><td>NULL</td><td>118</td></tr>",
                            "<tr><td>44</td><td>ASUS VG279Q 27 inch Full HD IPS Gaming Monitor</td><td>6</td><td>NULL</td><td>227</td></tr>",
                            "<tr><td>44</td><td>ASUS VG279Q 27 inch Full HD IPS Gaming Monitor</td><td>7</td><td>NULL</td><td>226</td></tr>",
                            "<tr><td>44</td><td>ASUS VG279Q 27 inch Full HD IPS Gaming Monitor</td><td>8</td><td>NULL</td><td>172</td></tr>",
                            "<tr><td>44</td><td>ASUS VG279Q 27 inch Full HD IPS Gaming Monitor</td><td>9</td><td>NULL</td><td>75</td></tr>",
                            "<tr><td>45</td><td>Aten UC3020 CamLive HDMI to USB-C Video Capture</td><td>2</td><td>Downtown warehouse</td><td>127</td></tr>",
                            "<tr><td>45</td><td>Aten UC3020 CamLive HDMI to USB-C Video Capture</td><td>3</td><td>Brunswick warehouse</td><td>176</td></tr>",
                            "<tr><td>45</td><td>Aten UC3020 CamLive HDMI to USB-C Video Capture</td><td>4</td><td>NULL</td><td>272</td></tr>",
                            "<tr><td>45</td><td>Aten UC3020 CamLive HDMI to USB-C Video Capture</td><td>5</td><td>NULL</td><td>69</td></tr>",
                            "<tr><td>45</td><td>Aten UC3020 CamLive HDMI to USB-C Video Capture</td><td>6</td><td>NULL</td><td>62</td></tr>",
                            "<tr><td>45</td><td>Aten UC3020 CamLive HDMI to USB-C Video Capture</td><td>7</td><td>NULL</td><td>29</td></tr>",
                            "<tr><td>45</td><td>Aten UC3020 CamLive HDMI to USB-C Video Capture</td><td>8</td><td>NULL</td><td>173</td></tr>",
                            "<tr><td>45</td><td>Aten UC3020 CamLive HDMI to USB-C Video Capture</td><td>9</td><td>NULL</td><td>74</td></tr>",
                            "<tr><td>46</td><td>Cooler Master Hyper 212</td><td>2</td><td>Downtown warehouse</td><td>118</td></tr>",
                            "<tr><td>46</td><td>Cooler Master Hyper 212</td><td>4</td><td>NULL</td><td>50</td></tr>",
                            "<tr><td>46</td><td>Cooler Master Hyper 212</td><td>5</td><td>NULL</td><td>54</td></tr>",
                            "<tr><td>46</td><td>Cooler Master Hyper 212</td><td>8</td><td>NULL</td><td>180</td></tr>",
                            "<tr><td>46</td><td>Cooler Master Hyper 212</td><td>9</td><td>NULL</td><td>164</td></tr>",
                            "<tr><td>47</td><td>Canon EOS M50 Mirrorless Camera</td><td>1</td><td>Central warehouse</td><td>98</td></tr>",
                            "<tr><td>47</td><td>Canon EOS M50 Mirrorless Camera</td><td>2</td><td>Downtown warehouse</td><td>133</td></tr>",
                            "<tr><td>47</td><td>Canon EOS M50 Mirrorless Camera</td><td>3</td><td>Brunswick warehouse</td><td>136</td></tr>",
                            "<tr><td>47</td><td>Canon EOS M50 Mirrorless Camera</td><td>4</td><td>NULL</td><td>96</td></tr>",
                            "<tr><td>47</td><td>Canon EOS M50 Mirrorless Camera</td><td>5</td><td>NULL</td><td>195</td></tr>",
                            "<tr><td>47</td><td>Canon EOS M50 Mirrorless Camera</td><td>6</td><td>NULL</td><td>81</td></tr>",
                            "<tr><td>47</td><td>Canon EOS M50 Mirrorless Camera</td><td>7</td><td>NULL</td><td>225</td></tr>",
                            "<tr><td>47</td><td>Canon EOS M50 Mirrorless Camera</td><td>8</td><td>NULL</td><td>88</td></tr>",
                            "<tr><td>47</td><td>Canon EOS M50 Mirrorless Camera</td><td>9</td><td>NULL</td><td>88</td></tr>",
                            "<tr><td>48</td><td>Canon EOS 80D DSLR Camera Single Lens Kit</td><td>1</td><td>Central warehouse</td><td>165</td></tr>",
                            "<tr><td>48</td><td>Canon EOS 80D DSLR Camera Single Lens Kit</td><td>2</td><td>Downtown warehouse</td><td>79</td></tr>",
                            "<tr><td>48</td><td>Canon EOS 80D DSLR Camera Single Lens Kit</td><td>4</td><td>NULL</td><td>54</td></tr>",
                            "<tr><td>48</td><td>Canon EOS 80D DSLR Camera Single Lens Kit</td><td>5</td><td>NULL</td><td>114</td></tr>",
                            "<tr><td>48</td><td>Canon EOS 80D DSLR Camera Single Lens Kit</td><td>6</td><td>NULL</td><td>63</td></tr>",
                            "<tr><td>48</td><td>Canon EOS 80D DSLR Camera Single Lens Kit</td><td>7</td><td>NULL</td><td>74</td></tr>",
                            "<tr><td>48</td><td>Canon EOS 80D DSLR Camera Single Lens Kit</td><td>8</td><td>NULL</td><td>178</td></tr>",
                            "<tr><td>48</td><td>Canon EOS 80D DSLR Camera Single Lens Kit</td><td>9</td><td>NULL</td><td>39</td></tr>",
                            "<tr><td>49</td><td>GoPro HERO 7 Silver Action Camera 4K Video</td><td>1</td><td>Central warehouse</td><td>101</td></tr>",
                            "<tr><td>49</td><td>GoPro HERO 7 Silver Action Camera 4K Video</td><td>2</td><td>Downtown warehouse</td><td>81</td></tr>",
                            "<tr><td>49</td><td>GoPro HERO 7 Silver Action Camera 4K Video</td><td>3</td><td>Brunswick warehouse</td><td>197</td></tr>",
                            "<tr><td>49</td><td>GoPro HERO 7 Silver Action Camera 4K Video</td><td>4</td><td>NULL</td><td>48</td></tr>",
                            "<tr><td>49</td><td>GoPro HERO 7 Silver Action Camera 4K Video</td><td>5</td><td>NULL</td><td>304</td></tr>",
                            "<tr><td>49</td><td>GoPro HERO 7 Silver Action Camera 4K Video</td><td>6</td><td>NULL</td><td>220</td></tr>",
                            "<tr><td>49</td><td>GoPro HERO 7 Silver Action Camera 4K Video</td><td>7</td><td>NULL</td><td>30</td></tr>",
                            "<tr><td>49</td><td>GoPro HERO 7 Silver Action Camera 4K Video</td><td>8</td><td>NULL</td><td>210</td></tr>",
                            "<tr><td>49</td><td>GoPro HERO 7 Silver Action Camera 4K Video</td><td>9</td><td>NULL</td><td>185</td></tr>",
                            "<tr><td>50</td><td>Comet Drone with Camera</td><td>3</td><td>Brunswick warehouse</td><td>103</td></tr>",
                            "<tr><td>50</td><td>Comet Drone with Camera</td><td>4</td><td>NULL</td><td>251</td></tr>",
                            "<tr><td>50</td><td>Comet Drone with Camera</td><td>5</td><td>NULL</td><td>54</td></tr>",
                            "<tr><td>50</td><td>Comet Drone with Camera</td><td>6</td><td>NULL</td><td>213</td></tr>",
                            "<tr><td>50</td><td>Comet Drone with Camera</td><td>7</td><td>NULL</td><td>227</td></tr>",
                            "<tr><td>50</td><td>Comet Drone with Camera</td><td>8</td><td>NULL</td><td>169</td></tr>",
                            "<tr><td>50</td><td>Comet Drone with Camera</td><td>9</td><td>NULL</td><td>73</td></tr>",
                            "<tr><td>51</td><td>HP Ink Cartridge 65XL Black</td><td>2</td><td>Downtown warehouse</td><td>96</td></tr>",
                            "<tr><td>51</td><td>HP Ink Cartridge 65XL Black</td><td>3</td><td>Brunswick warehouse</td><td>176</td></tr>",
                            "<tr><td>51</td><td>HP Ink Cartridge 65XL Black</td><td>4</td><td>NULL</td><td>222</td></tr>",
                            "<tr><td>51</td><td>HP Ink Cartridge 65XL Black</td><td>5</td><td>NULL</td><td>114</td></tr>",
                            "<tr><td>51</td><td>HP Ink Cartridge 65XL Black</td><td>6</td><td>NULL</td><td>216</td></tr>",
                            "<tr><td>51</td><td>HP Ink Cartridge 65XL Black</td><td>8</td><td>NULL</td><td>88</td></tr>",
                            "<tr><td>51</td><td>HP Ink Cartridge 65XL Black</td><td>9</td><td>NULL</td><td>184</td></tr>",
                            "<tr><td>52</td><td>ASUS W203MA Laptop</td><td>2</td><td>Downtown warehouse</td><td>81</td></tr>",
                            "<tr><td>52</td><td>ASUS W203MA Laptop</td><td>3</td><td>Brunswick warehouse</td><td>136</td></tr>",
                            "<tr><td>52</td><td>ASUS W203MA Laptop</td><td>5</td><td>NULL</td><td>181</td></tr>",
                            "<tr><td>52</td><td>ASUS W203MA Laptop</td><td>7</td><td>NULL</td><td>119</td></tr>",
                            "<tr><td>52</td><td>ASUS W203MA Laptop</td><td>8</td><td>NULL</td><td>227</td></tr>",
                            "<tr><td>52</td><td>ASUS W203MA Laptop</td><td>9</td><td>NULL</td><td>89</td></tr>",
                            "<tr><td>53</td><td>AB Security cam</td><td>2</td><td>Downtown warehouse</td><td>30</td></tr>",
                            "<tr><td>53</td><td>AB Security cam</td><td>3</td><td>Brunswick warehouse</td><td>41</td></tr>",
                            "<tr><td>53</td><td>AB Security cam</td><td>4</td><td>NULL</td><td>40</td></tr>",
                            "<tr><td>53</td><td>AB Security cam</td><td>5</td><td>NULL</td><td>29</td></tr>",
                            "<tr><td>53</td><td>AB Security cam</td><td>6</td><td>NULL</td><td>23</td></tr>",
                            "<tr><td>53</td><td>AB Security cam</td><td>7</td><td>NULL</td><td>22</td></tr>",
                            "<tr><td>53</td><td>AB Security cam</td><td>8</td><td>NULL</td><td>54</td></tr>",
                            "<tr><td>53</td><td>AB Security cam</td><td>9</td><td>NULL</td><td>34</td></tr>",
                            "<tr><td>54</td><td>Panasonic VL-SWD272 Wireless Video Intercom System</td><td>2</td><td>Downtown warehouse</td><td>133</td></tr>",
                            "<tr><td>54</td><td>Panasonic VL-SWD272 Wireless Video Intercom System</td><td>4</td><td>NULL</td><td>98</td></tr>",
                            "<tr><td>54</td><td>Panasonic VL-SWD272 Wireless Video Intercom System</td><td>5</td><td>NULL</td><td>115</td></tr>",
                            "<tr><td>54</td><td>Panasonic VL-SWD272 Wireless Video Intercom System</td><td>6</td><td>NULL</td><td>189</td></tr>",
                            "<tr><td>54</td><td>Panasonic VL-SWD272 Wireless Video Intercom System</td><td>7</td><td>NULL</td><td>69</td></tr>",
                            "<tr><td>54</td><td>Panasonic VL-SWD272 Wireless Video Intercom System</td><td>8</td><td>NULL</td><td>85</td></tr>",
                            "<tr><td>54</td><td>Panasonic VL-SWD272 Wireless Video Intercom System</td><td>9</td><td>NULL</td><td>31</td></tr>",
                            "<tr><td>55</td><td>RING Smart Video Wi-Fi Doorbell 3</td><td>1</td><td>Central warehouse</td><td>157</td></tr>",
                            "<tr><td>55</td><td>RING Smart Video Wi-Fi Doorbell 3</td><td>2</td><td>Downtown warehouse</td><td>175</td></tr>",
                            "<tr><td>55</td><td>RING Smart Video Wi-Fi Doorbell 3</td><td>4</td><td>NULL</td><td>104</td></tr>",
                            "<tr><td>55</td><td>RING Smart Video Wi-Fi Doorbell 3</td><td>6</td><td>NULL</td><td>119</td></tr>",
                            "<tr><td>55</td><td>RING Smart Video Wi-Fi Doorbell 3</td><td>7</td><td>NULL</td><td>30</td></tr>",
                            "<tr><td>55</td><td>RING Smart Video Wi-Fi Doorbell 3</td><td>8</td><td>NULL</td><td>184</td></tr>",
                            "<tr><td>55</td><td>RING Smart Video Wi-Fi Doorbell 3</td><td>9</td><td>NULL</td><td>267</td></tr>",
                            "<tr><td>56</td><td>Microsoft Surface Laptop 3</td><td>2</td><td>Downtown warehouse</td><td>42</td></tr>",
                            "<tr><td>56</td><td>Microsoft Surface Laptop 3</td><td>3</td><td>Brunswick warehouse</td><td>171</td></tr>",
                            "<tr><td>56</td><td>Microsoft Surface Laptop 3</td><td>4</td><td>NULL</td><td>74</td></tr>",
                            "<tr><td>56</td><td>Microsoft Surface Laptop 3</td><td>6</td><td>NULL</td><td>196</td></tr>",
                            "<tr><td>56</td><td>Microsoft Surface Laptop 3</td><td>8</td><td>NULL</td><td>94</td></tr>",
                            "<tr><td>56</td><td>Microsoft Surface Laptop 3</td><td>9</td><td>NULL</td><td>88</td></tr>",
                            "<tr><td>57</td><td>Acer Nitro 7 Gaming Laptop</td><td>2</td><td>Downtown warehouse</td><td>125</td></tr>",
                            "<tr><td>57</td><td>Acer Nitro 7 Gaming Laptop</td><td>4</td><td>NULL</td><td>174</td></tr>",
                            "<tr><td>57</td><td>Acer Nitro 7 Gaming Laptop</td><td>6</td><td>NULL</td><td>213</td></tr>",
                            "<tr><td>57</td><td>Acer Nitro 7 Gaming Laptop</td><td>8</td><td>NULL</td><td>179</td></tr>",
                            "<tr><td>57</td><td>Acer Nitro 7 Gaming Laptop</td><td>9</td><td>NULL</td><td>266</td></tr>",
                            "<tr><td>58</td><td>Cooler Master MasterFan</td><td>2</td><td>Downtown warehouse</td><td>97</td></tr>",
                            "<tr><td>58</td><td>Cooler Master MasterFan</td><td>5</td><td>NULL</td><td>92</td></tr>",
                            "<tr><td>58</td><td>Cooler Master MasterFan</td><td>6</td><td>NULL</td><td>155</td></tr>",
                            "<tr><td>58</td><td>Cooler Master MasterFan</td><td>8</td><td>NULL</td><td>234</td></tr>",
                            "<tr><td>58</td><td>Cooler Master MasterFan</td><td>9</td><td>NULL</td><td>86</td></tr>",
                            "<tr><td>59</td><td>Samsung 50TU8000 50 inch 4K Smart TV</td><td>2</td><td>Downtown warehouse</td><td>276</td></tr>",
                            "<tr><td>59</td><td>Samsung 50TU8000 50 inch 4K Smart TV</td><td>5</td><td>NULL</td><td>134</td></tr>",
                            "<tr><td>59</td><td>Samsung 50TU8000 50 inch 4K Smart TV</td><td>6</td><td>NULL</td><td>199</td></tr>",
                            "<tr><td>59</td><td>Samsung 50TU8000 50 inch 4K Smart TV</td><td>7</td><td>NULL</td><td>74</td></tr>",
                            "<tr><td>59</td><td>Samsung 50TU8000 50 inch 4K Smart TV</td><td>8</td><td>NULL</td><td>76</td></tr>",
                            "<tr><td>59</td><td>Samsung 50TU8000 50 inch 4K Smart TV</td><td>9</td><td>NULL</td><td>272</td></tr>",
                            "<tr><td>60</td><td>Konic 55 inch 4K Ultra HD LED TV</td><td>2</td><td>Downtown warehouse</td><td>118</td></tr>",
                            "<tr><td>60</td><td>Konic 55 inch 4K Ultra HD LED TV</td><td>3</td><td>Brunswick warehouse</td><td>46</td></tr>",
                            "<tr><td>60</td><td>Konic 55 inch 4K Ultra HD LED TV</td><td>4</td><td>NULL</td><td>246</td></tr>",
                            "<tr><td>60</td><td>Konic 55 inch 4K Ultra HD LED TV</td><td>5</td><td>NULL</td><td>101</td></tr>",
                            "<tr><td>60</td><td>Konic 55 inch 4K Ultra HD LED TV</td><td>6</td><td>NULL</td><td>193</td></tr>",
                            "<tr><td>61</td><td>Apple Magic Keyboard</td><td>1</td><td>Central warehouse</td><td>157</td></tr>",
                            "<tr><td>61</td><td>Apple Magic Keyboard</td><td>2</td><td>Downtown warehouse</td><td>71</td></tr>",
                            "<tr><td>61</td><td>Apple Magic Keyboard</td><td>5</td><td>NULL</td><td>177</td></tr>",
                            "<tr><td>61</td><td>Apple Magic Keyboard</td><td>6</td><td>NULL</td><td>119</td></tr>",
                            "<tr><td>61</td><td>Apple Magic Keyboard</td><td>7</td><td>NULL</td><td>185</td></tr>",
                            "<tr><td>61</td><td>Apple Magic Keyboard</td><td>8</td><td>NULL</td><td>183</td></tr>",
                            "<tr><td>61</td><td>Apple Magic Keyboard</td><td>9</td><td>NULL</td><td>219</td></tr>",
                            "<tr><td>62</td><td>Viper-X Drone with VR Headset</td><td>3</td><td>Brunswick warehouse</td><td>103</td></tr>",
                            "<tr><td>62</td><td>Viper-X Drone with VR Headset</td><td>4</td><td>NULL</td><td>197</td></tr>",
                            "<tr><td>62</td><td>Viper-X Drone with VR Headset</td><td>5</td><td>NULL</td><td>237</td></tr>",
                            "<tr><td>62</td><td>Viper-X Drone with VR Headset</td><td>6</td><td>NULL</td><td>185</td></tr>",
                            "<tr><td>62</td><td>Viper-X Drone with VR Headset</td><td>7</td><td>NULL</td><td>62</td></tr>",
                            "<tr><td>62</td><td>Viper-X Drone with VR Headset</td><td>8</td><td>NULL</td><td>39</td></tr>",
                            "<tr><td>62</td><td>Viper-X Drone with VR Headset</td><td>9</td><td>NULL</td><td>164</td></tr>",
                            "<tr><td>63</td><td>Samsung C49HG90 49 inch QLED Monitor</td><td>2</td><td>Downtown warehouse</td><td>96</td></tr>",
                            "<tr><td>63</td><td>Samsung C49HG90 49 inch QLED Monitor</td><td>4</td><td>NULL</td><td>35</td></tr>",
                            "<tr><td>63</td><td>Samsung C49HG90 49 inch QLED Monitor</td><td>5</td><td>NULL</td><td>177</td></tr>",
                            "<tr><td>63</td><td>Samsung C49HG90 49 inch QLED Monitor</td><td>6</td><td>NULL</td><td>64</td></tr>",
                            "<tr><td>63</td><td>Samsung C49HG90 49 inch QLED Monitor</td><td>7</td><td>NULL</td><td>58</td></tr>",
                            "<tr><td>63</td><td>Samsung C49HG90 49 inch QLED Monitor</td><td>8</td><td>NULL</td><td>163</td></tr>",
                            "<tr><td>63</td><td>Samsung C49HG90 49 inch QLED Monitor</td><td>9</td><td>NULL</td><td>191</td></tr>",
                            "<tr><td>64</td><td>Microsoft Surface Pro 7 Tablet</td><td>1</td><td>Central warehouse</td><td>106</td></tr>",
                            "<tr><td>64</td><td>Microsoft Surface Pro 7 Tablet</td><td>2</td><td>Downtown warehouse</td><td>89</td></tr>",
                            "<tr><td>64</td><td>Microsoft Surface Pro 7 Tablet</td><td>3</td><td>Brunswick warehouse</td><td>102</td></tr>",
                            "<tr><td>64</td><td>Microsoft Surface Pro 7 Tablet</td><td>4</td><td>NULL</td><td>177</td></tr>",
                            "<tr><td>64</td><td>Microsoft Surface Pro 7 Tablet</td><td>5</td><td>NULL</td><td>107</td></tr>",
                            "<tr><td>64</td><td>Microsoft Surface Pro 7 Tablet</td><td>6</td><td>NULL</td><td>122</td></tr>",
                            "<tr><td>64</td><td>Microsoft Surface Pro 7 Tablet</td><td>7</td><td>NULL</td><td>214</td></tr>",
                            "<tr><td>64</td><td>Microsoft Surface Pro 7 Tablet</td><td>8</td><td>NULL</td><td>182</td></tr>",
                            "<tr><td>64</td><td>Microsoft Surface Pro 7 Tablet</td><td>9</td><td>NULL</td><td>88</td></tr>",
                            "<tr><td>65</td><td>Evoluent VM4R Wired Vertical Mouse 4 right-handed</td><td>1</td><td>Central warehouse</td><td>93</td></tr>",
                            "<tr><td>65</td><td>Evoluent VM4R Wired Vertical Mouse 4 right-handed</td><td>2</td><td>Downtown warehouse</td><td>282</td></tr>",
                            "<tr><td>65</td><td>Evoluent VM4R Wired Vertical Mouse 4 right-handed</td><td>5</td><td>NULL</td><td>237</td></tr>",
                            "<tr><td>65</td><td>Evoluent VM4R Wired Vertical Mouse 4 right-handed</td><td>6</td><td>NULL</td><td>122</td></tr>",
                            "<tr><td>65</td><td>Evoluent VM4R Wired Vertical Mouse 4 right-handed</td><td>7</td><td>NULL</td><td>228</td></tr>",
                            "<tr><td>65</td><td>Evoluent VM4R Wired Vertical Mouse 4 right-handed</td><td>8</td><td>NULL</td><td>181</td></tr>",
                            "<tr><td>65</td><td>Evoluent VM4R Wired Vertical Mouse 4 right-handed</td><td>9</td><td>NULL</td><td>84</td></tr>",
                            "<tr><td>66</td><td>Adesso iMouse E1</td><td>2</td><td>Downtown warehouse</td><td>135</td></tr>",
                            "<tr><td>66</td><td>Adesso iMouse E1</td><td>3</td><td>Brunswick warehouse</td><td>42</td></tr>",
                            "<tr><td>66</td><td>Adesso iMouse E1</td><td>4</td><td>NULL</td><td>174</td></tr>",
                            "<tr><td>66</td><td>Adesso iMouse E1</td><td>5</td><td>NULL</td><td>117</td></tr>",
                            "<tr><td>66</td><td>Adesso iMouse E1</td><td>6</td><td>NULL</td><td>198</td></tr>",
                            "<tr><td>66</td><td>Adesso iMouse E1</td><td>7</td><td>NULL</td><td>208</td></tr>",
                            "<tr><td>66</td><td>Adesso iMouse E1</td><td>9</td><td>NULL</td><td>86</td></tr>",
                            "<tr><td>67</td><td>Spigen Galaxy Note 10 tough armor case</td><td>1</td><td>Central warehouse</td><td>94</td></tr>",
                            "<tr><td>67</td><td>Spigen Galaxy Note 10 tough armor case</td><td>2</td><td>Downtown warehouse</td><td>46</td></tr>",
                            "<tr><td>67</td><td>Spigen Galaxy Note 10 tough armor case</td><td>4</td><td>NULL</td><td>197</td></tr>",
                            "<tr><td>67</td><td>Spigen Galaxy Note 10 tough armor case</td><td>5</td><td>NULL</td><td>107</td></tr>",
                            "<tr><td>67</td><td>Spigen Galaxy Note 10 tough armor case</td><td>7</td><td>NULL</td><td>223</td></tr>",
                            "<tr><td>67</td><td>Spigen Galaxy Note 10 tough armor case</td><td>8</td><td>NULL</td><td>87</td></tr>",
                            "<tr><td>67</td><td>Spigen Galaxy Note 10 tough armor case</td><td>9</td><td>NULL</td><td>232</td></tr>",
                            "<tr><td>68</td><td>Andromeda Drone with Camera</td><td>2</td><td>Downtown warehouse</td><td>94</td></tr>",
                            "<tr><td>68</td><td>Andromeda Drone with Camera</td><td>3</td><td>Brunswick warehouse</td><td>175</td></tr>",
                            "<tr><td>68</td><td>Andromeda Drone with Camera</td><td>4</td><td>NULL</td><td>97</td></tr>",
                            "<tr><td>68</td><td>Andromeda Drone with Camera</td><td>5</td><td>NULL</td><td>176</td></tr>",
                            "<tr><td>68</td><td>Andromeda Drone with Camera</td><td>6</td><td>NULL</td><td>149</td></tr>",
                            "<tr><td>68</td><td>Andromeda Drone with Camera</td><td>7</td><td>NULL</td><td>224</td></tr>",
                            "<tr><td>68</td><td>Andromeda Drone with Camera</td><td>8</td><td>NULL</td><td>76</td></tr>",
                            "<tr><td>68</td><td>Andromeda Drone with Camera</td><td>9</td><td>NULL</td><td>89</td></tr>",
                            "<tr><td>69</td><td>PowerBeats Pro True Wireless Sports Earphones</td><td>2</td><td>Downtown warehouse</td><td>138</td></tr>",
                            "<tr><td>69</td><td>PowerBeats Pro True Wireless Sports Earphones</td><td>4</td><td>NULL</td><td>103</td></tr>",
                            "<tr><td>69</td><td>PowerBeats Pro True Wireless Sports Earphones</td><td>5</td><td>NULL</td><td>211</td></tr>",
                            "<tr><td>69</td><td>PowerBeats Pro True Wireless Sports Earphones</td><td>6</td><td>NULL</td><td>155</td></tr>",
                            "<tr><td>69</td><td>PowerBeats Pro True Wireless Sports Earphones</td><td>7</td><td>NULL</td><td>113</td></tr>",
                            "<tr><td>69</td><td>PowerBeats Pro True Wireless Sports Earphones</td><td>8</td><td>NULL</td><td>81</td></tr>",
                            "<tr><td>69</td><td>PowerBeats Pro True Wireless Sports Earphones</td><td>9</td><td>NULL</td><td>97</td></tr>",
                            "<tr><td>70</td><td>PBX 2000mAh Power Bank 3 - Black</td><td>1</td><td>Central warehouse</td><td>108</td></tr>",
                            "<tr><td>70</td><td>PBX 2000mAh Power Bank 3 - Black</td><td>2</td><td>Downtown warehouse</td><td>131</td></tr>",
                            "<tr><td>70</td><td>PBX 2000mAh Power Bank 3 - Black</td><td>3</td><td>Brunswick warehouse</td><td>209</td></tr>",
                            "<tr><td>70</td><td>PBX 2000mAh Power Bank 3 - Black</td><td>4</td><td>NULL</td><td>185</td></tr>",
                            "<tr><td>70</td><td>PBX 2000mAh Power Bank 3 - Black</td><td>5</td><td>NULL</td><td>177</td></tr>",
                            "<tr><td>70</td><td>PBX 2000mAh Power Bank 3 - Black</td><td>6</td><td>NULL</td><td>154</td></tr>",
                            "<tr><td>70</td><td>PBX 2000mAh Power Bank 3 - Black</td><td>7</td><td>NULL</td><td>167</td></tr>",
                            "<tr><td>70</td><td>PBX 2000mAh Power Bank 3 - Black</td><td>8</td><td>NULL</td><td>39</td></tr>",
                            "<tr><td>70</td><td>PBX 2000mAh Power Bank 3 - Black</td><td>9</td><td>NULL</td><td>89</td></tr>",
                            "<tr><td>71</td><td>Apple AirPods Pro Noise Cancelling True Wireless Headphones</td><td>2</td><td>Downtown warehouse</td><td>170</td></tr>",
                            "<tr><td>71</td><td>Apple AirPods Pro Noise Cancelling True Wireless Headphones</td><td>3</td><td>Brunswick warehouse</td><td>172</td></tr>",
                            "<tr><td>71</td><td>Apple AirPods Pro Noise Cancelling True Wireless Headphones</td><td>4</td><td>NULL</td><td>146</td></tr>",
                            "<tr><td>71</td><td>Apple AirPods Pro Noise Cancelling True Wireless Headphones</td><td>5</td><td>NULL</td><td>100</td></tr>",
                            "<tr><td>71</td><td>Apple AirPods Pro Noise Cancelling True Wireless Headphones</td><td>6</td><td>NULL</td><td>149</td></tr>",
                            "<tr><td>71</td><td>Apple AirPods Pro Noise Cancelling True Wireless Headphones</td><td>7</td><td>NULL</td><td>167</td></tr>",
                            "<tr><td>71</td><td>Apple AirPods Pro Noise Cancelling True Wireless Headphones</td><td>8</td><td>NULL</td><td>74</td></tr>",
                            "<tr><td>71</td><td>Apple AirPods Pro Noise Cancelling True Wireless Headphones</td><td>9</td><td>NULL</td><td>244</td></tr>",
                            "<tr><td>72</td><td>Sennheiser HD 4.30i Over-Ear Headphones</td><td>2</td><td>Downtown warehouse</td><td>175</td></tr>",
                            "<tr><td>72</td><td>Sennheiser HD 4.30i Over-Ear Headphones</td><td>6</td><td>NULL</td><td>213</td></tr>",
                            "<tr><td>72</td><td>Sennheiser HD 4.30i Over-Ear Headphones</td><td>8</td><td>NULL</td><td>88</td></tr>",
                            "<tr><td>72</td><td>Sennheiser HD 4.30i Over-Ear Headphones</td><td>9</td><td>NULL</td><td>185</td></tr>",
                            "<tr><td>73</td><td>Corsair LL Series LL120 Fan</td><td>2</td><td>Downtown warehouse</td><td>100</td></tr>",
                            "<tr><td>73</td><td>Corsair LL Series LL120 Fan</td><td>4</td><td>NULL</td><td>96</td></tr>",
                            "<tr><td>73</td><td>Corsair LL Series LL120 Fan</td><td>5</td><td>NULL</td><td>273</td></tr>",
                            "<tr><td>73</td><td>Corsair LL Series LL120 Fan</td><td>6</td><td>NULL</td><td>68</td></tr>",
                            "<tr><td>73</td><td>Corsair LL Series LL120 Fan</td><td>8</td><td>NULL</td><td>163</td></tr>",
                            "<tr><td>73</td><td>Corsair LL Series LL120 Fan</td><td>9</td><td>NULL</td><td>164</td></tr>",
                            "<tr><td>74</td><td>Canon Ink Cartridge PG645</td><td>1</td><td>Central warehouse</td><td>108</td></tr>",
                            "<tr><td>74</td><td>Canon Ink Cartridge PG645</td><td>2</td><td>Downtown warehouse</td><td>173</td></tr>",
                            "<tr><td>74</td><td>Canon Ink Cartridge PG645</td><td>4</td><td>NULL</td><td>96</td></tr>",
                            "<tr><td>74</td><td>Canon Ink Cartridge PG645</td><td>6</td><td>NULL</td><td>111</td></tr>",
                            "<tr><td>74</td><td>Canon Ink Cartridge PG645</td><td>7</td><td>NULL</td><td>184</td></tr>",
                            "<tr><td>74</td><td>Canon Ink Cartridge PG645</td><td>9</td><td>NULL</td><td>89</td></tr>",
                            "<tr><td>75</td><td>Roidmi S3 Bluetooth Music Car Charger</td><td>2</td><td>Downtown warehouse</td><td>158</td></tr>",
                            "<tr><td>75</td><td>Roidmi S3 Bluetooth Music Car Charger</td><td>3</td><td>Brunswick warehouse</td><td>48</td></tr>",
                            "<tr><td>75</td><td>Roidmi S3 Bluetooth Music Car Charger</td><td>6</td><td>NULL</td><td>78</td></tr>",
                            "<tr><td>75</td><td>Roidmi S3 Bluetooth Music Car Charger</td><td>7</td><td>NULL</td><td>71</td></tr>",
                            "<tr><td>75</td><td>Roidmi S3 Bluetooth Music Car Charger</td><td>8</td><td>NULL</td><td>209</td></tr>",
                            "<tr><td>76</td><td>Belkin 10W Wireless Charging Air Vent Car Mount </td><td>2</td><td>Downtown warehouse</td><td>34</td></tr>",
                            "<tr><td>76</td><td>Belkin 10W Wireless Charging Air Vent Car Mount </td><td>3</td><td>Brunswick warehouse</td><td>47</td></tr>",
                            "<tr><td>76</td><td>Belkin 10W Wireless Charging Air Vent Car Mount </td><td>4</td><td>NULL</td><td>221</td></tr>",
                            "<tr><td>76</td><td>Belkin 10W Wireless Charging Air Vent Car Mount </td><td>5</td><td>NULL</td><td>115</td></tr>",
                            "<tr><td>76</td><td>Belkin 10W Wireless Charging Air Vent Car Mount </td><td>6</td><td>NULL</td><td>194</td></tr>",
                            "<tr><td>76</td><td>Belkin 10W Wireless Charging Air Vent Car Mount </td><td>8</td><td>NULL</td><td>174</td></tr>",
                            "<tr><td>76</td><td>Belkin 10W Wireless Charging Air Vent Car Mount </td><td>9</td><td>NULL</td><td>264</td></tr>",
                            "<tr><td>77</td><td>Microsoft Surface Arc Mouse - Bluetooth - Ice Blue</td><td>2</td><td>Downtown warehouse</td><td>118</td></tr>",
                            "<tr><td>77</td><td>Microsoft Surface Arc Mouse - Bluetooth - Ice Blue</td><td>3</td><td>Brunswick warehouse</td><td>47</td></tr>",
                            "<tr><td>77</td><td>Microsoft Surface Arc Mouse - Bluetooth - Ice Blue</td><td>4</td><td>NULL</td><td>87</td></tr>",
                            "<tr><td>77</td><td>Microsoft Surface Arc Mouse - Bluetooth - Ice Blue</td><td>6</td><td>NULL</td><td>64</td></tr>",
                            "<tr><td>77</td><td>Microsoft Surface Arc Mouse - Bluetooth - Ice Blue</td><td>7</td><td>NULL</td><td>226</td></tr>",
                            "<tr><td>77</td><td>Microsoft Surface Arc Mouse - Bluetooth - Ice Blue</td><td>8</td><td>NULL</td><td>179</td></tr>",
                            "<tr><td>77</td><td>Microsoft Surface Arc Mouse - Bluetooth - Ice Blue</td><td>9</td><td>NULL</td><td>266</td></tr>",
                            "</table>"
                        ]
                    }
                }
            ],
            "execution_count": 5
        },
        {
            "cell_type": "code",
            "source": [
                "SELECT i.product_id, p.product_name, i.warehouse_id, w.warehouse_name, i.quantity_on_hand \n",
                "FROM oes.inventories i, oes.products p, oes.warehouses w\n",
                "WHERE i.product_id = p.product_id AND i.warehouse_id = w.warehouse_id;"
            ],
            "metadata": {
                "azdata_cell_guid": "29c39a4a-f08c-4b13-ba1b-87f223f61e4c",
                "language": "sql"
            },
            "outputs": [
                {
                    "output_type": "display_data",
                    "data": {
                        "text/html": "(514 rows affected)"
                    },
                    "metadata": {}
                },
                {
                    "output_type": "display_data",
                    "data": {
                        "text/html": "Total execution time: 00:00:00.026"
                    },
                    "metadata": {}
                },
                {
                    "output_type": "execute_result",
                    "metadata": {},
                    "execution_count": 7,
                    "data": {
                        "application/vnd.dataresource+json": {
                            "schema": {
                                "fields": [
                                    {
                                        "name": "product_id"
                                    },
                                    {
                                        "name": "product_name"
                                    },
                                    {
                                        "name": "warehouse_id"
                                    },
                                    {
                                        "name": "warehouse_name"
                                    },
                                    {
                                        "name": "quantity_on_hand"
                                    }
                                ]
                            },
                            "data": [
                                {
                                    "0": "1",
                                    "1": "Apple iPhone 11 64GB - Black",
                                    "2": "1",
                                    "3": "Central warehouse",
                                    "4": "112"
                                },
                                {
                                    "0": "1",
                                    "1": "Apple iPhone 11 64GB - Black",
                                    "2": "2",
                                    "3": "Downtown warehouse",
                                    "4": "107"
                                },
                                {
                                    "0": "1",
                                    "1": "Apple iPhone 11 64GB - Black",
                                    "2": "3",
                                    "3": "Brunswick warehouse",
                                    "4": "176"
                                },
                                {
                                    "0": "1",
                                    "1": "Apple iPhone 11 64GB - Black",
                                    "2": "4",
                                    "3": "NULL",
                                    "4": "97"
                                },
                                {
                                    "0": "1",
                                    "1": "Apple iPhone 11 64GB - Black",
                                    "2": "5",
                                    "3": "NULL",
                                    "4": "62"
                                },
                                {
                                    "0": "1",
                                    "1": "Apple iPhone 11 64GB - Black",
                                    "2": "6",
                                    "3": "NULL",
                                    "4": "155"
                                },
                                {
                                    "0": "1",
                                    "1": "Apple iPhone 11 64GB - Black",
                                    "2": "7",
                                    "3": "NULL",
                                    "4": "63"
                                },
                                {
                                    "0": "1",
                                    "1": "Apple iPhone 11 64GB - Black",
                                    "2": "8",
                                    "3": "NULL",
                                    "4": "164"
                                },
                                {
                                    "0": "2",
                                    "1": "Apple iPhone 11 128GB - White",
                                    "2": "2",
                                    "3": "Downtown warehouse",
                                    "4": "98"
                                },
                                {
                                    "0": "2",
                                    "1": "Apple iPhone 11 128GB - White",
                                    "2": "3",
                                    "3": "Brunswick warehouse",
                                    "4": "178"
                                },
                                {
                                    "0": "2",
                                    "1": "Apple iPhone 11 128GB - White",
                                    "2": "5",
                                    "3": "NULL",
                                    "4": "181"
                                },
                                {
                                    "0": "2",
                                    "1": "Apple iPhone 11 128GB - White",
                                    "2": "6",
                                    "3": "NULL",
                                    "4": "78"
                                },
                                {
                                    "0": "2",
                                    "1": "Apple iPhone 11 128GB - White",
                                    "2": "7",
                                    "3": "NULL",
                                    "4": "73"
                                },
                                {
                                    "0": "2",
                                    "1": "Apple iPhone 11 128GB - White",
                                    "2": "8",
                                    "3": "NULL",
                                    "4": "171"
                                },
                                {
                                    "0": "2",
                                    "1": "Apple iPhone 11 128GB - White",
                                    "2": "9",
                                    "3": "NULL",
                                    "4": "65"
                                },
                                {
                                    "0": "3",
                                    "1": "Titan Army N34QW 34 inch Curved UltraWide Monitor",
                                    "2": "2",
                                    "3": "Downtown warehouse",
                                    "4": "69"
                                },
                                {
                                    "0": "3",
                                    "1": "Titan Army N34QW 34 inch Curved UltraWide Monitor",
                                    "2": "3",
                                    "3": "Brunswick warehouse",
                                    "4": "176"
                                },
                                {
                                    "0": "3",
                                    "1": "Titan Army N34QW 34 inch Curved UltraWide Monitor",
                                    "2": "4",
                                    "3": "NULL",
                                    "4": "176"
                                },
                                {
                                    "0": "3",
                                    "1": "Titan Army N34QW 34 inch Curved UltraWide Monitor",
                                    "2": "5",
                                    "3": "NULL",
                                    "4": "134"
                                },
                                {
                                    "0": "3",
                                    "1": "Titan Army N34QW 34 inch Curved UltraWide Monitor",
                                    "2": "7",
                                    "3": "NULL",
                                    "4": "225"
                                },
                                {
                                    "0": "3",
                                    "1": "Titan Army N34QW 34 inch Curved UltraWide Monitor",
                                    "2": "8",
                                    "3": "NULL",
                                    "4": "236"
                                },
                                {
                                    "0": "3",
                                    "1": "Titan Army N34QW 34 inch Curved UltraWide Monitor",
                                    "2": "9",
                                    "3": "NULL",
                                    "4": "244"
                                },
                                {
                                    "0": "4",
                                    "1": "LG UltraGear 24GL600F-B 24 inch Full HD Monitor",
                                    "2": "1",
                                    "3": "Central warehouse",
                                    "4": "107"
                                },
                                {
                                    "0": "4",
                                    "1": "LG UltraGear 24GL600F-B 24 inch Full HD Monitor",
                                    "2": "2",
                                    "3": "Downtown warehouse",
                                    "4": "126"
                                },
                                {
                                    "0": "4",
                                    "1": "LG UltraGear 24GL600F-B 24 inch Full HD Monitor",
                                    "2": "4",
                                    "3": "NULL",
                                    "4": "50"
                                },
                                {
                                    "0": "4",
                                    "1": "LG UltraGear 24GL600F-B 24 inch Full HD Monitor",
                                    "2": "5",
                                    "3": "NULL",
                                    "4": "101"
                                },
                                {
                                    "0": "4",
                                    "1": "LG UltraGear 24GL600F-B 24 inch Full HD Monitor",
                                    "2": "7",
                                    "3": "NULL",
                                    "4": "157"
                                },
                                {
                                    "0": "4",
                                    "1": "LG UltraGear 24GL600F-B 24 inch Full HD Monitor",
                                    "2": "8",
                                    "3": "NULL",
                                    "4": "173"
                                },
                                {
                                    "0": "4",
                                    "1": "LG UltraGear 24GL600F-B 24 inch Full HD Monitor",
                                    "2": "9",
                                    "3": "NULL",
                                    "4": "226"
                                },
                                {
                                    "0": "5",
                                    "1": "ASUS PG279Q Monitor",
                                    "2": "2",
                                    "3": "Downtown warehouse",
                                    "4": "10"
                                },
                                {
                                    "0": "5",
                                    "1": "ASUS PG279Q Monitor",
                                    "2": "3",
                                    "3": "Brunswick warehouse",
                                    "4": "45"
                                },
                                {
                                    "0": "5",
                                    "1": "ASUS PG279Q Monitor",
                                    "2": "4",
                                    "3": "NULL",
                                    "4": "21"
                                },
                                {
                                    "0": "5",
                                    "1": "ASUS PG279Q Monitor",
                                    "2": "5",
                                    "3": "NULL",
                                    "4": "63"
                                },
                                {
                                    "0": "5",
                                    "1": "ASUS PG279Q Monitor",
                                    "2": "6",
                                    "3": "NULL",
                                    "4": "17"
                                },
                                {
                                    "0": "5",
                                    "1": "ASUS PG279Q Monitor",
                                    "2": "7",
                                    "3": "NULL",
                                    "4": "28"
                                },
                                {
                                    "0": "5",
                                    "1": "ASUS PG279Q Monitor",
                                    "2": "9",
                                    "3": "NULL",
                                    "4": "45"
                                },
                                {
                                    "0": "6",
                                    "1": "Logitech G213 Prodigy RGB Gaming Keyboard",
                                    "2": "2",
                                    "3": "Downtown warehouse",
                                    "4": "97"
                                },
                                {
                                    "0": "6",
                                    "1": "Logitech G213 Prodigy RGB Gaming Keyboard",
                                    "2": "3",
                                    "3": "Brunswick warehouse",
                                    "4": "47"
                                },
                                {
                                    "0": "6",
                                    "1": "Logitech G213 Prodigy RGB Gaming Keyboard",
                                    "2": "4",
                                    "3": "NULL",
                                    "4": "181"
                                },
                                {
                                    "0": "6",
                                    "1": "Logitech G213 Prodigy RGB Gaming Keyboard",
                                    "2": "5",
                                    "3": "NULL",
                                    "4": "197"
                                },
                                {
                                    "0": "6",
                                    "1": "Logitech G213 Prodigy RGB Gaming Keyboard",
                                    "2": "6",
                                    "3": "NULL",
                                    "4": "119"
                                },
                                {
                                    "0": "6",
                                    "1": "Logitech G213 Prodigy RGB Gaming Keyboard",
                                    "2": "7",
                                    "3": "NULL",
                                    "4": "214"
                                },
                                {
                                    "0": "6",
                                    "1": "Logitech G213 Prodigy RGB Gaming Keyboard",
                                    "2": "8",
                                    "3": "NULL",
                                    "4": "74"
                                },
                                {
                                    "0": "6",
                                    "1": "Logitech G213 Prodigy RGB Gaming Keyboard",
                                    "2": "9",
                                    "3": "NULL",
                                    "4": "184"
                                },
                                {
                                    "0": "7",
                                    "1": "Canon PIXMA MG2460 Inkjet MFP printer",
                                    "2": "2",
                                    "3": "Downtown warehouse",
                                    "4": "99"
                                },
                                {
                                    "0": "7",
                                    "1": "Canon PIXMA MG2460 Inkjet MFP printer",
                                    "2": "4",
                                    "3": "NULL",
                                    "4": "110"
                                },
                                {
                                    "0": "7",
                                    "1": "Canon PIXMA MG2460 Inkjet MFP printer",
                                    "2": "5",
                                    "3": "NULL",
                                    "4": "96"
                                },
                                {
                                    "0": "7",
                                    "1": "Canon PIXMA MG2460 Inkjet MFP printer",
                                    "2": "6",
                                    "3": "NULL",
                                    "4": "63"
                                },
                                {
                                    "0": "7",
                                    "1": "Canon PIXMA MG2460 Inkjet MFP printer",
                                    "2": "7",
                                    "3": "NULL",
                                    "4": "72"
                                },
                                {
                                    "0": "7",
                                    "1": "Canon PIXMA MG2460 Inkjet MFP printer",
                                    "2": "8",
                                    "3": "NULL",
                                    "4": "183"
                                },
                                {
                                    "0": "7",
                                    "1": "Canon PIXMA MG2460 Inkjet MFP printer",
                                    "2": "9",
                                    "3": "NULL",
                                    "4": "239"
                                },
                                {
                                    "0": "8",
                                    "1": "Microsoft Sculpt Ergonomic Wireless Keyboard and Mouse Combo",
                                    "2": "3",
                                    "3": "Brunswick warehouse",
                                    "4": "47"
                                },
                                {
                                    "0": "8",
                                    "1": "Microsoft Sculpt Ergonomic Wireless Keyboard and Mouse Combo",
                                    "2": "4",
                                    "3": "NULL",
                                    "4": "96"
                                },
                                {
                                    "0": "8",
                                    "1": "Microsoft Sculpt Ergonomic Wireless Keyboard and Mouse Combo",
                                    "2": "5",
                                    "3": "NULL",
                                    "4": "62"
                                },
                                {
                                    "0": "8",
                                    "1": "Microsoft Sculpt Ergonomic Wireless Keyboard and Mouse Combo",
                                    "2": "6",
                                    "3": "NULL",
                                    "4": "154"
                                },
                                {
                                    "0": "8",
                                    "1": "Microsoft Sculpt Ergonomic Wireless Keyboard and Mouse Combo",
                                    "2": "8",
                                    "3": "NULL",
                                    "4": "209"
                                },
                                {
                                    "0": "9",
                                    "1": "JKW Video Intercom over IP adaptor",
                                    "2": "2",
                                    "3": "Downtown warehouse",
                                    "4": "35"
                                },
                                {
                                    "0": "9",
                                    "1": "JKW Video Intercom over IP adaptor",
                                    "2": "3",
                                    "3": "Brunswick warehouse",
                                    "4": "35"
                                },
                                {
                                    "0": "9",
                                    "1": "JKW Video Intercom over IP adaptor",
                                    "2": "5",
                                    "3": "NULL",
                                    "4": "21"
                                },
                                {
                                    "0": "9",
                                    "1": "JKW Video Intercom over IP adaptor",
                                    "2": "6",
                                    "3": "NULL",
                                    "4": "44"
                                },
                                {
                                    "0": "9",
                                    "1": "JKW Video Intercom over IP adaptor",
                                    "2": "7",
                                    "3": "NULL",
                                    "4": "19"
                                },
                                {
                                    "0": "9",
                                    "1": "JKW Video Intercom over IP adaptor",
                                    "2": "8",
                                    "3": "NULL",
                                    "4": "34"
                                },
                                {
                                    "0": "9",
                                    "1": "JKW Video Intercom over IP adaptor",
                                    "2": "9",
                                    "3": "NULL",
                                    "4": "20"
                                },
                                {
                                    "0": "10",
                                    "1": "Intel Coffee Lake Core i9 Processor",
                                    "2": "1",
                                    "3": "Central warehouse",
                                    "4": "97"
                                },
                                {
                                    "0": "10",
                                    "1": "Intel Coffee Lake Core i9 Processor",
                                    "2": "2",
                                    "3": "Downtown warehouse",
                                    "4": "127"
                                },
                                {
                                    "0": "10",
                                    "1": "Intel Coffee Lake Core i9 Processor",
                                    "2": "3",
                                    "3": "Brunswick warehouse",
                                    "4": "102"
                                },
                                {
                                    "0": "10",
                                    "1": "Intel Coffee Lake Core i9 Processor",
                                    "2": "4",
                                    "3": "NULL",
                                    "4": "98"
                                },
                                {
                                    "0": "10",
                                    "1": "Intel Coffee Lake Core i9 Processor",
                                    "2": "5",
                                    "3": "NULL",
                                    "4": "77"
                                },
                                {
                                    "0": "10",
                                    "1": "Intel Coffee Lake Core i9 Processor",
                                    "2": "6",
                                    "3": "NULL",
                                    "4": "195"
                                },
                                {
                                    "0": "10",
                                    "1": "Intel Coffee Lake Core i9 Processor",
                                    "2": "7",
                                    "3": "NULL",
                                    "4": "167"
                                },
                                {
                                    "0": "10",
                                    "1": "Intel Coffee Lake Core i9 Processor",
                                    "2": "8",
                                    "3": "NULL",
                                    "4": "209"
                                },
                                {
                                    "0": "10",
                                    "1": "Intel Coffee Lake Core i9 Processor",
                                    "2": "9",
                                    "3": "NULL",
                                    "4": "89"
                                },
                                {
                                    "0": "11",
                                    "1": "Horion 55 inch 4K Ultra HD LED TV",
                                    "2": "2",
                                    "3": "Downtown warehouse",
                                    "4": "120"
                                },
                                {
                                    "0": "11",
                                    "1": "Horion 55 inch 4K Ultra HD LED TV",
                                    "2": "4",
                                    "3": "NULL",
                                    "4": "98"
                                },
                                {
                                    "0": "11",
                                    "1": "Horion 55 inch 4K Ultra HD LED TV",
                                    "2": "6",
                                    "3": "NULL",
                                    "4": "67"
                                },
                                {
                                    "0": "11",
                                    "1": "Horion 55 inch 4K Ultra HD LED TV",
                                    "2": "7",
                                    "3": "NULL",
                                    "4": "38"
                                },
                                {
                                    "0": "11",
                                    "1": "Horion 55 inch 4K Ultra HD LED TV",
                                    "2": "8",
                                    "3": "NULL",
                                    "4": "87"
                                },
                                {
                                    "0": "11",
                                    "1": "Horion 55 inch 4K Ultra HD LED TV",
                                    "2": "9",
                                    "3": "NULL",
                                    "4": "86"
                                },
                                {
                                    "0": "12",
                                    "1": "Sony WH-1000XM3 Noise-Cancelling headphones - Black",
                                    "2": "1",
                                    "3": "Central warehouse",
                                    "4": "106"
                                },
                                {
                                    "0": "12",
                                    "1": "Sony WH-1000XM3 Noise-Cancelling headphones - Black",
                                    "2": "2",
                                    "3": "Downtown warehouse",
                                    "4": "175"
                                },
                                {
                                    "0": "12",
                                    "1": "Sony WH-1000XM3 Noise-Cancelling headphones - Black",
                                    "2": "4",
                                    "3": "NULL",
                                    "4": "104"
                                },
                                {
                                    "0": "12",
                                    "1": "Sony WH-1000XM3 Noise-Cancelling headphones - Black",
                                    "2": "5",
                                    "3": "NULL",
                                    "4": "176"
                                },
                                {
                                    "0": "12",
                                    "1": "Sony WH-1000XM3 Noise-Cancelling headphones - Black",
                                    "2": "6",
                                    "3": "NULL",
                                    "4": "82"
                                },
                                {
                                    "0": "12",
                                    "1": "Sony WH-1000XM3 Noise-Cancelling headphones - Black",
                                    "2": "7",
                                    "3": "NULL",
                                    "4": "226"
                                },
                                {
                                    "0": "12",
                                    "1": "Sony WH-1000XM3 Noise-Cancelling headphones - Black",
                                    "2": "8",
                                    "3": "NULL",
                                    "4": "226"
                                },
                                {
                                    "0": "13",
                                    "1": "HyperX AMP 7.1 USB Sound Card",
                                    "2": "2",
                                    "3": "Downtown warehouse",
                                    "4": "128"
                                },
                                {
                                    "0": "13",
                                    "1": "HyperX AMP 7.1 USB Sound Card",
                                    "2": "4",
                                    "3": "NULL",
                                    "4": "104"
                                },
                                {
                                    "0": "13",
                                    "1": "HyperX AMP 7.1 USB Sound Card",
                                    "2": "5",
                                    "3": "NULL",
                                    "4": "106"
                                },
                                {
                                    "0": "13",
                                    "1": "HyperX AMP 7.1 USB Sound Card",
                                    "2": "6",
                                    "3": "NULL",
                                    "4": "185"
                                },
                                {
                                    "0": "13",
                                    "1": "HyperX AMP 7.1 USB Sound Card",
                                    "2": "8",
                                    "3": "NULL",
                                    "4": "183"
                                },
                                {
                                    "0": "13",
                                    "1": "HyperX AMP 7.1 USB Sound Card",
                                    "2": "9",
                                    "3": "NULL",
                                    "4": "215"
                                },
                                {
                                    "0": "14",
                                    "1": "HP LaserJet Pro M15W printer",
                                    "2": "2",
                                    "3": "Downtown warehouse",
                                    "4": "101"
                                },
                                {
                                    "0": "14",
                                    "1": "HP LaserJet Pro M15W printer",
                                    "2": "7",
                                    "3": "NULL",
                                    "4": "70"
                                },
                                {
                                    "0": "14",
                                    "1": "HP LaserJet Pro M15W printer",
                                    "2": "8",
                                    "3": "NULL",
                                    "4": "163"
                                },
                                {
                                    "0": "14",
                                    "1": "HP LaserJet Pro M15W printer",
                                    "2": "9",
                                    "3": "NULL",
                                    "4": "185"
                                },
                                {
                                    "0": "15",
                                    "1": "Logitech G Pro X Mechanical TKL RGB Gaming Keyboard",
                                    "2": "2",
                                    "3": "Downtown warehouse",
                                    "4": "101"
                                },
                                {
                                    "0": "15",
                                    "1": "Logitech G Pro X Mechanical TKL RGB Gaming Keyboard",
                                    "2": "5",
                                    "3": "NULL",
                                    "4": "105"
                                },
                                {
                                    "0": "15",
                                    "1": "Logitech G Pro X Mechanical TKL RGB Gaming Keyboard",
                                    "2": "6",
                                    "3": "NULL",
                                    "4": "197"
                                },
                                {
                                    "0": "15",
                                    "1": "Logitech G Pro X Mechanical TKL RGB Gaming Keyboard",
                                    "2": "7",
                                    "3": "NULL",
                                    "4": "69"
                                },
                                {
                                    "0": "15",
                                    "1": "Logitech G Pro X Mechanical TKL RGB Gaming Keyboard",
                                    "2": "8",
                                    "3": "NULL",
                                    "4": "86"
                                },
                                {
                                    "0": "15",
                                    "1": "Logitech G Pro X Mechanical TKL RGB Gaming Keyboard",
                                    "2": "9",
                                    "3": "NULL",
                                    "4": "95"
                                },
                                {
                                    "0": "16",
                                    "1": "Canon EOS 3000D DSLR Entry-Level Camera",
                                    "2": "1",
                                    "3": "Central warehouse",
                                    "4": "97"
                                },
                                {
                                    "0": "16",
                                    "1": "Canon EOS 3000D DSLR Entry-Level Camera",
                                    "2": "2",
                                    "3": "Downtown warehouse",
                                    "4": "128"
                                },
                                {
                                    "0": "16",
                                    "1": "Canon EOS 3000D DSLR Entry-Level Camera",
                                    "2": "3",
                                    "3": "Brunswick warehouse",
                                    "4": "196"
                                },
                                {
                                    "0": "16",
                                    "1": "Canon EOS 3000D DSLR Entry-Level Camera",
                                    "2": "4",
                                    "3": "NULL",
                                    "4": "93"
                                },
                                {
                                    "0": "16",
                                    "1": "Canon EOS 3000D DSLR Entry-Level Camera",
                                    "2": "5",
                                    "3": "NULL",
                                    "4": "62"
                                },
                                {
                                    "0": "16",
                                    "1": "Canon EOS 3000D DSLR Entry-Level Camera",
                                    "2": "7",
                                    "3": "NULL",
                                    "4": "209"
                                },
                                {
                                    "0": "16",
                                    "1": "Canon EOS 3000D DSLR Entry-Level Camera",
                                    "2": "8",
                                    "3": "NULL",
                                    "4": "210"
                                },
                                {
                                    "0": "16",
                                    "1": "Canon EOS 3000D DSLR Entry-Level Camera",
                                    "2": "9",
                                    "3": "NULL",
                                    "4": "186"
                                },
                                {
                                    "0": "17",
                                    "1": "MPS Intercom system",
                                    "2": "1",
                                    "3": "Central warehouse",
                                    "4": "25"
                                },
                                {
                                    "0": "17",
                                    "1": "MPS Intercom system",
                                    "2": "4",
                                    "3": "NULL",
                                    "4": "177"
                                },
                                {
                                    "0": "17",
                                    "1": "MPS Intercom system",
                                    "2": "5",
                                    "3": "NULL",
                                    "4": "74"
                                },
                                {
                                    "0": "17",
                                    "1": "MPS Intercom system",
                                    "2": "6",
                                    "3": "NULL",
                                    "4": "18"
                                },
                                {
                                    "0": "17",
                                    "1": "MPS Intercom system",
                                    "2": "7",
                                    "3": "NULL",
                                    "4": "24"
                                },
                                {
                                    "0": "17",
                                    "1": "MPS Intercom system",
                                    "2": "8",
                                    "3": "NULL",
                                    "4": "35"
                                },
                                {
                                    "0": "17",
                                    "1": "MPS Intercom system",
                                    "2": "9",
                                    "3": "NULL",
                                    "4": "34"
                                },
                                {
                                    "0": "18",
                                    "1": "Ugreen CM129 Audio Sound Card Adapter",
                                    "2": "2",
                                    "3": "Downtown warehouse",
                                    "4": "101"
                                },
                                {
                                    "0": "18",
                                    "1": "Ugreen CM129 Audio Sound Card Adapter",
                                    "2": "5",
                                    "3": "NULL",
                                    "4": "273"
                                },
                                {
                                    "0": "18",
                                    "1": "Ugreen CM129 Audio Sound Card Adapter",
                                    "2": "6",
                                    "3": "NULL",
                                    "4": "154"
                                },
                                {
                                    "0": "18",
                                    "1": "Ugreen CM129 Audio Sound Card Adapter",
                                    "2": "7",
                                    "3": "NULL",
                                    "4": "77"
                                },
                                {
                                    "0": "18",
                                    "1": "Ugreen CM129 Audio Sound Card Adapter",
                                    "2": "8",
                                    "3": "NULL",
                                    "4": "63"
                                },
                                {
                                    "0": "18",
                                    "1": "Ugreen CM129 Audio Sound Card Adapter",
                                    "2": "9",
                                    "3": "NULL",
                                    "4": "267"
                                },
                                {
                                    "0": "19",
                                    "1": "Nikon D3500 DSLR Camera",
                                    "2": "2",
                                    "3": "Downtown warehouse",
                                    "4": "101"
                                },
                                {
                                    "0": "19",
                                    "1": "Nikon D3500 DSLR Camera",
                                    "2": "4",
                                    "3": "NULL",
                                    "4": "177"
                                },
                                {
                                    "0": "19",
                                    "1": "Nikon D3500 DSLR Camera",
                                    "2": "5",
                                    "3": "NULL",
                                    "4": "219"
                                },
                                {
                                    "0": "19",
                                    "1": "Nikon D3500 DSLR Camera",
                                    "2": "6",
                                    "3": "NULL",
                                    "4": "212"
                                },
                                {
                                    "0": "19",
                                    "1": "Nikon D3500 DSLR Camera",
                                    "2": "7",
                                    "3": "NULL",
                                    "4": "68"
                                },
                                {
                                    "0": "19",
                                    "1": "Nikon D3500 DSLR Camera",
                                    "2": "8",
                                    "3": "NULL",
                                    "4": "227"
                                },
                                {
                                    "0": "19",
                                    "1": "Nikon D3500 DSLR Camera",
                                    "2": "9",
                                    "3": "NULL",
                                    "4": "90"
                                },
                                {
                                    "0": "20",
                                    "1": "GoPro HERO 8 Black Action Camera 4K Video",
                                    "2": "2",
                                    "3": "Downtown warehouse",
                                    "4": "158"
                                },
                                {
                                    "0": "20",
                                    "1": "GoPro HERO 8 Black Action Camera 4K Video",
                                    "2": "4",
                                    "3": "NULL",
                                    "4": "246"
                                },
                                {
                                    "0": "20",
                                    "1": "GoPro HERO 8 Black Action Camera 4K Video",
                                    "2": "6",
                                    "3": "NULL",
                                    "4": "78"
                                },
                                {
                                    "0": "20",
                                    "1": "GoPro HERO 8 Black Action Camera 4K Video",
                                    "2": "7",
                                    "3": "NULL",
                                    "4": "113"
                                },
                                {
                                    "0": "20",
                                    "1": "GoPro HERO 8 Black Action Camera 4K Video",
                                    "2": "9",
                                    "3": "NULL",
                                    "4": "30"
                                },
                                {
                                    "0": "21",
                                    "1": "DJI Mavic Mini Drone",
                                    "2": "2",
                                    "3": "Downtown warehouse",
                                    "4": "117"
                                },
                                {
                                    "0": "21",
                                    "1": "DJI Mavic Mini Drone",
                                    "2": "4",
                                    "3": "NULL",
                                    "4": "74"
                                },
                                {
                                    "0": "21",
                                    "1": "DJI Mavic Mini Drone",
                                    "2": "6",
                                    "3": "NULL",
                                    "4": "110"
                                },
                                {
                                    "0": "21",
                                    "1": "DJI Mavic Mini Drone",
                                    "2": "7",
                                    "3": "NULL",
                                    "4": "37"
                                },
                                {
                                    "0": "21",
                                    "1": "DJI Mavic Mini Drone",
                                    "2": "8",
                                    "3": "NULL",
                                    "4": "179"
                                },
                                {
                                    "0": "22",
                                    "1": "HPR Workstation Intel 7",
                                    "2": "2",
                                    "3": "Downtown warehouse",
                                    "4": "215"
                                },
                                {
                                    "0": "22",
                                    "1": "HPR Workstation Intel 7",
                                    "2": "4",
                                    "3": "NULL",
                                    "4": "173"
                                },
                                {
                                    "0": "22",
                                    "1": "HPR Workstation Intel 7",
                                    "2": "6",
                                    "3": "NULL",
                                    "4": "81"
                                },
                                {
                                    "0": "22",
                                    "1": "HPR Workstation Intel 7",
                                    "2": "8",
                                    "3": "NULL",
                                    "4": "227"
                                },
                                {
                                    "0": "22",
                                    "1": "HPR Workstation Intel 7",
                                    "2": "9",
                                    "3": "NULL",
                                    "4": "271"
                                },
                                {
                                    "0": "23",
                                    "1": "PBX 32106 NUC Mini PC Desktop Kit",
                                    "2": "2",
                                    "3": "Downtown warehouse",
                                    "4": "96"
                                },
                                {
                                    "0": "23",
                                    "1": "PBX 32106 NUC Mini PC Desktop Kit",
                                    "2": "4",
                                    "3": "NULL",
                                    "4": "177"
                                },
                                {
                                    "0": "23",
                                    "1": "PBX 32106 NUC Mini PC Desktop Kit",
                                    "2": "5",
                                    "3": "NULL",
                                    "4": "74"
                                },
                                {
                                    "0": "23",
                                    "1": "PBX 32106 NUC Mini PC Desktop Kit",
                                    "2": "6",
                                    "3": "NULL",
                                    "4": "111"
                                },
                                {
                                    "0": "23",
                                    "1": "PBX 32106 NUC Mini PC Desktop Kit",
                                    "2": "8",
                                    "3": "NULL",
                                    "4": "171"
                                },
                                {
                                    "0": "24",
                                    "1": "Apple iPhone 6S - Silver",
                                    "2": "1",
                                    "3": "Central warehouse",
                                    "4": "36"
                                },
                                {
                                    "0": "24",
                                    "1": "Apple iPhone 6S - Silver",
                                    "2": "2",
                                    "3": "Downtown warehouse",
                                    "4": "38"
                                },
                                {
                                    "0": "24",
                                    "1": "Apple iPhone 6S - Silver",
                                    "2": "4",
                                    "3": "NULL",
                                    "4": "34"
                                },
                                {
                                    "0": "24",
                                    "1": "Apple iPhone 6S - Silver",
                                    "2": "5",
                                    "3": "NULL",
                                    "4": "115"
                                },
                                {
                                    "0": "24",
                                    "1": "Apple iPhone 6S - Silver",
                                    "2": "6",
                                    "3": "NULL",
                                    "4": "19"
                                },
                                {
                                    "0": "24",
                                    "1": "Apple iPhone 6S - Silver",
                                    "2": "7",
                                    "3": "NULL",
                                    "4": "29"
                                },
                                {
                                    "0": "24",
                                    "1": "Apple iPhone 6S - Silver",
                                    "2": "8",
                                    "3": "NULL",
                                    "4": "20"
                                },
                                {
                                    "0": "25",
                                    "1": "Apple iPhone SE 128GB - Black",
                                    "2": "2",
                                    "3": "Downtown warehouse",
                                    "4": "33"
                                },
                                {
                                    "0": "25",
                                    "1": "Apple iPhone SE 128GB - Black",
                                    "2": "3",
                                    "3": "Brunswick warehouse",
                                    "4": "176"
                                },
                                {
                                    "0": "25",
                                    "1": "Apple iPhone SE 128GB - Black",
                                    "2": "4",
                                    "3": "NULL",
                                    "4": "173"
                                },
                                {
                                    "0": "25",
                                    "1": "Apple iPhone SE 128GB - Black",
                                    "2": "5",
                                    "3": "NULL",
                                    "4": "210"
                                },
                                {
                                    "0": "25",
                                    "1": "Apple iPhone SE 128GB - Black",
                                    "2": "6",
                                    "3": "NULL",
                                    "4": "122"
                                },
                                {
                                    "0": "25",
                                    "1": "Apple iPhone SE 128GB - Black",
                                    "2": "7",
                                    "3": "NULL",
                                    "4": "227"
                                },
                                {
                                    "0": "25",
                                    "1": "Apple iPhone SE 128GB - Black",
                                    "2": "8",
                                    "3": "NULL",
                                    "4": "178"
                                },
                                {
                                    "0": "26",
                                    "1": "DJI Mavic 2 Pro Drone with Hasselblad Camera",
                                    "2": "2",
                                    "3": "Downtown warehouse",
                                    "4": "100"
                                },
                                {
                                    "0": "26",
                                    "1": "DJI Mavic 2 Pro Drone with Hasselblad Camera",
                                    "2": "3",
                                    "3": "Brunswick warehouse",
                                    "4": "103"
                                },
                                {
                                    "0": "26",
                                    "1": "DJI Mavic 2 Pro Drone with Hasselblad Camera",
                                    "2": "4",
                                    "3": "NULL",
                                    "4": "73"
                                },
                                {
                                    "0": "26",
                                    "1": "DJI Mavic 2 Pro Drone with Hasselblad Camera",
                                    "2": "6",
                                    "3": "NULL",
                                    "4": "122"
                                },
                                {
                                    "0": "26",
                                    "1": "DJI Mavic 2 Pro Drone with Hasselblad Camera",
                                    "2": "7",
                                    "3": "NULL",
                                    "4": "227"
                                },
                                {
                                    "0": "26",
                                    "1": "DJI Mavic 2 Pro Drone with Hasselblad Camera",
                                    "2": "8",
                                    "3": "NULL",
                                    "4": "38"
                                },
                                {
                                    "0": "26",
                                    "1": "DJI Mavic 2 Pro Drone with Hasselblad Camera",
                                    "2": "9",
                                    "3": "NULL",
                                    "4": "220"
                                },
                                {
                                    "0": "27",
                                    "1": "Canon EF 50mm f/1.8 STM Lens for Canon Digital SLR Cameras",
                                    "2": "1",
                                    "3": "Central warehouse",
                                    "4": "275"
                                },
                                {
                                    "0": "27",
                                    "1": "Canon EF 50mm f/1.8 STM Lens for Canon Digital SLR Cameras",
                                    "2": "2",
                                    "3": "Downtown warehouse",
                                    "4": "131"
                                },
                                {
                                    "0": "27",
                                    "1": "Canon EF 50mm f/1.8 STM Lens for Canon Digital SLR Cameras",
                                    "2": "4",
                                    "3": "NULL",
                                    "4": "245"
                                },
                                {
                                    "0": "27",
                                    "1": "Canon EF 50mm f/1.8 STM Lens for Canon Digital SLR Cameras",
                                    "2": "6",
                                    "3": "NULL",
                                    "4": "119"
                                },
                                {
                                    "0": "28",
                                    "1": "Canon Black CLI-8 Ink Cartridge",
                                    "2": "1",
                                    "3": "Central warehouse",
                                    "4": "76"
                                },
                                {
                                    "0": "28",
                                    "1": "Canon Black CLI-8 Ink Cartridge",
                                    "2": "2",
                                    "3": "Downtown warehouse",
                                    "4": "33"
                                },
                                {
                                    "0": "28",
                                    "1": "Canon Black CLI-8 Ink Cartridge",
                                    "2": "3",
                                    "3": "Brunswick warehouse",
                                    "4": "9"
                                },
                                {
                                    "0": "28",
                                    "1": "Canon Black CLI-8 Ink Cartridge",
                                    "2": "5",
                                    "3": "NULL",
                                    "4": "35"
                                },
                                {
                                    "0": "28",
                                    "1": "Canon Black CLI-8 Ink Cartridge",
                                    "2": "6",
                                    "3": "NULL",
                                    "4": "25"
                                },
                                {
                                    "0": "28",
                                    "1": "Canon Black CLI-8 Ink Cartridge",
                                    "2": "7",
                                    "3": "NULL",
                                    "4": "16"
                                },
                                {
                                    "0": "28",
                                    "1": "Canon Black CLI-8 Ink Cartridge",
                                    "2": "8",
                                    "3": "NULL",
                                    "4": "9"
                                },
                                {
                                    "0": "28",
                                    "1": "Canon Black CLI-8 Ink Cartridge",
                                    "2": "9",
                                    "3": "NULL",
                                    "4": "40"
                                },
                                {
                                    "0": "29",
                                    "1": "APY Intercom System",
                                    "2": "2",
                                    "3": "Downtown warehouse",
                                    "4": "42"
                                },
                                {
                                    "0": "29",
                                    "1": "APY Intercom System",
                                    "2": "4",
                                    "3": "NULL",
                                    "4": "36"
                                },
                                {
                                    "0": "29",
                                    "1": "APY Intercom System",
                                    "2": "5",
                                    "3": "NULL",
                                    "4": "181"
                                },
                                {
                                    "0": "29",
                                    "1": "APY Intercom System",
                                    "2": "6",
                                    "3": "NULL",
                                    "4": "32"
                                },
                                {
                                    "0": "29",
                                    "1": "APY Intercom System",
                                    "2": "7",
                                    "3": "NULL",
                                    "4": "223"
                                },
                                {
                                    "0": "29",
                                    "1": "APY Intercom System",
                                    "2": "8",
                                    "3": "NULL",
                                    "4": "182"
                                },
                                {
                                    "0": "29",
                                    "1": "APY Intercom System",
                                    "2": "9",
                                    "3": "NULL",
                                    "4": "32"
                                },
                                {
                                    "0": "30",
                                    "1": "Leadtek Quadro P620 Professional Workstation Graphics Card",
                                    "2": "1",
                                    "3": "Central warehouse",
                                    "4": "98"
                                },
                                {
                                    "0": "30",
                                    "1": "Leadtek Quadro P620 Professional Workstation Graphics Card",
                                    "2": "2",
                                    "3": "Downtown warehouse",
                                    "4": "102"
                                },
                                {
                                    "0": "30",
                                    "1": "Leadtek Quadro P620 Professional Workstation Graphics Card",
                                    "2": "5",
                                    "3": "NULL",
                                    "4": "304"
                                },
                                {
                                    "0": "30",
                                    "1": "Leadtek Quadro P620 Professional Workstation Graphics Card",
                                    "2": "6",
                                    "3": "NULL",
                                    "4": "78"
                                },
                                {
                                    "0": "30",
                                    "1": "Leadtek Quadro P620 Professional Workstation Graphics Card",
                                    "2": "7",
                                    "3": "NULL",
                                    "4": "226"
                                },
                                {
                                    "0": "30",
                                    "1": "Leadtek Quadro P620 Professional Workstation Graphics Card",
                                    "2": "8",
                                    "3": "NULL",
                                    "4": "235"
                                },
                                {
                                    "0": "30",
                                    "1": "Leadtek Quadro P620 Professional Workstation Graphics Card",
                                    "2": "9",
                                    "3": "NULL",
                                    "4": "100"
                                },
                                {
                                    "0": "31",
                                    "1": "Logitech Z333 2.1 Multimedia Speaker System",
                                    "2": "1",
                                    "3": "Central warehouse",
                                    "4": "194"
                                },
                                {
                                    "0": "31",
                                    "1": "Logitech Z333 2.1 Multimedia Speaker System",
                                    "2": "4",
                                    "3": "NULL",
                                    "4": "273"
                                },
                                {
                                    "0": "31",
                                    "1": "Logitech Z333 2.1 Multimedia Speaker System",
                                    "2": "5",
                                    "3": "NULL",
                                    "4": "194"
                                },
                                {
                                    "0": "31",
                                    "1": "Logitech Z333 2.1 Multimedia Speaker System",
                                    "2": "6",
                                    "3": "NULL",
                                    "4": "184"
                                },
                                {
                                    "0": "31",
                                    "1": "Logitech Z333 2.1 Multimedia Speaker System",
                                    "2": "7",
                                    "3": "NULL",
                                    "4": "225"
                                },
                                {
                                    "0": "31",
                                    "1": "Logitech Z333 2.1 Multimedia Speaker System",
                                    "2": "8",
                                    "3": "NULL",
                                    "4": "227"
                                },
                                {
                                    "0": "32",
                                    "1": "Blue Yeti Microphone",
                                    "2": "2",
                                    "3": "Downtown warehouse",
                                    "4": "95"
                                },
                                {
                                    "0": "32",
                                    "1": "Blue Yeti Microphone",
                                    "2": "4",
                                    "3": "NULL",
                                    "4": "172"
                                },
                                {
                                    "0": "32",
                                    "1": "Blue Yeti Microphone",
                                    "2": "6",
                                    "3": "NULL",
                                    "4": "68"
                                },
                                {
                                    "0": "32",
                                    "1": "Blue Yeti Microphone",
                                    "2": "7",
                                    "3": "NULL",
                                    "4": "113"
                                },
                                {
                                    "0": "32",
                                    "1": "Blue Yeti Microphone",
                                    "2": "8",
                                    "3": "NULL",
                                    "4": "183"
                                },
                                {
                                    "0": "32",
                                    "1": "Blue Yeti Microphone",
                                    "2": "9",
                                    "3": "NULL",
                                    "4": "216"
                                },
                                {
                                    "0": "33",
                                    "1": "Edifier Multimedia 2.0 system PC Speaker",
                                    "2": "3",
                                    "3": "Brunswick warehouse",
                                    "4": "178"
                                },
                                {
                                    "0": "33",
                                    "1": "Edifier Multimedia 2.0 system PC Speaker",
                                    "2": "4",
                                    "3": "NULL",
                                    "4": "107"
                                },
                                {
                                    "0": "33",
                                    "1": "Edifier Multimedia 2.0 system PC Speaker",
                                    "2": "5",
                                    "3": "NULL",
                                    "4": "193"
                                },
                                {
                                    "0": "33",
                                    "1": "Edifier Multimedia 2.0 system PC Speaker",
                                    "2": "6",
                                    "3": "NULL",
                                    "4": "67"
                                },
                                {
                                    "0": "33",
                                    "1": "Edifier Multimedia 2.0 system PC Speaker",
                                    "2": "7",
                                    "3": "NULL",
                                    "4": "71"
                                },
                                {
                                    "0": "33",
                                    "1": "Edifier Multimedia 2.0 system PC Speaker",
                                    "2": "8",
                                    "3": "NULL",
                                    "4": "63"
                                },
                                {
                                    "0": "33",
                                    "1": "Edifier Multimedia 2.0 system PC Speaker",
                                    "2": "9",
                                    "3": "NULL",
                                    "4": "89"
                                },
                                {
                                    "0": "34",
                                    "1": "Samsung Galaxy Note10 - Aura Black",
                                    "2": "1",
                                    "3": "Central warehouse",
                                    "4": "32"
                                },
                                {
                                    "0": "34",
                                    "1": "Samsung Galaxy Note10 - Aura Black",
                                    "2": "2",
                                    "3": "Downtown warehouse",
                                    "4": "118"
                                },
                                {
                                    "0": "34",
                                    "1": "Samsung Galaxy Note10 - Aura Black",
                                    "2": "4",
                                    "3": "NULL",
                                    "4": "107"
                                },
                                {
                                    "0": "34",
                                    "1": "Samsung Galaxy Note10 - Aura Black",
                                    "2": "5",
                                    "3": "NULL",
                                    "4": "77"
                                },
                                {
                                    "0": "34",
                                    "1": "Samsung Galaxy Note10 - Aura Black",
                                    "2": "6",
                                    "3": "NULL",
                                    "4": "223"
                                },
                                {
                                    "0": "34",
                                    "1": "Samsung Galaxy Note10 - Aura Black",
                                    "2": "7",
                                    "3": "NULL",
                                    "4": "30"
                                },
                                {
                                    "0": "34",
                                    "1": "Samsung Galaxy Note10 - Aura Black",
                                    "2": "8",
                                    "3": "NULL",
                                    "4": "170"
                                },
                                {
                                    "0": "34",
                                    "1": "Samsung Galaxy Note10 - Aura Black",
                                    "2": "9",
                                    "3": "NULL",
                                    "4": "219"
                                },
                                {
                                    "0": "35",
                                    "1": "PBX Smart Watch 4",
                                    "2": "2",
                                    "3": "Downtown warehouse",
                                    "4": "175"
                                },
                                {
                                    "0": "35",
                                    "1": "PBX Smart Watch 4",
                                    "2": "4",
                                    "3": "NULL",
                                    "4": "146"
                                },
                                {
                                    "0": "35",
                                    "1": "PBX Smart Watch 4",
                                    "2": "6",
                                    "3": "NULL",
                                    "4": "184"
                                },
                                {
                                    "0": "35",
                                    "1": "PBX Smart Watch 4",
                                    "2": "7",
                                    "3": "NULL",
                                    "4": "71"
                                },
                                {
                                    "0": "35",
                                    "1": "PBX Smart Watch 4",
                                    "2": "8",
                                    "3": "NULL",
                                    "4": "30"
                                },
                                {
                                    "0": "36",
                                    "1": "Leadtek Quadro P1000 Full Performance Professional Graphics Card",
                                    "2": "2",
                                    "3": "Downtown warehouse",
                                    "4": "118"
                                },
                                {
                                    "0": "36",
                                    "1": "Leadtek Quadro P1000 Full Performance Professional Graphics Card",
                                    "2": "3",
                                    "3": "Brunswick warehouse",
                                    "4": "43"
                                },
                                {
                                    "0": "36",
                                    "1": "Leadtek Quadro P1000 Full Performance Professional Graphics Card",
                                    "2": "5",
                                    "3": "NULL",
                                    "4": "84"
                                },
                                {
                                    "0": "36",
                                    "1": "Leadtek Quadro P1000 Full Performance Professional Graphics Card",
                                    "2": "6",
                                    "3": "NULL",
                                    "4": "216"
                                },
                                {
                                    "0": "36",
                                    "1": "Leadtek Quadro P1000 Full Performance Professional Graphics Card",
                                    "2": "7",
                                    "3": "NULL",
                                    "4": "226"
                                },
                                {
                                    "0": "36",
                                    "1": "Leadtek Quadro P1000 Full Performance Professional Graphics Card",
                                    "2": "8",
                                    "3": "NULL",
                                    "4": "76"
                                },
                                {
                                    "0": "36",
                                    "1": "Leadtek Quadro P1000 Full Performance Professional Graphics Card",
                                    "2": "9",
                                    "3": "NULL",
                                    "4": "95"
                                },
                                {
                                    "0": "37",
                                    "1": "Leadtek Quadro P400 Professional Workstation Graphics Card",
                                    "2": "1",
                                    "3": "Central warehouse",
                                    "4": "165"
                                },
                                {
                                    "0": "37",
                                    "1": "Leadtek Quadro P400 Professional Workstation Graphics Card",
                                    "2": "3",
                                    "3": "Brunswick warehouse",
                                    "4": "103"
                                },
                                {
                                    "0": "37",
                                    "1": "Leadtek Quadro P400 Professional Workstation Graphics Card",
                                    "2": "4",
                                    "3": "NULL",
                                    "4": "49"
                                },
                                {
                                    "0": "37",
                                    "1": "Leadtek Quadro P400 Professional Workstation Graphics Card",
                                    "2": "5",
                                    "3": "NULL",
                                    "4": "83"
                                },
                                {
                                    "0": "37",
                                    "1": "Leadtek Quadro P400 Professional Workstation Graphics Card",
                                    "2": "6",
                                    "3": "NULL",
                                    "4": "122"
                                },
                                {
                                    "0": "37",
                                    "1": "Leadtek Quadro P400 Professional Workstation Graphics Card",
                                    "2": "8",
                                    "3": "NULL",
                                    "4": "77"
                                },
                                {
                                    "0": "37",
                                    "1": "Leadtek Quadro P400 Professional Workstation Graphics Card",
                                    "2": "9",
                                    "3": "NULL",
                                    "4": "97"
                                },
                                {
                                    "0": "38",
                                    "1": "Apple Watch Series 3 - Grey",
                                    "2": "1",
                                    "3": "Central warehouse",
                                    "4": "157"
                                },
                                {
                                    "0": "38",
                                    "1": "Apple Watch Series 3 - Grey",
                                    "2": "2",
                                    "3": "Downtown warehouse",
                                    "4": "131"
                                },
                                {
                                    "0": "38",
                                    "1": "Apple Watch Series 3 - Grey",
                                    "2": "4",
                                    "3": "NULL",
                                    "4": "50"
                                },
                                {
                                    "0": "38",
                                    "1": "Apple Watch Series 3 - Grey",
                                    "2": "6",
                                    "3": "NULL",
                                    "4": "119"
                                },
                                {
                                    "0": "38",
                                    "1": "Apple Watch Series 3 - Grey",
                                    "2": "7",
                                    "3": "NULL",
                                    "4": "91"
                                },
                                {
                                    "0": "38",
                                    "1": "Apple Watch Series 3 - Grey",
                                    "2": "8",
                                    "3": "NULL",
                                    "4": "76"
                                },
                                {
                                    "0": "38",
                                    "1": "Apple Watch Series 3 - Grey",
                                    "2": "9",
                                    "3": "NULL",
                                    "4": "185"
                                },
                                {
                                    "0": "39",
                                    "1": "Spigen iPhone 11 Clear Case",
                                    "2": "1",
                                    "3": "Central warehouse",
                                    "4": "125"
                                },
                                {
                                    "0": "39",
                                    "1": "Spigen iPhone 11 Clear Case",
                                    "2": "2",
                                    "3": "Downtown warehouse",
                                    "4": "127"
                                },
                                {
                                    "0": "39",
                                    "1": "Spigen iPhone 11 Clear Case",
                                    "2": "4",
                                    "3": "NULL",
                                    "4": "98"
                                },
                                {
                                    "0": "39",
                                    "1": "Spigen iPhone 11 Clear Case",
                                    "2": "6",
                                    "3": "NULL",
                                    "4": "63"
                                },
                                {
                                    "0": "39",
                                    "1": "Spigen iPhone 11 Clear Case",
                                    "2": "9",
                                    "3": "NULL",
                                    "4": "31"
                                },
                                {
                                    "0": "40",
                                    "1": "Samsung 1TB Solid State Drive SSD",
                                    "2": "2",
                                    "3": "Downtown warehouse",
                                    "4": "73"
                                },
                                {
                                    "0": "40",
                                    "1": "Samsung 1TB Solid State Drive SSD",
                                    "2": "4",
                                    "3": "NULL",
                                    "4": "50"
                                },
                                {
                                    "0": "40",
                                    "1": "Samsung 1TB Solid State Drive SSD",
                                    "2": "5",
                                    "3": "NULL",
                                    "4": "99"
                                },
                                {
                                    "0": "40",
                                    "1": "Samsung 1TB Solid State Drive SSD",
                                    "2": "6",
                                    "3": "NULL",
                                    "4": "213"
                                },
                                {
                                    "0": "40",
                                    "1": "Samsung 1TB Solid State Drive SSD",
                                    "2": "7",
                                    "3": "NULL",
                                    "4": "214"
                                },
                                {
                                    "0": "40",
                                    "1": "Samsung 1TB Solid State Drive SSD",
                                    "2": "8",
                                    "3": "NULL",
                                    "4": "94"
                                },
                                {
                                    "0": "40",
                                    "1": "Samsung 1TB Solid State Drive SSD",
                                    "2": "9",
                                    "3": "NULL",
                                    "4": "275"
                                },
                                {
                                    "0": "41",
                                    "1": "Crucial MX500 500GB SSD",
                                    "2": "1",
                                    "3": "Central warehouse",
                                    "4": "32"
                                },
                                {
                                    "0": "41",
                                    "1": "Crucial MX500 500GB SSD",
                                    "2": "2",
                                    "3": "Downtown warehouse",
                                    "4": "102"
                                },
                                {
                                    "0": "41",
                                    "1": "Crucial MX500 500GB SSD",
                                    "2": "4",
                                    "3": "NULL",
                                    "4": "49"
                                },
                                {
                                    "0": "41",
                                    "1": "Crucial MX500 500GB SSD",
                                    "2": "5",
                                    "3": "NULL",
                                    "4": "104"
                                },
                                {
                                    "0": "41",
                                    "1": "Crucial MX500 500GB SSD",
                                    "2": "6",
                                    "3": "NULL",
                                    "4": "117"
                                },
                                {
                                    "0": "41",
                                    "1": "Crucial MX500 500GB SSD",
                                    "2": "8",
                                    "3": "NULL",
                                    "4": "163"
                                },
                                {
                                    "0": "41",
                                    "1": "Crucial MX500 500GB SSD",
                                    "2": "9",
                                    "3": "NULL",
                                    "4": "164"
                                },
                                {
                                    "0": "42",
                                    "1": "PBX Everyday Home PC 43300",
                                    "2": "3",
                                    "3": "Brunswick warehouse",
                                    "4": "35"
                                },
                                {
                                    "0": "42",
                                    "1": "PBX Everyday Home PC 43300",
                                    "2": "4",
                                    "3": "NULL",
                                    "4": "21"
                                },
                                {
                                    "0": "42",
                                    "1": "PBX Everyday Home PC 43300",
                                    "2": "5",
                                    "3": "NULL",
                                    "4": "114"
                                },
                                {
                                    "0": "42",
                                    "1": "PBX Everyday Home PC 43300",
                                    "2": "6",
                                    "3": "NULL",
                                    "4": "24"
                                },
                                {
                                    "0": "42",
                                    "1": "PBX Everyday Home PC 43300",
                                    "2": "7",
                                    "3": "NULL",
                                    "4": "21"
                                },
                                {
                                    "0": "42",
                                    "1": "PBX Everyday Home PC 43300",
                                    "2": "8",
                                    "3": "NULL",
                                    "4": "19"
                                },
                                {
                                    "0": "42",
                                    "1": "PBX Everyday Home PC 43300",
                                    "2": "9",
                                    "3": "NULL",
                                    "4": "74"
                                },
                                {
                                    "0": "43",
                                    "1": "Samsung Galaxy S20 Smart Cover",
                                    "2": "1",
                                    "3": "Central warehouse",
                                    "4": "66"
                                },
                                {
                                    "0": "43",
                                    "1": "Samsung Galaxy S20 Smart Cover",
                                    "2": "4",
                                    "3": "NULL",
                                    "4": "175"
                                },
                                {
                                    "0": "43",
                                    "1": "Samsung Galaxy S20 Smart Cover",
                                    "2": "5",
                                    "3": "NULL",
                                    "4": "78"
                                },
                                {
                                    "0": "43",
                                    "1": "Samsung Galaxy S20 Smart Cover",
                                    "2": "7",
                                    "3": "NULL",
                                    "4": "214"
                                },
                                {
                                    "0": "43",
                                    "1": "Samsung Galaxy S20 Smart Cover",
                                    "2": "8",
                                    "3": "NULL",
                                    "4": "76"
                                },
                                {
                                    "0": "43",
                                    "1": "Samsung Galaxy S20 Smart Cover",
                                    "2": "9",
                                    "3": "NULL",
                                    "4": "90"
                                },
                                {
                                    "0": "44",
                                    "1": "ASUS VG279Q 27 inch Full HD IPS Gaming Monitor",
                                    "2": "2",
                                    "3": "Downtown warehouse",
                                    "4": "170"
                                },
                                {
                                    "0": "44",
                                    "1": "ASUS VG279Q 27 inch Full HD IPS Gaming Monitor",
                                    "2": "4",
                                    "3": "NULL",
                                    "4": "176"
                                },
                                {
                                    "0": "44",
                                    "1": "ASUS VG279Q 27 inch Full HD IPS Gaming Monitor",
                                    "2": "5",
                                    "3": "NULL",
                                    "4": "118"
                                },
                                {
                                    "0": "44",
                                    "1": "ASUS VG279Q 27 inch Full HD IPS Gaming Monitor",
                                    "2": "6",
                                    "3": "NULL",
                                    "4": "227"
                                },
                                {
                                    "0": "44",
                                    "1": "ASUS VG279Q 27 inch Full HD IPS Gaming Monitor",
                                    "2": "7",
                                    "3": "NULL",
                                    "4": "226"
                                },
                                {
                                    "0": "44",
                                    "1": "ASUS VG279Q 27 inch Full HD IPS Gaming Monitor",
                                    "2": "8",
                                    "3": "NULL",
                                    "4": "172"
                                },
                                {
                                    "0": "44",
                                    "1": "ASUS VG279Q 27 inch Full HD IPS Gaming Monitor",
                                    "2": "9",
                                    "3": "NULL",
                                    "4": "75"
                                },
                                {
                                    "0": "45",
                                    "1": "Aten UC3020 CamLive HDMI to USB-C Video Capture",
                                    "2": "2",
                                    "3": "Downtown warehouse",
                                    "4": "127"
                                },
                                {
                                    "0": "45",
                                    "1": "Aten UC3020 CamLive HDMI to USB-C Video Capture",
                                    "2": "3",
                                    "3": "Brunswick warehouse",
                                    "4": "176"
                                },
                                {
                                    "0": "45",
                                    "1": "Aten UC3020 CamLive HDMI to USB-C Video Capture",
                                    "2": "4",
                                    "3": "NULL",
                                    "4": "272"
                                },
                                {
                                    "0": "45",
                                    "1": "Aten UC3020 CamLive HDMI to USB-C Video Capture",
                                    "2": "5",
                                    "3": "NULL",
                                    "4": "69"
                                },
                                {
                                    "0": "45",
                                    "1": "Aten UC3020 CamLive HDMI to USB-C Video Capture",
                                    "2": "6",
                                    "3": "NULL",
                                    "4": "62"
                                },
                                {
                                    "0": "45",
                                    "1": "Aten UC3020 CamLive HDMI to USB-C Video Capture",
                                    "2": "7",
                                    "3": "NULL",
                                    "4": "29"
                                },
                                {
                                    "0": "45",
                                    "1": "Aten UC3020 CamLive HDMI to USB-C Video Capture",
                                    "2": "8",
                                    "3": "NULL",
                                    "4": "173"
                                },
                                {
                                    "0": "45",
                                    "1": "Aten UC3020 CamLive HDMI to USB-C Video Capture",
                                    "2": "9",
                                    "3": "NULL",
                                    "4": "74"
                                },
                                {
                                    "0": "46",
                                    "1": "Cooler Master Hyper 212",
                                    "2": "2",
                                    "3": "Downtown warehouse",
                                    "4": "118"
                                },
                                {
                                    "0": "46",
                                    "1": "Cooler Master Hyper 212",
                                    "2": "4",
                                    "3": "NULL",
                                    "4": "50"
                                },
                                {
                                    "0": "46",
                                    "1": "Cooler Master Hyper 212",
                                    "2": "5",
                                    "3": "NULL",
                                    "4": "54"
                                },
                                {
                                    "0": "46",
                                    "1": "Cooler Master Hyper 212",
                                    "2": "8",
                                    "3": "NULL",
                                    "4": "180"
                                },
                                {
                                    "0": "46",
                                    "1": "Cooler Master Hyper 212",
                                    "2": "9",
                                    "3": "NULL",
                                    "4": "164"
                                },
                                {
                                    "0": "47",
                                    "1": "Canon EOS M50 Mirrorless Camera",
                                    "2": "1",
                                    "3": "Central warehouse",
                                    "4": "98"
                                },
                                {
                                    "0": "47",
                                    "1": "Canon EOS M50 Mirrorless Camera",
                                    "2": "2",
                                    "3": "Downtown warehouse",
                                    "4": "133"
                                },
                                {
                                    "0": "47",
                                    "1": "Canon EOS M50 Mirrorless Camera",
                                    "2": "3",
                                    "3": "Brunswick warehouse",
                                    "4": "136"
                                },
                                {
                                    "0": "47",
                                    "1": "Canon EOS M50 Mirrorless Camera",
                                    "2": "4",
                                    "3": "NULL",
                                    "4": "96"
                                },
                                {
                                    "0": "47",
                                    "1": "Canon EOS M50 Mirrorless Camera",
                                    "2": "5",
                                    "3": "NULL",
                                    "4": "195"
                                },
                                {
                                    "0": "47",
                                    "1": "Canon EOS M50 Mirrorless Camera",
                                    "2": "6",
                                    "3": "NULL",
                                    "4": "81"
                                },
                                {
                                    "0": "47",
                                    "1": "Canon EOS M50 Mirrorless Camera",
                                    "2": "7",
                                    "3": "NULL",
                                    "4": "225"
                                },
                                {
                                    "0": "47",
                                    "1": "Canon EOS M50 Mirrorless Camera",
                                    "2": "8",
                                    "3": "NULL",
                                    "4": "88"
                                },
                                {
                                    "0": "47",
                                    "1": "Canon EOS M50 Mirrorless Camera",
                                    "2": "9",
                                    "3": "NULL",
                                    "4": "88"
                                },
                                {
                                    "0": "48",
                                    "1": "Canon EOS 80D DSLR Camera Single Lens Kit",
                                    "2": "1",
                                    "3": "Central warehouse",
                                    "4": "165"
                                },
                                {
                                    "0": "48",
                                    "1": "Canon EOS 80D DSLR Camera Single Lens Kit",
                                    "2": "2",
                                    "3": "Downtown warehouse",
                                    "4": "79"
                                },
                                {
                                    "0": "48",
                                    "1": "Canon EOS 80D DSLR Camera Single Lens Kit",
                                    "2": "4",
                                    "3": "NULL",
                                    "4": "54"
                                },
                                {
                                    "0": "48",
                                    "1": "Canon EOS 80D DSLR Camera Single Lens Kit",
                                    "2": "5",
                                    "3": "NULL",
                                    "4": "114"
                                },
                                {
                                    "0": "48",
                                    "1": "Canon EOS 80D DSLR Camera Single Lens Kit",
                                    "2": "6",
                                    "3": "NULL",
                                    "4": "63"
                                },
                                {
                                    "0": "48",
                                    "1": "Canon EOS 80D DSLR Camera Single Lens Kit",
                                    "2": "7",
                                    "3": "NULL",
                                    "4": "74"
                                },
                                {
                                    "0": "48",
                                    "1": "Canon EOS 80D DSLR Camera Single Lens Kit",
                                    "2": "8",
                                    "3": "NULL",
                                    "4": "178"
                                },
                                {
                                    "0": "48",
                                    "1": "Canon EOS 80D DSLR Camera Single Lens Kit",
                                    "2": "9",
                                    "3": "NULL",
                                    "4": "39"
                                },
                                {
                                    "0": "49",
                                    "1": "GoPro HERO 7 Silver Action Camera 4K Video",
                                    "2": "1",
                                    "3": "Central warehouse",
                                    "4": "101"
                                },
                                {
                                    "0": "49",
                                    "1": "GoPro HERO 7 Silver Action Camera 4K Video",
                                    "2": "2",
                                    "3": "Downtown warehouse",
                                    "4": "81"
                                },
                                {
                                    "0": "49",
                                    "1": "GoPro HERO 7 Silver Action Camera 4K Video",
                                    "2": "3",
                                    "3": "Brunswick warehouse",
                                    "4": "197"
                                },
                                {
                                    "0": "49",
                                    "1": "GoPro HERO 7 Silver Action Camera 4K Video",
                                    "2": "4",
                                    "3": "NULL",
                                    "4": "48"
                                },
                                {
                                    "0": "49",
                                    "1": "GoPro HERO 7 Silver Action Camera 4K Video",
                                    "2": "5",
                                    "3": "NULL",
                                    "4": "304"
                                },
                                {
                                    "0": "49",
                                    "1": "GoPro HERO 7 Silver Action Camera 4K Video",
                                    "2": "6",
                                    "3": "NULL",
                                    "4": "220"
                                },
                                {
                                    "0": "49",
                                    "1": "GoPro HERO 7 Silver Action Camera 4K Video",
                                    "2": "7",
                                    "3": "NULL",
                                    "4": "30"
                                },
                                {
                                    "0": "49",
                                    "1": "GoPro HERO 7 Silver Action Camera 4K Video",
                                    "2": "8",
                                    "3": "NULL",
                                    "4": "210"
                                },
                                {
                                    "0": "49",
                                    "1": "GoPro HERO 7 Silver Action Camera 4K Video",
                                    "2": "9",
                                    "3": "NULL",
                                    "4": "185"
                                },
                                {
                                    "0": "50",
                                    "1": "Comet Drone with Camera",
                                    "2": "3",
                                    "3": "Brunswick warehouse",
                                    "4": "103"
                                },
                                {
                                    "0": "50",
                                    "1": "Comet Drone with Camera",
                                    "2": "4",
                                    "3": "NULL",
                                    "4": "251"
                                },
                                {
                                    "0": "50",
                                    "1": "Comet Drone with Camera",
                                    "2": "5",
                                    "3": "NULL",
                                    "4": "54"
                                },
                                {
                                    "0": "50",
                                    "1": "Comet Drone with Camera",
                                    "2": "6",
                                    "3": "NULL",
                                    "4": "213"
                                },
                                {
                                    "0": "50",
                                    "1": "Comet Drone with Camera",
                                    "2": "7",
                                    "3": "NULL",
                                    "4": "227"
                                },
                                {
                                    "0": "50",
                                    "1": "Comet Drone with Camera",
                                    "2": "8",
                                    "3": "NULL",
                                    "4": "169"
                                },
                                {
                                    "0": "50",
                                    "1": "Comet Drone with Camera",
                                    "2": "9",
                                    "3": "NULL",
                                    "4": "73"
                                },
                                {
                                    "0": "51",
                                    "1": "HP Ink Cartridge 65XL Black",
                                    "2": "2",
                                    "3": "Downtown warehouse",
                                    "4": "96"
                                },
                                {
                                    "0": "51",
                                    "1": "HP Ink Cartridge 65XL Black",
                                    "2": "3",
                                    "3": "Brunswick warehouse",
                                    "4": "176"
                                },
                                {
                                    "0": "51",
                                    "1": "HP Ink Cartridge 65XL Black",
                                    "2": "4",
                                    "3": "NULL",
                                    "4": "222"
                                },
                                {
                                    "0": "51",
                                    "1": "HP Ink Cartridge 65XL Black",
                                    "2": "5",
                                    "3": "NULL",
                                    "4": "114"
                                },
                                {
                                    "0": "51",
                                    "1": "HP Ink Cartridge 65XL Black",
                                    "2": "6",
                                    "3": "NULL",
                                    "4": "216"
                                },
                                {
                                    "0": "51",
                                    "1": "HP Ink Cartridge 65XL Black",
                                    "2": "8",
                                    "3": "NULL",
                                    "4": "88"
                                },
                                {
                                    "0": "51",
                                    "1": "HP Ink Cartridge 65XL Black",
                                    "2": "9",
                                    "3": "NULL",
                                    "4": "184"
                                },
                                {
                                    "0": "52",
                                    "1": "ASUS W203MA Laptop",
                                    "2": "2",
                                    "3": "Downtown warehouse",
                                    "4": "81"
                                },
                                {
                                    "0": "52",
                                    "1": "ASUS W203MA Laptop",
                                    "2": "3",
                                    "3": "Brunswick warehouse",
                                    "4": "136"
                                },
                                {
                                    "0": "52",
                                    "1": "ASUS W203MA Laptop",
                                    "2": "5",
                                    "3": "NULL",
                                    "4": "181"
                                },
                                {
                                    "0": "52",
                                    "1": "ASUS W203MA Laptop",
                                    "2": "7",
                                    "3": "NULL",
                                    "4": "119"
                                },
                                {
                                    "0": "52",
                                    "1": "ASUS W203MA Laptop",
                                    "2": "8",
                                    "3": "NULL",
                                    "4": "227"
                                },
                                {
                                    "0": "52",
                                    "1": "ASUS W203MA Laptop",
                                    "2": "9",
                                    "3": "NULL",
                                    "4": "89"
                                },
                                {
                                    "0": "53",
                                    "1": "AB Security cam",
                                    "2": "2",
                                    "3": "Downtown warehouse",
                                    "4": "30"
                                },
                                {
                                    "0": "53",
                                    "1": "AB Security cam",
                                    "2": "3",
                                    "3": "Brunswick warehouse",
                                    "4": "41"
                                },
                                {
                                    "0": "53",
                                    "1": "AB Security cam",
                                    "2": "4",
                                    "3": "NULL",
                                    "4": "40"
                                },
                                {
                                    "0": "53",
                                    "1": "AB Security cam",
                                    "2": "5",
                                    "3": "NULL",
                                    "4": "29"
                                },
                                {
                                    "0": "53",
                                    "1": "AB Security cam",
                                    "2": "6",
                                    "3": "NULL",
                                    "4": "23"
                                },
                                {
                                    "0": "53",
                                    "1": "AB Security cam",
                                    "2": "7",
                                    "3": "NULL",
                                    "4": "22"
                                },
                                {
                                    "0": "53",
                                    "1": "AB Security cam",
                                    "2": "8",
                                    "3": "NULL",
                                    "4": "54"
                                },
                                {
                                    "0": "53",
                                    "1": "AB Security cam",
                                    "2": "9",
                                    "3": "NULL",
                                    "4": "34"
                                },
                                {
                                    "0": "54",
                                    "1": "Panasonic VL-SWD272 Wireless Video Intercom System",
                                    "2": "2",
                                    "3": "Downtown warehouse",
                                    "4": "133"
                                },
                                {
                                    "0": "54",
                                    "1": "Panasonic VL-SWD272 Wireless Video Intercom System",
                                    "2": "4",
                                    "3": "NULL",
                                    "4": "98"
                                },
                                {
                                    "0": "54",
                                    "1": "Panasonic VL-SWD272 Wireless Video Intercom System",
                                    "2": "5",
                                    "3": "NULL",
                                    "4": "115"
                                },
                                {
                                    "0": "54",
                                    "1": "Panasonic VL-SWD272 Wireless Video Intercom System",
                                    "2": "6",
                                    "3": "NULL",
                                    "4": "189"
                                },
                                {
                                    "0": "54",
                                    "1": "Panasonic VL-SWD272 Wireless Video Intercom System",
                                    "2": "7",
                                    "3": "NULL",
                                    "4": "69"
                                },
                                {
                                    "0": "54",
                                    "1": "Panasonic VL-SWD272 Wireless Video Intercom System",
                                    "2": "8",
                                    "3": "NULL",
                                    "4": "85"
                                },
                                {
                                    "0": "54",
                                    "1": "Panasonic VL-SWD272 Wireless Video Intercom System",
                                    "2": "9",
                                    "3": "NULL",
                                    "4": "31"
                                },
                                {
                                    "0": "55",
                                    "1": "RING Smart Video Wi-Fi Doorbell 3",
                                    "2": "1",
                                    "3": "Central warehouse",
                                    "4": "157"
                                },
                                {
                                    "0": "55",
                                    "1": "RING Smart Video Wi-Fi Doorbell 3",
                                    "2": "2",
                                    "3": "Downtown warehouse",
                                    "4": "175"
                                },
                                {
                                    "0": "55",
                                    "1": "RING Smart Video Wi-Fi Doorbell 3",
                                    "2": "4",
                                    "3": "NULL",
                                    "4": "104"
                                },
                                {
                                    "0": "55",
                                    "1": "RING Smart Video Wi-Fi Doorbell 3",
                                    "2": "6",
                                    "3": "NULL",
                                    "4": "119"
                                },
                                {
                                    "0": "55",
                                    "1": "RING Smart Video Wi-Fi Doorbell 3",
                                    "2": "7",
                                    "3": "NULL",
                                    "4": "30"
                                },
                                {
                                    "0": "55",
                                    "1": "RING Smart Video Wi-Fi Doorbell 3",
                                    "2": "8",
                                    "3": "NULL",
                                    "4": "184"
                                },
                                {
                                    "0": "55",
                                    "1": "RING Smart Video Wi-Fi Doorbell 3",
                                    "2": "9",
                                    "3": "NULL",
                                    "4": "267"
                                },
                                {
                                    "0": "56",
                                    "1": "Microsoft Surface Laptop 3",
                                    "2": "2",
                                    "3": "Downtown warehouse",
                                    "4": "42"
                                },
                                {
                                    "0": "56",
                                    "1": "Microsoft Surface Laptop 3",
                                    "2": "3",
                                    "3": "Brunswick warehouse",
                                    "4": "171"
                                },
                                {
                                    "0": "56",
                                    "1": "Microsoft Surface Laptop 3",
                                    "2": "4",
                                    "3": "NULL",
                                    "4": "74"
                                },
                                {
                                    "0": "56",
                                    "1": "Microsoft Surface Laptop 3",
                                    "2": "6",
                                    "3": "NULL",
                                    "4": "196"
                                },
                                {
                                    "0": "56",
                                    "1": "Microsoft Surface Laptop 3",
                                    "2": "8",
                                    "3": "NULL",
                                    "4": "94"
                                },
                                {
                                    "0": "56",
                                    "1": "Microsoft Surface Laptop 3",
                                    "2": "9",
                                    "3": "NULL",
                                    "4": "88"
                                },
                                {
                                    "0": "57",
                                    "1": "Acer Nitro 7 Gaming Laptop",
                                    "2": "2",
                                    "3": "Downtown warehouse",
                                    "4": "125"
                                },
                                {
                                    "0": "57",
                                    "1": "Acer Nitro 7 Gaming Laptop",
                                    "2": "4",
                                    "3": "NULL",
                                    "4": "174"
                                },
                                {
                                    "0": "57",
                                    "1": "Acer Nitro 7 Gaming Laptop",
                                    "2": "6",
                                    "3": "NULL",
                                    "4": "213"
                                },
                                {
                                    "0": "57",
                                    "1": "Acer Nitro 7 Gaming Laptop",
                                    "2": "8",
                                    "3": "NULL",
                                    "4": "179"
                                },
                                {
                                    "0": "57",
                                    "1": "Acer Nitro 7 Gaming Laptop",
                                    "2": "9",
                                    "3": "NULL",
                                    "4": "266"
                                },
                                {
                                    "0": "58",
                                    "1": "Cooler Master MasterFan",
                                    "2": "2",
                                    "3": "Downtown warehouse",
                                    "4": "97"
                                },
                                {
                                    "0": "58",
                                    "1": "Cooler Master MasterFan",
                                    "2": "5",
                                    "3": "NULL",
                                    "4": "92"
                                },
                                {
                                    "0": "58",
                                    "1": "Cooler Master MasterFan",
                                    "2": "6",
                                    "3": "NULL",
                                    "4": "155"
                                },
                                {
                                    "0": "58",
                                    "1": "Cooler Master MasterFan",
                                    "2": "8",
                                    "3": "NULL",
                                    "4": "234"
                                },
                                {
                                    "0": "58",
                                    "1": "Cooler Master MasterFan",
                                    "2": "9",
                                    "3": "NULL",
                                    "4": "86"
                                },
                                {
                                    "0": "59",
                                    "1": "Samsung 50TU8000 50 inch 4K Smart TV",
                                    "2": "2",
                                    "3": "Downtown warehouse",
                                    "4": "276"
                                },
                                {
                                    "0": "59",
                                    "1": "Samsung 50TU8000 50 inch 4K Smart TV",
                                    "2": "5",
                                    "3": "NULL",
                                    "4": "134"
                                },
                                {
                                    "0": "59",
                                    "1": "Samsung 50TU8000 50 inch 4K Smart TV",
                                    "2": "6",
                                    "3": "NULL",
                                    "4": "199"
                                },
                                {
                                    "0": "59",
                                    "1": "Samsung 50TU8000 50 inch 4K Smart TV",
                                    "2": "7",
                                    "3": "NULL",
                                    "4": "74"
                                },
                                {
                                    "0": "59",
                                    "1": "Samsung 50TU8000 50 inch 4K Smart TV",
                                    "2": "8",
                                    "3": "NULL",
                                    "4": "76"
                                },
                                {
                                    "0": "59",
                                    "1": "Samsung 50TU8000 50 inch 4K Smart TV",
                                    "2": "9",
                                    "3": "NULL",
                                    "4": "272"
                                },
                                {
                                    "0": "60",
                                    "1": "Konic 55 inch 4K Ultra HD LED TV",
                                    "2": "2",
                                    "3": "Downtown warehouse",
                                    "4": "118"
                                },
                                {
                                    "0": "60",
                                    "1": "Konic 55 inch 4K Ultra HD LED TV",
                                    "2": "3",
                                    "3": "Brunswick warehouse",
                                    "4": "46"
                                },
                                {
                                    "0": "60",
                                    "1": "Konic 55 inch 4K Ultra HD LED TV",
                                    "2": "4",
                                    "3": "NULL",
                                    "4": "246"
                                },
                                {
                                    "0": "60",
                                    "1": "Konic 55 inch 4K Ultra HD LED TV",
                                    "2": "5",
                                    "3": "NULL",
                                    "4": "101"
                                },
                                {
                                    "0": "60",
                                    "1": "Konic 55 inch 4K Ultra HD LED TV",
                                    "2": "6",
                                    "3": "NULL",
                                    "4": "193"
                                },
                                {
                                    "0": "61",
                                    "1": "Apple Magic Keyboard",
                                    "2": "1",
                                    "3": "Central warehouse",
                                    "4": "157"
                                },
                                {
                                    "0": "61",
                                    "1": "Apple Magic Keyboard",
                                    "2": "2",
                                    "3": "Downtown warehouse",
                                    "4": "71"
                                },
                                {
                                    "0": "61",
                                    "1": "Apple Magic Keyboard",
                                    "2": "5",
                                    "3": "NULL",
                                    "4": "177"
                                },
                                {
                                    "0": "61",
                                    "1": "Apple Magic Keyboard",
                                    "2": "6",
                                    "3": "NULL",
                                    "4": "119"
                                },
                                {
                                    "0": "61",
                                    "1": "Apple Magic Keyboard",
                                    "2": "7",
                                    "3": "NULL",
                                    "4": "185"
                                },
                                {
                                    "0": "61",
                                    "1": "Apple Magic Keyboard",
                                    "2": "8",
                                    "3": "NULL",
                                    "4": "183"
                                },
                                {
                                    "0": "61",
                                    "1": "Apple Magic Keyboard",
                                    "2": "9",
                                    "3": "NULL",
                                    "4": "219"
                                },
                                {
                                    "0": "62",
                                    "1": "Viper-X Drone with VR Headset",
                                    "2": "3",
                                    "3": "Brunswick warehouse",
                                    "4": "103"
                                },
                                {
                                    "0": "62",
                                    "1": "Viper-X Drone with VR Headset",
                                    "2": "4",
                                    "3": "NULL",
                                    "4": "197"
                                },
                                {
                                    "0": "62",
                                    "1": "Viper-X Drone with VR Headset",
                                    "2": "5",
                                    "3": "NULL",
                                    "4": "237"
                                },
                                {
                                    "0": "62",
                                    "1": "Viper-X Drone with VR Headset",
                                    "2": "6",
                                    "3": "NULL",
                                    "4": "185"
                                },
                                {
                                    "0": "62",
                                    "1": "Viper-X Drone with VR Headset",
                                    "2": "7",
                                    "3": "NULL",
                                    "4": "62"
                                },
                                {
                                    "0": "62",
                                    "1": "Viper-X Drone with VR Headset",
                                    "2": "8",
                                    "3": "NULL",
                                    "4": "39"
                                },
                                {
                                    "0": "62",
                                    "1": "Viper-X Drone with VR Headset",
                                    "2": "9",
                                    "3": "NULL",
                                    "4": "164"
                                },
                                {
                                    "0": "63",
                                    "1": "Samsung C49HG90 49 inch QLED Monitor",
                                    "2": "2",
                                    "3": "Downtown warehouse",
                                    "4": "96"
                                },
                                {
                                    "0": "63",
                                    "1": "Samsung C49HG90 49 inch QLED Monitor",
                                    "2": "4",
                                    "3": "NULL",
                                    "4": "35"
                                },
                                {
                                    "0": "63",
                                    "1": "Samsung C49HG90 49 inch QLED Monitor",
                                    "2": "5",
                                    "3": "NULL",
                                    "4": "177"
                                },
                                {
                                    "0": "63",
                                    "1": "Samsung C49HG90 49 inch QLED Monitor",
                                    "2": "6",
                                    "3": "NULL",
                                    "4": "64"
                                },
                                {
                                    "0": "63",
                                    "1": "Samsung C49HG90 49 inch QLED Monitor",
                                    "2": "7",
                                    "3": "NULL",
                                    "4": "58"
                                },
                                {
                                    "0": "63",
                                    "1": "Samsung C49HG90 49 inch QLED Monitor",
                                    "2": "8",
                                    "3": "NULL",
                                    "4": "163"
                                },
                                {
                                    "0": "63",
                                    "1": "Samsung C49HG90 49 inch QLED Monitor",
                                    "2": "9",
                                    "3": "NULL",
                                    "4": "191"
                                },
                                {
                                    "0": "64",
                                    "1": "Microsoft Surface Pro 7 Tablet",
                                    "2": "1",
                                    "3": "Central warehouse",
                                    "4": "106"
                                },
                                {
                                    "0": "64",
                                    "1": "Microsoft Surface Pro 7 Tablet",
                                    "2": "2",
                                    "3": "Downtown warehouse",
                                    "4": "89"
                                },
                                {
                                    "0": "64",
                                    "1": "Microsoft Surface Pro 7 Tablet",
                                    "2": "3",
                                    "3": "Brunswick warehouse",
                                    "4": "102"
                                },
                                {
                                    "0": "64",
                                    "1": "Microsoft Surface Pro 7 Tablet",
                                    "2": "4",
                                    "3": "NULL",
                                    "4": "177"
                                },
                                {
                                    "0": "64",
                                    "1": "Microsoft Surface Pro 7 Tablet",
                                    "2": "5",
                                    "3": "NULL",
                                    "4": "107"
                                },
                                {
                                    "0": "64",
                                    "1": "Microsoft Surface Pro 7 Tablet",
                                    "2": "6",
                                    "3": "NULL",
                                    "4": "122"
                                },
                                {
                                    "0": "64",
                                    "1": "Microsoft Surface Pro 7 Tablet",
                                    "2": "7",
                                    "3": "NULL",
                                    "4": "214"
                                },
                                {
                                    "0": "64",
                                    "1": "Microsoft Surface Pro 7 Tablet",
                                    "2": "8",
                                    "3": "NULL",
                                    "4": "182"
                                },
                                {
                                    "0": "64",
                                    "1": "Microsoft Surface Pro 7 Tablet",
                                    "2": "9",
                                    "3": "NULL",
                                    "4": "88"
                                },
                                {
                                    "0": "65",
                                    "1": "Evoluent VM4R Wired Vertical Mouse 4 right-handed",
                                    "2": "1",
                                    "3": "Central warehouse",
                                    "4": "93"
                                },
                                {
                                    "0": "65",
                                    "1": "Evoluent VM4R Wired Vertical Mouse 4 right-handed",
                                    "2": "2",
                                    "3": "Downtown warehouse",
                                    "4": "282"
                                },
                                {
                                    "0": "65",
                                    "1": "Evoluent VM4R Wired Vertical Mouse 4 right-handed",
                                    "2": "5",
                                    "3": "NULL",
                                    "4": "237"
                                },
                                {
                                    "0": "65",
                                    "1": "Evoluent VM4R Wired Vertical Mouse 4 right-handed",
                                    "2": "6",
                                    "3": "NULL",
                                    "4": "122"
                                },
                                {
                                    "0": "65",
                                    "1": "Evoluent VM4R Wired Vertical Mouse 4 right-handed",
                                    "2": "7",
                                    "3": "NULL",
                                    "4": "228"
                                },
                                {
                                    "0": "65",
                                    "1": "Evoluent VM4R Wired Vertical Mouse 4 right-handed",
                                    "2": "8",
                                    "3": "NULL",
                                    "4": "181"
                                },
                                {
                                    "0": "65",
                                    "1": "Evoluent VM4R Wired Vertical Mouse 4 right-handed",
                                    "2": "9",
                                    "3": "NULL",
                                    "4": "84"
                                },
                                {
                                    "0": "66",
                                    "1": "Adesso iMouse E1",
                                    "2": "2",
                                    "3": "Downtown warehouse",
                                    "4": "135"
                                },
                                {
                                    "0": "66",
                                    "1": "Adesso iMouse E1",
                                    "2": "3",
                                    "3": "Brunswick warehouse",
                                    "4": "42"
                                },
                                {
                                    "0": "66",
                                    "1": "Adesso iMouse E1",
                                    "2": "4",
                                    "3": "NULL",
                                    "4": "174"
                                },
                                {
                                    "0": "66",
                                    "1": "Adesso iMouse E1",
                                    "2": "5",
                                    "3": "NULL",
                                    "4": "117"
                                },
                                {
                                    "0": "66",
                                    "1": "Adesso iMouse E1",
                                    "2": "6",
                                    "3": "NULL",
                                    "4": "198"
                                },
                                {
                                    "0": "66",
                                    "1": "Adesso iMouse E1",
                                    "2": "7",
                                    "3": "NULL",
                                    "4": "208"
                                },
                                {
                                    "0": "66",
                                    "1": "Adesso iMouse E1",
                                    "2": "9",
                                    "3": "NULL",
                                    "4": "86"
                                },
                                {
                                    "0": "67",
                                    "1": "Spigen Galaxy Note 10 tough armor case",
                                    "2": "1",
                                    "3": "Central warehouse",
                                    "4": "94"
                                },
                                {
                                    "0": "67",
                                    "1": "Spigen Galaxy Note 10 tough armor case",
                                    "2": "2",
                                    "3": "Downtown warehouse",
                                    "4": "46"
                                },
                                {
                                    "0": "67",
                                    "1": "Spigen Galaxy Note 10 tough armor case",
                                    "2": "4",
                                    "3": "NULL",
                                    "4": "197"
                                },
                                {
                                    "0": "67",
                                    "1": "Spigen Galaxy Note 10 tough armor case",
                                    "2": "5",
                                    "3": "NULL",
                                    "4": "107"
                                },
                                {
                                    "0": "67",
                                    "1": "Spigen Galaxy Note 10 tough armor case",
                                    "2": "7",
                                    "3": "NULL",
                                    "4": "223"
                                },
                                {
                                    "0": "67",
                                    "1": "Spigen Galaxy Note 10 tough armor case",
                                    "2": "8",
                                    "3": "NULL",
                                    "4": "87"
                                },
                                {
                                    "0": "67",
                                    "1": "Spigen Galaxy Note 10 tough armor case",
                                    "2": "9",
                                    "3": "NULL",
                                    "4": "232"
                                },
                                {
                                    "0": "68",
                                    "1": "Andromeda Drone with Camera",
                                    "2": "2",
                                    "3": "Downtown warehouse",
                                    "4": "94"
                                },
                                {
                                    "0": "68",
                                    "1": "Andromeda Drone with Camera",
                                    "2": "3",
                                    "3": "Brunswick warehouse",
                                    "4": "175"
                                },
                                {
                                    "0": "68",
                                    "1": "Andromeda Drone with Camera",
                                    "2": "4",
                                    "3": "NULL",
                                    "4": "97"
                                },
                                {
                                    "0": "68",
                                    "1": "Andromeda Drone with Camera",
                                    "2": "5",
                                    "3": "NULL",
                                    "4": "176"
                                },
                                {
                                    "0": "68",
                                    "1": "Andromeda Drone with Camera",
                                    "2": "6",
                                    "3": "NULL",
                                    "4": "149"
                                },
                                {
                                    "0": "68",
                                    "1": "Andromeda Drone with Camera",
                                    "2": "7",
                                    "3": "NULL",
                                    "4": "224"
                                },
                                {
                                    "0": "68",
                                    "1": "Andromeda Drone with Camera",
                                    "2": "8",
                                    "3": "NULL",
                                    "4": "76"
                                },
                                {
                                    "0": "68",
                                    "1": "Andromeda Drone with Camera",
                                    "2": "9",
                                    "3": "NULL",
                                    "4": "89"
                                },
                                {
                                    "0": "69",
                                    "1": "PowerBeats Pro True Wireless Sports Earphones",
                                    "2": "2",
                                    "3": "Downtown warehouse",
                                    "4": "138"
                                },
                                {
                                    "0": "69",
                                    "1": "PowerBeats Pro True Wireless Sports Earphones",
                                    "2": "4",
                                    "3": "NULL",
                                    "4": "103"
                                },
                                {
                                    "0": "69",
                                    "1": "PowerBeats Pro True Wireless Sports Earphones",
                                    "2": "5",
                                    "3": "NULL",
                                    "4": "211"
                                },
                                {
                                    "0": "69",
                                    "1": "PowerBeats Pro True Wireless Sports Earphones",
                                    "2": "6",
                                    "3": "NULL",
                                    "4": "155"
                                },
                                {
                                    "0": "69",
                                    "1": "PowerBeats Pro True Wireless Sports Earphones",
                                    "2": "7",
                                    "3": "NULL",
                                    "4": "113"
                                },
                                {
                                    "0": "69",
                                    "1": "PowerBeats Pro True Wireless Sports Earphones",
                                    "2": "8",
                                    "3": "NULL",
                                    "4": "81"
                                },
                                {
                                    "0": "69",
                                    "1": "PowerBeats Pro True Wireless Sports Earphones",
                                    "2": "9",
                                    "3": "NULL",
                                    "4": "97"
                                },
                                {
                                    "0": "70",
                                    "1": "PBX 2000mAh Power Bank 3 - Black",
                                    "2": "1",
                                    "3": "Central warehouse",
                                    "4": "108"
                                },
                                {
                                    "0": "70",
                                    "1": "PBX 2000mAh Power Bank 3 - Black",
                                    "2": "2",
                                    "3": "Downtown warehouse",
                                    "4": "131"
                                },
                                {
                                    "0": "70",
                                    "1": "PBX 2000mAh Power Bank 3 - Black",
                                    "2": "3",
                                    "3": "Brunswick warehouse",
                                    "4": "209"
                                },
                                {
                                    "0": "70",
                                    "1": "PBX 2000mAh Power Bank 3 - Black",
                                    "2": "4",
                                    "3": "NULL",
                                    "4": "185"
                                },
                                {
                                    "0": "70",
                                    "1": "PBX 2000mAh Power Bank 3 - Black",
                                    "2": "5",
                                    "3": "NULL",
                                    "4": "177"
                                },
                                {
                                    "0": "70",
                                    "1": "PBX 2000mAh Power Bank 3 - Black",
                                    "2": "6",
                                    "3": "NULL",
                                    "4": "154"
                                },
                                {
                                    "0": "70",
                                    "1": "PBX 2000mAh Power Bank 3 - Black",
                                    "2": "7",
                                    "3": "NULL",
                                    "4": "167"
                                },
                                {
                                    "0": "70",
                                    "1": "PBX 2000mAh Power Bank 3 - Black",
                                    "2": "8",
                                    "3": "NULL",
                                    "4": "39"
                                },
                                {
                                    "0": "70",
                                    "1": "PBX 2000mAh Power Bank 3 - Black",
                                    "2": "9",
                                    "3": "NULL",
                                    "4": "89"
                                },
                                {
                                    "0": "71",
                                    "1": "Apple AirPods Pro Noise Cancelling True Wireless Headphones",
                                    "2": "2",
                                    "3": "Downtown warehouse",
                                    "4": "170"
                                },
                                {
                                    "0": "71",
                                    "1": "Apple AirPods Pro Noise Cancelling True Wireless Headphones",
                                    "2": "3",
                                    "3": "Brunswick warehouse",
                                    "4": "172"
                                },
                                {
                                    "0": "71",
                                    "1": "Apple AirPods Pro Noise Cancelling True Wireless Headphones",
                                    "2": "4",
                                    "3": "NULL",
                                    "4": "146"
                                },
                                {
                                    "0": "71",
                                    "1": "Apple AirPods Pro Noise Cancelling True Wireless Headphones",
                                    "2": "5",
                                    "3": "NULL",
                                    "4": "100"
                                },
                                {
                                    "0": "71",
                                    "1": "Apple AirPods Pro Noise Cancelling True Wireless Headphones",
                                    "2": "6",
                                    "3": "NULL",
                                    "4": "149"
                                },
                                {
                                    "0": "71",
                                    "1": "Apple AirPods Pro Noise Cancelling True Wireless Headphones",
                                    "2": "7",
                                    "3": "NULL",
                                    "4": "167"
                                },
                                {
                                    "0": "71",
                                    "1": "Apple AirPods Pro Noise Cancelling True Wireless Headphones",
                                    "2": "8",
                                    "3": "NULL",
                                    "4": "74"
                                },
                                {
                                    "0": "71",
                                    "1": "Apple AirPods Pro Noise Cancelling True Wireless Headphones",
                                    "2": "9",
                                    "3": "NULL",
                                    "4": "244"
                                },
                                {
                                    "0": "72",
                                    "1": "Sennheiser HD 4.30i Over-Ear Headphones",
                                    "2": "2",
                                    "3": "Downtown warehouse",
                                    "4": "175"
                                },
                                {
                                    "0": "72",
                                    "1": "Sennheiser HD 4.30i Over-Ear Headphones",
                                    "2": "6",
                                    "3": "NULL",
                                    "4": "213"
                                },
                                {
                                    "0": "72",
                                    "1": "Sennheiser HD 4.30i Over-Ear Headphones",
                                    "2": "8",
                                    "3": "NULL",
                                    "4": "88"
                                },
                                {
                                    "0": "72",
                                    "1": "Sennheiser HD 4.30i Over-Ear Headphones",
                                    "2": "9",
                                    "3": "NULL",
                                    "4": "185"
                                },
                                {
                                    "0": "73",
                                    "1": "Corsair LL Series LL120 Fan",
                                    "2": "2",
                                    "3": "Downtown warehouse",
                                    "4": "100"
                                },
                                {
                                    "0": "73",
                                    "1": "Corsair LL Series LL120 Fan",
                                    "2": "4",
                                    "3": "NULL",
                                    "4": "96"
                                },
                                {
                                    "0": "73",
                                    "1": "Corsair LL Series LL120 Fan",
                                    "2": "5",
                                    "3": "NULL",
                                    "4": "273"
                                },
                                {
                                    "0": "73",
                                    "1": "Corsair LL Series LL120 Fan",
                                    "2": "6",
                                    "3": "NULL",
                                    "4": "68"
                                },
                                {
                                    "0": "73",
                                    "1": "Corsair LL Series LL120 Fan",
                                    "2": "8",
                                    "3": "NULL",
                                    "4": "163"
                                },
                                {
                                    "0": "73",
                                    "1": "Corsair LL Series LL120 Fan",
                                    "2": "9",
                                    "3": "NULL",
                                    "4": "164"
                                },
                                {
                                    "0": "74",
                                    "1": "Canon Ink Cartridge PG645",
                                    "2": "1",
                                    "3": "Central warehouse",
                                    "4": "108"
                                },
                                {
                                    "0": "74",
                                    "1": "Canon Ink Cartridge PG645",
                                    "2": "2",
                                    "3": "Downtown warehouse",
                                    "4": "173"
                                },
                                {
                                    "0": "74",
                                    "1": "Canon Ink Cartridge PG645",
                                    "2": "4",
                                    "3": "NULL",
                                    "4": "96"
                                },
                                {
                                    "0": "74",
                                    "1": "Canon Ink Cartridge PG645",
                                    "2": "6",
                                    "3": "NULL",
                                    "4": "111"
                                },
                                {
                                    "0": "74",
                                    "1": "Canon Ink Cartridge PG645",
                                    "2": "7",
                                    "3": "NULL",
                                    "4": "184"
                                },
                                {
                                    "0": "74",
                                    "1": "Canon Ink Cartridge PG645",
                                    "2": "9",
                                    "3": "NULL",
                                    "4": "89"
                                },
                                {
                                    "0": "75",
                                    "1": "Roidmi S3 Bluetooth Music Car Charger",
                                    "2": "2",
                                    "3": "Downtown warehouse",
                                    "4": "158"
                                },
                                {
                                    "0": "75",
                                    "1": "Roidmi S3 Bluetooth Music Car Charger",
                                    "2": "3",
                                    "3": "Brunswick warehouse",
                                    "4": "48"
                                },
                                {
                                    "0": "75",
                                    "1": "Roidmi S3 Bluetooth Music Car Charger",
                                    "2": "6",
                                    "3": "NULL",
                                    "4": "78"
                                },
                                {
                                    "0": "75",
                                    "1": "Roidmi S3 Bluetooth Music Car Charger",
                                    "2": "7",
                                    "3": "NULL",
                                    "4": "71"
                                },
                                {
                                    "0": "75",
                                    "1": "Roidmi S3 Bluetooth Music Car Charger",
                                    "2": "8",
                                    "3": "NULL",
                                    "4": "209"
                                },
                                {
                                    "0": "76",
                                    "1": "Belkin 10W Wireless Charging Air Vent Car Mount ",
                                    "2": "2",
                                    "3": "Downtown warehouse",
                                    "4": "34"
                                },
                                {
                                    "0": "76",
                                    "1": "Belkin 10W Wireless Charging Air Vent Car Mount ",
                                    "2": "3",
                                    "3": "Brunswick warehouse",
                                    "4": "47"
                                },
                                {
                                    "0": "76",
                                    "1": "Belkin 10W Wireless Charging Air Vent Car Mount ",
                                    "2": "4",
                                    "3": "NULL",
                                    "4": "221"
                                },
                                {
                                    "0": "76",
                                    "1": "Belkin 10W Wireless Charging Air Vent Car Mount ",
                                    "2": "5",
                                    "3": "NULL",
                                    "4": "115"
                                },
                                {
                                    "0": "76",
                                    "1": "Belkin 10W Wireless Charging Air Vent Car Mount ",
                                    "2": "6",
                                    "3": "NULL",
                                    "4": "194"
                                },
                                {
                                    "0": "76",
                                    "1": "Belkin 10W Wireless Charging Air Vent Car Mount ",
                                    "2": "8",
                                    "3": "NULL",
                                    "4": "174"
                                },
                                {
                                    "0": "76",
                                    "1": "Belkin 10W Wireless Charging Air Vent Car Mount ",
                                    "2": "9",
                                    "3": "NULL",
                                    "4": "264"
                                },
                                {
                                    "0": "77",
                                    "1": "Microsoft Surface Arc Mouse - Bluetooth - Ice Blue",
                                    "2": "2",
                                    "3": "Downtown warehouse",
                                    "4": "118"
                                },
                                {
                                    "0": "77",
                                    "1": "Microsoft Surface Arc Mouse - Bluetooth - Ice Blue",
                                    "2": "3",
                                    "3": "Brunswick warehouse",
                                    "4": "47"
                                },
                                {
                                    "0": "77",
                                    "1": "Microsoft Surface Arc Mouse - Bluetooth - Ice Blue",
                                    "2": "4",
                                    "3": "NULL",
                                    "4": "87"
                                },
                                {
                                    "0": "77",
                                    "1": "Microsoft Surface Arc Mouse - Bluetooth - Ice Blue",
                                    "2": "6",
                                    "3": "NULL",
                                    "4": "64"
                                },
                                {
                                    "0": "77",
                                    "1": "Microsoft Surface Arc Mouse - Bluetooth - Ice Blue",
                                    "2": "7",
                                    "3": "NULL",
                                    "4": "226"
                                },
                                {
                                    "0": "77",
                                    "1": "Microsoft Surface Arc Mouse - Bluetooth - Ice Blue",
                                    "2": "8",
                                    "3": "NULL",
                                    "4": "179"
                                },
                                {
                                    "0": "77",
                                    "1": "Microsoft Surface Arc Mouse - Bluetooth - Ice Blue",
                                    "2": "9",
                                    "3": "NULL",
                                    "4": "266"
                                }
                            ]
                        },
                        "text/html": [
                            "<table>",
                            "<tr><th>product_id</th><th>product_name</th><th>warehouse_id</th><th>warehouse_name</th><th>quantity_on_hand</th></tr>",
                            "<tr><td>1</td><td>Apple iPhone 11 64GB - Black</td><td>1</td><td>Central warehouse</td><td>112</td></tr>",
                            "<tr><td>1</td><td>Apple iPhone 11 64GB - Black</td><td>2</td><td>Downtown warehouse</td><td>107</td></tr>",
                            "<tr><td>1</td><td>Apple iPhone 11 64GB - Black</td><td>3</td><td>Brunswick warehouse</td><td>176</td></tr>",
                            "<tr><td>1</td><td>Apple iPhone 11 64GB - Black</td><td>4</td><td>NULL</td><td>97</td></tr>",
                            "<tr><td>1</td><td>Apple iPhone 11 64GB - Black</td><td>5</td><td>NULL</td><td>62</td></tr>",
                            "<tr><td>1</td><td>Apple iPhone 11 64GB - Black</td><td>6</td><td>NULL</td><td>155</td></tr>",
                            "<tr><td>1</td><td>Apple iPhone 11 64GB - Black</td><td>7</td><td>NULL</td><td>63</td></tr>",
                            "<tr><td>1</td><td>Apple iPhone 11 64GB - Black</td><td>8</td><td>NULL</td><td>164</td></tr>",
                            "<tr><td>2</td><td>Apple iPhone 11 128GB - White</td><td>2</td><td>Downtown warehouse</td><td>98</td></tr>",
                            "<tr><td>2</td><td>Apple iPhone 11 128GB - White</td><td>3</td><td>Brunswick warehouse</td><td>178</td></tr>",
                            "<tr><td>2</td><td>Apple iPhone 11 128GB - White</td><td>5</td><td>NULL</td><td>181</td></tr>",
                            "<tr><td>2</td><td>Apple iPhone 11 128GB - White</td><td>6</td><td>NULL</td><td>78</td></tr>",
                            "<tr><td>2</td><td>Apple iPhone 11 128GB - White</td><td>7</td><td>NULL</td><td>73</td></tr>",
                            "<tr><td>2</td><td>Apple iPhone 11 128GB - White</td><td>8</td><td>NULL</td><td>171</td></tr>",
                            "<tr><td>2</td><td>Apple iPhone 11 128GB - White</td><td>9</td><td>NULL</td><td>65</td></tr>",
                            "<tr><td>3</td><td>Titan Army N34QW 34 inch Curved UltraWide Monitor</td><td>2</td><td>Downtown warehouse</td><td>69</td></tr>",
                            "<tr><td>3</td><td>Titan Army N34QW 34 inch Curved UltraWide Monitor</td><td>3</td><td>Brunswick warehouse</td><td>176</td></tr>",
                            "<tr><td>3</td><td>Titan Army N34QW 34 inch Curved UltraWide Monitor</td><td>4</td><td>NULL</td><td>176</td></tr>",
                            "<tr><td>3</td><td>Titan Army N34QW 34 inch Curved UltraWide Monitor</td><td>5</td><td>NULL</td><td>134</td></tr>",
                            "<tr><td>3</td><td>Titan Army N34QW 34 inch Curved UltraWide Monitor</td><td>7</td><td>NULL</td><td>225</td></tr>",
                            "<tr><td>3</td><td>Titan Army N34QW 34 inch Curved UltraWide Monitor</td><td>8</td><td>NULL</td><td>236</td></tr>",
                            "<tr><td>3</td><td>Titan Army N34QW 34 inch Curved UltraWide Monitor</td><td>9</td><td>NULL</td><td>244</td></tr>",
                            "<tr><td>4</td><td>LG UltraGear 24GL600F-B 24 inch Full HD Monitor</td><td>1</td><td>Central warehouse</td><td>107</td></tr>",
                            "<tr><td>4</td><td>LG UltraGear 24GL600F-B 24 inch Full HD Monitor</td><td>2</td><td>Downtown warehouse</td><td>126</td></tr>",
                            "<tr><td>4</td><td>LG UltraGear 24GL600F-B 24 inch Full HD Monitor</td><td>4</td><td>NULL</td><td>50</td></tr>",
                            "<tr><td>4</td><td>LG UltraGear 24GL600F-B 24 inch Full HD Monitor</td><td>5</td><td>NULL</td><td>101</td></tr>",
                            "<tr><td>4</td><td>LG UltraGear 24GL600F-B 24 inch Full HD Monitor</td><td>7</td><td>NULL</td><td>157</td></tr>",
                            "<tr><td>4</td><td>LG UltraGear 24GL600F-B 24 inch Full HD Monitor</td><td>8</td><td>NULL</td><td>173</td></tr>",
                            "<tr><td>4</td><td>LG UltraGear 24GL600F-B 24 inch Full HD Monitor</td><td>9</td><td>NULL</td><td>226</td></tr>",
                            "<tr><td>5</td><td>ASUS PG279Q Monitor</td><td>2</td><td>Downtown warehouse</td><td>10</td></tr>",
                            "<tr><td>5</td><td>ASUS PG279Q Monitor</td><td>3</td><td>Brunswick warehouse</td><td>45</td></tr>",
                            "<tr><td>5</td><td>ASUS PG279Q Monitor</td><td>4</td><td>NULL</td><td>21</td></tr>",
                            "<tr><td>5</td><td>ASUS PG279Q Monitor</td><td>5</td><td>NULL</td><td>63</td></tr>",
                            "<tr><td>5</td><td>ASUS PG279Q Monitor</td><td>6</td><td>NULL</td><td>17</td></tr>",
                            "<tr><td>5</td><td>ASUS PG279Q Monitor</td><td>7</td><td>NULL</td><td>28</td></tr>",
                            "<tr><td>5</td><td>ASUS PG279Q Monitor</td><td>9</td><td>NULL</td><td>45</td></tr>",
                            "<tr><td>6</td><td>Logitech G213 Prodigy RGB Gaming Keyboard</td><td>2</td><td>Downtown warehouse</td><td>97</td></tr>",
                            "<tr><td>6</td><td>Logitech G213 Prodigy RGB Gaming Keyboard</td><td>3</td><td>Brunswick warehouse</td><td>47</td></tr>",
                            "<tr><td>6</td><td>Logitech G213 Prodigy RGB Gaming Keyboard</td><td>4</td><td>NULL</td><td>181</td></tr>",
                            "<tr><td>6</td><td>Logitech G213 Prodigy RGB Gaming Keyboard</td><td>5</td><td>NULL</td><td>197</td></tr>",
                            "<tr><td>6</td><td>Logitech G213 Prodigy RGB Gaming Keyboard</td><td>6</td><td>NULL</td><td>119</td></tr>",
                            "<tr><td>6</td><td>Logitech G213 Prodigy RGB Gaming Keyboard</td><td>7</td><td>NULL</td><td>214</td></tr>",
                            "<tr><td>6</td><td>Logitech G213 Prodigy RGB Gaming Keyboard</td><td>8</td><td>NULL</td><td>74</td></tr>",
                            "<tr><td>6</td><td>Logitech G213 Prodigy RGB Gaming Keyboard</td><td>9</td><td>NULL</td><td>184</td></tr>",
                            "<tr><td>7</td><td>Canon PIXMA MG2460 Inkjet MFP printer</td><td>2</td><td>Downtown warehouse</td><td>99</td></tr>",
                            "<tr><td>7</td><td>Canon PIXMA MG2460 Inkjet MFP printer</td><td>4</td><td>NULL</td><td>110</td></tr>",
                            "<tr><td>7</td><td>Canon PIXMA MG2460 Inkjet MFP printer</td><td>5</td><td>NULL</td><td>96</td></tr>",
                            "<tr><td>7</td><td>Canon PIXMA MG2460 Inkjet MFP printer</td><td>6</td><td>NULL</td><td>63</td></tr>",
                            "<tr><td>7</td><td>Canon PIXMA MG2460 Inkjet MFP printer</td><td>7</td><td>NULL</td><td>72</td></tr>",
                            "<tr><td>7</td><td>Canon PIXMA MG2460 Inkjet MFP printer</td><td>8</td><td>NULL</td><td>183</td></tr>",
                            "<tr><td>7</td><td>Canon PIXMA MG2460 Inkjet MFP printer</td><td>9</td><td>NULL</td><td>239</td></tr>",
                            "<tr><td>8</td><td>Microsoft Sculpt Ergonomic Wireless Keyboard and Mouse Combo</td><td>3</td><td>Brunswick warehouse</td><td>47</td></tr>",
                            "<tr><td>8</td><td>Microsoft Sculpt Ergonomic Wireless Keyboard and Mouse Combo</td><td>4</td><td>NULL</td><td>96</td></tr>",
                            "<tr><td>8</td><td>Microsoft Sculpt Ergonomic Wireless Keyboard and Mouse Combo</td><td>5</td><td>NULL</td><td>62</td></tr>",
                            "<tr><td>8</td><td>Microsoft Sculpt Ergonomic Wireless Keyboard and Mouse Combo</td><td>6</td><td>NULL</td><td>154</td></tr>",
                            "<tr><td>8</td><td>Microsoft Sculpt Ergonomic Wireless Keyboard and Mouse Combo</td><td>8</td><td>NULL</td><td>209</td></tr>",
                            "<tr><td>9</td><td>JKW Video Intercom over IP adaptor</td><td>2</td><td>Downtown warehouse</td><td>35</td></tr>",
                            "<tr><td>9</td><td>JKW Video Intercom over IP adaptor</td><td>3</td><td>Brunswick warehouse</td><td>35</td></tr>",
                            "<tr><td>9</td><td>JKW Video Intercom over IP adaptor</td><td>5</td><td>NULL</td><td>21</td></tr>",
                            "<tr><td>9</td><td>JKW Video Intercom over IP adaptor</td><td>6</td><td>NULL</td><td>44</td></tr>",
                            "<tr><td>9</td><td>JKW Video Intercom over IP adaptor</td><td>7</td><td>NULL</td><td>19</td></tr>",
                            "<tr><td>9</td><td>JKW Video Intercom over IP adaptor</td><td>8</td><td>NULL</td><td>34</td></tr>",
                            "<tr><td>9</td><td>JKW Video Intercom over IP adaptor</td><td>9</td><td>NULL</td><td>20</td></tr>",
                            "<tr><td>10</td><td>Intel Coffee Lake Core i9 Processor</td><td>1</td><td>Central warehouse</td><td>97</td></tr>",
                            "<tr><td>10</td><td>Intel Coffee Lake Core i9 Processor</td><td>2</td><td>Downtown warehouse</td><td>127</td></tr>",
                            "<tr><td>10</td><td>Intel Coffee Lake Core i9 Processor</td><td>3</td><td>Brunswick warehouse</td><td>102</td></tr>",
                            "<tr><td>10</td><td>Intel Coffee Lake Core i9 Processor</td><td>4</td><td>NULL</td><td>98</td></tr>",
                            "<tr><td>10</td><td>Intel Coffee Lake Core i9 Processor</td><td>5</td><td>NULL</td><td>77</td></tr>",
                            "<tr><td>10</td><td>Intel Coffee Lake Core i9 Processor</td><td>6</td><td>NULL</td><td>195</td></tr>",
                            "<tr><td>10</td><td>Intel Coffee Lake Core i9 Processor</td><td>7</td><td>NULL</td><td>167</td></tr>",
                            "<tr><td>10</td><td>Intel Coffee Lake Core i9 Processor</td><td>8</td><td>NULL</td><td>209</td></tr>",
                            "<tr><td>10</td><td>Intel Coffee Lake Core i9 Processor</td><td>9</td><td>NULL</td><td>89</td></tr>",
                            "<tr><td>11</td><td>Horion 55 inch 4K Ultra HD LED TV</td><td>2</td><td>Downtown warehouse</td><td>120</td></tr>",
                            "<tr><td>11</td><td>Horion 55 inch 4K Ultra HD LED TV</td><td>4</td><td>NULL</td><td>98</td></tr>",
                            "<tr><td>11</td><td>Horion 55 inch 4K Ultra HD LED TV</td><td>6</td><td>NULL</td><td>67</td></tr>",
                            "<tr><td>11</td><td>Horion 55 inch 4K Ultra HD LED TV</td><td>7</td><td>NULL</td><td>38</td></tr>",
                            "<tr><td>11</td><td>Horion 55 inch 4K Ultra HD LED TV</td><td>8</td><td>NULL</td><td>87</td></tr>",
                            "<tr><td>11</td><td>Horion 55 inch 4K Ultra HD LED TV</td><td>9</td><td>NULL</td><td>86</td></tr>",
                            "<tr><td>12</td><td>Sony WH-1000XM3 Noise-Cancelling headphones - Black</td><td>1</td><td>Central warehouse</td><td>106</td></tr>",
                            "<tr><td>12</td><td>Sony WH-1000XM3 Noise-Cancelling headphones - Black</td><td>2</td><td>Downtown warehouse</td><td>175</td></tr>",
                            "<tr><td>12</td><td>Sony WH-1000XM3 Noise-Cancelling headphones - Black</td><td>4</td><td>NULL</td><td>104</td></tr>",
                            "<tr><td>12</td><td>Sony WH-1000XM3 Noise-Cancelling headphones - Black</td><td>5</td><td>NULL</td><td>176</td></tr>",
                            "<tr><td>12</td><td>Sony WH-1000XM3 Noise-Cancelling headphones - Black</td><td>6</td><td>NULL</td><td>82</td></tr>",
                            "<tr><td>12</td><td>Sony WH-1000XM3 Noise-Cancelling headphones - Black</td><td>7</td><td>NULL</td><td>226</td></tr>",
                            "<tr><td>12</td><td>Sony WH-1000XM3 Noise-Cancelling headphones - Black</td><td>8</td><td>NULL</td><td>226</td></tr>",
                            "<tr><td>13</td><td>HyperX AMP 7.1 USB Sound Card</td><td>2</td><td>Downtown warehouse</td><td>128</td></tr>",
                            "<tr><td>13</td><td>HyperX AMP 7.1 USB Sound Card</td><td>4</td><td>NULL</td><td>104</td></tr>",
                            "<tr><td>13</td><td>HyperX AMP 7.1 USB Sound Card</td><td>5</td><td>NULL</td><td>106</td></tr>",
                            "<tr><td>13</td><td>HyperX AMP 7.1 USB Sound Card</td><td>6</td><td>NULL</td><td>185</td></tr>",
                            "<tr><td>13</td><td>HyperX AMP 7.1 USB Sound Card</td><td>8</td><td>NULL</td><td>183</td></tr>",
                            "<tr><td>13</td><td>HyperX AMP 7.1 USB Sound Card</td><td>9</td><td>NULL</td><td>215</td></tr>",
                            "<tr><td>14</td><td>HP LaserJet Pro M15W printer</td><td>2</td><td>Downtown warehouse</td><td>101</td></tr>",
                            "<tr><td>14</td><td>HP LaserJet Pro M15W printer</td><td>7</td><td>NULL</td><td>70</td></tr>",
                            "<tr><td>14</td><td>HP LaserJet Pro M15W printer</td><td>8</td><td>NULL</td><td>163</td></tr>",
                            "<tr><td>14</td><td>HP LaserJet Pro M15W printer</td><td>9</td><td>NULL</td><td>185</td></tr>",
                            "<tr><td>15</td><td>Logitech G Pro X Mechanical TKL RGB Gaming Keyboard</td><td>2</td><td>Downtown warehouse</td><td>101</td></tr>",
                            "<tr><td>15</td><td>Logitech G Pro X Mechanical TKL RGB Gaming Keyboard</td><td>5</td><td>NULL</td><td>105</td></tr>",
                            "<tr><td>15</td><td>Logitech G Pro X Mechanical TKL RGB Gaming Keyboard</td><td>6</td><td>NULL</td><td>197</td></tr>",
                            "<tr><td>15</td><td>Logitech G Pro X Mechanical TKL RGB Gaming Keyboard</td><td>7</td><td>NULL</td><td>69</td></tr>",
                            "<tr><td>15</td><td>Logitech G Pro X Mechanical TKL RGB Gaming Keyboard</td><td>8</td><td>NULL</td><td>86</td></tr>",
                            "<tr><td>15</td><td>Logitech G Pro X Mechanical TKL RGB Gaming Keyboard</td><td>9</td><td>NULL</td><td>95</td></tr>",
                            "<tr><td>16</td><td>Canon EOS 3000D DSLR Entry-Level Camera</td><td>1</td><td>Central warehouse</td><td>97</td></tr>",
                            "<tr><td>16</td><td>Canon EOS 3000D DSLR Entry-Level Camera</td><td>2</td><td>Downtown warehouse</td><td>128</td></tr>",
                            "<tr><td>16</td><td>Canon EOS 3000D DSLR Entry-Level Camera</td><td>3</td><td>Brunswick warehouse</td><td>196</td></tr>",
                            "<tr><td>16</td><td>Canon EOS 3000D DSLR Entry-Level Camera</td><td>4</td><td>NULL</td><td>93</td></tr>",
                            "<tr><td>16</td><td>Canon EOS 3000D DSLR Entry-Level Camera</td><td>5</td><td>NULL</td><td>62</td></tr>",
                            "<tr><td>16</td><td>Canon EOS 3000D DSLR Entry-Level Camera</td><td>7</td><td>NULL</td><td>209</td></tr>",
                            "<tr><td>16</td><td>Canon EOS 3000D DSLR Entry-Level Camera</td><td>8</td><td>NULL</td><td>210</td></tr>",
                            "<tr><td>16</td><td>Canon EOS 3000D DSLR Entry-Level Camera</td><td>9</td><td>NULL</td><td>186</td></tr>",
                            "<tr><td>17</td><td>MPS Intercom system</td><td>1</td><td>Central warehouse</td><td>25</td></tr>",
                            "<tr><td>17</td><td>MPS Intercom system</td><td>4</td><td>NULL</td><td>177</td></tr>",
                            "<tr><td>17</td><td>MPS Intercom system</td><td>5</td><td>NULL</td><td>74</td></tr>",
                            "<tr><td>17</td><td>MPS Intercom system</td><td>6</td><td>NULL</td><td>18</td></tr>",
                            "<tr><td>17</td><td>MPS Intercom system</td><td>7</td><td>NULL</td><td>24</td></tr>",
                            "<tr><td>17</td><td>MPS Intercom system</td><td>8</td><td>NULL</td><td>35</td></tr>",
                            "<tr><td>17</td><td>MPS Intercom system</td><td>9</td><td>NULL</td><td>34</td></tr>",
                            "<tr><td>18</td><td>Ugreen CM129 Audio Sound Card Adapter</td><td>2</td><td>Downtown warehouse</td><td>101</td></tr>",
                            "<tr><td>18</td><td>Ugreen CM129 Audio Sound Card Adapter</td><td>5</td><td>NULL</td><td>273</td></tr>",
                            "<tr><td>18</td><td>Ugreen CM129 Audio Sound Card Adapter</td><td>6</td><td>NULL</td><td>154</td></tr>",
                            "<tr><td>18</td><td>Ugreen CM129 Audio Sound Card Adapter</td><td>7</td><td>NULL</td><td>77</td></tr>",
                            "<tr><td>18</td><td>Ugreen CM129 Audio Sound Card Adapter</td><td>8</td><td>NULL</td><td>63</td></tr>",
                            "<tr><td>18</td><td>Ugreen CM129 Audio Sound Card Adapter</td><td>9</td><td>NULL</td><td>267</td></tr>",
                            "<tr><td>19</td><td>Nikon D3500 DSLR Camera</td><td>2</td><td>Downtown warehouse</td><td>101</td></tr>",
                            "<tr><td>19</td><td>Nikon D3500 DSLR Camera</td><td>4</td><td>NULL</td><td>177</td></tr>",
                            "<tr><td>19</td><td>Nikon D3500 DSLR Camera</td><td>5</td><td>NULL</td><td>219</td></tr>",
                            "<tr><td>19</td><td>Nikon D3500 DSLR Camera</td><td>6</td><td>NULL</td><td>212</td></tr>",
                            "<tr><td>19</td><td>Nikon D3500 DSLR Camera</td><td>7</td><td>NULL</td><td>68</td></tr>",
                            "<tr><td>19</td><td>Nikon D3500 DSLR Camera</td><td>8</td><td>NULL</td><td>227</td></tr>",
                            "<tr><td>19</td><td>Nikon D3500 DSLR Camera</td><td>9</td><td>NULL</td><td>90</td></tr>",
                            "<tr><td>20</td><td>GoPro HERO 8 Black Action Camera 4K Video</td><td>2</td><td>Downtown warehouse</td><td>158</td></tr>",
                            "<tr><td>20</td><td>GoPro HERO 8 Black Action Camera 4K Video</td><td>4</td><td>NULL</td><td>246</td></tr>",
                            "<tr><td>20</td><td>GoPro HERO 8 Black Action Camera 4K Video</td><td>6</td><td>NULL</td><td>78</td></tr>",
                            "<tr><td>20</td><td>GoPro HERO 8 Black Action Camera 4K Video</td><td>7</td><td>NULL</td><td>113</td></tr>",
                            "<tr><td>20</td><td>GoPro HERO 8 Black Action Camera 4K Video</td><td>9</td><td>NULL</td><td>30</td></tr>",
                            "<tr><td>21</td><td>DJI Mavic Mini Drone</td><td>2</td><td>Downtown warehouse</td><td>117</td></tr>",
                            "<tr><td>21</td><td>DJI Mavic Mini Drone</td><td>4</td><td>NULL</td><td>74</td></tr>",
                            "<tr><td>21</td><td>DJI Mavic Mini Drone</td><td>6</td><td>NULL</td><td>110</td></tr>",
                            "<tr><td>21</td><td>DJI Mavic Mini Drone</td><td>7</td><td>NULL</td><td>37</td></tr>",
                            "<tr><td>21</td><td>DJI Mavic Mini Drone</td><td>8</td><td>NULL</td><td>179</td></tr>",
                            "<tr><td>22</td><td>HPR Workstation Intel 7</td><td>2</td><td>Downtown warehouse</td><td>215</td></tr>",
                            "<tr><td>22</td><td>HPR Workstation Intel 7</td><td>4</td><td>NULL</td><td>173</td></tr>",
                            "<tr><td>22</td><td>HPR Workstation Intel 7</td><td>6</td><td>NULL</td><td>81</td></tr>",
                            "<tr><td>22</td><td>HPR Workstation Intel 7</td><td>8</td><td>NULL</td><td>227</td></tr>",
                            "<tr><td>22</td><td>HPR Workstation Intel 7</td><td>9</td><td>NULL</td><td>271</td></tr>",
                            "<tr><td>23</td><td>PBX 32106 NUC Mini PC Desktop Kit</td><td>2</td><td>Downtown warehouse</td><td>96</td></tr>",
                            "<tr><td>23</td><td>PBX 32106 NUC Mini PC Desktop Kit</td><td>4</td><td>NULL</td><td>177</td></tr>",
                            "<tr><td>23</td><td>PBX 32106 NUC Mini PC Desktop Kit</td><td>5</td><td>NULL</td><td>74</td></tr>",
                            "<tr><td>23</td><td>PBX 32106 NUC Mini PC Desktop Kit</td><td>6</td><td>NULL</td><td>111</td></tr>",
                            "<tr><td>23</td><td>PBX 32106 NUC Mini PC Desktop Kit</td><td>8</td><td>NULL</td><td>171</td></tr>",
                            "<tr><td>24</td><td>Apple iPhone 6S - Silver</td><td>1</td><td>Central warehouse</td><td>36</td></tr>",
                            "<tr><td>24</td><td>Apple iPhone 6S - Silver</td><td>2</td><td>Downtown warehouse</td><td>38</td></tr>",
                            "<tr><td>24</td><td>Apple iPhone 6S - Silver</td><td>4</td><td>NULL</td><td>34</td></tr>",
                            "<tr><td>24</td><td>Apple iPhone 6S - Silver</td><td>5</td><td>NULL</td><td>115</td></tr>",
                            "<tr><td>24</td><td>Apple iPhone 6S - Silver</td><td>6</td><td>NULL</td><td>19</td></tr>",
                            "<tr><td>24</td><td>Apple iPhone 6S - Silver</td><td>7</td><td>NULL</td><td>29</td></tr>",
                            "<tr><td>24</td><td>Apple iPhone 6S - Silver</td><td>8</td><td>NULL</td><td>20</td></tr>",
                            "<tr><td>25</td><td>Apple iPhone SE 128GB - Black</td><td>2</td><td>Downtown warehouse</td><td>33</td></tr>",
                            "<tr><td>25</td><td>Apple iPhone SE 128GB - Black</td><td>3</td><td>Brunswick warehouse</td><td>176</td></tr>",
                            "<tr><td>25</td><td>Apple iPhone SE 128GB - Black</td><td>4</td><td>NULL</td><td>173</td></tr>",
                            "<tr><td>25</td><td>Apple iPhone SE 128GB - Black</td><td>5</td><td>NULL</td><td>210</td></tr>",
                            "<tr><td>25</td><td>Apple iPhone SE 128GB - Black</td><td>6</td><td>NULL</td><td>122</td></tr>",
                            "<tr><td>25</td><td>Apple iPhone SE 128GB - Black</td><td>7</td><td>NULL</td><td>227</td></tr>",
                            "<tr><td>25</td><td>Apple iPhone SE 128GB - Black</td><td>8</td><td>NULL</td><td>178</td></tr>",
                            "<tr><td>26</td><td>DJI Mavic 2 Pro Drone with Hasselblad Camera</td><td>2</td><td>Downtown warehouse</td><td>100</td></tr>",
                            "<tr><td>26</td><td>DJI Mavic 2 Pro Drone with Hasselblad Camera</td><td>3</td><td>Brunswick warehouse</td><td>103</td></tr>",
                            "<tr><td>26</td><td>DJI Mavic 2 Pro Drone with Hasselblad Camera</td><td>4</td><td>NULL</td><td>73</td></tr>",
                            "<tr><td>26</td><td>DJI Mavic 2 Pro Drone with Hasselblad Camera</td><td>6</td><td>NULL</td><td>122</td></tr>",
                            "<tr><td>26</td><td>DJI Mavic 2 Pro Drone with Hasselblad Camera</td><td>7</td><td>NULL</td><td>227</td></tr>",
                            "<tr><td>26</td><td>DJI Mavic 2 Pro Drone with Hasselblad Camera</td><td>8</td><td>NULL</td><td>38</td></tr>",
                            "<tr><td>26</td><td>DJI Mavic 2 Pro Drone with Hasselblad Camera</td><td>9</td><td>NULL</td><td>220</td></tr>",
                            "<tr><td>27</td><td>Canon EF 50mm f/1.8 STM Lens for Canon Digital SLR Cameras</td><td>1</td><td>Central warehouse</td><td>275</td></tr>",
                            "<tr><td>27</td><td>Canon EF 50mm f/1.8 STM Lens for Canon Digital SLR Cameras</td><td>2</td><td>Downtown warehouse</td><td>131</td></tr>",
                            "<tr><td>27</td><td>Canon EF 50mm f/1.8 STM Lens for Canon Digital SLR Cameras</td><td>4</td><td>NULL</td><td>245</td></tr>",
                            "<tr><td>27</td><td>Canon EF 50mm f/1.8 STM Lens for Canon Digital SLR Cameras</td><td>6</td><td>NULL</td><td>119</td></tr>",
                            "<tr><td>28</td><td>Canon Black CLI-8 Ink Cartridge</td><td>1</td><td>Central warehouse</td><td>76</td></tr>",
                            "<tr><td>28</td><td>Canon Black CLI-8 Ink Cartridge</td><td>2</td><td>Downtown warehouse</td><td>33</td></tr>",
                            "<tr><td>28</td><td>Canon Black CLI-8 Ink Cartridge</td><td>3</td><td>Brunswick warehouse</td><td>9</td></tr>",
                            "<tr><td>28</td><td>Canon Black CLI-8 Ink Cartridge</td><td>5</td><td>NULL</td><td>35</td></tr>",
                            "<tr><td>28</td><td>Canon Black CLI-8 Ink Cartridge</td><td>6</td><td>NULL</td><td>25</td></tr>",
                            "<tr><td>28</td><td>Canon Black CLI-8 Ink Cartridge</td><td>7</td><td>NULL</td><td>16</td></tr>",
                            "<tr><td>28</td><td>Canon Black CLI-8 Ink Cartridge</td><td>8</td><td>NULL</td><td>9</td></tr>",
                            "<tr><td>28</td><td>Canon Black CLI-8 Ink Cartridge</td><td>9</td><td>NULL</td><td>40</td></tr>",
                            "<tr><td>29</td><td>APY Intercom System</td><td>2</td><td>Downtown warehouse</td><td>42</td></tr>",
                            "<tr><td>29</td><td>APY Intercom System</td><td>4</td><td>NULL</td><td>36</td></tr>",
                            "<tr><td>29</td><td>APY Intercom System</td><td>5</td><td>NULL</td><td>181</td></tr>",
                            "<tr><td>29</td><td>APY Intercom System</td><td>6</td><td>NULL</td><td>32</td></tr>",
                            "<tr><td>29</td><td>APY Intercom System</td><td>7</td><td>NULL</td><td>223</td></tr>",
                            "<tr><td>29</td><td>APY Intercom System</td><td>8</td><td>NULL</td><td>182</td></tr>",
                            "<tr><td>29</td><td>APY Intercom System</td><td>9</td><td>NULL</td><td>32</td></tr>",
                            "<tr><td>30</td><td>Leadtek Quadro P620 Professional Workstation Graphics Card</td><td>1</td><td>Central warehouse</td><td>98</td></tr>",
                            "<tr><td>30</td><td>Leadtek Quadro P620 Professional Workstation Graphics Card</td><td>2</td><td>Downtown warehouse</td><td>102</td></tr>",
                            "<tr><td>30</td><td>Leadtek Quadro P620 Professional Workstation Graphics Card</td><td>5</td><td>NULL</td><td>304</td></tr>",
                            "<tr><td>30</td><td>Leadtek Quadro P620 Professional Workstation Graphics Card</td><td>6</td><td>NULL</td><td>78</td></tr>",
                            "<tr><td>30</td><td>Leadtek Quadro P620 Professional Workstation Graphics Card</td><td>7</td><td>NULL</td><td>226</td></tr>",
                            "<tr><td>30</td><td>Leadtek Quadro P620 Professional Workstation Graphics Card</td><td>8</td><td>NULL</td><td>235</td></tr>",
                            "<tr><td>30</td><td>Leadtek Quadro P620 Professional Workstation Graphics Card</td><td>9</td><td>NULL</td><td>100</td></tr>",
                            "<tr><td>31</td><td>Logitech Z333 2.1 Multimedia Speaker System</td><td>1</td><td>Central warehouse</td><td>194</td></tr>",
                            "<tr><td>31</td><td>Logitech Z333 2.1 Multimedia Speaker System</td><td>4</td><td>NULL</td><td>273</td></tr>",
                            "<tr><td>31</td><td>Logitech Z333 2.1 Multimedia Speaker System</td><td>5</td><td>NULL</td><td>194</td></tr>",
                            "<tr><td>31</td><td>Logitech Z333 2.1 Multimedia Speaker System</td><td>6</td><td>NULL</td><td>184</td></tr>",
                            "<tr><td>31</td><td>Logitech Z333 2.1 Multimedia Speaker System</td><td>7</td><td>NULL</td><td>225</td></tr>",
                            "<tr><td>31</td><td>Logitech Z333 2.1 Multimedia Speaker System</td><td>8</td><td>NULL</td><td>227</td></tr>",
                            "<tr><td>32</td><td>Blue Yeti Microphone</td><td>2</td><td>Downtown warehouse</td><td>95</td></tr>",
                            "<tr><td>32</td><td>Blue Yeti Microphone</td><td>4</td><td>NULL</td><td>172</td></tr>",
                            "<tr><td>32</td><td>Blue Yeti Microphone</td><td>6</td><td>NULL</td><td>68</td></tr>",
                            "<tr><td>32</td><td>Blue Yeti Microphone</td><td>7</td><td>NULL</td><td>113</td></tr>",
                            "<tr><td>32</td><td>Blue Yeti Microphone</td><td>8</td><td>NULL</td><td>183</td></tr>",
                            "<tr><td>32</td><td>Blue Yeti Microphone</td><td>9</td><td>NULL</td><td>216</td></tr>",
                            "<tr><td>33</td><td>Edifier Multimedia 2.0 system PC Speaker</td><td>3</td><td>Brunswick warehouse</td><td>178</td></tr>",
                            "<tr><td>33</td><td>Edifier Multimedia 2.0 system PC Speaker</td><td>4</td><td>NULL</td><td>107</td></tr>",
                            "<tr><td>33</td><td>Edifier Multimedia 2.0 system PC Speaker</td><td>5</td><td>NULL</td><td>193</td></tr>",
                            "<tr><td>33</td><td>Edifier Multimedia 2.0 system PC Speaker</td><td>6</td><td>NULL</td><td>67</td></tr>",
                            "<tr><td>33</td><td>Edifier Multimedia 2.0 system PC Speaker</td><td>7</td><td>NULL</td><td>71</td></tr>",
                            "<tr><td>33</td><td>Edifier Multimedia 2.0 system PC Speaker</td><td>8</td><td>NULL</td><td>63</td></tr>",
                            "<tr><td>33</td><td>Edifier Multimedia 2.0 system PC Speaker</td><td>9</td><td>NULL</td><td>89</td></tr>",
                            "<tr><td>34</td><td>Samsung Galaxy Note10 - Aura Black</td><td>1</td><td>Central warehouse</td><td>32</td></tr>",
                            "<tr><td>34</td><td>Samsung Galaxy Note10 - Aura Black</td><td>2</td><td>Downtown warehouse</td><td>118</td></tr>",
                            "<tr><td>34</td><td>Samsung Galaxy Note10 - Aura Black</td><td>4</td><td>NULL</td><td>107</td></tr>",
                            "<tr><td>34</td><td>Samsung Galaxy Note10 - Aura Black</td><td>5</td><td>NULL</td><td>77</td></tr>",
                            "<tr><td>34</td><td>Samsung Galaxy Note10 - Aura Black</td><td>6</td><td>NULL</td><td>223</td></tr>",
                            "<tr><td>34</td><td>Samsung Galaxy Note10 - Aura Black</td><td>7</td><td>NULL</td><td>30</td></tr>",
                            "<tr><td>34</td><td>Samsung Galaxy Note10 - Aura Black</td><td>8</td><td>NULL</td><td>170</td></tr>",
                            "<tr><td>34</td><td>Samsung Galaxy Note10 - Aura Black</td><td>9</td><td>NULL</td><td>219</td></tr>",
                            "<tr><td>35</td><td>PBX Smart Watch 4</td><td>2</td><td>Downtown warehouse</td><td>175</td></tr>",
                            "<tr><td>35</td><td>PBX Smart Watch 4</td><td>4</td><td>NULL</td><td>146</td></tr>",
                            "<tr><td>35</td><td>PBX Smart Watch 4</td><td>6</td><td>NULL</td><td>184</td></tr>",
                            "<tr><td>35</td><td>PBX Smart Watch 4</td><td>7</td><td>NULL</td><td>71</td></tr>",
                            "<tr><td>35</td><td>PBX Smart Watch 4</td><td>8</td><td>NULL</td><td>30</td></tr>",
                            "<tr><td>36</td><td>Leadtek Quadro P1000 Full Performance Professional Graphics Card</td><td>2</td><td>Downtown warehouse</td><td>118</td></tr>",
                            "<tr><td>36</td><td>Leadtek Quadro P1000 Full Performance Professional Graphics Card</td><td>3</td><td>Brunswick warehouse</td><td>43</td></tr>",
                            "<tr><td>36</td><td>Leadtek Quadro P1000 Full Performance Professional Graphics Card</td><td>5</td><td>NULL</td><td>84</td></tr>",
                            "<tr><td>36</td><td>Leadtek Quadro P1000 Full Performance Professional Graphics Card</td><td>6</td><td>NULL</td><td>216</td></tr>",
                            "<tr><td>36</td><td>Leadtek Quadro P1000 Full Performance Professional Graphics Card</td><td>7</td><td>NULL</td><td>226</td></tr>",
                            "<tr><td>36</td><td>Leadtek Quadro P1000 Full Performance Professional Graphics Card</td><td>8</td><td>NULL</td><td>76</td></tr>",
                            "<tr><td>36</td><td>Leadtek Quadro P1000 Full Performance Professional Graphics Card</td><td>9</td><td>NULL</td><td>95</td></tr>",
                            "<tr><td>37</td><td>Leadtek Quadro P400 Professional Workstation Graphics Card</td><td>1</td><td>Central warehouse</td><td>165</td></tr>",
                            "<tr><td>37</td><td>Leadtek Quadro P400 Professional Workstation Graphics Card</td><td>3</td><td>Brunswick warehouse</td><td>103</td></tr>",
                            "<tr><td>37</td><td>Leadtek Quadro P400 Professional Workstation Graphics Card</td><td>4</td><td>NULL</td><td>49</td></tr>",
                            "<tr><td>37</td><td>Leadtek Quadro P400 Professional Workstation Graphics Card</td><td>5</td><td>NULL</td><td>83</td></tr>",
                            "<tr><td>37</td><td>Leadtek Quadro P400 Professional Workstation Graphics Card</td><td>6</td><td>NULL</td><td>122</td></tr>",
                            "<tr><td>37</td><td>Leadtek Quadro P400 Professional Workstation Graphics Card</td><td>8</td><td>NULL</td><td>77</td></tr>",
                            "<tr><td>37</td><td>Leadtek Quadro P400 Professional Workstation Graphics Card</td><td>9</td><td>NULL</td><td>97</td></tr>",
                            "<tr><td>38</td><td>Apple Watch Series 3 - Grey</td><td>1</td><td>Central warehouse</td><td>157</td></tr>",
                            "<tr><td>38</td><td>Apple Watch Series 3 - Grey</td><td>2</td><td>Downtown warehouse</td><td>131</td></tr>",
                            "<tr><td>38</td><td>Apple Watch Series 3 - Grey</td><td>4</td><td>NULL</td><td>50</td></tr>",
                            "<tr><td>38</td><td>Apple Watch Series 3 - Grey</td><td>6</td><td>NULL</td><td>119</td></tr>",
                            "<tr><td>38</td><td>Apple Watch Series 3 - Grey</td><td>7</td><td>NULL</td><td>91</td></tr>",
                            "<tr><td>38</td><td>Apple Watch Series 3 - Grey</td><td>8</td><td>NULL</td><td>76</td></tr>",
                            "<tr><td>38</td><td>Apple Watch Series 3 - Grey</td><td>9</td><td>NULL</td><td>185</td></tr>",
                            "<tr><td>39</td><td>Spigen iPhone 11 Clear Case</td><td>1</td><td>Central warehouse</td><td>125</td></tr>",
                            "<tr><td>39</td><td>Spigen iPhone 11 Clear Case</td><td>2</td><td>Downtown warehouse</td><td>127</td></tr>",
                            "<tr><td>39</td><td>Spigen iPhone 11 Clear Case</td><td>4</td><td>NULL</td><td>98</td></tr>",
                            "<tr><td>39</td><td>Spigen iPhone 11 Clear Case</td><td>6</td><td>NULL</td><td>63</td></tr>",
                            "<tr><td>39</td><td>Spigen iPhone 11 Clear Case</td><td>9</td><td>NULL</td><td>31</td></tr>",
                            "<tr><td>40</td><td>Samsung 1TB Solid State Drive SSD</td><td>2</td><td>Downtown warehouse</td><td>73</td></tr>",
                            "<tr><td>40</td><td>Samsung 1TB Solid State Drive SSD</td><td>4</td><td>NULL</td><td>50</td></tr>",
                            "<tr><td>40</td><td>Samsung 1TB Solid State Drive SSD</td><td>5</td><td>NULL</td><td>99</td></tr>",
                            "<tr><td>40</td><td>Samsung 1TB Solid State Drive SSD</td><td>6</td><td>NULL</td><td>213</td></tr>",
                            "<tr><td>40</td><td>Samsung 1TB Solid State Drive SSD</td><td>7</td><td>NULL</td><td>214</td></tr>",
                            "<tr><td>40</td><td>Samsung 1TB Solid State Drive SSD</td><td>8</td><td>NULL</td><td>94</td></tr>",
                            "<tr><td>40</td><td>Samsung 1TB Solid State Drive SSD</td><td>9</td><td>NULL</td><td>275</td></tr>",
                            "<tr><td>41</td><td>Crucial MX500 500GB SSD</td><td>1</td><td>Central warehouse</td><td>32</td></tr>",
                            "<tr><td>41</td><td>Crucial MX500 500GB SSD</td><td>2</td><td>Downtown warehouse</td><td>102</td></tr>",
                            "<tr><td>41</td><td>Crucial MX500 500GB SSD</td><td>4</td><td>NULL</td><td>49</td></tr>",
                            "<tr><td>41</td><td>Crucial MX500 500GB SSD</td><td>5</td><td>NULL</td><td>104</td></tr>",
                            "<tr><td>41</td><td>Crucial MX500 500GB SSD</td><td>6</td><td>NULL</td><td>117</td></tr>",
                            "<tr><td>41</td><td>Crucial MX500 500GB SSD</td><td>8</td><td>NULL</td><td>163</td></tr>",
                            "<tr><td>41</td><td>Crucial MX500 500GB SSD</td><td>9</td><td>NULL</td><td>164</td></tr>",
                            "<tr><td>42</td><td>PBX Everyday Home PC 43300</td><td>3</td><td>Brunswick warehouse</td><td>35</td></tr>",
                            "<tr><td>42</td><td>PBX Everyday Home PC 43300</td><td>4</td><td>NULL</td><td>21</td></tr>",
                            "<tr><td>42</td><td>PBX Everyday Home PC 43300</td><td>5</td><td>NULL</td><td>114</td></tr>",
                            "<tr><td>42</td><td>PBX Everyday Home PC 43300</td><td>6</td><td>NULL</td><td>24</td></tr>",
                            "<tr><td>42</td><td>PBX Everyday Home PC 43300</td><td>7</td><td>NULL</td><td>21</td></tr>",
                            "<tr><td>42</td><td>PBX Everyday Home PC 43300</td><td>8</td><td>NULL</td><td>19</td></tr>",
                            "<tr><td>42</td><td>PBX Everyday Home PC 43300</td><td>9</td><td>NULL</td><td>74</td></tr>",
                            "<tr><td>43</td><td>Samsung Galaxy S20 Smart Cover</td><td>1</td><td>Central warehouse</td><td>66</td></tr>",
                            "<tr><td>43</td><td>Samsung Galaxy S20 Smart Cover</td><td>4</td><td>NULL</td><td>175</td></tr>",
                            "<tr><td>43</td><td>Samsung Galaxy S20 Smart Cover</td><td>5</td><td>NULL</td><td>78</td></tr>",
                            "<tr><td>43</td><td>Samsung Galaxy S20 Smart Cover</td><td>7</td><td>NULL</td><td>214</td></tr>",
                            "<tr><td>43</td><td>Samsung Galaxy S20 Smart Cover</td><td>8</td><td>NULL</td><td>76</td></tr>",
                            "<tr><td>43</td><td>Samsung Galaxy S20 Smart Cover</td><td>9</td><td>NULL</td><td>90</td></tr>",
                            "<tr><td>44</td><td>ASUS VG279Q 27 inch Full HD IPS Gaming Monitor</td><td>2</td><td>Downtown warehouse</td><td>170</td></tr>",
                            "<tr><td>44</td><td>ASUS VG279Q 27 inch Full HD IPS Gaming Monitor</td><td>4</td><td>NULL</td><td>176</td></tr>",
                            "<tr><td>44</td><td>ASUS VG279Q 27 inch Full HD IPS Gaming Monitor</td><td>5</td><td>NULL</td><td>118</td></tr>",
                            "<tr><td>44</td><td>ASUS VG279Q 27 inch Full HD IPS Gaming Monitor</td><td>6</td><td>NULL</td><td>227</td></tr>",
                            "<tr><td>44</td><td>ASUS VG279Q 27 inch Full HD IPS Gaming Monitor</td><td>7</td><td>NULL</td><td>226</td></tr>",
                            "<tr><td>44</td><td>ASUS VG279Q 27 inch Full HD IPS Gaming Monitor</td><td>8</td><td>NULL</td><td>172</td></tr>",
                            "<tr><td>44</td><td>ASUS VG279Q 27 inch Full HD IPS Gaming Monitor</td><td>9</td><td>NULL</td><td>75</td></tr>",
                            "<tr><td>45</td><td>Aten UC3020 CamLive HDMI to USB-C Video Capture</td><td>2</td><td>Downtown warehouse</td><td>127</td></tr>",
                            "<tr><td>45</td><td>Aten UC3020 CamLive HDMI to USB-C Video Capture</td><td>3</td><td>Brunswick warehouse</td><td>176</td></tr>",
                            "<tr><td>45</td><td>Aten UC3020 CamLive HDMI to USB-C Video Capture</td><td>4</td><td>NULL</td><td>272</td></tr>",
                            "<tr><td>45</td><td>Aten UC3020 CamLive HDMI to USB-C Video Capture</td><td>5</td><td>NULL</td><td>69</td></tr>",
                            "<tr><td>45</td><td>Aten UC3020 CamLive HDMI to USB-C Video Capture</td><td>6</td><td>NULL</td><td>62</td></tr>",
                            "<tr><td>45</td><td>Aten UC3020 CamLive HDMI to USB-C Video Capture</td><td>7</td><td>NULL</td><td>29</td></tr>",
                            "<tr><td>45</td><td>Aten UC3020 CamLive HDMI to USB-C Video Capture</td><td>8</td><td>NULL</td><td>173</td></tr>",
                            "<tr><td>45</td><td>Aten UC3020 CamLive HDMI to USB-C Video Capture</td><td>9</td><td>NULL</td><td>74</td></tr>",
                            "<tr><td>46</td><td>Cooler Master Hyper 212</td><td>2</td><td>Downtown warehouse</td><td>118</td></tr>",
                            "<tr><td>46</td><td>Cooler Master Hyper 212</td><td>4</td><td>NULL</td><td>50</td></tr>",
                            "<tr><td>46</td><td>Cooler Master Hyper 212</td><td>5</td><td>NULL</td><td>54</td></tr>",
                            "<tr><td>46</td><td>Cooler Master Hyper 212</td><td>8</td><td>NULL</td><td>180</td></tr>",
                            "<tr><td>46</td><td>Cooler Master Hyper 212</td><td>9</td><td>NULL</td><td>164</td></tr>",
                            "<tr><td>47</td><td>Canon EOS M50 Mirrorless Camera</td><td>1</td><td>Central warehouse</td><td>98</td></tr>",
                            "<tr><td>47</td><td>Canon EOS M50 Mirrorless Camera</td><td>2</td><td>Downtown warehouse</td><td>133</td></tr>",
                            "<tr><td>47</td><td>Canon EOS M50 Mirrorless Camera</td><td>3</td><td>Brunswick warehouse</td><td>136</td></tr>",
                            "<tr><td>47</td><td>Canon EOS M50 Mirrorless Camera</td><td>4</td><td>NULL</td><td>96</td></tr>",
                            "<tr><td>47</td><td>Canon EOS M50 Mirrorless Camera</td><td>5</td><td>NULL</td><td>195</td></tr>",
                            "<tr><td>47</td><td>Canon EOS M50 Mirrorless Camera</td><td>6</td><td>NULL</td><td>81</td></tr>",
                            "<tr><td>47</td><td>Canon EOS M50 Mirrorless Camera</td><td>7</td><td>NULL</td><td>225</td></tr>",
                            "<tr><td>47</td><td>Canon EOS M50 Mirrorless Camera</td><td>8</td><td>NULL</td><td>88</td></tr>",
                            "<tr><td>47</td><td>Canon EOS M50 Mirrorless Camera</td><td>9</td><td>NULL</td><td>88</td></tr>",
                            "<tr><td>48</td><td>Canon EOS 80D DSLR Camera Single Lens Kit</td><td>1</td><td>Central warehouse</td><td>165</td></tr>",
                            "<tr><td>48</td><td>Canon EOS 80D DSLR Camera Single Lens Kit</td><td>2</td><td>Downtown warehouse</td><td>79</td></tr>",
                            "<tr><td>48</td><td>Canon EOS 80D DSLR Camera Single Lens Kit</td><td>4</td><td>NULL</td><td>54</td></tr>",
                            "<tr><td>48</td><td>Canon EOS 80D DSLR Camera Single Lens Kit</td><td>5</td><td>NULL</td><td>114</td></tr>",
                            "<tr><td>48</td><td>Canon EOS 80D DSLR Camera Single Lens Kit</td><td>6</td><td>NULL</td><td>63</td></tr>",
                            "<tr><td>48</td><td>Canon EOS 80D DSLR Camera Single Lens Kit</td><td>7</td><td>NULL</td><td>74</td></tr>",
                            "<tr><td>48</td><td>Canon EOS 80D DSLR Camera Single Lens Kit</td><td>8</td><td>NULL</td><td>178</td></tr>",
                            "<tr><td>48</td><td>Canon EOS 80D DSLR Camera Single Lens Kit</td><td>9</td><td>NULL</td><td>39</td></tr>",
                            "<tr><td>49</td><td>GoPro HERO 7 Silver Action Camera 4K Video</td><td>1</td><td>Central warehouse</td><td>101</td></tr>",
                            "<tr><td>49</td><td>GoPro HERO 7 Silver Action Camera 4K Video</td><td>2</td><td>Downtown warehouse</td><td>81</td></tr>",
                            "<tr><td>49</td><td>GoPro HERO 7 Silver Action Camera 4K Video</td><td>3</td><td>Brunswick warehouse</td><td>197</td></tr>",
                            "<tr><td>49</td><td>GoPro HERO 7 Silver Action Camera 4K Video</td><td>4</td><td>NULL</td><td>48</td></tr>",
                            "<tr><td>49</td><td>GoPro HERO 7 Silver Action Camera 4K Video</td><td>5</td><td>NULL</td><td>304</td></tr>",
                            "<tr><td>49</td><td>GoPro HERO 7 Silver Action Camera 4K Video</td><td>6</td><td>NULL</td><td>220</td></tr>",
                            "<tr><td>49</td><td>GoPro HERO 7 Silver Action Camera 4K Video</td><td>7</td><td>NULL</td><td>30</td></tr>",
                            "<tr><td>49</td><td>GoPro HERO 7 Silver Action Camera 4K Video</td><td>8</td><td>NULL</td><td>210</td></tr>",
                            "<tr><td>49</td><td>GoPro HERO 7 Silver Action Camera 4K Video</td><td>9</td><td>NULL</td><td>185</td></tr>",
                            "<tr><td>50</td><td>Comet Drone with Camera</td><td>3</td><td>Brunswick warehouse</td><td>103</td></tr>",
                            "<tr><td>50</td><td>Comet Drone with Camera</td><td>4</td><td>NULL</td><td>251</td></tr>",
                            "<tr><td>50</td><td>Comet Drone with Camera</td><td>5</td><td>NULL</td><td>54</td></tr>",
                            "<tr><td>50</td><td>Comet Drone with Camera</td><td>6</td><td>NULL</td><td>213</td></tr>",
                            "<tr><td>50</td><td>Comet Drone with Camera</td><td>7</td><td>NULL</td><td>227</td></tr>",
                            "<tr><td>50</td><td>Comet Drone with Camera</td><td>8</td><td>NULL</td><td>169</td></tr>",
                            "<tr><td>50</td><td>Comet Drone with Camera</td><td>9</td><td>NULL</td><td>73</td></tr>",
                            "<tr><td>51</td><td>HP Ink Cartridge 65XL Black</td><td>2</td><td>Downtown warehouse</td><td>96</td></tr>",
                            "<tr><td>51</td><td>HP Ink Cartridge 65XL Black</td><td>3</td><td>Brunswick warehouse</td><td>176</td></tr>",
                            "<tr><td>51</td><td>HP Ink Cartridge 65XL Black</td><td>4</td><td>NULL</td><td>222</td></tr>",
                            "<tr><td>51</td><td>HP Ink Cartridge 65XL Black</td><td>5</td><td>NULL</td><td>114</td></tr>",
                            "<tr><td>51</td><td>HP Ink Cartridge 65XL Black</td><td>6</td><td>NULL</td><td>216</td></tr>",
                            "<tr><td>51</td><td>HP Ink Cartridge 65XL Black</td><td>8</td><td>NULL</td><td>88</td></tr>",
                            "<tr><td>51</td><td>HP Ink Cartridge 65XL Black</td><td>9</td><td>NULL</td><td>184</td></tr>",
                            "<tr><td>52</td><td>ASUS W203MA Laptop</td><td>2</td><td>Downtown warehouse</td><td>81</td></tr>",
                            "<tr><td>52</td><td>ASUS W203MA Laptop</td><td>3</td><td>Brunswick warehouse</td><td>136</td></tr>",
                            "<tr><td>52</td><td>ASUS W203MA Laptop</td><td>5</td><td>NULL</td><td>181</td></tr>",
                            "<tr><td>52</td><td>ASUS W203MA Laptop</td><td>7</td><td>NULL</td><td>119</td></tr>",
                            "<tr><td>52</td><td>ASUS W203MA Laptop</td><td>8</td><td>NULL</td><td>227</td></tr>",
                            "<tr><td>52</td><td>ASUS W203MA Laptop</td><td>9</td><td>NULL</td><td>89</td></tr>",
                            "<tr><td>53</td><td>AB Security cam</td><td>2</td><td>Downtown warehouse</td><td>30</td></tr>",
                            "<tr><td>53</td><td>AB Security cam</td><td>3</td><td>Brunswick warehouse</td><td>41</td></tr>",
                            "<tr><td>53</td><td>AB Security cam</td><td>4</td><td>NULL</td><td>40</td></tr>",
                            "<tr><td>53</td><td>AB Security cam</td><td>5</td><td>NULL</td><td>29</td></tr>",
                            "<tr><td>53</td><td>AB Security cam</td><td>6</td><td>NULL</td><td>23</td></tr>",
                            "<tr><td>53</td><td>AB Security cam</td><td>7</td><td>NULL</td><td>22</td></tr>",
                            "<tr><td>53</td><td>AB Security cam</td><td>8</td><td>NULL</td><td>54</td></tr>",
                            "<tr><td>53</td><td>AB Security cam</td><td>9</td><td>NULL</td><td>34</td></tr>",
                            "<tr><td>54</td><td>Panasonic VL-SWD272 Wireless Video Intercom System</td><td>2</td><td>Downtown warehouse</td><td>133</td></tr>",
                            "<tr><td>54</td><td>Panasonic VL-SWD272 Wireless Video Intercom System</td><td>4</td><td>NULL</td><td>98</td></tr>",
                            "<tr><td>54</td><td>Panasonic VL-SWD272 Wireless Video Intercom System</td><td>5</td><td>NULL</td><td>115</td></tr>",
                            "<tr><td>54</td><td>Panasonic VL-SWD272 Wireless Video Intercom System</td><td>6</td><td>NULL</td><td>189</td></tr>",
                            "<tr><td>54</td><td>Panasonic VL-SWD272 Wireless Video Intercom System</td><td>7</td><td>NULL</td><td>69</td></tr>",
                            "<tr><td>54</td><td>Panasonic VL-SWD272 Wireless Video Intercom System</td><td>8</td><td>NULL</td><td>85</td></tr>",
                            "<tr><td>54</td><td>Panasonic VL-SWD272 Wireless Video Intercom System</td><td>9</td><td>NULL</td><td>31</td></tr>",
                            "<tr><td>55</td><td>RING Smart Video Wi-Fi Doorbell 3</td><td>1</td><td>Central warehouse</td><td>157</td></tr>",
                            "<tr><td>55</td><td>RING Smart Video Wi-Fi Doorbell 3</td><td>2</td><td>Downtown warehouse</td><td>175</td></tr>",
                            "<tr><td>55</td><td>RING Smart Video Wi-Fi Doorbell 3</td><td>4</td><td>NULL</td><td>104</td></tr>",
                            "<tr><td>55</td><td>RING Smart Video Wi-Fi Doorbell 3</td><td>6</td><td>NULL</td><td>119</td></tr>",
                            "<tr><td>55</td><td>RING Smart Video Wi-Fi Doorbell 3</td><td>7</td><td>NULL</td><td>30</td></tr>",
                            "<tr><td>55</td><td>RING Smart Video Wi-Fi Doorbell 3</td><td>8</td><td>NULL</td><td>184</td></tr>",
                            "<tr><td>55</td><td>RING Smart Video Wi-Fi Doorbell 3</td><td>9</td><td>NULL</td><td>267</td></tr>",
                            "<tr><td>56</td><td>Microsoft Surface Laptop 3</td><td>2</td><td>Downtown warehouse</td><td>42</td></tr>",
                            "<tr><td>56</td><td>Microsoft Surface Laptop 3</td><td>3</td><td>Brunswick warehouse</td><td>171</td></tr>",
                            "<tr><td>56</td><td>Microsoft Surface Laptop 3</td><td>4</td><td>NULL</td><td>74</td></tr>",
                            "<tr><td>56</td><td>Microsoft Surface Laptop 3</td><td>6</td><td>NULL</td><td>196</td></tr>",
                            "<tr><td>56</td><td>Microsoft Surface Laptop 3</td><td>8</td><td>NULL</td><td>94</td></tr>",
                            "<tr><td>56</td><td>Microsoft Surface Laptop 3</td><td>9</td><td>NULL</td><td>88</td></tr>",
                            "<tr><td>57</td><td>Acer Nitro 7 Gaming Laptop</td><td>2</td><td>Downtown warehouse</td><td>125</td></tr>",
                            "<tr><td>57</td><td>Acer Nitro 7 Gaming Laptop</td><td>4</td><td>NULL</td><td>174</td></tr>",
                            "<tr><td>57</td><td>Acer Nitro 7 Gaming Laptop</td><td>6</td><td>NULL</td><td>213</td></tr>",
                            "<tr><td>57</td><td>Acer Nitro 7 Gaming Laptop</td><td>8</td><td>NULL</td><td>179</td></tr>",
                            "<tr><td>57</td><td>Acer Nitro 7 Gaming Laptop</td><td>9</td><td>NULL</td><td>266</td></tr>",
                            "<tr><td>58</td><td>Cooler Master MasterFan</td><td>2</td><td>Downtown warehouse</td><td>97</td></tr>",
                            "<tr><td>58</td><td>Cooler Master MasterFan</td><td>5</td><td>NULL</td><td>92</td></tr>",
                            "<tr><td>58</td><td>Cooler Master MasterFan</td><td>6</td><td>NULL</td><td>155</td></tr>",
                            "<tr><td>58</td><td>Cooler Master MasterFan</td><td>8</td><td>NULL</td><td>234</td></tr>",
                            "<tr><td>58</td><td>Cooler Master MasterFan</td><td>9</td><td>NULL</td><td>86</td></tr>",
                            "<tr><td>59</td><td>Samsung 50TU8000 50 inch 4K Smart TV</td><td>2</td><td>Downtown warehouse</td><td>276</td></tr>",
                            "<tr><td>59</td><td>Samsung 50TU8000 50 inch 4K Smart TV</td><td>5</td><td>NULL</td><td>134</td></tr>",
                            "<tr><td>59</td><td>Samsung 50TU8000 50 inch 4K Smart TV</td><td>6</td><td>NULL</td><td>199</td></tr>",
                            "<tr><td>59</td><td>Samsung 50TU8000 50 inch 4K Smart TV</td><td>7</td><td>NULL</td><td>74</td></tr>",
                            "<tr><td>59</td><td>Samsung 50TU8000 50 inch 4K Smart TV</td><td>8</td><td>NULL</td><td>76</td></tr>",
                            "<tr><td>59</td><td>Samsung 50TU8000 50 inch 4K Smart TV</td><td>9</td><td>NULL</td><td>272</td></tr>",
                            "<tr><td>60</td><td>Konic 55 inch 4K Ultra HD LED TV</td><td>2</td><td>Downtown warehouse</td><td>118</td></tr>",
                            "<tr><td>60</td><td>Konic 55 inch 4K Ultra HD LED TV</td><td>3</td><td>Brunswick warehouse</td><td>46</td></tr>",
                            "<tr><td>60</td><td>Konic 55 inch 4K Ultra HD LED TV</td><td>4</td><td>NULL</td><td>246</td></tr>",
                            "<tr><td>60</td><td>Konic 55 inch 4K Ultra HD LED TV</td><td>5</td><td>NULL</td><td>101</td></tr>",
                            "<tr><td>60</td><td>Konic 55 inch 4K Ultra HD LED TV</td><td>6</td><td>NULL</td><td>193</td></tr>",
                            "<tr><td>61</td><td>Apple Magic Keyboard</td><td>1</td><td>Central warehouse</td><td>157</td></tr>",
                            "<tr><td>61</td><td>Apple Magic Keyboard</td><td>2</td><td>Downtown warehouse</td><td>71</td></tr>",
                            "<tr><td>61</td><td>Apple Magic Keyboard</td><td>5</td><td>NULL</td><td>177</td></tr>",
                            "<tr><td>61</td><td>Apple Magic Keyboard</td><td>6</td><td>NULL</td><td>119</td></tr>",
                            "<tr><td>61</td><td>Apple Magic Keyboard</td><td>7</td><td>NULL</td><td>185</td></tr>",
                            "<tr><td>61</td><td>Apple Magic Keyboard</td><td>8</td><td>NULL</td><td>183</td></tr>",
                            "<tr><td>61</td><td>Apple Magic Keyboard</td><td>9</td><td>NULL</td><td>219</td></tr>",
                            "<tr><td>62</td><td>Viper-X Drone with VR Headset</td><td>3</td><td>Brunswick warehouse</td><td>103</td></tr>",
                            "<tr><td>62</td><td>Viper-X Drone with VR Headset</td><td>4</td><td>NULL</td><td>197</td></tr>",
                            "<tr><td>62</td><td>Viper-X Drone with VR Headset</td><td>5</td><td>NULL</td><td>237</td></tr>",
                            "<tr><td>62</td><td>Viper-X Drone with VR Headset</td><td>6</td><td>NULL</td><td>185</td></tr>",
                            "<tr><td>62</td><td>Viper-X Drone with VR Headset</td><td>7</td><td>NULL</td><td>62</td></tr>",
                            "<tr><td>62</td><td>Viper-X Drone with VR Headset</td><td>8</td><td>NULL</td><td>39</td></tr>",
                            "<tr><td>62</td><td>Viper-X Drone with VR Headset</td><td>9</td><td>NULL</td><td>164</td></tr>",
                            "<tr><td>63</td><td>Samsung C49HG90 49 inch QLED Monitor</td><td>2</td><td>Downtown warehouse</td><td>96</td></tr>",
                            "<tr><td>63</td><td>Samsung C49HG90 49 inch QLED Monitor</td><td>4</td><td>NULL</td><td>35</td></tr>",
                            "<tr><td>63</td><td>Samsung C49HG90 49 inch QLED Monitor</td><td>5</td><td>NULL</td><td>177</td></tr>",
                            "<tr><td>63</td><td>Samsung C49HG90 49 inch QLED Monitor</td><td>6</td><td>NULL</td><td>64</td></tr>",
                            "<tr><td>63</td><td>Samsung C49HG90 49 inch QLED Monitor</td><td>7</td><td>NULL</td><td>58</td></tr>",
                            "<tr><td>63</td><td>Samsung C49HG90 49 inch QLED Monitor</td><td>8</td><td>NULL</td><td>163</td></tr>",
                            "<tr><td>63</td><td>Samsung C49HG90 49 inch QLED Monitor</td><td>9</td><td>NULL</td><td>191</td></tr>",
                            "<tr><td>64</td><td>Microsoft Surface Pro 7 Tablet</td><td>1</td><td>Central warehouse</td><td>106</td></tr>",
                            "<tr><td>64</td><td>Microsoft Surface Pro 7 Tablet</td><td>2</td><td>Downtown warehouse</td><td>89</td></tr>",
                            "<tr><td>64</td><td>Microsoft Surface Pro 7 Tablet</td><td>3</td><td>Brunswick warehouse</td><td>102</td></tr>",
                            "<tr><td>64</td><td>Microsoft Surface Pro 7 Tablet</td><td>4</td><td>NULL</td><td>177</td></tr>",
                            "<tr><td>64</td><td>Microsoft Surface Pro 7 Tablet</td><td>5</td><td>NULL</td><td>107</td></tr>",
                            "<tr><td>64</td><td>Microsoft Surface Pro 7 Tablet</td><td>6</td><td>NULL</td><td>122</td></tr>",
                            "<tr><td>64</td><td>Microsoft Surface Pro 7 Tablet</td><td>7</td><td>NULL</td><td>214</td></tr>",
                            "<tr><td>64</td><td>Microsoft Surface Pro 7 Tablet</td><td>8</td><td>NULL</td><td>182</td></tr>",
                            "<tr><td>64</td><td>Microsoft Surface Pro 7 Tablet</td><td>9</td><td>NULL</td><td>88</td></tr>",
                            "<tr><td>65</td><td>Evoluent VM4R Wired Vertical Mouse 4 right-handed</td><td>1</td><td>Central warehouse</td><td>93</td></tr>",
                            "<tr><td>65</td><td>Evoluent VM4R Wired Vertical Mouse 4 right-handed</td><td>2</td><td>Downtown warehouse</td><td>282</td></tr>",
                            "<tr><td>65</td><td>Evoluent VM4R Wired Vertical Mouse 4 right-handed</td><td>5</td><td>NULL</td><td>237</td></tr>",
                            "<tr><td>65</td><td>Evoluent VM4R Wired Vertical Mouse 4 right-handed</td><td>6</td><td>NULL</td><td>122</td></tr>",
                            "<tr><td>65</td><td>Evoluent VM4R Wired Vertical Mouse 4 right-handed</td><td>7</td><td>NULL</td><td>228</td></tr>",
                            "<tr><td>65</td><td>Evoluent VM4R Wired Vertical Mouse 4 right-handed</td><td>8</td><td>NULL</td><td>181</td></tr>",
                            "<tr><td>65</td><td>Evoluent VM4R Wired Vertical Mouse 4 right-handed</td><td>9</td><td>NULL</td><td>84</td></tr>",
                            "<tr><td>66</td><td>Adesso iMouse E1</td><td>2</td><td>Downtown warehouse</td><td>135</td></tr>",
                            "<tr><td>66</td><td>Adesso iMouse E1</td><td>3</td><td>Brunswick warehouse</td><td>42</td></tr>",
                            "<tr><td>66</td><td>Adesso iMouse E1</td><td>4</td><td>NULL</td><td>174</td></tr>",
                            "<tr><td>66</td><td>Adesso iMouse E1</td><td>5</td><td>NULL</td><td>117</td></tr>",
                            "<tr><td>66</td><td>Adesso iMouse E1</td><td>6</td><td>NULL</td><td>198</td></tr>",
                            "<tr><td>66</td><td>Adesso iMouse E1</td><td>7</td><td>NULL</td><td>208</td></tr>",
                            "<tr><td>66</td><td>Adesso iMouse E1</td><td>9</td><td>NULL</td><td>86</td></tr>",
                            "<tr><td>67</td><td>Spigen Galaxy Note 10 tough armor case</td><td>1</td><td>Central warehouse</td><td>94</td></tr>",
                            "<tr><td>67</td><td>Spigen Galaxy Note 10 tough armor case</td><td>2</td><td>Downtown warehouse</td><td>46</td></tr>",
                            "<tr><td>67</td><td>Spigen Galaxy Note 10 tough armor case</td><td>4</td><td>NULL</td><td>197</td></tr>",
                            "<tr><td>67</td><td>Spigen Galaxy Note 10 tough armor case</td><td>5</td><td>NULL</td><td>107</td></tr>",
                            "<tr><td>67</td><td>Spigen Galaxy Note 10 tough armor case</td><td>7</td><td>NULL</td><td>223</td></tr>",
                            "<tr><td>67</td><td>Spigen Galaxy Note 10 tough armor case</td><td>8</td><td>NULL</td><td>87</td></tr>",
                            "<tr><td>67</td><td>Spigen Galaxy Note 10 tough armor case</td><td>9</td><td>NULL</td><td>232</td></tr>",
                            "<tr><td>68</td><td>Andromeda Drone with Camera</td><td>2</td><td>Downtown warehouse</td><td>94</td></tr>",
                            "<tr><td>68</td><td>Andromeda Drone with Camera</td><td>3</td><td>Brunswick warehouse</td><td>175</td></tr>",
                            "<tr><td>68</td><td>Andromeda Drone with Camera</td><td>4</td><td>NULL</td><td>97</td></tr>",
                            "<tr><td>68</td><td>Andromeda Drone with Camera</td><td>5</td><td>NULL</td><td>176</td></tr>",
                            "<tr><td>68</td><td>Andromeda Drone with Camera</td><td>6</td><td>NULL</td><td>149</td></tr>",
                            "<tr><td>68</td><td>Andromeda Drone with Camera</td><td>7</td><td>NULL</td><td>224</td></tr>",
                            "<tr><td>68</td><td>Andromeda Drone with Camera</td><td>8</td><td>NULL</td><td>76</td></tr>",
                            "<tr><td>68</td><td>Andromeda Drone with Camera</td><td>9</td><td>NULL</td><td>89</td></tr>",
                            "<tr><td>69</td><td>PowerBeats Pro True Wireless Sports Earphones</td><td>2</td><td>Downtown warehouse</td><td>138</td></tr>",
                            "<tr><td>69</td><td>PowerBeats Pro True Wireless Sports Earphones</td><td>4</td><td>NULL</td><td>103</td></tr>",
                            "<tr><td>69</td><td>PowerBeats Pro True Wireless Sports Earphones</td><td>5</td><td>NULL</td><td>211</td></tr>",
                            "<tr><td>69</td><td>PowerBeats Pro True Wireless Sports Earphones</td><td>6</td><td>NULL</td><td>155</td></tr>",
                            "<tr><td>69</td><td>PowerBeats Pro True Wireless Sports Earphones</td><td>7</td><td>NULL</td><td>113</td></tr>",
                            "<tr><td>69</td><td>PowerBeats Pro True Wireless Sports Earphones</td><td>8</td><td>NULL</td><td>81</td></tr>",
                            "<tr><td>69</td><td>PowerBeats Pro True Wireless Sports Earphones</td><td>9</td><td>NULL</td><td>97</td></tr>",
                            "<tr><td>70</td><td>PBX 2000mAh Power Bank 3 - Black</td><td>1</td><td>Central warehouse</td><td>108</td></tr>",
                            "<tr><td>70</td><td>PBX 2000mAh Power Bank 3 - Black</td><td>2</td><td>Downtown warehouse</td><td>131</td></tr>",
                            "<tr><td>70</td><td>PBX 2000mAh Power Bank 3 - Black</td><td>3</td><td>Brunswick warehouse</td><td>209</td></tr>",
                            "<tr><td>70</td><td>PBX 2000mAh Power Bank 3 - Black</td><td>4</td><td>NULL</td><td>185</td></tr>",
                            "<tr><td>70</td><td>PBX 2000mAh Power Bank 3 - Black</td><td>5</td><td>NULL</td><td>177</td></tr>",
                            "<tr><td>70</td><td>PBX 2000mAh Power Bank 3 - Black</td><td>6</td><td>NULL</td><td>154</td></tr>",
                            "<tr><td>70</td><td>PBX 2000mAh Power Bank 3 - Black</td><td>7</td><td>NULL</td><td>167</td></tr>",
                            "<tr><td>70</td><td>PBX 2000mAh Power Bank 3 - Black</td><td>8</td><td>NULL</td><td>39</td></tr>",
                            "<tr><td>70</td><td>PBX 2000mAh Power Bank 3 - Black</td><td>9</td><td>NULL</td><td>89</td></tr>",
                            "<tr><td>71</td><td>Apple AirPods Pro Noise Cancelling True Wireless Headphones</td><td>2</td><td>Downtown warehouse</td><td>170</td></tr>",
                            "<tr><td>71</td><td>Apple AirPods Pro Noise Cancelling True Wireless Headphones</td><td>3</td><td>Brunswick warehouse</td><td>172</td></tr>",
                            "<tr><td>71</td><td>Apple AirPods Pro Noise Cancelling True Wireless Headphones</td><td>4</td><td>NULL</td><td>146</td></tr>",
                            "<tr><td>71</td><td>Apple AirPods Pro Noise Cancelling True Wireless Headphones</td><td>5</td><td>NULL</td><td>100</td></tr>",
                            "<tr><td>71</td><td>Apple AirPods Pro Noise Cancelling True Wireless Headphones</td><td>6</td><td>NULL</td><td>149</td></tr>",
                            "<tr><td>71</td><td>Apple AirPods Pro Noise Cancelling True Wireless Headphones</td><td>7</td><td>NULL</td><td>167</td></tr>",
                            "<tr><td>71</td><td>Apple AirPods Pro Noise Cancelling True Wireless Headphones</td><td>8</td><td>NULL</td><td>74</td></tr>",
                            "<tr><td>71</td><td>Apple AirPods Pro Noise Cancelling True Wireless Headphones</td><td>9</td><td>NULL</td><td>244</td></tr>",
                            "<tr><td>72</td><td>Sennheiser HD 4.30i Over-Ear Headphones</td><td>2</td><td>Downtown warehouse</td><td>175</td></tr>",
                            "<tr><td>72</td><td>Sennheiser HD 4.30i Over-Ear Headphones</td><td>6</td><td>NULL</td><td>213</td></tr>",
                            "<tr><td>72</td><td>Sennheiser HD 4.30i Over-Ear Headphones</td><td>8</td><td>NULL</td><td>88</td></tr>",
                            "<tr><td>72</td><td>Sennheiser HD 4.30i Over-Ear Headphones</td><td>9</td><td>NULL</td><td>185</td></tr>",
                            "<tr><td>73</td><td>Corsair LL Series LL120 Fan</td><td>2</td><td>Downtown warehouse</td><td>100</td></tr>",
                            "<tr><td>73</td><td>Corsair LL Series LL120 Fan</td><td>4</td><td>NULL</td><td>96</td></tr>",
                            "<tr><td>73</td><td>Corsair LL Series LL120 Fan</td><td>5</td><td>NULL</td><td>273</td></tr>",
                            "<tr><td>73</td><td>Corsair LL Series LL120 Fan</td><td>6</td><td>NULL</td><td>68</td></tr>",
                            "<tr><td>73</td><td>Corsair LL Series LL120 Fan</td><td>8</td><td>NULL</td><td>163</td></tr>",
                            "<tr><td>73</td><td>Corsair LL Series LL120 Fan</td><td>9</td><td>NULL</td><td>164</td></tr>",
                            "<tr><td>74</td><td>Canon Ink Cartridge PG645</td><td>1</td><td>Central warehouse</td><td>108</td></tr>",
                            "<tr><td>74</td><td>Canon Ink Cartridge PG645</td><td>2</td><td>Downtown warehouse</td><td>173</td></tr>",
                            "<tr><td>74</td><td>Canon Ink Cartridge PG645</td><td>4</td><td>NULL</td><td>96</td></tr>",
                            "<tr><td>74</td><td>Canon Ink Cartridge PG645</td><td>6</td><td>NULL</td><td>111</td></tr>",
                            "<tr><td>74</td><td>Canon Ink Cartridge PG645</td><td>7</td><td>NULL</td><td>184</td></tr>",
                            "<tr><td>74</td><td>Canon Ink Cartridge PG645</td><td>9</td><td>NULL</td><td>89</td></tr>",
                            "<tr><td>75</td><td>Roidmi S3 Bluetooth Music Car Charger</td><td>2</td><td>Downtown warehouse</td><td>158</td></tr>",
                            "<tr><td>75</td><td>Roidmi S3 Bluetooth Music Car Charger</td><td>3</td><td>Brunswick warehouse</td><td>48</td></tr>",
                            "<tr><td>75</td><td>Roidmi S3 Bluetooth Music Car Charger</td><td>6</td><td>NULL</td><td>78</td></tr>",
                            "<tr><td>75</td><td>Roidmi S3 Bluetooth Music Car Charger</td><td>7</td><td>NULL</td><td>71</td></tr>",
                            "<tr><td>75</td><td>Roidmi S3 Bluetooth Music Car Charger</td><td>8</td><td>NULL</td><td>209</td></tr>",
                            "<tr><td>76</td><td>Belkin 10W Wireless Charging Air Vent Car Mount </td><td>2</td><td>Downtown warehouse</td><td>34</td></tr>",
                            "<tr><td>76</td><td>Belkin 10W Wireless Charging Air Vent Car Mount </td><td>3</td><td>Brunswick warehouse</td><td>47</td></tr>",
                            "<tr><td>76</td><td>Belkin 10W Wireless Charging Air Vent Car Mount </td><td>4</td><td>NULL</td><td>221</td></tr>",
                            "<tr><td>76</td><td>Belkin 10W Wireless Charging Air Vent Car Mount </td><td>5</td><td>NULL</td><td>115</td></tr>",
                            "<tr><td>76</td><td>Belkin 10W Wireless Charging Air Vent Car Mount </td><td>6</td><td>NULL</td><td>194</td></tr>",
                            "<tr><td>76</td><td>Belkin 10W Wireless Charging Air Vent Car Mount </td><td>8</td><td>NULL</td><td>174</td></tr>",
                            "<tr><td>76</td><td>Belkin 10W Wireless Charging Air Vent Car Mount </td><td>9</td><td>NULL</td><td>264</td></tr>",
                            "<tr><td>77</td><td>Microsoft Surface Arc Mouse - Bluetooth - Ice Blue</td><td>2</td><td>Downtown warehouse</td><td>118</td></tr>",
                            "<tr><td>77</td><td>Microsoft Surface Arc Mouse - Bluetooth - Ice Blue</td><td>3</td><td>Brunswick warehouse</td><td>47</td></tr>",
                            "<tr><td>77</td><td>Microsoft Surface Arc Mouse - Bluetooth - Ice Blue</td><td>4</td><td>NULL</td><td>87</td></tr>",
                            "<tr><td>77</td><td>Microsoft Surface Arc Mouse - Bluetooth - Ice Blue</td><td>6</td><td>NULL</td><td>64</td></tr>",
                            "<tr><td>77</td><td>Microsoft Surface Arc Mouse - Bluetooth - Ice Blue</td><td>7</td><td>NULL</td><td>226</td></tr>",
                            "<tr><td>77</td><td>Microsoft Surface Arc Mouse - Bluetooth - Ice Blue</td><td>8</td><td>NULL</td><td>179</td></tr>",
                            "<tr><td>77</td><td>Microsoft Surface Arc Mouse - Bluetooth - Ice Blue</td><td>9</td><td>NULL</td><td>266</td></tr>",
                            "</table>"
                        ]
                    }
                }
            ],
            "execution_count": 7
        },
        {
            "cell_type": "markdown",
            "source": [
                "### **Third Challenge** \n",
                "\n",
                "Challenge: Write a query to return the following attributes for all employees from Australia: \n",
                "\n",
                "\\- employee\\_id \n",
                "\n",
                "\\- first\\_name \n",
                "\n",
                "\\- last\\_name \n",
                "\n",
                "\\- department\\_name \n",
                "\n",
                "\\- job\\_title \n",
                "\n",
                "\\- state\\_province"
            ],
            "metadata": {
                "azdata_cell_guid": "e44e6e0d-a02c-4960-bc3c-204b1216f110"
            },
            "attachments": {}
        },
        {
            "cell_type": "code",
            "source": [
                "SELECT e.employee_id, e.first_name, e.last_name, d.department_name, j.job_title, e.state_province \n",
                "FROM hcm.employees e LEFT JOIN hcm.departments d\n",
                "ON e.department_id = d.department_id \n",
                "INNER JOIN hcm.jobs j \n",
                "ON e.job_id = j.job_id \n",
                "INNER JOIN hcm.countries c \n",
                "ON e.country_id = c.country_id \n",
                "WHERE c.country_name = 'Australia';"
            ],
            "metadata": {
                "azdata_cell_guid": "6f42187e-ed53-4b47-8e45-d0fb38b81ed7",
                "language": "sql"
            },
            "outputs": [
                {
                    "output_type": "display_data",
                    "data": {
                        "text/html": "(24 rows affected)"
                    },
                    "metadata": {}
                },
                {
                    "output_type": "display_data",
                    "data": {
                        "text/html": "Total execution time: 00:00:00.040"
                    },
                    "metadata": {}
                },
                {
                    "output_type": "execute_result",
                    "metadata": {},
                    "execution_count": 8,
                    "data": {
                        "application/vnd.dataresource+json": {
                            "schema": {
                                "fields": [
                                    {
                                        "name": "employee_id"
                                    },
                                    {
                                        "name": "first_name"
                                    },
                                    {
                                        "name": "last_name"
                                    },
                                    {
                                        "name": "department_name"
                                    },
                                    {
                                        "name": "job_title"
                                    },
                                    {
                                        "name": "state_province"
                                    }
                                ]
                            },
                            "data": [
                                {
                                    "0": "108",
                                    "1": "Patricia",
                                    "2": "Doyle",
                                    "3": "Finance",
                                    "4": "Finance Manager",
                                    "5": "New South Wales"
                                },
                                {
                                    "0": "109",
                                    "1": "Daniel",
                                    "2": "Hopkins",
                                    "3": "Finance",
                                    "4": "Accountant",
                                    "5": "New South Wales"
                                },
                                {
                                    "0": "110",
                                    "1": "John",
                                    "2": "Chen",
                                    "3": "Finance",
                                    "4": "Accountant",
                                    "5": "New South Wales"
                                },
                                {
                                    "0": "111",
                                    "1": "Llyod",
                                    "2": "Henderson",
                                    "3": "Finance",
                                    "4": "Accountant",
                                    "5": "New South Wales"
                                },
                                {
                                    "0": "112",
                                    "1": "Lena",
                                    "2": "Chadwick",
                                    "3": "Finance",
                                    "4": "Accountant",
                                    "5": "New South Wales"
                                },
                                {
                                    "0": "113",
                                    "1": "Richard",
                                    "2": "Stewart",
                                    "3": "Finance",
                                    "4": "Accountant",
                                    "5": "New South Wales"
                                },
                                {
                                    "0": "188",
                                    "1": "Kelly",
                                    "2": "Chung",
                                    "3": "NULL",
                                    "4": "Shipping Clerk",
                                    "5": "New South Wales"
                                },
                                {
                                    "0": "189",
                                    "1": "Jennifer",
                                    "2": "Dilly",
                                    "3": "NULL",
                                    "4": "Shipping Clerk",
                                    "5": "New South Wales"
                                },
                                {
                                    "0": "190",
                                    "1": "Timothy",
                                    "2": "Gates",
                                    "3": "NULL",
                                    "4": "Shipping Clerk",
                                    "5": "New South Wales"
                                },
                                {
                                    "0": "191",
                                    "1": "Chuck",
                                    "2": "Perkins",
                                    "3": "NULL",
                                    "4": "Shipping Clerk",
                                    "5": "New South Wales"
                                },
                                {
                                    "0": "192",
                                    "1": "Sarah",
                                    "2": "Bell",
                                    "3": "NULL",
                                    "4": "Shipping Clerk",
                                    "5": "New South Wales"
                                },
                                {
                                    "0": "193",
                                    "1": "Britney",
                                    "2": "Everett",
                                    "3": "NULL",
                                    "4": "Shipping Clerk",
                                    "5": "New South Wales"
                                },
                                {
                                    "0": "194",
                                    "1": "Samuel",
                                    "2": "McCain",
                                    "3": "NULL",
                                    "4": "Shipping Clerk",
                                    "5": "New South Wales"
                                },
                                {
                                    "0": "195",
                                    "1": "Catrina",
                                    "2": "Jones",
                                    "3": "NULL",
                                    "4": "Shipping Clerk",
                                    "5": "New South Wales"
                                },
                                {
                                    "0": "196",
                                    "1": "Tabitha",
                                    "2": "Walsh",
                                    "3": "NULL",
                                    "4": "Shipping Clerk",
                                    "5": "New South Wales"
                                },
                                {
                                    "0": "197",
                                    "1": "Milford",
                                    "2": "Feeney",
                                    "3": "NULL",
                                    "4": "Shipping Clerk",
                                    "5": "Queensland"
                                },
                                {
                                    "0": "198",
                                    "1": "Alfred",
                                    "2": "Tate",
                                    "3": "NULL",
                                    "4": "Shipping Clerk",
                                    "5": "Queensland"
                                },
                                {
                                    "0": "199",
                                    "1": "Douglas",
                                    "2": "Grant",
                                    "3": "NULL",
                                    "4": "Shipping Clerk",
                                    "5": "Queensland"
                                },
                                {
                                    "0": "200",
                                    "1": "Jennifer",
                                    "2": "Whalen",
                                    "3": "NULL",
                                    "4": "Administration Assistant",
                                    "5": "Queensland"
                                },
                                {
                                    "0": "201",
                                    "1": "Michael",
                                    "2": "Hartstein",
                                    "3": "NULL",
                                    "4": "Marketing Manager",
                                    "5": "Queensland"
                                },
                                {
                                    "0": "202",
                                    "1": "Patrick",
                                    "2": "Bacon",
                                    "3": "NULL",
                                    "4": "Marketing Representative",
                                    "5": "Queensland"
                                },
                                {
                                    "0": "204",
                                    "1": "Richard",
                                    "2": "Baer",
                                    "3": "NULL",
                                    "4": "Public Relations Representative",
                                    "5": "Queensland"
                                },
                                {
                                    "0": "205",
                                    "1": "Shelley",
                                    "2": "Higgins",
                                    "3": "NULL",
                                    "4": "Accounting Manager",
                                    "5": "Queensland"
                                },
                                {
                                    "0": "206",
                                    "1": "William",
                                    "2": "Gietz",
                                    "3": "NULL",
                                    "4": "Public Accountant",
                                    "5": "Queensland"
                                }
                            ]
                        },
                        "text/html": [
                            "<table>",
                            "<tr><th>employee_id</th><th>first_name</th><th>last_name</th><th>department_name</th><th>job_title</th><th>state_province</th></tr>",
                            "<tr><td>108</td><td>Patricia</td><td>Doyle</td><td>Finance</td><td>Finance Manager</td><td>New South Wales</td></tr>",
                            "<tr><td>109</td><td>Daniel</td><td>Hopkins</td><td>Finance</td><td>Accountant</td><td>New South Wales</td></tr>",
                            "<tr><td>110</td><td>John</td><td>Chen</td><td>Finance</td><td>Accountant</td><td>New South Wales</td></tr>",
                            "<tr><td>111</td><td>Llyod</td><td>Henderson</td><td>Finance</td><td>Accountant</td><td>New South Wales</td></tr>",
                            "<tr><td>112</td><td>Lena</td><td>Chadwick</td><td>Finance</td><td>Accountant</td><td>New South Wales</td></tr>",
                            "<tr><td>113</td><td>Richard</td><td>Stewart</td><td>Finance</td><td>Accountant</td><td>New South Wales</td></tr>",
                            "<tr><td>188</td><td>Kelly</td><td>Chung</td><td>NULL</td><td>Shipping Clerk</td><td>New South Wales</td></tr>",
                            "<tr><td>189</td><td>Jennifer</td><td>Dilly</td><td>NULL</td><td>Shipping Clerk</td><td>New South Wales</td></tr>",
                            "<tr><td>190</td><td>Timothy</td><td>Gates</td><td>NULL</td><td>Shipping Clerk</td><td>New South Wales</td></tr>",
                            "<tr><td>191</td><td>Chuck</td><td>Perkins</td><td>NULL</td><td>Shipping Clerk</td><td>New South Wales</td></tr>",
                            "<tr><td>192</td><td>Sarah</td><td>Bell</td><td>NULL</td><td>Shipping Clerk</td><td>New South Wales</td></tr>",
                            "<tr><td>193</td><td>Britney</td><td>Everett</td><td>NULL</td><td>Shipping Clerk</td><td>New South Wales</td></tr>",
                            "<tr><td>194</td><td>Samuel</td><td>McCain</td><td>NULL</td><td>Shipping Clerk</td><td>New South Wales</td></tr>",
                            "<tr><td>195</td><td>Catrina</td><td>Jones</td><td>NULL</td><td>Shipping Clerk</td><td>New South Wales</td></tr>",
                            "<tr><td>196</td><td>Tabitha</td><td>Walsh</td><td>NULL</td><td>Shipping Clerk</td><td>New South Wales</td></tr>",
                            "<tr><td>197</td><td>Milford</td><td>Feeney</td><td>NULL</td><td>Shipping Clerk</td><td>Queensland</td></tr>",
                            "<tr><td>198</td><td>Alfred</td><td>Tate</td><td>NULL</td><td>Shipping Clerk</td><td>Queensland</td></tr>",
                            "<tr><td>199</td><td>Douglas</td><td>Grant</td><td>NULL</td><td>Shipping Clerk</td><td>Queensland</td></tr>",
                            "<tr><td>200</td><td>Jennifer</td><td>Whalen</td><td>NULL</td><td>Administration Assistant</td><td>Queensland</td></tr>",
                            "<tr><td>201</td><td>Michael</td><td>Hartstein</td><td>NULL</td><td>Marketing Manager</td><td>Queensland</td></tr>",
                            "<tr><td>202</td><td>Patrick</td><td>Bacon</td><td>NULL</td><td>Marketing Representative</td><td>Queensland</td></tr>",
                            "<tr><td>204</td><td>Richard</td><td>Baer</td><td>NULL</td><td>Public Relations Representative</td><td>Queensland</td></tr>",
                            "<tr><td>205</td><td>Shelley</td><td>Higgins</td><td>NULL</td><td>Accounting Manager</td><td>Queensland</td></tr>",
                            "<tr><td>206</td><td>William</td><td>Gietz</td><td>NULL</td><td>Public Accountant</td><td>Queensland</td></tr>",
                            "</table>"
                        ]
                    }
                }
            ],
            "execution_count": 8
        },
        {
            "cell_type": "markdown",
            "source": [
                "### **Fourth Challenge** \n",
                "\n",
                "Challenge: Return the total quantity ordered of each product in each category. Do not include products which have never been ordered. Include the product name and category name in the query. Order the results by category name from A to Z and then within each category name order by product name from A to Z."
            ],
            "metadata": {
                "azdata_cell_guid": "f0486e21-139b-4dc2-ba1e-98297c61b351"
            },
            "attachments": {}
        },
        {
            "cell_type": "code",
            "source": [
                "SELECT pc.category_name, p.product_name, SUM(o.quantity) AS total_quantity_ordered\n",
                "FROM oes.order_items o INNER JOIN oes.products p \n",
                "ON o.product_id = p.product_id \n",
                "INNER JOIN oes.product_categories pc \n",
                "ON p.category_id = pc.category_id \n",
                "GROUP BY pc.category_name, p.product_name\n",
                "ORDER BY pc.category_name, p.product_name;"
            ],
            "metadata": {
                "azdata_cell_guid": "d6e4a016-5e1e-46dd-b457-2efb91560f49",
                "language": "sql"
            },
            "outputs": [
                {
                    "output_type": "display_data",
                    "data": {
                        "text/html": "(77 rows affected)"
                    },
                    "metadata": {}
                },
                {
                    "output_type": "display_data",
                    "data": {
                        "text/html": "Total execution time: 00:00:00.051"
                    },
                    "metadata": {}
                },
                {
                    "output_type": "execute_result",
                    "metadata": {},
                    "execution_count": 9,
                    "data": {
                        "application/vnd.dataresource+json": {
                            "schema": {
                                "fields": [
                                    {
                                        "name": "category_name"
                                    },
                                    {
                                        "name": "product_name"
                                    },
                                    {
                                        "name": "total_quantity_ordered"
                                    }
                                ]
                            },
                            "data": [
                                {
                                    "0": "Cameras and Drones",
                                    "1": "Andromeda Drone with Camera",
                                    "2": "241"
                                },
                                {
                                    "0": "Cameras and Drones",
                                    "1": "Canon EF 50mm f/1.8 STM Lens for Canon Digital SLR Cameras",
                                    "2": "67"
                                },
                                {
                                    "0": "Cameras and Drones",
                                    "1": "Canon EOS 3000D DSLR Entry-Level Camera",
                                    "2": "350"
                                },
                                {
                                    "0": "Cameras and Drones",
                                    "1": "Canon EOS 80D DSLR Camera Single Lens Kit",
                                    "2": "50"
                                },
                                {
                                    "0": "Cameras and Drones",
                                    "1": "Canon EOS M50 Mirrorless Camera",
                                    "2": "178"
                                },
                                {
                                    "0": "Cameras and Drones",
                                    "1": "Comet Drone with Camera",
                                    "2": "74"
                                },
                                {
                                    "0": "Cameras and Drones",
                                    "1": "DJI Mavic 2 Pro Drone with Hasselblad Camera",
                                    "2": "223"
                                },
                                {
                                    "0": "Cameras and Drones",
                                    "1": "DJI Mavic Mini Drone",
                                    "2": "298"
                                },
                                {
                                    "0": "Cameras and Drones",
                                    "1": "GoPro HERO 7 Silver Action Camera 4K Video",
                                    "2": "161"
                                },
                                {
                                    "0": "Cameras and Drones",
                                    "1": "GoPro HERO 8 Black Action Camera 4K Video",
                                    "2": "120"
                                },
                                {
                                    "0": "Cameras and Drones",
                                    "1": "Nikon D3500 DSLR Camera",
                                    "2": "257"
                                },
                                {
                                    "0": "Cameras and Drones",
                                    "1": "Viper-X Drone with VR Headset",
                                    "2": "440"
                                },
                                {
                                    "0": "Computers",
                                    "1": "Acer Nitro 7 Gaming Laptop",
                                    "2": "158"
                                },
                                {
                                    "0": "Computers",
                                    "1": "ASUS W203MA Laptop",
                                    "2": "207"
                                },
                                {
                                    "0": "Computers",
                                    "1": "HPR Workstation Intel 7",
                                    "2": "122"
                                },
                                {
                                    "0": "Computers",
                                    "1": "Microsoft Surface Laptop 3",
                                    "2": "410"
                                },
                                {
                                    "0": "Computers",
                                    "1": "Microsoft Surface Pro 7 Tablet",
                                    "2": "228"
                                },
                                {
                                    "0": "Computers",
                                    "1": "PBX 32106 NUC Mini PC Desktop Kit",
                                    "2": "151"
                                },
                                {
                                    "0": "Computers",
                                    "1": "PBX Everyday Home PC 43300",
                                    "2": "213"
                                },
                                {
                                    "0": "Home Security",
                                    "1": "AB Security cam",
                                    "2": "248"
                                },
                                {
                                    "0": "Home Security",
                                    "1": "APY Intercom System",
                                    "2": "225"
                                },
                                {
                                    "0": "Home Security",
                                    "1": "JKW Video Intercom over IP adaptor",
                                    "2": "52"
                                },
                                {
                                    "0": "Home Security",
                                    "1": "MPS Intercom system",
                                    "2": "263"
                                },
                                {
                                    "0": "Home Security",
                                    "1": "Panasonic VL-SWD272 Wireless Video Intercom System",
                                    "2": "288"
                                },
                                {
                                    "0": "Home Security",
                                    "1": "RING Smart Video Wi-Fi Doorbell 3",
                                    "2": "303"
                                },
                                {
                                    "0": "PC Parts",
                                    "1": "Aten UC3020 CamLive HDMI to USB-C Video Capture",
                                    "2": "102"
                                },
                                {
                                    "0": "PC Parts",
                                    "1": "Cooler Master Hyper 212",
                                    "2": "214"
                                },
                                {
                                    "0": "PC Parts",
                                    "1": "Cooler Master MasterFan",
                                    "2": "158"
                                },
                                {
                                    "0": "PC Parts",
                                    "1": "Corsair LL Series LL120 Fan",
                                    "2": "101"
                                },
                                {
                                    "0": "PC Parts",
                                    "1": "Crucial MX500 500GB SSD",
                                    "2": "378"
                                },
                                {
                                    "0": "PC Parts",
                                    "1": "HyperX AMP 7.1 USB Sound Card",
                                    "2": "360"
                                },
                                {
                                    "0": "PC Parts",
                                    "1": "Intel Coffee Lake Core i9 Processor",
                                    "2": "227"
                                },
                                {
                                    "0": "PC Parts",
                                    "1": "Leadtek Quadro P1000 Full Performance Professional Graphics Card",
                                    "2": "248"
                                },
                                {
                                    "0": "PC Parts",
                                    "1": "Leadtek Quadro P400 Professional Workstation Graphics Card",
                                    "2": "57"
                                },
                                {
                                    "0": "PC Parts",
                                    "1": "Leadtek Quadro P620 Professional Workstation Graphics Card",
                                    "2": "292"
                                },
                                {
                                    "0": "PC Parts",
                                    "1": "Samsung 1TB Solid State Drive SSD",
                                    "2": "293"
                                },
                                {
                                    "0": "PC Parts",
                                    "1": "Ugreen CM129 Audio Sound Card Adapter",
                                    "2": "200"
                                },
                                {
                                    "0": "PC Peripherals",
                                    "1": "Adesso iMouse E1",
                                    "2": "54"
                                },
                                {
                                    "0": "PC Peripherals",
                                    "1": "Apple Magic Keyboard",
                                    "2": "186"
                                },
                                {
                                    "0": "PC Peripherals",
                                    "1": "ASUS PG279Q Monitor",
                                    "2": "104"
                                },
                                {
                                    "0": "PC Peripherals",
                                    "1": "ASUS VG279Q 27 inch Full HD IPS Gaming Monitor",
                                    "2": "190"
                                },
                                {
                                    "0": "PC Peripherals",
                                    "1": "Evoluent VM4R Wired Vertical Mouse 4 right-handed",
                                    "2": "249"
                                },
                                {
                                    "0": "PC Peripherals",
                                    "1": "LG UltraGear 24GL600F-B 24 inch Full HD Monitor",
                                    "2": "185"
                                },
                                {
                                    "0": "PC Peripherals",
                                    "1": "Logitech G Pro X Mechanical TKL RGB Gaming Keyboard",
                                    "2": "50"
                                },
                                {
                                    "0": "PC Peripherals",
                                    "1": "Logitech G213 Prodigy RGB Gaming Keyboard",
                                    "2": "94"
                                },
                                {
                                    "0": "PC Peripherals",
                                    "1": "Microsoft Sculpt Ergonomic Wireless Keyboard and Mouse Combo",
                                    "2": "101"
                                },
                                {
                                    "0": "PC Peripherals",
                                    "1": "Microsoft Surface Arc Mouse - Bluetooth - Ice Blue",
                                    "2": "320"
                                },
                                {
                                    "0": "PC Peripherals",
                                    "1": "Samsung C49HG90 49 inch QLED Monitor",
                                    "2": "137"
                                },
                                {
                                    "0": "PC Peripherals",
                                    "1": "Titan Army N34QW 34 inch Curved UltraWide Monitor",
                                    "2": "101"
                                },
                                {
                                    "0": "Phones and Accessories",
                                    "1": "Apple iPhone 11 128GB - White",
                                    "2": "312"
                                },
                                {
                                    "0": "Phones and Accessories",
                                    "1": "Apple iPhone 11 64GB - Black",
                                    "2": "252"
                                },
                                {
                                    "0": "Phones and Accessories",
                                    "1": "Apple iPhone 6S - Silver",
                                    "2": "420"
                                },
                                {
                                    "0": "Phones and Accessories",
                                    "1": "Apple iPhone SE 128GB - Black",
                                    "2": "139"
                                },
                                {
                                    "0": "Phones and Accessories",
                                    "1": "Apple Watch Series 3 - Grey",
                                    "2": "219"
                                },
                                {
                                    "0": "Phones and Accessories",
                                    "1": "Belkin 10W Wireless Charging Air Vent Car Mount ",
                                    "2": "282"
                                },
                                {
                                    "0": "Phones and Accessories",
                                    "1": "PBX 2000mAh Power Bank 3 - Black",
                                    "2": "313"
                                },
                                {
                                    "0": "Phones and Accessories",
                                    "1": "PBX Smart Watch 4",
                                    "2": "267"
                                },
                                {
                                    "0": "Phones and Accessories",
                                    "1": "Roidmi S3 Bluetooth Music Car Charger",
                                    "2": "383"
                                },
                                {
                                    "0": "Phones and Accessories",
                                    "1": "Samsung Galaxy Note10 - Aura Black",
                                    "2": "136"
                                },
                                {
                                    "0": "Phones and Accessories",
                                    "1": "Samsung Galaxy S20 Smart Cover",
                                    "2": "244"
                                },
                                {
                                    "0": "Phones and Accessories",
                                    "1": "Spigen Galaxy Note 10 tough armor case",
                                    "2": "64"
                                },
                                {
                                    "0": "Phones and Accessories",
                                    "1": "Spigen iPhone 11 Clear Case",
                                    "2": "237"
                                },
                                {
                                    "0": "Printing and Office",
                                    "1": "Canon Black CLI-8 Ink Cartridge",
                                    "2": "287"
                                },
                                {
                                    "0": "Printing and Office",
                                    "1": "Canon Ink Cartridge PG645",
                                    "2": "116"
                                },
                                {
                                    "0": "Printing and Office",
                                    "1": "Canon PIXMA MG2460 Inkjet MFP printer",
                                    "2": "226"
                                },
                                {
                                    "0": "Printing and Office",
                                    "1": "HP Ink Cartridge 65XL Black",
                                    "2": "342"
                                },
                                {
                                    "0": "Printing and Office",
                                    "1": "HP LaserJet Pro M15W printer",
                                    "2": "147"
                                },
                                {
                                    "0": "TV and Audio",
                                    "1": "Apple AirPods Pro Noise Cancelling True Wireless Headphones",
                                    "2": "317"
                                },
                                {
                                    "0": "TV and Audio",
                                    "1": "Blue Yeti Microphone",
                                    "2": "113"
                                },
                                {
                                    "0": "TV and Audio",
                                    "1": "Edifier Multimedia 2.0 system PC Speaker",
                                    "2": "225"
                                },
                                {
                                    "0": "TV and Audio",
                                    "1": "Horion 55 inch 4K Ultra HD LED TV",
                                    "2": "292"
                                },
                                {
                                    "0": "TV and Audio",
                                    "1": "Konic 55 inch 4K Ultra HD LED TV",
                                    "2": "418"
                                },
                                {
                                    "0": "TV and Audio",
                                    "1": "Logitech Z333 2.1 Multimedia Speaker System",
                                    "2": "412"
                                },
                                {
                                    "0": "TV and Audio",
                                    "1": "PowerBeats Pro True Wireless Sports Earphones",
                                    "2": "229"
                                },
                                {
                                    "0": "TV and Audio",
                                    "1": "Samsung 50TU8000 50 inch 4K Smart TV",
                                    "2": "448"
                                },
                                {
                                    "0": "TV and Audio",
                                    "1": "Sennheiser HD 4.30i Over-Ear Headphones",
                                    "2": "323"
                                },
                                {
                                    "0": "TV and Audio",
                                    "1": "Sony WH-1000XM3 Noise-Cancelling headphones - Black",
                                    "2": "103"
                                }
                            ]
                        },
                        "text/html": [
                            "<table>",
                            "<tr><th>category_name</th><th>product_name</th><th>total_quantity_ordered</th></tr>",
                            "<tr><td>Cameras and Drones</td><td>Andromeda Drone with Camera</td><td>241</td></tr>",
                            "<tr><td>Cameras and Drones</td><td>Canon EF 50mm f/1.8 STM Lens for Canon Digital SLR Cameras</td><td>67</td></tr>",
                            "<tr><td>Cameras and Drones</td><td>Canon EOS 3000D DSLR Entry-Level Camera</td><td>350</td></tr>",
                            "<tr><td>Cameras and Drones</td><td>Canon EOS 80D DSLR Camera Single Lens Kit</td><td>50</td></tr>",
                            "<tr><td>Cameras and Drones</td><td>Canon EOS M50 Mirrorless Camera</td><td>178</td></tr>",
                            "<tr><td>Cameras and Drones</td><td>Comet Drone with Camera</td><td>74</td></tr>",
                            "<tr><td>Cameras and Drones</td><td>DJI Mavic 2 Pro Drone with Hasselblad Camera</td><td>223</td></tr>",
                            "<tr><td>Cameras and Drones</td><td>DJI Mavic Mini Drone</td><td>298</td></tr>",
                            "<tr><td>Cameras and Drones</td><td>GoPro HERO 7 Silver Action Camera 4K Video</td><td>161</td></tr>",
                            "<tr><td>Cameras and Drones</td><td>GoPro HERO 8 Black Action Camera 4K Video</td><td>120</td></tr>",
                            "<tr><td>Cameras and Drones</td><td>Nikon D3500 DSLR Camera</td><td>257</td></tr>",
                            "<tr><td>Cameras and Drones</td><td>Viper-X Drone with VR Headset</td><td>440</td></tr>",
                            "<tr><td>Computers</td><td>Acer Nitro 7 Gaming Laptop</td><td>158</td></tr>",
                            "<tr><td>Computers</td><td>ASUS W203MA Laptop</td><td>207</td></tr>",
                            "<tr><td>Computers</td><td>HPR Workstation Intel 7</td><td>122</td></tr>",
                            "<tr><td>Computers</td><td>Microsoft Surface Laptop 3</td><td>410</td></tr>",
                            "<tr><td>Computers</td><td>Microsoft Surface Pro 7 Tablet</td><td>228</td></tr>",
                            "<tr><td>Computers</td><td>PBX 32106 NUC Mini PC Desktop Kit</td><td>151</td></tr>",
                            "<tr><td>Computers</td><td>PBX Everyday Home PC 43300</td><td>213</td></tr>",
                            "<tr><td>Home Security</td><td>AB Security cam</td><td>248</td></tr>",
                            "<tr><td>Home Security</td><td>APY Intercom System</td><td>225</td></tr>",
                            "<tr><td>Home Security</td><td>JKW Video Intercom over IP adaptor</td><td>52</td></tr>",
                            "<tr><td>Home Security</td><td>MPS Intercom system</td><td>263</td></tr>",
                            "<tr><td>Home Security</td><td>Panasonic VL-SWD272 Wireless Video Intercom System</td><td>288</td></tr>",
                            "<tr><td>Home Security</td><td>RING Smart Video Wi-Fi Doorbell 3</td><td>303</td></tr>",
                            "<tr><td>PC Parts</td><td>Aten UC3020 CamLive HDMI to USB-C Video Capture</td><td>102</td></tr>",
                            "<tr><td>PC Parts</td><td>Cooler Master Hyper 212</td><td>214</td></tr>",
                            "<tr><td>PC Parts</td><td>Cooler Master MasterFan</td><td>158</td></tr>",
                            "<tr><td>PC Parts</td><td>Corsair LL Series LL120 Fan</td><td>101</td></tr>",
                            "<tr><td>PC Parts</td><td>Crucial MX500 500GB SSD</td><td>378</td></tr>",
                            "<tr><td>PC Parts</td><td>HyperX AMP 7.1 USB Sound Card</td><td>360</td></tr>",
                            "<tr><td>PC Parts</td><td>Intel Coffee Lake Core i9 Processor</td><td>227</td></tr>",
                            "<tr><td>PC Parts</td><td>Leadtek Quadro P1000 Full Performance Professional Graphics Card</td><td>248</td></tr>",
                            "<tr><td>PC Parts</td><td>Leadtek Quadro P400 Professional Workstation Graphics Card</td><td>57</td></tr>",
                            "<tr><td>PC Parts</td><td>Leadtek Quadro P620 Professional Workstation Graphics Card</td><td>292</td></tr>",
                            "<tr><td>PC Parts</td><td>Samsung 1TB Solid State Drive SSD</td><td>293</td></tr>",
                            "<tr><td>PC Parts</td><td>Ugreen CM129 Audio Sound Card Adapter</td><td>200</td></tr>",
                            "<tr><td>PC Peripherals</td><td>Adesso iMouse E1</td><td>54</td></tr>",
                            "<tr><td>PC Peripherals</td><td>Apple Magic Keyboard</td><td>186</td></tr>",
                            "<tr><td>PC Peripherals</td><td>ASUS PG279Q Monitor</td><td>104</td></tr>",
                            "<tr><td>PC Peripherals</td><td>ASUS VG279Q 27 inch Full HD IPS Gaming Monitor</td><td>190</td></tr>",
                            "<tr><td>PC Peripherals</td><td>Evoluent VM4R Wired Vertical Mouse 4 right-handed</td><td>249</td></tr>",
                            "<tr><td>PC Peripherals</td><td>LG UltraGear 24GL600F-B 24 inch Full HD Monitor</td><td>185</td></tr>",
                            "<tr><td>PC Peripherals</td><td>Logitech G Pro X Mechanical TKL RGB Gaming Keyboard</td><td>50</td></tr>",
                            "<tr><td>PC Peripherals</td><td>Logitech G213 Prodigy RGB Gaming Keyboard</td><td>94</td></tr>",
                            "<tr><td>PC Peripherals</td><td>Microsoft Sculpt Ergonomic Wireless Keyboard and Mouse Combo</td><td>101</td></tr>",
                            "<tr><td>PC Peripherals</td><td>Microsoft Surface Arc Mouse - Bluetooth - Ice Blue</td><td>320</td></tr>",
                            "<tr><td>PC Peripherals</td><td>Samsung C49HG90 49 inch QLED Monitor</td><td>137</td></tr>",
                            "<tr><td>PC Peripherals</td><td>Titan Army N34QW 34 inch Curved UltraWide Monitor</td><td>101</td></tr>",
                            "<tr><td>Phones and Accessories</td><td>Apple iPhone 11 128GB - White</td><td>312</td></tr>",
                            "<tr><td>Phones and Accessories</td><td>Apple iPhone 11 64GB - Black</td><td>252</td></tr>",
                            "<tr><td>Phones and Accessories</td><td>Apple iPhone 6S - Silver</td><td>420</td></tr>",
                            "<tr><td>Phones and Accessories</td><td>Apple iPhone SE 128GB - Black</td><td>139</td></tr>",
                            "<tr><td>Phones and Accessories</td><td>Apple Watch Series 3 - Grey</td><td>219</td></tr>",
                            "<tr><td>Phones and Accessories</td><td>Belkin 10W Wireless Charging Air Vent Car Mount </td><td>282</td></tr>",
                            "<tr><td>Phones and Accessories</td><td>PBX 2000mAh Power Bank 3 - Black</td><td>313</td></tr>",
                            "<tr><td>Phones and Accessories</td><td>PBX Smart Watch 4</td><td>267</td></tr>",
                            "<tr><td>Phones and Accessories</td><td>Roidmi S3 Bluetooth Music Car Charger</td><td>383</td></tr>",
                            "<tr><td>Phones and Accessories</td><td>Samsung Galaxy Note10 - Aura Black</td><td>136</td></tr>",
                            "<tr><td>Phones and Accessories</td><td>Samsung Galaxy S20 Smart Cover</td><td>244</td></tr>",
                            "<tr><td>Phones and Accessories</td><td>Spigen Galaxy Note 10 tough armor case</td><td>64</td></tr>",
                            "<tr><td>Phones and Accessories</td><td>Spigen iPhone 11 Clear Case</td><td>237</td></tr>",
                            "<tr><td>Printing and Office</td><td>Canon Black CLI-8 Ink Cartridge</td><td>287</td></tr>",
                            "<tr><td>Printing and Office</td><td>Canon Ink Cartridge PG645</td><td>116</td></tr>",
                            "<tr><td>Printing and Office</td><td>Canon PIXMA MG2460 Inkjet MFP printer</td><td>226</td></tr>",
                            "<tr><td>Printing and Office</td><td>HP Ink Cartridge 65XL Black</td><td>342</td></tr>",
                            "<tr><td>Printing and Office</td><td>HP LaserJet Pro M15W printer</td><td>147</td></tr>",
                            "<tr><td>TV and Audio</td><td>Apple AirPods Pro Noise Cancelling True Wireless Headphones</td><td>317</td></tr>",
                            "<tr><td>TV and Audio</td><td>Blue Yeti Microphone</td><td>113</td></tr>",
                            "<tr><td>TV and Audio</td><td>Edifier Multimedia 2.0 system PC Speaker</td><td>225</td></tr>",
                            "<tr><td>TV and Audio</td><td>Horion 55 inch 4K Ultra HD LED TV</td><td>292</td></tr>",
                            "<tr><td>TV and Audio</td><td>Konic 55 inch 4K Ultra HD LED TV</td><td>418</td></tr>",
                            "<tr><td>TV and Audio</td><td>Logitech Z333 2.1 Multimedia Speaker System</td><td>412</td></tr>",
                            "<tr><td>TV and Audio</td><td>PowerBeats Pro True Wireless Sports Earphones</td><td>229</td></tr>",
                            "<tr><td>TV and Audio</td><td>Samsung 50TU8000 50 inch 4K Smart TV</td><td>448</td></tr>",
                            "<tr><td>TV and Audio</td><td>Sennheiser HD 4.30i Over-Ear Headphones</td><td>323</td></tr>",
                            "<tr><td>TV and Audio</td><td>Sony WH-1000XM3 Noise-Cancelling headphones - Black</td><td>103</td></tr>",
                            "</table>"
                        ]
                    }
                }
            ],
            "execution_count": 9
        },
        {
            "cell_type": "markdown",
            "source": [
                "### **Fifth Challenge** \n",
                "\n",
                "Challenge: Return the total quantity ordered of each product in each category. Include products which have never been ordered and give these a total quantity ordered of 0. Include the product name and category name in the query. Order the results by category name from A to Z and then within each category name order by product name from A to Z."
            ],
            "metadata": {
                "azdata_cell_guid": "d79456c4-0796-497e-937e-bc77b327e162"
            },
            "attachments": {}
        },
        {
            "cell_type": "code",
            "source": [
                "SELECT pc.category_name, p.product_name, ISNULL(SUM(o.quantity), 0) AS total_quantity_ordered\n",
                "FROM oes.order_items o RIGHT JOIN oes.products p \n",
                "ON o.product_id = p.product_id \n",
                "INNER JOIN oes.product_categories pc \n",
                "ON p.category_id = pc.category_id \n",
                "GROUP BY pc.category_name, p.product_name\n",
                "ORDER BY pc.category_name, p.product_name;"
            ],
            "metadata": {
                "azdata_cell_guid": "f6315abd-5f68-4d9c-86b0-35622c404509",
                "language": "sql"
            },
            "outputs": [
                {
                    "output_type": "display_data",
                    "data": {
                        "text/html": "Warning: Null value is eliminated by an aggregate or other SET operation."
                    },
                    "metadata": {}
                },
                {
                    "output_type": "display_data",
                    "data": {
                        "text/html": "(79 rows affected)"
                    },
                    "metadata": {}
                },
                {
                    "output_type": "display_data",
                    "data": {
                        "text/html": "Total execution time: 00:00:00.020"
                    },
                    "metadata": {}
                },
                {
                    "output_type": "execute_result",
                    "metadata": {},
                    "execution_count": 15,
                    "data": {
                        "application/vnd.dataresource+json": {
                            "schema": {
                                "fields": [
                                    {
                                        "name": "category_name"
                                    },
                                    {
                                        "name": "product_name"
                                    },
                                    {
                                        "name": "total_quantity_ordered"
                                    }
                                ]
                            },
                            "data": [
                                {
                                    "0": "Cameras and Drones",
                                    "1": "Andromeda Drone with Camera",
                                    "2": "241"
                                },
                                {
                                    "0": "Cameras and Drones",
                                    "1": "Canon EF 50mm f/1.8 STM Lens for Canon Digital SLR Cameras",
                                    "2": "67"
                                },
                                {
                                    "0": "Cameras and Drones",
                                    "1": "Canon EOS 3000D DSLR Entry-Level Camera",
                                    "2": "350"
                                },
                                {
                                    "0": "Cameras and Drones",
                                    "1": "Canon EOS 80D DSLR Camera Single Lens Kit",
                                    "2": "50"
                                },
                                {
                                    "0": "Cameras and Drones",
                                    "1": "Canon EOS M50 Mirrorless Camera",
                                    "2": "178"
                                },
                                {
                                    "0": "Cameras and Drones",
                                    "1": "Comet Drone with Camera",
                                    "2": "74"
                                },
                                {
                                    "0": "Cameras and Drones",
                                    "1": "DJI Mavic 2 Pro Drone with Hasselblad Camera",
                                    "2": "223"
                                },
                                {
                                    "0": "Cameras and Drones",
                                    "1": "DJI Mavic Mini Drone",
                                    "2": "298"
                                },
                                {
                                    "0": "Cameras and Drones",
                                    "1": "GoPro HERO 7 Silver Action Camera 4K Video",
                                    "2": "161"
                                },
                                {
                                    "0": "Cameras and Drones",
                                    "1": "GoPro HERO 8 Black Action Camera 4K Video",
                                    "2": "120"
                                },
                                {
                                    "0": "Cameras and Drones",
                                    "1": "Nikon D3500 DSLR Camera",
                                    "2": "257"
                                },
                                {
                                    "0": "Cameras and Drones",
                                    "1": "Viper-X Drone with VR Headset",
                                    "2": "440"
                                },
                                {
                                    "0": "Computers",
                                    "1": "Acer Nitro 7 Gaming Laptop",
                                    "2": "158"
                                },
                                {
                                    "0": "Computers",
                                    "1": "ASUS W203MA Laptop",
                                    "2": "207"
                                },
                                {
                                    "0": "Computers",
                                    "1": "HPR Workstation Intel 7",
                                    "2": "122"
                                },
                                {
                                    "0": "Computers",
                                    "1": "Microsoft Surface Laptop 3",
                                    "2": "410"
                                },
                                {
                                    "0": "Computers",
                                    "1": "Microsoft Surface Pro 7 Tablet",
                                    "2": "228"
                                },
                                {
                                    "0": "Computers",
                                    "1": "PBX 32106 NUC Mini PC Desktop Kit",
                                    "2": "151"
                                },
                                {
                                    "0": "Computers",
                                    "1": "PBX Everyday Home PC 43300",
                                    "2": "213"
                                },
                                {
                                    "0": "Home Security",
                                    "1": "AB Security cam",
                                    "2": "248"
                                },
                                {
                                    "0": "Home Security",
                                    "1": "APY Intercom System",
                                    "2": "225"
                                },
                                {
                                    "0": "Home Security",
                                    "1": "JKW Video Intercom over IP adaptor",
                                    "2": "52"
                                },
                                {
                                    "0": "Home Security",
                                    "1": "MPS Intercom system",
                                    "2": "263"
                                },
                                {
                                    "0": "Home Security",
                                    "1": "Panasonic VL-SWD272 Wireless Video Intercom System",
                                    "2": "288"
                                },
                                {
                                    "0": "Home Security",
                                    "1": "RING Smart Video Wi-Fi Doorbell 3",
                                    "2": "303"
                                },
                                {
                                    "0": "PC Parts",
                                    "1": "Aten UC3020 CamLive HDMI to USB-C Video Capture",
                                    "2": "102"
                                },
                                {
                                    "0": "PC Parts",
                                    "1": "Cooler Master Hyper 212",
                                    "2": "214"
                                },
                                {
                                    "0": "PC Parts",
                                    "1": "Cooler Master MasterFan",
                                    "2": "158"
                                },
                                {
                                    "0": "PC Parts",
                                    "1": "Corsair LL Series LL120 Fan",
                                    "2": "101"
                                },
                                {
                                    "0": "PC Parts",
                                    "1": "Crucial MX500 500GB SSD",
                                    "2": "378"
                                },
                                {
                                    "0": "PC Parts",
                                    "1": "HyperX AMP 7.1 USB Sound Card",
                                    "2": "360"
                                },
                                {
                                    "0": "PC Parts",
                                    "1": "Intel Coffee Lake Core i9 Processor",
                                    "2": "227"
                                },
                                {
                                    "0": "PC Parts",
                                    "1": "Leadtek Quadro P1000 Full Performance Professional Graphics Card",
                                    "2": "248"
                                },
                                {
                                    "0": "PC Parts",
                                    "1": "Leadtek Quadro P400 Professional Workstation Graphics Card",
                                    "2": "57"
                                },
                                {
                                    "0": "PC Parts",
                                    "1": "Leadtek Quadro P620 Professional Workstation Graphics Card",
                                    "2": "292"
                                },
                                {
                                    "0": "PC Parts",
                                    "1": "Samsung 1TB Solid State Drive SSD",
                                    "2": "293"
                                },
                                {
                                    "0": "PC Parts",
                                    "1": "Ugreen CM129 Audio Sound Card Adapter",
                                    "2": "200"
                                },
                                {
                                    "0": "PC Peripherals",
                                    "1": "Adesso iMouse E1",
                                    "2": "54"
                                },
                                {
                                    "0": "PC Peripherals",
                                    "1": "Apple Magic Keyboard",
                                    "2": "186"
                                },
                                {
                                    "0": "PC Peripherals",
                                    "1": "ASUS PG279Q Monitor",
                                    "2": "104"
                                },
                                {
                                    "0": "PC Peripherals",
                                    "1": "ASUS VG279Q 27 inch Full HD IPS Gaming Monitor",
                                    "2": "190"
                                },
                                {
                                    "0": "PC Peripherals",
                                    "1": "Evoluent VM4R Wired Vertical Mouse 4 right-handed",
                                    "2": "249"
                                },
                                {
                                    "0": "PC Peripherals",
                                    "1": "LG UltraGear 24GL600F-B 24 inch Full HD Monitor",
                                    "2": "185"
                                },
                                {
                                    "0": "PC Peripherals",
                                    "1": "Logitech G Pro X Mechanical TKL RGB Gaming Keyboard",
                                    "2": "50"
                                },
                                {
                                    "0": "PC Peripherals",
                                    "1": "Logitech G213 Prodigy RGB Gaming Keyboard",
                                    "2": "94"
                                },
                                {
                                    "0": "PC Peripherals",
                                    "1": "Microsoft Sculpt Ergonomic Wireless Keyboard and Mouse Combo",
                                    "2": "101"
                                },
                                {
                                    "0": "PC Peripherals",
                                    "1": "Microsoft Surface Arc Mouse - Bluetooth - Ice Blue",
                                    "2": "320"
                                },
                                {
                                    "0": "PC Peripherals",
                                    "1": "PBX 21 inch Series 9 Monitor",
                                    "2": "0"
                                },
                                {
                                    "0": "PC Peripherals",
                                    "1": "Samsung C49HG90 49 inch QLED Monitor",
                                    "2": "137"
                                },
                                {
                                    "0": "PC Peripherals",
                                    "1": "Titan Army N34QW 34 inch Curved UltraWide Monitor",
                                    "2": "101"
                                },
                                {
                                    "0": "Phones and Accessories",
                                    "1": "Apple iPhone 11 128GB - White",
                                    "2": "312"
                                },
                                {
                                    "0": "Phones and Accessories",
                                    "1": "Apple iPhone 11 64GB - Black",
                                    "2": "252"
                                },
                                {
                                    "0": "Phones and Accessories",
                                    "1": "Apple iPhone 6S - Silver",
                                    "2": "420"
                                },
                                {
                                    "0": "Phones and Accessories",
                                    "1": "Apple iPhone SE 128GB - Black",
                                    "2": "139"
                                },
                                {
                                    "0": "Phones and Accessories",
                                    "1": "Apple Watch Series 3 - Grey",
                                    "2": "219"
                                },
                                {
                                    "0": "Phones and Accessories",
                                    "1": "Belkin 10W Wireless Charging Air Vent Car Mount ",
                                    "2": "282"
                                },
                                {
                                    "0": "Phones and Accessories",
                                    "1": "PBX 2000mAh Power Bank 3 - Black",
                                    "2": "313"
                                },
                                {
                                    "0": "Phones and Accessories",
                                    "1": "PBX Smart Watch 4",
                                    "2": "267"
                                },
                                {
                                    "0": "Phones and Accessories",
                                    "1": "Roidmi S3 Bluetooth Music Car Charger",
                                    "2": "383"
                                },
                                {
                                    "0": "Phones and Accessories",
                                    "1": "Samsung Galaxy Note10 - Aura Black",
                                    "2": "136"
                                },
                                {
                                    "0": "Phones and Accessories",
                                    "1": "Samsung Galaxy S20 Smart Cover",
                                    "2": "244"
                                },
                                {
                                    "0": "Phones and Accessories",
                                    "1": "Spigen Galaxy Note 10 tough armor case",
                                    "2": "64"
                                },
                                {
                                    "0": "Phones and Accessories",
                                    "1": "Spigen iPhone 11 Clear Case",
                                    "2": "237"
                                },
                                {
                                    "0": "Printing and Office",
                                    "1": "Canon Black CLI-8 Ink Cartridge",
                                    "2": "287"
                                },
                                {
                                    "0": "Printing and Office",
                                    "1": "Canon Ink Cartridge PG645",
                                    "2": "116"
                                },
                                {
                                    "0": "Printing and Office",
                                    "1": "Canon PIXMA MG2460 Inkjet MFP printer",
                                    "2": "226"
                                },
                                {
                                    "0": "Printing and Office",
                                    "1": "HP Ink Cartridge 65XL Black",
                                    "2": "342"
                                },
                                {
                                    "0": "Printing and Office",
                                    "1": "HP LaserJet Pro M15W printer",
                                    "2": "147"
                                },
                                {
                                    "0": "TV and Audio",
                                    "1": "Apple AirPods Pro Noise Cancelling True Wireless Headphones",
                                    "2": "317"
                                },
                                {
                                    "0": "TV and Audio",
                                    "1": "Blue Yeti Microphone",
                                    "2": "113"
                                },
                                {
                                    "0": "TV and Audio",
                                    "1": "Edifier Multimedia 2.0 system PC Speaker",
                                    "2": "225"
                                },
                                {
                                    "0": "TV and Audio",
                                    "1": "Horion 55 inch 4K Ultra HD LED TV",
                                    "2": "292"
                                },
                                {
                                    "0": "TV and Audio",
                                    "1": "Konic 55 inch 4K Ultra HD LED TV",
                                    "2": "418"
                                },
                                {
                                    "0": "TV and Audio",
                                    "1": "Logitech Z333 2.1 Multimedia Speaker System",
                                    "2": "412"
                                },
                                {
                                    "0": "TV and Audio",
                                    "1": "PBX Noise Cancelling Headphones",
                                    "2": "0"
                                },
                                {
                                    "0": "TV and Audio",
                                    "1": "PowerBeats Pro True Wireless Sports Earphones",
                                    "2": "229"
                                },
                                {
                                    "0": "TV and Audio",
                                    "1": "Samsung 50TU8000 50 inch 4K Smart TV",
                                    "2": "448"
                                },
                                {
                                    "0": "TV and Audio",
                                    "1": "Sennheiser HD 4.30i Over-Ear Headphones",
                                    "2": "323"
                                },
                                {
                                    "0": "TV and Audio",
                                    "1": "Sony WH-1000XM3 Noise-Cancelling headphones - Black",
                                    "2": "103"
                                }
                            ]
                        },
                        "text/html": [
                            "<table>",
                            "<tr><th>category_name</th><th>product_name</th><th>total_quantity_ordered</th></tr>",
                            "<tr><td>Cameras and Drones</td><td>Andromeda Drone with Camera</td><td>241</td></tr>",
                            "<tr><td>Cameras and Drones</td><td>Canon EF 50mm f/1.8 STM Lens for Canon Digital SLR Cameras</td><td>67</td></tr>",
                            "<tr><td>Cameras and Drones</td><td>Canon EOS 3000D DSLR Entry-Level Camera</td><td>350</td></tr>",
                            "<tr><td>Cameras and Drones</td><td>Canon EOS 80D DSLR Camera Single Lens Kit</td><td>50</td></tr>",
                            "<tr><td>Cameras and Drones</td><td>Canon EOS M50 Mirrorless Camera</td><td>178</td></tr>",
                            "<tr><td>Cameras and Drones</td><td>Comet Drone with Camera</td><td>74</td></tr>",
                            "<tr><td>Cameras and Drones</td><td>DJI Mavic 2 Pro Drone with Hasselblad Camera</td><td>223</td></tr>",
                            "<tr><td>Cameras and Drones</td><td>DJI Mavic Mini Drone</td><td>298</td></tr>",
                            "<tr><td>Cameras and Drones</td><td>GoPro HERO 7 Silver Action Camera 4K Video</td><td>161</td></tr>",
                            "<tr><td>Cameras and Drones</td><td>GoPro HERO 8 Black Action Camera 4K Video</td><td>120</td></tr>",
                            "<tr><td>Cameras and Drones</td><td>Nikon D3500 DSLR Camera</td><td>257</td></tr>",
                            "<tr><td>Cameras and Drones</td><td>Viper-X Drone with VR Headset</td><td>440</td></tr>",
                            "<tr><td>Computers</td><td>Acer Nitro 7 Gaming Laptop</td><td>158</td></tr>",
                            "<tr><td>Computers</td><td>ASUS W203MA Laptop</td><td>207</td></tr>",
                            "<tr><td>Computers</td><td>HPR Workstation Intel 7</td><td>122</td></tr>",
                            "<tr><td>Computers</td><td>Microsoft Surface Laptop 3</td><td>410</td></tr>",
                            "<tr><td>Computers</td><td>Microsoft Surface Pro 7 Tablet</td><td>228</td></tr>",
                            "<tr><td>Computers</td><td>PBX 32106 NUC Mini PC Desktop Kit</td><td>151</td></tr>",
                            "<tr><td>Computers</td><td>PBX Everyday Home PC 43300</td><td>213</td></tr>",
                            "<tr><td>Home Security</td><td>AB Security cam</td><td>248</td></tr>",
                            "<tr><td>Home Security</td><td>APY Intercom System</td><td>225</td></tr>",
                            "<tr><td>Home Security</td><td>JKW Video Intercom over IP adaptor</td><td>52</td></tr>",
                            "<tr><td>Home Security</td><td>MPS Intercom system</td><td>263</td></tr>",
                            "<tr><td>Home Security</td><td>Panasonic VL-SWD272 Wireless Video Intercom System</td><td>288</td></tr>",
                            "<tr><td>Home Security</td><td>RING Smart Video Wi-Fi Doorbell 3</td><td>303</td></tr>",
                            "<tr><td>PC Parts</td><td>Aten UC3020 CamLive HDMI to USB-C Video Capture</td><td>102</td></tr>",
                            "<tr><td>PC Parts</td><td>Cooler Master Hyper 212</td><td>214</td></tr>",
                            "<tr><td>PC Parts</td><td>Cooler Master MasterFan</td><td>158</td></tr>",
                            "<tr><td>PC Parts</td><td>Corsair LL Series LL120 Fan</td><td>101</td></tr>",
                            "<tr><td>PC Parts</td><td>Crucial MX500 500GB SSD</td><td>378</td></tr>",
                            "<tr><td>PC Parts</td><td>HyperX AMP 7.1 USB Sound Card</td><td>360</td></tr>",
                            "<tr><td>PC Parts</td><td>Intel Coffee Lake Core i9 Processor</td><td>227</td></tr>",
                            "<tr><td>PC Parts</td><td>Leadtek Quadro P1000 Full Performance Professional Graphics Card</td><td>248</td></tr>",
                            "<tr><td>PC Parts</td><td>Leadtek Quadro P400 Professional Workstation Graphics Card</td><td>57</td></tr>",
                            "<tr><td>PC Parts</td><td>Leadtek Quadro P620 Professional Workstation Graphics Card</td><td>292</td></tr>",
                            "<tr><td>PC Parts</td><td>Samsung 1TB Solid State Drive SSD</td><td>293</td></tr>",
                            "<tr><td>PC Parts</td><td>Ugreen CM129 Audio Sound Card Adapter</td><td>200</td></tr>",
                            "<tr><td>PC Peripherals</td><td>Adesso iMouse E1</td><td>54</td></tr>",
                            "<tr><td>PC Peripherals</td><td>Apple Magic Keyboard</td><td>186</td></tr>",
                            "<tr><td>PC Peripherals</td><td>ASUS PG279Q Monitor</td><td>104</td></tr>",
                            "<tr><td>PC Peripherals</td><td>ASUS VG279Q 27 inch Full HD IPS Gaming Monitor</td><td>190</td></tr>",
                            "<tr><td>PC Peripherals</td><td>Evoluent VM4R Wired Vertical Mouse 4 right-handed</td><td>249</td></tr>",
                            "<tr><td>PC Peripherals</td><td>LG UltraGear 24GL600F-B 24 inch Full HD Monitor</td><td>185</td></tr>",
                            "<tr><td>PC Peripherals</td><td>Logitech G Pro X Mechanical TKL RGB Gaming Keyboard</td><td>50</td></tr>",
                            "<tr><td>PC Peripherals</td><td>Logitech G213 Prodigy RGB Gaming Keyboard</td><td>94</td></tr>",
                            "<tr><td>PC Peripherals</td><td>Microsoft Sculpt Ergonomic Wireless Keyboard and Mouse Combo</td><td>101</td></tr>",
                            "<tr><td>PC Peripherals</td><td>Microsoft Surface Arc Mouse - Bluetooth - Ice Blue</td><td>320</td></tr>",
                            "<tr><td>PC Peripherals</td><td>PBX 21 inch Series 9 Monitor</td><td>0</td></tr>",
                            "<tr><td>PC Peripherals</td><td>Samsung C49HG90 49 inch QLED Monitor</td><td>137</td></tr>",
                            "<tr><td>PC Peripherals</td><td>Titan Army N34QW 34 inch Curved UltraWide Monitor</td><td>101</td></tr>",
                            "<tr><td>Phones and Accessories</td><td>Apple iPhone 11 128GB - White</td><td>312</td></tr>",
                            "<tr><td>Phones and Accessories</td><td>Apple iPhone 11 64GB - Black</td><td>252</td></tr>",
                            "<tr><td>Phones and Accessories</td><td>Apple iPhone 6S - Silver</td><td>420</td></tr>",
                            "<tr><td>Phones and Accessories</td><td>Apple iPhone SE 128GB - Black</td><td>139</td></tr>",
                            "<tr><td>Phones and Accessories</td><td>Apple Watch Series 3 - Grey</td><td>219</td></tr>",
                            "<tr><td>Phones and Accessories</td><td>Belkin 10W Wireless Charging Air Vent Car Mount </td><td>282</td></tr>",
                            "<tr><td>Phones and Accessories</td><td>PBX 2000mAh Power Bank 3 - Black</td><td>313</td></tr>",
                            "<tr><td>Phones and Accessories</td><td>PBX Smart Watch 4</td><td>267</td></tr>",
                            "<tr><td>Phones and Accessories</td><td>Roidmi S3 Bluetooth Music Car Charger</td><td>383</td></tr>",
                            "<tr><td>Phones and Accessories</td><td>Samsung Galaxy Note10 - Aura Black</td><td>136</td></tr>",
                            "<tr><td>Phones and Accessories</td><td>Samsung Galaxy S20 Smart Cover</td><td>244</td></tr>",
                            "<tr><td>Phones and Accessories</td><td>Spigen Galaxy Note 10 tough armor case</td><td>64</td></tr>",
                            "<tr><td>Phones and Accessories</td><td>Spigen iPhone 11 Clear Case</td><td>237</td></tr>",
                            "<tr><td>Printing and Office</td><td>Canon Black CLI-8 Ink Cartridge</td><td>287</td></tr>",
                            "<tr><td>Printing and Office</td><td>Canon Ink Cartridge PG645</td><td>116</td></tr>",
                            "<tr><td>Printing and Office</td><td>Canon PIXMA MG2460 Inkjet MFP printer</td><td>226</td></tr>",
                            "<tr><td>Printing and Office</td><td>HP Ink Cartridge 65XL Black</td><td>342</td></tr>",
                            "<tr><td>Printing and Office</td><td>HP LaserJet Pro M15W printer</td><td>147</td></tr>",
                            "<tr><td>TV and Audio</td><td>Apple AirPods Pro Noise Cancelling True Wireless Headphones</td><td>317</td></tr>",
                            "<tr><td>TV and Audio</td><td>Blue Yeti Microphone</td><td>113</td></tr>",
                            "<tr><td>TV and Audio</td><td>Edifier Multimedia 2.0 system PC Speaker</td><td>225</td></tr>",
                            "<tr><td>TV and Audio</td><td>Horion 55 inch 4K Ultra HD LED TV</td><td>292</td></tr>",
                            "<tr><td>TV and Audio</td><td>Konic 55 inch 4K Ultra HD LED TV</td><td>418</td></tr>",
                            "<tr><td>TV and Audio</td><td>Logitech Z333 2.1 Multimedia Speaker System</td><td>412</td></tr>",
                            "<tr><td>TV and Audio</td><td>PBX Noise Cancelling Headphones</td><td>0</td></tr>",
                            "<tr><td>TV and Audio</td><td>PowerBeats Pro True Wireless Sports Earphones</td><td>229</td></tr>",
                            "<tr><td>TV and Audio</td><td>Samsung 50TU8000 50 inch 4K Smart TV</td><td>448</td></tr>",
                            "<tr><td>TV and Audio</td><td>Sennheiser HD 4.30i Over-Ear Headphones</td><td>323</td></tr>",
                            "<tr><td>TV and Audio</td><td>Sony WH-1000XM3 Noise-Cancelling headphones - Black</td><td>103</td></tr>",
                            "</table>"
                        ]
                    }
                }
            ],
            "execution_count": 15
        }
    ]
}