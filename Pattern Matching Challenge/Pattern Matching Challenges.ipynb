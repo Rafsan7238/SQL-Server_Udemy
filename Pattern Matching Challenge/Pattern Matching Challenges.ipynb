{
    "metadata": {
        "kernelspec": {
            "name": "SQL",
            "display_name": "SQL",
            "language": "sql"
        },
        "language_info": {
            "name": "sql",
            "version": ""
        }
    },
    "nbformat_minor": 2,
    "nbformat": 4,
    "cells": [
        {
            "cell_type": "markdown",
            "source": [
                "# Pattern Matching Challenges"
            ],
            "metadata": {
                "azdata_cell_guid": "228e0059-e8ee-4c2b-89cc-37ed512bf3f4"
            },
            "attachments": {}
        },
        {
            "cell_type": "markdown",
            "source": [
                "\\*\\*Use SAMPLEDB Database\\*\\*"
            ],
            "metadata": {
                "azdata_cell_guid": "984935a8-2285-4d33-b416-ab441066f823"
            },
            "attachments": {}
        },
        {
            "cell_type": "code",
            "source": [
                "USE SAMPLEDB \n",
                "GO"
            ],
            "metadata": {
                "azdata_cell_guid": "a31c5db7-8c3e-4050-9c1e-22d21720aec8",
                "language": "sql"
            },
            "outputs": [
                {
                    "output_type": "display_data",
                    "data": {
                        "text/html": "Commands completed successfully."
                    },
                    "metadata": {}
                },
                {
                    "output_type": "display_data",
                    "data": {
                        "text/html": "Total execution time: 00:00:00.030"
                    },
                    "metadata": {}
                }
            ],
            "execution_count": 1
        },
        {
            "cell_type": "markdown",
            "source": [
                "### **First Challenge  \n",
                "**\n",
                "\n",
                "Challenge: Select countries from the hcm.countries table which start with the letter ‘N’."
            ],
            "metadata": {
                "language": "sql",
                "azdata_cell_guid": "a4968458-3dde-4117-b16f-fd1fac66b158"
            },
            "attachments": {}
        },
        {
            "cell_type": "code",
            "source": [
                "SELECT * FROM hcm.countries \n",
                "WHERE country_name LIKE 'N%';"
            ],
            "metadata": {
                "language": "sql",
                "azdata_cell_guid": "45bbfd0e-1221-469e-89d4-e33ef6a96e68"
            },
            "outputs": [
                {
                    "output_type": "display_data",
                    "data": {
                        "text/html": "(4 rows affected)"
                    },
                    "metadata": {}
                },
                {
                    "output_type": "display_data",
                    "data": {
                        "text/html": "Total execution time: 00:00:00.128"
                    },
                    "metadata": {}
                },
                {
                    "output_type": "execute_result",
                    "metadata": {},
                    "execution_count": 2,
                    "data": {
                        "application/vnd.dataresource+json": {
                            "schema": {
                                "fields": [
                                    {
                                        "name": "country_id"
                                    },
                                    {
                                        "name": "country_name"
                                    }
                                ]
                            },
                            "data": [
                                {
                                    "0": "19",
                                    "1": "Netherlands"
                                },
                                {
                                    "0": "20",
                                    "1": "New Zealand"
                                },
                                {
                                    "0": "21",
                                    "1": "Nigeria"
                                },
                                {
                                    "0": "22",
                                    "1": "Norway"
                                }
                            ]
                        },
                        "text/html": [
                            "<table>",
                            "<tr><th>country_id</th><th>country_name</th></tr>",
                            "<tr><td>19</td><td>Netherlands</td></tr>",
                            "<tr><td>20</td><td>New Zealand</td></tr>",
                            "<tr><td>21</td><td>Nigeria</td></tr>",
                            "<tr><td>22</td><td>Norway</td></tr>",
                            "</table>"
                        ]
                    }
                }
            ],
            "execution_count": 2
        },
        {
            "cell_type": "markdown",
            "source": [
                "### **Second Challenge** \n",
                "\n",
                "Challenge: Select customers from the oes.customers table who have a Gmail email address."
            ],
            "metadata": {
                "language": "sql",
                "azdata_cell_guid": "14e2eaab-bc5a-4b7e-8040-3428c6e4ab2f"
            },
            "attachments": {}
        },
        {
            "cell_type": "code",
            "source": [
                "SELECT * FROM oes.customers \n",
                "WHERE email LIKE '%gmail%';"
            ],
            "metadata": {
                "language": "sql",
                "azdata_cell_guid": "ed0e2660-a182-4b47-8887-dbf7ba8c3944"
            },
            "outputs": [
                {
                    "output_type": "display_data",
                    "data": {
                        "text/html": "(20 rows affected)"
                    },
                    "metadata": {}
                },
                {
                    "output_type": "display_data",
                    "data": {
                        "text/html": "Total execution time: 00:00:00.043"
                    },
                    "metadata": {}
                },
                {
                    "output_type": "execute_result",
                    "metadata": {},
                    "execution_count": 3,
                    "data": {
                        "application/vnd.dataresource+json": {
                            "schema": {
                                "fields": [
                                    {
                                        "name": "customer_id"
                                    },
                                    {
                                        "name": "first_name"
                                    },
                                    {
                                        "name": "last_name"
                                    },
                                    {
                                        "name": "email"
                                    },
                                    {
                                        "name": "phone"
                                    },
                                    {
                                        "name": "street_address"
                                    },
                                    {
                                        "name": "city"
                                    },
                                    {
                                        "name": "state_province"
                                    },
                                    {
                                        "name": "postal_code"
                                    },
                                    {
                                        "name": "loyalty_card_issued"
                                    },
                                    {
                                        "name": "country_id"
                                    }
                                ]
                            },
                            "data": [
                                {
                                    "0": "5",
                                    "1": "Emelda",
                                    "2": "Geffers",
                                    "3": "emelda.geffers@gmail.com",
                                    "4": "0454-643-433",
                                    "5": "95431 34th Ave #62",
                                    "6": "Nedlands",
                                    "7": "WA",
                                    "8": "6909",
                                    "9": "0",
                                    "10": "2"
                                },
                                {
                                    "0": "9",
                                    "1": "Catherin",
                                    "2": "Aguele",
                                    "3": "caguele@gmail.com",
                                    "4": "0444-150-950",
                                    "5": "75962 E Drinker St",
                                    "6": "Sunny Nook",
                                    "7": "QLD",
                                    "8": "4605",
                                    "9": "0",
                                    "10": "2"
                                },
                                {
                                    "0": "12",
                                    "1": "Suzan",
                                    "2": "Landa",
                                    "3": "suzan.landa@gmail.com",
                                    "4": "0471-251-939",
                                    "5": "15 Campville Rd #191",
                                    "6": "Clermont",
                                    "7": "QLD",
                                    "8": "4721",
                                    "9": "1",
                                    "10": "2"
                                },
                                {
                                    "0": "20",
                                    "1": "Alishia",
                                    "2": "Sergi",
                                    "3": "asergi@gmail.com",
                                    "4": "212-860-1579",
                                    "5": "2742 Distribution Way",
                                    "6": "New York",
                                    "7": "NY",
                                    "8": "10025",
                                    "9": "0",
                                    "10": "28"
                                },
                                {
                                    "0": "24",
                                    "1": "Valentine",
                                    "2": "Gillian",
                                    "3": "valentine_gillian@gmail.com",
                                    "4": "210-812-9597",
                                    "5": "775 W 17th St",
                                    "6": "San Antonio",
                                    "7": "TX",
                                    "8": "78204",
                                    "9": "0",
                                    "10": "28"
                                },
                                {
                                    "0": "29",
                                    "1": "Evan",
                                    "2": "Zigomalas",
                                    "3": "evan.zigomalas@gmail.com",
                                    "4": "01937-864715",
                                    "5": "5 Binney St",
                                    "6": "Abbey Ward",
                                    "7": "NULL",
                                    "8": "HP11 2AX",
                                    "9": "1",
                                    "10": "27"
                                },
                                {
                                    "0": "39",
                                    "1": "Charlotte",
                                    "2": "Erm",
                                    "3": "charlotte_erm@gmail.com",
                                    "4": "01276-816806",
                                    "5": "5 Hygeia St",
                                    "6": "Loundsley Green Ward",
                                    "7": "NULL",
                                    "8": "S40 4LY",
                                    "9": "0",
                                    "10": "27"
                                },
                                {
                                    "0": "40",
                                    "1": "Corrinne",
                                    "2": "Jaret",
                                    "3": "corrinne_jaret@gmail.com",
                                    "4": "01625-932209",
                                    "5": "2150 Morley St",
                                    "6": "Dee Ward",
                                    "7": "NULL",
                                    "8": "DG8 7DE",
                                    "9": "0",
                                    "10": "27"
                                },
                                {
                                    "0": "50",
                                    "1": "Kendra",
                                    "2": "Loud",
                                    "3": "kloud@gmail.com",
                                    "4": "506-363-1526",
                                    "5": "6 Arch St #9757",
                                    "6": "Alcida",
                                    "7": "NB",
                                    "8": "E8J 2C4",
                                    "9": "0",
                                    "10": "5"
                                },
                                {
                                    "0": "53",
                                    "1": "Tom",
                                    "2": "Fauci",
                                    "3": "tom.fauci@gmail.com",
                                    "4": "514-487-6096",
                                    "5": "447 Commercial St Se",
                                    "6": "LIle-Perrot",
                                    "7": "QC",
                                    "8": "J7V 4T4",
                                    "9": "0",
                                    "10": "5"
                                },
                                {
                                    "0": "54",
                                    "1": "Jackie",
                                    "2": "Jones",
                                    "3": "jackie.jones@gmail.com",
                                    "4": "306-421-5793",
                                    "5": "47 Garfield Ave",
                                    "6": "Swift Current",
                                    "7": "SK",
                                    "8": "S9H 4V2",
                                    "9": "0",
                                    "10": "5"
                                },
                                {
                                    "0": "62",
                                    "1": "Huey",
                                    "2": "Marcille",
                                    "3": "huey.marcille@gmail.com",
                                    "4": "780-639-3619",
                                    "5": "169 Journal Sq",
                                    "6": "Edmonton",
                                    "7": "AB",
                                    "8": "T5P 1G9",
                                    "9": "1",
                                    "10": "5"
                                },
                                {
                                    "0": "63",
                                    "1": "Apolonia",
                                    "2": "Warne",
                                    "3": "apolonia@gmail.com",
                                    "4": "506-978-1488",
                                    "5": "3 E 31st St #77",
                                    "6": "Fredericton",
                                    "7": "NB",
                                    "8": "E3G 0A3",
                                    "9": "0",
                                    "10": "5"
                                },
                                {
                                    "0": "72",
                                    "1": "Elaine",
                                    "2": "Adams",
                                    "3": "elise@gmail.com",
                                    "4": "905-652-4509",
                                    "5": "88 E Saint Elmo Rd",
                                    "6": "Hamilton",
                                    "7": "ON",
                                    "8": "L8R 3J3",
                                    "9": "1",
                                    "10": "5"
                                },
                                {
                                    "0": "79",
                                    "1": "Felton",
                                    "2": "Yafuso",
                                    "3": "felton.yafuso@gmail.com",
                                    "4": "613-749-1169",
                                    "5": "202 Madison Ave",
                                    "6": "Ottawa",
                                    "7": "ON",
                                    "8": "K1Y 1M2",
                                    "9": "1",
                                    "10": "5"
                                },
                                {
                                    "0": "83",
                                    "1": "Vicki",
                                    "2": "Jones",
                                    "3": "vicki@gmail.com",
                                    "4": "604-231-6180",
                                    "5": "7 Tomahawk Dr",
                                    "6": "Richmond",
                                    "7": "BC",
                                    "8": "V7A 3N1",
                                    "9": "0",
                                    "10": "5"
                                },
                                {
                                    "0": "87",
                                    "1": "Matthew",
                                    "2": "Armacost",
                                    "3": "matthew_armacost@gmail.com",
                                    "4": "705-417-7221",
                                    "5": "220 Old Us Highway 441",
                                    "6": "Peterborough",
                                    "7": "ON",
                                    "8": "K9H 6C3",
                                    "9": "0",
                                    "10": "5"
                                },
                                {
                                    "0": "88",
                                    "1": "Belen",
                                    "2": "Nelton",
                                    "3": "bnelton@gmail.com",
                                    "4": "250-768-5812",
                                    "5": "77 Central Pky N",
                                    "6": "Quesnel",
                                    "7": "BC",
                                    "8": "V2J 1N4",
                                    "9": "0",
                                    "10": "5"
                                },
                                {
                                    "0": "89",
                                    "1": "Iesha",
                                    "2": "Wardle",
                                    "3": "iesha@gmail.com",
                                    "4": "416-989-2001",
                                    "5": "781 Alabama Ave",
                                    "6": "Etobicoke",
                                    "7": "ON",
                                    "8": "M8Z 2C1",
                                    "9": "0",
                                    "10": "5"
                                },
                                {
                                    "0": "93",
                                    "1": "Andrew",
                                    "2": "Burns",
                                    "3": "burnzy@gmail.com",
                                    "4": "440-781-8981",
                                    "5": "2588  Vineyard Drive",
                                    "6": "Cleveland",
                                    "7": "OH",
                                    "8": "44115",
                                    "9": "1",
                                    "10": "28"
                                }
                            ]
                        },
                        "text/html": [
                            "<table>",
                            "<tr><th>customer_id</th><th>first_name</th><th>last_name</th><th>email</th><th>phone</th><th>street_address</th><th>city</th><th>state_province</th><th>postal_code</th><th>loyalty_card_issued</th><th>country_id</th></tr>",
                            "<tr><td>5</td><td>Emelda</td><td>Geffers</td><td>emelda.geffers@gmail.com</td><td>0454-643-433</td><td>95431 34th Ave #62</td><td>Nedlands</td><td>WA</td><td>6909</td><td>0</td><td>2</td></tr>",
                            "<tr><td>9</td><td>Catherin</td><td>Aguele</td><td>caguele@gmail.com</td><td>0444-150-950</td><td>75962 E Drinker St</td><td>Sunny Nook</td><td>QLD</td><td>4605</td><td>0</td><td>2</td></tr>",
                            "<tr><td>12</td><td>Suzan</td><td>Landa</td><td>suzan.landa@gmail.com</td><td>0471-251-939</td><td>15 Campville Rd #191</td><td>Clermont</td><td>QLD</td><td>4721</td><td>1</td><td>2</td></tr>",
                            "<tr><td>20</td><td>Alishia</td><td>Sergi</td><td>asergi@gmail.com</td><td>212-860-1579</td><td>2742 Distribution Way</td><td>New York</td><td>NY</td><td>10025</td><td>0</td><td>28</td></tr>",
                            "<tr><td>24</td><td>Valentine</td><td>Gillian</td><td>valentine_gillian@gmail.com</td><td>210-812-9597</td><td>775 W 17th St</td><td>San Antonio</td><td>TX</td><td>78204</td><td>0</td><td>28</td></tr>",
                            "<tr><td>29</td><td>Evan</td><td>Zigomalas</td><td>evan.zigomalas@gmail.com</td><td>01937-864715</td><td>5 Binney St</td><td>Abbey Ward</td><td>NULL</td><td>HP11 2AX</td><td>1</td><td>27</td></tr>",
                            "<tr><td>39</td><td>Charlotte</td><td>Erm</td><td>charlotte_erm@gmail.com</td><td>01276-816806</td><td>5 Hygeia St</td><td>Loundsley Green Ward</td><td>NULL</td><td>S40 4LY</td><td>0</td><td>27</td></tr>",
                            "<tr><td>40</td><td>Corrinne</td><td>Jaret</td><td>corrinne_jaret@gmail.com</td><td>01625-932209</td><td>2150 Morley St</td><td>Dee Ward</td><td>NULL</td><td>DG8 7DE</td><td>0</td><td>27</td></tr>",
                            "<tr><td>50</td><td>Kendra</td><td>Loud</td><td>kloud@gmail.com</td><td>506-363-1526</td><td>6 Arch St #9757</td><td>Alcida</td><td>NB</td><td>E8J 2C4</td><td>0</td><td>5</td></tr>",
                            "<tr><td>53</td><td>Tom</td><td>Fauci</td><td>tom.fauci@gmail.com</td><td>514-487-6096</td><td>447 Commercial St Se</td><td>LIle-Perrot</td><td>QC</td><td>J7V 4T4</td><td>0</td><td>5</td></tr>",
                            "<tr><td>54</td><td>Jackie</td><td>Jones</td><td>jackie.jones@gmail.com</td><td>306-421-5793</td><td>47 Garfield Ave</td><td>Swift Current</td><td>SK</td><td>S9H 4V2</td><td>0</td><td>5</td></tr>",
                            "<tr><td>62</td><td>Huey</td><td>Marcille</td><td>huey.marcille@gmail.com</td><td>780-639-3619</td><td>169 Journal Sq</td><td>Edmonton</td><td>AB</td><td>T5P 1G9</td><td>1</td><td>5</td></tr>",
                            "<tr><td>63</td><td>Apolonia</td><td>Warne</td><td>apolonia@gmail.com</td><td>506-978-1488</td><td>3 E 31st St #77</td><td>Fredericton</td><td>NB</td><td>E3G 0A3</td><td>0</td><td>5</td></tr>",
                            "<tr><td>72</td><td>Elaine</td><td>Adams</td><td>elise@gmail.com</td><td>905-652-4509</td><td>88 E Saint Elmo Rd</td><td>Hamilton</td><td>ON</td><td>L8R 3J3</td><td>1</td><td>5</td></tr>",
                            "<tr><td>79</td><td>Felton</td><td>Yafuso</td><td>felton.yafuso@gmail.com</td><td>613-749-1169</td><td>202 Madison Ave</td><td>Ottawa</td><td>ON</td><td>K1Y 1M2</td><td>1</td><td>5</td></tr>",
                            "<tr><td>83</td><td>Vicki</td><td>Jones</td><td>vicki@gmail.com</td><td>604-231-6180</td><td>7 Tomahawk Dr</td><td>Richmond</td><td>BC</td><td>V7A 3N1</td><td>0</td><td>5</td></tr>",
                            "<tr><td>87</td><td>Matthew</td><td>Armacost</td><td>matthew_armacost@gmail.com</td><td>705-417-7221</td><td>220 Old Us Highway 441</td><td>Peterborough</td><td>ON</td><td>K9H 6C3</td><td>0</td><td>5</td></tr>",
                            "<tr><td>88</td><td>Belen</td><td>Nelton</td><td>bnelton@gmail.com</td><td>250-768-5812</td><td>77 Central Pky N</td><td>Quesnel</td><td>BC</td><td>V2J 1N4</td><td>0</td><td>5</td></tr>",
                            "<tr><td>89</td><td>Iesha</td><td>Wardle</td><td>iesha@gmail.com</td><td>416-989-2001</td><td>781 Alabama Ave</td><td>Etobicoke</td><td>ON</td><td>M8Z 2C1</td><td>0</td><td>5</td></tr>",
                            "<tr><td>93</td><td>Andrew</td><td>Burns</td><td>burnzy@gmail.com</td><td>440-781-8981</td><td>2588  Vineyard Drive</td><td>Cleveland</td><td>OH</td><td>44115</td><td>1</td><td>28</td></tr>",
                            "</table>"
                        ]
                    }
                }
            ],
            "execution_count": 3
        },
        {
            "cell_type": "markdown",
            "source": [
                "### **Third Challenge** \n",
                "\n",
                "Challenge: Select product names from the oes.products table which contain the word ‘mouse’ anywhere within the product name."
            ],
            "metadata": {
                "language": "sql",
                "azdata_cell_guid": "b42a372c-b17e-40e0-8f79-aade62a5a235"
            },
            "attachments": {}
        },
        {
            "cell_type": "code",
            "source": [
                "SELECT product_name \n",
                "FROM oes.products \n",
                "WHERE product_name LIKE '%mouse%';"
            ],
            "metadata": {
                "language": "sql",
                "azdata_cell_guid": "3ebbd27c-d0f7-4e0e-bea2-09e2a7270b38"
            },
            "outputs": [
                {
                    "output_type": "display_data",
                    "data": {
                        "text/html": "(4 rows affected)"
                    },
                    "metadata": {}
                },
                {
                    "output_type": "display_data",
                    "data": {
                        "text/html": "Total execution time: 00:00:00.030"
                    },
                    "metadata": {}
                },
                {
                    "output_type": "execute_result",
                    "metadata": {},
                    "execution_count": 4,
                    "data": {
                        "application/vnd.dataresource+json": {
                            "schema": {
                                "fields": [
                                    {
                                        "name": "product_name"
                                    }
                                ]
                            },
                            "data": [
                                {
                                    "0": "Microsoft Sculpt Ergonomic Wireless Keyboard and Mouse Combo"
                                },
                                {
                                    "0": "Evoluent VM4R Wired Vertical Mouse 4 right-handed"
                                },
                                {
                                    "0": "Adesso iMouse E1"
                                },
                                {
                                    "0": "Microsoft Surface Arc Mouse - Bluetooth - Ice Blue"
                                }
                            ]
                        },
                        "text/html": [
                            "<table>",
                            "<tr><th>product_name</th></tr>",
                            "<tr><td>Microsoft Sculpt Ergonomic Wireless Keyboard and Mouse Combo</td></tr>",
                            "<tr><td>Evoluent VM4R Wired Vertical Mouse 4 right-handed</td></tr>",
                            "<tr><td>Adesso iMouse E1</td></tr>",
                            "<tr><td>Microsoft Surface Arc Mouse - Bluetooth - Ice Blue</td></tr>",
                            "</table>"
                        ]
                    }
                }
            ],
            "execution_count": 4
        },
        {
            "cell_type": "markdown",
            "source": [
                "### **Fourth Challenge** \n",
                "\n",
                "Challenge: Select all product names from the oes.products table which end in a number."
            ],
            "metadata": {
                "language": "sql",
                "azdata_cell_guid": "4cf37463-c85b-4787-aae8-0fa2f15c5301"
            },
            "attachments": {}
        },
        {
            "cell_type": "code",
            "source": [
                "SELECT product_name \n",
                "FROM oes.products \n",
                "WHERE product_name LIKE '%[0-9]';"
            ],
            "metadata": {
                "language": "sql",
                "azdata_cell_guid": "3a0d07b6-f36f-46e4-bea6-74d17472117d"
            },
            "outputs": [
                {
                    "output_type": "display_data",
                    "data": {
                        "text/html": "(8 rows affected)"
                    },
                    "metadata": {}
                },
                {
                    "output_type": "display_data",
                    "data": {
                        "text/html": "Total execution time: 00:00:00.016"
                    },
                    "metadata": {}
                },
                {
                    "output_type": "execute_result",
                    "metadata": {},
                    "execution_count": 5,
                    "data": {
                        "application/vnd.dataresource+json": {
                            "schema": {
                                "fields": [
                                    {
                                        "name": "product_name"
                                    }
                                ]
                            },
                            "data": [
                                {
                                    "0": "HPR Workstation Intel 7"
                                },
                                {
                                    "0": "PBX Smart Watch 4"
                                },
                                {
                                    "0": "PBX Everyday Home PC 43300"
                                },
                                {
                                    "0": "Cooler Master Hyper 212"
                                },
                                {
                                    "0": "RING Smart Video Wi-Fi Doorbell 3"
                                },
                                {
                                    "0": "Microsoft Surface Laptop 3"
                                },
                                {
                                    "0": "Adesso iMouse E1"
                                },
                                {
                                    "0": "Canon Ink Cartridge PG645"
                                }
                            ]
                        },
                        "text/html": [
                            "<table>",
                            "<tr><th>product_name</th></tr>",
                            "<tr><td>HPR Workstation Intel 7</td></tr>",
                            "<tr><td>PBX Smart Watch 4</td></tr>",
                            "<tr><td>PBX Everyday Home PC 43300</td></tr>",
                            "<tr><td>Cooler Master Hyper 212</td></tr>",
                            "<tr><td>RING Smart Video Wi-Fi Doorbell 3</td></tr>",
                            "<tr><td>Microsoft Surface Laptop 3</td></tr>",
                            "<tr><td>Adesso iMouse E1</td></tr>",
                            "<tr><td>Canon Ink Cartridge PG645</td></tr>",
                            "</table>"
                        ]
                    }
                }
            ],
            "execution_count": 5
        }
    ]
}